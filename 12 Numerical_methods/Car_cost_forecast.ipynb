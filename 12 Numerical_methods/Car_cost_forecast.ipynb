{
 "cells": [
  {
   "cell_type": "markdown",
   "metadata": {
    "toc": true
   },
   "source": [
    "<h1>Содержание<span class=\"tocSkip\"></span></h1>\n",
    "<div class=\"toc\"><ul class=\"toc-item\"><li><span><a href=\"#Загрузка-данных\" data-toc-modified-id=\"Загрузка-данных-1\"><span class=\"toc-item-num\">1&nbsp;&nbsp;</span>Загрузка данных</a></span></li><li><span><a href=\"#Предобработка-данных\" data-toc-modified-id=\"Предобработка-данных-2\"><span class=\"toc-item-num\">2&nbsp;&nbsp;</span>Предобработка данных</a></span></li><li><span><a href=\"#Исследовательский-анализ-данных\" data-toc-modified-id=\"Исследовательский-анализ-данных-3\"><span class=\"toc-item-num\">3&nbsp;&nbsp;</span>Исследовательский анализ данных</a></span></li><li><span><a href=\"#Корреляционный-анализ-признаков\" data-toc-modified-id=\"Корреляционный-анализ-признаков-4\"><span class=\"toc-item-num\">4&nbsp;&nbsp;</span>Корреляционный анализ признаков</a></span></li><li><span><a href=\"#Обучение-моделей\" data-toc-modified-id=\"Обучение-моделей-5\"><span class=\"toc-item-num\">5&nbsp;&nbsp;</span>Обучение моделей</a></span><ul class=\"toc-item\"><li><span><a href=\"#Модель-LinearRegression\" data-toc-modified-id=\"Модель-LinearRegression-5.1\"><span class=\"toc-item-num\">5.1&nbsp;&nbsp;</span>Модель LinearRegression</a></span></li><li><span><a href=\"#Модель-DecisionTree\" data-toc-modified-id=\"Модель-DecisionTree-5.2\"><span class=\"toc-item-num\">5.2&nbsp;&nbsp;</span>Модель DecisionTree</a></span></li><li><span><a href=\"#Модель-LightGBM\" data-toc-modified-id=\"Модель-LightGBM-5.3\"><span class=\"toc-item-num\">5.3&nbsp;&nbsp;</span>Модель LightGBM</a></span></li><li><span><a href=\"#Модель-CatBoost\" data-toc-modified-id=\"Модель-CatBoost-5.4\"><span class=\"toc-item-num\">5.4&nbsp;&nbsp;</span>Модель CatBoost</a></span></li></ul></li><li><span><a href=\"#Отчёт-по-исследованию\" data-toc-modified-id=\"Отчёт-по-исследованию-6\"><span class=\"toc-item-num\">6&nbsp;&nbsp;</span>Отчёт по исследованию</a></span></li></ul></div>"
   ]
  },
  {
   "cell_type": "markdown",
   "metadata": {
    "id": "e4eW0xnCh1dc"
   },
   "source": [
    "# Проект: разработка модели для предсказания рыночной стоимости автомобиля"
   ]
  },
  {
   "cell_type": "markdown",
   "metadata": {
    "id": "tcZlnXLniEgO"
   },
   "source": [
    "Описание проекта: сервис по продаже автомобилей с пробегом «Не бит, не крашен» разрабатывает приложение, чтобы привлечь новых клиентов. В нём можно будет узнать рыночную стоимость своего автомобиля.\n",
    "\n",
    "Задача - построить модель, которая умеет её определять. Для этого у нас есть данные о технических характеристиках, комплектации и ценах других автомобилей.\n",
    "Критерии, которые важны заказчику:\n",
    "- качество предсказания;\n",
    "- время обучения модели;\n",
    "- время предсказания модели.\n",
    "\n",
    "Примечание: для оценки качества моделей применим метрику RMSE, её значение должно быть меньше 2500."
   ]
  },
  {
   "cell_type": "markdown",
   "metadata": {
    "id": "VqxJM9N79DWv"
   },
   "source": [
    "## Загрузка данных"
   ]
  },
  {
   "cell_type": "markdown",
   "metadata": {
    "id": "zhqH9Ruc9KuL"
   },
   "source": [
    "Загрузим необходимые библиотеки:"
   ]
  },
  {
   "cell_type": "code",
   "execution_count": null,
   "metadata": {},
   "outputs": [],
   "source": [
    "! pip install matplotlib==3.7.1 -q\n",
    "! pip install -U scikit-learn -q"
   ]
  },
  {
   "cell_type": "code",
   "execution_count": null,
   "metadata": {
    "colab": {
     "base_uri": "https://localhost:8080/"
    },
    "id": "QYkpfGB_g9EU",
    "outputId": "6931612d-3c04-454b-c439-e0ad7f80c948"
   },
   "outputs": [],
   "source": [
    "pip install catboost"
   ]
  },
  {
   "cell_type": "code",
   "execution_count": null,
   "metadata": {
    "colab": {
     "base_uri": "https://localhost:8080/"
    },
    "id": "JS2pkYpQ99Jd",
    "outputId": "28ce8fa1-1332-4e4a-fb55-f3484b53a4d0"
   },
   "outputs": [],
   "source": [
    "pip install lightgbm"
   ]
  },
  {
   "cell_type": "code",
   "execution_count": null,
   "metadata": {
    "colab": {
     "base_uri": "https://localhost:8080/"
    },
    "id": "L0YuMlOC-IeY",
    "outputId": "e4b2706d-11b6-41e2-b271-7ac8dd31e9e7"
   },
   "outputs": [],
   "source": [
    "pip install phik"
   ]
  },
  {
   "cell_type": "code",
   "execution_count": null,
   "metadata": {
    "id": "TPrZVQmE-Lut"
   },
   "outputs": [],
   "source": [
    "import pandas as pd\n",
    "import numpy as np\n",
    "import matplotlib.pyplot as plt\n",
    "import seaborn as sns\n",
    "import time\n",
    "import os\n",
    "import datetime\n",
    "import warnings\n",
    "warnings.filterwarnings(\"ignore\")\n",
    "\n",
    "import phik\n",
    "from phik import phik_matrix\n",
    "from phik.report import plot_correlation_matrix\n",
    "\n",
    "from catboost import CatBoostClassifier, CatBoostRegressor\n",
    "from lightgbm import LGBMClassifier, LGBMRegressor\n",
    "\n",
    "import sklearn\n",
    "from sklearn.model_selection import(\n",
    "    KFold,\n",
    "    cross_val_score,\n",
    "    train_test_split,\n",
    "    RandomizedSearchCV,\n",
    "    GridSearchCV\n",
    ")\n",
    "from sklearn.preprocessing import(\n",
    "    OneHotEncoder,\n",
    "    OrdinalEncoder,\n",
    "    StandardScaler\n",
    ")\n",
    "from sklearn.impute import SimpleImputer\n",
    "from sklearn.metrics import mean_squared_error\n",
    "from sklearn.compose import ColumnTransformer, make_column_transformer\n",
    "from sklearn.linear_model import LinearRegression\n",
    "from sklearn.tree import DecisionTreeClassifier, plot_tree, \\\n",
    "    DecisionTreeRegressor"
   ]
  },
  {
   "cell_type": "code",
   "execution_count": null,
   "metadata": {
    "id": "Fm4qdMwnF9iI"
   },
   "outputs": [],
   "source": [
    "RANDOM_STATE = 1897\n",
    "TEST_SIZE = 0.25"
   ]
  },
  {
   "cell_type": "code",
   "execution_count": null,
   "metadata": {},
   "outputs": [],
   "source": [
    "path_1 = 'autos.csv'\n",
    "path_2 = '/datasets/autos.csv'\n",
    "\n",
    "if os.path.exists(path_1):\n",
    "    df = pd.read_csv(path_1)\n",
    "elif os.path.exists(path_2):\n",
    "    df = pd.read_csv(path_2)\n",
    "else:\n",
    "    print('Something is wrong!')"
   ]
  },
  {
   "cell_type": "markdown",
   "metadata": {
    "id": "OsUZRRikK9zC"
   },
   "source": [
    "Проверим, что данные загрузились корректно:"
   ]
  },
  {
   "cell_type": "code",
   "execution_count": null,
   "metadata": {
    "id": "XljIDyVsK8Gk"
   },
   "outputs": [],
   "source": [
    "# настройка для вывода всех столбцов в датасете:\n",
    "pd.set_option('display.max_columns', None)"
   ]
  },
  {
   "cell_type": "code",
   "execution_count": null,
   "metadata": {
    "id": "Y1HHrO5FLD2m"
   },
   "outputs": [],
   "source": [
    "# функция для получения информации о датасете\n",
    "def get_info(dataset):\n",
    "    print('Первые пять строк датасета:')\n",
    "    display(dataset.head())\n",
    "    print('Общая информация:')\n",
    "    dataset.info()"
   ]
  },
  {
   "cell_type": "code",
   "execution_count": null,
   "metadata": {
    "colab": {
     "base_uri": "https://localhost:8080/",
     "height": 0
    },
    "id": "38Y60dgCLNW3",
    "outputId": "2f14b9df-41a3-4f3f-ec26-b7bc5adc11d6"
   },
   "outputs": [],
   "source": [
    "get_info(df)"
   ]
  },
  {
   "cell_type": "markdown",
   "metadata": {
    "id": "wfYcjW6QSRPb"
   },
   "source": [
    "Столбцы, содержащие даты, нуждаются в корректировке типов данных:"
   ]
  },
  {
   "cell_type": "code",
   "execution_count": null,
   "metadata": {
    "id": "h_EkfmObLTd_"
   },
   "outputs": [],
   "source": [
    "df['DateCrawled'] = pd.to_datetime(df['DateCrawled'])\n",
    "df['DateCreated'] = pd.to_datetime(df['DateCreated'])\n",
    "df['LastSeen'] = pd.to_datetime(df['LastSeen'])"
   ]
  },
  {
   "cell_type": "markdown",
   "metadata": {
    "id": "Jst2CmOcTb_T"
   },
   "source": [
    "Приведём к единому виду названия столбцов (snake_case, строчные буквы). Заодно переименуем столбец `Kilometer` в более подходящее по смыслу название `car_mileage`:"
   ]
  },
  {
   "cell_type": "code",
   "execution_count": null,
   "metadata": {
    "id": "enPgC4XbSZPd"
   },
   "outputs": [],
   "source": [
    "df = df.rename(columns={'DateCrawled': 'date_crawled', 'Price': 'price', \\\n",
    "      'VehicleType': 'vehicle_type', 'RegistrationYear': 'registration_year', \\\n",
    "      'Gearbox': 'gearbox', 'Power': 'power', 'Model': 'model', \\\n",
    "      'Kilometer': 'car_mileage', 'RegistrationMonth': 'registration_month', \\\n",
    "      'FuelType': 'fuel_type', 'Brand': 'brand', 'Repaired': 'repaired', \\\n",
    "      'DateCreated': 'date_created', 'NumberOfPictures': 'number_of_pictures', \\\n",
    "      'PostalCode': 'postal_code', 'LastSeen': 'last_seen'})"
   ]
  },
  {
   "cell_type": "code",
   "execution_count": null,
   "metadata": {
    "colab": {
     "base_uri": "https://localhost:8080/",
     "height": 0
    },
    "id": "Ys6ebdyWVSPZ",
    "outputId": "606b1e0d-21a5-4863-fee0-47471d893c3b"
   },
   "outputs": [],
   "source": [
    "get_info(df)"
   ]
  },
  {
   "cell_type": "markdown",
   "metadata": {
    "id": "zDDJU7y_XDxe"
   },
   "source": [
    "Описание полей данных:\n",
    "\n",
    "- `date_crawled` — дата скачивания анкеты из базы\n",
    "- `price` - стоимость автомобиля в евро, <b>целевой признак</b>\n",
    "- `vehicle_type` — тип автомобильного кузова\n",
    "- `registration_year` — год регистрации автомобиля\n",
    "- `gearbox` — тип коробки передач\n",
    "- `power` — мощность автомобиля в л.с.\n",
    "- `model` — модель автомобиля\n",
    "- `car_mileage` — пробег автомобиля в км\n",
    "- `registration_month` — месяц регистрации автомобиля\n",
    "- `fuel_type` — тип топлива\n",
    "- `brand` — марка автомобиля\n",
    "- `repaired` — был автомобиль в ремонте или нет\n",
    "- `date_created` — дата создания анкеты\n",
    "- `number_of_pictures` — количество фотографий автомобиля\n",
    "- `postal_code` — почтовый индекс владельца анкеты (пользователя)\n",
    "- `last_seen` — дата последней активности пользователя"
   ]
  },
  {
   "cell_type": "markdown",
   "metadata": {
    "id": "PHtCdbvtyVz8"
   },
   "source": [
    "Выводы по разделу:\n",
    "\n",
    "- изучили данные из предоставленного датасета, привели названия столбцов к единому виду (snake_case, строчные буквы). Переименовали название столбца `Kilometer` в более подходящее по смыслу `car_mileage`;\n",
    "- у столбцов `date_crawled`, `date_created` и `last_seen` поменяли тип данных на `datetime`, соответственно их значениям.\n",
    "\n",
    "Переходим к этапу предобработки данных."
   ]
  },
  {
   "cell_type": "markdown",
   "metadata": {
    "id": "WGdGQQy6EmMe"
   },
   "source": [
    "## Предобработка данных"
   ]
  },
  {
   "cell_type": "markdown",
   "metadata": {
    "id": "Vhr8BfMzErrr"
   },
   "source": [
    "Проверим датасет на наличие пропусков и явных дубликатов, воспользовавшись созданной функцией:"
   ]
  },
  {
   "cell_type": "code",
   "execution_count": null,
   "metadata": {
    "id": "McKm2NyvWvXl"
   },
   "outputs": [],
   "source": [
    "def data_check(dataset):\n",
    "    print(\"\\nПроверка на наличие пропусков в датасете\\n\")\n",
    "    null = dataset.isnull().sum()\n",
    "    if null.sum() > 0:\n",
    "            print(\"Пропущенные значения в датасете:\\n\")\n",
    "            print(null)\n",
    "    else:\n",
    "        print(\"Отсутствуют пропущенные значения в датасете\\n\")\n",
    "\n",
    "    print(\"\\nПроверка на наличие явных дубликатов в датасете\\n\")\n",
    "    duplicates = dataset.duplicated().sum()\n",
    "    if duplicates > 0:\n",
    "        print(f\"Количество явных дубликатов в датасете: {duplicates}\")\n",
    "    else:\n",
    "        print(\"Отсутствуют явные дубликаты в датасете\")"
   ]
  },
  {
   "cell_type": "code",
   "execution_count": null,
   "metadata": {
    "colab": {
     "base_uri": "https://localhost:8080/"
    },
    "id": "y_lSaTb7E9cY",
    "outputId": "cec48308-d13d-4ed1-e09c-0192b071c11a"
   },
   "outputs": [],
   "source": [
    "data_check(df)"
   ]
  },
  {
   "cell_type": "markdown",
   "metadata": {
    "id": "dPUfO-AcROtK"
   },
   "source": [
    "Выведем строки с явными дубликатами:"
   ]
  },
  {
   "cell_type": "code",
   "execution_count": null,
   "metadata": {
    "colab": {
     "base_uri": "https://localhost:8080/"
    },
    "id": "4n_kbeyCPv3T",
    "outputId": "fcd032ae-104e-4887-eaa1-472e3777fd35"
   },
   "outputs": [],
   "source": [
    "duplicates = df[df.duplicated(keep=False)]\n",
    "print(duplicates)"
   ]
  },
  {
   "cell_type": "markdown",
   "metadata": {
    "id": "qA2DV-JtSIaC"
   },
   "source": [
    "Как видим, это одинаковые автомобили (4 шт.), встречающиеся дважды. Вероятно, дублирование произошло случайно, поэтому удалим лишние строки:"
   ]
  },
  {
   "cell_type": "code",
   "execution_count": null,
   "metadata": {
    "colab": {
     "base_uri": "https://localhost:8080/"
    },
    "id": "m63ZEhmKTitl",
    "outputId": "be5df4c8-d591-4756-c437-65694da56d65"
   },
   "outputs": [],
   "source": [
    "df.drop_duplicates(inplace=True)\n",
    "# Проверим, что явные дубликаты удалены:\n",
    "data_check(df)"
   ]
  },
  {
   "cell_type": "markdown",
   "metadata": {
    "id": "SYfylngdF7wW"
   },
   "source": [
    "Всего в датасете 354 369 записей, решение о заполнении пропусков примем позже, когда детальнее изучим данные, а сначала посмотрим на уникальные значения в категориальных столбцах:"
   ]
  },
  {
   "cell_type": "code",
   "execution_count": null,
   "metadata": {
    "colab": {
     "base_uri": "https://localhost:8080/"
    },
    "id": "tTXHGEGOFAkR",
    "outputId": "8fdca038-1d0f-433a-be95-cc073bb7599b"
   },
   "outputs": [],
   "source": [
    "df['vehicle_type'].unique()"
   ]
  },
  {
   "cell_type": "code",
   "execution_count": null,
   "metadata": {
    "colab": {
     "base_uri": "https://localhost:8080/"
    },
    "id": "nMmFsrfmGwBf",
    "outputId": "9eadcce1-873a-4998-d562-c46c617a4ee7"
   },
   "outputs": [],
   "source": [
    "df['gearbox'].unique()"
   ]
  },
  {
   "cell_type": "code",
   "execution_count": null,
   "metadata": {
    "colab": {
     "base_uri": "https://localhost:8080/"
    },
    "id": "bX5C89-vOH7G",
    "outputId": "f0166077-bdb5-46e9-a695-1e9139897995"
   },
   "outputs": [],
   "source": [
    "unique_models = df['model'].unique()\n",
    "unique_models_sorted = pd.Series(unique_models).sort_values().tolist()\n",
    "unique_models_sorted"
   ]
  },
  {
   "cell_type": "markdown",
   "metadata": {},
   "source": [
    "Список содержит одинаковые модели, записанные по-разному: `range_rover` и `rangerover`. Приведём к единому виду:"
   ]
  },
  {
   "cell_type": "code",
   "execution_count": null,
   "metadata": {},
   "outputs": [],
   "source": [
    "df['model'] = df['model'].replace('rangerover', 'range_rover')"
   ]
  },
  {
   "cell_type": "code",
   "execution_count": null,
   "metadata": {
    "colab": {
     "base_uri": "https://localhost:8080/"
    },
    "id": "gJK0_FKeUN7h",
    "outputId": "be3759a6-f05c-4d21-de4e-1547f5d78d61"
   },
   "outputs": [],
   "source": [
    "df['fuel_type'].unique()"
   ]
  },
  {
   "cell_type": "markdown",
   "metadata": {
    "id": "FWFRknkrU63R"
   },
   "source": [
    "`petrol` и `gasoline` - слова, означающие одно и то же - \"бензин\". Разница лишь в том, что термин \"petrol\" используют в Великобритании, Индии и ещё ряде стран, в то время как \"gasoline\" - в США. Для упрощения оставим лишь один термин в датасете, пусть им будет \"petrol\":"
   ]
  },
  {
   "cell_type": "code",
   "execution_count": null,
   "metadata": {
    "id": "lga0l7bLUScG"
   },
   "outputs": [],
   "source": [
    "df['fuel_type'] = df['fuel_type'].replace({'gasoline': 'petrol'})"
   ]
  },
  {
   "cell_type": "code",
   "execution_count": null,
   "metadata": {
    "colab": {
     "base_uri": "https://localhost:8080/"
    },
    "id": "k3tSOisjWaPl",
    "outputId": "4e773bcb-0cea-40b3-e77f-b6968f871c98"
   },
   "outputs": [],
   "source": [
    "df['fuel_type'].unique()"
   ]
  },
  {
   "cell_type": "code",
   "execution_count": null,
   "metadata": {
    "colab": {
     "base_uri": "https://localhost:8080/"
    },
    "id": "ACyRjXx0WeNj",
    "outputId": "c4f6a6af-303b-4a18-c57c-8c1c7e890e0b"
   },
   "outputs": [],
   "source": [
    "df['brand'].unique()"
   ]
  },
  {
   "cell_type": "code",
   "execution_count": null,
   "metadata": {
    "colab": {
     "base_uri": "https://localhost:8080/"
    },
    "id": "D2A-VOoHXN7b",
    "outputId": "4d84f01b-dcf5-4a00-d047-c0e58f97cfc8"
   },
   "outputs": [],
   "source": [
    "df['repaired'].unique()"
   ]
  },
  {
   "cell_type": "code",
   "execution_count": null,
   "metadata": {
    "colab": {
     "base_uri": "https://localhost:8080/"
    },
    "id": "5S8i4m7eXc5G",
    "outputId": "f2013252-7bf6-40a4-8f64-fec40335e31c"
   },
   "outputs": [],
   "source": [
    "df['number_of_pictures'].unique()"
   ]
  },
  {
   "cell_type": "markdown",
   "metadata": {
    "id": "XpUzFcXjXz1W"
   },
   "source": [
    "Любопытно, что датасет не содержит фотографий автомобилей, все строки - с нулевым их количеством"
   ]
  },
  {
   "cell_type": "markdown",
   "metadata": {
    "id": "HhStI3PiazRn"
   },
   "source": [
    "Выводы по разделу:\n",
    "\n",
    "- проверили датасет на наличие пропущенных значений, заполним их позже;\n",
    "- обнаружили 4 явных дубликата, удалили их;\n",
    "- обнаружили одинаковые модели, записанные по-разному: `range_rover` и `rangerover`. Привели к единому виду:\n",
    "- переименовали значение `gasoline` в `petrol` в столбце `fuel_type`, так как по сути это одно и то же. Разница - в стране употребления того или иного термина;\n",
    "- неявные дубликаты обнаружены не были."
   ]
  },
  {
   "cell_type": "markdown",
   "metadata": {
    "id": "2xboak2DcOpv"
   },
   "source": [
    "## Исследовательский анализ данных"
   ]
  },
  {
   "cell_type": "markdown",
   "metadata": {
    "id": "q6fMPVBXca0H"
   },
   "source": [
    "Посмотрим на статистические данные количественных признаков датасета:"
   ]
  },
  {
   "cell_type": "code",
   "execution_count": null,
   "metadata": {
    "colab": {
     "base_uri": "https://localhost:8080/",
     "height": 0
    },
    "id": "sABNNDrEYLDu",
    "outputId": "5da46ed0-7a14-49b9-a1ae-71e2995e1adb"
   },
   "outputs": [],
   "source": [
    "df.describe().round(2)"
   ]
  },
  {
   "cell_type": "markdown",
   "metadata": {
    "id": "EzAdh87RctlR"
   },
   "source": [
    "Бросаются в глаза следующие аномальные значения:\n",
    "\n",
    "- \"нулевая\" стоимость автомобиля в столбце `price`;\n",
    "- 1000-й и 9999-й годы регистрации автомобиля в столбце `registration_year`;\n",
    "- \"нулевая\" мощность автомобиля в столбце `power`. Согласно книге рекордов, максимальная мощность автомобиля 2300 л.с. (суперкар Koenigsegg Gemera), так что 20000 л.с. в датасете считаем аномалией;\n",
    "- \"нулевой\" месяц регистрации автомобиля в столбце `registration_month`;\n",
    "- \"нулевое\" количество фотографий, что уже подметили ранее."
   ]
  },
  {
   "cell_type": "markdown",
   "metadata": {
    "id": "V_xQ4biggEqu"
   },
   "source": [
    "Посмотрим на доли выбросов в интересующих нас количественных столбцах:"
   ]
  },
  {
   "cell_type": "code",
   "execution_count": null,
   "metadata": {
    "id": "-T4t2sDVchrY"
   },
   "outputs": [],
   "source": [
    "def outliers(dataset, column):\n",
    "    q1 = dataset[column].quantile(0.25) # первый квартиль\n",
    "    q3 = dataset[column].quantile(0.75)  # третий квартиль\n",
    "    iqr = q3 - q1  # межквартильный размах\n",
    "    quant1 = q1 - 1.5*iqr  # нижняя граница выбросов\n",
    "    quant3 = q3 + 1.5*iqr  # верхняя граница выбросов\n",
    "    total = dataset.shape[0]  # общее количество строк в датафрейме\n",
    "    emission = dataset[(dataset[column] < quant1) | \\\n",
    "     (dataset[column] > quant3)].shape[0]\n",
    "    # количество выбросов\n",
    "    emission_quant = (emission / total) * 100  # доля выбросов в столбце\n",
    "    return np.round((emission_quant), decimals=2)\n",
    "    # возвращаем долю выбросов в столбце"
   ]
  },
  {
   "cell_type": "code",
   "execution_count": null,
   "metadata": {
    "colab": {
     "base_uri": "https://localhost:8080/"
    },
    "id": "hu24uCq75rgQ",
    "outputId": "2f3a0a83-af80-43a0-afa1-fb10566ba15f"
   },
   "outputs": [],
   "source": [
    "dataset = df\n",
    "column_list = ['price', 'registration_year', 'power', 'car_mileage',\n",
    "        'registration_month']\n",
    "for value in column_list:\n",
    "    print(f'Доля выбросов в {value}, в процентах: {outliers(dataset, value)}')"
   ]
  },
  {
   "cell_type": "markdown",
   "metadata": {
    "id": "ptoYXG6O6la_"
   },
   "source": [
    "Доли выбросов незначительные везде, кроме столбца `car_mileage`. Отобразим данные на гистограммах и диаграммах:"
   ]
  },
  {
   "cell_type": "code",
   "execution_count": null,
   "metadata": {
    "id": "NszoV4vH6N60"
   },
   "outputs": [],
   "source": [
    "# Гистограмма распределения количественных признаков\n",
    "def histogram(dataset, column):\n",
    "    dataset[column].plot(kind='hist', bins=20, grid=True, \\\n",
    "                figsize=(5, 5), title=(f'Распределение признака \"{column}\"'))\n",
    "    plt.xlabel(column)\n",
    "    plt.ylabel('Количество')\n",
    "    plt.show()\n",
    "    return None\n",
    "\n",
    "# Диаграмма размаха\n",
    "def whiskers(dataset, column):\n",
    "    dataset.boxplot(column, figsize=(5, 5))\n",
    "    plt.title(f'Диаграмма размаха признака \"{column}\"')\n",
    "    plt.ylabel('Количество')\n",
    "    plt.show()\n",
    "    print(dataset[column].describe().round(2))\n",
    "    return None\n",
    "\n",
    "# Диаграмма распределения категориальных признаков\n",
    "def categorial(dataset, column):\n",
    "    dataset[column].value_counts().plot(\n",
    "    kind = 'pie',\n",
    "    ylabel = '',\n",
    "    autopct = '%1.1f%%',\n",
    "    figsize = (5,5),\n",
    "    title = f'Процентное распределение признака \"{column}\"')\n",
    "    plt.show()\n",
    "    return None"
   ]
  },
  {
   "cell_type": "code",
   "execution_count": null,
   "metadata": {
    "colab": {
     "base_uri": "https://localhost:8080/",
     "height": 0
    },
    "id": "3sp_JH2m7o4M",
    "outputId": "3ec8acb9-03ec-4e6b-b10a-96e930a713b2"
   },
   "outputs": [],
   "source": [
    "histogram(df, 'price')\n",
    "whiskers(df, 'price')"
   ]
  },
  {
   "cell_type": "markdown",
   "metadata": {
    "id": "6qxc2cMGCVft"
   },
   "source": [
    "Маловероятно, что автомобиль может стоить дешевле даже 1000 евро (25% выборки), тем не менее, посмотрим, какую долю занимают автомобили за такую стоимость:"
   ]
  },
  {
   "cell_type": "code",
   "execution_count": null,
   "metadata": {
    "colab": {
     "base_uri": "https://localhost:8080/"
    },
    "id": "-B_fdTPNOLXW",
    "outputId": "62525079-1e12-43d1-e562-71b4fe66abf1"
   },
   "outputs": [],
   "source": [
    "print(round(df[df.price < 1000].shape[0] / df.shape[0] * 100, 2))"
   ]
  },
  {
   "cell_type": "markdown",
   "metadata": {
    "id": "yMUIXsFQO-TR"
   },
   "source": [
    "Большой процент, но будем считать данные по такой стоимости ошибочными, удалим их:"
   ]
  },
  {
   "cell_type": "code",
   "execution_count": null,
   "metadata": {
    "id": "Ti28CUrYO8uS"
   },
   "outputs": [],
   "source": [
    "df = df[(df.price >= 1000)]"
   ]
  },
  {
   "cell_type": "code",
   "execution_count": null,
   "metadata": {
    "colab": {
     "base_uri": "https://localhost:8080/",
     "height": 0
    },
    "id": "k5A_29rQ76Jk",
    "outputId": "2a77af5d-70f3-4f9a-df6e-bd7d1a8426e4"
   },
   "outputs": [],
   "source": [
    "histogram(df, 'registration_year')\n",
    "whiskers(df, 'registration_year')"
   ]
  },
  {
   "cell_type": "markdown",
   "metadata": {
    "id": "XVlsoqv0QHUw"
   },
   "source": [
    "Вряд ли мы найдём автомобили, выпущенные в 1000-м году, как и выпущенные позже даты скачивания анкеты из базы (4 июля 2016 г.). Удалим данные, не лежащие в интервале 1900 - 2017 гг.:"
   ]
  },
  {
   "cell_type": "code",
   "execution_count": null,
   "metadata": {
    "id": "O8fZt92lQ7i6"
   },
   "outputs": [],
   "source": [
    "df = df[(df.registration_year >= 1900) & (df.registration_year <= 2017)]"
   ]
  },
  {
   "cell_type": "code",
   "execution_count": null,
   "metadata": {
    "colab": {
     "base_uri": "https://localhost:8080/",
     "height": 0
    },
    "id": "DJ_u-WsA-AA2",
    "outputId": "4c7f6fa2-a1e8-40b5-b682-855009677b94"
   },
   "outputs": [],
   "source": [
    "histogram(df, 'power')\n",
    "whiskers(df, 'power')"
   ]
  },
  {
   "cell_type": "code",
   "execution_count": null,
   "metadata": {
    "colab": {
     "base_uri": "https://localhost:8080/"
    },
    "id": "eQ6JA3afTUiR",
    "outputId": "df377a87-25ee-4bb1-b13f-63df8acf8eaf"
   },
   "outputs": [],
   "source": [
    "print(round(df[df.power < 50].shape[0] / df.shape[0] * 100, 2))"
   ]
  },
  {
   "cell_type": "code",
   "execution_count": null,
   "metadata": {
    "colab": {
     "base_uri": "https://localhost:8080/"
    },
    "id": "qxgr-iTiTHe5",
    "outputId": "ada18e7b-ea4d-42df-93d7-149e178edc76"
   },
   "outputs": [],
   "source": [
    "print(round(df[df.power > 2300].shape[0] / df.shape[0] * 100, 2))"
   ]
  },
  {
   "cell_type": "markdown",
   "metadata": {
    "id": "BHWs8vPbSHoI"
   },
   "source": [
    "В списке автомобилей из датасета отсутствуют даже 10 самых маломощных автомобилей (16 л.с. и менее), 25% выборки лежит в пределах 75 л.с. Самого мощного автомобиля в мире (2300 л.с.) здесь также нет. Ограничим датасет пределами 50 - 2300 л.с., чтобы не пропустить масл-кары:"
   ]
  },
  {
   "cell_type": "code",
   "execution_count": null,
   "metadata": {
    "id": "KswQTJ_yTlVA"
   },
   "outputs": [],
   "source": [
    "df = df[(df.power >= 50) & (df.power <= 2300)]"
   ]
  },
  {
   "cell_type": "code",
   "execution_count": null,
   "metadata": {
    "colab": {
     "base_uri": "https://localhost:8080/",
     "height": 0
    },
    "id": "XqSJgiwN-I-B",
    "outputId": "5628793c-7f51-48b6-edfa-b8d91de3f9c9"
   },
   "outputs": [],
   "source": [
    "histogram(df, 'car_mileage')\n",
    "whiskers(df, 'car_mileage')"
   ]
  },
  {
   "cell_type": "markdown",
   "metadata": {
    "id": "x3GWEQM9T_uF"
   },
   "source": [
    "В этих данных все значения могут иметь место, ограничивать данные не будем"
   ]
  },
  {
   "cell_type": "code",
   "execution_count": null,
   "metadata": {
    "colab": {
     "base_uri": "https://localhost:8080/",
     "height": 0
    },
    "id": "VtkOQ96O-PD7",
    "outputId": "4bb0f8ca-fdeb-479f-d461-e2461d71166f"
   },
   "outputs": [],
   "source": [
    "histogram(df, 'registration_month')\n",
    "whiskers(df, 'registration_month')"
   ]
  },
  {
   "cell_type": "markdown",
   "metadata": {
    "id": "qvJA8CfQUVYO"
   },
   "source": [
    "В году 12 месяцев, максимальное значение соответствует этой цифре. А вот \"нулевого\" месяца не бывает, исключим его из выборки:"
   ]
  },
  {
   "cell_type": "code",
   "execution_count": null,
   "metadata": {
    "id": "9dgxkB8cUgwF"
   },
   "outputs": [],
   "source": [
    "df = df[(df.registration_month >= 1)]"
   ]
  },
  {
   "cell_type": "markdown",
   "metadata": {
    "id": "tsErlSezCEvi"
   },
   "source": [
    "Снова выведем информацию о количественных признаках датасета:"
   ]
  },
  {
   "cell_type": "code",
   "execution_count": null,
   "metadata": {
    "colab": {
     "base_uri": "https://localhost:8080/",
     "height": 0
    },
    "id": "6rlnzbTh-Zik",
    "outputId": "6d5b30fe-b767-49e8-a3c2-dd4a5b7e21e8"
   },
   "outputs": [],
   "source": [
    "df.describe().round(2)"
   ]
  },
  {
   "cell_type": "markdown",
   "metadata": {
    "id": "3-ieoJCIVhgn"
   },
   "source": [
    "Изучим распределение ряда категориальных признаков:"
   ]
  },
  {
   "cell_type": "code",
   "execution_count": null,
   "metadata": {
    "colab": {
     "base_uri": "https://localhost:8080/",
     "height": 0
    },
    "id": "V07MBN_jU_GM",
    "outputId": "35078adc-28a2-4c07-c8fa-98e07d6fd4a6"
   },
   "outputs": [],
   "source": [
    "categorial(df, 'vehicle_type')"
   ]
  },
  {
   "cell_type": "code",
   "execution_count": null,
   "metadata": {
    "colab": {
     "base_uri": "https://localhost:8080/",
     "height": 0
    },
    "id": "1Ife_VlaV4v_",
    "outputId": "fccf3441-b7dc-4c79-8a79-a4ef3788f756"
   },
   "outputs": [],
   "source": [
    "categorial(df, 'gearbox')"
   ]
  },
  {
   "cell_type": "code",
   "execution_count": null,
   "metadata": {
    "colab": {
     "base_uri": "https://localhost:8080/",
     "height": 0
    },
    "id": "eZHDZplgWcZF",
    "outputId": "2ca54236-fed3-4f6a-9080-010d929e175f"
   },
   "outputs": [],
   "source": [
    "categorial(df, 'repaired')"
   ]
  },
  {
   "cell_type": "markdown",
   "metadata": {
    "id": "Lhlo5WzHW0Yt"
   },
   "source": [
    "Признаки `fuel_type` и `brand` построим на столбчатых диаграммах, чтобы данные визуально легко читались:"
   ]
  },
  {
   "cell_type": "code",
   "execution_count": null,
   "metadata": {
    "colab": {
     "base_uri": "https://localhost:8080/",
     "height": 0
    },
    "id": "J7Z4V7RYbjs3",
    "outputId": "50c1347e-d28f-4238-9007-161f206dc2f9"
   },
   "outputs": [],
   "source": [
    "df['fuel_type'].value_counts().plot(\n",
    "    kind = 'bar',\n",
    "    figsize = (5,5),\n",
    "    title = 'Распределение признака \"fuel_type\"',\n",
    "    ylabel = 'Количество'\n",
    ");"
   ]
  },
  {
   "cell_type": "code",
   "execution_count": null,
   "metadata": {
    "colab": {
     "base_uri": "https://localhost:8080/",
     "height": 0
    },
    "id": "xdxC5v_dXozL",
    "outputId": "3d04f239-ffe3-40b6-d741-76d9cf873266"
   },
   "outputs": [],
   "source": [
    "df['brand'].value_counts().plot(\n",
    "    kind = 'bar',\n",
    "    figsize = (10,10),\n",
    "    title = 'Распределение признака \"brand\"',\n",
    "    ylabel = 'Количество'\n",
    ");"
   ]
  },
  {
   "cell_type": "markdown",
   "metadata": {
    "id": "cNVeKlEkc2xM"
   },
   "source": [
    "Выводы по разделу:\n",
    "\n",
    "- исследовательский анализ данных выявил аномальные значения ряда признаков, диапазоны значений в некоторых из них были откорректированы с целью приведения к реально существующим;\n",
    "- отбросили значения `price` ниже 1000 евро;\n",
    "- диапазон `registration_year` сделали от 1900 г. до верхнего значения даты выгрузки данных (2017 г.);\n",
    "- диапазон `power` сделали от 50 до 2300 л.с.;\n",
    "- отбросили значение `registration_month`, равное \"нулевому\" месяцу;\n",
    "- в тройке лидеров по признаку `vehicle_type`: \"sedan\" (29.8%), \"wagon\" (21.5%) и \"small\" (20.0%);\n",
    "- подавляющее количество автомобилей - с механической КПП (77.2%) против 22.8% автомобилей на \"автомате\");\n",
    "- автомобилей, никогда не бывавших в ремонте также большее количество - 93.1%;\n",
    "- практически все автомобили - с бензиновыми двигателями;\n",
    "- в пятёрке лидеров по признаку `brand` - исключительно \"немцы\": в порядке убывания - \"Volkswagen\", \"BMW\", \"Mercedes-Benz\", \"Audi\", \"Opel\"."
   ]
  },
  {
   "cell_type": "markdown",
   "metadata": {
    "id": "jGtEfB3MhfsT"
   },
   "source": [
    "## Корреляционный анализ признаков"
   ]
  },
  {
   "cell_type": "markdown",
   "metadata": {
    "id": "PP1bymcylidZ"
   },
   "source": [
    "Для построения тепловой карты коэффициента корреляции phik (используем именно его, т.к. корреляция Пирсона не подходит из-за наличия в датасете категориальных признаков, часть из которых имеет не нормальное распределение) исключим ряд признаков, очевидно не оказывающих никакого влияния на целевой признак `price`, а именно: `date_crawled`, `date_created`, `number_of_pictures`, `postal_code` и `last_seen`:"
   ]
  },
  {
   "cell_type": "code",
   "execution_count": null,
   "metadata": {
    "colab": {
     "base_uri": "https://localhost:8080/",
     "height": 0
    },
    "id": "UB_gT-_Ikt1z",
    "outputId": "f1695f66-b655-4ea1-ba41-05167c53f6ee"
   },
   "outputs": [],
   "source": [
    "corr_matrix = (\n",
    "    df[df.columns.difference(['date_crawled', 'date_created', \\\n",
    "        'number_of_pictures', 'postal_code', 'last_seen'])] \\\n",
    "        .phik_matrix(interval_cols = ['price', 'power'])\n",
    ")"
   ]
  },
  {
   "cell_type": "code",
   "execution_count": null,
   "metadata": {
    "colab": {
     "base_uri": "https://localhost:8080/",
     "height": 0
    },
    "id": "UB_gT-_Ikt1z",
    "outputId": "f1695f66-b655-4ea1-ba41-05167c53f6ee"
   },
   "outputs": [],
   "source": [
    "plot_correlation_matrix(corr_matrix.values, x_labels = corr_matrix.columns, \\\n",
    "                      y_labels=corr_matrix.index, color_map = 'coolwarm',\n",
    "                      title = 'Тепловая карта коэффициентов корреляции phik', \\\n",
    "                        figsize = (7, 7))\n",
    "plt.tight_layout()"
   ]
  },
  {
   "cell_type": "markdown",
   "metadata": {
    "id": "zN2V03bqqpwU"
   },
   "source": [
    "Используя шкалу Чеддока, сопоставим тесноту связей между входными признаками и целевым `price` (0,1-0,3 - слабая; 0,3-0,5 - умеренная; 0,5-0,7 - заметная; 0,7-0,9 - высокая; 0,9-1 - весьма высокая):"
   ]
  },
  {
   "cell_type": "markdown",
   "metadata": {
    "id": "rKpr5lxoquar"
   },
   "source": [
    "`price`:\n",
    "- теснота связи с `registration_year` = 0,63 (заметная),\n",
    "- с `model` = 0,54 (заметная),\n",
    "- с `car_mileage` = 0,32 (умеренная),\n",
    "- с `brand` = 0,32 (умеренная),\n",
    "- с `gearbox` = 0,30 (умеренная).\n",
    "\n",
    "С остальными признаками связь слабая.\n",
    "\n",
    "Дополнительно отметим, что между признаками `brand` и `model` наблюдается мультиколлинеарность, для обучения моделей в дальнейшем из этой пары будем использовать только `brand`."
   ]
  },
  {
   "cell_type": "markdown",
   "metadata": {
    "id": "CKRj3siesXKu"
   },
   "source": [
    "Выводы по разделу:\n",
    "\n",
    "- построили тепловую карту коэффициента корреляции phik, исключив из построения признаки `date_crawled`, `date_created`, `number_of_pictures`, `postal_code` и `last_seen`, как не оказывающие никакого значения на целевой признак `price`;\n",
    "- используя шкалу Чеддока, определили тесноту связи между входными признаками и целевым: с `registration_year` = 0,63 (заметная), с `model` = 0,54 (заметная), с `car_mileage` = 0,32 (умеренная), с `brand` = 0,32 (умеренная), с `gearbox` = 0,30 (умеренная). С остальными признаками связь слабая;\n",
    "- Обнаружена мультиколлинеарность между признаками `brand` и `model`, для обучения моделей оставим только `brand`."
   ]
  },
  {
   "cell_type": "markdown",
   "metadata": {
    "id": "B8b4FB6atciX"
   },
   "source": [
    "## Обучение моделей"
   ]
  },
  {
   "cell_type": "markdown",
   "metadata": {
    "id": "3XspLLR_uiZX"
   },
   "source": [
    "Прежде, чем приступить к обучению моделей, исключим из датасета признаки, не оказывающие влияния на целевой:"
   ]
  },
  {
   "cell_type": "code",
   "execution_count": null,
   "metadata": {
    "colab": {
     "base_uri": "https://localhost:8080/"
    },
    "id": "4VxK7EYtqtfb",
    "outputId": "e0635938-68ff-4abc-b119-723e39fe8807"
   },
   "outputs": [],
   "source": [
    "df = df.drop(['date_crawled', 'date_created', 'number_of_pictures', \\\n",
    "            'postal_code', 'last_seen', 'registration_month'], axis = 1).copy()\n",
    "df.info()"
   ]
  },
  {
   "cell_type": "markdown",
   "metadata": {
    "id": "MNUQNOkVlJZQ"
   },
   "source": [
    "Самое время заполнить пропущенные значения в признаках, основываясь на изученных ранее данных:"
   ]
  },
  {
   "cell_type": "code",
   "execution_count": null,
   "metadata": {
    "id": "i1bxZIwPlPQO"
   },
   "outputs": [],
   "source": [
    "# Пропуски в признаке \"vehicle_type\" заполним значением \"unknown\":\n",
    "df['vehicle_type'].fillna('unknown', inplace = True)\n",
    "\n",
    "# Пропуски в признаке \"gearbox\" заполним значением \"manual\" (преобладающее):\n",
    "df['gearbox'].fillna('manual', inplace = True)\n",
    "\n",
    "# Пропуски в признаке \"model\" заполним значением \"unknown\":\n",
    "df['model'].fillna('unknown', inplace = True)\n",
    "\n",
    "# Пропуски в признаке \"fuel_type\" заполним значением \"petrol\" (преобладающее):\n",
    "df['fuel_type'].fillna('petrol', inplace = True)\n",
    "\n",
    "# Пропуски в признаке \"brand\" заполним значением \"unknown\":\n",
    "df['brand'].fillna('unknown', inplace = True)\n",
    "\n",
    "# Пропуски в признаке \"repaired\" заполним значением \"no\" (преобладающее):\n",
    "df['repaired'].fillna('no', inplace = True)"
   ]
  },
  {
   "cell_type": "markdown",
   "metadata": {
    "id": "OD4Y8SrTnpZg"
   },
   "source": [
    "Проверим, что пропуски отсутствуют:"
   ]
  },
  {
   "cell_type": "code",
   "execution_count": null,
   "metadata": {
    "colab": {
     "base_uri": "https://localhost:8080/",
     "height": 429
    },
    "id": "BhautIE6nvMd",
    "outputId": "8555f05f-edb3-40c0-9696-50d3ef6af14b"
   },
   "outputs": [],
   "source": [
    "df.isna().sum()"
   ]
  },
  {
   "cell_type": "markdown",
   "metadata": {},
   "source": [
    "Проверим также получившуюся таблицу на дубликаты:"
   ]
  },
  {
   "cell_type": "code",
   "execution_count": null,
   "metadata": {},
   "outputs": [],
   "source": [
    "df.duplicated().sum()"
   ]
  },
  {
   "cell_type": "markdown",
   "metadata": {},
   "source": [
    "Обнаружено 36550 дубликатов, удалим их:"
   ]
  },
  {
   "cell_type": "code",
   "execution_count": null,
   "metadata": {},
   "outputs": [],
   "source": [
    "df = df.drop_duplicates().reset_index(drop = True)\n",
    "df.duplicated().sum()"
   ]
  },
  {
   "cell_type": "markdown",
   "metadata": {
    "id": "DEJ70nUY_G4C"
   },
   "source": [
    "Модели готовы к обучению, будем использовать следующие: `LinearRegression`, `DecisionTree`, `LightGBM` и `CatBoost`. Подготовим данные, разбив на выборки. Напомним, что из обучения моделей исключили признак `model`, как мультиколлинеарный с `brand`:"
   ]
  },
  {
   "cell_type": "code",
   "execution_count": null,
   "metadata": {},
   "outputs": [],
   "source": [
    "# Размер датасета перед сплитованием\n",
    "df.shape[0]"
   ]
  },
  {
   "cell_type": "code",
   "execution_count": null,
   "metadata": {
    "scrolled": true
   },
   "outputs": [],
   "source": [
    "# Подготовим признаки и разделим данные на обучающую и тестовую выборки\n",
    "features = df.drop(['price', 'model'], axis = 1)\n",
    "target = df['price']\n",
    "\n",
    "features_train, features_test, target_train, target_test = \\\n",
    "        train_test_split(features, target, test_size = TEST_SIZE, \\\n",
    "                         random_state = RANDOM_STATE)\n",
    "print(f'Размер обучающей выборки: {features_train.shape[0]}')\n",
    "print(f'Размер тестовой выборки: {target_test.shape[0]}')"
   ]
  },
  {
   "cell_type": "markdown",
   "metadata": {},
   "source": [
    "Суммарно размеры совпадают, деление прошло успешно"
   ]
  },
  {
   "cell_type": "code",
   "execution_count": null,
   "metadata": {},
   "outputs": [],
   "source": [
    "# Извлечём категориальные признаки из обучающего набора данных\n",
    "cat_features = features_train.select_dtypes(include = 'object') \\\n",
    "                                                .columns.to_list()\n",
    "# Извлечём числовые признаки из обучающего набора данных\n",
    "num_features = features_train.select_dtypes(exclude = 'object') \\\n",
    "                                                .columns.to_list()"
   ]
  },
  {
   "cell_type": "code",
   "execution_count": null,
   "metadata": {},
   "outputs": [],
   "source": [
    "# Создадим копию обучающего набора данных для нелинейных моделей\n",
    "features_train_1 = features_train.copy()\n",
    "# Создадим копию тестового набора данных для нелинейных моделей\n",
    "features_test_1 = features_test.copy()"
   ]
  },
  {
   "cell_type": "code",
   "execution_count": null,
   "metadata": {},
   "outputs": [],
   "source": [
    "# Трансформируем обучающую выборку для нелинейных моделей\n",
    "col_transformer_1 = make_column_transformer(\n",
    "    (OrdinalEncoder(handle_unknown='use_encoded_value', unknown_value=-1), cat_features),\n",
    "    (StandardScaler(), num_features),\n",
    "    remainder='passthrough',\n",
    "    verbose_feature_names_out=False\n",
    ")"
   ]
  },
  {
   "cell_type": "code",
   "execution_count": null,
   "metadata": {},
   "outputs": [],
   "source": [
    "features_train_transformed_1 = col_transformer_1.fit_transform(features_train_1)\n",
    "features_test_transformed_1 = col_transformer_1.transform(features_test_1)"
   ]
  },
  {
   "cell_type": "code",
   "execution_count": null,
   "metadata": {},
   "outputs": [],
   "source": [
    "# Создадим копии обучающего набора данных для линейной модели\n",
    "features_train_2 = features_train.copy()\n",
    "# Создадим копии тестового набора данных для линейной модели\n",
    "features_test_2 = features_test.copy()"
   ]
  },
  {
   "cell_type": "code",
   "execution_count": null,
   "metadata": {},
   "outputs": [],
   "source": [
    "# Трансформируем обучающую выборку для линейной модели\n",
    "col_transformer_2 = make_column_transformer(\n",
    "    (OneHotEncoder(drop='first', handle_unknown='ignore'), cat_features),\n",
    "    (StandardScaler(), num_features),\n",
    "    remainder='passthrough',\n",
    "    verbose_feature_names_out=False\n",
    ")"
   ]
  },
  {
   "cell_type": "code",
   "execution_count": null,
   "metadata": {},
   "outputs": [],
   "source": [
    "features_train_transformed_2 = col_transformer_2.fit_transform(features_train_2)\n",
    "features_test_transformed_2 = col_transformer_2.transform(features_test_2)"
   ]
  },
  {
   "cell_type": "code",
   "execution_count": null,
   "metadata": {},
   "outputs": [],
   "source": [
    "# Функция подсчёта времени и RMSE для моделей\n",
    "def model_param(model, parameters, features_train, target_train):\n",
    "# Начинаем отсчет времени для поиска лучших параметров модели\n",
    "    start_time = time.time()\n",
    "\n",
    "# Инициализируем GridSearchCV для подбора гиперпараметров\n",
    "    grid_cv = GridSearchCV(model, \n",
    "                        param_grid = parameters, \n",
    "                        cv=5, \n",
    "                        n_jobs=-1,\n",
    "                        scoring = 'neg_root_mean_squared_error')\n",
    "    \n",
    "# Делаем фиттинг модели на обучающих данных с подбором параметров\n",
    "    grid_cv.fit(features_train, target_train)\n",
    "\n",
    "# Записываем время, затраченное на обучение модели\n",
    "    time_1 = round((time.time() - start_time), 2)\n",
    "      \n",
    "# Ищем лучшую модель\n",
    "    best_model = grid_cv.best_estimator_\n",
    "\n",
    "    start_time = time.time()\n",
    "    best_model.fit(features_train, target_train)\n",
    "    time_best_model = round((time.time() - start_time), 2)\n",
    "    \n",
    "    \n",
    "# Используем лучший результат из GridSearchCV как оценку RMSE\n",
    "    rmse_cv = round(-grid_cv.best_score_, 2)\n",
    "\n",
    "    # Сохраняем статистику модели\n",
    "    model_stat = [time_1, time_best_model, rmse_cv]\n",
    "\n",
    "    return model_stat, grid_cv"
   ]
  },
  {
   "cell_type": "markdown",
   "metadata": {
    "id": "YmzK3DGDowRb"
   },
   "source": [
    "### Модель LinearRegression"
   ]
  },
  {
   "cell_type": "code",
   "execution_count": null,
   "metadata": {
    "id": "mSyQ8S5xLXpo"
   },
   "outputs": [],
   "source": [
    "# Инициализируем модель\n",
    "model_lr = LinearRegression(fit_intercept=True, \\\n",
    "                            copy_X=True, n_jobs=-1)"
   ]
  },
  {
   "cell_type": "code",
   "execution_count": null,
   "metadata": {},
   "outputs": [],
   "source": [
    "# Гиперпараметры модели\n",
    "param_grid_lr = {\n",
    "    #'fit_intercept': [True, False],\n",
    "    #'copy_X': [True, False]\n",
    "}"
   ]
  },
  {
   "cell_type": "code",
   "execution_count": null,
   "metadata": {},
   "outputs": [],
   "source": [
    "lr_stat, lr_grid_cv = model_param(model_lr, param_grid_lr, \\\n",
    "                                  features_train_transformed_2, target_train)"
   ]
  },
  {
   "cell_type": "code",
   "execution_count": null,
   "metadata": {},
   "outputs": [],
   "source": [
    "lr_stat"
   ]
  },
  {
   "cell_type": "code",
   "execution_count": null,
   "metadata": {},
   "outputs": [],
   "source": [
    "lr_grid_cv"
   ]
  },
  {
   "cell_type": "markdown",
   "metadata": {
    "id": "8JDa3YC1w5EW"
   },
   "source": [
    "### Модель DecisionTree"
   ]
  },
  {
   "cell_type": "code",
   "execution_count": null,
   "metadata": {},
   "outputs": [],
   "source": [
    "# Инициализируем модель\n",
    "model_tree = DecisionTreeRegressor(random_state = RANDOM_STATE)"
   ]
  },
  {
   "cell_type": "code",
   "execution_count": null,
   "metadata": {},
   "outputs": [],
   "source": [
    "# Гиперпараметры модели\n",
    "param_grid_tree = {\n",
    "    'max_depth': range(2, 5),\n",
    "    'min_samples_split': range(2, 5),\n",
    "    'min_samples_leaf': range(2, 5)\n",
    "}"
   ]
  },
  {
   "cell_type": "code",
   "execution_count": null,
   "metadata": {},
   "outputs": [],
   "source": [
    "tree_stat, tree_grid_cv = model_param(model_tree, param_grid_tree, \\\n",
    "                                      features_train_transformed_1, target_train)"
   ]
  },
  {
   "cell_type": "code",
   "execution_count": null,
   "metadata": {},
   "outputs": [],
   "source": [
    "tree_stat"
   ]
  },
  {
   "cell_type": "code",
   "execution_count": null,
   "metadata": {},
   "outputs": [],
   "source": [
    "tree_grid_cv"
   ]
  },
  {
   "cell_type": "markdown",
   "metadata": {
    "id": "CFM1dxrw389F"
   },
   "source": [
    "### Модель LightGBM"
   ]
  },
  {
   "cell_type": "code",
   "execution_count": null,
   "metadata": {},
   "outputs": [],
   "source": [
    "# Инициализируем модель\n",
    "model_lgbm = LGBMRegressor(random_state = RANDOM_STATE)"
   ]
  },
  {
   "cell_type": "code",
   "execution_count": null,
   "metadata": {},
   "outputs": [],
   "source": [
    "for col in cat_features:\n",
    "    features_train_1[col] = features_train_1[col].astype('category')\n",
    "    features_test_1[col] = features_test_1[col].astype('category')"
   ]
  },
  {
   "cell_type": "code",
   "execution_count": null,
   "metadata": {},
   "outputs": [],
   "source": [
    "# Гиперпараметры модели\n",
    "param_lgbm = {\n",
    "    'num_leaves': range(2, 5),\n",
    "    'max_depth': range(2, 5),\n",
    "    'learning_rate': [0.01, 0.1, 0.2]\n",
    "}"
   ]
  },
  {
   "cell_type": "code",
   "execution_count": null,
   "metadata": {},
   "outputs": [],
   "source": [
    "lgbm_stat, lgbm_grid_cv = model_param(model_lgbm, param_lgbm, \\\n",
    "                                      features_train_transformed_1, target_train)"
   ]
  },
  {
   "cell_type": "code",
   "execution_count": null,
   "metadata": {},
   "outputs": [],
   "source": [
    "lgbm_stat"
   ]
  },
  {
   "cell_type": "code",
   "execution_count": null,
   "metadata": {},
   "outputs": [],
   "source": [
    "lgbm_grid_cv"
   ]
  },
  {
   "cell_type": "markdown",
   "metadata": {
    "id": "-EZkFs03557_"
   },
   "source": [
    "### Модель CatBoost"
   ]
  },
  {
   "cell_type": "code",
   "execution_count": null,
   "metadata": {},
   "outputs": [],
   "source": [
    "# Инициализируем модель\n",
    "model_catboost = CatBoostRegressor(random_state = RANDOM_STATE)"
   ]
  },
  {
   "cell_type": "code",
   "execution_count": null,
   "metadata": {},
   "outputs": [],
   "source": [
    "for col in cat_features:\n",
    "    features_train_1[col] = features_train_1[col].astype(str)"
   ]
  },
  {
   "cell_type": "code",
   "execution_count": null,
   "metadata": {},
   "outputs": [],
   "source": [
    "# Гиперпараметры модели\n",
    "param_catboost = {\n",
    "    'iterations': range(2, 5),\n",
    "    'depth': range(2, 5),\n",
    "    'learning_rate': [0.01, 0.1, 0.2]\n",
    "}"
   ]
  },
  {
   "cell_type": "code",
   "execution_count": null,
   "metadata": {
    "scrolled": true
   },
   "outputs": [],
   "source": [
    "catboost_stat, catboost_grid_cv = model_param(model_catboost, param_catboost, \\\n",
    "                                            features_train_transformed_1, target_train)"
   ]
  },
  {
   "cell_type": "code",
   "execution_count": null,
   "metadata": {},
   "outputs": [],
   "source": [
    "catboost_stat"
   ]
  },
  {
   "cell_type": "code",
   "execution_count": null,
   "metadata": {},
   "outputs": [],
   "source": [
    "catboost_grid_cv"
   ]
  },
  {
   "cell_type": "markdown",
   "metadata": {
    "id": "XCwPOwNW-CoG"
   },
   "source": [
    "Соберём в единую таблицу данные от всех четырёх обученных моделей:"
   ]
  },
  {
   "cell_type": "code",
   "execution_count": null,
   "metadata": {
    "scrolled": true
   },
   "outputs": [],
   "source": [
    "model_param = pd.DataFrame(\n",
    "    [lr_stat, tree_stat, lgbm_stat, catboost_stat],\n",
    "    columns = ['Время обучения', 'Предсказанное время', 'RMSE'],\n",
    "    index = ['LinearRegression', 'DecisionTree', 'LightGBM', \\\n",
    "             'CatBoost']\n",
    ")\n",
    "model_param"
   ]
  },
  {
   "cell_type": "markdown",
   "metadata": {},
   "source": [
    "С заданным заказчиком условием \"RMSE\" <= 2500 справилась только модель `LightGBM`, её и будем рекомендовать к использованию, несмотря на самое долгое предсказанное время."
   ]
  },
  {
   "cell_type": "markdown",
   "metadata": {},
   "source": [
    "Проверим лучшую предсказанную модель на тестовой выборке:"
   ]
  },
  {
   "cell_type": "code",
   "execution_count": null,
   "metadata": {},
   "outputs": [],
   "source": [
    "test_predict = lgbm_grid_cv.predict(features_test_transformed_1)"
   ]
  },
  {
   "cell_type": "code",
   "execution_count": null,
   "metadata": {},
   "outputs": [],
   "source": [
    "test_rmse = round(np.sqrt(mean_squared_error(target_test, test_predict)), 2)\n",
    "print(f'Значение RMSE на тестовой выборке: {test_rmse}')"
   ]
  },
  {
   "cell_type": "markdown",
   "metadata": {},
   "source": [
    "Выводы по разделу:\n",
    "\n",
    "- исключили из датасета признаки, не оказывающие влияния на целевой: `date_crawled`, `date_created`, `number_of_pictures`, `postal_code`, `last_seen` и `registration_month`;\n",
    "- заполнили пропущенные значения в признаках: `vehicle_type`, `model`, `brand` - на \"unknown\", а в признаках `gearbox`, `fuel_type`, `repaired` - на преобладающие значения \"manual\", \"petrol\" и \"no\", соответственно;\n",
    "- удалили дубликаты, образовавшиеся в обновлённом датасете.\n",
    "\n",
    "Обучили 4 модели: `Linear Regression`, `Decision Tree`, `LightGBM` и `CatBoost`:\n",
    "  - самый лучший показатель предсказанной метрики RMSE - у модели `LightGBM` (2057.15). Эта модель - единственная, удовлетворяющая условию заказчика (RMSE <= 2500). При этом LightGBM - самая медленная из обучаемых моделей;\n",
    "  - проверили победившую модель на тестовой выборке, получив показатель RMSE = 2067.79, что также подходит под условия заказчика.\n",
    "\n",
    "Итог: рекомендованная модель по результатам выполненного проекта - `LightGBM`."
   ]
  },
  {
   "cell_type": "markdown",
   "metadata": {
    "id": "4rqdIaw9JmJf"
   },
   "source": [
    "## Отчёт по исследованию"
   ]
  },
  {
   "cell_type": "markdown",
   "metadata": {},
   "source": [
    "В ходе выполнения проекта были проведены следующие этапы:\n",
    "\n",
    "- загрузка данных. Изучили данные из предоставленного датасета, привели названия столбцов к единому виду (snake_case, строчные буквы); переименовали название столбца `Kilometer` в более подходящее по смыслу `car_mileage`; у столбцов `date_crawled`, `date_created` и `last_seen` поменяли тип данных на `datetime`, соответственно их значениям;\n",
    "\n",
    "- предобработка данных. Проверили датасет на наличие пропущенных значений, приняли решение заполнить их позже; обнаружили 4 явных дубликата, удалили их; обнаружили одинаковые модели, записанные по-разному: `range_rover` и `rangerover`. Привели к единому виду; переименовали значение `gasoline` в `petrol` в столбце `fuel_type`, так как по сути это одно и то же. Разница - в стране употребления того или иного термина; неявные дубликаты обнаружены не были;\n",
    "\n",
    "- исследовательский анализ данных. Исследовательский анализ данных выявил аномальные значения ряда признаков, диапазоны значений в некоторых из них были откорректированы с целью приведения к реально существующим, а именно:\n",
    "  - отбросили значения `price` ниже 1000 евро;\n",
    "  - диапазон `registration_year` сделали от 1900 г. до верхнего значения даты выгрузки данных (2017 г.);\n",
    "  - диапазон `power` сделали от 50 до 2300 л.с.;\n",
    "  - отбросили значение `registration_month`, равное \"нулевому\" месяцу; \n",
    "\n",
    "  в тройке лидеров по признаку `vehicle_type`: \"sedan\" (29.8%), \"wagon\" (21.5%) и \"small\" (20.0%); подавляющее количество автомобилей - с механической КПП (77.2%) против 22.8% автомобилей на \"автомате\"; автомобилей, никогда не бывавших в ремонте также большее количество - 93.1% практически все автомобили - с бензиновыми двигателями; в пятёрке лидеров по признаку `brand` - исключительно \"немцы\": в порядке убывания - \"Volkswagen\", \"BMW\", \"Mercedes-Benz\", \"Audi\", \"Opel\".\n",
    "\n",
    "- корреляционный анализ признаков. Построили тепловую карту коэффициента корреляции phik, исключив из построения признаки `date_crawled`, `date_created`, `number_of_pictures`, `postal_code` и `last_seen`, как не оказывающие никакого значения на целевой признак `price`; используя шкалу Чеддока, определили тесноту связи между входными признаками и целевым: с `registration_year` = 0,63 (заметная), с `model` = 0,54 (заметная), с `car_mileage` = 0,32 (умеренная), с `brand` = 0,32 (умеренная), с `gearbox` = 0,30 (умеренная). С остальными признаками связь слабая; обнаружили мультиколлинеарность между признаками `brand` и `model`, для обучения моделей решили оставить только `brand`;\n",
    "\n",
    "- обучение моделей. Исключили из датасета признаки, не оказывающие влияния на целевой `date_crawled`, `date_created`, `number_of_pictures`, `postal_code`, `last_seen` и `registration_month`; заполнили пропущенные значения в признаках: `vehicle_type`, `model`, `brand` - на \"unknown\", а в признаках `gearbox`, `fuel_type`, `repaired` - на преобладающие значения \"manual\", \"petrol\" и \"no\", соответственно; удалили дубликаты, образовавшиеся в обновлённом датасете.\n",
    "\n",
    "- обучили 4 модели: `Linear Regression`, `Decision Tree`, `LightGBM` и `CatBoost`:\n",
    "  - самый лучший показатель предсказанной метрики RMSE - у модели `LightGBM` (2057.15). Эта модель - единственная, удовлетворяющая условию заказчика (RMSE <= 2500). При этом LightGBM - самая медленная из обучаемых моделей;\n",
    "  - проверили победившую модель на тестовой выборке, получив показатель RMSE = 2067.79, что также подходит под условия заказчика.\n",
    "\n",
    "Итог: рекомендованная модель по результатам выполненного исследования - `LightGBM`."
   ]
  }
 ],
 "metadata": {
  "ExecuteTimeLog": [
   {
    "duration": 25072,
    "start_time": "2024-12-04T15:03:16.501Z"
   },
   {
    "duration": 2555,
    "start_time": "2024-12-04T15:03:41.576Z"
   },
   {
    "duration": 2483,
    "start_time": "2024-12-04T15:04:06.108Z"
   },
   {
    "duration": 3339,
    "start_time": "2024-12-04T15:04:10.682Z"
   },
   {
    "duration": 1842,
    "start_time": "2024-12-04T15:04:34.258Z"
   },
   {
    "duration": 2,
    "start_time": "2024-12-04T15:04:37.505Z"
   },
   {
    "duration": 3090,
    "start_time": "2024-12-04T15:07:37.186Z"
   },
   {
    "duration": 3,
    "start_time": "2024-12-04T15:11:11.990Z"
   },
   {
    "duration": 3,
    "start_time": "2024-12-04T15:11:13.047Z"
   },
   {
    "duration": 181,
    "start_time": "2024-12-04T15:11:14.590Z"
   },
   {
    "duration": 286,
    "start_time": "2024-12-04T15:11:19.341Z"
   },
   {
    "duration": 1583,
    "start_time": "2024-12-04T15:15:33.544Z"
   },
   {
    "duration": 3,
    "start_time": "2024-12-04T15:16:02.722Z"
   },
   {
    "duration": 3,
    "start_time": "2024-12-04T15:16:03.454Z"
   },
   {
    "duration": 103,
    "start_time": "2024-12-04T15:16:04.671Z"
   },
   {
    "duration": 33,
    "start_time": "2024-12-04T15:16:08.866Z"
   },
   {
    "duration": 32,
    "start_time": "2024-12-04T15:16:14.379Z"
   },
   {
    "duration": 109,
    "start_time": "2024-12-04T15:16:16.633Z"
   },
   {
    "duration": 4,
    "start_time": "2024-12-04T15:16:27.914Z"
   },
   {
    "duration": 414,
    "start_time": "2024-12-04T15:16:29.786Z"
   },
   {
    "duration": 359,
    "start_time": "2024-12-04T15:16:32.801Z"
   },
   {
    "duration": 725,
    "start_time": "2024-12-04T15:16:42.954Z"
   },
   {
    "duration": 20,
    "start_time": "2024-12-04T15:16:50.115Z"
   },
   {
    "duration": 20,
    "start_time": "2024-12-04T15:16:52.832Z"
   },
   {
    "duration": 27,
    "start_time": "2024-12-04T15:17:01.693Z"
   },
   {
    "duration": 35,
    "start_time": "2024-12-04T15:19:27.441Z"
   },
   {
    "duration": 23,
    "start_time": "2024-12-04T15:19:38.926Z"
   },
   {
    "duration": 24,
    "start_time": "2024-12-04T15:19:54.533Z"
   },
   {
    "duration": 26,
    "start_time": "2024-12-04T15:24:37.668Z"
   },
   {
    "duration": 17,
    "start_time": "2024-12-04T15:32:25.478Z"
   },
   {
    "duration": 21,
    "start_time": "2024-12-04T15:32:28.128Z"
   },
   {
    "duration": 34,
    "start_time": "2024-12-04T15:32:30.364Z"
   },
   {
    "duration": 21,
    "start_time": "2024-12-04T15:33:27.935Z"
   },
   {
    "duration": 22,
    "start_time": "2024-12-04T15:33:28.514Z"
   },
   {
    "duration": 29,
    "start_time": "2024-12-04T15:33:32.203Z"
   },
   {
    "duration": 6,
    "start_time": "2024-12-04T15:33:33.236Z"
   },
   {
    "duration": 94,
    "start_time": "2024-12-04T15:33:39.581Z"
   },
   {
    "duration": 4,
    "start_time": "2024-12-04T15:33:44.099Z"
   },
   {
    "duration": 92,
    "start_time": "2024-12-04T15:33:44.450Z"
   },
   {
    "duration": 6,
    "start_time": "2024-12-04T15:33:48.288Z"
   },
   {
    "duration": 1073,
    "start_time": "2024-12-04T15:33:52.214Z"
   },
   {
    "duration": 14,
    "start_time": "2024-12-04T15:38:14.232Z"
   },
   {
    "duration": 22,
    "start_time": "2024-12-04T15:38:52.210Z"
   },
   {
    "duration": 779,
    "start_time": "2024-12-04T15:39:23.394Z"
   },
   {
    "duration": 28,
    "start_time": "2024-12-04T15:39:29.408Z"
   },
   {
    "duration": 785,
    "start_time": "2024-12-04T15:39:32.322Z"
   },
   {
    "duration": 11,
    "start_time": "2024-12-04T15:39:35.106Z"
   },
   {
    "duration": 27685,
    "start_time": "2024-12-04T15:47:39.581Z"
   },
   {
    "duration": 2796,
    "start_time": "2024-12-04T15:48:07.268Z"
   },
   {
    "duration": 2671,
    "start_time": "2024-12-04T15:48:10.067Z"
   },
   {
    "duration": 3372,
    "start_time": "2024-12-04T15:48:12.740Z"
   },
   {
    "duration": 1926,
    "start_time": "2024-12-04T15:48:16.116Z"
   },
   {
    "duration": 3,
    "start_time": "2024-12-04T15:48:18.044Z"
   },
   {
    "duration": 1518,
    "start_time": "2024-12-04T15:48:18.049Z"
   },
   {
    "duration": 3,
    "start_time": "2024-12-04T15:48:19.569Z"
   },
   {
    "duration": 6,
    "start_time": "2024-12-04T15:48:19.573Z"
   },
   {
    "duration": 196,
    "start_time": "2024-12-04T15:48:19.581Z"
   },
   {
    "duration": 313,
    "start_time": "2024-12-04T15:48:19.778Z"
   },
   {
    "duration": 33,
    "start_time": "2024-12-04T15:48:20.093Z"
   },
   {
    "duration": 140,
    "start_time": "2024-12-04T15:48:20.128Z"
   },
   {
    "duration": 5,
    "start_time": "2024-12-04T15:48:20.271Z"
   },
   {
    "duration": 471,
    "start_time": "2024-12-04T15:48:20.278Z"
   },
   {
    "duration": 368,
    "start_time": "2024-12-04T15:48:20.752Z"
   },
   {
    "duration": 772,
    "start_time": "2024-12-04T15:48:21.121Z"
   },
   {
    "duration": 23,
    "start_time": "2024-12-04T15:48:21.897Z"
   },
   {
    "duration": 42,
    "start_time": "2024-12-04T15:48:21.922Z"
   },
   {
    "duration": 42,
    "start_time": "2024-12-04T15:48:21.965Z"
   },
   {
    "duration": 42,
    "start_time": "2024-12-04T15:48:22.008Z"
   },
   {
    "duration": 24,
    "start_time": "2024-12-04T15:48:22.052Z"
   },
   {
    "duration": 60,
    "start_time": "2024-12-04T15:48:22.077Z"
   },
   {
    "duration": 25,
    "start_time": "2024-12-04T15:48:22.139Z"
   },
   {
    "duration": 66,
    "start_time": "2024-12-04T15:48:22.166Z"
   },
   {
    "duration": 25,
    "start_time": "2024-12-04T15:48:22.234Z"
   },
   {
    "duration": 31,
    "start_time": "2024-12-04T15:48:22.261Z"
   },
   {
    "duration": 129,
    "start_time": "2024-12-04T15:48:22.293Z"
   },
   {
    "duration": 4,
    "start_time": "2024-12-04T15:48:22.423Z"
   },
   {
    "duration": 133,
    "start_time": "2024-12-04T15:48:22.429Z"
   },
   {
    "duration": 6,
    "start_time": "2024-12-04T15:48:22.564Z"
   },
   {
    "duration": 1188,
    "start_time": "2024-12-04T15:48:22.572Z"
   },
   {
    "duration": 16,
    "start_time": "2024-12-04T15:48:23.762Z"
   },
   {
    "duration": 39,
    "start_time": "2024-12-04T15:48:23.779Z"
   },
   {
    "duration": 970,
    "start_time": "2024-12-04T15:48:23.820Z"
   },
   {
    "duration": 33,
    "start_time": "2024-12-04T15:48:24.791Z"
   },
   {
    "duration": 897,
    "start_time": "2024-12-04T15:48:24.826Z"
   },
   {
    "duration": 11,
    "start_time": "2024-12-04T15:48:25.725Z"
   },
   {
    "duration": 12,
    "start_time": "2024-12-04T15:48:34.583Z"
   },
   {
    "duration": 5,
    "start_time": "2024-12-04T15:48:38.078Z"
   },
   {
    "duration": 34,
    "start_time": "2024-12-04T15:51:16.811Z"
   },
   {
    "duration": 871,
    "start_time": "2024-12-04T15:51:25.689Z"
   },
   {
    "duration": 778,
    "start_time": "2024-12-04T15:51:32.781Z"
   },
   {
    "duration": 26,
    "start_time": "2024-12-04T15:51:37.200Z"
   },
   {
    "duration": 83,
    "start_time": "2024-12-04T15:51:42.117Z"
   },
   {
    "duration": 292,
    "start_time": "2024-12-04T15:51:47.411Z"
   },
   {
    "duration": 195,
    "start_time": "2024-12-04T15:51:50.804Z"
   },
   {
    "duration": 157,
    "start_time": "2024-12-04T15:51:52.951Z"
   },
   {
    "duration": 330,
    "start_time": "2024-12-04T15:52:03.332Z"
   },
   {
    "duration": 616,
    "start_time": "2024-12-04T15:52:06.081Z"
   },
   {
    "duration": 5957,
    "start_time": "2024-12-04T16:04:51.819Z"
   },
   {
    "duration": 2884,
    "start_time": "2024-12-04T16:04:57.779Z"
   },
   {
    "duration": 2660,
    "start_time": "2024-12-04T16:05:00.665Z"
   },
   {
    "duration": 2696,
    "start_time": "2024-12-04T16:05:03.327Z"
   },
   {
    "duration": 6,
    "start_time": "2024-12-04T16:05:06.026Z"
   },
   {
    "duration": 40,
    "start_time": "2024-12-04T16:05:06.033Z"
   },
   {
    "duration": 983,
    "start_time": "2024-12-04T16:05:06.074Z"
   },
   {
    "duration": 3,
    "start_time": "2024-12-04T16:05:07.058Z"
   },
   {
    "duration": 67,
    "start_time": "2024-12-04T16:05:07.063Z"
   },
   {
    "duration": 183,
    "start_time": "2024-12-04T16:05:07.132Z"
   },
   {
    "duration": 261,
    "start_time": "2024-12-04T16:05:07.317Z"
   },
   {
    "duration": 40,
    "start_time": "2024-12-04T16:05:07.580Z"
   },
   {
    "duration": 132,
    "start_time": "2024-12-04T16:05:07.622Z"
   },
   {
    "duration": 5,
    "start_time": "2024-12-04T16:05:07.757Z"
   },
   {
    "duration": 411,
    "start_time": "2024-12-04T16:05:07.763Z"
   },
   {
    "duration": 314,
    "start_time": "2024-12-04T16:05:08.176Z"
   },
   {
    "duration": 681,
    "start_time": "2024-12-04T16:05:08.497Z"
   },
   {
    "duration": 34,
    "start_time": "2024-12-04T16:05:09.180Z"
   },
   {
    "duration": 53,
    "start_time": "2024-12-04T16:05:09.216Z"
   },
   {
    "duration": 52,
    "start_time": "2024-12-04T16:05:09.271Z"
   },
   {
    "duration": 22,
    "start_time": "2024-12-04T16:05:09.324Z"
   },
   {
    "duration": 26,
    "start_time": "2024-12-04T16:05:09.348Z"
   },
   {
    "duration": 45,
    "start_time": "2024-12-04T16:05:09.376Z"
   },
   {
    "duration": 23,
    "start_time": "2024-12-04T16:05:09.423Z"
   },
   {
    "duration": 33,
    "start_time": "2024-12-04T16:05:09.448Z"
   },
   {
    "duration": 34,
    "start_time": "2024-12-04T16:05:09.483Z"
   },
   {
    "duration": 10,
    "start_time": "2024-12-04T16:05:09.519Z"
   },
   {
    "duration": 120,
    "start_time": "2024-12-04T16:05:09.531Z"
   },
   {
    "duration": 4,
    "start_time": "2024-12-04T16:05:09.653Z"
   },
   {
    "duration": 121,
    "start_time": "2024-12-04T16:05:09.659Z"
   },
   {
    "duration": 6,
    "start_time": "2024-12-04T16:05:09.782Z"
   },
   {
    "duration": 1320,
    "start_time": "2024-12-04T16:05:09.798Z"
   },
   {
    "duration": 15,
    "start_time": "2024-12-04T16:05:11.119Z"
   },
   {
    "duration": 28,
    "start_time": "2024-12-04T16:05:11.136Z"
   },
   {
    "duration": 900,
    "start_time": "2024-12-04T16:05:11.166Z"
   },
   {
    "duration": 39,
    "start_time": "2024-12-04T16:05:12.068Z"
   },
   {
    "duration": 792,
    "start_time": "2024-12-04T16:05:12.109Z"
   },
   {
    "duration": 10,
    "start_time": "2024-12-04T16:05:12.902Z"
   },
   {
    "duration": 13,
    "start_time": "2024-12-04T16:05:12.914Z"
   },
   {
    "duration": 37,
    "start_time": "2024-12-04T16:05:12.928Z"
   },
   {
    "duration": 838,
    "start_time": "2024-12-04T16:05:12.969Z"
   },
   {
    "duration": 759,
    "start_time": "2024-12-04T16:05:13.809Z"
   },
   {
    "duration": 38,
    "start_time": "2024-12-04T16:05:14.570Z"
   },
   {
    "duration": 76,
    "start_time": "2024-12-04T16:05:14.610Z"
   },
   {
    "duration": 301,
    "start_time": "2024-12-04T16:05:14.698Z"
   },
   {
    "duration": 197,
    "start_time": "2024-12-04T16:05:15.001Z"
   },
   {
    "duration": 219,
    "start_time": "2024-12-04T16:05:15.200Z"
   },
   {
    "duration": 396,
    "start_time": "2024-12-04T16:05:15.421Z"
   },
   {
    "duration": 634,
    "start_time": "2024-12-04T16:05:15.819Z"
   },
   {
    "duration": 5165,
    "start_time": "2024-12-04T16:05:26.698Z"
   },
   {
    "duration": 1236,
    "start_time": "2024-12-04T16:05:40.806Z"
   },
   {
    "duration": 91,
    "start_time": "2024-12-04T16:32:35.483Z"
   },
   {
    "duration": 85,
    "start_time": "2024-12-04T16:32:59.891Z"
   },
   {
    "duration": 64,
    "start_time": "2024-12-04T16:35:48.072Z"
   },
   {
    "duration": 124,
    "start_time": "2024-12-04T16:42:17.455Z"
   },
   {
    "duration": 205,
    "start_time": "2024-12-04T16:42:57.069Z"
   },
   {
    "duration": 28714,
    "start_time": "2024-12-05T08:24:53.821Z"
   },
   {
    "duration": 2607,
    "start_time": "2024-12-05T08:25:22.537Z"
   },
   {
    "duration": 2559,
    "start_time": "2024-12-05T08:25:25.146Z"
   },
   {
    "duration": 3744,
    "start_time": "2024-12-05T08:25:27.707Z"
   },
   {
    "duration": 1744,
    "start_time": "2024-12-05T08:25:31.453Z"
   },
   {
    "duration": 3,
    "start_time": "2024-12-05T08:25:33.198Z"
   },
   {
    "duration": 2918,
    "start_time": "2024-12-05T08:25:33.202Z"
   },
   {
    "duration": 3,
    "start_time": "2024-12-05T08:25:36.121Z"
   },
   {
    "duration": 122,
    "start_time": "2024-12-05T08:25:36.126Z"
   },
   {
    "duration": 215,
    "start_time": "2024-12-05T08:25:36.250Z"
   },
   {
    "duration": 287,
    "start_time": "2024-12-05T08:25:36.467Z"
   },
   {
    "duration": 39,
    "start_time": "2024-12-05T08:25:36.756Z"
   },
   {
    "duration": 120,
    "start_time": "2024-12-05T08:25:36.797Z"
   },
   {
    "duration": 3,
    "start_time": "2024-12-05T08:25:36.921Z"
   },
   {
    "duration": 441,
    "start_time": "2024-12-05T08:25:36.926Z"
   },
   {
    "duration": 297,
    "start_time": "2024-12-05T08:25:37.369Z"
   },
   {
    "duration": 704,
    "start_time": "2024-12-05T08:25:37.668Z"
   },
   {
    "duration": 22,
    "start_time": "2024-12-05T08:25:38.374Z"
   },
   {
    "duration": 25,
    "start_time": "2024-12-05T08:25:38.398Z"
   },
   {
    "duration": 36,
    "start_time": "2024-12-05T08:25:38.424Z"
   },
   {
    "duration": 98,
    "start_time": "2024-12-05T08:25:38.462Z"
   },
   {
    "duration": 31,
    "start_time": "2024-12-05T08:25:38.561Z"
   },
   {
    "duration": 48,
    "start_time": "2024-12-05T08:25:38.593Z"
   },
   {
    "duration": 21,
    "start_time": "2024-12-05T08:25:38.643Z"
   },
   {
    "duration": 32,
    "start_time": "2024-12-05T08:25:38.666Z"
   },
   {
    "duration": 21,
    "start_time": "2024-12-05T08:25:38.700Z"
   },
   {
    "duration": 22,
    "start_time": "2024-12-05T08:25:38.722Z"
   },
   {
    "duration": 110,
    "start_time": "2024-12-05T08:25:38.746Z"
   },
   {
    "duration": 4,
    "start_time": "2024-12-05T08:25:38.857Z"
   },
   {
    "duration": 108,
    "start_time": "2024-12-05T08:25:38.863Z"
   },
   {
    "duration": 6,
    "start_time": "2024-12-05T08:25:38.972Z"
   },
   {
    "duration": 1085,
    "start_time": "2024-12-05T08:25:38.988Z"
   },
   {
    "duration": 27,
    "start_time": "2024-12-05T08:25:40.074Z"
   },
   {
    "duration": 96,
    "start_time": "2024-12-05T08:25:40.102Z"
   },
   {
    "duration": 857,
    "start_time": "2024-12-05T08:25:40.200Z"
   },
   {
    "duration": 36,
    "start_time": "2024-12-05T08:25:41.059Z"
   },
   {
    "duration": 798,
    "start_time": "2024-12-05T08:25:41.097Z"
   },
   {
    "duration": 10,
    "start_time": "2024-12-05T08:25:41.897Z"
   },
   {
    "duration": 19,
    "start_time": "2024-12-05T08:25:41.908Z"
   },
   {
    "duration": 41,
    "start_time": "2024-12-05T08:25:41.928Z"
   },
   {
    "duration": 823,
    "start_time": "2024-12-05T08:25:41.973Z"
   },
   {
    "duration": 777,
    "start_time": "2024-12-05T08:25:42.798Z"
   },
   {
    "duration": 37,
    "start_time": "2024-12-05T08:25:43.576Z"
   },
   {
    "duration": 94,
    "start_time": "2024-12-05T08:25:43.615Z"
   },
   {
    "duration": 280,
    "start_time": "2024-12-05T08:25:43.710Z"
   },
   {
    "duration": 216,
    "start_time": "2024-12-05T08:25:43.991Z"
   },
   {
    "duration": 197,
    "start_time": "2024-12-05T08:25:44.209Z"
   },
   {
    "duration": 430,
    "start_time": "2024-12-05T08:25:44.407Z"
   },
   {
    "duration": 585,
    "start_time": "2024-12-05T08:25:44.840Z"
   },
   {
    "duration": 4783,
    "start_time": "2024-12-05T08:25:45.426Z"
   },
   {
    "duration": 1086,
    "start_time": "2024-12-05T08:25:50.211Z"
   },
   {
    "duration": 88,
    "start_time": "2024-12-05T08:29:30.299Z"
   },
   {
    "duration": 71,
    "start_time": "2024-12-05T08:29:35.088Z"
   },
   {
    "duration": 62,
    "start_time": "2024-12-05T08:29:38.441Z"
   },
   {
    "duration": 100,
    "start_time": "2024-12-05T08:29:41.460Z"
   },
   {
    "duration": 199,
    "start_time": "2024-12-05T08:29:43.695Z"
   },
   {
    "duration": 4,
    "start_time": "2024-12-05T08:30:19.873Z"
   },
   {
    "duration": 46,
    "start_time": "2024-12-05T08:30:41.996Z"
   },
   {
    "duration": 12,
    "start_time": "2024-12-05T08:31:14.314Z"
   },
   {
    "duration": 14,
    "start_time": "2024-12-05T08:31:48.533Z"
   },
   {
    "duration": 11,
    "start_time": "2024-12-05T08:34:05.340Z"
   },
   {
    "duration": 295,
    "start_time": "2024-12-05T08:34:17.744Z"
   },
   {
    "duration": 84,
    "start_time": "2024-12-05T08:34:33.090Z"
   },
   {
    "duration": 5,
    "start_time": "2024-12-05T08:34:56.954Z"
   },
   {
    "duration": 2,
    "start_time": "2024-12-05T08:37:54.271Z"
   },
   {
    "duration": 3,
    "start_time": "2024-12-05T08:38:28.679Z"
   },
   {
    "duration": 2,
    "start_time": "2024-12-05T08:38:29.015Z"
   },
   {
    "duration": 3,
    "start_time": "2024-12-05T08:38:36.692Z"
   },
   {
    "duration": 3,
    "start_time": "2024-12-05T08:39:05.737Z"
   },
   {
    "duration": 3,
    "start_time": "2024-12-05T08:39:22.499Z"
   },
   {
    "duration": 148,
    "start_time": "2024-12-05T08:39:34.622Z"
   },
   {
    "duration": 3,
    "start_time": "2024-12-05T08:40:53.434Z"
   },
   {
    "duration": 120616,
    "start_time": "2024-12-05T08:40:54.575Z"
   },
   {
    "duration": 3,
    "start_time": "2024-12-05T08:43:08.436Z"
   },
   {
    "duration": 6,
    "start_time": "2024-12-05T08:43:11.061Z"
   },
   {
    "duration": 3,
    "start_time": "2024-12-05T08:43:49.287Z"
   },
   {
    "duration": 4,
    "start_time": "2024-12-05T08:44:04.714Z"
   },
   {
    "duration": 2,
    "start_time": "2024-12-05T08:46:48.941Z"
   },
   {
    "duration": 3,
    "start_time": "2024-12-05T08:47:01.972Z"
   },
   {
    "duration": 3,
    "start_time": "2024-12-05T08:47:55.597Z"
   },
   {
    "duration": 3,
    "start_time": "2024-12-05T08:48:04.859Z"
   },
   {
    "duration": 65671,
    "start_time": "2024-12-05T08:48:14.655Z"
   },
   {
    "duration": 7,
    "start_time": "2024-12-05T08:50:18.556Z"
   },
   {
    "duration": 6,
    "start_time": "2024-12-05T08:50:20.324Z"
   },
   {
    "duration": 3,
    "start_time": "2024-12-05T08:53:36.197Z"
   },
   {
    "duration": 3,
    "start_time": "2024-12-05T08:53:57.594Z"
   },
   {
    "duration": 3,
    "start_time": "2024-12-05T08:56:11.783Z"
   },
   {
    "duration": 3,
    "start_time": "2024-12-05T08:56:22.119Z"
   },
   {
    "duration": 2,
    "start_time": "2024-12-05T08:56:34.988Z"
   },
   {
    "duration": 3,
    "start_time": "2024-12-05T08:56:43.306Z"
   },
   {
    "duration": 276771,
    "start_time": "2024-12-05T08:56:53.517Z"
   },
   {
    "duration": 4,
    "start_time": "2024-12-05T09:01:30.290Z"
   },
   {
    "duration": 7,
    "start_time": "2024-12-05T09:02:01.723Z"
   },
   {
    "duration": 2,
    "start_time": "2024-12-05T09:02:29.458Z"
   },
   {
    "duration": 4,
    "start_time": "2024-12-05T09:02:37.986Z"
   },
   {
    "duration": 3,
    "start_time": "2024-12-05T09:02:47.460Z"
   },
   {
    "duration": 3,
    "start_time": "2024-12-05T09:05:16.264Z"
   },
   {
    "duration": 4,
    "start_time": "2024-12-05T09:05:24.200Z"
   },
   {
    "duration": 179082,
    "start_time": "2024-12-05T09:05:34.857Z"
   },
   {
    "duration": 4,
    "start_time": "2024-12-05T09:10:45.110Z"
   },
   {
    "duration": 5,
    "start_time": "2024-12-05T09:10:47.515Z"
   },
   {
    "duration": 2,
    "start_time": "2024-12-05T09:10:52.621Z"
   },
   {
    "duration": 3,
    "start_time": "2024-12-05T09:10:53.606Z"
   },
   {
    "duration": 3,
    "start_time": "2024-12-05T09:10:54.482Z"
   },
   {
    "duration": 3,
    "start_time": "2024-12-05T09:10:58.521Z"
   },
   {
    "duration": 11,
    "start_time": "2024-12-05T09:11:01.525Z"
   },
   {
    "duration": 13,
    "start_time": "2024-12-05T09:11:58.337Z"
   },
   {
    "duration": 182,
    "start_time": "2024-12-05T09:12:21.224Z"
   },
   {
    "duration": 6,
    "start_time": "2024-12-05T09:12:22.332Z"
   },
   {
    "duration": 3,
    "start_time": "2024-12-05T09:13:17.128Z"
   },
   {
    "duration": 5918,
    "start_time": "2024-12-05T09:38:38.415Z"
   },
   {
    "duration": 2685,
    "start_time": "2024-12-05T09:38:44.335Z"
   },
   {
    "duration": 2760,
    "start_time": "2024-12-05T09:38:47.022Z"
   },
   {
    "duration": 2727,
    "start_time": "2024-12-05T09:38:49.785Z"
   },
   {
    "duration": 1585,
    "start_time": "2024-12-05T09:38:52.514Z"
   },
   {
    "duration": 3,
    "start_time": "2024-12-05T09:38:54.101Z"
   },
   {
    "duration": 1073,
    "start_time": "2024-12-05T09:38:54.105Z"
   },
   {
    "duration": 2,
    "start_time": "2024-12-05T09:38:55.180Z"
   },
   {
    "duration": 3,
    "start_time": "2024-12-05T09:38:55.189Z"
   },
   {
    "duration": 178,
    "start_time": "2024-12-05T09:38:55.195Z"
   },
   {
    "duration": 278,
    "start_time": "2024-12-05T09:38:55.375Z"
   },
   {
    "duration": 37,
    "start_time": "2024-12-05T09:38:55.654Z"
   },
   {
    "duration": 117,
    "start_time": "2024-12-05T09:38:55.693Z"
   },
   {
    "duration": 4,
    "start_time": "2024-12-05T09:38:55.812Z"
   },
   {
    "duration": 432,
    "start_time": "2024-12-05T09:38:55.818Z"
   },
   {
    "duration": 318,
    "start_time": "2024-12-05T09:38:56.251Z"
   },
   {
    "duration": 708,
    "start_time": "2024-12-05T09:38:56.571Z"
   },
   {
    "duration": 27,
    "start_time": "2024-12-05T09:38:57.281Z"
   },
   {
    "duration": 29,
    "start_time": "2024-12-05T09:38:57.310Z"
   },
   {
    "duration": 41,
    "start_time": "2024-12-05T09:38:57.342Z"
   },
   {
    "duration": 40,
    "start_time": "2024-12-05T09:38:57.385Z"
   },
   {
    "duration": 24,
    "start_time": "2024-12-05T09:38:57.427Z"
   },
   {
    "duration": 47,
    "start_time": "2024-12-05T09:38:57.453Z"
   },
   {
    "duration": 23,
    "start_time": "2024-12-05T09:38:57.501Z"
   },
   {
    "duration": 38,
    "start_time": "2024-12-05T09:38:57.525Z"
   },
   {
    "duration": 29,
    "start_time": "2024-12-05T09:38:57.565Z"
   },
   {
    "duration": 35,
    "start_time": "2024-12-05T09:38:57.596Z"
   },
   {
    "duration": 113,
    "start_time": "2024-12-05T09:38:57.743Z"
   },
   {
    "duration": 6,
    "start_time": "2024-12-05T09:38:57.858Z"
   },
   {
    "duration": 178,
    "start_time": "2024-12-05T09:38:57.865Z"
   },
   {
    "duration": 6,
    "start_time": "2024-12-05T09:38:58.046Z"
   },
   {
    "duration": 1134,
    "start_time": "2024-12-05T09:38:58.054Z"
   },
   {
    "duration": 15,
    "start_time": "2024-12-05T09:38:59.190Z"
   },
   {
    "duration": 28,
    "start_time": "2024-12-05T09:38:59.206Z"
   },
   {
    "duration": 969,
    "start_time": "2024-12-05T09:38:59.236Z"
   },
   {
    "duration": 35,
    "start_time": "2024-12-05T09:39:00.207Z"
   },
   {
    "duration": 1186,
    "start_time": "2024-12-05T09:39:00.244Z"
   },
   {
    "duration": 11,
    "start_time": "2024-12-05T09:39:01.431Z"
   },
   {
    "duration": 6,
    "start_time": "2024-12-05T09:39:01.488Z"
   },
   {
    "duration": 101,
    "start_time": "2024-12-05T09:39:01.496Z"
   },
   {
    "duration": 865,
    "start_time": "2024-12-05T09:39:01.599Z"
   },
   {
    "duration": 801,
    "start_time": "2024-12-05T09:39:02.466Z"
   },
   {
    "duration": 36,
    "start_time": "2024-12-05T09:39:03.269Z"
   },
   {
    "duration": 92,
    "start_time": "2024-12-05T09:39:03.307Z"
   },
   {
    "duration": 214,
    "start_time": "2024-12-05T09:39:03.401Z"
   },
   {
    "duration": 273,
    "start_time": "2024-12-05T09:39:03.617Z"
   },
   {
    "duration": 217,
    "start_time": "2024-12-05T09:39:03.892Z"
   },
   {
    "duration": 388,
    "start_time": "2024-12-05T09:39:04.111Z"
   },
   {
    "duration": 675,
    "start_time": "2024-12-05T09:39:04.501Z"
   },
   {
    "duration": 5064,
    "start_time": "2024-12-05T09:39:05.179Z"
   },
   {
    "duration": 1252,
    "start_time": "2024-12-05T09:39:10.245Z"
   },
   {
    "duration": 93,
    "start_time": "2024-12-05T09:39:11.499Z"
   },
   {
    "duration": 66,
    "start_time": "2024-12-05T09:39:11.593Z"
   },
   {
    "duration": 75,
    "start_time": "2024-12-05T09:39:11.661Z"
   },
   {
    "duration": 116,
    "start_time": "2024-12-05T09:39:11.739Z"
   },
   {
    "duration": 208,
    "start_time": "2024-12-05T09:39:11.857Z"
   },
   {
    "duration": 4,
    "start_time": "2024-12-05T09:39:12.067Z"
   },
   {
    "duration": 149,
    "start_time": "2024-12-05T09:39:12.073Z"
   },
   {
    "duration": 8,
    "start_time": "2024-12-05T09:39:12.224Z"
   },
   {
    "duration": 12,
    "start_time": "2024-12-05T09:39:12.234Z"
   },
   {
    "duration": 292,
    "start_time": "2024-12-05T09:39:12.247Z"
   },
   {
    "duration": 88,
    "start_time": "2024-12-05T09:39:12.541Z"
   },
   {
    "duration": 5,
    "start_time": "2024-12-05T09:39:12.630Z"
   },
   {
    "duration": 69,
    "start_time": "2024-12-05T09:39:12.636Z"
   },
   {
    "duration": 7,
    "start_time": "2024-12-05T09:39:12.707Z"
   },
   {
    "duration": 7,
    "start_time": "2024-12-05T09:39:12.715Z"
   },
   {
    "duration": 54,
    "start_time": "2024-12-05T09:39:12.724Z"
   },
   {
    "duration": 44,
    "start_time": "2024-12-05T09:39:12.779Z"
   },
   {
    "duration": 31,
    "start_time": "2024-12-05T09:39:12.825Z"
   },
   {
    "duration": 122140,
    "start_time": "2024-12-05T09:39:12.858Z"
   },
   {
    "duration": 3,
    "start_time": "2024-12-05T09:41:15.000Z"
   },
   {
    "duration": 85,
    "start_time": "2024-12-05T09:41:15.005Z"
   },
   {
    "duration": 55,
    "start_time": "2024-12-05T09:41:15.091Z"
   },
   {
    "duration": 51,
    "start_time": "2024-12-05T09:41:15.148Z"
   },
   {
    "duration": 38,
    "start_time": "2024-12-05T09:41:15.205Z"
   },
   {
    "duration": 73,
    "start_time": "2024-12-05T09:41:15.245Z"
   },
   {
    "duration": 21,
    "start_time": "2024-12-05T09:41:15.320Z"
   },
   {
    "duration": 46,
    "start_time": "2024-12-05T09:41:15.343Z"
   },
   {
    "duration": 66402,
    "start_time": "2024-12-05T09:41:15.391Z"
   },
   {
    "duration": 4,
    "start_time": "2024-12-05T09:42:21.795Z"
   },
   {
    "duration": 28,
    "start_time": "2024-12-05T09:42:21.801Z"
   },
   {
    "duration": 61,
    "start_time": "2024-12-05T09:42:21.837Z"
   },
   {
    "duration": 18,
    "start_time": "2024-12-05T09:42:21.900Z"
   },
   {
    "duration": 25,
    "start_time": "2024-12-05T09:42:21.919Z"
   },
   {
    "duration": 17,
    "start_time": "2024-12-05T09:42:21.945Z"
   },
   {
    "duration": 30,
    "start_time": "2024-12-05T09:42:21.964Z"
   },
   {
    "duration": 12,
    "start_time": "2024-12-05T09:42:21.995Z"
   },
   {
    "duration": 6854,
    "start_time": "2024-12-05T10:01:56.800Z"
   },
   {
    "duration": 2802,
    "start_time": "2024-12-05T10:02:03.657Z"
   },
   {
    "duration": 2795,
    "start_time": "2024-12-05T10:02:06.461Z"
   },
   {
    "duration": 2768,
    "start_time": "2024-12-05T10:02:09.258Z"
   },
   {
    "duration": 1578,
    "start_time": "2024-12-05T10:02:12.029Z"
   },
   {
    "duration": 3,
    "start_time": "2024-12-05T10:02:13.609Z"
   },
   {
    "duration": 989,
    "start_time": "2024-12-05T10:02:13.613Z"
   },
   {
    "duration": 3,
    "start_time": "2024-12-05T10:02:14.605Z"
   },
   {
    "duration": 21,
    "start_time": "2024-12-05T10:02:14.609Z"
   },
   {
    "duration": 239,
    "start_time": "2024-12-05T10:02:14.632Z"
   },
   {
    "duration": 317,
    "start_time": "2024-12-05T10:02:14.873Z"
   },
   {
    "duration": 35,
    "start_time": "2024-12-05T10:02:15.191Z"
   },
   {
    "duration": 136,
    "start_time": "2024-12-05T10:02:15.228Z"
   },
   {
    "duration": 4,
    "start_time": "2024-12-05T10:02:15.367Z"
   },
   {
    "duration": 443,
    "start_time": "2024-12-05T10:02:15.373Z"
   },
   {
    "duration": 336,
    "start_time": "2024-12-05T10:02:15.818Z"
   },
   {
    "duration": 752,
    "start_time": "2024-12-05T10:02:16.156Z"
   },
   {
    "duration": 21,
    "start_time": "2024-12-05T10:02:16.910Z"
   },
   {
    "duration": 32,
    "start_time": "2024-12-05T10:02:16.933Z"
   },
   {
    "duration": 38,
    "start_time": "2024-12-05T10:02:16.969Z"
   },
   {
    "duration": 16,
    "start_time": "2024-12-05T10:02:17.009Z"
   },
   {
    "duration": 24,
    "start_time": "2024-12-05T10:02:17.027Z"
   },
   {
    "duration": 67,
    "start_time": "2024-12-05T10:02:17.052Z"
   },
   {
    "duration": 23,
    "start_time": "2024-12-05T10:02:17.121Z"
   },
   {
    "duration": 56,
    "start_time": "2024-12-05T10:02:17.145Z"
   },
   {
    "duration": 21,
    "start_time": "2024-12-05T10:02:17.203Z"
   },
   {
    "duration": 6,
    "start_time": "2024-12-05T10:02:17.226Z"
   },
   {
    "duration": 182,
    "start_time": "2024-12-05T10:02:17.234Z"
   },
   {
    "duration": 5,
    "start_time": "2024-12-05T10:02:17.417Z"
   },
   {
    "duration": 112,
    "start_time": "2024-12-05T10:02:17.424Z"
   },
   {
    "duration": 5,
    "start_time": "2024-12-05T10:02:17.538Z"
   },
   {
    "duration": 1080,
    "start_time": "2024-12-05T10:02:17.544Z"
   },
   {
    "duration": 15,
    "start_time": "2024-12-05T10:02:18.626Z"
   },
   {
    "duration": 22,
    "start_time": "2024-12-05T10:02:18.642Z"
   },
   {
    "duration": 860,
    "start_time": "2024-12-05T10:02:18.666Z"
   },
   {
    "duration": 28,
    "start_time": "2024-12-05T10:02:19.528Z"
   },
   {
    "duration": 870,
    "start_time": "2024-12-05T10:02:19.558Z"
   },
   {
    "duration": 11,
    "start_time": "2024-12-05T10:02:20.430Z"
   },
   {
    "duration": 15,
    "start_time": "2024-12-05T10:02:20.442Z"
   },
   {
    "duration": 49,
    "start_time": "2024-12-05T10:02:20.459Z"
   },
   {
    "duration": 885,
    "start_time": "2024-12-05T10:02:20.514Z"
   },
   {
    "duration": 969,
    "start_time": "2024-12-05T10:02:21.402Z"
   },
   {
    "duration": 35,
    "start_time": "2024-12-05T10:02:22.373Z"
   },
   {
    "duration": 90,
    "start_time": "2024-12-05T10:02:22.410Z"
   },
   {
    "duration": 216,
    "start_time": "2024-12-05T10:02:22.502Z"
   },
   {
    "duration": 272,
    "start_time": "2024-12-05T10:02:22.720Z"
   },
   {
    "duration": 218,
    "start_time": "2024-12-05T10:02:23.001Z"
   },
   {
    "duration": 400,
    "start_time": "2024-12-05T10:02:23.221Z"
   },
   {
    "duration": 636,
    "start_time": "2024-12-05T10:02:23.623Z"
   },
   {
    "duration": 5260,
    "start_time": "2024-12-05T10:02:24.261Z"
   },
   {
    "duration": 1162,
    "start_time": "2024-12-05T10:02:29.523Z"
   },
   {
    "duration": 90,
    "start_time": "2024-12-05T10:02:30.686Z"
   },
   {
    "duration": 73,
    "start_time": "2024-12-05T10:02:30.789Z"
   },
   {
    "duration": 196,
    "start_time": "2024-12-05T10:02:30.864Z"
   },
   {
    "duration": 146,
    "start_time": "2024-12-05T10:02:31.061Z"
   },
   {
    "duration": 219,
    "start_time": "2024-12-05T10:02:31.208Z"
   },
   {
    "duration": 3,
    "start_time": "2024-12-05T10:02:31.429Z"
   },
   {
    "duration": 109,
    "start_time": "2024-12-05T10:02:31.434Z"
   },
   {
    "duration": 42,
    "start_time": "2024-12-05T10:02:31.544Z"
   },
   {
    "duration": 39,
    "start_time": "2024-12-05T10:02:31.588Z"
   },
   {
    "duration": 371,
    "start_time": "2024-12-05T10:02:31.629Z"
   },
   {
    "duration": 83,
    "start_time": "2024-12-05T10:02:32.002Z"
   },
   {
    "duration": 16,
    "start_time": "2024-12-05T10:02:32.087Z"
   },
   {
    "duration": 207,
    "start_time": "2024-12-05T10:02:32.105Z"
   },
   {
    "duration": 12,
    "start_time": "2024-12-05T10:02:32.314Z"
   },
   {
    "duration": 7,
    "start_time": "2024-12-05T10:02:32.328Z"
   },
   {
    "duration": 48,
    "start_time": "2024-12-05T10:02:32.337Z"
   },
   {
    "duration": 19,
    "start_time": "2024-12-05T10:02:32.386Z"
   },
   {
    "duration": 23,
    "start_time": "2024-12-05T10:02:32.407Z"
   },
   {
    "duration": 109168,
    "start_time": "2024-12-05T10:02:32.432Z"
   },
   {
    "duration": 4,
    "start_time": "2024-12-05T10:04:21.602Z"
   },
   {
    "duration": 16,
    "start_time": "2024-12-05T10:04:21.608Z"
   },
   {
    "duration": 22,
    "start_time": "2024-12-05T10:04:21.625Z"
   },
   {
    "duration": 12,
    "start_time": "2024-12-05T10:04:21.649Z"
   },
   {
    "duration": 11,
    "start_time": "2024-12-05T10:04:21.663Z"
   },
   {
    "duration": 33,
    "start_time": "2024-12-05T10:04:21.676Z"
   },
   {
    "duration": 26,
    "start_time": "2024-12-05T10:04:21.711Z"
   },
   {
    "duration": 22,
    "start_time": "2024-12-05T10:04:21.739Z"
   },
   {
    "duration": 67744,
    "start_time": "2024-12-05T10:04:21.763Z"
   },
   {
    "duration": 4,
    "start_time": "2024-12-05T10:05:29.508Z"
   },
   {
    "duration": 10,
    "start_time": "2024-12-05T10:05:29.514Z"
   },
   {
    "duration": 35,
    "start_time": "2024-12-05T10:05:29.526Z"
   },
   {
    "duration": 38,
    "start_time": "2024-12-05T10:05:29.563Z"
   },
   {
    "duration": 5,
    "start_time": "2024-12-05T10:05:29.603Z"
   },
   {
    "duration": 15,
    "start_time": "2024-12-05T10:05:29.610Z"
   },
   {
    "duration": 12,
    "start_time": "2024-12-05T10:05:29.626Z"
   },
   {
    "duration": 3,
    "start_time": "2024-12-05T10:05:29.639Z"
   },
   {
    "duration": 1162261,
    "start_time": "2024-12-05T10:05:29.644Z"
   },
   {
    "duration": 4,
    "start_time": "2024-12-05T10:24:51.907Z"
   },
   {
    "duration": 57,
    "start_time": "2024-12-05T10:24:51.913Z"
   },
   {
    "duration": 34,
    "start_time": "2024-12-05T10:24:51.972Z"
   },
   {
    "duration": 14,
    "start_time": "2024-12-05T10:24:52.008Z"
   },
   {
    "duration": 81,
    "start_time": "2024-12-05T10:24:52.024Z"
   },
   {
    "duration": 21,
    "start_time": "2024-12-05T10:24:52.107Z"
   },
   {
    "duration": 36,
    "start_time": "2024-12-05T10:24:52.130Z"
   },
   {
    "duration": 38,
    "start_time": "2024-12-05T10:24:52.168Z"
   },
   {
    "duration": 174248,
    "start_time": "2024-12-05T10:24:52.208Z"
   },
   {
    "duration": 4,
    "start_time": "2024-12-05T10:27:46.458Z"
   },
   {
    "duration": 28,
    "start_time": "2024-12-05T10:27:46.463Z"
   },
   {
    "duration": 11,
    "start_time": "2024-12-05T10:27:46.492Z"
   },
   {
    "duration": 15,
    "start_time": "2024-12-05T10:27:46.504Z"
   },
   {
    "duration": 16,
    "start_time": "2024-12-05T10:27:46.521Z"
   },
   {
    "duration": 7,
    "start_time": "2024-12-05T10:27:46.539Z"
   },
   {
    "duration": 18,
    "start_time": "2024-12-05T10:27:46.548Z"
   },
   {
    "duration": 230,
    "start_time": "2024-12-05T10:27:46.568Z"
   },
   {
    "duration": 5,
    "start_time": "2024-12-05T10:27:46.800Z"
   },
   {
    "duration": 6,
    "start_time": "2024-12-05T10:27:46.806Z"
   },
   {
    "duration": 24409,
    "start_time": "2024-12-06T15:33:00.958Z"
   },
   {
    "duration": 2633,
    "start_time": "2024-12-06T15:33:25.370Z"
   },
   {
    "duration": 2490,
    "start_time": "2024-12-06T15:33:28.004Z"
   },
   {
    "duration": 3150,
    "start_time": "2024-12-06T15:33:30.496Z"
   },
   {
    "duration": 1785,
    "start_time": "2024-12-06T15:33:33.648Z"
   },
   {
    "duration": 2,
    "start_time": "2024-12-06T15:33:35.435Z"
   },
   {
    "duration": 1298,
    "start_time": "2024-12-06T15:33:35.439Z"
   },
   {
    "duration": 3,
    "start_time": "2024-12-06T15:33:36.739Z"
   },
   {
    "duration": 14,
    "start_time": "2024-12-06T15:33:36.744Z"
   },
   {
    "duration": 173,
    "start_time": "2024-12-06T15:33:36.761Z"
   },
   {
    "duration": 288,
    "start_time": "2024-12-06T15:33:36.935Z"
   },
   {
    "duration": 32,
    "start_time": "2024-12-06T15:33:37.224Z"
   },
   {
    "duration": 137,
    "start_time": "2024-12-06T15:33:37.258Z"
   },
   {
    "duration": 5,
    "start_time": "2024-12-06T15:33:37.397Z"
   },
   {
    "duration": 391,
    "start_time": "2024-12-06T15:33:37.403Z"
   },
   {
    "duration": 348,
    "start_time": "2024-12-06T15:33:37.795Z"
   },
   {
    "duration": 699,
    "start_time": "2024-12-06T15:33:38.144Z"
   },
   {
    "duration": 22,
    "start_time": "2024-12-06T15:33:38.844Z"
   },
   {
    "duration": 22,
    "start_time": "2024-12-06T15:33:38.867Z"
   },
   {
    "duration": 65,
    "start_time": "2024-12-06T15:33:38.891Z"
   },
   {
    "duration": 23,
    "start_time": "2024-12-06T15:33:38.958Z"
   },
   {
    "duration": 20,
    "start_time": "2024-12-06T15:33:38.982Z"
   },
   {
    "duration": 36,
    "start_time": "2024-12-06T15:33:39.004Z"
   },
   {
    "duration": 20,
    "start_time": "2024-12-06T15:33:39.041Z"
   },
   {
    "duration": 23,
    "start_time": "2024-12-06T15:33:39.063Z"
   },
   {
    "duration": 37,
    "start_time": "2024-12-06T15:33:39.088Z"
   },
   {
    "duration": 6,
    "start_time": "2024-12-06T15:33:39.127Z"
   },
   {
    "duration": 106,
    "start_time": "2024-12-06T15:33:39.137Z"
   },
   {
    "duration": 4,
    "start_time": "2024-12-06T15:33:39.246Z"
   },
   {
    "duration": 110,
    "start_time": "2024-12-06T15:33:39.252Z"
   },
   {
    "duration": 6,
    "start_time": "2024-12-06T15:33:39.364Z"
   },
   {
    "duration": 1139,
    "start_time": "2024-12-06T15:33:39.372Z"
   },
   {
    "duration": 16,
    "start_time": "2024-12-06T15:33:40.521Z"
   },
   {
    "duration": 23,
    "start_time": "2024-12-06T15:33:40.538Z"
   },
   {
    "duration": 820,
    "start_time": "2024-12-06T15:33:40.563Z"
   },
   {
    "duration": 36,
    "start_time": "2024-12-06T15:33:41.385Z"
   },
   {
    "duration": 774,
    "start_time": "2024-12-06T15:33:41.423Z"
   },
   {
    "duration": 23,
    "start_time": "2024-12-06T15:33:42.198Z"
   },
   {
    "duration": 5,
    "start_time": "2024-12-06T15:33:42.222Z"
   },
   {
    "duration": 32,
    "start_time": "2024-12-06T15:33:42.228Z"
   },
   {
    "duration": 864,
    "start_time": "2024-12-06T15:33:42.262Z"
   },
   {
    "duration": 736,
    "start_time": "2024-12-06T15:33:43.127Z"
   },
   {
    "duration": 25,
    "start_time": "2024-12-06T15:33:43.864Z"
   },
   {
    "duration": 91,
    "start_time": "2024-12-06T15:33:43.891Z"
   },
   {
    "duration": 239,
    "start_time": "2024-12-06T15:33:43.984Z"
   },
   {
    "duration": 228,
    "start_time": "2024-12-06T15:33:44.225Z"
   },
   {
    "duration": 203,
    "start_time": "2024-12-06T15:33:44.521Z"
   },
   {
    "duration": 398,
    "start_time": "2024-12-06T15:33:44.726Z"
   },
   {
    "duration": 564,
    "start_time": "2024-12-06T15:33:45.125Z"
   },
   {
    "duration": 4838,
    "start_time": "2024-12-06T15:33:45.690Z"
   },
   {
    "duration": 1115,
    "start_time": "2024-12-06T15:33:50.530Z"
   },
   {
    "duration": 82,
    "start_time": "2024-12-06T15:33:51.647Z"
   },
   {
    "duration": 67,
    "start_time": "2024-12-06T15:33:51.730Z"
   },
   {
    "duration": 67,
    "start_time": "2024-12-06T15:33:51.798Z"
   },
   {
    "duration": 127,
    "start_time": "2024-12-06T15:33:51.866Z"
   },
   {
    "duration": 199,
    "start_time": "2024-12-06T15:33:51.994Z"
   },
   {
    "duration": 3,
    "start_time": "2024-12-06T15:33:52.195Z"
   },
   {
    "duration": 62,
    "start_time": "2024-12-06T15:33:52.199Z"
   },
   {
    "duration": 12,
    "start_time": "2024-12-06T15:33:52.262Z"
   },
   {
    "duration": 14,
    "start_time": "2024-12-06T15:34:43.066Z"
   },
   {
    "duration": 11,
    "start_time": "2024-12-06T15:35:25.872Z"
   },
   {
    "duration": 85,
    "start_time": "2024-12-06T15:37:39.222Z"
   },
   {
    "duration": 124,
    "start_time": "2024-12-06T15:42:15.167Z"
   },
   {
    "duration": 5,
    "start_time": "2024-12-06T15:42:55.474Z"
   },
   {
    "duration": 227,
    "start_time": "2024-12-06T15:43:04.582Z"
   },
   {
    "duration": 121,
    "start_time": "2024-12-06T15:43:56.518Z"
   },
   {
    "duration": 27,
    "start_time": "2024-12-06T15:44:17.372Z"
   },
   {
    "duration": 6,
    "start_time": "2024-12-06T15:51:11.885Z"
   },
   {
    "duration": 2,
    "start_time": "2024-12-06T15:51:39.700Z"
   },
   {
    "duration": 2,
    "start_time": "2024-12-06T15:51:40.385Z"
   },
   {
    "duration": 3,
    "start_time": "2024-12-06T15:51:40.924Z"
   },
   {
    "duration": 2,
    "start_time": "2024-12-06T15:51:52.008Z"
   },
   {
    "duration": 4,
    "start_time": "2024-12-06T16:12:02.004Z"
   },
   {
    "duration": 3,
    "start_time": "2024-12-06T16:12:09.493Z"
   },
   {
    "duration": 1960,
    "start_time": "2024-12-06T16:13:07.687Z"
   },
   {
    "duration": 4,
    "start_time": "2024-12-06T16:13:10.897Z"
   },
   {
    "duration": 6,
    "start_time": "2024-12-06T16:13:16.268Z"
   },
   {
    "duration": 2,
    "start_time": "2024-12-06T16:13:31.849Z"
   },
   {
    "duration": 3,
    "start_time": "2024-12-06T16:13:33.465Z"
   },
   {
    "duration": 9985,
    "start_time": "2024-12-06T16:13:34.838Z"
   },
   {
    "duration": 3,
    "start_time": "2024-12-06T16:13:44.825Z"
   },
   {
    "duration": 6,
    "start_time": "2024-12-06T16:13:53.388Z"
   },
   {
    "duration": 3,
    "start_time": "2024-12-06T16:16:39.609Z"
   },
   {
    "duration": 16,
    "start_time": "2024-12-06T16:16:47.392Z"
   },
   {
    "duration": 3,
    "start_time": "2024-12-06T16:20:07.254Z"
   },
   {
    "duration": 10,
    "start_time": "2024-12-06T16:20:10.812Z"
   },
   {
    "duration": 5527,
    "start_time": "2024-12-06T16:20:24.729Z"
   },
   {
    "duration": 2580,
    "start_time": "2024-12-06T16:20:30.259Z"
   },
   {
    "duration": 2531,
    "start_time": "2024-12-06T16:20:32.841Z"
   },
   {
    "duration": 2571,
    "start_time": "2024-12-06T16:20:35.374Z"
   },
   {
    "duration": 6,
    "start_time": "2024-12-06T16:20:37.947Z"
   },
   {
    "duration": 4,
    "start_time": "2024-12-06T16:20:37.955Z"
   },
   {
    "duration": 863,
    "start_time": "2024-12-06T16:20:37.961Z"
   },
   {
    "duration": 3,
    "start_time": "2024-12-06T16:20:38.826Z"
   },
   {
    "duration": 4,
    "start_time": "2024-12-06T16:20:38.831Z"
   },
   {
    "duration": 168,
    "start_time": "2024-12-06T16:20:38.837Z"
   },
   {
    "duration": 245,
    "start_time": "2024-12-06T16:20:39.006Z"
   },
   {
    "duration": 21,
    "start_time": "2024-12-06T16:20:39.253Z"
   },
   {
    "duration": 122,
    "start_time": "2024-12-06T16:20:39.276Z"
   },
   {
    "duration": 3,
    "start_time": "2024-12-06T16:20:39.400Z"
   },
   {
    "duration": 349,
    "start_time": "2024-12-06T16:20:39.405Z"
   },
   {
    "duration": 266,
    "start_time": "2024-12-06T16:20:39.756Z"
   },
   {
    "duration": 597,
    "start_time": "2024-12-06T16:20:40.024Z"
   },
   {
    "duration": 20,
    "start_time": "2024-12-06T16:20:40.622Z"
   },
   {
    "duration": 19,
    "start_time": "2024-12-06T16:20:40.644Z"
   },
   {
    "duration": 34,
    "start_time": "2024-12-06T16:20:40.665Z"
   },
   {
    "duration": 25,
    "start_time": "2024-12-06T16:20:40.701Z"
   },
   {
    "duration": 22,
    "start_time": "2024-12-06T16:20:40.727Z"
   },
   {
    "duration": 34,
    "start_time": "2024-12-06T16:20:40.750Z"
   },
   {
    "duration": 20,
    "start_time": "2024-12-06T16:20:40.786Z"
   },
   {
    "duration": 30,
    "start_time": "2024-12-06T16:20:40.807Z"
   },
   {
    "duration": 75,
    "start_time": "2024-12-06T16:20:40.838Z"
   },
   {
    "duration": 6,
    "start_time": "2024-12-06T16:20:40.914Z"
   },
   {
    "duration": 85,
    "start_time": "2024-12-06T16:20:40.924Z"
   },
   {
    "duration": 10,
    "start_time": "2024-12-06T16:20:41.011Z"
   },
   {
    "duration": 104,
    "start_time": "2024-12-06T16:20:41.022Z"
   },
   {
    "duration": 5,
    "start_time": "2024-12-06T16:20:41.129Z"
   },
   {
    "duration": 1053,
    "start_time": "2024-12-06T16:20:41.135Z"
   },
   {
    "duration": 12,
    "start_time": "2024-12-06T16:20:42.190Z"
   },
   {
    "duration": 32,
    "start_time": "2024-12-06T16:20:42.203Z"
   },
   {
    "duration": 772,
    "start_time": "2024-12-06T16:20:42.237Z"
   },
   {
    "duration": 23,
    "start_time": "2024-12-06T16:20:43.021Z"
   },
   {
    "duration": 841,
    "start_time": "2024-12-06T16:20:43.046Z"
   },
   {
    "duration": 10,
    "start_time": "2024-12-06T16:20:43.889Z"
   },
   {
    "duration": 21,
    "start_time": "2024-12-06T16:20:43.901Z"
   },
   {
    "duration": 22,
    "start_time": "2024-12-06T16:20:43.923Z"
   },
   {
    "duration": 961,
    "start_time": "2024-12-06T16:20:43.946Z"
   },
   {
    "duration": 756,
    "start_time": "2024-12-06T16:20:44.921Z"
   },
   {
    "duration": 20,
    "start_time": "2024-12-06T16:20:45.678Z"
   },
   {
    "duration": 86,
    "start_time": "2024-12-06T16:20:45.699Z"
   },
   {
    "duration": 264,
    "start_time": "2024-12-06T16:20:45.787Z"
   },
   {
    "duration": 271,
    "start_time": "2024-12-06T16:20:46.052Z"
   },
   {
    "duration": 218,
    "start_time": "2024-12-06T16:20:46.325Z"
   },
   {
    "duration": 396,
    "start_time": "2024-12-06T16:20:46.545Z"
   },
   {
    "duration": 680,
    "start_time": "2024-12-06T16:20:46.942Z"
   },
   {
    "duration": 4801,
    "start_time": "2024-12-06T16:20:47.624Z"
   },
   {
    "duration": 1140,
    "start_time": "2024-12-06T16:20:52.426Z"
   },
   {
    "duration": 105,
    "start_time": "2024-12-06T16:20:53.568Z"
   },
   {
    "duration": 69,
    "start_time": "2024-12-06T16:20:53.675Z"
   },
   {
    "duration": 62,
    "start_time": "2024-12-06T16:20:53.746Z"
   },
   {
    "duration": 132,
    "start_time": "2024-12-06T16:20:53.821Z"
   },
   {
    "duration": 196,
    "start_time": "2024-12-06T16:20:53.955Z"
   },
   {
    "duration": 4,
    "start_time": "2024-12-06T16:20:54.153Z"
   },
   {
    "duration": 67,
    "start_time": "2024-12-06T16:20:54.160Z"
   },
   {
    "duration": 12,
    "start_time": "2024-12-06T16:20:54.229Z"
   },
   {
    "duration": 12,
    "start_time": "2024-12-06T16:20:54.243Z"
   },
   {
    "duration": 191,
    "start_time": "2024-12-06T16:20:54.257Z"
   },
   {
    "duration": 53,
    "start_time": "2024-12-06T16:20:54.449Z"
   },
   {
    "duration": 19,
    "start_time": "2024-12-06T16:20:54.504Z"
   },
   {
    "duration": 5,
    "start_time": "2024-12-06T16:20:54.525Z"
   },
   {
    "duration": 4,
    "start_time": "2024-12-06T16:20:54.531Z"
   },
   {
    "duration": 4,
    "start_time": "2024-12-06T16:20:54.536Z"
   },
   {
    "duration": 3,
    "start_time": "2024-12-06T16:20:54.542Z"
   },
   {
    "duration": 4,
    "start_time": "2024-12-06T16:20:54.546Z"
   },
   {
    "duration": 5,
    "start_time": "2024-12-06T16:20:54.551Z"
   },
   {
    "duration": 1987,
    "start_time": "2024-12-06T16:20:54.557Z"
   },
   {
    "duration": 77,
    "start_time": "2024-12-06T16:20:56.546Z"
   },
   {
    "duration": 105,
    "start_time": "2024-12-06T16:20:56.625Z"
   },
   {
    "duration": 21,
    "start_time": "2024-12-06T16:20:56.732Z"
   },
   {
    "duration": 4,
    "start_time": "2024-12-06T16:20:56.754Z"
   },
   {
    "duration": 10095,
    "start_time": "2024-12-06T16:20:56.759Z"
   },
   {
    "duration": 4,
    "start_time": "2024-12-06T16:21:06.856Z"
   },
   {
    "duration": 27,
    "start_time": "2024-12-06T16:21:06.862Z"
   },
   {
    "duration": 3,
    "start_time": "2024-12-06T16:21:25.928Z"
   },
   {
    "duration": 11,
    "start_time": "2024-12-06T16:21:27.429Z"
   },
   {
    "duration": 3,
    "start_time": "2024-12-06T16:29:49.180Z"
   },
   {
    "duration": 3,
    "start_time": "2024-12-06T16:29:49.973Z"
   },
   {
    "duration": 3,
    "start_time": "2024-12-06T16:30:01.602Z"
   },
   {
    "duration": 4,
    "start_time": "2024-12-06T16:30:04.877Z"
   },
   {
    "duration": 5854,
    "start_time": "2024-12-06T17:04:49.056Z"
   },
   {
    "duration": 2625,
    "start_time": "2024-12-06T17:04:54.913Z"
   },
   {
    "duration": 2712,
    "start_time": "2024-12-06T17:04:57.541Z"
   },
   {
    "duration": 2603,
    "start_time": "2024-12-06T17:05:00.255Z"
   },
   {
    "duration": 1566,
    "start_time": "2024-12-06T17:05:02.861Z"
   },
   {
    "duration": 3,
    "start_time": "2024-12-06T17:05:04.430Z"
   },
   {
    "duration": 996,
    "start_time": "2024-12-06T17:05:04.435Z"
   },
   {
    "duration": 2,
    "start_time": "2024-12-06T17:05:05.433Z"
   },
   {
    "duration": 19,
    "start_time": "2024-12-06T17:05:05.437Z"
   },
   {
    "duration": 163,
    "start_time": "2024-12-06T17:05:05.458Z"
   },
   {
    "duration": 275,
    "start_time": "2024-12-06T17:05:05.622Z"
   },
   {
    "duration": 48,
    "start_time": "2024-12-06T17:05:05.899Z"
   },
   {
    "duration": 178,
    "start_time": "2024-12-06T17:05:05.949Z"
   },
   {
    "duration": 4,
    "start_time": "2024-12-06T17:05:06.131Z"
   },
   {
    "duration": 393,
    "start_time": "2024-12-06T17:05:06.137Z"
   },
   {
    "duration": 337,
    "start_time": "2024-12-06T17:05:06.531Z"
   },
   {
    "duration": 725,
    "start_time": "2024-12-06T17:05:06.870Z"
   },
   {
    "duration": 26,
    "start_time": "2024-12-06T17:05:07.597Z"
   },
   {
    "duration": 21,
    "start_time": "2024-12-06T17:05:07.625Z"
   },
   {
    "duration": 33,
    "start_time": "2024-12-06T17:05:07.648Z"
   },
   {
    "duration": 38,
    "start_time": "2024-12-06T17:05:07.683Z"
   },
   {
    "duration": 33,
    "start_time": "2024-12-06T17:05:07.723Z"
   },
   {
    "duration": 52,
    "start_time": "2024-12-06T17:05:07.758Z"
   },
   {
    "duration": 39,
    "start_time": "2024-12-06T17:05:07.811Z"
   },
   {
    "duration": 49,
    "start_time": "2024-12-06T17:05:07.852Z"
   },
   {
    "duration": 94,
    "start_time": "2024-12-06T17:05:07.903Z"
   },
   {
    "duration": 23,
    "start_time": "2024-12-06T17:05:07.999Z"
   },
   {
    "duration": 208,
    "start_time": "2024-12-06T17:05:08.024Z"
   },
   {
    "duration": 6,
    "start_time": "2024-12-06T17:05:08.234Z"
   },
   {
    "duration": 110,
    "start_time": "2024-12-06T17:05:08.242Z"
   },
   {
    "duration": 6,
    "start_time": "2024-12-06T17:05:08.354Z"
   },
   {
    "duration": 1075,
    "start_time": "2024-12-06T17:05:08.362Z"
   },
   {
    "duration": 16,
    "start_time": "2024-12-06T17:05:09.439Z"
   },
   {
    "duration": 22,
    "start_time": "2024-12-06T17:05:09.457Z"
   },
   {
    "duration": 829,
    "start_time": "2024-12-06T17:05:09.481Z"
   },
   {
    "duration": 52,
    "start_time": "2024-12-06T17:05:10.311Z"
   },
   {
    "duration": 839,
    "start_time": "2024-12-06T17:05:10.365Z"
   },
   {
    "duration": 20,
    "start_time": "2024-12-06T17:05:11.205Z"
   },
   {
    "duration": 6,
    "start_time": "2024-12-06T17:05:11.227Z"
   },
   {
    "duration": 38,
    "start_time": "2024-12-06T17:05:11.234Z"
   },
   {
    "duration": 870,
    "start_time": "2024-12-06T17:05:11.277Z"
   },
   {
    "duration": 846,
    "start_time": "2024-12-06T17:05:12.149Z"
   },
   {
    "duration": 32,
    "start_time": "2024-12-06T17:05:12.996Z"
   },
   {
    "duration": 113,
    "start_time": "2024-12-06T17:05:13.030Z"
   },
   {
    "duration": 277,
    "start_time": "2024-12-06T17:05:13.144Z"
   },
   {
    "duration": 199,
    "start_time": "2024-12-06T17:05:13.423Z"
   },
   {
    "duration": 298,
    "start_time": "2024-12-06T17:05:13.625Z"
   },
   {
    "duration": 316,
    "start_time": "2024-12-06T17:05:13.925Z"
   },
   {
    "duration": 618,
    "start_time": "2024-12-06T17:05:14.243Z"
   },
   {
    "duration": 6183,
    "start_time": "2024-12-06T17:05:14.862Z"
   },
   {
    "duration": 1192,
    "start_time": "2024-12-06T17:05:21.046Z"
   },
   {
    "duration": 94,
    "start_time": "2024-12-06T17:05:22.240Z"
   },
   {
    "duration": 65,
    "start_time": "2024-12-06T17:05:22.338Z"
   },
   {
    "duration": 67,
    "start_time": "2024-12-06T17:05:22.405Z"
   },
   {
    "duration": 105,
    "start_time": "2024-12-06T17:05:22.474Z"
   },
   {
    "duration": 216,
    "start_time": "2024-12-06T17:05:22.581Z"
   },
   {
    "duration": 4,
    "start_time": "2024-12-06T17:05:22.798Z"
   },
   {
    "duration": 69,
    "start_time": "2024-12-06T17:05:22.803Z"
   },
   {
    "duration": 13,
    "start_time": "2024-12-06T17:05:22.873Z"
   },
   {
    "duration": 42,
    "start_time": "2024-12-06T17:05:22.888Z"
   },
   {
    "duration": 199,
    "start_time": "2024-12-06T17:05:22.934Z"
   },
   {
    "duration": 55,
    "start_time": "2024-12-06T17:05:23.134Z"
   },
   {
    "duration": 6,
    "start_time": "2024-12-06T17:05:23.190Z"
   },
   {
    "duration": 23,
    "start_time": "2024-12-06T17:05:23.198Z"
   },
   {
    "duration": 4,
    "start_time": "2024-12-06T17:05:23.223Z"
   },
   {
    "duration": 4,
    "start_time": "2024-12-06T17:05:23.231Z"
   },
   {
    "duration": 3,
    "start_time": "2024-12-06T17:05:23.236Z"
   },
   {
    "duration": 79,
    "start_time": "2024-12-06T17:05:23.241Z"
   },
   {
    "duration": 40,
    "start_time": "2024-12-06T17:05:23.322Z"
   },
   {
    "duration": 2081,
    "start_time": "2024-12-06T17:05:23.364Z"
   },
   {
    "duration": 81,
    "start_time": "2024-12-06T17:05:25.449Z"
   },
   {
    "duration": 89,
    "start_time": "2024-12-06T17:05:25.534Z"
   },
   {
    "duration": 28,
    "start_time": "2024-12-06T17:05:25.625Z"
   },
   {
    "duration": 16,
    "start_time": "2024-12-06T17:05:25.654Z"
   },
   {
    "duration": 10892,
    "start_time": "2024-12-06T17:05:25.672Z"
   },
   {
    "duration": 4,
    "start_time": "2024-12-06T17:05:36.565Z"
   },
   {
    "duration": 32,
    "start_time": "2024-12-06T17:05:36.570Z"
   },
   {
    "duration": 5,
    "start_time": "2024-12-06T17:05:36.604Z"
   },
   {
    "duration": 49,
    "start_time": "2024-12-06T17:05:36.610Z"
   },
   {
    "duration": 3,
    "start_time": "2024-12-06T17:05:36.661Z"
   },
   {
    "duration": 709768,
    "start_time": "2024-12-06T17:05:36.665Z"
   },
   {
    "duration": 4,
    "start_time": "2024-12-06T17:17:26.435Z"
   },
   {
    "duration": 24,
    "start_time": "2024-12-06T17:17:26.440Z"
   },
   {
    "duration": 172,
    "start_time": "2024-12-06T17:18:01.128Z"
   },
   {
    "duration": 2,
    "start_time": "2024-12-06T17:18:11.995Z"
   },
   {
    "duration": 39,
    "start_time": "2024-12-06T17:18:13.901Z"
   },
   {
    "duration": 3,
    "start_time": "2024-12-06T17:18:22.741Z"
   },
   {
    "duration": 123319,
    "start_time": "2024-12-06T17:18:25.210Z"
   },
   {
    "duration": 3,
    "start_time": "2024-12-06T17:20:33.354Z"
   },
   {
    "duration": 6,
    "start_time": "2024-12-06T17:20:35.373Z"
   },
   {
    "duration": 10,
    "start_time": "2024-12-06T17:20:44.687Z"
   },
   {
    "duration": 184,
    "start_time": "2024-12-06T17:21:14.840Z"
   },
   {
    "duration": 8,
    "start_time": "2024-12-06T17:21:24.321Z"
   },
   {
    "duration": 22277,
    "start_time": "2024-12-07T15:05:37.684Z"
   },
   {
    "duration": 2674,
    "start_time": "2024-12-07T15:05:59.963Z"
   },
   {
    "duration": 2612,
    "start_time": "2024-12-07T15:06:02.639Z"
   },
   {
    "duration": 3377,
    "start_time": "2024-12-07T15:06:05.253Z"
   },
   {
    "duration": 1611,
    "start_time": "2024-12-07T15:06:08.632Z"
   },
   {
    "duration": 2,
    "start_time": "2024-12-07T15:06:10.245Z"
   },
   {
    "duration": 1020,
    "start_time": "2024-12-07T15:06:10.248Z"
   },
   {
    "duration": 2,
    "start_time": "2024-12-07T15:06:11.269Z"
   },
   {
    "duration": 4,
    "start_time": "2024-12-07T15:06:11.272Z"
   },
   {
    "duration": 126,
    "start_time": "2024-12-07T15:06:11.279Z"
   },
   {
    "duration": 256,
    "start_time": "2024-12-07T15:06:11.406Z"
   },
   {
    "duration": 34,
    "start_time": "2024-12-07T15:06:11.664Z"
   },
   {
    "duration": 90,
    "start_time": "2024-12-07T15:06:11.699Z"
   },
   {
    "duration": 5,
    "start_time": "2024-12-07T15:06:11.791Z"
   },
   {
    "duration": 369,
    "start_time": "2024-12-07T15:06:11.798Z"
   },
   {
    "duration": 246,
    "start_time": "2024-12-07T15:06:12.168Z"
   },
   {
    "duration": 533,
    "start_time": "2024-12-07T15:06:12.415Z"
   },
   {
    "duration": 23,
    "start_time": "2024-12-07T15:06:12.949Z"
   },
   {
    "duration": 15,
    "start_time": "2024-12-07T15:06:12.974Z"
   },
   {
    "duration": 32,
    "start_time": "2024-12-07T15:06:12.990Z"
   },
   {
    "duration": 17,
    "start_time": "2024-12-07T15:06:13.024Z"
   },
   {
    "duration": 18,
    "start_time": "2024-12-07T15:06:13.042Z"
   },
   {
    "duration": 38,
    "start_time": "2024-12-07T15:06:13.061Z"
   },
   {
    "duration": 18,
    "start_time": "2024-12-07T15:06:13.101Z"
   },
   {
    "duration": 22,
    "start_time": "2024-12-07T15:06:13.120Z"
   },
   {
    "duration": 16,
    "start_time": "2024-12-07T15:06:13.143Z"
   },
   {
    "duration": 55,
    "start_time": "2024-12-07T15:06:13.170Z"
   },
   {
    "duration": 86,
    "start_time": "2024-12-07T15:06:13.229Z"
   },
   {
    "duration": 4,
    "start_time": "2024-12-07T15:06:13.316Z"
   },
   {
    "duration": 122,
    "start_time": "2024-12-07T15:06:13.321Z"
   },
   {
    "duration": 4,
    "start_time": "2024-12-07T15:06:13.445Z"
   },
   {
    "duration": 884,
    "start_time": "2024-12-07T15:06:13.451Z"
   },
   {
    "duration": 11,
    "start_time": "2024-12-07T15:06:14.337Z"
   },
   {
    "duration": 64,
    "start_time": "2024-12-07T15:06:14.349Z"
   },
   {
    "duration": 695,
    "start_time": "2024-12-07T15:06:14.414Z"
   },
   {
    "duration": 25,
    "start_time": "2024-12-07T15:06:15.110Z"
   },
   {
    "duration": 704,
    "start_time": "2024-12-07T15:06:15.136Z"
   },
   {
    "duration": 8,
    "start_time": "2024-12-07T15:06:15.841Z"
   },
   {
    "duration": 31,
    "start_time": "2024-12-07T15:06:15.850Z"
   },
   {
    "duration": 28,
    "start_time": "2024-12-07T15:06:15.883Z"
   },
   {
    "duration": 710,
    "start_time": "2024-12-07T15:06:15.912Z"
   },
   {
    "duration": 702,
    "start_time": "2024-12-07T15:06:16.623Z"
   },
   {
    "duration": 20,
    "start_time": "2024-12-07T15:06:17.327Z"
   },
   {
    "duration": 92,
    "start_time": "2024-12-07T15:06:17.349Z"
   },
   {
    "duration": 146,
    "start_time": "2024-12-07T15:06:17.443Z"
   },
   {
    "duration": 190,
    "start_time": "2024-12-07T15:06:17.591Z"
   },
   {
    "duration": 196,
    "start_time": "2024-12-07T15:06:17.784Z"
   },
   {
    "duration": 348,
    "start_time": "2024-12-07T15:06:17.981Z"
   },
   {
    "duration": 503,
    "start_time": "2024-12-07T15:06:18.330Z"
   },
   {
    "duration": 3840,
    "start_time": "2024-12-07T15:06:18.834Z"
   },
   {
    "duration": 848,
    "start_time": "2024-12-07T15:06:22.675Z"
   },
   {
    "duration": 63,
    "start_time": "2024-12-07T15:06:23.525Z"
   },
   {
    "duration": 46,
    "start_time": "2024-12-07T15:06:23.589Z"
   },
   {
    "duration": 46,
    "start_time": "2024-12-07T15:06:23.636Z"
   },
   {
    "duration": 101,
    "start_time": "2024-12-07T15:06:23.684Z"
   },
   {
    "duration": 181,
    "start_time": "2024-12-07T15:06:23.786Z"
   },
   {
    "duration": 3,
    "start_time": "2024-12-07T15:06:23.971Z"
   },
   {
    "duration": 33,
    "start_time": "2024-12-07T15:06:23.975Z"
   },
   {
    "duration": 13,
    "start_time": "2024-12-07T15:06:24.009Z"
   },
   {
    "duration": 12,
    "start_time": "2024-12-07T15:06:24.023Z"
   },
   {
    "duration": 177,
    "start_time": "2024-12-07T15:06:24.036Z"
   },
   {
    "duration": 44,
    "start_time": "2024-12-07T15:06:24.214Z"
   },
   {
    "duration": 13,
    "start_time": "2024-12-07T15:06:24.259Z"
   },
   {
    "duration": 8,
    "start_time": "2024-12-07T15:06:24.273Z"
   },
   {
    "duration": 9,
    "start_time": "2024-12-07T15:06:24.282Z"
   },
   {
    "duration": 20,
    "start_time": "2024-12-07T15:06:24.292Z"
   },
   {
    "duration": 2,
    "start_time": "2024-12-07T15:06:24.314Z"
   },
   {
    "duration": 2,
    "start_time": "2024-12-07T15:06:24.317Z"
   },
   {
    "duration": 59,
    "start_time": "2024-12-07T15:06:24.321Z"
   },
   {
    "duration": 1022,
    "start_time": "2024-12-07T15:06:24.381Z"
   },
   {
    "duration": 4,
    "start_time": "2024-12-07T15:06:25.404Z"
   },
   {
    "duration": 62,
    "start_time": "2024-12-07T15:06:25.409Z"
   },
   {
    "duration": 2,
    "start_time": "2024-12-07T15:06:25.473Z"
   },
   {
    "duration": 11,
    "start_time": "2024-12-07T15:06:25.477Z"
   },
   {
    "duration": 9553,
    "start_time": "2024-12-07T15:06:25.489Z"
   },
   {
    "duration": 3,
    "start_time": "2024-12-07T15:06:35.043Z"
   },
   {
    "duration": 35,
    "start_time": "2024-12-07T15:06:35.047Z"
   },
   {
    "duration": 12,
    "start_time": "2024-12-07T15:06:35.083Z"
   },
   {
    "duration": 54,
    "start_time": "2024-12-07T15:06:35.096Z"
   },
   {
    "duration": 11,
    "start_time": "2024-12-07T15:06:35.151Z"
   },
   {
    "duration": 608308,
    "start_time": "2024-12-07T15:06:35.163Z"
   },
   {
    "duration": 4,
    "start_time": "2024-12-07T15:16:43.477Z"
   },
   {
    "duration": 9,
    "start_time": "2024-12-07T15:16:43.482Z"
   },
   {
    "duration": 21,
    "start_time": "2024-12-07T15:16:43.493Z"
   },
   {
    "duration": 168,
    "start_time": "2024-12-07T15:16:43.516Z"
   },
   {
    "duration": 3,
    "start_time": "2024-12-07T15:16:43.686Z"
   },
   {
    "duration": 112944,
    "start_time": "2024-12-07T15:16:43.690Z"
   },
   {
    "duration": 2,
    "start_time": "2024-12-07T15:18:36.636Z"
   },
   {
    "duration": 19,
    "start_time": "2024-12-07T15:18:36.640Z"
   },
   {
    "duration": 8,
    "start_time": "2024-12-07T15:18:36.660Z"
   },
   {
    "duration": 111,
    "start_time": "2024-12-07T15:18:36.669Z"
   },
   {
    "duration": 93,
    "start_time": "2024-12-07T15:18:36.782Z"
   },
   {
    "duration": 25827,
    "start_time": "2024-12-08T13:07:42.491Z"
   },
   {
    "duration": 252,
    "start_time": "2024-12-08T13:08:08.320Z"
   },
   {
    "duration": 0,
    "start_time": "2024-12-08T13:08:08.577Z"
   },
   {
    "duration": 0,
    "start_time": "2024-12-08T13:08:08.578Z"
   },
   {
    "duration": 0,
    "start_time": "2024-12-08T13:08:08.580Z"
   },
   {
    "duration": 0,
    "start_time": "2024-12-08T13:08:08.581Z"
   },
   {
    "duration": 0,
    "start_time": "2024-12-08T13:08:08.582Z"
   },
   {
    "duration": 0,
    "start_time": "2024-12-08T13:08:08.583Z"
   },
   {
    "duration": 0,
    "start_time": "2024-12-08T13:08:08.584Z"
   },
   {
    "duration": 0,
    "start_time": "2024-12-08T13:08:08.585Z"
   },
   {
    "duration": 0,
    "start_time": "2024-12-08T13:08:08.586Z"
   },
   {
    "duration": 0,
    "start_time": "2024-12-08T13:08:08.587Z"
   },
   {
    "duration": 0,
    "start_time": "2024-12-08T13:08:08.588Z"
   },
   {
    "duration": 0,
    "start_time": "2024-12-08T13:08:08.590Z"
   },
   {
    "duration": 0,
    "start_time": "2024-12-08T13:08:08.591Z"
   },
   {
    "duration": 0,
    "start_time": "2024-12-08T13:08:08.592Z"
   },
   {
    "duration": 0,
    "start_time": "2024-12-08T13:08:08.593Z"
   },
   {
    "duration": 0,
    "start_time": "2024-12-08T13:08:08.594Z"
   },
   {
    "duration": 0,
    "start_time": "2024-12-08T13:08:08.595Z"
   },
   {
    "duration": 0,
    "start_time": "2024-12-08T13:08:08.669Z"
   },
   {
    "duration": 0,
    "start_time": "2024-12-08T13:08:08.671Z"
   },
   {
    "duration": 0,
    "start_time": "2024-12-08T13:08:08.672Z"
   },
   {
    "duration": 0,
    "start_time": "2024-12-08T13:08:08.673Z"
   },
   {
    "duration": 0,
    "start_time": "2024-12-08T13:08:08.674Z"
   },
   {
    "duration": 0,
    "start_time": "2024-12-08T13:08:08.675Z"
   },
   {
    "duration": 0,
    "start_time": "2024-12-08T13:08:08.677Z"
   },
   {
    "duration": 0,
    "start_time": "2024-12-08T13:08:08.678Z"
   },
   {
    "duration": 0,
    "start_time": "2024-12-08T13:08:08.678Z"
   },
   {
    "duration": 0,
    "start_time": "2024-12-08T13:08:08.680Z"
   },
   {
    "duration": 0,
    "start_time": "2024-12-08T13:08:08.681Z"
   },
   {
    "duration": 0,
    "start_time": "2024-12-08T13:08:08.682Z"
   },
   {
    "duration": 0,
    "start_time": "2024-12-08T13:08:08.683Z"
   },
   {
    "duration": 0,
    "start_time": "2024-12-08T13:08:08.684Z"
   },
   {
    "duration": 0,
    "start_time": "2024-12-08T13:08:08.685Z"
   },
   {
    "duration": 0,
    "start_time": "2024-12-08T13:08:08.686Z"
   },
   {
    "duration": 0,
    "start_time": "2024-12-08T13:08:08.687Z"
   },
   {
    "duration": 0,
    "start_time": "2024-12-08T13:08:08.689Z"
   },
   {
    "duration": 0,
    "start_time": "2024-12-08T13:08:08.690Z"
   },
   {
    "duration": 0,
    "start_time": "2024-12-08T13:08:08.691Z"
   },
   {
    "duration": 0,
    "start_time": "2024-12-08T13:08:08.692Z"
   },
   {
    "duration": 0,
    "start_time": "2024-12-08T13:08:08.693Z"
   },
   {
    "duration": 0,
    "start_time": "2024-12-08T13:08:08.694Z"
   },
   {
    "duration": 0,
    "start_time": "2024-12-08T13:08:08.695Z"
   },
   {
    "duration": 0,
    "start_time": "2024-12-08T13:08:08.769Z"
   },
   {
    "duration": 0,
    "start_time": "2024-12-08T13:08:08.771Z"
   },
   {
    "duration": 0,
    "start_time": "2024-12-08T13:08:08.772Z"
   },
   {
    "duration": 0,
    "start_time": "2024-12-08T13:08:08.773Z"
   },
   {
    "duration": 0,
    "start_time": "2024-12-08T13:08:08.774Z"
   },
   {
    "duration": 0,
    "start_time": "2024-12-08T13:08:08.775Z"
   },
   {
    "duration": 0,
    "start_time": "2024-12-08T13:08:08.776Z"
   },
   {
    "duration": 0,
    "start_time": "2024-12-08T13:08:08.777Z"
   },
   {
    "duration": 0,
    "start_time": "2024-12-08T13:08:08.778Z"
   },
   {
    "duration": 0,
    "start_time": "2024-12-08T13:08:08.779Z"
   },
   {
    "duration": 0,
    "start_time": "2024-12-08T13:08:08.780Z"
   },
   {
    "duration": 0,
    "start_time": "2024-12-08T13:08:08.781Z"
   },
   {
    "duration": 1,
    "start_time": "2024-12-08T13:08:08.782Z"
   },
   {
    "duration": 0,
    "start_time": "2024-12-08T13:08:08.784Z"
   },
   {
    "duration": 0,
    "start_time": "2024-12-08T13:08:08.785Z"
   },
   {
    "duration": 0,
    "start_time": "2024-12-08T13:08:08.786Z"
   },
   {
    "duration": 0,
    "start_time": "2024-12-08T13:08:08.787Z"
   },
   {
    "duration": 0,
    "start_time": "2024-12-08T13:08:08.788Z"
   },
   {
    "duration": 0,
    "start_time": "2024-12-08T13:08:08.789Z"
   },
   {
    "duration": 0,
    "start_time": "2024-12-08T13:08:08.790Z"
   },
   {
    "duration": 0,
    "start_time": "2024-12-08T13:08:08.792Z"
   },
   {
    "duration": 0,
    "start_time": "2024-12-08T13:08:08.793Z"
   },
   {
    "duration": 0,
    "start_time": "2024-12-08T13:08:08.870Z"
   },
   {
    "duration": 0,
    "start_time": "2024-12-08T13:08:08.872Z"
   },
   {
    "duration": 0,
    "start_time": "2024-12-08T13:08:08.873Z"
   },
   {
    "duration": 0,
    "start_time": "2024-12-08T13:08:08.874Z"
   },
   {
    "duration": 0,
    "start_time": "2024-12-08T13:08:08.876Z"
   },
   {
    "duration": 0,
    "start_time": "2024-12-08T13:08:08.877Z"
   },
   {
    "duration": 0,
    "start_time": "2024-12-08T13:08:08.879Z"
   },
   {
    "duration": 0,
    "start_time": "2024-12-08T13:08:08.880Z"
   },
   {
    "duration": 1,
    "start_time": "2024-12-08T13:08:08.881Z"
   },
   {
    "duration": 0,
    "start_time": "2024-12-08T13:08:08.883Z"
   },
   {
    "duration": 0,
    "start_time": "2024-12-08T13:08:08.884Z"
   },
   {
    "duration": 0,
    "start_time": "2024-12-08T13:08:08.886Z"
   },
   {
    "duration": 0,
    "start_time": "2024-12-08T13:08:08.887Z"
   },
   {
    "duration": 0,
    "start_time": "2024-12-08T13:08:08.889Z"
   },
   {
    "duration": 0,
    "start_time": "2024-12-08T13:08:08.890Z"
   },
   {
    "duration": 0,
    "start_time": "2024-12-08T13:08:08.891Z"
   },
   {
    "duration": 0,
    "start_time": "2024-12-08T13:08:08.893Z"
   },
   {
    "duration": 0,
    "start_time": "2024-12-08T13:08:08.968Z"
   },
   {
    "duration": 0,
    "start_time": "2024-12-08T13:08:08.970Z"
   },
   {
    "duration": 0,
    "start_time": "2024-12-08T13:08:08.972Z"
   },
   {
    "duration": 0,
    "start_time": "2024-12-08T13:08:08.973Z"
   },
   {
    "duration": 0,
    "start_time": "2024-12-08T13:08:08.975Z"
   },
   {
    "duration": 0,
    "start_time": "2024-12-08T13:08:08.976Z"
   },
   {
    "duration": 0,
    "start_time": "2024-12-08T13:08:08.978Z"
   },
   {
    "duration": 0,
    "start_time": "2024-12-08T13:08:08.979Z"
   },
   {
    "duration": 0,
    "start_time": "2024-12-08T13:08:08.980Z"
   },
   {
    "duration": 0,
    "start_time": "2024-12-08T13:08:08.982Z"
   },
   {
    "duration": 24833,
    "start_time": "2024-12-08T13:42:26.756Z"
   },
   {
    "duration": 2543,
    "start_time": "2024-12-08T13:42:51.592Z"
   },
   {
    "duration": 2431,
    "start_time": "2024-12-08T13:42:54.137Z"
   },
   {
    "duration": 3105,
    "start_time": "2024-12-08T13:42:56.570Z"
   },
   {
    "duration": 2536,
    "start_time": "2024-12-08T13:42:59.677Z"
   },
   {
    "duration": 3,
    "start_time": "2024-12-08T13:43:02.215Z"
   },
   {
    "duration": 1388,
    "start_time": "2024-12-08T13:43:02.219Z"
   },
   {
    "duration": 2,
    "start_time": "2024-12-08T13:43:03.608Z"
   },
   {
    "duration": 14,
    "start_time": "2024-12-08T13:43:03.612Z"
   },
   {
    "duration": 178,
    "start_time": "2024-12-08T13:43:03.629Z"
   },
   {
    "duration": 298,
    "start_time": "2024-12-08T13:43:03.808Z"
   },
   {
    "duration": 34,
    "start_time": "2024-12-08T13:43:04.108Z"
   },
   {
    "duration": 140,
    "start_time": "2024-12-08T13:43:04.143Z"
   },
   {
    "duration": 4,
    "start_time": "2024-12-08T13:43:04.285Z"
   },
   {
    "duration": 437,
    "start_time": "2024-12-08T13:43:04.290Z"
   },
   {
    "duration": 312,
    "start_time": "2024-12-08T13:43:04.728Z"
   },
   {
    "duration": 696,
    "start_time": "2024-12-08T13:43:05.042Z"
   },
   {
    "duration": 21,
    "start_time": "2024-12-08T13:43:05.740Z"
   },
   {
    "duration": 30,
    "start_time": "2024-12-08T13:43:05.762Z"
   },
   {
    "duration": 99,
    "start_time": "2024-12-08T13:43:05.793Z"
   },
   {
    "duration": 46,
    "start_time": "2024-12-08T13:43:05.893Z"
   },
   {
    "duration": 22,
    "start_time": "2024-12-08T13:43:05.941Z"
   },
   {
    "duration": 41,
    "start_time": "2024-12-08T13:43:05.964Z"
   },
   {
    "duration": 25,
    "start_time": "2024-12-08T13:43:06.007Z"
   },
   {
    "duration": 26,
    "start_time": "2024-12-08T13:43:06.033Z"
   },
   {
    "duration": 47,
    "start_time": "2024-12-08T13:43:06.061Z"
   },
   {
    "duration": 17,
    "start_time": "2024-12-08T13:43:06.110Z"
   },
   {
    "duration": 95,
    "start_time": "2024-12-08T13:43:06.132Z"
   },
   {
    "duration": 4,
    "start_time": "2024-12-08T13:43:06.229Z"
   },
   {
    "duration": 100,
    "start_time": "2024-12-08T13:43:06.234Z"
   },
   {
    "duration": 5,
    "start_time": "2024-12-08T13:43:06.336Z"
   },
   {
    "duration": 1060,
    "start_time": "2024-12-08T13:43:06.343Z"
   },
   {
    "duration": 22,
    "start_time": "2024-12-08T13:43:07.405Z"
   },
   {
    "duration": 21,
    "start_time": "2024-12-08T13:43:07.429Z"
   },
   {
    "duration": 836,
    "start_time": "2024-12-08T13:43:07.452Z"
   },
   {
    "duration": 39,
    "start_time": "2024-12-08T13:43:08.289Z"
   },
   {
    "duration": 1310,
    "start_time": "2024-12-08T13:43:08.330Z"
   },
   {
    "duration": 10,
    "start_time": "2024-12-08T13:43:09.641Z"
   },
   {
    "duration": 5,
    "start_time": "2024-12-08T13:43:09.652Z"
   },
   {
    "duration": 79,
    "start_time": "2024-12-08T13:43:09.658Z"
   },
   {
    "duration": 908,
    "start_time": "2024-12-08T13:43:09.738Z"
   },
   {
    "duration": 738,
    "start_time": "2024-12-08T13:43:10.648Z"
   },
   {
    "duration": 23,
    "start_time": "2024-12-08T13:43:11.388Z"
   },
   {
    "duration": 85,
    "start_time": "2024-12-08T13:43:11.413Z"
   },
   {
    "duration": 232,
    "start_time": "2024-12-08T13:43:11.500Z"
   },
   {
    "duration": 206,
    "start_time": "2024-12-08T13:43:11.733Z"
   },
   {
    "duration": 202,
    "start_time": "2024-12-08T13:43:11.941Z"
   },
   {
    "duration": 394,
    "start_time": "2024-12-08T13:43:12.145Z"
   },
   {
    "duration": 602,
    "start_time": "2024-12-08T13:43:12.541Z"
   },
   {
    "duration": 4571,
    "start_time": "2024-12-08T13:43:13.144Z"
   },
   {
    "duration": 1072,
    "start_time": "2024-12-08T13:43:17.716Z"
   },
   {
    "duration": 80,
    "start_time": "2024-12-08T13:43:18.789Z"
   },
   {
    "duration": 72,
    "start_time": "2024-12-08T13:43:18.870Z"
   },
   {
    "duration": 56,
    "start_time": "2024-12-08T13:43:18.943Z"
   },
   {
    "duration": 99,
    "start_time": "2024-12-08T13:43:19.000Z"
   },
   {
    "duration": 194,
    "start_time": "2024-12-08T13:43:19.101Z"
   },
   {
    "duration": 3,
    "start_time": "2024-12-08T13:43:19.296Z"
   },
   {
    "duration": 56,
    "start_time": "2024-12-08T13:43:19.301Z"
   },
   {
    "duration": 12,
    "start_time": "2024-12-08T13:43:19.359Z"
   },
   {
    "duration": 12,
    "start_time": "2024-12-08T13:43:19.373Z"
   },
   {
    "duration": 5558,
    "start_time": "2024-12-08T13:43:19.387Z"
   },
   {
    "duration": 0,
    "start_time": "2024-12-08T13:43:24.947Z"
   },
   {
    "duration": 0,
    "start_time": "2024-12-08T13:43:24.948Z"
   },
   {
    "duration": 0,
    "start_time": "2024-12-08T13:43:24.948Z"
   },
   {
    "duration": 0,
    "start_time": "2024-12-08T13:43:24.949Z"
   },
   {
    "duration": 0,
    "start_time": "2024-12-08T13:43:24.950Z"
   },
   {
    "duration": 0,
    "start_time": "2024-12-08T13:43:24.952Z"
   },
   {
    "duration": 0,
    "start_time": "2024-12-08T13:43:24.953Z"
   },
   {
    "duration": 0,
    "start_time": "2024-12-08T13:43:24.954Z"
   },
   {
    "duration": 0,
    "start_time": "2024-12-08T13:43:24.955Z"
   },
   {
    "duration": 0,
    "start_time": "2024-12-08T13:43:24.956Z"
   },
   {
    "duration": 0,
    "start_time": "2024-12-08T13:43:24.957Z"
   },
   {
    "duration": 0,
    "start_time": "2024-12-08T13:43:24.958Z"
   },
   {
    "duration": 0,
    "start_time": "2024-12-08T13:43:24.959Z"
   },
   {
    "duration": 0,
    "start_time": "2024-12-08T13:43:24.960Z"
   },
   {
    "duration": 0,
    "start_time": "2024-12-08T13:43:24.961Z"
   },
   {
    "duration": 0,
    "start_time": "2024-12-08T13:43:24.962Z"
   },
   {
    "duration": 0,
    "start_time": "2024-12-08T13:43:24.963Z"
   },
   {
    "duration": 0,
    "start_time": "2024-12-08T13:43:24.964Z"
   },
   {
    "duration": 0,
    "start_time": "2024-12-08T13:43:24.965Z"
   },
   {
    "duration": 0,
    "start_time": "2024-12-08T13:43:24.967Z"
   },
   {
    "duration": 0,
    "start_time": "2024-12-08T13:43:24.968Z"
   },
   {
    "duration": 0,
    "start_time": "2024-12-08T13:43:24.969Z"
   },
   {
    "duration": 0,
    "start_time": "2024-12-08T13:43:24.970Z"
   },
   {
    "duration": 0,
    "start_time": "2024-12-08T13:43:24.971Z"
   },
   {
    "duration": 0,
    "start_time": "2024-12-08T13:43:24.972Z"
   },
   {
    "duration": 0,
    "start_time": "2024-12-08T13:43:24.973Z"
   },
   {
    "duration": 0,
    "start_time": "2024-12-08T13:43:24.974Z"
   },
   {
    "duration": 0,
    "start_time": "2024-12-08T13:43:25.027Z"
   },
   {
    "duration": 0,
    "start_time": "2024-12-08T13:43:25.028Z"
   },
   {
    "duration": 0,
    "start_time": "2024-12-08T13:43:25.030Z"
   },
   {
    "duration": 0,
    "start_time": "2024-12-08T13:43:25.031Z"
   },
   {
    "duration": 10,
    "start_time": "2024-12-08T13:52:27.782Z"
   },
   {
    "duration": 5375,
    "start_time": "2024-12-08T13:57:37.396Z"
   },
   {
    "duration": 2435,
    "start_time": "2024-12-08T13:57:42.774Z"
   },
   {
    "duration": 2397,
    "start_time": "2024-12-08T13:57:45.211Z"
   },
   {
    "duration": 2406,
    "start_time": "2024-12-08T13:57:47.611Z"
   },
   {
    "duration": 1457,
    "start_time": "2024-12-08T13:57:50.018Z"
   },
   {
    "duration": 3,
    "start_time": "2024-12-08T13:57:51.476Z"
   },
   {
    "duration": 860,
    "start_time": "2024-12-08T13:57:51.480Z"
   },
   {
    "duration": 3,
    "start_time": "2024-12-08T13:57:52.341Z"
   },
   {
    "duration": 15,
    "start_time": "2024-12-08T13:57:52.345Z"
   },
   {
    "duration": 164,
    "start_time": "2024-12-08T13:57:52.363Z"
   },
   {
    "duration": 256,
    "start_time": "2024-12-08T13:57:52.528Z"
   },
   {
    "duration": 29,
    "start_time": "2024-12-08T13:57:52.786Z"
   },
   {
    "duration": 104,
    "start_time": "2024-12-08T13:57:52.826Z"
   },
   {
    "duration": 4,
    "start_time": "2024-12-08T13:57:52.931Z"
   },
   {
    "duration": 366,
    "start_time": "2024-12-08T13:57:52.937Z"
   },
   {
    "duration": 289,
    "start_time": "2024-12-08T13:57:53.305Z"
   },
   {
    "duration": 677,
    "start_time": "2024-12-08T13:57:53.595Z"
   },
   {
    "duration": 21,
    "start_time": "2024-12-08T13:57:54.273Z"
   },
   {
    "duration": 20,
    "start_time": "2024-12-08T13:57:54.295Z"
   },
   {
    "duration": 30,
    "start_time": "2024-12-08T13:57:54.326Z"
   },
   {
    "duration": 15,
    "start_time": "2024-12-08T13:57:54.357Z"
   },
   {
    "duration": 20,
    "start_time": "2024-12-08T13:57:54.373Z"
   },
   {
    "duration": 43,
    "start_time": "2024-12-08T13:57:54.395Z"
   },
   {
    "duration": 20,
    "start_time": "2024-12-08T13:57:54.439Z"
   },
   {
    "duration": 21,
    "start_time": "2024-12-08T13:57:54.461Z"
   },
   {
    "duration": 20,
    "start_time": "2024-12-08T13:57:54.484Z"
   },
   {
    "duration": 25,
    "start_time": "2024-12-08T13:57:54.505Z"
   },
   {
    "duration": 105,
    "start_time": "2024-12-08T13:57:54.605Z"
   },
   {
    "duration": 6,
    "start_time": "2024-12-08T13:57:54.712Z"
   },
   {
    "duration": 88,
    "start_time": "2024-12-08T13:57:54.727Z"
   },
   {
    "duration": 14,
    "start_time": "2024-12-08T13:57:54.816Z"
   },
   {
    "duration": 910,
    "start_time": "2024-12-08T13:57:54.831Z"
   },
   {
    "duration": 13,
    "start_time": "2024-12-08T13:57:55.743Z"
   },
   {
    "duration": 20,
    "start_time": "2024-12-08T13:57:55.758Z"
   },
   {
    "duration": 809,
    "start_time": "2024-12-08T13:57:55.780Z"
   },
   {
    "duration": 44,
    "start_time": "2024-12-08T13:57:56.590Z"
   },
   {
    "duration": 751,
    "start_time": "2024-12-08T13:57:56.636Z"
   },
   {
    "duration": 9,
    "start_time": "2024-12-08T13:57:57.389Z"
   },
   {
    "duration": 9,
    "start_time": "2024-12-08T13:57:57.399Z"
   },
   {
    "duration": 41,
    "start_time": "2024-12-08T13:57:57.409Z"
   },
   {
    "duration": 748,
    "start_time": "2024-12-08T13:57:57.452Z"
   },
   {
    "duration": 690,
    "start_time": "2024-12-08T13:57:58.202Z"
   },
   {
    "duration": 34,
    "start_time": "2024-12-08T13:57:58.893Z"
   },
   {
    "duration": 69,
    "start_time": "2024-12-08T13:57:58.929Z"
   },
   {
    "duration": 229,
    "start_time": "2024-12-08T13:57:59.000Z"
   },
   {
    "duration": 209,
    "start_time": "2024-12-08T13:57:59.231Z"
   },
   {
    "duration": 217,
    "start_time": "2024-12-08T13:57:59.442Z"
   },
   {
    "duration": 287,
    "start_time": "2024-12-08T13:57:59.728Z"
   },
   {
    "duration": 545,
    "start_time": "2024-12-08T13:58:00.017Z"
   },
   {
    "duration": 4450,
    "start_time": "2024-12-08T13:58:00.564Z"
   },
   {
    "duration": 1036,
    "start_time": "2024-12-08T13:58:05.016Z"
   },
   {
    "duration": 81,
    "start_time": "2024-12-08T13:58:06.053Z"
   },
   {
    "duration": 62,
    "start_time": "2024-12-08T13:58:06.136Z"
   },
   {
    "duration": 66,
    "start_time": "2024-12-08T13:58:06.200Z"
   },
   {
    "duration": 100,
    "start_time": "2024-12-08T13:58:06.268Z"
   },
   {
    "duration": 196,
    "start_time": "2024-12-08T13:58:06.370Z"
   },
   {
    "duration": 3,
    "start_time": "2024-12-08T13:58:06.568Z"
   },
   {
    "duration": 55,
    "start_time": "2024-12-08T13:58:06.573Z"
   },
   {
    "duration": 7,
    "start_time": "2024-12-08T13:58:06.630Z"
   },
   {
    "duration": 10,
    "start_time": "2024-12-08T13:58:06.639Z"
   },
   {
    "duration": 131,
    "start_time": "2024-12-08T13:58:06.650Z"
   },
   {
    "duration": 0,
    "start_time": "2024-12-08T13:58:06.783Z"
   },
   {
    "duration": 0,
    "start_time": "2024-12-08T13:58:06.784Z"
   },
   {
    "duration": 0,
    "start_time": "2024-12-08T13:58:06.786Z"
   },
   {
    "duration": 0,
    "start_time": "2024-12-08T13:58:06.786Z"
   },
   {
    "duration": 0,
    "start_time": "2024-12-08T13:58:06.788Z"
   },
   {
    "duration": 0,
    "start_time": "2024-12-08T13:58:06.789Z"
   },
   {
    "duration": 0,
    "start_time": "2024-12-08T13:58:06.790Z"
   },
   {
    "duration": 0,
    "start_time": "2024-12-08T13:58:06.791Z"
   },
   {
    "duration": 0,
    "start_time": "2024-12-08T13:58:06.792Z"
   },
   {
    "duration": 0,
    "start_time": "2024-12-08T13:58:06.793Z"
   },
   {
    "duration": 0,
    "start_time": "2024-12-08T13:58:06.795Z"
   },
   {
    "duration": 0,
    "start_time": "2024-12-08T13:58:06.796Z"
   },
   {
    "duration": 0,
    "start_time": "2024-12-08T13:58:06.797Z"
   },
   {
    "duration": 0,
    "start_time": "2024-12-08T13:58:06.798Z"
   },
   {
    "duration": 0,
    "start_time": "2024-12-08T13:58:06.827Z"
   },
   {
    "duration": 0,
    "start_time": "2024-12-08T13:58:06.829Z"
   },
   {
    "duration": 0,
    "start_time": "2024-12-08T13:58:06.830Z"
   },
   {
    "duration": 0,
    "start_time": "2024-12-08T13:58:06.831Z"
   },
   {
    "duration": 0,
    "start_time": "2024-12-08T13:58:06.832Z"
   },
   {
    "duration": 0,
    "start_time": "2024-12-08T13:58:06.833Z"
   },
   {
    "duration": 0,
    "start_time": "2024-12-08T13:58:06.835Z"
   },
   {
    "duration": 0,
    "start_time": "2024-12-08T13:58:06.836Z"
   },
   {
    "duration": 0,
    "start_time": "2024-12-08T13:58:06.837Z"
   },
   {
    "duration": 0,
    "start_time": "2024-12-08T13:58:06.838Z"
   },
   {
    "duration": 0,
    "start_time": "2024-12-08T13:58:06.840Z"
   },
   {
    "duration": 0,
    "start_time": "2024-12-08T13:58:06.841Z"
   },
   {
    "duration": 0,
    "start_time": "2024-12-08T13:58:06.843Z"
   },
   {
    "duration": 0,
    "start_time": "2024-12-08T13:58:06.844Z"
   },
   {
    "duration": 0,
    "start_time": "2024-12-08T13:58:06.845Z"
   },
   {
    "duration": 0,
    "start_time": "2024-12-08T13:58:06.846Z"
   },
   {
    "duration": 0,
    "start_time": "2024-12-08T13:58:06.847Z"
   },
   {
    "duration": 15,
    "start_time": "2024-12-08T14:01:40.123Z"
   },
   {
    "duration": 5701,
    "start_time": "2024-12-08T14:02:21.087Z"
   },
   {
    "duration": 1832,
    "start_time": "2024-12-08T14:02:32.927Z"
   },
   {
    "duration": 1903,
    "start_time": "2024-12-08T14:05:46.815Z"
   },
   {
    "duration": 5519,
    "start_time": "2024-12-08T14:07:16.371Z"
   },
   {
    "duration": 5316,
    "start_time": "2024-12-08T14:15:22.248Z"
   },
   {
    "duration": 2445,
    "start_time": "2024-12-08T14:15:27.566Z"
   },
   {
    "duration": 2495,
    "start_time": "2024-12-08T14:15:30.014Z"
   },
   {
    "duration": 2484,
    "start_time": "2024-12-08T14:15:32.511Z"
   },
   {
    "duration": 5,
    "start_time": "2024-12-08T14:15:34.997Z"
   },
   {
    "duration": 18,
    "start_time": "2024-12-08T14:15:35.003Z"
   },
   {
    "duration": 928,
    "start_time": "2024-12-08T14:15:35.022Z"
   },
   {
    "duration": 3,
    "start_time": "2024-12-08T14:15:35.951Z"
   },
   {
    "duration": 35,
    "start_time": "2024-12-08T14:15:35.956Z"
   },
   {
    "duration": 162,
    "start_time": "2024-12-08T14:15:35.993Z"
   },
   {
    "duration": 233,
    "start_time": "2024-12-08T14:15:36.156Z"
   },
   {
    "duration": 22,
    "start_time": "2024-12-08T14:15:36.391Z"
   },
   {
    "duration": 119,
    "start_time": "2024-12-08T14:15:36.415Z"
   },
   {
    "duration": 5,
    "start_time": "2024-12-08T14:15:36.536Z"
   },
   {
    "duration": 390,
    "start_time": "2024-12-08T14:15:36.542Z"
   },
   {
    "duration": 294,
    "start_time": "2024-12-08T14:15:36.933Z"
   },
   {
    "duration": 640,
    "start_time": "2024-12-08T14:15:37.229Z"
   },
   {
    "duration": 24,
    "start_time": "2024-12-08T14:15:37.871Z"
   },
   {
    "duration": 45,
    "start_time": "2024-12-08T14:15:37.896Z"
   },
   {
    "duration": 34,
    "start_time": "2024-12-08T14:15:37.943Z"
   },
   {
    "duration": 22,
    "start_time": "2024-12-08T14:15:37.979Z"
   },
   {
    "duration": 37,
    "start_time": "2024-12-08T14:15:38.003Z"
   },
   {
    "duration": 49,
    "start_time": "2024-12-08T14:15:38.042Z"
   },
   {
    "duration": 60,
    "start_time": "2024-12-08T14:15:38.093Z"
   },
   {
    "duration": 80,
    "start_time": "2024-12-08T14:15:38.155Z"
   },
   {
    "duration": 30,
    "start_time": "2024-12-08T14:15:38.237Z"
   },
   {
    "duration": 10,
    "start_time": "2024-12-08T14:15:38.269Z"
   },
   {
    "duration": 105,
    "start_time": "2024-12-08T14:15:38.283Z"
   },
   {
    "duration": 5,
    "start_time": "2024-12-08T14:15:38.389Z"
   },
   {
    "duration": 109,
    "start_time": "2024-12-08T14:15:38.395Z"
   },
   {
    "duration": 8,
    "start_time": "2024-12-08T14:15:38.507Z"
   },
   {
    "duration": 1076,
    "start_time": "2024-12-08T14:15:38.516Z"
   },
   {
    "duration": 13,
    "start_time": "2024-12-08T14:15:39.593Z"
   },
   {
    "duration": 38,
    "start_time": "2024-12-08T14:15:39.607Z"
   },
   {
    "duration": 806,
    "start_time": "2024-12-08T14:15:39.647Z"
   },
   {
    "duration": 33,
    "start_time": "2024-12-08T14:15:40.455Z"
   },
   {
    "duration": 826,
    "start_time": "2024-12-08T14:15:40.490Z"
   },
   {
    "duration": 16,
    "start_time": "2024-12-08T14:15:41.318Z"
   },
   {
    "duration": 4,
    "start_time": "2024-12-08T14:15:41.336Z"
   },
   {
    "duration": 27,
    "start_time": "2024-12-08T14:15:41.342Z"
   },
   {
    "duration": 868,
    "start_time": "2024-12-08T14:15:41.370Z"
   },
   {
    "duration": 766,
    "start_time": "2024-12-08T14:15:42.239Z"
   },
   {
    "duration": 43,
    "start_time": "2024-12-08T14:15:43.006Z"
   },
   {
    "duration": 84,
    "start_time": "2024-12-08T14:15:43.051Z"
   },
   {
    "duration": 292,
    "start_time": "2024-12-08T14:15:43.137Z"
   },
   {
    "duration": 199,
    "start_time": "2024-12-08T14:15:43.430Z"
   },
   {
    "duration": 224,
    "start_time": "2024-12-08T14:15:43.631Z"
   },
   {
    "duration": 311,
    "start_time": "2024-12-08T14:15:43.926Z"
   },
   {
    "duration": 634,
    "start_time": "2024-12-08T14:15:44.239Z"
   },
   {
    "duration": 4627,
    "start_time": "2024-12-08T14:15:44.875Z"
   },
   {
    "duration": 1224,
    "start_time": "2024-12-08T14:15:49.503Z"
   },
   {
    "duration": 100,
    "start_time": "2024-12-08T14:15:50.729Z"
   },
   {
    "duration": 71,
    "start_time": "2024-12-08T14:15:50.831Z"
   },
   {
    "duration": 68,
    "start_time": "2024-12-08T14:15:50.903Z"
   },
   {
    "duration": 105,
    "start_time": "2024-12-08T14:15:50.973Z"
   },
   {
    "duration": 195,
    "start_time": "2024-12-08T14:15:51.080Z"
   },
   {
    "duration": 4,
    "start_time": "2024-12-08T14:15:51.277Z"
   },
   {
    "duration": 60,
    "start_time": "2024-12-08T14:15:51.282Z"
   },
   {
    "duration": 9,
    "start_time": "2024-12-08T14:15:51.345Z"
   },
   {
    "duration": 15,
    "start_time": "2024-12-08T14:15:51.356Z"
   },
   {
    "duration": 5806,
    "start_time": "2024-12-08T14:16:00.992Z"
   },
   {
    "duration": 5433,
    "start_time": "2024-12-08T14:22:19.123Z"
   },
   {
    "duration": 5296,
    "start_time": "2024-12-08T14:23:02.967Z"
   },
   {
    "duration": 10,
    "start_time": "2024-12-08T14:24:30.424Z"
   },
   {
    "duration": 5342,
    "start_time": "2024-12-08T14:24:32.386Z"
   },
   {
    "duration": 9,
    "start_time": "2024-12-08T14:25:03.645Z"
   },
   {
    "duration": 147,
    "start_time": "2024-12-08T14:25:19.151Z"
   },
   {
    "duration": 46,
    "start_time": "2024-12-08T14:25:42.007Z"
   },
   {
    "duration": 4,
    "start_time": "2024-12-08T14:25:47.791Z"
   },
   {
    "duration": 2,
    "start_time": "2024-12-08T14:25:57.235Z"
   },
   {
    "duration": 2,
    "start_time": "2024-12-08T14:25:57.403Z"
   },
   {
    "duration": 3,
    "start_time": "2024-12-08T14:25:57.622Z"
   },
   {
    "duration": 3,
    "start_time": "2024-12-08T14:26:01.775Z"
   },
   {
    "duration": 3,
    "start_time": "2024-12-08T14:26:06.024Z"
   },
   {
    "duration": 2,
    "start_time": "2024-12-08T14:26:07.472Z"
   },
   {
    "duration": 8,
    "start_time": "2024-12-08T14:26:11.992Z"
   },
   {
    "duration": 1263,
    "start_time": "2024-12-08T14:26:25.964Z"
   },
   {
    "duration": 4,
    "start_time": "2024-12-08T14:26:28.773Z"
   },
   {
    "duration": 6,
    "start_time": "2024-12-08T14:26:29.478Z"
   },
   {
    "duration": 2,
    "start_time": "2024-12-08T14:26:33.305Z"
   },
   {
    "duration": 2,
    "start_time": "2024-12-08T14:26:36.260Z"
   },
   {
    "duration": 8880,
    "start_time": "2024-12-08T14:26:47.400Z"
   },
   {
    "duration": 5,
    "start_time": "2024-12-08T14:27:23.785Z"
   },
   {
    "duration": 5,
    "start_time": "2024-12-08T14:27:24.442Z"
   },
   {
    "duration": 3,
    "start_time": "2024-12-08T14:27:31.346Z"
   },
   {
    "duration": 32,
    "start_time": "2024-12-08T14:27:36.326Z"
   },
   {
    "duration": 3,
    "start_time": "2024-12-08T14:27:38.711Z"
   },
   {
    "duration": 769101,
    "start_time": "2024-12-08T14:27:45.525Z"
   },
   {
    "duration": 116,
    "start_time": "2024-12-08T14:40:34.629Z"
   },
   {
    "duration": 11,
    "start_time": "2024-12-08T14:45:47.955Z"
   },
   {
    "duration": 5367,
    "start_time": "2024-12-08T14:46:10.968Z"
   },
   {
    "duration": 4,
    "start_time": "2024-12-08T14:46:46.804Z"
   },
   {
    "duration": 5144,
    "start_time": "2024-12-08T14:47:06.281Z"
   },
   {
    "duration": 2377,
    "start_time": "2024-12-08T14:47:11.428Z"
   },
   {
    "duration": 2322,
    "start_time": "2024-12-08T14:47:13.807Z"
   },
   {
    "duration": 2319,
    "start_time": "2024-12-08T14:47:16.131Z"
   },
   {
    "duration": 5,
    "start_time": "2024-12-08T14:47:18.451Z"
   },
   {
    "duration": 10,
    "start_time": "2024-12-08T14:47:18.458Z"
   },
   {
    "duration": 752,
    "start_time": "2024-12-08T14:47:18.469Z"
   },
   {
    "duration": 5,
    "start_time": "2024-12-08T14:47:19.222Z"
   },
   {
    "duration": 30,
    "start_time": "2024-12-08T14:47:19.228Z"
   },
   {
    "duration": 158,
    "start_time": "2024-12-08T14:47:19.260Z"
   },
   {
    "duration": 231,
    "start_time": "2024-12-08T14:47:19.426Z"
   },
   {
    "duration": 20,
    "start_time": "2024-12-08T14:47:19.659Z"
   },
   {
    "duration": 120,
    "start_time": "2024-12-08T14:47:19.680Z"
   },
   {
    "duration": 4,
    "start_time": "2024-12-08T14:47:19.801Z"
   },
   {
    "duration": 323,
    "start_time": "2024-12-08T14:47:19.806Z"
   },
   {
    "duration": 239,
    "start_time": "2024-12-08T14:47:20.131Z"
   },
   {
    "duration": 577,
    "start_time": "2024-12-08T14:47:20.371Z"
   },
   {
    "duration": 19,
    "start_time": "2024-12-08T14:47:20.950Z"
   },
   {
    "duration": 24,
    "start_time": "2024-12-08T14:47:20.971Z"
   },
   {
    "duration": 35,
    "start_time": "2024-12-08T14:47:20.997Z"
   },
   {
    "duration": 24,
    "start_time": "2024-12-08T14:47:21.033Z"
   },
   {
    "duration": 20,
    "start_time": "2024-12-08T14:47:21.059Z"
   },
   {
    "duration": 40,
    "start_time": "2024-12-08T14:47:21.080Z"
   },
   {
    "duration": 20,
    "start_time": "2024-12-08T14:47:21.121Z"
   },
   {
    "duration": 32,
    "start_time": "2024-12-08T14:47:21.142Z"
   },
   {
    "duration": 63,
    "start_time": "2024-12-08T14:47:21.175Z"
   },
   {
    "duration": 19,
    "start_time": "2024-12-08T14:47:21.239Z"
   },
   {
    "duration": 91,
    "start_time": "2024-12-08T14:47:21.262Z"
   },
   {
    "duration": 4,
    "start_time": "2024-12-08T14:47:21.355Z"
   },
   {
    "duration": 90,
    "start_time": "2024-12-08T14:47:21.360Z"
   },
   {
    "duration": 5,
    "start_time": "2024-12-08T14:47:21.451Z"
   },
   {
    "duration": 954,
    "start_time": "2024-12-08T14:47:21.458Z"
   },
   {
    "duration": 16,
    "start_time": "2024-12-08T14:47:22.413Z"
   },
   {
    "duration": 28,
    "start_time": "2024-12-08T14:47:22.431Z"
   },
   {
    "duration": 772,
    "start_time": "2024-12-08T14:47:22.461Z"
   },
   {
    "duration": 22,
    "start_time": "2024-12-08T14:47:23.234Z"
   },
   {
    "duration": 749,
    "start_time": "2024-12-08T14:47:23.257Z"
   },
   {
    "duration": 19,
    "start_time": "2024-12-08T14:47:24.008Z"
   },
   {
    "duration": 10,
    "start_time": "2024-12-08T14:47:24.028Z"
   },
   {
    "duration": 22,
    "start_time": "2024-12-08T14:47:24.040Z"
   },
   {
    "duration": 824,
    "start_time": "2024-12-08T14:47:24.063Z"
   },
   {
    "duration": 722,
    "start_time": "2024-12-08T14:47:24.889Z"
   },
   {
    "duration": 19,
    "start_time": "2024-12-08T14:47:25.626Z"
   },
   {
    "duration": 69,
    "start_time": "2024-12-08T14:47:25.647Z"
   },
   {
    "duration": 223,
    "start_time": "2024-12-08T14:47:25.717Z"
   },
   {
    "duration": 287,
    "start_time": "2024-12-08T14:47:25.943Z"
   },
   {
    "duration": 210,
    "start_time": "2024-12-08T14:47:26.232Z"
   },
   {
    "duration": 378,
    "start_time": "2024-12-08T14:47:26.444Z"
   },
   {
    "duration": 495,
    "start_time": "2024-12-08T14:47:26.827Z"
   },
   {
    "duration": 4351,
    "start_time": "2024-12-08T14:47:27.324Z"
   },
   {
    "duration": 994,
    "start_time": "2024-12-08T14:47:31.677Z"
   },
   {
    "duration": 93,
    "start_time": "2024-12-08T14:47:32.672Z"
   },
   {
    "duration": 67,
    "start_time": "2024-12-08T14:47:32.767Z"
   },
   {
    "duration": 55,
    "start_time": "2024-12-08T14:47:32.835Z"
   },
   {
    "duration": 98,
    "start_time": "2024-12-08T14:47:32.891Z"
   },
   {
    "duration": 178,
    "start_time": "2024-12-08T14:47:32.990Z"
   },
   {
    "duration": 4,
    "start_time": "2024-12-08T14:47:33.169Z"
   },
   {
    "duration": 56,
    "start_time": "2024-12-08T14:47:33.174Z"
   },
   {
    "duration": 9,
    "start_time": "2024-12-08T14:47:33.232Z"
   },
   {
    "duration": 10,
    "start_time": "2024-12-08T14:47:33.243Z"
   },
   {
    "duration": 5342,
    "start_time": "2024-12-08T14:57:09.792Z"
   },
   {
    "duration": 5365,
    "start_time": "2024-12-08T14:57:42.239Z"
   },
   {
    "duration": 92,
    "start_time": "2024-12-08T14:58:57.860Z"
   },
   {
    "duration": 5384,
    "start_time": "2024-12-08T14:59:08.700Z"
   },
   {
    "duration": 151,
    "start_time": "2024-12-08T14:59:33.131Z"
   },
   {
    "duration": 5521,
    "start_time": "2024-12-08T15:01:26.351Z"
   },
   {
    "duration": 5201,
    "start_time": "2024-12-08T15:04:05.757Z"
   },
   {
    "duration": 105,
    "start_time": "2024-12-08T15:06:51.548Z"
   },
   {
    "duration": 118,
    "start_time": "2024-12-08T15:13:14.230Z"
   },
   {
    "duration": 108,
    "start_time": "2024-12-08T15:14:41.451Z"
   },
   {
    "duration": 5370,
    "start_time": "2024-12-08T15:17:02.076Z"
   },
   {
    "duration": 6028,
    "start_time": "2024-12-08T15:24:11.809Z"
   },
   {
    "duration": 5874,
    "start_time": "2024-12-08T15:25:11.432Z"
   },
   {
    "duration": 16,
    "start_time": "2024-12-08T15:28:15.480Z"
   },
   {
    "duration": 3,
    "start_time": "2024-12-08T15:28:48.351Z"
   },
   {
    "duration": 4,
    "start_time": "2024-12-08T15:29:00.312Z"
   },
   {
    "duration": 5474,
    "start_time": "2024-12-08T15:30:30.500Z"
   },
   {
    "duration": 103,
    "start_time": "2024-12-08T15:34:09.820Z"
   },
   {
    "duration": 99,
    "start_time": "2024-12-08T15:34:22.433Z"
   },
   {
    "duration": 5,
    "start_time": "2024-12-08T15:34:24.986Z"
   },
   {
    "duration": 2,
    "start_time": "2024-12-08T15:34:28.649Z"
   },
   {
    "duration": 2,
    "start_time": "2024-12-08T15:34:29.099Z"
   },
   {
    "duration": 2,
    "start_time": "2024-12-08T15:34:29.520Z"
   },
   {
    "duration": 2,
    "start_time": "2024-12-08T15:34:31.566Z"
   },
   {
    "duration": 4,
    "start_time": "2024-12-08T15:34:34.956Z"
   },
   {
    "duration": 3,
    "start_time": "2024-12-08T15:34:35.832Z"
   },
   {
    "duration": 1132,
    "start_time": "2024-12-08T15:34:38.543Z"
   },
   {
    "duration": 3,
    "start_time": "2024-12-08T15:34:40.883Z"
   },
   {
    "duration": 5,
    "start_time": "2024-12-08T15:34:41.772Z"
   },
   {
    "duration": 111,
    "start_time": "2024-12-08T15:38:11.422Z"
   },
   {
    "duration": 8,
    "start_time": "2024-12-08T15:39:04.957Z"
   },
   {
    "duration": 69,
    "start_time": "2024-12-08T15:41:40.076Z"
   },
   {
    "duration": 17,
    "start_time": "2024-12-08T15:42:53.931Z"
   },
   {
    "duration": 5,
    "start_time": "2024-12-08T15:42:57.465Z"
   },
   {
    "duration": 2,
    "start_time": "2024-12-08T15:43:01.370Z"
   },
   {
    "duration": 2,
    "start_time": "2024-12-08T15:43:02.086Z"
   },
   {
    "duration": 3,
    "start_time": "2024-12-08T15:43:02.448Z"
   },
   {
    "duration": 3,
    "start_time": "2024-12-08T15:43:04.530Z"
   },
   {
    "duration": 3,
    "start_time": "2024-12-08T15:43:06.602Z"
   },
   {
    "duration": 3,
    "start_time": "2024-12-08T15:43:10.921Z"
   },
   {
    "duration": 1084,
    "start_time": "2024-12-08T15:43:50.045Z"
   },
   {
    "duration": 5,
    "start_time": "2024-12-08T15:43:52.082Z"
   },
   {
    "duration": 6,
    "start_time": "2024-12-08T15:43:56.222Z"
   },
   {
    "duration": 3,
    "start_time": "2024-12-08T15:44:00.712Z"
   },
   {
    "duration": 3,
    "start_time": "2024-12-08T15:44:02.196Z"
   },
   {
    "duration": 8969,
    "start_time": "2024-12-08T15:44:07.089Z"
   },
   {
    "duration": 4,
    "start_time": "2024-12-08T15:44:18.020Z"
   },
   {
    "duration": 6,
    "start_time": "2024-12-08T15:44:20.251Z"
   },
   {
    "duration": 3,
    "start_time": "2024-12-08T15:44:22.818Z"
   },
   {
    "duration": 3,
    "start_time": "2024-12-08T15:44:23.794Z"
   },
   {
    "duration": 3,
    "start_time": "2024-12-08T15:44:24.706Z"
   },
   {
    "duration": 5153,
    "start_time": "2024-12-08T15:49:18.437Z"
   },
   {
    "duration": 2635,
    "start_time": "2024-12-08T15:49:23.592Z"
   },
   {
    "duration": 2333,
    "start_time": "2024-12-08T15:49:26.229Z"
   },
   {
    "duration": 2368,
    "start_time": "2024-12-08T15:49:28.565Z"
   },
   {
    "duration": 1447,
    "start_time": "2024-12-08T15:49:30.935Z"
   },
   {
    "duration": 2,
    "start_time": "2024-12-08T15:49:32.383Z"
   },
   {
    "duration": 884,
    "start_time": "2024-12-08T15:49:32.387Z"
   },
   {
    "duration": 2,
    "start_time": "2024-12-08T15:49:33.272Z"
   },
   {
    "duration": 19,
    "start_time": "2024-12-08T15:49:33.276Z"
   },
   {
    "duration": 156,
    "start_time": "2024-12-08T15:49:33.297Z"
   },
   {
    "duration": 264,
    "start_time": "2024-12-08T15:49:33.455Z"
   },
   {
    "duration": 29,
    "start_time": "2024-12-08T15:49:33.721Z"
   },
   {
    "duration": 114,
    "start_time": "2024-12-08T15:49:33.752Z"
   },
   {
    "duration": 4,
    "start_time": "2024-12-08T15:49:33.867Z"
   },
   {
    "duration": 401,
    "start_time": "2024-12-08T15:49:33.873Z"
   },
   {
    "duration": 283,
    "start_time": "2024-12-08T15:49:34.275Z"
   },
   {
    "duration": 668,
    "start_time": "2024-12-08T15:49:34.559Z"
   },
   {
    "duration": 21,
    "start_time": "2024-12-08T15:49:35.228Z"
   },
   {
    "duration": 39,
    "start_time": "2024-12-08T15:49:35.251Z"
   },
   {
    "duration": 34,
    "start_time": "2024-12-08T15:49:35.292Z"
   },
   {
    "duration": 13,
    "start_time": "2024-12-08T15:49:35.328Z"
   },
   {
    "duration": 21,
    "start_time": "2024-12-08T15:49:35.342Z"
   },
   {
    "duration": 82,
    "start_time": "2024-12-08T15:49:35.364Z"
   },
   {
    "duration": 19,
    "start_time": "2024-12-08T15:49:35.448Z"
   },
   {
    "duration": 36,
    "start_time": "2024-12-08T15:49:35.469Z"
   },
   {
    "duration": 19,
    "start_time": "2024-12-08T15:49:35.506Z"
   },
   {
    "duration": 6,
    "start_time": "2024-12-08T15:49:35.526Z"
   },
   {
    "duration": 95,
    "start_time": "2024-12-08T15:49:35.606Z"
   },
   {
    "duration": 6,
    "start_time": "2024-12-08T15:49:35.702Z"
   },
   {
    "duration": 127,
    "start_time": "2024-12-08T15:49:35.710Z"
   },
   {
    "duration": 5,
    "start_time": "2024-12-08T15:49:35.838Z"
   },
   {
    "duration": 957,
    "start_time": "2024-12-08T15:49:35.845Z"
   },
   {
    "duration": 27,
    "start_time": "2024-12-08T15:49:36.803Z"
   },
   {
    "duration": 21,
    "start_time": "2024-12-08T15:49:36.832Z"
   },
   {
    "duration": 813,
    "start_time": "2024-12-08T15:49:36.854Z"
   },
   {
    "duration": 28,
    "start_time": "2024-12-08T15:49:37.668Z"
   },
   {
    "duration": 755,
    "start_time": "2024-12-08T15:49:37.697Z"
   },
   {
    "duration": 10,
    "start_time": "2024-12-08T15:49:38.453Z"
   },
   {
    "duration": 4,
    "start_time": "2024-12-08T15:49:38.464Z"
   },
   {
    "duration": 32,
    "start_time": "2024-12-08T15:49:38.469Z"
   },
   {
    "duration": 779,
    "start_time": "2024-12-08T15:49:38.502Z"
   },
   {
    "duration": 714,
    "start_time": "2024-12-08T15:49:39.282Z"
   },
   {
    "duration": 35,
    "start_time": "2024-12-08T15:49:39.997Z"
   },
   {
    "duration": 76,
    "start_time": "2024-12-08T15:49:40.034Z"
   },
   {
    "duration": 219,
    "start_time": "2024-12-08T15:49:40.112Z"
   },
   {
    "duration": 296,
    "start_time": "2024-12-08T15:49:40.333Z"
   },
   {
    "duration": 211,
    "start_time": "2024-12-08T15:49:40.631Z"
   },
   {
    "duration": 384,
    "start_time": "2024-12-08T15:49:40.844Z"
   },
   {
    "duration": 615,
    "start_time": "2024-12-08T15:49:41.231Z"
   },
   {
    "duration": 4686,
    "start_time": "2024-12-08T15:49:41.848Z"
   },
   {
    "duration": 1073,
    "start_time": "2024-12-08T15:49:46.535Z"
   },
   {
    "duration": 83,
    "start_time": "2024-12-08T15:49:47.611Z"
   },
   {
    "duration": 63,
    "start_time": "2024-12-08T15:49:47.695Z"
   },
   {
    "duration": 69,
    "start_time": "2024-12-08T15:49:47.760Z"
   },
   {
    "duration": 99,
    "start_time": "2024-12-08T15:49:47.831Z"
   },
   {
    "duration": 206,
    "start_time": "2024-12-08T15:49:47.932Z"
   },
   {
    "duration": 4,
    "start_time": "2024-12-08T15:49:48.139Z"
   },
   {
    "duration": 45,
    "start_time": "2024-12-08T15:49:48.145Z"
   },
   {
    "duration": 7,
    "start_time": "2024-12-08T15:49:48.191Z"
   },
   {
    "duration": 39,
    "start_time": "2024-12-08T15:49:48.200Z"
   },
   {
    "duration": 5647,
    "start_time": "2024-12-08T15:49:48.241Z"
   },
   {
    "duration": 0,
    "start_time": "2024-12-08T15:49:53.891Z"
   },
   {
    "duration": 0,
    "start_time": "2024-12-08T15:49:53.892Z"
   },
   {
    "duration": 0,
    "start_time": "2024-12-08T15:49:53.894Z"
   },
   {
    "duration": 0,
    "start_time": "2024-12-08T15:49:53.896Z"
   },
   {
    "duration": 0,
    "start_time": "2024-12-08T15:49:53.897Z"
   },
   {
    "duration": 0,
    "start_time": "2024-12-08T15:49:53.899Z"
   },
   {
    "duration": 0,
    "start_time": "2024-12-08T15:49:53.900Z"
   },
   {
    "duration": 0,
    "start_time": "2024-12-08T15:49:53.902Z"
   },
   {
    "duration": 0,
    "start_time": "2024-12-08T15:49:53.904Z"
   },
   {
    "duration": 0,
    "start_time": "2024-12-08T15:49:53.928Z"
   },
   {
    "duration": 0,
    "start_time": "2024-12-08T15:49:53.929Z"
   },
   {
    "duration": 0,
    "start_time": "2024-12-08T15:49:53.931Z"
   },
   {
    "duration": 0,
    "start_time": "2024-12-08T15:49:53.933Z"
   },
   {
    "duration": 0,
    "start_time": "2024-12-08T15:49:53.935Z"
   },
   {
    "duration": 0,
    "start_time": "2024-12-08T15:49:53.936Z"
   },
   {
    "duration": 0,
    "start_time": "2024-12-08T15:49:53.937Z"
   },
   {
    "duration": 0,
    "start_time": "2024-12-08T15:49:53.939Z"
   },
   {
    "duration": 0,
    "start_time": "2024-12-08T15:49:53.940Z"
   },
   {
    "duration": 0,
    "start_time": "2024-12-08T15:49:53.941Z"
   },
   {
    "duration": 0,
    "start_time": "2024-12-08T15:49:53.942Z"
   },
   {
    "duration": 0,
    "start_time": "2024-12-08T15:49:53.943Z"
   },
   {
    "duration": 0,
    "start_time": "2024-12-08T15:49:53.945Z"
   },
   {
    "duration": 0,
    "start_time": "2024-12-08T15:49:53.946Z"
   },
   {
    "duration": 0,
    "start_time": "2024-12-08T15:49:53.947Z"
   },
   {
    "duration": 0,
    "start_time": "2024-12-08T15:49:53.949Z"
   },
   {
    "duration": 0,
    "start_time": "2024-12-08T15:49:53.950Z"
   },
   {
    "duration": 0,
    "start_time": "2024-12-08T15:49:53.952Z"
   },
   {
    "duration": 0,
    "start_time": "2024-12-08T15:49:53.953Z"
   },
   {
    "duration": 0,
    "start_time": "2024-12-08T15:49:53.954Z"
   },
   {
    "duration": 0,
    "start_time": "2024-12-08T15:49:53.955Z"
   },
   {
    "duration": 0,
    "start_time": "2024-12-08T15:49:53.957Z"
   },
   {
    "duration": 5657,
    "start_time": "2024-12-08T15:55:51.638Z"
   },
   {
    "duration": 5727,
    "start_time": "2024-12-08T15:56:32.986Z"
   },
   {
    "duration": 11,
    "start_time": "2024-12-08T15:59:35.413Z"
   },
   {
    "duration": 15,
    "start_time": "2024-12-08T15:59:40.712Z"
   },
   {
    "duration": 5600,
    "start_time": "2024-12-08T15:59:45.249Z"
   },
   {
    "duration": 8,
    "start_time": "2024-12-08T16:00:12.287Z"
   },
   {
    "duration": 10,
    "start_time": "2024-12-08T16:00:47.550Z"
   },
   {
    "duration": 388,
    "start_time": "2024-12-08T16:08:39.450Z"
   },
   {
    "duration": 92,
    "start_time": "2024-12-08T16:09:34.024Z"
   },
   {
    "duration": 45,
    "start_time": "2024-12-08T16:09:56.310Z"
   },
   {
    "duration": 331,
    "start_time": "2024-12-08T16:10:18.938Z"
   },
   {
    "duration": 42,
    "start_time": "2024-12-08T16:10:27.619Z"
   },
   {
    "duration": 41,
    "start_time": "2024-12-08T16:11:13.496Z"
   },
   {
    "duration": 5578,
    "start_time": "2024-12-08T16:11:29.409Z"
   },
   {
    "duration": 2748,
    "start_time": "2024-12-08T16:11:34.989Z"
   },
   {
    "duration": 2421,
    "start_time": "2024-12-08T16:11:37.739Z"
   },
   {
    "duration": 2461,
    "start_time": "2024-12-08T16:11:40.163Z"
   },
   {
    "duration": 9,
    "start_time": "2024-12-08T16:11:42.626Z"
   },
   {
    "duration": 5,
    "start_time": "2024-12-08T16:11:42.636Z"
   },
   {
    "duration": 806,
    "start_time": "2024-12-08T16:11:42.642Z"
   },
   {
    "duration": 3,
    "start_time": "2024-12-08T16:11:43.449Z"
   },
   {
    "duration": 8,
    "start_time": "2024-12-08T16:11:43.453Z"
   },
   {
    "duration": 158,
    "start_time": "2024-12-08T16:11:43.463Z"
   },
   {
    "duration": 238,
    "start_time": "2024-12-08T16:11:43.627Z"
   },
   {
    "duration": 26,
    "start_time": "2024-12-08T16:11:43.866Z"
   },
   {
    "duration": 150,
    "start_time": "2024-12-08T16:11:43.895Z"
   },
   {
    "duration": 4,
    "start_time": "2024-12-08T16:11:44.046Z"
   },
   {
    "duration": 375,
    "start_time": "2024-12-08T16:11:44.052Z"
   },
   {
    "duration": 311,
    "start_time": "2024-12-08T16:11:44.428Z"
   },
   {
    "duration": 664,
    "start_time": "2024-12-08T16:11:44.740Z"
   },
   {
    "duration": 31,
    "start_time": "2024-12-08T16:11:45.405Z"
   },
   {
    "duration": 22,
    "start_time": "2024-12-08T16:11:45.437Z"
   },
   {
    "duration": 31,
    "start_time": "2024-12-08T16:11:45.460Z"
   },
   {
    "duration": 18,
    "start_time": "2024-12-08T16:11:45.493Z"
   },
   {
    "duration": 37,
    "start_time": "2024-12-08T16:11:45.513Z"
   },
   {
    "duration": 38,
    "start_time": "2024-12-08T16:11:45.551Z"
   },
   {
    "duration": 21,
    "start_time": "2024-12-08T16:11:45.591Z"
   },
   {
    "duration": 32,
    "start_time": "2024-12-08T16:11:45.613Z"
   },
   {
    "duration": 21,
    "start_time": "2024-12-08T16:11:45.646Z"
   },
   {
    "duration": 17,
    "start_time": "2024-12-08T16:11:45.669Z"
   },
   {
    "duration": 102,
    "start_time": "2024-12-08T16:11:45.689Z"
   },
   {
    "duration": 5,
    "start_time": "2024-12-08T16:11:45.792Z"
   },
   {
    "duration": 113,
    "start_time": "2024-12-08T16:11:45.799Z"
   },
   {
    "duration": 6,
    "start_time": "2024-12-08T16:11:45.913Z"
   },
   {
    "duration": 991,
    "start_time": "2024-12-08T16:11:45.921Z"
   },
   {
    "duration": 22,
    "start_time": "2024-12-08T16:11:46.914Z"
   },
   {
    "duration": 24,
    "start_time": "2024-12-08T16:11:46.938Z"
   },
   {
    "duration": 838,
    "start_time": "2024-12-08T16:11:46.964Z"
   },
   {
    "duration": 40,
    "start_time": "2024-12-08T16:11:47.804Z"
   },
   {
    "duration": 782,
    "start_time": "2024-12-08T16:11:47.846Z"
   },
   {
    "duration": 9,
    "start_time": "2024-12-08T16:11:48.630Z"
   },
   {
    "duration": 4,
    "start_time": "2024-12-08T16:11:48.640Z"
   },
   {
    "duration": 24,
    "start_time": "2024-12-08T16:11:48.645Z"
   },
   {
    "duration": 822,
    "start_time": "2024-12-08T16:11:48.671Z"
   },
   {
    "duration": 746,
    "start_time": "2024-12-08T16:11:49.495Z"
   },
   {
    "duration": 24,
    "start_time": "2024-12-08T16:11:50.243Z"
   },
   {
    "duration": 92,
    "start_time": "2024-12-08T16:11:50.269Z"
   },
   {
    "duration": 191,
    "start_time": "2024-12-08T16:11:50.362Z"
   },
   {
    "duration": 695,
    "start_time": "2024-12-08T16:11:50.555Z"
   },
   {
    "duration": 204,
    "start_time": "2024-12-08T16:11:51.252Z"
   },
   {
    "duration": 410,
    "start_time": "2024-12-08T16:11:51.526Z"
   },
   {
    "duration": 568,
    "start_time": "2024-12-08T16:11:51.937Z"
   },
   {
    "duration": 4395,
    "start_time": "2024-12-08T16:11:52.506Z"
   },
   {
    "duration": 1184,
    "start_time": "2024-12-08T16:11:56.903Z"
   },
   {
    "duration": 87,
    "start_time": "2024-12-08T16:11:58.089Z"
   },
   {
    "duration": 69,
    "start_time": "2024-12-08T16:11:58.178Z"
   },
   {
    "duration": 58,
    "start_time": "2024-12-08T16:11:58.249Z"
   },
   {
    "duration": 106,
    "start_time": "2024-12-08T16:11:58.308Z"
   },
   {
    "duration": 204,
    "start_time": "2024-12-08T16:11:58.416Z"
   },
   {
    "duration": 5,
    "start_time": "2024-12-08T16:11:58.622Z"
   },
   {
    "duration": 46,
    "start_time": "2024-12-08T16:11:58.629Z"
   },
   {
    "duration": 7,
    "start_time": "2024-12-08T16:11:58.677Z"
   },
   {
    "duration": 10,
    "start_time": "2024-12-08T16:11:58.686Z"
   },
   {
    "duration": 361,
    "start_time": "2024-12-08T16:11:58.698Z"
   },
   {
    "duration": 112,
    "start_time": "2024-12-08T16:14:18.119Z"
   },
   {
    "duration": 105,
    "start_time": "2024-12-08T16:14:27.125Z"
   },
   {
    "duration": 4,
    "start_time": "2024-12-08T16:14:31.960Z"
   },
   {
    "duration": 2,
    "start_time": "2024-12-08T16:14:39.519Z"
   },
   {
    "duration": 2,
    "start_time": "2024-12-08T16:14:40.138Z"
   },
   {
    "duration": 3,
    "start_time": "2024-12-08T16:14:40.854Z"
   },
   {
    "duration": 3,
    "start_time": "2024-12-08T16:14:42.776Z"
   },
   {
    "duration": 3,
    "start_time": "2024-12-08T16:14:45.020Z"
   },
   {
    "duration": 2,
    "start_time": "2024-12-08T16:14:45.240Z"
   },
   {
    "duration": 152,
    "start_time": "2024-12-08T16:14:46.823Z"
   },
   {
    "duration": 10,
    "start_time": "2024-12-08T16:14:51.706Z"
   },
   {
    "duration": 8,
    "start_time": "2024-12-08T16:15:51.367Z"
   },
   {
    "duration": 37,
    "start_time": "2024-12-08T16:16:02.959Z"
   },
   {
    "duration": 10,
    "start_time": "2024-12-08T16:16:18.445Z"
   },
   {
    "duration": 5,
    "start_time": "2024-12-08T16:16:27.005Z"
   },
   {
    "duration": 2,
    "start_time": "2024-12-08T16:16:33.062Z"
   },
   {
    "duration": 3,
    "start_time": "2024-12-08T16:16:33.438Z"
   },
   {
    "duration": 3,
    "start_time": "2024-12-08T16:16:33.792Z"
   },
   {
    "duration": 2,
    "start_time": "2024-12-08T16:16:35.348Z"
   },
   {
    "duration": 3,
    "start_time": "2024-12-08T16:16:43.543Z"
   },
   {
    "duration": 2,
    "start_time": "2024-12-08T16:16:46.378Z"
   },
   {
    "duration": 143,
    "start_time": "2024-12-08T16:16:51.231Z"
   },
   {
    "duration": 5417,
    "start_time": "2024-12-08T16:17:09.138Z"
   },
   {
    "duration": 2396,
    "start_time": "2024-12-08T16:17:14.558Z"
   },
   {
    "duration": 2383,
    "start_time": "2024-12-08T16:17:16.955Z"
   },
   {
    "duration": 2408,
    "start_time": "2024-12-08T16:17:19.340Z"
   },
   {
    "duration": 1433,
    "start_time": "2024-12-08T16:17:21.750Z"
   },
   {
    "duration": 3,
    "start_time": "2024-12-08T16:17:23.185Z"
   },
   {
    "duration": 905,
    "start_time": "2024-12-08T16:17:23.190Z"
   },
   {
    "duration": 3,
    "start_time": "2024-12-08T16:17:24.096Z"
   },
   {
    "duration": 34,
    "start_time": "2024-12-08T16:17:24.100Z"
   },
   {
    "duration": 148,
    "start_time": "2024-12-08T16:17:24.137Z"
   },
   {
    "duration": 254,
    "start_time": "2024-12-08T16:17:24.286Z"
   },
   {
    "duration": 28,
    "start_time": "2024-12-08T16:17:24.542Z"
   },
   {
    "duration": 141,
    "start_time": "2024-12-08T16:17:24.572Z"
   },
   {
    "duration": 3,
    "start_time": "2024-12-08T16:17:24.715Z"
   },
   {
    "duration": 380,
    "start_time": "2024-12-08T16:17:24.727Z"
   },
   {
    "duration": 323,
    "start_time": "2024-12-08T16:17:25.110Z"
   },
   {
    "duration": 803,
    "start_time": "2024-12-08T16:17:25.435Z"
   },
   {
    "duration": 21,
    "start_time": "2024-12-08T16:17:26.239Z"
   },
   {
    "duration": 31,
    "start_time": "2024-12-08T16:17:26.261Z"
   },
   {
    "duration": 35,
    "start_time": "2024-12-08T16:17:26.293Z"
   },
   {
    "duration": 33,
    "start_time": "2024-12-08T16:17:26.330Z"
   },
   {
    "duration": 49,
    "start_time": "2024-12-08T16:17:26.365Z"
   },
   {
    "duration": 73,
    "start_time": "2024-12-08T16:17:26.416Z"
   },
   {
    "duration": 20,
    "start_time": "2024-12-08T16:17:26.490Z"
   },
   {
    "duration": 32,
    "start_time": "2024-12-08T16:17:26.512Z"
   },
   {
    "duration": 35,
    "start_time": "2024-12-08T16:17:26.546Z"
   },
   {
    "duration": 41,
    "start_time": "2024-12-08T16:17:26.583Z"
   },
   {
    "duration": 94,
    "start_time": "2024-12-08T16:17:26.700Z"
   },
   {
    "duration": 7,
    "start_time": "2024-12-08T16:17:26.796Z"
   },
   {
    "duration": 103,
    "start_time": "2024-12-08T16:17:26.805Z"
   },
   {
    "duration": 6,
    "start_time": "2024-12-08T16:17:26.910Z"
   },
   {
    "duration": 1015,
    "start_time": "2024-12-08T16:17:26.918Z"
   },
   {
    "duration": 13,
    "start_time": "2024-12-08T16:17:27.935Z"
   },
   {
    "duration": 20,
    "start_time": "2024-12-08T16:17:27.950Z"
   },
   {
    "duration": 815,
    "start_time": "2024-12-08T16:17:27.971Z"
   },
   {
    "duration": 41,
    "start_time": "2024-12-08T16:17:28.788Z"
   },
   {
    "duration": 770,
    "start_time": "2024-12-08T16:17:28.831Z"
   },
   {
    "duration": 26,
    "start_time": "2024-12-08T16:17:29.604Z"
   },
   {
    "duration": 7,
    "start_time": "2024-12-08T16:17:29.632Z"
   },
   {
    "duration": 36,
    "start_time": "2024-12-08T16:17:29.641Z"
   },
   {
    "duration": 825,
    "start_time": "2024-12-08T16:17:29.680Z"
   },
   {
    "duration": 734,
    "start_time": "2024-12-08T16:17:30.506Z"
   },
   {
    "duration": 28,
    "start_time": "2024-12-08T16:17:31.242Z"
   },
   {
    "duration": 84,
    "start_time": "2024-12-08T16:17:31.272Z"
   },
   {
    "duration": 188,
    "start_time": "2024-12-08T16:17:31.358Z"
   },
   {
    "duration": 202,
    "start_time": "2024-12-08T16:17:31.547Z"
   },
   {
    "duration": 280,
    "start_time": "2024-12-08T16:17:31.751Z"
   },
   {
    "duration": 385,
    "start_time": "2024-12-08T16:17:32.033Z"
   },
   {
    "duration": 550,
    "start_time": "2024-12-08T16:17:32.426Z"
   },
   {
    "duration": 5328,
    "start_time": "2024-12-08T16:17:32.978Z"
   },
   {
    "duration": 1112,
    "start_time": "2024-12-08T16:17:38.307Z"
   },
   {
    "duration": 84,
    "start_time": "2024-12-08T16:17:39.421Z"
   },
   {
    "duration": 66,
    "start_time": "2024-12-08T16:17:39.507Z"
   },
   {
    "duration": 66,
    "start_time": "2024-12-08T16:17:39.574Z"
   },
   {
    "duration": 101,
    "start_time": "2024-12-08T16:17:39.641Z"
   },
   {
    "duration": 200,
    "start_time": "2024-12-08T16:17:39.744Z"
   },
   {
    "duration": 3,
    "start_time": "2024-12-08T16:17:39.946Z"
   },
   {
    "duration": 41,
    "start_time": "2024-12-08T16:17:39.950Z"
   },
   {
    "duration": 7,
    "start_time": "2024-12-08T16:17:39.993Z"
   },
   {
    "duration": 34,
    "start_time": "2024-12-08T16:17:40.002Z"
   },
   {
    "duration": 180,
    "start_time": "2024-12-08T16:17:40.037Z"
   },
   {
    "duration": 55,
    "start_time": "2024-12-08T16:17:40.218Z"
   },
   {
    "duration": 4,
    "start_time": "2024-12-08T16:17:40.275Z"
   },
   {
    "duration": 6,
    "start_time": "2024-12-08T16:17:40.281Z"
   },
   {
    "duration": 3,
    "start_time": "2024-12-08T16:17:40.288Z"
   },
   {
    "duration": 4,
    "start_time": "2024-12-08T16:17:40.293Z"
   },
   {
    "duration": 5,
    "start_time": "2024-12-08T16:17:40.298Z"
   },
   {
    "duration": 4,
    "start_time": "2024-12-08T16:17:40.304Z"
   },
   {
    "duration": 2,
    "start_time": "2024-12-08T16:17:40.327Z"
   },
   {
    "duration": 129,
    "start_time": "2024-12-08T16:17:40.330Z"
   },
   {
    "duration": 0,
    "start_time": "2024-12-08T16:17:40.461Z"
   },
   {
    "duration": 0,
    "start_time": "2024-12-08T16:17:40.462Z"
   },
   {
    "duration": 0,
    "start_time": "2024-12-08T16:17:40.464Z"
   },
   {
    "duration": 0,
    "start_time": "2024-12-08T16:17:40.465Z"
   },
   {
    "duration": 0,
    "start_time": "2024-12-08T16:17:40.466Z"
   },
   {
    "duration": 0,
    "start_time": "2024-12-08T16:17:40.467Z"
   },
   {
    "duration": 0,
    "start_time": "2024-12-08T16:17:40.468Z"
   },
   {
    "duration": 0,
    "start_time": "2024-12-08T16:17:40.469Z"
   },
   {
    "duration": 0,
    "start_time": "2024-12-08T16:17:40.470Z"
   },
   {
    "duration": 0,
    "start_time": "2024-12-08T16:17:40.471Z"
   },
   {
    "duration": 0,
    "start_time": "2024-12-08T16:17:40.472Z"
   },
   {
    "duration": 0,
    "start_time": "2024-12-08T16:17:40.473Z"
   },
   {
    "duration": 0,
    "start_time": "2024-12-08T16:17:40.474Z"
   },
   {
    "duration": 0,
    "start_time": "2024-12-08T16:17:40.475Z"
   },
   {
    "duration": 0,
    "start_time": "2024-12-08T16:17:40.476Z"
   },
   {
    "duration": 0,
    "start_time": "2024-12-08T16:17:40.477Z"
   },
   {
    "duration": 0,
    "start_time": "2024-12-08T16:17:40.478Z"
   },
   {
    "duration": 0,
    "start_time": "2024-12-08T16:17:40.479Z"
   },
   {
    "duration": 0,
    "start_time": "2024-12-08T16:17:40.480Z"
   },
   {
    "duration": 0,
    "start_time": "2024-12-08T16:17:40.481Z"
   },
   {
    "duration": 0,
    "start_time": "2024-12-08T16:17:40.482Z"
   },
   {
    "duration": 0,
    "start_time": "2024-12-08T16:17:40.483Z"
   },
   {
    "duration": 1082,
    "start_time": "2024-12-08T16:19:08.382Z"
   },
   {
    "duration": 4,
    "start_time": "2024-12-08T16:19:09.583Z"
   },
   {
    "duration": 5,
    "start_time": "2024-12-08T16:19:10.840Z"
   },
   {
    "duration": 3,
    "start_time": "2024-12-08T16:19:12.778Z"
   },
   {
    "duration": 3,
    "start_time": "2024-12-08T16:19:14.100Z"
   },
   {
    "duration": 9196,
    "start_time": "2024-12-08T16:19:15.705Z"
   },
   {
    "duration": 4,
    "start_time": "2024-12-08T16:19:24.902Z"
   },
   {
    "duration": 20,
    "start_time": "2024-12-08T16:19:24.908Z"
   },
   {
    "duration": 5460,
    "start_time": "2024-12-08T16:19:42.844Z"
   },
   {
    "duration": 2435,
    "start_time": "2024-12-08T16:19:48.307Z"
   },
   {
    "duration": 2417,
    "start_time": "2024-12-08T16:19:50.744Z"
   },
   {
    "duration": 2485,
    "start_time": "2024-12-08T16:19:53.164Z"
   },
   {
    "duration": 1456,
    "start_time": "2024-12-08T16:19:55.651Z"
   },
   {
    "duration": 3,
    "start_time": "2024-12-08T16:19:57.108Z"
   },
   {
    "duration": 885,
    "start_time": "2024-12-08T16:19:57.112Z"
   },
   {
    "duration": 3,
    "start_time": "2024-12-08T16:19:57.998Z"
   },
   {
    "duration": 13,
    "start_time": "2024-12-08T16:19:58.002Z"
   },
   {
    "duration": 172,
    "start_time": "2024-12-08T16:19:58.018Z"
   },
   {
    "duration": 269,
    "start_time": "2024-12-08T16:19:58.191Z"
   },
   {
    "duration": 31,
    "start_time": "2024-12-08T16:19:58.462Z"
   },
   {
    "duration": 112,
    "start_time": "2024-12-08T16:19:58.494Z"
   },
   {
    "duration": 4,
    "start_time": "2024-12-08T16:19:58.607Z"
   },
   {
    "duration": 376,
    "start_time": "2024-12-08T16:19:58.612Z"
   },
   {
    "duration": 300,
    "start_time": "2024-12-08T16:19:58.989Z"
   },
   {
    "duration": 643,
    "start_time": "2024-12-08T16:19:59.290Z"
   },
   {
    "duration": 21,
    "start_time": "2024-12-08T16:19:59.934Z"
   },
   {
    "duration": 40,
    "start_time": "2024-12-08T16:19:59.957Z"
   },
   {
    "duration": 37,
    "start_time": "2024-12-08T16:19:59.998Z"
   },
   {
    "duration": 49,
    "start_time": "2024-12-08T16:20:00.037Z"
   },
   {
    "duration": 77,
    "start_time": "2024-12-08T16:20:00.088Z"
   },
   {
    "duration": 65,
    "start_time": "2024-12-08T16:20:00.166Z"
   },
   {
    "duration": 20,
    "start_time": "2024-12-08T16:20:00.233Z"
   },
   {
    "duration": 63,
    "start_time": "2024-12-08T16:20:00.255Z"
   },
   {
    "duration": 41,
    "start_time": "2024-12-08T16:20:00.320Z"
   },
   {
    "duration": 39,
    "start_time": "2024-12-08T16:20:00.363Z"
   },
   {
    "duration": 94,
    "start_time": "2024-12-08T16:20:00.482Z"
   },
   {
    "duration": 6,
    "start_time": "2024-12-08T16:20:00.577Z"
   },
   {
    "duration": 110,
    "start_time": "2024-12-08T16:20:00.584Z"
   },
   {
    "duration": 5,
    "start_time": "2024-12-08T16:20:00.696Z"
   },
   {
    "duration": 1013,
    "start_time": "2024-12-08T16:20:00.702Z"
   },
   {
    "duration": 14,
    "start_time": "2024-12-08T16:20:01.726Z"
   },
   {
    "duration": 21,
    "start_time": "2024-12-08T16:20:01.741Z"
   },
   {
    "duration": 834,
    "start_time": "2024-12-08T16:20:01.763Z"
   },
   {
    "duration": 40,
    "start_time": "2024-12-08T16:20:02.598Z"
   },
   {
    "duration": 773,
    "start_time": "2024-12-08T16:20:02.639Z"
   },
   {
    "duration": 21,
    "start_time": "2024-12-08T16:20:03.414Z"
   },
   {
    "duration": 5,
    "start_time": "2024-12-08T16:20:03.437Z"
   },
   {
    "duration": 30,
    "start_time": "2024-12-08T16:20:03.444Z"
   },
   {
    "duration": 868,
    "start_time": "2024-12-08T16:20:03.476Z"
   },
   {
    "duration": 748,
    "start_time": "2024-12-08T16:20:04.346Z"
   },
   {
    "duration": 37,
    "start_time": "2024-12-08T16:20:05.096Z"
   },
   {
    "duration": 80,
    "start_time": "2024-12-08T16:20:05.135Z"
   },
   {
    "duration": 213,
    "start_time": "2024-12-08T16:20:05.227Z"
   },
   {
    "duration": 204,
    "start_time": "2024-12-08T16:20:05.443Z"
   },
   {
    "duration": 211,
    "start_time": "2024-12-08T16:20:05.649Z"
   },
   {
    "duration": 448,
    "start_time": "2024-12-08T16:20:05.862Z"
   },
   {
    "duration": 580,
    "start_time": "2024-12-08T16:20:06.311Z"
   },
   {
    "duration": 4499,
    "start_time": "2024-12-08T16:20:06.892Z"
   },
   {
    "duration": 1055,
    "start_time": "2024-12-08T16:20:11.392Z"
   },
   {
    "duration": 82,
    "start_time": "2024-12-08T16:20:12.449Z"
   },
   {
    "duration": 65,
    "start_time": "2024-12-08T16:20:12.532Z"
   },
   {
    "duration": 70,
    "start_time": "2024-12-08T16:20:12.599Z"
   },
   {
    "duration": 101,
    "start_time": "2024-12-08T16:20:12.671Z"
   },
   {
    "duration": 199,
    "start_time": "2024-12-08T16:20:12.774Z"
   },
   {
    "duration": 4,
    "start_time": "2024-12-08T16:20:12.975Z"
   },
   {
    "duration": 67,
    "start_time": "2024-12-08T16:20:12.980Z"
   },
   {
    "duration": 12,
    "start_time": "2024-12-08T16:20:13.049Z"
   },
   {
    "duration": 14,
    "start_time": "2024-12-08T16:20:13.062Z"
   },
   {
    "duration": 194,
    "start_time": "2024-12-08T16:20:13.078Z"
   },
   {
    "duration": 57,
    "start_time": "2024-12-08T16:20:13.274Z"
   },
   {
    "duration": 4,
    "start_time": "2024-12-08T16:20:13.333Z"
   },
   {
    "duration": 7,
    "start_time": "2024-12-08T16:20:13.339Z"
   },
   {
    "duration": 4,
    "start_time": "2024-12-08T16:20:13.347Z"
   },
   {
    "duration": 22,
    "start_time": "2024-12-08T16:20:13.352Z"
   },
   {
    "duration": 3,
    "start_time": "2024-12-08T16:20:13.375Z"
   },
   {
    "duration": 3,
    "start_time": "2024-12-08T16:20:13.380Z"
   },
   {
    "duration": 4,
    "start_time": "2024-12-08T16:20:13.385Z"
   },
   {
    "duration": 1073,
    "start_time": "2024-12-08T16:20:13.390Z"
   },
   {
    "duration": 4,
    "start_time": "2024-12-08T16:20:14.465Z"
   },
   {
    "duration": 7,
    "start_time": "2024-12-08T16:20:14.526Z"
   },
   {
    "duration": 3,
    "start_time": "2024-12-08T16:20:14.535Z"
   },
   {
    "duration": 4,
    "start_time": "2024-12-08T16:20:14.540Z"
   },
   {
    "duration": 9346,
    "start_time": "2024-12-08T16:20:14.545Z"
   },
   {
    "duration": 4,
    "start_time": "2024-12-08T16:20:23.893Z"
   },
   {
    "duration": 7,
    "start_time": "2024-12-08T16:20:23.900Z"
   },
   {
    "duration": 3,
    "start_time": "2024-12-08T16:20:23.927Z"
   },
   {
    "duration": 44,
    "start_time": "2024-12-08T16:20:23.932Z"
   },
   {
    "duration": 3,
    "start_time": "2024-12-08T16:20:23.978Z"
   },
   {
    "duration": 6011,
    "start_time": "2024-12-08T16:38:25.932Z"
   },
   {
    "duration": 2409,
    "start_time": "2024-12-08T16:38:31.946Z"
   },
   {
    "duration": 2286,
    "start_time": "2024-12-08T16:38:34.357Z"
   },
   {
    "duration": 2319,
    "start_time": "2024-12-08T16:38:36.646Z"
   },
   {
    "duration": 1412,
    "start_time": "2024-12-08T16:38:38.967Z"
   },
   {
    "duration": 3,
    "start_time": "2024-12-08T16:38:40.381Z"
   },
   {
    "duration": 865,
    "start_time": "2024-12-08T16:38:40.385Z"
   },
   {
    "duration": 3,
    "start_time": "2024-12-08T16:38:41.251Z"
   },
   {
    "duration": 4,
    "start_time": "2024-12-08T16:38:41.255Z"
   },
   {
    "duration": 168,
    "start_time": "2024-12-08T16:38:41.262Z"
   },
   {
    "duration": 268,
    "start_time": "2024-12-08T16:38:41.432Z"
   },
   {
    "duration": 39,
    "start_time": "2024-12-08T16:38:41.702Z"
   },
   {
    "duration": 113,
    "start_time": "2024-12-08T16:38:41.742Z"
   },
   {
    "duration": 3,
    "start_time": "2024-12-08T16:38:41.857Z"
   },
   {
    "duration": 384,
    "start_time": "2024-12-08T16:38:41.862Z"
   },
   {
    "duration": 294,
    "start_time": "2024-12-08T16:38:42.247Z"
   },
   {
    "duration": 646,
    "start_time": "2024-12-08T16:38:42.543Z"
   },
   {
    "duration": 20,
    "start_time": "2024-12-08T16:38:43.190Z"
   },
   {
    "duration": 28,
    "start_time": "2024-12-08T16:38:43.211Z"
   },
   {
    "duration": 25,
    "start_time": "2024-12-08T16:38:43.240Z"
   },
   {
    "duration": 15,
    "start_time": "2024-12-08T16:38:43.266Z"
   },
   {
    "duration": 21,
    "start_time": "2024-12-08T16:38:43.282Z"
   },
   {
    "duration": 50,
    "start_time": "2024-12-08T16:38:43.304Z"
   },
   {
    "duration": 19,
    "start_time": "2024-12-08T16:38:43.355Z"
   },
   {
    "duration": 21,
    "start_time": "2024-12-08T16:38:43.376Z"
   },
   {
    "duration": 36,
    "start_time": "2024-12-08T16:38:43.399Z"
   },
   {
    "duration": 10,
    "start_time": "2024-12-08T16:38:43.437Z"
   },
   {
    "duration": 95,
    "start_time": "2024-12-08T16:38:43.533Z"
   },
   {
    "duration": 7,
    "start_time": "2024-12-08T16:38:43.630Z"
   },
   {
    "duration": 102,
    "start_time": "2024-12-08T16:38:43.639Z"
   },
   {
    "duration": 4,
    "start_time": "2024-12-08T16:38:43.743Z"
   },
   {
    "duration": 982,
    "start_time": "2024-12-08T16:38:43.749Z"
   },
   {
    "duration": 13,
    "start_time": "2024-12-08T16:38:44.732Z"
   },
   {
    "duration": 24,
    "start_time": "2024-12-08T16:38:44.747Z"
   },
   {
    "duration": 808,
    "start_time": "2024-12-08T16:38:44.772Z"
   },
   {
    "duration": 25,
    "start_time": "2024-12-08T16:38:45.582Z"
   },
   {
    "duration": 782,
    "start_time": "2024-12-08T16:38:45.609Z"
   },
   {
    "duration": 10,
    "start_time": "2024-12-08T16:38:46.392Z"
   },
   {
    "duration": 4,
    "start_time": "2024-12-08T16:38:46.404Z"
   },
   {
    "duration": 29,
    "start_time": "2024-12-08T16:38:46.427Z"
   },
   {
    "duration": 827,
    "start_time": "2024-12-08T16:38:46.458Z"
   },
   {
    "duration": 712,
    "start_time": "2024-12-08T16:38:47.286Z"
   },
   {
    "duration": 41,
    "start_time": "2024-12-08T16:38:47.999Z"
   },
   {
    "duration": 74,
    "start_time": "2024-12-08T16:38:48.042Z"
   },
   {
    "duration": 216,
    "start_time": "2024-12-08T16:38:48.117Z"
   },
   {
    "duration": 203,
    "start_time": "2024-12-08T16:38:48.336Z"
   },
   {
    "duration": 217,
    "start_time": "2024-12-08T16:38:48.541Z"
   },
   {
    "duration": 368,
    "start_time": "2024-12-08T16:38:48.759Z"
   },
   {
    "duration": 533,
    "start_time": "2024-12-08T16:38:49.129Z"
   },
   {
    "duration": 4479,
    "start_time": "2024-12-08T16:38:49.664Z"
   },
   {
    "duration": 1059,
    "start_time": "2024-12-08T16:38:54.144Z"
   },
   {
    "duration": 80,
    "start_time": "2024-12-08T16:38:55.205Z"
   },
   {
    "duration": 95,
    "start_time": "2024-12-08T16:38:55.287Z"
   },
   {
    "duration": 61,
    "start_time": "2024-12-08T16:38:55.383Z"
   },
   {
    "duration": 103,
    "start_time": "2024-12-08T16:38:55.446Z"
   },
   {
    "duration": 187,
    "start_time": "2024-12-08T16:38:55.550Z"
   },
   {
    "duration": 3,
    "start_time": "2024-12-08T16:38:55.739Z"
   },
   {
    "duration": 54,
    "start_time": "2024-12-08T16:38:55.744Z"
   },
   {
    "duration": 8,
    "start_time": "2024-12-08T16:38:55.799Z"
   },
   {
    "duration": 19,
    "start_time": "2024-12-08T16:38:55.808Z"
   },
   {
    "duration": 277,
    "start_time": "2024-12-08T16:38:55.828Z"
   },
   {
    "duration": 0,
    "start_time": "2024-12-08T16:38:56.107Z"
   },
   {
    "duration": 0,
    "start_time": "2024-12-08T16:38:56.108Z"
   },
   {
    "duration": 0,
    "start_time": "2024-12-08T16:38:56.109Z"
   },
   {
    "duration": 0,
    "start_time": "2024-12-08T16:38:56.110Z"
   },
   {
    "duration": 0,
    "start_time": "2024-12-08T16:38:56.112Z"
   },
   {
    "duration": 0,
    "start_time": "2024-12-08T16:38:56.127Z"
   },
   {
    "duration": 0,
    "start_time": "2024-12-08T16:38:56.129Z"
   },
   {
    "duration": 0,
    "start_time": "2024-12-08T16:38:56.130Z"
   },
   {
    "duration": 0,
    "start_time": "2024-12-08T16:38:56.131Z"
   },
   {
    "duration": 0,
    "start_time": "2024-12-08T16:38:56.132Z"
   },
   {
    "duration": 0,
    "start_time": "2024-12-08T16:38:56.133Z"
   },
   {
    "duration": 0,
    "start_time": "2024-12-08T16:38:56.134Z"
   },
   {
    "duration": 0,
    "start_time": "2024-12-08T16:38:56.135Z"
   },
   {
    "duration": 0,
    "start_time": "2024-12-08T16:38:56.136Z"
   },
   {
    "duration": 0,
    "start_time": "2024-12-08T16:38:56.137Z"
   },
   {
    "duration": 0,
    "start_time": "2024-12-08T16:38:56.138Z"
   },
   {
    "duration": 0,
    "start_time": "2024-12-08T16:38:56.139Z"
   },
   {
    "duration": 0,
    "start_time": "2024-12-08T16:38:56.140Z"
   },
   {
    "duration": 0,
    "start_time": "2024-12-08T16:38:56.142Z"
   },
   {
    "duration": 0,
    "start_time": "2024-12-08T16:38:56.143Z"
   },
   {
    "duration": 0,
    "start_time": "2024-12-08T16:38:56.143Z"
   },
   {
    "duration": 0,
    "start_time": "2024-12-08T16:38:56.144Z"
   },
   {
    "duration": 0,
    "start_time": "2024-12-08T16:38:56.146Z"
   },
   {
    "duration": 0,
    "start_time": "2024-12-08T16:38:56.147Z"
   },
   {
    "duration": 0,
    "start_time": "2024-12-08T16:38:56.148Z"
   },
   {
    "duration": 0,
    "start_time": "2024-12-08T16:38:56.149Z"
   },
   {
    "duration": 0,
    "start_time": "2024-12-08T16:38:56.151Z"
   },
   {
    "duration": 0,
    "start_time": "2024-12-08T16:38:56.151Z"
   },
   {
    "duration": 0,
    "start_time": "2024-12-08T16:38:56.153Z"
   },
   {
    "duration": 0,
    "start_time": "2024-12-08T16:38:56.154Z"
   },
   {
    "duration": 0,
    "start_time": "2024-12-08T16:38:56.155Z"
   },
   {
    "duration": 5566,
    "start_time": "2024-12-08T16:39:35.884Z"
   },
   {
    "duration": 12,
    "start_time": "2024-12-08T16:41:07.153Z"
   },
   {
    "duration": 10,
    "start_time": "2024-12-08T16:41:15.841Z"
   },
   {
    "duration": 172,
    "start_time": "2024-12-08T16:41:17.647Z"
   },
   {
    "duration": 53,
    "start_time": "2024-12-08T16:41:28.427Z"
   },
   {
    "duration": 5,
    "start_time": "2024-12-08T16:41:29.470Z"
   },
   {
    "duration": 2,
    "start_time": "2024-12-08T16:41:31.975Z"
   },
   {
    "duration": 2,
    "start_time": "2024-12-08T16:41:32.470Z"
   },
   {
    "duration": 2,
    "start_time": "2024-12-08T16:41:32.708Z"
   },
   {
    "duration": 3,
    "start_time": "2024-12-08T16:41:33.933Z"
   },
   {
    "duration": 3,
    "start_time": "2024-12-08T16:41:35.815Z"
   },
   {
    "duration": 3,
    "start_time": "2024-12-08T16:41:37.182Z"
   },
   {
    "duration": 1120,
    "start_time": "2024-12-08T16:41:39.808Z"
   },
   {
    "duration": 5,
    "start_time": "2024-12-08T16:41:40.930Z"
   },
   {
    "duration": 6,
    "start_time": "2024-12-08T16:41:41.804Z"
   },
   {
    "duration": 2,
    "start_time": "2024-12-08T16:42:06.685Z"
   },
   {
    "duration": 3,
    "start_time": "2024-12-08T16:42:07.261Z"
   },
   {
    "duration": 9605,
    "start_time": "2024-12-08T16:42:07.752Z"
   },
   {
    "duration": 3,
    "start_time": "2024-12-08T16:42:17.359Z"
   },
   {
    "duration": 7,
    "start_time": "2024-12-08T16:42:17.363Z"
   },
   {
    "duration": 5557,
    "start_time": "2024-12-08T16:45:01.420Z"
   },
   {
    "duration": 2443,
    "start_time": "2024-12-08T16:45:06.979Z"
   },
   {
    "duration": 2441,
    "start_time": "2024-12-08T16:45:09.424Z"
   },
   {
    "duration": 2495,
    "start_time": "2024-12-08T16:45:11.867Z"
   },
   {
    "duration": 1516,
    "start_time": "2024-12-08T16:45:14.365Z"
   },
   {
    "duration": 3,
    "start_time": "2024-12-08T16:45:15.883Z"
   },
   {
    "duration": 955,
    "start_time": "2024-12-08T16:45:15.888Z"
   },
   {
    "duration": 3,
    "start_time": "2024-12-08T16:45:16.844Z"
   },
   {
    "duration": 3,
    "start_time": "2024-12-08T16:45:16.848Z"
   },
   {
    "duration": 168,
    "start_time": "2024-12-08T16:45:16.852Z"
   },
   {
    "duration": 283,
    "start_time": "2024-12-08T16:45:17.021Z"
   },
   {
    "duration": 43,
    "start_time": "2024-12-08T16:45:17.306Z"
   },
   {
    "duration": 118,
    "start_time": "2024-12-08T16:45:17.351Z"
   },
   {
    "duration": 4,
    "start_time": "2024-12-08T16:45:17.472Z"
   },
   {
    "duration": 390,
    "start_time": "2024-12-08T16:45:17.477Z"
   },
   {
    "duration": 321,
    "start_time": "2024-12-08T16:45:17.869Z"
   },
   {
    "duration": 696,
    "start_time": "2024-12-08T16:45:18.192Z"
   },
   {
    "duration": 21,
    "start_time": "2024-12-08T16:45:18.889Z"
   },
   {
    "duration": 35,
    "start_time": "2024-12-08T16:45:18.911Z"
   },
   {
    "duration": 22,
    "start_time": "2024-12-08T16:45:18.948Z"
   },
   {
    "duration": 15,
    "start_time": "2024-12-08T16:45:18.971Z"
   },
   {
    "duration": 41,
    "start_time": "2024-12-08T16:45:18.987Z"
   },
   {
    "duration": 36,
    "start_time": "2024-12-08T16:45:19.030Z"
   },
   {
    "duration": 19,
    "start_time": "2024-12-08T16:45:19.067Z"
   },
   {
    "duration": 22,
    "start_time": "2024-12-08T16:45:19.088Z"
   },
   {
    "duration": 23,
    "start_time": "2024-12-08T16:45:19.126Z"
   },
   {
    "duration": 11,
    "start_time": "2024-12-08T16:45:19.151Z"
   },
   {
    "duration": 166,
    "start_time": "2024-12-08T16:45:19.164Z"
   },
   {
    "duration": 7,
    "start_time": "2024-12-08T16:45:19.332Z"
   },
   {
    "duration": 108,
    "start_time": "2024-12-08T16:45:19.341Z"
   },
   {
    "duration": 5,
    "start_time": "2024-12-08T16:45:19.450Z"
   },
   {
    "duration": 979,
    "start_time": "2024-12-08T16:45:19.456Z"
   },
   {
    "duration": 15,
    "start_time": "2024-12-08T16:45:20.437Z"
   },
   {
    "duration": 20,
    "start_time": "2024-12-08T16:45:20.453Z"
   },
   {
    "duration": 823,
    "start_time": "2024-12-08T16:45:20.475Z"
   },
   {
    "duration": 40,
    "start_time": "2024-12-08T16:45:21.300Z"
   },
   {
    "duration": 772,
    "start_time": "2024-12-08T16:45:21.342Z"
   },
   {
    "duration": 23,
    "start_time": "2024-12-08T16:45:22.116Z"
   },
   {
    "duration": 17,
    "start_time": "2024-12-08T16:45:22.142Z"
   },
   {
    "duration": 32,
    "start_time": "2024-12-08T16:45:22.161Z"
   },
   {
    "duration": 804,
    "start_time": "2024-12-08T16:45:22.198Z"
   },
   {
    "duration": 697,
    "start_time": "2024-12-08T16:45:23.004Z"
   },
   {
    "duration": 50,
    "start_time": "2024-12-08T16:45:23.703Z"
   },
   {
    "duration": 82,
    "start_time": "2024-12-08T16:45:23.755Z"
   },
   {
    "duration": 215,
    "start_time": "2024-12-08T16:45:23.840Z"
   },
   {
    "duration": 138,
    "start_time": "2024-12-08T16:45:24.126Z"
   },
   {
    "duration": 272,
    "start_time": "2024-12-08T16:45:24.266Z"
   },
   {
    "duration": 394,
    "start_time": "2024-12-08T16:45:24.540Z"
   },
   {
    "duration": 701,
    "start_time": "2024-12-08T16:45:24.936Z"
   },
   {
    "duration": 4767,
    "start_time": "2024-12-08T16:45:25.639Z"
   },
   {
    "duration": 1104,
    "start_time": "2024-12-08T16:45:30.407Z"
   },
   {
    "duration": 85,
    "start_time": "2024-12-08T16:45:31.513Z"
   },
   {
    "duration": 72,
    "start_time": "2024-12-08T16:45:31.599Z"
   },
   {
    "duration": 73,
    "start_time": "2024-12-08T16:45:31.673Z"
   },
   {
    "duration": 109,
    "start_time": "2024-12-08T16:45:31.748Z"
   },
   {
    "duration": 204,
    "start_time": "2024-12-08T16:45:31.859Z"
   },
   {
    "duration": 4,
    "start_time": "2024-12-08T16:45:32.065Z"
   },
   {
    "duration": 42,
    "start_time": "2024-12-08T16:45:32.070Z"
   },
   {
    "duration": 23,
    "start_time": "2024-12-08T16:45:32.113Z"
   },
   {
    "duration": 12,
    "start_time": "2024-12-08T16:45:32.138Z"
   },
   {
    "duration": 180,
    "start_time": "2024-12-08T16:45:32.151Z"
   },
   {
    "duration": 51,
    "start_time": "2024-12-08T16:45:32.333Z"
   },
   {
    "duration": 5,
    "start_time": "2024-12-08T16:45:32.385Z"
   },
   {
    "duration": 4,
    "start_time": "2024-12-08T16:45:32.391Z"
   },
   {
    "duration": 11,
    "start_time": "2024-12-08T16:45:32.397Z"
   },
   {
    "duration": 10,
    "start_time": "2024-12-08T16:45:32.409Z"
   },
   {
    "duration": 4,
    "start_time": "2024-12-08T16:45:32.426Z"
   },
   {
    "duration": 22,
    "start_time": "2024-12-08T16:45:32.431Z"
   },
   {
    "duration": 19,
    "start_time": "2024-12-08T16:45:32.455Z"
   },
   {
    "duration": 1103,
    "start_time": "2024-12-08T16:45:32.475Z"
   },
   {
    "duration": 5,
    "start_time": "2024-12-08T16:45:33.630Z"
   },
   {
    "duration": 11,
    "start_time": "2024-12-08T16:45:33.637Z"
   },
   {
    "duration": 17,
    "start_time": "2024-12-08T16:45:33.649Z"
   },
   {
    "duration": 18,
    "start_time": "2024-12-08T16:45:33.668Z"
   },
   {
    "duration": 9577,
    "start_time": "2024-12-08T16:45:33.688Z"
   },
   {
    "duration": 4,
    "start_time": "2024-12-08T16:45:43.266Z"
   },
   {
    "duration": 18,
    "start_time": "2024-12-08T16:45:43.271Z"
   },
   {
    "duration": 4,
    "start_time": "2024-12-08T16:45:43.291Z"
   },
   {
    "duration": 43,
    "start_time": "2024-12-08T16:45:43.296Z"
   },
   {
    "duration": 4,
    "start_time": "2024-12-08T16:45:43.341Z"
   },
   {
    "duration": 6169,
    "start_time": "2024-12-08T16:54:48.054Z"
   },
   {
    "duration": 2483,
    "start_time": "2024-12-08T16:54:54.226Z"
   },
   {
    "duration": 2406,
    "start_time": "2024-12-08T16:54:56.710Z"
   },
   {
    "duration": 2482,
    "start_time": "2024-12-08T16:54:59.118Z"
   },
   {
    "duration": 1491,
    "start_time": "2024-12-08T16:55:01.602Z"
   },
   {
    "duration": 2,
    "start_time": "2024-12-08T16:55:03.095Z"
   },
   {
    "duration": 951,
    "start_time": "2024-12-08T16:55:03.098Z"
   },
   {
    "duration": 3,
    "start_time": "2024-12-08T16:55:04.050Z"
   },
   {
    "duration": 14,
    "start_time": "2024-12-08T16:55:04.054Z"
   },
   {
    "duration": 184,
    "start_time": "2024-12-08T16:55:04.071Z"
   },
   {
    "duration": 271,
    "start_time": "2024-12-08T16:55:04.256Z"
   },
   {
    "duration": 35,
    "start_time": "2024-12-08T16:55:04.529Z"
   },
   {
    "duration": 144,
    "start_time": "2024-12-08T16:55:04.565Z"
   },
   {
    "duration": 4,
    "start_time": "2024-12-08T16:55:04.711Z"
   },
   {
    "duration": 400,
    "start_time": "2024-12-08T16:55:04.716Z"
   },
   {
    "duration": 310,
    "start_time": "2024-12-08T16:55:05.118Z"
   },
   {
    "duration": 678,
    "start_time": "2024-12-08T16:55:05.430Z"
   },
   {
    "duration": 29,
    "start_time": "2024-12-08T16:55:06.109Z"
   },
   {
    "duration": 34,
    "start_time": "2024-12-08T16:55:06.140Z"
   },
   {
    "duration": 37,
    "start_time": "2024-12-08T16:55:06.176Z"
   },
   {
    "duration": 53,
    "start_time": "2024-12-08T16:55:06.214Z"
   },
   {
    "duration": 20,
    "start_time": "2024-12-08T16:55:06.268Z"
   },
   {
    "duration": 51,
    "start_time": "2024-12-08T16:55:06.289Z"
   },
   {
    "duration": 21,
    "start_time": "2024-12-08T16:55:06.342Z"
   },
   {
    "duration": 49,
    "start_time": "2024-12-08T16:55:06.364Z"
   },
   {
    "duration": 40,
    "start_time": "2024-12-08T16:55:06.414Z"
   },
   {
    "duration": 13,
    "start_time": "2024-12-08T16:55:06.456Z"
   },
   {
    "duration": 92,
    "start_time": "2024-12-08T16:55:06.550Z"
   },
   {
    "duration": 7,
    "start_time": "2024-12-08T16:55:06.644Z"
   },
   {
    "duration": 108,
    "start_time": "2024-12-08T16:55:06.653Z"
   },
   {
    "duration": 5,
    "start_time": "2024-12-08T16:55:06.762Z"
   },
   {
    "duration": 973,
    "start_time": "2024-12-08T16:55:06.769Z"
   },
   {
    "duration": 13,
    "start_time": "2024-12-08T16:55:07.744Z"
   },
   {
    "duration": 20,
    "start_time": "2024-12-08T16:55:07.758Z"
   },
   {
    "duration": 817,
    "start_time": "2024-12-08T16:55:07.780Z"
   },
   {
    "duration": 37,
    "start_time": "2024-12-08T16:55:08.599Z"
   },
   {
    "duration": 770,
    "start_time": "2024-12-08T16:55:08.639Z"
   },
   {
    "duration": 18,
    "start_time": "2024-12-08T16:55:09.411Z"
   },
   {
    "duration": 6,
    "start_time": "2024-12-08T16:55:09.431Z"
   },
   {
    "duration": 30,
    "start_time": "2024-12-08T16:55:09.439Z"
   },
   {
    "duration": 828,
    "start_time": "2024-12-08T16:55:09.471Z"
   },
   {
    "duration": 740,
    "start_time": "2024-12-08T16:55:10.300Z"
   },
   {
    "duration": 22,
    "start_time": "2024-12-08T16:55:11.042Z"
   },
   {
    "duration": 93,
    "start_time": "2024-12-08T16:55:11.066Z"
   },
   {
    "duration": 193,
    "start_time": "2024-12-08T16:55:11.161Z"
   },
   {
    "duration": 198,
    "start_time": "2024-12-08T16:55:11.355Z"
   },
   {
    "duration": 275,
    "start_time": "2024-12-08T16:55:11.554Z"
   },
   {
    "duration": 397,
    "start_time": "2024-12-08T16:55:11.831Z"
   },
   {
    "duration": 550,
    "start_time": "2024-12-08T16:55:12.231Z"
   },
   {
    "duration": 4734,
    "start_time": "2024-12-08T16:55:12.783Z"
   },
   {
    "duration": 1057,
    "start_time": "2024-12-08T16:55:17.518Z"
   },
   {
    "duration": 86,
    "start_time": "2024-12-08T16:55:18.577Z"
   },
   {
    "duration": 76,
    "start_time": "2024-12-08T16:55:18.665Z"
   },
   {
    "duration": 54,
    "start_time": "2024-12-08T16:55:18.743Z"
   },
   {
    "duration": 108,
    "start_time": "2024-12-08T16:55:18.799Z"
   },
   {
    "duration": 203,
    "start_time": "2024-12-08T16:55:18.908Z"
   },
   {
    "duration": 3,
    "start_time": "2024-12-08T16:55:19.112Z"
   },
   {
    "duration": 55,
    "start_time": "2024-12-08T16:55:19.117Z"
   },
   {
    "duration": 9,
    "start_time": "2024-12-08T16:55:19.174Z"
   },
   {
    "duration": 31,
    "start_time": "2024-12-08T16:55:19.184Z"
   },
   {
    "duration": 295,
    "start_time": "2024-12-08T16:55:19.216Z"
   },
   {
    "duration": 0,
    "start_time": "2024-12-08T16:55:19.513Z"
   },
   {
    "duration": 0,
    "start_time": "2024-12-08T16:55:19.514Z"
   },
   {
    "duration": 0,
    "start_time": "2024-12-08T16:55:19.516Z"
   },
   {
    "duration": 0,
    "start_time": "2024-12-08T16:55:19.516Z"
   },
   {
    "duration": 0,
    "start_time": "2024-12-08T16:55:19.518Z"
   },
   {
    "duration": 0,
    "start_time": "2024-12-08T16:55:19.528Z"
   },
   {
    "duration": 0,
    "start_time": "2024-12-08T16:55:19.529Z"
   },
   {
    "duration": 0,
    "start_time": "2024-12-08T16:55:19.530Z"
   },
   {
    "duration": 0,
    "start_time": "2024-12-08T16:55:19.531Z"
   },
   {
    "duration": 0,
    "start_time": "2024-12-08T16:55:19.532Z"
   },
   {
    "duration": 0,
    "start_time": "2024-12-08T16:55:19.534Z"
   },
   {
    "duration": 0,
    "start_time": "2024-12-08T16:55:19.535Z"
   },
   {
    "duration": 0,
    "start_time": "2024-12-08T16:55:19.536Z"
   },
   {
    "duration": 0,
    "start_time": "2024-12-08T16:55:19.537Z"
   },
   {
    "duration": 0,
    "start_time": "2024-12-08T16:55:19.539Z"
   },
   {
    "duration": 0,
    "start_time": "2024-12-08T16:55:19.540Z"
   },
   {
    "duration": 0,
    "start_time": "2024-12-08T16:55:19.541Z"
   },
   {
    "duration": 0,
    "start_time": "2024-12-08T16:55:19.543Z"
   },
   {
    "duration": 0,
    "start_time": "2024-12-08T16:55:19.544Z"
   },
   {
    "duration": 0,
    "start_time": "2024-12-08T16:55:19.546Z"
   },
   {
    "duration": 0,
    "start_time": "2024-12-08T16:55:19.547Z"
   },
   {
    "duration": 0,
    "start_time": "2024-12-08T16:55:19.548Z"
   },
   {
    "duration": 0,
    "start_time": "2024-12-08T16:55:19.550Z"
   },
   {
    "duration": 0,
    "start_time": "2024-12-08T16:55:19.551Z"
   },
   {
    "duration": 0,
    "start_time": "2024-12-08T16:55:19.552Z"
   },
   {
    "duration": 0,
    "start_time": "2024-12-08T16:55:19.553Z"
   },
   {
    "duration": 0,
    "start_time": "2024-12-08T16:55:19.555Z"
   },
   {
    "duration": 0,
    "start_time": "2024-12-08T16:55:19.556Z"
   },
   {
    "duration": 0,
    "start_time": "2024-12-08T16:55:19.557Z"
   },
   {
    "duration": 0,
    "start_time": "2024-12-08T16:55:19.559Z"
   },
   {
    "duration": 0,
    "start_time": "2024-12-08T16:55:19.560Z"
   },
   {
    "duration": 5483,
    "start_time": "2024-12-08T16:57:01.160Z"
   },
   {
    "duration": 7,
    "start_time": "2024-12-08T16:59:46.039Z"
   },
   {
    "duration": 5227,
    "start_time": "2024-12-08T17:02:24.158Z"
   },
   {
    "duration": 5471,
    "start_time": "2024-12-08T17:03:00.923Z"
   },
   {
    "duration": 5514,
    "start_time": "2024-12-08T17:05:21.863Z"
   },
   {
    "duration": 5394,
    "start_time": "2024-12-08T17:06:28.034Z"
   },
   {
    "duration": 2463,
    "start_time": "2024-12-08T17:06:33.431Z"
   },
   {
    "duration": 3153,
    "start_time": "2024-12-08T17:06:35.896Z"
   },
   {
    "duration": 2393,
    "start_time": "2024-12-08T17:06:39.052Z"
   },
   {
    "duration": 1436,
    "start_time": "2024-12-08T17:06:41.447Z"
   },
   {
    "duration": 2,
    "start_time": "2024-12-08T17:06:42.885Z"
   },
   {
    "duration": 862,
    "start_time": "2024-12-08T17:06:42.889Z"
   },
   {
    "duration": 2,
    "start_time": "2024-12-08T17:06:43.752Z"
   },
   {
    "duration": 15,
    "start_time": "2024-12-08T17:06:43.755Z"
   },
   {
    "duration": 182,
    "start_time": "2024-12-08T17:06:43.773Z"
   },
   {
    "duration": 266,
    "start_time": "2024-12-08T17:06:43.957Z"
   },
   {
    "duration": 27,
    "start_time": "2024-12-08T17:06:44.225Z"
   },
   {
    "duration": 115,
    "start_time": "2024-12-08T17:06:44.253Z"
   },
   {
    "duration": 4,
    "start_time": "2024-12-08T17:06:44.369Z"
   },
   {
    "duration": 393,
    "start_time": "2024-12-08T17:06:44.374Z"
   },
   {
    "duration": 296,
    "start_time": "2024-12-08T17:06:44.769Z"
   },
   {
    "duration": 649,
    "start_time": "2024-12-08T17:06:45.067Z"
   },
   {
    "duration": 22,
    "start_time": "2024-12-08T17:06:45.718Z"
   },
   {
    "duration": 21,
    "start_time": "2024-12-08T17:06:45.741Z"
   },
   {
    "duration": 24,
    "start_time": "2024-12-08T17:06:45.763Z"
   },
   {
    "duration": 17,
    "start_time": "2024-12-08T17:06:45.788Z"
   },
   {
    "duration": 37,
    "start_time": "2024-12-08T17:06:45.806Z"
   },
   {
    "duration": 32,
    "start_time": "2024-12-08T17:06:45.844Z"
   },
   {
    "duration": 23,
    "start_time": "2024-12-08T17:06:45.878Z"
   },
   {
    "duration": 43,
    "start_time": "2024-12-08T17:06:45.903Z"
   },
   {
    "duration": 39,
    "start_time": "2024-12-08T17:06:45.947Z"
   },
   {
    "duration": 6,
    "start_time": "2024-12-08T17:06:45.987Z"
   },
   {
    "duration": 92,
    "start_time": "2024-12-08T17:06:46.070Z"
   },
   {
    "duration": 6,
    "start_time": "2024-12-08T17:06:46.164Z"
   },
   {
    "duration": 102,
    "start_time": "2024-12-08T17:06:46.171Z"
   },
   {
    "duration": 5,
    "start_time": "2024-12-08T17:06:46.275Z"
   },
   {
    "duration": 934,
    "start_time": "2024-12-08T17:06:46.282Z"
   },
   {
    "duration": 23,
    "start_time": "2024-12-08T17:06:47.218Z"
   },
   {
    "duration": 26,
    "start_time": "2024-12-08T17:06:47.242Z"
   },
   {
    "duration": 819,
    "start_time": "2024-12-08T17:06:47.270Z"
   },
   {
    "duration": 42,
    "start_time": "2024-12-08T17:06:48.091Z"
   },
   {
    "duration": 792,
    "start_time": "2024-12-08T17:06:48.135Z"
   },
   {
    "duration": 10,
    "start_time": "2024-12-08T17:06:48.928Z"
   },
   {
    "duration": 5,
    "start_time": "2024-12-08T17:06:48.939Z"
   },
   {
    "duration": 29,
    "start_time": "2024-12-08T17:06:48.946Z"
   },
   {
    "duration": 819,
    "start_time": "2024-12-08T17:06:48.977Z"
   },
   {
    "duration": 707,
    "start_time": "2024-12-08T17:06:49.798Z"
   },
   {
    "duration": 39,
    "start_time": "2024-12-08T17:06:50.507Z"
   },
   {
    "duration": 70,
    "start_time": "2024-12-08T17:06:50.548Z"
   },
   {
    "duration": 210,
    "start_time": "2024-12-08T17:06:50.627Z"
   },
   {
    "duration": 199,
    "start_time": "2024-12-08T17:06:50.839Z"
   },
   {
    "duration": 202,
    "start_time": "2024-12-08T17:06:51.039Z"
   },
   {
    "duration": 371,
    "start_time": "2024-12-08T17:06:51.242Z"
   },
   {
    "duration": 548,
    "start_time": "2024-12-08T17:06:51.615Z"
   },
   {
    "duration": 4499,
    "start_time": "2024-12-08T17:06:52.165Z"
   },
   {
    "duration": 1033,
    "start_time": "2024-12-08T17:06:56.666Z"
   },
   {
    "duration": 93,
    "start_time": "2024-12-08T17:06:57.702Z"
   },
   {
    "duration": 66,
    "start_time": "2024-12-08T17:06:57.796Z"
   },
   {
    "duration": 65,
    "start_time": "2024-12-08T17:06:57.863Z"
   },
   {
    "duration": 98,
    "start_time": "2024-12-08T17:06:57.929Z"
   },
   {
    "duration": 188,
    "start_time": "2024-12-08T17:06:58.028Z"
   },
   {
    "duration": 11,
    "start_time": "2024-12-08T17:06:58.217Z"
   },
   {
    "duration": 44,
    "start_time": "2024-12-08T17:06:58.230Z"
   },
   {
    "duration": 7,
    "start_time": "2024-12-08T17:06:58.276Z"
   },
   {
    "duration": 16,
    "start_time": "2024-12-08T17:06:58.284Z"
   },
   {
    "duration": 130,
    "start_time": "2024-12-08T17:06:58.301Z"
   },
   {
    "duration": 0,
    "start_time": "2024-12-08T17:06:58.433Z"
   },
   {
    "duration": 0,
    "start_time": "2024-12-08T17:06:58.434Z"
   },
   {
    "duration": 0,
    "start_time": "2024-12-08T17:06:58.435Z"
   },
   {
    "duration": 0,
    "start_time": "2024-12-08T17:06:58.436Z"
   },
   {
    "duration": 1,
    "start_time": "2024-12-08T17:06:58.437Z"
   },
   {
    "duration": 0,
    "start_time": "2024-12-08T17:06:58.439Z"
   },
   {
    "duration": 0,
    "start_time": "2024-12-08T17:06:58.440Z"
   },
   {
    "duration": 1,
    "start_time": "2024-12-08T17:06:58.440Z"
   },
   {
    "duration": 0,
    "start_time": "2024-12-08T17:06:58.441Z"
   },
   {
    "duration": 0,
    "start_time": "2024-12-08T17:06:58.442Z"
   },
   {
    "duration": 0,
    "start_time": "2024-12-08T17:06:58.443Z"
   },
   {
    "duration": 0,
    "start_time": "2024-12-08T17:06:58.444Z"
   },
   {
    "duration": 0,
    "start_time": "2024-12-08T17:06:58.445Z"
   },
   {
    "duration": 0,
    "start_time": "2024-12-08T17:06:58.446Z"
   },
   {
    "duration": 0,
    "start_time": "2024-12-08T17:06:58.447Z"
   },
   {
    "duration": 0,
    "start_time": "2024-12-08T17:06:58.447Z"
   },
   {
    "duration": 0,
    "start_time": "2024-12-08T17:06:58.449Z"
   },
   {
    "duration": 0,
    "start_time": "2024-12-08T17:06:58.449Z"
   },
   {
    "duration": 0,
    "start_time": "2024-12-08T17:06:58.450Z"
   },
   {
    "duration": 0,
    "start_time": "2024-12-08T17:06:58.451Z"
   },
   {
    "duration": 0,
    "start_time": "2024-12-08T17:06:58.452Z"
   },
   {
    "duration": 0,
    "start_time": "2024-12-08T17:06:58.454Z"
   },
   {
    "duration": 0,
    "start_time": "2024-12-08T17:06:58.455Z"
   },
   {
    "duration": 0,
    "start_time": "2024-12-08T17:06:58.456Z"
   },
   {
    "duration": 0,
    "start_time": "2024-12-08T17:06:58.457Z"
   },
   {
    "duration": 0,
    "start_time": "2024-12-08T17:06:58.458Z"
   },
   {
    "duration": 0,
    "start_time": "2024-12-08T17:06:58.459Z"
   },
   {
    "duration": 0,
    "start_time": "2024-12-08T17:06:58.460Z"
   },
   {
    "duration": 0,
    "start_time": "2024-12-08T17:06:58.461Z"
   },
   {
    "duration": 0,
    "start_time": "2024-12-08T17:06:58.462Z"
   },
   {
    "duration": 0,
    "start_time": "2024-12-08T17:06:58.463Z"
   },
   {
    "duration": 10,
    "start_time": "2024-12-08T17:09:12.091Z"
   },
   {
    "duration": 169,
    "start_time": "2024-12-08T17:09:13.983Z"
   },
   {
    "duration": 51,
    "start_time": "2024-12-08T17:09:26.066Z"
   },
   {
    "duration": 4,
    "start_time": "2024-12-08T17:09:27.189Z"
   },
   {
    "duration": 2,
    "start_time": "2024-12-08T17:09:30.032Z"
   },
   {
    "duration": 2,
    "start_time": "2024-12-08T17:09:30.881Z"
   },
   {
    "duration": 3,
    "start_time": "2024-12-08T17:09:31.530Z"
   },
   {
    "duration": 2,
    "start_time": "2024-12-08T17:09:33.187Z"
   },
   {
    "duration": 3,
    "start_time": "2024-12-08T17:09:35.407Z"
   },
   {
    "duration": 2,
    "start_time": "2024-12-08T17:09:35.942Z"
   },
   {
    "duration": 1038,
    "start_time": "2024-12-08T17:09:38.834Z"
   },
   {
    "duration": 3,
    "start_time": "2024-12-08T17:09:40.248Z"
   },
   {
    "duration": 5,
    "start_time": "2024-12-08T17:09:40.968Z"
   },
   {
    "duration": 2,
    "start_time": "2024-12-08T17:09:43.352Z"
   },
   {
    "duration": 3,
    "start_time": "2024-12-08T17:09:43.675Z"
   },
   {
    "duration": 10085,
    "start_time": "2024-12-08T17:09:43.860Z"
   },
   {
    "duration": 3,
    "start_time": "2024-12-08T17:09:53.947Z"
   },
   {
    "duration": 25,
    "start_time": "2024-12-08T17:09:53.952Z"
   },
   {
    "duration": 14,
    "start_time": "2024-12-08T17:09:53.978Z"
   },
   {
    "duration": 43,
    "start_time": "2024-12-08T17:09:53.994Z"
   },
   {
    "duration": 3,
    "start_time": "2024-12-08T17:09:54.039Z"
   },
   {
    "duration": 172685,
    "start_time": "2024-12-08T17:09:54.043Z"
   },
   {
    "duration": 4,
    "start_time": "2024-12-08T17:12:46.729Z"
   },
   {
    "duration": 27,
    "start_time": "2024-12-08T17:12:46.734Z"
   },
   {
    "duration": 3,
    "start_time": "2024-12-08T17:12:46.763Z"
   },
   {
    "duration": 196,
    "start_time": "2024-12-08T17:12:46.767Z"
   },
   {
    "duration": 2,
    "start_time": "2024-12-08T17:12:46.965Z"
   },
   {
    "duration": 13,
    "start_time": "2024-12-08T17:12:46.968Z"
   },
   {
    "duration": 0,
    "start_time": "2024-12-08T17:12:46.982Z"
   },
   {
    "duration": 0,
    "start_time": "2024-12-08T17:12:46.983Z"
   },
   {
    "duration": 0,
    "start_time": "2024-12-08T17:12:46.984Z"
   },
   {
    "duration": 0,
    "start_time": "2024-12-08T17:12:46.985Z"
   },
   {
    "duration": 0,
    "start_time": "2024-12-08T17:12:46.986Z"
   },
   {
    "duration": 113030,
    "start_time": "2024-12-08T17:13:18.020Z"
   },
   {
    "duration": 4,
    "start_time": "2024-12-08T17:15:18.425Z"
   },
   {
    "duration": 5,
    "start_time": "2024-12-08T17:15:19.485Z"
   },
   {
    "duration": 10,
    "start_time": "2024-12-08T17:15:24.894Z"
   },
   {
    "duration": 9,
    "start_time": "2024-12-08T17:15:30.618Z"
   },
   {
    "duration": 9,
    "start_time": "2024-12-08T17:15:31.036Z"
   },
   {
    "duration": 116,
    "start_time": "2024-12-08T17:15:41.123Z"
   },
   {
    "duration": 4,
    "start_time": "2024-12-08T17:15:42.773Z"
   },
   {
    "duration": 215,
    "start_time": "2024-12-08T17:21:53.079Z"
   },
   {
    "duration": 269,
    "start_time": "2024-12-08T17:23:00.311Z"
   },
   {
    "duration": 5471,
    "start_time": "2024-12-08T17:24:09.270Z"
   },
   {
    "duration": 5262,
    "start_time": "2024-12-08T17:26:14.678Z"
   },
   {
    "duration": 282,
    "start_time": "2024-12-08T17:26:32.951Z"
   },
   {
    "duration": 309,
    "start_time": "2024-12-08T17:27:14.391Z"
   },
   {
    "duration": 288,
    "start_time": "2024-12-08T17:27:43.759Z"
   },
   {
    "duration": 263,
    "start_time": "2024-12-08T17:33:07.470Z"
   },
   {
    "duration": 5266,
    "start_time": "2024-12-08T17:38:14.465Z"
   },
   {
    "duration": 26721,
    "start_time": "2024-12-09T07:01:46.679Z"
   },
   {
    "duration": 2715,
    "start_time": "2024-12-09T07:02:13.402Z"
   },
   {
    "duration": 2678,
    "start_time": "2024-12-09T07:02:16.119Z"
   },
   {
    "duration": 3463,
    "start_time": "2024-12-09T07:02:18.801Z"
   },
   {
    "duration": 1922,
    "start_time": "2024-12-09T07:02:22.266Z"
   },
   {
    "duration": 3,
    "start_time": "2024-12-09T07:02:24.189Z"
   },
   {
    "duration": 1367,
    "start_time": "2024-12-09T07:02:24.193Z"
   },
   {
    "duration": 2,
    "start_time": "2024-12-09T07:02:25.562Z"
   },
   {
    "duration": 38,
    "start_time": "2024-12-09T07:02:25.566Z"
   },
   {
    "duration": 166,
    "start_time": "2024-12-09T07:02:25.607Z"
   },
   {
    "duration": 287,
    "start_time": "2024-12-09T07:02:25.775Z"
   },
   {
    "duration": 32,
    "start_time": "2024-12-09T07:02:26.064Z"
   },
   {
    "duration": 125,
    "start_time": "2024-12-09T07:02:26.098Z"
   },
   {
    "duration": 4,
    "start_time": "2024-12-09T07:02:26.225Z"
   },
   {
    "duration": 419,
    "start_time": "2024-12-09T07:02:26.230Z"
   },
   {
    "duration": 343,
    "start_time": "2024-12-09T07:02:26.651Z"
   },
   {
    "duration": 728,
    "start_time": "2024-12-09T07:02:26.996Z"
   },
   {
    "duration": 23,
    "start_time": "2024-12-09T07:02:27.726Z"
   },
   {
    "duration": 23,
    "start_time": "2024-12-09T07:02:27.762Z"
   },
   {
    "duration": 36,
    "start_time": "2024-12-09T07:02:27.787Z"
   },
   {
    "duration": 40,
    "start_time": "2024-12-09T07:02:27.825Z"
   },
   {
    "duration": 25,
    "start_time": "2024-12-09T07:02:27.867Z"
   },
   {
    "duration": 58,
    "start_time": "2024-12-09T07:02:27.894Z"
   },
   {
    "duration": 23,
    "start_time": "2024-12-09T07:02:27.954Z"
   },
   {
    "duration": 29,
    "start_time": "2024-12-09T07:02:27.979Z"
   },
   {
    "duration": 36,
    "start_time": "2024-12-09T07:02:28.009Z"
   },
   {
    "duration": 42,
    "start_time": "2024-12-09T07:02:28.047Z"
   },
   {
    "duration": 109,
    "start_time": "2024-12-09T07:02:28.095Z"
   },
   {
    "duration": 4,
    "start_time": "2024-12-09T07:02:28.206Z"
   },
   {
    "duration": 153,
    "start_time": "2024-12-09T07:02:28.212Z"
   },
   {
    "duration": 7,
    "start_time": "2024-12-09T07:02:28.367Z"
   },
   {
    "duration": 1189,
    "start_time": "2024-12-09T07:02:28.376Z"
   },
   {
    "duration": 16,
    "start_time": "2024-12-09T07:02:29.567Z"
   },
   {
    "duration": 23,
    "start_time": "2024-12-09T07:02:29.585Z"
   },
   {
    "duration": 913,
    "start_time": "2024-12-09T07:02:29.609Z"
   },
   {
    "duration": 39,
    "start_time": "2024-12-09T07:02:30.523Z"
   },
   {
    "duration": 825,
    "start_time": "2024-12-09T07:02:30.564Z"
   },
   {
    "duration": 12,
    "start_time": "2024-12-09T07:02:31.391Z"
   },
   {
    "duration": 14,
    "start_time": "2024-12-09T07:02:31.405Z"
   },
   {
    "duration": 48,
    "start_time": "2024-12-09T07:02:31.421Z"
   },
   {
    "duration": 864,
    "start_time": "2024-12-09T07:02:31.470Z"
   },
   {
    "duration": 793,
    "start_time": "2024-12-09T07:02:32.336Z"
   },
   {
    "duration": 37,
    "start_time": "2024-12-09T07:02:33.131Z"
   },
   {
    "duration": 92,
    "start_time": "2024-12-09T07:02:33.170Z"
   },
   {
    "duration": 216,
    "start_time": "2024-12-09T07:02:33.264Z"
   },
   {
    "duration": 202,
    "start_time": "2024-12-09T07:02:33.482Z"
   },
   {
    "duration": 281,
    "start_time": "2024-12-09T07:02:33.686Z"
   },
   {
    "duration": 401,
    "start_time": "2024-12-09T07:02:33.969Z"
   },
   {
    "duration": 643,
    "start_time": "2024-12-09T07:02:34.372Z"
   },
   {
    "duration": 5044,
    "start_time": "2024-12-09T07:02:35.018Z"
   },
   {
    "duration": 1171,
    "start_time": "2024-12-09T07:02:40.063Z"
   },
   {
    "duration": 93,
    "start_time": "2024-12-09T07:02:41.237Z"
   },
   {
    "duration": 77,
    "start_time": "2024-12-09T07:02:41.332Z"
   },
   {
    "duration": 66,
    "start_time": "2024-12-09T07:02:41.410Z"
   },
   {
    "duration": 122,
    "start_time": "2024-12-09T07:02:41.478Z"
   },
   {
    "duration": 221,
    "start_time": "2024-12-09T07:02:41.602Z"
   },
   {
    "duration": 5,
    "start_time": "2024-12-09T07:02:41.825Z"
   },
   {
    "duration": 69,
    "start_time": "2024-12-09T07:02:41.832Z"
   },
   {
    "duration": 9,
    "start_time": "2024-12-09T07:02:41.903Z"
   },
   {
    "duration": 37,
    "start_time": "2024-12-09T07:02:41.914Z"
   },
   {
    "duration": 6414,
    "start_time": "2024-12-09T07:02:41.953Z"
   },
   {
    "duration": 0,
    "start_time": "2024-12-09T07:02:48.369Z"
   },
   {
    "duration": 0,
    "start_time": "2024-12-09T07:02:48.371Z"
   },
   {
    "duration": 0,
    "start_time": "2024-12-09T07:02:48.371Z"
   },
   {
    "duration": 0,
    "start_time": "2024-12-09T07:02:48.372Z"
   },
   {
    "duration": 0,
    "start_time": "2024-12-09T07:02:48.373Z"
   },
   {
    "duration": 0,
    "start_time": "2024-12-09T07:02:48.374Z"
   },
   {
    "duration": 0,
    "start_time": "2024-12-09T07:02:48.375Z"
   },
   {
    "duration": 0,
    "start_time": "2024-12-09T07:02:48.376Z"
   },
   {
    "duration": 0,
    "start_time": "2024-12-09T07:02:48.377Z"
   },
   {
    "duration": 0,
    "start_time": "2024-12-09T07:02:48.380Z"
   },
   {
    "duration": 0,
    "start_time": "2024-12-09T07:02:48.381Z"
   },
   {
    "duration": 0,
    "start_time": "2024-12-09T07:02:48.382Z"
   },
   {
    "duration": 0,
    "start_time": "2024-12-09T07:02:48.383Z"
   },
   {
    "duration": 0,
    "start_time": "2024-12-09T07:02:48.385Z"
   },
   {
    "duration": 0,
    "start_time": "2024-12-09T07:02:48.386Z"
   },
   {
    "duration": 0,
    "start_time": "2024-12-09T07:02:48.387Z"
   },
   {
    "duration": 0,
    "start_time": "2024-12-09T07:02:48.388Z"
   },
   {
    "duration": 0,
    "start_time": "2024-12-09T07:02:48.389Z"
   },
   {
    "duration": 0,
    "start_time": "2024-12-09T07:02:48.390Z"
   },
   {
    "duration": 0,
    "start_time": "2024-12-09T07:02:48.392Z"
   },
   {
    "duration": 0,
    "start_time": "2024-12-09T07:02:48.393Z"
   },
   {
    "duration": 0,
    "start_time": "2024-12-09T07:02:48.394Z"
   },
   {
    "duration": 0,
    "start_time": "2024-12-09T07:02:48.395Z"
   },
   {
    "duration": 0,
    "start_time": "2024-12-09T07:02:48.396Z"
   },
   {
    "duration": 0,
    "start_time": "2024-12-09T07:02:48.397Z"
   },
   {
    "duration": 0,
    "start_time": "2024-12-09T07:02:48.398Z"
   },
   {
    "duration": 0,
    "start_time": "2024-12-09T07:02:48.400Z"
   },
   {
    "duration": 0,
    "start_time": "2024-12-09T07:02:48.401Z"
   },
   {
    "duration": 0,
    "start_time": "2024-12-09T07:02:48.402Z"
   },
   {
    "duration": 0,
    "start_time": "2024-12-09T07:02:48.403Z"
   },
   {
    "duration": 0,
    "start_time": "2024-12-09T07:02:48.404Z"
   },
   {
    "duration": 22982,
    "start_time": "2024-12-09T14:16:16.866Z"
   },
   {
    "duration": 2765,
    "start_time": "2024-12-09T14:16:39.850Z"
   },
   {
    "duration": 2734,
    "start_time": "2024-12-09T14:16:42.617Z"
   },
   {
    "duration": 3353,
    "start_time": "2024-12-09T14:16:45.354Z"
   },
   {
    "duration": 1660,
    "start_time": "2024-12-09T14:16:48.709Z"
   },
   {
    "duration": 3,
    "start_time": "2024-12-09T14:16:50.370Z"
   },
   {
    "duration": 1157,
    "start_time": "2024-12-09T14:16:50.374Z"
   },
   {
    "duration": 2,
    "start_time": "2024-12-09T14:16:51.533Z"
   },
   {
    "duration": 20,
    "start_time": "2024-12-09T14:16:51.536Z"
   },
   {
    "duration": 149,
    "start_time": "2024-12-09T14:16:51.559Z"
   },
   {
    "duration": 261,
    "start_time": "2024-12-09T14:16:51.710Z"
   },
   {
    "duration": 35,
    "start_time": "2024-12-09T14:16:51.972Z"
   },
   {
    "duration": 82,
    "start_time": "2024-12-09T14:16:52.008Z"
   },
   {
    "duration": 4,
    "start_time": "2024-12-09T14:16:52.091Z"
   },
   {
    "duration": 317,
    "start_time": "2024-12-09T14:16:52.096Z"
   },
   {
    "duration": 241,
    "start_time": "2024-12-09T14:16:52.414Z"
   },
   {
    "duration": 542,
    "start_time": "2024-12-09T14:16:52.657Z"
   },
   {
    "duration": 17,
    "start_time": "2024-12-09T14:16:53.200Z"
   },
   {
    "duration": 16,
    "start_time": "2024-12-09T14:16:53.218Z"
   },
   {
    "duration": 21,
    "start_time": "2024-12-09T14:16:53.235Z"
   },
   {
    "duration": 31,
    "start_time": "2024-12-09T14:16:53.257Z"
   },
   {
    "duration": 83,
    "start_time": "2024-12-09T14:16:53.290Z"
   },
   {
    "duration": 56,
    "start_time": "2024-12-09T14:16:53.374Z"
   },
   {
    "duration": 16,
    "start_time": "2024-12-09T14:16:53.431Z"
   },
   {
    "duration": 24,
    "start_time": "2024-12-09T14:16:53.449Z"
   },
   {
    "duration": 16,
    "start_time": "2024-12-09T14:16:53.475Z"
   },
   {
    "duration": 15,
    "start_time": "2024-12-09T14:16:53.493Z"
   },
   {
    "duration": 86,
    "start_time": "2024-12-09T14:16:53.512Z"
   },
   {
    "duration": 3,
    "start_time": "2024-12-09T14:16:53.600Z"
   },
   {
    "duration": 119,
    "start_time": "2024-12-09T14:16:53.605Z"
   },
   {
    "duration": 4,
    "start_time": "2024-12-09T14:16:53.726Z"
   },
   {
    "duration": 921,
    "start_time": "2024-12-09T14:16:53.731Z"
   },
   {
    "duration": 12,
    "start_time": "2024-12-09T14:16:54.654Z"
   },
   {
    "duration": 32,
    "start_time": "2024-12-09T14:16:54.667Z"
   },
   {
    "duration": 653,
    "start_time": "2024-12-09T14:16:54.700Z"
   },
   {
    "duration": 53,
    "start_time": "2024-12-09T14:16:55.354Z"
   },
   {
    "duration": 746,
    "start_time": "2024-12-09T14:16:55.409Z"
   },
   {
    "duration": 8,
    "start_time": "2024-12-09T14:16:56.156Z"
   },
   {
    "duration": 4,
    "start_time": "2024-12-09T14:16:56.165Z"
   },
   {
    "duration": 52,
    "start_time": "2024-12-09T14:16:56.171Z"
   },
   {
    "duration": 719,
    "start_time": "2024-12-09T14:16:56.224Z"
   },
   {
    "duration": 695,
    "start_time": "2024-12-09T14:16:56.944Z"
   },
   {
    "duration": 31,
    "start_time": "2024-12-09T14:16:57.640Z"
   },
   {
    "duration": 89,
    "start_time": "2024-12-09T14:16:57.672Z"
   },
   {
    "duration": 152,
    "start_time": "2024-12-09T14:16:57.762Z"
   },
   {
    "duration": 125,
    "start_time": "2024-12-09T14:16:57.986Z"
   },
   {
    "duration": 275,
    "start_time": "2024-12-09T14:16:58.113Z"
   },
   {
    "duration": 360,
    "start_time": "2024-12-09T14:16:58.389Z"
   },
   {
    "duration": 515,
    "start_time": "2024-12-09T14:16:58.750Z"
   },
   {
    "duration": 4012,
    "start_time": "2024-12-09T14:16:59.267Z"
   },
   {
    "duration": 879,
    "start_time": "2024-12-09T14:17:03.280Z"
   },
   {
    "duration": 69,
    "start_time": "2024-12-09T14:17:04.160Z"
   },
   {
    "duration": 56,
    "start_time": "2024-12-09T14:17:04.231Z"
   },
   {
    "duration": 57,
    "start_time": "2024-12-09T14:17:04.289Z"
   },
   {
    "duration": 132,
    "start_time": "2024-12-09T14:17:04.348Z"
   },
   {
    "duration": 200,
    "start_time": "2024-12-09T14:17:04.481Z"
   },
   {
    "duration": 4,
    "start_time": "2024-12-09T14:17:04.683Z"
   },
   {
    "duration": 40,
    "start_time": "2024-12-09T14:17:04.688Z"
   },
   {
    "duration": 14,
    "start_time": "2024-12-09T14:17:20.690Z"
   },
   {
    "duration": 19,
    "start_time": "2024-12-09T14:17:56.990Z"
   },
   {
    "duration": 5659,
    "start_time": "2024-12-09T14:22:18.204Z"
   },
   {
    "duration": 26,
    "start_time": "2024-12-09T14:23:58.336Z"
   },
   {
    "duration": 17,
    "start_time": "2024-12-09T14:24:09.496Z"
   },
   {
    "duration": 46,
    "start_time": "2024-12-09T14:29:28.577Z"
   },
   {
    "duration": 10,
    "start_time": "2024-12-09T14:29:30.781Z"
   },
   {
    "duration": 10,
    "start_time": "2024-12-09T14:29:53.429Z"
   },
   {
    "duration": 2,
    "start_time": "2024-12-09T14:30:19.744Z"
   },
   {
    "duration": 181,
    "start_time": "2024-12-09T14:30:40.154Z"
   },
   {
    "duration": 9,
    "start_time": "2024-12-09T14:30:56.232Z"
   },
   {
    "duration": 3,
    "start_time": "2024-12-09T14:31:14.556Z"
   },
   {
    "duration": 279,
    "start_time": "2024-12-09T14:31:30.812Z"
   },
   {
    "duration": 4,
    "start_time": "2024-12-09T14:32:35.040Z"
   },
   {
    "duration": 2,
    "start_time": "2024-12-09T14:33:03.400Z"
   },
   {
    "duration": 3,
    "start_time": "2024-12-09T14:33:05.283Z"
   },
   {
    "duration": 164,
    "start_time": "2024-12-09T14:33:24.628Z"
   },
   {
    "duration": 1038,
    "start_time": "2024-12-09T14:35:08.396Z"
   },
   {
    "duration": 4,
    "start_time": "2024-12-09T14:35:10.925Z"
   },
   {
    "duration": 6,
    "start_time": "2024-12-09T14:35:13.241Z"
   },
   {
    "duration": 3,
    "start_time": "2024-12-09T14:35:24.781Z"
   },
   {
    "duration": 3,
    "start_time": "2024-12-09T14:35:25.747Z"
   },
   {
    "duration": 14943,
    "start_time": "2024-12-09T14:36:20.309Z"
   },
   {
    "duration": 4,
    "start_time": "2024-12-09T14:36:44.865Z"
   },
   {
    "duration": 6,
    "start_time": "2024-12-09T14:36:47.386Z"
   },
   {
    "duration": 3,
    "start_time": "2024-12-09T14:36:56.366Z"
   },
   {
    "duration": 71,
    "start_time": "2024-12-09T14:37:21.753Z"
   },
   {
    "duration": 2,
    "start_time": "2024-12-09T14:37:23.459Z"
   },
   {
    "duration": 106346,
    "start_time": "2024-12-09T14:37:34.047Z"
   },
   {
    "duration": 0,
    "start_time": "2024-12-09T14:39:20.394Z"
   },
   {
    "duration": 5888,
    "start_time": "2024-12-09T14:39:57.798Z"
   },
   {
    "duration": 2742,
    "start_time": "2024-12-09T14:40:03.688Z"
   },
   {
    "duration": 2627,
    "start_time": "2024-12-09T14:40:06.432Z"
   },
   {
    "duration": 2685,
    "start_time": "2024-12-09T14:40:09.061Z"
   },
   {
    "duration": 5,
    "start_time": "2024-12-09T14:40:11.748Z"
   },
   {
    "duration": 12,
    "start_time": "2024-12-09T14:40:11.755Z"
   },
   {
    "duration": 800,
    "start_time": "2024-12-09T14:40:11.768Z"
   },
   {
    "duration": 3,
    "start_time": "2024-12-09T14:40:12.569Z"
   },
   {
    "duration": 55,
    "start_time": "2024-12-09T14:40:12.573Z"
   },
   {
    "duration": 126,
    "start_time": "2024-12-09T14:40:12.630Z"
   },
   {
    "duration": 228,
    "start_time": "2024-12-09T14:40:12.758Z"
   },
   {
    "duration": 22,
    "start_time": "2024-12-09T14:40:12.988Z"
   },
   {
    "duration": 94,
    "start_time": "2024-12-09T14:40:13.012Z"
   },
   {
    "duration": 3,
    "start_time": "2024-12-09T14:40:13.108Z"
   },
   {
    "duration": 298,
    "start_time": "2024-12-09T14:40:13.112Z"
   },
   {
    "duration": 239,
    "start_time": "2024-12-09T14:40:13.412Z"
   },
   {
    "duration": 538,
    "start_time": "2024-12-09T14:40:13.652Z"
   },
   {
    "duration": 17,
    "start_time": "2024-12-09T14:40:14.191Z"
   },
   {
    "duration": 21,
    "start_time": "2024-12-09T14:40:14.209Z"
   },
   {
    "duration": 22,
    "start_time": "2024-12-09T14:40:14.231Z"
   },
   {
    "duration": 14,
    "start_time": "2024-12-09T14:40:14.254Z"
   },
   {
    "duration": 19,
    "start_time": "2024-12-09T14:40:14.286Z"
   },
   {
    "duration": 35,
    "start_time": "2024-12-09T14:40:14.306Z"
   },
   {
    "duration": 17,
    "start_time": "2024-12-09T14:40:14.342Z"
   },
   {
    "duration": 36,
    "start_time": "2024-12-09T14:40:14.361Z"
   },
   {
    "duration": 16,
    "start_time": "2024-12-09T14:40:14.398Z"
   },
   {
    "duration": 7,
    "start_time": "2024-12-09T14:40:14.416Z"
   },
   {
    "duration": 100,
    "start_time": "2024-12-09T14:40:14.426Z"
   },
   {
    "duration": 3,
    "start_time": "2024-12-09T14:40:14.528Z"
   },
   {
    "duration": 164,
    "start_time": "2024-12-09T14:40:14.533Z"
   },
   {
    "duration": 5,
    "start_time": "2024-12-09T14:40:14.698Z"
   },
   {
    "duration": 932,
    "start_time": "2024-12-09T14:40:14.704Z"
   },
   {
    "duration": 13,
    "start_time": "2024-12-09T14:40:15.637Z"
   },
   {
    "duration": 37,
    "start_time": "2024-12-09T14:40:15.651Z"
   },
   {
    "duration": 656,
    "start_time": "2024-12-09T14:40:15.690Z"
   },
   {
    "duration": 22,
    "start_time": "2024-12-09T14:40:16.347Z"
   },
   {
    "duration": 686,
    "start_time": "2024-12-09T14:40:16.371Z"
   },
   {
    "duration": 7,
    "start_time": "2024-12-09T14:40:17.059Z"
   },
   {
    "duration": 18,
    "start_time": "2024-12-09T14:40:17.068Z"
   },
   {
    "duration": 21,
    "start_time": "2024-12-09T14:40:17.088Z"
   },
   {
    "duration": 718,
    "start_time": "2024-12-09T14:40:17.111Z"
   },
   {
    "duration": 697,
    "start_time": "2024-12-09T14:40:17.831Z"
   },
   {
    "duration": 25,
    "start_time": "2024-12-09T14:40:18.530Z"
   },
   {
    "duration": 114,
    "start_time": "2024-12-09T14:40:18.557Z"
   },
   {
    "duration": 143,
    "start_time": "2024-12-09T14:40:18.672Z"
   },
   {
    "duration": 211,
    "start_time": "2024-12-09T14:40:18.816Z"
   },
   {
    "duration": 211,
    "start_time": "2024-12-09T14:40:19.087Z"
   },
   {
    "duration": 363,
    "start_time": "2024-12-09T14:40:19.300Z"
   },
   {
    "duration": 499,
    "start_time": "2024-12-09T14:40:19.664Z"
   },
   {
    "duration": 4148,
    "start_time": "2024-12-09T14:40:20.164Z"
   },
   {
    "duration": 900,
    "start_time": "2024-12-09T14:40:24.313Z"
   },
   {
    "duration": 75,
    "start_time": "2024-12-09T14:40:25.214Z"
   },
   {
    "duration": 47,
    "start_time": "2024-12-09T14:40:25.291Z"
   },
   {
    "duration": 50,
    "start_time": "2024-12-09T14:40:25.340Z"
   },
   {
    "duration": 151,
    "start_time": "2024-12-09T14:40:25.391Z"
   },
   {
    "duration": 200,
    "start_time": "2024-12-09T14:40:25.544Z"
   },
   {
    "duration": 3,
    "start_time": "2024-12-09T14:40:25.745Z"
   },
   {
    "duration": 50,
    "start_time": "2024-12-09T14:40:25.749Z"
   },
   {
    "duration": 10,
    "start_time": "2024-12-09T14:41:43.979Z"
   },
   {
    "duration": 8,
    "start_time": "2024-12-09T14:41:46.592Z"
   },
   {
    "duration": 3,
    "start_time": "2024-12-09T14:41:49.021Z"
   },
   {
    "duration": 189,
    "start_time": "2024-12-09T14:41:57.566Z"
   },
   {
    "duration": 9,
    "start_time": "2024-12-09T14:42:00.108Z"
   },
   {
    "duration": 3,
    "start_time": "2024-12-09T14:42:02.745Z"
   },
   {
    "duration": 278,
    "start_time": "2024-12-09T14:43:07.508Z"
   },
   {
    "duration": 4,
    "start_time": "2024-12-09T14:43:27.435Z"
   },
   {
    "duration": 2,
    "start_time": "2024-12-09T14:43:45.563Z"
   },
   {
    "duration": 2,
    "start_time": "2024-12-09T14:43:50.209Z"
   },
   {
    "duration": 976,
    "start_time": "2024-12-09T14:44:02.347Z"
   },
   {
    "duration": 4,
    "start_time": "2024-12-09T14:44:05.737Z"
   },
   {
    "duration": 5,
    "start_time": "2024-12-09T14:44:08.971Z"
   },
   {
    "duration": 3,
    "start_time": "2024-12-09T14:44:41.344Z"
   },
   {
    "duration": 2,
    "start_time": "2024-12-09T14:44:43.205Z"
   },
   {
    "duration": 14990,
    "start_time": "2024-12-09T14:47:08.160Z"
   },
   {
    "duration": 3,
    "start_time": "2024-12-09T14:47:26.305Z"
   },
   {
    "duration": 5,
    "start_time": "2024-12-09T14:47:28.533Z"
   },
   {
    "duration": 2,
    "start_time": "2024-12-09T14:47:36.726Z"
   },
   {
    "duration": 5864,
    "start_time": "2024-12-09T14:49:21.539Z"
   },
   {
    "duration": 2737,
    "start_time": "2024-12-09T14:49:27.406Z"
   },
   {
    "duration": 2660,
    "start_time": "2024-12-09T14:49:30.145Z"
   },
   {
    "duration": 2644,
    "start_time": "2024-12-09T14:49:32.807Z"
   },
   {
    "duration": 5,
    "start_time": "2024-12-09T14:49:35.453Z"
   },
   {
    "duration": 58,
    "start_time": "2024-12-09T14:49:35.460Z"
   },
   {
    "duration": 729,
    "start_time": "2024-12-09T14:49:35.519Z"
   },
   {
    "duration": 3,
    "start_time": "2024-12-09T14:49:36.250Z"
   },
   {
    "duration": 26,
    "start_time": "2024-12-09T14:49:36.254Z"
   },
   {
    "duration": 156,
    "start_time": "2024-12-09T14:49:36.283Z"
   },
   {
    "duration": 234,
    "start_time": "2024-12-09T14:49:36.440Z"
   },
   {
    "duration": 24,
    "start_time": "2024-12-09T14:49:36.676Z"
   },
   {
    "duration": 87,
    "start_time": "2024-12-09T14:49:36.701Z"
   },
   {
    "duration": 4,
    "start_time": "2024-12-09T14:49:36.790Z"
   },
   {
    "duration": 328,
    "start_time": "2024-12-09T14:49:36.795Z"
   },
   {
    "duration": 216,
    "start_time": "2024-12-09T14:49:37.125Z"
   },
   {
    "duration": 486,
    "start_time": "2024-12-09T14:49:37.342Z"
   },
   {
    "duration": 18,
    "start_time": "2024-12-09T14:49:37.829Z"
   },
   {
    "duration": 29,
    "start_time": "2024-12-09T14:49:37.848Z"
   },
   {
    "duration": 47,
    "start_time": "2024-12-09T14:49:37.879Z"
   },
   {
    "duration": 12,
    "start_time": "2024-12-09T14:49:37.927Z"
   },
   {
    "duration": 30,
    "start_time": "2024-12-09T14:49:37.941Z"
   },
   {
    "duration": 32,
    "start_time": "2024-12-09T14:49:37.972Z"
   },
   {
    "duration": 17,
    "start_time": "2024-12-09T14:49:38.005Z"
   },
   {
    "duration": 30,
    "start_time": "2024-12-09T14:49:38.023Z"
   },
   {
    "duration": 17,
    "start_time": "2024-12-09T14:49:38.055Z"
   },
   {
    "duration": 19,
    "start_time": "2024-12-09T14:49:38.074Z"
   },
   {
    "duration": 90,
    "start_time": "2024-12-09T14:49:38.097Z"
   },
   {
    "duration": 4,
    "start_time": "2024-12-09T14:49:38.188Z"
   },
   {
    "duration": 95,
    "start_time": "2024-12-09T14:49:38.193Z"
   },
   {
    "duration": 5,
    "start_time": "2024-12-09T14:49:38.289Z"
   },
   {
    "duration": 925,
    "start_time": "2024-12-09T14:49:38.295Z"
   },
   {
    "duration": 12,
    "start_time": "2024-12-09T14:49:39.221Z"
   },
   {
    "duration": 30,
    "start_time": "2024-12-09T14:49:39.235Z"
   },
   {
    "duration": 737,
    "start_time": "2024-12-09T14:49:39.266Z"
   },
   {
    "duration": 26,
    "start_time": "2024-12-09T14:49:40.005Z"
   },
   {
    "duration": 725,
    "start_time": "2024-12-09T14:49:40.033Z"
   },
   {
    "duration": 9,
    "start_time": "2024-12-09T14:49:40.759Z"
   },
   {
    "duration": 18,
    "start_time": "2024-12-09T14:49:40.769Z"
   },
   {
    "duration": 23,
    "start_time": "2024-12-09T14:49:40.788Z"
   },
   {
    "duration": 721,
    "start_time": "2024-12-09T14:49:40.812Z"
   },
   {
    "duration": 699,
    "start_time": "2024-12-09T14:49:41.534Z"
   },
   {
    "duration": 19,
    "start_time": "2024-12-09T14:49:42.235Z"
   },
   {
    "duration": 97,
    "start_time": "2024-12-09T14:49:42.256Z"
   },
   {
    "duration": 155,
    "start_time": "2024-12-09T14:49:42.355Z"
   },
   {
    "duration": 187,
    "start_time": "2024-12-09T14:49:42.512Z"
   },
   {
    "duration": 193,
    "start_time": "2024-12-09T14:49:42.701Z"
   },
   {
    "duration": 356,
    "start_time": "2024-12-09T14:49:42.896Z"
   },
   {
    "duration": 603,
    "start_time": "2024-12-09T14:49:43.253Z"
   },
   {
    "duration": 3902,
    "start_time": "2024-12-09T14:49:43.858Z"
   },
   {
    "duration": 873,
    "start_time": "2024-12-09T14:49:47.761Z"
   },
   {
    "duration": 79,
    "start_time": "2024-12-09T14:49:48.635Z"
   },
   {
    "duration": 47,
    "start_time": "2024-12-09T14:49:48.715Z"
   },
   {
    "duration": 51,
    "start_time": "2024-12-09T14:49:48.763Z"
   },
   {
    "duration": 105,
    "start_time": "2024-12-09T14:49:48.816Z"
   },
   {
    "duration": 198,
    "start_time": "2024-12-09T14:49:48.923Z"
   },
   {
    "duration": 3,
    "start_time": "2024-12-09T14:49:49.122Z"
   },
   {
    "duration": 42,
    "start_time": "2024-12-09T14:49:49.127Z"
   },
   {
    "duration": 11,
    "start_time": "2024-12-09T14:50:13.355Z"
   },
   {
    "duration": 9,
    "start_time": "2024-12-09T14:50:25.734Z"
   },
   {
    "duration": 4,
    "start_time": "2024-12-09T14:50:33.182Z"
   },
   {
    "duration": 181,
    "start_time": "2024-12-09T14:50:38.073Z"
   },
   {
    "duration": 9,
    "start_time": "2024-12-09T14:50:39.921Z"
   },
   {
    "duration": 2,
    "start_time": "2024-12-09T14:50:44.433Z"
   },
   {
    "duration": 298,
    "start_time": "2024-12-09T14:50:49.430Z"
   },
   {
    "duration": 4,
    "start_time": "2024-12-09T14:50:51.528Z"
   },
   {
    "duration": 2,
    "start_time": "2024-12-09T14:51:11.833Z"
   },
   {
    "duration": 3,
    "start_time": "2024-12-09T14:51:13.393Z"
   },
   {
    "duration": 27973,
    "start_time": "2024-12-09T14:51:22.218Z"
   },
   {
    "duration": 93,
    "start_time": "2024-12-09T14:51:50.193Z"
   },
   {
    "duration": 5,
    "start_time": "2024-12-09T14:52:00.489Z"
   },
   {
    "duration": 3,
    "start_time": "2024-12-09T14:52:21.354Z"
   },
   {
    "duration": 3,
    "start_time": "2024-12-09T14:52:23.573Z"
   },
   {
    "duration": 9258,
    "start_time": "2024-12-09T14:52:29.264Z"
   },
   {
    "duration": 3,
    "start_time": "2024-12-09T14:52:40.545Z"
   },
   {
    "duration": 6,
    "start_time": "2024-12-09T14:52:43.823Z"
   },
   {
    "duration": 4,
    "start_time": "2024-12-09T14:52:48.900Z"
   },
   {
    "duration": 73,
    "start_time": "2024-12-09T14:52:57.767Z"
   },
   {
    "duration": 2,
    "start_time": "2024-12-09T14:53:00.030Z"
   },
   {
    "duration": 173730,
    "start_time": "2024-12-09T14:53:12.659Z"
   },
   {
    "duration": 3,
    "start_time": "2024-12-09T14:56:29.870Z"
   },
   {
    "duration": 6,
    "start_time": "2024-12-09T14:58:44.357Z"
   },
   {
    "duration": 3,
    "start_time": "2024-12-09T14:58:47.982Z"
   },
   {
    "duration": 81,
    "start_time": "2024-12-09T14:59:08.967Z"
   },
   {
    "duration": 3,
    "start_time": "2024-12-09T14:59:14.595Z"
   },
   {
    "duration": 144317,
    "start_time": "2024-12-09T14:59:39.118Z"
   },
   {
    "duration": 4,
    "start_time": "2024-12-09T15:02:12.272Z"
   },
   {
    "duration": 4,
    "start_time": "2024-12-09T15:02:16.823Z"
   },
   {
    "duration": 9,
    "start_time": "2024-12-09T15:02:22.974Z"
   },
   {
    "duration": 43,
    "start_time": "2024-12-09T15:08:33.151Z"
   },
   {
    "duration": 4,
    "start_time": "2024-12-09T15:08:36.396Z"
   },
   {
    "duration": 264,
    "start_time": "2024-12-09T15:13:44.723Z"
   },
   {
    "duration": 5,
    "start_time": "2024-12-09T15:13:45.989Z"
   },
   {
    "duration": 5821,
    "start_time": "2024-12-09T15:23:27.639Z"
   },
   {
    "duration": 2676,
    "start_time": "2024-12-09T15:23:33.462Z"
   },
   {
    "duration": 2656,
    "start_time": "2024-12-09T15:23:36.140Z"
   },
   {
    "duration": 2695,
    "start_time": "2024-12-09T15:23:38.798Z"
   },
   {
    "duration": 1419,
    "start_time": "2024-12-09T15:23:41.496Z"
   },
   {
    "duration": 3,
    "start_time": "2024-12-09T15:23:42.916Z"
   },
   {
    "duration": 792,
    "start_time": "2024-12-09T15:23:42.920Z"
   },
   {
    "duration": 3,
    "start_time": "2024-12-09T15:23:43.713Z"
   },
   {
    "duration": 8,
    "start_time": "2024-12-09T15:23:43.718Z"
   },
   {
    "duration": 118,
    "start_time": "2024-12-09T15:23:43.727Z"
   },
   {
    "duration": 258,
    "start_time": "2024-12-09T15:23:43.847Z"
   },
   {
    "duration": 32,
    "start_time": "2024-12-09T15:23:44.106Z"
   },
   {
    "duration": 92,
    "start_time": "2024-12-09T15:23:44.140Z"
   },
   {
    "duration": 4,
    "start_time": "2024-12-09T15:23:44.235Z"
   },
   {
    "duration": 316,
    "start_time": "2024-12-09T15:23:44.240Z"
   },
   {
    "duration": 256,
    "start_time": "2024-12-09T15:23:44.557Z"
   },
   {
    "duration": 566,
    "start_time": "2024-12-09T15:23:44.815Z"
   },
   {
    "duration": 18,
    "start_time": "2024-12-09T15:23:45.386Z"
   },
   {
    "duration": 52,
    "start_time": "2024-12-09T15:23:45.406Z"
   },
   {
    "duration": 44,
    "start_time": "2024-12-09T15:23:45.460Z"
   },
   {
    "duration": 15,
    "start_time": "2024-12-09T15:23:45.505Z"
   },
   {
    "duration": 25,
    "start_time": "2024-12-09T15:23:45.522Z"
   },
   {
    "duration": 120,
    "start_time": "2024-12-09T15:23:45.549Z"
   },
   {
    "duration": 16,
    "start_time": "2024-12-09T15:23:45.671Z"
   },
   {
    "duration": 23,
    "start_time": "2024-12-09T15:23:45.688Z"
   },
   {
    "duration": 16,
    "start_time": "2024-12-09T15:23:45.713Z"
   },
   {
    "duration": 7,
    "start_time": "2024-12-09T15:23:45.731Z"
   },
   {
    "duration": 172,
    "start_time": "2024-12-09T15:23:45.739Z"
   },
   {
    "duration": 3,
    "start_time": "2024-12-09T15:23:45.913Z"
   },
   {
    "duration": 94,
    "start_time": "2024-12-09T15:23:45.918Z"
   },
   {
    "duration": 6,
    "start_time": "2024-12-09T15:23:46.013Z"
   },
   {
    "duration": 848,
    "start_time": "2024-12-09T15:23:46.020Z"
   },
   {
    "duration": 21,
    "start_time": "2024-12-09T15:23:46.869Z"
   },
   {
    "duration": 30,
    "start_time": "2024-12-09T15:23:46.891Z"
   },
   {
    "duration": 718,
    "start_time": "2024-12-09T15:23:46.922Z"
   },
   {
    "duration": 29,
    "start_time": "2024-12-09T15:23:47.641Z"
   },
   {
    "duration": 719,
    "start_time": "2024-12-09T15:23:47.686Z"
   },
   {
    "duration": 8,
    "start_time": "2024-12-09T15:23:48.407Z"
   },
   {
    "duration": 4,
    "start_time": "2024-12-09T15:23:48.416Z"
   },
   {
    "duration": 31,
    "start_time": "2024-12-09T15:23:48.421Z"
   },
   {
    "duration": 797,
    "start_time": "2024-12-09T15:23:48.457Z"
   },
   {
    "duration": 691,
    "start_time": "2024-12-09T15:23:49.255Z"
   },
   {
    "duration": 38,
    "start_time": "2024-12-09T15:23:49.948Z"
   },
   {
    "duration": 71,
    "start_time": "2024-12-09T15:23:49.988Z"
   },
   {
    "duration": 155,
    "start_time": "2024-12-09T15:23:50.061Z"
   },
   {
    "duration": 206,
    "start_time": "2024-12-09T15:23:50.287Z"
   },
   {
    "duration": 201,
    "start_time": "2024-12-09T15:23:50.495Z"
   },
   {
    "duration": 358,
    "start_time": "2024-12-09T15:23:50.697Z"
   },
   {
    "duration": 523,
    "start_time": "2024-12-09T15:23:51.057Z"
   },
   {
    "duration": 4017,
    "start_time": "2024-12-09T15:23:51.582Z"
   },
   {
    "duration": 950,
    "start_time": "2024-12-09T15:23:55.601Z"
   },
   {
    "duration": 71,
    "start_time": "2024-12-09T15:23:56.552Z"
   },
   {
    "duration": 48,
    "start_time": "2024-12-09T15:23:56.625Z"
   },
   {
    "duration": 45,
    "start_time": "2024-12-09T15:23:56.674Z"
   },
   {
    "duration": 98,
    "start_time": "2024-12-09T15:23:56.720Z"
   },
   {
    "duration": 198,
    "start_time": "2024-12-09T15:23:56.820Z"
   },
   {
    "duration": 3,
    "start_time": "2024-12-09T15:23:57.020Z"
   },
   {
    "duration": 36,
    "start_time": "2024-12-09T15:23:57.024Z"
   },
   {
    "duration": 9,
    "start_time": "2024-12-09T15:23:57.061Z"
   },
   {
    "duration": 7,
    "start_time": "2024-12-09T15:23:57.086Z"
   },
   {
    "duration": 4,
    "start_time": "2024-12-09T15:23:57.094Z"
   },
   {
    "duration": 201,
    "start_time": "2024-12-09T15:23:57.099Z"
   },
   {
    "duration": 7,
    "start_time": "2024-12-09T15:23:57.302Z"
   },
   {
    "duration": 5,
    "start_time": "2024-12-09T15:23:57.310Z"
   },
   {
    "duration": 291,
    "start_time": "2024-12-09T15:23:57.316Z"
   },
   {
    "duration": 5,
    "start_time": "2024-12-09T15:23:57.608Z"
   },
   {
    "duration": 32,
    "start_time": "2024-12-09T15:23:57.614Z"
   },
   {
    "duration": 13,
    "start_time": "2024-12-09T15:23:57.647Z"
   },
   {
    "duration": 23,
    "start_time": "2024-12-09T15:23:57.661Z"
   },
   {
    "duration": 7,
    "start_time": "2024-12-09T15:23:57.686Z"
   },
   {
    "duration": 17,
    "start_time": "2024-12-09T15:23:57.694Z"
   },
   {
    "duration": 4,
    "start_time": "2024-12-09T15:23:57.712Z"
   },
   {
    "duration": 25877,
    "start_time": "2024-12-09T15:23:57.718Z"
   },
   {
    "duration": 6,
    "start_time": "2024-12-09T15:24:23.688Z"
   },
   {
    "duration": 6,
    "start_time": "2024-12-09T15:24:23.787Z"
   },
   {
    "duration": 5,
    "start_time": "2024-12-09T15:24:23.794Z"
   },
   {
    "duration": 3,
    "start_time": "2024-12-09T15:24:23.800Z"
   },
   {
    "duration": 9528,
    "start_time": "2024-12-09T15:24:23.804Z"
   },
   {
    "duration": 3,
    "start_time": "2024-12-09T15:24:33.333Z"
   },
   {
    "duration": 15,
    "start_time": "2024-12-09T15:24:33.337Z"
   },
   {
    "duration": 21,
    "start_time": "2024-12-09T15:24:33.354Z"
   },
   {
    "duration": 111,
    "start_time": "2024-12-09T15:24:33.376Z"
   },
   {
    "duration": 3,
    "start_time": "2024-12-09T15:24:33.488Z"
   },
   {
    "duration": 6112,
    "start_time": "2024-12-09T15:43:31.219Z"
   },
   {
    "duration": 2749,
    "start_time": "2024-12-09T15:43:37.333Z"
   },
   {
    "duration": 2854,
    "start_time": "2024-12-09T15:43:40.084Z"
   },
   {
    "duration": 2736,
    "start_time": "2024-12-09T15:43:42.940Z"
   },
   {
    "duration": 1453,
    "start_time": "2024-12-09T15:43:45.678Z"
   },
   {
    "duration": 3,
    "start_time": "2024-12-09T15:43:47.132Z"
   },
   {
    "duration": 798,
    "start_time": "2024-12-09T15:43:47.136Z"
   },
   {
    "duration": 2,
    "start_time": "2024-12-09T15:43:47.936Z"
   },
   {
    "duration": 22,
    "start_time": "2024-12-09T15:43:47.939Z"
   },
   {
    "duration": 125,
    "start_time": "2024-12-09T15:43:47.963Z"
   },
   {
    "duration": 329,
    "start_time": "2024-12-09T15:43:48.090Z"
   },
   {
    "duration": 31,
    "start_time": "2024-12-09T15:43:48.421Z"
   },
   {
    "duration": 89,
    "start_time": "2024-12-09T15:43:48.454Z"
   },
   {
    "duration": 4,
    "start_time": "2024-12-09T15:43:48.544Z"
   },
   {
    "duration": 378,
    "start_time": "2024-12-09T15:43:48.549Z"
   },
   {
    "duration": 366,
    "start_time": "2024-12-09T15:43:48.929Z"
   },
   {
    "duration": 615,
    "start_time": "2024-12-09T15:43:49.296Z"
   },
   {
    "duration": 17,
    "start_time": "2024-12-09T15:43:49.912Z"
   },
   {
    "duration": 33,
    "start_time": "2024-12-09T15:43:49.931Z"
   },
   {
    "duration": 35,
    "start_time": "2024-12-09T15:43:49.966Z"
   },
   {
    "duration": 12,
    "start_time": "2024-12-09T15:43:50.002Z"
   },
   {
    "duration": 36,
    "start_time": "2024-12-09T15:43:50.015Z"
   },
   {
    "duration": 38,
    "start_time": "2024-12-09T15:43:50.052Z"
   },
   {
    "duration": 31,
    "start_time": "2024-12-09T15:43:50.092Z"
   },
   {
    "duration": 44,
    "start_time": "2024-12-09T15:43:50.124Z"
   },
   {
    "duration": 16,
    "start_time": "2024-12-09T15:43:50.170Z"
   },
   {
    "duration": 30,
    "start_time": "2024-12-09T15:43:50.188Z"
   },
   {
    "duration": 96,
    "start_time": "2024-12-09T15:43:50.283Z"
   },
   {
    "duration": 20,
    "start_time": "2024-12-09T15:43:50.380Z"
   },
   {
    "duration": 111,
    "start_time": "2024-12-09T15:43:50.401Z"
   },
   {
    "duration": 5,
    "start_time": "2024-12-09T15:43:50.513Z"
   },
   {
    "duration": 953,
    "start_time": "2024-12-09T15:43:50.519Z"
   },
   {
    "duration": 25,
    "start_time": "2024-12-09T15:43:51.473Z"
   },
   {
    "duration": 54,
    "start_time": "2024-12-09T15:43:51.500Z"
   },
   {
    "duration": 772,
    "start_time": "2024-12-09T15:43:51.555Z"
   },
   {
    "duration": 28,
    "start_time": "2024-12-09T15:43:52.328Z"
   },
   {
    "duration": 768,
    "start_time": "2024-12-09T15:43:52.358Z"
   },
   {
    "duration": 9,
    "start_time": "2024-12-09T15:43:53.128Z"
   },
   {
    "duration": 8,
    "start_time": "2024-12-09T15:43:53.138Z"
   },
   {
    "duration": 56,
    "start_time": "2024-12-09T15:43:53.147Z"
   },
   {
    "duration": 745,
    "start_time": "2024-12-09T15:43:53.205Z"
   },
   {
    "duration": 700,
    "start_time": "2024-12-09T15:43:53.951Z"
   },
   {
    "duration": 21,
    "start_time": "2024-12-09T15:43:54.652Z"
   },
   {
    "duration": 71,
    "start_time": "2024-12-09T15:43:54.686Z"
   },
   {
    "duration": 158,
    "start_time": "2024-12-09T15:43:54.759Z"
   },
   {
    "duration": 193,
    "start_time": "2024-12-09T15:43:54.919Z"
   },
   {
    "duration": 204,
    "start_time": "2024-12-09T15:43:55.114Z"
   },
   {
    "duration": 292,
    "start_time": "2024-12-09T15:43:55.387Z"
   },
   {
    "duration": 515,
    "start_time": "2024-12-09T15:43:55.680Z"
   },
   {
    "duration": 4204,
    "start_time": "2024-12-09T15:43:56.197Z"
   },
   {
    "duration": 984,
    "start_time": "2024-12-09T15:44:00.403Z"
   },
   {
    "duration": 70,
    "start_time": "2024-12-09T15:44:01.389Z"
   },
   {
    "duration": 65,
    "start_time": "2024-12-09T15:44:01.461Z"
   },
   {
    "duration": 74,
    "start_time": "2024-12-09T15:44:01.528Z"
   },
   {
    "duration": 106,
    "start_time": "2024-12-09T15:44:01.604Z"
   },
   {
    "duration": 193,
    "start_time": "2024-12-09T15:44:01.712Z"
   },
   {
    "duration": 4,
    "start_time": "2024-12-09T15:44:01.906Z"
   },
   {
    "duration": 54,
    "start_time": "2024-12-09T15:44:01.912Z"
   },
   {
    "duration": 10,
    "start_time": "2024-12-09T15:44:01.968Z"
   },
   {
    "duration": 55,
    "start_time": "2024-12-09T15:44:01.980Z"
   },
   {
    "duration": 15,
    "start_time": "2024-12-09T15:44:02.036Z"
   },
   {
    "duration": 194,
    "start_time": "2024-12-09T15:44:02.052Z"
   },
   {
    "duration": 8,
    "start_time": "2024-12-09T15:44:02.247Z"
   },
   {
    "duration": 7,
    "start_time": "2024-12-09T15:44:02.256Z"
   },
   {
    "duration": 322,
    "start_time": "2024-12-09T15:44:02.264Z"
   },
   {
    "duration": 6,
    "start_time": "2024-12-09T15:44:02.588Z"
   },
   {
    "duration": 28,
    "start_time": "2024-12-09T15:44:02.595Z"
   },
   {
    "duration": 9,
    "start_time": "2024-12-09T15:44:02.624Z"
   },
   {
    "duration": 17,
    "start_time": "2024-12-09T15:44:02.634Z"
   },
   {
    "duration": 5,
    "start_time": "2024-12-09T15:44:02.652Z"
   },
   {
    "duration": 35,
    "start_time": "2024-12-09T15:44:02.658Z"
   },
   {
    "duration": 14,
    "start_time": "2024-12-09T15:44:02.694Z"
   },
   {
    "duration": 20685,
    "start_time": "2024-12-09T15:44:02.710Z"
   },
   {
    "duration": 87,
    "start_time": "2024-12-09T15:44:23.399Z"
   },
   {
    "duration": 13,
    "start_time": "2024-12-09T15:44:23.489Z"
   },
   {
    "duration": 3,
    "start_time": "2024-12-09T15:44:23.503Z"
   },
   {
    "duration": 5,
    "start_time": "2024-12-09T15:44:23.507Z"
   },
   {
    "duration": 9882,
    "start_time": "2024-12-09T15:44:23.514Z"
   },
   {
    "duration": 5,
    "start_time": "2024-12-09T15:44:33.398Z"
   },
   {
    "duration": 17,
    "start_time": "2024-12-09T15:44:33.404Z"
   },
   {
    "duration": 14,
    "start_time": "2024-12-09T15:44:33.423Z"
   },
   {
    "duration": 140,
    "start_time": "2024-12-09T15:44:33.442Z"
   },
   {
    "duration": 3,
    "start_time": "2024-12-09T15:44:33.583Z"
   },
   {
    "duration": 731326,
    "start_time": "2024-12-09T15:44:33.587Z"
   },
   {
    "duration": 0,
    "start_time": "2024-12-09T15:56:44.915Z"
   },
   {
    "duration": 0,
    "start_time": "2024-12-09T15:56:44.916Z"
   },
   {
    "duration": 0,
    "start_time": "2024-12-09T15:56:44.917Z"
   },
   {
    "duration": 0,
    "start_time": "2024-12-09T15:56:44.918Z"
   },
   {
    "duration": 0,
    "start_time": "2024-12-09T15:56:44.919Z"
   },
   {
    "duration": 0,
    "start_time": "2024-12-09T15:56:44.920Z"
   },
   {
    "duration": 0,
    "start_time": "2024-12-09T15:56:44.921Z"
   },
   {
    "duration": 0,
    "start_time": "2024-12-09T15:56:44.922Z"
   },
   {
    "duration": 0,
    "start_time": "2024-12-09T15:56:44.924Z"
   },
   {
    "duration": 0,
    "start_time": "2024-12-09T15:56:44.925Z"
   },
   {
    "duration": 0,
    "start_time": "2024-12-09T15:56:44.926Z"
   },
   {
    "duration": 6194,
    "start_time": "2024-12-09T15:57:10.275Z"
   },
   {
    "duration": 2899,
    "start_time": "2024-12-09T15:57:16.472Z"
   },
   {
    "duration": 2848,
    "start_time": "2024-12-09T15:57:19.373Z"
   },
   {
    "duration": 2843,
    "start_time": "2024-12-09T15:57:22.224Z"
   },
   {
    "duration": 6,
    "start_time": "2024-12-09T15:57:25.069Z"
   },
   {
    "duration": 25,
    "start_time": "2024-12-09T15:57:25.076Z"
   },
   {
    "duration": 834,
    "start_time": "2024-12-09T15:57:25.103Z"
   },
   {
    "duration": 3,
    "start_time": "2024-12-09T15:57:25.939Z"
   },
   {
    "duration": 7,
    "start_time": "2024-12-09T15:57:25.943Z"
   },
   {
    "duration": 131,
    "start_time": "2024-12-09T15:57:25.953Z"
   },
   {
    "duration": 250,
    "start_time": "2024-12-09T15:57:26.087Z"
   },
   {
    "duration": 21,
    "start_time": "2024-12-09T15:57:26.339Z"
   },
   {
    "duration": 96,
    "start_time": "2024-12-09T15:57:26.361Z"
   },
   {
    "duration": 3,
    "start_time": "2024-12-09T15:57:26.459Z"
   },
   {
    "duration": 303,
    "start_time": "2024-12-09T15:57:26.464Z"
   },
   {
    "duration": 228,
    "start_time": "2024-12-09T15:57:26.769Z"
   },
   {
    "duration": 614,
    "start_time": "2024-12-09T15:57:27.007Z"
   },
   {
    "duration": 18,
    "start_time": "2024-12-09T15:57:27.622Z"
   },
   {
    "duration": 20,
    "start_time": "2024-12-09T15:57:27.641Z"
   },
   {
    "duration": 33,
    "start_time": "2024-12-09T15:57:27.662Z"
   },
   {
    "duration": 89,
    "start_time": "2024-12-09T15:57:27.696Z"
   },
   {
    "duration": 28,
    "start_time": "2024-12-09T15:57:27.788Z"
   },
   {
    "duration": 47,
    "start_time": "2024-12-09T15:57:27.818Z"
   },
   {
    "duration": 16,
    "start_time": "2024-12-09T15:57:27.866Z"
   },
   {
    "duration": 38,
    "start_time": "2024-12-09T15:57:27.884Z"
   },
   {
    "duration": 16,
    "start_time": "2024-12-09T15:57:27.924Z"
   },
   {
    "duration": 8,
    "start_time": "2024-12-09T15:57:27.941Z"
   },
   {
    "duration": 97,
    "start_time": "2024-12-09T15:57:27.952Z"
   },
   {
    "duration": 5,
    "start_time": "2024-12-09T15:57:28.051Z"
   },
   {
    "duration": 105,
    "start_time": "2024-12-09T15:57:28.057Z"
   },
   {
    "duration": 5,
    "start_time": "2024-12-09T15:57:28.164Z"
   },
   {
    "duration": 1019,
    "start_time": "2024-12-09T15:57:28.171Z"
   },
   {
    "duration": 16,
    "start_time": "2024-12-09T15:57:29.192Z"
   },
   {
    "duration": 21,
    "start_time": "2024-12-09T15:57:29.210Z"
   },
   {
    "duration": 798,
    "start_time": "2024-12-09T15:57:29.233Z"
   },
   {
    "duration": 22,
    "start_time": "2024-12-09T15:57:30.033Z"
   },
   {
    "duration": 912,
    "start_time": "2024-12-09T15:57:30.057Z"
   },
   {
    "duration": 17,
    "start_time": "2024-12-09T15:57:30.971Z"
   },
   {
    "duration": 11,
    "start_time": "2024-12-09T15:57:30.990Z"
   },
   {
    "duration": 48,
    "start_time": "2024-12-09T15:57:31.004Z"
   },
   {
    "duration": 802,
    "start_time": "2024-12-09T15:57:31.053Z"
   },
   {
    "duration": 707,
    "start_time": "2024-12-09T15:57:31.856Z"
   },
   {
    "duration": 35,
    "start_time": "2024-12-09T15:57:32.564Z"
   },
   {
    "duration": 67,
    "start_time": "2024-12-09T15:57:32.601Z"
   },
   {
    "duration": 228,
    "start_time": "2024-12-09T15:57:32.670Z"
   },
   {
    "duration": 207,
    "start_time": "2024-12-09T15:57:32.900Z"
   },
   {
    "duration": 198,
    "start_time": "2024-12-09T15:57:33.110Z"
   },
   {
    "duration": 370,
    "start_time": "2024-12-09T15:57:33.309Z"
   },
   {
    "duration": 524,
    "start_time": "2024-12-09T15:57:33.689Z"
   },
   {
    "duration": 4346,
    "start_time": "2024-12-09T15:57:34.214Z"
   },
   {
    "duration": 964,
    "start_time": "2024-12-09T15:57:38.561Z"
   },
   {
    "duration": 76,
    "start_time": "2024-12-09T15:57:39.527Z"
   },
   {
    "duration": 50,
    "start_time": "2024-12-09T15:57:39.604Z"
   },
   {
    "duration": 57,
    "start_time": "2024-12-09T15:57:39.656Z"
   },
   {
    "duration": 172,
    "start_time": "2024-12-09T15:57:39.715Z"
   },
   {
    "duration": 214,
    "start_time": "2024-12-09T15:57:39.888Z"
   },
   {
    "duration": 4,
    "start_time": "2024-12-09T15:57:40.104Z"
   },
   {
    "duration": 46,
    "start_time": "2024-12-09T15:57:40.109Z"
   },
   {
    "duration": 35,
    "start_time": "2024-12-09T15:57:40.157Z"
   },
   {
    "duration": 8,
    "start_time": "2024-12-09T15:57:40.193Z"
   },
   {
    "duration": 3,
    "start_time": "2024-12-09T15:57:40.202Z"
   },
   {
    "duration": 208,
    "start_time": "2024-12-09T15:57:40.206Z"
   },
   {
    "duration": 9,
    "start_time": "2024-12-09T15:57:40.416Z"
   },
   {
    "duration": 3,
    "start_time": "2024-12-09T15:57:40.427Z"
   },
   {
    "duration": 313,
    "start_time": "2024-12-09T15:57:40.431Z"
   },
   {
    "duration": 5,
    "start_time": "2024-12-09T15:57:40.745Z"
   },
   {
    "duration": 8,
    "start_time": "2024-12-09T15:57:40.751Z"
   },
   {
    "duration": 3,
    "start_time": "2024-12-09T15:57:40.760Z"
   },
   {
    "duration": 6,
    "start_time": "2024-12-09T15:57:40.764Z"
   },
   {
    "duration": 4,
    "start_time": "2024-12-09T15:57:40.771Z"
   },
   {
    "duration": 10,
    "start_time": "2024-12-09T15:57:40.776Z"
   },
   {
    "duration": 2,
    "start_time": "2024-12-09T15:57:40.788Z"
   },
   {
    "duration": 27316,
    "start_time": "2024-12-09T15:57:40.791Z"
   },
   {
    "duration": 95,
    "start_time": "2024-12-09T15:58:08.110Z"
   },
   {
    "duration": 90,
    "start_time": "2024-12-09T15:58:08.210Z"
   },
   {
    "duration": 3,
    "start_time": "2024-12-09T15:58:08.302Z"
   },
   {
    "duration": 6,
    "start_time": "2024-12-09T15:58:08.307Z"
   },
   {
    "duration": 10204,
    "start_time": "2024-12-09T15:58:08.314Z"
   },
   {
    "duration": 4,
    "start_time": "2024-12-09T15:58:18.520Z"
   },
   {
    "duration": 5,
    "start_time": "2024-12-09T15:58:18.526Z"
   },
   {
    "duration": 2,
    "start_time": "2024-12-09T15:58:18.533Z"
   },
   {
    "duration": 107,
    "start_time": "2024-12-09T15:58:18.540Z"
   },
   {
    "duration": 3,
    "start_time": "2024-12-09T15:58:26.323Z"
   },
   {
    "duration": 9066,
    "start_time": "2024-12-09T16:10:52.582Z"
   },
   {
    "duration": 4212,
    "start_time": "2024-12-09T16:11:01.651Z"
   },
   {
    "duration": 2815,
    "start_time": "2024-12-09T16:11:05.864Z"
   },
   {
    "duration": 2852,
    "start_time": "2024-12-09T16:11:08.682Z"
   },
   {
    "duration": 1461,
    "start_time": "2024-12-09T16:11:11.536Z"
   },
   {
    "duration": 2,
    "start_time": "2024-12-09T16:11:13.001Z"
   },
   {
    "duration": 838,
    "start_time": "2024-12-09T16:11:13.005Z"
   },
   {
    "duration": 3,
    "start_time": "2024-12-09T16:11:13.845Z"
   },
   {
    "duration": 33,
    "start_time": "2024-12-09T16:11:13.849Z"
   },
   {
    "duration": 136,
    "start_time": "2024-12-09T16:11:13.885Z"
   },
   {
    "duration": 274,
    "start_time": "2024-12-09T16:11:14.022Z"
   },
   {
    "duration": 32,
    "start_time": "2024-12-09T16:11:14.298Z"
   },
   {
    "duration": 145,
    "start_time": "2024-12-09T16:11:14.332Z"
   },
   {
    "duration": 8,
    "start_time": "2024-12-09T16:11:14.486Z"
   },
   {
    "duration": 332,
    "start_time": "2024-12-09T16:11:14.497Z"
   },
   {
    "duration": 271,
    "start_time": "2024-12-09T16:11:14.831Z"
   },
   {
    "duration": 628,
    "start_time": "2024-12-09T16:11:15.104Z"
   },
   {
    "duration": 17,
    "start_time": "2024-12-09T16:11:15.734Z"
   },
   {
    "duration": 60,
    "start_time": "2024-12-09T16:11:15.752Z"
   },
   {
    "duration": 79,
    "start_time": "2024-12-09T16:11:15.814Z"
   },
   {
    "duration": 12,
    "start_time": "2024-12-09T16:11:15.903Z"
   },
   {
    "duration": 18,
    "start_time": "2024-12-09T16:11:15.916Z"
   },
   {
    "duration": 46,
    "start_time": "2024-12-09T16:11:15.935Z"
   },
   {
    "duration": 18,
    "start_time": "2024-12-09T16:11:15.982Z"
   },
   {
    "duration": 22,
    "start_time": "2024-12-09T16:11:16.002Z"
   },
   {
    "duration": 17,
    "start_time": "2024-12-09T16:11:16.025Z"
   },
   {
    "duration": 7,
    "start_time": "2024-12-09T16:11:16.043Z"
   },
   {
    "duration": 115,
    "start_time": "2024-12-09T16:11:16.054Z"
   },
   {
    "duration": 4,
    "start_time": "2024-12-09T16:11:16.171Z"
   },
   {
    "duration": 97,
    "start_time": "2024-12-09T16:11:16.176Z"
   },
   {
    "duration": 15,
    "start_time": "2024-12-09T16:11:16.275Z"
   },
   {
    "duration": 923,
    "start_time": "2024-12-09T16:11:16.292Z"
   },
   {
    "duration": 13,
    "start_time": "2024-12-09T16:11:17.217Z"
   },
   {
    "duration": 20,
    "start_time": "2024-12-09T16:11:17.231Z"
   },
   {
    "duration": 758,
    "start_time": "2024-12-09T16:11:17.253Z"
   },
   {
    "duration": 25,
    "start_time": "2024-12-09T16:11:18.012Z"
   },
   {
    "duration": 792,
    "start_time": "2024-12-09T16:11:18.038Z"
   },
   {
    "duration": 9,
    "start_time": "2024-12-09T16:11:18.832Z"
   },
   {
    "duration": 4,
    "start_time": "2024-12-09T16:11:18.842Z"
   },
   {
    "duration": 55,
    "start_time": "2024-12-09T16:11:18.847Z"
   },
   {
    "duration": 751,
    "start_time": "2024-12-09T16:11:18.904Z"
   },
   {
    "duration": 696,
    "start_time": "2024-12-09T16:11:19.657Z"
   },
   {
    "duration": 42,
    "start_time": "2024-12-09T16:11:20.355Z"
   },
   {
    "duration": 69,
    "start_time": "2024-12-09T16:11:20.401Z"
   },
   {
    "duration": 215,
    "start_time": "2024-12-09T16:11:20.472Z"
   },
   {
    "duration": 200,
    "start_time": "2024-12-09T16:11:20.690Z"
   },
   {
    "duration": 211,
    "start_time": "2024-12-09T16:11:20.892Z"
   },
   {
    "duration": 368,
    "start_time": "2024-12-09T16:11:21.105Z"
   },
   {
    "duration": 536,
    "start_time": "2024-12-09T16:11:21.474Z"
   },
   {
    "duration": 4215,
    "start_time": "2024-12-09T16:11:22.012Z"
   },
   {
    "duration": 943,
    "start_time": "2024-12-09T16:11:26.228Z"
   },
   {
    "duration": 71,
    "start_time": "2024-12-09T16:11:27.172Z"
   },
   {
    "duration": 57,
    "start_time": "2024-12-09T16:11:27.244Z"
   },
   {
    "duration": 44,
    "start_time": "2024-12-09T16:11:27.303Z"
   },
   {
    "duration": 106,
    "start_time": "2024-12-09T16:11:27.349Z"
   },
   {
    "duration": 197,
    "start_time": "2024-12-09T16:11:27.456Z"
   },
   {
    "duration": 2,
    "start_time": "2024-12-09T16:11:27.655Z"
   },
   {
    "duration": 52,
    "start_time": "2024-12-09T16:11:27.659Z"
   },
   {
    "duration": 14,
    "start_time": "2024-12-09T16:11:27.712Z"
   },
   {
    "duration": 68,
    "start_time": "2024-12-09T16:11:27.728Z"
   },
   {
    "duration": 62,
    "start_time": "2024-12-09T16:11:27.798Z"
   },
   {
    "duration": 207,
    "start_time": "2024-12-09T16:11:27.862Z"
   },
   {
    "duration": 7,
    "start_time": "2024-12-09T16:11:28.071Z"
   },
   {
    "duration": 19,
    "start_time": "2024-12-09T16:11:28.080Z"
   },
   {
    "duration": 370,
    "start_time": "2024-12-09T16:11:28.101Z"
   },
   {
    "duration": 4,
    "start_time": "2024-12-09T16:11:28.473Z"
   },
   {
    "duration": 21,
    "start_time": "2024-12-09T16:11:28.478Z"
   },
   {
    "duration": 25,
    "start_time": "2024-12-09T16:11:28.500Z"
   },
   {
    "duration": 10,
    "start_time": "2024-12-09T16:11:28.526Z"
   },
   {
    "duration": 11,
    "start_time": "2024-12-09T16:11:28.538Z"
   },
   {
    "duration": 5,
    "start_time": "2024-12-09T16:11:28.550Z"
   },
   {
    "duration": 3,
    "start_time": "2024-12-09T16:11:28.556Z"
   },
   {
    "duration": 28135,
    "start_time": "2024-12-09T16:11:28.560Z"
   },
   {
    "duration": 91,
    "start_time": "2024-12-09T16:11:56.696Z"
   },
   {
    "duration": 12,
    "start_time": "2024-12-09T16:11:56.792Z"
   },
   {
    "duration": 80,
    "start_time": "2024-12-09T16:11:56.808Z"
   },
   {
    "duration": 8,
    "start_time": "2024-12-09T16:11:56.891Z"
   },
   {
    "duration": 10037,
    "start_time": "2024-12-09T16:11:56.904Z"
   },
   {
    "duration": 3,
    "start_time": "2024-12-09T16:12:06.943Z"
   },
   {
    "duration": 19,
    "start_time": "2024-12-09T16:12:06.947Z"
   },
   {
    "duration": 14,
    "start_time": "2024-12-09T16:12:06.967Z"
   },
   {
    "duration": 84,
    "start_time": "2024-12-09T16:12:06.987Z"
   },
   {
    "duration": 3,
    "start_time": "2024-12-09T16:12:07.072Z"
   },
   {
    "duration": 6250,
    "start_time": "2024-12-09T16:20:56.250Z"
   },
   {
    "duration": 2772,
    "start_time": "2024-12-09T16:21:02.502Z"
   },
   {
    "duration": 2791,
    "start_time": "2024-12-09T16:21:05.276Z"
   },
   {
    "duration": 2957,
    "start_time": "2024-12-09T16:21:08.069Z"
   },
   {
    "duration": 1413,
    "start_time": "2024-12-09T16:21:11.028Z"
   },
   {
    "duration": 3,
    "start_time": "2024-12-09T16:21:12.442Z"
   },
   {
    "duration": 837,
    "start_time": "2024-12-09T16:21:12.446Z"
   },
   {
    "duration": 4,
    "start_time": "2024-12-09T16:21:13.285Z"
   },
   {
    "duration": 8,
    "start_time": "2024-12-09T16:21:13.292Z"
   },
   {
    "duration": 135,
    "start_time": "2024-12-09T16:21:13.302Z"
   },
   {
    "duration": 274,
    "start_time": "2024-12-09T16:21:13.439Z"
   },
   {
    "duration": 30,
    "start_time": "2024-12-09T16:21:13.715Z"
   },
   {
    "duration": 97,
    "start_time": "2024-12-09T16:21:13.747Z"
   },
   {
    "duration": 3,
    "start_time": "2024-12-09T16:21:13.915Z"
   },
   {
    "duration": 330,
    "start_time": "2024-12-09T16:21:13.919Z"
   },
   {
    "duration": 271,
    "start_time": "2024-12-09T16:21:14.251Z"
   },
   {
    "duration": 579,
    "start_time": "2024-12-09T16:21:14.524Z"
   },
   {
    "duration": 18,
    "start_time": "2024-12-09T16:21:15.104Z"
   },
   {
    "duration": 36,
    "start_time": "2024-12-09T16:21:15.123Z"
   },
   {
    "duration": 22,
    "start_time": "2024-12-09T16:21:15.161Z"
   },
   {
    "duration": 32,
    "start_time": "2024-12-09T16:21:15.184Z"
   },
   {
    "duration": 21,
    "start_time": "2024-12-09T16:21:15.217Z"
   },
   {
    "duration": 30,
    "start_time": "2024-12-09T16:21:15.240Z"
   },
   {
    "duration": 17,
    "start_time": "2024-12-09T16:21:15.271Z"
   },
   {
    "duration": 29,
    "start_time": "2024-12-09T16:21:15.297Z"
   },
   {
    "duration": 17,
    "start_time": "2024-12-09T16:21:15.328Z"
   },
   {
    "duration": 18,
    "start_time": "2024-12-09T16:21:15.347Z"
   },
   {
    "duration": 91,
    "start_time": "2024-12-09T16:21:15.367Z"
   },
   {
    "duration": 4,
    "start_time": "2024-12-09T16:21:15.460Z"
   },
   {
    "duration": 127,
    "start_time": "2024-12-09T16:21:15.466Z"
   },
   {
    "duration": 8,
    "start_time": "2024-12-09T16:21:15.595Z"
   },
   {
    "duration": 945,
    "start_time": "2024-12-09T16:21:15.605Z"
   },
   {
    "duration": 13,
    "start_time": "2024-12-09T16:21:16.552Z"
   },
   {
    "duration": 40,
    "start_time": "2024-12-09T16:21:16.566Z"
   },
   {
    "duration": 745,
    "start_time": "2024-12-09T16:21:16.608Z"
   },
   {
    "duration": 47,
    "start_time": "2024-12-09T16:21:17.355Z"
   },
   {
    "duration": 756,
    "start_time": "2024-12-09T16:21:17.405Z"
   },
   {
    "duration": 8,
    "start_time": "2024-12-09T16:21:18.162Z"
   },
   {
    "duration": 16,
    "start_time": "2024-12-09T16:21:18.172Z"
   },
   {
    "duration": 38,
    "start_time": "2024-12-09T16:21:18.190Z"
   },
   {
    "duration": 822,
    "start_time": "2024-12-09T16:21:18.232Z"
   },
   {
    "duration": 735,
    "start_time": "2024-12-09T16:21:19.056Z"
   },
   {
    "duration": 30,
    "start_time": "2024-12-09T16:21:19.793Z"
   },
   {
    "duration": 82,
    "start_time": "2024-12-09T16:21:19.825Z"
   },
   {
    "duration": 195,
    "start_time": "2024-12-09T16:21:19.909Z"
   },
   {
    "duration": 199,
    "start_time": "2024-12-09T16:21:20.106Z"
   },
   {
    "duration": 195,
    "start_time": "2024-12-09T16:21:20.307Z"
   },
   {
    "duration": 363,
    "start_time": "2024-12-09T16:21:20.504Z"
   },
   {
    "duration": 528,
    "start_time": "2024-12-09T16:21:20.869Z"
   },
   {
    "duration": 4281,
    "start_time": "2024-12-09T16:21:21.399Z"
   },
   {
    "duration": 974,
    "start_time": "2024-12-09T16:21:25.681Z"
   },
   {
    "duration": 79,
    "start_time": "2024-12-09T16:21:26.657Z"
   },
   {
    "duration": 47,
    "start_time": "2024-12-09T16:21:26.737Z"
   },
   {
    "duration": 49,
    "start_time": "2024-12-09T16:21:26.787Z"
   },
   {
    "duration": 108,
    "start_time": "2024-12-09T16:21:26.837Z"
   },
   {
    "duration": 199,
    "start_time": "2024-12-09T16:21:26.947Z"
   },
   {
    "duration": 3,
    "start_time": "2024-12-09T16:21:27.147Z"
   },
   {
    "duration": 47,
    "start_time": "2024-12-09T16:21:27.151Z"
   },
   {
    "duration": 10,
    "start_time": "2024-12-09T16:21:27.200Z"
   },
   {
    "duration": 67,
    "start_time": "2024-12-09T16:21:27.212Z"
   },
   {
    "duration": 3,
    "start_time": "2024-12-09T16:21:27.280Z"
   },
   {
    "duration": 227,
    "start_time": "2024-12-09T16:21:27.284Z"
   },
   {
    "duration": 8,
    "start_time": "2024-12-09T16:21:27.513Z"
   },
   {
    "duration": 21,
    "start_time": "2024-12-09T16:21:27.523Z"
   },
   {
    "duration": 309,
    "start_time": "2024-12-09T16:21:27.546Z"
   },
   {
    "duration": 4,
    "start_time": "2024-12-09T16:21:27.857Z"
   },
   {
    "duration": 41,
    "start_time": "2024-12-09T16:21:27.862Z"
   },
   {
    "duration": 2,
    "start_time": "2024-12-09T16:21:27.905Z"
   },
   {
    "duration": 4,
    "start_time": "2024-12-09T16:21:27.909Z"
   },
   {
    "duration": 9,
    "start_time": "2024-12-09T16:21:27.914Z"
   },
   {
    "duration": 3,
    "start_time": "2024-12-09T16:21:27.924Z"
   },
   {
    "duration": 5,
    "start_time": "2024-12-09T16:21:27.928Z"
   },
   {
    "duration": 27671,
    "start_time": "2024-12-09T16:21:27.934Z"
   },
   {
    "duration": 7,
    "start_time": "2024-12-09T16:21:55.689Z"
   },
   {
    "duration": 97,
    "start_time": "2024-12-09T16:21:55.698Z"
   },
   {
    "duration": 3,
    "start_time": "2024-12-09T16:21:55.797Z"
   },
   {
    "duration": 11,
    "start_time": "2024-12-09T16:21:55.801Z"
   },
   {
    "duration": 9856,
    "start_time": "2024-12-09T16:21:55.814Z"
   },
   {
    "duration": 4,
    "start_time": "2024-12-09T16:22:05.671Z"
   },
   {
    "duration": 32,
    "start_time": "2024-12-09T16:22:05.676Z"
   },
   {
    "duration": 24,
    "start_time": "2024-12-09T16:22:05.710Z"
   },
   {
    "duration": 97,
    "start_time": "2024-12-09T16:22:05.735Z"
   },
   {
    "duration": 3,
    "start_time": "2024-12-09T16:22:05.833Z"
   },
   {
    "duration": 6251,
    "start_time": "2024-12-09T16:36:40.929Z"
   },
   {
    "duration": 2832,
    "start_time": "2024-12-09T16:36:47.183Z"
   },
   {
    "duration": 2724,
    "start_time": "2024-12-09T16:36:50.018Z"
   },
   {
    "duration": 2860,
    "start_time": "2024-12-09T16:36:52.744Z"
   },
   {
    "duration": 1441,
    "start_time": "2024-12-09T16:36:55.609Z"
   },
   {
    "duration": 2,
    "start_time": "2024-12-09T16:36:57.052Z"
   },
   {
    "duration": 819,
    "start_time": "2024-12-09T16:36:57.055Z"
   },
   {
    "duration": 2,
    "start_time": "2024-12-09T16:36:57.875Z"
   },
   {
    "duration": 62,
    "start_time": "2024-12-09T16:36:57.879Z"
   },
   {
    "duration": 137,
    "start_time": "2024-12-09T16:36:57.942Z"
   },
   {
    "duration": 277,
    "start_time": "2024-12-09T16:36:58.081Z"
   },
   {
    "duration": 38,
    "start_time": "2024-12-09T16:36:58.360Z"
   },
   {
    "duration": 80,
    "start_time": "2024-12-09T16:36:58.401Z"
   },
   {
    "duration": 5,
    "start_time": "2024-12-09T16:36:58.546Z"
   },
   {
    "duration": 355,
    "start_time": "2024-12-09T16:36:58.552Z"
   },
   {
    "duration": 265,
    "start_time": "2024-12-09T16:36:58.908Z"
   },
   {
    "duration": 631,
    "start_time": "2024-12-09T16:36:59.175Z"
   },
   {
    "duration": 26,
    "start_time": "2024-12-09T16:36:59.808Z"
   },
   {
    "duration": 75,
    "start_time": "2024-12-09T16:36:59.836Z"
   },
   {
    "duration": 22,
    "start_time": "2024-12-09T16:36:59.912Z"
   },
   {
    "duration": 12,
    "start_time": "2024-12-09T16:36:59.935Z"
   },
   {
    "duration": 19,
    "start_time": "2024-12-09T16:36:59.948Z"
   },
   {
    "duration": 51,
    "start_time": "2024-12-09T16:36:59.968Z"
   },
   {
    "duration": 39,
    "start_time": "2024-12-09T16:37:00.021Z"
   },
   {
    "duration": 71,
    "start_time": "2024-12-09T16:37:00.061Z"
   },
   {
    "duration": 58,
    "start_time": "2024-12-09T16:37:00.134Z"
   },
   {
    "duration": 65,
    "start_time": "2024-12-09T16:37:00.194Z"
   },
   {
    "duration": 112,
    "start_time": "2024-12-09T16:37:00.260Z"
   },
   {
    "duration": 4,
    "start_time": "2024-12-09T16:37:00.373Z"
   },
   {
    "duration": 123,
    "start_time": "2024-12-09T16:37:00.379Z"
   },
   {
    "duration": 6,
    "start_time": "2024-12-09T16:37:00.504Z"
   },
   {
    "duration": 977,
    "start_time": "2024-12-09T16:37:00.511Z"
   },
   {
    "duration": 19,
    "start_time": "2024-12-09T16:37:01.491Z"
   },
   {
    "duration": 40,
    "start_time": "2024-12-09T16:37:01.512Z"
   },
   {
    "duration": 790,
    "start_time": "2024-12-09T16:37:01.553Z"
   },
   {
    "duration": 27,
    "start_time": "2024-12-09T16:37:02.344Z"
   },
   {
    "duration": 773,
    "start_time": "2024-12-09T16:37:02.373Z"
   },
   {
    "duration": 8,
    "start_time": "2024-12-09T16:37:03.148Z"
   },
   {
    "duration": 7,
    "start_time": "2024-12-09T16:37:03.157Z"
   },
   {
    "duration": 67,
    "start_time": "2024-12-09T16:37:03.165Z"
   },
   {
    "duration": 783,
    "start_time": "2024-12-09T16:37:03.237Z"
   },
   {
    "duration": 723,
    "start_time": "2024-12-09T16:37:04.022Z"
   },
   {
    "duration": 23,
    "start_time": "2024-12-09T16:37:04.746Z"
   },
   {
    "duration": 86,
    "start_time": "2024-12-09T16:37:04.771Z"
   },
   {
    "duration": 162,
    "start_time": "2024-12-09T16:37:04.859Z"
   },
   {
    "duration": 205,
    "start_time": "2024-12-09T16:37:05.092Z"
   },
   {
    "duration": 198,
    "start_time": "2024-12-09T16:37:05.299Z"
   },
   {
    "duration": 377,
    "start_time": "2024-12-09T16:37:05.499Z"
   },
   {
    "duration": 568,
    "start_time": "2024-12-09T16:37:05.878Z"
   },
   {
    "duration": 4377,
    "start_time": "2024-12-09T16:37:06.449Z"
   },
   {
    "duration": 1015,
    "start_time": "2024-12-09T16:37:10.828Z"
   },
   {
    "duration": 77,
    "start_time": "2024-12-09T16:37:11.844Z"
   },
   {
    "duration": 47,
    "start_time": "2024-12-09T16:37:11.923Z"
   },
   {
    "duration": 61,
    "start_time": "2024-12-09T16:37:11.972Z"
   },
   {
    "duration": 127,
    "start_time": "2024-12-09T16:37:12.035Z"
   },
   {
    "duration": 205,
    "start_time": "2024-12-09T16:37:12.164Z"
   },
   {
    "duration": 3,
    "start_time": "2024-12-09T16:37:12.371Z"
   },
   {
    "duration": 43,
    "start_time": "2024-12-09T16:37:12.387Z"
   },
   {
    "duration": 15,
    "start_time": "2024-12-09T16:37:12.432Z"
   },
   {
    "duration": 25,
    "start_time": "2024-12-09T16:37:12.448Z"
   },
   {
    "duration": 11,
    "start_time": "2024-12-09T16:37:12.474Z"
   },
   {
    "duration": 251,
    "start_time": "2024-12-09T16:37:12.486Z"
   },
   {
    "duration": 8,
    "start_time": "2024-12-09T16:37:12.738Z"
   },
   {
    "duration": 5,
    "start_time": "2024-12-09T16:37:12.747Z"
   },
   {
    "duration": 332,
    "start_time": "2024-12-09T16:37:12.753Z"
   },
   {
    "duration": 6,
    "start_time": "2024-12-09T16:37:13.087Z"
   },
   {
    "duration": 40,
    "start_time": "2024-12-09T16:37:13.095Z"
   },
   {
    "duration": 25,
    "start_time": "2024-12-09T16:37:13.137Z"
   },
   {
    "duration": 17,
    "start_time": "2024-12-09T16:37:13.164Z"
   },
   {
    "duration": 17,
    "start_time": "2024-12-09T16:37:13.183Z"
   },
   {
    "duration": 18,
    "start_time": "2024-12-09T16:37:13.203Z"
   },
   {
    "duration": 7,
    "start_time": "2024-12-09T16:37:13.223Z"
   },
   {
    "duration": 27062,
    "start_time": "2024-12-09T16:37:13.231Z"
   },
   {
    "duration": 92,
    "start_time": "2024-12-09T16:37:40.297Z"
   },
   {
    "duration": 13,
    "start_time": "2024-12-09T16:37:40.391Z"
   },
   {
    "duration": 3,
    "start_time": "2024-12-09T16:37:40.405Z"
   },
   {
    "duration": 9,
    "start_time": "2024-12-09T16:37:40.410Z"
   },
   {
    "duration": 9968,
    "start_time": "2024-12-09T16:37:40.421Z"
   },
   {
    "duration": 3,
    "start_time": "2024-12-09T16:37:50.403Z"
   },
   {
    "duration": 36,
    "start_time": "2024-12-09T16:37:50.407Z"
   },
   {
    "duration": 14,
    "start_time": "2024-12-09T16:37:50.445Z"
   },
   {
    "duration": 89,
    "start_time": "2024-12-09T16:37:50.460Z"
   },
   {
    "duration": 3,
    "start_time": "2024-12-09T16:37:50.550Z"
   },
   {
    "duration": 612168,
    "start_time": "2024-12-09T16:37:50.554Z"
   },
   {
    "duration": 0,
    "start_time": "2024-12-09T16:48:02.723Z"
   },
   {
    "duration": 0,
    "start_time": "2024-12-09T16:48:02.724Z"
   },
   {
    "duration": 0,
    "start_time": "2024-12-09T16:48:02.726Z"
   },
   {
    "duration": 0,
    "start_time": "2024-12-09T16:48:02.726Z"
   },
   {
    "duration": 0,
    "start_time": "2024-12-09T16:48:02.728Z"
   },
   {
    "duration": 1,
    "start_time": "2024-12-09T16:48:02.728Z"
   },
   {
    "duration": 0,
    "start_time": "2024-12-09T16:48:02.729Z"
   },
   {
    "duration": 0,
    "start_time": "2024-12-09T16:48:02.731Z"
   },
   {
    "duration": 0,
    "start_time": "2024-12-09T16:48:02.732Z"
   },
   {
    "duration": 0,
    "start_time": "2024-12-09T16:48:02.733Z"
   },
   {
    "duration": 0,
    "start_time": "2024-12-09T16:48:02.734Z"
   }
  ],
  "colab": {
   "collapsed_sections": [
    "VqxJM9N79DWv",
    "WGdGQQy6EmMe",
    "2xboak2DcOpv",
    "jGtEfB3MhfsT",
    "4rqdIaw9JmJf"
   ],
   "provenance": [],
   "toc_visible": true
  },
  "kernelspec": {
   "display_name": "Python 3 (ipykernel)",
   "language": "python",
   "name": "python3"
  },
  "language_info": {
   "codemirror_mode": {
    "name": "ipython",
    "version": 3
   },
   "file_extension": ".py",
   "mimetype": "text/x-python",
   "name": "python",
   "nbconvert_exporter": "python",
   "pygments_lexer": "ipython3",
   "version": "3.11.8"
  },
  "toc": {
   "base_numbering": 1,
   "nav_menu": {},
   "number_sections": true,
   "sideBar": true,
   "skip_h1_title": true,
   "title_cell": "Содержание",
   "title_sidebar": "Contents",
   "toc_cell": true,
   "toc_position": {
    "height": "calc(100% - 180px)",
    "left": "10px",
    "top": "150px",
    "width": "262px"
   },
   "toc_section_display": true,
   "toc_window_display": true
  }
 },
 "nbformat": 4,
 "nbformat_minor": 1
}
