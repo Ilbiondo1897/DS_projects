{
 "cells": [
  {
   "cell_type": "markdown",
   "metadata": {
    "toc": true
   },
   "source": [
    "<h1>Содержание<span class=\"tocSkip\"></span></h1>\n",
    "<div class=\"toc\"><ul class=\"toc-item\"><li><span><a href=\"#Загрузка-данных\" data-toc-modified-id=\"Загрузка-данных-1\"><span class=\"toc-item-num\">1&nbsp;&nbsp;</span>Загрузка данных</a></span></li><li><span><a href=\"#Первичное-исследование-таблиц\" data-toc-modified-id=\"Первичное-исследование-таблиц-2\"><span class=\"toc-item-num\">2&nbsp;&nbsp;</span>Первичное исследование таблиц</a></span></li><li><span><a href=\"#Статистический-анализ-факторов-аварий\" data-toc-modified-id=\"Статистический-анализ-факторов-аварий-3\"><span class=\"toc-item-num\">3&nbsp;&nbsp;</span>Статистический анализ факторов аварий</a></span><ul class=\"toc-item\"><li><span><a href=\"#Выясним,-в-какие-месяцы-происходит-наибольшее-количество-аварий.-Проанализируем-весь-период-наблюдений-(таблица-collisions)\" data-toc-modified-id=\"Выясним,-в-какие-месяцы-происходит-наибольшее-количество-аварий.-Проанализируем-весь-период-наблюдений-(таблица-collisions)-3.1\"><span class=\"toc-item-num\">3.1&nbsp;&nbsp;</span>Выясним, в какие месяцы происходит наибольшее количество аварий. Проанализируем весь период наблюдений (таблица <code>collisions</code>)</a></span></li><li><span><a href=\"#Создадим-аналитические-задачи-(не-менее-6-шт.)-и-поручим-их-решение-коллегам\" data-toc-modified-id=\"Создадим-аналитические-задачи-(не-менее-6-шт.)-и-поручим-их-решение-коллегам-3.2\"><span class=\"toc-item-num\">3.2&nbsp;&nbsp;</span>Создадим аналитические задачи (не менее 6 шт.) и поручим их решение коллегам</a></span></li><li><span><a href=\"#Пропишем-порядок-решения-для-первых-двух-задач-из-списка-и-реализуем-его.-Обязательное-условие-—-решение-должно-включать-связь-не-менее-двух-таблиц\" data-toc-modified-id=\"Пропишем-порядок-решения-для-первых-двух-задач-из-списка-и-реализуем-его.-Обязательное-условие-—-решение-должно-включать-связь-не-менее-двух-таблиц-3.3\"><span class=\"toc-item-num\">3.3&nbsp;&nbsp;</span>Пропишем порядок решения для первых двух задач из списка и реализуем его. Обязательное условие — решение должно включать связь не менее двух таблиц</a></span></li></ul></li><li><span><a href=\"#Создание-модели-для-оценки-водительского-риска\" data-toc-modified-id=\"Создание-модели-для-оценки-водительского-риска-4\"><span class=\"toc-item-num\">4&nbsp;&nbsp;</span>Создание модели для оценки водительского риска</a></span><ul class=\"toc-item\"><li><span><a href=\"#Проведение-первичного-отбора-факторов,-необходимых-для-модели\" data-toc-modified-id=\"Проведение-первичного-отбора-факторов,-необходимых-для-модели-4.1\"><span class=\"toc-item-num\">4.1&nbsp;&nbsp;</span>Проведение первичного отбора факторов, необходимых для модели</a></span></li><li><span><a href=\"#Подготовим-набор-данных-на-основе-первичного-предположения-заказчика\" data-toc-modified-id=\"Подготовим-набор-данных-на-основе-первичного-предположения-заказчика-4.2\"><span class=\"toc-item-num\">4.2&nbsp;&nbsp;</span>Подготовим набор данных на основе первичного предположения заказчика</a></span></li><li><span><a href=\"#Статистический-анализ-отобранных-факторов\" data-toc-modified-id=\"Статистический-анализ-отобранных-факторов-4.3\"><span class=\"toc-item-num\">4.3&nbsp;&nbsp;</span>Статистический анализ отобранных факторов</a></span></li></ul></li><li><span><a href=\"#Подготовка-данных-к-моделированию\" data-toc-modified-id=\"Подготовка-данных-к-моделированию-5\"><span class=\"toc-item-num\">5&nbsp;&nbsp;</span>Подготовка данных к моделированию</a></span></li><li><span><a href=\"#Поиск-лучшей-модели\" data-toc-modified-id=\"Поиск-лучшей-модели-6\"><span class=\"toc-item-num\">6&nbsp;&nbsp;</span>Поиск лучшей модели</a></span><ul class=\"toc-item\"><li><span><a href=\"#Построение-сравнительной-таблицы\" data-toc-modified-id=\"Построение-сравнительной-таблицы-6.1\"><span class=\"toc-item-num\">6.1&nbsp;&nbsp;</span>Построение сравнительной таблицы</a></span></li></ul></li><li><span><a href=\"#Проверка-лучшей-модели-в-работе\" data-toc-modified-id=\"Проверка-лучшей-модели-в-работе-7\"><span class=\"toc-item-num\">7&nbsp;&nbsp;</span>Проверка лучшей модели в работе</a></span><ul class=\"toc-item\"><li><span><a href=\"#Проведём-графический-анализ-«Матрица-ошибок»\" data-toc-modified-id=\"Проведём-графический-анализ-«Матрица-ошибок»-7.1\"><span class=\"toc-item-num\">7.1&nbsp;&nbsp;</span>Проведём графический анализ «Матрица ошибок»</a></span></li><li><span><a href=\"#Проанализируем-важность-основных-факторов,-влияющих-на-вероятность-аварии\" data-toc-modified-id=\"Проанализируем-важность-основных-факторов,-влияющих-на-вероятность-аварии-7.2\"><span class=\"toc-item-num\">7.2&nbsp;&nbsp;</span>Проанализируем важность основных факторов, влияющих на вероятность аварии</a></span></li><li><span><a href=\"#Проведём-дополнительное-исследование-для-фактора---vehicle_transmission\" data-toc-modified-id=\"Проведём-дополнительное-исследование-для-фактора---vehicle_transmission-7.3\"><span class=\"toc-item-num\">7.3&nbsp;&nbsp;</span>Проведём дополнительное исследование для фактора   <code>vehicle_transmission</code></a></span></li></ul></li><li><span><a href=\"#Отчёт-по-исследованию\" data-toc-modified-id=\"Отчёт-по-исследованию-8\"><span class=\"toc-item-num\">8&nbsp;&nbsp;</span>Отчёт по исследованию</a></span></li></ul></div>"
   ]
  },
  {
   "cell_type": "markdown",
   "metadata": {
    "id": "AdOjdwCbcMfl"
   },
   "source": [
    "# Проект: система оценки риска попадания в аварию по выбранному маршруту движения"
   ]
  },
  {
   "cell_type": "markdown",
   "metadata": {
    "id": "_f9P6iGTcnjq"
   },
   "source": [
    "Описание задачи: под риском понимается вероятность аварии с любым повреждением транспортного средства. Как только водитель забронировал автомобиль, сел за руль и выбрал маршрут, система должна оценить уровень риска. Если он высок, водитель увидит предупреждение и рекомендации по маршруту.\n",
    "\n",
    "Идея решения задачи от заказчика:\n",
    "1. Создать модель предсказания аварии (целевое значение — `at_fault` (виновник) в таблице `parties`)\n",
    "  - Для модели выбрать тип виновника — только машина (car).\n",
    "  - Выбрать случаи, когда авария привела к любым повреждениям транспортного средства, кроме типа SCRATCH (царапина).\n",
    "  - Для моделирования ограничиться данными за 2012 год — они самые свежие.\n",
    "  - Обязательное условие — учесть фактор возраста автомобиля.\n",
    "\n",
    "2. На основе модели исследовать основные факторы аварии.\n",
    "\n",
    "3. Понять, помогут ли результаты моделирования и анализ важности факторов ответить на вопросы:\n",
    "  - Возможно ли создать адекватную системы оценки водительского риска при выдаче авто?\n",
    "  - Какие ещё факторы нужно учесть?\n",
    "  - Нужно ли оборудовать автомобиль какими-либо датчиками или камерой?"
   ]
  },
  {
   "cell_type": "markdown",
   "metadata": {
    "id": "MX8LpuO3d-L1"
   },
   "source": [
    "## Загрузка данных"
   ]
  },
  {
   "cell_type": "markdown",
   "metadata": {
    "id": "JzrnwKRzd7Lb"
   },
   "source": [
    "Загрузим необходимые библиотеки"
   ]
  },
  {
   "cell_type": "code",
   "execution_count": 1,
   "metadata": {
    "colab": {
     "base_uri": "https://localhost:8080/"
    },
    "id": "xwJTi7Itfi5m",
    "outputId": "ae88e990-3df5-4edf-fc32-a5f956450583"
   },
   "outputs": [
    {
     "name": "stdout",
     "output_type": "stream",
     "text": [
      "Collecting phik\n",
      "  Downloading phik-0.12.4-cp39-cp39-manylinux_2_17_x86_64.manylinux2014_x86_64.whl (686 kB)\n",
      "\u001b[K     |████████████████████████████████| 686 kB 1.1 MB/s eta 0:00:01\n",
      "\u001b[?25hRequirement already satisfied: pandas>=0.25.1 in /opt/conda/lib/python3.9/site-packages (from phik) (1.2.4)\n",
      "Requirement already satisfied: joblib>=0.14.1 in /opt/conda/lib/python3.9/site-packages (from phik) (1.1.0)\n",
      "Requirement already satisfied: scipy>=1.5.2 in /opt/conda/lib/python3.9/site-packages (from phik) (1.9.1)\n",
      "Requirement already satisfied: matplotlib>=2.2.3 in /opt/conda/lib/python3.9/site-packages (from phik) (3.3.4)\n",
      "Requirement already satisfied: numpy>=1.18.0 in /opt/conda/lib/python3.9/site-packages (from phik) (1.21.1)\n",
      "Requirement already satisfied: pillow>=6.2.0 in /opt/conda/lib/python3.9/site-packages (from matplotlib>=2.2.3->phik) (8.4.0)\n",
      "Requirement already satisfied: python-dateutil>=2.1 in /opt/conda/lib/python3.9/site-packages (from matplotlib>=2.2.3->phik) (2.8.1)\n",
      "Requirement already satisfied: kiwisolver>=1.0.1 in /opt/conda/lib/python3.9/site-packages (from matplotlib>=2.2.3->phik) (1.4.4)\n",
      "Requirement already satisfied: cycler>=0.10 in /opt/conda/lib/python3.9/site-packages (from matplotlib>=2.2.3->phik) (0.11.0)\n",
      "Requirement already satisfied: pyparsing!=2.0.4,!=2.1.2,!=2.1.6,>=2.0.3 in /opt/conda/lib/python3.9/site-packages (from matplotlib>=2.2.3->phik) (2.4.7)\n",
      "Requirement already satisfied: pytz>=2017.3 in /opt/conda/lib/python3.9/site-packages (from pandas>=0.25.1->phik) (2021.1)\n",
      "Requirement already satisfied: six>=1.5 in /opt/conda/lib/python3.9/site-packages (from python-dateutil>=2.1->matplotlib>=2.2.3->phik) (1.16.0)\n",
      "Installing collected packages: phik\n",
      "Successfully installed phik-0.12.4\n",
      "Note: you may need to restart the kernel to use updated packages.\n"
     ]
    }
   ],
   "source": [
    "pip install phik"
   ]
  },
  {
   "cell_type": "code",
   "execution_count": 2,
   "metadata": {
    "colab": {
     "base_uri": "https://localhost:8080/"
    },
    "id": "Yrl17j6MiqhZ",
    "outputId": "74172c00-2721-4571-8abc-2c9bdc5eb010"
   },
   "outputs": [
    {
     "name": "stdout",
     "output_type": "stream",
     "text": [
      "Requirement already satisfied: CatBoost in /opt/conda/lib/python3.9/site-packages (1.0.3)\n",
      "Requirement already satisfied: numpy>=1.16.0 in /opt/conda/lib/python3.9/site-packages (from CatBoost) (1.21.1)\n",
      "Requirement already satisfied: six in /opt/conda/lib/python3.9/site-packages (from CatBoost) (1.16.0)\n",
      "Requirement already satisfied: plotly in /opt/conda/lib/python3.9/site-packages (from CatBoost) (5.4.0)\n",
      "Requirement already satisfied: pandas>=0.24.0 in /opt/conda/lib/python3.9/site-packages (from CatBoost) (1.2.4)\n",
      "Requirement already satisfied: matplotlib in /opt/conda/lib/python3.9/site-packages (from CatBoost) (3.3.4)\n",
      "Requirement already satisfied: scipy in /opt/conda/lib/python3.9/site-packages (from CatBoost) (1.9.1)\n",
      "Requirement already satisfied: graphviz in /opt/conda/lib/python3.9/site-packages (from CatBoost) (0.20.1)\n",
      "Requirement already satisfied: python-dateutil>=2.7.3 in /opt/conda/lib/python3.9/site-packages (from pandas>=0.24.0->CatBoost) (2.8.1)\n",
      "Requirement already satisfied: pytz>=2017.3 in /opt/conda/lib/python3.9/site-packages (from pandas>=0.24.0->CatBoost) (2021.1)\n",
      "Requirement already satisfied: cycler>=0.10 in /opt/conda/lib/python3.9/site-packages (from matplotlib->CatBoost) (0.11.0)\n",
      "Requirement already satisfied: pyparsing!=2.0.4,!=2.1.2,!=2.1.6,>=2.0.3 in /opt/conda/lib/python3.9/site-packages (from matplotlib->CatBoost) (2.4.7)\n",
      "Requirement already satisfied: pillow>=6.2.0 in /opt/conda/lib/python3.9/site-packages (from matplotlib->CatBoost) (8.4.0)\n",
      "Requirement already satisfied: kiwisolver>=1.0.1 in /opt/conda/lib/python3.9/site-packages (from matplotlib->CatBoost) (1.4.4)\n",
      "Requirement already satisfied: tenacity>=6.2.0 in /opt/conda/lib/python3.9/site-packages (from plotly->CatBoost) (8.0.1)\n",
      "Note: you may need to restart the kernel to use updated packages.\n"
     ]
    }
   ],
   "source": [
    "pip install CatBoost"
   ]
  },
  {
   "cell_type": "code",
   "execution_count": 3,
   "metadata": {
    "colab": {
     "base_uri": "https://localhost:8080/"
    },
    "id": "x7owkv22cv4v",
    "outputId": "ea8df9d1-22bb-4ce8-e230-1a21b359db46"
   },
   "outputs": [
    {
     "name": "stdout",
     "output_type": "stream",
     "text": [
      "Requirement already satisfied: lightgbm in /opt/conda/lib/python3.9/site-packages (3.3.1)\n",
      "Requirement already satisfied: numpy in /opt/conda/lib/python3.9/site-packages (from lightgbm) (1.21.1)\n",
      "Requirement already satisfied: scipy in /opt/conda/lib/python3.9/site-packages (from lightgbm) (1.9.1)\n",
      "Requirement already satisfied: wheel in /opt/conda/lib/python3.9/site-packages (from lightgbm) (0.36.2)\n",
      "Requirement already satisfied: scikit-learn!=0.22.0 in /opt/conda/lib/python3.9/site-packages (from lightgbm) (0.24.1)\n",
      "Requirement already satisfied: threadpoolctl>=2.0.0 in /opt/conda/lib/python3.9/site-packages (from scikit-learn!=0.22.0->lightgbm) (3.1.0)\n",
      "Requirement already satisfied: joblib>=0.11 in /opt/conda/lib/python3.9/site-packages (from scikit-learn!=0.22.0->lightgbm) (1.1.0)\n",
      "Note: you may need to restart the kernel to use updated packages.\n"
     ]
    }
   ],
   "source": [
    "pip install lightgbm"
   ]
  },
  {
   "cell_type": "code",
   "execution_count": 4,
   "metadata": {
    "colab": {
     "base_uri": "https://localhost:8080/"
    },
    "id": "hXPKbvl4cQgd",
    "outputId": "2daca4c7-3ae4-4527-bda9-a34b6d2ae0da"
   },
   "outputs": [
    {
     "name": "stdout",
     "output_type": "stream",
     "text": [
      "Collecting shap\n",
      "  Downloading shap-0.46.0-cp39-cp39-manylinux_2_12_x86_64.manylinux2010_x86_64.manylinux_2_17_x86_64.manylinux2014_x86_64.whl (539 kB)\n",
      "\u001b[K     |████████████████████████████████| 539 kB 13 kB/s eta 0:00:01\n",
      "\u001b[?25hCollecting cloudpickle\n",
      "  Downloading cloudpickle-3.1.1-py3-none-any.whl (20 kB)\n",
      "Requirement already satisfied: scipy in /opt/conda/lib/python3.9/site-packages (from shap) (1.9.1)\n",
      "Requirement already satisfied: pandas in /opt/conda/lib/python3.9/site-packages (from shap) (1.2.4)\n",
      "Collecting slicer==0.0.8\n",
      "  Downloading slicer-0.0.8-py3-none-any.whl (15 kB)\n",
      "Requirement already satisfied: numba in /opt/conda/lib/python3.9/site-packages (from shap) (0.56.0)\n",
      "Requirement already satisfied: numpy in /opt/conda/lib/python3.9/site-packages (from shap) (1.21.1)\n",
      "Requirement already satisfied: packaging>20.9 in /opt/conda/lib/python3.9/site-packages (from shap) (21.3)\n",
      "Requirement already satisfied: tqdm>=4.27.0 in /opt/conda/lib/python3.9/site-packages (from shap) (4.61.2)\n",
      "Requirement already satisfied: scikit-learn in /opt/conda/lib/python3.9/site-packages (from shap) (0.24.1)\n",
      "Requirement already satisfied: pyparsing!=3.0.5,>=2.0.2 in /opt/conda/lib/python3.9/site-packages (from packaging>20.9->shap) (2.4.7)\n",
      "Requirement already satisfied: llvmlite<0.40,>=0.39.0dev0 in /opt/conda/lib/python3.9/site-packages (from numba->shap) (0.39.0)\n",
      "Requirement already satisfied: setuptools in /opt/conda/lib/python3.9/site-packages (from numba->shap) (49.6.0.post20210108)\n",
      "Requirement already satisfied: python-dateutil>=2.7.3 in /opt/conda/lib/python3.9/site-packages (from pandas->shap) (2.8.1)\n",
      "Requirement already satisfied: pytz>=2017.3 in /opt/conda/lib/python3.9/site-packages (from pandas->shap) (2021.1)\n",
      "Requirement already satisfied: six>=1.5 in /opt/conda/lib/python3.9/site-packages (from python-dateutil>=2.7.3->pandas->shap) (1.16.0)\n",
      "Requirement already satisfied: threadpoolctl>=2.0.0 in /opt/conda/lib/python3.9/site-packages (from scikit-learn->shap) (3.1.0)\n",
      "Requirement already satisfied: joblib>=0.11 in /opt/conda/lib/python3.9/site-packages (from scikit-learn->shap) (1.1.0)\n",
      "Installing collected packages: slicer, cloudpickle, shap\n",
      "Successfully installed cloudpickle-3.1.1 shap-0.46.0 slicer-0.0.8\n",
      "Note: you may need to restart the kernel to use updated packages.\n"
     ]
    }
   ],
   "source": [
    "pip install shap"
   ]
  },
  {
   "cell_type": "code",
   "execution_count": 5,
   "metadata": {
    "id": "1IgJLnhRfmw_"
   },
   "outputs": [],
   "source": [
    "# для Jupyter Notebook:\n",
    "#! pip install matplotlib==3.7.1 -q\n",
    "! pip install -U scikit-learn -q"
   ]
  },
  {
   "cell_type": "code",
   "execution_count": 6,
   "metadata": {
    "id": "hfIMk24_HRoV"
   },
   "outputs": [],
   "source": [
    "import pandas as pd\n",
    "import numpy as np\n",
    "import phik\n",
    "import matplotlib.pyplot as plt\n",
    "import matplotlib.ticker as ticker\n",
    "import seaborn as sns\n",
    "import warnings\n",
    "warnings.filterwarnings('ignore')\n",
    "from sqlalchemy import create_engine\n",
    "import time\n",
    "import shap\n",
    "\n",
    "import sklearn\n",
    "import sklearn.metrics\n",
    "from sklearn.model_selection import train_test_split, GridSearchCV\n",
    "from sklearn.linear_model import LogisticRegression\n",
    "from sklearn.compose import ColumnTransformer, make_column_transformer\n",
    "from sklearn.preprocessing import OneHotEncoder, OrdinalEncoder, StandardScaler\n",
    "from sklearn.metrics import confusion_matrix, roc_auc_score, precision_score, \\\n",
    "                            recall_score, precision_recall_curve\n",
    "from sklearn.tree import DecisionTreeClassifier, DecisionTreeRegressor\n",
    "from sklearn.feature_selection import SelectFromModel\n",
    "from catboost import CatBoostClassifier, CatBoostRegressor\n",
    "from lightgbm import LGBMClassifier, LGBMRegressor"
   ]
  },
  {
   "cell_type": "code",
   "execution_count": 7,
   "metadata": {
    "id": "dFxDrzoFxV-f"
   },
   "outputs": [],
   "source": [
    "TEST_SIZE = 0.25\n",
    "RANDOM_STATE = 1897"
   ]
  },
  {
   "cell_type": "markdown",
   "metadata": {
    "id": "NiLc4k82u70R"
   },
   "source": [
    "Загрузим таблицы SQL"
   ]
  },
  {
   "cell_type": "code",
   "execution_count": 8,
   "metadata": {
    "id": "weK_yd6GIBnh"
   },
   "outputs": [],
   "source": [
    "db_config = {\n",
    "'user': 'praktikum_student', # имя пользователя,\n",
    "'pwd': 'Sdf4$2;d-d30pp', # пароль,\n",
    "'host': 'rc1b-wcoijxj3yxfsf3fs.mdb.yandexcloud.net',\n",
    "'port': 6432, # порт подключения,\n",
    "'db': 'data-science-vehicle-db' # название базы данных,\n",
    "}"
   ]
  },
  {
   "cell_type": "code",
   "execution_count": 9,
   "metadata": {
    "id": "hu9tKzQnjkGy"
   },
   "outputs": [],
   "source": [
    "db_string = 'postgresql://{}:{}@{}:{}/{}'.format(\n",
    "    db_config['user'],\n",
    "    db_config['pwd'],\n",
    "    db_config['host'],\n",
    "    db_config['port'],\n",
    "    db_config['db'],\n",
    ")"
   ]
  },
  {
   "cell_type": "markdown",
   "metadata": {
    "id": "2KWwPxyJePs8"
   },
   "source": [
    "Выводы по разделу:\n",
    "\n",
    "- загрузили необходимые библиотеки;\n",
    "- подключились к базе данных"
   ]
  },
  {
   "cell_type": "markdown",
   "metadata": {
    "id": "N6NtLS0wvG1Y"
   },
   "source": [
    "## Первичное исследование таблиц"
   ]
  },
  {
   "cell_type": "code",
   "execution_count": 10,
   "metadata": {
    "id": "WCOF8RP5IZDx"
   },
   "outputs": [],
   "source": [
    "# создадим движок\n",
    "engine = create_engine(db_string)"
   ]
  },
  {
   "cell_type": "code",
   "execution_count": 11,
   "metadata": {
    "id": "NbzEfwu9IaVe"
   },
   "outputs": [],
   "source": [
    "# создадим функцию для SQL-запроса на выгрузку данных из базы\n",
    "def download_data(table_name, query_params=None):\n",
    "    query = f'SELECT * FROM {table_name} LIMIT 5'\n",
    "    data = pd.read_sql_query(query, con=engine)\n",
    "    display(data)\n",
    "    print(data.info())"
   ]
  },
  {
   "cell_type": "code",
   "execution_count": 12,
   "metadata": {
    "colab": {
     "base_uri": "https://localhost:8080/",
     "height": 385
    },
    "id": "3YmiVCO4IdG0",
    "outputId": "49fd2176-82ad-41cf-bd54-beb07897cc47"
   },
   "outputs": [
    {
     "data": {
      "text/html": [
       "<div>\n",
       "<style scoped>\n",
       "    .dataframe tbody tr th:only-of-type {\n",
       "        vertical-align: middle;\n",
       "    }\n",
       "\n",
       "    .dataframe tbody tr th {\n",
       "        vertical-align: top;\n",
       "    }\n",
       "\n",
       "    .dataframe thead th {\n",
       "        text-align: right;\n",
       "    }\n",
       "</style>\n",
       "<table border=\"1\" class=\"dataframe\">\n",
       "  <thead>\n",
       "    <tr style=\"text-align: right;\">\n",
       "      <th></th>\n",
       "      <th>case_id</th>\n",
       "      <th>db_year</th>\n",
       "    </tr>\n",
       "  </thead>\n",
       "  <tbody>\n",
       "    <tr>\n",
       "      <th>0</th>\n",
       "      <td>0081715</td>\n",
       "      <td>2021</td>\n",
       "    </tr>\n",
       "    <tr>\n",
       "      <th>1</th>\n",
       "      <td>0726202</td>\n",
       "      <td>2021</td>\n",
       "    </tr>\n",
       "    <tr>\n",
       "      <th>2</th>\n",
       "      <td>3858022</td>\n",
       "      <td>2021</td>\n",
       "    </tr>\n",
       "    <tr>\n",
       "      <th>3</th>\n",
       "      <td>3899441</td>\n",
       "      <td>2021</td>\n",
       "    </tr>\n",
       "    <tr>\n",
       "      <th>4</th>\n",
       "      <td>3899442</td>\n",
       "      <td>2021</td>\n",
       "    </tr>\n",
       "  </tbody>\n",
       "</table>\n",
       "</div>"
      ],
      "text/plain": [
       "   case_id db_year\n",
       "0  0081715    2021\n",
       "1  0726202    2021\n",
       "2  3858022    2021\n",
       "3  3899441    2021\n",
       "4  3899442    2021"
      ]
     },
     "metadata": {},
     "output_type": "display_data"
    },
    {
     "name": "stdout",
     "output_type": "stream",
     "text": [
      "<class 'pandas.core.frame.DataFrame'>\n",
      "RangeIndex: 5 entries, 0 to 4\n",
      "Data columns (total 2 columns):\n",
      " #   Column   Non-Null Count  Dtype \n",
      "---  ------   --------------  ----- \n",
      " 0   case_id  5 non-null      object\n",
      " 1   db_year  5 non-null      object\n",
      "dtypes: object(2)\n",
      "memory usage: 208.0+ bytes\n",
      "None\n"
     ]
    }
   ],
   "source": [
    "# id-номера аварийных случаев\n",
    "case_ids = download_data('case_ids')"
   ]
  },
  {
   "cell_type": "markdown",
   "metadata": {
    "id": "j47zbOYmgopb"
   },
   "source": [
    "Таблица содержит следующие признаки:\n",
    "- `case_id` - общий ключ (происшествие)\n",
    "- `db_year` - год создания записи"
   ]
  },
  {
   "cell_type": "code",
   "execution_count": 13,
   "metadata": {
    "colab": {
     "base_uri": "https://localhost:8080/",
     "height": 456
    },
    "id": "J6rcQ4LztTBw",
    "outputId": "a638d56e-c036-4256-a004-89dc756c945d"
   },
   "outputs": [
    {
     "data": {
      "text/html": [
       "<div>\n",
       "<style scoped>\n",
       "    .dataframe tbody tr th:only-of-type {\n",
       "        vertical-align: middle;\n",
       "    }\n",
       "\n",
       "    .dataframe tbody tr th {\n",
       "        vertical-align: top;\n",
       "    }\n",
       "\n",
       "    .dataframe thead th {\n",
       "        text-align: right;\n",
       "    }\n",
       "</style>\n",
       "<table border=\"1\" class=\"dataframe\">\n",
       "  <thead>\n",
       "    <tr style=\"text-align: right;\">\n",
       "      <th></th>\n",
       "      <th>id</th>\n",
       "      <th>case_id</th>\n",
       "      <th>party_number</th>\n",
       "      <th>vehicle_type</th>\n",
       "      <th>vehicle_transmission</th>\n",
       "      <th>vehicle_age</th>\n",
       "    </tr>\n",
       "  </thead>\n",
       "  <tbody>\n",
       "    <tr>\n",
       "      <th>0</th>\n",
       "      <td>1175713</td>\n",
       "      <td>5305032</td>\n",
       "      <td>2</td>\n",
       "      <td>sedan</td>\n",
       "      <td>manual</td>\n",
       "      <td>3</td>\n",
       "    </tr>\n",
       "    <tr>\n",
       "      <th>1</th>\n",
       "      <td>1</td>\n",
       "      <td>3858022</td>\n",
       "      <td>1</td>\n",
       "      <td>sedan</td>\n",
       "      <td>auto</td>\n",
       "      <td>3</td>\n",
       "    </tr>\n",
       "    <tr>\n",
       "      <th>2</th>\n",
       "      <td>1175712</td>\n",
       "      <td>5305030</td>\n",
       "      <td>1</td>\n",
       "      <td>sedan</td>\n",
       "      <td>auto</td>\n",
       "      <td>3</td>\n",
       "    </tr>\n",
       "    <tr>\n",
       "      <th>3</th>\n",
       "      <td>1175717</td>\n",
       "      <td>5305033</td>\n",
       "      <td>3</td>\n",
       "      <td>sedan</td>\n",
       "      <td>auto</td>\n",
       "      <td>5</td>\n",
       "    </tr>\n",
       "    <tr>\n",
       "      <th>4</th>\n",
       "      <td>1175722</td>\n",
       "      <td>5305034</td>\n",
       "      <td>2</td>\n",
       "      <td>sedan</td>\n",
       "      <td>auto</td>\n",
       "      <td>5</td>\n",
       "    </tr>\n",
       "  </tbody>\n",
       "</table>\n",
       "</div>"
      ],
      "text/plain": [
       "        id  case_id  party_number vehicle_type vehicle_transmission  \\\n",
       "0  1175713  5305032             2        sedan               manual   \n",
       "1        1  3858022             1        sedan                 auto   \n",
       "2  1175712  5305030             1        sedan                 auto   \n",
       "3  1175717  5305033             3        sedan                 auto   \n",
       "4  1175722  5305034             2        sedan                 auto   \n",
       "\n",
       "   vehicle_age  \n",
       "0            3  \n",
       "1            3  \n",
       "2            3  \n",
       "3            5  \n",
       "4            5  "
      ]
     },
     "metadata": {},
     "output_type": "display_data"
    },
    {
     "name": "stdout",
     "output_type": "stream",
     "text": [
      "<class 'pandas.core.frame.DataFrame'>\n",
      "RangeIndex: 5 entries, 0 to 4\n",
      "Data columns (total 6 columns):\n",
      " #   Column                Non-Null Count  Dtype \n",
      "---  ------                --------------  ----- \n",
      " 0   id                    5 non-null      int64 \n",
      " 1   case_id               5 non-null      object\n",
      " 2   party_number          5 non-null      int64 \n",
      " 3   vehicle_type          5 non-null      object\n",
      " 4   vehicle_transmission  5 non-null      object\n",
      " 5   vehicle_age           5 non-null      int64 \n",
      "dtypes: int64(3), object(3)\n",
      "memory usage: 368.0+ bytes\n",
      "None\n"
     ]
    }
   ],
   "source": [
    "# описание автомобиля\n",
    "vehicles = download_data('vehicles')"
   ]
  },
  {
   "cell_type": "markdown",
   "metadata": {
    "id": "VqhtckH0g8Fs"
   },
   "source": [
    "Таблица содержит следующие признаки:\n",
    "- `id` - id строки\n",
    "- `case_id` - общий ключ (происшествие)\n",
    "- `party_number` - число участников происшествия\n",
    "- `vehicle_type` - тип кузова\n",
    "- `vehicle_transmission` - тип КПП\n",
    "- `vehicle_age` - возраст автомобиля"
   ]
  },
  {
   "cell_type": "code",
   "execution_count": 14,
   "metadata": {
    "colab": {
     "base_uri": "https://localhost:8080/",
     "height": 830
    },
    "id": "zskjgZSitayM",
    "outputId": "c396302d-7ed7-4290-888d-b47b8c9da124"
   },
   "outputs": [
    {
     "data": {
      "text/html": [
       "<div>\n",
       "<style scoped>\n",
       "    .dataframe tbody tr th:only-of-type {\n",
       "        vertical-align: middle;\n",
       "    }\n",
       "\n",
       "    .dataframe tbody tr th {\n",
       "        vertical-align: top;\n",
       "    }\n",
       "\n",
       "    .dataframe thead th {\n",
       "        text-align: right;\n",
       "    }\n",
       "</style>\n",
       "<table border=\"1\" class=\"dataframe\">\n",
       "  <thead>\n",
       "    <tr style=\"text-align: right;\">\n",
       "      <th></th>\n",
       "      <th>case_id</th>\n",
       "      <th>county_city_location</th>\n",
       "      <th>county_location</th>\n",
       "      <th>distance</th>\n",
       "      <th>direction</th>\n",
       "      <th>intersection</th>\n",
       "      <th>weather_1</th>\n",
       "      <th>location_type</th>\n",
       "      <th>collision_damage</th>\n",
       "      <th>party_count</th>\n",
       "      <th>primary_collision_factor</th>\n",
       "      <th>pcf_violation_category</th>\n",
       "      <th>type_of_collision</th>\n",
       "      <th>motor_vehicle_involved_with</th>\n",
       "      <th>road_surface</th>\n",
       "      <th>road_condition_1</th>\n",
       "      <th>lighting</th>\n",
       "      <th>control_device</th>\n",
       "      <th>collision_date</th>\n",
       "      <th>collision_time</th>\n",
       "    </tr>\n",
       "  </thead>\n",
       "  <tbody>\n",
       "    <tr>\n",
       "      <th>0</th>\n",
       "      <td>4083072</td>\n",
       "      <td>1942</td>\n",
       "      <td>los angeles</td>\n",
       "      <td>528.0</td>\n",
       "      <td>north</td>\n",
       "      <td>0</td>\n",
       "      <td>cloudy</td>\n",
       "      <td>highway</td>\n",
       "      <td>small damage</td>\n",
       "      <td>2</td>\n",
       "      <td>vehicle code violation</td>\n",
       "      <td>unsafe lane change</td>\n",
       "      <td>sideswipe</td>\n",
       "      <td>other motor vehicle</td>\n",
       "      <td>wet</td>\n",
       "      <td>normal</td>\n",
       "      <td>daylight</td>\n",
       "      <td>none</td>\n",
       "      <td>2009-01-22</td>\n",
       "      <td>07:25:00</td>\n",
       "    </tr>\n",
       "    <tr>\n",
       "      <th>1</th>\n",
       "      <td>4083075</td>\n",
       "      <td>4313</td>\n",
       "      <td>santa clara</td>\n",
       "      <td>0.0</td>\n",
       "      <td>None</td>\n",
       "      <td>1</td>\n",
       "      <td>clear</td>\n",
       "      <td>None</td>\n",
       "      <td>small damage</td>\n",
       "      <td>1</td>\n",
       "      <td>vehicle code violation</td>\n",
       "      <td>improper passing</td>\n",
       "      <td>hit object</td>\n",
       "      <td>fixed object</td>\n",
       "      <td>dry</td>\n",
       "      <td>normal</td>\n",
       "      <td>dark with street lights</td>\n",
       "      <td>functioning</td>\n",
       "      <td>2009-01-03</td>\n",
       "      <td>02:26:00</td>\n",
       "    </tr>\n",
       "    <tr>\n",
       "      <th>2</th>\n",
       "      <td>4083073</td>\n",
       "      <td>0109</td>\n",
       "      <td>alameda</td>\n",
       "      <td>0.0</td>\n",
       "      <td>None</td>\n",
       "      <td>1</td>\n",
       "      <td>clear</td>\n",
       "      <td>None</td>\n",
       "      <td>scratch</td>\n",
       "      <td>2</td>\n",
       "      <td>vehicle code violation</td>\n",
       "      <td>improper turning</td>\n",
       "      <td>broadside</td>\n",
       "      <td>other motor vehicle</td>\n",
       "      <td>dry</td>\n",
       "      <td>normal</td>\n",
       "      <td>dark with street lights</td>\n",
       "      <td>functioning</td>\n",
       "      <td>2009-01-11</td>\n",
       "      <td>03:32:00</td>\n",
       "    </tr>\n",
       "    <tr>\n",
       "      <th>3</th>\n",
       "      <td>4083077</td>\n",
       "      <td>0109</td>\n",
       "      <td>alameda</td>\n",
       "      <td>0.0</td>\n",
       "      <td>None</td>\n",
       "      <td>1</td>\n",
       "      <td>clear</td>\n",
       "      <td>None</td>\n",
       "      <td>scratch</td>\n",
       "      <td>2</td>\n",
       "      <td>vehicle code violation</td>\n",
       "      <td>automobile right of way</td>\n",
       "      <td>broadside</td>\n",
       "      <td>other motor vehicle</td>\n",
       "      <td>dry</td>\n",
       "      <td>normal</td>\n",
       "      <td>daylight</td>\n",
       "      <td>functioning</td>\n",
       "      <td>2009-01-11</td>\n",
       "      <td>10:35:00</td>\n",
       "    </tr>\n",
       "    <tr>\n",
       "      <th>4</th>\n",
       "      <td>4083087</td>\n",
       "      <td>4313</td>\n",
       "      <td>santa clara</td>\n",
       "      <td>0.0</td>\n",
       "      <td>None</td>\n",
       "      <td>1</td>\n",
       "      <td>clear</td>\n",
       "      <td>None</td>\n",
       "      <td>scratch</td>\n",
       "      <td>2</td>\n",
       "      <td>vehicle code violation</td>\n",
       "      <td>speeding</td>\n",
       "      <td>rear end</td>\n",
       "      <td>other motor vehicle</td>\n",
       "      <td>dry</td>\n",
       "      <td>None</td>\n",
       "      <td>dark with street lights</td>\n",
       "      <td>functioning</td>\n",
       "      <td>2009-01-02</td>\n",
       "      <td>22:43:00</td>\n",
       "    </tr>\n",
       "  </tbody>\n",
       "</table>\n",
       "</div>"
      ],
      "text/plain": [
       "   case_id county_city_location county_location  distance direction  \\\n",
       "0  4083072                 1942     los angeles     528.0     north   \n",
       "1  4083075                 4313     santa clara       0.0      None   \n",
       "2  4083073                 0109         alameda       0.0      None   \n",
       "3  4083077                 0109         alameda       0.0      None   \n",
       "4  4083087                 4313     santa clara       0.0      None   \n",
       "\n",
       "   intersection weather_1 location_type collision_damage  party_count  \\\n",
       "0             0    cloudy       highway     small damage            2   \n",
       "1             1     clear          None     small damage            1   \n",
       "2             1     clear          None          scratch            2   \n",
       "3             1     clear          None          scratch            2   \n",
       "4             1     clear          None          scratch            2   \n",
       "\n",
       "  primary_collision_factor   pcf_violation_category type_of_collision  \\\n",
       "0   vehicle code violation       unsafe lane change         sideswipe   \n",
       "1   vehicle code violation         improper passing        hit object   \n",
       "2   vehicle code violation         improper turning         broadside   \n",
       "3   vehicle code violation  automobile right of way         broadside   \n",
       "4   vehicle code violation                 speeding          rear end   \n",
       "\n",
       "  motor_vehicle_involved_with road_surface road_condition_1  \\\n",
       "0         other motor vehicle          wet           normal   \n",
       "1                fixed object          dry           normal   \n",
       "2         other motor vehicle          dry           normal   \n",
       "3         other motor vehicle          dry           normal   \n",
       "4         other motor vehicle          dry             None   \n",
       "\n",
       "                  lighting control_device collision_date collision_time  \n",
       "0                 daylight           none     2009-01-22       07:25:00  \n",
       "1  dark with street lights    functioning     2009-01-03       02:26:00  \n",
       "2  dark with street lights    functioning     2009-01-11       03:32:00  \n",
       "3                 daylight    functioning     2009-01-11       10:35:00  \n",
       "4  dark with street lights    functioning     2009-01-02       22:43:00  "
      ]
     },
     "metadata": {},
     "output_type": "display_data"
    },
    {
     "name": "stdout",
     "output_type": "stream",
     "text": [
      "<class 'pandas.core.frame.DataFrame'>\n",
      "RangeIndex: 5 entries, 0 to 4\n",
      "Data columns (total 20 columns):\n",
      " #   Column                       Non-Null Count  Dtype  \n",
      "---  ------                       --------------  -----  \n",
      " 0   case_id                      5 non-null      object \n",
      " 1   county_city_location         5 non-null      object \n",
      " 2   county_location              5 non-null      object \n",
      " 3   distance                     5 non-null      float64\n",
      " 4   direction                    1 non-null      object \n",
      " 5   intersection                 5 non-null      int64  \n",
      " 6   weather_1                    5 non-null      object \n",
      " 7   location_type                1 non-null      object \n",
      " 8   collision_damage             5 non-null      object \n",
      " 9   party_count                  5 non-null      int64  \n",
      " 10  primary_collision_factor     5 non-null      object \n",
      " 11  pcf_violation_category       5 non-null      object \n",
      " 12  type_of_collision            5 non-null      object \n",
      " 13  motor_vehicle_involved_with  5 non-null      object \n",
      " 14  road_surface                 5 non-null      object \n",
      " 15  road_condition_1             4 non-null      object \n",
      " 16  lighting                     5 non-null      object \n",
      " 17  control_device               5 non-null      object \n",
      " 18  collision_date               5 non-null      object \n",
      " 19  collision_time               5 non-null      object \n",
      "dtypes: float64(1), int64(2), object(17)\n",
      "memory usage: 928.0+ bytes\n",
      "None\n"
     ]
    }
   ],
   "source": [
    "# информация о происшествиях\n",
    "collisions = download_data('collisions')"
   ]
  },
  {
   "cell_type": "markdown",
   "metadata": {
    "id": "Zjjb7Fffh0u9"
   },
   "source": [
    "Таблица содержит следующие признаки:\n",
    "- `case_id` - общий ключ (происшествие)\n",
    "- `county_city_location` - номер географических регионов, где произошла авария\n",
    "- `county_location` - названия географических регионов, где произошла авария\n",
    "- `distance` - расстояние от главной дороги (метры)\n",
    "- `direction` - направление движения\n",
    "- `intersection` - является ли место происшествия перекрёстком\n",
    "- `weather_1` - погодные условия\n",
    "- `location_type` - тип дороги\n",
    "- `collision_damage` - серьёзность происшествия\n",
    "- `party_count` - количество участников\n",
    "- `primary_collision_factor` - основной фактор аварии\n",
    "- `pcf_violation_category` - категория нарушинея\n",
    "- `type_of_collision` - тип аварии\n",
    "- `motor_vehicle_involved_with` - дополнительные участники аварии\n",
    "- `road_surface` - состояние дороги\n",
    "- `road_condition_1` - дорожное состояние\n",
    "- `lighting` - освещение\n",
    "- `control_device` - устройство управления\n",
    "- `collision_date` - дата происшествия\n",
    "- `collision_time` - время происшествия"
   ]
  },
  {
   "cell_type": "code",
   "execution_count": 15,
   "metadata": {
    "colab": {
     "base_uri": "https://localhost:8080/",
     "height": 599
    },
    "id": "yYi-BXqOti8F",
    "outputId": "d08d980f-69c7-4501-804d-ec3ee945f57e"
   },
   "outputs": [
    {
     "data": {
      "text/html": [
       "<div>\n",
       "<style scoped>\n",
       "    .dataframe tbody tr th:only-of-type {\n",
       "        vertical-align: middle;\n",
       "    }\n",
       "\n",
       "    .dataframe tbody tr th {\n",
       "        vertical-align: top;\n",
       "    }\n",
       "\n",
       "    .dataframe thead th {\n",
       "        text-align: right;\n",
       "    }\n",
       "</style>\n",
       "<table border=\"1\" class=\"dataframe\">\n",
       "  <thead>\n",
       "    <tr style=\"text-align: right;\">\n",
       "      <th></th>\n",
       "      <th>id</th>\n",
       "      <th>case_id</th>\n",
       "      <th>party_number</th>\n",
       "      <th>party_type</th>\n",
       "      <th>at_fault</th>\n",
       "      <th>insurance_premium</th>\n",
       "      <th>party_sobriety</th>\n",
       "      <th>party_drug_physical</th>\n",
       "      <th>cellphone_in_use</th>\n",
       "    </tr>\n",
       "  </thead>\n",
       "  <tbody>\n",
       "    <tr>\n",
       "      <th>0</th>\n",
       "      <td>22</td>\n",
       "      <td>3899454</td>\n",
       "      <td>1</td>\n",
       "      <td>road signs</td>\n",
       "      <td>1</td>\n",
       "      <td>29.0</td>\n",
       "      <td>had not been drinking</td>\n",
       "      <td>None</td>\n",
       "      <td>0</td>\n",
       "    </tr>\n",
       "    <tr>\n",
       "      <th>1</th>\n",
       "      <td>23</td>\n",
       "      <td>3899454</td>\n",
       "      <td>2</td>\n",
       "      <td>road signs</td>\n",
       "      <td>0</td>\n",
       "      <td>7.0</td>\n",
       "      <td>had not been drinking</td>\n",
       "      <td>None</td>\n",
       "      <td>0</td>\n",
       "    </tr>\n",
       "    <tr>\n",
       "      <th>2</th>\n",
       "      <td>29</td>\n",
       "      <td>3899462</td>\n",
       "      <td>2</td>\n",
       "      <td>car</td>\n",
       "      <td>0</td>\n",
       "      <td>21.0</td>\n",
       "      <td>had not been drinking</td>\n",
       "      <td>None</td>\n",
       "      <td>0</td>\n",
       "    </tr>\n",
       "    <tr>\n",
       "      <th>3</th>\n",
       "      <td>31</td>\n",
       "      <td>3899465</td>\n",
       "      <td>2</td>\n",
       "      <td>road signs</td>\n",
       "      <td>0</td>\n",
       "      <td>24.0</td>\n",
       "      <td>had not been drinking</td>\n",
       "      <td>None</td>\n",
       "      <td>0</td>\n",
       "    </tr>\n",
       "    <tr>\n",
       "      <th>4</th>\n",
       "      <td>41</td>\n",
       "      <td>3899478</td>\n",
       "      <td>2</td>\n",
       "      <td>road bumper</td>\n",
       "      <td>0</td>\n",
       "      <td>NaN</td>\n",
       "      <td>not applicable</td>\n",
       "      <td>not applicable</td>\n",
       "      <td>0</td>\n",
       "    </tr>\n",
       "  </tbody>\n",
       "</table>\n",
       "</div>"
      ],
      "text/plain": [
       "   id  case_id  party_number   party_type  at_fault  insurance_premium  \\\n",
       "0  22  3899454             1   road signs         1               29.0   \n",
       "1  23  3899454             2   road signs         0                7.0   \n",
       "2  29  3899462             2          car         0               21.0   \n",
       "3  31  3899465             2   road signs         0               24.0   \n",
       "4  41  3899478             2  road bumper         0                NaN   \n",
       "\n",
       "          party_sobriety party_drug_physical  cellphone_in_use  \n",
       "0  had not been drinking                None                 0  \n",
       "1  had not been drinking                None                 0  \n",
       "2  had not been drinking                None                 0  \n",
       "3  had not been drinking                None                 0  \n",
       "4         not applicable      not applicable                 0  "
      ]
     },
     "metadata": {},
     "output_type": "display_data"
    },
    {
     "name": "stdout",
     "output_type": "stream",
     "text": [
      "<class 'pandas.core.frame.DataFrame'>\n",
      "RangeIndex: 5 entries, 0 to 4\n",
      "Data columns (total 9 columns):\n",
      " #   Column               Non-Null Count  Dtype  \n",
      "---  ------               --------------  -----  \n",
      " 0   id                   5 non-null      int64  \n",
      " 1   case_id              5 non-null      object \n",
      " 2   party_number         5 non-null      int64  \n",
      " 3   party_type           5 non-null      object \n",
      " 4   at_fault             5 non-null      int64  \n",
      " 5   insurance_premium    4 non-null      float64\n",
      " 6   party_sobriety       5 non-null      object \n",
      " 7   party_drug_physical  1 non-null      object \n",
      " 8   cellphone_in_use     5 non-null      int64  \n",
      "dtypes: float64(1), int64(4), object(4)\n",
      "memory usage: 488.0+ bytes\n",
      "None\n"
     ]
    }
   ],
   "source": [
    "# описание участников происшествия\n",
    "parties = download_data('parties')"
   ]
  },
  {
   "cell_type": "markdown",
   "metadata": {
    "id": "AORy7ynJlMCP"
   },
   "source": [
    "Таблица содержит следующие признаки:\n",
    "- `id` - id строки\n",
    "- `case_id` - общий ключ (происшествие)\n",
    "- `party_number` - число участников происшествия\n",
    "- `party_type` - тип участника происшествия\n",
    "- `at_fault` - виновность участника (целевой признак)\n",
    "- `insurance_premium` - сумма страховки\n",
    "- `party_sobriety` - трезвость участника\n",
    "- `party_drug_physical` - состояние участника (физическое или под воздействием лекарств)\n",
    "- `cellphone_in_use` - наличие возможности разговаривать по громкой связи"
   ]
  },
  {
   "cell_type": "markdown",
   "metadata": {
    "id": "pKbHGdXVm9qI"
   },
   "source": [
    "Выводы по разделу:\n",
    "\n",
    "- все таблицы имеют наборы данных;\n",
    "- количество таблиц соответствует условию задачи;\n",
    "- таблицы имеют общий ключ для связи - `case_id`;\n",
    "- типы данных соответствуют их значениям"
   ]
  },
  {
   "cell_type": "markdown",
   "metadata": {
    "id": "pGMwdShcyNsi"
   },
   "source": [
    "## Статистический анализ факторов аварий"
   ]
  },
  {
   "cell_type": "markdown",
   "metadata": {
    "id": "DVFcGwapyaeN"
   },
   "source": [
    "### Выясним, в какие месяцы происходит наибольшее количество аварий. Проанализируем весь период наблюдений (таблица `collisions`)"
   ]
  },
  {
   "cell_type": "markdown",
   "metadata": {},
   "source": [
    "Выгрузим данные по авариям за все годы и месяцы:"
   ]
  },
  {
   "cell_type": "code",
   "execution_count": 16,
   "metadata": {},
   "outputs": [
    {
     "data": {
      "text/html": [
       "<div>\n",
       "<style scoped>\n",
       "    .dataframe tbody tr th:only-of-type {\n",
       "        vertical-align: middle;\n",
       "    }\n",
       "\n",
       "    .dataframe tbody tr th {\n",
       "        vertical-align: top;\n",
       "    }\n",
       "\n",
       "    .dataframe thead th {\n",
       "        text-align: right;\n",
       "    }\n",
       "</style>\n",
       "<table border=\"1\" class=\"dataframe\">\n",
       "  <thead>\n",
       "    <tr style=\"text-align: right;\">\n",
       "      <th></th>\n",
       "      <th>year</th>\n",
       "      <th>month</th>\n",
       "      <th>accident_count</th>\n",
       "    </tr>\n",
       "  </thead>\n",
       "  <tbody>\n",
       "    <tr>\n",
       "      <th>0</th>\n",
       "      <td>2009.0</td>\n",
       "      <td>1</td>\n",
       "      <td>35062</td>\n",
       "    </tr>\n",
       "    <tr>\n",
       "      <th>1</th>\n",
       "      <td>2009.0</td>\n",
       "      <td>2</td>\n",
       "      <td>34480</td>\n",
       "    </tr>\n",
       "    <tr>\n",
       "      <th>2</th>\n",
       "      <td>2009.0</td>\n",
       "      <td>3</td>\n",
       "      <td>36648</td>\n",
       "    </tr>\n",
       "    <tr>\n",
       "      <th>3</th>\n",
       "      <td>2009.0</td>\n",
       "      <td>4</td>\n",
       "      <td>35239</td>\n",
       "    </tr>\n",
       "    <tr>\n",
       "      <th>4</th>\n",
       "      <td>2009.0</td>\n",
       "      <td>5</td>\n",
       "      <td>36916</td>\n",
       "    </tr>\n",
       "    <tr>\n",
       "      <th>5</th>\n",
       "      <td>2009.0</td>\n",
       "      <td>6</td>\n",
       "      <td>34202</td>\n",
       "    </tr>\n",
       "    <tr>\n",
       "      <th>6</th>\n",
       "      <td>2009.0</td>\n",
       "      <td>7</td>\n",
       "      <td>35161</td>\n",
       "    </tr>\n",
       "    <tr>\n",
       "      <th>7</th>\n",
       "      <td>2009.0</td>\n",
       "      <td>8</td>\n",
       "      <td>34508</td>\n",
       "    </tr>\n",
       "    <tr>\n",
       "      <th>8</th>\n",
       "      <td>2009.0</td>\n",
       "      <td>9</td>\n",
       "      <td>35555</td>\n",
       "    </tr>\n",
       "    <tr>\n",
       "      <th>9</th>\n",
       "      <td>2009.0</td>\n",
       "      <td>10</td>\n",
       "      <td>37835</td>\n",
       "    </tr>\n",
       "    <tr>\n",
       "      <th>10</th>\n",
       "      <td>2009.0</td>\n",
       "      <td>11</td>\n",
       "      <td>34562</td>\n",
       "    </tr>\n",
       "    <tr>\n",
       "      <th>11</th>\n",
       "      <td>2009.0</td>\n",
       "      <td>12</td>\n",
       "      <td>36060</td>\n",
       "    </tr>\n",
       "    <tr>\n",
       "      <th>12</th>\n",
       "      <td>2010.0</td>\n",
       "      <td>1</td>\n",
       "      <td>32892</td>\n",
       "    </tr>\n",
       "    <tr>\n",
       "      <th>13</th>\n",
       "      <td>2010.0</td>\n",
       "      <td>2</td>\n",
       "      <td>31918</td>\n",
       "    </tr>\n",
       "    <tr>\n",
       "      <th>14</th>\n",
       "      <td>2010.0</td>\n",
       "      <td>3</td>\n",
       "      <td>35803</td>\n",
       "    </tr>\n",
       "    <tr>\n",
       "      <th>15</th>\n",
       "      <td>2010.0</td>\n",
       "      <td>4</td>\n",
       "      <td>34416</td>\n",
       "    </tr>\n",
       "    <tr>\n",
       "      <th>16</th>\n",
       "      <td>2010.0</td>\n",
       "      <td>5</td>\n",
       "      <td>34862</td>\n",
       "    </tr>\n",
       "    <tr>\n",
       "      <th>17</th>\n",
       "      <td>2010.0</td>\n",
       "      <td>6</td>\n",
       "      <td>33367</td>\n",
       "    </tr>\n",
       "    <tr>\n",
       "      <th>18</th>\n",
       "      <td>2010.0</td>\n",
       "      <td>7</td>\n",
       "      <td>33645</td>\n",
       "    </tr>\n",
       "    <tr>\n",
       "      <th>19</th>\n",
       "      <td>2010.0</td>\n",
       "      <td>8</td>\n",
       "      <td>34620</td>\n",
       "    </tr>\n",
       "    <tr>\n",
       "      <th>20</th>\n",
       "      <td>2010.0</td>\n",
       "      <td>9</td>\n",
       "      <td>34957</td>\n",
       "    </tr>\n",
       "    <tr>\n",
       "      <th>21</th>\n",
       "      <td>2010.0</td>\n",
       "      <td>10</td>\n",
       "      <td>37480</td>\n",
       "    </tr>\n",
       "    <tr>\n",
       "      <th>22</th>\n",
       "      <td>2010.0</td>\n",
       "      <td>11</td>\n",
       "      <td>35460</td>\n",
       "    </tr>\n",
       "    <tr>\n",
       "      <th>23</th>\n",
       "      <td>2010.0</td>\n",
       "      <td>12</td>\n",
       "      <td>37070</td>\n",
       "    </tr>\n",
       "    <tr>\n",
       "      <th>24</th>\n",
       "      <td>2011.0</td>\n",
       "      <td>1</td>\n",
       "      <td>31926</td>\n",
       "    </tr>\n",
       "    <tr>\n",
       "      <th>25</th>\n",
       "      <td>2011.0</td>\n",
       "      <td>2</td>\n",
       "      <td>31975</td>\n",
       "    </tr>\n",
       "    <tr>\n",
       "      <th>26</th>\n",
       "      <td>2011.0</td>\n",
       "      <td>3</td>\n",
       "      <td>34585</td>\n",
       "    </tr>\n",
       "    <tr>\n",
       "      <th>27</th>\n",
       "      <td>2011.0</td>\n",
       "      <td>4</td>\n",
       "      <td>31377</td>\n",
       "    </tr>\n",
       "    <tr>\n",
       "      <th>28</th>\n",
       "      <td>2011.0</td>\n",
       "      <td>5</td>\n",
       "      <td>33370</td>\n",
       "    </tr>\n",
       "    <tr>\n",
       "      <th>29</th>\n",
       "      <td>2011.0</td>\n",
       "      <td>6</td>\n",
       "      <td>31962</td>\n",
       "    </tr>\n",
       "    <tr>\n",
       "      <th>30</th>\n",
       "      <td>2011.0</td>\n",
       "      <td>7</td>\n",
       "      <td>33029</td>\n",
       "    </tr>\n",
       "    <tr>\n",
       "      <th>31</th>\n",
       "      <td>2011.0</td>\n",
       "      <td>8</td>\n",
       "      <td>34339</td>\n",
       "    </tr>\n",
       "    <tr>\n",
       "      <th>32</th>\n",
       "      <td>2011.0</td>\n",
       "      <td>9</td>\n",
       "      <td>34137</td>\n",
       "    </tr>\n",
       "    <tr>\n",
       "      <th>33</th>\n",
       "      <td>2011.0</td>\n",
       "      <td>10</td>\n",
       "      <td>36618</td>\n",
       "    </tr>\n",
       "    <tr>\n",
       "      <th>34</th>\n",
       "      <td>2011.0</td>\n",
       "      <td>11</td>\n",
       "      <td>34495</td>\n",
       "    </tr>\n",
       "    <tr>\n",
       "      <th>35</th>\n",
       "      <td>2011.0</td>\n",
       "      <td>12</td>\n",
       "      <td>34615</td>\n",
       "    </tr>\n",
       "    <tr>\n",
       "      <th>36</th>\n",
       "      <td>2012.0</td>\n",
       "      <td>1</td>\n",
       "      <td>32020</td>\n",
       "    </tr>\n",
       "    <tr>\n",
       "      <th>37</th>\n",
       "      <td>2012.0</td>\n",
       "      <td>2</td>\n",
       "      <td>30377</td>\n",
       "    </tr>\n",
       "    <tr>\n",
       "      <th>38</th>\n",
       "      <td>2012.0</td>\n",
       "      <td>3</td>\n",
       "      <td>32498</td>\n",
       "    </tr>\n",
       "    <tr>\n",
       "      <th>39</th>\n",
       "      <td>2012.0</td>\n",
       "      <td>4</td>\n",
       "      <td>29143</td>\n",
       "    </tr>\n",
       "    <tr>\n",
       "      <th>40</th>\n",
       "      <td>2012.0</td>\n",
       "      <td>5</td>\n",
       "      <td>25168</td>\n",
       "    </tr>\n",
       "    <tr>\n",
       "      <th>41</th>\n",
       "      <td>2012.0</td>\n",
       "      <td>6</td>\n",
       "      <td>3062</td>\n",
       "    </tr>\n",
       "    <tr>\n",
       "      <th>42</th>\n",
       "      <td>2012.0</td>\n",
       "      <td>7</td>\n",
       "      <td>390</td>\n",
       "    </tr>\n",
       "    <tr>\n",
       "      <th>43</th>\n",
       "      <td>2012.0</td>\n",
       "      <td>8</td>\n",
       "      <td>622</td>\n",
       "    </tr>\n",
       "    <tr>\n",
       "      <th>44</th>\n",
       "      <td>2012.0</td>\n",
       "      <td>9</td>\n",
       "      <td>510</td>\n",
       "    </tr>\n",
       "    <tr>\n",
       "      <th>45</th>\n",
       "      <td>2012.0</td>\n",
       "      <td>10</td>\n",
       "      <td>304</td>\n",
       "    </tr>\n",
       "    <tr>\n",
       "      <th>46</th>\n",
       "      <td>2012.0</td>\n",
       "      <td>11</td>\n",
       "      <td>253</td>\n",
       "    </tr>\n",
       "    <tr>\n",
       "      <th>47</th>\n",
       "      <td>2012.0</td>\n",
       "      <td>12</td>\n",
       "      <td>200</td>\n",
       "    </tr>\n",
       "    <tr>\n",
       "      <th>48</th>\n",
       "      <td>2013.0</td>\n",
       "      <td>1</td>\n",
       "      <td>144</td>\n",
       "    </tr>\n",
       "    <tr>\n",
       "      <th>49</th>\n",
       "      <td>2013.0</td>\n",
       "      <td>2</td>\n",
       "      <td>108</td>\n",
       "    </tr>\n",
       "    <tr>\n",
       "      <th>50</th>\n",
       "      <td>2013.0</td>\n",
       "      <td>3</td>\n",
       "      <td>46</td>\n",
       "    </tr>\n",
       "    <tr>\n",
       "      <th>51</th>\n",
       "      <td>2013.0</td>\n",
       "      <td>4</td>\n",
       "      <td>5</td>\n",
       "    </tr>\n",
       "    <tr>\n",
       "      <th>52</th>\n",
       "      <td>2013.0</td>\n",
       "      <td>6</td>\n",
       "      <td>1</td>\n",
       "    </tr>\n",
       "    <tr>\n",
       "      <th>53</th>\n",
       "      <td>2013.0</td>\n",
       "      <td>7</td>\n",
       "      <td>1</td>\n",
       "    </tr>\n",
       "    <tr>\n",
       "      <th>54</th>\n",
       "      <td>2020.0</td>\n",
       "      <td>3</td>\n",
       "      <td>1</td>\n",
       "    </tr>\n",
       "    <tr>\n",
       "      <th>55</th>\n",
       "      <td>2020.0</td>\n",
       "      <td>7</td>\n",
       "      <td>1</td>\n",
       "    </tr>\n",
       "  </tbody>\n",
       "</table>\n",
       "</div>"
      ],
      "text/plain": [
       "      year  month  accident_count\n",
       "0   2009.0      1           35062\n",
       "1   2009.0      2           34480\n",
       "2   2009.0      3           36648\n",
       "3   2009.0      4           35239\n",
       "4   2009.0      5           36916\n",
       "5   2009.0      6           34202\n",
       "6   2009.0      7           35161\n",
       "7   2009.0      8           34508\n",
       "8   2009.0      9           35555\n",
       "9   2009.0     10           37835\n",
       "10  2009.0     11           34562\n",
       "11  2009.0     12           36060\n",
       "12  2010.0      1           32892\n",
       "13  2010.0      2           31918\n",
       "14  2010.0      3           35803\n",
       "15  2010.0      4           34416\n",
       "16  2010.0      5           34862\n",
       "17  2010.0      6           33367\n",
       "18  2010.0      7           33645\n",
       "19  2010.0      8           34620\n",
       "20  2010.0      9           34957\n",
       "21  2010.0     10           37480\n",
       "22  2010.0     11           35460\n",
       "23  2010.0     12           37070\n",
       "24  2011.0      1           31926\n",
       "25  2011.0      2           31975\n",
       "26  2011.0      3           34585\n",
       "27  2011.0      4           31377\n",
       "28  2011.0      5           33370\n",
       "29  2011.0      6           31962\n",
       "30  2011.0      7           33029\n",
       "31  2011.0      8           34339\n",
       "32  2011.0      9           34137\n",
       "33  2011.0     10           36618\n",
       "34  2011.0     11           34495\n",
       "35  2011.0     12           34615\n",
       "36  2012.0      1           32020\n",
       "37  2012.0      2           30377\n",
       "38  2012.0      3           32498\n",
       "39  2012.0      4           29143\n",
       "40  2012.0      5           25168\n",
       "41  2012.0      6            3062\n",
       "42  2012.0      7             390\n",
       "43  2012.0      8             622\n",
       "44  2012.0      9             510\n",
       "45  2012.0     10             304\n",
       "46  2012.0     11             253\n",
       "47  2012.0     12             200\n",
       "48  2013.0      1             144\n",
       "49  2013.0      2             108\n",
       "50  2013.0      3              46\n",
       "51  2013.0      4               5\n",
       "52  2013.0      6               1\n",
       "53  2013.0      7               1\n",
       "54  2020.0      3               1\n",
       "55  2020.0      7               1"
      ]
     },
     "execution_count": 16,
     "metadata": {},
     "output_type": "execute_result"
    }
   ],
   "source": [
    "months_query = '''\n",
    "            SELECT EXTRACT(YEAR FROM collision_date) AS year,\n",
    "                   EXTRACT(MONTH FROM collision_date) AS month,\n",
    "                   COUNT(case_id) AS accident_count\n",
    "            FROM collisions\n",
    "            GROUP BY year, month\n",
    "            ORDER BY year, month;\n",
    "'''\n",
    "\n",
    "collisions_by_month = pd.read_sql(months_query, engine)\n",
    "collisions_by_month['month'] = collisions_by_month['month'].astype(int)\n",
    "collisions_by_month"
   ]
  },
  {
   "cell_type": "markdown",
   "metadata": {},
   "source": [
    "Данные полные вплоть до 2012 года включительно. Уберём 2013 и 2020 годы:"
   ]
  },
  {
   "cell_type": "code",
   "execution_count": 17,
   "metadata": {},
   "outputs": [],
   "source": [
    "# получаем количество аварий по годам и месяцам (только для 2009-2012 годов)\n",
    "query = '''\n",
    "SELECT\n",
    "    extract(YEAR FROM cast(collision_date AS date))::int AS collision_year,\n",
    "    extract(MONTH FROM cast(collision_date AS date))::int AS collision_month,\n",
    "    count(case_id) AS case_count\n",
    "FROM collisions\n",
    "WHERE extract(YEAR FROM cast(collision_date AS date)) BETWEEN 2009 AND 2012\n",
    "GROUP BY collision_year, collision_month\n",
    "ORDER BY collision_year, collision_month\n",
    "'''"
   ]
  },
  {
   "cell_type": "code",
   "execution_count": 18,
   "metadata": {},
   "outputs": [],
   "source": [
    "# загружаем данные в DataFrame\n",
    "collisions = pd.read_sql_query(query, con=engine)\n",
    "# суммируем количество аварий для каждого месяца\n",
    "collisions_per_month = (\n",
    "    collisions.groupby('collision_month')['case_count']\n",
    "    .sum()\n",
    "    .reset_index()\n",
    "    .sort_values('collision_month')\n",
    ")"
   ]
  },
  {
   "cell_type": "code",
   "execution_count": 19,
   "metadata": {
    "colab": {
     "base_uri": "https://localhost:8080/",
     "height": 368
    },
    "id": "brGjXtBpmt1-",
    "outputId": "a9ddd921-b75f-40e1-f5de-b62af243cd0f"
   },
   "outputs": [
    {
     "data": {
      "image/png": "[encoded data removed]",
      "text/plain": [
       "<Figure size 1080x360 with 1 Axes>"
      ]
     },
     "metadata": {
      "needs_background": "light"
     },
     "output_type": "display_data"
    }
   ],
   "source": [
    "# построим график, отображающий суммарное количество аварий по месяцам\n",
    "plt.figure(figsize=[15, 5])\n",
    "sns.lineplot(data=collisions_per_month, x='collision_month', y='case_count', \\\n",
    "             label='Суммарное количество аварий по месяцам')\n",
    "plt.legend()\n",
    "plt.title('Суммарное количество аварий по месяцам (только полные годы)')\n",
    "plt.xticks(ticks=range(1, 13), labels=['Январь', 'Февраль', 'Март', 'Апрель', \\\n",
    "                                       'Май', 'Июнь', 'Июль', 'Август', \\\n",
    "                                       'Сентябрь', 'Октябрь', 'Ноябрь', \\\n",
    "                                       'Декабрь'])\n",
    "plt.xlabel('Месяц')\n",
    "plt.ylabel('Количество')\n",
    "plt.grid()\n",
    "\n",
    "# указываем, чтобы ось Y начиналась с 0\n",
    "plt.ylim(0)\n",
    "\n",
    "plt.show()"
   ]
  },
  {
   "cell_type": "markdown",
   "metadata": {
    "id": "Ztxp2Tv6pjEE"
   },
   "source": [
    "Выводы по полученным данным:\n",
    "\n",
    "- отфильтровали данные только по тем годам, для которых известно количество аварий в каждый из 12 месяцев;\n",
    "- наибольшее количество аварий наблюдаем в период с января по май, с пиком в марте. Это можно объяснить неблагоприятными погодными условиями и состоянием дорожного покрытия (снег, гололёд, ледяной дождь и т.п.), а также тем, что это период, когда водители меняют резину с зимней на летнюю (и кто-то, возможно, не успел поменять);\n",
    "- с мая по июнь количество аварий снижается (возможно, связано с праздниками или ещё с каким-то фактором) и далее постепенно снова увеличивается."
   ]
  },
  {
   "cell_type": "markdown",
   "metadata": {
    "id": "hptbD6UjygGW"
   },
   "source": [
    "### Создадим аналитические задачи (не менее 6 шт.) и поручим их решение коллегам"
   ]
  },
  {
   "cell_type": "markdown",
   "metadata": {
    "id": "h3wVdGcDBr84"
   },
   "source": [
    "- оценить влияние возраста автомобиля (признак `vehicle_age` таблицы `vehicles`) и погодных условий (признак `weather_1` таблицы `collisions`) на количество аварий;\n",
    "\n",
    "- оценить влияние степени опьянения (алкогольного, наркотического) участника аварии (признак `party_sobriety` таблицы `parties`) и погодных условий (признак `weather_1` таблицы `collisions`) на количество аварий;\n",
    "\n",
    "- оценить влияние освещения и состояния дороги (признаки `lighting` и `road_surface` таблицы `collisions`) на количество аварий;\n",
    "\n",
    "- оценить влияние физического состояния участника аварии (признак `party_drug_physical` таблицы `parties`) и состояния дороги (признак `road_condition_1` таблицы `collisions`) на количество аварий;\n",
    "\n",
    "- проанализировать, какое влияние оказывают погодные условия и состояние дороги на серьёзность аварии (признаки `weather_1`, `road_surface` и `collision_damage` таблицы `collisions`, соответственно);\n",
    "\n",
    "- выяснить, влияет ли возможность использования технологии \"handsfree\" (признак `cellphone_in_use` таблицы `parties`) на количество аварий, в зависимости от типа дороги (признак `location_type` таблицы `collisions`).\n"
   ]
  },
  {
   "cell_type": "markdown",
   "metadata": {
    "id": "HRpso6pBw-vM"
   },
   "source": [
    "### Пропишем порядок решения для первых двух задач из списка и реализуем его. Обязательное условие — решение должно включать связь не менее двух таблиц"
   ]
  },
  {
   "cell_type": "markdown",
   "metadata": {
    "id": "D-KiAnC6x_gd"
   },
   "source": [
    "Первая задача: оценить влияние возраста автомобиля (признак `vehicle_age` таблицы `vehicles`) и погодных условий (признак `weather_1` таблицы `collisions`) на количество аварий"
   ]
  },
  {
   "cell_type": "code",
   "execution_count": 20,
   "metadata": {
    "colab": {
     "base_uri": "https://localhost:8080/"
    },
    "id": "9PWCvB3FtTw7",
    "outputId": "42d8efa6-12b4-4924-942a-c579f0af7cf4"
   },
   "outputs": [
    {
     "data": {
      "text/html": [
       "<div>\n",
       "<style scoped>\n",
       "    .dataframe tbody tr th:only-of-type {\n",
       "        vertical-align: middle;\n",
       "    }\n",
       "\n",
       "    .dataframe tbody tr th {\n",
       "        vertical-align: top;\n",
       "    }\n",
       "\n",
       "    .dataframe thead th {\n",
       "        text-align: right;\n",
       "    }\n",
       "</style>\n",
       "<table border=\"1\" class=\"dataframe\">\n",
       "  <thead>\n",
       "    <tr style=\"text-align: right;\">\n",
       "      <th></th>\n",
       "      <th>vehicle_age</th>\n",
       "      <th>weather_condition</th>\n",
       "      <th>number_of_accidents</th>\n",
       "    </tr>\n",
       "  </thead>\n",
       "  <tbody>\n",
       "    <tr>\n",
       "      <th>0</th>\n",
       "      <td>3</td>\n",
       "      <td>clear</td>\n",
       "      <td>143765</td>\n",
       "    </tr>\n",
       "    <tr>\n",
       "      <th>1</th>\n",
       "      <td>4</td>\n",
       "      <td>clear</td>\n",
       "      <td>101146</td>\n",
       "    </tr>\n",
       "    <tr>\n",
       "      <th>2</th>\n",
       "      <td>2</td>\n",
       "      <td>clear</td>\n",
       "      <td>86952</td>\n",
       "    </tr>\n",
       "    <tr>\n",
       "      <th>3</th>\n",
       "      <td>5</td>\n",
       "      <td>clear</td>\n",
       "      <td>84558</td>\n",
       "    </tr>\n",
       "    <tr>\n",
       "      <th>4</th>\n",
       "      <td>7</td>\n",
       "      <td>clear</td>\n",
       "      <td>68254</td>\n",
       "    </tr>\n",
       "    <tr>\n",
       "      <th>...</th>\n",
       "      <td>...</td>\n",
       "      <td>...</td>\n",
       "      <td>...</td>\n",
       "    </tr>\n",
       "    <tr>\n",
       "      <th>114</th>\n",
       "      <td>13</td>\n",
       "      <td>other</td>\n",
       "      <td>5</td>\n",
       "    </tr>\n",
       "    <tr>\n",
       "      <th>115</th>\n",
       "      <td>14</td>\n",
       "      <td>other</td>\n",
       "      <td>3</td>\n",
       "    </tr>\n",
       "    <tr>\n",
       "      <th>116</th>\n",
       "      <td>13</td>\n",
       "      <td>wind</td>\n",
       "      <td>2</td>\n",
       "    </tr>\n",
       "    <tr>\n",
       "      <th>117</th>\n",
       "      <td>14</td>\n",
       "      <td>snowing</td>\n",
       "      <td>2</td>\n",
       "    </tr>\n",
       "    <tr>\n",
       "      <th>118</th>\n",
       "      <td>12</td>\n",
       "      <td>wind</td>\n",
       "      <td>2</td>\n",
       "    </tr>\n",
       "  </tbody>\n",
       "</table>\n",
       "<p>119 rows × 3 columns</p>\n",
       "</div>"
      ],
      "text/plain": [
       "     vehicle_age weather_condition  number_of_accidents\n",
       "0              3             clear               143765\n",
       "1              4             clear               101146\n",
       "2              2             clear                86952\n",
       "3              5             clear                84558\n",
       "4              7             clear                68254\n",
       "..           ...               ...                  ...\n",
       "114           13             other                    5\n",
       "115           14             other                    3\n",
       "116           13              wind                    2\n",
       "117           14           snowing                    2\n",
       "118           12              wind                    2\n",
       "\n",
       "[119 rows x 3 columns]"
      ]
     },
     "metadata": {},
     "output_type": "display_data"
    }
   ],
   "source": [
    "# отфильтруем автомобили по возрасту, ограничив его 15-ю годами\n",
    "# (речь идёт про каршеринг, так что\n",
    "# маловероятно наличие столь возрастных авто в сервисе)\n",
    "query = \"\"\"\n",
    "SELECT\n",
    "    v.vehicle_age AS vehicle_age,\n",
    "    c.weather_1 AS weather_condition,\n",
    "    COUNT(c.case_id) AS number_of_accidents\n",
    "FROM\n",
    "    vehicles AS v\n",
    "JOIN\n",
    "    collisions AS c\n",
    "ON\n",
    "    v.case_id = c.case_id\n",
    "WHERE\n",
    "    v.vehicle_age < 15\n",
    "GROUP BY\n",
    "    v.vehicle_age, c.weather_1\n",
    "ORDER BY\n",
    "    number_of_accidents DESC;\n",
    "\"\"\"\n",
    "\n",
    "# Выполним запрос и загрузим результат в DataFrame\n",
    "df = pd.read_sql_query(query, con=engine)\n",
    "\n",
    "# Выведем результат\n",
    "display(df)"
   ]
  },
  {
   "cell_type": "code",
   "execution_count": 21,
   "metadata": {
    "colab": {
     "base_uri": "https://localhost:8080/",
     "height": 517
    },
    "id": "ARQBmtplt4pH",
    "outputId": "a7393704-baaa-4744-e531-8db69a6abbeb"
   },
   "outputs": [
    {
     "data": {
      "image/png": "[encoded data removed]",
      "text/plain": [
       "<Figure size 864x432 with 1 Axes>"
      ]
     },
     "metadata": {
      "needs_background": "light"
     },
     "output_type": "display_data"
    }
   ],
   "source": [
    "# построим график зависимости количества аварий от возраста авто и погоды\n",
    "plt.figure(figsize=(12, 6))\n",
    "sns.lineplot(\n",
    "    data=df,\n",
    "    x='vehicle_age',\n",
    "    y='number_of_accidents',\n",
    "    hue='weather_condition',\n",
    "    marker='o'\n",
    ")\n",
    "\n",
    "plt.title(\"Зависимость количества аварий от возраста автомобиля и погоды\")\n",
    "plt.xlabel(\"Возраст автомобиля (лет)\")\n",
    "plt.ylabel(\"Количество аварий\")\n",
    "plt.legend(title=\"Погодные условия\")\n",
    "plt.grid(True)\n",
    "plt.show()"
   ]
  },
  {
   "cell_type": "markdown",
   "metadata": {
    "id": "DZY_XTRNsyKZ"
   },
   "source": [
    "Выводы по полученным данным:\n",
    "\n",
    "- автомобили возрастом от полутора до шести лет чаще попадают в аварии вне зависимости от погодных условий;\n",
    "- в сухую ясную погоду количество аварий существенно выше, чем в плохие погодные условия. Это можно объяснить ослепляющим солнечным светом, влияющим на водителей, повышенной внимательностью водителей во время снега, дождя и т.д., а также меньшим количеством поездок в такую непогоду\n",
    "\n"
   ]
  },
  {
   "cell_type": "markdown",
   "metadata": {
    "id": "hEYmKqJHxYO7"
   },
   "source": [
    "Вторая задача: оценить влияние степени опьянения (алкогольного, наркотического) участника аварии (признак `party_sobriety` таблицы `parties`) и погодных условий (признак `weather_1` таблицы `collisions`) на количество аварий"
   ]
  },
  {
   "cell_type": "code",
   "execution_count": 22,
   "metadata": {
    "colab": {
     "base_uri": "https://localhost:8080/"
    },
    "id": "fzWplIOSrpZL",
    "outputId": "b5d7af98-a4b1-450c-a415-811efa9f5049"
   },
   "outputs": [
    {
     "data": {
      "text/html": [
       "<div>\n",
       "<style scoped>\n",
       "    .dataframe tbody tr th:only-of-type {\n",
       "        vertical-align: middle;\n",
       "    }\n",
       "\n",
       "    .dataframe tbody tr th {\n",
       "        vertical-align: top;\n",
       "    }\n",
       "\n",
       "    .dataframe thead th {\n",
       "        text-align: right;\n",
       "    }\n",
       "</style>\n",
       "<table border=\"1\" class=\"dataframe\">\n",
       "  <thead>\n",
       "    <tr style=\"text-align: right;\">\n",
       "      <th></th>\n",
       "      <th>sobriety</th>\n",
       "      <th>weather_condition</th>\n",
       "      <th>number_of_accidents</th>\n",
       "    </tr>\n",
       "  </thead>\n",
       "  <tbody>\n",
       "    <tr>\n",
       "      <th>0</th>\n",
       "      <td>had not been drinking</td>\n",
       "      <td>clear</td>\n",
       "      <td>1715795</td>\n",
       "    </tr>\n",
       "    <tr>\n",
       "      <th>1</th>\n",
       "      <td>had not been drinking</td>\n",
       "      <td>cloudy</td>\n",
       "      <td>307784</td>\n",
       "    </tr>\n",
       "    <tr>\n",
       "      <th>2</th>\n",
       "      <td>impairment unknown</td>\n",
       "      <td>clear</td>\n",
       "      <td>189772</td>\n",
       "    </tr>\n",
       "    <tr>\n",
       "      <th>3</th>\n",
       "      <td>not applicable</td>\n",
       "      <td>clear</td>\n",
       "      <td>140298</td>\n",
       "    </tr>\n",
       "    <tr>\n",
       "      <th>4</th>\n",
       "      <td>had been drinking, under influence</td>\n",
       "      <td>clear</td>\n",
       "      <td>91284</td>\n",
       "    </tr>\n",
       "    <tr>\n",
       "      <th>5</th>\n",
       "      <td>had not been drinking</td>\n",
       "      <td>raining</td>\n",
       "      <td>80463</td>\n",
       "    </tr>\n",
       "    <tr>\n",
       "      <th>6</th>\n",
       "      <td>None</td>\n",
       "      <td>clear</td>\n",
       "      <td>59410</td>\n",
       "    </tr>\n",
       "    <tr>\n",
       "      <th>7</th>\n",
       "      <td>impairment unknown</td>\n",
       "      <td>cloudy</td>\n",
       "      <td>30122</td>\n",
       "    </tr>\n",
       "    <tr>\n",
       "      <th>8</th>\n",
       "      <td>not applicable</td>\n",
       "      <td>cloudy</td>\n",
       "      <td>19694</td>\n",
       "    </tr>\n",
       "    <tr>\n",
       "      <th>9</th>\n",
       "      <td>had been drinking, impairment unknown</td>\n",
       "      <td>clear</td>\n",
       "      <td>17625</td>\n",
       "    </tr>\n",
       "    <tr>\n",
       "      <th>10</th>\n",
       "      <td>had been drinking, under influence</td>\n",
       "      <td>cloudy</td>\n",
       "      <td>14859</td>\n",
       "    </tr>\n",
       "    <tr>\n",
       "      <th>11</th>\n",
       "      <td>had been drinking, not under influence</td>\n",
       "      <td>clear</td>\n",
       "      <td>14229</td>\n",
       "    </tr>\n",
       "    <tr>\n",
       "      <th>12</th>\n",
       "      <td>impairment unknown</td>\n",
       "      <td>raining</td>\n",
       "      <td>9531</td>\n",
       "    </tr>\n",
       "    <tr>\n",
       "      <th>13</th>\n",
       "      <td>None</td>\n",
       "      <td>cloudy</td>\n",
       "      <td>8260</td>\n",
       "    </tr>\n",
       "    <tr>\n",
       "      <th>14</th>\n",
       "      <td>had not been drinking</td>\n",
       "      <td>None</td>\n",
       "      <td>7881</td>\n",
       "    </tr>\n",
       "    <tr>\n",
       "      <th>15</th>\n",
       "      <td>had not been drinking</td>\n",
       "      <td>fog</td>\n",
       "      <td>7499</td>\n",
       "    </tr>\n",
       "    <tr>\n",
       "      <th>16</th>\n",
       "      <td>not applicable</td>\n",
       "      <td>raining</td>\n",
       "      <td>6526</td>\n",
       "    </tr>\n",
       "    <tr>\n",
       "      <th>17</th>\n",
       "      <td>had been drinking, under influence</td>\n",
       "      <td>raining</td>\n",
       "      <td>4705</td>\n",
       "    </tr>\n",
       "    <tr>\n",
       "      <th>18</th>\n",
       "      <td>had not been drinking</td>\n",
       "      <td>snowing</td>\n",
       "      <td>3611</td>\n",
       "    </tr>\n",
       "    <tr>\n",
       "      <th>19</th>\n",
       "      <td>None</td>\n",
       "      <td>raining</td>\n",
       "      <td>2804</td>\n",
       "    </tr>\n",
       "    <tr>\n",
       "      <th>20</th>\n",
       "      <td>None</td>\n",
       "      <td>None</td>\n",
       "      <td>2782</td>\n",
       "    </tr>\n",
       "    <tr>\n",
       "      <th>21</th>\n",
       "      <td>had been drinking, impairment unknown</td>\n",
       "      <td>cloudy</td>\n",
       "      <td>2400</td>\n",
       "    </tr>\n",
       "    <tr>\n",
       "      <th>22</th>\n",
       "      <td>had been drinking, not under influence</td>\n",
       "      <td>cloudy</td>\n",
       "      <td>2360</td>\n",
       "    </tr>\n",
       "    <tr>\n",
       "      <th>23</th>\n",
       "      <td>impairment unknown</td>\n",
       "      <td>None</td>\n",
       "      <td>1543</td>\n",
       "    </tr>\n",
       "    <tr>\n",
       "      <th>24</th>\n",
       "      <td>had not been drinking</td>\n",
       "      <td>other</td>\n",
       "      <td>1105</td>\n",
       "    </tr>\n",
       "    <tr>\n",
       "      <th>25</th>\n",
       "      <td>not applicable</td>\n",
       "      <td>None</td>\n",
       "      <td>1092</td>\n",
       "    </tr>\n",
       "    <tr>\n",
       "      <th>26</th>\n",
       "      <td>had been drinking, impairment unknown</td>\n",
       "      <td>raining</td>\n",
       "      <td>1019</td>\n",
       "    </tr>\n",
       "    <tr>\n",
       "      <th>27</th>\n",
       "      <td>impairment unknown</td>\n",
       "      <td>fog</td>\n",
       "      <td>963</td>\n",
       "    </tr>\n",
       "    <tr>\n",
       "      <th>28</th>\n",
       "      <td>not applicable</td>\n",
       "      <td>fog</td>\n",
       "      <td>890</td>\n",
       "    </tr>\n",
       "    <tr>\n",
       "      <th>29</th>\n",
       "      <td>had been drinking, under influence</td>\n",
       "      <td>fog</td>\n",
       "      <td>813</td>\n",
       "    </tr>\n",
       "    <tr>\n",
       "      <th>30</th>\n",
       "      <td>had been drinking, not under influence</td>\n",
       "      <td>raining</td>\n",
       "      <td>813</td>\n",
       "    </tr>\n",
       "    <tr>\n",
       "      <th>31</th>\n",
       "      <td>impairment unknown</td>\n",
       "      <td>other</td>\n",
       "      <td>680</td>\n",
       "    </tr>\n",
       "    <tr>\n",
       "      <th>32</th>\n",
       "      <td>had not been drinking</td>\n",
       "      <td>wind</td>\n",
       "      <td>589</td>\n",
       "    </tr>\n",
       "    <tr>\n",
       "      <th>33</th>\n",
       "      <td>had been drinking, under influence</td>\n",
       "      <td>None</td>\n",
       "      <td>557</td>\n",
       "    </tr>\n",
       "    <tr>\n",
       "      <th>34</th>\n",
       "      <td>not applicable</td>\n",
       "      <td>other</td>\n",
       "      <td>534</td>\n",
       "    </tr>\n",
       "    <tr>\n",
       "      <th>35</th>\n",
       "      <td>None</td>\n",
       "      <td>fog</td>\n",
       "      <td>369</td>\n",
       "    </tr>\n",
       "    <tr>\n",
       "      <th>36</th>\n",
       "      <td>not applicable</td>\n",
       "      <td>snowing</td>\n",
       "      <td>249</td>\n",
       "    </tr>\n",
       "    <tr>\n",
       "      <th>37</th>\n",
       "      <td>impairment unknown</td>\n",
       "      <td>snowing</td>\n",
       "      <td>236</td>\n",
       "    </tr>\n",
       "    <tr>\n",
       "      <th>38</th>\n",
       "      <td>None</td>\n",
       "      <td>other</td>\n",
       "      <td>188</td>\n",
       "    </tr>\n",
       "    <tr>\n",
       "      <th>39</th>\n",
       "      <td>had been drinking, impairment unknown</td>\n",
       "      <td>None</td>\n",
       "      <td>156</td>\n",
       "    </tr>\n",
       "    <tr>\n",
       "      <th>40</th>\n",
       "      <td>had been drinking, impairment unknown</td>\n",
       "      <td>fog</td>\n",
       "      <td>131</td>\n",
       "    </tr>\n",
       "    <tr>\n",
       "      <th>41</th>\n",
       "      <td>had been drinking, not under influence</td>\n",
       "      <td>fog</td>\n",
       "      <td>114</td>\n",
       "    </tr>\n",
       "    <tr>\n",
       "      <th>42</th>\n",
       "      <td>None</td>\n",
       "      <td>snowing</td>\n",
       "      <td>99</td>\n",
       "    </tr>\n",
       "    <tr>\n",
       "      <th>43</th>\n",
       "      <td>had been drinking, under influence</td>\n",
       "      <td>snowing</td>\n",
       "      <td>96</td>\n",
       "    </tr>\n",
       "    <tr>\n",
       "      <th>44</th>\n",
       "      <td>had been drinking, not under influence</td>\n",
       "      <td>None</td>\n",
       "      <td>79</td>\n",
       "    </tr>\n",
       "    <tr>\n",
       "      <th>45</th>\n",
       "      <td>had been drinking, under influence</td>\n",
       "      <td>other</td>\n",
       "      <td>66</td>\n",
       "    </tr>\n",
       "    <tr>\n",
       "      <th>46</th>\n",
       "      <td>not applicable</td>\n",
       "      <td>wind</td>\n",
       "      <td>60</td>\n",
       "    </tr>\n",
       "    <tr>\n",
       "      <th>47</th>\n",
       "      <td>impairment unknown</td>\n",
       "      <td>wind</td>\n",
       "      <td>54</td>\n",
       "    </tr>\n",
       "    <tr>\n",
       "      <th>48</th>\n",
       "      <td>had been drinking, impairment unknown</td>\n",
       "      <td>other</td>\n",
       "      <td>54</td>\n",
       "    </tr>\n",
       "    <tr>\n",
       "      <th>49</th>\n",
       "      <td>None</td>\n",
       "      <td>wind</td>\n",
       "      <td>43</td>\n",
       "    </tr>\n",
       "    <tr>\n",
       "      <th>50</th>\n",
       "      <td>had been drinking, under influence</td>\n",
       "      <td>wind</td>\n",
       "      <td>33</td>\n",
       "    </tr>\n",
       "    <tr>\n",
       "      <th>51</th>\n",
       "      <td>had been drinking, not under influence</td>\n",
       "      <td>snowing</td>\n",
       "      <td>29</td>\n",
       "    </tr>\n",
       "    <tr>\n",
       "      <th>52</th>\n",
       "      <td>had been drinking, impairment unknown</td>\n",
       "      <td>snowing</td>\n",
       "      <td>21</td>\n",
       "    </tr>\n",
       "    <tr>\n",
       "      <th>53</th>\n",
       "      <td>had been drinking, not under influence</td>\n",
       "      <td>other</td>\n",
       "      <td>19</td>\n",
       "    </tr>\n",
       "    <tr>\n",
       "      <th>54</th>\n",
       "      <td>had been drinking, impairment unknown</td>\n",
       "      <td>wind</td>\n",
       "      <td>13</td>\n",
       "    </tr>\n",
       "    <tr>\n",
       "      <th>55</th>\n",
       "      <td>had been drinking, not under influence</td>\n",
       "      <td>wind</td>\n",
       "      <td>7</td>\n",
       "    </tr>\n",
       "  </tbody>\n",
       "</table>\n",
       "</div>"
      ],
      "text/plain": [
       "                                  sobriety weather_condition  \\\n",
       "0                    had not been drinking             clear   \n",
       "1                    had not been drinking            cloudy   \n",
       "2                       impairment unknown             clear   \n",
       "3                           not applicable             clear   \n",
       "4       had been drinking, under influence             clear   \n",
       "5                    had not been drinking           raining   \n",
       "6                                     None             clear   \n",
       "7                       impairment unknown            cloudy   \n",
       "8                           not applicable            cloudy   \n",
       "9    had been drinking, impairment unknown             clear   \n",
       "10      had been drinking, under influence            cloudy   \n",
       "11  had been drinking, not under influence             clear   \n",
       "12                      impairment unknown           raining   \n",
       "13                                    None            cloudy   \n",
       "14                   had not been drinking              None   \n",
       "15                   had not been drinking               fog   \n",
       "16                          not applicable           raining   \n",
       "17      had been drinking, under influence           raining   \n",
       "18                   had not been drinking           snowing   \n",
       "19                                    None           raining   \n",
       "20                                    None              None   \n",
       "21   had been drinking, impairment unknown            cloudy   \n",
       "22  had been drinking, not under influence            cloudy   \n",
       "23                      impairment unknown              None   \n",
       "24                   had not been drinking             other   \n",
       "25                          not applicable              None   \n",
       "26   had been drinking, impairment unknown           raining   \n",
       "27                      impairment unknown               fog   \n",
       "28                          not applicable               fog   \n",
       "29      had been drinking, under influence               fog   \n",
       "30  had been drinking, not under influence           raining   \n",
       "31                      impairment unknown             other   \n",
       "32                   had not been drinking              wind   \n",
       "33      had been drinking, under influence              None   \n",
       "34                          not applicable             other   \n",
       "35                                    None               fog   \n",
       "36                          not applicable           snowing   \n",
       "37                      impairment unknown           snowing   \n",
       "38                                    None             other   \n",
       "39   had been drinking, impairment unknown              None   \n",
       "40   had been drinking, impairment unknown               fog   \n",
       "41  had been drinking, not under influence               fog   \n",
       "42                                    None           snowing   \n",
       "43      had been drinking, under influence           snowing   \n",
       "44  had been drinking, not under influence              None   \n",
       "45      had been drinking, under influence             other   \n",
       "46                          not applicable              wind   \n",
       "47                      impairment unknown              wind   \n",
       "48   had been drinking, impairment unknown             other   \n",
       "49                                    None              wind   \n",
       "50      had been drinking, under influence              wind   \n",
       "51  had been drinking, not under influence           snowing   \n",
       "52   had been drinking, impairment unknown           snowing   \n",
       "53  had been drinking, not under influence             other   \n",
       "54   had been drinking, impairment unknown              wind   \n",
       "55  had been drinking, not under influence              wind   \n",
       "\n",
       "    number_of_accidents  \n",
       "0               1715795  \n",
       "1                307784  \n",
       "2                189772  \n",
       "3                140298  \n",
       "4                 91284  \n",
       "5                 80463  \n",
       "6                 59410  \n",
       "7                 30122  \n",
       "8                 19694  \n",
       "9                 17625  \n",
       "10                14859  \n",
       "11                14229  \n",
       "12                 9531  \n",
       "13                 8260  \n",
       "14                 7881  \n",
       "15                 7499  \n",
       "16                 6526  \n",
       "17                 4705  \n",
       "18                 3611  \n",
       "19                 2804  \n",
       "20                 2782  \n",
       "21                 2400  \n",
       "22                 2360  \n",
       "23                 1543  \n",
       "24                 1105  \n",
       "25                 1092  \n",
       "26                 1019  \n",
       "27                  963  \n",
       "28                  890  \n",
       "29                  813  \n",
       "30                  813  \n",
       "31                  680  \n",
       "32                  589  \n",
       "33                  557  \n",
       "34                  534  \n",
       "35                  369  \n",
       "36                  249  \n",
       "37                  236  \n",
       "38                  188  \n",
       "39                  156  \n",
       "40                  131  \n",
       "41                  114  \n",
       "42                   99  \n",
       "43                   96  \n",
       "44                   79  \n",
       "45                   66  \n",
       "46                   60  \n",
       "47                   54  \n",
       "48                   54  \n",
       "49                   43  \n",
       "50                   33  \n",
       "51                   29  \n",
       "52                   21  \n",
       "53                   19  \n",
       "54                   13  \n",
       "55                    7  "
      ]
     },
     "metadata": {},
     "output_type": "display_data"
    }
   ],
   "source": [
    "query = \"\"\"\n",
    "SELECT\n",
    "    p.party_sobriety AS sobriety,\n",
    "    c.weather_1 AS weather_condition,\n",
    "    COUNT(c.case_id) AS number_of_accidents\n",
    "FROM\n",
    "    parties AS p\n",
    "JOIN\n",
    "    collisions AS c\n",
    "ON\n",
    "    p.case_id = c.case_id\n",
    "GROUP BY\n",
    "    p.party_sobriety, c.weather_1\n",
    "ORDER BY\n",
    "    number_of_accidents DESC;\n",
    "\"\"\"\n",
    "\n",
    "# Выполним запрос и загрузим результат в DataFrame\n",
    "df = pd.read_sql_query(query, con=engine)\n",
    "\n",
    "# Выведем результат\n",
    "display(df)"
   ]
  },
  {
   "cell_type": "code",
   "execution_count": 23,
   "metadata": {
    "colab": {
     "base_uri": "https://localhost:8080/",
     "height": 665
    },
    "id": "Zi7cIMjLt4wk",
    "outputId": "6e23f2a0-749b-440e-c26f-9b1e2c172a26"
   },
   "outputs": [
    {
     "ename": "ConversionError",
     "evalue": "Failed to convert value(s) to axis units: 0                      had not been drinking\n1                      had not been drinking\n2                         impairment unknown\n3                             not applicable\n4         had been drinking, under influence\n5                      had not been drinking\n6                                       None\n7                         impairment unknown\n8                             not applicable\n9      had been drinking, impairment unknown\n10        had been drinking, under influence\n11    had been drinking, not under influence\n12                        impairment unknown\n13                                      None\n14                     had not been drinking\n15                     had not been drinking\n16                            not applicable\n17        had been drinking, under influence\n18                     had not been drinking\n19                                      None\n20                                      None\n21     had been drinking, impairment unknown\n22    had been drinking, not under influence\n23                        impairment unknown\n24                     had not been drinking\n25                            not applicable\n26     had been drinking, impairment unknown\n27                        impairment unknown\n28                            not applicable\n29        had been drinking, under influence\n30    had been drinking, not under influence\n31                        impairment unknown\n32                     had not been drinking\n33        had been drinking, under influence\n34                            not applicable\n35                                      None\n36                            not applicable\n37                        impairment unknown\n38                                      None\n39     had been drinking, impairment unknown\n40     had been drinking, impairment unknown\n41    had been drinking, not under influence\n42                                      None\n43        had been drinking, under influence\n44    had been drinking, not under influence\n45        had been drinking, under influence\n46                            not applicable\n47                        impairment unknown\n48     had been drinking, impairment unknown\n49                                      None\n50        had been drinking, under influence\n51    had been drinking, not under influence\n52     had been drinking, impairment unknown\n53    had been drinking, not under influence\n54     had been drinking, impairment unknown\n55    had been drinking, not under influence\nName: x, dtype: object",
     "output_type": "error",
     "traceback": [
      "\u001b[0;31m---------------------------------------------------------------------------\u001b[0m",
      "\u001b[0;31mTypeError\u001b[0m                                 Traceback (most recent call last)",
      "\u001b[0;32m/opt/conda/lib/python3.9/site-packages/matplotlib/axis.py\u001b[0m in \u001b[0;36mconvert_units\u001b[0;34m(self, x)\u001b[0m\n\u001b[1;32m   1522\u001b[0m         \u001b[0;32mtry\u001b[0m\u001b[0;34m:\u001b[0m\u001b[0;34m\u001b[0m\u001b[0;34m\u001b[0m\u001b[0m\n\u001b[0;32m-> 1523\u001b[0;31m             \u001b[0mret\u001b[0m \u001b[0;34m=\u001b[0m \u001b[0mself\u001b[0m\u001b[0;34m.\u001b[0m\u001b[0mconverter\u001b[0m\u001b[0;34m.\u001b[0m\u001b[0mconvert\u001b[0m\u001b[0;34m(\u001b[0m\u001b[0mx\u001b[0m\u001b[0;34m,\u001b[0m \u001b[0mself\u001b[0m\u001b[0;34m.\u001b[0m\u001b[0munits\u001b[0m\u001b[0;34m,\u001b[0m \u001b[0mself\u001b[0m\u001b[0;34m)\u001b[0m\u001b[0;34m\u001b[0m\u001b[0;34m\u001b[0m\u001b[0m\n\u001b[0m\u001b[1;32m   1524\u001b[0m         \u001b[0;32mexcept\u001b[0m \u001b[0mException\u001b[0m \u001b[0;32mas\u001b[0m \u001b[0me\u001b[0m\u001b[0;34m:\u001b[0m\u001b[0;34m\u001b[0m\u001b[0;34m\u001b[0m\u001b[0m\n",
      "\u001b[0;32m/opt/conda/lib/python3.9/site-packages/matplotlib/category.py\u001b[0m in \u001b[0;36mconvert\u001b[0;34m(value, unit, axis)\u001b[0m\n\u001b[1;32m     60\u001b[0m         \u001b[0;31m# force an update so it also does type checking\u001b[0m\u001b[0;34m\u001b[0m\u001b[0;34m\u001b[0m\u001b[0;34m\u001b[0m\u001b[0m\n\u001b[0;32m---> 61\u001b[0;31m         \u001b[0munit\u001b[0m\u001b[0;34m.\u001b[0m\u001b[0mupdate\u001b[0m\u001b[0;34m(\u001b[0m\u001b[0mvalues\u001b[0m\u001b[0;34m)\u001b[0m\u001b[0;34m\u001b[0m\u001b[0;34m\u001b[0m\u001b[0m\n\u001b[0m\u001b[1;32m     62\u001b[0m         \u001b[0;32mreturn\u001b[0m \u001b[0mnp\u001b[0m\u001b[0;34m.\u001b[0m\u001b[0mvectorize\u001b[0m\u001b[0;34m(\u001b[0m\u001b[0munit\u001b[0m\u001b[0;34m.\u001b[0m\u001b[0m_mapping\u001b[0m\u001b[0;34m.\u001b[0m\u001b[0m__getitem__\u001b[0m\u001b[0;34m,\u001b[0m \u001b[0motypes\u001b[0m\u001b[0;34m=\u001b[0m\u001b[0;34m[\u001b[0m\u001b[0mfloat\u001b[0m\u001b[0;34m]\u001b[0m\u001b[0;34m)\u001b[0m\u001b[0;34m(\u001b[0m\u001b[0mvalues\u001b[0m\u001b[0;34m)\u001b[0m\u001b[0;34m\u001b[0m\u001b[0;34m\u001b[0m\u001b[0m\n",
      "\u001b[0;32m/opt/conda/lib/python3.9/site-packages/matplotlib/category.py\u001b[0m in \u001b[0;36mupdate\u001b[0;34m(self, data)\u001b[0m\n\u001b[1;32m    210\u001b[0m             \u001b[0;31m# OrderedDict just iterates over unique values in data.\u001b[0m\u001b[0;34m\u001b[0m\u001b[0;34m\u001b[0m\u001b[0;34m\u001b[0m\u001b[0m\n\u001b[0;32m--> 211\u001b[0;31m             \u001b[0mcbook\u001b[0m\u001b[0;34m.\u001b[0m\u001b[0m_check_isinstance\u001b[0m\u001b[0;34m(\u001b[0m\u001b[0;34m(\u001b[0m\u001b[0mstr\u001b[0m\u001b[0;34m,\u001b[0m \u001b[0mbytes\u001b[0m\u001b[0;34m)\u001b[0m\u001b[0;34m,\u001b[0m \u001b[0mvalue\u001b[0m\u001b[0;34m=\u001b[0m\u001b[0mval\u001b[0m\u001b[0;34m)\u001b[0m\u001b[0;34m\u001b[0m\u001b[0;34m\u001b[0m\u001b[0m\n\u001b[0m\u001b[1;32m    212\u001b[0m             \u001b[0;32mif\u001b[0m \u001b[0mconvertible\u001b[0m\u001b[0;34m:\u001b[0m\u001b[0;34m\u001b[0m\u001b[0;34m\u001b[0m\u001b[0m\n",
      "\u001b[0;32m/opt/conda/lib/python3.9/site-packages/matplotlib/cbook/__init__.py\u001b[0m in \u001b[0;36m_check_isinstance\u001b[0;34m(_types, **kwargs)\u001b[0m\n\u001b[1;32m   2245\u001b[0m         \u001b[0;32mif\u001b[0m \u001b[0;32mnot\u001b[0m \u001b[0misinstance\u001b[0m\u001b[0;34m(\u001b[0m\u001b[0mv\u001b[0m\u001b[0;34m,\u001b[0m \u001b[0mtypes\u001b[0m\u001b[0;34m)\u001b[0m\u001b[0;34m:\u001b[0m\u001b[0;34m\u001b[0m\u001b[0;34m\u001b[0m\u001b[0m\n\u001b[0;32m-> 2246\u001b[0;31m             raise TypeError(\n\u001b[0m\u001b[1;32m   2247\u001b[0m                 \"{!r} must be an instance of {}, not a {}\".format(\n",
      "\u001b[0;31mTypeError\u001b[0m: 'value' must be an instance of str or bytes, not a NoneType",
      "\nThe above exception was the direct cause of the following exception:\n",
      "\u001b[0;31mConversionError\u001b[0m                           Traceback (most recent call last)",
      "\u001b[0;32m/tmp/ipykernel_47/225801159.py\u001b[0m in \u001b[0;36m<module>\u001b[0;34m\u001b[0m\n\u001b[1;32m      1\u001b[0m \u001b[0mplt\u001b[0m\u001b[0;34m.\u001b[0m\u001b[0mfigure\u001b[0m\u001b[0;34m(\u001b[0m\u001b[0mfigsize\u001b[0m\u001b[0;34m=\u001b[0m\u001b[0;34m(\u001b[0m\u001b[0;36m12\u001b[0m\u001b[0;34m,\u001b[0m \u001b[0;36m6\u001b[0m\u001b[0;34m)\u001b[0m\u001b[0;34m)\u001b[0m\u001b[0;34m\u001b[0m\u001b[0;34m\u001b[0m\u001b[0m\n\u001b[0;32m----> 2\u001b[0;31m sns.lineplot(\n\u001b[0m\u001b[1;32m      3\u001b[0m     \u001b[0mdata\u001b[0m\u001b[0;34m=\u001b[0m\u001b[0mdf\u001b[0m\u001b[0;34m,\u001b[0m\u001b[0;34m\u001b[0m\u001b[0;34m\u001b[0m\u001b[0m\n\u001b[1;32m      4\u001b[0m     \u001b[0mx\u001b[0m\u001b[0;34m=\u001b[0m\u001b[0;34m'sobriety'\u001b[0m\u001b[0;34m,\u001b[0m\u001b[0;34m\u001b[0m\u001b[0;34m\u001b[0m\u001b[0m\n\u001b[1;32m      5\u001b[0m     \u001b[0my\u001b[0m\u001b[0;34m=\u001b[0m\u001b[0;34m'number_of_accidents'\u001b[0m\u001b[0;34m,\u001b[0m\u001b[0;34m\u001b[0m\u001b[0;34m\u001b[0m\u001b[0m\n",
      "\u001b[0;32m/opt/conda/lib/python3.9/site-packages/seaborn/_decorators.py\u001b[0m in \u001b[0;36minner_f\u001b[0;34m(*args, **kwargs)\u001b[0m\n\u001b[1;32m     44\u001b[0m             )\n\u001b[1;32m     45\u001b[0m         \u001b[0mkwargs\u001b[0m\u001b[0;34m.\u001b[0m\u001b[0mupdate\u001b[0m\u001b[0;34m(\u001b[0m\u001b[0;34m{\u001b[0m\u001b[0mk\u001b[0m\u001b[0;34m:\u001b[0m \u001b[0marg\u001b[0m \u001b[0;32mfor\u001b[0m \u001b[0mk\u001b[0m\u001b[0;34m,\u001b[0m \u001b[0marg\u001b[0m \u001b[0;32min\u001b[0m \u001b[0mzip\u001b[0m\u001b[0;34m(\u001b[0m\u001b[0msig\u001b[0m\u001b[0;34m.\u001b[0m\u001b[0mparameters\u001b[0m\u001b[0;34m,\u001b[0m \u001b[0margs\u001b[0m\u001b[0;34m)\u001b[0m\u001b[0;34m}\u001b[0m\u001b[0;34m)\u001b[0m\u001b[0;34m\u001b[0m\u001b[0;34m\u001b[0m\u001b[0m\n\u001b[0;32m---> 46\u001b[0;31m         \u001b[0;32mreturn\u001b[0m \u001b[0mf\u001b[0m\u001b[0;34m(\u001b[0m\u001b[0;34m**\u001b[0m\u001b[0mkwargs\u001b[0m\u001b[0;34m)\u001b[0m\u001b[0;34m\u001b[0m\u001b[0;34m\u001b[0m\u001b[0m\n\u001b[0m\u001b[1;32m     47\u001b[0m     \u001b[0;32mreturn\u001b[0m \u001b[0minner_f\u001b[0m\u001b[0;34m\u001b[0m\u001b[0;34m\u001b[0m\u001b[0m\n\u001b[1;32m     48\u001b[0m \u001b[0;34m\u001b[0m\u001b[0m\n",
      "\u001b[0;32m/opt/conda/lib/python3.9/site-packages/seaborn/relational.py\u001b[0m in \u001b[0;36mlineplot\u001b[0;34m(x, y, hue, size, style, data, palette, hue_order, hue_norm, sizes, size_order, size_norm, dashes, markers, style_order, units, estimator, ci, n_boot, seed, sort, err_style, err_kws, legend, ax, **kwargs)\u001b[0m\n\u001b[1;32m    701\u001b[0m     \u001b[0mp\u001b[0m\u001b[0;34m.\u001b[0m\u001b[0m_attach\u001b[0m\u001b[0;34m(\u001b[0m\u001b[0max\u001b[0m\u001b[0;34m)\u001b[0m\u001b[0;34m\u001b[0m\u001b[0;34m\u001b[0m\u001b[0m\n\u001b[1;32m    702\u001b[0m \u001b[0;34m\u001b[0m\u001b[0m\n\u001b[0;32m--> 703\u001b[0;31m     \u001b[0mp\u001b[0m\u001b[0;34m.\u001b[0m\u001b[0mplot\u001b[0m\u001b[0;34m(\u001b[0m\u001b[0max\u001b[0m\u001b[0;34m,\u001b[0m \u001b[0mkwargs\u001b[0m\u001b[0;34m)\u001b[0m\u001b[0;34m\u001b[0m\u001b[0;34m\u001b[0m\u001b[0m\n\u001b[0m\u001b[1;32m    704\u001b[0m     \u001b[0;32mreturn\u001b[0m \u001b[0max\u001b[0m\u001b[0;34m\u001b[0m\u001b[0;34m\u001b[0m\u001b[0m\n\u001b[1;32m    705\u001b[0m \u001b[0;34m\u001b[0m\u001b[0m\n",
      "\u001b[0;32m/opt/conda/lib/python3.9/site-packages/seaborn/relational.py\u001b[0m in \u001b[0;36mplot\u001b[0;34m(self, ax, kws)\u001b[0m\n\u001b[1;32m    469\u001b[0m         \u001b[0;31m# Loop over the semantic subsets and add to the plot\u001b[0m\u001b[0;34m\u001b[0m\u001b[0;34m\u001b[0m\u001b[0;34m\u001b[0m\u001b[0m\n\u001b[1;32m    470\u001b[0m         \u001b[0mgrouping_vars\u001b[0m \u001b[0;34m=\u001b[0m \u001b[0;34m\"hue\"\u001b[0m\u001b[0;34m,\u001b[0m \u001b[0;34m\"size\"\u001b[0m\u001b[0;34m,\u001b[0m \u001b[0;34m\"style\"\u001b[0m\u001b[0;34m\u001b[0m\u001b[0;34m\u001b[0m\u001b[0m\n\u001b[0;32m--> 471\u001b[0;31m         \u001b[0;32mfor\u001b[0m \u001b[0msub_vars\u001b[0m\u001b[0;34m,\u001b[0m \u001b[0msub_data\u001b[0m \u001b[0;32min\u001b[0m \u001b[0mself\u001b[0m\u001b[0;34m.\u001b[0m\u001b[0miter_data\u001b[0m\u001b[0;34m(\u001b[0m\u001b[0mgrouping_vars\u001b[0m\u001b[0;34m,\u001b[0m \u001b[0mfrom_comp_data\u001b[0m\u001b[0;34m=\u001b[0m\u001b[0;32mTrue\u001b[0m\u001b[0;34m)\u001b[0m\u001b[0;34m:\u001b[0m\u001b[0;34m\u001b[0m\u001b[0;34m\u001b[0m\u001b[0m\n\u001b[0m\u001b[1;32m    472\u001b[0m \u001b[0;34m\u001b[0m\u001b[0m\n\u001b[1;32m    473\u001b[0m             \u001b[0;32mif\u001b[0m \u001b[0mself\u001b[0m\u001b[0;34m.\u001b[0m\u001b[0msort\u001b[0m\u001b[0;34m:\u001b[0m\u001b[0;34m\u001b[0m\u001b[0;34m\u001b[0m\u001b[0m\n",
      "\u001b[0;32m/opt/conda/lib/python3.9/site-packages/seaborn/_core.py\u001b[0m in \u001b[0;36miter_data\u001b[0;34m(self, grouping_vars, reverse, from_comp_data)\u001b[0m\n\u001b[1;32m    980\u001b[0m \u001b[0;34m\u001b[0m\u001b[0m\n\u001b[1;32m    981\u001b[0m         \u001b[0;32mif\u001b[0m \u001b[0mfrom_comp_data\u001b[0m\u001b[0;34m:\u001b[0m\u001b[0;34m\u001b[0m\u001b[0;34m\u001b[0m\u001b[0m\n\u001b[0;32m--> 982\u001b[0;31m             \u001b[0mdata\u001b[0m \u001b[0;34m=\u001b[0m \u001b[0mself\u001b[0m\u001b[0;34m.\u001b[0m\u001b[0mcomp_data\u001b[0m\u001b[0;34m\u001b[0m\u001b[0;34m\u001b[0m\u001b[0m\n\u001b[0m\u001b[1;32m    983\u001b[0m         \u001b[0;32melse\u001b[0m\u001b[0;34m:\u001b[0m\u001b[0;34m\u001b[0m\u001b[0;34m\u001b[0m\u001b[0m\n\u001b[1;32m    984\u001b[0m             \u001b[0mdata\u001b[0m \u001b[0;34m=\u001b[0m \u001b[0mself\u001b[0m\u001b[0;34m.\u001b[0m\u001b[0mplot_data\u001b[0m\u001b[0;34m\u001b[0m\u001b[0;34m\u001b[0m\u001b[0m\n",
      "\u001b[0;32m/opt/conda/lib/python3.9/site-packages/seaborn/_core.py\u001b[0m in \u001b[0;36mcomp_data\u001b[0;34m(self)\u001b[0m\n\u001b[1;32m   1049\u001b[0m                 \u001b[0maxis\u001b[0m \u001b[0;34m=\u001b[0m \u001b[0mgetattr\u001b[0m\u001b[0;34m(\u001b[0m\u001b[0max\u001b[0m\u001b[0;34m,\u001b[0m \u001b[0;34mf\"{var}axis\"\u001b[0m\u001b[0;34m)\u001b[0m\u001b[0;34m\u001b[0m\u001b[0;34m\u001b[0m\u001b[0m\n\u001b[1;32m   1050\u001b[0m \u001b[0;34m\u001b[0m\u001b[0m\n\u001b[0;32m-> 1051\u001b[0;31m                 \u001b[0mcomp_var\u001b[0m \u001b[0;34m=\u001b[0m \u001b[0maxis\u001b[0m\u001b[0;34m.\u001b[0m\u001b[0mconvert_units\u001b[0m\u001b[0;34m(\u001b[0m\u001b[0mself\u001b[0m\u001b[0;34m.\u001b[0m\u001b[0mplot_data\u001b[0m\u001b[0;34m[\u001b[0m\u001b[0mvar\u001b[0m\u001b[0;34m]\u001b[0m\u001b[0;34m)\u001b[0m\u001b[0;34m\u001b[0m\u001b[0;34m\u001b[0m\u001b[0m\n\u001b[0m\u001b[1;32m   1052\u001b[0m                 \u001b[0;32mif\u001b[0m \u001b[0maxis\u001b[0m\u001b[0;34m.\u001b[0m\u001b[0mget_scale\u001b[0m\u001b[0;34m(\u001b[0m\u001b[0;34m)\u001b[0m \u001b[0;34m==\u001b[0m \u001b[0;34m\"log\"\u001b[0m\u001b[0;34m:\u001b[0m\u001b[0;34m\u001b[0m\u001b[0;34m\u001b[0m\u001b[0m\n\u001b[1;32m   1053\u001b[0m                     \u001b[0mcomp_var\u001b[0m \u001b[0;34m=\u001b[0m \u001b[0mnp\u001b[0m\u001b[0;34m.\u001b[0m\u001b[0mlog10\u001b[0m\u001b[0;34m(\u001b[0m\u001b[0mcomp_var\u001b[0m\u001b[0;34m)\u001b[0m\u001b[0;34m\u001b[0m\u001b[0;34m\u001b[0m\u001b[0m\n",
      "\u001b[0;32m/opt/conda/lib/python3.9/site-packages/matplotlib/axis.py\u001b[0m in \u001b[0;36mconvert_units\u001b[0;34m(self, x)\u001b[0m\n\u001b[1;32m   1523\u001b[0m             \u001b[0mret\u001b[0m \u001b[0;34m=\u001b[0m \u001b[0mself\u001b[0m\u001b[0;34m.\u001b[0m\u001b[0mconverter\u001b[0m\u001b[0;34m.\u001b[0m\u001b[0mconvert\u001b[0m\u001b[0;34m(\u001b[0m\u001b[0mx\u001b[0m\u001b[0;34m,\u001b[0m \u001b[0mself\u001b[0m\u001b[0;34m.\u001b[0m\u001b[0munits\u001b[0m\u001b[0;34m,\u001b[0m \u001b[0mself\u001b[0m\u001b[0;34m)\u001b[0m\u001b[0;34m\u001b[0m\u001b[0;34m\u001b[0m\u001b[0m\n\u001b[1;32m   1524\u001b[0m         \u001b[0;32mexcept\u001b[0m \u001b[0mException\u001b[0m \u001b[0;32mas\u001b[0m \u001b[0me\u001b[0m\u001b[0;34m:\u001b[0m\u001b[0;34m\u001b[0m\u001b[0;34m\u001b[0m\u001b[0m\n\u001b[0;32m-> 1525\u001b[0;31m             raise munits.ConversionError('Failed to convert value(s) to axis '\n\u001b[0m\u001b[1;32m   1526\u001b[0m                                          f'units: {x!r}') from e\n\u001b[1;32m   1527\u001b[0m         \u001b[0;32mreturn\u001b[0m \u001b[0mret\u001b[0m\u001b[0;34m\u001b[0m\u001b[0;34m\u001b[0m\u001b[0m\n",
      "\u001b[0;31mConversionError\u001b[0m: Failed to convert value(s) to axis units: 0                      had not been drinking\n1                      had not been drinking\n2                         impairment unknown\n3                             not applicable\n4         had been drinking, under influence\n5                      had not been drinking\n6                                       None\n7                         impairment unknown\n8                             not applicable\n9      had been drinking, impairment unknown\n10        had been drinking, under influence\n11    had been drinking, not under influence\n12                        impairment unknown\n13                                      None\n14                     had not been drinking\n15                     had not been drinking\n16                            not applicable\n17        had been drinking, under influence\n18                     had not been drinking\n19                                      None\n20                                      None\n21     had been drinking, impairment unknown\n22    had been drinking, not under influence\n23                        impairment unknown\n24                     had not been drinking\n25                            not applicable\n26     had been drinking, impairment unknown\n27                        impairment unknown\n28                            not applicable\n29        had been drinking, under influence\n30    had been drinking, not under influence\n31                        impairment unknown\n32                     had not been drinking\n33        had been drinking, under influence\n34                            not applicable\n35                                      None\n36                            not applicable\n37                        impairment unknown\n38                                      None\n39     had been drinking, impairment unknown\n40     had been drinking, impairment unknown\n41    had been drinking, not under influence\n42                                      None\n43        had been drinking, under influence\n44    had been drinking, not under influence\n45        had been drinking, under influence\n46                            not applicable\n47                        impairment unknown\n48     had been drinking, impairment unknown\n49                                      None\n50        had been drinking, under influence\n51    had been drinking, not under influence\n52     had been drinking, impairment unknown\n53    had been drinking, not under influence\n54     had been drinking, impairment unknown\n55    had been drinking, not under influence\nName: x, dtype: object"
     ]
    },
    {
     "data": {
      "image/png": "[encoded data removed]",
      "text/plain": [
       "<Figure size 864x432 with 1 Axes>"
      ]
     },
     "metadata": {
      "needs_background": "light"
     },
     "output_type": "display_data"
    }
   ],
   "source": [
    "plt.figure(figsize=(12, 6))\n",
    "sns.lineplot(\n",
    "    data=df,\n",
    "    x='sobriety',\n",
    "    y='number_of_accidents',\n",
    "    hue='weather_condition',\n",
    "    marker='o'\n",
    ")\n",
    "\n",
    "plt.title(\"Зависимость количества аварий от трезвости участника аварии и погоды\")\n",
    "plt.xlabel(\"Степень трезвости участника аварии\")\n",
    "plt.ylabel(\"Количество аварий\")\n",
    "plt.legend(title=\"Погодные условия\")\n",
    "plt.grid(True)\n",
    "ax = plt.gca()  # Получаем текущую ось\n",
    "ax.yaxis.set_major_formatter(ticker.FuncFormatter(lambda x, _: \\\n",
    "                                                  f'{x / 1000:.0f}K'))\n",
    "plt.xticks(rotation=45)\n",
    "plt.show()"
   ]
  },
  {
   "cell_type": "markdown",
   "metadata": {
    "id": "1IAUdoBvuD08"
   },
   "source": [
    "Выводы по полученным данным:\n",
    "\n",
    "- трезвые водители чаще совершают аварии при любых погодных условиях, чем находящиеся под влиянием алкоголя/наркотических веществ. Это означает, что в целом трезвых водителей на дорогам больше, что не может не радовать;\n",
    "- в сухую ясную погоду количество аварий существенно выше, чем в плохие погодные условия. Здесь картина и её объяснения такие же, как в предыдущей задаче."
   ]
  },
  {
   "cell_type": "markdown",
   "metadata": {
    "id": "S_JC8wecvQMO"
   },
   "source": [
    "Выводы по разделу:\n",
    "\n",
    "- выяснили, что в период с января по май происходит наибольшее количество аварий, с пиком в марте. С мая по июнь количество аварий снижается (возможно, связано с праздниками или ещё с каким-то фактором) и далее постепенно снова увеличивается;\n",
    "\n",
    "- создали 6 задач для коллег и расписали решение двух из них:\n",
    "  - выяснили, что автомобили возрастом от полутора до шести лет чаще попадают в аварии вне зависимости от погодных условий. В сухую ясную погоду количество аварий существенно выше, чем в плохие погодные условия;\n",
    "  - выяснили, что трезвые водители чаще совершают аварии при любых погодных условиях, чем находящиеся под влиянием алкоголя/наркотических веществ. Непогода не увеличивает количество аварий, в сухую ясную погоду оно существенно выше."
   ]
  },
  {
   "cell_type": "markdown",
   "metadata": {
    "id": "chLCh5r-xnI2"
   },
   "source": [
    "## Создание модели для оценки водительского риска"
   ]
  },
  {
   "cell_type": "markdown",
   "metadata": {
    "id": "qg-dXHAo0eI9"
   },
   "source": [
    "### Проведение первичного отбора факторов, необходимых для модели"
   ]
  },
  {
   "cell_type": "markdown",
   "metadata": {
    "id": "ITjh7tMh5-Bh"
   },
   "source": [
    "Оставим в таблицах только те признаки, которые можно предсказать или померить в момент начала поездки, а не по факту совершённой аварии. А также исключим те признаки, что не должны влиять на факт аварии:"
   ]
  },
  {
   "cell_type": "markdown",
   "metadata": {
    "id": "ypX-uaHX84yh"
   },
   "source": [
    "таблица `collisions`:\n",
    "  - `county_city_location` - исключаем, нет логики влияния на аварию\n",
    "  - `county_location` - исключаем, нет логики влияния на аварию\n",
    "  - `distance` - оставляем\n",
    "  - `direction` - исключаем, нет логики влияния на аварию\n",
    "  - `intersection` - оставляем\n",
    "  - `weather_1` - оставляем\n",
    "  - `location_type` - оставляем\n",
    "  - `collision_damage` - исключаем, в момент начала поездки неизвестен\n",
    "  - `party_count` - исключаем, нет логики влияния на аварию\n",
    "  - `primary_collision_factor` - исключаем, в момент начала поездки неизвестен\n",
    "  - `pcf_violation_category` - исключаем, в момент начала поездки неизвестен\n",
    "  - `type_of_collision` - исключаем, в момент начала поездки неизвестен\n",
    "  - `motor_vehicle_involved_with` - исключаем, в момент начала поездки неизвестен\n",
    "  - `road_surface` - оставляем\n",
    "  - `road_condition_1` - оставляем\n",
    "  - `lighting` - оставляем\n",
    "  - `control_device` - из описания непонятно, что это за признак, пока оставим\n",
    "  - `collision_date` - оставляем\n",
    "  - `collision_time` - оставляем\n",
    "\n",
    "таблица `parties`:\n",
    "  - `party_type` - исключаем, нет логики влияния на аварию\n",
    "  - `at_fault` - оставляем (целевой)\n",
    "  - `insurance_premium` - оставляем\n",
    "  - `party_sobriety` - исключаем, в момент начала поездки неизвестен (считаем, что нет возможности определить, трезв ли водитель)\n",
    "  - `party_drug_physical` - исключаем, в момент начала поездки неизвестен (считаем, что нет возможности определить, находится ли водитель под воздействием лекарств)\n",
    "  - `cellphone_in_use` - оставляем\n",
    "\n",
    "таблица `vehicles`:\n",
    "  - `vehicle_type` - исключаем, нет логики влияния на аварию\n",
    "  - `vehicle_transmission` - оставляем\n",
    "  - `vehicle_age` - оставляем"
   ]
  },
  {
   "cell_type": "markdown",
   "metadata": {
    "id": "B4v8LDRxJCOO"
   },
   "source": [
    "### Подготовим набор данных на основе первичного предположения заказчика"
   ]
  },
  {
   "cell_type": "markdown",
   "metadata": {
    "id": "UsSz_SQQ0piN"
   },
   "source": [
    "Вспомним эти предположения:\n",
    "  - для модели выбрать тип виновника — только машина (car).\n",
    "  - выбрать случаи, когда авария привела к любым повреждениям транспортного средства, кроме типа SCRATCH (царапина).\n",
    "  - для моделирования ограничиться данными за 2012 год — они самые свежие.\n",
    "  - обязательное условие — учесть фактор возраста автомобиля."
   ]
  },
  {
   "cell_type": "code",
   "execution_count": 24,
   "metadata": {
    "colab": {
     "base_uri": "https://localhost:8080/",
     "height": 244
    },
    "id": "ZjCXdCpH3L39",
    "outputId": "36244454-9405-4ad2-9da9-be135c6a6c7c",
    "scrolled": true
   },
   "outputs": [
    {
     "data": {
      "text/html": [
       "<div>\n",
       "<style scoped>\n",
       "    .dataframe tbody tr th:only-of-type {\n",
       "        vertical-align: middle;\n",
       "    }\n",
       "\n",
       "    .dataframe tbody tr th {\n",
       "        vertical-align: top;\n",
       "    }\n",
       "\n",
       "    .dataframe thead th {\n",
       "        text-align: right;\n",
       "    }\n",
       "</style>\n",
       "<table border=\"1\" class=\"dataframe\">\n",
       "  <thead>\n",
       "    <tr style=\"text-align: right;\">\n",
       "      <th></th>\n",
       "      <th>distance</th>\n",
       "      <th>intersection</th>\n",
       "      <th>weather_1</th>\n",
       "      <th>location_type</th>\n",
       "      <th>road_surface</th>\n",
       "      <th>road_condition_1</th>\n",
       "      <th>lighting</th>\n",
       "      <th>control_device</th>\n",
       "      <th>collision_date</th>\n",
       "      <th>collision_time</th>\n",
       "      <th>at_fault</th>\n",
       "      <th>insurance_premium</th>\n",
       "      <th>cellphone_in_use</th>\n",
       "      <th>vehicle_transmission</th>\n",
       "      <th>vehicle_age</th>\n",
       "    </tr>\n",
       "  </thead>\n",
       "  <tbody>\n",
       "    <tr>\n",
       "      <th>0</th>\n",
       "      <td>1320.0</td>\n",
       "      <td>0.0</td>\n",
       "      <td>clear</td>\n",
       "      <td>highway</td>\n",
       "      <td>dry</td>\n",
       "      <td>normal</td>\n",
       "      <td>daylight</td>\n",
       "      <td>none</td>\n",
       "      <td>2012-04-27</td>\n",
       "      <td>13:10:00</td>\n",
       "      <td>0</td>\n",
       "      <td>34.0</td>\n",
       "      <td>0.0</td>\n",
       "      <td>auto</td>\n",
       "      <td>4.0</td>\n",
       "    </tr>\n",
       "    <tr>\n",
       "      <th>1</th>\n",
       "      <td>1584.0</td>\n",
       "      <td>0.0</td>\n",
       "      <td>cloudy</td>\n",
       "      <td>ramp</td>\n",
       "      <td>dry</td>\n",
       "      <td>normal</td>\n",
       "      <td>daylight</td>\n",
       "      <td>functioning</td>\n",
       "      <td>2012-04-25</td>\n",
       "      <td>19:12:00</td>\n",
       "      <td>0</td>\n",
       "      <td>33.0</td>\n",
       "      <td>0.0</td>\n",
       "      <td>auto</td>\n",
       "      <td>5.0</td>\n",
       "    </tr>\n",
       "    <tr>\n",
       "      <th>2</th>\n",
       "      <td>20.0</td>\n",
       "      <td>0.0</td>\n",
       "      <td>clear</td>\n",
       "      <td>None</td>\n",
       "      <td>dry</td>\n",
       "      <td>normal</td>\n",
       "      <td>daylight</td>\n",
       "      <td>functioning</td>\n",
       "      <td>2012-04-15</td>\n",
       "      <td>17:05:00</td>\n",
       "      <td>0</td>\n",
       "      <td>46.0</td>\n",
       "      <td>0.0</td>\n",
       "      <td>auto</td>\n",
       "      <td>2.0</td>\n",
       "    </tr>\n",
       "    <tr>\n",
       "      <th>3</th>\n",
       "      <td>40.0</td>\n",
       "      <td>0.0</td>\n",
       "      <td>clear</td>\n",
       "      <td>intersection</td>\n",
       "      <td>dry</td>\n",
       "      <td>other</td>\n",
       "      <td>dark with no street lights</td>\n",
       "      <td>none</td>\n",
       "      <td>2012-05-01</td>\n",
       "      <td>00:01:00</td>\n",
       "      <td>1</td>\n",
       "      <td>38.0</td>\n",
       "      <td>0.0</td>\n",
       "      <td>auto</td>\n",
       "      <td>5.0</td>\n",
       "    </tr>\n",
       "    <tr>\n",
       "      <th>4</th>\n",
       "      <td>40.0</td>\n",
       "      <td>0.0</td>\n",
       "      <td>cloudy</td>\n",
       "      <td>None</td>\n",
       "      <td>dry</td>\n",
       "      <td>normal</td>\n",
       "      <td>daylight</td>\n",
       "      <td>functioning</td>\n",
       "      <td>2012-05-02</td>\n",
       "      <td>17:40:00</td>\n",
       "      <td>0</td>\n",
       "      <td>34.0</td>\n",
       "      <td>0.0</td>\n",
       "      <td>auto</td>\n",
       "      <td>0.0</td>\n",
       "    </tr>\n",
       "  </tbody>\n",
       "</table>\n",
       "</div>"
      ],
      "text/plain": [
       "   distance  intersection weather_1 location_type road_surface  \\\n",
       "0    1320.0           0.0     clear       highway          dry   \n",
       "1    1584.0           0.0    cloudy          ramp          dry   \n",
       "2      20.0           0.0     clear          None          dry   \n",
       "3      40.0           0.0     clear  intersection          dry   \n",
       "4      40.0           0.0    cloudy          None          dry   \n",
       "\n",
       "  road_condition_1                    lighting control_device collision_date  \\\n",
       "0           normal                    daylight           none     2012-04-27   \n",
       "1           normal                    daylight    functioning     2012-04-25   \n",
       "2           normal                    daylight    functioning     2012-04-15   \n",
       "3            other  dark with no street lights           none     2012-05-01   \n",
       "4           normal                    daylight    functioning     2012-05-02   \n",
       "\n",
       "  collision_time  at_fault  insurance_premium  cellphone_in_use  \\\n",
       "0       13:10:00         0               34.0               0.0   \n",
       "1       19:12:00         0               33.0               0.0   \n",
       "2       17:05:00         0               46.0               0.0   \n",
       "3       00:01:00         1               38.0               0.0   \n",
       "4       17:40:00         0               34.0               0.0   \n",
       "\n",
       "  vehicle_transmission  vehicle_age  \n",
       "0                 auto          4.0  \n",
       "1                 auto          5.0  \n",
       "2                 auto          2.0  \n",
       "3                 auto          5.0  \n",
       "4                 auto          0.0  "
      ]
     },
     "execution_count": 24,
     "metadata": {},
     "output_type": "execute_result"
    }
   ],
   "source": [
    "# создадим SQL-запрос\n",
    "query = \"\"\"\n",
    "    SELECT\n",
    "        c.distance,\n",
    "        c.intersection,\n",
    "        c.weather_1,\n",
    "        c.location_type,\n",
    "        c.road_surface,\n",
    "        c.road_condition_1,\n",
    "        c.lighting,\n",
    "        c.control_device,\n",
    "        c.collision_date,\n",
    "        c.collision_time,\n",
    "        p.at_fault,\n",
    "        p.insurance_premium,\n",
    "        p.cellphone_in_use,\n",
    "        v.vehicle_transmission,\n",
    "        v.vehicle_age\n",
    "    FROM\n",
    "        collisions c\n",
    "    JOIN\n",
    "        parties p ON c.case_id = p.case_id\n",
    "    JOIN\n",
    "        vehicles v ON p.case_id = v.case_id AND p.party_number = v.party_number\n",
    "    WHERE\n",
    "        p.party_type = 'car'\n",
    "        AND c.collision_damage != 'scratch'\n",
    "        AND EXTRACT(YEAR FROM c.collision_date) = 2012\n",
    "\"\"\"\n",
    "\n",
    "data = pd.read_sql(query, engine)\n",
    "data.head()"
   ]
  },
  {
   "cell_type": "markdown",
   "metadata": {
    "id": "nuNEhz5_JI-i"
   },
   "source": [
    "### Статистический анализ отобранных факторов"
   ]
  },
  {
   "cell_type": "code",
   "execution_count": 25,
   "metadata": {
    "colab": {
     "base_uri": "https://localhost:8080/"
    },
    "id": "KCpC5v4Dy_Ek",
    "outputId": "9facb73f-6eef-43ac-9f05-503d26bf7ea4"
   },
   "outputs": [
    {
     "name": "stdout",
     "output_type": "stream",
     "text": [
      "<class 'pandas.core.frame.DataFrame'>\n",
      "RangeIndex: 56248 entries, 0 to 56247\n",
      "Data columns (total 15 columns):\n",
      " #   Column                Non-Null Count  Dtype  \n",
      "---  ------                --------------  -----  \n",
      " 0   distance              56248 non-null  float64\n",
      " 1   intersection          56073 non-null  float64\n",
      " 2   weather_1             56080 non-null  object \n",
      " 3   location_type         25932 non-null  object \n",
      " 4   road_surface          55900 non-null  object \n",
      " 5   road_condition_1      55999 non-null  object \n",
      " 6   lighting              56094 non-null  object \n",
      " 7   control_device        56033 non-null  object \n",
      " 8   collision_date        56248 non-null  object \n",
      " 9   collision_time        56160 non-null  object \n",
      " 10  at_fault              56248 non-null  int64  \n",
      " 11  insurance_premium     55701 non-null  float64\n",
      " 12  cellphone_in_use      51777 non-null  float64\n",
      " 13  vehicle_transmission  55389 non-null  object \n",
      " 14  vehicle_age           54554 non-null  float64\n",
      "dtypes: float64(5), int64(1), object(9)\n",
      "memory usage: 6.4+ MB\n"
     ]
    }
   ],
   "source": [
    "data.info()"
   ]
  },
  {
   "cell_type": "code",
   "execution_count": 26,
   "metadata": {},
   "outputs": [],
   "source": [
    "# добавим новые признаки из столбцов `collision_date` и `collision_time`,\n",
    "# предварительно переведя их в нужный формат:\n",
    "data['collision_date'] = pd.to_datetime(data['collision_date'])\n",
    "data['collision_time'] = pd.to_datetime(data['collision_time'], format='%H:%M:%S')\n",
    "\n",
    "data['collision_day'] = data['collision_date'].dt.day\n",
    "data['collision_month'] = data['collision_date'].dt.month\n",
    "data['collision_hour'] = data['collision_time'].dt.hour"
   ]
  },
  {
   "cell_type": "code",
   "execution_count": 27,
   "metadata": {},
   "outputs": [],
   "source": [
    "# удалим ставшие лишними признаки\n",
    "data.drop(columns=['collision_date', 'collision_time'], inplace=True)"
   ]
  },
  {
   "cell_type": "code",
   "execution_count": 28,
   "metadata": {},
   "outputs": [
    {
     "name": "stdout",
     "output_type": "stream",
     "text": [
      "<class 'pandas.core.frame.DataFrame'>\n",
      "RangeIndex: 56248 entries, 0 to 56247\n",
      "Data columns (total 16 columns):\n",
      " #   Column                Non-Null Count  Dtype  \n",
      "---  ------                --------------  -----  \n",
      " 0   distance              56248 non-null  float64\n",
      " 1   intersection          56073 non-null  float64\n",
      " 2   weather_1             56080 non-null  object \n",
      " 3   location_type         25932 non-null  object \n",
      " 4   road_surface          55900 non-null  object \n",
      " 5   road_condition_1      55999 non-null  object \n",
      " 6   lighting              56094 non-null  object \n",
      " 7   control_device        56033 non-null  object \n",
      " 8   at_fault              56248 non-null  int64  \n",
      " 9   insurance_premium     55701 non-null  float64\n",
      " 10  cellphone_in_use      51777 non-null  float64\n",
      " 11  vehicle_transmission  55389 non-null  object \n",
      " 12  vehicle_age           54554 non-null  float64\n",
      " 13  collision_day         56248 non-null  int64  \n",
      " 14  collision_month       56248 non-null  int64  \n",
      " 15  collision_hour        56160 non-null  float64\n",
      "dtypes: float64(6), int64(3), object(7)\n",
      "memory usage: 6.9+ MB\n"
     ]
    }
   ],
   "source": [
    "data.info()"
   ]
  },
  {
   "cell_type": "code",
   "execution_count": 29,
   "metadata": {
    "colab": {
     "base_uri": "https://localhost:8080/",
     "height": 300
    },
    "id": "vgAgZqAVy_HS",
    "outputId": "2ce0dd21-f8a7-4f87-a719-2add1ead8c08",
    "scrolled": true
   },
   "outputs": [
    {
     "data": {
      "text/html": [
       "<div>\n",
       "<style scoped>\n",
       "    .dataframe tbody tr th:only-of-type {\n",
       "        vertical-align: middle;\n",
       "    }\n",
       "\n",
       "    .dataframe tbody tr th {\n",
       "        vertical-align: top;\n",
       "    }\n",
       "\n",
       "    .dataframe thead th {\n",
       "        text-align: right;\n",
       "    }\n",
       "</style>\n",
       "<table border=\"1\" class=\"dataframe\">\n",
       "  <thead>\n",
       "    <tr style=\"text-align: right;\">\n",
       "      <th></th>\n",
       "      <th>distance</th>\n",
       "      <th>intersection</th>\n",
       "      <th>at_fault</th>\n",
       "      <th>insurance_premium</th>\n",
       "      <th>cellphone_in_use</th>\n",
       "      <th>vehicle_age</th>\n",
       "      <th>collision_day</th>\n",
       "      <th>collision_month</th>\n",
       "      <th>collision_hour</th>\n",
       "    </tr>\n",
       "  </thead>\n",
       "  <tbody>\n",
       "    <tr>\n",
       "      <th>count</th>\n",
       "      <td>56248.00</td>\n",
       "      <td>56073.00</td>\n",
       "      <td>56248.0</td>\n",
       "      <td>55701.00</td>\n",
       "      <td>51777.00</td>\n",
       "      <td>54554.00</td>\n",
       "      <td>56248.00</td>\n",
       "      <td>56248.00</td>\n",
       "      <td>56160.00</td>\n",
       "    </tr>\n",
       "    <tr>\n",
       "      <th>mean</th>\n",
       "      <td>859.44</td>\n",
       "      <td>0.22</td>\n",
       "      <td>0.5</td>\n",
       "      <td>37.61</td>\n",
       "      <td>0.02</td>\n",
       "      <td>4.86</td>\n",
       "      <td>15.33</td>\n",
       "      <td>3.23</td>\n",
       "      <td>13.32</td>\n",
       "    </tr>\n",
       "    <tr>\n",
       "      <th>std</th>\n",
       "      <td>7240.30</td>\n",
       "      <td>0.42</td>\n",
       "      <td>0.5</td>\n",
       "      <td>16.33</td>\n",
       "      <td>0.14</td>\n",
       "      <td>3.23</td>\n",
       "      <td>8.71</td>\n",
       "      <td>1.81</td>\n",
       "      <td>5.53</td>\n",
       "    </tr>\n",
       "    <tr>\n",
       "      <th>min</th>\n",
       "      <td>0.00</td>\n",
       "      <td>0.00</td>\n",
       "      <td>0.0</td>\n",
       "      <td>0.00</td>\n",
       "      <td>0.00</td>\n",
       "      <td>0.00</td>\n",
       "      <td>1.00</td>\n",
       "      <td>1.00</td>\n",
       "      <td>0.00</td>\n",
       "    </tr>\n",
       "    <tr>\n",
       "      <th>25%</th>\n",
       "      <td>7.00</td>\n",
       "      <td>0.00</td>\n",
       "      <td>0.0</td>\n",
       "      <td>24.00</td>\n",
       "      <td>0.00</td>\n",
       "      <td>3.00</td>\n",
       "      <td>8.00</td>\n",
       "      <td>2.00</td>\n",
       "      <td>10.00</td>\n",
       "    </tr>\n",
       "    <tr>\n",
       "      <th>50%</th>\n",
       "      <td>135.00</td>\n",
       "      <td>0.00</td>\n",
       "      <td>1.0</td>\n",
       "      <td>34.00</td>\n",
       "      <td>0.00</td>\n",
       "      <td>4.00</td>\n",
       "      <td>15.00</td>\n",
       "      <td>3.00</td>\n",
       "      <td>14.00</td>\n",
       "    </tr>\n",
       "    <tr>\n",
       "      <th>75%</th>\n",
       "      <td>545.00</td>\n",
       "      <td>0.00</td>\n",
       "      <td>1.0</td>\n",
       "      <td>49.00</td>\n",
       "      <td>0.00</td>\n",
       "      <td>7.00</td>\n",
       "      <td>23.00</td>\n",
       "      <td>4.00</td>\n",
       "      <td>17.00</td>\n",
       "    </tr>\n",
       "    <tr>\n",
       "      <th>max</th>\n",
       "      <td>1584000.00</td>\n",
       "      <td>1.00</td>\n",
       "      <td>1.0</td>\n",
       "      <td>105.00</td>\n",
       "      <td>1.00</td>\n",
       "      <td>161.00</td>\n",
       "      <td>31.00</td>\n",
       "      <td>12.00</td>\n",
       "      <td>23.00</td>\n",
       "    </tr>\n",
       "  </tbody>\n",
       "</table>\n",
       "</div>"
      ],
      "text/plain": [
       "         distance  intersection  at_fault  insurance_premium  \\\n",
       "count    56248.00      56073.00   56248.0           55701.00   \n",
       "mean       859.44          0.22       0.5              37.61   \n",
       "std       7240.30          0.42       0.5              16.33   \n",
       "min          0.00          0.00       0.0               0.00   \n",
       "25%          7.00          0.00       0.0              24.00   \n",
       "50%        135.00          0.00       1.0              34.00   \n",
       "75%        545.00          0.00       1.0              49.00   \n",
       "max    1584000.00          1.00       1.0             105.00   \n",
       "\n",
       "       cellphone_in_use  vehicle_age  collision_day  collision_month  \\\n",
       "count          51777.00     54554.00       56248.00         56248.00   \n",
       "mean               0.02         4.86          15.33             3.23   \n",
       "std                0.14         3.23           8.71             1.81   \n",
       "min                0.00         0.00           1.00             1.00   \n",
       "25%                0.00         3.00           8.00             2.00   \n",
       "50%                0.00         4.00          15.00             3.00   \n",
       "75%                0.00         7.00          23.00             4.00   \n",
       "max                1.00       161.00          31.00            12.00   \n",
       "\n",
       "       collision_hour  \n",
       "count        56160.00  \n",
       "mean            13.32  \n",
       "std              5.53  \n",
       "min              0.00  \n",
       "25%             10.00  \n",
       "50%             14.00  \n",
       "75%             17.00  \n",
       "max             23.00  "
      ]
     },
     "execution_count": 29,
     "metadata": {},
     "output_type": "execute_result"
    }
   ],
   "source": [
    "data.describe().round(2)"
   ]
  },
  {
   "cell_type": "code",
   "execution_count": 30,
   "metadata": {
    "id": "dF8B2PQey_KK"
   },
   "outputs": [],
   "source": [
    "# функция для определения доли выбросов\n",
    "def outliers(dataset, column):\n",
    "    q1 = dataset[column].quantile(0.25) # первый квартиль\n",
    "    q3 = dataset[column].quantile(0.75)  # третий квартиль\n",
    "    iqr = q3 - q1  # межквартильный размах\n",
    "    quant1 = q1 - 1.5*iqr  # нижняя граница выбросов\n",
    "    quant3 = q3 + 1.5*iqr  # верхняя граница выбросов\n",
    "    total = dataset.shape[0]  # общее количество строк в датафрейме\n",
    "    emission = dataset[(dataset[column] < quant1) | \\\n",
    "     (dataset[column] > quant3)].shape[0]\n",
    "    # количество выбросов\n",
    "    emission_quant = (emission / total) * 100  # доля выбросов в столбце\n",
    "    return np.round((emission_quant), decimals=2)\n",
    "    # возвращаем долю выбросов в столбце"
   ]
  },
  {
   "cell_type": "code",
   "execution_count": 31,
   "metadata": {
    "colab": {
     "base_uri": "https://localhost:8080/"
    },
    "id": "IjCmB8OeLSC6",
    "outputId": "a597750c-d17f-4df3-d362-f3578b2b334d"
   },
   "outputs": [
    {
     "name": "stdout",
     "output_type": "stream",
     "text": [
      "Доля выбросов в distance, в процентах: 13.63\n",
      "Доля выбросов в intersection, в процентах: 22.08\n",
      "Доля выбросов в at_fault, в процентах: 0.0\n",
      "Доля выбросов в cellphone_in_use, в процентах: 1.87\n",
      "Доля выбросов в vehicle_age, в процентах: 0.59\n"
     ]
    }
   ],
   "source": [
    "dataset = data\n",
    "column_list = ['distance', 'intersection', 'at_fault', 'cellphone_in_use', \\\n",
    "              'vehicle_age']\n",
    "for value in column_list:\n",
    "    print(f'Доля выбросов в {value}, в процентах: {outliers(dataset, value)}')"
   ]
  },
  {
   "cell_type": "code",
   "execution_count": 32,
   "metadata": {
    "id": "na4WOUfyy_Po"
   },
   "outputs": [],
   "source": [
    "# функция для построения истограммы распределения количественных признаков\n",
    "def histogram(dataset, column):\n",
    "    dataset[column].plot(kind='hist', bins=20, grid=True, \\\n",
    "                figsize=(5, 5), title=(f'Распределение признака \"{column}\"'))\n",
    "    plt.xlabel(column)\n",
    "    plt.ylabel('Количество')\n",
    "    plt.show()\n",
    "    return None\n",
    "\n",
    "# функция для построения диаграммы размаха\n",
    "def whiskers(dataset, column):\n",
    "    dataset.boxplot(column, figsize=(5, 5))\n",
    "    plt.title(f'Диаграмма размаха признака \"{column}\"')\n",
    "    plt.ylabel('Количество')\n",
    "    plt.show()\n",
    "    print(dataset[column].describe().round(2))\n",
    "    return None\n",
    "\n",
    "# функция для построения диаграммы распределения категориальных признаков\n",
    "def categorial(dataset, column):\n",
    "    dataset[column].value_counts().plot(\n",
    "    kind = 'bar',\n",
    "    figsize = (5,5),\n",
    "    title = f'Распределение признака \"{column}\"')\n",
    "    plt.ylabel('Количество')\n",
    "    plt.show()\n",
    "    return None"
   ]
  },
  {
   "cell_type": "code",
   "execution_count": 33,
   "metadata": {
    "colab": {
     "base_uri": "https://localhost:8080/",
     "height": 1000
    },
    "id": "I4N1yR72y_Si",
    "outputId": "22491006-f3bc-489f-ee61-fa59f23145a3"
   },
   "outputs": [
    {
     "data": {
      "image/png": "[encoded data removed]",
      "text/plain": [
       "<Figure size 360x360 with 1 Axes>"
      ]
     },
     "metadata": {
      "needs_background": "light"
     },
     "output_type": "display_data"
    },
    {
     "data": {
      "image/png": "[encoded data removed]",
      "text/plain": [
       "<Figure size 360x360 with 1 Axes>"
      ]
     },
     "metadata": {
      "needs_background": "light"
     },
     "output_type": "display_data"
    },
    {
     "name": "stdout",
     "output_type": "stream",
     "text": [
      "count      56248.00\n",
      "mean         859.44\n",
      "std         7240.30\n",
      "min            0.00\n",
      "25%            7.00\n",
      "50%          135.00\n",
      "75%          545.00\n",
      "max      1584000.00\n",
      "Name: distance, dtype: float64\n"
     ]
    }
   ],
   "source": [
    "histogram(data, 'distance')\n",
    "whiskers(data, 'distance')"
   ]
  },
  {
   "cell_type": "code",
   "execution_count": 34,
   "metadata": {
    "colab": {
     "base_uri": "https://localhost:8080/"
    },
    "id": "wjULxCo0OQH_",
    "outputId": "739bad3c-0dca-4cdc-fc3b-7fa0c7c0247d"
   },
   "outputs": [
    {
     "name": "stdout",
     "output_type": "stream",
     "text": [
      "90.16\n"
     ]
    }
   ],
   "source": [
    "# посмотрим на долю аномальных значений\n",
    "print(round(data[data.distance < 2000].shape[0] / data.shape[0] * 100, 2))"
   ]
  },
  {
   "cell_type": "code",
   "execution_count": 35,
   "metadata": {
    "id": "QjxXxUksy_Vo"
   },
   "outputs": [],
   "source": [
    "# отбросим значения, меньшие или равные 2000\n",
    "data = data[(data.distance <= 2000)]"
   ]
  },
  {
   "cell_type": "code",
   "execution_count": 36,
   "metadata": {},
   "outputs": [],
   "source": [
    "data = data[(data.vehicle_age <= 15)]"
   ]
  },
  {
   "cell_type": "code",
   "execution_count": 37,
   "metadata": {
    "colab": {
     "base_uri": "https://localhost:8080/",
     "height": 1000
    },
    "id": "ueSiZdMTOsnW",
    "outputId": "a182eb55-88d8-47e9-b898-ce8620b961f1"
   },
   "outputs": [
    {
     "data": {
      "image/png": "[encoded data removed]",
      "text/plain": [
       "<Figure size 360x360 with 1 Axes>"
      ]
     },
     "metadata": {
      "needs_background": "light"
     },
     "output_type": "display_data"
    },
    {
     "data": {
      "image/png": "[encoded data removed]",
      "text/plain": [
       "<Figure size 360x360 with 1 Axes>"
      ]
     },
     "metadata": {
      "needs_background": "light"
     },
     "output_type": "display_data"
    },
    {
     "name": "stdout",
     "output_type": "stream",
     "text": [
      "count    49246.0\n",
      "mean         4.8\n",
      "std          3.1\n",
      "min          0.0\n",
      "25%          3.0\n",
      "50%          4.0\n",
      "75%          7.0\n",
      "max         15.0\n",
      "Name: vehicle_age, dtype: float64\n"
     ]
    }
   ],
   "source": [
    "histogram(data, 'vehicle_age')\n",
    "whiskers(data, 'vehicle_age')"
   ]
  },
  {
   "cell_type": "code",
   "execution_count": 38,
   "metadata": {
    "colab": {
     "base_uri": "https://localhost:8080/",
     "height": 531
    },
    "id": "LRRJnWyKZ3bF",
    "outputId": "77b21bfc-43cc-4b8b-d8de-cab8a1d41d32"
   },
   "outputs": [
    {
     "data": {
      "image/png": "[encoded data removed]",
      "text/plain": [
       "<Figure size 360x360 with 1 Axes>"
      ]
     },
     "metadata": {
      "needs_background": "light"
     },
     "output_type": "display_data"
    }
   ],
   "source": [
    "categorial(data, 'weather_1')"
   ]
  },
  {
   "cell_type": "code",
   "execution_count": 39,
   "metadata": {
    "colab": {
     "base_uri": "https://localhost:8080/",
     "height": 556
    },
    "id": "wP_MXsV3akq4",
    "outputId": "4a4b9e61-c8a6-4fa6-f784-3e164011b4a8"
   },
   "outputs": [
    {
     "data": {
      "image/png": "[encoded data removed]",
      "text/plain": [
       "<Figure size 360x360 with 1 Axes>"
      ]
     },
     "metadata": {
      "needs_background": "light"
     },
     "output_type": "display_data"
    }
   ],
   "source": [
    "categorial(data, 'location_type')"
   ]
  },
  {
   "cell_type": "code",
   "execution_count": 40,
   "metadata": {
    "colab": {
     "base_uri": "https://localhost:8080/",
     "height": 528
    },
    "id": "sZYsDSLXaqGJ",
    "outputId": "ec83d07f-b2d0-47e1-b6aa-4d8b36b4ce28"
   },
   "outputs": [
    {
     "data": {
      "image/png": "[encoded data removed]",
      "text/plain": [
       "<Figure size 360x360 with 1 Axes>"
      ]
     },
     "metadata": {
      "needs_background": "light"
     },
     "output_type": "display_data"
    }
   ],
   "source": [
    "categorial(data, 'road_surface')"
   ]
  },
  {
   "cell_type": "code",
   "execution_count": 41,
   "metadata": {
    "colab": {
     "base_uri": "https://localhost:8080/",
     "height": 573
    },
    "id": "jPgO_nqQatQ_",
    "outputId": "933dd350-f8d6-497d-d28b-644d413271ce"
   },
   "outputs": [
    {
     "data": {
      "image/png": "[encoded data removed]",
      "text/plain": [
       "<Figure size 360x360 with 1 Axes>"
      ]
     },
     "metadata": {
      "needs_background": "light"
     },
     "output_type": "display_data"
    }
   ],
   "source": [
    "categorial(data, 'road_condition_1')"
   ]
  },
  {
   "cell_type": "code",
   "execution_count": 42,
   "metadata": {
    "colab": {
     "base_uri": "https://localhost:8080/",
     "height": 735
    },
    "id": "RUAq8OXLawpv",
    "outputId": "726d4814-4b54-4b94-9ee5-8bee531cddb4"
   },
   "outputs": [
    {
     "data": {
      "image/png": "[encoded data removed]",
      "text/plain": [
       "<Figure size 360x360 with 1 Axes>"
      ]
     },
     "metadata": {
      "needs_background": "light"
     },
     "output_type": "display_data"
    }
   ],
   "source": [
    "categorial(data, 'lighting')"
   ]
  },
  {
   "cell_type": "code",
   "execution_count": 43,
   "metadata": {
    "colab": {
     "base_uri": "https://localhost:8080/",
     "height": 579
    },
    "id": "kqtNz6O5a2rj",
    "outputId": "02636aa7-0563-486b-cb46-e7a5ef429837"
   },
   "outputs": [
    {
     "data": {
      "image/png": "[encoded data removed]",
      "text/plain": [
       "<Figure size 360x360 with 1 Axes>"
      ]
     },
     "metadata": {
      "needs_background": "light"
     },
     "output_type": "display_data"
    }
   ],
   "source": [
    "categorial(data, 'control_device')"
   ]
  },
  {
   "cell_type": "code",
   "execution_count": 44,
   "metadata": {
    "id": "7LTZ5kX4a6Yd"
   },
   "outputs": [],
   "source": [
    "# функция для проверки датасета на наличие пропущенных значений и явных дубликатов\n",
    "def data_check(dataset):\n",
    "    print(\"\\nПроверка на наличие пропусков в датасете\\n\")\n",
    "    null = dataset.isnull().sum()\n",
    "    if null.sum() > 0:\n",
    "            print(\"Пропущенные значения в датасете:\\n\")\n",
    "            print(null)\n",
    "    else:\n",
    "        print(\"Отсутствуют пропущенные значения в датасете\\n\")\n",
    "\n",
    "    print(\"\\nПроверка на наличие явных дубликатов в датасете\\n\")\n",
    "    duplicates = dataset.duplicated().sum()\n",
    "    if duplicates > 0:\n",
    "        print(f\"Количество явных дубликатов в датасете: {duplicates}\")\n",
    "    else:\n",
    "        print(\"Отсутствуют явные дубликаты в датасете\")"
   ]
  },
  {
   "cell_type": "code",
   "execution_count": 45,
   "metadata": {
    "colab": {
     "base_uri": "https://localhost:8080/"
    },
    "id": "wb_BMdHSb4cE",
    "outputId": "a73d8ea4-cf5e-45f1-ee8f-fdd663263e4f"
   },
   "outputs": [
    {
     "name": "stdout",
     "output_type": "stream",
     "text": [
      "\n",
      "Проверка на наличие пропусков в датасете\n",
      "\n",
      "Пропущенные значения в датасете:\n",
      "\n",
      "distance                    0\n",
      "intersection              167\n",
      "weather_1                 159\n",
      "location_type           27861\n",
      "road_surface              305\n",
      "road_condition_1          229\n",
      "lighting                  144\n",
      "control_device            188\n",
      "at_fault                    0\n",
      "insurance_premium         402\n",
      "cellphone_in_use         4078\n",
      "vehicle_transmission      538\n",
      "vehicle_age                 0\n",
      "collision_day               0\n",
      "collision_month             0\n",
      "collision_hour             64\n",
      "dtype: int64\n",
      "\n",
      "Проверка на наличие явных дубликатов в датасете\n",
      "\n",
      "Количество явных дубликатов в датасете: 43\n"
     ]
    }
   ],
   "source": [
    "data_check(data)"
   ]
  },
  {
   "cell_type": "code",
   "execution_count": 46,
   "metadata": {
    "colab": {
     "base_uri": "https://localhost:8080/"
    },
    "id": "E_JeyjHafC2E",
    "outputId": "f9a5299d-44da-49c2-e7a0-a3d65e015f50"
   },
   "outputs": [
    {
     "name": "stdout",
     "output_type": "stream",
     "text": [
      "\n",
      "Проверка на наличие пропусков в датасете\n",
      "\n",
      "Пропущенные значения в датасете:\n",
      "\n",
      "distance                    0\n",
      "intersection              167\n",
      "weather_1                 159\n",
      "location_type           27833\n",
      "road_surface              305\n",
      "road_condition_1          229\n",
      "lighting                  144\n",
      "control_device            188\n",
      "at_fault                    0\n",
      "insurance_premium         401\n",
      "cellphone_in_use         4074\n",
      "vehicle_transmission      538\n",
      "vehicle_age                 0\n",
      "collision_day               0\n",
      "collision_month             0\n",
      "collision_hour             64\n",
      "dtype: int64\n",
      "\n",
      "Проверка на наличие явных дубликатов в датасете\n",
      "\n",
      "Отсутствуют явные дубликаты в датасете\n"
     ]
    }
   ],
   "source": [
    "# удалим явные дубликаты\n",
    "data.drop_duplicates(inplace=True)\n",
    "# Проверим, что явные дубликаты удалены:\n",
    "data_check(data)"
   ]
  },
  {
   "cell_type": "markdown",
   "metadata": {
    "id": "l_d5GwO33Dwq"
   },
   "source": [
    "Посмотрим на уникальные значения в ряде столбцов"
   ]
  },
  {
   "cell_type": "code",
   "execution_count": 47,
   "metadata": {
    "colab": {
     "base_uri": "https://localhost:8080/"
    },
    "id": "K1Qy_Q6BfTzu",
    "outputId": "14cf6235-b288-49b6-f4d3-40853ba66078"
   },
   "outputs": [
    {
     "data": {
      "text/plain": [
       "array([ 0.,  1., nan])"
      ]
     },
     "execution_count": 47,
     "metadata": {},
     "output_type": "execute_result"
    }
   ],
   "source": [
    "data['intersection'].unique()"
   ]
  },
  {
   "cell_type": "code",
   "execution_count": 48,
   "metadata": {
    "colab": {
     "base_uri": "https://localhost:8080/",
     "height": 178
    },
    "id": "_SientOSjban",
    "outputId": "f77e1352-9fc1-4a44-bf34-4d950e5e990c"
   },
   "outputs": [
    {
     "data": {
      "text/plain": [
       "0.0    37168\n",
       "1.0    11868\n",
       "Name: intersection, dtype: int64"
      ]
     },
     "execution_count": 48,
     "metadata": {},
     "output_type": "execute_result"
    }
   ],
   "source": [
    "data['intersection'].value_counts()"
   ]
  },
  {
   "cell_type": "code",
   "execution_count": 49,
   "metadata": {
    "colab": {
     "base_uri": "https://localhost:8080/",
     "height": 458
    },
    "id": "z8oimsh3NCKZ",
    "outputId": "2f208ffc-51d9-4b18-bf6e-acbe54d0ec73"
   },
   "outputs": [
    {
     "data": {
      "text/plain": [
       "0        0.0\n",
       "1        0.0\n",
       "2        0.0\n",
       "3        0.0\n",
       "4        0.0\n",
       "        ... \n",
       "56243    0.0\n",
       "56244    1.0\n",
       "56245    0.0\n",
       "56246    0.0\n",
       "56247    0.0\n",
       "Name: intersection, Length: 49203, dtype: float64"
      ]
     },
     "execution_count": 49,
     "metadata": {},
     "output_type": "execute_result"
    }
   ],
   "source": [
    "# заменим nan на преобладающее значение 0.0\n",
    "data['intersection'].fillna(0.0)"
   ]
  },
  {
   "cell_type": "code",
   "execution_count": 50,
   "metadata": {
    "colab": {
     "base_uri": "https://localhost:8080/"
    },
    "id": "BHTPs35-gcCL",
    "outputId": "94973c31-c2ab-4b14-e86e-b4f33085760c"
   },
   "outputs": [
    {
     "data": {
      "text/plain": [
       "array(['clear', 'cloudy', 'raining', None, 'snowing', 'fog', 'other',\n",
       "       'wind'], dtype=object)"
      ]
     },
     "execution_count": 50,
     "metadata": {},
     "output_type": "execute_result"
    }
   ],
   "source": [
    "data['weather_1'].unique()"
   ]
  },
  {
   "cell_type": "code",
   "execution_count": 51,
   "metadata": {
    "colab": {
     "base_uri": "https://localhost:8080/",
     "height": 335
    },
    "id": "qHN_dF-OgjnG",
    "outputId": "15902a99-a5ce-4407-b8f6-05a27b5f0276"
   },
   "outputs": [
    {
     "data": {
      "text/plain": [
       "clear      39605\n",
       "cloudy      7251\n",
       "raining     1918\n",
       "fog          149\n",
       "snowing       91\n",
       "other         19\n",
       "wind          11\n",
       "Name: weather_1, dtype: int64"
      ]
     },
     "execution_count": 51,
     "metadata": {},
     "output_type": "execute_result"
    }
   ],
   "source": [
    "data['weather_1'].value_counts()"
   ]
  },
  {
   "cell_type": "code",
   "execution_count": 52,
   "metadata": {
    "id": "eHnUy4SBjsbx"
   },
   "outputs": [],
   "source": [
    "# заменим None на преобладающее значение clear\n",
    "data['weather_1'].fillna('clear', inplace=True)"
   ]
  },
  {
   "cell_type": "markdown",
   "metadata": {
    "id": "IAv0Fyl2g42E"
   },
   "source": [
    "`other` может быть, к примеру, \"моросью\", оставим его без изменений"
   ]
  },
  {
   "cell_type": "code",
   "execution_count": 53,
   "metadata": {
    "colab": {
     "base_uri": "https://localhost:8080/"
    },
    "id": "11_YivJPgvXg",
    "outputId": "f3bf2bdb-282d-4258-acd8-a428f5638bc8"
   },
   "outputs": [
    {
     "data": {
      "text/plain": [
       "array(['highway', 'ramp', None, 'intersection'], dtype=object)"
      ]
     },
     "execution_count": 53,
     "metadata": {},
     "output_type": "execute_result"
    }
   ],
   "source": [
    "data['location_type'].unique()"
   ]
  },
  {
   "cell_type": "code",
   "execution_count": 54,
   "metadata": {
    "colab": {
     "base_uri": "https://localhost:8080/",
     "height": 210
    },
    "id": "lmaCTZoVhE1y",
    "outputId": "8ceb9013-9820-4f5c-93f4-fc04d93d26f9"
   },
   "outputs": [
    {
     "data": {
      "text/plain": [
       "highway         16932\n",
       "ramp             3144\n",
       "intersection     1294\n",
       "Name: location_type, dtype: int64"
      ]
     },
     "execution_count": 54,
     "metadata": {},
     "output_type": "execute_result"
    }
   ],
   "source": [
    "data['location_type'].value_counts()"
   ]
  },
  {
   "cell_type": "code",
   "execution_count": 55,
   "metadata": {
    "id": "SPIKNyBTj6Ag"
   },
   "outputs": [],
   "source": [
    "# заменим None на преобладающее значение highway\n",
    "data['location_type'].fillna('highway', inplace=True)"
   ]
  },
  {
   "cell_type": "code",
   "execution_count": 56,
   "metadata": {
    "colab": {
     "base_uri": "https://localhost:8080/"
    },
    "id": "VFZxK-pPhLKR",
    "outputId": "116b8111-414e-4db5-bcb6-c8a851ad73ba"
   },
   "outputs": [
    {
     "data": {
      "text/plain": [
       "array(['dry', 'wet', None, 'slippery', 'snowy'], dtype=object)"
      ]
     },
     "execution_count": 56,
     "metadata": {},
     "output_type": "execute_result"
    }
   ],
   "source": [
    "data['road_surface'].unique()"
   ]
  },
  {
   "cell_type": "code",
   "execution_count": 57,
   "metadata": {
    "colab": {
     "base_uri": "https://localhost:8080/",
     "height": 241
    },
    "id": "Kga6ka6FhW50",
    "outputId": "3072d622-791d-45ec-9720-df26f19b693a"
   },
   "outputs": [
    {
     "data": {
      "text/plain": [
       "dry         44128\n",
       "wet          4527\n",
       "snowy         208\n",
       "slippery       35\n",
       "Name: road_surface, dtype: int64"
      ]
     },
     "execution_count": 57,
     "metadata": {},
     "output_type": "execute_result"
    }
   ],
   "source": [
    "data['road_surface'].value_counts()"
   ]
  },
  {
   "cell_type": "code",
   "execution_count": 58,
   "metadata": {
    "id": "_oN1An8Fj-w5"
   },
   "outputs": [],
   "source": [
    "# заменим None на преобладающее значение dry\n",
    "data['road_surface'].fillna('dry', inplace=True)"
   ]
  },
  {
   "cell_type": "code",
   "execution_count": 59,
   "metadata": {
    "colab": {
     "base_uri": "https://localhost:8080/"
    },
    "id": "mWQRVV50hb84",
    "outputId": "f044d2cb-e6cb-4b31-b01e-049be7573cc6"
   },
   "outputs": [
    {
     "data": {
      "text/plain": [
       "array(['normal', 'other', 'construction', 'obstruction', None,\n",
       "       'reduced width', 'holes', 'flooded', 'loose material'],\n",
       "      dtype=object)"
      ]
     },
     "execution_count": 59,
     "metadata": {},
     "output_type": "execute_result"
    }
   ],
   "source": [
    "data['road_condition_1'].unique()"
   ]
  },
  {
   "cell_type": "code",
   "execution_count": 60,
   "metadata": {
    "colab": {
     "base_uri": "https://localhost:8080/",
     "height": 366
    },
    "id": "bYmga5yihpLz",
    "outputId": "024d0af2-60fb-4360-8f65-293e2472816b"
   },
   "outputs": [
    {
     "data": {
      "text/plain": [
       "normal            47428\n",
       "construction        812\n",
       "obstruction         194\n",
       "holes               190\n",
       "other               174\n",
       "loose material       94\n",
       "reduced width        54\n",
       "flooded              28\n",
       "Name: road_condition_1, dtype: int64"
      ]
     },
     "execution_count": 60,
     "metadata": {},
     "output_type": "execute_result"
    }
   ],
   "source": [
    "data['road_condition_1'].value_counts()\n"
   ]
  },
  {
   "cell_type": "code",
   "execution_count": 61,
   "metadata": {
    "id": "JvXJtvV1kEDh"
   },
   "outputs": [],
   "source": [
    "# заменим None на преобладающее значение normal\n",
    "data['road_condition_1'].fillna('normal', inplace=True)"
   ]
  },
  {
   "cell_type": "code",
   "execution_count": 62,
   "metadata": {
    "colab": {
     "base_uri": "https://localhost:8080/"
    },
    "id": "3KFDlhTOhux1",
    "outputId": "ee392a1e-ca4d-404a-eb23-8d5e922e5944"
   },
   "outputs": [
    {
     "data": {
      "text/plain": [
       "array(['daylight', 'dark with no street lights',\n",
       "       'dark with street lights', 'dusk or dawn', None,\n",
       "       'dark with street lights not functioning'], dtype=object)"
      ]
     },
     "execution_count": 62,
     "metadata": {},
     "output_type": "execute_result"
    }
   ],
   "source": [
    "data['lighting'].unique()"
   ]
  },
  {
   "cell_type": "code",
   "execution_count": 63,
   "metadata": {
    "colab": {
     "base_uri": "https://localhost:8080/",
     "height": 272
    },
    "id": "A286XHFlh5bb",
    "outputId": "19365745-63ae-4056-ddea-4343a53f5b33"
   },
   "outputs": [
    {
     "data": {
      "text/plain": [
       "daylight                                   33340\n",
       "dark with street lights                    10286\n",
       "dark with no street lights                  3768\n",
       "dusk or dawn                                1540\n",
       "dark with street lights not functioning      125\n",
       "Name: lighting, dtype: int64"
      ]
     },
     "execution_count": 63,
     "metadata": {},
     "output_type": "execute_result"
    }
   ],
   "source": [
    "data['lighting'].value_counts()"
   ]
  },
  {
   "cell_type": "code",
   "execution_count": 64,
   "metadata": {
    "id": "Nxc4WqqskHOB"
   },
   "outputs": [],
   "source": [
    "# заменим None на преобладающее значение daylight\n",
    "data['lighting'].fillna('daylight', inplace=True)"
   ]
  },
  {
   "cell_type": "code",
   "execution_count": 65,
   "metadata": {
    "colab": {
     "base_uri": "https://localhost:8080/"
    },
    "id": "OBl6eS-Fh-pI",
    "outputId": "320120c7-7fbf-4841-bbd0-0eb4de52373c"
   },
   "outputs": [
    {
     "data": {
      "text/plain": [
       "array(['none', 'functioning', None, 'not functioning', 'obscured'],\n",
       "      dtype=object)"
      ]
     },
     "execution_count": 65,
     "metadata": {},
     "output_type": "execute_result"
    }
   ],
   "source": [
    "data['control_device'].unique()"
   ]
  },
  {
   "cell_type": "code",
   "execution_count": 66,
   "metadata": {
    "colab": {
     "base_uri": "https://localhost:8080/",
     "height": 241
    },
    "id": "a-v6vSPxiF3K",
    "outputId": "ed41f5df-df3e-4b8d-fef3-942752b64672"
   },
   "outputs": [
    {
     "data": {
      "text/plain": [
       "none               31703\n",
       "functioning        17173\n",
       "not functioning      110\n",
       "obscured              29\n",
       "Name: control_device, dtype: int64"
      ]
     },
     "execution_count": 66,
     "metadata": {},
     "output_type": "execute_result"
    }
   ],
   "source": [
    "data['control_device'].value_counts()"
   ]
  },
  {
   "cell_type": "code",
   "execution_count": 67,
   "metadata": {
    "id": "nq03TlEDkK4J"
   },
   "outputs": [],
   "source": [
    "# заменим None на none\n",
    "data['control_device'].fillna('none', inplace=True)"
   ]
  },
  {
   "cell_type": "code",
   "execution_count": 68,
   "metadata": {
    "colab": {
     "base_uri": "https://localhost:8080/"
    },
    "id": "6B3jo2JmiNHG",
    "outputId": "cdea516f-626b-4444-da03-bc2a8e0a123b"
   },
   "outputs": [
    {
     "data": {
      "text/plain": [
       "array([ 0., nan,  1.])"
      ]
     },
     "execution_count": 68,
     "metadata": {},
     "output_type": "execute_result"
    }
   ],
   "source": [
    "data['cellphone_in_use'].unique()"
   ]
  },
  {
   "cell_type": "code",
   "execution_count": 69,
   "metadata": {
    "colab": {
     "base_uri": "https://localhost:8080/",
     "height": 178
    },
    "id": "tLfwkaF2iXee",
    "outputId": "f961c9c6-2d22-4c60-c03f-99373d638b01"
   },
   "outputs": [
    {
     "data": {
      "text/plain": [
       "0.0    44217\n",
       "1.0      912\n",
       "Name: cellphone_in_use, dtype: int64"
      ]
     },
     "execution_count": 69,
     "metadata": {},
     "output_type": "execute_result"
    }
   ],
   "source": [
    "data['cellphone_in_use'].value_counts()"
   ]
  },
  {
   "cell_type": "code",
   "execution_count": 70,
   "metadata": {
    "colab": {
     "base_uri": "https://localhost:8080/",
     "height": 458
    },
    "id": "kxe7WjHCkPES",
    "outputId": "a52114f8-d83e-4749-83c5-7a6067398702"
   },
   "outputs": [
    {
     "data": {
      "text/plain": [
       "0        0.0\n",
       "1        0.0\n",
       "2        0.0\n",
       "3        0.0\n",
       "4        0.0\n",
       "        ... \n",
       "56243    0.0\n",
       "56244    0.0\n",
       "56245    0.0\n",
       "56246    0.0\n",
       "56247    0.0\n",
       "Name: cellphone_in_use, Length: 49203, dtype: float64"
      ]
     },
     "execution_count": 70,
     "metadata": {},
     "output_type": "execute_result"
    }
   ],
   "source": [
    "# заменим nan на преобладающее значение 0.0\n",
    "data['cellphone_in_use'].fillna(0.0)"
   ]
  },
  {
   "cell_type": "code",
   "execution_count": 71,
   "metadata": {
    "colab": {
     "base_uri": "https://localhost:8080/"
    },
    "id": "vNZPzHm8ibxN",
    "outputId": "19c07d6c-ef4a-470f-db53-0b4e74564bdf"
   },
   "outputs": [
    {
     "data": {
      "text/plain": [
       "array(['auto', 'manual', None], dtype=object)"
      ]
     },
     "execution_count": 71,
     "metadata": {},
     "output_type": "execute_result"
    }
   ],
   "source": [
    "data['vehicle_transmission'].unique()"
   ]
  },
  {
   "cell_type": "code",
   "execution_count": 72,
   "metadata": {
    "colab": {
     "base_uri": "https://localhost:8080/",
     "height": 178
    },
    "id": "Hj6b2bi1igwX",
    "outputId": "f3ff27ec-e9df-47b0-d7e4-34fb63b23fa3"
   },
   "outputs": [
    {
     "data": {
      "text/plain": [
       "manual    25466\n",
       "auto      23199\n",
       "Name: vehicle_transmission, dtype: int64"
      ]
     },
     "execution_count": 72,
     "metadata": {},
     "output_type": "execute_result"
    }
   ],
   "source": [
    "data['vehicle_transmission'].value_counts()"
   ]
  },
  {
   "cell_type": "code",
   "execution_count": 73,
   "metadata": {
    "id": "N5ANCcnpimCQ"
   },
   "outputs": [],
   "source": [
    "# заменим None на большее значение manual\n",
    "data['vehicle_transmission'].fillna('manual', inplace=True)"
   ]
  },
  {
   "cell_type": "code",
   "execution_count": 74,
   "metadata": {},
   "outputs": [
    {
     "data": {
      "text/plain": [
       "array([ 34.,  33.,  46.,  38.,  47.,  64.,  31.,  25.,  18.,  22.,  32.,\n",
       "        35.,  29.,  86.,  53.,  51.,  26.,  24.,  20.,  78.,  49.,  72.,\n",
       "        37.,  45.,  28.,  39.,  21.,  88.,  44.,  71.,  61.,  42.,  55.,\n",
       "        41.,  27.,  76.,  50.,  54.,  23.,  52.,  17.,  75.,  14.,  30.,\n",
       "        59.,  19.,  56.,  48.,  nan,  43.,  16.,  79.,  36.,  40.,  57.,\n",
       "        62.,  80.,  68.,  67.,  70.,  74.,  66.,  60.,  65.,  69.,  63.,\n",
       "        58.,  82.,  73.,  77.,   5.,  87.,  99.,  15.,  81., 100.,  90.,\n",
       "         8.,  83.,  12.,  84.,  91.,  89.,   6.,  85.,  13.,  96.,  11.,\n",
       "        92.,  93.,  98.,   4.,   9.,   0.,  97.,  10., 101., 105.,  95.,\n",
       "         7.,  94.])"
      ]
     },
     "execution_count": 74,
     "metadata": {},
     "output_type": "execute_result"
    }
   ],
   "source": [
    "data['insurance_premium'].unique()"
   ]
  },
  {
   "cell_type": "code",
   "execution_count": 75,
   "metadata": {
    "colab": {
     "base_uri": "https://localhost:8080/"
    },
    "id": "lQ-XSqSxkdBQ",
    "outputId": "0b0bf2f7-afd0-42be-ae5b-a881fdbfeecf"
   },
   "outputs": [
    {
     "name": "stdout",
     "output_type": "stream",
     "text": [
      "<class 'pandas.core.frame.DataFrame'>\n",
      "Int64Index: 49203 entries, 0 to 56247\n",
      "Data columns (total 16 columns):\n",
      " #   Column                Non-Null Count  Dtype  \n",
      "---  ------                --------------  -----  \n",
      " 0   distance              49203 non-null  float64\n",
      " 1   intersection          49036 non-null  float64\n",
      " 2   weather_1             49203 non-null  object \n",
      " 3   location_type         49203 non-null  object \n",
      " 4   road_surface          49203 non-null  object \n",
      " 5   road_condition_1      49203 non-null  object \n",
      " 6   lighting              49203 non-null  object \n",
      " 7   control_device        49203 non-null  object \n",
      " 8   at_fault              49203 non-null  int64  \n",
      " 9   insurance_premium     48802 non-null  float64\n",
      " 10  cellphone_in_use      45129 non-null  float64\n",
      " 11  vehicle_transmission  49203 non-null  object \n",
      " 12  vehicle_age           49203 non-null  float64\n",
      " 13  collision_day         49203 non-null  int64  \n",
      " 14  collision_month       49203 non-null  int64  \n",
      " 15  collision_hour        49139 non-null  float64\n",
      "dtypes: float64(6), int64(3), object(7)\n",
      "memory usage: 6.4+ MB\n"
     ]
    }
   ],
   "source": [
    "data.info()"
   ]
  },
  {
   "cell_type": "code",
   "execution_count": 76,
   "metadata": {
    "colab": {
     "base_uri": "https://localhost:8080/"
    },
    "id": "rtqDCHW-lfye",
    "outputId": "f7c94307-129a-4728-9855-7c44acc1ffe5"
   },
   "outputs": [
    {
     "data": {
      "text/plain": [
       "4"
      ]
     },
     "execution_count": 76,
     "metadata": {},
     "output_type": "execute_result"
    }
   ],
   "source": [
    "# проверим ещё раз датасет на дубликаты\n",
    "data.duplicated().sum()"
   ]
  },
  {
   "cell_type": "code",
   "execution_count": 77,
   "metadata": {
    "colab": {
     "base_uri": "https://localhost:8080/"
    },
    "id": "74C4hXaqmiAH",
    "outputId": "000fb26f-fb0f-4ed5-ca2f-25796f0532af"
   },
   "outputs": [
    {
     "data": {
      "text/plain": [
       "0"
      ]
     },
     "execution_count": 77,
     "metadata": {},
     "output_type": "execute_result"
    }
   ],
   "source": [
    "# удалим выявленные дубликаты\n",
    "data.drop_duplicates(inplace=True)\n",
    "data.duplicated().sum()"
   ]
  },
  {
   "cell_type": "code",
   "execution_count": 78,
   "metadata": {
    "colab": {
     "base_uri": "https://localhost:8080/",
     "height": 1000
    },
    "id": "L96aQbhWkepC",
    "outputId": "5cb33fe5-952d-4596-fbac-2ee799f2d076"
   },
   "outputs": [
    {
     "name": "stdout",
     "output_type": "stream",
     "text": [
      "interval columns not set, guessing: ['distance', 'intersection', 'at_fault', 'cellphone_in_use', 'vehicle_age', 'insurance_premium', 'collision_day', 'collision_month', 'collision_hour']\n"
     ]
    },
    {
     "data": {
      "image/png": "[encoded data removed]",
      "text/plain": [
       "<Figure size 720x720 with 2 Axes>"
      ]
     },
     "metadata": {
      "needs_background": "light"
     },
     "output_type": "display_data"
    }
   ],
   "source": [
    "# построим матрицу корреляции коэффициентов phik\n",
    "plt.figure(figsize=(10, 10))\n",
    "sns.heatmap(data[['distance', 'intersection', 'weather_1', \\\n",
    "                              'location_type', 'road_surface', \\\n",
    "                              'road_condition_1', 'lighting', \\\n",
    "                              'control_device', 'at_fault', \\\n",
    "                              'cellphone_in_use', 'vehicle_transmission', \\\n",
    "                              'vehicle_age', 'insurance_premium', \\\n",
    "                              'collision_day', 'collision_month', \\\n",
    "                              'collision_hour']]\n",
    "            .phik_matrix(), \\\n",
    "             annot=True, cmap='coolwarm', vmin=0, vmax=1)\n",
    "plt.title('Матрица корреляции phik')\n",
    "\n",
    "plt.show()"
   ]
  },
  {
   "cell_type": "markdown",
   "metadata": {
    "id": "jHhEkxO84_tw"
   },
   "source": [
    "Влияние всех отобранных входящих признаков на целевой незначительно (связь слабая по шкале Чеддока)"
   ]
  },
  {
   "cell_type": "markdown",
   "metadata": {
    "id": "v4PN5pXl5Rqf"
   },
   "source": [
    "Выводы по разделу:\n",
    "\n",
    "- провели первичный отбор факторов, оставив только те признаки, которые можно предсказать или померить в момент начала поездки, а не по факту совершённой аварии. Исключили также те признаки, что логически не должны влиять на факт аварии;\n",
    "- подготовили набор данных на основе первичного предположения заказчика (тип виновника — только машина (`car`), повреждения в результате аварии - любые значимые, кроме типа SCRATCH (царапина), данные для моделирования - только за 2012 год);\n",
    "- провели статистический анализ данных: удалили дубликаты, заполнили пропущенные значения в ряде столбцов (преимущественно теми, что имеют большее количество). Если составить карту \"стандартных\" условий для аварийной ситуации, получится следующая картина: автомобиль возрастом около 3,5 лет, ясная погода, скоростное шоссе, сухое покрытие дороги, нормальное состояние дороги, дневное освещение и отсутствие загадочного признака `control_device` (значение `none`);\n",
    "- связь между входными признаками и целевым - слабая по шкале Чеддока."
   ]
  },
  {
   "cell_type": "markdown",
   "metadata": {
    "id": "G1_gV3Lu2-he"
   },
   "source": [
    "## Подготовка данных к моделированию"
   ]
  },
  {
   "cell_type": "code",
   "execution_count": 79,
   "metadata": {
    "id": "ffrVRVECbAEN"
   },
   "outputs": [],
   "source": [
    "data.dropna(inplace=True)"
   ]
  },
  {
   "cell_type": "code",
   "execution_count": 80,
   "metadata": {
    "colab": {
     "base_uri": "https://localhost:8080/",
     "height": 460
    },
    "id": "w2FjPmN0mmK9",
    "outputId": "e94d361a-5bbd-45e7-fa40-ca0b4f52544c"
   },
   "outputs": [
    {
     "data": {
      "text/plain": [
       "distance                0\n",
       "intersection            0\n",
       "weather_1               0\n",
       "location_type           0\n",
       "road_surface            0\n",
       "road_condition_1        0\n",
       "lighting                0\n",
       "control_device          0\n",
       "at_fault                0\n",
       "insurance_premium       0\n",
       "cellphone_in_use        0\n",
       "vehicle_transmission    0\n",
       "vehicle_age             0\n",
       "collision_day           0\n",
       "collision_month         0\n",
       "collision_hour          0\n",
       "dtype: int64"
      ]
     },
     "execution_count": 80,
     "metadata": {},
     "output_type": "execute_result"
    }
   ],
   "source": [
    "data.isna().sum()"
   ]
  },
  {
   "cell_type": "code",
   "execution_count": 81,
   "metadata": {
    "colab": {
     "base_uri": "https://localhost:8080/"
    },
    "id": "K4a1_bQ5xAFB",
    "outputId": "a963f8d1-70ca-444b-e5a0-81af65325e4e"
   },
   "outputs": [
    {
     "data": {
      "text/plain": [
       "(44704, 16)"
      ]
     },
     "execution_count": 81,
     "metadata": {},
     "output_type": "execute_result"
    }
   ],
   "source": [
    "data.shape"
   ]
  },
  {
   "cell_type": "code",
   "execution_count": 82,
   "metadata": {
    "colab": {
     "base_uri": "https://localhost:8080/"
    },
    "id": "wYUdTGWJxIoq",
    "outputId": "c1ae59f5-6d83-46d1-d262-1042d58493f0"
   },
   "outputs": [
    {
     "name": "stdout",
     "output_type": "stream",
     "text": [
      "Размер обучающей выборки: 33528\n",
      "Размер тестовой выборки: 11176\n"
     ]
    }
   ],
   "source": [
    "# подготовим признаки и разделим данные на обучающую и тестовую выборки\n",
    "features = data.drop(['at_fault'], axis = 1)\n",
    "target = data['at_fault']\n",
    "\n",
    "features_train, features_test, target_train, target_test = \\\n",
    "        train_test_split(features, target, test_size = TEST_SIZE, \\\n",
    "                         random_state = RANDOM_STATE)\n",
    "print(f'Размер обучающей выборки: {features_train.shape[0]}')\n",
    "print(f'Размер тестовой выборки: {target_test.shape[0]}')"
   ]
  },
  {
   "cell_type": "code",
   "execution_count": 83,
   "metadata": {
    "id": "NR22Ae4hxfOi"
   },
   "outputs": [],
   "source": [
    "# извлечём категориальные признаки из обучающего набора данных\n",
    "cat_features = features_train.select_dtypes(include = 'object') \\\n",
    "                                                .columns.to_list()\n",
    "# извлечём числовые признаки из обучающего набора данных\n",
    "num_features = features_train.select_dtypes(exclude = 'object') \\\n",
    "                                                .columns.to_list()"
   ]
  },
  {
   "cell_type": "code",
   "execution_count": 84,
   "metadata": {
    "colab": {
     "base_uri": "https://localhost:8080/"
    },
    "id": "Ow54kYrs969j",
    "outputId": "0ed51636-8e3c-451b-bbac-ade77841630c"
   },
   "outputs": [
    {
     "data": {
      "text/plain": [
       "['weather_1',\n",
       " 'location_type',\n",
       " 'road_surface',\n",
       " 'road_condition_1',\n",
       " 'lighting',\n",
       " 'control_device',\n",
       " 'vehicle_transmission']"
      ]
     },
     "execution_count": 84,
     "metadata": {},
     "output_type": "execute_result"
    }
   ],
   "source": [
    "cat_features"
   ]
  },
  {
   "cell_type": "code",
   "execution_count": 85,
   "metadata": {
    "colab": {
     "base_uri": "https://localhost:8080/"
    },
    "id": "2mR-9FA_9-1p",
    "outputId": "244c4b51-0b5b-45db-9e2c-b3c99898565d"
   },
   "outputs": [
    {
     "data": {
      "text/plain": [
       "['distance',\n",
       " 'intersection',\n",
       " 'insurance_premium',\n",
       " 'cellphone_in_use',\n",
       " 'vehicle_age',\n",
       " 'collision_day',\n",
       " 'collision_month',\n",
       " 'collision_hour']"
      ]
     },
     "execution_count": 85,
     "metadata": {},
     "output_type": "execute_result"
    }
   ],
   "source": [
    "num_features"
   ]
  },
  {
   "cell_type": "code",
   "execution_count": 86,
   "metadata": {
    "id": "4Se8QTG_xqUI"
   },
   "outputs": [],
   "source": [
    "# создадим копию обучающего набора данных для нелинейных моделей\n",
    "features_train_1 = features_train.copy()\n",
    "\n",
    "# создадим копию тестового набора данных для нелинейных моделей\n",
    "features_test_1 = features_test.copy()"
   ]
  },
  {
   "cell_type": "code",
   "execution_count": 87,
   "metadata": {
    "colab": {
     "base_uri": "https://localhost:8080/"
    },
    "id": "rrbdmorB2xLi",
    "outputId": "256a8b9f-2e37-43c5-da7a-524696e76f73"
   },
   "outputs": [
    {
     "name": "stdout",
     "output_type": "stream",
     "text": [
      "distance                float64\n",
      "intersection            float64\n",
      "weather_1                object\n",
      "location_type            object\n",
      "road_surface             object\n",
      "road_condition_1         object\n",
      "lighting                 object\n",
      "control_device           object\n",
      "insurance_premium       float64\n",
      "cellphone_in_use        float64\n",
      "vehicle_transmission     object\n",
      "vehicle_age             float64\n",
      "collision_day             int64\n",
      "collision_month           int64\n",
      "collision_hour          float64\n",
      "dtype: object\n"
     ]
    }
   ],
   "source": [
    "print(pd.DataFrame(features_train_1).dtypes)"
   ]
  },
  {
   "cell_type": "code",
   "execution_count": 88,
   "metadata": {
    "id": "gI2nYMbJxtou"
   },
   "outputs": [],
   "source": [
    "# трансформируем обучающую выборку для нелинейных моделей\n",
    "col_transformer_1 = make_column_transformer(\n",
    "    (OrdinalEncoder(handle_unknown='use_encoded_value', unknown_value=-1), \\\n",
    "                    cat_features),\n",
    "    (StandardScaler(), num_features),\n",
    "    remainder='passthrough',\n",
    "    verbose_feature_names_out=False\n",
    ")"
   ]
  },
  {
   "cell_type": "code",
   "execution_count": 89,
   "metadata": {
    "colab": {
     "base_uri": "https://localhost:8080/"
    },
    "id": "UVsYv8C-KjUz",
    "outputId": "b94fdb31-e596-4780-993c-14d5e1207214"
   },
   "outputs": [
    {
     "name": "stdout",
     "output_type": "stream",
     "text": [
      "Column distance unique types: [<class 'float'>]\n",
      "Column intersection unique types: [<class 'float'>]\n",
      "Column weather_1 unique types: [<class 'str'>]\n",
      "Column location_type unique types: [<class 'str'>]\n",
      "Column road_surface unique types: [<class 'str'>]\n",
      "Column road_condition_1 unique types: [<class 'str'>]\n",
      "Column lighting unique types: [<class 'str'>]\n",
      "Column control_device unique types: [<class 'str'>]\n",
      "Column insurance_premium unique types: [<class 'float'>]\n",
      "Column cellphone_in_use unique types: [<class 'float'>]\n",
      "Column vehicle_transmission unique types: [<class 'str'>]\n",
      "Column vehicle_age unique types: [<class 'float'>]\n",
      "Column collision_day unique types: [<class 'int'>]\n",
      "Column collision_month unique types: [<class 'int'>]\n",
      "Column collision_hour unique types: [<class 'float'>]\n"
     ]
    }
   ],
   "source": [
    "for column in features_train_1.columns:\n",
    "    unique_types = features_train_1[column].map(type).unique()\n",
    "    print(f\"Column {column} unique types: {unique_types}\")"
   ]
  },
  {
   "cell_type": "code",
   "execution_count": 90,
   "metadata": {
    "id": "0FOqk2qkymbA"
   },
   "outputs": [],
   "source": [
    "features_train_transformed_1 = col_transformer_1.fit_transform(features_train_1)\n",
    "features_test_transformed_1 = col_transformer_1.transform(features_test_1)"
   ]
  },
  {
   "cell_type": "code",
   "execution_count": 91,
   "metadata": {
    "id": "wYNm1lJKypLk"
   },
   "outputs": [],
   "source": [
    "# создадим копии обучающего набора данных для линейной модели\n",
    "features_train_2 = features_train.copy()\n",
    "# создадим копии тестового набора данных для линейной модели\n",
    "features_test_2 = features_test.copy()"
   ]
  },
  {
   "cell_type": "code",
   "execution_count": 92,
   "metadata": {
    "id": "P7IomRZxOYr4"
   },
   "outputs": [],
   "source": [
    "# трансформируем обучающую выборку для линейной модели\n",
    "col_transformer_2 = make_column_transformer(\n",
    "    (OneHotEncoder(drop='first', handle_unknown='ignore'), cat_features),\n",
    "    (StandardScaler(), num_features),\n",
    "    remainder='passthrough',\n",
    "    verbose_feature_names_out=False\n",
    ")"
   ]
  },
  {
   "cell_type": "code",
   "execution_count": 93,
   "metadata": {
    "id": "IkhB384IObwo"
   },
   "outputs": [],
   "source": [
    "features_train_transformed_2 = col_transformer_2.fit_transform(features_train_2)\n",
    "features_test_transformed_2 = col_transformer_2.transform(features_test_2)"
   ]
  },
  {
   "cell_type": "markdown",
   "metadata": {
    "id": "Z8CVEay19bpF"
   },
   "source": [
    "Выводы по разделу:\n",
    "\n",
    "- подготовили признаки и разделили данные на обучающую и тестовую выборки;\n",
    "- категоризировали исходные данные, трансформировали выборки отдельно для линейной и нелинейных моделей."
   ]
  },
  {
   "cell_type": "markdown",
   "metadata": {
    "id": "DsaoNWDSUHqt"
   },
   "source": [
    "## Поиск лучшей модели"
   ]
  },
  {
   "cell_type": "markdown",
   "metadata": {
    "id": "CF5LzhGRUR6W"
   },
   "source": [
    "Будем использовать 4 модели: линейную `LogisticRegression` и нелинейные - `DecisionTree`, градиентный бустинг `LightGBM` и `CatBoost`. Метрику для оценки лучшей модели возьмём ROC-AUC, поскольку у нас задача бинарной классификации (0 - нет аварии, 1 - авария). ROC-AUC основывается на вероятностях (или \"скорингах\", которые модель производит до применения порога), что делает её более подходящей метрикой в условиях, когда важно хорошее ранжирование. Плюс, ROC-AUC измеряет производительность модели независимо от конкретного порога. Это особенно важно, если невозможно заранее определить, что важнее — минимизация ложных положительных результатов или максимизация выявления всех положительных примеров."
   ]
  },
  {
   "cell_type": "code",
   "execution_count": 94,
   "metadata": {
    "id": "TJfRLLhkOf33"
   },
   "outputs": [],
   "source": [
    "# Функция подсчёта времени и ROC-AUC для моделей\n",
    "def model_param(model, parameters, features_train, target_train):\n",
    "    # начинаем отсчёт времени для поиска лучших параметров модели\n",
    "    start_time = time.time()\n",
    "    \n",
    "    # инициализируем GridSearchCV для подбора гиперпараметров\n",
    "    grid_cv = GridSearchCV(\n",
    "        model,\n",
    "        param_grid=parameters,\n",
    "        cv=5,\n",
    "        n_jobs=-1,\n",
    "        scoring='roc_auc'\n",
    "    )\n",
    "    \n",
    "    # выполняем подбор параметров и обучение моделей\n",
    "    grid_cv.fit(features_train, target_train)\n",
    "    \n",
    "    # записываем затраченное на процесс время\n",
    "    time_1 = round((time.time() - start_time), 2)\n",
    "    \n",
    "    # извлекаем обученную лучшую модель\n",
    "    best_model = grid_cv.best_estimator_\n",
    "    \n",
    "    # получаем лучший результат ROC-AUC из GridSearchCV\n",
    "    roc_auc = round(grid_cv.best_score_, 2)\n",
    "    \n",
    "    # сохраняем статистику\n",
    "    model_stat = [time_1, roc_auc]\n",
    "    return model_stat, grid_cv"
   ]
  },
  {
   "cell_type": "code",
   "execution_count": 95,
   "metadata": {
    "id": "1dMyxcwjPZBY"
   },
   "outputs": [],
   "source": [
    "# инициализируем модель логистической регрессии\n",
    "model_lr = LogisticRegression(random_state = RANDOM_STATE)\n",
    "\n",
    "param_grid_lr = {\n",
    "    'C': [0.1, 1, 10],\n",
    "    'penalty': ['l1', 'l2']\n",
    "}"
   ]
  },
  {
   "cell_type": "code",
   "execution_count": 96,
   "metadata": {
    "id": "Zdt-dj7rPvz8"
   },
   "outputs": [],
   "source": [
    "model_stat_lr, grid_cv_lr = model_param(\n",
    "  model_lr,\n",
    "  param_grid_lr,\n",
    "  features_train_transformed_2,\n",
    "  target_train\n",
    ")"
   ]
  },
  {
   "cell_type": "code",
   "execution_count": 97,
   "metadata": {
    "id": "u6axpHLVP0Cz"
   },
   "outputs": [
    {
     "data": {
      "text/plain": [
       "[40.52, 0.62]"
      ]
     },
     "execution_count": 97,
     "metadata": {},
     "output_type": "execute_result"
    }
   ],
   "source": [
    "model_stat_lr"
   ]
  },
  {
   "cell_type": "code",
   "execution_count": 98,
   "metadata": {
    "id": "x3pAjLxnbdAe"
   },
   "outputs": [],
   "source": [
    "# инициализируем модель дерева решений\n",
    "model_tree = DecisionTreeClassifier(random_state = RANDOM_STATE)\n",
    "\n",
    "param_grid_tree = {\n",
    "    'max_depth': [3, 5, 7, 9],\n",
    "    'min_samples_split': [2, 5, 10]\n",
    "}"
   ]
  },
  {
   "cell_type": "code",
   "execution_count": 99,
   "metadata": {
    "id": "g7RtDEiMb3BJ"
   },
   "outputs": [],
   "source": [
    "model_stat_tree, grid_cv_tree = model_param(\n",
    "    model_tree,\n",
    "    param_grid_tree,\n",
    "    features_train_transformed_1,\n",
    "    target_train\n",
    ")"
   ]
  },
  {
   "cell_type": "code",
   "execution_count": 100,
   "metadata": {
    "id": "HAYS3DCFb8nx"
   },
   "outputs": [
    {
     "data": {
      "text/plain": [
       "[3.3, 0.64]"
      ]
     },
     "execution_count": 100,
     "metadata": {},
     "output_type": "execute_result"
    }
   ],
   "source": [
    "model_stat_tree"
   ]
  },
  {
   "cell_type": "code",
   "execution_count": 101,
   "metadata": {
    "id": "Ru_5fdu2cFZJ"
   },
   "outputs": [],
   "source": [
    "# инициализируем модель градиентного бустинга LightGBM\n",
    "model_lgbm = LGBMClassifier(random_state = RANDOM_STATE)"
   ]
  },
  {
   "cell_type": "code",
   "execution_count": 102,
   "metadata": {
    "id": "x9s736RddAsK"
   },
   "outputs": [],
   "source": [
    "for col in cat_features:\n",
    "    features_train_1[col] = features_train_1[col].astype('category')\n",
    "    features_test_1[col] = features_test_1[col].astype('category')"
   ]
  },
  {
   "cell_type": "code",
   "execution_count": 103,
   "metadata": {
    "id": "RdO_MviNdGiB"
   },
   "outputs": [],
   "source": [
    "param_grid_lgbm = {\n",
    "    'num_leaves': range(2, 5),\n",
    "    'max_depth': range(2, 5),\n",
    "    'learning_rate': [0.01, 0.1, 0.2]\n",
    "}"
   ]
  },
  {
   "cell_type": "code",
   "execution_count": 104,
   "metadata": {
    "colab": {
     "base_uri": "https://localhost:8080/"
    },
    "id": "bbBKad2UdI_K",
    "outputId": "9712bdf7-3540-4c10-b076-d9f3005964d9"
   },
   "outputs": [],
   "source": [
    "model_stat_lgbm, grid_cv_lgbm = model_param(\n",
    "    model_lgbm,\n",
    "    param_grid_lgbm,\n",
    "    features_train_transformed_1,\n",
    "    target_train  \n",
    ")"
   ]
  },
  {
   "cell_type": "code",
   "execution_count": 105,
   "metadata": {
    "colab": {
     "base_uri": "https://localhost:8080/"
    },
    "id": "toPuQIP4dLWg",
    "outputId": "50bc7e09-bbbc-4cd1-f8e5-eb9bd7d77855"
   },
   "outputs": [
    {
     "data": {
      "text/plain": [
       "[94.17, 0.66]"
      ]
     },
     "execution_count": 105,
     "metadata": {},
     "output_type": "execute_result"
    }
   ],
   "source": [
    "model_stat_lgbm"
   ]
  },
  {
   "cell_type": "code",
   "execution_count": 106,
   "metadata": {
    "id": "g1ctXyaOdTcq"
   },
   "outputs": [],
   "source": [
    "# инициализируем модель градиентного бустинга CatBoost\n",
    "model_catboost = CatBoostClassifier(random_state = RANDOM_STATE, \\\n",
    "                                    cat_features=cat_features)"
   ]
  },
  {
   "cell_type": "code",
   "execution_count": 107,
   "metadata": {
    "id": "VLuWCwDPdYAL"
   },
   "outputs": [],
   "source": [
    "for col in cat_features:\n",
    "    features_train_1[col] = features_train_1[col].astype(str)"
   ]
  },
  {
   "cell_type": "code",
   "execution_count": 108,
   "metadata": {
    "id": "x7mmFVVkdaBu"
   },
   "outputs": [],
   "source": [
    "param_catboost = {\n",
    "    'iterations': range(2, 5),\n",
    "    'depth': range(2, 5),\n",
    "    'learning_rate': [0.01, 0.1, 0.2]\n",
    "}"
   ]
  },
  {
   "cell_type": "code",
   "execution_count": 109,
   "metadata": {
    "colab": {
     "base_uri": "https://localhost:8080/"
    },
    "id": "tANcpsGadcOy",
    "outputId": "f76108bc-f9b2-4263-b1b1-a5c0084a2180"
   },
   "outputs": [
    {
     "name": "stdout",
     "output_type": "stream",
     "text": [
      "0:\tlearn: 0.6927105\ttotal: 59.4ms\tremaining: 59.4ms\n",
      "1:\tlearn: 0.6922876\ttotal: 70.7ms\tremaining: 0us\n",
      "0:\tlearn: 0.6926763\ttotal: 9.94ms\tremaining: 9.94ms\n",
      "1:\tlearn: 0.6922153\ttotal: 20.2ms\tremaining: 0us\n",
      "0:\tlearn: 0.6926980\ttotal: 9.61ms\tremaining: 9.61ms\n",
      "1:\tlearn: 0.6922427\ttotal: 19.3ms\tremaining: 0us\n",
      "0:\tlearn: 0.6927122\ttotal: 9.37ms\tremaining: 9.37ms\n",
      "1:\tlearn: 0.6923019\ttotal: 19.7ms\tremaining: 0us\n",
      "0:\tlearn: 0.6926976\ttotal: 9.58ms\tremaining: 9.58ms\n",
      "1:\tlearn: 0.6922653\ttotal: 18.6ms\tremaining: 0us\n",
      "0:\tlearn: 0.6889763\ttotal: 9.89ms\tremaining: 9.89ms\n",
      "1:\tlearn: 0.6859347\ttotal: 20.1ms\tremaining: 0us\n",
      "0:\tlearn: 0.6886501\ttotal: 9.66ms\tremaining: 9.66ms\n",
      "1:\tlearn: 0.6851197\ttotal: 19.4ms\tremaining: 0us\n",
      "0:\tlearn: 0.6888573\ttotal: 9.84ms\tremaining: 9.84ms\n",
      "1:\tlearn: 0.6857016\ttotal: 19.6ms\tremaining: 0us\n",
      "0:\tlearn: 0.6889933\ttotal: 9.4ms\tremaining: 9.4ms\n",
      "1:\tlearn: 0.6857356\ttotal: 18.2ms\tremaining: 0us\n",
      "0:\tlearn: 0.6888535\ttotal: 9.69ms\tremaining: 9.69ms\n",
      "1:\tlearn: 0.6852342\ttotal: 19.4ms\tremaining: 0us\n",
      "0:\tlearn: 0.6852412\ttotal: 10.1ms\tremaining: 10.1ms\n",
      "1:\tlearn: 0.6800500\ttotal: 19.7ms\tremaining: 0us\n",
      "0:\tlearn: 0.6846232\ttotal: 9.76ms\tremaining: 9.76ms\n",
      "1:\tlearn: 0.6796731\ttotal: 19.1ms\tremaining: 0us\n",
      "0:\tlearn: 0.6850166\ttotal: 9.54ms\tremaining: 9.54ms\n",
      "1:\tlearn: 0.6800128\ttotal: 19.1ms\tremaining: 0us\n",
      "0:\tlearn: 0.6852743\ttotal: 9.51ms\tremaining: 9.51ms\n",
      "1:\tlearn: 0.6800375\ttotal: 18.7ms\tremaining: 0us\n",
      "0:\tlearn: 0.6850094\ttotal: 9.44ms\tremaining: 9.44ms\n",
      "1:\tlearn: 0.6793913\ttotal: 18.6ms\tremaining: 0us\n",
      "0:\tlearn: 0.6927105\ttotal: 9.81ms\tremaining: 19.6ms\n",
      "1:\tlearn: 0.6922876\ttotal: 19.5ms\tremaining: 9.75ms\n",
      "2:\tlearn: 0.6918434\ttotal: 26.7ms\tremaining: 0us\n",
      "0:\tlearn: 0.6926763\ttotal: 10ms\tremaining: 20.1ms\n",
      "1:\tlearn: 0.6922153\ttotal: 19.7ms\tremaining: 9.83ms\n",
      "2:\tlearn: 0.6917699\ttotal: 27.1ms\tremaining: 0us\n",
      "0:\tlearn: 0.6926980\ttotal: 9.5ms\tremaining: 19ms\n",
      "1:\tlearn: 0.6922427\ttotal: 19.4ms\tremaining: 9.7ms\n",
      "2:\tlearn: 0.6917992\ttotal: 26.8ms\tremaining: 0us\n",
      "0:\tlearn: 0.6927122\ttotal: 9.81ms\tremaining: 19.6ms\n",
      "1:\tlearn: 0.6923019\ttotal: 19.2ms\tremaining: 9.58ms\n",
      "2:\tlearn: 0.6919203\ttotal: 28.8ms\tremaining: 0us\n",
      "0:\tlearn: 0.6926976\ttotal: 9.65ms\tremaining: 19.3ms\n",
      "1:\tlearn: 0.6922653\ttotal: 18.9ms\tremaining: 9.43ms\n",
      "2:\tlearn: 0.6918582\ttotal: 28.6ms\tremaining: 0us\n",
      "0:\tlearn: 0.6889763\ttotal: 9.65ms\tremaining: 19.3ms\n",
      "1:\tlearn: 0.6859347\ttotal: 19.4ms\tremaining: 9.71ms\n",
      "2:\tlearn: 0.6828783\ttotal: 27ms\tremaining: 0us\n",
      "0:\tlearn: 0.6886501\ttotal: 9.87ms\tremaining: 19.7ms\n",
      "1:\tlearn: 0.6851197\ttotal: 19.9ms\tremaining: 9.95ms\n",
      "2:\tlearn: 0.6820839\ttotal: 27.9ms\tremaining: 0us\n",
      "0:\tlearn: 0.6888573\ttotal: 9.84ms\tremaining: 19.7ms\n",
      "1:\tlearn: 0.6857016\ttotal: 19.4ms\tremaining: 9.71ms\n",
      "2:\tlearn: 0.6825264\ttotal: 27ms\tremaining: 0us\n",
      "0:\tlearn: 0.6889933\ttotal: 10ms\tremaining: 20ms\n",
      "1:\tlearn: 0.6857356\ttotal: 19.8ms\tremaining: 9.9ms\n",
      "2:\tlearn: 0.6830084\ttotal: 29.3ms\tremaining: 0us\n",
      "0:\tlearn: 0.6888535\ttotal: 9.71ms\tremaining: 19.4ms\n",
      "1:\tlearn: 0.6852342\ttotal: 19.3ms\tremaining: 9.64ms\n",
      "2:\tlearn: 0.6825215\ttotal: 29.4ms\tremaining: 0us\n",
      "0:\tlearn: 0.6852412\ttotal: 9.61ms\tremaining: 19.2ms\n",
      "1:\tlearn: 0.6800500\ttotal: 18.8ms\tremaining: 9.39ms\n",
      "2:\tlearn: 0.6758076\ttotal: 25.7ms\tremaining: 0us\n",
      "0:\tlearn: 0.6846232\ttotal: 9.64ms\tremaining: 19.3ms\n",
      "1:\tlearn: 0.6796731\ttotal: 19.1ms\tremaining: 9.56ms\n",
      "2:\tlearn: 0.6755698\ttotal: 26.1ms\tremaining: 0us\n",
      "0:\tlearn: 0.6850166\ttotal: 9.57ms\tremaining: 19.1ms\n",
      "1:\tlearn: 0.6800128\ttotal: 19.1ms\tremaining: 9.55ms\n",
      "2:\tlearn: 0.6757455\ttotal: 26.3ms\tremaining: 0us\n",
      "0:\tlearn: 0.6852743\ttotal: 9.48ms\tremaining: 19ms\n",
      "1:\tlearn: 0.6800375\ttotal: 18.9ms\tremaining: 9.43ms\n",
      "2:\tlearn: 0.6762212\ttotal: 28.5ms\tremaining: 0us\n",
      "0:\tlearn: 0.6850094\ttotal: 9.72ms\tremaining: 19.4ms\n",
      "1:\tlearn: 0.6793913\ttotal: 18.9ms\tremaining: 9.46ms\n",
      "2:\tlearn: 0.6752220\ttotal: 28.6ms\tremaining: 0us\n",
      "0:\tlearn: 0.6927105\ttotal: 9.83ms\tremaining: 29.5ms\n",
      "1:\tlearn: 0.6922876\ttotal: 19.5ms\tremaining: 19.5ms\n",
      "2:\tlearn: 0.6918434\ttotal: 26.9ms\tremaining: 8.97ms\n",
      "3:\tlearn: 0.6914169\ttotal: 36.1ms\tremaining: 0us\n",
      "0:\tlearn: 0.6926763\ttotal: 9.65ms\tremaining: 29ms\n",
      "1:\tlearn: 0.6922153\ttotal: 19.2ms\tremaining: 19.2ms\n",
      "2:\tlearn: 0.6917699\ttotal: 26.2ms\tremaining: 8.74ms\n",
      "3:\tlearn: 0.6913311\ttotal: 35.6ms\tremaining: 0us\n",
      "0:\tlearn: 0.6926980\ttotal: 9.66ms\tremaining: 29ms\n",
      "1:\tlearn: 0.6922427\ttotal: 19.1ms\tremaining: 19.1ms\n",
      "2:\tlearn: 0.6917992\ttotal: 26.3ms\tremaining: 8.77ms\n",
      "3:\tlearn: 0.6913711\ttotal: 35.2ms\tremaining: 0us\n",
      "0:\tlearn: 0.6927122\ttotal: 9.45ms\tremaining: 28.4ms\n",
      "1:\tlearn: 0.6923019\ttotal: 18.7ms\tremaining: 18.7ms\n",
      "2:\tlearn: 0.6919203\ttotal: 28.2ms\tremaining: 9.41ms\n",
      "3:\tlearn: 0.6915052\ttotal: 35.7ms\tremaining: 0us\n",
      "0:\tlearn: 0.6926976\ttotal: 9.61ms\tremaining: 28.8ms\n",
      "1:\tlearn: 0.6922653\ttotal: 18.9ms\tremaining: 18.9ms\n",
      "2:\tlearn: 0.6918582\ttotal: 28.3ms\tremaining: 9.42ms\n",
      "3:\tlearn: 0.6914214\ttotal: 35.6ms\tremaining: 0us\n",
      "0:\tlearn: 0.6889763\ttotal: 9.99ms\tremaining: 30ms\n",
      "1:\tlearn: 0.6859347\ttotal: 19.6ms\tremaining: 19.6ms\n",
      "2:\tlearn: 0.6828783\ttotal: 26.7ms\tremaining: 8.9ms\n",
      "3:\tlearn: 0.6802368\ttotal: 36ms\tremaining: 0us\n",
      "0:\tlearn: 0.6886501\ttotal: 9.85ms\tremaining: 29.6ms\n",
      "1:\tlearn: 0.6851197\ttotal: 19.7ms\tremaining: 19.7ms\n",
      "2:\tlearn: 0.6820839\ttotal: 26.9ms\tremaining: 8.96ms\n",
      "3:\tlearn: 0.6796640\ttotal: 35.8ms\tremaining: 0us\n",
      "0:\tlearn: 0.6888573\ttotal: 9.85ms\tremaining: 29.5ms\n",
      "1:\tlearn: 0.6857016\ttotal: 19.9ms\tremaining: 19.9ms\n",
      "2:\tlearn: 0.6825264\ttotal: 27.9ms\tremaining: 9.3ms\n",
      "3:\tlearn: 0.6801373\ttotal: 37.4ms\tremaining: 0us\n",
      "0:\tlearn: 0.6889933\ttotal: 10.5ms\tremaining: 31.5ms\n",
      "1:\tlearn: 0.6857356\ttotal: 20.7ms\tremaining: 20.7ms\n",
      "2:\tlearn: 0.6830084\ttotal: 31.2ms\tremaining: 10.4ms\n",
      "3:\tlearn: 0.6803749\ttotal: 39ms\tremaining: 0us\n",
      "0:\tlearn: 0.6888535\ttotal: 9.75ms\tremaining: 29.2ms\n",
      "1:\tlearn: 0.6852342\ttotal: 19.2ms\tremaining: 19.2ms\n",
      "2:\tlearn: 0.6825215\ttotal: 29ms\tremaining: 9.67ms\n",
      "3:\tlearn: 0.6797798\ttotal: 36.7ms\tremaining: 0us\n",
      "0:\tlearn: 0.6852412\ttotal: 9.87ms\tremaining: 29.6ms\n",
      "1:\tlearn: 0.6800500\ttotal: 19.8ms\tremaining: 19.8ms\n",
      "2:\tlearn: 0.6758076\ttotal: 27.2ms\tremaining: 9.06ms\n",
      "3:\tlearn: 0.6728378\ttotal: 36.7ms\tremaining: 0us\n",
      "0:\tlearn: 0.6846232\ttotal: 9.91ms\tremaining: 29.7ms\n",
      "1:\tlearn: 0.6796731\ttotal: 19.5ms\tremaining: 19.5ms\n",
      "2:\tlearn: 0.6755698\ttotal: 26.8ms\tremaining: 8.93ms\n",
      "3:\tlearn: 0.6726353\ttotal: 35.9ms\tremaining: 0us\n",
      "0:\tlearn: 0.6850166\ttotal: 9.73ms\tremaining: 29.2ms\n",
      "1:\tlearn: 0.6800128\ttotal: 19.5ms\tremaining: 19.5ms\n",
      "2:\tlearn: 0.6757455\ttotal: 26.7ms\tremaining: 8.91ms\n",
      "3:\tlearn: 0.6729439\ttotal: 36ms\tremaining: 0us\n",
      "0:\tlearn: 0.6852743\ttotal: 9.73ms\tremaining: 29.2ms\n",
      "1:\tlearn: 0.6800375\ttotal: 19ms\tremaining: 19ms\n",
      "2:\tlearn: 0.6762212\ttotal: 28.4ms\tremaining: 9.46ms\n",
      "3:\tlearn: 0.6732182\ttotal: 35.6ms\tremaining: 0us\n",
      "0:\tlearn: 0.6850094\ttotal: 9.83ms\tremaining: 29.5ms\n",
      "1:\tlearn: 0.6793913\ttotal: 19.3ms\tremaining: 19.3ms\n",
      "2:\tlearn: 0.6752220\ttotal: 30.1ms\tremaining: 10ms\n",
      "3:\tlearn: 0.6725952\ttotal: 38.7ms\tremaining: 0us\n",
      "0:\tlearn: 0.6926643\ttotal: 11.5ms\tremaining: 11.5ms\n",
      "1:\tlearn: 0.6922057\ttotal: 22.3ms\tremaining: 0us\n",
      "0:\tlearn: 0.6926407\ttotal: 11.2ms\tremaining: 11.2ms\n",
      "1:\tlearn: 0.6921741\ttotal: 22.4ms\tremaining: 0us\n",
      "0:\tlearn: 0.6926612\ttotal: 11.3ms\tremaining: 11.3ms\n",
      "1:\tlearn: 0.6922055\ttotal: 22.8ms\tremaining: 0us\n",
      "0:\tlearn: 0.6926789\ttotal: 11.2ms\tremaining: 11.2ms\n",
      "1:\tlearn: 0.6922241\ttotal: 20.1ms\tremaining: 0us\n",
      "0:\tlearn: 0.6926640\ttotal: 11.3ms\tremaining: 11.3ms\n",
      "1:\tlearn: 0.6921659\ttotal: 20.3ms\tremaining: 0us\n",
      "0:\tlearn: 0.6885342\ttotal: 11.2ms\tremaining: 11.2ms\n",
      "1:\tlearn: 0.6848438\ttotal: 22.2ms\tremaining: 0us\n",
      "0:\tlearn: 0.6883102\ttotal: 11.1ms\tremaining: 11.1ms\n",
      "1:\tlearn: 0.6845552\ttotal: 22.5ms\tremaining: 0us\n",
      "0:\tlearn: 0.6885054\ttotal: 11.7ms\tremaining: 11.7ms\n",
      "1:\tlearn: 0.6848013\ttotal: 22.6ms\tremaining: 0us\n",
      "0:\tlearn: 0.6886755\ttotal: 11ms\tremaining: 11ms\n",
      "1:\tlearn: 0.6850058\ttotal: 19.8ms\tremaining: 0us\n",
      "0:\tlearn: 0.6885331\ttotal: 11.1ms\tremaining: 11.1ms\n",
      "1:\tlearn: 0.6844888\ttotal: 20.3ms\tremaining: 0us\n",
      "0:\tlearn: 0.6844009\ttotal: 11.2ms\tremaining: 11.2ms\n",
      "1:\tlearn: 0.6785118\ttotal: 22.1ms\tremaining: 0us\n",
      "0:\tlearn: 0.6839784\ttotal: 11.2ms\tremaining: 11.2ms\n",
      "1:\tlearn: 0.6777863\ttotal: 22.5ms\tremaining: 0us\n",
      "0:\tlearn: 0.6843486\ttotal: 12.1ms\tremaining: 12.1ms\n",
      "1:\tlearn: 0.6782548\ttotal: 24.9ms\tremaining: 0us\n",
      "0:\tlearn: 0.6846714\ttotal: 11.2ms\tremaining: 11.2ms\n",
      "1:\tlearn: 0.6789842\ttotal: 20.2ms\tremaining: 0us\n",
      "0:\tlearn: 0.6844014\ttotal: 10.8ms\tremaining: 10.8ms\n",
      "1:\tlearn: 0.6782675\ttotal: 19.7ms\tremaining: 0us\n",
      "0:\tlearn: 0.6926643\ttotal: 12.6ms\tremaining: 25.1ms\n",
      "1:\tlearn: 0.6922057\ttotal: 25.5ms\tremaining: 12.7ms\n",
      "2:\tlearn: 0.6917707\ttotal: 35.4ms\tremaining: 0us\n",
      "0:\tlearn: 0.6926407\ttotal: 11.6ms\tremaining: 23.2ms\n",
      "1:\tlearn: 0.6921741\ttotal: 22.6ms\tremaining: 11.3ms\n",
      "2:\tlearn: 0.6917375\ttotal: 31.2ms\tremaining: 0us\n",
      "0:\tlearn: 0.6926612\ttotal: 11.6ms\tremaining: 23.2ms\n",
      "1:\tlearn: 0.6922055\ttotal: 22.8ms\tremaining: 11.4ms\n",
      "2:\tlearn: 0.6917667\ttotal: 31.7ms\tremaining: 0us\n",
      "0:\tlearn: 0.6926789\ttotal: 11.1ms\tremaining: 22.2ms\n",
      "1:\tlearn: 0.6922241\ttotal: 20ms\tremaining: 9.98ms\n",
      "2:\tlearn: 0.6917883\ttotal: 28.6ms\tremaining: 0us\n",
      "0:\tlearn: 0.6926640\ttotal: 11.2ms\tremaining: 22.4ms\n",
      "1:\tlearn: 0.6921659\ttotal: 20.3ms\tremaining: 10.1ms\n",
      "2:\tlearn: 0.6917000\ttotal: 29.2ms\tremaining: 0us\n",
      "0:\tlearn: 0.6885342\ttotal: 11.3ms\tremaining: 22.6ms\n",
      "1:\tlearn: 0.6848438\ttotal: 23ms\tremaining: 11.5ms\n",
      "2:\tlearn: 0.6816933\ttotal: 31.7ms\tremaining: 0us\n",
      "0:\tlearn: 0.6883102\ttotal: 11.4ms\tremaining: 22.8ms\n",
      "1:\tlearn: 0.6845552\ttotal: 22.2ms\tremaining: 11.1ms\n",
      "2:\tlearn: 0.6815709\ttotal: 30.6ms\tremaining: 0us\n",
      "0:\tlearn: 0.6885054\ttotal: 11.5ms\tremaining: 23ms\n",
      "1:\tlearn: 0.6848013\ttotal: 23.5ms\tremaining: 11.7ms\n",
      "2:\tlearn: 0.6820876\ttotal: 32.4ms\tremaining: 0us\n",
      "0:\tlearn: 0.6886755\ttotal: 11.1ms\tremaining: 22.3ms\n",
      "1:\tlearn: 0.6850058\ttotal: 19.9ms\tremaining: 9.97ms\n",
      "2:\tlearn: 0.6817062\ttotal: 28.8ms\tremaining: 0us\n",
      "0:\tlearn: 0.6885331\ttotal: 11ms\tremaining: 22ms\n",
      "1:\tlearn: 0.6844888\ttotal: 19.9ms\tremaining: 9.93ms\n",
      "2:\tlearn: 0.6812383\ttotal: 28.8ms\tremaining: 0us\n",
      "0:\tlearn: 0.6844009\ttotal: 11.5ms\tremaining: 23ms\n",
      "1:\tlearn: 0.6785118\ttotal: 23.8ms\tremaining: 11.9ms\n",
      "2:\tlearn: 0.6741316\ttotal: 32.6ms\tremaining: 0us\n",
      "0:\tlearn: 0.6839784\ttotal: 11.5ms\tremaining: 23.1ms\n",
      "1:\tlearn: 0.6777863\ttotal: 23.2ms\tremaining: 11.6ms\n",
      "2:\tlearn: 0.6735586\ttotal: 32ms\tremaining: 0us\n",
      "0:\tlearn: 0.6843486\ttotal: 10.9ms\tremaining: 21.8ms\n",
      "1:\tlearn: 0.6782548\ttotal: 21.9ms\tremaining: 10.9ms\n",
      "2:\tlearn: 0.6746812\ttotal: 30.7ms\tremaining: 0us\n",
      "0:\tlearn: 0.6846714\ttotal: 11.3ms\tremaining: 22.7ms\n",
      "1:\tlearn: 0.6789842\ttotal: 20.7ms\tremaining: 10.4ms\n",
      "2:\tlearn: 0.6741682\ttotal: 29.4ms\tremaining: 0us\n",
      "0:\tlearn: 0.6844014\ttotal: 11.4ms\tremaining: 22.8ms\n",
      "1:\tlearn: 0.6782675\ttotal: 20.2ms\tremaining: 10.1ms\n",
      "2:\tlearn: 0.6738203\ttotal: 29ms\tremaining: 0us\n",
      "0:\tlearn: 0.6926643\ttotal: 11.3ms\tremaining: 33.9ms\n",
      "1:\tlearn: 0.6922057\ttotal: 22.6ms\tremaining: 22.6ms\n",
      "2:\tlearn: 0.6917707\ttotal: 31.3ms\tremaining: 10.4ms\n",
      "3:\tlearn: 0.6913508\ttotal: 39.8ms\tremaining: 0us\n",
      "0:\tlearn: 0.6926407\ttotal: 11.3ms\tremaining: 33.8ms\n",
      "1:\tlearn: 0.6921741\ttotal: 22.6ms\tremaining: 22.6ms\n",
      "2:\tlearn: 0.6917375\ttotal: 31.6ms\tremaining: 10.5ms\n",
      "3:\tlearn: 0.6913059\ttotal: 40.7ms\tremaining: 0us\n",
      "0:\tlearn: 0.6926612\ttotal: 10.8ms\tremaining: 32.5ms\n",
      "1:\tlearn: 0.6922055\ttotal: 22ms\tremaining: 22ms\n",
      "2:\tlearn: 0.6917667\ttotal: 31ms\tremaining: 10.3ms\n",
      "3:\tlearn: 0.6913475\ttotal: 39.9ms\tremaining: 0us\n",
      "0:\tlearn: 0.6926789\ttotal: 10.8ms\tremaining: 32.5ms\n",
      "1:\tlearn: 0.6922241\ttotal: 19.6ms\tremaining: 19.6ms\n",
      "2:\tlearn: 0.6917883\ttotal: 28.2ms\tremaining: 9.38ms\n",
      "3:\tlearn: 0.6913196\ttotal: 38.8ms\tremaining: 0us\n",
      "0:\tlearn: 0.6926640\ttotal: 11.4ms\tremaining: 34.1ms\n",
      "1:\tlearn: 0.6921659\ttotal: 20.8ms\tremaining: 20.8ms\n",
      "2:\tlearn: 0.6917000\ttotal: 29.4ms\tremaining: 9.79ms\n",
      "3:\tlearn: 0.6912115\ttotal: 40.3ms\tremaining: 0us\n",
      "0:\tlearn: 0.6885342\ttotal: 11.4ms\tremaining: 34.3ms\n",
      "1:\tlearn: 0.6848438\ttotal: 22.5ms\tremaining: 22.5ms\n",
      "2:\tlearn: 0.6816933\ttotal: 31.3ms\tremaining: 10.4ms\n",
      "3:\tlearn: 0.6791607\ttotal: 40ms\tremaining: 0us\n",
      "0:\tlearn: 0.6883102\ttotal: 12.8ms\tremaining: 38.5ms\n",
      "1:\tlearn: 0.6845552\ttotal: 25.8ms\tremaining: 25.8ms\n",
      "2:\tlearn: 0.6815709\ttotal: 36.2ms\tremaining: 12.1ms\n",
      "3:\tlearn: 0.6789681\ttotal: 45.6ms\tremaining: 0us\n",
      "0:\tlearn: 0.6885054\ttotal: 11.1ms\tremaining: 33.2ms\n",
      "1:\tlearn: 0.6848013\ttotal: 22.8ms\tremaining: 22.8ms\n",
      "2:\tlearn: 0.6820876\ttotal: 31.8ms\tremaining: 10.6ms\n",
      "3:\tlearn: 0.6795886\ttotal: 40.4ms\tremaining: 0us\n",
      "0:\tlearn: 0.6886755\ttotal: 11.1ms\tremaining: 33.4ms\n",
      "1:\tlearn: 0.6850058\ttotal: 20ms\tremaining: 20ms\n",
      "2:\tlearn: 0.6817062\ttotal: 28.6ms\tremaining: 9.53ms\n",
      "3:\tlearn: 0.6787279\ttotal: 39.4ms\tremaining: 0us\n",
      "0:\tlearn: 0.6885331\ttotal: 12.2ms\tremaining: 36.7ms\n",
      "1:\tlearn: 0.6844888\ttotal: 20.9ms\tremaining: 20.9ms\n",
      "2:\tlearn: 0.6812383\ttotal: 29.5ms\tremaining: 9.82ms\n",
      "3:\tlearn: 0.6781409\ttotal: 40.2ms\tremaining: 0us\n",
      "0:\tlearn: 0.6844009\ttotal: 11.4ms\tremaining: 34.2ms\n",
      "1:\tlearn: 0.6785118\ttotal: 22.2ms\tremaining: 22.2ms\n",
      "2:\tlearn: 0.6741316\ttotal: 30.8ms\tremaining: 10.3ms\n",
      "3:\tlearn: 0.6710275\ttotal: 39.9ms\tremaining: 0us\n",
      "0:\tlearn: 0.6839784\ttotal: 11.4ms\tremaining: 34.1ms\n",
      "1:\tlearn: 0.6777863\ttotal: 23.2ms\tremaining: 23.2ms\n",
      "2:\tlearn: 0.6735586\ttotal: 31.8ms\tremaining: 10.6ms\n",
      "3:\tlearn: 0.6707617\ttotal: 39.9ms\tremaining: 0us\n",
      "0:\tlearn: 0.6843486\ttotal: 10.9ms\tremaining: 32.7ms\n",
      "1:\tlearn: 0.6782548\ttotal: 21.8ms\tremaining: 21.8ms\n",
      "2:\tlearn: 0.6746812\ttotal: 30.1ms\tremaining: 10ms\n",
      "3:\tlearn: 0.6718388\ttotal: 38.5ms\tremaining: 0us\n",
      "0:\tlearn: 0.6846714\ttotal: 11.5ms\tremaining: 34.6ms\n",
      "1:\tlearn: 0.6789842\ttotal: 20.7ms\tremaining: 20.7ms\n",
      "2:\tlearn: 0.6741682\ttotal: 29.8ms\tremaining: 9.93ms\n",
      "3:\tlearn: 0.6706758\ttotal: 41.1ms\tremaining: 0us\n",
      "0:\tlearn: 0.6844014\ttotal: 11.1ms\tremaining: 33.3ms\n",
      "1:\tlearn: 0.6782675\ttotal: 20.1ms\tremaining: 20.1ms\n",
      "2:\tlearn: 0.6738203\ttotal: 29.1ms\tremaining: 9.69ms\n",
      "3:\tlearn: 0.6700183\ttotal: 39.9ms\tremaining: 0us\n",
      "0:\tlearn: 0.6926568\ttotal: 14.2ms\tremaining: 14.2ms\n",
      "1:\tlearn: 0.6921313\ttotal: 27.3ms\tremaining: 0us\n",
      "0:\tlearn: 0.6926367\ttotal: 13.5ms\tremaining: 13.5ms\n",
      "1:\tlearn: 0.6920967\ttotal: 25.2ms\tremaining: 0us\n",
      "0:\tlearn: 0.6926560\ttotal: 13.7ms\tremaining: 13.7ms\n",
      "1:\tlearn: 0.6921289\ttotal: 26.7ms\tremaining: 0us\n",
      "0:\tlearn: 0.6926148\ttotal: 12.5ms\tremaining: 12.5ms\n",
      "1:\tlearn: 0.6921217\ttotal: 23.5ms\tremaining: 0us\n",
      "0:\tlearn: 0.6926073\ttotal: 12.9ms\tremaining: 12.9ms\n",
      "1:\tlearn: 0.6920881\ttotal: 23.8ms\tremaining: 0us\n",
      "0:\tlearn: 0.6884613\ttotal: 14.4ms\tremaining: 14.4ms\n",
      "1:\tlearn: 0.6841529\ttotal: 27.3ms\tremaining: 0us\n",
      "0:\tlearn: 0.6882708\ttotal: 12.7ms\tremaining: 12.7ms\n",
      "1:\tlearn: 0.6838320\ttotal: 24.9ms\tremaining: 0us\n",
      "0:\tlearn: 0.6884553\ttotal: 12.9ms\tremaining: 12.9ms\n",
      "1:\tlearn: 0.6842291\ttotal: 26.2ms\tremaining: 0us\n",
      "0:\tlearn: 0.6880620\ttotal: 13ms\tremaining: 13ms\n",
      "1:\tlearn: 0.6843311\ttotal: 23.8ms\tremaining: 0us\n",
      "0:\tlearn: 0.6879906\ttotal: 12.6ms\tremaining: 12.6ms\n",
      "1:\tlearn: 0.6837096\ttotal: 23.8ms\tremaining: 0us\n",
      "0:\tlearn: 0.6842584\ttotal: 13.1ms\tremaining: 13.1ms\n",
      "1:\tlearn: 0.6774404\ttotal: 25.8ms\tremaining: 0us\n",
      "0:\tlearn: 0.6839019\ttotal: 13.5ms\tremaining: 13.5ms\n",
      "1:\tlearn: 0.6775797\ttotal: 26.4ms\tremaining: 0us\n",
      "0:\tlearn: 0.6842524\ttotal: 12.7ms\tremaining: 12.7ms\n",
      "1:\tlearn: 0.6778379\ttotal: 24.9ms\tremaining: 0us\n",
      "0:\tlearn: 0.6835065\ttotal: 13.2ms\tremaining: 13.2ms\n",
      "1:\tlearn: 0.6774938\ttotal: 23.7ms\tremaining: 0us\n",
      "0:\tlearn: 0.6833706\ttotal: 13ms\tremaining: 13ms\n",
      "1:\tlearn: 0.6771305\ttotal: 23.8ms\tremaining: 0us\n",
      "0:\tlearn: 0.6926568\ttotal: 13ms\tremaining: 26ms\n",
      "1:\tlearn: 0.6921313\ttotal: 25.4ms\tremaining: 12.7ms\n",
      "2:\tlearn: 0.6916149\ttotal: 38.3ms\tremaining: 0us\n",
      "0:\tlearn: 0.6926367\ttotal: 12.9ms\tremaining: 25.9ms\n",
      "1:\tlearn: 0.6920967\ttotal: 25.2ms\tremaining: 12.6ms\n",
      "2:\tlearn: 0.6915779\ttotal: 37.5ms\tremaining: 0us\n",
      "0:\tlearn: 0.6926560\ttotal: 12.8ms\tremaining: 25.5ms\n",
      "1:\tlearn: 0.6921289\ttotal: 25.9ms\tremaining: 13ms\n",
      "2:\tlearn: 0.6916160\ttotal: 42.9ms\tremaining: 0us\n",
      "0:\tlearn: 0.6926148\ttotal: 12.8ms\tremaining: 25.5ms\n",
      "1:\tlearn: 0.6921217\ttotal: 23.8ms\tremaining: 11.9ms\n",
      "2:\tlearn: 0.6916134\ttotal: 36.7ms\tremaining: 0us\n",
      "0:\tlearn: 0.6926073\ttotal: 13.9ms\tremaining: 27.8ms\n",
      "1:\tlearn: 0.6920881\ttotal: 25.8ms\tremaining: 12.9ms\n",
      "2:\tlearn: 0.6915605\ttotal: 38.5ms\tremaining: 0us\n",
      "0:\tlearn: 0.6884613\ttotal: 13.1ms\tremaining: 26.2ms\n",
      "1:\tlearn: 0.6841529\ttotal: 25.6ms\tremaining: 12.8ms\n",
      "2:\tlearn: 0.6805642\ttotal: 38.6ms\tremaining: 0us\n",
      "0:\tlearn: 0.6882708\ttotal: 13ms\tremaining: 26ms\n",
      "1:\tlearn: 0.6838320\ttotal: 25.4ms\tremaining: 12.7ms\n",
      "2:\tlearn: 0.6802201\ttotal: 38.1ms\tremaining: 0us\n",
      "0:\tlearn: 0.6884553\ttotal: 12.7ms\tremaining: 25.5ms\n",
      "1:\tlearn: 0.6842291\ttotal: 25.1ms\tremaining: 12.5ms\n",
      "2:\tlearn: 0.6805315\ttotal: 38.2ms\tremaining: 0us\n",
      "0:\tlearn: 0.6880620\ttotal: 12.5ms\tremaining: 24.9ms\n",
      "1:\tlearn: 0.6843311\ttotal: 23.4ms\tremaining: 11.7ms\n",
      "2:\tlearn: 0.6807313\ttotal: 35.2ms\tremaining: 0us\n",
      "0:\tlearn: 0.6879906\ttotal: 14.1ms\tremaining: 28.2ms\n",
      "1:\tlearn: 0.6837096\ttotal: 25.2ms\tremaining: 12.6ms\n",
      "2:\tlearn: 0.6800946\ttotal: 37.8ms\tremaining: 0us\n",
      "0:\tlearn: 0.6842584\ttotal: 13ms\tremaining: 25.9ms\n",
      "1:\tlearn: 0.6774404\ttotal: 31.5ms\tremaining: 15.8ms\n",
      "2:\tlearn: 0.6724757\ttotal: 44.9ms\tremaining: 0us\n",
      "0:\tlearn: 0.6839019\ttotal: 12.9ms\tremaining: 25.7ms\n",
      "1:\tlearn: 0.6775797\ttotal: 25.1ms\tremaining: 12.5ms\n",
      "2:\tlearn: 0.6724460\ttotal: 37.9ms\tremaining: 0us\n",
      "0:\tlearn: 0.6842524\ttotal: 12.5ms\tremaining: 25ms\n",
      "1:\tlearn: 0.6778379\ttotal: 24.8ms\tremaining: 12.4ms\n",
      "2:\tlearn: 0.6725019\ttotal: 37.3ms\tremaining: 0us\n",
      "0:\tlearn: 0.6835065\ttotal: 12.3ms\tremaining: 24.6ms\n",
      "1:\tlearn: 0.6774938\ttotal: 22.3ms\tremaining: 11.1ms\n",
      "2:\tlearn: 0.6729867\ttotal: 34.7ms\tremaining: 0us\n",
      "0:\tlearn: 0.6833706\ttotal: 12.5ms\tremaining: 24.9ms\n",
      "1:\tlearn: 0.6771305\ttotal: 23ms\tremaining: 11.5ms\n",
      "2:\tlearn: 0.6724260\ttotal: 34.7ms\tremaining: 0us\n",
      "0:\tlearn: 0.6926568\ttotal: 12.9ms\tremaining: 38.6ms\n",
      "1:\tlearn: 0.6921313\ttotal: 25.6ms\tremaining: 25.6ms\n",
      "2:\tlearn: 0.6916149\ttotal: 38.1ms\tremaining: 12.7ms\n",
      "3:\tlearn: 0.6911489\ttotal: 48.5ms\tremaining: 0us\n",
      "0:\tlearn: 0.6926367\ttotal: 13.9ms\tremaining: 41.6ms\n",
      "1:\tlearn: 0.6920967\ttotal: 26.4ms\tremaining: 26.4ms\n",
      "2:\tlearn: 0.6915779\ttotal: 39.2ms\tremaining: 13.1ms\n",
      "3:\tlearn: 0.6910779\ttotal: 50ms\tremaining: 0us\n",
      "0:\tlearn: 0.6926560\ttotal: 12.6ms\tremaining: 37.7ms\n",
      "1:\tlearn: 0.6921289\ttotal: 25ms\tremaining: 25ms\n",
      "2:\tlearn: 0.6916160\ttotal: 37.9ms\tremaining: 12.6ms\n",
      "3:\tlearn: 0.6911257\ttotal: 47.9ms\tremaining: 0us\n",
      "0:\tlearn: 0.6926148\ttotal: 13ms\tremaining: 39.1ms\n",
      "1:\tlearn: 0.6921217\ttotal: 24.2ms\tremaining: 24.2ms\n",
      "2:\tlearn: 0.6916134\ttotal: 36.4ms\tremaining: 12.1ms\n",
      "3:\tlearn: 0.6911313\ttotal: 49ms\tremaining: 0us\n",
      "0:\tlearn: 0.6926073\ttotal: 12.8ms\tremaining: 38.4ms\n",
      "1:\tlearn: 0.6920881\ttotal: 23.4ms\tremaining: 23.4ms\n",
      "2:\tlearn: 0.6915605\ttotal: 35.5ms\tremaining: 11.8ms\n",
      "3:\tlearn: 0.6910391\ttotal: 48.1ms\tremaining: 0us\n",
      "0:\tlearn: 0.6884613\ttotal: 12.7ms\tremaining: 38.2ms\n",
      "1:\tlearn: 0.6841529\ttotal: 25.1ms\tremaining: 25.1ms\n",
      "2:\tlearn: 0.6805642\ttotal: 37.4ms\tremaining: 12.5ms\n",
      "3:\tlearn: 0.6777894\ttotal: 47.7ms\tremaining: 0us\n",
      "0:\tlearn: 0.6882708\ttotal: 12.8ms\tremaining: 38.4ms\n",
      "1:\tlearn: 0.6838320\ttotal: 24.8ms\tremaining: 24.8ms\n",
      "2:\tlearn: 0.6802201\ttotal: 37.4ms\tremaining: 12.5ms\n",
      "3:\tlearn: 0.6772508\ttotal: 47.4ms\tremaining: 0us\n",
      "0:\tlearn: 0.6884553\ttotal: 13ms\tremaining: 39ms\n",
      "1:\tlearn: 0.6842291\ttotal: 25.6ms\tremaining: 25.6ms\n",
      "2:\tlearn: 0.6805315\ttotal: 38.6ms\tremaining: 12.9ms\n",
      "3:\tlearn: 0.6776484\ttotal: 48.8ms\tremaining: 0us\n",
      "0:\tlearn: 0.6880620\ttotal: 12.7ms\tremaining: 38ms\n",
      "1:\tlearn: 0.6843311\ttotal: 22.8ms\tremaining: 22.8ms\n",
      "2:\tlearn: 0.6807313\ttotal: 38.9ms\tremaining: 13ms\n",
      "3:\tlearn: 0.6776100\ttotal: 51.7ms\tremaining: 0us\n",
      "0:\tlearn: 0.6879906\ttotal: 12.7ms\tremaining: 38ms\n",
      "1:\tlearn: 0.6837096\ttotal: 23.6ms\tremaining: 23.6ms\n",
      "2:\tlearn: 0.6800946\ttotal: 36.1ms\tremaining: 12ms\n",
      "3:\tlearn: 0.6769679\ttotal: 48.5ms\tremaining: 0us\n",
      "0:\tlearn: 0.6842584\ttotal: 13ms\tremaining: 38.9ms\n",
      "1:\tlearn: 0.6774404\ttotal: 25.2ms\tremaining: 25.2ms\n",
      "2:\tlearn: 0.6724757\ttotal: 37.5ms\tremaining: 12.5ms\n",
      "3:\tlearn: 0.6692765\ttotal: 47.4ms\tremaining: 0us\n",
      "0:\tlearn: 0.6839019\ttotal: 12.9ms\tremaining: 38.6ms\n",
      "1:\tlearn: 0.6775797\ttotal: 25.4ms\tremaining: 25.4ms\n",
      "2:\tlearn: 0.6724460\ttotal: 37.9ms\tremaining: 12.6ms\n",
      "3:\tlearn: 0.6686873\ttotal: 48.9ms\tremaining: 0us\n",
      "0:\tlearn: 0.6842524\ttotal: 12.7ms\tremaining: 38.2ms\n",
      "1:\tlearn: 0.6778379\ttotal: 25ms\tremaining: 25ms\n",
      "2:\tlearn: 0.6725019\ttotal: 37.3ms\tremaining: 12.4ms\n",
      "3:\tlearn: 0.6693027\ttotal: 47.8ms\tremaining: 0us\n",
      "0:\tlearn: 0.6835065\ttotal: 12.2ms\tremaining: 36.5ms\n",
      "1:\tlearn: 0.6774938\ttotal: 22.8ms\tremaining: 22.8ms\n",
      "2:\tlearn: 0.6729867\ttotal: 34.8ms\tremaining: 11.6ms\n",
      "3:\tlearn: 0.6697193\ttotal: 47ms\tremaining: 0us\n",
      "0:\tlearn: 0.6833706\ttotal: 12.6ms\tremaining: 37.7ms\n",
      "1:\tlearn: 0.6771305\ttotal: 22.5ms\tremaining: 22.5ms\n",
      "2:\tlearn: 0.6724260\ttotal: 34.3ms\tremaining: 11.4ms\n",
      "3:\tlearn: 0.6686967\ttotal: 46.8ms\tremaining: 0us\n",
      "0:\tlearn: 0.6836141\ttotal: 17.3ms\tremaining: 51.8ms\n",
      "1:\tlearn: 0.6768556\ttotal: 29.7ms\tremaining: 29.7ms\n",
      "2:\tlearn: 0.6724024\ttotal: 43.4ms\tremaining: 14.5ms\n",
      "3:\tlearn: 0.6689954\ttotal: 58.4ms\tremaining: 0us\n"
     ]
    }
   ],
   "source": [
    "model_catboost_stat, grid_cv_catboost = model_param(\n",
    "    model_catboost,\n",
    "    param_catboost,\n",
    "    features_train_1,\n",
    "    target_train\n",
    ")"
   ]
  },
  {
   "cell_type": "code",
   "execution_count": 110,
   "metadata": {
    "colab": {
     "base_uri": "https://localhost:8080/"
    },
    "id": "DW0xxSVjdfGQ",
    "outputId": "f18c1765-ebe2-4f88-89fd-48bfe62ebab9"
   },
   "outputs": [
    {
     "data": {
      "text/plain": [
       "[96.54, 0.63]"
      ]
     },
     "execution_count": 110,
     "metadata": {},
     "output_type": "execute_result"
    }
   ],
   "source": [
    "model_catboost_stat"
   ]
  },
  {
   "cell_type": "markdown",
   "metadata": {
    "id": "4Tncp7_mUdUk"
   },
   "source": [
    "### Построение сравнительной таблицы"
   ]
  },
  {
   "cell_type": "code",
   "execution_count": 111,
   "metadata": {
    "colab": {
     "base_uri": "https://localhost:8080/",
     "height": 175
    },
    "id": "2MVaZulndpy9",
    "outputId": "42fdced7-3506-4f59-cd25-cfdff94b7732"
   },
   "outputs": [
    {
     "data": {
      "text/html": [
       "<div>\n",
       "<style scoped>\n",
       "    .dataframe tbody tr th:only-of-type {\n",
       "        vertical-align: middle;\n",
       "    }\n",
       "\n",
       "    .dataframe tbody tr th {\n",
       "        vertical-align: top;\n",
       "    }\n",
       "\n",
       "    .dataframe thead th {\n",
       "        text-align: right;\n",
       "    }\n",
       "</style>\n",
       "<table border=\"1\" class=\"dataframe\">\n",
       "  <thead>\n",
       "    <tr style=\"text-align: right;\">\n",
       "      <th></th>\n",
       "      <th>Время обучения</th>\n",
       "      <th>ROC-AUC</th>\n",
       "    </tr>\n",
       "  </thead>\n",
       "  <tbody>\n",
       "    <tr>\n",
       "      <th>DecisionTree</th>\n",
       "      <td>3.30</td>\n",
       "      <td>0.64</td>\n",
       "    </tr>\n",
       "    <tr>\n",
       "      <th>LogisticRegression</th>\n",
       "      <td>40.52</td>\n",
       "      <td>0.62</td>\n",
       "    </tr>\n",
       "    <tr>\n",
       "      <th>LightGBM</th>\n",
       "      <td>94.17</td>\n",
       "      <td>0.66</td>\n",
       "    </tr>\n",
       "    <tr>\n",
       "      <th>CatBoost</th>\n",
       "      <td>96.54</td>\n",
       "      <td>0.63</td>\n",
       "    </tr>\n",
       "  </tbody>\n",
       "</table>\n",
       "</div>"
      ],
      "text/plain": [
       "                    Время обучения  ROC-AUC\n",
       "DecisionTree                  3.30     0.64\n",
       "LogisticRegression           40.52     0.62\n",
       "LightGBM                     94.17     0.66\n",
       "CatBoost                     96.54     0.63"
      ]
     },
     "execution_count": 111,
     "metadata": {},
     "output_type": "execute_result"
    }
   ],
   "source": [
    "model_param = pd.DataFrame(\n",
    "    [model_stat_tree, model_stat_lr, model_stat_lgbm, model_catboost_stat],\n",
    "    columns = ['Время обучения', 'ROC-AUC'],\n",
    "    index = ['DecisionTree', 'LogisticRegression', 'LightGBM', \\\n",
    "             'CatBoost']\n",
    ")\n",
    "model_param"
   ]
  },
  {
   "cell_type": "markdown",
   "metadata": {
    "id": "Mc8Z6jB8AqeU"
   },
   "source": [
    "Лучшей моделью оказалась LightGBM с ROC-AUC = 0.66, возьмём её для обучения на тестовых данных"
   ]
  },
  {
   "cell_type": "code",
   "execution_count": 112,
   "metadata": {
    "id": "N2_vtOSOdw0w"
   },
   "outputs": [],
   "source": [
    "test_predict = grid_cv_lgbm.predict(features_test_transformed_1)"
   ]
  },
  {
   "cell_type": "code",
   "execution_count": 113,
   "metadata": {
    "colab": {
     "base_uri": "https://localhost:8080/"
    },
    "id": "zWBAVgFWeBCJ",
    "outputId": "14a0d71c-ca81-4de2-b781-581d4ba5add8"
   },
   "outputs": [
    {
     "name": "stdout",
     "output_type": "stream",
     "text": [
      "Значение ROC-AUC на тестовой выборке: 0.61\n"
     ]
    }
   ],
   "source": [
    "test_roc_auc = round(roc_auc_score(target_test, test_predict), 2)\n",
    "print(f'Значение ROC-AUC на тестовой выборке: {test_roc_auc}')"
   ]
  },
  {
   "cell_type": "markdown",
   "metadata": {
    "id": "O7asNA15BZtP"
   },
   "source": [
    "Выводы по разделу:\n",
    "\n",
    "- для обучения выбрали четыре модели: линейную `LogisticRegression` и нелинейные - `DecisionTree`, градиентный бустинг `LightGBM` и `CatBoost`. Метрику для оценки лучшей модели использовали ROC-AUC, поскольку:\n",
    "  - у нас задача бинарной классификации (0 - нет аварии, 1 - авария);\n",
    "  - ROC-AUC основывается на вероятностях (или \"скорингах\", которые модель производит до применения порога), что делает её более подходящей метрикой в условиях, когда важно хорошее ранжирование;\n",
    "  - ROC-AUC измеряет производительность модели независимо от конкретного порога. Это особенно важно, если невозможно заранее определить, что важнее — минимизация ложных положительных результатов или максимизация выявления всех положительных примеров;\n",
    "\n",
    "- лучшей оказалась модель LightGBM со значением ROC-AUC = 0.65 на тренировочных данных, выбрали её для обучения на тестовых данных;\n",
    "\n",
    "- на тестовых данных модель дала показатель ROC-AUC = 0.61."
   ]
  },
  {
   "cell_type": "markdown",
   "metadata": {
    "id": "8MTcx4P0TstY"
   },
   "source": [
    "## Проверка лучшей модели в работе"
   ]
  },
  {
   "cell_type": "markdown",
   "metadata": {
    "id": "yDnDEpYxTvuJ"
   },
   "source": [
    "### Проведём графический анализ «Матрица ошибок»"
   ]
  },
  {
   "cell_type": "code",
   "execution_count": 114,
   "metadata": {
    "id": "8a0B8yaFeRno"
   },
   "outputs": [],
   "source": [
    "def display_confusion_matrix(y_true, y_pred, model_name):\n",
    "    # получение матрицы ошибок\n",
    "    cm = confusion_matrix(y_true, y_pred)\n",
    "\n",
    "    # визуализация матрицы ошибок\n",
    "    plt.figure(figsize=(10, 7))\n",
    "\n",
    "    # отображение информации о каждом квадрате\n",
    "    labels = ['True Negative', 'False Positive',\n",
    "              'False Negative', 'True Positive']\n",
    "    labels = np.asarray(labels).reshape(2, 2)\n",
    "\n",
    "    # расчёт процентного соотношения\n",
    "    cm_sum = np.sum(cm)\n",
    "    cm_perc = cm / cm_sum * 100\n",
    "\n",
    "    # создание тепловой карты\n",
    "    sns.heatmap(cm, annot=True, fmt=\"d\", cmap='Blues')\n",
    "    plt.title(f'Матрица ошибок для {model_name}')\n",
    "    plt.ylabel('Истинный класс')\n",
    "    plt.xlabel('Предсказанный класс')\n",
    "\n",
    "    ax = plt.gca()\n",
    "\n",
    "    # добавление меток\n",
    "    for i in range(2):\n",
    "        for j in range(2):\n",
    "            ax.text(j + 0.5, i + 0.6, '{}\\n({:.2f}%)'.format(labels[i, j],\n",
    "                                                             cm_perc[i, j]),\n",
    "                    ha='center', va='center')\n",
    "\n",
    "    plt.show()\n",
    "\n",
    "    # вывод текстового результата\n",
    "    tn, fp, fn, tp = cm.ravel()\n",
    "    tn_perc, fp_perc, fn_perc, tp_perc = cm_perc.ravel()\n",
    "\n",
    "    print(f\"TN: {tn} ({tn_perc:.2f}%)\")\n",
    "    print(f\"FP: {fp} ({fp_perc:.2f}%)\")\n",
    "    print(f\"FN: {fn} ({fn_perc:.2f}%)\")\n",
    "    print(f\"TP: {tp} ({tp_perc:.2f}%)\")"
   ]
  },
  {
   "cell_type": "code",
   "execution_count": 115,
   "metadata": {
    "colab": {
     "base_uri": "https://localhost:8080/",
     "height": 712
    },
    "id": "xR9DI_pG_4uy",
    "outputId": "d697e4f3-71c8-4e4d-c102-ada189167d93"
   },
   "outputs": [
    {
     "data": {
      "image/png": "[encoded data removed]",
      "text/plain": [
       "<Figure size 720x504 with 2 Axes>"
      ]
     },
     "metadata": {
      "needs_background": "light"
     },
     "output_type": "display_data"
    },
    {
     "name": "stdout",
     "output_type": "stream",
     "text": [
      "TN: 4115 (36.82%)\n",
      "FP: 1629 (14.58%)\n",
      "FN: 2721 (24.35%)\n",
      "TP: 2711 (24.26%)\n"
     ]
    }
   ],
   "source": [
    "# преобразование предсказаний в бинарные метки\n",
    "threshold = 0.5\n",
    "\n",
    "binary_predictions = (test_predict >= threshold).astype(int)\n",
    "\n",
    "display_confusion_matrix(target_test, binary_predictions, 'LightGBM')"
   ]
  },
  {
   "cell_type": "markdown",
   "metadata": {
    "id": "ohXHWl1xEqGW"
   },
   "source": [
    "Данные указывают на следующее:\n",
    "\n",
    "- значение FP (14.61%) говорит о не таком большом количестве ложных срабатываний. Модель не так часто \"предполагает\" аварию там, где её нет;\n",
    "- значение TP (24.22%) — позитивный момент, модель хорошо справляется с предсказанием положительного класса;\n",
    "- примерно такое же количество FN (24.45%) указывает на недостаточно хорошей способности модели обнаруживать события"
   ]
  },
  {
   "cell_type": "code",
   "execution_count": 116,
   "metadata": {
    "colab": {
     "base_uri": "https://localhost:8080/"
    },
    "id": "3I7BlA6IOcPt",
    "outputId": "4cc4641e-e24f-48bc-f3ba-8eff9bae2a93"
   },
   "outputs": [
    {
     "name": "stdout",
     "output_type": "stream",
     "text": [
      "Precision: 0.5\n",
      "Recall: 0.62\n"
     ]
    }
   ],
   "source": [
    "# вычисление метрик precision и recall\n",
    "precision = precision_score(binary_predictions, target_test)\n",
    "recall = recall_score(binary_predictions, target_test)\n",
    "\n",
    "print(\"Precision:\", round(precision, 2))\n",
    "print(\"Recall:\", round(recall, 2))"
   ]
  },
  {
   "cell_type": "markdown",
   "metadata": {
    "id": "tI3Onq94Pwac"
   },
   "source": [
    "Модель правильно определила 62% всех положительных ответов, а также 50% всех ответов, которые она отнесла к положительным."
   ]
  },
  {
   "cell_type": "code",
   "execution_count": 117,
   "metadata": {
    "colab": {
     "base_uri": "https://localhost:8080/",
     "height": 472
    },
    "id": "HiCwMPu7_8k6",
    "outputId": "83aaa0eb-22d8-4d30-9f41-654644862a54"
   },
   "outputs": [
    {
     "data": {
      "image/png": "[encoded data removed]",
      "text/plain": [
       "<Figure size 432x288 with 1 Axes>"
      ]
     },
     "metadata": {
      "needs_background": "light"
     },
     "output_type": "display_data"
    }
   ],
   "source": [
    "# построение графика точность-полнота\n",
    "precision, recall, thresholds = precision_recall_curve(binary_predictions, \\\n",
    "                                                       target_test)\n",
    "\n",
    "fig, ax = plt.subplots()\n",
    "ax.plot(recall, precision)\n",
    "\n",
    "ax.set_title('График Precision-Recall')\n",
    "ax.set_ylabel('Precision')\n",
    "ax.set_xlabel('Recall')\n",
    "\n",
    "plt.show()"
   ]
  },
  {
   "cell_type": "markdown",
   "metadata": {
    "id": "jAh3kWwjXgK1"
   },
   "source": [
    "Точность можно незначительно увеличить, лишь пожертвовав полнотой"
   ]
  },
  {
   "cell_type": "markdown",
   "metadata": {
    "id": "QQ5JFCxYT3rf"
   },
   "source": [
    "### Проанализируем важность основных факторов, влияющих на вероятность аварии"
   ]
  },
  {
   "cell_type": "code",
   "execution_count": 118,
   "metadata": {
    "colab": {
     "base_uri": "https://localhost:8080/",
     "height": 223
    },
    "id": "lvlbIkKGu8TM",
    "outputId": "24c7f2f8-24b1-4d9f-a91f-edd4c44aaff3"
   },
   "outputs": [
    {
     "data": {
      "text/html": [
       "<style>#sk-container-id-1 {\n",
       "  /* Definition of color scheme common for light and dark mode */\n",
       "  --sklearn-color-text: #000;\n",
       "  --sklearn-color-text-muted: #666;\n",
       "  --sklearn-color-line: gray;\n",
       "  /* Definition of color scheme for unfitted estimators */\n",
       "  --sklearn-color-unfitted-level-0: #fff5e6;\n",
       "  --sklearn-color-unfitted-level-1: #f6e4d2;\n",
       "  --sklearn-color-unfitted-level-2: #ffe0b3;\n",
       "  --sklearn-color-unfitted-level-3: chocolate;\n",
       "  /* Definition of color scheme for fitted estimators */\n",
       "  --sklearn-color-fitted-level-0: #f0f8ff;\n",
       "  --sklearn-color-fitted-level-1: #d4ebff;\n",
       "  --sklearn-color-fitted-level-2: #b3dbfd;\n",
       "  --sklearn-color-fitted-level-3: cornflowerblue;\n",
       "\n",
       "  /* Specific color for light theme */\n",
       "  --sklearn-color-text-on-default-background: var(--sg-text-color, var(--theme-code-foreground, var(--jp-content-font-color1, black)));\n",
       "  --sklearn-color-background: var(--sg-background-color, var(--theme-background, var(--jp-layout-color0, white)));\n",
       "  --sklearn-color-border-box: var(--sg-text-color, var(--theme-code-foreground, var(--jp-content-font-color1, black)));\n",
       "  --sklearn-color-icon: #696969;\n",
       "\n",
       "  @media (prefers-color-scheme: dark) {\n",
       "    /* Redefinition of color scheme for dark theme */\n",
       "    --sklearn-color-text-on-default-background: var(--sg-text-color, var(--theme-code-foreground, var(--jp-content-font-color1, white)));\n",
       "    --sklearn-color-background: var(--sg-background-color, var(--theme-background, var(--jp-layout-color0, #111)));\n",
       "    --sklearn-color-border-box: var(--sg-text-color, var(--theme-code-foreground, var(--jp-content-font-color1, white)));\n",
       "    --sklearn-color-icon: #878787;\n",
       "  }\n",
       "}\n",
       "\n",
       "#sk-container-id-1 {\n",
       "  color: var(--sklearn-color-text);\n",
       "}\n",
       "\n",
       "#sk-container-id-1 pre {\n",
       "  padding: 0;\n",
       "}\n",
       "\n",
       "#sk-container-id-1 input.sk-hidden--visually {\n",
       "  border: 0;\n",
       "  clip: rect(1px 1px 1px 1px);\n",
       "  clip: rect(1px, 1px, 1px, 1px);\n",
       "  height: 1px;\n",
       "  margin: -1px;\n",
       "  overflow: hidden;\n",
       "  padding: 0;\n",
       "  position: absolute;\n",
       "  width: 1px;\n",
       "}\n",
       "\n",
       "#sk-container-id-1 div.sk-dashed-wrapped {\n",
       "  border: 1px dashed var(--sklearn-color-line);\n",
       "  margin: 0 0.4em 0.5em 0.4em;\n",
       "  box-sizing: border-box;\n",
       "  padding-bottom: 0.4em;\n",
       "  background-color: var(--sklearn-color-background);\n",
       "}\n",
       "\n",
       "#sk-container-id-1 div.sk-container {\n",
       "  /* jupyter's `normalize.less` sets `[hidden] { display: none; }`\n",
       "     but bootstrap.min.css set `[hidden] { display: none !important; }`\n",
       "     so we also need the `!important` here to be able to override the\n",
       "     default hidden behavior on the sphinx rendered scikit-learn.org.\n",
       "     See: https://github.com/scikit-learn/scikit-learn/issues/21755 */\n",
       "  display: inline-block !important;\n",
       "  position: relative;\n",
       "}\n",
       "\n",
       "#sk-container-id-1 div.sk-text-repr-fallback {\n",
       "  display: none;\n",
       "}\n",
       "\n",
       "div.sk-parallel-item,\n",
       "div.sk-serial,\n",
       "div.sk-item {\n",
       "  /* draw centered vertical line to link estimators */\n",
       "  background-image: linear-gradient(var(--sklearn-color-text-on-default-background), var(--sklearn-color-text-on-default-background));\n",
       "  background-size: 2px 100%;\n",
       "  background-repeat: no-repeat;\n",
       "  background-position: center center;\n",
       "}\n",
       "\n",
       "/* Parallel-specific style estimator block */\n",
       "\n",
       "#sk-container-id-1 div.sk-parallel-item::after {\n",
       "  content: \"\";\n",
       "  width: 100%;\n",
       "  border-bottom: 2px solid var(--sklearn-color-text-on-default-background);\n",
       "  flex-grow: 1;\n",
       "}\n",
       "\n",
       "#sk-container-id-1 div.sk-parallel {\n",
       "  display: flex;\n",
       "  align-items: stretch;\n",
       "  justify-content: center;\n",
       "  background-color: var(--sklearn-color-background);\n",
       "  position: relative;\n",
       "}\n",
       "\n",
       "#sk-container-id-1 div.sk-parallel-item {\n",
       "  display: flex;\n",
       "  flex-direction: column;\n",
       "}\n",
       "\n",
       "#sk-container-id-1 div.sk-parallel-item:first-child::after {\n",
       "  align-self: flex-end;\n",
       "  width: 50%;\n",
       "}\n",
       "\n",
       "#sk-container-id-1 div.sk-parallel-item:last-child::after {\n",
       "  align-self: flex-start;\n",
       "  width: 50%;\n",
       "}\n",
       "\n",
       "#sk-container-id-1 div.sk-parallel-item:only-child::after {\n",
       "  width: 0;\n",
       "}\n",
       "\n",
       "/* Serial-specific style estimator block */\n",
       "\n",
       "#sk-container-id-1 div.sk-serial {\n",
       "  display: flex;\n",
       "  flex-direction: column;\n",
       "  align-items: center;\n",
       "  background-color: var(--sklearn-color-background);\n",
       "  padding-right: 1em;\n",
       "  padding-left: 1em;\n",
       "}\n",
       "\n",
       "\n",
       "/* Toggleable style: style used for estimator/Pipeline/ColumnTransformer box that is\n",
       "clickable and can be expanded/collapsed.\n",
       "- Pipeline and ColumnTransformer use this feature and define the default style\n",
       "- Estimators will overwrite some part of the style using the `sk-estimator` class\n",
       "*/\n",
       "\n",
       "/* Pipeline and ColumnTransformer style (default) */\n",
       "\n",
       "#sk-container-id-1 div.sk-toggleable {\n",
       "  /* Default theme specific background. It is overwritten whether we have a\n",
       "  specific estimator or a Pipeline/ColumnTransformer */\n",
       "  background-color: var(--sklearn-color-background);\n",
       "}\n",
       "\n",
       "/* Toggleable label */\n",
       "#sk-container-id-1 label.sk-toggleable__label {\n",
       "  cursor: pointer;\n",
       "  display: flex;\n",
       "  width: 100%;\n",
       "  margin-bottom: 0;\n",
       "  padding: 0.5em;\n",
       "  box-sizing: border-box;\n",
       "  text-align: center;\n",
       "  align-items: start;\n",
       "  justify-content: space-between;\n",
       "  gap: 0.5em;\n",
       "}\n",
       "\n",
       "#sk-container-id-1 label.sk-toggleable__label .caption {\n",
       "  font-size: 0.6rem;\n",
       "  font-weight: lighter;\n",
       "  color: var(--sklearn-color-text-muted);\n",
       "}\n",
       "\n",
       "#sk-container-id-1 label.sk-toggleable__label-arrow:before {\n",
       "  /* Arrow on the left of the label */\n",
       "  content: \"▸\";\n",
       "  float: left;\n",
       "  margin-right: 0.25em;\n",
       "  color: var(--sklearn-color-icon);\n",
       "}\n",
       "\n",
       "#sk-container-id-1 label.sk-toggleable__label-arrow:hover:before {\n",
       "  color: var(--sklearn-color-text);\n",
       "}\n",
       "\n",
       "/* Toggleable content - dropdown */\n",
       "\n",
       "#sk-container-id-1 div.sk-toggleable__content {\n",
       "  max-height: 0;\n",
       "  max-width: 0;\n",
       "  overflow: hidden;\n",
       "  text-align: left;\n",
       "  /* unfitted */\n",
       "  background-color: var(--sklearn-color-unfitted-level-0);\n",
       "}\n",
       "\n",
       "#sk-container-id-1 div.sk-toggleable__content.fitted {\n",
       "  /* fitted */\n",
       "  background-color: var(--sklearn-color-fitted-level-0);\n",
       "}\n",
       "\n",
       "#sk-container-id-1 div.sk-toggleable__content pre {\n",
       "  margin: 0.2em;\n",
       "  border-radius: 0.25em;\n",
       "  color: var(--sklearn-color-text);\n",
       "  /* unfitted */\n",
       "  background-color: var(--sklearn-color-unfitted-level-0);\n",
       "}\n",
       "\n",
       "#sk-container-id-1 div.sk-toggleable__content.fitted pre {\n",
       "  /* unfitted */\n",
       "  background-color: var(--sklearn-color-fitted-level-0);\n",
       "}\n",
       "\n",
       "#sk-container-id-1 input.sk-toggleable__control:checked~div.sk-toggleable__content {\n",
       "  /* Expand drop-down */\n",
       "  max-height: 200px;\n",
       "  max-width: 100%;\n",
       "  overflow: auto;\n",
       "}\n",
       "\n",
       "#sk-container-id-1 input.sk-toggleable__control:checked~label.sk-toggleable__label-arrow:before {\n",
       "  content: \"▾\";\n",
       "}\n",
       "\n",
       "/* Pipeline/ColumnTransformer-specific style */\n",
       "\n",
       "#sk-container-id-1 div.sk-label input.sk-toggleable__control:checked~label.sk-toggleable__label {\n",
       "  color: var(--sklearn-color-text);\n",
       "  background-color: var(--sklearn-color-unfitted-level-2);\n",
       "}\n",
       "\n",
       "#sk-container-id-1 div.sk-label.fitted input.sk-toggleable__control:checked~label.sk-toggleable__label {\n",
       "  background-color: var(--sklearn-color-fitted-level-2);\n",
       "}\n",
       "\n",
       "/* Estimator-specific style */\n",
       "\n",
       "/* Colorize estimator box */\n",
       "#sk-container-id-1 div.sk-estimator input.sk-toggleable__control:checked~label.sk-toggleable__label {\n",
       "  /* unfitted */\n",
       "  background-color: var(--sklearn-color-unfitted-level-2);\n",
       "}\n",
       "\n",
       "#sk-container-id-1 div.sk-estimator.fitted input.sk-toggleable__control:checked~label.sk-toggleable__label {\n",
       "  /* fitted */\n",
       "  background-color: var(--sklearn-color-fitted-level-2);\n",
       "}\n",
       "\n",
       "#sk-container-id-1 div.sk-label label.sk-toggleable__label,\n",
       "#sk-container-id-1 div.sk-label label {\n",
       "  /* The background is the default theme color */\n",
       "  color: var(--sklearn-color-text-on-default-background);\n",
       "}\n",
       "\n",
       "/* On hover, darken the color of the background */\n",
       "#sk-container-id-1 div.sk-label:hover label.sk-toggleable__label {\n",
       "  color: var(--sklearn-color-text);\n",
       "  background-color: var(--sklearn-color-unfitted-level-2);\n",
       "}\n",
       "\n",
       "/* Label box, darken color on hover, fitted */\n",
       "#sk-container-id-1 div.sk-label.fitted:hover label.sk-toggleable__label.fitted {\n",
       "  color: var(--sklearn-color-text);\n",
       "  background-color: var(--sklearn-color-fitted-level-2);\n",
       "}\n",
       "\n",
       "/* Estimator label */\n",
       "\n",
       "#sk-container-id-1 div.sk-label label {\n",
       "  font-family: monospace;\n",
       "  font-weight: bold;\n",
       "  display: inline-block;\n",
       "  line-height: 1.2em;\n",
       "}\n",
       "\n",
       "#sk-container-id-1 div.sk-label-container {\n",
       "  text-align: center;\n",
       "}\n",
       "\n",
       "/* Estimator-specific */\n",
       "#sk-container-id-1 div.sk-estimator {\n",
       "  font-family: monospace;\n",
       "  border: 1px dotted var(--sklearn-color-border-box);\n",
       "  border-radius: 0.25em;\n",
       "  box-sizing: border-box;\n",
       "  margin-bottom: 0.5em;\n",
       "  /* unfitted */\n",
       "  background-color: var(--sklearn-color-unfitted-level-0);\n",
       "}\n",
       "\n",
       "#sk-container-id-1 div.sk-estimator.fitted {\n",
       "  /* fitted */\n",
       "  background-color: var(--sklearn-color-fitted-level-0);\n",
       "}\n",
       "\n",
       "/* on hover */\n",
       "#sk-container-id-1 div.sk-estimator:hover {\n",
       "  /* unfitted */\n",
       "  background-color: var(--sklearn-color-unfitted-level-2);\n",
       "}\n",
       "\n",
       "#sk-container-id-1 div.sk-estimator.fitted:hover {\n",
       "  /* fitted */\n",
       "  background-color: var(--sklearn-color-fitted-level-2);\n",
       "}\n",
       "\n",
       "/* Specification for estimator info (e.g. \"i\" and \"?\") */\n",
       "\n",
       "/* Common style for \"i\" and \"?\" */\n",
       "\n",
       ".sk-estimator-doc-link,\n",
       "a:link.sk-estimator-doc-link,\n",
       "a:visited.sk-estimator-doc-link {\n",
       "  float: right;\n",
       "  font-size: smaller;\n",
       "  line-height: 1em;\n",
       "  font-family: monospace;\n",
       "  background-color: var(--sklearn-color-background);\n",
       "  border-radius: 1em;\n",
       "  height: 1em;\n",
       "  width: 1em;\n",
       "  text-decoration: none !important;\n",
       "  margin-left: 0.5em;\n",
       "  text-align: center;\n",
       "  /* unfitted */\n",
       "  border: var(--sklearn-color-unfitted-level-1) 1pt solid;\n",
       "  color: var(--sklearn-color-unfitted-level-1);\n",
       "}\n",
       "\n",
       ".sk-estimator-doc-link.fitted,\n",
       "a:link.sk-estimator-doc-link.fitted,\n",
       "a:visited.sk-estimator-doc-link.fitted {\n",
       "  /* fitted */\n",
       "  border: var(--sklearn-color-fitted-level-1) 1pt solid;\n",
       "  color: var(--sklearn-color-fitted-level-1);\n",
       "}\n",
       "\n",
       "/* On hover */\n",
       "div.sk-estimator:hover .sk-estimator-doc-link:hover,\n",
       ".sk-estimator-doc-link:hover,\n",
       "div.sk-label-container:hover .sk-estimator-doc-link:hover,\n",
       ".sk-estimator-doc-link:hover {\n",
       "  /* unfitted */\n",
       "  background-color: var(--sklearn-color-unfitted-level-3);\n",
       "  color: var(--sklearn-color-background);\n",
       "  text-decoration: none;\n",
       "}\n",
       "\n",
       "div.sk-estimator.fitted:hover .sk-estimator-doc-link.fitted:hover,\n",
       ".sk-estimator-doc-link.fitted:hover,\n",
       "div.sk-label-container:hover .sk-estimator-doc-link.fitted:hover,\n",
       ".sk-estimator-doc-link.fitted:hover {\n",
       "  /* fitted */\n",
       "  background-color: var(--sklearn-color-fitted-level-3);\n",
       "  color: var(--sklearn-color-background);\n",
       "  text-decoration: none;\n",
       "}\n",
       "\n",
       "/* Span, style for the box shown on hovering the info icon */\n",
       ".sk-estimator-doc-link span {\n",
       "  display: none;\n",
       "  z-index: 9999;\n",
       "  position: relative;\n",
       "  font-weight: normal;\n",
       "  right: .2ex;\n",
       "  padding: .5ex;\n",
       "  margin: .5ex;\n",
       "  width: min-content;\n",
       "  min-width: 20ex;\n",
       "  max-width: 50ex;\n",
       "  color: var(--sklearn-color-text);\n",
       "  box-shadow: 2pt 2pt 4pt #999;\n",
       "  /* unfitted */\n",
       "  background: var(--sklearn-color-unfitted-level-0);\n",
       "  border: .5pt solid var(--sklearn-color-unfitted-level-3);\n",
       "}\n",
       "\n",
       ".sk-estimator-doc-link.fitted span {\n",
       "  /* fitted */\n",
       "  background: var(--sklearn-color-fitted-level-0);\n",
       "  border: var(--sklearn-color-fitted-level-3);\n",
       "}\n",
       "\n",
       ".sk-estimator-doc-link:hover span {\n",
       "  display: block;\n",
       "}\n",
       "\n",
       "/* \"?\"-specific style due to the `<a>` HTML tag */\n",
       "\n",
       "#sk-container-id-1 a.estimator_doc_link {\n",
       "  float: right;\n",
       "  font-size: 1rem;\n",
       "  line-height: 1em;\n",
       "  font-family: monospace;\n",
       "  background-color: var(--sklearn-color-background);\n",
       "  border-radius: 1rem;\n",
       "  height: 1rem;\n",
       "  width: 1rem;\n",
       "  text-decoration: none;\n",
       "  /* unfitted */\n",
       "  color: var(--sklearn-color-unfitted-level-1);\n",
       "  border: var(--sklearn-color-unfitted-level-1) 1pt solid;\n",
       "}\n",
       "\n",
       "#sk-container-id-1 a.estimator_doc_link.fitted {\n",
       "  /* fitted */\n",
       "  border: var(--sklearn-color-fitted-level-1) 1pt solid;\n",
       "  color: var(--sklearn-color-fitted-level-1);\n",
       "}\n",
       "\n",
       "/* On hover */\n",
       "#sk-container-id-1 a.estimator_doc_link:hover {\n",
       "  /* unfitted */\n",
       "  background-color: var(--sklearn-color-unfitted-level-3);\n",
       "  color: var(--sklearn-color-background);\n",
       "  text-decoration: none;\n",
       "}\n",
       "\n",
       "#sk-container-id-1 a.estimator_doc_link.fitted:hover {\n",
       "  /* fitted */\n",
       "  background-color: var(--sklearn-color-fitted-level-3);\n",
       "}\n",
       "</style><div id=\"sk-container-id-1\" class=\"sk-top-container\"><div class=\"sk-text-repr-fallback\"><pre>LGBMClassifier()</pre><b>In a Jupyter environment, please rerun this cell to show the HTML representation or trust the notebook. <br />On GitHub, the HTML representation is unable to render, please try loading this page with nbviewer.org.</b></div><div class=\"sk-container\" hidden><div class=\"sk-item\"><div class=\"sk-estimator fitted sk-toggleable\"><input class=\"sk-toggleable__control sk-hidden--visually\" id=\"sk-estimator-id-1\" type=\"checkbox\" checked><label for=\"sk-estimator-id-1\" class=\"sk-toggleable__label fitted sk-toggleable__label-arrow\"><div><div>LGBMClassifier</div></div><div><span class=\"sk-estimator-doc-link fitted\">i<span>Fitted</span></span></div></label><div class=\"sk-toggleable__content fitted\"><pre>LGBMClassifier()</pre></div> </div></div></div></div>"
      ],
      "text/plain": [
       "LGBMClassifier()"
      ]
     },
     "execution_count": 118,
     "metadata": {},
     "output_type": "execute_result"
    }
   ],
   "source": [
    "model = LGBMClassifier()\n",
    "model.fit(features_train_transformed_1, target_train)"
   ]
  },
  {
   "cell_type": "code",
   "execution_count": 119,
   "metadata": {
    "colab": {
     "base_uri": "https://localhost:8080/",
     "height": 545
    },
    "id": "CCakMPnBwYht",
    "outputId": "99545ee6-2933-4326-bde4-413ded2337ce"
   },
   "outputs": [
    {
     "data": {
      "image/png": "[encoded data removed]",
      "text/plain": [
       "<Figure size 576x540 with 2 Axes>"
      ]
     },
     "metadata": {
      "needs_background": "light"
     },
     "output_type": "display_data"
    }
   ],
   "source": [
    "features_train_transformed_1 = pd.DataFrame(\n",
    "    features_train_transformed_1,\n",
    "    columns=['distance', 'intersection', 'weather_1', 'location_type', \\\n",
    "             'road_surface', 'road_condition_1', 'lighting', \\\n",
    "             'control_device', 'cellphone_in_use', \\\n",
    "             'vehicle_transmission', 'vehicle_age', 'insurance_premium', \\\n",
    "             'collision_day', 'collision_month', 'collision_hour']\n",
    ")\n",
    "\n",
    "# создание объяснителя\n",
    "explainer = shap.TreeExplainer(model)\n",
    "\n",
    "# расчёт SHAP значений\n",
    "shap_values = explainer(features_train_transformed_1)\n",
    "\n",
    "# визуализация с использованием beeswarm\n",
    "shap.plots.beeswarm(shap_values, max_display=20)"
   ]
  },
  {
   "cell_type": "markdown",
   "metadata": {
    "id": "UAgSp8n7TS04"
   },
   "source": [
    "Все факторы в той или иной степени влияют на вероятность аварии."
   ]
  },
  {
   "cell_type": "markdown",
   "metadata": {
    "id": "GC1NiEBYT7dM"
   },
   "source": [
    "### Проведём дополнительное исследование для фактора   `vehicle_transmission`"
   ]
  },
  {
   "cell_type": "code",
   "execution_count": 120,
   "metadata": {
    "colab": {
     "base_uri": "https://localhost:8080/",
     "height": 641
    },
    "id": "dKR5ZMtGkyDy",
    "outputId": "52c0cd59-5bbd-4410-aa3b-0335866a04ee"
   },
   "outputs": [
    {
     "data": {
      "image/png": "[encoded data removed]",
      "text/plain": [
       "<Figure size 720x504 with 1 Axes>"
      ]
     },
     "metadata": {
      "needs_background": "light"
     },
     "output_type": "display_data"
    }
   ],
   "source": [
    "plt.figure(figsize=(10,7))\n",
    "sns.countplot(data = data, x = 'vehicle_transmission', hue = 'at_fault')\n",
    "plt.title('Зависимость количества аварий от типа коробки передач')\n",
    "plt.xlabel('Тип коробки передач')\n",
    "plt.ylabel('Количество аварий')\n",
    "plt.show()"
   ]
  },
  {
   "cell_type": "markdown",
   "metadata": {
    "id": "S8we-MptKxeE"
   },
   "source": [
    "На графике видно, автомобили с ручной КПП чаще попадают в аварии, чем на \"автомате\". Сервису каршеринга рекомендовано закупать именно последнюю категорию авто."
   ]
  },
  {
   "cell_type": "markdown",
   "metadata": {
    "id": "fIyNqR0TLv83"
   },
   "source": [
    "Выводы по разделу:\n",
    "\n",
    "- провели анализ \"Матрица ошибок\" для лучшей модели, его результаты:\n",
    "  - значение FP (14.61%) говорит о не таком большом количестве ложных срабатываний. Модель не так часто \"предполагает\" аварию там, где её нет;\n",
    "  - значение TP (24.22%) — позитивный момент, модель хорошо справляется с предсказанием положительного класса;\n",
    "  - примерно такое же количество FN (24.45%) указывает на недостаточно хорошей способности модели обнаруживать события;\n",
    "\n",
    "- вычислили метрики `precision` и `recall`. Модель правильно определила 62% всех положительных ответов, а также 50% всех ответов, которые она отнесла к положительным;\n",
    "\n",
    "- визуализировали важность основных факторов, влияющих на вероятность аварии, выбрали признак `vehicle_transmission`, на основании которого сделали вывод, что сервису лучше закупать автомобили с автоматической КПП."
   ]
  },
  {
   "cell_type": "markdown",
   "metadata": {
    "id": "___YC5BQWK14"
   },
   "source": [
    "## Отчёт по исследованию"
   ]
  },
  {
   "cell_type": "markdown",
   "metadata": {
    "id": "9UNN7bQDWOLK"
   },
   "source": [
    "Для решения задачи прогнозирования вероятности риска аварии, были проделаны следующие этапы исследования:\n",
    "\n",
    "- загрузка данных и первичное исследование таблиц:\n",
    "  - загрузили необходимые библиотеки;\n",
    "  - подключились к базе данных;\n",
    "  - все таблицы имеют наборы данных;\n",
    "  - количество таблиц соответствует условию задачи;\n",
    "  - таблицы имеют общий ключ для связи - `case_id`;\n",
    "  - типы данных соответствуют их значениям\n",
    "\n",
    "- статистический анализ факторов аварий:\n",
    "  - выяснили, что в период с января по май происходит наибольшее количество аварий, с пиком в марте. С мая по июнь количество аварий снижается (возможно, связано с праздниками или ещё с каким-то фактором) и далее постепенно снова увеличивается;\n",
    "  - создали 6 задач для коллег и расписали решение двух из них:\n",
    "  - выяснили, что автомобили возрастом от полутора до шести лет чаще попадают в аварии вне зависимости от погодных условий. В сухую ясную погоду количество аварий существенно выше, чем в плохие погодные условия;\n",
    "  - выяснили, что трезвые водители чаще совершают аварии при любых погодных условиях, чем находящиеся под влиянием алкоголя/наркотических веществ. Непогода не увеличивает количество аварий, в сухую ясную погоду оно существенно выше;\n",
    "\n",
    "- создание модели для оценки водительского риска:\n",
    "  - провели первичный отбор факторов, оставив только те признаки, которые можно предсказать или померить в момент начала поездки, а не по факту совершённой аварии. Исключили также те признаки, что логически не должны влиять на факт аварии;\n",
    "  - подготовили набор данных на основе первичного предположения заказчика (тип виновника — только машина (`car`), повреждения в результате аварии - любые значимые, кроме типа SCRATCH (царапина), данные для моделирования - только за 2012 год);\n",
    "  - провели статистический анализ данных: удалили дубликаты, заполнили пропущенные значения в ряде столбцов (преимущественно теми, что имеют большее количество). Если составить карту \"стандартных\" условий для аварийной ситуации, получится следующая картина: автомобиль возрастом около 3,5 лет, ясная погода, скоростное шоссе, сухое покрытие дороги, нормальное состояние дороги, дневное освещение и отсутствие загадочного признака `control_device` (значение `none`);\n",
    "- связь между входными признаками и целевым - слабая по шкале Чеддока;\n",
    "\n",
    "- подготовка данных к моделированию и поиск лучшей модели:\n",
    "  - подготовили признаки и разделили данные на обучающую и тестовую выборки;\n",
    "  - категоризировали исходные данные, трансформировали выборки отдельно для линейной и нелинейных моделей;\n",
    "  - для обучения выбрали четыре модели: линейную `LogisticRegression` и нелинейные - `DecisionTree`, градиентный бустинг `LightGBM` и `CatBoost`. Метрику для оценки лучшей модели использовали ROC-AUC, поскольку:\n",
    "    - у нас задача бинарной классификации (0 - нет аварии, 1 - авария);\n",
    "    - ROC-AUC основывается на вероятностях (или \"скорингах\", которые модель производит до применения порога), что делает её более подходящей метрикой в условиях, когда важно хорошее ранжирование;\n",
    "    - ROC-AUC измеряет производительность модели независимо от конкретного порога. Это особенно важно, если невозможно заранее определить, что важнее — минимизация ложных положительных результатов или максимизация выявления всех положительных примеров;\n",
    "  - лучшей оказалась модель градиентного бустинга LightGBM со значением ROC-AUC = 0.65, выбрали её для обучения на тестовых данных;\n",
    "  - на тестовых данных модель дала показатель ROC-AUC = 0.61;\n",
    "\n",
    "- проверили лучшую модель в работе:\n",
    "  - провели анализ \"Матрица ошибок\" для лучшей модели, его результаты:\n",
    "    - значение FP (14.61%) говорит о не таком большом количестве ложных срабатываний. Модель не так часто \"предполагает\" аварию там, где её нет;\n",
    "    - значение TP (24.22%) — позитивный момент, модель хорошо справляется с предсказанием положительного класса;\n",
    "    - примерно такое же количество FN (24.45%) указывает на недостаточно хорошей способности модели обнаруживать события;\n",
    "  - вычислили метрики `precision` и `recall`. Модель правильно определила 62% всех положительных ответов, а также 50% всех ответов, которые она отнесла к положительным;\n",
    "  - визуализировали важность основных факторов, влияющих на вероятность аварии, выбрали признак `vehicle_transmission`, на основании которого сделали вывод, что сервису лучше закупать автомобили с автоматической КПП.\n",
    "\n",
    "Общие рекомендации для заказчика: на данном этапе создание полноценной системы оценки водительского риска возможно (и модель показывает неплохие результаты работы), однако в будущем стоит принять не только внешние факторы (состояние дорожного покрытия, освещённость, погодные условия), но и данные по водителю (его стаж, история участия в авариях, возраст и т.п.).\n",
    "Стоит подумать об оборудовании автомобилей датчиком определения состояния алкогольного опьянения, встроенным навигатором, учитывающим местность и траффик."
   ]
  }
 ],
 "metadata": {
  "ExecuteTimeLog": [
   {
    "duration": 4225,
    "start_time": "2025-02-18T13:01:33.649Z"
   },
   {
    "duration": 2637,
    "start_time": "2025-02-18T13:01:41.982Z"
   },
   {
    "duration": 2558,
    "start_time": "2025-02-18T13:01:47.960Z"
   },
   {
    "duration": 23948,
    "start_time": "2025-02-18T13:01:54.686Z"
   },
   {
    "duration": 28529,
    "start_time": "2025-02-18T13:02:21.762Z"
   },
   {
    "duration": 2782,
    "start_time": "2025-02-18T13:02:51.116Z"
   },
   {
    "duration": 2713,
    "start_time": "2025-02-18T13:03:52.439Z"
   },
   {
    "duration": 3276,
    "start_time": "2025-02-18T13:03:55.154Z"
   },
   {
    "duration": 2710,
    "start_time": "2025-02-18T13:03:58.432Z"
   },
   {
    "duration": 7098,
    "start_time": "2025-02-18T13:04:01.145Z"
   },
   {
    "duration": 13563,
    "start_time": "2025-02-18T13:04:08.246Z"
   },
   {
    "duration": 3115,
    "start_time": "2025-02-18T13:04:21.811Z"
   },
   {
    "duration": 0,
    "start_time": "2025-02-18T13:04:24.928Z"
   },
   {
    "duration": 2,
    "start_time": "2025-02-18T13:04:54.300Z"
   },
   {
    "duration": 3,
    "start_time": "2025-02-18T13:05:06.215Z"
   },
   {
    "duration": 3,
    "start_time": "2025-02-18T13:05:10.465Z"
   },
   {
    "duration": 21208,
    "start_time": "2025-02-18T13:05:17.491Z"
   },
   {
    "duration": 3,
    "start_time": "2025-02-18T13:05:42.413Z"
   },
   {
    "duration": 256,
    "start_time": "2025-02-18T13:05:53.274Z"
   },
   {
    "duration": 51,
    "start_time": "2025-02-18T13:05:58.311Z"
   },
   {
    "duration": 63,
    "start_time": "2025-02-18T13:06:06.096Z"
   },
   {
    "duration": 53,
    "start_time": "2025-02-18T13:06:13.227Z"
   },
   {
    "duration": 409,
    "start_time": "2025-02-18T13:07:23.024Z"
   },
   {
    "duration": 395,
    "start_time": "2025-02-18T13:07:38.516Z"
   },
   {
    "duration": 527,
    "start_time": "2025-02-18T13:09:21.863Z"
   },
   {
    "duration": 467,
    "start_time": "2025-02-18T13:10:22.277Z"
   },
   {
    "duration": 531,
    "start_time": "2025-02-18T13:12:50.709Z"
   },
   {
    "duration": 460,
    "start_time": "2025-02-18T13:12:55.183Z"
   },
   {
    "duration": 6343,
    "start_time": "2025-02-18T13:13:04.681Z"
   },
   {
    "duration": 292,
    "start_time": "2025-02-18T13:13:31.045Z"
   },
   {
    "duration": 2729,
    "start_time": "2025-02-18T13:15:06.573Z"
   },
   {
    "duration": 2894,
    "start_time": "2025-02-18T13:15:09.305Z"
   },
   {
    "duration": 2807,
    "start_time": "2025-02-18T13:15:12.201Z"
   },
   {
    "duration": 6585,
    "start_time": "2025-02-18T13:15:15.010Z"
   },
   {
    "duration": 13495,
    "start_time": "2025-02-18T13:15:21.598Z"
   },
   {
    "duration": 2359,
    "start_time": "2025-02-18T13:15:35.095Z"
   },
   {
    "duration": 0,
    "start_time": "2025-02-18T13:15:37.456Z"
   },
   {
    "duration": 0,
    "start_time": "2025-02-18T13:15:37.457Z"
   },
   {
    "duration": 0,
    "start_time": "2025-02-18T13:15:37.458Z"
   },
   {
    "duration": 0,
    "start_time": "2025-02-18T13:15:37.460Z"
   },
   {
    "duration": 0,
    "start_time": "2025-02-18T13:15:37.461Z"
   },
   {
    "duration": 0,
    "start_time": "2025-02-18T13:15:37.462Z"
   },
   {
    "duration": 0,
    "start_time": "2025-02-18T13:15:37.464Z"
   },
   {
    "duration": 0,
    "start_time": "2025-02-18T13:15:37.465Z"
   },
   {
    "duration": 0,
    "start_time": "2025-02-18T13:15:37.466Z"
   },
   {
    "duration": 0,
    "start_time": "2025-02-18T13:15:37.468Z"
   },
   {
    "duration": 0,
    "start_time": "2025-02-18T13:15:37.469Z"
   },
   {
    "duration": 0,
    "start_time": "2025-02-18T13:15:37.470Z"
   },
   {
    "duration": 0,
    "start_time": "2025-02-18T13:15:37.471Z"
   },
   {
    "duration": 0,
    "start_time": "2025-02-18T13:15:37.472Z"
   },
   {
    "duration": 0,
    "start_time": "2025-02-18T13:15:37.473Z"
   },
   {
    "duration": 2,
    "start_time": "2025-02-18T13:16:01.762Z"
   },
   {
    "duration": 2,
    "start_time": "2025-02-18T13:16:04.404Z"
   },
   {
    "duration": 3,
    "start_time": "2025-02-18T13:16:05.419Z"
   },
   {
    "duration": 22111,
    "start_time": "2025-02-18T13:16:09.926Z"
   },
   {
    "duration": 4,
    "start_time": "2025-02-18T13:16:33.138Z"
   },
   {
    "duration": 249,
    "start_time": "2025-02-18T13:16:33.827Z"
   },
   {
    "duration": 53,
    "start_time": "2025-02-18T13:16:38.029Z"
   },
   {
    "duration": 65,
    "start_time": "2025-02-18T13:16:41.986Z"
   },
   {
    "duration": 54,
    "start_time": "2025-02-18T13:16:46.863Z"
   },
   {
    "duration": 400,
    "start_time": "2025-02-18T13:16:55.467Z"
   },
   {
    "duration": 449,
    "start_time": "2025-02-18T13:16:55.869Z"
   },
   {
    "duration": 570,
    "start_time": "2025-02-18T13:17:01.695Z"
   },
   {
    "duration": 468,
    "start_time": "2025-02-18T13:17:05.288Z"
   },
   {
    "duration": 6257,
    "start_time": "2025-02-18T13:17:10.583Z"
   },
   {
    "duration": 240,
    "start_time": "2025-02-18T13:17:22.422Z"
   },
   {
    "duration": 274,
    "start_time": "2025-02-18T13:19:29.483Z"
   },
   {
    "duration": 2762,
    "start_time": "2025-02-18T13:19:47.942Z"
   },
   {
    "duration": 2739,
    "start_time": "2025-02-18T13:19:50.707Z"
   },
   {
    "duration": 2618,
    "start_time": "2025-02-18T13:19:53.448Z"
   },
   {
    "duration": 6932,
    "start_time": "2025-02-18T13:19:56.069Z"
   },
   {
    "duration": 3472,
    "start_time": "2025-02-18T13:20:03.004Z"
   },
   {
    "duration": 2147,
    "start_time": "2025-02-18T13:20:06.478Z"
   },
   {
    "duration": 4,
    "start_time": "2025-02-18T13:20:08.626Z"
   },
   {
    "duration": 9,
    "start_time": "2025-02-18T13:20:08.632Z"
   },
   {
    "duration": 5,
    "start_time": "2025-02-18T13:20:08.643Z"
   },
   {
    "duration": 17178,
    "start_time": "2025-02-18T13:20:08.650Z"
   },
   {
    "duration": 4,
    "start_time": "2025-02-18T13:20:25.829Z"
   },
   {
    "duration": 233,
    "start_time": "2025-02-18T13:20:25.834Z"
   },
   {
    "duration": 50,
    "start_time": "2025-02-18T13:20:26.070Z"
   },
   {
    "duration": 59,
    "start_time": "2025-02-18T13:20:26.122Z"
   },
   {
    "duration": 56,
    "start_time": "2025-02-18T13:20:26.182Z"
   },
   {
    "duration": 402,
    "start_time": "2025-02-18T13:20:26.240Z"
   },
   {
    "duration": 380,
    "start_time": "2025-02-18T13:20:26.644Z"
   },
   {
    "duration": 560,
    "start_time": "2025-02-18T13:20:27.029Z"
   },
   {
    "duration": 597,
    "start_time": "2025-02-18T13:20:27.591Z"
   },
   {
    "duration": 6919,
    "start_time": "2025-02-18T13:20:28.190Z"
   },
   {
    "duration": 451,
    "start_time": "2025-02-18T13:20:35.111Z"
   },
   {
    "duration": 10123,
    "start_time": "2025-02-18T13:22:15.401Z"
   },
   {
    "duration": 49,
    "start_time": "2025-02-18T13:22:42.278Z"
   },
   {
    "duration": 45,
    "start_time": "2025-02-18T13:22:50.427Z"
   },
   {
    "duration": 72,
    "start_time": "2025-02-18T13:23:48.418Z"
   },
   {
    "duration": 30,
    "start_time": "2025-02-18T13:24:56.556Z"
   },
   {
    "duration": 54,
    "start_time": "2025-02-18T13:25:39.757Z"
   },
   {
    "duration": 60,
    "start_time": "2025-02-18T13:26:16.650Z"
   },
   {
    "duration": 5,
    "start_time": "2025-02-18T13:26:35.199Z"
   },
   {
    "duration": 38,
    "start_time": "2025-02-18T13:26:41.954Z"
   },
   {
    "duration": 12,
    "start_time": "2025-02-18T13:27:00.711Z"
   },
   {
    "duration": 936,
    "start_time": "2025-02-18T13:27:02.090Z"
   },
   {
    "duration": 22,
    "start_time": "2025-02-18T13:27:09.359Z"
   },
   {
    "duration": 16,
    "start_time": "2025-02-18T13:27:11.651Z"
   },
   {
    "duration": 29,
    "start_time": "2025-02-18T13:28:06.622Z"
   },
   {
    "duration": 633,
    "start_time": "2025-02-18T13:28:09.507Z"
   },
   {
    "duration": 298,
    "start_time": "2025-02-18T13:28:42.138Z"
   },
   {
    "duration": 282,
    "start_time": "2025-02-18T13:28:44.025Z"
   },
   {
    "duration": 262,
    "start_time": "2025-02-18T13:28:44.638Z"
   },
   {
    "duration": 301,
    "start_time": "2025-02-18T13:28:46.454Z"
   },
   {
    "duration": 288,
    "start_time": "2025-02-18T13:28:48.745Z"
   },
   {
    "duration": 313,
    "start_time": "2025-02-18T13:28:50.980Z"
   },
   {
    "duration": 5,
    "start_time": "2025-02-18T13:29:07.126Z"
   },
   {
    "duration": 105,
    "start_time": "2025-02-18T13:29:08.454Z"
   },
   {
    "duration": 242,
    "start_time": "2025-02-18T13:29:11.290Z"
   },
   {
    "duration": 5,
    "start_time": "2025-02-18T13:29:50.734Z"
   },
   {
    "duration": 8,
    "start_time": "2025-02-18T13:29:51.167Z"
   },
   {
    "duration": 7,
    "start_time": "2025-02-18T13:29:51.707Z"
   },
   {
    "duration": 14,
    "start_time": "2025-02-18T13:29:52.370Z"
   },
   {
    "duration": 23,
    "start_time": "2025-02-18T13:29:53.108Z"
   },
   {
    "duration": 11,
    "start_time": "2025-02-18T13:29:53.505Z"
   },
   {
    "duration": 12,
    "start_time": "2025-02-18T13:29:54.949Z"
   },
   {
    "duration": 15,
    "start_time": "2025-02-18T13:29:55.633Z"
   },
   {
    "duration": 9,
    "start_time": "2025-02-18T13:29:56.365Z"
   },
   {
    "duration": 16,
    "start_time": "2025-02-18T13:29:57.283Z"
   },
   {
    "duration": 20,
    "start_time": "2025-02-18T13:29:57.965Z"
   },
   {
    "duration": 13,
    "start_time": "2025-02-18T13:29:58.804Z"
   },
   {
    "duration": 15,
    "start_time": "2025-02-18T13:29:59.393Z"
   },
   {
    "duration": 20,
    "start_time": "2025-02-18T13:30:00.093Z"
   },
   {
    "duration": 12,
    "start_time": "2025-02-18T13:30:03.255Z"
   },
   {
    "duration": 14,
    "start_time": "2025-02-18T13:30:03.476Z"
   },
   {
    "duration": 18,
    "start_time": "2025-02-18T13:30:03.840Z"
   },
   {
    "duration": 11,
    "start_time": "2025-02-18T13:30:05.750Z"
   },
   {
    "duration": 14,
    "start_time": "2025-02-18T13:30:06.483Z"
   },
   {
    "duration": 19,
    "start_time": "2025-02-18T13:30:07.017Z"
   },
   {
    "duration": 12,
    "start_time": "2025-02-18T13:30:08.083Z"
   },
   {
    "duration": 6,
    "start_time": "2025-02-18T13:30:09.813Z"
   },
   {
    "duration": 7,
    "start_time": "2025-02-18T13:30:10.008Z"
   },
   {
    "duration": 7,
    "start_time": "2025-02-18T13:30:10.168Z"
   },
   {
    "duration": 15,
    "start_time": "2025-02-18T13:30:12.032Z"
   },
   {
    "duration": 19,
    "start_time": "2025-02-18T13:30:12.789Z"
   },
   {
    "duration": 11,
    "start_time": "2025-02-18T13:30:14.805Z"
   },
   {
    "duration": 8,
    "start_time": "2025-02-18T13:30:27.037Z"
   },
   {
    "duration": 58,
    "start_time": "2025-02-18T13:30:30.483Z"
   },
   {
    "duration": 76,
    "start_time": "2025-02-18T13:30:40.374Z"
   },
   {
    "duration": 163,
    "start_time": "2025-02-18T13:30:42.144Z"
   },
   {
    "duration": 4551,
    "start_time": "2025-02-18T13:30:56.955Z"
   },
   {
    "duration": 65,
    "start_time": "2025-02-18T13:31:50.659Z"
   },
   {
    "duration": 36,
    "start_time": "2025-02-18T13:31:51.301Z"
   },
   {
    "duration": 4,
    "start_time": "2025-02-18T13:31:58.264Z"
   },
   {
    "duration": 42,
    "start_time": "2025-02-18T13:32:09.009Z"
   },
   {
    "duration": 20,
    "start_time": "2025-02-18T13:32:17.340Z"
   },
   {
    "duration": 4,
    "start_time": "2025-02-18T13:32:18.103Z"
   },
   {
    "duration": 4,
    "start_time": "2025-02-18T13:32:19.956Z"
   },
   {
    "duration": 16,
    "start_time": "2025-02-18T13:32:27.483Z"
   },
   {
    "duration": 5,
    "start_time": "2025-02-18T13:32:30.097Z"
   },
   {
    "duration": 4,
    "start_time": "2025-02-18T13:32:42.533Z"
   },
   {
    "duration": 108,
    "start_time": "2025-02-18T13:32:48.770Z"
   },
   {
    "duration": 190,
    "start_time": "2025-02-18T13:32:59.831Z"
   },
   {
    "duration": 13,
    "start_time": "2025-02-18T13:33:01.006Z"
   },
   {
    "duration": 4,
    "start_time": "2025-02-18T13:33:09.519Z"
   },
   {
    "duration": 273,
    "start_time": "2025-02-18T13:33:09.875Z"
   },
   {
    "duration": 6,
    "start_time": "2025-02-18T13:48:04.774Z"
   },
   {
    "duration": 3,
    "start_time": "2025-02-18T13:48:30.832Z"
   },
   {
    "duration": 39339,
    "start_time": "2025-02-18T13:48:42.377Z"
   },
   {
    "duration": 96,
    "start_time": "2025-02-18T13:49:21.719Z"
   },
   {
    "duration": 4,
    "start_time": "2025-02-18T13:49:56.346Z"
   },
   {
    "duration": 3277,
    "start_time": "2025-02-18T13:50:09.738Z"
   },
   {
    "duration": 3,
    "start_time": "2025-02-18T13:50:21.023Z"
   },
   {
    "duration": 3,
    "start_time": "2025-02-18T13:50:45.713Z"
   },
   {
    "duration": 120,
    "start_time": "2025-02-18T13:50:56.645Z"
   },
   {
    "duration": 3,
    "start_time": "2025-02-18T13:51:07.462Z"
   },
   {
    "duration": 86012,
    "start_time": "2025-02-18T13:51:18.606Z"
   },
   {
    "duration": 4,
    "start_time": "2025-02-18T13:52:44.620Z"
   },
   {
    "duration": 3,
    "start_time": "2025-02-18T13:52:51.162Z"
   },
   {
    "duration": 53,
    "start_time": "2025-02-18T13:52:53.258Z"
   },
   {
    "duration": 4,
    "start_time": "2025-02-18T13:52:54.135Z"
   },
   {
    "duration": 164773,
    "start_time": "2025-02-18T13:52:56.225Z"
   },
   {
    "duration": 3,
    "start_time": "2025-02-18T13:56:15.779Z"
   },
   {
    "duration": 9,
    "start_time": "2025-02-18T13:57:49.263Z"
   },
   {
    "duration": 12,
    "start_time": "2025-02-18T13:58:22.708Z"
   },
   {
    "duration": 14,
    "start_time": "2025-02-18T13:58:36.447Z"
   },
   {
    "duration": 8,
    "start_time": "2025-02-18T13:58:47.560Z"
   },
   {
    "duration": 6,
    "start_time": "2025-02-18T14:02:09.627Z"
   },
   {
    "duration": 328,
    "start_time": "2025-02-18T14:02:16.722Z"
   },
   {
    "duration": 16,
    "start_time": "2025-02-18T14:05:56.660Z"
   },
   {
    "duration": 274,
    "start_time": "2025-02-18T14:07:16.955Z"
   },
   {
    "duration": 8168,
    "start_time": "2025-02-18T14:07:41.251Z"
   },
   {
    "duration": 43456,
    "start_time": "2025-02-18T14:07:55.945Z"
   },
   {
    "duration": 411,
    "start_time": "2025-02-18T14:09:22.306Z"
   },
   {
    "duration": 6962,
    "start_time": "2025-02-18T14:39:11.972Z"
   },
   {
    "duration": 2738,
    "start_time": "2025-02-18T14:39:18.936Z"
   },
   {
    "duration": 2693,
    "start_time": "2025-02-18T14:39:21.677Z"
   },
   {
    "duration": 6916,
    "start_time": "2025-02-18T14:39:24.373Z"
   },
   {
    "duration": 3791,
    "start_time": "2025-02-18T14:39:31.291Z"
   },
   {
    "duration": 2090,
    "start_time": "2025-02-18T14:39:35.084Z"
   },
   {
    "duration": 2,
    "start_time": "2025-02-18T14:39:37.176Z"
   },
   {
    "duration": 14,
    "start_time": "2025-02-18T14:39:37.180Z"
   },
   {
    "duration": 4,
    "start_time": "2025-02-18T14:39:37.196Z"
   },
   {
    "duration": 17790,
    "start_time": "2025-02-18T14:39:37.202Z"
   },
   {
    "duration": 3,
    "start_time": "2025-02-18T14:39:54.994Z"
   },
   {
    "duration": 369,
    "start_time": "2025-02-18T14:39:54.999Z"
   },
   {
    "duration": 48,
    "start_time": "2025-02-18T14:39:55.370Z"
   },
   {
    "duration": 80,
    "start_time": "2025-02-18T14:39:55.420Z"
   },
   {
    "duration": 51,
    "start_time": "2025-02-18T14:39:55.501Z"
   },
   {
    "duration": 400,
    "start_time": "2025-02-18T14:39:55.553Z"
   },
   {
    "duration": 444,
    "start_time": "2025-02-18T14:39:55.955Z"
   },
   {
    "duration": 535,
    "start_time": "2025-02-18T14:39:56.401Z"
   },
   {
    "duration": 615,
    "start_time": "2025-02-18T14:39:56.938Z"
   },
   {
    "duration": 6226,
    "start_time": "2025-02-18T14:39:57.555Z"
   },
   {
    "duration": 387,
    "start_time": "2025-02-18T14:40:03.782Z"
   },
   {
    "duration": 0,
    "start_time": "2025-02-18T14:40:04.173Z"
   },
   {
    "duration": 0,
    "start_time": "2025-02-18T14:40:04.174Z"
   },
   {
    "duration": 0,
    "start_time": "2025-02-18T14:40:04.175Z"
   },
   {
    "duration": 0,
    "start_time": "2025-02-18T14:40:04.176Z"
   },
   {
    "duration": 0,
    "start_time": "2025-02-18T14:40:04.177Z"
   },
   {
    "duration": 0,
    "start_time": "2025-02-18T14:40:04.178Z"
   },
   {
    "duration": 0,
    "start_time": "2025-02-18T14:40:04.214Z"
   },
   {
    "duration": 0,
    "start_time": "2025-02-18T14:40:04.215Z"
   },
   {
    "duration": 0,
    "start_time": "2025-02-18T14:40:04.216Z"
   },
   {
    "duration": 0,
    "start_time": "2025-02-18T14:40:04.217Z"
   },
   {
    "duration": 0,
    "start_time": "2025-02-18T14:40:04.218Z"
   },
   {
    "duration": 0,
    "start_time": "2025-02-18T14:40:04.219Z"
   },
   {
    "duration": 0,
    "start_time": "2025-02-18T14:40:04.220Z"
   },
   {
    "duration": 0,
    "start_time": "2025-02-18T14:40:04.221Z"
   },
   {
    "duration": 0,
    "start_time": "2025-02-18T14:40:04.223Z"
   },
   {
    "duration": 0,
    "start_time": "2025-02-18T14:40:04.224Z"
   },
   {
    "duration": 0,
    "start_time": "2025-02-18T14:40:04.225Z"
   },
   {
    "duration": 0,
    "start_time": "2025-02-18T14:40:04.226Z"
   },
   {
    "duration": 0,
    "start_time": "2025-02-18T14:40:04.227Z"
   },
   {
    "duration": 0,
    "start_time": "2025-02-18T14:40:04.228Z"
   },
   {
    "duration": 0,
    "start_time": "2025-02-18T14:40:04.229Z"
   },
   {
    "duration": 0,
    "start_time": "2025-02-18T14:40:04.230Z"
   },
   {
    "duration": 0,
    "start_time": "2025-02-18T14:40:04.231Z"
   },
   {
    "duration": 0,
    "start_time": "2025-02-18T14:40:04.232Z"
   },
   {
    "duration": 0,
    "start_time": "2025-02-18T14:40:04.233Z"
   },
   {
    "duration": 0,
    "start_time": "2025-02-18T14:40:04.234Z"
   },
   {
    "duration": 0,
    "start_time": "2025-02-18T14:40:04.236Z"
   },
   {
    "duration": 0,
    "start_time": "2025-02-18T14:40:04.237Z"
   },
   {
    "duration": 0,
    "start_time": "2025-02-18T14:40:04.239Z"
   },
   {
    "duration": 0,
    "start_time": "2025-02-18T14:40:04.240Z"
   },
   {
    "duration": 0,
    "start_time": "2025-02-18T14:40:04.242Z"
   },
   {
    "duration": 0,
    "start_time": "2025-02-18T14:40:04.244Z"
   },
   {
    "duration": 0,
    "start_time": "2025-02-18T14:40:04.245Z"
   },
   {
    "duration": 0,
    "start_time": "2025-02-18T14:40:04.246Z"
   },
   {
    "duration": 0,
    "start_time": "2025-02-18T14:40:04.248Z"
   },
   {
    "duration": 0,
    "start_time": "2025-02-18T14:40:04.250Z"
   },
   {
    "duration": 0,
    "start_time": "2025-02-18T14:40:04.251Z"
   },
   {
    "duration": 0,
    "start_time": "2025-02-18T14:40:04.313Z"
   },
   {
    "duration": 0,
    "start_time": "2025-02-18T14:40:04.315Z"
   },
   {
    "duration": 0,
    "start_time": "2025-02-18T14:40:04.316Z"
   },
   {
    "duration": 0,
    "start_time": "2025-02-18T14:40:04.318Z"
   },
   {
    "duration": 0,
    "start_time": "2025-02-18T14:40:04.319Z"
   },
   {
    "duration": 0,
    "start_time": "2025-02-18T14:40:04.321Z"
   },
   {
    "duration": 0,
    "start_time": "2025-02-18T14:40:04.322Z"
   },
   {
    "duration": 0,
    "start_time": "2025-02-18T14:40:04.323Z"
   },
   {
    "duration": 0,
    "start_time": "2025-02-18T14:40:04.325Z"
   },
   {
    "duration": 0,
    "start_time": "2025-02-18T14:40:04.326Z"
   },
   {
    "duration": 0,
    "start_time": "2025-02-18T14:40:04.328Z"
   },
   {
    "duration": 0,
    "start_time": "2025-02-18T14:40:04.329Z"
   },
   {
    "duration": 0,
    "start_time": "2025-02-18T14:40:04.331Z"
   },
   {
    "duration": 0,
    "start_time": "2025-02-18T14:40:04.332Z"
   },
   {
    "duration": 0,
    "start_time": "2025-02-18T14:40:04.334Z"
   },
   {
    "duration": 0,
    "start_time": "2025-02-18T14:40:04.336Z"
   },
   {
    "duration": 0,
    "start_time": "2025-02-18T14:40:04.337Z"
   },
   {
    "duration": 0,
    "start_time": "2025-02-18T14:40:04.339Z"
   },
   {
    "duration": 0,
    "start_time": "2025-02-18T14:40:04.340Z"
   },
   {
    "duration": 0,
    "start_time": "2025-02-18T14:40:04.346Z"
   },
   {
    "duration": 0,
    "start_time": "2025-02-18T14:40:04.348Z"
   },
   {
    "duration": 0,
    "start_time": "2025-02-18T14:40:04.349Z"
   },
   {
    "duration": 0,
    "start_time": "2025-02-18T14:40:04.413Z"
   },
   {
    "duration": 0,
    "start_time": "2025-02-18T14:40:04.416Z"
   },
   {
    "duration": 0,
    "start_time": "2025-02-18T14:40:04.419Z"
   },
   {
    "duration": 0,
    "start_time": "2025-02-18T14:40:04.421Z"
   },
   {
    "duration": 0,
    "start_time": "2025-02-18T14:40:04.422Z"
   },
   {
    "duration": 0,
    "start_time": "2025-02-18T14:40:04.424Z"
   },
   {
    "duration": 0,
    "start_time": "2025-02-18T14:40:04.426Z"
   },
   {
    "duration": 0,
    "start_time": "2025-02-18T14:40:04.428Z"
   },
   {
    "duration": 0,
    "start_time": "2025-02-18T14:40:04.430Z"
   },
   {
    "duration": 0,
    "start_time": "2025-02-18T14:40:04.432Z"
   },
   {
    "duration": 0,
    "start_time": "2025-02-18T14:40:04.434Z"
   },
   {
    "duration": 0,
    "start_time": "2025-02-18T14:40:04.435Z"
   },
   {
    "duration": 0,
    "start_time": "2025-02-18T14:40:04.437Z"
   },
   {
    "duration": 0,
    "start_time": "2025-02-18T14:40:04.438Z"
   },
   {
    "duration": 0,
    "start_time": "2025-02-18T14:40:04.440Z"
   },
   {
    "duration": 0,
    "start_time": "2025-02-18T14:40:04.441Z"
   },
   {
    "duration": 0,
    "start_time": "2025-02-18T14:40:04.442Z"
   },
   {
    "duration": 0,
    "start_time": "2025-02-18T14:40:04.443Z"
   },
   {
    "duration": 0,
    "start_time": "2025-02-18T14:40:04.445Z"
   },
   {
    "duration": 0,
    "start_time": "2025-02-18T14:40:04.446Z"
   },
   {
    "duration": 0,
    "start_time": "2025-02-18T14:40:04.447Z"
   },
   {
    "duration": 0,
    "start_time": "2025-02-18T14:40:04.448Z"
   },
   {
    "duration": 0,
    "start_time": "2025-02-18T14:40:04.450Z"
   },
   {
    "duration": 0,
    "start_time": "2025-02-18T14:40:04.451Z"
   },
   {
    "duration": 0,
    "start_time": "2025-02-18T14:40:04.452Z"
   },
   {
    "duration": 0,
    "start_time": "2025-02-18T14:40:04.514Z"
   },
   {
    "duration": 0,
    "start_time": "2025-02-18T14:40:04.515Z"
   },
   {
    "duration": 0,
    "start_time": "2025-02-18T14:40:04.517Z"
   },
   {
    "duration": 0,
    "start_time": "2025-02-18T14:40:04.518Z"
   },
   {
    "duration": 0,
    "start_time": "2025-02-18T14:40:04.519Z"
   },
   {
    "duration": 0,
    "start_time": "2025-02-18T14:40:04.521Z"
   },
   {
    "duration": 0,
    "start_time": "2025-02-18T14:40:04.522Z"
   },
   {
    "duration": 0,
    "start_time": "2025-02-18T14:40:04.523Z"
   },
   {
    "duration": 0,
    "start_time": "2025-02-18T14:40:04.525Z"
   },
   {
    "duration": 0,
    "start_time": "2025-02-18T14:40:04.526Z"
   },
   {
    "duration": 0,
    "start_time": "2025-02-18T14:40:04.527Z"
   },
   {
    "duration": 0,
    "start_time": "2025-02-18T14:40:04.528Z"
   },
   {
    "duration": 0,
    "start_time": "2025-02-18T14:40:04.529Z"
   },
   {
    "duration": 298,
    "start_time": "2025-02-18T14:44:36.344Z"
   },
   {
    "duration": 288,
    "start_time": "2025-02-18T14:44:43.137Z"
   },
   {
    "duration": 7607,
    "start_time": "2025-02-18T14:44:58.676Z"
   },
   {
    "duration": 2703,
    "start_time": "2025-02-18T14:45:06.285Z"
   },
   {
    "duration": 2753,
    "start_time": "2025-02-18T14:45:08.993Z"
   },
   {
    "duration": 6652,
    "start_time": "2025-02-18T14:45:11.748Z"
   },
   {
    "duration": 3391,
    "start_time": "2025-02-18T14:45:18.402Z"
   },
   {
    "duration": 2365,
    "start_time": "2025-02-18T14:45:21.795Z"
   },
   {
    "duration": 2,
    "start_time": "2025-02-18T14:45:24.162Z"
   },
   {
    "duration": 19,
    "start_time": "2025-02-18T14:45:24.166Z"
   },
   {
    "duration": 3,
    "start_time": "2025-02-18T14:45:24.187Z"
   },
   {
    "duration": 14916,
    "start_time": "2025-02-18T14:45:24.191Z"
   },
   {
    "duration": 3,
    "start_time": "2025-02-18T14:45:39.109Z"
   },
   {
    "duration": 282,
    "start_time": "2025-02-18T14:45:39.113Z"
   },
   {
    "duration": 52,
    "start_time": "2025-02-18T14:45:39.398Z"
   },
   {
    "duration": 62,
    "start_time": "2025-02-18T14:45:39.451Z"
   },
   {
    "duration": 50,
    "start_time": "2025-02-18T14:45:39.515Z"
   },
   {
    "duration": 403,
    "start_time": "2025-02-18T14:45:39.566Z"
   },
   {
    "duration": 403,
    "start_time": "2025-02-18T14:45:39.971Z"
   },
   {
    "duration": 531,
    "start_time": "2025-02-18T14:45:40.376Z"
   },
   {
    "duration": 561,
    "start_time": "2025-02-18T14:45:40.908Z"
   },
   {
    "duration": 6725,
    "start_time": "2025-02-18T14:45:41.471Z"
   },
   {
    "duration": 445,
    "start_time": "2025-02-18T14:45:48.197Z"
   },
   {
    "duration": 0,
    "start_time": "2025-02-18T14:45:48.646Z"
   },
   {
    "duration": 0,
    "start_time": "2025-02-18T14:45:48.648Z"
   },
   {
    "duration": 0,
    "start_time": "2025-02-18T14:45:48.649Z"
   },
   {
    "duration": 0,
    "start_time": "2025-02-18T14:45:48.650Z"
   },
   {
    "duration": 0,
    "start_time": "2025-02-18T14:45:48.651Z"
   },
   {
    "duration": 0,
    "start_time": "2025-02-18T14:45:48.652Z"
   },
   {
    "duration": 0,
    "start_time": "2025-02-18T14:45:48.654Z"
   },
   {
    "duration": 0,
    "start_time": "2025-02-18T14:45:48.655Z"
   },
   {
    "duration": 0,
    "start_time": "2025-02-18T14:45:48.656Z"
   },
   {
    "duration": 0,
    "start_time": "2025-02-18T14:45:48.658Z"
   },
   {
    "duration": 0,
    "start_time": "2025-02-18T14:45:48.659Z"
   },
   {
    "duration": 0,
    "start_time": "2025-02-18T14:45:48.660Z"
   },
   {
    "duration": 0,
    "start_time": "2025-02-18T14:45:48.661Z"
   },
   {
    "duration": 0,
    "start_time": "2025-02-18T14:45:48.662Z"
   },
   {
    "duration": 0,
    "start_time": "2025-02-18T14:45:48.663Z"
   },
   {
    "duration": 0,
    "start_time": "2025-02-18T14:45:48.664Z"
   },
   {
    "duration": 0,
    "start_time": "2025-02-18T14:45:48.666Z"
   },
   {
    "duration": 0,
    "start_time": "2025-02-18T14:45:48.667Z"
   },
   {
    "duration": 0,
    "start_time": "2025-02-18T14:45:48.668Z"
   },
   {
    "duration": 0,
    "start_time": "2025-02-18T14:45:48.669Z"
   },
   {
    "duration": 0,
    "start_time": "2025-02-18T14:45:48.670Z"
   },
   {
    "duration": 0,
    "start_time": "2025-02-18T14:45:48.671Z"
   },
   {
    "duration": 0,
    "start_time": "2025-02-18T14:45:48.673Z"
   },
   {
    "duration": 0,
    "start_time": "2025-02-18T14:45:48.674Z"
   },
   {
    "duration": 0,
    "start_time": "2025-02-18T14:45:48.674Z"
   },
   {
    "duration": 0,
    "start_time": "2025-02-18T14:45:48.675Z"
   },
   {
    "duration": 0,
    "start_time": "2025-02-18T14:45:48.675Z"
   },
   {
    "duration": 0,
    "start_time": "2025-02-18T14:45:48.676Z"
   },
   {
    "duration": 0,
    "start_time": "2025-02-18T14:45:48.713Z"
   },
   {
    "duration": 0,
    "start_time": "2025-02-18T14:45:48.715Z"
   },
   {
    "duration": 0,
    "start_time": "2025-02-18T14:45:48.716Z"
   },
   {
    "duration": 0,
    "start_time": "2025-02-18T14:45:48.717Z"
   },
   {
    "duration": 0,
    "start_time": "2025-02-18T14:45:48.719Z"
   },
   {
    "duration": 0,
    "start_time": "2025-02-18T14:45:48.719Z"
   },
   {
    "duration": 0,
    "start_time": "2025-02-18T14:45:48.720Z"
   },
   {
    "duration": 0,
    "start_time": "2025-02-18T14:45:48.722Z"
   },
   {
    "duration": 0,
    "start_time": "2025-02-18T14:45:48.723Z"
   },
   {
    "duration": 0,
    "start_time": "2025-02-18T14:45:48.724Z"
   },
   {
    "duration": 0,
    "start_time": "2025-02-18T14:45:48.725Z"
   },
   {
    "duration": 0,
    "start_time": "2025-02-18T14:45:48.726Z"
   },
   {
    "duration": 0,
    "start_time": "2025-02-18T14:45:48.728Z"
   },
   {
    "duration": 0,
    "start_time": "2025-02-18T14:45:48.729Z"
   },
   {
    "duration": 0,
    "start_time": "2025-02-18T14:45:48.730Z"
   },
   {
    "duration": 0,
    "start_time": "2025-02-18T14:45:48.731Z"
   },
   {
    "duration": 0,
    "start_time": "2025-02-18T14:45:48.732Z"
   },
   {
    "duration": 0,
    "start_time": "2025-02-18T14:45:48.733Z"
   },
   {
    "duration": 0,
    "start_time": "2025-02-18T14:45:48.734Z"
   },
   {
    "duration": 0,
    "start_time": "2025-02-18T14:45:48.735Z"
   },
   {
    "duration": 0,
    "start_time": "2025-02-18T14:45:48.736Z"
   },
   {
    "duration": 0,
    "start_time": "2025-02-18T14:45:48.738Z"
   },
   {
    "duration": 0,
    "start_time": "2025-02-18T14:45:48.739Z"
   },
   {
    "duration": 0,
    "start_time": "2025-02-18T14:45:48.740Z"
   },
   {
    "duration": 0,
    "start_time": "2025-02-18T14:45:48.741Z"
   },
   {
    "duration": 0,
    "start_time": "2025-02-18T14:45:48.742Z"
   },
   {
    "duration": 0,
    "start_time": "2025-02-18T14:45:48.744Z"
   },
   {
    "duration": 0,
    "start_time": "2025-02-18T14:45:48.745Z"
   },
   {
    "duration": 0,
    "start_time": "2025-02-18T14:45:48.746Z"
   },
   {
    "duration": 0,
    "start_time": "2025-02-18T14:45:48.747Z"
   },
   {
    "duration": 0,
    "start_time": "2025-02-18T14:45:48.749Z"
   },
   {
    "duration": 0,
    "start_time": "2025-02-18T14:45:48.814Z"
   },
   {
    "duration": 0,
    "start_time": "2025-02-18T14:45:48.815Z"
   },
   {
    "duration": 0,
    "start_time": "2025-02-18T14:45:48.816Z"
   },
   {
    "duration": 0,
    "start_time": "2025-02-18T14:45:48.817Z"
   },
   {
    "duration": 0,
    "start_time": "2025-02-18T14:45:48.818Z"
   },
   {
    "duration": 0,
    "start_time": "2025-02-18T14:45:48.819Z"
   },
   {
    "duration": 0,
    "start_time": "2025-02-18T14:45:48.820Z"
   },
   {
    "duration": 0,
    "start_time": "2025-02-18T14:45:48.821Z"
   },
   {
    "duration": 0,
    "start_time": "2025-02-18T14:45:48.822Z"
   },
   {
    "duration": 0,
    "start_time": "2025-02-18T14:45:48.823Z"
   },
   {
    "duration": 0,
    "start_time": "2025-02-18T14:45:48.825Z"
   },
   {
    "duration": 0,
    "start_time": "2025-02-18T14:45:48.826Z"
   },
   {
    "duration": 0,
    "start_time": "2025-02-18T14:45:48.828Z"
   },
   {
    "duration": 0,
    "start_time": "2025-02-18T14:45:48.829Z"
   },
   {
    "duration": 0,
    "start_time": "2025-02-18T14:45:48.832Z"
   },
   {
    "duration": 0,
    "start_time": "2025-02-18T14:45:48.833Z"
   },
   {
    "duration": 0,
    "start_time": "2025-02-18T14:45:48.834Z"
   },
   {
    "duration": 0,
    "start_time": "2025-02-18T14:45:48.836Z"
   },
   {
    "duration": 0,
    "start_time": "2025-02-18T14:45:48.838Z"
   },
   {
    "duration": 0,
    "start_time": "2025-02-18T14:45:48.839Z"
   },
   {
    "duration": 1,
    "start_time": "2025-02-18T14:45:48.840Z"
   },
   {
    "duration": 0,
    "start_time": "2025-02-18T14:45:48.842Z"
   },
   {
    "duration": 0,
    "start_time": "2025-02-18T14:45:48.843Z"
   },
   {
    "duration": 0,
    "start_time": "2025-02-18T14:45:48.845Z"
   },
   {
    "duration": 0,
    "start_time": "2025-02-18T14:45:48.846Z"
   },
   {
    "duration": 0,
    "start_time": "2025-02-18T14:45:48.848Z"
   },
   {
    "duration": 0,
    "start_time": "2025-02-18T14:45:48.849Z"
   },
   {
    "duration": 0,
    "start_time": "2025-02-18T14:45:48.851Z"
   },
   {
    "duration": 0,
    "start_time": "2025-02-18T14:45:48.852Z"
   },
   {
    "duration": 0,
    "start_time": "2025-02-18T14:45:48.915Z"
   },
   {
    "duration": 0,
    "start_time": "2025-02-18T14:45:48.917Z"
   },
   {
    "duration": 0,
    "start_time": "2025-02-18T14:45:48.919Z"
   },
   {
    "duration": 0,
    "start_time": "2025-02-18T14:45:48.921Z"
   },
   {
    "duration": 0,
    "start_time": "2025-02-18T14:45:48.922Z"
   },
   {
    "duration": 0,
    "start_time": "2025-02-18T14:45:48.923Z"
   },
   {
    "duration": 0,
    "start_time": "2025-02-18T14:45:48.925Z"
   },
   {
    "duration": 0,
    "start_time": "2025-02-18T14:45:48.926Z"
   },
   {
    "duration": 0,
    "start_time": "2025-02-18T14:45:48.928Z"
   },
   {
    "duration": 9866,
    "start_time": "2025-02-18T14:46:36.482Z"
   },
   {
    "duration": 50,
    "start_time": "2025-02-18T14:46:52.275Z"
   },
   {
    "duration": 82,
    "start_time": "2025-02-18T14:46:56.107Z"
   },
   {
    "duration": 26,
    "start_time": "2025-02-18T14:46:58.194Z"
   },
   {
    "duration": 41,
    "start_time": "2025-02-18T14:46:59.038Z"
   },
   {
    "duration": 59,
    "start_time": "2025-02-18T14:47:01.859Z"
   },
   {
    "duration": 4,
    "start_time": "2025-02-18T14:47:04.368Z"
   },
   {
    "duration": 39,
    "start_time": "2025-02-18T14:47:06.429Z"
   },
   {
    "duration": 6,
    "start_time": "2025-02-18T14:47:08.496Z"
   },
   {
    "duration": 846,
    "start_time": "2025-02-18T14:47:10.693Z"
   },
   {
    "duration": 27,
    "start_time": "2025-02-18T14:47:16.268Z"
   },
   {
    "duration": 18,
    "start_time": "2025-02-18T14:47:17.669Z"
   },
   {
    "duration": 24,
    "start_time": "2025-02-18T14:47:18.940Z"
   },
   {
    "duration": 624,
    "start_time": "2025-02-18T14:47:20.573Z"
   },
   {
    "duration": 325,
    "start_time": "2025-02-18T14:47:29.967Z"
   },
   {
    "duration": 287,
    "start_time": "2025-02-18T14:47:32.828Z"
   },
   {
    "duration": 283,
    "start_time": "2025-02-18T14:47:35.020Z"
   },
   {
    "duration": 288,
    "start_time": "2025-02-18T14:47:37.041Z"
   },
   {
    "duration": 304,
    "start_time": "2025-02-18T14:47:38.815Z"
   },
   {
    "duration": 262,
    "start_time": "2025-02-18T14:47:40.537Z"
   },
   {
    "duration": 4,
    "start_time": "2025-02-18T14:47:42.269Z"
   },
   {
    "duration": 112,
    "start_time": "2025-02-18T14:47:45.444Z"
   },
   {
    "duration": 174,
    "start_time": "2025-02-18T14:47:49.364Z"
   },
   {
    "duration": 5,
    "start_time": "2025-02-18T14:47:53.174Z"
   },
   {
    "duration": 7,
    "start_time": "2025-02-18T14:47:54.286Z"
   },
   {
    "duration": 6,
    "start_time": "2025-02-18T14:47:55.148Z"
   },
   {
    "duration": 13,
    "start_time": "2025-02-18T14:47:57.247Z"
   },
   {
    "duration": 18,
    "start_time": "2025-02-18T14:47:57.898Z"
   },
   {
    "duration": 11,
    "start_time": "2025-02-18T14:47:58.703Z"
   },
   {
    "duration": 12,
    "start_time": "2025-02-18T14:48:00.728Z"
   },
   {
    "duration": 13,
    "start_time": "2025-02-18T14:48:01.351Z"
   },
   {
    "duration": 12,
    "start_time": "2025-02-18T14:48:01.974Z"
   },
   {
    "duration": 19,
    "start_time": "2025-02-18T14:48:02.473Z"
   },
   {
    "duration": 17,
    "start_time": "2025-02-18T14:48:04.214Z"
   },
   {
    "duration": 10,
    "start_time": "2025-02-18T14:48:04.565Z"
   },
   {
    "duration": 20,
    "start_time": "2025-02-18T14:48:04.989Z"
   },
   {
    "duration": 19,
    "start_time": "2025-02-18T14:48:06.887Z"
   },
   {
    "duration": 10,
    "start_time": "2025-02-18T14:48:07.202Z"
   },
   {
    "duration": 13,
    "start_time": "2025-02-18T14:48:07.741Z"
   },
   {
    "duration": 19,
    "start_time": "2025-02-18T14:48:09.538Z"
   },
   {
    "duration": 10,
    "start_time": "2025-02-18T14:48:10.176Z"
   },
   {
    "duration": 14,
    "start_time": "2025-02-18T14:48:10.673Z"
   },
   {
    "duration": 19,
    "start_time": "2025-02-18T14:48:12.885Z"
   },
   {
    "duration": 11,
    "start_time": "2025-02-18T14:48:13.414Z"
   },
   {
    "duration": 5,
    "start_time": "2025-02-18T14:48:15.631Z"
   },
   {
    "duration": 6,
    "start_time": "2025-02-18T14:48:16.359Z"
   },
   {
    "duration": 6,
    "start_time": "2025-02-18T14:48:17.156Z"
   },
   {
    "duration": 13,
    "start_time": "2025-02-18T14:48:18.762Z"
   },
   {
    "duration": 18,
    "start_time": "2025-02-18T14:48:19.331Z"
   },
   {
    "duration": 10,
    "start_time": "2025-02-18T14:48:21.052Z"
   },
   {
    "duration": 6,
    "start_time": "2025-02-18T14:48:22.420Z"
   },
   {
    "duration": 41,
    "start_time": "2025-02-18T14:48:26.349Z"
   },
   {
    "duration": 58,
    "start_time": "2025-02-18T14:48:29.229Z"
   },
   {
    "duration": 149,
    "start_time": "2025-02-18T14:48:30.008Z"
   },
   {
    "duration": 3797,
    "start_time": "2025-02-18T14:48:32.917Z"
   },
   {
    "duration": 54,
    "start_time": "2025-02-18T14:48:54.988Z"
   },
   {
    "duration": 34,
    "start_time": "2025-02-18T14:48:55.612Z"
   },
   {
    "duration": 4,
    "start_time": "2025-02-18T14:48:55.972Z"
   },
   {
    "duration": 43,
    "start_time": "2025-02-18T14:48:58.383Z"
   },
   {
    "duration": 19,
    "start_time": "2025-02-18T14:48:59.964Z"
   },
   {
    "duration": 4,
    "start_time": "2025-02-18T14:49:00.686Z"
   },
   {
    "duration": 4,
    "start_time": "2025-02-18T14:49:00.973Z"
   },
   {
    "duration": 16,
    "start_time": "2025-02-18T14:49:02.597Z"
   },
   {
    "duration": 4,
    "start_time": "2025-02-18T14:49:04.167Z"
   },
   {
    "duration": 4,
    "start_time": "2025-02-18T14:49:12.646Z"
   },
   {
    "duration": 109,
    "start_time": "2025-02-18T14:49:14.768Z"
   },
   {
    "duration": 223,
    "start_time": "2025-02-18T14:49:15.062Z"
   },
   {
    "duration": 12,
    "start_time": "2025-02-18T14:49:17.633Z"
   },
   {
    "duration": 3,
    "start_time": "2025-02-18T14:49:18.261Z"
   },
   {
    "duration": 247,
    "start_time": "2025-02-18T14:49:19.894Z"
   },
   {
    "duration": 5,
    "start_time": "2025-02-18T14:49:24.991Z"
   },
   {
    "duration": 3,
    "start_time": "2025-02-18T14:49:31.471Z"
   },
   {
    "duration": 40639,
    "start_time": "2025-02-18T14:49:33.278Z"
   },
   {
    "duration": 4,
    "start_time": "2025-02-18T14:50:16.030Z"
   },
   {
    "duration": 3,
    "start_time": "2025-02-18T14:50:17.634Z"
   },
   {
    "duration": 3119,
    "start_time": "2025-02-18T14:50:21.319Z"
   },
   {
    "duration": 4,
    "start_time": "2025-02-18T14:50:28.138Z"
   },
   {
    "duration": 3,
    "start_time": "2025-02-18T14:50:30.357Z"
   },
   {
    "duration": 109,
    "start_time": "2025-02-18T14:50:31.968Z"
   },
   {
    "duration": 2,
    "start_time": "2025-02-18T14:50:33.366Z"
   },
   {
    "duration": 88125,
    "start_time": "2025-02-18T14:50:34.789Z"
   },
   {
    "duration": 4,
    "start_time": "2025-02-18T14:52:04.979Z"
   },
   {
    "duration": 3,
    "start_time": "2025-02-18T14:52:06.078Z"
   },
   {
    "duration": 45,
    "start_time": "2025-02-18T14:52:09.069Z"
   },
   {
    "duration": 4,
    "start_time": "2025-02-18T14:52:10.249Z"
   },
   {
    "duration": 146383,
    "start_time": "2025-02-18T14:52:12.057Z"
   },
   {
    "duration": 3,
    "start_time": "2025-02-18T14:54:41.867Z"
   },
   {
    "duration": 10,
    "start_time": "2025-02-18T14:54:46.114Z"
   },
   {
    "duration": 14,
    "start_time": "2025-02-18T14:54:51.650Z"
   },
   {
    "duration": 7,
    "start_time": "2025-02-18T14:54:53.456Z"
   },
   {
    "duration": 8,
    "start_time": "2025-02-18T14:55:05.052Z"
   },
   {
    "duration": 330,
    "start_time": "2025-02-18T14:55:06.800Z"
   },
   {
    "duration": 14,
    "start_time": "2025-02-18T14:56:42.024Z"
   },
   {
    "duration": 300,
    "start_time": "2025-02-18T14:57:06.542Z"
   },
   {
    "duration": 1602,
    "start_time": "2025-02-18T14:57:12.518Z"
   },
   {
    "duration": 41702,
    "start_time": "2025-02-18T14:57:14.122Z"
   },
   {
    "duration": 398,
    "start_time": "2025-02-18T14:58:05.618Z"
   },
   {
    "duration": 63,
    "start_time": "2025-02-19T16:58:55.155Z"
   },
   {
    "duration": 5511,
    "start_time": "2025-02-19T16:59:18.955Z"
   },
   {
    "duration": 2710,
    "start_time": "2025-02-19T16:59:24.468Z"
   },
   {
    "duration": 2669,
    "start_time": "2025-02-19T16:59:27.180Z"
   },
   {
    "duration": 45914,
    "start_time": "2025-02-19T16:59:29.851Z"
   },
   {
    "duration": 9456,
    "start_time": "2025-02-19T17:00:15.767Z"
   },
   {
    "duration": 2279,
    "start_time": "2025-02-19T17:00:25.225Z"
   },
   {
    "duration": 2,
    "start_time": "2025-02-19T17:00:27.506Z"
   },
   {
    "duration": 8,
    "start_time": "2025-02-19T17:00:27.510Z"
   },
   {
    "duration": 5,
    "start_time": "2025-02-19T17:00:27.520Z"
   },
   {
    "duration": 9523,
    "start_time": "2025-02-19T17:00:27.528Z"
   },
   {
    "duration": 4,
    "start_time": "2025-02-19T17:00:37.052Z"
   },
   {
    "duration": 82,
    "start_time": "2025-02-19T17:00:37.058Z"
   },
   {
    "duration": 20,
    "start_time": "2025-02-19T17:00:37.142Z"
   },
   {
    "duration": 45,
    "start_time": "2025-02-19T17:00:37.164Z"
   },
   {
    "duration": 22,
    "start_time": "2025-02-19T17:00:37.210Z"
   },
   {
    "duration": 390,
    "start_time": "2025-02-19T17:00:37.234Z"
   },
   {
    "duration": 3,
    "start_time": "2025-02-19T17:00:37.626Z"
   },
   {
    "duration": 1404,
    "start_time": "2025-02-19T17:00:37.630Z"
   },
   {
    "duration": 369,
    "start_time": "2025-02-19T17:00:39.036Z"
   },
   {
    "duration": 511,
    "start_time": "2025-02-19T17:00:39.406Z"
   },
   {
    "duration": 337,
    "start_time": "2025-02-19T17:00:39.918Z"
   },
   {
    "duration": 6080,
    "start_time": "2025-02-19T17:00:40.256Z"
   },
   {
    "duration": 296,
    "start_time": "2025-02-19T17:00:46.338Z"
   },
   {
    "duration": 0,
    "start_time": "2025-02-19T17:00:46.639Z"
   },
   {
    "duration": 0,
    "start_time": "2025-02-19T17:00:46.640Z"
   },
   {
    "duration": 0,
    "start_time": "2025-02-19T17:00:46.642Z"
   },
   {
    "duration": 0,
    "start_time": "2025-02-19T17:00:46.642Z"
   },
   {
    "duration": 0,
    "start_time": "2025-02-19T17:00:46.644Z"
   },
   {
    "duration": 0,
    "start_time": "2025-02-19T17:00:46.645Z"
   },
   {
    "duration": 0,
    "start_time": "2025-02-19T17:00:46.646Z"
   },
   {
    "duration": 0,
    "start_time": "2025-02-19T17:00:46.648Z"
   },
   {
    "duration": 0,
    "start_time": "2025-02-19T17:00:46.649Z"
   },
   {
    "duration": 0,
    "start_time": "2025-02-19T17:00:46.650Z"
   },
   {
    "duration": 0,
    "start_time": "2025-02-19T17:00:46.672Z"
   },
   {
    "duration": 0,
    "start_time": "2025-02-19T17:00:46.673Z"
   },
   {
    "duration": 0,
    "start_time": "2025-02-19T17:00:46.674Z"
   },
   {
    "duration": 0,
    "start_time": "2025-02-19T17:00:46.675Z"
   },
   {
    "duration": 0,
    "start_time": "2025-02-19T17:00:46.676Z"
   },
   {
    "duration": 0,
    "start_time": "2025-02-19T17:00:46.677Z"
   },
   {
    "duration": 0,
    "start_time": "2025-02-19T17:00:46.678Z"
   },
   {
    "duration": 0,
    "start_time": "2025-02-19T17:00:46.679Z"
   },
   {
    "duration": 0,
    "start_time": "2025-02-19T17:00:46.680Z"
   },
   {
    "duration": 0,
    "start_time": "2025-02-19T17:00:46.682Z"
   },
   {
    "duration": 0,
    "start_time": "2025-02-19T17:00:46.683Z"
   },
   {
    "duration": 0,
    "start_time": "2025-02-19T17:00:46.685Z"
   },
   {
    "duration": 0,
    "start_time": "2025-02-19T17:00:46.685Z"
   },
   {
    "duration": 0,
    "start_time": "2025-02-19T17:00:46.686Z"
   },
   {
    "duration": 0,
    "start_time": "2025-02-19T17:00:46.688Z"
   },
   {
    "duration": 0,
    "start_time": "2025-02-19T17:00:46.689Z"
   },
   {
    "duration": 0,
    "start_time": "2025-02-19T17:00:46.690Z"
   },
   {
    "duration": 0,
    "start_time": "2025-02-19T17:00:46.691Z"
   },
   {
    "duration": 0,
    "start_time": "2025-02-19T17:00:46.692Z"
   },
   {
    "duration": 0,
    "start_time": "2025-02-19T17:00:46.693Z"
   },
   {
    "duration": 0,
    "start_time": "2025-02-19T17:00:46.694Z"
   },
   {
    "duration": 0,
    "start_time": "2025-02-19T17:00:46.696Z"
   },
   {
    "duration": 0,
    "start_time": "2025-02-19T17:00:46.697Z"
   },
   {
    "duration": 0,
    "start_time": "2025-02-19T17:00:46.698Z"
   },
   {
    "duration": 0,
    "start_time": "2025-02-19T17:00:46.699Z"
   },
   {
    "duration": 0,
    "start_time": "2025-02-19T17:00:46.700Z"
   },
   {
    "duration": 0,
    "start_time": "2025-02-19T17:00:46.702Z"
   },
   {
    "duration": 0,
    "start_time": "2025-02-19T17:00:46.703Z"
   },
   {
    "duration": 0,
    "start_time": "2025-02-19T17:00:46.704Z"
   },
   {
    "duration": 0,
    "start_time": "2025-02-19T17:00:46.705Z"
   },
   {
    "duration": 0,
    "start_time": "2025-02-19T17:00:46.706Z"
   },
   {
    "duration": 0,
    "start_time": "2025-02-19T17:00:46.707Z"
   },
   {
    "duration": 0,
    "start_time": "2025-02-19T17:00:46.774Z"
   },
   {
    "duration": 0,
    "start_time": "2025-02-19T17:00:46.775Z"
   },
   {
    "duration": 0,
    "start_time": "2025-02-19T17:00:46.776Z"
   },
   {
    "duration": 0,
    "start_time": "2025-02-19T17:00:46.777Z"
   },
   {
    "duration": 0,
    "start_time": "2025-02-19T17:00:46.779Z"
   },
   {
    "duration": 0,
    "start_time": "2025-02-19T17:00:46.780Z"
   },
   {
    "duration": 0,
    "start_time": "2025-02-19T17:00:46.781Z"
   },
   {
    "duration": 0,
    "start_time": "2025-02-19T17:00:46.782Z"
   },
   {
    "duration": 0,
    "start_time": "2025-02-19T17:00:46.783Z"
   },
   {
    "duration": 0,
    "start_time": "2025-02-19T17:00:46.785Z"
   },
   {
    "duration": 0,
    "start_time": "2025-02-19T17:00:46.786Z"
   },
   {
    "duration": 0,
    "start_time": "2025-02-19T17:00:46.787Z"
   },
   {
    "duration": 0,
    "start_time": "2025-02-19T17:00:46.788Z"
   },
   {
    "duration": 0,
    "start_time": "2025-02-19T17:00:46.789Z"
   },
   {
    "duration": 0,
    "start_time": "2025-02-19T17:00:46.790Z"
   },
   {
    "duration": 0,
    "start_time": "2025-02-19T17:00:46.792Z"
   },
   {
    "duration": 0,
    "start_time": "2025-02-19T17:00:46.792Z"
   },
   {
    "duration": 0,
    "start_time": "2025-02-19T17:00:46.794Z"
   },
   {
    "duration": 0,
    "start_time": "2025-02-19T17:00:46.795Z"
   },
   {
    "duration": 0,
    "start_time": "2025-02-19T17:00:46.796Z"
   },
   {
    "duration": 0,
    "start_time": "2025-02-19T17:00:46.797Z"
   },
   {
    "duration": 0,
    "start_time": "2025-02-19T17:00:46.798Z"
   },
   {
    "duration": 0,
    "start_time": "2025-02-19T17:00:46.799Z"
   },
   {
    "duration": 0,
    "start_time": "2025-02-19T17:00:46.801Z"
   },
   {
    "duration": 0,
    "start_time": "2025-02-19T17:00:46.802Z"
   },
   {
    "duration": 0,
    "start_time": "2025-02-19T17:00:46.803Z"
   },
   {
    "duration": 0,
    "start_time": "2025-02-19T17:00:46.804Z"
   },
   {
    "duration": 0,
    "start_time": "2025-02-19T17:00:46.806Z"
   },
   {
    "duration": 0,
    "start_time": "2025-02-19T17:00:46.807Z"
   },
   {
    "duration": 0,
    "start_time": "2025-02-19T17:00:46.808Z"
   },
   {
    "duration": 0,
    "start_time": "2025-02-19T17:00:46.809Z"
   },
   {
    "duration": 0,
    "start_time": "2025-02-19T17:00:46.873Z"
   },
   {
    "duration": 0,
    "start_time": "2025-02-19T17:00:46.874Z"
   },
   {
    "duration": 0,
    "start_time": "2025-02-19T17:00:46.875Z"
   },
   {
    "duration": 0,
    "start_time": "2025-02-19T17:00:46.876Z"
   },
   {
    "duration": 0,
    "start_time": "2025-02-19T17:00:46.878Z"
   },
   {
    "duration": 0,
    "start_time": "2025-02-19T17:00:46.879Z"
   },
   {
    "duration": 0,
    "start_time": "2025-02-19T17:00:46.880Z"
   },
   {
    "duration": 0,
    "start_time": "2025-02-19T17:00:46.881Z"
   },
   {
    "duration": 0,
    "start_time": "2025-02-19T17:00:46.882Z"
   },
   {
    "duration": 0,
    "start_time": "2025-02-19T17:00:46.884Z"
   },
   {
    "duration": 0,
    "start_time": "2025-02-19T17:00:46.884Z"
   },
   {
    "duration": 0,
    "start_time": "2025-02-19T17:00:46.886Z"
   },
   {
    "duration": 0,
    "start_time": "2025-02-19T17:00:46.887Z"
   },
   {
    "duration": 0,
    "start_time": "2025-02-19T17:00:46.889Z"
   },
   {
    "duration": 0,
    "start_time": "2025-02-19T17:00:46.890Z"
   },
   {
    "duration": 0,
    "start_time": "2025-02-19T17:00:46.891Z"
   },
   {
    "duration": 0,
    "start_time": "2025-02-19T17:00:46.892Z"
   },
   {
    "duration": 0,
    "start_time": "2025-02-19T17:00:46.893Z"
   },
   {
    "duration": 0,
    "start_time": "2025-02-19T17:00:46.894Z"
   },
   {
    "duration": 0,
    "start_time": "2025-02-19T17:00:46.895Z"
   },
   {
    "duration": 0,
    "start_time": "2025-02-19T17:00:46.897Z"
   },
   {
    "duration": 0,
    "start_time": "2025-02-19T17:00:46.898Z"
   },
   {
    "duration": 0,
    "start_time": "2025-02-19T17:00:46.900Z"
   },
   {
    "duration": 0,
    "start_time": "2025-02-19T17:00:46.901Z"
   },
   {
    "duration": 10030,
    "start_time": "2025-02-19T17:01:21.591Z"
   },
   {
    "duration": 64,
    "start_time": "2025-02-19T17:01:36.010Z"
   },
   {
    "duration": 80,
    "start_time": "2025-02-19T17:01:39.818Z"
   },
   {
    "duration": 27,
    "start_time": "2025-02-19T17:01:40.564Z"
   },
   {
    "duration": 60,
    "start_time": "2025-02-19T17:01:41.101Z"
   },
   {
    "duration": 62,
    "start_time": "2025-02-19T17:01:45.538Z"
   },
   {
    "duration": 5,
    "start_time": "2025-02-19T17:01:47.678Z"
   },
   {
    "duration": 39,
    "start_time": "2025-02-19T17:01:49.396Z"
   },
   {
    "duration": 6,
    "start_time": "2025-02-19T17:01:51.872Z"
   },
   {
    "duration": 388,
    "start_time": "2025-02-19T17:01:53.351Z"
   },
   {
    "duration": 24,
    "start_time": "2025-02-19T17:01:56.813Z"
   },
   {
    "duration": 18,
    "start_time": "2025-02-19T17:01:58.565Z"
   },
   {
    "duration": 25,
    "start_time": "2025-02-19T17:02:00.375Z"
   },
   {
    "duration": 345,
    "start_time": "2025-02-19T17:02:01.583Z"
   },
   {
    "duration": 180,
    "start_time": "2025-02-19T17:02:06.309Z"
   },
   {
    "duration": 146,
    "start_time": "2025-02-19T17:02:07.938Z"
   },
   {
    "duration": 141,
    "start_time": "2025-02-19T17:02:10.185Z"
   },
   {
    "duration": 162,
    "start_time": "2025-02-19T17:02:12.329Z"
   },
   {
    "duration": 170,
    "start_time": "2025-02-19T17:02:13.889Z"
   },
   {
    "duration": 158,
    "start_time": "2025-02-19T17:02:15.403Z"
   },
   {
    "duration": 5,
    "start_time": "2025-02-19T17:02:18.431Z"
   },
   {
    "duration": 131,
    "start_time": "2025-02-19T17:02:19.646Z"
   },
   {
    "duration": 238,
    "start_time": "2025-02-19T17:02:22.067Z"
   },
   {
    "duration": 6,
    "start_time": "2025-02-19T17:02:25.033Z"
   },
   {
    "duration": 7,
    "start_time": "2025-02-19T17:02:26.166Z"
   },
   {
    "duration": 7,
    "start_time": "2025-02-19T17:02:27.253Z"
   },
   {
    "duration": 15,
    "start_time": "2025-02-19T17:02:29.617Z"
   },
   {
    "duration": 20,
    "start_time": "2025-02-19T17:02:30.559Z"
   },
   {
    "duration": 12,
    "start_time": "2025-02-19T17:02:31.570Z"
   },
   {
    "duration": 13,
    "start_time": "2025-02-19T17:02:34.661Z"
   },
   {
    "duration": 17,
    "start_time": "2025-02-19T17:02:35.484Z"
   },
   {
    "duration": 9,
    "start_time": "2025-02-19T17:02:37.834Z"
   },
   {
    "duration": 15,
    "start_time": "2025-02-19T17:02:38.301Z"
   },
   {
    "duration": 19,
    "start_time": "2025-02-19T17:02:38.576Z"
   },
   {
    "duration": 12,
    "start_time": "2025-02-19T17:02:39.713Z"
   },
   {
    "duration": 16,
    "start_time": "2025-02-19T17:02:41.392Z"
   },
   {
    "duration": 21,
    "start_time": "2025-02-19T17:02:41.661Z"
   },
   {
    "duration": 12,
    "start_time": "2025-02-19T17:02:43.551Z"
   },
   {
    "duration": 15,
    "start_time": "2025-02-19T17:02:43.764Z"
   },
   {
    "duration": 21,
    "start_time": "2025-02-19T17:02:45.750Z"
   },
   {
    "duration": 11,
    "start_time": "2025-02-19T17:02:47.271Z"
   },
   {
    "duration": 15,
    "start_time": "2025-02-19T17:02:47.465Z"
   },
   {
    "duration": 21,
    "start_time": "2025-02-19T17:02:47.637Z"
   },
   {
    "duration": 12,
    "start_time": "2025-02-19T17:02:47.790Z"
   },
   {
    "duration": 6,
    "start_time": "2025-02-19T17:02:49.454Z"
   },
   {
    "duration": 6,
    "start_time": "2025-02-19T17:02:49.605Z"
   },
   {
    "duration": 6,
    "start_time": "2025-02-19T17:02:49.786Z"
   },
   {
    "duration": 15,
    "start_time": "2025-02-19T17:02:49.941Z"
   },
   {
    "duration": 20,
    "start_time": "2025-02-19T17:02:51.476Z"
   },
   {
    "duration": 13,
    "start_time": "2025-02-19T17:02:55.206Z"
   },
   {
    "duration": 7,
    "start_time": "2025-02-19T17:02:55.922Z"
   },
   {
    "duration": 58,
    "start_time": "2025-02-19T17:02:57.790Z"
   },
   {
    "duration": 88,
    "start_time": "2025-02-19T17:02:58.044Z"
   },
   {
    "duration": 169,
    "start_time": "2025-02-19T17:02:59.138Z"
   },
   {
    "duration": 5745,
    "start_time": "2025-02-19T17:03:02.780Z"
   },
   {
    "duration": 65,
    "start_time": "2025-02-19T17:03:15.273Z"
   },
   {
    "duration": 49,
    "start_time": "2025-02-19T17:03:16.191Z"
   },
   {
    "duration": 4,
    "start_time": "2025-02-19T17:03:19.889Z"
   },
   {
    "duration": 39,
    "start_time": "2025-02-19T17:03:20.569Z"
   },
   {
    "duration": 20,
    "start_time": "2025-02-19T17:03:22.279Z"
   },
   {
    "duration": 4,
    "start_time": "2025-02-19T17:03:22.634Z"
   },
   {
    "duration": 4,
    "start_time": "2025-02-19T17:03:23.087Z"
   },
   {
    "duration": 15,
    "start_time": "2025-02-19T17:03:25.120Z"
   },
   {
    "duration": 5,
    "start_time": "2025-02-19T17:03:25.395Z"
   },
   {
    "duration": 3,
    "start_time": "2025-02-19T17:03:27.339Z"
   },
   {
    "duration": 124,
    "start_time": "2025-02-19T17:03:27.907Z"
   },
   {
    "duration": 252,
    "start_time": "2025-02-19T17:03:30.214Z"
   },
   {
    "duration": 13,
    "start_time": "2025-02-19T17:03:30.582Z"
   },
   {
    "duration": 4,
    "start_time": "2025-02-19T17:03:32.119Z"
   },
   {
    "duration": 335,
    "start_time": "2025-02-19T17:03:32.590Z"
   },
   {
    "duration": 4,
    "start_time": "2025-02-19T17:03:38.056Z"
   },
   {
    "duration": 3,
    "start_time": "2025-02-19T17:03:46.368Z"
   },
   {
    "duration": 40522,
    "start_time": "2025-02-19T17:03:49.655Z"
   },
   {
    "duration": 5,
    "start_time": "2025-02-19T17:04:37.355Z"
   },
   {
    "duration": 3,
    "start_time": "2025-02-19T17:04:39.954Z"
   },
   {
    "duration": 3304,
    "start_time": "2025-02-19T17:04:40.994Z"
   },
   {
    "duration": 4,
    "start_time": "2025-02-19T17:04:46.335Z"
   },
   {
    "duration": 3,
    "start_time": "2025-02-19T17:04:48.482Z"
   },
   {
    "duration": 157,
    "start_time": "2025-02-19T17:04:49.169Z"
   },
   {
    "duration": 3,
    "start_time": "2025-02-19T17:04:52.183Z"
   },
   {
    "duration": 94187,
    "start_time": "2025-02-19T17:04:52.188Z"
   },
   {
    "duration": 4,
    "start_time": "2025-02-19T17:06:26.377Z"
   },
   {
    "duration": 3,
    "start_time": "2025-02-19T17:06:43.702Z"
   },
   {
    "duration": 48,
    "start_time": "2025-02-19T17:06:45.755Z"
   },
   {
    "duration": 3,
    "start_time": "2025-02-19T17:06:46.368Z"
   },
   {
    "duration": 96540,
    "start_time": "2025-02-19T17:06:48.320Z"
   },
   {
    "duration": 4,
    "start_time": "2025-02-19T17:08:24.862Z"
   },
   {
    "duration": 10,
    "start_time": "2025-02-19T17:09:35.813Z"
   },
   {
    "duration": 34,
    "start_time": "2025-02-19T17:09:42.838Z"
   },
   {
    "duration": 8,
    "start_time": "2025-02-19T17:09:43.953Z"
   },
   {
    "duration": 7,
    "start_time": "2025-02-19T17:09:50.917Z"
   },
   {
    "duration": 291,
    "start_time": "2025-02-19T17:09:52.494Z"
   },
   {
    "duration": 15,
    "start_time": "2025-02-19T17:10:01.369Z"
   },
   {
    "duration": 133,
    "start_time": "2025-02-19T17:10:04.209Z"
   },
   {
    "duration": 2022,
    "start_time": "2025-02-19T17:10:07.954Z"
   },
   {
    "duration": 43894,
    "start_time": "2025-02-19T17:10:12.355Z"
   },
   {
    "duration": 298,
    "start_time": "2025-02-19T17:11:01.030Z"
   }
  ],
  "colab": {
   "provenance": [],
   "toc_visible": true
  },
  "kernelspec": {
   "display_name": "Python 3 (ipykernel)",
   "language": "python",
   "name": "python3"
  },
  "language_info": {
   "codemirror_mode": {
    "name": "ipython",
    "version": 3
   },
   "file_extension": ".py",
   "mimetype": "text/x-python",
   "name": "python",
   "nbconvert_exporter": "python",
   "pygments_lexer": "ipython3",
   "version": "3.11.8"
  },
  "toc": {
   "base_numbering": 1,
   "nav_menu": {},
   "number_sections": true,
   "sideBar": true,
   "skip_h1_title": true,
   "title_cell": "Содержание",
   "title_sidebar": "Contents",
   "toc_cell": true,
   "toc_position": {
    "height": "calc(100% - 180px)",
    "left": "10px",
    "top": "150px",
    "width": "274.594px"
   },
   "toc_section_display": true,
   "toc_window_display": true
  }
 },
 "nbformat": 4,
 "nbformat_minor": 1
}
