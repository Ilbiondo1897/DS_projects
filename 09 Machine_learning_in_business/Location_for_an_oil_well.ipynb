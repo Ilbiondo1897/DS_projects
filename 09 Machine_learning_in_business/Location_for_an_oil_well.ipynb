{
 "cells": [
  {
   "cell_type": "markdown",
   "metadata": {
    "toc": true
   },
   "source": [
    "<h1>Содержание<span class=\"tocSkip\"></span></h1>\n",
    "<div class=\"toc\"><ul class=\"toc-item\"><li><span><a href=\"#Загрузка-и-подготовка-данных\" data-toc-modified-id=\"Загрузка-и-подготовка-данных-1\"><span class=\"toc-item-num\">1&nbsp;&nbsp;</span>Загрузка и подготовка данных</a></span><ul class=\"toc-item\"><li><span><a href=\"#Предобработка-данных\" data-toc-modified-id=\"Предобработка-данных-1.1\"><span class=\"toc-item-num\">1.1&nbsp;&nbsp;</span>Предобработка данных</a></span></li><li><span><a href=\"#Исследовательский-анализ-данных\" data-toc-modified-id=\"Исследовательский-анализ-данных-1.2\"><span class=\"toc-item-num\">1.2&nbsp;&nbsp;</span>Исследовательский анализ данных</a></span></li></ul></li><li><span><a href=\"#Обучение-и-проверка-моделей-для-каждого-региона\" data-toc-modified-id=\"Обучение-и-проверка-моделей-для-каждого-региона-2\"><span class=\"toc-item-num\">2&nbsp;&nbsp;</span>Обучение и проверка моделей для каждого региона</a></span></li><li><span><a href=\"#Подготовка-к-расчёту-прибыли\" data-toc-modified-id=\"Подготовка-к-расчёту-прибыли-3\"><span class=\"toc-item-num\">3&nbsp;&nbsp;</span>Подготовка к расчёту прибыли</a></span></li><li><span><a href=\"#Создание-фунции-для-расчёта-прибыли-по-выбранным-скважинам-и-предсказаниям-модели\" data-toc-modified-id=\"Создание-фунции-для-расчёта-прибыли-по-выбранным-скважинам-и-предсказаниям-модели-4\"><span class=\"toc-item-num\">4&nbsp;&nbsp;</span>Создание фунции для расчёта прибыли по выбранным скважинам и предсказаниям модели</a></span></li><li><span><a href=\"#Расчёт-рисков-и-прибыли-для-каждого-региона\" data-toc-modified-id=\"Расчёт-рисков-и-прибыли-для-каждого-региона-5\"><span class=\"toc-item-num\">5&nbsp;&nbsp;</span>Расчёт рисков и прибыли для каждого региона</a></span></li><li><span><a href=\"#Общий-вывод\" data-toc-modified-id=\"Общий-вывод-6\"><span class=\"toc-item-num\">6&nbsp;&nbsp;</span>Общий вывод</a></span></li></ul></div>"
   ]
  },
  {
   "cell_type": "markdown",
   "metadata": {
    "id": "4nKinc5n3Ren"
   },
   "source": [
    "# Проект: выбор локации для нефтяной скважины"
   ]
  },
  {
   "cell_type": "markdown",
   "metadata": {
    "id": "CxspbnG73gOf"
   },
   "source": [
    "Описание проекта: для добывающей компании «ГлавРосГосНефть» необходимо построить модель для определения региона, где добыча нефти принесёт наибольшую прибыль. Проанализировать прибыль и риски техникой Bootstrap.\n",
    "Шаги для выбора локации следующие:\n",
    "- в избранном регионе собирают характеристики для скважин - качество нефти и объём её запасов;\n",
    "- строят модель для предсказания объёма запасов в новых скважинах;\n",
    "- выбирают скважины с самыми высокими оценками значений;\n",
    "- определяют регион с максимальной суммарной прибылью отобранных скважин.\n",
    "\n",
    "Нам предоставлены пробы нефти в трёх регионах, характеристики для каждой скважины в регионе уже известны."
   ]
  },
  {
   "cell_type": "markdown",
   "metadata": {
    "id": "QD1UizUn7Lx4"
   },
   "source": [
    "## Загрузка и подготовка данных"
   ]
  },
  {
   "cell_type": "code",
   "execution_count": 1,
   "metadata": {},
   "outputs": [
    {
     "name": "stdout",
     "output_type": "stream",
     "text": [
      "\u001b[31mERROR: pip's dependency resolver does not currently take into account all the packages that are installed. This behaviour is the source of the following dependency conflicts.\n",
      "scipy 1.9.1 requires numpy<1.25.0,>=1.18.5, but you have numpy 2.0.2 which is incompatible.\n",
      "numba 0.56.0 requires numpy<1.23,>=1.18, but you have numpy 2.0.2 which is incompatible.\u001b[0m\n",
      "\u001b[31mERROR: pip's dependency resolver does not currently take into account all the packages that are installed. This behaviour is the source of the following dependency conflicts.\n",
      "numba 0.56.0 requires numpy<1.23,>=1.18, but you have numpy 1.24.4 which is incompatible.\u001b[0m\n"
     ]
    }
   ],
   "source": [
    "! pip install matplotlib==3.7.1 -q\n",
    "! pip install -U scikit-learn -q"
   ]
  },
  {
   "cell_type": "markdown",
   "metadata": {
    "id": "4qFxeNzi7QhP"
   },
   "source": [
    "Загрузим необходимые библиотеки:"
   ]
  },
  {
   "cell_type": "code",
   "execution_count": 2,
   "metadata": {
    "id": "dyGO7f6z3axR"
   },
   "outputs": [],
   "source": [
    "import pandas as pd\n",
    "\n",
    "import matplotlib.pyplot as plt\n",
    "\n",
    "import numpy as np\n",
    "\n",
    "from scipy import stats as st\n",
    "\n",
    "import seaborn as sns\n",
    "\n",
    "import sklearn\n",
    "from sklearn import preprocessing\n",
    "from sklearn.model_selection import train_test_split\n",
    "from sklearn.metrics import mean_squared_error\n",
    "from sklearn.linear_model import LinearRegression\n",
    "\n",
    "import warnings\n",
    "warnings.filterwarnings('ignore')"
   ]
  },
  {
   "cell_type": "code",
   "execution_count": 3,
   "metadata": {
    "id": "Ig4AxM0-Bqao"
   },
   "outputs": [],
   "source": [
    "RANDOM_STATE = 42\n",
    "TEST_SIZE = 0.25"
   ]
  },
  {
   "cell_type": "markdown",
   "metadata": {
    "id": "bANLeb0eByeQ"
   },
   "source": [
    "Загрузим датасеты и сохраним их в одноимённые переменные:"
   ]
  },
  {
   "cell_type": "code",
   "execution_count": 4,
   "metadata": {
    "colab": {
     "base_uri": "https://localhost:8080/"
    },
    "id": "NHn1vL7KBulN",
    "outputId": "daffa7b0-ff2d-426f-be46-84d449185b71"
   },
   "outputs": [],
   "source": [
    "try:\n",
    "    # Данные геологоразведки 0\n",
    "    geo_data_0 = pd.read_csv('geo_data_0.csv')\n",
    "    # Данные геологоразведки 1\n",
    "    geo_data_1 = pd.read_csv('geo_data_1.csv')\n",
    "    # Данные геологоразведки 2\n",
    "    geo_data_2 = pd.read_csv('geo_data_2.csv')\n",
    "except:\n",
    "    geo_data_0 = pd.read_csv('/datasets/geo_data_0.csv')\n",
    "    geo_data_1 = pd.read_csv('/datasets/geo_data_1.csv')\n",
    "    geo_data_2 = pd.read_csv('/datasets/geo_data_2.csv')"
   ]
  },
  {
   "cell_type": "markdown",
   "metadata": {
    "id": "jj8RW3BhDiu1"
   },
   "source": [
    "Проверим, что данные загрузились корректно:"
   ]
  },
  {
   "cell_type": "code",
   "execution_count": 5,
   "metadata": {
    "id": "ILhcsIUIC8y1"
   },
   "outputs": [],
   "source": [
    "# функция для получения информации о датасете\n",
    "def get_info(dataset):\n",
    "    print('Первые пять строк датасета:')\n",
    "    display(dataset.head())\n",
    "    print('Общая информация:')\n",
    "    dataset.info()"
   ]
  },
  {
   "cell_type": "code",
   "execution_count": 6,
   "metadata": {
    "colab": {
     "base_uri": "https://localhost:8080/",
     "height": 470
    },
    "id": "VxSVgq7QDpn-",
    "outputId": "e7b8d935-9fc7-43e5-9040-99ee7efcdb78"
   },
   "outputs": [
    {
     "name": "stdout",
     "output_type": "stream",
     "text": [
      "Первые пять строк датасета:\n"
     ]
    },
    {
     "data": {
      "text/html": [
       "<div>\n",
       "<style scoped>\n",
       "    .dataframe tbody tr th:only-of-type {\n",
       "        vertical-align: middle;\n",
       "    }\n",
       "\n",
       "    .dataframe tbody tr th {\n",
       "        vertical-align: top;\n",
       "    }\n",
       "\n",
       "    .dataframe thead th {\n",
       "        text-align: right;\n",
       "    }\n",
       "</style>\n",
       "<table border=\"1\" class=\"dataframe\">\n",
       "  <thead>\n",
       "    <tr style=\"text-align: right;\">\n",
       "      <th></th>\n",
       "      <th>id</th>\n",
       "      <th>f0</th>\n",
       "      <th>f1</th>\n",
       "      <th>f2</th>\n",
       "      <th>product</th>\n",
       "    </tr>\n",
       "  </thead>\n",
       "  <tbody>\n",
       "    <tr>\n",
       "      <th>0</th>\n",
       "      <td>txEyH</td>\n",
       "      <td>0.705745</td>\n",
       "      <td>-0.497823</td>\n",
       "      <td>1.221170</td>\n",
       "      <td>105.280062</td>\n",
       "    </tr>\n",
       "    <tr>\n",
       "      <th>1</th>\n",
       "      <td>2acmU</td>\n",
       "      <td>1.334711</td>\n",
       "      <td>-0.340164</td>\n",
       "      <td>4.365080</td>\n",
       "      <td>73.037750</td>\n",
       "    </tr>\n",
       "    <tr>\n",
       "      <th>2</th>\n",
       "      <td>409Wp</td>\n",
       "      <td>1.022732</td>\n",
       "      <td>0.151990</td>\n",
       "      <td>1.419926</td>\n",
       "      <td>85.265647</td>\n",
       "    </tr>\n",
       "    <tr>\n",
       "      <th>3</th>\n",
       "      <td>iJLyR</td>\n",
       "      <td>-0.032172</td>\n",
       "      <td>0.139033</td>\n",
       "      <td>2.978566</td>\n",
       "      <td>168.620776</td>\n",
       "    </tr>\n",
       "    <tr>\n",
       "      <th>4</th>\n",
       "      <td>Xdl7t</td>\n",
       "      <td>1.988431</td>\n",
       "      <td>0.155413</td>\n",
       "      <td>4.751769</td>\n",
       "      <td>154.036647</td>\n",
       "    </tr>\n",
       "  </tbody>\n",
       "</table>\n",
       "</div>"
      ],
      "text/plain": [
       "      id        f0        f1        f2     product\n",
       "0  txEyH  0.705745 -0.497823  1.221170  105.280062\n",
       "1  2acmU  1.334711 -0.340164  4.365080   73.037750\n",
       "2  409Wp  1.022732  0.151990  1.419926   85.265647\n",
       "3  iJLyR -0.032172  0.139033  2.978566  168.620776\n",
       "4  Xdl7t  1.988431  0.155413  4.751769  154.036647"
      ]
     },
     "metadata": {},
     "output_type": "display_data"
    },
    {
     "name": "stdout",
     "output_type": "stream",
     "text": [
      "Общая информация:\n",
      "<class 'pandas.core.frame.DataFrame'>\n",
      "RangeIndex: 100000 entries, 0 to 99999\n",
      "Data columns (total 5 columns):\n",
      " #   Column   Non-Null Count   Dtype  \n",
      "---  ------   --------------   -----  \n",
      " 0   id       100000 non-null  object \n",
      " 1   f0       100000 non-null  float64\n",
      " 2   f1       100000 non-null  float64\n",
      " 3   f2       100000 non-null  float64\n",
      " 4   product  100000 non-null  float64\n",
      "dtypes: float64(4), object(1)\n",
      "memory usage: 3.8+ MB\n"
     ]
    }
   ],
   "source": [
    "get_info(geo_data_0)"
   ]
  },
  {
   "cell_type": "code",
   "execution_count": 7,
   "metadata": {
    "colab": {
     "base_uri": "https://localhost:8080/",
     "height": 470
    },
    "id": "5TyWqxJADslS",
    "outputId": "05e2807f-bad3-45e7-cf7b-fa92bd1110f8"
   },
   "outputs": [
    {
     "name": "stdout",
     "output_type": "stream",
     "text": [
      "Первые пять строк датасета:\n"
     ]
    },
    {
     "data": {
      "text/html": [
       "<div>\n",
       "<style scoped>\n",
       "    .dataframe tbody tr th:only-of-type {\n",
       "        vertical-align: middle;\n",
       "    }\n",
       "\n",
       "    .dataframe tbody tr th {\n",
       "        vertical-align: top;\n",
       "    }\n",
       "\n",
       "    .dataframe thead th {\n",
       "        text-align: right;\n",
       "    }\n",
       "</style>\n",
       "<table border=\"1\" class=\"dataframe\">\n",
       "  <thead>\n",
       "    <tr style=\"text-align: right;\">\n",
       "      <th></th>\n",
       "      <th>id</th>\n",
       "      <th>f0</th>\n",
       "      <th>f1</th>\n",
       "      <th>f2</th>\n",
       "      <th>product</th>\n",
       "    </tr>\n",
       "  </thead>\n",
       "  <tbody>\n",
       "    <tr>\n",
       "      <th>0</th>\n",
       "      <td>kBEdx</td>\n",
       "      <td>-15.001348</td>\n",
       "      <td>-8.276000</td>\n",
       "      <td>-0.005876</td>\n",
       "      <td>3.179103</td>\n",
       "    </tr>\n",
       "    <tr>\n",
       "      <th>1</th>\n",
       "      <td>62mP7</td>\n",
       "      <td>14.272088</td>\n",
       "      <td>-3.475083</td>\n",
       "      <td>0.999183</td>\n",
       "      <td>26.953261</td>\n",
       "    </tr>\n",
       "    <tr>\n",
       "      <th>2</th>\n",
       "      <td>vyE1P</td>\n",
       "      <td>6.263187</td>\n",
       "      <td>-5.948386</td>\n",
       "      <td>5.001160</td>\n",
       "      <td>134.766305</td>\n",
       "    </tr>\n",
       "    <tr>\n",
       "      <th>3</th>\n",
       "      <td>KcrkZ</td>\n",
       "      <td>-13.081196</td>\n",
       "      <td>-11.506057</td>\n",
       "      <td>4.999415</td>\n",
       "      <td>137.945408</td>\n",
       "    </tr>\n",
       "    <tr>\n",
       "      <th>4</th>\n",
       "      <td>AHL4O</td>\n",
       "      <td>12.702195</td>\n",
       "      <td>-8.147433</td>\n",
       "      <td>5.004363</td>\n",
       "      <td>134.766305</td>\n",
       "    </tr>\n",
       "  </tbody>\n",
       "</table>\n",
       "</div>"
      ],
      "text/plain": [
       "      id         f0         f1        f2     product\n",
       "0  kBEdx -15.001348  -8.276000 -0.005876    3.179103\n",
       "1  62mP7  14.272088  -3.475083  0.999183   26.953261\n",
       "2  vyE1P   6.263187  -5.948386  5.001160  134.766305\n",
       "3  KcrkZ -13.081196 -11.506057  4.999415  137.945408\n",
       "4  AHL4O  12.702195  -8.147433  5.004363  134.766305"
      ]
     },
     "metadata": {},
     "output_type": "display_data"
    },
    {
     "name": "stdout",
     "output_type": "stream",
     "text": [
      "Общая информация:\n",
      "<class 'pandas.core.frame.DataFrame'>\n",
      "RangeIndex: 100000 entries, 0 to 99999\n",
      "Data columns (total 5 columns):\n",
      " #   Column   Non-Null Count   Dtype  \n",
      "---  ------   --------------   -----  \n",
      " 0   id       100000 non-null  object \n",
      " 1   f0       100000 non-null  float64\n",
      " 2   f1       100000 non-null  float64\n",
      " 3   f2       100000 non-null  float64\n",
      " 4   product  100000 non-null  float64\n",
      "dtypes: float64(4), object(1)\n",
      "memory usage: 3.8+ MB\n"
     ]
    }
   ],
   "source": [
    "get_info(geo_data_1)"
   ]
  },
  {
   "cell_type": "code",
   "execution_count": 8,
   "metadata": {
    "colab": {
     "base_uri": "https://localhost:8080/",
     "height": 470
    },
    "id": "grwJGzLKDu0E",
    "outputId": "42d5810d-3732-41a3-e1a7-5266c53cc133"
   },
   "outputs": [
    {
     "name": "stdout",
     "output_type": "stream",
     "text": [
      "Первые пять строк датасета:\n"
     ]
    },
    {
     "data": {
      "text/html": [
       "<div>\n",
       "<style scoped>\n",
       "    .dataframe tbody tr th:only-of-type {\n",
       "        vertical-align: middle;\n",
       "    }\n",
       "\n",
       "    .dataframe tbody tr th {\n",
       "        vertical-align: top;\n",
       "    }\n",
       "\n",
       "    .dataframe thead th {\n",
       "        text-align: right;\n",
       "    }\n",
       "</style>\n",
       "<table border=\"1\" class=\"dataframe\">\n",
       "  <thead>\n",
       "    <tr style=\"text-align: right;\">\n",
       "      <th></th>\n",
       "      <th>id</th>\n",
       "      <th>f0</th>\n",
       "      <th>f1</th>\n",
       "      <th>f2</th>\n",
       "      <th>product</th>\n",
       "    </tr>\n",
       "  </thead>\n",
       "  <tbody>\n",
       "    <tr>\n",
       "      <th>0</th>\n",
       "      <td>fwXo0</td>\n",
       "      <td>-1.146987</td>\n",
       "      <td>0.963328</td>\n",
       "      <td>-0.828965</td>\n",
       "      <td>27.758673</td>\n",
       "    </tr>\n",
       "    <tr>\n",
       "      <th>1</th>\n",
       "      <td>WJtFt</td>\n",
       "      <td>0.262778</td>\n",
       "      <td>0.269839</td>\n",
       "      <td>-2.530187</td>\n",
       "      <td>56.069697</td>\n",
       "    </tr>\n",
       "    <tr>\n",
       "      <th>2</th>\n",
       "      <td>ovLUW</td>\n",
       "      <td>0.194587</td>\n",
       "      <td>0.289035</td>\n",
       "      <td>-5.586433</td>\n",
       "      <td>62.871910</td>\n",
       "    </tr>\n",
       "    <tr>\n",
       "      <th>3</th>\n",
       "      <td>q6cA6</td>\n",
       "      <td>2.236060</td>\n",
       "      <td>-0.553760</td>\n",
       "      <td>0.930038</td>\n",
       "      <td>114.572842</td>\n",
       "    </tr>\n",
       "    <tr>\n",
       "      <th>4</th>\n",
       "      <td>WPMUX</td>\n",
       "      <td>-0.515993</td>\n",
       "      <td>1.716266</td>\n",
       "      <td>5.899011</td>\n",
       "      <td>149.600746</td>\n",
       "    </tr>\n",
       "  </tbody>\n",
       "</table>\n",
       "</div>"
      ],
      "text/plain": [
       "      id        f0        f1        f2     product\n",
       "0  fwXo0 -1.146987  0.963328 -0.828965   27.758673\n",
       "1  WJtFt  0.262778  0.269839 -2.530187   56.069697\n",
       "2  ovLUW  0.194587  0.289035 -5.586433   62.871910\n",
       "3  q6cA6  2.236060 -0.553760  0.930038  114.572842\n",
       "4  WPMUX -0.515993  1.716266  5.899011  149.600746"
      ]
     },
     "metadata": {},
     "output_type": "display_data"
    },
    {
     "name": "stdout",
     "output_type": "stream",
     "text": [
      "Общая информация:\n",
      "<class 'pandas.core.frame.DataFrame'>\n",
      "RangeIndex: 100000 entries, 0 to 99999\n",
      "Data columns (total 5 columns):\n",
      " #   Column   Non-Null Count   Dtype  \n",
      "---  ------   --------------   -----  \n",
      " 0   id       100000 non-null  object \n",
      " 1   f0       100000 non-null  float64\n",
      " 2   f1       100000 non-null  float64\n",
      " 3   f2       100000 non-null  float64\n",
      " 4   product  100000 non-null  float64\n",
      "dtypes: float64(4), object(1)\n",
      "memory usage: 3.8+ MB\n"
     ]
    }
   ],
   "source": [
    "get_info(geo_data_2)"
   ]
  },
  {
   "cell_type": "markdown",
   "metadata": {
    "id": "iUZN7jkNPykg"
   },
   "source": [
    "Названия столбцов не требуют приведения к единому виду (snake_case, латиница, строчные буквы), а типы данных в столбцах соответствуют значениям."
   ]
  },
  {
   "cell_type": "markdown",
   "metadata": {
    "id": "vOGAkUKNQCni"
   },
   "source": [
    "Датасеты содержат следующие данные:\n",
    "\n",
    "- `id` - уникальный идентификатор скважины;\n",
    "- `f0`, `f1`, `f2` - три значимых признака точек;\n",
    "- `product` - объём запасов в скважине, тыс. баррелей"
   ]
  },
  {
   "cell_type": "markdown",
   "metadata": {
    "id": "_PN4ylJ-RDzZ"
   },
   "source": [
    "Для решения задачи нам даны условия:\n",
    "1. Для обучения модели подходит только линейная регрессия (остальные — недостаточно предсказуемые).\n",
    "2. При разведке региона исследуют 500 точек, из которых с помощью машинного обучения выбирают 200 лучших для разработки.\n",
    "3. Бюджет на разработку скважин в регионе — 10 млрд. руб.\n",
    "4. При нынешних ценах один баррель сырья приносит 450 руб. дохода. Доход с каждой единицы продукта составляет 450 тыс. руб., поскольку объём указан в тысячах баррелей.\n",
    "5. После оценки рисков нужно оставить лишь те регионы, в которых вероятность убытков меньше 2.5%. Среди них выбирают регион с наибольшей средней прибылью.\n",
    "\n",
    "Данные синтетические: детали контрактов и характеристики месторождений не разглашаются."
   ]
  },
  {
   "cell_type": "markdown",
   "metadata": {
    "id": "Ot4VkRnUSL8y"
   },
   "source": [
    "### Предобработка данных"
   ]
  },
  {
   "cell_type": "markdown",
   "metadata": {
    "id": "h5uABvxCSVAy"
   },
   "source": [
    "Проверим датасеты на пропущенные значения и дубликаты:"
   ]
  },
  {
   "cell_type": "code",
   "execution_count": 9,
   "metadata": {
    "colab": {
     "base_uri": "https://localhost:8080/",
     "height": 0
    },
    "id": "hkkbR-_BDwSq",
    "outputId": "31748721-73c8-4fd4-d0c4-b26636b04165"
   },
   "outputs": [
    {
     "data": {
      "text/plain": [
       "id         0\n",
       "f0         0\n",
       "f1         0\n",
       "f2         0\n",
       "product    0\n",
       "dtype: int64"
      ]
     },
     "execution_count": 9,
     "metadata": {},
     "output_type": "execute_result"
    }
   ],
   "source": [
    "geo_data_0.isna().sum()"
   ]
  },
  {
   "cell_type": "code",
   "execution_count": 10,
   "metadata": {
    "colab": {
     "base_uri": "https://localhost:8080/",
     "height": 0
    },
    "id": "Rzo73dreSgtT",
    "outputId": "e09d1b0b-2bfd-403a-cdb7-bf3904ff2c87"
   },
   "outputs": [
    {
     "data": {
      "text/plain": [
       "id         0\n",
       "f0         0\n",
       "f1         0\n",
       "f2         0\n",
       "product    0\n",
       "dtype: int64"
      ]
     },
     "execution_count": 10,
     "metadata": {},
     "output_type": "execute_result"
    }
   ],
   "source": [
    "geo_data_1.isna().sum()"
   ]
  },
  {
   "cell_type": "code",
   "execution_count": 11,
   "metadata": {
    "colab": {
     "base_uri": "https://localhost:8080/",
     "height": 0
    },
    "id": "7qNqmFoXSiQd",
    "outputId": "a944c56a-d7bd-467a-bb2f-23f2c7927507"
   },
   "outputs": [
    {
     "data": {
      "text/plain": [
       "id         0\n",
       "f0         0\n",
       "f1         0\n",
       "f2         0\n",
       "product    0\n",
       "dtype: int64"
      ]
     },
     "execution_count": 11,
     "metadata": {},
     "output_type": "execute_result"
    }
   ],
   "source": [
    "geo_data_2.isna().sum()"
   ]
  },
  {
   "cell_type": "markdown",
   "metadata": {
    "id": "0Vv1zZSeSyIG"
   },
   "source": [
    "Пропущенные значения и неявные дубликаты отсутствуют"
   ]
  },
  {
   "cell_type": "code",
   "execution_count": 12,
   "metadata": {
    "colab": {
     "base_uri": "https://localhost:8080/"
    },
    "id": "EgloAGF0SjYi",
    "outputId": "3b0df99f-4ccb-492f-95b1-5e051632168b"
   },
   "outputs": [
    {
     "data": {
      "text/plain": [
       "0"
      ]
     },
     "execution_count": 12,
     "metadata": {},
     "output_type": "execute_result"
    }
   ],
   "source": [
    "geo_data_0.duplicated().sum()"
   ]
  },
  {
   "cell_type": "code",
   "execution_count": 13,
   "metadata": {
    "colab": {
     "base_uri": "https://localhost:8080/"
    },
    "id": "VLxCV6w7TBHg",
    "outputId": "3b20f25b-38f5-4a9e-d952-0efb723917aa"
   },
   "outputs": [
    {
     "data": {
      "text/plain": [
       "0"
      ]
     },
     "execution_count": 13,
     "metadata": {},
     "output_type": "execute_result"
    }
   ],
   "source": [
    "geo_data_1.duplicated().sum()"
   ]
  },
  {
   "cell_type": "code",
   "execution_count": 14,
   "metadata": {
    "colab": {
     "base_uri": "https://localhost:8080/"
    },
    "id": "FT_OZDPQTCkx",
    "outputId": "f86cdeeb-690b-48ee-e69c-42c09e0f5fe6"
   },
   "outputs": [
    {
     "data": {
      "text/plain": [
       "0"
      ]
     },
     "execution_count": 14,
     "metadata": {},
     "output_type": "execute_result"
    }
   ],
   "source": [
    "geo_data_2.duplicated().sum()"
   ]
  },
  {
   "cell_type": "markdown",
   "metadata": {
    "id": "WKI0U0A0TFQJ"
   },
   "source": [
    "Явные дубликаты также отсутствуют"
   ]
  },
  {
   "cell_type": "markdown",
   "metadata": {
    "id": "S4CaZV2XTS2R"
   },
   "source": [
    "### Исследовательский анализ данных"
   ]
  },
  {
   "cell_type": "markdown",
   "metadata": {
    "id": "HUA_biENT25b"
   },
   "source": [
    "Проведём статистический анализ количественных признаков каждого датасета:"
   ]
  },
  {
   "cell_type": "code",
   "execution_count": 15,
   "metadata": {
    "colab": {
     "base_uri": "https://localhost:8080/",
     "height": 0
    },
    "id": "YC8TfO51TDln",
    "outputId": "fbf69fcb-6d30-4b23-d78d-bead8c1e5c3d"
   },
   "outputs": [
    {
     "data": {
      "text/html": [
       "<div>\n",
       "<style scoped>\n",
       "    .dataframe tbody tr th:only-of-type {\n",
       "        vertical-align: middle;\n",
       "    }\n",
       "\n",
       "    .dataframe tbody tr th {\n",
       "        vertical-align: top;\n",
       "    }\n",
       "\n",
       "    .dataframe thead th {\n",
       "        text-align: right;\n",
       "    }\n",
       "</style>\n",
       "<table border=\"1\" class=\"dataframe\">\n",
       "  <thead>\n",
       "    <tr style=\"text-align: right;\">\n",
       "      <th></th>\n",
       "      <th>f0</th>\n",
       "      <th>f1</th>\n",
       "      <th>f2</th>\n",
       "      <th>product</th>\n",
       "    </tr>\n",
       "  </thead>\n",
       "  <tbody>\n",
       "    <tr>\n",
       "      <th>count</th>\n",
       "      <td>100000.00</td>\n",
       "      <td>100000.00</td>\n",
       "      <td>100000.00</td>\n",
       "      <td>100000.00</td>\n",
       "    </tr>\n",
       "    <tr>\n",
       "      <th>mean</th>\n",
       "      <td>0.50</td>\n",
       "      <td>0.25</td>\n",
       "      <td>2.50</td>\n",
       "      <td>92.50</td>\n",
       "    </tr>\n",
       "    <tr>\n",
       "      <th>std</th>\n",
       "      <td>0.87</td>\n",
       "      <td>0.50</td>\n",
       "      <td>3.25</td>\n",
       "      <td>44.29</td>\n",
       "    </tr>\n",
       "    <tr>\n",
       "      <th>min</th>\n",
       "      <td>-1.41</td>\n",
       "      <td>-0.85</td>\n",
       "      <td>-12.09</td>\n",
       "      <td>0.00</td>\n",
       "    </tr>\n",
       "    <tr>\n",
       "      <th>25%</th>\n",
       "      <td>-0.07</td>\n",
       "      <td>-0.20</td>\n",
       "      <td>0.29</td>\n",
       "      <td>56.50</td>\n",
       "    </tr>\n",
       "    <tr>\n",
       "      <th>50%</th>\n",
       "      <td>0.50</td>\n",
       "      <td>0.25</td>\n",
       "      <td>2.52</td>\n",
       "      <td>91.85</td>\n",
       "    </tr>\n",
       "    <tr>\n",
       "      <th>75%</th>\n",
       "      <td>1.07</td>\n",
       "      <td>0.70</td>\n",
       "      <td>4.72</td>\n",
       "      <td>128.56</td>\n",
       "    </tr>\n",
       "    <tr>\n",
       "      <th>max</th>\n",
       "      <td>2.36</td>\n",
       "      <td>1.34</td>\n",
       "      <td>16.00</td>\n",
       "      <td>185.36</td>\n",
       "    </tr>\n",
       "  </tbody>\n",
       "</table>\n",
       "</div>"
      ],
      "text/plain": [
       "              f0         f1         f2    product\n",
       "count  100000.00  100000.00  100000.00  100000.00\n",
       "mean        0.50       0.25       2.50      92.50\n",
       "std         0.87       0.50       3.25      44.29\n",
       "min        -1.41      -0.85     -12.09       0.00\n",
       "25%        -0.07      -0.20       0.29      56.50\n",
       "50%         0.50       0.25       2.52      91.85\n",
       "75%         1.07       0.70       4.72     128.56\n",
       "max         2.36       1.34      16.00     185.36"
      ]
     },
     "execution_count": 15,
     "metadata": {},
     "output_type": "execute_result"
    }
   ],
   "source": [
    "geo_data_0.describe().round(2)"
   ]
  },
  {
   "cell_type": "code",
   "execution_count": 16,
   "metadata": {
    "colab": {
     "base_uri": "https://localhost:8080/",
     "height": 0
    },
    "id": "If_GGwuhT9YI",
    "outputId": "a5cb3d79-a4b5-4cf2-88b8-d1f9a85f670d"
   },
   "outputs": [
    {
     "data": {
      "text/html": [
       "<div>\n",
       "<style scoped>\n",
       "    .dataframe tbody tr th:only-of-type {\n",
       "        vertical-align: middle;\n",
       "    }\n",
       "\n",
       "    .dataframe tbody tr th {\n",
       "        vertical-align: top;\n",
       "    }\n",
       "\n",
       "    .dataframe thead th {\n",
       "        text-align: right;\n",
       "    }\n",
       "</style>\n",
       "<table border=\"1\" class=\"dataframe\">\n",
       "  <thead>\n",
       "    <tr style=\"text-align: right;\">\n",
       "      <th></th>\n",
       "      <th>f0</th>\n",
       "      <th>f1</th>\n",
       "      <th>f2</th>\n",
       "      <th>product</th>\n",
       "    </tr>\n",
       "  </thead>\n",
       "  <tbody>\n",
       "    <tr>\n",
       "      <th>count</th>\n",
       "      <td>100000.00</td>\n",
       "      <td>100000.00</td>\n",
       "      <td>100000.00</td>\n",
       "      <td>100000.00</td>\n",
       "    </tr>\n",
       "    <tr>\n",
       "      <th>mean</th>\n",
       "      <td>1.14</td>\n",
       "      <td>-4.80</td>\n",
       "      <td>2.49</td>\n",
       "      <td>68.83</td>\n",
       "    </tr>\n",
       "    <tr>\n",
       "      <th>std</th>\n",
       "      <td>8.97</td>\n",
       "      <td>5.12</td>\n",
       "      <td>1.70</td>\n",
       "      <td>45.94</td>\n",
       "    </tr>\n",
       "    <tr>\n",
       "      <th>min</th>\n",
       "      <td>-31.61</td>\n",
       "      <td>-26.36</td>\n",
       "      <td>-0.02</td>\n",
       "      <td>0.00</td>\n",
       "    </tr>\n",
       "    <tr>\n",
       "      <th>25%</th>\n",
       "      <td>-6.30</td>\n",
       "      <td>-8.27</td>\n",
       "      <td>1.00</td>\n",
       "      <td>26.95</td>\n",
       "    </tr>\n",
       "    <tr>\n",
       "      <th>50%</th>\n",
       "      <td>1.15</td>\n",
       "      <td>-4.81</td>\n",
       "      <td>2.01</td>\n",
       "      <td>57.09</td>\n",
       "    </tr>\n",
       "    <tr>\n",
       "      <th>75%</th>\n",
       "      <td>8.62</td>\n",
       "      <td>-1.33</td>\n",
       "      <td>4.00</td>\n",
       "      <td>107.81</td>\n",
       "    </tr>\n",
       "    <tr>\n",
       "      <th>max</th>\n",
       "      <td>29.42</td>\n",
       "      <td>18.73</td>\n",
       "      <td>5.02</td>\n",
       "      <td>137.95</td>\n",
       "    </tr>\n",
       "  </tbody>\n",
       "</table>\n",
       "</div>"
      ],
      "text/plain": [
       "              f0         f1         f2    product\n",
       "count  100000.00  100000.00  100000.00  100000.00\n",
       "mean        1.14      -4.80       2.49      68.83\n",
       "std         8.97       5.12       1.70      45.94\n",
       "min       -31.61     -26.36      -0.02       0.00\n",
       "25%        -6.30      -8.27       1.00      26.95\n",
       "50%         1.15      -4.81       2.01      57.09\n",
       "75%         8.62      -1.33       4.00     107.81\n",
       "max        29.42      18.73       5.02     137.95"
      ]
     },
     "execution_count": 16,
     "metadata": {},
     "output_type": "execute_result"
    }
   ],
   "source": [
    "geo_data_1.describe().round(2)"
   ]
  },
  {
   "cell_type": "code",
   "execution_count": 17,
   "metadata": {
    "colab": {
     "base_uri": "https://localhost:8080/",
     "height": 0
    },
    "id": "ch7EDW7xUCCm",
    "outputId": "b0dbf97a-87c0-4d3d-f39c-84d437700dae"
   },
   "outputs": [
    {
     "data": {
      "text/html": [
       "<div>\n",
       "<style scoped>\n",
       "    .dataframe tbody tr th:only-of-type {\n",
       "        vertical-align: middle;\n",
       "    }\n",
       "\n",
       "    .dataframe tbody tr th {\n",
       "        vertical-align: top;\n",
       "    }\n",
       "\n",
       "    .dataframe thead th {\n",
       "        text-align: right;\n",
       "    }\n",
       "</style>\n",
       "<table border=\"1\" class=\"dataframe\">\n",
       "  <thead>\n",
       "    <tr style=\"text-align: right;\">\n",
       "      <th></th>\n",
       "      <th>f0</th>\n",
       "      <th>f1</th>\n",
       "      <th>f2</th>\n",
       "      <th>product</th>\n",
       "    </tr>\n",
       "  </thead>\n",
       "  <tbody>\n",
       "    <tr>\n",
       "      <th>count</th>\n",
       "      <td>100000.00</td>\n",
       "      <td>100000.00</td>\n",
       "      <td>100000.00</td>\n",
       "      <td>100000.00</td>\n",
       "    </tr>\n",
       "    <tr>\n",
       "      <th>mean</th>\n",
       "      <td>0.00</td>\n",
       "      <td>-0.00</td>\n",
       "      <td>2.50</td>\n",
       "      <td>95.00</td>\n",
       "    </tr>\n",
       "    <tr>\n",
       "      <th>std</th>\n",
       "      <td>1.73</td>\n",
       "      <td>1.73</td>\n",
       "      <td>3.47</td>\n",
       "      <td>44.75</td>\n",
       "    </tr>\n",
       "    <tr>\n",
       "      <th>min</th>\n",
       "      <td>-8.76</td>\n",
       "      <td>-7.08</td>\n",
       "      <td>-11.97</td>\n",
       "      <td>0.00</td>\n",
       "    </tr>\n",
       "    <tr>\n",
       "      <th>25%</th>\n",
       "      <td>-1.16</td>\n",
       "      <td>-1.17</td>\n",
       "      <td>0.13</td>\n",
       "      <td>59.45</td>\n",
       "    </tr>\n",
       "    <tr>\n",
       "      <th>50%</th>\n",
       "      <td>0.01</td>\n",
       "      <td>-0.01</td>\n",
       "      <td>2.48</td>\n",
       "      <td>94.93</td>\n",
       "    </tr>\n",
       "    <tr>\n",
       "      <th>75%</th>\n",
       "      <td>1.16</td>\n",
       "      <td>1.16</td>\n",
       "      <td>4.86</td>\n",
       "      <td>130.60</td>\n",
       "    </tr>\n",
       "    <tr>\n",
       "      <th>max</th>\n",
       "      <td>7.24</td>\n",
       "      <td>7.84</td>\n",
       "      <td>16.74</td>\n",
       "      <td>190.03</td>\n",
       "    </tr>\n",
       "  </tbody>\n",
       "</table>\n",
       "</div>"
      ],
      "text/plain": [
       "              f0         f1         f2    product\n",
       "count  100000.00  100000.00  100000.00  100000.00\n",
       "mean        0.00      -0.00       2.50      95.00\n",
       "std         1.73       1.73       3.47      44.75\n",
       "min        -8.76      -7.08     -11.97       0.00\n",
       "25%        -1.16      -1.17       0.13      59.45\n",
       "50%         0.01      -0.01       2.48      94.93\n",
       "75%         1.16       1.16       4.86     130.60\n",
       "max         7.24       7.84      16.74     190.03"
      ]
     },
     "execution_count": 17,
     "metadata": {},
     "output_type": "execute_result"
    }
   ],
   "source": [
    "geo_data_2.describe().round(2)"
   ]
  },
  {
   "cell_type": "markdown",
   "metadata": {
    "id": "inWO0hruUEl7"
   },
   "source": [
    "Из-за отсутствия подробностей о признаках `f0`, `f1`, `f2` сложно однозначно сказать, имеются ли в них подозрительные данные. Тем не менее, каких-то аномальных значений не наблюдается ни в одном из признаков."
   ]
  },
  {
   "cell_type": "markdown",
   "metadata": {
    "id": "QOe5mALDU_pq"
   },
   "source": [
    "Посмотрим на долю выбросов в каждом столбце датасетов:"
   ]
  },
  {
   "cell_type": "code",
   "execution_count": 18,
   "metadata": {
    "colab": {
     "base_uri": "https://localhost:8080/"
    },
    "id": "aBdjeDGiUDZ_",
    "outputId": "f53b6b24-29e8-4cf5-95ad-208c1a4ae007"
   },
   "outputs": [
    {
     "name": "stdout",
     "output_type": "stream",
     "text": [
      "Доля выбросов в f0 в процентах: 0.0\n",
      "Доля выбросов в f1 в процентах: 0.0\n",
      "Доля выбросов в f2 в процентах: 0.51\n",
      "Доля выбросов в product в процентах: 0.0\n",
      "Доля выбросов в f0 в процентах: 0.0\n",
      "Доля выбросов в f1 в процентах: 0.64\n",
      "Доля выбросов в f2 в процентах: 0.0\n",
      "Доля выбросов в product в процентах: 0.0\n",
      "Доля выбросов в f0 в процентах: 0.73\n",
      "Доля выбросов в f1 в процентах: 0.68\n",
      "Доля выбросов в f2 в процентах: 0.58\n",
      "Доля выбросов в product в процентах: 0.0\n"
     ]
    }
   ],
   "source": [
    "def outliers(dataset, column):\n",
    "    q1 = dataset[column].quantile(0.25) # первый квартиль\n",
    "    q3 = dataset[column].quantile(0.75)  # третий квартиль\n",
    "    iqr = q3 - q1  # межквартильный размах\n",
    "    quant1 = q1 - 1.5*iqr  # нижняя граница выбросов\n",
    "    quant3 = q3 + 1.5*iqr  # верхняя граница выбросов\n",
    "    total = dataset.shape[0]  # общее количество строк в датафрейме\n",
    "    emission = dataset[(dataset[column] < quant1) | \\\n",
    "     (dataset[column] > quant3)].shape[0]\n",
    "    # количество выбросов\n",
    "    emission_quant = (emission / total) * 100  # доля выбросов в столбце\n",
    "    return np.round((emission_quant), decimals=2)\n",
    "    # возвращаем долю выбросов в столбце\n",
    "\n",
    "# Столбцы с выбросами\n",
    "dataset = geo_data_0\n",
    "column_list = ['f0', 'f1', 'f2', 'product']  # список столбцов с выбросами\n",
    "for value in column_list:  # цикл по столбцам с выбросами\n",
    "    print(f'Доля выбросов в {value} в процентах: {outliers(dataset, value)}')\n",
    "\n",
    "dataset = geo_data_1\n",
    "column_list = ['f0', 'f1', 'f2', 'product']\n",
    "for value in column_list:\n",
    "    print(f'Доля выбросов в {value} в процентах: {outliers(dataset, value)}')\n",
    "\n",
    "dataset = geo_data_2\n",
    "column_list = ['f0', 'f1', 'f2', 'product']\n",
    "for value in column_list:\n",
    "    print(f'Доля выбросов в {value} в процентах: {outliers(dataset, value)}')"
   ]
  },
  {
   "cell_type": "markdown",
   "metadata": {
    "id": "RQD8eMF1Vs3w"
   },
   "source": [
    "Выбросы в данных имеются, но их доли незначительны, можно пренебречь. Построим гистограммы распределения признаков:"
   ]
  },
  {
   "cell_type": "code",
   "execution_count": 19,
   "metadata": {
    "id": "aFm2-8qVVdbH"
   },
   "outputs": [],
   "source": [
    "# Гистограмма распределения количественных признаков\n",
    "def histogram(dataset, column):\n",
    "    dataset[column].plot(kind='hist', bins=20, grid=True, \\\n",
    "                figsize=(5, 5), title=(f'Распределение признака \"{column}\"'))\n",
    "    plt.xlabel(column)\n",
    "    plt.ylabel('Количество')\n",
    "    plt.show()\n",
    "    return None"
   ]
  },
  {
   "cell_type": "code",
   "execution_count": 20,
   "metadata": {
    "colab": {
     "base_uri": "https://localhost:8080/",
     "height": 0
    },
    "id": "jnDnUczlWC9j",
    "outputId": "736ea20a-f910-450a-c577-d1e6cc7cf089"
   },
   "outputs": [
    {
     "data": {
      "image/png": "[encoded data removed]",
      "text/plain": [
       "<Figure size 360x360 with 1 Axes>"
      ]
     },
     "metadata": {
      "needs_background": "light"
     },
     "output_type": "display_data"
    }
   ],
   "source": [
    "histogram(geo_data_0, 'f0')"
   ]
  },
  {
   "cell_type": "code",
   "execution_count": 21,
   "metadata": {
    "colab": {
     "base_uri": "https://localhost:8080/",
     "height": 0
    },
    "id": "TzDUeqPQWGkg",
    "outputId": "7673d504-cc8e-4bd5-ec1b-f5a0762fecdb"
   },
   "outputs": [
    {
     "data": {
      "image/png": "[encoded data removed]",
      "text/plain": [
       "<Figure size 360x360 with 1 Axes>"
      ]
     },
     "metadata": {
      "needs_background": "light"
     },
     "output_type": "display_data"
    }
   ],
   "source": [
    "histogram(geo_data_0, 'f1')"
   ]
  },
  {
   "cell_type": "code",
   "execution_count": 22,
   "metadata": {
    "colab": {
     "base_uri": "https://localhost:8080/",
     "height": 0
    },
    "id": "DJVXyHVPWKFU",
    "outputId": "b9635b44-27ca-4970-857b-590630e7b8b6"
   },
   "outputs": [
    {
     "data": {
      "image/png": "[encoded data removed]",
      "text/plain": [
       "<Figure size 360x360 with 1 Axes>"
      ]
     },
     "metadata": {
      "needs_background": "light"
     },
     "output_type": "display_data"
    }
   ],
   "source": [
    "histogram(geo_data_0, 'f2')"
   ]
  },
  {
   "cell_type": "code",
   "execution_count": 23,
   "metadata": {
    "colab": {
     "base_uri": "https://localhost:8080/",
     "height": 0
    },
    "id": "l1VhsNdwWMvy",
    "outputId": "d208d4d4-a74f-486a-bbf7-1a7bba676e8a"
   },
   "outputs": [
    {
     "data": {
      "image/png": "[encoded data removed]",
      "text/plain": [
       "<Figure size 360x360 with 1 Axes>"
      ]
     },
     "metadata": {
      "needs_background": "light"
     },
     "output_type": "display_data"
    }
   ],
   "source": [
    "histogram(geo_data_0, 'product')"
   ]
  },
  {
   "cell_type": "code",
   "execution_count": 24,
   "metadata": {
    "colab": {
     "base_uri": "https://localhost:8080/",
     "height": 0
    },
    "id": "JoscMOcXWQqs",
    "outputId": "6c1e1ade-6abd-481d-d4d4-6ee748f0c0c2"
   },
   "outputs": [
    {
     "data": {
      "image/png": "[encoded data removed]",
      "text/plain": [
       "<Figure size 360x360 with 1 Axes>"
      ]
     },
     "metadata": {
      "needs_background": "light"
     },
     "output_type": "display_data"
    }
   ],
   "source": [
    "histogram(geo_data_1, 'f0')"
   ]
  },
  {
   "cell_type": "code",
   "execution_count": 25,
   "metadata": {
    "colab": {
     "base_uri": "https://localhost:8080/",
     "height": 0
    },
    "id": "zoSX6BAkWW4T",
    "outputId": "4a19f9ac-02c1-4603-91df-01c2aa009692"
   },
   "outputs": [
    {
     "data": {
      "image/png": "[encoded data removed]",
      "text/plain": [
       "<Figure size 360x360 with 1 Axes>"
      ]
     },
     "metadata": {
      "needs_background": "light"
     },
     "output_type": "display_data"
    }
   ],
   "source": [
    "histogram(geo_data_1, 'f1')"
   ]
  },
  {
   "cell_type": "code",
   "execution_count": 26,
   "metadata": {
    "colab": {
     "base_uri": "https://localhost:8080/",
     "height": 0
    },
    "id": "dE5LmB0_WYJV",
    "outputId": "3343c3bb-f982-4b07-ba8c-499904cd920e"
   },
   "outputs": [
    {
     "data": {
      "image/png": "[encoded data removed]",
      "text/plain": [
       "<Figure size 360x360 with 1 Axes>"
      ]
     },
     "metadata": {
      "needs_background": "light"
     },
     "output_type": "display_data"
    }
   ],
   "source": [
    "histogram(geo_data_1, 'f2')"
   ]
  },
  {
   "cell_type": "code",
   "execution_count": 27,
   "metadata": {
    "colab": {
     "base_uri": "https://localhost:8080/",
     "height": 0
    },
    "id": "e4USoIDjWZLr",
    "outputId": "7ff4bbad-1099-4fb0-f562-061237857006"
   },
   "outputs": [
    {
     "data": {
      "image/png": "[encoded data removed]",
      "text/plain": [
       "<Figure size 360x360 with 1 Axes>"
      ]
     },
     "metadata": {
      "needs_background": "light"
     },
     "output_type": "display_data"
    }
   ],
   "source": [
    "histogram(geo_data_1, 'product')"
   ]
  },
  {
   "cell_type": "code",
   "execution_count": 28,
   "metadata": {
    "colab": {
     "base_uri": "https://localhost:8080/",
     "height": 0
    },
    "id": "LdfcahW2Wa_w",
    "outputId": "a76f022f-5c49-47f5-bf8c-79f3c319fc44"
   },
   "outputs": [
    {
     "data": {
      "image/png": "[encoded data removed]",
      "text/plain": [
       "<Figure size 360x360 with 1 Axes>"
      ]
     },
     "metadata": {
      "needs_background": "light"
     },
     "output_type": "display_data"
    }
   ],
   "source": [
    "histogram(geo_data_2, 'f0')"
   ]
  },
  {
   "cell_type": "code",
   "execution_count": 29,
   "metadata": {
    "colab": {
     "base_uri": "https://localhost:8080/",
     "height": 0
    },
    "id": "n7aUZs32Wdtu",
    "outputId": "651abfe5-7837-4b8e-f6f0-ae8be186bfa5"
   },
   "outputs": [
    {
     "data": {
      "image/png": "[encoded data removed]",
      "text/plain": [
       "<Figure size 360x360 with 1 Axes>"
      ]
     },
     "metadata": {
      "needs_background": "light"
     },
     "output_type": "display_data"
    }
   ],
   "source": [
    "histogram(geo_data_2, 'f1')"
   ]
  },
  {
   "cell_type": "code",
   "execution_count": 30,
   "metadata": {
    "colab": {
     "base_uri": "https://localhost:8080/",
     "height": 0
    },
    "id": "3tf3qRmGWfGs",
    "outputId": "79849b46-6a30-4690-b7fc-438e24773854"
   },
   "outputs": [
    {
     "data": {
      "image/png": "[encoded data removed]",
      "text/plain": [
       "<Figure size 360x360 with 1 Axes>"
      ]
     },
     "metadata": {
      "needs_background": "light"
     },
     "output_type": "display_data"
    }
   ],
   "source": [
    "histogram(geo_data_2, 'f2')"
   ]
  },
  {
   "cell_type": "code",
   "execution_count": 31,
   "metadata": {
    "colab": {
     "base_uri": "https://localhost:8080/",
     "height": 0
    },
    "id": "R8cl6HIjWhHY",
    "outputId": "172c6f26-7fc7-4ddf-9d22-56d15c649fd4"
   },
   "outputs": [
    {
     "data": {
      "image/png": "[encoded data removed]",
      "text/plain": [
       "<Figure size 360x360 with 1 Axes>"
      ]
     },
     "metadata": {
      "needs_background": "light"
     },
     "output_type": "display_data"
    }
   ],
   "source": [
    "histogram(geo_data_2, 'product')"
   ]
  },
  {
   "cell_type": "markdown",
   "metadata": {
    "id": "_BqZQMMmW80G"
   },
   "source": [
    "Все распределения нормальные, за исключением признаков `f2` и `product` датасета `geo_data_1`"
   ]
  },
  {
   "cell_type": "markdown",
   "metadata": {
    "id": "cQLzso85XVwg"
   },
   "source": [
    "Проведём корреляционный анализ признаков датасетов. Будем использовать коэффициент корреляции Пирсона, т.к. категориальные признаки отсутствуют, а распределения в основном нормальные:"
   ]
  },
  {
   "cell_type": "code",
   "execution_count": 32,
   "metadata": {
    "colab": {
     "base_uri": "https://localhost:8080/",
     "height": 0
    },
    "id": "Tz94QSHSejgS",
    "outputId": "ed9c8eec-346d-47ab-d536-b7b0b04592cf"
   },
   "outputs": [
    {
     "data": {
      "text/plain": [
       "<Axes: >"
      ]
     },
     "execution_count": 32,
     "metadata": {},
     "output_type": "execute_result"
    },
    {
     "data": {
      "image/png": "[encoded data removed]",
      "text/plain": [
       "<Figure size 432x288 with 2 Axes>"
      ]
     },
     "metadata": {
      "needs_background": "light"
     },
     "output_type": "display_data"
    }
   ],
   "source": [
    "sns.heatmap(geo_data_0.drop(['id'], axis=1).corr(), annot=True)"
   ]
  },
  {
   "cell_type": "code",
   "execution_count": 33,
   "metadata": {
    "colab": {
     "base_uri": "https://localhost:8080/",
     "height": 0
    },
    "id": "848mRfEfcHoe",
    "outputId": "d1034e5b-b788-4d62-b915-a7f764b9b98b"
   },
   "outputs": [
    {
     "data": {
      "text/plain": [
       "<Axes: >"
      ]
     },
     "execution_count": 33,
     "metadata": {},
     "output_type": "execute_result"
    },
    {
     "data": {
      "image/png": "[encoded data removed]",
      "text/plain": [
       "<Figure size 432x288 with 2 Axes>"
      ]
     },
     "metadata": {
      "needs_background": "light"
     },
     "output_type": "display_data"
    }
   ],
   "source": [
    "sns.heatmap(geo_data_1.drop(['id'], axis=1).corr(), annot=True)"
   ]
  },
  {
   "cell_type": "code",
   "execution_count": 34,
   "metadata": {
    "colab": {
     "base_uri": "https://localhost:8080/",
     "height": 0
    },
    "id": "JeHWBAMsfB_u",
    "outputId": "a08b3235-3f8a-455c-c5b6-7dd61b736032"
   },
   "outputs": [
    {
     "data": {
      "text/plain": [
       "<Axes: >"
      ]
     },
     "execution_count": 34,
     "metadata": {},
     "output_type": "execute_result"
    },
    {
     "data": {
      "image/png": "[encoded data removed]",
      "text/plain": [
       "<Figure size 432x288 with 2 Axes>"
      ]
     },
     "metadata": {
      "needs_background": "light"
     },
     "output_type": "display_data"
    }
   ],
   "source": [
    "sns.heatmap(geo_data_2.drop(['id'], axis=1).corr(), annot=True)"
   ]
  },
  {
   "cell_type": "markdown",
   "metadata": {
    "id": "V9LSQPXNhm-4"
   },
   "source": [
    "Согласно шкале Чеддока, наблюдается умеренная связь между признаками `f2` и `product` в датасетах `geo_data_0` `geo_data_2` (0.48 и 0.45, соответственно) и весьма высокая связь между этими же признаками в датасете `geo_data_1` (1)"
   ]
  },
  {
   "cell_type": "markdown",
   "metadata": {
    "id": "yr18r0fIiy1Q"
   },
   "source": [
    "Выводы по разделу:\n",
    "\n",
    "- загрузили и изучили данные из трёх предоставленных датасетов;\n",
    "- пропуски, явные и неявные дубликаты в данных не обнаружены;\n",
    "- провели исследовательский анализ данных, все распределения данных в признаках нормальные, за исключением `f2` и `product` датасета `geo_data_1`;\n",
    "- провели корреляционный анализ данных, который показал наличие умеренной связи между признаками `f2` и `product` в датасетах `geo_data_0` `geo_data_2` и весьма высокой связи между этими же признаками в датасете `geo_data_1`."
   ]
  },
  {
   "cell_type": "markdown",
   "metadata": {
    "id": "JlxaDfWEj2wk"
   },
   "source": [
    "## Обучение и проверка моделей для каждого региона"
   ]
  },
  {
   "cell_type": "markdown",
   "metadata": {
    "id": "5xRHByrhvD5L"
   },
   "source": [
    "Удалим столбец `id` из датасетов, т.к. он мешает обучению моделей:"
   ]
  },
  {
   "cell_type": "code",
   "execution_count": 35,
   "metadata": {
    "id": "zDWs-YJxvOYv"
   },
   "outputs": [],
   "source": [
    "geo_data_0 = geo_data_0.drop(['id'], axis=1)\n",
    "geo_data_1 = geo_data_1.drop(['id'], axis=1)\n",
    "geo_data_2 = geo_data_2.drop(['id'], axis=1)"
   ]
  },
  {
   "cell_type": "markdown",
   "metadata": {
    "id": "JL9Uq79znA0E"
   },
   "source": [
    "Посчитаем значения среднего запаса предсказанного сырья и RMSE моделей для каждого региона:"
   ]
  },
  {
   "cell_type": "code",
   "execution_count": 36,
   "metadata": {
    "colab": {
     "base_uri": "https://localhost:8080/"
    },
    "id": "6vuEGXiCtMGa",
    "outputId": "14f7f47a-5e4f-4369-d75b-f38f64b0a902"
   },
   "outputs": [
    {
     "name": "stdout",
     "output_type": "stream",
     "text": [
      "Средний запас предсказанного сырья в регионе 0: 92.4 тыс. баррелей, значение RMSE: 37.76\n"
     ]
    }
   ],
   "source": [
    "geo_data_0_train, geo_data_0_valid = train_test_split(geo_data_0, \\\n",
    "                          test_size=TEST_SIZE, random_state=RANDOM_STATE)\n",
    "features_train_0 = geo_data_0_train.drop(['product'], axis=1)\n",
    "target_train_0 = geo_data_0_train['product']\n",
    "features_valid_0 = geo_data_0_valid.drop(['product'], axis=1)\n",
    "target_valid_0 = geo_data_0_valid['product']\n",
    "\n",
    "model = LinearRegression()\n",
    "model.fit(features_train_0, target_train_0)\n",
    "pred_valid_0 = pd.Series(model.predict(features_valid_0))\n",
    "rmse = mean_squared_error(target_valid_0, pred_valid_0) ** 0.5\n",
    "print('Средний запас предсказанного сырья в регионе 0:', \\\n",
    "      pred_valid_0.mean().round(2),\\\n",
    "      'тыс. баррелей, значение RMSE:', rmse.round(2))"
   ]
  },
  {
   "cell_type": "code",
   "execution_count": 37,
   "metadata": {
    "colab": {
     "base_uri": "https://localhost:8080/"
    },
    "id": "fu-gwijruSzG",
    "outputId": "fa4adf0d-8cf6-4a8b-b672-aaec26399699"
   },
   "outputs": [
    {
     "name": "stdout",
     "output_type": "stream",
     "text": [
      "Средний запас предсказанного сырья в регионе 1: 68.71 тыс. баррелей, значение RMSE: 0.89\n"
     ]
    }
   ],
   "source": [
    "geo_data_1_train, geo_data_1_valid = train_test_split(geo_data_1, \\\n",
    "                          test_size=TEST_SIZE, random_state=RANDOM_STATE)\n",
    "features_train_1 = geo_data_1_train.drop(['product'], axis=1)\n",
    "target_train_1 = geo_data_1_train['product']\n",
    "features_valid_1 = geo_data_1_valid.drop(['product'], axis=1)\n",
    "target_valid_1 = geo_data_1_valid['product']\n",
    "\n",
    "model = LinearRegression()\n",
    "model.fit(features_train_1, target_train_1)\n",
    "pred_valid_1 = pd.Series(model.predict(features_valid_1))\n",
    "rmse = mean_squared_error(target_valid_1, pred_valid_1) ** 0.5\n",
    "print('Средний запас предсказанного сырья в регионе 1:', \\\n",
    "      pred_valid_1.mean().round(2),\\\n",
    "      'тыс. баррелей, значение RMSE:', rmse.round(2))"
   ]
  },
  {
   "cell_type": "code",
   "execution_count": 38,
   "metadata": {
    "colab": {
     "base_uri": "https://localhost:8080/"
    },
    "id": "j800hEQnubeP",
    "outputId": "bc2cbf9c-a623-4b9a-e8eb-a1b0cf919e0d"
   },
   "outputs": [
    {
     "name": "stdout",
     "output_type": "stream",
     "text": [
      "Средний запас предсказанного сырья в регионе 2: 94.77 тыс. баррелей, значение RMSE: 40.15\n"
     ]
    }
   ],
   "source": [
    "geo_data_2_train, geo_data_2_valid = train_test_split(geo_data_2, \\\n",
    "                          test_size=TEST_SIZE, random_state=RANDOM_STATE)\n",
    "features_train_2 = geo_data_2_train.drop(['product'], axis=1)\n",
    "target_train_2 = geo_data_2_train['product']\n",
    "features_valid_2 = geo_data_2_valid.drop(['product'], axis=1)\n",
    "target_valid_2 = geo_data_2_valid['product']\n",
    "\n",
    "model = LinearRegression()\n",
    "model.fit(features_train_2, target_train_2)\n",
    "pred_valid_2 = pd.Series(model.predict(features_valid_2))\n",
    "rmse = mean_squared_error(target_valid_2, pred_valid_2) ** 0.5\n",
    "print('Средний запас предсказанного сырья в регионе 2:', \\\n",
    "      pred_valid_2.mean().round(2),\\\n",
    "      'тыс. баррелей, значение RMSE:', rmse.round(2))"
   ]
  },
  {
   "cell_type": "markdown",
   "metadata": {
    "id": "lM5u18hh6US0"
   },
   "source": [
    "Реальные средние запасы по каждому региону при этом:"
   ]
  },
  {
   "cell_type": "code",
   "execution_count": 39,
   "metadata": {
    "colab": {
     "base_uri": "https://localhost:8080/"
    },
    "id": "kkwFFpTg5nfF",
    "outputId": "3b788407-5f0b-4628-ff25-92f39f8aec0b"
   },
   "outputs": [
    {
     "data": {
      "text/plain": [
       "92.33"
      ]
     },
     "execution_count": 39,
     "metadata": {},
     "output_type": "execute_result"
    }
   ],
   "source": [
    "target_valid_0.mean().round(2)"
   ]
  },
  {
   "cell_type": "code",
   "execution_count": 40,
   "metadata": {
    "colab": {
     "base_uri": "https://localhost:8080/"
    },
    "id": "jsaM_ly09Vs7",
    "outputId": "034e18d2-f4ef-45aa-ce38-30c7c61a8ca5"
   },
   "outputs": [
    {
     "data": {
      "text/plain": [
       "68.73"
      ]
     },
     "execution_count": 40,
     "metadata": {},
     "output_type": "execute_result"
    }
   ],
   "source": [
    "target_valid_1.mean().round(2)"
   ]
  },
  {
   "cell_type": "code",
   "execution_count": 41,
   "metadata": {
    "colab": {
     "base_uri": "https://localhost:8080/"
    },
    "id": "KW8q7EHq9cu3",
    "outputId": "c9eb2a4e-fc69-44fd-b7cf-49440208a352"
   },
   "outputs": [
    {
     "data": {
      "text/plain": [
       "95.15"
      ]
     },
     "execution_count": 41,
     "metadata": {},
     "output_type": "execute_result"
    }
   ],
   "source": [
    "target_valid_2.mean().round(2)"
   ]
  },
  {
   "cell_type": "markdown",
   "metadata": {
    "id": "OuWpksuu9yZh"
   },
   "source": [
    "Выводы по разделу:\n",
    "\n",
    "- обучили и проверили модели линейной регрессии для трёх исследуемых регионов;\n",
    "- все три модели предсказывают значения запасов сырья, близкие к реальным. При этом самое низкое значение - в регионе 1 (68.7 тыс. баррелей);\n",
    "- минимальное значение (0.89) среднеквадратичной ошибки - у модели для региона 1. Это можно объяснить наличием весьма высокой связи между признаком `f2` и целевым `product`."
   ]
  },
  {
   "cell_type": "markdown",
   "metadata": {
    "id": "-_gCK0h-_Zir"
   },
   "source": [
    "## Подготовка к расчёту прибыли"
   ]
  },
  {
   "cell_type": "markdown",
   "metadata": {
    "id": "GembCHPSBMBs"
   },
   "source": [
    "Сохраним все ключевые значения для расчётов (см условия задачи в первом пункте Проекта) в отдельных переменных:"
   ]
  },
  {
   "cell_type": "code",
   "execution_count": 42,
   "metadata": {
    "id": "SvInOvUG_oWl"
   },
   "outputs": [],
   "source": [
    "# количество исследуемых точек:\n",
    "OIL_WELLS = 500\n",
    "# количество лучших точек для разработки:\n",
    "BEST_WELLS = 200\n",
    "# бюджет на разработку скважин в регионе, в тыс. руб.:\n",
    "BUDGET = 10_000_000\n",
    "# доход с каждой единицы продукта, в тыс. руб.:\n",
    "REVENUE_BY_ONE = 450\n",
    "# порог вероятности убытков:\n",
    "LOSSES = 0.025"
   ]
  },
  {
   "cell_type": "markdown",
   "metadata": {
    "id": "4Zj8BX8LESNt"
   },
   "source": [
    "Посчитаем достаточный объём сырья для безубыточной разработки новой скважины:"
   ]
  },
  {
   "cell_type": "code",
   "execution_count": 43,
   "metadata": {
    "colab": {
     "base_uri": "https://localhost:8080/"
    },
    "id": "_owXWN_tDtp4",
    "outputId": "e810c1b8-e909-418b-d823-3c89f9029b30"
   },
   "outputs": [
    {
     "name": "stdout",
     "output_type": "stream",
     "text": [
      "Достаточный объём сырья для безубыточной разработки: 111.11 тыс. баррелей\n"
     ]
    }
   ],
   "source": [
    "# затраты на разработку одной скважины:\n",
    "WELLS_BUDGET = BUDGET / BEST_WELLS\n",
    "\n",
    "# достаточный объём сырья для безубыточной разработки\n",
    "WELLS_INCOME = WELLS_BUDGET / REVENUE_BY_ONE\n",
    "\n",
    "print('Достаточный объём сырья для безубыточной разработки:', \\\n",
    "      round(WELLS_INCOME, 2), 'тыс. баррелей')"
   ]
  },
  {
   "cell_type": "markdown",
   "metadata": {
    "id": "bJM7_HLkGyl0"
   },
   "source": [
    "Вывод по разделу:\n",
    "\n",
    "- согласно предоставленным условиям задачи, получили значение достаточного объёма сырья для безубыточной разработки скважины, равное 111.11 тыс. баррелей. Это больше, чем средние значения запаса сырья во всех трёх изучаемых регионах. Соответственно, велик риск не окупить затраченный на разработку скважин бюджет. Нужна модель для определения региона, в котором данный риск нивелируется, а добыча принесёт наибольшую прибыль."
   ]
  },
  {
   "cell_type": "markdown",
   "metadata": {
    "id": "FEvIyIePH_Lg"
   },
   "source": [
    "## Создание фунции для расчёта прибыли по выбранным скважинам и предсказаниям модели"
   ]
  },
  {
   "cell_type": "markdown",
   "metadata": {
    "id": "eHNxM3T3IGu_"
   },
   "source": [
    "Для каждого региона выберем лучшие 200 скважин по значениям предсказанных ранее запасов. Создадим функцию для расчёта прибыли:"
   ]
  },
  {
   "cell_type": "code",
   "execution_count": 44,
   "metadata": {
    "id": "WL6VvzHSj6_S"
   },
   "outputs": [],
   "source": [
    "def profit_calc_function(target_valid, pred_valid):\n",
    "    pred_sorted = pred_valid.sort_values(ascending=False).head(BEST_WELLS)\n",
    "    target_sorted = target_valid.reset_index(drop=True)[pred_sorted.index]\n",
    "    return ((REVENUE_BY_ONE * target_sorted.sum() - BUDGET) / 1000000).round(2)"
   ]
  },
  {
   "cell_type": "code",
   "execution_count": 45,
   "metadata": {
    "colab": {
     "base_uri": "https://localhost:8080/"
    },
    "id": "krZeWS16STg7",
    "outputId": "775b52c2-69d0-4a71-9b65-351dc73caf81"
   },
   "outputs": [
    {
     "name": "stdout",
     "output_type": "stream",
     "text": [
      "Прибыль с 200 лучших скважин по региону 0 составляет:  3.36  млрд. руб.\n"
     ]
    }
   ],
   "source": [
    "print('Прибыль с 200 лучших скважин по региону 0 составляет: ', \\\n",
    "profit_calc_function(target_valid_0, pred_valid_0), ' млрд. руб.')"
   ]
  },
  {
   "cell_type": "code",
   "execution_count": 46,
   "metadata": {
    "colab": {
     "base_uri": "https://localhost:8080/"
    },
    "id": "8124vvWbwYsP",
    "outputId": "b32701ae-dcdb-4c01-96f5-9ee18d5d8a4b"
   },
   "outputs": [
    {
     "name": "stdout",
     "output_type": "stream",
     "text": [
      "Прибыль с 200 лучших скважин по региону 1 составляет:  2.42  млрд. руб.\n"
     ]
    }
   ],
   "source": [
    "print('Прибыль с 200 лучших скважин по региону 1 составляет: ', \\\n",
    "profit_calc_function(target_valid_1, pred_valid_1), ' млрд. руб.')"
   ]
  },
  {
   "cell_type": "code",
   "execution_count": 47,
   "metadata": {
    "colab": {
     "base_uri": "https://localhost:8080/"
    },
    "id": "rkcLqmFswuDr",
    "outputId": "4136527a-c4d1-4c81-c887-fd66156ac7a4"
   },
   "outputs": [
    {
     "name": "stdout",
     "output_type": "stream",
     "text": [
      "Прибыль с 200 лучших скважин по региону 2 составляет:  2.6  млрд. руб.\n"
     ]
    }
   ],
   "source": [
    "print('Прибыль с 200 лучших скважин по региону 2 составляет: ', \\\n",
    "profit_calc_function(target_valid_2, pred_valid_2), ' млрд. руб.')"
   ]
  },
  {
   "cell_type": "markdown",
   "metadata": {
    "id": "e2cwesgJGjct"
   },
   "source": [
    "Вывод по разделу:\n",
    "\n",
    "- Если оценивать по 200 лучшим скважинам в каждом регионе, то все три - потенциально прибыльные, профит составляет 3.36, 2.42 и 2.6 млрд. руб. для каждого, соответственно. Однако, такие положительные показатели получены для выборки из 25000 данных. Далее с помощью техники Bootstrap посмотрим, какой результат получится для 500 потенциальных точек."
   ]
  },
  {
   "cell_type": "markdown",
   "metadata": {
    "id": "RLQWmefjHM6E"
   },
   "source": [
    "## Расчёт рисков и прибыли для каждого региона"
   ]
  },
  {
   "cell_type": "code",
   "execution_count": 48,
   "metadata": {
    "id": "yDUrTQPIK70s"
   },
   "outputs": [],
   "source": [
    "# количество выборок по технике Bootstrap:\n",
    "SAMPLES = 1000"
   ]
  },
  {
   "cell_type": "markdown",
   "metadata": {
    "id": "8o6j-ZZUxH-D"
   },
   "source": [
    "Перепишем функцию расчёта прибыли из предыдущего пункта для случая, когда известно количество лучших точек для разработки:"
   ]
  },
  {
   "cell_type": "code",
   "execution_count": 49,
   "metadata": {
    "id": "ln6eWrqbJh9O"
   },
   "outputs": [],
   "source": [
    "def profit_calc_function(target_valid, pred_valid, BEST_WELLS):\n",
    "    pred_sorted = pred_valid.sort_values(ascending=False)\n",
    "\n",
    "    target_sorted = target_valid[pred_sorted.index][:BEST_WELLS]\n",
    "    return ((REVENUE_BY_ONE * target_sorted.sum() - BUDGET) / 1000000).round(2)"
   ]
  },
  {
   "cell_type": "markdown",
   "metadata": {
    "id": "cfsr_01qHb2t"
   },
   "source": [
    "Создадим функцию для расчёта рисков и прибыли для каждого региона:"
   ]
  },
  {
   "cell_type": "code",
   "execution_count": 59,
   "metadata": {
    "id": "_CcTukSjJh_5"
   },
   "outputs": [],
   "source": [
    "def bootstrap_calc(target_valid, pred_valid, SAMPLES, OIL_WELLS):\n",
    "    state = np.random.RandomState(RANDOM_STATE)\n",
    "    count = 0 # счётчик для количества убытков\n",
    "    values = []\n",
    "\n",
    "    for i in range(SAMPLES):\n",
    "        target_subsample = target_valid.reset_index(drop=True).sample(OIL_WELLS, \\\n",
    "                                          replace=True, random_state=state)\n",
    "\n",
    "        pred_subsample = pred_valid[target_subsample.index]\n",
    "\n",
    "        calc = profit_calc_function(target_subsample, pred_subsample, BEST_WELLS)\n",
    "\n",
    "        values.append(calc)\n",
    "\n",
    "        if calc < 0: # если выборка убыточна - увеличиваем счётчик\n",
    "            count += 1\n",
    "\n",
    "    values = pd.Series(values)\n",
    "\n",
    "    mean = values.mean()\n",
    "    print('Средняя прибыль:', mean.round(2), 'млрд. руб.')\n",
    "\n",
    "    confidence_interval = st.t.interval(0.95, len(values) - 1, \\\n",
    "                                      values.mean(), np.std(values))\n",
    "    print('95%-й доверительный интервал:', confidence_interval)\n",
    "\n",
    "    loss = count / SAMPLES\n",
    "    if loss < LOSSES:\n",
    "        print('Риск убытков: {:.1%}, это меньше допустимого, регион подходит' \\\n",
    "    .format(loss))\n",
    "    else:\n",
    "        print('Риск убытков: {:.1%}, это больше допустимого, регион не подходит' \\\n",
    "    .format(loss))"
   ]
  },
  {
   "cell_type": "code",
   "execution_count": 56,
   "metadata": {
    "colab": {
     "base_uri": "https://localhost:8080/"
    },
    "id": "c1Eycep3JiCX",
    "outputId": "8fb8a159-dd34-4e7a-c393-7f1932987d93"
   },
   "outputs": [
    {
     "name": "stdout",
     "output_type": "stream",
     "text": [
      "Средняя прибыль: 0.43 млрд. руб.\n",
      "95%-й доверительный интервал: (-0.10242429892186405, 0.9580642989218642)\n",
      "5.3\n",
      "Риск убытков: 5.3%, это больше допустимого, регион не подходит\n"
     ]
    }
   ],
   "source": [
    "bootstrap_calc(target_valid_0, pred_valid_0, SAMPLES, OIL_WELLS)"
   ]
  },
  {
   "cell_type": "code",
   "execution_count": 57,
   "metadata": {
    "colab": {
     "base_uri": "https://localhost:8080/"
    },
    "id": "pl51kYeOJiFp",
    "outputId": "7c53fb15-6383-451c-f9bd-8697160c97b3"
   },
   "outputs": [
    {
     "name": "stdout",
     "output_type": "stream",
     "text": [
      "Средняя прибыль: 0.51 млрд. руб.\n",
      "95%-й доверительный интервал: (0.08744985148639506, 0.9351101485136051)\n",
      "0.8999999999999999\n",
      "Риск убытков: 0.9%, это меньше допустимого, регион подходит\n"
     ]
    }
   ],
   "source": [
    "bootstrap_calc(target_valid_1, pred_valid_1, SAMPLES, OIL_WELLS)"
   ]
  },
  {
   "cell_type": "code",
   "execution_count": 58,
   "metadata": {
    "colab": {
     "base_uri": "https://localhost:8080/"
    },
    "id": "-KQ35YElJiIa",
    "outputId": "03781a1d-1385-4930-8d1b-458b9dc5ca05"
   },
   "outputs": [
    {
     "name": "stdout",
     "output_type": "stream",
     "text": [
      "Средняя прибыль: 0.4 млрд. руб.\n",
      "95%-й доверительный интервал: (-0.1373766264659882, 0.9424166264659883)\n",
      "7.3\n",
      "Риск убытков: 7.3%, это больше допустимого, регион не подходит\n"
     ]
    }
   ],
   "source": [
    "bootstrap_calc(target_valid_2, pred_valid_2, SAMPLES, OIL_WELLS)"
   ]
  },
  {
   "cell_type": "markdown",
   "metadata": {
    "id": "IudojBLr158l"
   },
   "source": [
    "Вывод по разделу:\n",
    "\n",
    "- средняя прибыль во всех трёх регионах положительная, однако, доверительные интервалы в регионах 0 и 2 принимают отрицательные нижние значения, риски убытка в них 5.3% 7.3%, соответственно, что больше обозначенного нам порога в 2.5%. Учитывая вышесказанное, только регион 1 подходит под критерии, его и предлагаем заказчику как лучший для разработки скважин."
   ]
  },
  {
   "cell_type": "markdown",
   "metadata": {
    "id": "RsRUPTnp4aTv"
   },
   "source": [
    "## Общий вывод"
   ]
  },
  {
   "cell_type": "markdown",
   "metadata": {
    "id": "JITXuvpT4d3G"
   },
   "source": [
    "Перед нами стояла задача построить модель для добывающей компании «ГлавРосГосНефть», которая помогла бы в определении региона из трёх предложенных, где добыча нефти принесёт наибольшую прибыль.\n",
    "\n",
    "Для решения задачи мы проделали следующие этапы:\n",
    "\n",
    "- загрузили и предобработали данные;\n",
    "- провели исследовательский анализ, включающий построение гистограмм распределения данных, а также корреляционный анализ признаков;\n",
    "- обучили и проверили модели линейной регрессии для каждого региона. Все модели предсказывают значения запасов сырья, близкие к реальным. При этом самое низкое значение - в регионе 1 (68.7 тыс. баррелей). Минимальное значение (0.89) среднеквадратичной ошибки - также у модели для региона 1;\n",
    "- посчитали значение достаточного объёма сырья для безубыточной разработки скважины (111.11 тыс. баррелей). Это больше, чем средние значения запаса сырья во всех трёх изучаемых регионах;\n",
    "- создали функцию для расчёта прибыли по выбранным скважинам и предсказаниям модели. По оценке 200 лучших скважин в каждом регионе профит составляет 3.36, 2.42 и 2.6 млрд. руб., соответственно;\n",
    "- рассчитали среднюю прибыль, во всех трёх регионах она оказалась положительной. Однако, доверительные интервалы в регионах 0 и 2 принимают отрицательные нижние значения, риски убытка в них 5.3% 7.3%, соответственно, что больше обозначенного нам порога в 2.5%.\n",
    "\n",
    "Учитывая вышесказанное, можно сделать вывод, что только регион 1 подходит под критерии заказчика, он рекомендуется как лучший для разработки скважин."
   ]
  }
 ],
 "metadata": {
  "ExecuteTimeLog": [
   {
    "duration": 9,
    "start_time": "2024-09-04T09:38:04.183Z"
   },
   {
    "duration": 6,
    "start_time": "2024-09-04T09:39:48.692Z"
   },
   {
    "duration": 24121,
    "start_time": "2024-09-04T09:48:08.036Z"
   },
   {
    "duration": 1542,
    "start_time": "2024-09-04T09:48:32.159Z"
   },
   {
    "duration": 3,
    "start_time": "2024-09-04T09:48:33.703Z"
   },
   {
    "duration": 1832,
    "start_time": "2024-09-04T09:48:33.708Z"
   },
   {
    "duration": 2,
    "start_time": "2024-09-04T09:48:35.542Z"
   },
   {
    "duration": 39,
    "start_time": "2024-09-04T09:48:35.545Z"
   },
   {
    "duration": 20,
    "start_time": "2024-09-04T09:48:35.586Z"
   },
   {
    "duration": 31,
    "start_time": "2024-09-04T09:48:35.608Z"
   },
   {
    "duration": 9,
    "start_time": "2024-09-04T09:48:35.641Z"
   },
   {
    "duration": 43,
    "start_time": "2024-09-04T09:48:35.653Z"
   },
   {
    "duration": 22,
    "start_time": "2024-09-04T09:48:35.697Z"
   },
   {
    "duration": 48,
    "start_time": "2024-09-04T09:48:35.720Z"
   },
   {
    "duration": 57,
    "start_time": "2024-09-04T09:48:35.769Z"
   },
   {
    "duration": 47,
    "start_time": "2024-09-04T09:48:35.827Z"
   },
   {
    "duration": 52,
    "start_time": "2024-09-04T09:48:35.875Z"
   },
   {
    "duration": 36,
    "start_time": "2024-09-04T09:48:35.928Z"
   },
   {
    "duration": 82,
    "start_time": "2024-09-04T09:48:35.966Z"
   },
   {
    "duration": 82,
    "start_time": "2024-09-04T09:48:36.049Z"
   },
   {
    "duration": 3,
    "start_time": "2024-09-04T09:48:36.133Z"
   },
   {
    "duration": 450,
    "start_time": "2024-09-04T09:48:36.138Z"
   },
   {
    "duration": 338,
    "start_time": "2024-09-04T09:48:36.590Z"
   },
   {
    "duration": 320,
    "start_time": "2024-09-04T09:48:36.930Z"
   },
   {
    "duration": 322,
    "start_time": "2024-09-04T09:48:37.251Z"
   },
   {
    "duration": 343,
    "start_time": "2024-09-04T09:48:37.574Z"
   },
   {
    "duration": 388,
    "start_time": "2024-09-04T09:48:37.919Z"
   },
   {
    "duration": 342,
    "start_time": "2024-09-04T09:48:38.309Z"
   },
   {
    "duration": 311,
    "start_time": "2024-09-04T09:48:38.653Z"
   },
   {
    "duration": 312,
    "start_time": "2024-09-04T09:48:38.967Z"
   },
   {
    "duration": 369,
    "start_time": "2024-09-04T09:48:39.280Z"
   },
   {
    "duration": 293,
    "start_time": "2024-09-04T09:48:39.651Z"
   },
   {
    "duration": 336,
    "start_time": "2024-09-04T09:48:39.946Z"
   },
   {
    "duration": 386,
    "start_time": "2024-09-04T09:48:40.283Z"
   },
   {
    "duration": 388,
    "start_time": "2024-09-04T09:48:40.671Z"
   },
   {
    "duration": 350,
    "start_time": "2024-09-04T09:48:41.061Z"
   },
   {
    "duration": 21,
    "start_time": "2024-09-04T09:48:41.413Z"
   },
   {
    "duration": 33,
    "start_time": "2024-09-04T09:48:41.435Z"
   },
   {
    "duration": 121,
    "start_time": "2024-09-04T09:48:41.532Z"
   },
   {
    "duration": 122,
    "start_time": "2024-09-04T09:48:41.727Z"
   },
   {
    "duration": 6,
    "start_time": "2024-09-04T09:48:41.925Z"
   },
   {
    "duration": 96,
    "start_time": "2024-09-04T09:48:41.932Z"
   },
   {
    "duration": 13,
    "start_time": "2024-09-04T09:48:42.029Z"
   },
   {
    "duration": 3,
    "start_time": "2024-09-04T09:48:42.044Z"
   },
   {
    "duration": 8,
    "start_time": "2024-09-04T09:48:42.049Z"
   },
   {
    "duration": 7,
    "start_time": "2024-09-04T09:48:42.058Z"
   },
   {
    "duration": 8,
    "start_time": "2024-09-04T09:48:42.067Z"
   },
   {
    "duration": 7,
    "start_time": "2024-09-04T09:48:42.077Z"
   },
   {
    "duration": 11,
    "start_time": "2024-09-04T09:48:42.086Z"
   },
   {
    "duration": 2,
    "start_time": "2024-09-04T09:48:42.126Z"
   },
   {
    "duration": 48,
    "start_time": "2024-09-04T09:48:42.130Z"
   },
   {
    "duration": 7,
    "start_time": "2024-09-04T09:48:42.179Z"
   },
   {
    "duration": 1502,
    "start_time": "2024-09-04T09:48:42.188Z"
   },
   {
    "duration": 1454,
    "start_time": "2024-09-04T09:48:43.691Z"
   },
   {
    "duration": 1485,
    "start_time": "2024-09-04T09:48:45.147Z"
   },
   {
    "duration": 25428,
    "start_time": "2024-09-04T10:40:05.348Z"
   },
   {
    "duration": 1651,
    "start_time": "2024-09-04T10:40:30.778Z"
   },
   {
    "duration": 3,
    "start_time": "2024-09-04T10:40:32.430Z"
   },
   {
    "duration": 1770,
    "start_time": "2024-09-04T10:40:32.435Z"
   },
   {
    "duration": 3,
    "start_time": "2024-09-04T10:40:34.207Z"
   },
   {
    "duration": 36,
    "start_time": "2024-09-04T10:40:34.212Z"
   },
   {
    "duration": 30,
    "start_time": "2024-09-04T10:40:34.249Z"
   },
   {
    "duration": 19,
    "start_time": "2024-09-04T10:40:34.281Z"
   },
   {
    "duration": 10,
    "start_time": "2024-09-04T10:40:34.301Z"
   },
   {
    "duration": 9,
    "start_time": "2024-09-04T10:40:34.315Z"
   },
   {
    "duration": 15,
    "start_time": "2024-09-04T10:40:34.352Z"
   },
   {
    "duration": 45,
    "start_time": "2024-09-04T10:40:34.368Z"
   },
   {
    "duration": 66,
    "start_time": "2024-09-04T10:40:34.415Z"
   },
   {
    "duration": 45,
    "start_time": "2024-09-04T10:40:34.483Z"
   },
   {
    "duration": 56,
    "start_time": "2024-09-04T10:40:34.529Z"
   },
   {
    "duration": 36,
    "start_time": "2024-09-04T10:40:34.587Z"
   },
   {
    "duration": 91,
    "start_time": "2024-09-04T10:40:34.624Z"
   },
   {
    "duration": 81,
    "start_time": "2024-09-04T10:40:34.717Z"
   },
   {
    "duration": 3,
    "start_time": "2024-09-04T10:40:34.800Z"
   },
   {
    "duration": 419,
    "start_time": "2024-09-04T10:40:34.804Z"
   },
   {
    "duration": 351,
    "start_time": "2024-09-04T10:40:35.225Z"
   },
   {
    "duration": 341,
    "start_time": "2024-09-04T10:40:35.577Z"
   },
   {
    "duration": 375,
    "start_time": "2024-09-04T10:40:35.919Z"
   },
   {
    "duration": 328,
    "start_time": "2024-09-04T10:40:36.296Z"
   },
   {
    "duration": 429,
    "start_time": "2024-09-04T10:40:36.626Z"
   },
   {
    "duration": 327,
    "start_time": "2024-09-04T10:40:37.057Z"
   },
   {
    "duration": 328,
    "start_time": "2024-09-04T10:40:37.385Z"
   },
   {
    "duration": 376,
    "start_time": "2024-09-04T10:40:37.716Z"
   },
   {
    "duration": 345,
    "start_time": "2024-09-04T10:40:38.094Z"
   },
   {
    "duration": 345,
    "start_time": "2024-09-04T10:40:38.441Z"
   },
   {
    "duration": 377,
    "start_time": "2024-09-04T10:40:38.787Z"
   },
   {
    "duration": 353,
    "start_time": "2024-09-04T10:40:39.166Z"
   },
   {
    "duration": 377,
    "start_time": "2024-09-04T10:40:39.521Z"
   },
   {
    "duration": 416,
    "start_time": "2024-09-04T10:40:39.900Z"
   },
   {
    "duration": 16,
    "start_time": "2024-09-04T10:40:40.317Z"
   },
   {
    "duration": 52,
    "start_time": "2024-09-04T10:40:40.335Z"
   },
   {
    "duration": 192,
    "start_time": "2024-09-04T10:40:40.389Z"
   },
   {
    "duration": 195,
    "start_time": "2024-09-04T10:40:40.583Z"
   },
   {
    "duration": 90,
    "start_time": "2024-09-04T10:40:40.861Z"
   },
   {
    "duration": 7,
    "start_time": "2024-09-04T10:40:40.960Z"
   },
   {
    "duration": 7,
    "start_time": "2024-09-04T10:40:40.968Z"
   },
   {
    "duration": 3,
    "start_time": "2024-09-04T10:40:40.976Z"
   },
   {
    "duration": 13,
    "start_time": "2024-09-04T10:40:40.980Z"
   },
   {
    "duration": 14,
    "start_time": "2024-09-04T10:40:40.995Z"
   },
   {
    "duration": 12,
    "start_time": "2024-09-04T10:40:41.011Z"
   },
   {
    "duration": 7,
    "start_time": "2024-09-04T10:40:41.024Z"
   },
   {
    "duration": 20,
    "start_time": "2024-09-04T10:40:41.032Z"
   },
   {
    "duration": 63,
    "start_time": "2024-09-04T10:40:41.055Z"
   },
   {
    "duration": 4,
    "start_time": "2024-09-04T10:40:41.120Z"
   },
   {
    "duration": 7,
    "start_time": "2024-09-04T10:40:41.126Z"
   },
   {
    "duration": 131,
    "start_time": "2024-09-04T10:40:41.134Z"
   },
   {
    "duration": 0,
    "start_time": "2024-09-04T10:40:41.267Z"
   },
   {
    "duration": 0,
    "start_time": "2024-09-04T10:40:41.268Z"
   },
   {
    "duration": 0,
    "start_time": "2024-09-04T10:40:41.269Z"
   },
   {
    "duration": 1646,
    "start_time": "2024-09-04T10:43:56.383Z"
   },
   {
    "duration": 1513,
    "start_time": "2024-09-04T10:43:58.031Z"
   },
   {
    "duration": 1522,
    "start_time": "2024-09-04T10:43:59.546Z"
   },
   {
    "duration": 6,
    "start_time": "2024-09-04T10:51:28.397Z"
   },
   {
    "duration": 1598,
    "start_time": "2024-09-04T10:51:30.337Z"
   },
   {
    "duration": 1563,
    "start_time": "2024-09-04T10:51:31.937Z"
   },
   {
    "duration": 1598,
    "start_time": "2024-09-04T10:51:33.501Z"
   },
   {
    "duration": 5,
    "start_time": "2024-09-04T10:51:36.906Z"
   }
  ],
  "colab": {
   "collapsed_sections": [
    "QD1UizUn7Lx4",
    "Ot4VkRnUSL8y",
    "S4CaZV2XTS2R",
    "JlxaDfWEj2wk",
    "-_gCK0h-_Zir",
    "FEvIyIePH_Lg",
    "RLQWmefjHM6E",
    "RsRUPTnp4aTv"
   ],
   "provenance": [],
   "toc_visible": true
  },
  "kernelspec": {
   "display_name": "Python 3 (ipykernel)",
   "language": "python",
   "name": "python3"
  },
  "language_info": {
   "codemirror_mode": {
    "name": "ipython",
    "version": 3
   },
   "file_extension": ".py",
   "mimetype": "text/x-python",
   "name": "python",
   "nbconvert_exporter": "python",
   "pygments_lexer": "ipython3",
   "version": "3.11.8"
  },
  "toc": {
   "base_numbering": 1,
   "nav_menu": {},
   "number_sections": true,
   "sideBar": true,
   "skip_h1_title": true,
   "title_cell": "Содержание",
   "title_sidebar": "Contents",
   "toc_cell": true,
   "toc_position": {},
   "toc_section_display": true,
   "toc_window_display": true
  }
 },
 "nbformat": 4,
 "nbformat_minor": 1
}
