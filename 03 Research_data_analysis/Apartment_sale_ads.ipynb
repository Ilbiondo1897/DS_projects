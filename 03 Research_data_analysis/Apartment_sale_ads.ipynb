{
 "cells": [
  {
   "cell_type": "markdown",
   "id": "c970cf61",
   "metadata": {
    "toc": true
   },
   "source": [
    "<h1>Содержание<span class=\"tocSkip\"></span></h1>\n",
    "<div class=\"toc\"><ul class=\"toc-item\"><li><span><a href=\"#Изучение-общей-информации-о-данных\" data-toc-modified-id=\"Изучение-общей-информации-о-данных-1\"><span class=\"toc-item-num\">1&nbsp;&nbsp;</span>Изучение общей информации о данных</a></span></li><li><span><a href=\"#Предобработка-данных\" data-toc-modified-id=\"Предобработка-данных-2\"><span class=\"toc-item-num\">2&nbsp;&nbsp;</span>Предобработка данных</a></span><ul class=\"toc-item\"><li><span><a href=\"#Найдём-и-изучим-пропущенные-значения-в-столбцах\" data-toc-modified-id=\"Найдём-и-изучим-пропущенные-значения-в-столбцах-2.1\"><span class=\"toc-item-num\">2.1&nbsp;&nbsp;</span>Найдём и изучим пропущенные значения в столбцах</a></span></li><li><span><a href=\"#Анализ-типов-данных-в-каждом-столбце\" data-toc-modified-id=\"Анализ-типов-данных-в-каждом-столбце-2.2\"><span class=\"toc-item-num\">2.2&nbsp;&nbsp;</span>Анализ типов данных в каждом столбце</a></span></li><li><span><a href=\"#Анализ-уникальных-значений-в-столбце-с-названиями,-устранение-неявных-дубликатов\" data-toc-modified-id=\"Анализ-уникальных-значений-в-столбце-с-названиями,-устранение-неявных-дубликатов-2.3\"><span class=\"toc-item-num\">2.3&nbsp;&nbsp;</span>Анализ уникальных значений в столбце с названиями, устранение неявных дубликатов</a></span></li></ul></li><li><span><a href=\"#Добавление-в-таблицу-новых-столбцов\" data-toc-modified-id=\"Добавление-в-таблицу-новых-столбцов-3\"><span class=\"toc-item-num\">3&nbsp;&nbsp;</span>Добавление в таблицу новых столбцов</a></span></li><li><span><a href=\"#Исследовательский-анализ-данных\" data-toc-modified-id=\"Исследовательский-анализ-данных-4\"><span class=\"toc-item-num\">4&nbsp;&nbsp;</span>Исследовательский анализ данных</a></span><ul class=\"toc-item\"><li><span><a href=\"#Детальное-изучение-отдельных-параметров-для-объектов-продажи\" data-toc-modified-id=\"Детальное-изучение-отдельных-параметров-для-объектов-продажи-4.1\"><span class=\"toc-item-num\">4.1&nbsp;&nbsp;</span>Детальное изучение отдельных параметров для объектов продажи</a></span></li><li><span><a href=\"#Изучение-скорости-продажи-квартир\" data-toc-modified-id=\"Изучение-скорости-продажи-квартир-4.2\"><span class=\"toc-item-num\">4.2&nbsp;&nbsp;</span>Изучение скорости продажи квартир</a></span></li><li><span><a href=\"#Определение-факторов,-больше-всего-влияющих-на-стоимость-объекта\" data-toc-modified-id=\"Определение-факторов,-больше-всего-влияющих-на-стоимость-объекта-4.3\"><span class=\"toc-item-num\">4.3&nbsp;&nbsp;</span>Определение факторов, больше всего влияющих на стоимость объекта</a></span></li><li><span><a href=\"#Подсчёт-средней-цены-одного-квадратного-метра-в-10-населённых-пунктах-с-наибольшим-числом-объявлений\" data-toc-modified-id=\"Подсчёт-средней-цены-одного-квадратного-метра-в-10-населённых-пунктах-с-наибольшим-числом-объявлений-4.4\"><span class=\"toc-item-num\">4.4&nbsp;&nbsp;</span>Подсчёт средней цены одного квадратного метра в 10 населённых пунктах с наибольшим числом объявлений</a></span></li><li><span><a href=\"#Вычисление-средней-стоимости-квартир-в-Санкт-Петербурге-на-разном-удалении-от-центра\" data-toc-modified-id=\"Вычисление-средней-стоимости-квартир-в-Санкт-Петербурге-на-разном-удалении-от-центра-4.5\"><span class=\"toc-item-num\">4.5&nbsp;&nbsp;</span>Вычисление средней стоимости квартир в Санкт-Петербурге на разном удалении от центра</a></span></li></ul></li><li><span><a href=\"#Итоговый-вывод\" data-toc-modified-id=\"Итоговый-вывод-5\"><span class=\"toc-item-num\">5&nbsp;&nbsp;</span>Итоговый вывод</a></span></li><li><span><a href=\"#Чек-лист-готовности-проекта\" data-toc-modified-id=\"Чек-лист-готовности-проекта-6\"><span class=\"toc-item-num\">6&nbsp;&nbsp;</span>Чек-лист готовности проекта</a></span></li></ul></div>"
   ]
  },
  {
   "cell_type": "markdown",
   "id": "7f48990c",
   "metadata": {},
   "source": [
    "# Проект: исследование объявлений о продаже квартир <a class=\"tocSkip\">"
   ]
  },
  {
   "cell_type": "markdown",
   "id": "282242a8",
   "metadata": {},
   "source": [
    "Цель проекта - научиться определять рыночную стоимость объектов недвижимости. Дано: архив объявлений о продаже квартир в Санкт-Петербурге и соседних населённых пунктах за несколько лет. \n",
    "\n",
    "Задание - провести исследовательский анализ данных и установить параметры, влияющие на цену объектов, что позволит построить автоматизированную систему, отслеживающую аномалии и мошенническую деятельность. По каждой квартире доступны два вида данных: вписанные пользователем и полученные автоматически на основе картографических данных."
   ]
  },
  {
   "cell_type": "markdown",
   "id": "87931e83",
   "metadata": {},
   "source": [
    "## Изучение общей информации о данных"
   ]
  },
  {
   "cell_type": "markdown",
   "id": "50b66612",
   "metadata": {},
   "source": [
    "Импортируем библиотеки pandas и numpy, считаем данные из csv-файла в датафрейм и сохраним в переменную `data`:"
   ]
  },
  {
   "cell_type": "code",
   "execution_count": 1,
   "id": "15c12b36",
   "metadata": {},
   "outputs": [],
   "source": [
    "import pandas as pd\n",
    "import numpy as np"
   ]
  },
  {
   "cell_type": "code",
   "execution_count": 2,
   "id": "e63593d2",
   "metadata": {},
   "outputs": [],
   "source": [
    "try:\n",
    "    data = pd.read_csv('real_estate_data.csv')\n",
    "except:\n",
    "    data = pd.read_csv('/datasets/real_estate_data.csv')"
   ]
  },
  {
   "cell_type": "markdown",
   "id": "d2dbf2d7",
   "metadata": {},
   "source": [
    "Выведем первые 5 строк датафрейма:"
   ]
  },
  {
   "cell_type": "code",
   "execution_count": 3,
   "id": "4ed33c0b",
   "metadata": {},
   "outputs": [],
   "source": [
    "pd.set_option('display.max_columns', None)"
   ]
  },
  {
   "cell_type": "code",
   "execution_count": 4,
   "id": "277553c2",
   "metadata": {},
   "outputs": [
    {
     "data": {
      "text/html": [
       "<div>\n",
       "<style scoped>\n",
       "    .dataframe tbody tr th:only-of-type {\n",
       "        vertical-align: middle;\n",
       "    }\n",
       "\n",
       "    .dataframe tbody tr th {\n",
       "        vertical-align: top;\n",
       "    }\n",
       "\n",
       "    .dataframe thead th {\n",
       "        text-align: right;\n",
       "    }\n",
       "</style>\n",
       "<table border=\"1\" class=\"dataframe\">\n",
       "  <thead>\n",
       "    <tr style=\"text-align: right;\">\n",
       "      <th></th>\n",
       "      <th>total_images</th>\n",
       "      <th>last_price</th>\n",
       "      <th>total_area</th>\n",
       "      <th>first_day_exposition</th>\n",
       "      <th>rooms</th>\n",
       "      <th>ceiling_height</th>\n",
       "      <th>floors_total</th>\n",
       "      <th>living_area</th>\n",
       "      <th>floor</th>\n",
       "      <th>is_apartment</th>\n",
       "      <th>studio</th>\n",
       "      <th>open_plan</th>\n",
       "      <th>kitchen_area</th>\n",
       "      <th>balcony</th>\n",
       "      <th>locality_name</th>\n",
       "      <th>airports_nearest</th>\n",
       "      <th>cityCenters_nearest</th>\n",
       "      <th>parks_around3000</th>\n",
       "      <th>parks_nearest</th>\n",
       "      <th>ponds_around3000</th>\n",
       "      <th>ponds_nearest</th>\n",
       "      <th>days_exposition</th>\n",
       "    </tr>\n",
       "  </thead>\n",
       "  <tbody>\n",
       "    <tr>\n",
       "      <th>0</th>\n",
       "      <td>20</td>\n",
       "      <td>13000000.0</td>\n",
       "      <td>108.0</td>\n",
       "      <td>2019-03-07T00:00:00</td>\n",
       "      <td>3</td>\n",
       "      <td>2.70</td>\n",
       "      <td>16.0</td>\n",
       "      <td>51.0</td>\n",
       "      <td>8</td>\n",
       "      <td>NaN</td>\n",
       "      <td>False</td>\n",
       "      <td>False</td>\n",
       "      <td>25.0</td>\n",
       "      <td>NaN</td>\n",
       "      <td>Санкт-Петербург</td>\n",
       "      <td>18863.0</td>\n",
       "      <td>16028.0</td>\n",
       "      <td>1.0</td>\n",
       "      <td>482.0</td>\n",
       "      <td>2.0</td>\n",
       "      <td>755.0</td>\n",
       "      <td>NaN</td>\n",
       "    </tr>\n",
       "    <tr>\n",
       "      <th>1</th>\n",
       "      <td>7</td>\n",
       "      <td>3350000.0</td>\n",
       "      <td>40.4</td>\n",
       "      <td>2018-12-04T00:00:00</td>\n",
       "      <td>1</td>\n",
       "      <td>NaN</td>\n",
       "      <td>11.0</td>\n",
       "      <td>18.6</td>\n",
       "      <td>1</td>\n",
       "      <td>NaN</td>\n",
       "      <td>False</td>\n",
       "      <td>False</td>\n",
       "      <td>11.0</td>\n",
       "      <td>2.0</td>\n",
       "      <td>посёлок Шушары</td>\n",
       "      <td>12817.0</td>\n",
       "      <td>18603.0</td>\n",
       "      <td>0.0</td>\n",
       "      <td>NaN</td>\n",
       "      <td>0.0</td>\n",
       "      <td>NaN</td>\n",
       "      <td>81.0</td>\n",
       "    </tr>\n",
       "    <tr>\n",
       "      <th>2</th>\n",
       "      <td>10</td>\n",
       "      <td>5196000.0</td>\n",
       "      <td>56.0</td>\n",
       "      <td>2015-08-20T00:00:00</td>\n",
       "      <td>2</td>\n",
       "      <td>NaN</td>\n",
       "      <td>5.0</td>\n",
       "      <td>34.3</td>\n",
       "      <td>4</td>\n",
       "      <td>NaN</td>\n",
       "      <td>False</td>\n",
       "      <td>False</td>\n",
       "      <td>8.3</td>\n",
       "      <td>0.0</td>\n",
       "      <td>Санкт-Петербург</td>\n",
       "      <td>21741.0</td>\n",
       "      <td>13933.0</td>\n",
       "      <td>1.0</td>\n",
       "      <td>90.0</td>\n",
       "      <td>2.0</td>\n",
       "      <td>574.0</td>\n",
       "      <td>558.0</td>\n",
       "    </tr>\n",
       "    <tr>\n",
       "      <th>3</th>\n",
       "      <td>0</td>\n",
       "      <td>64900000.0</td>\n",
       "      <td>159.0</td>\n",
       "      <td>2015-07-24T00:00:00</td>\n",
       "      <td>3</td>\n",
       "      <td>NaN</td>\n",
       "      <td>14.0</td>\n",
       "      <td>NaN</td>\n",
       "      <td>9</td>\n",
       "      <td>NaN</td>\n",
       "      <td>False</td>\n",
       "      <td>False</td>\n",
       "      <td>NaN</td>\n",
       "      <td>0.0</td>\n",
       "      <td>Санкт-Петербург</td>\n",
       "      <td>28098.0</td>\n",
       "      <td>6800.0</td>\n",
       "      <td>2.0</td>\n",
       "      <td>84.0</td>\n",
       "      <td>3.0</td>\n",
       "      <td>234.0</td>\n",
       "      <td>424.0</td>\n",
       "    </tr>\n",
       "    <tr>\n",
       "      <th>4</th>\n",
       "      <td>2</td>\n",
       "      <td>10000000.0</td>\n",
       "      <td>100.0</td>\n",
       "      <td>2018-06-19T00:00:00</td>\n",
       "      <td>2</td>\n",
       "      <td>3.03</td>\n",
       "      <td>14.0</td>\n",
       "      <td>32.0</td>\n",
       "      <td>13</td>\n",
       "      <td>NaN</td>\n",
       "      <td>False</td>\n",
       "      <td>False</td>\n",
       "      <td>41.0</td>\n",
       "      <td>NaN</td>\n",
       "      <td>Санкт-Петербург</td>\n",
       "      <td>31856.0</td>\n",
       "      <td>8098.0</td>\n",
       "      <td>2.0</td>\n",
       "      <td>112.0</td>\n",
       "      <td>1.0</td>\n",
       "      <td>48.0</td>\n",
       "      <td>121.0</td>\n",
       "    </tr>\n",
       "  </tbody>\n",
       "</table>\n",
       "</div>"
      ],
      "text/plain": [
       "   total_images  last_price  total_area first_day_exposition  rooms  \\\n",
       "0            20  13000000.0       108.0  2019-03-07T00:00:00      3   \n",
       "1             7   3350000.0        40.4  2018-12-04T00:00:00      1   \n",
       "2            10   5196000.0        56.0  2015-08-20T00:00:00      2   \n",
       "3             0  64900000.0       159.0  2015-07-24T00:00:00      3   \n",
       "4             2  10000000.0       100.0  2018-06-19T00:00:00      2   \n",
       "\n",
       "   ceiling_height  floors_total  living_area  floor is_apartment  studio  \\\n",
       "0            2.70          16.0         51.0      8          NaN   False   \n",
       "1             NaN          11.0         18.6      1          NaN   False   \n",
       "2             NaN           5.0         34.3      4          NaN   False   \n",
       "3             NaN          14.0          NaN      9          NaN   False   \n",
       "4            3.03          14.0         32.0     13          NaN   False   \n",
       "\n",
       "   open_plan  kitchen_area  balcony    locality_name  airports_nearest  \\\n",
       "0      False          25.0      NaN  Санкт-Петербург           18863.0   \n",
       "1      False          11.0      2.0   посёлок Шушары           12817.0   \n",
       "2      False           8.3      0.0  Санкт-Петербург           21741.0   \n",
       "3      False           NaN      0.0  Санкт-Петербург           28098.0   \n",
       "4      False          41.0      NaN  Санкт-Петербург           31856.0   \n",
       "\n",
       "   cityCenters_nearest  parks_around3000  parks_nearest  ponds_around3000  \\\n",
       "0              16028.0               1.0          482.0               2.0   \n",
       "1              18603.0               0.0            NaN               0.0   \n",
       "2              13933.0               1.0           90.0               2.0   \n",
       "3               6800.0               2.0           84.0               3.0   \n",
       "4               8098.0               2.0          112.0               1.0   \n",
       "\n",
       "   ponds_nearest  days_exposition  \n",
       "0          755.0              NaN  \n",
       "1            NaN             81.0  \n",
       "2          574.0            558.0  \n",
       "3          234.0            424.0  \n",
       "4           48.0            121.0  "
      ]
     },
     "execution_count": 4,
     "metadata": {},
     "output_type": "execute_result"
    }
   ],
   "source": [
    "data.head()"
   ]
  },
  {
   "cell_type": "markdown",
   "id": "84a7e413",
   "metadata": {},
   "source": [
    "Прочитаем данные, указав в качестве разделителя знак табуляции, и снова выведем первые пять строк таблицы:"
   ]
  },
  {
   "cell_type": "code",
   "execution_count": 5,
   "id": "6fa7221f",
   "metadata": {},
   "outputs": [],
   "source": [
    "try:\n",
    "    data = pd.read_csv('/datasets/real_estate_data.csv', sep='\\t')\n",
    "except:\n",
    "    data = pd.read_csv('real_estate_data.csv', sep='\\t')"
   ]
  },
  {
   "cell_type": "code",
   "execution_count": 6,
   "id": "17c9e0d1",
   "metadata": {},
   "outputs": [
    {
     "data": {
      "text/html": [
       "<div>\n",
       "<style scoped>\n",
       "    .dataframe tbody tr th:only-of-type {\n",
       "        vertical-align: middle;\n",
       "    }\n",
       "\n",
       "    .dataframe tbody tr th {\n",
       "        vertical-align: top;\n",
       "    }\n",
       "\n",
       "    .dataframe thead th {\n",
       "        text-align: right;\n",
       "    }\n",
       "</style>\n",
       "<table border=\"1\" class=\"dataframe\">\n",
       "  <thead>\n",
       "    <tr style=\"text-align: right;\">\n",
       "      <th></th>\n",
       "      <th>total_images</th>\n",
       "      <th>last_price</th>\n",
       "      <th>total_area</th>\n",
       "      <th>first_day_exposition</th>\n",
       "      <th>rooms</th>\n",
       "      <th>ceiling_height</th>\n",
       "      <th>floors_total</th>\n",
       "      <th>living_area</th>\n",
       "      <th>floor</th>\n",
       "      <th>is_apartment</th>\n",
       "      <th>studio</th>\n",
       "      <th>open_plan</th>\n",
       "      <th>kitchen_area</th>\n",
       "      <th>balcony</th>\n",
       "      <th>locality_name</th>\n",
       "      <th>airports_nearest</th>\n",
       "      <th>cityCenters_nearest</th>\n",
       "      <th>parks_around3000</th>\n",
       "      <th>parks_nearest</th>\n",
       "      <th>ponds_around3000</th>\n",
       "      <th>ponds_nearest</th>\n",
       "      <th>days_exposition</th>\n",
       "    </tr>\n",
       "  </thead>\n",
       "  <tbody>\n",
       "    <tr>\n",
       "      <th>0</th>\n",
       "      <td>20</td>\n",
       "      <td>13000000.0</td>\n",
       "      <td>108.0</td>\n",
       "      <td>2019-03-07T00:00:00</td>\n",
       "      <td>3</td>\n",
       "      <td>2.70</td>\n",
       "      <td>16.0</td>\n",
       "      <td>51.0</td>\n",
       "      <td>8</td>\n",
       "      <td>NaN</td>\n",
       "      <td>False</td>\n",
       "      <td>False</td>\n",
       "      <td>25.0</td>\n",
       "      <td>NaN</td>\n",
       "      <td>Санкт-Петербург</td>\n",
       "      <td>18863.0</td>\n",
       "      <td>16028.0</td>\n",
       "      <td>1.0</td>\n",
       "      <td>482.0</td>\n",
       "      <td>2.0</td>\n",
       "      <td>755.0</td>\n",
       "      <td>NaN</td>\n",
       "    </tr>\n",
       "    <tr>\n",
       "      <th>1</th>\n",
       "      <td>7</td>\n",
       "      <td>3350000.0</td>\n",
       "      <td>40.4</td>\n",
       "      <td>2018-12-04T00:00:00</td>\n",
       "      <td>1</td>\n",
       "      <td>NaN</td>\n",
       "      <td>11.0</td>\n",
       "      <td>18.6</td>\n",
       "      <td>1</td>\n",
       "      <td>NaN</td>\n",
       "      <td>False</td>\n",
       "      <td>False</td>\n",
       "      <td>11.0</td>\n",
       "      <td>2.0</td>\n",
       "      <td>посёлок Шушары</td>\n",
       "      <td>12817.0</td>\n",
       "      <td>18603.0</td>\n",
       "      <td>0.0</td>\n",
       "      <td>NaN</td>\n",
       "      <td>0.0</td>\n",
       "      <td>NaN</td>\n",
       "      <td>81.0</td>\n",
       "    </tr>\n",
       "    <tr>\n",
       "      <th>2</th>\n",
       "      <td>10</td>\n",
       "      <td>5196000.0</td>\n",
       "      <td>56.0</td>\n",
       "      <td>2015-08-20T00:00:00</td>\n",
       "      <td>2</td>\n",
       "      <td>NaN</td>\n",
       "      <td>5.0</td>\n",
       "      <td>34.3</td>\n",
       "      <td>4</td>\n",
       "      <td>NaN</td>\n",
       "      <td>False</td>\n",
       "      <td>False</td>\n",
       "      <td>8.3</td>\n",
       "      <td>0.0</td>\n",
       "      <td>Санкт-Петербург</td>\n",
       "      <td>21741.0</td>\n",
       "      <td>13933.0</td>\n",
       "      <td>1.0</td>\n",
       "      <td>90.0</td>\n",
       "      <td>2.0</td>\n",
       "      <td>574.0</td>\n",
       "      <td>558.0</td>\n",
       "    </tr>\n",
       "    <tr>\n",
       "      <th>3</th>\n",
       "      <td>0</td>\n",
       "      <td>64900000.0</td>\n",
       "      <td>159.0</td>\n",
       "      <td>2015-07-24T00:00:00</td>\n",
       "      <td>3</td>\n",
       "      <td>NaN</td>\n",
       "      <td>14.0</td>\n",
       "      <td>NaN</td>\n",
       "      <td>9</td>\n",
       "      <td>NaN</td>\n",
       "      <td>False</td>\n",
       "      <td>False</td>\n",
       "      <td>NaN</td>\n",
       "      <td>0.0</td>\n",
       "      <td>Санкт-Петербург</td>\n",
       "      <td>28098.0</td>\n",
       "      <td>6800.0</td>\n",
       "      <td>2.0</td>\n",
       "      <td>84.0</td>\n",
       "      <td>3.0</td>\n",
       "      <td>234.0</td>\n",
       "      <td>424.0</td>\n",
       "    </tr>\n",
       "    <tr>\n",
       "      <th>4</th>\n",
       "      <td>2</td>\n",
       "      <td>10000000.0</td>\n",
       "      <td>100.0</td>\n",
       "      <td>2018-06-19T00:00:00</td>\n",
       "      <td>2</td>\n",
       "      <td>3.03</td>\n",
       "      <td>14.0</td>\n",
       "      <td>32.0</td>\n",
       "      <td>13</td>\n",
       "      <td>NaN</td>\n",
       "      <td>False</td>\n",
       "      <td>False</td>\n",
       "      <td>41.0</td>\n",
       "      <td>NaN</td>\n",
       "      <td>Санкт-Петербург</td>\n",
       "      <td>31856.0</td>\n",
       "      <td>8098.0</td>\n",
       "      <td>2.0</td>\n",
       "      <td>112.0</td>\n",
       "      <td>1.0</td>\n",
       "      <td>48.0</td>\n",
       "      <td>121.0</td>\n",
       "    </tr>\n",
       "  </tbody>\n",
       "</table>\n",
       "</div>"
      ],
      "text/plain": [
       "   total_images  last_price  total_area first_day_exposition  rooms  \\\n",
       "0            20  13000000.0       108.0  2019-03-07T00:00:00      3   \n",
       "1             7   3350000.0        40.4  2018-12-04T00:00:00      1   \n",
       "2            10   5196000.0        56.0  2015-08-20T00:00:00      2   \n",
       "3             0  64900000.0       159.0  2015-07-24T00:00:00      3   \n",
       "4             2  10000000.0       100.0  2018-06-19T00:00:00      2   \n",
       "\n",
       "   ceiling_height  floors_total  living_area  floor is_apartment  studio  \\\n",
       "0            2.70          16.0         51.0      8          NaN   False   \n",
       "1             NaN          11.0         18.6      1          NaN   False   \n",
       "2             NaN           5.0         34.3      4          NaN   False   \n",
       "3             NaN          14.0          NaN      9          NaN   False   \n",
       "4            3.03          14.0         32.0     13          NaN   False   \n",
       "\n",
       "   open_plan  kitchen_area  balcony    locality_name  airports_nearest  \\\n",
       "0      False          25.0      NaN  Санкт-Петербург           18863.0   \n",
       "1      False          11.0      2.0   посёлок Шушары           12817.0   \n",
       "2      False           8.3      0.0  Санкт-Петербург           21741.0   \n",
       "3      False           NaN      0.0  Санкт-Петербург           28098.0   \n",
       "4      False          41.0      NaN  Санкт-Петербург           31856.0   \n",
       "\n",
       "   cityCenters_nearest  parks_around3000  parks_nearest  ponds_around3000  \\\n",
       "0              16028.0               1.0          482.0               2.0   \n",
       "1              18603.0               0.0            NaN               0.0   \n",
       "2              13933.0               1.0           90.0               2.0   \n",
       "3               6800.0               2.0           84.0               3.0   \n",
       "4               8098.0               2.0          112.0               1.0   \n",
       "\n",
       "   ponds_nearest  days_exposition  \n",
       "0          755.0              NaN  \n",
       "1            NaN             81.0  \n",
       "2          574.0            558.0  \n",
       "3          234.0            424.0  \n",
       "4           48.0            121.0  "
      ]
     },
     "execution_count": 6,
     "metadata": {},
     "output_type": "execute_result"
    }
   ],
   "source": [
    "data.head()"
   ]
  },
  {
   "cell_type": "markdown",
   "id": "f0024236",
   "metadata": {},
   "source": [
    "Получили 22 столбца, которые содержат следующую информацию:\n",
    "\n",
    "`airports_nearest` — расстояние до ближайшего аэропорта в метрах\n",
    "\n",
    "`balcony` — количество балконов\n",
    "\n",
    "`ceiling_height` — высота потолков в метрах\n",
    "\n",
    "`cityCenters_nearest` — расстояние до центра города в метрах\n",
    "\n",
    "`days_exposition` — сколько дней было размещено объявление (от публикации до снятия)\n",
    "\n",
    "`first_day_exposition` — дата публикации\n",
    "\n",
    "`floor` — этаж\n",
    "\n",
    "`floors_total` — всего этажей в доме\n",
    "\n",
    "`is_apartment` — апартаменты (булев тип)\n",
    "\n",
    "`kitchen_area` — площадь кухни в квадратных метрах\n",
    "\n",
    "`last_price` — цена на момент снятия с публикации\n",
    "\n",
    "`living_area` — жилая площадь в квадратных метрах\n",
    "\n",
    "`locality_name` — название населённого пункта\n",
    "\n",
    "`open_plan` — свободная планировка (булев тип)\n",
    "\n",
    "`parks_around3000` — количество парков в радиусе 3 км\n",
    "\n",
    "`parks_nearest` — расстояние до ближайшего парка в метрах\n",
    "\n",
    "`ponds_around3000` — количество водоёмов в радиусе 3 км\n",
    "\n",
    "`ponds_nearest` — расстояние до ближайшего водоёма в метрах\n",
    "\n",
    "`rooms` — количество комнат\n",
    "\n",
    "`studio` — квартира-студия (булев тип)\n",
    "\n",
    "`total_area` — общая площадь квартиры в квадратных метрах\n",
    "\n",
    "`total_images` — количество фотографий квартиры в объявлении"
   ]
  },
  {
   "cell_type": "markdown",
   "id": "576696a7",
   "metadata": {},
   "source": [
    "Выведем общую информацию о датафрейме:"
   ]
  },
  {
   "cell_type": "code",
   "execution_count": 7,
   "id": "ec9b8e8f",
   "metadata": {},
   "outputs": [
    {
     "name": "stdout",
     "output_type": "stream",
     "text": [
      "<class 'pandas.core.frame.DataFrame'>\n",
      "RangeIndex: 23699 entries, 0 to 23698\n",
      "Data columns (total 22 columns):\n",
      " #   Column                Non-Null Count  Dtype  \n",
      "---  ------                --------------  -----  \n",
      " 0   total_images          23699 non-null  int64  \n",
      " 1   last_price            23699 non-null  float64\n",
      " 2   total_area            23699 non-null  float64\n",
      " 3   first_day_exposition  23699 non-null  object \n",
      " 4   rooms                 23699 non-null  int64  \n",
      " 5   ceiling_height        14504 non-null  float64\n",
      " 6   floors_total          23613 non-null  float64\n",
      " 7   living_area           21796 non-null  float64\n",
      " 8   floor                 23699 non-null  int64  \n",
      " 9   is_apartment          2775 non-null   object \n",
      " 10  studio                23699 non-null  bool   \n",
      " 11  open_plan             23699 non-null  bool   \n",
      " 12  kitchen_area          21421 non-null  float64\n",
      " 13  balcony               12180 non-null  float64\n",
      " 14  locality_name         23650 non-null  object \n",
      " 15  airports_nearest      18157 non-null  float64\n",
      " 16  cityCenters_nearest   18180 non-null  float64\n",
      " 17  parks_around3000      18181 non-null  float64\n",
      " 18  parks_nearest         8079 non-null   float64\n",
      " 19  ponds_around3000      18181 non-null  float64\n",
      " 20  ponds_nearest         9110 non-null   float64\n",
      " 21  days_exposition       20518 non-null  float64\n",
      "dtypes: bool(2), float64(14), int64(3), object(3)\n",
      "memory usage: 3.7+ MB\n"
     ]
    }
   ],
   "source": [
    "data.info()"
   ]
  },
  {
   "cell_type": "markdown",
   "id": "86b692bd",
   "metadata": {},
   "source": [
    "Построим гистограммы для всех числовых столбцов таблицы:"
   ]
  },
  {
   "cell_type": "code",
   "execution_count": 8,
   "id": "5f7d1ca5",
   "metadata": {},
   "outputs": [
    {
     "data": {
      "image/png": "[encoded data removed]",
      "text/plain": [
       "<Figure size 1800x2160 with 20 Axes>"
      ]
     },
     "metadata": {
      "needs_background": "light"
     },
     "output_type": "display_data"
    }
   ],
   "source": [
    "data.hist(figsize=(25, 30));"
   ]
  },
  {
   "cell_type": "markdown",
   "id": "659d3273",
   "metadata": {},
   "source": [
    "В выборку не попали гистограммы по следующим данным: `first_day_exposition`, `is_apartment`, `studio`, `open_plan`, `locality_name`. Отметим для себя, что `is_apartment` должен быть булевым типом, а не object. Всего в данных 23699 строк. Наблюдаются пропущенные, а также аномальные значения."
   ]
  },
  {
   "cell_type": "markdown",
   "id": "468d1f04",
   "metadata": {},
   "source": [
    "## Предобработка данных"
   ]
  },
  {
   "cell_type": "markdown",
   "id": "72bb773b",
   "metadata": {},
   "source": [
    "### Найдём и изучим пропущенные значения в столбцах"
   ]
  },
  {
   "cell_type": "markdown",
   "id": "c7c0f31b",
   "metadata": {},
   "source": [
    "Выведем количество пропущенных значений для каждого столбца:"
   ]
  },
  {
   "cell_type": "code",
   "execution_count": 9,
   "id": "3f1c3fd4",
   "metadata": {},
   "outputs": [
    {
     "data": {
      "text/plain": [
       "total_images                0\n",
       "last_price                  0\n",
       "total_area                  0\n",
       "first_day_exposition        0\n",
       "rooms                       0\n",
       "ceiling_height           9195\n",
       "floors_total               86\n",
       "living_area              1903\n",
       "floor                       0\n",
       "is_apartment            20924\n",
       "studio                      0\n",
       "open_plan                   0\n",
       "kitchen_area             2278\n",
       "balcony                 11519\n",
       "locality_name              49\n",
       "airports_nearest         5542\n",
       "cityCenters_nearest      5519\n",
       "parks_around3000         5518\n",
       "parks_nearest           15620\n",
       "ponds_around3000         5518\n",
       "ponds_nearest           14589\n",
       "days_exposition          3181\n",
       "dtype: int64"
      ]
     },
     "execution_count": 9,
     "metadata": {},
     "output_type": "execute_result"
    }
   ],
   "source": [
    "data.isnull().sum()"
   ]
  },
  {
   "cell_type": "markdown",
   "id": "de715ed0",
   "metadata": {},
   "source": [
    "Пропуски обнаружены в столбцах: \n",
    "`ceiling_height`(9195),\n",
    "`floors_total`(86),\n",
    "`living_area`(1903),\n",
    "`is_apartment`(20924),\n",
    "`kitchen_area`(2278),\n",
    "`balcony`(11519),\n",
    "`locality_name`(49),\n",
    "`airports_nearest`(5542),\n",
    "`cityCenters_nearest`(5519),\n",
    "`parks_around3000`(5518),\n",
    "`parks_nearest`(15620),\n",
    "`ponds_around3000`(5518),\n",
    "`ponds_nearest`(14589),\n",
    "`days_exposition`(3181)"
   ]
  },
  {
   "cell_type": "markdown",
   "id": "38ae4459",
   "metadata": {},
   "source": [
    "Заполним пропущенные значения там, где это возможно."
   ]
  },
  {
   "cell_type": "markdown",
   "id": "40bf9f01",
   "metadata": {},
   "source": [
    "Принимаем, что значения NaN для высоты потолков `ceiling_height` можно заменить на медианное:"
   ]
  },
  {
   "cell_type": "code",
   "execution_count": 10,
   "id": "e05ecc0d",
   "metadata": {},
   "outputs": [],
   "source": [
    "data['ceiling_height'] = data['ceiling_height'].fillna(data['ceiling_height'].median())"
   ]
  },
  {
   "cell_type": "markdown",
   "id": "9f9fa439",
   "metadata": {},
   "source": [
    "Аналогично сделаем для пропусков в столбце `floors_total`. На выборке в 23699 позиций такое незначительное количество пропусков (всего 0,4%) не должно отразиться:"
   ]
  },
  {
   "cell_type": "markdown",
   "id": "2ecc9d98",
   "metadata": {},
   "source": [
    "Заполним пропуски в столбце `floors_total` значением столбца `floor`, чтобы избежать ситуации, когда этаж, на котором расположена квартира, превышает общую этажность дома:"
   ]
  },
  {
   "cell_type": "code",
   "execution_count": 12,
   "id": "8f8badbe",
   "metadata": {},
   "outputs": [],
   "source": [
    "data['floors_total'] = data['floors_total'].fillna(data['floor'])"
   ]
  },
  {
   "cell_type": "markdown",
   "id": "79ca523c",
   "metadata": {},
   "source": [
    "В столбце `kitchen_area` около 10% пропущенных значений от общего числа позиций. Это не мало, но площадь кухни обычно - не самый главный показатель для потенциальных покупателей (проверим эту гипотезу позже). Можно пока заменить пропуски на 0, т.к. кухни в квартире может и не быть:"
   ]
  },
  {
   "cell_type": "markdown",
   "id": "a36bd43d",
   "metadata": {},
   "source": [
    "Пропущенные значения в столбце `balcony` заменим на 0, предполагая, что балконов нет, если продавец их не указал:"
   ]
  },
  {
   "cell_type": "code",
   "execution_count": 14,
   "id": "3e00e87e",
   "metadata": {},
   "outputs": [],
   "source": [
    "data['balcony'] = data['balcony'].fillna(0)"
   ]
  },
  {
   "cell_type": "markdown",
   "id": "27c22c2b",
   "metadata": {},
   "source": [
    "В столбце `locality_name` всего 49 пропущенных значений, их можно заменить на \"lost\":"
   ]
  },
  {
   "cell_type": "code",
   "execution_count": 15,
   "id": "d5a47a09",
   "metadata": {},
   "outputs": [],
   "source": [
    "data['locality_name'] = data['locality_name'].fillna('lost')"
   ]
  },
  {
   "cell_type": "markdown",
   "id": "7dc1002d",
   "metadata": {},
   "source": [
    "Одинаковое количество пропущенных значений в столбцах `parks_around3000` и `ponds_around3000` может говорить о том, что в радиусе 3 км нет ни парков, ни прудов, ведь обычно эту информацию не сложно указать при продаже. Принимая эту гипотезу, заменим пропущенные значения на 0:"
   ]
  },
  {
   "cell_type": "code",
   "execution_count": 16,
   "id": "e314eadd",
   "metadata": {},
   "outputs": [],
   "source": [
    "data['parks_around3000'] = data['parks_around3000'].fillna(0)"
   ]
  },
  {
   "cell_type": "code",
   "execution_count": 17,
   "id": "20c93f66",
   "metadata": {},
   "outputs": [],
   "source": [
    "data['ponds_around3000'] = data['ponds_around3000'].fillna(0)"
   ]
  },
  {
   "cell_type": "markdown",
   "id": "b74a8c48",
   "metadata": {},
   "source": [
    "Пропущенные значения в столбцах: `living_area`, `airports_nearest`, `cityCenters_nearest`, `parks_nearest`, `ponds_nearest`, `days_exposition` пока оставим без изменения, т.к. логика их замены на данном этапе неочевидна. Столбец `is_apartment` должен иметь булев тип, это исправим позже (и решим, что делать с пропущенными), пока также оставим пропуски без изменения."
   ]
  },
  {
   "cell_type": "markdown",
   "id": "3ecfeb39",
   "metadata": {},
   "source": [
    "Проверим заполнение пропущенных значений (ещё раз выведем их количество для каждого столбца):"
   ]
  },
  {
   "cell_type": "code",
   "execution_count": 18,
   "id": "012038a3",
   "metadata": {},
   "outputs": [
    {
     "data": {
      "text/plain": [
       "total_images                0\n",
       "last_price                  0\n",
       "total_area                  0\n",
       "first_day_exposition        0\n",
       "rooms                       0\n",
       "ceiling_height              0\n",
       "floors_total                0\n",
       "living_area              1903\n",
       "floor                       0\n",
       "is_apartment            20924\n",
       "studio                      0\n",
       "open_plan                   0\n",
       "kitchen_area             2278\n",
       "balcony                     0\n",
       "locality_name               0\n",
       "airports_nearest         5542\n",
       "cityCenters_nearest      5519\n",
       "parks_around3000            0\n",
       "parks_nearest           15620\n",
       "ponds_around3000            0\n",
       "ponds_nearest           14589\n",
       "days_exposition          3181\n",
       "dtype: int64"
      ]
     },
     "execution_count": 18,
     "metadata": {},
     "output_type": "execute_result"
    }
   ],
   "source": [
    "data.isnull().sum()"
   ]
  },
  {
   "cell_type": "markdown",
   "id": "85d07948",
   "metadata": {},
   "source": [
    "Количество столбцов с оставшимися пропущенными данными сократилось до 8."
   ]
  },
  {
   "cell_type": "markdown",
   "id": "e7be1645",
   "metadata": {},
   "source": [
    "### Анализ типов данных в каждом столбце"
   ]
  },
  {
   "cell_type": "markdown",
   "id": "e8249f7c",
   "metadata": {},
   "source": [
    "Преобразуем типы данных в тех столбцах, где это требуется:"
   ]
  },
  {
   "cell_type": "code",
   "execution_count": 19,
   "id": "e9b8141e",
   "metadata": {},
   "outputs": [],
   "source": [
    "data['total_images'] = data['total_images'].astype('int') # преобразование в целочисленный тип данных"
   ]
  },
  {
   "cell_type": "code",
   "execution_count": 20,
   "id": "d55354b7",
   "metadata": {},
   "outputs": [],
   "source": [
    "data['last_price'] = data['last_price'].astype('int') # преобразование в целочисленный тип данных"
   ]
  },
  {
   "cell_type": "markdown",
   "id": "6ac5bd75",
   "metadata": {},
   "source": [
    "В столбце `first_day_exposition` преобразуем тип данных в `datetime`:"
   ]
  },
  {
   "cell_type": "code",
   "execution_count": 21,
   "id": "de7e8b02",
   "metadata": {},
   "outputs": [],
   "source": [
    "data['first_day_exposition'] = pd.to_datetime(data['first_day_exposition'], format='%Y-%m-%dT%H:%M:%S')"
   ]
  },
  {
   "cell_type": "code",
   "execution_count": 22,
   "id": "7bd98c3e",
   "metadata": {},
   "outputs": [],
   "source": [
    "data['floors_total'] = data['floors_total'].astype('int') # преобразование в целочисленный тип данных"
   ]
  },
  {
   "cell_type": "code",
   "execution_count": 23,
   "id": "d54abe02",
   "metadata": {},
   "outputs": [
    {
     "data": {
      "text/plain": [
       "0        True\n",
       "1        True\n",
       "2        True\n",
       "3        True\n",
       "4        True\n",
       "         ... \n",
       "23694    True\n",
       "23695    True\n",
       "23696    True\n",
       "23697    True\n",
       "23698    True\n",
       "Name: is_apartment, Length: 23699, dtype: bool"
      ]
     },
     "execution_count": 23,
     "metadata": {},
     "output_type": "execute_result"
    }
   ],
   "source": [
    "data['is_apartment'].astype(bool)"
   ]
  },
  {
   "cell_type": "markdown",
   "id": "704f6e48",
   "metadata": {},
   "source": [
    "Преобразовав столбец `is_apartment` в булев тип, посчитаем процентное отношение апартаментов в заполненных значениях (True). Всего из 23699 строчек в этом столбце было 20924 пропуска."
   ]
  },
  {
   "cell_type": "code",
   "execution_count": 24,
   "id": "96b8ad1e",
   "metadata": {},
   "outputs": [
    {
     "data": {
      "text/plain": [
       "0.018018018018018018"
      ]
     },
     "execution_count": 24,
     "metadata": {},
     "output_type": "execute_result"
    }
   ],
   "source": [
    "data['is_apartment'].mean()"
   ]
  },
  {
   "cell_type": "markdown",
   "id": "536529ac",
   "metadata": {},
   "source": [
    "Учитывая, что из 2775 заполненных данных всего 1.8% приходится на апартаменты, принимаем решение о заполнении всех пропусков значением False:"
   ]
  },
  {
   "cell_type": "code",
   "execution_count": 25,
   "id": "ee7b49e8",
   "metadata": {},
   "outputs": [],
   "source": [
    "data['is_apartment'] = data['is_apartment'].fillna(False)"
   ]
  },
  {
   "cell_type": "code",
   "execution_count": 26,
   "id": "6c930cb2",
   "metadata": {},
   "outputs": [],
   "source": [
    "data['balcony'] = data['balcony'].astype('int') # преобразование в целочисленный тип данных"
   ]
  },
  {
   "cell_type": "markdown",
   "id": "890e15b2",
   "metadata": {},
   "source": [
    "Название столбца `cityCenters_nearest` приведём к snake_case:"
   ]
  },
  {
   "cell_type": "code",
   "execution_count": 27,
   "id": "34f0513c",
   "metadata": {},
   "outputs": [],
   "source": [
    "data.rename(columns = {'cityCenters_nearest':'city_centers_nearest'}, inplace = True )"
   ]
  },
  {
   "cell_type": "code",
   "execution_count": 28,
   "id": "bede9fa2",
   "metadata": {},
   "outputs": [],
   "source": [
    "data['parks_around3000'] = data['parks_around3000'].astype('int') # преобразование в целочисленный тип данных"
   ]
  },
  {
   "cell_type": "code",
   "execution_count": 29,
   "id": "1af9ec87",
   "metadata": {},
   "outputs": [],
   "source": [
    "data['ponds_around3000'] = data['ponds_around3000'].astype('int') # преобразование в целочисленный тип данных"
   ]
  },
  {
   "cell_type": "markdown",
   "id": "c3855d80",
   "metadata": {},
   "source": [
    "### Анализ уникальных значений в столбце с названиями, устранение неявных дубликатов"
   ]
  },
  {
   "cell_type": "markdown",
   "id": "5e17d129",
   "metadata": {},
   "source": [
    "Выведем список уникальных значений в столбце `locality_name`:"
   ]
  },
  {
   "cell_type": "code",
   "execution_count": 30,
   "id": "90f3ef10",
   "metadata": {},
   "outputs": [
    {
     "data": {
      "text/plain": [
       "array(['Санкт-Петербург', 'посёлок Шушары', 'городской посёлок Янино-1',\n",
       "       'посёлок Парголово', 'посёлок Мурино', 'Ломоносов', 'Сертолово',\n",
       "       'Петергоф', 'Пушкин', 'деревня Кудрово', 'Коммунар', 'Колпино',\n",
       "       'поселок городского типа Красный Бор', 'Гатчина', 'поселок Мурино',\n",
       "       'деревня Фёдоровское', 'Выборг', 'Кронштадт', 'Кировск',\n",
       "       'деревня Новое Девяткино', 'посёлок Металлострой',\n",
       "       'посёлок городского типа Лебяжье',\n",
       "       'посёлок городского типа Сиверский', 'поселок Молодцово',\n",
       "       'поселок городского типа Кузьмоловский',\n",
       "       'садовое товарищество Новая Ропша', 'Павловск',\n",
       "       'деревня Пикколово', 'Всеволожск', 'Волхов', 'Кингисепп',\n",
       "       'Приозерск', 'Сестрорецк', 'деревня Куттузи', 'посёлок Аннино',\n",
       "       'поселок городского типа Ефимовский', 'посёлок Плодовое',\n",
       "       'деревня Заклинье', 'поселок Торковичи', 'поселок Первомайское',\n",
       "       'Красное Село', 'посёлок Понтонный', 'Сясьстрой', 'деревня Старая',\n",
       "       'деревня Лесколово', 'посёлок Новый Свет', 'Сланцы',\n",
       "       'село Путилово', 'Ивангород', 'Мурино', 'Шлиссельбург',\n",
       "       'Никольское', 'Зеленогорск', 'Сосновый Бор', 'поселок Новый Свет',\n",
       "       'деревня Оржицы', 'деревня Кальтино', 'Кудрово',\n",
       "       'поселок Романовка', 'посёлок Бугры', 'поселок Бугры',\n",
       "       'поселок городского типа Рощино', 'Кириши', 'Луга', 'Волосово',\n",
       "       'Отрадное', 'село Павлово', 'поселок Оредеж', 'село Копорье',\n",
       "       'посёлок городского типа Красный Бор', 'посёлок Молодёжное',\n",
       "       'Тихвин', 'посёлок Победа', 'деревня Нурма',\n",
       "       'поселок городского типа Синявино', 'Тосно',\n",
       "       'посёлок городского типа Кузьмоловский', 'посёлок Стрельна',\n",
       "       'Бокситогорск', 'посёлок Александровская', 'деревня Лопухинка',\n",
       "       'Пикалёво', 'поселок Терволово',\n",
       "       'поселок городского типа Советский', 'Подпорожье',\n",
       "       'посёлок Петровское', 'посёлок городского типа Токсово',\n",
       "       'поселок Сельцо', 'посёлок городского типа Вырица',\n",
       "       'деревня Кипень', 'деревня Келози', 'деревня Вартемяги',\n",
       "       'посёлок Тельмана', 'поселок Севастьяново',\n",
       "       'городской поселок Большая Ижора', 'lost',\n",
       "       'городской посёлок Павлово', 'деревня Агалатово',\n",
       "       'посёлок Новогорелово', 'городской посёлок Лесогорский',\n",
       "       'деревня Лаголово', 'поселок Цвелодубово',\n",
       "       'поселок городского типа Рахья', 'поселок городского типа Вырица',\n",
       "       'деревня Белогорка', 'поселок Заводской',\n",
       "       'городской посёлок Новоселье', 'деревня Большие Колпаны',\n",
       "       'деревня Горбунки', 'деревня Батово', 'деревня Заневка',\n",
       "       'деревня Иссад', 'Приморск', 'городской посёлок Фёдоровское',\n",
       "       'деревня Мистолово', 'Новая Ладога', 'поселок Зимитицы',\n",
       "       'поселок Барышево', 'деревня Разметелево',\n",
       "       'поселок городского типа имени Свердлова', 'деревня Пеники',\n",
       "       'поселок Рябово', 'деревня Пудомяги', 'поселок станции Корнево',\n",
       "       'деревня Низино', 'деревня Бегуницы', 'посёлок Поляны',\n",
       "       'городской посёлок Мга', 'поселок Елизаветино',\n",
       "       'посёлок городского типа Кузнечное', 'деревня Колтуши',\n",
       "       'поселок Запорожское', 'посёлок городского типа Рощино',\n",
       "       'деревня Гостилицы', 'деревня Малое Карлино',\n",
       "       'посёлок Мичуринское', 'посёлок городского типа имени Морозова',\n",
       "       'посёлок Песочный', 'посёлок Сосново', 'деревня Аро',\n",
       "       'поселок Ильичёво', 'посёлок городского типа Тайцы',\n",
       "       'деревня Малое Верево', 'деревня Извара', 'поселок станции Вещево',\n",
       "       'село Паша', 'деревня Калитино',\n",
       "       'посёлок городского типа Ульяновка', 'деревня Чудской Бор',\n",
       "       'поселок городского типа Дубровка', 'деревня Мины',\n",
       "       'поселок Войсковицы', 'посёлок городского типа имени Свердлова',\n",
       "       'деревня Коркино', 'посёлок Ропша',\n",
       "       'поселок городского типа Приладожский', 'посёлок Щеглово',\n",
       "       'посёлок Гаврилово', 'Лодейное Поле', 'деревня Рабитицы',\n",
       "       'поселок городского типа Никольский', 'деревня Кузьмолово',\n",
       "       'деревня Малые Колпаны', 'поселок Тельмана',\n",
       "       'посёлок Петро-Славянка', 'городской посёлок Назия',\n",
       "       'посёлок Репино', 'посёлок Ильичёво', 'поселок Углово',\n",
       "       'поселок Старая Малукса', 'садовое товарищество Рахья',\n",
       "       'поселок Аннино', 'поселок Победа', 'деревня Меньково',\n",
       "       'деревня Старые Бегуницы', 'посёлок Сапёрный', 'поселок Семрино',\n",
       "       'поселок Гаврилово', 'поселок Глажево', 'поселок Кобринское',\n",
       "       'деревня Гарболово', 'деревня Юкки',\n",
       "       'поселок станции Приветнинское', 'деревня Мануйлово',\n",
       "       'деревня Пчева', 'поселок Поляны', 'поселок Цвылёво',\n",
       "       'поселок Мельниково', 'посёлок Пудость', 'посёлок Усть-Луга',\n",
       "       'Светогорск', 'Любань', 'поселок Селезнёво',\n",
       "       'поселок городского типа Рябово', 'Каменногорск', 'деревня Кривко',\n",
       "       'поселок Глебычево', 'деревня Парицы', 'поселок Жилпосёлок',\n",
       "       'посёлок городского типа Мга', 'городской поселок Янино-1',\n",
       "       'посёлок Войскорово', 'село Никольское', 'посёлок Терволово',\n",
       "       'поселок Стеклянный', 'посёлок городского типа Важины',\n",
       "       'посёлок Мыза-Ивановка', 'село Русско-Высоцкое',\n",
       "       'поселок городского типа Лебяжье',\n",
       "       'поселок городского типа Форносово', 'село Старая Ладога',\n",
       "       'поселок Житково', 'городской посёлок Виллози', 'деревня Лампово',\n",
       "       'деревня Шпаньково', 'деревня Лаврики', 'посёлок Сумино',\n",
       "       'посёлок Возрождение', 'деревня Старосиверская',\n",
       "       'посёлок Кикерино', 'поселок Возрождение',\n",
       "       'деревня Старое Хинколово', 'посёлок Пригородный',\n",
       "       'посёлок Торфяное', 'городской посёлок Будогощь',\n",
       "       'поселок Суходолье', 'поселок Красная Долина', 'деревня Хапо-Ое',\n",
       "       'поселок городского типа Дружная Горка', 'поселок Лисий Нос',\n",
       "       'деревня Яльгелево', 'посёлок Стеклянный', 'село Рождествено',\n",
       "       'деревня Старополье', 'посёлок Левашово', 'деревня Сяськелево',\n",
       "       'деревня Камышовка',\n",
       "       'садоводческое некоммерческое товарищество Лесная Поляна',\n",
       "       'деревня Хязельки', 'поселок Жилгородок',\n",
       "       'посёлок городского типа Павлово', 'деревня Ялгино',\n",
       "       'поселок Новый Учхоз', 'городской посёлок Рощино',\n",
       "       'поселок Гончарово', 'поселок Почап', 'посёлок Сапёрное',\n",
       "       'посёлок Платформа 69-й километр', 'поселок Каложицы',\n",
       "       'деревня Фалилеево', 'деревня Пельгора',\n",
       "       'поселок городского типа Лесогорский', 'деревня Торошковичи',\n",
       "       'посёлок Белоостров', 'посёлок Алексеевка', 'поселок Серебрянский',\n",
       "       'поселок Лукаши', 'поселок Петровское', 'деревня Щеглово',\n",
       "       'поселок Мичуринское', 'деревня Тарасово', 'поселок Кингисеппский',\n",
       "       'посёлок при железнодорожной станции Вещево', 'поселок Ушаки',\n",
       "       'деревня Котлы', 'деревня Сижно', 'деревня Торосово',\n",
       "       'посёлок Форт Красная Горка', 'поселок городского типа Токсово',\n",
       "       'деревня Новолисино', 'посёлок станции Громово', 'деревня Глинка',\n",
       "       'посёлок Мельниково', 'поселок городского типа Назия',\n",
       "       'деревня Старая Пустошь', 'поселок Коммунары', 'поселок Починок',\n",
       "       'посёлок городского типа Вознесенье', 'деревня Разбегаево',\n",
       "       'посёлок городского типа Рябово', 'поселок Гладкое',\n",
       "       'посёлок при железнодорожной станции Приветнинское',\n",
       "       'поселок Тёсово-4', 'посёлок Жилгородок', 'деревня Бор',\n",
       "       'посёлок Коробицыно', 'деревня Большая Вруда', 'деревня Курковицы',\n",
       "       'посёлок Лисий Нос', 'городской посёлок Советский',\n",
       "       'посёлок Кобралово', 'деревня Суоранда', 'поселок Кобралово',\n",
       "       'поселок городского типа Кондратьево',\n",
       "       'коттеджный поселок Счастье', 'поселок Любань', 'деревня Реброво',\n",
       "       'деревня Зимитицы', 'деревня Тойворово', 'поселок Семиозерье',\n",
       "       'поселок Лесное', 'поселок Совхозный', 'поселок Усть-Луга',\n",
       "       'посёлок Ленинское', 'посёлок Суйда',\n",
       "       'посёлок городского типа Форносово', 'деревня Нижние Осельки',\n",
       "       'посёлок станции Свирь', 'поселок Перово', 'Высоцк',\n",
       "       'поселок Гарболово', 'село Шум', 'поселок Котельский',\n",
       "       'поселок станции Лужайка', 'деревня Большая Пустомержа',\n",
       "       'поселок Красносельское', 'деревня Вахнова Кара', 'деревня Пижма',\n",
       "       'коттеджный поселок Кивеннапа Север', 'поселок Коробицыно',\n",
       "       'поселок Ромашки', 'посёлок Перово', 'деревня Каськово',\n",
       "       'деревня Куровицы', 'посёлок Плоское', 'поселок Сумино',\n",
       "       'поселок городского типа Большая Ижора', 'поселок Кирпичное',\n",
       "       'деревня Ям-Тесово', 'деревня Раздолье', 'деревня Терпилицы',\n",
       "       'посёлок Шугозеро', 'деревня Ваганово', 'поселок Пушное',\n",
       "       'садовое товарищество Садко', 'посёлок Усть-Ижора',\n",
       "       'деревня Выскатка', 'городской посёлок Свирьстрой',\n",
       "       'поселок Громово', 'деревня Кисельня', 'посёлок Старая Малукса',\n",
       "       'деревня Трубников Бор', 'поселок Калитино',\n",
       "       'посёлок Высокоключевой', 'садовое товарищество Приладожский',\n",
       "       'посёлок Пансионат Зелёный Бор', 'деревня Ненимяки',\n",
       "       'поселок Пансионат Зелёный Бор', 'деревня Снегирёвка',\n",
       "       'деревня Рапполово', 'деревня Пустынка', 'поселок Рабитицы',\n",
       "       'деревня Большой Сабск', 'деревня Русско', 'деревня Лупполово',\n",
       "       'деревня Большое Рейзино', 'деревня Малая Романовка',\n",
       "       'поселок Дружноселье', 'поселок Пчевжа', 'поселок Володарское',\n",
       "       'деревня Нижняя', 'коттеджный посёлок Лесное', 'деревня Тихковицы',\n",
       "       'деревня Борисова Грива', 'посёлок Дзержинского'], dtype=object)"
      ]
     },
     "execution_count": 30,
     "metadata": {},
     "output_type": "execute_result"
    }
   ],
   "source": [
    "data['locality_name'].unique()"
   ]
  },
  {
   "cell_type": "markdown",
   "id": "6ca98d55",
   "metadata": {},
   "source": [
    "Для удобства чтения значений оставим только названия населённых пунктов:"
   ]
  },
  {
   "cell_type": "code",
   "execution_count": 31,
   "id": "c62e9616",
   "metadata": {},
   "outputs": [],
   "source": [
    "data['locality_name'] = (\n",
    "    data['locality_name']\n",
    "    .str.replace('ё', 'е')\n",
    "    .replace(['поселок ', 'городской поселок ', 'деревня ', 'поселок городского типа ', 'садовое товарищество ', 'село ', 'поселок станции ', 'садоводческое некоммерческое товарищество ', 'при железнодорожной станции ', 'коттеджный ', 'городской ', 'городского типа ', 'станции '], '', regex=True)\n",
    ")"
   ]
  },
  {
   "cell_type": "markdown",
   "id": "e04aeb60",
   "metadata": {},
   "source": [
    "И выведем их в алфавитном порядке для проверки на наличие дубликатов и проведённой фильтрации:"
   ]
  },
  {
   "cell_type": "code",
   "execution_count": 32,
   "id": "5e22e8f0",
   "metadata": {
    "scrolled": false
   },
   "outputs": [
    {
     "data": {
      "text/plain": [
       "{'lost',\n",
       " 'Агалатово',\n",
       " 'Александровская',\n",
       " 'Алексеевка',\n",
       " 'Аннино',\n",
       " 'Аро',\n",
       " 'Барышево',\n",
       " 'Батово',\n",
       " 'Бегуницы',\n",
       " 'Белогорка',\n",
       " 'Белоостров',\n",
       " 'Бокситогорск',\n",
       " 'Большая Вруда',\n",
       " 'Большая Ижора',\n",
       " 'Большая Пустомержа',\n",
       " 'Большие Колпаны',\n",
       " 'Большое Рейзино',\n",
       " 'Большой Сабск',\n",
       " 'Бор',\n",
       " 'Борисова Грива',\n",
       " 'Бугры',\n",
       " 'Будогощь',\n",
       " 'Ваганово',\n",
       " 'Важины',\n",
       " 'Вартемяги',\n",
       " 'Вахнова Кара',\n",
       " 'Вещево',\n",
       " 'Виллози',\n",
       " 'Вознесенье',\n",
       " 'Возрождение',\n",
       " 'Войсковицы',\n",
       " 'Войскорово',\n",
       " 'Володарское',\n",
       " 'Волосово',\n",
       " 'Волхов',\n",
       " 'Всеволожск',\n",
       " 'Выборг',\n",
       " 'Вырица',\n",
       " 'Выскатка',\n",
       " 'Высокоключевой',\n",
       " 'Высоцк',\n",
       " 'Гаврилово',\n",
       " 'Гарболово',\n",
       " 'Гатчина',\n",
       " 'Гладкое',\n",
       " 'Глажево',\n",
       " 'Глебычево',\n",
       " 'Глинка',\n",
       " 'Гончарово',\n",
       " 'Горбунки',\n",
       " 'Гостилицы',\n",
       " 'Громово',\n",
       " 'Дзержинского',\n",
       " 'Дружная Горка',\n",
       " 'Дружноселье',\n",
       " 'Дубровка',\n",
       " 'Елизаветино',\n",
       " 'Ефимовский',\n",
       " 'Жилгородок',\n",
       " 'Жилпоселок',\n",
       " 'Житково',\n",
       " 'Заводской',\n",
       " 'Заклинье',\n",
       " 'Заневка',\n",
       " 'Запорожское',\n",
       " 'Зеленогорск',\n",
       " 'Зимитицы',\n",
       " 'Ивангород',\n",
       " 'Извара',\n",
       " 'Ильичево',\n",
       " 'Иссад',\n",
       " 'Калитино',\n",
       " 'Каложицы',\n",
       " 'Кальтино',\n",
       " 'Каменногорск',\n",
       " 'Камышовка',\n",
       " 'Каськово',\n",
       " 'Келози',\n",
       " 'Кивеннапа Север',\n",
       " 'Кикерино',\n",
       " 'Кингисепп',\n",
       " 'Кингисеппский',\n",
       " 'Кипень',\n",
       " 'Кириши',\n",
       " 'Кировск',\n",
       " 'Кирпичное',\n",
       " 'Кисельня',\n",
       " 'Кобралово',\n",
       " 'Кобринское',\n",
       " 'Колпино',\n",
       " 'Колтуши',\n",
       " 'Коммунар',\n",
       " 'Коммунары',\n",
       " 'Кондратьево',\n",
       " 'Копорье',\n",
       " 'Коркино',\n",
       " 'Корнево',\n",
       " 'Коробицыно',\n",
       " 'Котельский',\n",
       " 'Котлы',\n",
       " 'Красная Долина',\n",
       " 'Красное Село',\n",
       " 'Красносельское',\n",
       " 'Красный Бор',\n",
       " 'Кривко',\n",
       " 'Кронштадт',\n",
       " 'Кудрово',\n",
       " 'Кузнечное',\n",
       " 'Кузьмолово',\n",
       " 'Кузьмоловский',\n",
       " 'Курковицы',\n",
       " 'Куровицы',\n",
       " 'Куттузи',\n",
       " 'Лаврики',\n",
       " 'Лаголово',\n",
       " 'Лампово',\n",
       " 'Лебяжье',\n",
       " 'Левашово',\n",
       " 'Ленинское',\n",
       " 'Лесколово',\n",
       " 'Лесная Поляна',\n",
       " 'Лесное',\n",
       " 'Лесогорский',\n",
       " 'Лисий Нос',\n",
       " 'Лодейное Поле',\n",
       " 'Ломоносов',\n",
       " 'Лопухинка',\n",
       " 'Луга',\n",
       " 'Лужайка',\n",
       " 'Лукаши',\n",
       " 'Лупполово',\n",
       " 'Любань',\n",
       " 'Малая Романовка',\n",
       " 'Малое Верево',\n",
       " 'Малое Карлино',\n",
       " 'Малые Колпаны',\n",
       " 'Мануйлово',\n",
       " 'Мга',\n",
       " 'Мельниково',\n",
       " 'Меньково',\n",
       " 'Металлострой',\n",
       " 'Мины',\n",
       " 'Мистолово',\n",
       " 'Мичуринское',\n",
       " 'Молодежное',\n",
       " 'Молодцово',\n",
       " 'Мурино',\n",
       " 'Мыза-Ивановка',\n",
       " 'Назия',\n",
       " 'Ненимяки',\n",
       " 'Нижние Осельки',\n",
       " 'Нижняя',\n",
       " 'Низино',\n",
       " 'Никольский',\n",
       " 'Никольское',\n",
       " 'Новая Ладога',\n",
       " 'Новая Ропша',\n",
       " 'Новогорелово',\n",
       " 'Новое Девяткино',\n",
       " 'Новолисино',\n",
       " 'Новоселье',\n",
       " 'Новый Свет',\n",
       " 'Новый Учхоз',\n",
       " 'Нурма',\n",
       " 'Оредеж',\n",
       " 'Оржицы',\n",
       " 'Отрадное',\n",
       " 'Павлово',\n",
       " 'Павловск',\n",
       " 'Пансионат Зеленый Бор',\n",
       " 'Парголово',\n",
       " 'Парицы',\n",
       " 'Паша',\n",
       " 'Пельгора',\n",
       " 'Пеники',\n",
       " 'Первомайское',\n",
       " 'Перово',\n",
       " 'Песочный',\n",
       " 'Петергоф',\n",
       " 'Петро-Славянка',\n",
       " 'Петровское',\n",
       " 'Пижма',\n",
       " 'Пикалево',\n",
       " 'Пикколово',\n",
       " 'Платформа 69-й километр',\n",
       " 'Плодовое',\n",
       " 'Плоское',\n",
       " 'Победа',\n",
       " 'Подпорожье',\n",
       " 'Поляны',\n",
       " 'Понтонный',\n",
       " 'Почап',\n",
       " 'Починок',\n",
       " 'Приветнинское',\n",
       " 'Пригородный',\n",
       " 'Приладожский',\n",
       " 'Приморск',\n",
       " 'Приозерск',\n",
       " 'Пудомяги',\n",
       " 'Пудость',\n",
       " 'Пустынка',\n",
       " 'Путилово',\n",
       " 'Пушкин',\n",
       " 'Пушное',\n",
       " 'Пчева',\n",
       " 'Пчевжа',\n",
       " 'Рабитицы',\n",
       " 'Разбегаево',\n",
       " 'Раздолье',\n",
       " 'Разметелево',\n",
       " 'Рапполово',\n",
       " 'Рахья',\n",
       " 'Реброво',\n",
       " 'Репино',\n",
       " 'Рождествено',\n",
       " 'Романовка',\n",
       " 'Ромашки',\n",
       " 'Ропша',\n",
       " 'Рощино',\n",
       " 'Русско',\n",
       " 'Русско-Высоцкое',\n",
       " 'Рябово',\n",
       " 'Садко',\n",
       " 'Санкт-Петербург',\n",
       " 'Саперное',\n",
       " 'Саперный',\n",
       " 'Светогорск',\n",
       " 'Свирь',\n",
       " 'Свирьстрой',\n",
       " 'Севастьяново',\n",
       " 'Селезнево',\n",
       " 'Сельцо',\n",
       " 'Семиозерье',\n",
       " 'Семрино',\n",
       " 'Серебрянский',\n",
       " 'Сертолово',\n",
       " 'Сестрорецк',\n",
       " 'Сиверский',\n",
       " 'Сижно',\n",
       " 'Синявино',\n",
       " 'Сланцы',\n",
       " 'Снегиревка',\n",
       " 'Советский',\n",
       " 'Совхозный',\n",
       " 'Сосново',\n",
       " 'Сосновый Бор',\n",
       " 'Старая',\n",
       " 'Старая Ладога',\n",
       " 'Старая Малукса',\n",
       " 'Старая Пустошь',\n",
       " 'Старое Хинколово',\n",
       " 'Старополье',\n",
       " 'Старосиверская',\n",
       " 'Старые Бегуницы',\n",
       " 'Стеклянный',\n",
       " 'Стрельна',\n",
       " 'Суйда',\n",
       " 'Сумино',\n",
       " 'Суоранда',\n",
       " 'Суходолье',\n",
       " 'Счастье',\n",
       " 'Сяськелево',\n",
       " 'Сясьстрой',\n",
       " 'Тайцы',\n",
       " 'Тарасово',\n",
       " 'Тельмана',\n",
       " 'Терволово',\n",
       " 'Терпилицы',\n",
       " 'Тесово-4',\n",
       " 'Тихвин',\n",
       " 'Тихковицы',\n",
       " 'Тойворово',\n",
       " 'Токсово',\n",
       " 'Торковичи',\n",
       " 'Торосово',\n",
       " 'Торошковичи',\n",
       " 'Торфяное',\n",
       " 'Тосно',\n",
       " 'Трубников Бор',\n",
       " 'Углово',\n",
       " 'Ульяновка',\n",
       " 'Усть-Ижора',\n",
       " 'Усть-Луга',\n",
       " 'Ушаки',\n",
       " 'Фалилеево',\n",
       " 'Федоровское',\n",
       " 'Форносово',\n",
       " 'Форт Красная Горка',\n",
       " 'Хапо-Ое',\n",
       " 'Хязельки',\n",
       " 'Цвелодубово',\n",
       " 'Цвылево',\n",
       " 'Чудской Бор',\n",
       " 'Шлиссельбург',\n",
       " 'Шпаньково',\n",
       " 'Шугозеро',\n",
       " 'Шум',\n",
       " 'Шушары',\n",
       " 'Щеглово',\n",
       " 'Юкки',\n",
       " 'Ялгино',\n",
       " 'Яльгелево',\n",
       " 'Ям-Тесово',\n",
       " 'Янино-1',\n",
       " 'имени Морозова',\n",
       " 'имени Свердлова'}"
      ]
     },
     "execution_count": 32,
     "metadata": {},
     "output_type": "execute_result"
    }
   ],
   "source": [
    "set(data['locality_name'].unique())"
   ]
  },
  {
   "cell_type": "markdown",
   "id": "773d0959",
   "metadata": {},
   "source": [
    "Предобработку данных считаем завершённой. Были заполнены пропущенные данные в тех столбцах, где это показалось возможным; преобразованы типы данных в нескольких столбцах, а также устранены неявные дубликаты в столбце с названиями населённых пунктов, сам столбец приведён в читаемый вид."
   ]
  },
  {
   "cell_type": "markdown",
   "id": "7bad418e",
   "metadata": {},
   "source": [
    "## Добавление в таблицу новых столбцов"
   ]
  },
  {
   "cell_type": "markdown",
   "id": "7e5015ea",
   "metadata": {},
   "source": [
    "Добавим столбец \"цена одного квадратного метра\":"
   ]
  },
  {
   "cell_type": "code",
   "execution_count": 33,
   "id": "0ade4a94",
   "metadata": {},
   "outputs": [],
   "source": [
    "data['price_for_square_meter'] = (data['last_price'] / data['total_area']).round(2) # и округляем до 2-х знаков после запятой"
   ]
  },
  {
   "cell_type": "markdown",
   "id": "4decf920",
   "metadata": {},
   "source": [
    "Добавим столбец \"день недели публикации объявления\":"
   ]
  },
  {
   "cell_type": "code",
   "execution_count": 34,
   "id": "b36aa8ff",
   "metadata": {},
   "outputs": [],
   "source": [
    "data['publication_day'] = data['first_day_exposition'].dt.weekday"
   ]
  },
  {
   "cell_type": "markdown",
   "id": "010d09ca",
   "metadata": {},
   "source": [
    "Добавим столбец \"месяц публикации объявления\":"
   ]
  },
  {
   "cell_type": "code",
   "execution_count": 35,
   "id": "2ba0a92b",
   "metadata": {},
   "outputs": [],
   "source": [
    "data['publication_month'] = data['first_day_exposition'].dt.month"
   ]
  },
  {
   "cell_type": "markdown",
   "id": "cfbe61ae",
   "metadata": {},
   "source": [
    "Добавим столбец \"год публикации объявления\":"
   ]
  },
  {
   "cell_type": "code",
   "execution_count": 36,
   "id": "14bc7848",
   "metadata": {},
   "outputs": [],
   "source": [
    "data['publication_year'] = data['first_day_exposition'].dt.year"
   ]
  },
  {
   "cell_type": "markdown",
   "id": "cb8b30f8",
   "metadata": {},
   "source": [
    "Добавим столбец \"тип этажа квартиры\" (первый, последний или другой):\n"
   ]
  },
  {
   "cell_type": "code",
   "execution_count": 37,
   "id": "ebf19c07",
   "metadata": {},
   "outputs": [],
   "source": [
    "def floor_category(row):\n",
    "    floor = row['floor']\n",
    "    floors_total = row['floors_total']\n",
    "    if floor == 1:\n",
    "        return 'первый'\n",
    "    elif floor == floors_total:\n",
    "        return 'последний'\n",
    "    else:\n",
    "        return 'другой'\n",
    "\n",
    "data['floor_category'] = data.apply(floor_category, axis=1)"
   ]
  },
  {
   "cell_type": "markdown",
   "id": "b9695e61",
   "metadata": {},
   "source": [
    "Добавим столбец \"расстояние до центра города в километрах\""
   ]
  },
  {
   "cell_type": "code",
   "execution_count": 38,
   "id": "8449cc80",
   "metadata": {},
   "outputs": [],
   "source": [
    "data['city_centers_nearest_km'] = (data['city_centers_nearest'] / 1000).round(2)"
   ]
  },
  {
   "cell_type": "markdown",
   "id": "f9d7844c",
   "metadata": {},
   "source": [
    "Проверим, что все столбцы добавились корректно:"
   ]
  },
  {
   "cell_type": "code",
   "execution_count": 39,
   "id": "537cc008",
   "metadata": {},
   "outputs": [
    {
     "data": {
      "text/html": [
       "<div>\n",
       "<style scoped>\n",
       "    .dataframe tbody tr th:only-of-type {\n",
       "        vertical-align: middle;\n",
       "    }\n",
       "\n",
       "    .dataframe tbody tr th {\n",
       "        vertical-align: top;\n",
       "    }\n",
       "\n",
       "    .dataframe thead th {\n",
       "        text-align: right;\n",
       "    }\n",
       "</style>\n",
       "<table border=\"1\" class=\"dataframe\">\n",
       "  <thead>\n",
       "    <tr style=\"text-align: right;\">\n",
       "      <th></th>\n",
       "      <th>total_images</th>\n",
       "      <th>last_price</th>\n",
       "      <th>total_area</th>\n",
       "      <th>first_day_exposition</th>\n",
       "      <th>rooms</th>\n",
       "      <th>ceiling_height</th>\n",
       "      <th>floors_total</th>\n",
       "      <th>living_area</th>\n",
       "      <th>floor</th>\n",
       "      <th>is_apartment</th>\n",
       "      <th>studio</th>\n",
       "      <th>open_plan</th>\n",
       "      <th>kitchen_area</th>\n",
       "      <th>balcony</th>\n",
       "      <th>locality_name</th>\n",
       "      <th>airports_nearest</th>\n",
       "      <th>city_centers_nearest</th>\n",
       "      <th>parks_around3000</th>\n",
       "      <th>parks_nearest</th>\n",
       "      <th>ponds_around3000</th>\n",
       "      <th>ponds_nearest</th>\n",
       "      <th>days_exposition</th>\n",
       "      <th>price_for_square_meter</th>\n",
       "      <th>publication_day</th>\n",
       "      <th>publication_month</th>\n",
       "      <th>publication_year</th>\n",
       "      <th>floor_category</th>\n",
       "      <th>city_centers_nearest_km</th>\n",
       "    </tr>\n",
       "  </thead>\n",
       "  <tbody>\n",
       "    <tr>\n",
       "      <th>0</th>\n",
       "      <td>20</td>\n",
       "      <td>13000000</td>\n",
       "      <td>108.0</td>\n",
       "      <td>2019-03-07</td>\n",
       "      <td>3</td>\n",
       "      <td>2.70</td>\n",
       "      <td>16</td>\n",
       "      <td>51.0</td>\n",
       "      <td>8</td>\n",
       "      <td>False</td>\n",
       "      <td>False</td>\n",
       "      <td>False</td>\n",
       "      <td>25.0</td>\n",
       "      <td>0</td>\n",
       "      <td>Санкт-Петербург</td>\n",
       "      <td>18863.0</td>\n",
       "      <td>16028.0</td>\n",
       "      <td>1</td>\n",
       "      <td>482.0</td>\n",
       "      <td>2</td>\n",
       "      <td>755.0</td>\n",
       "      <td>NaN</td>\n",
       "      <td>120370.37</td>\n",
       "      <td>3</td>\n",
       "      <td>3</td>\n",
       "      <td>2019</td>\n",
       "      <td>другой</td>\n",
       "      <td>16.03</td>\n",
       "    </tr>\n",
       "    <tr>\n",
       "      <th>1</th>\n",
       "      <td>7</td>\n",
       "      <td>3350000</td>\n",
       "      <td>40.4</td>\n",
       "      <td>2018-12-04</td>\n",
       "      <td>1</td>\n",
       "      <td>2.65</td>\n",
       "      <td>11</td>\n",
       "      <td>18.6</td>\n",
       "      <td>1</td>\n",
       "      <td>False</td>\n",
       "      <td>False</td>\n",
       "      <td>False</td>\n",
       "      <td>11.0</td>\n",
       "      <td>2</td>\n",
       "      <td>Шушары</td>\n",
       "      <td>12817.0</td>\n",
       "      <td>18603.0</td>\n",
       "      <td>0</td>\n",
       "      <td>NaN</td>\n",
       "      <td>0</td>\n",
       "      <td>NaN</td>\n",
       "      <td>81.0</td>\n",
       "      <td>82920.79</td>\n",
       "      <td>1</td>\n",
       "      <td>12</td>\n",
       "      <td>2018</td>\n",
       "      <td>первый</td>\n",
       "      <td>18.60</td>\n",
       "    </tr>\n",
       "    <tr>\n",
       "      <th>2</th>\n",
       "      <td>10</td>\n",
       "      <td>5196000</td>\n",
       "      <td>56.0</td>\n",
       "      <td>2015-08-20</td>\n",
       "      <td>2</td>\n",
       "      <td>2.65</td>\n",
       "      <td>5</td>\n",
       "      <td>34.3</td>\n",
       "      <td>4</td>\n",
       "      <td>False</td>\n",
       "      <td>False</td>\n",
       "      <td>False</td>\n",
       "      <td>8.3</td>\n",
       "      <td>0</td>\n",
       "      <td>Санкт-Петербург</td>\n",
       "      <td>21741.0</td>\n",
       "      <td>13933.0</td>\n",
       "      <td>1</td>\n",
       "      <td>90.0</td>\n",
       "      <td>2</td>\n",
       "      <td>574.0</td>\n",
       "      <td>558.0</td>\n",
       "      <td>92785.71</td>\n",
       "      <td>3</td>\n",
       "      <td>8</td>\n",
       "      <td>2015</td>\n",
       "      <td>другой</td>\n",
       "      <td>13.93</td>\n",
       "    </tr>\n",
       "    <tr>\n",
       "      <th>3</th>\n",
       "      <td>0</td>\n",
       "      <td>64900000</td>\n",
       "      <td>159.0</td>\n",
       "      <td>2015-07-24</td>\n",
       "      <td>3</td>\n",
       "      <td>2.65</td>\n",
       "      <td>14</td>\n",
       "      <td>NaN</td>\n",
       "      <td>9</td>\n",
       "      <td>False</td>\n",
       "      <td>False</td>\n",
       "      <td>False</td>\n",
       "      <td>NaN</td>\n",
       "      <td>0</td>\n",
       "      <td>Санкт-Петербург</td>\n",
       "      <td>28098.0</td>\n",
       "      <td>6800.0</td>\n",
       "      <td>2</td>\n",
       "      <td>84.0</td>\n",
       "      <td>3</td>\n",
       "      <td>234.0</td>\n",
       "      <td>424.0</td>\n",
       "      <td>408176.10</td>\n",
       "      <td>4</td>\n",
       "      <td>7</td>\n",
       "      <td>2015</td>\n",
       "      <td>другой</td>\n",
       "      <td>6.80</td>\n",
       "    </tr>\n",
       "    <tr>\n",
       "      <th>4</th>\n",
       "      <td>2</td>\n",
       "      <td>10000000</td>\n",
       "      <td>100.0</td>\n",
       "      <td>2018-06-19</td>\n",
       "      <td>2</td>\n",
       "      <td>3.03</td>\n",
       "      <td>14</td>\n",
       "      <td>32.0</td>\n",
       "      <td>13</td>\n",
       "      <td>False</td>\n",
       "      <td>False</td>\n",
       "      <td>False</td>\n",
       "      <td>41.0</td>\n",
       "      <td>0</td>\n",
       "      <td>Санкт-Петербург</td>\n",
       "      <td>31856.0</td>\n",
       "      <td>8098.0</td>\n",
       "      <td>2</td>\n",
       "      <td>112.0</td>\n",
       "      <td>1</td>\n",
       "      <td>48.0</td>\n",
       "      <td>121.0</td>\n",
       "      <td>100000.00</td>\n",
       "      <td>1</td>\n",
       "      <td>6</td>\n",
       "      <td>2018</td>\n",
       "      <td>другой</td>\n",
       "      <td>8.10</td>\n",
       "    </tr>\n",
       "  </tbody>\n",
       "</table>\n",
       "</div>"
      ],
      "text/plain": [
       "   total_images  last_price  total_area first_day_exposition  rooms  \\\n",
       "0            20    13000000       108.0           2019-03-07      3   \n",
       "1             7     3350000        40.4           2018-12-04      1   \n",
       "2            10     5196000        56.0           2015-08-20      2   \n",
       "3             0    64900000       159.0           2015-07-24      3   \n",
       "4             2    10000000       100.0           2018-06-19      2   \n",
       "\n",
       "   ceiling_height  floors_total  living_area  floor  is_apartment  studio  \\\n",
       "0            2.70            16         51.0      8         False   False   \n",
       "1            2.65            11         18.6      1         False   False   \n",
       "2            2.65             5         34.3      4         False   False   \n",
       "3            2.65            14          NaN      9         False   False   \n",
       "4            3.03            14         32.0     13         False   False   \n",
       "\n",
       "   open_plan  kitchen_area  balcony    locality_name  airports_nearest  \\\n",
       "0      False          25.0        0  Санкт-Петербург           18863.0   \n",
       "1      False          11.0        2           Шушары           12817.0   \n",
       "2      False           8.3        0  Санкт-Петербург           21741.0   \n",
       "3      False           NaN        0  Санкт-Петербург           28098.0   \n",
       "4      False          41.0        0  Санкт-Петербург           31856.0   \n",
       "\n",
       "   city_centers_nearest  parks_around3000  parks_nearest  ponds_around3000  \\\n",
       "0               16028.0                 1          482.0                 2   \n",
       "1               18603.0                 0            NaN                 0   \n",
       "2               13933.0                 1           90.0                 2   \n",
       "3                6800.0                 2           84.0                 3   \n",
       "4                8098.0                 2          112.0                 1   \n",
       "\n",
       "   ponds_nearest  days_exposition  price_for_square_meter  publication_day  \\\n",
       "0          755.0              NaN               120370.37                3   \n",
       "1            NaN             81.0                82920.79                1   \n",
       "2          574.0            558.0                92785.71                3   \n",
       "3          234.0            424.0               408176.10                4   \n",
       "4           48.0            121.0               100000.00                1   \n",
       "\n",
       "   publication_month  publication_year floor_category  city_centers_nearest_km  \n",
       "0                  3              2019        другой                    16.03  \n",
       "1                 12              2018        первый                    18.60  \n",
       "2                  8              2015        другой                    13.93  \n",
       "3                  7              2015        другой                     6.80  \n",
       "4                  6              2018        другой                     8.10  "
      ]
     },
     "execution_count": 39,
     "metadata": {},
     "output_type": "execute_result"
    }
   ],
   "source": [
    "data.head()"
   ]
  },
  {
   "cell_type": "markdown",
   "id": "9ae28d5e",
   "metadata": {},
   "source": [
    "## Исследовательский анализ данных"
   ]
  },
  {
   "cell_type": "markdown",
   "id": "f3c8e45b",
   "metadata": {},
   "source": [
    "### Детальное изучение отдельных параметров для объектов продажи"
   ]
  },
  {
   "cell_type": "markdown",
   "id": "e3d446ab",
   "metadata": {},
   "source": [
    "Создадим функцию для подсчёта доли выбросов в каждом столбце:"
   ]
  },
  {
   "cell_type": "code",
   "execution_count": 40,
   "id": "b2f2ff5c",
   "metadata": {},
   "outputs": [
    {
     "name": "stdout",
     "output_type": "stream",
     "text": [
      "Доля выбросов в total_area в процентах: 5.23\n",
      "Доля выбросов в living_area в процентах: 3.26\n",
      "Доля выбросов в kitchen_area в процентах: 5.02\n",
      "Доля выбросов в last_price в процентах: 8.58\n",
      "Доля выбросов в rooms в процентах: 0.38\n",
      "Доля выбросов в ceiling_height в процентах: 12.48\n",
      "Доля выбросов в floors_total в процентах: 0.14\n",
      "Доля выбросов в city_centers_nearest в процентах: 7.29\n",
      "Доля выбросов в parks_nearest в процентах: 1.32\n"
     ]
    }
   ],
   "source": [
    "# Функция для подсчёта доли выбросов в каждом столбце\n",
    "def outliers(data, column):  # функция для подсчёта доли выбросов в каждом столбце\n",
    "    q1 = data[column].quantile(0.25) # первый квартиль\n",
    "    q3 = data[column].quantile(0.75)  # третий квартиль\n",
    "    iqr = q3 - q1  # межквартильный размах\n",
    "    quant1 = q1 - 1.5*iqr  # нижняя граница выбросов\n",
    "    quant3 = q3 + 1.5*iqr  # верхняя граница выбросов\n",
    "    total = data.shape[0]  # общее количество строк в датафрейме\n",
    "    emission = data[(data[column] < quant1) | (data[column] > quant3)].shape[0]  # количество выбросов\n",
    "    emission_quant = (emission / total) * 100  # доля выбросов в столбце\n",
    "    return np.round((emission_quant), decimals=2)  # возвращаем долю выбросов в столбце, чтобы округлить значения - добавим библиотеку numpy в шапку\n",
    "\n",
    "# Столбцы с выбросами\n",
    "\n",
    "column_list = ['total_area', 'living_area', 'kitchen_area', 'last_price', 'rooms', 'ceiling_height', 'floors_total', 'city_centers_nearest', 'parks_nearest']  # список столбцов с выбросами\n",
    "for value in column_list:  # цикл по столбцам с выбросами\n",
    "    print(f'Доля выбросов в {value} в процентах: {outliers(data, value)}')  # выводим долю выбросов в столбце"
   ]
  },
  {
   "cell_type": "markdown",
   "id": "78e3658a",
   "metadata": {},
   "source": [
    "Почистим `ceiling_height` от аномальных значений, уменьшив процент выбросов: "
   ]
  },
  {
   "cell_type": "code",
   "execution_count": 41,
   "id": "501f6ab2",
   "metadata": {},
   "outputs": [],
   "source": [
    "data = data.query('ceiling_height < 7')"
   ]
  },
  {
   "cell_type": "markdown",
   "id": "122f1418",
   "metadata": {},
   "source": [
    "Проверим, что получилось:"
   ]
  },
  {
   "cell_type": "code",
   "execution_count": 42,
   "id": "aa63a563",
   "metadata": {},
   "outputs": [
    {
     "data": {
      "text/plain": [
       "count    23670.000000\n",
       "mean         2.696784\n",
       "std          0.221689\n",
       "min          1.000000\n",
       "25%          2.600000\n",
       "50%          2.650000\n",
       "75%          2.700000\n",
       "max          6.000000\n",
       "Name: ceiling_height, dtype: float64"
      ]
     },
     "execution_count": 42,
     "metadata": {},
     "output_type": "execute_result"
    }
   ],
   "source": [
    "data['ceiling_height'].describe()"
   ]
  },
  {
   "cell_type": "markdown",
   "id": "b90eefec",
   "metadata": {},
   "source": [
    "Полученные доли выбросов позволяют построить гистограммы по межквартильному размаху, создадим функцию для этого:"
   ]
  },
  {
   "cell_type": "code",
   "execution_count": 43,
   "id": "5046d579",
   "metadata": {},
   "outputs": [],
   "source": [
    "# Функция для подсчёта границ с учетом 1.5 размаха\n",
    "def quartile_mask(data, column):  # функция для подсчёта границ с учетом 1.5 размаха\n",
    "    q1 = data[column].quantile(0.25) # первый квартиль\n",
    "    q3 = data[column].quantile(0.75)  # третий квартиль\n",
    "    iqr = q3 - q1  # межквартильный размах\n",
    "    dfq = data.loc[(data[column] < q3 + 1.5*iqr) & (data[column] > q1 - 1.5*iqr), column]  # фильтр межквартильного размаха\n",
    "    return dfq  # возвращаем отфильтрованный датафрейм\n",
    "# Столбцы с выбросами\n",
    "emissions_list = ['total_area', 'living_area', 'kitchen_area', 'last_price', 'rooms', 'ceiling_height']  # список столбцов с выбросами\n",
    "for value in emissions_list:  # цикл по столбцам с выбросами\n",
    "    data[value] = quartile_mask(data, value)  # применяем функцию к столбцам с выбросами"
   ]
  },
  {
   "cell_type": "markdown",
   "id": "9dbb9d3a",
   "metadata": {},
   "source": [
    "Общая площадь:"
   ]
  },
  {
   "cell_type": "code",
   "execution_count": 44,
   "id": "daf43a33",
   "metadata": {},
   "outputs": [
    {
     "data": {
      "text/plain": [
       "<AxesSubplot:>"
      ]
     },
     "execution_count": 44,
     "metadata": {},
     "output_type": "execute_result"
    },
    {
     "data": {
      "image/png": "[encoded data removed]",
      "text/plain": [
       "<Figure size 432x288 with 1 Axes>"
      ]
     },
     "metadata": {
      "needs_background": "light"
     },
     "output_type": "display_data"
    }
   ],
   "source": [
    "data['total_area'].hist(bins=100, range=(0, 300)) # гистограмма по общей площади"
   ]
  },
  {
   "cell_type": "markdown",
   "id": "a7f2d96e",
   "metadata": {},
   "source": [
    "Посмотрим список характерных значений в этом столбце:"
   ]
  },
  {
   "cell_type": "code",
   "execution_count": 45,
   "id": "4ee7032f",
   "metadata": {},
   "outputs": [
    {
     "data": {
      "text/plain": [
       "count    22430.000000\n",
       "mean        54.367126\n",
       "std         19.385545\n",
       "min         12.000000\n",
       "25%         39.400000\n",
       "50%         50.100000\n",
       "75%         65.600000\n",
       "max        114.600000\n",
       "Name: total_area, dtype: float64"
      ]
     },
     "execution_count": 45,
     "metadata": {},
     "output_type": "execute_result"
    }
   ],
   "source": [
    "data['total_area'].describe()"
   ]
  },
  {
   "cell_type": "markdown",
   "id": "2b648c63",
   "metadata": {},
   "source": [
    "Судя по списку характерных значений, гистограмму можно перестроить, задав границы от 12 м2 (минимальное значение) до 100 м2 (стандартное отклонение от среднего значения), отбросив редкие и выбивающиеся значения:"
   ]
  },
  {
   "cell_type": "code",
   "execution_count": 46,
   "id": "33a9cdd6",
   "metadata": {},
   "outputs": [
    {
     "data": {
      "text/plain": [
       "<AxesSubplot:>"
      ]
     },
     "execution_count": 46,
     "metadata": {},
     "output_type": "execute_result"
    },
    {
     "data": {
      "image/png": "[encoded data removed]",
      "text/plain": [
       "<Figure size 432x288 with 1 Axes>"
      ]
     },
     "metadata": {
      "needs_background": "light"
     },
     "output_type": "display_data"
    }
   ],
   "source": [
    "data['total_area'].hist(bins=100, range=(12, 100)) # гистограмма по общей площади"
   ]
  },
  {
   "cell_type": "markdown",
   "id": "095ca70c",
   "metadata": {},
   "source": [
    "Наибольшее количество объектов на продажу - с общей площадью в диапазоне от 40 м2 до ~60 м2 (третий квартиль), с максимальным количеством значений в ~45 м2"
   ]
  },
  {
   "cell_type": "markdown",
   "id": "b0a3e29c",
   "metadata": {},
   "source": [
    "Жилая площадь:"
   ]
  },
  {
   "cell_type": "code",
   "execution_count": 47,
   "id": "b513885a",
   "metadata": {},
   "outputs": [
    {
     "data": {
      "text/plain": [
       "<AxesSubplot:>"
      ]
     },
     "execution_count": 47,
     "metadata": {},
     "output_type": "execute_result"
    },
    {
     "data": {
      "image/png": "[encoded data removed]",
      "text/plain": [
       "<Figure size 432x288 with 1 Axes>"
      ]
     },
     "metadata": {
      "needs_background": "light"
     },
     "output_type": "display_data"
    }
   ],
   "source": [
    "data['living_area'].hist(bins=100, range=(0, 300)) # гистограмма по жилой площади"
   ]
  },
  {
   "cell_type": "code",
   "execution_count": 48,
   "id": "90f1a54d",
   "metadata": {},
   "outputs": [
    {
     "data": {
      "text/plain": [
       "count    20994.000000\n",
       "mean        31.552243\n",
       "std         13.941479\n",
       "min          2.000000\n",
       "25%         18.400000\n",
       "50%         30.000000\n",
       "75%         41.000000\n",
       "max         77.800000\n",
       "Name: living_area, dtype: float64"
      ]
     },
     "execution_count": 48,
     "metadata": {},
     "output_type": "execute_result"
    }
   ],
   "source": [
    "data['living_area'].describe()"
   ]
  },
  {
   "cell_type": "code",
   "execution_count": 49,
   "id": "3df1f315",
   "metadata": {},
   "outputs": [
    {
     "data": {
      "text/plain": [
       "<AxesSubplot:>"
      ]
     },
     "execution_count": 49,
     "metadata": {},
     "output_type": "execute_result"
    },
    {
     "data": {
      "image/png": "[encoded data removed]",
      "text/plain": [
       "<Figure size 432x288 with 1 Axes>"
      ]
     },
     "metadata": {
      "needs_background": "light"
     },
     "output_type": "display_data"
    }
   ],
   "source": [
    "data['living_area'].hist(bins=100, range=(10, 50))"
   ]
  },
  {
   "cell_type": "markdown",
   "id": "dddf548b",
   "metadata": {},
   "source": [
    "Наибольшее количество объектов на продажу - с жилой площадью в диапазоне от ~18 м2 до 30 м2, но с явным спадом этого показателя в диапазоне 22-24 м2."
   ]
  },
  {
   "cell_type": "markdown",
   "id": "a8335d06",
   "metadata": {},
   "source": [
    "Следующие гистограммы для экономии времени на анализ будем строить после предварительного ознакомления с характерными значениями."
   ]
  },
  {
   "cell_type": "markdown",
   "id": "8d3842a7",
   "metadata": {},
   "source": [
    "Площадь кухни:"
   ]
  },
  {
   "cell_type": "code",
   "execution_count": 50,
   "id": "8277ec5c",
   "metadata": {},
   "outputs": [
    {
     "data": {
      "text/plain": [
       "count    20196.000000\n",
       "mean         9.505172\n",
       "std          3.126111\n",
       "min          1.300000\n",
       "25%          7.000000\n",
       "50%          9.000000\n",
       "75%         11.100000\n",
       "max         19.450000\n",
       "Name: kitchen_area, dtype: float64"
      ]
     },
     "execution_count": 50,
     "metadata": {},
     "output_type": "execute_result"
    }
   ],
   "source": [
    "data['kitchen_area'].describe()"
   ]
  },
  {
   "cell_type": "code",
   "execution_count": 51,
   "id": "8b6f5cbb",
   "metadata": {},
   "outputs": [
    {
     "data": {
      "text/plain": [
       "<AxesSubplot:>"
      ]
     },
     "execution_count": 51,
     "metadata": {},
     "output_type": "execute_result"
    },
    {
     "data": {
      "image/png": "[encoded data removed]",
      "text/plain": [
       "<Figure size 432x288 with 1 Axes>"
      ]
     },
     "metadata": {
      "needs_background": "light"
     },
     "output_type": "display_data"
    }
   ],
   "source": [
    "data['kitchen_area'].hist(bins=100, range=(5, 12))"
   ]
  },
  {
   "cell_type": "markdown",
   "id": "839f2839",
   "metadata": {},
   "source": [
    "Характерные максимальные значения площади кухни - на целых значениях: 6, 8, 10 м2. Это похоже на правду. Имеем в виду также, что ранее пропуски в значениях мы заполнили нулями."
   ]
  },
  {
   "cell_type": "markdown",
   "id": "30744958",
   "metadata": {},
   "source": [
    "Цена объекта:"
   ]
  },
  {
   "cell_type": "code",
   "execution_count": 52,
   "id": "fd677e3d",
   "metadata": {},
   "outputs": [
    {
     "data": {
      "text/plain": [
       "count    2.161000e+04\n",
       "mean     4.840413e+06\n",
       "std      2.217599e+06\n",
       "min      1.219000e+04\n",
       "25%      3.300000e+06\n",
       "50%      4.400000e+06\n",
       "75%      6.000000e+06\n",
       "max      1.189440e+07\n",
       "Name: last_price, dtype: float64"
      ]
     },
     "execution_count": 52,
     "metadata": {},
     "output_type": "execute_result"
    }
   ],
   "source": [
    "data['last_price'].describe()"
   ]
  },
  {
   "cell_type": "code",
   "execution_count": 54,
   "id": "72d31041",
   "metadata": {},
   "outputs": [],
   "source": [
    "data['last_price'] = data['last_price'] / 1000000"
   ]
  },
  {
   "cell_type": "code",
   "execution_count": 55,
   "id": "057c3d55",
   "metadata": {},
   "outputs": [
    {
     "data": {
      "text/plain": [
       "<AxesSubplot:>"
      ]
     },
     "execution_count": 55,
     "metadata": {},
     "output_type": "execute_result"
    },
    {
     "data": {
      "image/png": "[encoded data removed]",
      "text/plain": [
       "<Figure size 432x288 with 1 Axes>"
      ]
     },
     "metadata": {
      "needs_background": "light"
     },
     "output_type": "display_data"
    }
   ],
   "source": [
    "data['last_price'].hist(bins=100, range=(0, 10))"
   ]
  },
  {
   "cell_type": "markdown",
   "id": "01a5a278",
   "metadata": {},
   "source": [
    "Чаще всего цена объекта колеблется в диапазоне от 3 до 4,5 млн."
   ]
  },
  {
   "cell_type": "markdown",
   "id": "3c634461",
   "metadata": {},
   "source": [
    "Количество комнат:"
   ]
  },
  {
   "cell_type": "code",
   "execution_count": 56,
   "id": "557c3de1",
   "metadata": {},
   "outputs": [
    {
     "data": {
      "text/plain": [
       "count    23475.000000\n",
       "mean         2.030458\n",
       "std          0.973781\n",
       "min          0.000000\n",
       "25%          1.000000\n",
       "50%          2.000000\n",
       "75%          3.000000\n",
       "max          5.000000\n",
       "Name: rooms, dtype: float64"
      ]
     },
     "execution_count": 56,
     "metadata": {},
     "output_type": "execute_result"
    }
   ],
   "source": [
    "data['rooms'].describe()"
   ]
  },
  {
   "cell_type": "code",
   "execution_count": 57,
   "id": "e48c69d5",
   "metadata": {},
   "outputs": [
    {
     "data": {
      "text/plain": [
       "<AxesSubplot:>"
      ]
     },
     "execution_count": 57,
     "metadata": {},
     "output_type": "execute_result"
    },
    {
     "data": {
      "image/png": "[encoded data removed]",
      "text/plain": [
       "<Figure size 432x288 with 1 Axes>"
      ]
     },
     "metadata": {
      "needs_background": "light"
     },
     "output_type": "display_data"
    }
   ],
   "source": [
    "data['rooms'].hist(bins=10, range=(1, 6))"
   ]
  },
  {
   "cell_type": "markdown",
   "id": "870aa8a0",
   "metadata": {},
   "source": [
    "Максимальное количество объектов - одно- и двухкомнатные."
   ]
  },
  {
   "cell_type": "markdown",
   "id": "6baea4c5",
   "metadata": {},
   "source": [
    "Высота потолков:"
   ]
  },
  {
   "cell_type": "code",
   "execution_count": 58,
   "id": "be99d04f",
   "metadata": {},
   "outputs": [
    {
     "data": {
      "text/plain": [
       "count    20727.000000\n",
       "mean         2.631264\n",
       "std          0.081300\n",
       "min          2.460000\n",
       "25%          2.600000\n",
       "50%          2.650000\n",
       "75%          2.650000\n",
       "max          2.850000\n",
       "Name: ceiling_height, dtype: float64"
      ]
     },
     "execution_count": 58,
     "metadata": {},
     "output_type": "execute_result"
    }
   ],
   "source": [
    "data['ceiling_height'].describe()"
   ]
  },
  {
   "cell_type": "code",
   "execution_count": 59,
   "id": "abbe0e37",
   "metadata": {},
   "outputs": [
    {
     "data": {
      "text/plain": [
       "<AxesSubplot:>"
      ]
     },
     "execution_count": 59,
     "metadata": {},
     "output_type": "execute_result"
    },
    {
     "data": {
      "image/png": "[encoded data removed]",
      "text/plain": [
       "<Figure size 432x288 with 1 Axes>"
      ]
     },
     "metadata": {
      "needs_background": "light"
     },
     "output_type": "display_data"
    }
   ],
   "source": [
    "data['ceiling_height'].hist(bins=50, range=(2.3, 3.5))"
   ]
  },
  {
   "cell_type": "markdown",
   "id": "a5ae53b1",
   "metadata": {},
   "source": [
    "В основном объекты продажи - с высотой потолка от 2.5 до 2.8 м, с наиболее часто встречающимся значением в ~2.65 м. Ранее проверили, не попало ли в выборку значительного числа объектов с ошибочно указанной высотой (судя по аномальному 100-метровому максимуму). Например, если была пропущена точка-разделитель."
   ]
  },
  {
   "cell_type": "markdown",
   "id": "bada7f2b",
   "metadata": {},
   "source": [
    "Ситуация кардинально не поменялась, оставляем в силе предыдущий вывод."
   ]
  },
  {
   "cell_type": "markdown",
   "id": "49bfd35c",
   "metadata": {},
   "source": [
    "Тип этажа квартиры:"
   ]
  },
  {
   "cell_type": "code",
   "execution_count": 62,
   "id": "3a40a3ad",
   "metadata": {},
   "outputs": [
    {
     "data": {
      "text/plain": [
       "<AxesSubplot:>"
      ]
     },
     "execution_count": 62,
     "metadata": {},
     "output_type": "execute_result"
    },
    {
     "data": {
      "image/png": "[encoded data removed]",
      "text/plain": [
       "<Figure size 432x288 with 1 Axes>"
      ]
     },
     "metadata": {
      "needs_background": "light"
     },
     "output_type": "display_data"
    }
   ],
   "source": [
    "data['floor_category'].hist(bins=10, range=(0, 3)) # сразу строим гистограмму, т.к. это категориальная переменная"
   ]
  },
  {
   "cell_type": "markdown",
   "id": "e6852ca4",
   "metadata": {},
   "source": [
    "Количество объектов продажи сильно зависит от этажа, первый и последний - совсем не популярны в объявлениях."
   ]
  },
  {
   "cell_type": "markdown",
   "id": "58a6862a",
   "metadata": {},
   "source": [
    "Общее количество этажей в доме:"
   ]
  },
  {
   "cell_type": "code",
   "execution_count": 63,
   "id": "61b9dc3d",
   "metadata": {},
   "outputs": [
    {
     "data": {
      "text/plain": [
       "count    23670.000000\n",
       "mean        10.672581\n",
       "std          6.593951\n",
       "min          1.000000\n",
       "25%          5.000000\n",
       "50%          9.000000\n",
       "75%         16.000000\n",
       "max         60.000000\n",
       "Name: floors_total, dtype: float64"
      ]
     },
     "execution_count": 63,
     "metadata": {},
     "output_type": "execute_result"
    }
   ],
   "source": [
    "data['floors_total'].describe()"
   ]
  },
  {
   "cell_type": "code",
   "execution_count": 64,
   "id": "c3336158",
   "metadata": {},
   "outputs": [
    {
     "data": {
      "text/plain": [
       "<AxesSubplot:>"
      ]
     },
     "execution_count": 64,
     "metadata": {},
     "output_type": "execute_result"
    },
    {
     "data": {
      "image/png": "[encoded data removed]",
      "text/plain": [
       "<Figure size 432x288 with 1 Axes>"
      ]
     },
     "metadata": {
      "needs_background": "light"
     },
     "output_type": "display_data"
    }
   ],
   "source": [
    "data['floors_total'].hist(bins=50, range=(1, 25))"
   ]
  },
  {
   "cell_type": "markdown",
   "id": "d65c91e9",
   "metadata": {},
   "source": [
    "Правдивое распределение с максимальным количеством объектов в пяти- и затем в девятиэтажных домах."
   ]
  },
  {
   "cell_type": "markdown",
   "id": "5a5c37ff",
   "metadata": {},
   "source": [
    "Расстояние до центра города в метрах:"
   ]
  },
  {
   "cell_type": "code",
   "execution_count": 65,
   "id": "f90a2e12",
   "metadata": {},
   "outputs": [
    {
     "data": {
      "text/plain": [
       "count    18161.000000\n",
       "mean     14191.330929\n",
       "std       8606.603900\n",
       "min        181.000000\n",
       "25%       9238.000000\n",
       "50%      13101.000000\n",
       "75%      16293.000000\n",
       "max      65968.000000\n",
       "Name: city_centers_nearest, dtype: float64"
      ]
     },
     "execution_count": 65,
     "metadata": {},
     "output_type": "execute_result"
    }
   ],
   "source": [
    "data['city_centers_nearest'].describe()"
   ]
  },
  {
   "cell_type": "code",
   "execution_count": 66,
   "id": "4f69587d",
   "metadata": {},
   "outputs": [
    {
     "data": {
      "text/plain": [
       "<AxesSubplot:>"
      ]
     },
     "execution_count": 66,
     "metadata": {},
     "output_type": "execute_result"
    },
    {
     "data": {
      "image/png": "[encoded data removed]",
      "text/plain": [
       "<Figure size 432x288 with 1 Axes>"
      ]
     },
     "metadata": {
      "needs_background": "light"
     },
     "output_type": "display_data"
    }
   ],
   "source": [
    "data['city_centers_nearest'].hist(bins=50, range=(0, 25000))"
   ]
  },
  {
   "cell_type": "markdown",
   "id": "0d1fae29",
   "metadata": {},
   "source": [
    "Наибольшее значение объектов продажи - на дистанции от 10 до 17 км до центра города. Это могут быть спальные районы Санкт-Петербурга либо населённые пункты в Ленинградской области. Есть пик для 5 км от центра, это тоже привлекательный сегмент."
   ]
  },
  {
   "cell_type": "markdown",
   "id": "fb68f93f",
   "metadata": {},
   "source": [
    "Расстояние до ближайшего парка:"
   ]
  },
  {
   "cell_type": "code",
   "execution_count": 67,
   "id": "0b637238",
   "metadata": {},
   "outputs": [
    {
     "data": {
      "text/plain": [
       "count    8070.000000\n",
       "mean      490.773234\n",
       "std       342.430299\n",
       "min         1.000000\n",
       "25%       288.000000\n",
       "50%       455.000000\n",
       "75%       612.000000\n",
       "max      3190.000000\n",
       "Name: parks_nearest, dtype: float64"
      ]
     },
     "execution_count": 67,
     "metadata": {},
     "output_type": "execute_result"
    }
   ],
   "source": [
    "data['parks_nearest'].describe()"
   ]
  },
  {
   "cell_type": "code",
   "execution_count": 68,
   "id": "7486b9fd",
   "metadata": {
    "scrolled": true
   },
   "outputs": [
    {
     "data": {
      "text/plain": [
       "<AxesSubplot:>"
      ]
     },
     "execution_count": 68,
     "metadata": {},
     "output_type": "execute_result"
    },
    {
     "data": {
      "image/png": "[encoded data removed]",
      "text/plain": [
       "<Figure size 432x288 with 1 Axes>"
      ]
     },
     "metadata": {
      "needs_background": "light"
     },
     "output_type": "display_data"
    }
   ],
   "source": [
    "data['parks_nearest'].hist(bins=50, range=(0, 1000))"
   ]
  },
  {
   "cell_type": "markdown",
   "id": "6c5c22c9",
   "metadata": {},
   "source": [
    "В основном объекты расположены на расстоянии 150-750 м от ближайшего парка с пиком в ~450 м. В целом, количество объектов продажи не сильно зависит от этого показателя."
   ]
  },
  {
   "cell_type": "markdown",
   "id": "da94973b",
   "metadata": {},
   "source": [
    "Вывод по разделу: на основании проведённого анализа можно выделить самые частые типовые предложения для объектов продажи: это однокомнатная квартира на этаже, отличном от первого и последнего, стоимостью от 3 до 4,5 млн. руб., в пятиэтажном доме, общей площадью ~45 м2, жилой - 18 м2, площадью кухни - 6 м2, с высотой потолка ~2.65 м, примерно в 15 км от центра города и в 450 метрах от ближайшего парка."
   ]
  },
  {
   "cell_type": "markdown",
   "id": "443420c7",
   "metadata": {},
   "source": [
    "### Изучение скорости продажи квартир"
   ]
  },
  {
   "cell_type": "markdown",
   "id": "3a36dada",
   "metadata": {},
   "source": [
    "Изучим список характерных значений:"
   ]
  },
  {
   "cell_type": "code",
   "execution_count": 69,
   "id": "bee2217a",
   "metadata": {},
   "outputs": [
    {
     "data": {
      "text/plain": [
       "count    20495.000000\n",
       "mean       180.905782\n",
       "std        219.777833\n",
       "min          1.000000\n",
       "25%         45.000000\n",
       "50%         95.000000\n",
       "75%        232.000000\n",
       "max       1580.000000\n",
       "Name: days_exposition, dtype: float64"
      ]
     },
     "execution_count": 69,
     "metadata": {},
     "output_type": "execute_result"
    }
   ],
   "source": [
    "data['days_exposition'].describe()"
   ]
  },
  {
   "cell_type": "markdown",
   "id": "5a8e3c48",
   "metadata": {},
   "source": [
    "Построим гистограмму на основании изученных значений:"
   ]
  },
  {
   "cell_type": "code",
   "execution_count": 70,
   "id": "a76ad6d6",
   "metadata": {},
   "outputs": [
    {
     "data": {
      "text/plain": [
       "<AxesSubplot:>"
      ]
     },
     "execution_count": 70,
     "metadata": {},
     "output_type": "execute_result"
    },
    {
     "data": {
      "image/png": "[encoded data removed]",
      "text/plain": [
       "<Figure size 432x288 with 1 Axes>"
      ]
     },
     "metadata": {
      "needs_background": "light"
     },
     "output_type": "display_data"
    }
   ],
   "source": [
    "data['days_exposition'].hist(bins=100, range=(0, 300))"
   ]
  },
  {
   "cell_type": "markdown",
   "id": "35f8924b",
   "metadata": {},
   "source": [
    "Вывод по разделу: среднее значение скорости продажи - 180 дней, медианное - 95 дней. Медианное значение не подвержено выбросам и аномальным значениям, следовательно, среднее время продажи объекта - около трёх месяцев.\n",
    "Быстрые продажи - те, что находятся в первом квартиле (25%), т.е. реализованные за 45 дней. Необычно долгие - те, что лежат за третьим квартилем (75%), т.е. дольше 232 дней или около 7,5 месяцев."
   ]
  },
  {
   "cell_type": "code",
   "execution_count": 71,
   "id": "0c3df4f3",
   "metadata": {},
   "outputs": [
    {
     "data": {
      "text/plain": [
       "<AxesSubplot:>"
      ]
     },
     "execution_count": 71,
     "metadata": {},
     "output_type": "execute_result"
    },
    {
     "data": {
      "image/png": "[encoded data removed]",
      "text/plain": [
       "<Figure size 432x288 with 1 Axes>"
      ]
     },
     "metadata": {
      "needs_background": "light"
     },
     "output_type": "display_data"
    }
   ],
   "source": [
    "data['days_exposition'].hist(bins=30, range=(0, 100))"
   ]
  },
  {
   "cell_type": "markdown",
   "id": "fbd77d90",
   "metadata": {},
   "source": [
    "### Определение факторов, больше всего влияющих на стоимость объекта"
   ]
  },
  {
   "cell_type": "markdown",
   "id": "132fd992",
   "metadata": {},
   "source": [
    "Изучим, влияют ли следующие факторы на общую стоимость `last_price` объекта: \n",
    "- общая площадь `total_area`;\n",
    "- жилая площадь `living_area`;\n",
    "- площадь кухни `kitchen_area`;\n",
    "- количество комнат `rooms`;\n",
    "- этаж, на котором расположена квартира (первый, последний, другой) `floor_category`;\n",
    "- дата размещения (день недели, месяц, год) `publication_day`, `publication_month`, `publication_year`."
   ]
  },
  {
   "cell_type": "markdown",
   "id": "fb6473bb",
   "metadata": {},
   "source": [
    "Построим матрицу корреляции по всем данным, кроме типа этажа, по нему посчитаем отдельно (тип данных в этом столбце не числовой):"
   ]
  },
  {
   "cell_type": "code",
   "execution_count": 72,
   "id": "d6fba948",
   "metadata": {},
   "outputs": [
    {
     "data": {
      "text/html": [
       "<div>\n",
       "<style scoped>\n",
       "    .dataframe tbody tr th:only-of-type {\n",
       "        vertical-align: middle;\n",
       "    }\n",
       "\n",
       "    .dataframe tbody tr th {\n",
       "        vertical-align: top;\n",
       "    }\n",
       "\n",
       "    .dataframe thead th {\n",
       "        text-align: right;\n",
       "    }\n",
       "</style>\n",
       "<table border=\"1\" class=\"dataframe\">\n",
       "  <thead>\n",
       "    <tr style=\"text-align: right;\">\n",
       "      <th></th>\n",
       "      <th>last_price</th>\n",
       "      <th>total_area</th>\n",
       "      <th>living_area</th>\n",
       "      <th>kitchen_area</th>\n",
       "      <th>rooms</th>\n",
       "    </tr>\n",
       "  </thead>\n",
       "  <tbody>\n",
       "    <tr>\n",
       "      <th>last_price</th>\n",
       "      <td>1.000000</td>\n",
       "      <td>0.694063</td>\n",
       "      <td>0.571301</td>\n",
       "      <td>0.484159</td>\n",
       "      <td>0.449609</td>\n",
       "    </tr>\n",
       "    <tr>\n",
       "      <th>total_area</th>\n",
       "      <td>0.694063</td>\n",
       "      <td>1.000000</td>\n",
       "      <td>0.904435</td>\n",
       "      <td>0.457097</td>\n",
       "      <td>0.789120</td>\n",
       "    </tr>\n",
       "    <tr>\n",
       "      <th>living_area</th>\n",
       "      <td>0.571301</td>\n",
       "      <td>0.904435</td>\n",
       "      <td>1.000000</td>\n",
       "      <td>0.226729</td>\n",
       "      <td>0.881624</td>\n",
       "    </tr>\n",
       "    <tr>\n",
       "      <th>kitchen_area</th>\n",
       "      <td>0.484159</td>\n",
       "      <td>0.457097</td>\n",
       "      <td>0.226729</td>\n",
       "      <td>1.000000</td>\n",
       "      <td>0.115917</td>\n",
       "    </tr>\n",
       "    <tr>\n",
       "      <th>rooms</th>\n",
       "      <td>0.449609</td>\n",
       "      <td>0.789120</td>\n",
       "      <td>0.881624</td>\n",
       "      <td>0.115917</td>\n",
       "      <td>1.000000</td>\n",
       "    </tr>\n",
       "  </tbody>\n",
       "</table>\n",
       "</div>"
      ],
      "text/plain": [
       "              last_price  total_area  living_area  kitchen_area     rooms\n",
       "last_price      1.000000    0.694063     0.571301      0.484159  0.449609\n",
       "total_area      0.694063    1.000000     0.904435      0.457097  0.789120\n",
       "living_area     0.571301    0.904435     1.000000      0.226729  0.881624\n",
       "kitchen_area    0.484159    0.457097     0.226729      1.000000  0.115917\n",
       "rooms           0.449609    0.789120     0.881624      0.115917  1.000000"
      ]
     },
     "metadata": {},
     "output_type": "display_data"
    }
   ],
   "source": [
    "corr_column = ['last_price', 'total_area', 'living_area', 'kitchen_area', 'rooms']\n",
    "corr_matrix = data[corr_column].corr()\n",
    "display(corr_matrix)"
   ]
  },
  {
   "cell_type": "markdown",
   "id": "929d9587",
   "metadata": {},
   "source": [
    "Наиболее явно видна зависимость между стоимостью и общей площадью объекта, что вполне ожидаемо."
   ]
  },
  {
   "cell_type": "markdown",
   "id": "62c3a5dd",
   "metadata": {},
   "source": [
    "Построим сводную таблицу и график зависимости стоимости от типа этажа (первый, последний, другой):"
   ]
  },
  {
   "cell_type": "code",
   "execution_count": 74,
   "id": "5b9bd20d",
   "metadata": {},
   "outputs": [
    {
     "data": {
      "text/plain": [
       "<AxesSubplot:xlabel='floor_category'>"
      ]
     },
     "execution_count": 74,
     "metadata": {},
     "output_type": "execute_result"
    },
    {
     "data": {
      "image/png": "[encoded data removed]",
      "text/plain": [
       "<Figure size 360x360 with 1 Axes>"
      ]
     },
     "metadata": {
      "needs_background": "light"
     },
     "output_type": "display_data"
    }
   ],
   "source": [
    "data.pivot_table(index='floor_category', values='last_price').plot(style='o-', grid=True, figsize=(5, 5))"
   ]
  },
  {
   "cell_type": "markdown",
   "id": "3f414775",
   "metadata": {},
   "source": [
    "Построим графики по остальным зависимостям, для более детального изучения."
   ]
  },
  {
   "cell_type": "markdown",
   "id": "9eff18a2",
   "metadata": {},
   "source": [
    "Зависимость стоимости от общей площади:"
   ]
  },
  {
   "cell_type": "code",
   "execution_count": 75,
   "id": "c4f032a9",
   "metadata": {},
   "outputs": [
    {
     "data": {
      "text/plain": [
       "<AxesSubplot:xlabel='total_area'>"
      ]
     },
     "execution_count": 75,
     "metadata": {},
     "output_type": "execute_result"
    },
    {
     "data": {
      "image/png": "[encoded data removed]",
      "text/plain": [
       "<Figure size 360x360 with 1 Axes>"
      ]
     },
     "metadata": {
      "needs_background": "light"
     },
     "output_type": "display_data"
    }
   ],
   "source": [
    "data.pivot_table(index='total_area', values='last_price').plot(grid=True, style='o', figsize=(5, 5), alpha=0.5)"
   ]
  },
  {
   "cell_type": "markdown",
   "id": "f5a845e9",
   "metadata": {},
   "source": [
    "Зависимость стоимости от жилой площади:"
   ]
  },
  {
   "cell_type": "code",
   "execution_count": 76,
   "id": "546dd504",
   "metadata": {},
   "outputs": [
    {
     "data": {
      "text/plain": [
       "<AxesSubplot:xlabel='living_area'>"
      ]
     },
     "execution_count": 76,
     "metadata": {},
     "output_type": "execute_result"
    },
    {
     "data": {
      "image/png": "[encoded data removed]",
      "text/plain": [
       "<Figure size 360x360 with 1 Axes>"
      ]
     },
     "metadata": {
      "needs_background": "light"
     },
     "output_type": "display_data"
    }
   ],
   "source": [
    "data.pivot_table(index='living_area', values='last_price').plot(grid=True, style='o', figsize=(5, 5), alpha=0.5)"
   ]
  },
  {
   "cell_type": "markdown",
   "id": "7993fd37",
   "metadata": {},
   "source": [
    "Зависимость стоимости от площади кухни:"
   ]
  },
  {
   "cell_type": "code",
   "execution_count": 77,
   "id": "8f1d9933",
   "metadata": {},
   "outputs": [
    {
     "data": {
      "text/plain": [
       "<AxesSubplot:xlabel='kitchen_area'>"
      ]
     },
     "execution_count": 77,
     "metadata": {},
     "output_type": "execute_result"
    },
    {
     "data": {
      "image/png": "[encoded data removed]",
      "text/plain": [
       "<Figure size 360x360 with 1 Axes>"
      ]
     },
     "metadata": {
      "needs_background": "light"
     },
     "output_type": "display_data"
    }
   ],
   "source": [
    "data.pivot_table(index='kitchen_area', values='last_price').plot(grid=True, style='o', figsize=(5, 5), alpha=0.5)"
   ]
  },
  {
   "cell_type": "markdown",
   "id": "8fdff0a5",
   "metadata": {},
   "source": [
    "Зависимость стоимости от количества комнат:"
   ]
  },
  {
   "cell_type": "code",
   "execution_count": 78,
   "id": "e04b70e1",
   "metadata": {},
   "outputs": [
    {
     "data": {
      "text/plain": [
       "<AxesSubplot:xlabel='rooms'>"
      ]
     },
     "execution_count": 78,
     "metadata": {},
     "output_type": "execute_result"
    },
    {
     "data": {
      "image/png": "[encoded data removed]",
      "text/plain": [
       "<Figure size 360x360 with 1 Axes>"
      ]
     },
     "metadata": {
      "needs_background": "light"
     },
     "output_type": "display_data"
    }
   ],
   "source": [
    "data.pivot_table(index='rooms', values='last_price').plot(grid=True, style='o-', figsize=(5, 5))"
   ]
  },
  {
   "cell_type": "markdown",
   "id": "565f9e6e",
   "metadata": {},
   "source": [
    "Зависимость стоимости от дня размещения объявления:"
   ]
  },
  {
   "cell_type": "code",
   "execution_count": 79,
   "id": "01a3d243",
   "metadata": {},
   "outputs": [
    {
     "data": {
      "text/plain": [
       "<AxesSubplot:xlabel='publication_day'>"
      ]
     },
     "execution_count": 79,
     "metadata": {},
     "output_type": "execute_result"
    },
    {
     "data": {
      "image/png": "[encoded data removed]",
      "text/plain": [
       "<Figure size 360x360 with 1 Axes>"
      ]
     },
     "metadata": {
      "needs_background": "light"
     },
     "output_type": "display_data"
    }
   ],
   "source": [
    "data.pivot_table(index='publication_day', values='last_price').plot(grid=True, style='o-', figsize=(5, 5))"
   ]
  },
  {
   "cell_type": "markdown",
   "id": "e223f8ac",
   "metadata": {},
   "source": [
    "Зависимость стоимости от месяца размещения объявления:"
   ]
  },
  {
   "cell_type": "code",
   "execution_count": 80,
   "id": "039bba27",
   "metadata": {},
   "outputs": [
    {
     "data": {
      "text/plain": [
       "<AxesSubplot:xlabel='publication_month'>"
      ]
     },
     "execution_count": 80,
     "metadata": {},
     "output_type": "execute_result"
    },
    {
     "data": {
      "image/png": "[encoded data removed]",
      "text/plain": [
       "<Figure size 360x360 with 1 Axes>"
      ]
     },
     "metadata": {
      "needs_background": "light"
     },
     "output_type": "display_data"
    }
   ],
   "source": [
    "data.pivot_table(index='publication_month', values='last_price').plot(grid=True, style='o-', figsize=(5, 5))"
   ]
  },
  {
   "cell_type": "markdown",
   "id": "7573b88d",
   "metadata": {},
   "source": [
    "Зависимость стоимости от года размещения объявления:"
   ]
  },
  {
   "cell_type": "code",
   "execution_count": 81,
   "id": "fcbdf419",
   "metadata": {},
   "outputs": [
    {
     "data": {
      "text/plain": [
       "<AxesSubplot:xlabel='publication_year'>"
      ]
     },
     "execution_count": 81,
     "metadata": {},
     "output_type": "execute_result"
    },
    {
     "data": {
      "image/png": "[encoded data removed]",
      "text/plain": [
       "<Figure size 360x360 with 1 Axes>"
      ]
     },
     "metadata": {
      "needs_background": "light"
     },
     "output_type": "display_data"
    }
   ],
   "source": [
    "data.pivot_table(index='publication_year', values='last_price').plot(grid=True, style='o-', figsize=(5, 5))"
   ]
  },
  {
   "cell_type": "markdown",
   "id": "630203ca",
   "metadata": {},
   "source": [
    "Выводы по разделу: \n",
    "- как и показывал коэффициент корреляции Пирсона, наибольшая взаимосвязь между стоимостью объекта и его общей площадью: чем больше площадь, тем выше стоимость; \n",
    "- жилая площадь и площадь кухни влияют на стоимость чуть меньше;\n",
    "- стоимость объекта растёт линейно в зависимости от количества комнат;\n",
    "- самая высокая стоимость у квартир, отличных от первого (особенно) и последнего этажа;\n",
    "- на стоимость объявлений влияют день (с пиком во вторник и минимумом в субботу) и год (начиная с 2014 года стоимость снижалась. Только после 2018 пошёл рост), месяц при этом не влияет."
   ]
  },
  {
   "cell_type": "markdown",
   "id": "45fdb68e",
   "metadata": {},
   "source": [
    "### Подсчёт средней цены одного квадратного метра в 10 населённых пунктах с наибольшим числом объявлений"
   ]
  },
  {
   "cell_type": "code",
   "execution_count": 82,
   "id": "43ae9269",
   "metadata": {},
   "outputs": [
    {
     "data": {
      "text/html": [
       "<div>\n",
       "<style scoped>\n",
       "    .dataframe tbody tr th:only-of-type {\n",
       "        vertical-align: middle;\n",
       "    }\n",
       "\n",
       "    .dataframe tbody tr th {\n",
       "        vertical-align: top;\n",
       "    }\n",
       "\n",
       "    .dataframe thead th {\n",
       "        text-align: right;\n",
       "    }\n",
       "</style>\n",
       "<table border=\"1\" class=\"dataframe\">\n",
       "  <thead>\n",
       "    <tr style=\"text-align: right;\">\n",
       "      <th></th>\n",
       "      <th>count</th>\n",
       "      <th>price_for_square_meter</th>\n",
       "    </tr>\n",
       "    <tr>\n",
       "      <th>locality_name</th>\n",
       "      <th></th>\n",
       "      <th></th>\n",
       "    </tr>\n",
       "  </thead>\n",
       "  <tbody>\n",
       "    <tr>\n",
       "      <th>Санкт-Петербург</th>\n",
       "      <td>13721</td>\n",
       "      <td>114829.25</td>\n",
       "    </tr>\n",
       "    <tr>\n",
       "      <th>Пушкин</th>\n",
       "      <td>338</td>\n",
       "      <td>103125.82</td>\n",
       "    </tr>\n",
       "    <tr>\n",
       "      <th>Кудрово</th>\n",
       "      <td>470</td>\n",
       "      <td>95324.93</td>\n",
       "    </tr>\n",
       "    <tr>\n",
       "      <th>Парголово</th>\n",
       "      <td>327</td>\n",
       "      <td>90175.91</td>\n",
       "    </tr>\n",
       "    <tr>\n",
       "      <th>Мурино</th>\n",
       "      <td>588</td>\n",
       "      <td>86064.82</td>\n",
       "    </tr>\n",
       "    <tr>\n",
       "      <th>Шушары</th>\n",
       "      <td>440</td>\n",
       "      <td>78677.36</td>\n",
       "    </tr>\n",
       "    <tr>\n",
       "      <th>Колпино</th>\n",
       "      <td>336</td>\n",
       "      <td>75424.58</td>\n",
       "    </tr>\n",
       "    <tr>\n",
       "      <th>Гатчина</th>\n",
       "      <td>304</td>\n",
       "      <td>68757.68</td>\n",
       "    </tr>\n",
       "    <tr>\n",
       "      <th>Всеволожск</th>\n",
       "      <td>397</td>\n",
       "      <td>68654.47</td>\n",
       "    </tr>\n",
       "    <tr>\n",
       "      <th>Выборг</th>\n",
       "      <td>236</td>\n",
       "      <td>58141.91</td>\n",
       "    </tr>\n",
       "  </tbody>\n",
       "</table>\n",
       "</div>"
      ],
      "text/plain": [
       "                 count  price_for_square_meter\n",
       "locality_name                                 \n",
       "Санкт-Петербург  13721               114829.25\n",
       "Пушкин             338               103125.82\n",
       "Кудрово            470                95324.93\n",
       "Парголово          327                90175.91\n",
       "Мурино             588                86064.82\n",
       "Шушары             440                78677.36\n",
       "Колпино            336                75424.58\n",
       "Гатчина            304                68757.68\n",
       "Всеволожск         397                68654.47\n",
       "Выборг             236                58141.91"
      ]
     },
     "execution_count": 82,
     "metadata": {},
     "output_type": "execute_result"
    }
   ],
   "source": [
    "medium_price = data.pivot_table(index='locality_name', values='last_price', aggfunc=['count'])\n",
    "medium_price.columns = ['count']\n",
    "medium_price = medium_price.sort_values(by='count', ascending=False).head(10)\n",
    "medium_price['price_for_square_meter'] = data.pivot_table(index='locality_name', values='price_for_square_meter').round(2)\n",
    "medium_price.sort_values(by='price_for_square_meter', ascending=False)"
   ]
  },
  {
   "cell_type": "markdown",
   "id": "179dfe16",
   "metadata": {},
   "source": [
    "Вывод по разделу: в Санкт-Петербурге самая высокая средняя цена за один квадратный метр, что ожидаемо. В топ-10 также попали спальные районы Петербурга. Наименьшее значение - у Выборга, но этот город всё равно входит в десятку, возможно, за своё соседство с Финляндией."
   ]
  },
  {
   "cell_type": "markdown",
   "id": "282129eb",
   "metadata": {},
   "source": [
    "### Вычисление средней стоимости квартир в Санкт-Петербурге на разном удалении от центра"
   ]
  },
  {
   "cell_type": "markdown",
   "id": "0e4a9cb2",
   "metadata": {},
   "source": [
    "Построим график изменения средней цены для каждого километра от центра Петербурга:"
   ]
  },
  {
   "cell_type": "code",
   "execution_count": 83,
   "id": "54ad87f0",
   "metadata": {
    "scrolled": true
   },
   "outputs": [
    {
     "data": {
      "text/plain": [
       "<AxesSubplot:xlabel='city_centers_nearest_km'>"
      ]
     },
     "execution_count": 83,
     "metadata": {},
     "output_type": "execute_result"
    },
    {
     "data": {
      "image/png": "[encoded data removed]",
      "text/plain": [
       "<Figure size 360x360 with 1 Axes>"
      ]
     },
     "metadata": {
      "needs_background": "light"
     },
     "output_type": "display_data"
    }
   ],
   "source": [
    "data.query('locality_name == \"Санкт-Петербург\"').pivot_table(index='city_centers_nearest_km', values='last_price').plot(grid=True, style='-', xlim=(0,20), figsize=(5, 5))"
   ]
  },
  {
   "cell_type": "markdown",
   "id": "a5c3865f",
   "metadata": {},
   "source": [
    "Вывод по разделу: стоимость квартир тем выше, чем они ближе расположены к центру города, что вполне логично. На удалении в ~8 км от центра стоимость практически неизменна."
   ]
  },
  {
   "cell_type": "markdown",
   "id": "d61204d5",
   "metadata": {},
   "source": [
    "## Итоговый вывод"
   ]
  },
  {
   "cell_type": "markdown",
   "id": "3c61bd76",
   "metadata": {},
   "source": [
    "В результате проведённого исследовательского анализа данных по объявлениям о продаже квартир было выполнено:\n",
    "- Изучена общая информация о данных.\n",
    "- Выполнена предобработка данных (изучены пропущенные данные в столбцах и там, где это возможно, пропуски были заполнены; исправлены типы данных в некоторых столбцах; устранены неявные дубликаты, проанализированы уникальные значения в столбце с названиями населённых пунктов; добавлены новые столбцы).\n",
    "\n",
    "\n",
    "- Проведён исследовательский анализ данных, в результате которого выведены следующие гипотезы о влиянии отдельных параметров на стоимость объектов недвижимости:\n",
    "- самые частые типовые предложения для объектов продажи: это однокомнатная квартира на этаже, отличном от первого и последнего, стоимостью от 3 до 4,5 млн. руб., в пятиэтажном доме, общей площадью ~45 м2, жилой - 18 м2, площадью кухни - 6 м2, с высотой потолка ~2.65 м, примерно в 15 км от центра города и в 450 метрах от ближайшего парка;\n",
    "- среднее время продажи объекта - около трёх месяцев. Быстрее всего объекты продаются в пределах 45 дней, однако бывают и объявления, \"висящие\" 7 и более месяцев;\n",
    "- на стоимость объекта продажи больше всего влияет его общая площадь, жилая площадь и количество комнат. В меньшей степени - этаж (хотя наиболее популярны этажи, отличные от первого и последнего), день (больше всего публикаций во вторник, меньше всего - в субботу) и год публикации (начиная с 2014 года стоимость снижалась. Только после 2018 пошёл рост). Практически не влияют площадь кухни, месяц публикации объявления;\n",
    "- самая высокая средняя цена за квадратный метр - в Санкт-Петербурге, его районах, а также в Выборге, граничащем с Финляндией;\n",
    "- дороже всего стоят квартиры, расположенные в пределах 8 км от центра Санкт-Петербурга. Далее с увеличением расстояния стоимость практически не меняется."
   ]
  },
  {
   "cell_type": "markdown",
   "id": "fd7f16b7",
   "metadata": {},
   "source": [
    "## Чек-лист готовности проекта"
   ]
  },
  {
   "cell_type": "markdown",
   "id": "bbe87136",
   "metadata": {},
   "source": [
    "**Чек-лист готовности проекта**\n",
    "\n",
    "Поставьте 'x' в выполненных пунктах. Далее нажмите Shift+Enter."
   ]
  },
  {
   "cell_type": "markdown",
   "id": "15b893a3",
   "metadata": {},
   "source": [
    "- [x]  Файл с данными открыт.\n",
    "- [x]  Файл с данными изучен: выведены первые строки, использован метод `info()`, построены гистограммы.\n",
    "- [x]  Найдены пропущенные значения.\n",
    "- [x]  Пропущенные значения заполнены там, где это возможно.\n",
    "- [x]  Объяснено, какие пропущенные значения обнаружены.\n",
    "- [x]  В каждом столбце установлен корректный тип данных.\n",
    "- [x]  Объяснено, в каких столбцах изменён тип данных и почему.\n",
    "- [x]  Устранены неявные дубликаты в названиях населённых пунктов.\n",
    "- [x]  Обработаны редкие и выбивающиеся значения (аномалии).\n",
    "- [x]  В таблицу добавлены новые параметры:\n",
    "       – цена одного квадратного метра;\n",
    "       – день публикации объявления (0 - понедельник, 1 - вторник и т. д.);\n",
    "       – месяц публикации объявления;\n",
    "       – год публикации объявления;\n",
    "       – тип этажа квартиры (значения — «первый», «последний», «другой»);\n",
    "       – расстояние до центра города в километрах.\n",
    "- [x]  Изучены и описаны параметры:\n",
    "        - общая площадь;\n",
    "        - жилая площадь;\n",
    "        - площадь кухни;\n",
    "        - цена объекта;\n",
    "        - количество комнат;\n",
    "        - высота потолков;\n",
    "        - тип этажа квартиры («первый», «последний», «другой»);\n",
    "        - общее количество этажей в доме;\n",
    "        - расстояние до центра города в метрах;\n",
    "        - расстояние до ближайшего парка.\n",
    "- [x]  Выполнено задание «Изучите, как быстро продавались квартиры (столбец `days_exposition`)»:\n",
    "    - построена гистограмма;\n",
    "    - рассчитаны среднее и медиана;\n",
    "    - описано, сколько обычно занимает продажа и указано, какие продажи можно считать быстрыми, а какие — необычно долгими.\n",
    "- [x]  Выполнено задание «Определите факторы, которые больше всего влияют на общую (полную) стоимость объекта». Построены графики, которые показывают зависимость цены от параметров:\n",
    "        - общая площадь;\n",
    "        - жилая площадь;\n",
    "        - площадь кухни;\n",
    "        - количество комнат;\n",
    "        - тип этажа, на котором расположена квартира (первый, последний, другой);\n",
    "        - дата размещения (день недели, месяц, год).\n",
    "- [x]  Выполнено задание «Посчитайте среднюю цену одного квадратного метра в 10 населённых пунктах с наибольшим числом объявлений»:\n",
    "    - выделены населённые пункты с самой высокой и низкой стоимостью квадратного метра.\n",
    "- [x]  Выполнено задание «Выделите квартиры в Санкт-Петербурге с помощью столбца `locality_name` и вычислите их среднюю стоимость на разном удалении от центра»:\n",
    "    -  учтён каждый километр расстояния, известны средние цены квартир в одном километре от центра, в двух и так далее;\n",
    "    -  описано, как стоимость объекта зависит от расстояния до центра города;\n",
    "    -  построен график изменения средней цены для каждого километра от центра Петербурга.\n",
    "- [x]  На каждом этапе сделаны промежуточные выводы.\n",
    "- [x]  В конце проекта сделан общий вывод."
   ]
  }
 ],
 "metadata": {
  "ExecuteTimeLog": [
   {
    "duration": 874,
    "start_time": "2024-04-24T17:09:55.842Z"
   },
   {
    "duration": 87,
    "start_time": "2024-04-24T17:09:56.718Z"
   },
   {
    "duration": 190,
    "start_time": "2024-04-24T17:09:56.806Z"
   },
   {
    "duration": 5,
    "start_time": "2024-04-24T17:09:56.998Z"
   },
   {
    "duration": 84,
    "start_time": "2024-04-24T17:09:57.005Z"
   },
   {
    "duration": 505,
    "start_time": "2024-04-24T17:09:57.091Z"
   },
   {
    "duration": 0,
    "start_time": "2024-04-24T17:09:57.600Z"
   },
   {
    "duration": 0,
    "start_time": "2024-04-24T17:09:57.601Z"
   },
   {
    "duration": 0,
    "start_time": "2024-04-24T17:09:57.602Z"
   },
   {
    "duration": 0,
    "start_time": "2024-04-24T17:09:57.603Z"
   },
   {
    "duration": 0,
    "start_time": "2024-04-24T17:09:57.604Z"
   },
   {
    "duration": 0,
    "start_time": "2024-04-24T17:09:57.605Z"
   },
   {
    "duration": 0,
    "start_time": "2024-04-24T17:09:57.606Z"
   },
   {
    "duration": 0,
    "start_time": "2024-04-24T17:09:57.608Z"
   },
   {
    "duration": 0,
    "start_time": "2024-04-24T17:09:57.609Z"
   },
   {
    "duration": 0,
    "start_time": "2024-04-24T17:09:57.610Z"
   },
   {
    "duration": 0,
    "start_time": "2024-04-24T17:09:57.611Z"
   },
   {
    "duration": 0,
    "start_time": "2024-04-24T17:09:57.613Z"
   },
   {
    "duration": 0,
    "start_time": "2024-04-24T17:09:57.614Z"
   },
   {
    "duration": 0,
    "start_time": "2024-04-24T17:09:57.615Z"
   },
   {
    "duration": 0,
    "start_time": "2024-04-24T17:09:57.682Z"
   },
   {
    "duration": 0,
    "start_time": "2024-04-24T17:09:57.684Z"
   },
   {
    "duration": 0,
    "start_time": "2024-04-24T17:09:57.685Z"
   },
   {
    "duration": 0,
    "start_time": "2024-04-24T17:09:57.685Z"
   },
   {
    "duration": 0,
    "start_time": "2024-04-24T17:09:57.687Z"
   },
   {
    "duration": 0,
    "start_time": "2024-04-24T17:09:57.688Z"
   },
   {
    "duration": 0,
    "start_time": "2024-04-24T17:09:57.689Z"
   },
   {
    "duration": 0,
    "start_time": "2024-04-24T17:09:57.690Z"
   },
   {
    "duration": 0,
    "start_time": "2024-04-24T17:09:57.691Z"
   },
   {
    "duration": 0,
    "start_time": "2024-04-24T17:09:57.692Z"
   },
   {
    "duration": 0,
    "start_time": "2024-04-24T17:09:57.693Z"
   },
   {
    "duration": 0,
    "start_time": "2024-04-24T17:09:57.695Z"
   },
   {
    "duration": 0,
    "start_time": "2024-04-24T17:09:57.695Z"
   },
   {
    "duration": 0,
    "start_time": "2024-04-24T17:09:57.697Z"
   },
   {
    "duration": 0,
    "start_time": "2024-04-24T17:09:57.698Z"
   },
   {
    "duration": 0,
    "start_time": "2024-04-24T17:09:57.699Z"
   },
   {
    "duration": 0,
    "start_time": "2024-04-24T17:09:57.700Z"
   },
   {
    "duration": 0,
    "start_time": "2024-04-24T17:09:57.702Z"
   },
   {
    "duration": 0,
    "start_time": "2024-04-24T17:09:57.703Z"
   },
   {
    "duration": 0,
    "start_time": "2024-04-24T17:09:57.705Z"
   },
   {
    "duration": 0,
    "start_time": "2024-04-24T17:09:57.706Z"
   },
   {
    "duration": 0,
    "start_time": "2024-04-24T17:09:57.707Z"
   },
   {
    "duration": 0,
    "start_time": "2024-04-24T17:09:57.782Z"
   },
   {
    "duration": 0,
    "start_time": "2024-04-24T17:09:57.784Z"
   },
   {
    "duration": 0,
    "start_time": "2024-04-24T17:09:57.785Z"
   },
   {
    "duration": 0,
    "start_time": "2024-04-24T17:09:57.786Z"
   },
   {
    "duration": 0,
    "start_time": "2024-04-24T17:09:57.787Z"
   },
   {
    "duration": 0,
    "start_time": "2024-04-24T17:09:57.787Z"
   },
   {
    "duration": 0,
    "start_time": "2024-04-24T17:09:57.789Z"
   },
   {
    "duration": 0,
    "start_time": "2024-04-24T17:09:57.790Z"
   },
   {
    "duration": 0,
    "start_time": "2024-04-24T17:09:57.791Z"
   },
   {
    "duration": 0,
    "start_time": "2024-04-24T17:09:57.791Z"
   },
   {
    "duration": 0,
    "start_time": "2024-04-24T17:09:57.794Z"
   },
   {
    "duration": 0,
    "start_time": "2024-04-24T17:09:57.795Z"
   },
   {
    "duration": 0,
    "start_time": "2024-04-24T17:09:57.796Z"
   },
   {
    "duration": 0,
    "start_time": "2024-04-24T17:09:57.797Z"
   },
   {
    "duration": 0,
    "start_time": "2024-04-24T17:09:57.798Z"
   },
   {
    "duration": 0,
    "start_time": "2024-04-24T17:09:57.799Z"
   },
   {
    "duration": 0,
    "start_time": "2024-04-24T17:09:57.800Z"
   },
   {
    "duration": 0,
    "start_time": "2024-04-24T17:09:57.801Z"
   },
   {
    "duration": 0,
    "start_time": "2024-04-24T17:09:57.802Z"
   },
   {
    "duration": 0,
    "start_time": "2024-04-24T17:09:57.803Z"
   },
   {
    "duration": 0,
    "start_time": "2024-04-24T17:09:57.804Z"
   },
   {
    "duration": 0,
    "start_time": "2024-04-24T17:09:57.805Z"
   },
   {
    "duration": 0,
    "start_time": "2024-04-24T17:09:57.806Z"
   },
   {
    "duration": 0,
    "start_time": "2024-04-24T17:09:57.807Z"
   },
   {
    "duration": 0,
    "start_time": "2024-04-24T17:09:57.882Z"
   },
   {
    "duration": 0,
    "start_time": "2024-04-24T17:09:57.883Z"
   },
   {
    "duration": 0,
    "start_time": "2024-04-24T17:09:57.884Z"
   },
   {
    "duration": 0,
    "start_time": "2024-04-24T17:09:57.886Z"
   },
   {
    "duration": 0,
    "start_time": "2024-04-24T17:09:57.887Z"
   },
   {
    "duration": 0,
    "start_time": "2024-04-24T17:09:57.888Z"
   },
   {
    "duration": 0,
    "start_time": "2024-04-24T17:09:57.889Z"
   },
   {
    "duration": 79,
    "start_time": "2024-04-24T17:25:38.572Z"
   },
   {
    "duration": 456,
    "start_time": "2024-04-24T17:29:17.343Z"
   },
   {
    "duration": 325,
    "start_time": "2024-04-24T17:30:31.675Z"
   },
   {
    "duration": 13,
    "start_time": "2024-04-24T17:30:35.430Z"
   },
   {
    "duration": 571,
    "start_time": "2024-04-24T17:30:52.021Z"
   },
   {
    "duration": 12,
    "start_time": "2024-04-24T17:30:52.594Z"
   },
   {
    "duration": 175,
    "start_time": "2024-04-24T17:30:52.608Z"
   },
   {
    "duration": 0,
    "start_time": "2024-04-24T17:30:52.787Z"
   },
   {
    "duration": 0,
    "start_time": "2024-04-24T17:30:52.788Z"
   },
   {
    "duration": 0,
    "start_time": "2024-04-24T17:30:52.789Z"
   },
   {
    "duration": 0,
    "start_time": "2024-04-24T17:30:52.791Z"
   },
   {
    "duration": 0,
    "start_time": "2024-04-24T17:30:52.792Z"
   },
   {
    "duration": 0,
    "start_time": "2024-04-24T17:30:52.793Z"
   },
   {
    "duration": 0,
    "start_time": "2024-04-24T17:30:52.795Z"
   },
   {
    "duration": 0,
    "start_time": "2024-04-24T17:30:52.796Z"
   },
   {
    "duration": 0,
    "start_time": "2024-04-24T17:30:52.797Z"
   },
   {
    "duration": 0,
    "start_time": "2024-04-24T17:30:52.798Z"
   },
   {
    "duration": 0,
    "start_time": "2024-04-24T17:30:52.799Z"
   },
   {
    "duration": 0,
    "start_time": "2024-04-24T17:30:52.800Z"
   },
   {
    "duration": 0,
    "start_time": "2024-04-24T17:30:52.801Z"
   },
   {
    "duration": 0,
    "start_time": "2024-04-24T17:30:52.802Z"
   },
   {
    "duration": 0,
    "start_time": "2024-04-24T17:30:52.803Z"
   },
   {
    "duration": 0,
    "start_time": "2024-04-24T17:30:52.804Z"
   },
   {
    "duration": 0,
    "start_time": "2024-04-24T17:30:52.805Z"
   },
   {
    "duration": 0,
    "start_time": "2024-04-24T17:30:52.806Z"
   },
   {
    "duration": 0,
    "start_time": "2024-04-24T17:30:52.807Z"
   },
   {
    "duration": 0,
    "start_time": "2024-04-24T17:30:52.808Z"
   },
   {
    "duration": 0,
    "start_time": "2024-04-24T17:30:52.809Z"
   },
   {
    "duration": 0,
    "start_time": "2024-04-24T17:30:52.810Z"
   },
   {
    "duration": 0,
    "start_time": "2024-04-24T17:30:52.811Z"
   },
   {
    "duration": 0,
    "start_time": "2024-04-24T17:30:52.812Z"
   },
   {
    "duration": 0,
    "start_time": "2024-04-24T17:30:52.813Z"
   },
   {
    "duration": 0,
    "start_time": "2024-04-24T17:30:52.814Z"
   },
   {
    "duration": 0,
    "start_time": "2024-04-24T17:30:52.815Z"
   },
   {
    "duration": 0,
    "start_time": "2024-04-24T17:30:52.815Z"
   },
   {
    "duration": 0,
    "start_time": "2024-04-24T17:30:52.816Z"
   },
   {
    "duration": 0,
    "start_time": "2024-04-24T17:30:52.818Z"
   },
   {
    "duration": 0,
    "start_time": "2024-04-24T17:30:52.818Z"
   },
   {
    "duration": 0,
    "start_time": "2024-04-24T17:30:52.819Z"
   },
   {
    "duration": 0,
    "start_time": "2024-04-24T17:30:52.820Z"
   },
   {
    "duration": 0,
    "start_time": "2024-04-24T17:30:52.821Z"
   },
   {
    "duration": 0,
    "start_time": "2024-04-24T17:30:52.822Z"
   },
   {
    "duration": 0,
    "start_time": "2024-04-24T17:30:52.824Z"
   },
   {
    "duration": 0,
    "start_time": "2024-04-24T17:30:52.825Z"
   },
   {
    "duration": 0,
    "start_time": "2024-04-24T17:30:52.826Z"
   },
   {
    "duration": 0,
    "start_time": "2024-04-24T17:30:52.828Z"
   },
   {
    "duration": 0,
    "start_time": "2024-04-24T17:30:52.829Z"
   },
   {
    "duration": 0,
    "start_time": "2024-04-24T17:30:52.830Z"
   },
   {
    "duration": 0,
    "start_time": "2024-04-24T17:30:52.832Z"
   },
   {
    "duration": 0,
    "start_time": "2024-04-24T17:30:52.833Z"
   },
   {
    "duration": 0,
    "start_time": "2024-04-24T17:30:52.894Z"
   },
   {
    "duration": 0,
    "start_time": "2024-04-24T17:30:52.896Z"
   },
   {
    "duration": 0,
    "start_time": "2024-04-24T17:30:52.897Z"
   },
   {
    "duration": 0,
    "start_time": "2024-04-24T17:30:52.899Z"
   },
   {
    "duration": 0,
    "start_time": "2024-04-24T17:30:52.900Z"
   },
   {
    "duration": 0,
    "start_time": "2024-04-24T17:30:52.902Z"
   },
   {
    "duration": 0,
    "start_time": "2024-04-24T17:30:52.903Z"
   },
   {
    "duration": 0,
    "start_time": "2024-04-24T17:30:52.904Z"
   },
   {
    "duration": 0,
    "start_time": "2024-04-24T17:30:52.906Z"
   },
   {
    "duration": 0,
    "start_time": "2024-04-24T17:30:52.908Z"
   },
   {
    "duration": 0,
    "start_time": "2024-04-24T17:30:52.909Z"
   },
   {
    "duration": 0,
    "start_time": "2024-04-24T17:30:52.911Z"
   },
   {
    "duration": 0,
    "start_time": "2024-04-24T17:30:52.912Z"
   },
   {
    "duration": 0,
    "start_time": "2024-04-24T17:30:52.913Z"
   },
   {
    "duration": 0,
    "start_time": "2024-04-24T17:30:52.914Z"
   },
   {
    "duration": 0,
    "start_time": "2024-04-24T17:30:52.916Z"
   },
   {
    "duration": 0,
    "start_time": "2024-04-24T17:30:52.917Z"
   },
   {
    "duration": 0,
    "start_time": "2024-04-24T17:30:52.918Z"
   },
   {
    "duration": 0,
    "start_time": "2024-04-24T17:30:52.919Z"
   },
   {
    "duration": 0,
    "start_time": "2024-04-24T17:30:52.919Z"
   },
   {
    "duration": 0,
    "start_time": "2024-04-24T17:30:52.921Z"
   },
   {
    "duration": 0,
    "start_time": "2024-04-24T17:30:52.922Z"
   },
   {
    "duration": 0,
    "start_time": "2024-04-24T17:30:52.923Z"
   },
   {
    "duration": 0,
    "start_time": "2024-04-24T17:30:52.924Z"
   },
   {
    "duration": 0,
    "start_time": "2024-04-24T17:30:52.925Z"
   },
   {
    "duration": 0,
    "start_time": "2024-04-24T17:30:52.926Z"
   },
   {
    "duration": 0,
    "start_time": "2024-04-24T17:30:52.927Z"
   },
   {
    "duration": 146,
    "start_time": "2024-04-24T17:32:02.874Z"
   },
   {
    "duration": 583,
    "start_time": "2024-04-24T17:32:22.965Z"
   },
   {
    "duration": 14,
    "start_time": "2024-04-24T17:32:23.550Z"
   },
   {
    "duration": 171,
    "start_time": "2024-04-24T17:32:23.566Z"
   },
   {
    "duration": 25,
    "start_time": "2024-04-24T17:32:23.739Z"
   },
   {
    "duration": 47,
    "start_time": "2024-04-24T17:32:23.766Z"
   },
   {
    "duration": 2823,
    "start_time": "2024-04-24T17:32:23.815Z"
   },
   {
    "duration": 10,
    "start_time": "2024-04-24T17:32:26.640Z"
   },
   {
    "duration": 31,
    "start_time": "2024-04-24T17:32:26.651Z"
   },
   {
    "duration": 66,
    "start_time": "2024-04-24T17:32:26.683Z"
   },
   {
    "duration": 35,
    "start_time": "2024-04-24T17:32:26.750Z"
   },
   {
    "duration": 52,
    "start_time": "2024-04-24T17:32:26.787Z"
   },
   {
    "duration": 40,
    "start_time": "2024-04-24T17:32:26.840Z"
   },
   {
    "duration": 24,
    "start_time": "2024-04-24T17:32:26.882Z"
   },
   {
    "duration": 48,
    "start_time": "2024-04-24T17:32:26.910Z"
   },
   {
    "duration": 42,
    "start_time": "2024-04-24T17:32:26.960Z"
   },
   {
    "duration": 43,
    "start_time": "2024-04-24T17:32:27.004Z"
   },
   {
    "duration": 34,
    "start_time": "2024-04-24T17:32:27.048Z"
   },
   {
    "duration": 40,
    "start_time": "2024-04-24T17:32:27.084Z"
   },
   {
    "duration": 50,
    "start_time": "2024-04-24T17:32:27.125Z"
   },
   {
    "duration": 37,
    "start_time": "2024-04-24T17:32:27.177Z"
   },
   {
    "duration": 34,
    "start_time": "2024-04-24T17:32:27.216Z"
   },
   {
    "duration": 35,
    "start_time": "2024-04-24T17:32:27.251Z"
   },
   {
    "duration": 43,
    "start_time": "2024-04-24T17:32:27.288Z"
   },
   {
    "duration": 21,
    "start_time": "2024-04-24T17:32:27.334Z"
   },
   {
    "duration": 35,
    "start_time": "2024-04-24T17:32:27.358Z"
   },
   {
    "duration": 15,
    "start_time": "2024-04-24T17:32:27.395Z"
   },
   {
    "duration": 34,
    "start_time": "2024-04-24T17:32:27.411Z"
   },
   {
    "duration": 291,
    "start_time": "2024-04-24T17:32:27.447Z"
   },
   {
    "duration": 8,
    "start_time": "2024-04-24T17:32:27.740Z"
   },
   {
    "duration": 25,
    "start_time": "2024-04-24T17:32:27.749Z"
   },
   {
    "duration": 34,
    "start_time": "2024-04-24T17:32:27.775Z"
   },
   {
    "duration": 15,
    "start_time": "2024-04-24T17:32:27.811Z"
   },
   {
    "duration": 33,
    "start_time": "2024-04-24T17:32:27.828Z"
   },
   {
    "duration": 314,
    "start_time": "2024-04-24T17:32:27.862Z"
   },
   {
    "duration": 4,
    "start_time": "2024-04-24T17:32:28.178Z"
   },
   {
    "duration": 50,
    "start_time": "2024-04-24T17:32:28.183Z"
   },
   {
    "duration": 325,
    "start_time": "2024-04-24T17:32:28.235Z"
   },
   {
    "duration": 8,
    "start_time": "2024-04-24T17:32:28.562Z"
   },
   {
    "duration": 234,
    "start_time": "2024-04-24T17:32:28.571Z"
   },
   {
    "duration": 251,
    "start_time": "2024-04-24T17:32:28.807Z"
   },
   {
    "duration": 10,
    "start_time": "2024-04-24T17:32:29.063Z"
   },
   {
    "duration": 276,
    "start_time": "2024-04-24T17:32:29.074Z"
   },
   {
    "duration": 9,
    "start_time": "2024-04-24T17:32:29.352Z"
   },
   {
    "duration": 307,
    "start_time": "2024-04-24T17:32:29.363Z"
   },
   {
    "duration": 9,
    "start_time": "2024-04-24T17:32:29.672Z"
   },
   {
    "duration": 278,
    "start_time": "2024-04-24T17:32:29.683Z"
   },
   {
    "duration": 9,
    "start_time": "2024-04-24T17:32:29.963Z"
   },
   {
    "duration": 251,
    "start_time": "2024-04-24T17:32:29.974Z"
   },
   {
    "duration": 83,
    "start_time": "2024-04-24T17:32:30.227Z"
   },
   {
    "duration": 307,
    "start_time": "2024-04-24T17:32:30.311Z"
   },
   {
    "duration": 5,
    "start_time": "2024-04-24T17:32:30.620Z"
   },
   {
    "duration": 301,
    "start_time": "2024-04-24T17:32:30.627Z"
   },
   {
    "duration": 181,
    "start_time": "2024-04-24T17:32:30.930Z"
   },
   {
    "duration": 47,
    "start_time": "2024-04-24T17:32:31.112Z"
   },
   {
    "duration": 309,
    "start_time": "2024-04-24T17:32:31.161Z"
   },
   {
    "duration": 9,
    "start_time": "2024-04-24T17:32:31.472Z"
   },
   {
    "duration": 224,
    "start_time": "2024-04-24T17:32:31.482Z"
   },
   {
    "duration": 10,
    "start_time": "2024-04-24T17:32:31.707Z"
   },
   {
    "duration": 216,
    "start_time": "2024-04-24T17:32:31.719Z"
   },
   {
    "duration": 9,
    "start_time": "2024-04-24T17:32:31.937Z"
   },
   {
    "duration": 261,
    "start_time": "2024-04-24T17:32:31.948Z"
   },
   {
    "duration": 21,
    "start_time": "2024-04-24T17:32:32.211Z"
   },
   {
    "duration": 2836,
    "start_time": "2024-04-24T17:32:32.234Z"
   },
   {
    "duration": 162,
    "start_time": "2024-04-24T17:32:35.071Z"
   },
   {
    "duration": 142,
    "start_time": "2024-04-24T17:32:35.235Z"
   },
   {
    "duration": 166,
    "start_time": "2024-04-24T17:32:35.379Z"
   },
   {
    "duration": 148,
    "start_time": "2024-04-24T17:32:35.547Z"
   },
   {
    "duration": 151,
    "start_time": "2024-04-24T17:32:35.697Z"
   },
   {
    "duration": 155,
    "start_time": "2024-04-24T17:32:35.849Z"
   },
   {
    "duration": 153,
    "start_time": "2024-04-24T17:32:36.006Z"
   },
   {
    "duration": 150,
    "start_time": "2024-04-24T17:32:36.160Z"
   },
   {
    "duration": 37,
    "start_time": "2024-04-24T17:32:36.312Z"
   },
   {
    "duration": 212,
    "start_time": "2024-04-24T17:32:36.350Z"
   },
   {
    "duration": 117,
    "start_time": "2024-04-24T17:32:45.107Z"
   },
   {
    "duration": 6,
    "start_time": "2024-04-24T17:32:47.485Z"
   },
   {
    "duration": 135,
    "start_time": "2024-04-24T17:32:50.515Z"
   },
   {
    "duration": 30,
    "start_time": "2024-04-24T17:32:53.976Z"
   },
   {
    "duration": 481,
    "start_time": "2024-04-24T17:34:42.746Z"
   },
   {
    "duration": 13,
    "start_time": "2024-04-24T17:34:43.230Z"
   },
   {
    "duration": 140,
    "start_time": "2024-04-24T17:34:43.245Z"
   },
   {
    "duration": 26,
    "start_time": "2024-04-24T17:34:43.387Z"
   },
   {
    "duration": 20,
    "start_time": "2024-04-24T17:34:43.415Z"
   },
   {
    "duration": 2597,
    "start_time": "2024-04-24T17:34:43.437Z"
   },
   {
    "duration": 9,
    "start_time": "2024-04-24T17:34:46.036Z"
   },
   {
    "duration": 22,
    "start_time": "2024-04-24T17:34:46.047Z"
   },
   {
    "duration": 13,
    "start_time": "2024-04-24T17:34:46.070Z"
   },
   {
    "duration": 20,
    "start_time": "2024-04-24T17:34:46.085Z"
   },
   {
    "duration": 13,
    "start_time": "2024-04-24T17:34:46.107Z"
   },
   {
    "duration": 13,
    "start_time": "2024-04-24T17:34:46.122Z"
   },
   {
    "duration": 21,
    "start_time": "2024-04-24T17:34:46.136Z"
   },
   {
    "duration": 88,
    "start_time": "2024-04-24T17:34:46.160Z"
   },
   {
    "duration": 47,
    "start_time": "2024-04-24T17:34:46.249Z"
   },
   {
    "duration": 4,
    "start_time": "2024-04-24T17:34:46.298Z"
   },
   {
    "duration": 26,
    "start_time": "2024-04-24T17:34:46.304Z"
   },
   {
    "duration": 13,
    "start_time": "2024-04-24T17:34:46.331Z"
   },
   {
    "duration": 12,
    "start_time": "2024-04-24T17:34:46.346Z"
   },
   {
    "duration": 20,
    "start_time": "2024-04-24T17:34:46.360Z"
   },
   {
    "duration": 16,
    "start_time": "2024-04-24T17:34:46.381Z"
   },
   {
    "duration": 45,
    "start_time": "2024-04-24T17:34:46.398Z"
   },
   {
    "duration": 19,
    "start_time": "2024-04-24T17:34:46.444Z"
   },
   {
    "duration": 32,
    "start_time": "2024-04-24T17:34:46.465Z"
   },
   {
    "duration": 22,
    "start_time": "2024-04-24T17:34:46.499Z"
   },
   {
    "duration": 34,
    "start_time": "2024-04-24T17:34:46.523Z"
   },
   {
    "duration": 64,
    "start_time": "2024-04-24T17:34:46.559Z"
   },
   {
    "duration": 287,
    "start_time": "2024-04-24T17:34:46.625Z"
   },
   {
    "duration": 8,
    "start_time": "2024-04-24T17:34:46.914Z"
   },
   {
    "duration": 78,
    "start_time": "2024-04-24T17:34:46.923Z"
   },
   {
    "duration": 33,
    "start_time": "2024-04-24T17:34:47.003Z"
   },
   {
    "duration": 21,
    "start_time": "2024-04-24T17:34:47.037Z"
   },
   {
    "duration": 29,
    "start_time": "2024-04-24T17:34:47.059Z"
   },
   {
    "duration": 299,
    "start_time": "2024-04-24T17:34:47.090Z"
   },
   {
    "duration": 4,
    "start_time": "2024-04-24T17:34:47.391Z"
   },
   {
    "duration": 29,
    "start_time": "2024-04-24T17:34:47.396Z"
   },
   {
    "duration": 259,
    "start_time": "2024-04-24T17:34:47.426Z"
   },
   {
    "duration": 9,
    "start_time": "2024-04-24T17:34:47.693Z"
   },
   {
    "duration": 304,
    "start_time": "2024-04-24T17:34:47.703Z"
   },
   {
    "duration": 241,
    "start_time": "2024-04-24T17:34:48.009Z"
   },
   {
    "duration": 9,
    "start_time": "2024-04-24T17:34:48.254Z"
   },
   {
    "duration": 247,
    "start_time": "2024-04-24T17:34:48.264Z"
   },
   {
    "duration": 10,
    "start_time": "2024-04-24T17:34:48.513Z"
   },
   {
    "duration": 258,
    "start_time": "2024-04-24T17:34:48.525Z"
   },
   {
    "duration": 13,
    "start_time": "2024-04-24T17:34:48.785Z"
   },
   {
    "duration": 279,
    "start_time": "2024-04-24T17:34:48.799Z"
   },
   {
    "duration": 18,
    "start_time": "2024-04-24T17:34:49.080Z"
   },
   {
    "duration": 139,
    "start_time": "2024-04-24T17:34:49.100Z"
   },
   {
    "duration": 9,
    "start_time": "2024-04-24T17:34:49.241Z"
   },
   {
    "duration": 286,
    "start_time": "2024-04-24T17:34:49.252Z"
   },
   {
    "duration": 4,
    "start_time": "2024-04-24T17:34:49.539Z"
   },
   {
    "duration": 142,
    "start_time": "2024-04-24T17:34:49.545Z"
   },
   {
    "duration": 124,
    "start_time": "2024-04-24T17:34:49.693Z"
   },
   {
    "duration": 9,
    "start_time": "2024-04-24T17:34:49.819Z"
   },
   {
    "duration": 183,
    "start_time": "2024-04-24T17:34:49.830Z"
   },
   {
    "duration": 10,
    "start_time": "2024-04-24T17:34:50.015Z"
   },
   {
    "duration": 189,
    "start_time": "2024-04-24T17:34:50.027Z"
   },
   {
    "duration": 9,
    "start_time": "2024-04-24T17:34:50.218Z"
   },
   {
    "duration": 244,
    "start_time": "2024-04-24T17:34:50.229Z"
   },
   {
    "duration": 22,
    "start_time": "2024-04-24T17:34:50.475Z"
   },
   {
    "duration": 237,
    "start_time": "2024-04-24T17:34:50.498Z"
   },
   {
    "duration": 21,
    "start_time": "2024-04-24T17:34:50.737Z"
   },
   {
    "duration": 2821,
    "start_time": "2024-04-24T17:34:50.760Z"
   },
   {
    "duration": 144,
    "start_time": "2024-04-24T17:34:53.583Z"
   },
   {
    "duration": 155,
    "start_time": "2024-04-24T17:34:53.730Z"
   },
   {
    "duration": 155,
    "start_time": "2024-04-24T17:34:53.887Z"
   },
   {
    "duration": 141,
    "start_time": "2024-04-24T17:34:54.044Z"
   },
   {
    "duration": 184,
    "start_time": "2024-04-24T17:34:54.187Z"
   },
   {
    "duration": 164,
    "start_time": "2024-04-24T17:34:54.372Z"
   },
   {
    "duration": 177,
    "start_time": "2024-04-24T17:34:54.538Z"
   },
   {
    "duration": 154,
    "start_time": "2024-04-24T17:34:54.717Z"
   },
   {
    "duration": 33,
    "start_time": "2024-04-24T17:34:54.872Z"
   },
   {
    "duration": 206,
    "start_time": "2024-04-24T17:34:54.907Z"
   },
   {
    "duration": 584,
    "start_time": "2024-04-24T19:22:17.404Z"
   },
   {
    "duration": 32,
    "start_time": "2024-04-24T19:22:17.990Z"
   },
   {
    "duration": 132,
    "start_time": "2024-04-24T19:22:18.024Z"
   },
   {
    "duration": 6,
    "start_time": "2024-04-24T19:22:18.158Z"
   },
   {
    "duration": 12,
    "start_time": "2024-04-24T19:22:18.166Z"
   },
   {
    "duration": 231,
    "start_time": "2024-04-24T19:22:18.180Z"
   },
   {
    "duration": 0,
    "start_time": "2024-04-24T19:22:18.415Z"
   },
   {
    "duration": 0,
    "start_time": "2024-04-24T19:22:18.416Z"
   },
   {
    "duration": 0,
    "start_time": "2024-04-24T19:22:18.417Z"
   },
   {
    "duration": 0,
    "start_time": "2024-04-24T19:22:18.418Z"
   },
   {
    "duration": 0,
    "start_time": "2024-04-24T19:22:18.419Z"
   },
   {
    "duration": 0,
    "start_time": "2024-04-24T19:22:18.420Z"
   },
   {
    "duration": 0,
    "start_time": "2024-04-24T19:22:18.421Z"
   },
   {
    "duration": 0,
    "start_time": "2024-04-24T19:22:18.422Z"
   },
   {
    "duration": 0,
    "start_time": "2024-04-24T19:22:18.424Z"
   },
   {
    "duration": 0,
    "start_time": "2024-04-24T19:22:18.425Z"
   },
   {
    "duration": 0,
    "start_time": "2024-04-24T19:22:18.426Z"
   },
   {
    "duration": 0,
    "start_time": "2024-04-24T19:22:18.427Z"
   },
   {
    "duration": 0,
    "start_time": "2024-04-24T19:22:18.428Z"
   },
   {
    "duration": 0,
    "start_time": "2024-04-24T19:22:18.428Z"
   },
   {
    "duration": 0,
    "start_time": "2024-04-24T19:22:18.430Z"
   },
   {
    "duration": 0,
    "start_time": "2024-04-24T19:22:18.430Z"
   },
   {
    "duration": 0,
    "start_time": "2024-04-24T19:22:18.431Z"
   },
   {
    "duration": 0,
    "start_time": "2024-04-24T19:22:18.432Z"
   },
   {
    "duration": 0,
    "start_time": "2024-04-24T19:22:18.434Z"
   },
   {
    "duration": 0,
    "start_time": "2024-04-24T19:22:18.435Z"
   },
   {
    "duration": 0,
    "start_time": "2024-04-24T19:22:18.436Z"
   },
   {
    "duration": 0,
    "start_time": "2024-04-24T19:22:18.437Z"
   },
   {
    "duration": 0,
    "start_time": "2024-04-24T19:22:18.438Z"
   },
   {
    "duration": 0,
    "start_time": "2024-04-24T19:22:18.482Z"
   },
   {
    "duration": 0,
    "start_time": "2024-04-24T19:22:18.483Z"
   },
   {
    "duration": 0,
    "start_time": "2024-04-24T19:22:18.484Z"
   },
   {
    "duration": 0,
    "start_time": "2024-04-24T19:22:18.485Z"
   },
   {
    "duration": 0,
    "start_time": "2024-04-24T19:22:18.486Z"
   },
   {
    "duration": 0,
    "start_time": "2024-04-24T19:22:18.487Z"
   },
   {
    "duration": 0,
    "start_time": "2024-04-24T19:22:18.488Z"
   },
   {
    "duration": 0,
    "start_time": "2024-04-24T19:22:18.489Z"
   },
   {
    "duration": 0,
    "start_time": "2024-04-24T19:22:18.490Z"
   },
   {
    "duration": 1,
    "start_time": "2024-04-24T19:22:18.491Z"
   },
   {
    "duration": 0,
    "start_time": "2024-04-24T19:22:18.493Z"
   },
   {
    "duration": 0,
    "start_time": "2024-04-24T19:22:18.494Z"
   },
   {
    "duration": 0,
    "start_time": "2024-04-24T19:22:18.495Z"
   },
   {
    "duration": 0,
    "start_time": "2024-04-24T19:22:18.496Z"
   },
   {
    "duration": 0,
    "start_time": "2024-04-24T19:22:18.497Z"
   },
   {
    "duration": 0,
    "start_time": "2024-04-24T19:22:18.498Z"
   },
   {
    "duration": 0,
    "start_time": "2024-04-24T19:22:18.499Z"
   },
   {
    "duration": 0,
    "start_time": "2024-04-24T19:22:18.500Z"
   },
   {
    "duration": 0,
    "start_time": "2024-04-24T19:22:18.501Z"
   },
   {
    "duration": 0,
    "start_time": "2024-04-24T19:22:18.503Z"
   },
   {
    "duration": 0,
    "start_time": "2024-04-24T19:22:18.504Z"
   },
   {
    "duration": 0,
    "start_time": "2024-04-24T19:22:18.507Z"
   },
   {
    "duration": 0,
    "start_time": "2024-04-24T19:22:18.508Z"
   },
   {
    "duration": 0,
    "start_time": "2024-04-24T19:22:18.509Z"
   },
   {
    "duration": 0,
    "start_time": "2024-04-24T19:22:18.510Z"
   },
   {
    "duration": 0,
    "start_time": "2024-04-24T19:22:18.511Z"
   },
   {
    "duration": 1,
    "start_time": "2024-04-24T19:22:18.512Z"
   },
   {
    "duration": 0,
    "start_time": "2024-04-24T19:22:18.513Z"
   },
   {
    "duration": 0,
    "start_time": "2024-04-24T19:22:18.514Z"
   },
   {
    "duration": 0,
    "start_time": "2024-04-24T19:22:18.516Z"
   },
   {
    "duration": 0,
    "start_time": "2024-04-24T19:22:18.516Z"
   },
   {
    "duration": 0,
    "start_time": "2024-04-24T19:22:18.517Z"
   },
   {
    "duration": 0,
    "start_time": "2024-04-24T19:22:18.518Z"
   },
   {
    "duration": 0,
    "start_time": "2024-04-24T19:22:18.519Z"
   },
   {
    "duration": 0,
    "start_time": "2024-04-24T19:22:18.583Z"
   },
   {
    "duration": 0,
    "start_time": "2024-04-24T19:22:18.584Z"
   },
   {
    "duration": 0,
    "start_time": "2024-04-24T19:22:18.585Z"
   },
   {
    "duration": 0,
    "start_time": "2024-04-24T19:22:18.586Z"
   },
   {
    "duration": 0,
    "start_time": "2024-04-24T19:22:18.587Z"
   },
   {
    "duration": 0,
    "start_time": "2024-04-24T19:22:18.589Z"
   },
   {
    "duration": 0,
    "start_time": "2024-04-24T19:22:18.590Z"
   },
   {
    "duration": 0,
    "start_time": "2024-04-24T19:22:18.592Z"
   },
   {
    "duration": 0,
    "start_time": "2024-04-24T19:22:18.593Z"
   },
   {
    "duration": 0,
    "start_time": "2024-04-24T19:22:18.594Z"
   },
   {
    "duration": 598,
    "start_time": "2024-04-24T19:24:27.666Z"
   },
   {
    "duration": 32,
    "start_time": "2024-04-24T19:24:28.266Z"
   },
   {
    "duration": 95,
    "start_time": "2024-04-24T19:24:28.300Z"
   },
   {
    "duration": 25,
    "start_time": "2024-04-24T19:24:28.397Z"
   },
   {
    "duration": 19,
    "start_time": "2024-04-24T19:24:28.423Z"
   },
   {
    "duration": 2774,
    "start_time": "2024-04-24T19:24:28.444Z"
   },
   {
    "duration": 9,
    "start_time": "2024-04-24T19:24:31.220Z"
   },
   {
    "duration": 37,
    "start_time": "2024-04-24T19:24:31.231Z"
   },
   {
    "duration": 27,
    "start_time": "2024-04-24T19:24:31.270Z"
   },
   {
    "duration": 28,
    "start_time": "2024-04-24T19:24:31.300Z"
   },
   {
    "duration": 24,
    "start_time": "2024-04-24T19:24:31.329Z"
   },
   {
    "duration": 16,
    "start_time": "2024-04-24T19:24:31.355Z"
   },
   {
    "duration": 22,
    "start_time": "2024-04-24T19:24:31.373Z"
   },
   {
    "duration": 31,
    "start_time": "2024-04-24T19:24:31.397Z"
   },
   {
    "duration": 22,
    "start_time": "2024-04-24T19:24:31.429Z"
   },
   {
    "duration": 15,
    "start_time": "2024-04-24T19:24:31.452Z"
   },
   {
    "duration": 10,
    "start_time": "2024-04-24T19:24:31.469Z"
   },
   {
    "duration": 9,
    "start_time": "2024-04-24T19:24:31.480Z"
   },
   {
    "duration": 17,
    "start_time": "2024-04-24T19:24:31.490Z"
   },
   {
    "duration": 26,
    "start_time": "2024-04-24T19:24:31.508Z"
   },
   {
    "duration": 7,
    "start_time": "2024-04-24T19:24:31.536Z"
   },
   {
    "duration": 12,
    "start_time": "2024-04-24T19:24:31.544Z"
   },
   {
    "duration": 7,
    "start_time": "2024-04-24T19:24:31.557Z"
   },
   {
    "duration": 6,
    "start_time": "2024-04-24T19:24:31.566Z"
   },
   {
    "duration": 18,
    "start_time": "2024-04-24T19:24:31.573Z"
   },
   {
    "duration": 6,
    "start_time": "2024-04-24T19:24:31.593Z"
   },
   {
    "duration": 8,
    "start_time": "2024-04-24T19:24:31.600Z"
   },
   {
    "duration": 275,
    "start_time": "2024-04-24T19:24:31.612Z"
   },
   {
    "duration": 9,
    "start_time": "2024-04-24T19:24:31.888Z"
   },
   {
    "duration": 6,
    "start_time": "2024-04-24T19:24:31.899Z"
   },
   {
    "duration": 8,
    "start_time": "2024-04-24T19:24:31.906Z"
   },
   {
    "duration": 6,
    "start_time": "2024-04-24T19:24:31.916Z"
   },
   {
    "duration": 8,
    "start_time": "2024-04-24T19:24:31.923Z"
   },
   {
    "duration": 350,
    "start_time": "2024-04-24T19:24:31.933Z"
   },
   {
    "duration": 4,
    "start_time": "2024-04-24T19:24:32.285Z"
   },
   {
    "duration": 26,
    "start_time": "2024-04-24T19:24:32.291Z"
   },
   {
    "duration": 296,
    "start_time": "2024-04-24T19:24:32.319Z"
   },
   {
    "duration": 8,
    "start_time": "2024-04-24T19:24:32.616Z"
   },
   {
    "duration": 311,
    "start_time": "2024-04-24T19:24:32.626Z"
   },
   {
    "duration": 267,
    "start_time": "2024-04-24T19:24:32.938Z"
   },
   {
    "duration": 9,
    "start_time": "2024-04-24T19:24:33.207Z"
   },
   {
    "duration": 254,
    "start_time": "2024-04-24T19:24:33.217Z"
   },
   {
    "duration": 10,
    "start_time": "2024-04-24T19:24:33.473Z"
   },
   {
    "duration": 263,
    "start_time": "2024-04-24T19:24:33.485Z"
   },
   {
    "duration": 11,
    "start_time": "2024-04-24T19:24:33.750Z"
   },
   {
    "duration": 281,
    "start_time": "2024-04-24T19:24:33.763Z"
   },
   {
    "duration": 9,
    "start_time": "2024-04-24T19:24:34.045Z"
   },
   {
    "duration": 156,
    "start_time": "2024-04-24T19:24:34.055Z"
   },
   {
    "duration": 10,
    "start_time": "2024-04-24T19:24:34.212Z"
   },
   {
    "duration": 276,
    "start_time": "2024-04-24T19:24:34.223Z"
   },
   {
    "duration": 5,
    "start_time": "2024-04-24T19:24:34.500Z"
   },
   {
    "duration": 149,
    "start_time": "2024-04-24T19:24:34.507Z"
   },
   {
    "duration": 129,
    "start_time": "2024-04-24T19:24:34.658Z"
   },
   {
    "duration": 8,
    "start_time": "2024-04-24T19:24:34.788Z"
   },
   {
    "duration": 193,
    "start_time": "2024-04-24T19:24:34.798Z"
   },
   {
    "duration": 9,
    "start_time": "2024-04-24T19:24:34.993Z"
   },
   {
    "duration": 201,
    "start_time": "2024-04-24T19:24:35.003Z"
   },
   {
    "duration": 11,
    "start_time": "2024-04-24T19:24:35.205Z"
   },
   {
    "duration": 196,
    "start_time": "2024-04-24T19:24:35.218Z"
   },
   {
    "duration": 10,
    "start_time": "2024-04-24T19:24:35.416Z"
   },
   {
    "duration": 274,
    "start_time": "2024-04-24T19:24:35.427Z"
   },
   {
    "duration": 22,
    "start_time": "2024-04-24T19:24:35.703Z"
   },
   {
    "duration": 2929,
    "start_time": "2024-04-24T19:24:35.727Z"
   },
   {
    "duration": 160,
    "start_time": "2024-04-24T19:24:38.658Z"
   },
   {
    "duration": 157,
    "start_time": "2024-04-24T19:24:38.820Z"
   },
   {
    "duration": 169,
    "start_time": "2024-04-24T19:24:38.979Z"
   },
   {
    "duration": 151,
    "start_time": "2024-04-24T19:24:39.150Z"
   },
   {
    "duration": 158,
    "start_time": "2024-04-24T19:24:39.303Z"
   },
   {
    "duration": 169,
    "start_time": "2024-04-24T19:24:39.463Z"
   },
   {
    "duration": 172,
    "start_time": "2024-04-24T19:24:39.635Z"
   },
   {
    "duration": 180,
    "start_time": "2024-04-24T19:24:39.810Z"
   },
   {
    "duration": 27,
    "start_time": "2024-04-24T19:24:39.992Z"
   },
   {
    "duration": 221,
    "start_time": "2024-04-24T19:24:40.020Z"
   },
   {
    "duration": 10,
    "start_time": "2024-04-24T19:31:15.861Z"
   },
   {
    "duration": 8,
    "start_time": "2024-04-24T19:31:26.871Z"
   },
   {
    "duration": 96,
    "start_time": "2024-04-24T19:32:22.463Z"
   },
   {
    "duration": 49,
    "start_time": "2024-04-25T13:35:27.835Z"
   },
   {
    "duration": 389,
    "start_time": "2024-04-25T13:35:34.897Z"
   },
   {
    "duration": 316,
    "start_time": "2024-04-25T13:35:35.728Z"
   },
   {
    "duration": 12,
    "start_time": "2024-04-25T13:35:38.809Z"
   },
   {
    "duration": 127,
    "start_time": "2024-04-25T13:35:58.906Z"
   },
   {
    "duration": 27,
    "start_time": "2024-04-25T13:36:21.794Z"
   },
   {
    "duration": 2,
    "start_time": "2024-04-25T13:36:49.173Z"
   },
   {
    "duration": 21,
    "start_time": "2024-04-25T13:36:50.544Z"
   },
   {
    "duration": 65,
    "start_time": "2024-04-25T13:37:18.610Z"
   },
   {
    "duration": 92,
    "start_time": "2024-04-25T13:37:35.870Z"
   },
   {
    "duration": 22,
    "start_time": "2024-04-25T13:37:46.051Z"
   },
   {
    "duration": 15,
    "start_time": "2024-04-25T13:38:10.057Z"
   },
   {
    "duration": 2870,
    "start_time": "2024-04-25T13:38:38.495Z"
   },
   {
    "duration": 64,
    "start_time": "2024-04-25T13:39:43.675Z"
   },
   {
    "duration": 6,
    "start_time": "2024-04-25T15:46:33.065Z"
   },
   {
    "duration": 5,
    "start_time": "2024-04-25T15:49:04.661Z"
   },
   {
    "duration": 9,
    "start_time": "2024-04-25T15:49:05.874Z"
   },
   {
    "duration": 232,
    "start_time": "2024-04-25T15:49:08.793Z"
   },
   {
    "duration": 4,
    "start_time": "2024-04-25T15:49:35.457Z"
   },
   {
    "duration": 11,
    "start_time": "2024-04-25T15:49:36.277Z"
   },
   {
    "duration": 231,
    "start_time": "2024-04-25T15:49:41.874Z"
   },
   {
    "duration": 332,
    "start_time": "2024-04-25T15:49:52.355Z"
   },
   {
    "duration": 9,
    "start_time": "2024-04-25T15:50:28.220Z"
   },
   {
    "duration": 219,
    "start_time": "2024-04-25T15:50:28.971Z"
   },
   {
    "duration": 232,
    "start_time": "2024-04-25T15:50:35.780Z"
   },
   {
    "duration": 8,
    "start_time": "2024-04-25T15:51:59.339Z"
   },
   {
    "duration": 235,
    "start_time": "2024-04-25T15:52:19.863Z"
   },
   {
    "duration": 457,
    "start_time": "2024-04-25T15:52:43.947Z"
   },
   {
    "duration": 121,
    "start_time": "2024-04-25T15:52:44.406Z"
   },
   {
    "duration": 2,
    "start_time": "2024-04-25T15:52:44.529Z"
   },
   {
    "duration": 14,
    "start_time": "2024-04-25T15:52:44.533Z"
   },
   {
    "duration": 82,
    "start_time": "2024-04-25T15:52:44.548Z"
   },
   {
    "duration": 21,
    "start_time": "2024-04-25T15:52:44.632Z"
   },
   {
    "duration": 23,
    "start_time": "2024-04-25T15:52:44.655Z"
   },
   {
    "duration": 2710,
    "start_time": "2024-04-25T15:52:44.679Z"
   },
   {
    "duration": 10,
    "start_time": "2024-04-25T15:52:47.390Z"
   },
   {
    "duration": 16,
    "start_time": "2024-04-25T15:52:47.403Z"
   },
   {
    "duration": 9,
    "start_time": "2024-04-25T15:52:47.421Z"
   },
   {
    "duration": 19,
    "start_time": "2024-04-25T15:52:47.432Z"
   },
   {
    "duration": 8,
    "start_time": "2024-04-25T15:52:47.453Z"
   },
   {
    "duration": 12,
    "start_time": "2024-04-25T15:52:47.463Z"
   },
   {
    "duration": 8,
    "start_time": "2024-04-25T15:52:47.477Z"
   },
   {
    "duration": 5,
    "start_time": "2024-04-25T15:52:47.487Z"
   },
   {
    "duration": 12,
    "start_time": "2024-04-25T15:52:47.494Z"
   },
   {
    "duration": 4,
    "start_time": "2024-04-25T15:52:47.507Z"
   },
   {
    "duration": 8,
    "start_time": "2024-04-25T15:52:47.513Z"
   },
   {
    "duration": 8,
    "start_time": "2024-04-25T15:52:47.523Z"
   },
   {
    "duration": 11,
    "start_time": "2024-04-25T15:52:47.533Z"
   },
   {
    "duration": 7,
    "start_time": "2024-04-25T15:52:47.545Z"
   },
   {
    "duration": 6,
    "start_time": "2024-04-25T15:52:47.570Z"
   },
   {
    "duration": 9,
    "start_time": "2024-04-25T15:52:47.577Z"
   },
   {
    "duration": 10,
    "start_time": "2024-04-25T15:52:47.587Z"
   },
   {
    "duration": 35,
    "start_time": "2024-04-25T15:52:47.599Z"
   },
   {
    "duration": 15,
    "start_time": "2024-04-25T15:52:47.636Z"
   },
   {
    "duration": 31,
    "start_time": "2024-04-25T15:52:47.656Z"
   },
   {
    "duration": 11,
    "start_time": "2024-04-25T15:52:47.688Z"
   },
   {
    "duration": 284,
    "start_time": "2024-04-25T15:52:47.700Z"
   },
   {
    "duration": 10,
    "start_time": "2024-04-25T15:52:47.986Z"
   },
   {
    "duration": 5,
    "start_time": "2024-04-25T15:52:47.998Z"
   },
   {
    "duration": 15,
    "start_time": "2024-04-25T15:52:48.005Z"
   },
   {
    "duration": 43,
    "start_time": "2024-04-25T15:52:48.021Z"
   },
   {
    "duration": 20,
    "start_time": "2024-04-25T15:52:48.066Z"
   },
   {
    "duration": 304,
    "start_time": "2024-04-25T15:52:48.088Z"
   },
   {
    "duration": 4,
    "start_time": "2024-04-25T15:52:48.394Z"
   },
   {
    "duration": 27,
    "start_time": "2024-04-25T15:52:48.399Z"
   },
   {
    "duration": 258,
    "start_time": "2024-04-25T15:52:48.428Z"
   },
   {
    "duration": 8,
    "start_time": "2024-04-25T15:52:48.688Z"
   },
   {
    "duration": 341,
    "start_time": "2024-04-25T15:52:48.698Z"
   },
   {
    "duration": 253,
    "start_time": "2024-04-25T15:52:49.041Z"
   },
   {
    "duration": 9,
    "start_time": "2024-04-25T15:52:49.296Z"
   },
   {
    "duration": 258,
    "start_time": "2024-04-25T15:52:49.307Z"
   },
   {
    "duration": 8,
    "start_time": "2024-04-25T15:52:49.569Z"
   },
   {
    "duration": 249,
    "start_time": "2024-04-25T15:52:49.579Z"
   },
   {
    "duration": 9,
    "start_time": "2024-04-25T15:52:49.829Z"
   },
   {
    "duration": 278,
    "start_time": "2024-04-25T15:52:49.839Z"
   },
   {
    "duration": 8,
    "start_time": "2024-04-25T15:52:50.119Z"
   },
   {
    "duration": 181,
    "start_time": "2024-04-25T15:52:50.129Z"
   },
   {
    "duration": 8,
    "start_time": "2024-04-25T15:52:50.312Z"
   },
   {
    "duration": 285,
    "start_time": "2024-04-25T15:52:50.321Z"
   },
   {
    "duration": 5,
    "start_time": "2024-04-25T15:52:50.607Z"
   },
   {
    "duration": 146,
    "start_time": "2024-04-25T15:52:50.614Z"
   },
   {
    "duration": 131,
    "start_time": "2024-04-25T15:52:50.761Z"
   },
   {
    "duration": 9,
    "start_time": "2024-04-25T15:52:50.893Z"
   },
   {
    "duration": 195,
    "start_time": "2024-04-25T15:52:50.903Z"
   },
   {
    "duration": 9,
    "start_time": "2024-04-25T15:52:51.099Z"
   },
   {
    "duration": 175,
    "start_time": "2024-04-25T15:52:51.110Z"
   },
   {
    "duration": 9,
    "start_time": "2024-04-25T15:52:51.287Z"
   },
   {
    "duration": 191,
    "start_time": "2024-04-25T15:52:51.298Z"
   },
   {
    "duration": 9,
    "start_time": "2024-04-25T15:52:51.491Z"
   },
   {
    "duration": 260,
    "start_time": "2024-04-25T15:52:51.501Z"
   },
   {
    "duration": 28,
    "start_time": "2024-04-25T15:52:51.762Z"
   },
   {
    "duration": 2824,
    "start_time": "2024-04-25T15:52:51.792Z"
   },
   {
    "duration": 148,
    "start_time": "2024-04-25T15:52:54.618Z"
   },
   {
    "duration": 149,
    "start_time": "2024-04-25T15:52:54.767Z"
   },
   {
    "duration": 165,
    "start_time": "2024-04-25T15:52:54.918Z"
   },
   {
    "duration": 156,
    "start_time": "2024-04-25T15:52:55.085Z"
   },
   {
    "duration": 157,
    "start_time": "2024-04-25T15:52:55.243Z"
   },
   {
    "duration": 163,
    "start_time": "2024-04-25T15:52:55.402Z"
   },
   {
    "duration": 176,
    "start_time": "2024-04-25T15:52:55.566Z"
   },
   {
    "duration": 150,
    "start_time": "2024-04-25T15:52:55.743Z"
   },
   {
    "duration": 25,
    "start_time": "2024-04-25T15:52:55.895Z"
   },
   {
    "duration": 208,
    "start_time": "2024-04-25T15:52:55.922Z"
   },
   {
    "duration": 6,
    "start_time": "2024-04-25T18:00:49.434Z"
   },
   {
    "duration": 390,
    "start_time": "2024-04-25T18:01:02.337Z"
   },
   {
    "duration": 2700,
    "start_time": "2024-04-25T18:08:07.040Z"
   },
   {
    "duration": 42,
    "start_time": "2024-04-26T05:03:04.747Z"
   },
   {
    "duration": 353,
    "start_time": "2024-04-26T05:03:13.103Z"
   },
   {
    "duration": 305,
    "start_time": "2024-04-26T05:03:13.458Z"
   },
   {
    "duration": 2,
    "start_time": "2024-04-26T05:03:13.764Z"
   },
   {
    "duration": 12,
    "start_time": "2024-04-26T05:03:13.767Z"
   },
   {
    "duration": 61,
    "start_time": "2024-04-26T05:03:13.780Z"
   },
   {
    "duration": 18,
    "start_time": "2024-04-26T05:03:13.842Z"
   },
   {
    "duration": 18,
    "start_time": "2024-04-26T05:03:13.861Z"
   },
   {
    "duration": 2221,
    "start_time": "2024-04-26T05:03:13.880Z"
   },
   {
    "duration": 10,
    "start_time": "2024-04-26T05:03:16.103Z"
   },
   {
    "duration": 11,
    "start_time": "2024-04-26T05:03:16.115Z"
   },
   {
    "duration": 6,
    "start_time": "2024-04-26T05:03:16.127Z"
   },
   {
    "duration": 4,
    "start_time": "2024-04-26T05:03:16.134Z"
   },
   {
    "duration": 4,
    "start_time": "2024-04-26T05:03:16.140Z"
   },
   {
    "duration": 3,
    "start_time": "2024-04-26T05:03:16.145Z"
   },
   {
    "duration": 4,
    "start_time": "2024-04-26T05:03:16.150Z"
   },
   {
    "duration": 3,
    "start_time": "2024-04-26T05:03:16.156Z"
   },
   {
    "duration": 4,
    "start_time": "2024-04-26T05:03:16.160Z"
   },
   {
    "duration": 27,
    "start_time": "2024-04-26T05:03:16.165Z"
   },
   {
    "duration": 3,
    "start_time": "2024-04-26T05:03:16.194Z"
   },
   {
    "duration": 5,
    "start_time": "2024-04-26T05:03:16.198Z"
   },
   {
    "duration": 10,
    "start_time": "2024-04-26T05:03:16.204Z"
   },
   {
    "duration": 13,
    "start_time": "2024-04-26T05:03:16.215Z"
   },
   {
    "duration": 7,
    "start_time": "2024-04-26T05:03:16.229Z"
   },
   {
    "duration": 5,
    "start_time": "2024-04-26T05:03:16.237Z"
   },
   {
    "duration": 5,
    "start_time": "2024-04-26T05:03:16.243Z"
   },
   {
    "duration": 10,
    "start_time": "2024-04-26T05:03:16.249Z"
   },
   {
    "duration": 4,
    "start_time": "2024-04-26T05:03:16.260Z"
   },
   {
    "duration": 19,
    "start_time": "2024-04-26T05:03:16.267Z"
   },
   {
    "duration": 6,
    "start_time": "2024-04-26T05:03:16.288Z"
   },
   {
    "duration": 16,
    "start_time": "2024-04-26T05:03:16.295Z"
   },
   {
    "duration": 230,
    "start_time": "2024-04-26T05:03:16.312Z"
   },
   {
    "duration": 9,
    "start_time": "2024-04-26T05:03:16.544Z"
   },
   {
    "duration": 4,
    "start_time": "2024-04-26T05:03:16.554Z"
   },
   {
    "duration": 5,
    "start_time": "2024-04-26T05:03:16.559Z"
   },
   {
    "duration": 19,
    "start_time": "2024-04-26T05:03:16.565Z"
   },
   {
    "duration": 4,
    "start_time": "2024-04-26T05:03:16.585Z"
   },
   {
    "duration": 260,
    "start_time": "2024-04-26T05:03:16.590Z"
   },
   {
    "duration": 3,
    "start_time": "2024-04-26T05:03:16.852Z"
   },
   {
    "duration": 20,
    "start_time": "2024-04-26T05:03:16.856Z"
   },
   {
    "duration": 236,
    "start_time": "2024-04-26T05:03:16.884Z"
   },
   {
    "duration": 7,
    "start_time": "2024-04-26T05:03:17.121Z"
   },
   {
    "duration": 183,
    "start_time": "2024-04-26T05:03:17.129Z"
   },
   {
    "duration": 192,
    "start_time": "2024-04-26T05:03:17.314Z"
   },
   {
    "duration": 8,
    "start_time": "2024-04-26T05:03:17.508Z"
   },
   {
    "duration": 192,
    "start_time": "2024-04-26T05:03:17.517Z"
   },
   {
    "duration": 8,
    "start_time": "2024-04-26T05:03:17.710Z"
   },
   {
    "duration": 195,
    "start_time": "2024-04-26T05:03:17.719Z"
   },
   {
    "duration": 8,
    "start_time": "2024-04-26T05:03:17.915Z"
   },
   {
    "duration": 204,
    "start_time": "2024-04-26T05:03:17.924Z"
   },
   {
    "duration": 3,
    "start_time": "2024-04-26T05:03:18.129Z"
   },
   {
    "duration": 431,
    "start_time": "2024-04-26T05:03:18.185Z"
   },
   {
    "duration": 6,
    "start_time": "2024-04-26T05:03:18.617Z"
   },
   {
    "duration": 262,
    "start_time": "2024-04-26T05:03:18.624Z"
   },
   {
    "duration": 6,
    "start_time": "2024-04-26T05:03:18.887Z"
   },
   {
    "duration": 232,
    "start_time": "2024-04-26T05:03:18.894Z"
   },
   {
    "duration": 56,
    "start_time": "2024-04-26T05:03:19.128Z"
   },
   {
    "duration": 153,
    "start_time": "2024-04-26T05:03:19.186Z"
   },
   {
    "duration": 129,
    "start_time": "2024-04-26T05:03:19.340Z"
   },
   {
    "duration": 14,
    "start_time": "2024-04-26T05:03:19.471Z"
   },
   {
    "duration": 141,
    "start_time": "2024-04-26T05:03:19.486Z"
   },
   {
    "duration": 8,
    "start_time": "2024-04-26T05:03:19.628Z"
   },
   {
    "duration": 140,
    "start_time": "2024-04-26T05:03:19.637Z"
   },
   {
    "duration": 10,
    "start_time": "2024-04-26T05:03:19.779Z"
   },
   {
    "duration": 132,
    "start_time": "2024-04-26T05:03:19.790Z"
   },
   {
    "duration": 7,
    "start_time": "2024-04-26T05:03:19.923Z"
   },
   {
    "duration": 186,
    "start_time": "2024-04-26T05:03:19.931Z"
   },
   {
    "duration": 19,
    "start_time": "2024-04-26T05:03:20.119Z"
   },
   {
    "duration": 2174,
    "start_time": "2024-04-26T05:03:20.140Z"
   },
   {
    "duration": 112,
    "start_time": "2024-04-26T05:03:22.315Z"
   },
   {
    "duration": 111,
    "start_time": "2024-04-26T05:03:22.428Z"
   },
   {
    "duration": 117,
    "start_time": "2024-04-26T05:03:22.541Z"
   },
   {
    "duration": 124,
    "start_time": "2024-04-26T05:03:22.660Z"
   },
   {
    "duration": 219,
    "start_time": "2024-04-26T05:03:22.785Z"
   },
   {
    "duration": 138,
    "start_time": "2024-04-26T05:03:23.005Z"
   },
   {
    "duration": 123,
    "start_time": "2024-04-26T05:03:23.145Z"
   },
   {
    "duration": 126,
    "start_time": "2024-04-26T05:03:23.269Z"
   },
   {
    "duration": 22,
    "start_time": "2024-04-26T05:03:23.396Z"
   },
   {
    "duration": 169,
    "start_time": "2024-04-26T05:03:23.419Z"
   },
   {
    "duration": 3,
    "start_time": "2024-04-26T05:21:49.095Z"
   },
   {
    "duration": 2,
    "start_time": "2024-04-26T05:24:45.654Z"
   },
   {
    "duration": 386,
    "start_time": "2024-04-26T05:26:21.463Z"
   },
   {
    "duration": 108,
    "start_time": "2024-04-26T05:26:21.851Z"
   },
   {
    "duration": 2,
    "start_time": "2024-04-26T05:26:21.962Z"
   },
   {
    "duration": 21,
    "start_time": "2024-04-26T05:26:21.965Z"
   },
   {
    "duration": 66,
    "start_time": "2024-04-26T05:26:21.987Z"
   },
   {
    "duration": 17,
    "start_time": "2024-04-26T05:26:22.054Z"
   },
   {
    "duration": 17,
    "start_time": "2024-04-26T05:26:22.072Z"
   },
   {
    "duration": 2170,
    "start_time": "2024-04-26T05:26:22.091Z"
   },
   {
    "duration": 8,
    "start_time": "2024-04-26T05:26:24.263Z"
   },
   {
    "duration": 3,
    "start_time": "2024-04-26T05:26:24.272Z"
   },
   {
    "duration": 3,
    "start_time": "2024-04-26T05:26:24.276Z"
   },
   {
    "duration": 14,
    "start_time": "2024-04-26T05:26:24.280Z"
   },
   {
    "duration": 4,
    "start_time": "2024-04-26T05:26:24.294Z"
   },
   {
    "duration": 13,
    "start_time": "2024-04-26T05:26:24.299Z"
   },
   {
    "duration": 6,
    "start_time": "2024-04-26T05:26:24.313Z"
   },
   {
    "duration": 9,
    "start_time": "2024-04-26T05:26:24.320Z"
   },
   {
    "duration": 4,
    "start_time": "2024-04-26T05:26:24.330Z"
   },
   {
    "duration": 9,
    "start_time": "2024-04-26T05:26:24.335Z"
   },
   {
    "duration": 2,
    "start_time": "2024-04-26T05:26:24.345Z"
   },
   {
    "duration": 6,
    "start_time": "2024-04-26T05:26:24.349Z"
   },
   {
    "duration": 10,
    "start_time": "2024-04-26T05:26:24.356Z"
   },
   {
    "duration": 68,
    "start_time": "2024-04-26T05:26:24.367Z"
   },
   {
    "duration": 0,
    "start_time": "2024-04-26T05:26:24.438Z"
   },
   {
    "duration": 0,
    "start_time": "2024-04-26T05:26:24.439Z"
   },
   {
    "duration": 0,
    "start_time": "2024-04-26T05:26:24.439Z"
   },
   {
    "duration": 0,
    "start_time": "2024-04-26T05:26:24.440Z"
   },
   {
    "duration": 0,
    "start_time": "2024-04-26T05:26:24.441Z"
   },
   {
    "duration": 0,
    "start_time": "2024-04-26T05:26:24.442Z"
   },
   {
    "duration": 0,
    "start_time": "2024-04-26T05:26:24.442Z"
   },
   {
    "duration": 0,
    "start_time": "2024-04-26T05:26:24.443Z"
   },
   {
    "duration": 0,
    "start_time": "2024-04-26T05:26:24.444Z"
   },
   {
    "duration": 0,
    "start_time": "2024-04-26T05:26:24.444Z"
   },
   {
    "duration": 0,
    "start_time": "2024-04-26T05:26:24.445Z"
   },
   {
    "duration": 0,
    "start_time": "2024-04-26T05:26:24.446Z"
   },
   {
    "duration": 0,
    "start_time": "2024-04-26T05:26:24.446Z"
   },
   {
    "duration": 0,
    "start_time": "2024-04-26T05:26:24.447Z"
   },
   {
    "duration": 0,
    "start_time": "2024-04-26T05:26:24.448Z"
   },
   {
    "duration": 0,
    "start_time": "2024-04-26T05:26:24.448Z"
   },
   {
    "duration": 0,
    "start_time": "2024-04-26T05:26:24.449Z"
   },
   {
    "duration": 0,
    "start_time": "2024-04-26T05:26:24.449Z"
   },
   {
    "duration": 0,
    "start_time": "2024-04-26T05:26:24.450Z"
   },
   {
    "duration": 0,
    "start_time": "2024-04-26T05:26:24.451Z"
   },
   {
    "duration": 0,
    "start_time": "2024-04-26T05:26:24.452Z"
   },
   {
    "duration": 0,
    "start_time": "2024-04-26T05:26:24.452Z"
   },
   {
    "duration": 0,
    "start_time": "2024-04-26T05:26:24.453Z"
   },
   {
    "duration": 0,
    "start_time": "2024-04-26T05:26:24.454Z"
   },
   {
    "duration": 0,
    "start_time": "2024-04-26T05:26:24.455Z"
   },
   {
    "duration": 0,
    "start_time": "2024-04-26T05:26:24.455Z"
   },
   {
    "duration": 0,
    "start_time": "2024-04-26T05:26:24.456Z"
   },
   {
    "duration": 0,
    "start_time": "2024-04-26T05:26:24.457Z"
   },
   {
    "duration": 0,
    "start_time": "2024-04-26T05:26:24.484Z"
   },
   {
    "duration": 0,
    "start_time": "2024-04-26T05:26:24.485Z"
   },
   {
    "duration": 0,
    "start_time": "2024-04-26T05:26:24.485Z"
   },
   {
    "duration": 0,
    "start_time": "2024-04-26T05:26:24.486Z"
   },
   {
    "duration": 0,
    "start_time": "2024-04-26T05:26:24.487Z"
   },
   {
    "duration": 0,
    "start_time": "2024-04-26T05:26:24.487Z"
   },
   {
    "duration": 0,
    "start_time": "2024-04-26T05:26:24.488Z"
   },
   {
    "duration": 0,
    "start_time": "2024-04-26T05:26:24.489Z"
   },
   {
    "duration": 0,
    "start_time": "2024-04-26T05:26:24.489Z"
   },
   {
    "duration": 0,
    "start_time": "2024-04-26T05:26:24.490Z"
   },
   {
    "duration": 0,
    "start_time": "2024-04-26T05:26:24.490Z"
   },
   {
    "duration": 0,
    "start_time": "2024-04-26T05:26:24.491Z"
   },
   {
    "duration": 0,
    "start_time": "2024-04-26T05:26:24.491Z"
   },
   {
    "duration": 0,
    "start_time": "2024-04-26T05:26:24.492Z"
   },
   {
    "duration": 0,
    "start_time": "2024-04-26T05:26:24.493Z"
   },
   {
    "duration": 0,
    "start_time": "2024-04-26T05:26:24.493Z"
   },
   {
    "duration": 0,
    "start_time": "2024-04-26T05:26:24.494Z"
   },
   {
    "duration": 0,
    "start_time": "2024-04-26T05:26:24.494Z"
   },
   {
    "duration": 0,
    "start_time": "2024-04-26T05:26:24.495Z"
   },
   {
    "duration": 0,
    "start_time": "2024-04-26T05:26:24.496Z"
   },
   {
    "duration": 0,
    "start_time": "2024-04-26T05:26:24.496Z"
   },
   {
    "duration": 0,
    "start_time": "2024-04-26T05:26:24.497Z"
   },
   {
    "duration": 0,
    "start_time": "2024-04-26T05:26:24.498Z"
   },
   {
    "duration": 0,
    "start_time": "2024-04-26T05:26:24.498Z"
   },
   {
    "duration": 0,
    "start_time": "2024-04-26T05:26:24.499Z"
   },
   {
    "duration": 0,
    "start_time": "2024-04-26T05:26:24.500Z"
   },
   {
    "duration": 0,
    "start_time": "2024-04-26T05:26:24.501Z"
   },
   {
    "duration": 0,
    "start_time": "2024-04-26T05:26:24.502Z"
   },
   {
    "duration": 2,
    "start_time": "2024-04-26T05:27:44.798Z"
   },
   {
    "duration": 128,
    "start_time": "2024-04-26T05:27:45.344Z"
   },
   {
    "duration": 2,
    "start_time": "2024-04-26T05:27:51.657Z"
   },
   {
    "duration": 7,
    "start_time": "2024-04-26T05:27:52.167Z"
   },
   {
    "duration": 81,
    "start_time": "2024-04-26T05:27:56.880Z"
   },
   {
    "duration": 18,
    "start_time": "2024-04-26T05:28:00.849Z"
   },
   {
    "duration": 1877,
    "start_time": "2024-04-26T05:28:09.330Z"
   },
   {
    "duration": 8,
    "start_time": "2024-04-26T05:28:20.471Z"
   },
   {
    "duration": 4,
    "start_time": "2024-04-26T05:28:36.458Z"
   },
   {
    "duration": 4,
    "start_time": "2024-04-26T05:28:40.318Z"
   },
   {
    "duration": 2,
    "start_time": "2024-04-26T05:28:50.720Z"
   },
   {
    "duration": 3,
    "start_time": "2024-04-26T05:28:56.731Z"
   },
   {
    "duration": 5,
    "start_time": "2024-04-26T05:28:59.633Z"
   },
   {
    "duration": 3,
    "start_time": "2024-04-26T05:29:02.556Z"
   },
   {
    "duration": 3,
    "start_time": "2024-04-26T05:29:02.806Z"
   },
   {
    "duration": 8,
    "start_time": "2024-04-26T05:29:05.963Z"
   },
   {
    "duration": 3,
    "start_time": "2024-04-26T05:29:22.077Z"
   },
   {
    "duration": 7,
    "start_time": "2024-04-26T05:29:30.504Z"
   },
   {
    "duration": 4,
    "start_time": "2024-04-26T05:29:37.452Z"
   },
   {
    "duration": 7,
    "start_time": "2024-04-26T05:30:07.248Z"
   },
   {
    "duration": 228,
    "start_time": "2024-04-26T05:30:12.193Z"
   },
   {
    "duration": 10,
    "start_time": "2024-04-26T05:30:14.669Z"
   },
   {
    "duration": 180,
    "start_time": "2024-04-26T05:32:43.892Z"
   },
   {
    "duration": 6,
    "start_time": "2024-04-26T05:32:47.486Z"
   },
   {
    "duration": 182,
    "start_time": "2024-04-26T05:32:50.582Z"
   },
   {
    "duration": 197,
    "start_time": "2024-04-26T05:32:54.650Z"
   },
   {
    "duration": 7,
    "start_time": "2024-04-26T05:32:55.795Z"
   },
   {
    "duration": 238,
    "start_time": "2024-04-26T05:32:57.902Z"
   },
   {
    "duration": 10,
    "start_time": "2024-04-26T05:33:01.559Z"
   },
   {
    "duration": 182,
    "start_time": "2024-04-26T05:33:03.975Z"
   },
   {
    "duration": 7,
    "start_time": "2024-04-26T05:33:14.301Z"
   },
   {
    "duration": 2,
    "start_time": "2024-04-26T05:33:24.454Z"
   },
   {
    "duration": 4,
    "start_time": "2024-04-26T05:33:43.309Z"
   },
   {
    "duration": 180,
    "start_time": "2024-04-26T05:33:45.414Z"
   },
   {
    "duration": 7,
    "start_time": "2024-04-26T05:33:59.283Z"
   },
   {
    "duration": 104,
    "start_time": "2024-04-26T05:34:00.120Z"
   },
   {
    "duration": 7,
    "start_time": "2024-04-26T05:34:03.399Z"
   },
   {
    "duration": 132,
    "start_time": "2024-04-26T05:34:04.243Z"
   },
   {
    "duration": 4,
    "start_time": "2024-04-26T05:34:07.861Z"
   },
   {
    "duration": 128,
    "start_time": "2024-04-26T05:34:12.125Z"
   },
   {
    "duration": 1165,
    "start_time": "2024-04-26T05:34:29.908Z"
   },
   {
    "duration": 4,
    "start_time": "2024-04-26T05:34:57.451Z"
   },
   {
    "duration": 9,
    "start_time": "2024-04-26T05:34:58.134Z"
   },
   {
    "duration": 320,
    "start_time": "2024-04-26T05:35:08.636Z"
   },
   {
    "duration": 110,
    "start_time": "2024-04-26T05:35:08.958Z"
   },
   {
    "duration": 3,
    "start_time": "2024-04-26T05:35:09.069Z"
   },
   {
    "duration": 15,
    "start_time": "2024-04-26T05:35:09.073Z"
   },
   {
    "duration": 61,
    "start_time": "2024-04-26T05:35:09.089Z"
   },
   {
    "duration": 17,
    "start_time": "2024-04-26T05:35:09.151Z"
   },
   {
    "duration": 24,
    "start_time": "2024-04-26T05:35:09.169Z"
   },
   {
    "duration": 2135,
    "start_time": "2024-04-26T05:35:09.194Z"
   },
   {
    "duration": 8,
    "start_time": "2024-04-26T05:35:11.331Z"
   },
   {
    "duration": 14,
    "start_time": "2024-04-26T05:35:11.340Z"
   },
   {
    "duration": 3,
    "start_time": "2024-04-26T05:35:11.355Z"
   },
   {
    "duration": 15,
    "start_time": "2024-04-26T05:35:11.359Z"
   },
   {
    "duration": 4,
    "start_time": "2024-04-26T05:35:11.375Z"
   },
   {
    "duration": 3,
    "start_time": "2024-04-26T05:35:11.382Z"
   },
   {
    "duration": 5,
    "start_time": "2024-04-26T05:35:11.386Z"
   },
   {
    "duration": 12,
    "start_time": "2024-04-26T05:35:11.392Z"
   },
   {
    "duration": 3,
    "start_time": "2024-04-26T05:35:11.406Z"
   },
   {
    "duration": 10,
    "start_time": "2024-04-26T05:35:11.410Z"
   },
   {
    "duration": 11,
    "start_time": "2024-04-26T05:35:11.421Z"
   },
   {
    "duration": 18,
    "start_time": "2024-04-26T05:35:11.433Z"
   },
   {
    "duration": 19,
    "start_time": "2024-04-26T05:35:11.452Z"
   },
   {
    "duration": 17,
    "start_time": "2024-04-26T05:35:11.472Z"
   },
   {
    "duration": 12,
    "start_time": "2024-04-26T05:35:11.490Z"
   },
   {
    "duration": 5,
    "start_time": "2024-04-26T05:35:11.503Z"
   },
   {
    "duration": 7,
    "start_time": "2024-04-26T05:35:11.509Z"
   },
   {
    "duration": 5,
    "start_time": "2024-04-26T05:35:11.517Z"
   },
   {
    "duration": 3,
    "start_time": "2024-04-26T05:35:11.523Z"
   },
   {
    "duration": 6,
    "start_time": "2024-04-26T05:35:11.527Z"
   },
   {
    "duration": 3,
    "start_time": "2024-04-26T05:35:11.534Z"
   },
   {
    "duration": 11,
    "start_time": "2024-04-26T05:35:11.538Z"
   },
   {
    "duration": 262,
    "start_time": "2024-04-26T05:35:11.551Z"
   },
   {
    "duration": 8,
    "start_time": "2024-04-26T05:35:11.814Z"
   },
   {
    "duration": 4,
    "start_time": "2024-04-26T05:35:11.823Z"
   },
   {
    "duration": 5,
    "start_time": "2024-04-26T05:35:11.828Z"
   },
   {
    "duration": 4,
    "start_time": "2024-04-26T05:35:11.834Z"
   },
   {
    "duration": 4,
    "start_time": "2024-04-26T05:35:11.839Z"
   },
   {
    "duration": 270,
    "start_time": "2024-04-26T05:35:11.845Z"
   },
   {
    "duration": 4,
    "start_time": "2024-04-26T05:35:12.117Z"
   },
   {
    "duration": 28,
    "start_time": "2024-04-26T05:35:12.122Z"
   },
   {
    "duration": 214,
    "start_time": "2024-04-26T05:35:12.151Z"
   },
   {
    "duration": 15,
    "start_time": "2024-04-26T05:35:12.369Z"
   },
   {
    "duration": 239,
    "start_time": "2024-04-26T05:35:12.385Z"
   },
   {
    "duration": 209,
    "start_time": "2024-04-26T05:35:12.625Z"
   },
   {
    "duration": 7,
    "start_time": "2024-04-26T05:35:12.836Z"
   },
   {
    "duration": 199,
    "start_time": "2024-04-26T05:35:12.845Z"
   },
   {
    "duration": 7,
    "start_time": "2024-04-26T05:35:13.046Z"
   },
   {
    "duration": 185,
    "start_time": "2024-04-26T05:35:13.054Z"
   },
   {
    "duration": 7,
    "start_time": "2024-04-26T05:35:13.241Z"
   },
   {
    "duration": 6,
    "start_time": "2024-04-26T05:35:13.249Z"
   },
   {
    "duration": 7,
    "start_time": "2024-04-26T05:35:13.256Z"
   },
   {
    "duration": 186,
    "start_time": "2024-04-26T05:35:13.264Z"
   },
   {
    "duration": 6,
    "start_time": "2024-04-26T05:35:13.451Z"
   },
   {
    "duration": 114,
    "start_time": "2024-04-26T05:35:13.458Z"
   },
   {
    "duration": 15,
    "start_time": "2024-04-26T05:35:13.573Z"
   },
   {
    "duration": 186,
    "start_time": "2024-04-26T05:35:13.589Z"
   },
   {
    "duration": 9,
    "start_time": "2024-04-26T05:35:13.776Z"
   },
   {
    "duration": 108,
    "start_time": "2024-04-26T05:35:13.786Z"
   },
   {
    "duration": 106,
    "start_time": "2024-04-26T05:35:13.896Z"
   },
   {
    "duration": 6,
    "start_time": "2024-04-26T05:35:14.003Z"
   },
   {
    "duration": 148,
    "start_time": "2024-04-26T05:35:14.010Z"
   },
   {
    "duration": 7,
    "start_time": "2024-04-26T05:35:14.160Z"
   },
   {
    "duration": 138,
    "start_time": "2024-04-26T05:35:14.168Z"
   },
   {
    "duration": 7,
    "start_time": "2024-04-26T05:35:14.307Z"
   },
   {
    "duration": 139,
    "start_time": "2024-04-26T05:35:14.315Z"
   },
   {
    "duration": 7,
    "start_time": "2024-04-26T05:35:14.456Z"
   },
   {
    "duration": 196,
    "start_time": "2024-04-26T05:35:14.464Z"
   },
   {
    "duration": 24,
    "start_time": "2024-04-26T05:35:14.661Z"
   },
   {
    "duration": 2236,
    "start_time": "2024-04-26T05:35:14.686Z"
   },
   {
    "duration": 117,
    "start_time": "2024-04-26T05:35:16.924Z"
   },
   {
    "duration": 112,
    "start_time": "2024-04-26T05:35:17.042Z"
   },
   {
    "duration": 123,
    "start_time": "2024-04-26T05:35:17.156Z"
   },
   {
    "duration": 109,
    "start_time": "2024-04-26T05:35:17.284Z"
   },
   {
    "duration": 120,
    "start_time": "2024-04-26T05:35:17.395Z"
   },
   {
    "duration": 123,
    "start_time": "2024-04-26T05:35:17.516Z"
   },
   {
    "duration": 131,
    "start_time": "2024-04-26T05:35:17.640Z"
   },
   {
    "duration": 122,
    "start_time": "2024-04-26T05:35:17.772Z"
   },
   {
    "duration": 22,
    "start_time": "2024-04-26T05:35:17.895Z"
   },
   {
    "duration": 172,
    "start_time": "2024-04-26T05:35:17.918Z"
   },
   {
    "duration": 2,
    "start_time": "2024-04-26T05:35:38.843Z"
   },
   {
    "duration": 115,
    "start_time": "2024-04-26T05:35:39.534Z"
   },
   {
    "duration": 2,
    "start_time": "2024-04-26T05:35:42.766Z"
   },
   {
    "duration": 6,
    "start_time": "2024-04-26T05:35:43.540Z"
   },
   {
    "duration": 77,
    "start_time": "2024-04-26T05:35:49.611Z"
   },
   {
    "duration": 16,
    "start_time": "2024-04-26T05:35:53.249Z"
   },
   {
    "duration": 13,
    "start_time": "2024-04-26T05:35:59.199Z"
   },
   {
    "duration": 1951,
    "start_time": "2024-04-26T05:36:04.714Z"
   },
   {
    "duration": 8,
    "start_time": "2024-04-26T05:36:12.300Z"
   },
   {
    "duration": 4,
    "start_time": "2024-04-26T05:36:16.981Z"
   },
   {
    "duration": 2,
    "start_time": "2024-04-26T05:36:21.772Z"
   },
   {
    "duration": 2,
    "start_time": "2024-04-26T05:36:25.595Z"
   },
   {
    "duration": 3,
    "start_time": "2024-04-26T05:36:36.218Z"
   },
   {
    "duration": 4,
    "start_time": "2024-04-26T05:36:38.817Z"
   },
   {
    "duration": 3,
    "start_time": "2024-04-26T05:36:41.711Z"
   },
   {
    "duration": 3,
    "start_time": "2024-04-26T05:36:42.032Z"
   },
   {
    "duration": 7,
    "start_time": "2024-04-26T05:36:44.635Z"
   },
   {
    "duration": 3,
    "start_time": "2024-04-26T05:37:11.535Z"
   },
   {
    "duration": 3,
    "start_time": "2024-04-26T05:37:12.118Z"
   },
   {
    "duration": 6,
    "start_time": "2024-04-26T05:37:14.994Z"
   },
   {
    "duration": 4,
    "start_time": "2024-04-26T05:37:15.756Z"
   },
   {
    "duration": 5,
    "start_time": "2024-04-26T05:37:17.560Z"
   },
   {
    "duration": 6,
    "start_time": "2024-04-26T05:37:22.496Z"
   },
   {
    "duration": 5,
    "start_time": "2024-04-26T05:37:25.348Z"
   },
   {
    "duration": 3,
    "start_time": "2024-04-26T05:37:26.204Z"
   },
   {
    "duration": 3,
    "start_time": "2024-04-26T05:37:29.569Z"
   },
   {
    "duration": 4,
    "start_time": "2024-04-26T05:37:30.044Z"
   },
   {
    "duration": 4,
    "start_time": "2024-04-26T05:37:30.493Z"
   },
   {
    "duration": 6,
    "start_time": "2024-04-26T05:37:34.088Z"
   },
   {
    "duration": 227,
    "start_time": "2024-04-26T05:37:38.699Z"
   },
   {
    "duration": 7,
    "start_time": "2024-04-26T05:37:41.676Z"
   },
   {
    "duration": 3,
    "start_time": "2024-04-26T05:37:51.945Z"
   },
   {
    "duration": 4,
    "start_time": "2024-04-26T05:37:53.720Z"
   },
   {
    "duration": 3,
    "start_time": "2024-04-26T05:37:54.897Z"
   },
   {
    "duration": 4,
    "start_time": "2024-04-26T05:37:56.361Z"
   },
   {
    "duration": 347,
    "start_time": "2024-04-26T05:38:00.449Z"
   },
   {
    "duration": 3,
    "start_time": "2024-04-26T05:38:02.965Z"
   },
   {
    "duration": 17,
    "start_time": "2024-04-26T05:38:05.661Z"
   },
   {
    "duration": 204,
    "start_time": "2024-04-26T05:38:12.094Z"
   },
   {
    "duration": 7,
    "start_time": "2024-04-26T05:38:15.023Z"
   },
   {
    "duration": 196,
    "start_time": "2024-04-26T05:38:18.660Z"
   },
   {
    "duration": 183,
    "start_time": "2024-04-26T05:38:29.120Z"
   },
   {
    "duration": 7,
    "start_time": "2024-04-26T05:38:38.769Z"
   },
   {
    "duration": 179,
    "start_time": "2024-04-26T05:38:41.134Z"
   },
   {
    "duration": 8,
    "start_time": "2024-04-26T05:38:45.563Z"
   },
   {
    "duration": 178,
    "start_time": "2024-04-26T05:38:49.521Z"
   },
   {
    "duration": 6,
    "start_time": "2024-04-26T05:38:59.098Z"
   },
   {
    "duration": 3,
    "start_time": "2024-04-26T05:39:06.946Z"
   },
   {
    "duration": 256,
    "start_time": "2024-04-26T05:39:07.833Z"
   },
   {
    "duration": 8,
    "start_time": "2024-04-26T05:40:55.325Z"
   },
   {
    "duration": 103,
    "start_time": "2024-04-26T05:40:58.246Z"
   },
   {
    "duration": 7,
    "start_time": "2024-04-26T05:41:06.010Z"
   },
   {
    "duration": 132,
    "start_time": "2024-04-26T05:41:09.094Z"
   },
   {
    "duration": 4,
    "start_time": "2024-04-26T05:41:15.952Z"
   },
   {
    "duration": 102,
    "start_time": "2024-04-26T05:41:16.841Z"
   },
   {
    "duration": 93,
    "start_time": "2024-04-26T05:41:20.747Z"
   },
   {
    "duration": 6,
    "start_time": "2024-04-26T05:41:24.906Z"
   },
   {
    "duration": 129,
    "start_time": "2024-04-26T05:41:33.333Z"
   },
   {
    "duration": 8,
    "start_time": "2024-04-26T05:41:43.019Z"
   },
   {
    "duration": 125,
    "start_time": "2024-04-26T05:41:46.448Z"
   },
   {
    "duration": 9,
    "start_time": "2024-04-26T05:41:49.577Z"
   },
   {
    "duration": 130,
    "start_time": "2024-04-26T05:41:51.831Z"
   },
   {
    "duration": 63,
    "start_time": "2024-04-26T05:44:57.419Z"
   },
   {
    "duration": 71,
    "start_time": "2024-04-26T10:20:52.747Z"
   },
   {
    "duration": 2,
    "start_time": "2024-04-26T10:21:52.338Z"
   },
   {
    "duration": 31,
    "start_time": "2024-04-26T10:21:57.191Z"
   },
   {
    "duration": 25,
    "start_time": "2024-04-26T10:42:59.005Z"
   },
   {
    "duration": 199,
    "start_time": "2024-04-26T10:43:04.089Z"
   },
   {
    "duration": 184,
    "start_time": "2024-04-26T10:52:47.120Z"
   },
   {
    "duration": 189,
    "start_time": "2024-04-26T10:52:58.609Z"
   },
   {
    "duration": 231,
    "start_time": "2024-04-26T10:53:03.523Z"
   },
   {
    "duration": 132,
    "start_time": "2024-04-26T10:55:51.208Z"
   },
   {
    "duration": 176,
    "start_time": "2024-04-26T10:55:59.794Z"
   },
   {
    "duration": 184,
    "start_time": "2024-04-26T10:56:05.946Z"
   },
   {
    "duration": 8,
    "start_time": "2024-04-26T11:01:33.460Z"
   },
   {
    "duration": 177,
    "start_time": "2024-04-26T11:01:37.927Z"
   },
   {
    "duration": 64,
    "start_time": "2024-04-26T11:03:41.409Z"
   },
   {
    "duration": 144,
    "start_time": "2024-04-26T11:04:11.468Z"
   },
   {
    "duration": 128,
    "start_time": "2024-04-26T11:04:17.858Z"
   },
   {
    "duration": 115,
    "start_time": "2024-04-26T11:04:28.126Z"
   },
   {
    "duration": 14,
    "start_time": "2024-04-26T11:09:08.014Z"
   },
   {
    "duration": 1098,
    "start_time": "2024-04-26T11:09:24.753Z"
   },
   {
    "duration": 116,
    "start_time": "2024-04-26T11:09:42.921Z"
   },
   {
    "duration": 116,
    "start_time": "2024-04-26T11:09:56.605Z"
   },
   {
    "duration": 134,
    "start_time": "2024-04-26T11:10:02.480Z"
   },
   {
    "duration": 134,
    "start_time": "2024-04-26T11:10:07.067Z"
   },
   {
    "duration": 117,
    "start_time": "2024-04-26T11:10:13.182Z"
   },
   {
    "duration": 22,
    "start_time": "2024-04-26T11:12:11.353Z"
   },
   {
    "duration": 180,
    "start_time": "2024-04-26T11:12:20.263Z"
   },
   {
    "duration": 184,
    "start_time": "2024-04-26T11:13:10.108Z"
   },
   {
    "duration": 182,
    "start_time": "2024-04-26T11:13:35.207Z"
   },
   {
    "duration": 414,
    "start_time": "2024-04-26T12:09:03.256Z"
   },
   {
    "duration": 125,
    "start_time": "2024-04-26T12:09:03.672Z"
   },
   {
    "duration": 3,
    "start_time": "2024-04-26T12:09:03.798Z"
   },
   {
    "duration": 27,
    "start_time": "2024-04-26T12:09:03.802Z"
   },
   {
    "duration": 89,
    "start_time": "2024-04-26T12:09:03.830Z"
   },
   {
    "duration": 19,
    "start_time": "2024-04-26T12:09:03.920Z"
   },
   {
    "duration": 26,
    "start_time": "2024-04-26T12:09:03.941Z"
   },
   {
    "duration": 2320,
    "start_time": "2024-04-26T12:09:03.969Z"
   },
   {
    "duration": 9,
    "start_time": "2024-04-26T12:09:06.291Z"
   },
   {
    "duration": 19,
    "start_time": "2024-04-26T12:09:06.302Z"
   },
   {
    "duration": 39,
    "start_time": "2024-04-26T12:09:06.322Z"
   },
   {
    "duration": 18,
    "start_time": "2024-04-26T12:09:06.363Z"
   },
   {
    "duration": 25,
    "start_time": "2024-04-26T12:09:06.383Z"
   },
   {
    "duration": 21,
    "start_time": "2024-04-26T12:09:06.410Z"
   },
   {
    "duration": 27,
    "start_time": "2024-04-26T12:09:06.433Z"
   },
   {
    "duration": 26,
    "start_time": "2024-04-26T12:09:06.461Z"
   },
   {
    "duration": 21,
    "start_time": "2024-04-26T12:09:06.488Z"
   },
   {
    "duration": 28,
    "start_time": "2024-04-26T12:09:06.510Z"
   },
   {
    "duration": 16,
    "start_time": "2024-04-26T12:09:06.539Z"
   },
   {
    "duration": 19,
    "start_time": "2024-04-26T12:09:06.556Z"
   },
   {
    "duration": 34,
    "start_time": "2024-04-26T12:09:06.576Z"
   },
   {
    "duration": 14,
    "start_time": "2024-04-26T12:09:06.612Z"
   },
   {
    "duration": 25,
    "start_time": "2024-04-26T12:09:06.628Z"
   },
   {
    "duration": 28,
    "start_time": "2024-04-26T12:09:06.654Z"
   },
   {
    "duration": 29,
    "start_time": "2024-04-26T12:09:06.683Z"
   },
   {
    "duration": 29,
    "start_time": "2024-04-26T12:09:06.713Z"
   },
   {
    "duration": 23,
    "start_time": "2024-04-26T12:09:06.743Z"
   },
   {
    "duration": 31,
    "start_time": "2024-04-26T12:09:06.769Z"
   },
   {
    "duration": 31,
    "start_time": "2024-04-26T12:09:06.801Z"
   },
   {
    "duration": 30,
    "start_time": "2024-04-26T12:09:06.833Z"
   },
   {
    "duration": 254,
    "start_time": "2024-04-26T12:09:06.865Z"
   },
   {
    "duration": 8,
    "start_time": "2024-04-26T12:09:07.120Z"
   },
   {
    "duration": 22,
    "start_time": "2024-04-26T12:09:07.129Z"
   },
   {
    "duration": 11,
    "start_time": "2024-04-26T12:09:07.152Z"
   },
   {
    "duration": 32,
    "start_time": "2024-04-26T12:09:07.164Z"
   },
   {
    "duration": 12,
    "start_time": "2024-04-26T12:09:07.197Z"
   },
   {
    "duration": 303,
    "start_time": "2024-04-26T12:09:07.211Z"
   },
   {
    "duration": 6,
    "start_time": "2024-04-26T12:09:07.515Z"
   },
   {
    "duration": 36,
    "start_time": "2024-04-26T12:09:07.522Z"
   },
   {
    "duration": 47,
    "start_time": "2024-04-26T12:09:07.559Z"
   },
   {
    "duration": 36,
    "start_time": "2024-04-26T12:09:07.608Z"
   },
   {
    "duration": 202,
    "start_time": "2024-04-26T12:09:07.646Z"
   },
   {
    "duration": 8,
    "start_time": "2024-04-26T12:09:07.849Z"
   },
   {
    "duration": 257,
    "start_time": "2024-04-26T12:09:07.858Z"
   },
   {
    "duration": 197,
    "start_time": "2024-04-26T12:09:08.116Z"
   },
   {
    "duration": 7,
    "start_time": "2024-04-26T12:09:08.315Z"
   },
   {
    "duration": 240,
    "start_time": "2024-04-26T12:09:08.323Z"
   },
   {
    "duration": 8,
    "start_time": "2024-04-26T12:09:08.564Z"
   },
   {
    "duration": 231,
    "start_time": "2024-04-26T12:09:08.573Z"
   },
   {
    "duration": 8,
    "start_time": "2024-04-26T12:09:08.806Z"
   },
   {
    "duration": 9,
    "start_time": "2024-04-26T12:09:08.816Z"
   },
   {
    "duration": 15,
    "start_time": "2024-04-26T12:09:08.826Z"
   },
   {
    "duration": 223,
    "start_time": "2024-04-26T12:09:08.843Z"
   },
   {
    "duration": 8,
    "start_time": "2024-04-26T12:09:09.068Z"
   },
   {
    "duration": 115,
    "start_time": "2024-04-26T12:09:09.084Z"
   },
   {
    "duration": 7,
    "start_time": "2024-04-26T12:09:09.200Z"
   },
   {
    "duration": 214,
    "start_time": "2024-04-26T12:09:09.209Z"
   },
   {
    "duration": 4,
    "start_time": "2024-04-26T12:09:09.424Z"
   },
   {
    "duration": 121,
    "start_time": "2024-04-26T12:09:09.429Z"
   },
   {
    "duration": 117,
    "start_time": "2024-04-26T12:09:09.551Z"
   },
   {
    "duration": 15,
    "start_time": "2024-04-26T12:09:09.670Z"
   },
   {
    "duration": 159,
    "start_time": "2024-04-26T12:09:09.687Z"
   },
   {
    "duration": 7,
    "start_time": "2024-04-26T12:09:09.847Z"
   },
   {
    "duration": 158,
    "start_time": "2024-04-26T12:09:09.856Z"
   },
   {
    "duration": 9,
    "start_time": "2024-04-26T12:09:10.015Z"
   },
   {
    "duration": 170,
    "start_time": "2024-04-26T12:09:10.025Z"
   },
   {
    "duration": 9,
    "start_time": "2024-04-26T12:09:10.196Z"
   },
   {
    "duration": 210,
    "start_time": "2024-04-26T12:09:10.207Z"
   },
   {
    "duration": 135,
    "start_time": "2024-04-26T12:09:10.419Z"
   },
   {
    "duration": 15,
    "start_time": "2024-04-26T12:09:10.556Z"
   },
   {
    "duration": 1121,
    "start_time": "2024-04-26T12:09:10.573Z"
   },
   {
    "duration": 123,
    "start_time": "2024-04-26T12:09:11.696Z"
   },
   {
    "duration": 131,
    "start_time": "2024-04-26T12:09:11.820Z"
   },
   {
    "duration": 145,
    "start_time": "2024-04-26T12:09:11.953Z"
   },
   {
    "duration": 185,
    "start_time": "2024-04-26T12:09:12.099Z"
   },
   {
    "duration": 126,
    "start_time": "2024-04-26T12:09:12.286Z"
   },
   {
    "duration": 228,
    "start_time": "2024-04-26T12:09:12.414Z"
   },
   {
    "duration": 151,
    "start_time": "2024-04-26T12:09:12.643Z"
   },
   {
    "duration": 133,
    "start_time": "2024-04-26T12:09:12.795Z"
   },
   {
    "duration": 23,
    "start_time": "2024-04-26T12:09:12.929Z"
   },
   {
    "duration": 211,
    "start_time": "2024-04-26T12:09:12.954Z"
   },
   {
    "duration": 124,
    "start_time": "2024-04-26T12:09:35.145Z"
   },
   {
    "duration": 118,
    "start_time": "2024-04-26T12:09:44.733Z"
   },
   {
    "duration": 178,
    "start_time": "2024-04-26T12:14:43.476Z"
   },
   {
    "duration": 22,
    "start_time": "2024-04-26T12:15:21.713Z"
   },
   {
    "duration": 4153,
    "start_time": "2024-04-26T12:15:49.997Z"
   },
   {
    "duration": 74,
    "start_time": "2024-04-26T12:17:10.853Z"
   },
   {
    "duration": 16,
    "start_time": "2024-04-26T12:17:31.872Z"
   },
   {
    "duration": 3856,
    "start_time": "2024-04-26T12:18:51.046Z"
   },
   {
    "duration": 25,
    "start_time": "2024-04-26T12:20:36.542Z"
   },
   {
    "duration": 17,
    "start_time": "2024-04-26T12:21:38.956Z"
   },
   {
    "duration": 17,
    "start_time": "2024-04-26T12:23:44.656Z"
   },
   {
    "duration": 59,
    "start_time": "2024-04-26T12:24:24.167Z"
   },
   {
    "duration": 15,
    "start_time": "2024-04-26T12:24:52.401Z"
   },
   {
    "duration": 4,
    "start_time": "2024-04-26T12:39:49.419Z"
   },
   {
    "duration": 402,
    "start_time": "2024-04-26T12:40:02.365Z"
   },
   {
    "duration": 122,
    "start_time": "2024-04-26T12:40:02.769Z"
   },
   {
    "duration": 3,
    "start_time": "2024-04-26T12:40:02.893Z"
   },
   {
    "duration": 21,
    "start_time": "2024-04-26T12:40:02.898Z"
   },
   {
    "duration": 72,
    "start_time": "2024-04-26T12:40:02.920Z"
   },
   {
    "duration": 17,
    "start_time": "2024-04-26T12:40:02.993Z"
   },
   {
    "duration": 35,
    "start_time": "2024-04-26T12:40:03.012Z"
   },
   {
    "duration": 2409,
    "start_time": "2024-04-26T12:40:03.048Z"
   },
   {
    "duration": 8,
    "start_time": "2024-04-26T12:40:05.459Z"
   },
   {
    "duration": 8,
    "start_time": "2024-04-26T12:40:05.469Z"
   },
   {
    "duration": 4,
    "start_time": "2024-04-26T12:40:05.479Z"
   },
   {
    "duration": 6,
    "start_time": "2024-04-26T12:40:05.484Z"
   },
   {
    "duration": 5,
    "start_time": "2024-04-26T12:40:05.491Z"
   },
   {
    "duration": 8,
    "start_time": "2024-04-26T12:40:05.497Z"
   },
   {
    "duration": 8,
    "start_time": "2024-04-26T12:40:05.506Z"
   },
   {
    "duration": 31,
    "start_time": "2024-04-26T12:40:05.515Z"
   },
   {
    "duration": 9,
    "start_time": "2024-04-26T12:40:05.547Z"
   },
   {
    "duration": 13,
    "start_time": "2024-04-26T12:40:05.557Z"
   },
   {
    "duration": 29,
    "start_time": "2024-04-26T12:40:05.571Z"
   },
   {
    "duration": 11,
    "start_time": "2024-04-26T12:40:05.601Z"
   },
   {
    "duration": 8,
    "start_time": "2024-04-26T12:40:05.613Z"
   },
   {
    "duration": 6,
    "start_time": "2024-04-26T12:40:05.622Z"
   },
   {
    "duration": 25,
    "start_time": "2024-04-26T12:40:05.630Z"
   },
   {
    "duration": 6,
    "start_time": "2024-04-26T12:40:05.656Z"
   },
   {
    "duration": 45,
    "start_time": "2024-04-26T12:40:05.664Z"
   },
   {
    "duration": 26,
    "start_time": "2024-04-26T12:40:05.710Z"
   },
   {
    "duration": 13,
    "start_time": "2024-04-26T12:40:05.738Z"
   },
   {
    "duration": 23,
    "start_time": "2024-04-26T12:40:05.755Z"
   },
   {
    "duration": 6,
    "start_time": "2024-04-26T12:40:05.780Z"
   },
   {
    "duration": 29,
    "start_time": "2024-04-26T12:40:05.788Z"
   },
   {
    "duration": 270,
    "start_time": "2024-04-26T12:40:05.819Z"
   },
   {
    "duration": 8,
    "start_time": "2024-04-26T12:40:06.090Z"
   },
   {
    "duration": 3,
    "start_time": "2024-04-26T12:40:06.100Z"
   },
   {
    "duration": 13,
    "start_time": "2024-04-26T12:40:06.104Z"
   },
   {
    "duration": 5,
    "start_time": "2024-04-26T12:40:06.118Z"
   },
   {
    "duration": 9,
    "start_time": "2024-04-26T12:40:06.124Z"
   },
   {
    "duration": 281,
    "start_time": "2024-04-26T12:40:06.134Z"
   },
   {
    "duration": 4,
    "start_time": "2024-04-26T12:40:06.416Z"
   },
   {
    "duration": 22,
    "start_time": "2024-04-26T12:40:06.421Z"
   },
   {
    "duration": 47,
    "start_time": "2024-04-26T12:40:06.444Z"
   },
   {
    "duration": 5,
    "start_time": "2024-04-26T12:40:06.493Z"
   },
   {
    "duration": 26,
    "start_time": "2024-04-26T12:40:06.499Z"
   },
   {
    "duration": 218,
    "start_time": "2024-04-26T12:40:06.526Z"
   },
   {
    "duration": 9,
    "start_time": "2024-04-26T12:40:06.745Z"
   },
   {
    "duration": 257,
    "start_time": "2024-04-26T12:40:06.755Z"
   },
   {
    "duration": 210,
    "start_time": "2024-04-26T12:40:07.014Z"
   },
   {
    "duration": 8,
    "start_time": "2024-04-26T12:40:07.226Z"
   },
   {
    "duration": 218,
    "start_time": "2024-04-26T12:40:07.236Z"
   },
   {
    "duration": 10,
    "start_time": "2024-04-26T12:40:07.456Z"
   },
   {
    "duration": 230,
    "start_time": "2024-04-26T12:40:07.467Z"
   },
   {
    "duration": 8,
    "start_time": "2024-04-26T12:40:07.699Z"
   },
   {
    "duration": 2,
    "start_time": "2024-04-26T12:40:07.709Z"
   },
   {
    "duration": 4,
    "start_time": "2024-04-26T12:40:07.713Z"
   },
   {
    "duration": 214,
    "start_time": "2024-04-26T12:40:07.718Z"
   },
   {
    "duration": 7,
    "start_time": "2024-04-26T12:40:07.933Z"
   },
   {
    "duration": 127,
    "start_time": "2024-04-26T12:40:07.941Z"
   },
   {
    "duration": 16,
    "start_time": "2024-04-26T12:40:08.069Z"
   },
   {
    "duration": 198,
    "start_time": "2024-04-26T12:40:08.086Z"
   },
   {
    "duration": 3,
    "start_time": "2024-04-26T12:40:08.286Z"
   },
   {
    "duration": 121,
    "start_time": "2024-04-26T12:40:08.290Z"
   },
   {
    "duration": 107,
    "start_time": "2024-04-26T12:40:08.413Z"
   },
   {
    "duration": 7,
    "start_time": "2024-04-26T12:40:08.521Z"
   },
   {
    "duration": 167,
    "start_time": "2024-04-26T12:40:08.529Z"
   },
   {
    "duration": 9,
    "start_time": "2024-04-26T12:40:08.698Z"
   },
   {
    "duration": 181,
    "start_time": "2024-04-26T12:40:08.708Z"
   },
   {
    "duration": 9,
    "start_time": "2024-04-26T12:40:08.890Z"
   },
   {
    "duration": 154,
    "start_time": "2024-04-26T12:40:08.900Z"
   },
   {
    "duration": 7,
    "start_time": "2024-04-26T12:40:09.056Z"
   },
   {
    "duration": 202,
    "start_time": "2024-04-26T12:40:09.064Z"
   },
   {
    "duration": 130,
    "start_time": "2024-04-26T12:40:09.268Z"
   },
   {
    "duration": 16,
    "start_time": "2024-04-26T12:40:09.399Z"
   },
   {
    "duration": 1149,
    "start_time": "2024-04-26T12:40:09.416Z"
   },
   {
    "duration": 134,
    "start_time": "2024-04-26T12:40:10.567Z"
   },
   {
    "duration": 141,
    "start_time": "2024-04-26T12:40:10.702Z"
   },
   {
    "duration": 152,
    "start_time": "2024-04-26T12:40:10.845Z"
   },
   {
    "duration": 141,
    "start_time": "2024-04-26T12:40:10.999Z"
   },
   {
    "duration": 121,
    "start_time": "2024-04-26T12:40:11.141Z"
   },
   {
    "duration": 205,
    "start_time": "2024-04-26T12:40:11.263Z"
   },
   {
    "duration": 130,
    "start_time": "2024-04-26T12:40:11.469Z"
   },
   {
    "duration": 127,
    "start_time": "2024-04-26T12:40:11.601Z"
   },
   {
    "duration": 24,
    "start_time": "2024-04-26T12:40:11.729Z"
   },
   {
    "duration": 206,
    "start_time": "2024-04-26T12:40:11.758Z"
   },
   {
    "duration": 4,
    "start_time": "2024-04-26T12:41:02.643Z"
   },
   {
    "duration": 403,
    "start_time": "2024-04-26T12:41:13.179Z"
   },
   {
    "duration": 141,
    "start_time": "2024-04-26T12:41:13.585Z"
   },
   {
    "duration": 3,
    "start_time": "2024-04-26T12:41:13.727Z"
   },
   {
    "duration": 42,
    "start_time": "2024-04-26T12:41:13.731Z"
   },
   {
    "duration": 79,
    "start_time": "2024-04-26T12:41:13.774Z"
   },
   {
    "duration": 17,
    "start_time": "2024-04-26T12:41:13.855Z"
   },
   {
    "duration": 35,
    "start_time": "2024-04-26T12:41:13.873Z"
   },
   {
    "duration": 2317,
    "start_time": "2024-04-26T12:41:13.909Z"
   },
   {
    "duration": 8,
    "start_time": "2024-04-26T12:41:16.227Z"
   },
   {
    "duration": 19,
    "start_time": "2024-04-26T12:41:16.237Z"
   },
   {
    "duration": 15,
    "start_time": "2024-04-26T12:41:16.258Z"
   },
   {
    "duration": 26,
    "start_time": "2024-04-26T12:41:16.274Z"
   },
   {
    "duration": 22,
    "start_time": "2024-04-26T12:41:16.301Z"
   },
   {
    "duration": 33,
    "start_time": "2024-04-26T12:41:16.325Z"
   },
   {
    "duration": 19,
    "start_time": "2024-04-26T12:41:16.360Z"
   },
   {
    "duration": 27,
    "start_time": "2024-04-26T12:41:16.381Z"
   },
   {
    "duration": 24,
    "start_time": "2024-04-26T12:41:16.410Z"
   },
   {
    "duration": 34,
    "start_time": "2024-04-26T12:41:16.435Z"
   },
   {
    "duration": 17,
    "start_time": "2024-04-26T12:41:16.471Z"
   },
   {
    "duration": 19,
    "start_time": "2024-04-26T12:41:16.490Z"
   },
   {
    "duration": 35,
    "start_time": "2024-04-26T12:41:16.510Z"
   },
   {
    "duration": 15,
    "start_time": "2024-04-26T12:41:16.547Z"
   },
   {
    "duration": 24,
    "start_time": "2024-04-26T12:41:16.564Z"
   },
   {
    "duration": 21,
    "start_time": "2024-04-26T12:41:16.590Z"
   },
   {
    "duration": 22,
    "start_time": "2024-04-26T12:41:16.612Z"
   },
   {
    "duration": 11,
    "start_time": "2024-04-26T12:41:16.635Z"
   },
   {
    "duration": 4,
    "start_time": "2024-04-26T12:41:16.647Z"
   },
   {
    "duration": 3,
    "start_time": "2024-04-26T12:41:16.654Z"
   },
   {
    "duration": 3,
    "start_time": "2024-04-26T12:41:16.659Z"
   },
   {
    "duration": 7,
    "start_time": "2024-04-26T12:41:16.663Z"
   },
   {
    "duration": 253,
    "start_time": "2024-04-26T12:41:16.671Z"
   },
   {
    "duration": 9,
    "start_time": "2024-04-26T12:41:16.926Z"
   },
   {
    "duration": 4,
    "start_time": "2024-04-26T12:41:16.936Z"
   },
   {
    "duration": 5,
    "start_time": "2024-04-26T12:41:16.941Z"
   },
   {
    "duration": 18,
    "start_time": "2024-04-26T12:41:16.947Z"
   },
   {
    "duration": 6,
    "start_time": "2024-04-26T12:41:16.966Z"
   },
   {
    "duration": 280,
    "start_time": "2024-04-26T12:41:16.973Z"
   },
   {
    "duration": 4,
    "start_time": "2024-04-26T12:41:17.254Z"
   },
   {
    "duration": 27,
    "start_time": "2024-04-26T12:41:17.260Z"
   },
   {
    "duration": 35,
    "start_time": "2024-04-26T12:41:17.288Z"
   },
   {
    "duration": 4,
    "start_time": "2024-04-26T12:41:17.324Z"
   },
   {
    "duration": 24,
    "start_time": "2024-04-26T12:41:17.330Z"
   },
   {
    "duration": 232,
    "start_time": "2024-04-26T12:41:17.355Z"
   },
   {
    "duration": 7,
    "start_time": "2024-04-26T12:41:17.589Z"
   },
   {
    "duration": 256,
    "start_time": "2024-04-26T12:41:17.597Z"
   },
   {
    "duration": 213,
    "start_time": "2024-04-26T12:41:17.854Z"
   },
   {
    "duration": 20,
    "start_time": "2024-04-26T12:41:18.069Z"
   },
   {
    "duration": 197,
    "start_time": "2024-04-26T12:41:18.091Z"
   },
   {
    "duration": 8,
    "start_time": "2024-04-26T12:41:18.289Z"
   },
   {
    "duration": 207,
    "start_time": "2024-04-26T12:41:18.298Z"
   },
   {
    "duration": 7,
    "start_time": "2024-04-26T12:41:18.506Z"
   },
   {
    "duration": 2,
    "start_time": "2024-04-26T12:41:18.515Z"
   },
   {
    "duration": 12,
    "start_time": "2024-04-26T12:41:18.518Z"
   },
   {
    "duration": 220,
    "start_time": "2024-04-26T12:41:18.531Z"
   },
   {
    "duration": 7,
    "start_time": "2024-04-26T12:41:18.752Z"
   },
   {
    "duration": 169,
    "start_time": "2024-04-26T12:41:18.760Z"
   },
   {
    "duration": 8,
    "start_time": "2024-04-26T12:41:18.930Z"
   },
   {
    "duration": 195,
    "start_time": "2024-04-26T12:41:18.939Z"
   },
   {
    "duration": 4,
    "start_time": "2024-04-26T12:41:19.135Z"
   },
   {
    "duration": 118,
    "start_time": "2024-04-26T12:41:19.140Z"
   },
   {
    "duration": 102,
    "start_time": "2024-04-26T12:41:19.260Z"
   },
   {
    "duration": 7,
    "start_time": "2024-04-26T12:41:19.363Z"
   },
   {
    "duration": 150,
    "start_time": "2024-04-26T12:41:19.372Z"
   },
   {
    "duration": 8,
    "start_time": "2024-04-26T12:41:19.523Z"
   },
   {
    "duration": 149,
    "start_time": "2024-04-26T12:41:19.532Z"
   },
   {
    "duration": 8,
    "start_time": "2024-04-26T12:41:19.682Z"
   },
   {
    "duration": 151,
    "start_time": "2024-04-26T12:41:19.691Z"
   },
   {
    "duration": 7,
    "start_time": "2024-04-26T12:41:19.843Z"
   },
   {
    "duration": 193,
    "start_time": "2024-04-26T12:41:19.851Z"
   },
   {
    "duration": 132,
    "start_time": "2024-04-26T12:41:20.045Z"
   },
   {
    "duration": 19,
    "start_time": "2024-04-26T12:41:20.178Z"
   },
   {
    "duration": 1171,
    "start_time": "2024-04-26T12:41:20.199Z"
   },
   {
    "duration": 128,
    "start_time": "2024-04-26T12:41:21.371Z"
   },
   {
    "duration": 147,
    "start_time": "2024-04-26T12:41:21.500Z"
   },
   {
    "duration": 148,
    "start_time": "2024-04-26T12:41:21.648Z"
   },
   {
    "duration": 139,
    "start_time": "2024-04-26T12:41:21.797Z"
   },
   {
    "duration": 122,
    "start_time": "2024-04-26T12:41:21.938Z"
   },
   {
    "duration": 254,
    "start_time": "2024-04-26T12:41:22.062Z"
   },
   {
    "duration": 121,
    "start_time": "2024-04-26T12:41:22.317Z"
   },
   {
    "duration": 127,
    "start_time": "2024-04-26T12:41:22.439Z"
   },
   {
    "duration": 30,
    "start_time": "2024-04-26T12:41:22.568Z"
   },
   {
    "duration": 218,
    "start_time": "2024-04-26T12:41:22.602Z"
   },
   {
    "duration": 5,
    "start_time": "2024-04-26T12:42:57.030Z"
   },
   {
    "duration": 7,
    "start_time": "2024-04-26T12:43:37.807Z"
   },
   {
    "duration": 1572,
    "start_time": "2024-04-26T12:52:51.299Z"
   },
   {
    "duration": 7,
    "start_time": "2024-04-26T12:53:15.011Z"
   },
   {
    "duration": 342,
    "start_time": "2024-04-26T12:53:24.307Z"
   },
   {
    "duration": 115,
    "start_time": "2024-04-26T12:53:24.651Z"
   },
   {
    "duration": 3,
    "start_time": "2024-04-26T12:53:24.767Z"
   },
   {
    "duration": 34,
    "start_time": "2024-04-26T12:53:24.771Z"
   },
   {
    "duration": 80,
    "start_time": "2024-04-26T12:53:24.807Z"
   },
   {
    "duration": 17,
    "start_time": "2024-04-26T12:53:24.888Z"
   },
   {
    "duration": 27,
    "start_time": "2024-04-26T12:53:24.906Z"
   },
   {
    "duration": 2110,
    "start_time": "2024-04-26T12:53:24.935Z"
   },
   {
    "duration": 9,
    "start_time": "2024-04-26T12:53:27.047Z"
   },
   {
    "duration": 5,
    "start_time": "2024-04-26T12:53:27.058Z"
   },
   {
    "duration": 3,
    "start_time": "2024-04-26T12:53:27.064Z"
   },
   {
    "duration": 4,
    "start_time": "2024-04-26T12:53:27.068Z"
   },
   {
    "duration": 2,
    "start_time": "2024-04-26T12:53:27.073Z"
   },
   {
    "duration": 3,
    "start_time": "2024-04-26T12:53:27.077Z"
   },
   {
    "duration": 4,
    "start_time": "2024-04-26T12:53:27.084Z"
   },
   {
    "duration": 4,
    "start_time": "2024-04-26T12:53:27.089Z"
   },
   {
    "duration": 2,
    "start_time": "2024-04-26T12:53:27.094Z"
   },
   {
    "duration": 7,
    "start_time": "2024-04-26T12:53:27.097Z"
   },
   {
    "duration": 3,
    "start_time": "2024-04-26T12:53:27.105Z"
   },
   {
    "duration": 12,
    "start_time": "2024-04-26T12:53:27.109Z"
   },
   {
    "duration": 7,
    "start_time": "2024-04-26T12:53:27.122Z"
   },
   {
    "duration": 5,
    "start_time": "2024-04-26T12:53:27.130Z"
   },
   {
    "duration": 5,
    "start_time": "2024-04-26T12:53:27.136Z"
   },
   {
    "duration": 9,
    "start_time": "2024-04-26T12:53:27.142Z"
   },
   {
    "duration": 5,
    "start_time": "2024-04-26T12:53:27.152Z"
   },
   {
    "duration": 26,
    "start_time": "2024-04-26T12:53:27.158Z"
   },
   {
    "duration": 3,
    "start_time": "2024-04-26T12:53:27.185Z"
   },
   {
    "duration": 5,
    "start_time": "2024-04-26T12:53:27.189Z"
   },
   {
    "duration": 12,
    "start_time": "2024-04-26T12:53:27.195Z"
   },
   {
    "duration": 8,
    "start_time": "2024-04-26T12:53:27.208Z"
   },
   {
    "duration": 228,
    "start_time": "2024-04-26T12:53:27.217Z"
   },
   {
    "duration": 8,
    "start_time": "2024-04-26T12:53:27.446Z"
   },
   {
    "duration": 4,
    "start_time": "2024-04-26T12:53:27.455Z"
   },
   {
    "duration": 12,
    "start_time": "2024-04-26T12:53:27.460Z"
   },
   {
    "duration": 12,
    "start_time": "2024-04-26T12:53:27.473Z"
   },
   {
    "duration": 8,
    "start_time": "2024-04-26T12:53:27.486Z"
   },
   {
    "duration": 249,
    "start_time": "2024-04-26T12:53:27.495Z"
   },
   {
    "duration": 4,
    "start_time": "2024-04-26T12:53:27.745Z"
   },
   {
    "duration": 56,
    "start_time": "2024-04-26T12:53:27.750Z"
   },
   {
    "duration": 38,
    "start_time": "2024-04-26T12:53:27.808Z"
   },
   {
    "duration": 7,
    "start_time": "2024-04-26T12:53:27.849Z"
   },
   {
    "duration": 22,
    "start_time": "2024-04-26T12:53:27.857Z"
   },
   {
    "duration": 192,
    "start_time": "2024-04-26T12:53:27.880Z"
   },
   {
    "duration": 7,
    "start_time": "2024-04-26T12:53:28.073Z"
   },
   {
    "duration": 238,
    "start_time": "2024-04-26T12:53:28.084Z"
   },
   {
    "duration": 187,
    "start_time": "2024-04-26T12:53:28.323Z"
   },
   {
    "duration": 6,
    "start_time": "2024-04-26T12:53:28.512Z"
   },
   {
    "duration": 214,
    "start_time": "2024-04-26T12:53:28.520Z"
   },
   {
    "duration": 7,
    "start_time": "2024-04-26T12:53:28.735Z"
   },
   {
    "duration": 190,
    "start_time": "2024-04-26T12:53:28.743Z"
   },
   {
    "duration": 7,
    "start_time": "2024-04-26T12:53:28.935Z"
   },
   {
    "duration": 13,
    "start_time": "2024-04-26T12:53:28.943Z"
   },
   {
    "duration": 21,
    "start_time": "2024-04-26T12:53:28.957Z"
   },
   {
    "duration": 193,
    "start_time": "2024-04-26T12:53:28.980Z"
   },
   {
    "duration": 10,
    "start_time": "2024-04-26T12:53:29.175Z"
   },
   {
    "duration": 111,
    "start_time": "2024-04-26T12:53:29.187Z"
   },
   {
    "duration": 6,
    "start_time": "2024-04-26T12:53:29.300Z"
   },
   {
    "duration": 183,
    "start_time": "2024-04-26T12:53:29.307Z"
   },
   {
    "duration": 3,
    "start_time": "2024-04-26T12:53:29.491Z"
   },
   {
    "duration": 117,
    "start_time": "2024-04-26T12:53:29.495Z"
   },
   {
    "duration": 106,
    "start_time": "2024-04-26T12:53:29.613Z"
   },
   {
    "duration": 8,
    "start_time": "2024-04-26T12:53:29.721Z"
   },
   {
    "duration": 145,
    "start_time": "2024-04-26T12:53:29.730Z"
   },
   {
    "duration": 13,
    "start_time": "2024-04-26T12:53:29.877Z"
   },
   {
    "duration": 135,
    "start_time": "2024-04-26T12:53:29.891Z"
   },
   {
    "duration": 8,
    "start_time": "2024-04-26T12:53:30.027Z"
   },
   {
    "duration": 161,
    "start_time": "2024-04-26T12:53:30.036Z"
   },
   {
    "duration": 7,
    "start_time": "2024-04-26T12:53:30.199Z"
   },
   {
    "duration": 307,
    "start_time": "2024-04-26T12:53:30.207Z"
   },
   {
    "duration": 118,
    "start_time": "2024-04-26T12:53:30.515Z"
   },
   {
    "duration": 14,
    "start_time": "2024-04-26T12:53:30.635Z"
   },
   {
    "duration": 1067,
    "start_time": "2024-04-26T12:53:30.650Z"
   },
   {
    "duration": 118,
    "start_time": "2024-04-26T12:53:31.718Z"
   },
   {
    "duration": 122,
    "start_time": "2024-04-26T12:53:31.837Z"
   },
   {
    "duration": 152,
    "start_time": "2024-04-26T12:53:31.960Z"
   },
   {
    "duration": 137,
    "start_time": "2024-04-26T12:53:32.113Z"
   },
   {
    "duration": 113,
    "start_time": "2024-04-26T12:53:32.251Z"
   },
   {
    "duration": 204,
    "start_time": "2024-04-26T12:53:32.365Z"
   },
   {
    "duration": 123,
    "start_time": "2024-04-26T12:53:32.570Z"
   },
   {
    "duration": 128,
    "start_time": "2024-04-26T12:53:32.694Z"
   },
   {
    "duration": 23,
    "start_time": "2024-04-26T12:53:32.824Z"
   },
   {
    "duration": 192,
    "start_time": "2024-04-26T12:53:32.848Z"
   },
   {
    "duration": 8,
    "start_time": "2024-04-26T13:01:21.353Z"
   },
   {
    "duration": 7,
    "start_time": "2024-04-26T13:01:24.032Z"
   },
   {
    "duration": 403,
    "start_time": "2024-04-26T13:01:34.666Z"
   },
   {
    "duration": 151,
    "start_time": "2024-04-26T13:01:35.071Z"
   },
   {
    "duration": 4,
    "start_time": "2024-04-26T13:01:35.223Z"
   },
   {
    "duration": 15,
    "start_time": "2024-04-26T13:01:35.228Z"
   },
   {
    "duration": 77,
    "start_time": "2024-04-26T13:01:35.244Z"
   },
   {
    "duration": 18,
    "start_time": "2024-04-26T13:01:35.322Z"
   },
   {
    "duration": 33,
    "start_time": "2024-04-26T13:01:35.342Z"
   },
   {
    "duration": 2289,
    "start_time": "2024-04-26T13:01:35.376Z"
   },
   {
    "duration": 8,
    "start_time": "2024-04-26T13:01:37.667Z"
   },
   {
    "duration": 5,
    "start_time": "2024-04-26T13:01:37.677Z"
   },
   {
    "duration": 19,
    "start_time": "2024-04-26T13:01:37.683Z"
   },
   {
    "duration": 6,
    "start_time": "2024-04-26T13:01:37.703Z"
   },
   {
    "duration": 21,
    "start_time": "2024-04-26T13:01:37.710Z"
   },
   {
    "duration": 5,
    "start_time": "2024-04-26T13:01:37.732Z"
   },
   {
    "duration": 8,
    "start_time": "2024-04-26T13:01:37.738Z"
   },
   {
    "duration": 9,
    "start_time": "2024-04-26T13:01:37.747Z"
   },
   {
    "duration": 11,
    "start_time": "2024-04-26T13:01:37.757Z"
   },
   {
    "duration": 27,
    "start_time": "2024-04-26T13:01:37.770Z"
   },
   {
    "duration": 3,
    "start_time": "2024-04-26T13:01:37.798Z"
   },
   {
    "duration": 19,
    "start_time": "2024-04-26T13:01:37.802Z"
   },
   {
    "duration": 12,
    "start_time": "2024-04-26T13:01:37.822Z"
   },
   {
    "duration": 6,
    "start_time": "2024-04-26T13:01:37.836Z"
   },
   {
    "duration": 14,
    "start_time": "2024-04-26T13:01:37.844Z"
   },
   {
    "duration": 7,
    "start_time": "2024-04-26T13:01:37.859Z"
   },
   {
    "duration": 5,
    "start_time": "2024-04-26T13:01:37.868Z"
   },
   {
    "duration": 12,
    "start_time": "2024-04-26T13:01:37.874Z"
   },
   {
    "duration": 6,
    "start_time": "2024-04-26T13:01:37.887Z"
   },
   {
    "duration": 10,
    "start_time": "2024-04-26T13:01:37.897Z"
   },
   {
    "duration": 27,
    "start_time": "2024-04-26T13:01:37.908Z"
   },
   {
    "duration": 21,
    "start_time": "2024-04-26T13:01:37.936Z"
   },
   {
    "duration": 243,
    "start_time": "2024-04-26T13:01:37.958Z"
   },
   {
    "duration": 8,
    "start_time": "2024-04-26T13:01:38.202Z"
   },
   {
    "duration": 14,
    "start_time": "2024-04-26T13:01:38.212Z"
   },
   {
    "duration": 13,
    "start_time": "2024-04-26T13:01:38.227Z"
   },
   {
    "duration": 23,
    "start_time": "2024-04-26T13:01:38.241Z"
   },
   {
    "duration": 4,
    "start_time": "2024-04-26T13:01:38.266Z"
   },
   {
    "duration": 283,
    "start_time": "2024-04-26T13:01:38.272Z"
   },
   {
    "duration": 4,
    "start_time": "2024-04-26T13:01:38.556Z"
   },
   {
    "duration": 25,
    "start_time": "2024-04-26T13:01:38.561Z"
   },
   {
    "duration": 32,
    "start_time": "2024-04-26T13:01:38.587Z"
   },
   {
    "duration": 8,
    "start_time": "2024-04-26T13:01:38.620Z"
   },
   {
    "duration": 22,
    "start_time": "2024-04-26T13:01:38.629Z"
   },
   {
    "duration": 34,
    "start_time": "2024-04-26T13:01:38.652Z"
   },
   {
    "duration": 210,
    "start_time": "2024-04-26T13:01:38.687Z"
   },
   {
    "duration": 7,
    "start_time": "2024-04-26T13:01:38.899Z"
   },
   {
    "duration": 253,
    "start_time": "2024-04-26T13:01:38.907Z"
   },
   {
    "duration": 207,
    "start_time": "2024-04-26T13:01:39.161Z"
   },
   {
    "duration": 17,
    "start_time": "2024-04-26T13:01:39.369Z"
   },
   {
    "duration": 212,
    "start_time": "2024-04-26T13:01:39.387Z"
   },
   {
    "duration": 7,
    "start_time": "2024-04-26T13:01:39.601Z"
   },
   {
    "duration": 195,
    "start_time": "2024-04-26T13:01:39.609Z"
   },
   {
    "duration": 8,
    "start_time": "2024-04-26T13:01:39.805Z"
   },
   {
    "duration": 4,
    "start_time": "2024-04-26T13:01:39.814Z"
   },
   {
    "duration": 17,
    "start_time": "2024-04-26T13:01:39.819Z"
   },
   {
    "duration": 202,
    "start_time": "2024-04-26T13:01:39.837Z"
   },
   {
    "duration": 8,
    "start_time": "2024-04-26T13:01:40.040Z"
   },
   {
    "duration": 119,
    "start_time": "2024-04-26T13:01:40.049Z"
   },
   {
    "duration": 20,
    "start_time": "2024-04-26T13:01:40.169Z"
   },
   {
    "duration": 183,
    "start_time": "2024-04-26T13:01:40.190Z"
   },
   {
    "duration": 10,
    "start_time": "2024-04-26T13:01:40.375Z"
   },
   {
    "duration": 146,
    "start_time": "2024-04-26T13:01:40.386Z"
   },
   {
    "duration": 104,
    "start_time": "2024-04-26T13:01:40.534Z"
   },
   {
    "duration": 6,
    "start_time": "2024-04-26T13:01:40.640Z"
   },
   {
    "duration": 160,
    "start_time": "2024-04-26T13:01:40.647Z"
   },
   {
    "duration": 7,
    "start_time": "2024-04-26T13:01:40.809Z"
   },
   {
    "duration": 143,
    "start_time": "2024-04-26T13:01:40.817Z"
   },
   {
    "duration": 8,
    "start_time": "2024-04-26T13:01:40.961Z"
   },
   {
    "duration": 147,
    "start_time": "2024-04-26T13:01:40.970Z"
   },
   {
    "duration": 8,
    "start_time": "2024-04-26T13:01:41.119Z"
   },
   {
    "duration": 199,
    "start_time": "2024-04-26T13:01:41.128Z"
   },
   {
    "duration": 121,
    "start_time": "2024-04-26T13:01:41.329Z"
   },
   {
    "duration": 14,
    "start_time": "2024-04-26T13:01:41.451Z"
   },
   {
    "duration": 1117,
    "start_time": "2024-04-26T13:01:41.467Z"
   },
   {
    "duration": 132,
    "start_time": "2024-04-26T13:01:42.585Z"
   },
   {
    "duration": 137,
    "start_time": "2024-04-26T13:01:42.719Z"
   },
   {
    "duration": 148,
    "start_time": "2024-04-26T13:01:42.857Z"
   },
   {
    "duration": 142,
    "start_time": "2024-04-26T13:01:43.006Z"
   },
   {
    "duration": 115,
    "start_time": "2024-04-26T13:01:43.150Z"
   },
   {
    "duration": 220,
    "start_time": "2024-04-26T13:01:43.266Z"
   },
   {
    "duration": 127,
    "start_time": "2024-04-26T13:01:43.488Z"
   },
   {
    "duration": 131,
    "start_time": "2024-04-26T13:01:43.617Z"
   },
   {
    "duration": 21,
    "start_time": "2024-04-26T13:01:43.753Z"
   },
   {
    "duration": 203,
    "start_time": "2024-04-26T13:01:43.775Z"
   },
   {
    "duration": 6,
    "start_time": "2024-04-26T13:02:10.225Z"
   },
   {
    "duration": 396,
    "start_time": "2024-04-26T13:02:19.368Z"
   },
   {
    "duration": 123,
    "start_time": "2024-04-26T13:02:19.765Z"
   },
   {
    "duration": 2,
    "start_time": "2024-04-26T13:02:19.889Z"
   },
   {
    "duration": 26,
    "start_time": "2024-04-26T13:02:19.893Z"
   },
   {
    "duration": 65,
    "start_time": "2024-04-26T13:02:19.921Z"
   },
   {
    "duration": 16,
    "start_time": "2024-04-26T13:02:19.988Z"
   },
   {
    "duration": 44,
    "start_time": "2024-04-26T13:02:20.005Z"
   },
   {
    "duration": 2407,
    "start_time": "2024-04-26T13:02:20.050Z"
   },
   {
    "duration": 8,
    "start_time": "2024-04-26T13:02:22.459Z"
   },
   {
    "duration": 25,
    "start_time": "2024-04-26T13:02:22.469Z"
   },
   {
    "duration": 25,
    "start_time": "2024-04-26T13:02:22.495Z"
   },
   {
    "duration": 8,
    "start_time": "2024-04-26T13:02:22.522Z"
   },
   {
    "duration": 7,
    "start_time": "2024-04-26T13:02:22.531Z"
   },
   {
    "duration": 6,
    "start_time": "2024-04-26T13:02:22.539Z"
   },
   {
    "duration": 24,
    "start_time": "2024-04-26T13:02:22.546Z"
   },
   {
    "duration": 20,
    "start_time": "2024-04-26T13:02:22.571Z"
   },
   {
    "duration": 22,
    "start_time": "2024-04-26T13:02:22.592Z"
   },
   {
    "duration": 54,
    "start_time": "2024-04-26T13:02:22.615Z"
   },
   {
    "duration": 36,
    "start_time": "2024-04-26T13:02:22.671Z"
   },
   {
    "duration": 21,
    "start_time": "2024-04-26T13:02:22.708Z"
   },
   {
    "duration": 25,
    "start_time": "2024-04-26T13:02:22.731Z"
   },
   {
    "duration": 35,
    "start_time": "2024-04-26T13:02:22.757Z"
   },
   {
    "duration": 9,
    "start_time": "2024-04-26T13:02:22.794Z"
   },
   {
    "duration": 31,
    "start_time": "2024-04-26T13:02:22.804Z"
   },
   {
    "duration": 13,
    "start_time": "2024-04-26T13:02:22.837Z"
   },
   {
    "duration": 17,
    "start_time": "2024-04-26T13:02:22.851Z"
   },
   {
    "duration": 6,
    "start_time": "2024-04-26T13:02:22.869Z"
   },
   {
    "duration": 7,
    "start_time": "2024-04-26T13:02:22.879Z"
   },
   {
    "duration": 12,
    "start_time": "2024-04-26T13:02:22.887Z"
   },
   {
    "duration": 18,
    "start_time": "2024-04-26T13:02:22.901Z"
   },
   {
    "duration": 254,
    "start_time": "2024-04-26T13:02:22.921Z"
   },
   {
    "duration": 13,
    "start_time": "2024-04-26T13:02:23.177Z"
   },
   {
    "duration": 12,
    "start_time": "2024-04-26T13:02:23.191Z"
   },
   {
    "duration": 14,
    "start_time": "2024-04-26T13:02:23.205Z"
   },
   {
    "duration": 22,
    "start_time": "2024-04-26T13:02:23.221Z"
   },
   {
    "duration": 16,
    "start_time": "2024-04-26T13:02:23.245Z"
   },
   {
    "duration": 281,
    "start_time": "2024-04-26T13:02:23.262Z"
   },
   {
    "duration": 4,
    "start_time": "2024-04-26T13:02:23.544Z"
   },
   {
    "duration": 37,
    "start_time": "2024-04-26T13:02:23.549Z"
   },
   {
    "duration": 74,
    "start_time": "2024-04-26T13:02:23.587Z"
   },
   {
    "duration": 7,
    "start_time": "2024-04-26T13:02:23.662Z"
   },
   {
    "duration": 27,
    "start_time": "2024-04-26T13:02:23.670Z"
   },
   {
    "duration": 35,
    "start_time": "2024-04-26T13:02:23.698Z"
   },
   {
    "duration": 204,
    "start_time": "2024-04-26T13:02:23.734Z"
   },
   {
    "duration": 8,
    "start_time": "2024-04-26T13:02:23.939Z"
   },
   {
    "duration": 268,
    "start_time": "2024-04-26T13:02:23.948Z"
   },
   {
    "duration": 211,
    "start_time": "2024-04-26T13:02:24.217Z"
   },
   {
    "duration": 8,
    "start_time": "2024-04-26T13:02:24.430Z"
   },
   {
    "duration": 236,
    "start_time": "2024-04-26T13:02:24.440Z"
   },
   {
    "duration": 13,
    "start_time": "2024-04-26T13:02:24.678Z"
   },
   {
    "duration": 208,
    "start_time": "2024-04-26T13:02:24.692Z"
   },
   {
    "duration": 8,
    "start_time": "2024-04-26T13:02:24.901Z"
   },
   {
    "duration": 15,
    "start_time": "2024-04-26T13:02:24.910Z"
   },
   {
    "duration": 11,
    "start_time": "2024-04-26T13:02:24.926Z"
   },
   {
    "duration": 207,
    "start_time": "2024-04-26T13:02:24.938Z"
   },
   {
    "duration": 8,
    "start_time": "2024-04-26T13:02:25.146Z"
   },
   {
    "duration": 133,
    "start_time": "2024-04-26T13:02:25.155Z"
   },
   {
    "duration": 8,
    "start_time": "2024-04-26T13:02:25.289Z"
   },
   {
    "duration": 209,
    "start_time": "2024-04-26T13:02:25.298Z"
   },
   {
    "duration": 3,
    "start_time": "2024-04-26T13:02:25.509Z"
   },
   {
    "duration": 151,
    "start_time": "2024-04-26T13:02:25.514Z"
   },
   {
    "duration": 110,
    "start_time": "2024-04-26T13:02:25.667Z"
   },
   {
    "duration": 6,
    "start_time": "2024-04-26T13:02:25.784Z"
   },
   {
    "duration": 156,
    "start_time": "2024-04-26T13:02:25.791Z"
   },
   {
    "duration": 7,
    "start_time": "2024-04-26T13:02:25.949Z"
   },
   {
    "duration": 151,
    "start_time": "2024-04-26T13:02:25.958Z"
   },
   {
    "duration": 8,
    "start_time": "2024-04-26T13:02:26.110Z"
   },
   {
    "duration": 158,
    "start_time": "2024-04-26T13:02:26.119Z"
   },
   {
    "duration": 8,
    "start_time": "2024-04-26T13:02:26.284Z"
   },
   {
    "duration": 210,
    "start_time": "2024-04-26T13:02:26.294Z"
   },
   {
    "duration": 140,
    "start_time": "2024-04-26T13:02:26.506Z"
   },
   {
    "duration": 15,
    "start_time": "2024-04-26T13:02:26.648Z"
   },
   {
    "duration": 1165,
    "start_time": "2024-04-26T13:02:26.664Z"
   },
   {
    "duration": 131,
    "start_time": "2024-04-26T13:02:27.831Z"
   },
   {
    "duration": 137,
    "start_time": "2024-04-26T13:02:27.964Z"
   },
   {
    "duration": 154,
    "start_time": "2024-04-26T13:02:28.102Z"
   },
   {
    "duration": 141,
    "start_time": "2024-04-26T13:02:28.258Z"
   },
   {
    "duration": 126,
    "start_time": "2024-04-26T13:02:28.400Z"
   },
   {
    "duration": 236,
    "start_time": "2024-04-26T13:02:28.528Z"
   },
   {
    "duration": 127,
    "start_time": "2024-04-26T13:02:28.765Z"
   },
   {
    "duration": 128,
    "start_time": "2024-04-26T13:02:28.894Z"
   },
   {
    "duration": 22,
    "start_time": "2024-04-26T13:02:29.028Z"
   },
   {
    "duration": 218,
    "start_time": "2024-04-26T13:02:29.051Z"
   },
   {
    "duration": 323,
    "start_time": "2024-04-26T13:08:13.240Z"
   },
   {
    "duration": 112,
    "start_time": "2024-04-26T13:08:13.564Z"
   },
   {
    "duration": 3,
    "start_time": "2024-04-26T13:08:13.677Z"
   },
   {
    "duration": 53,
    "start_time": "2024-04-26T13:08:13.681Z"
   },
   {
    "duration": 80,
    "start_time": "2024-04-26T13:08:13.736Z"
   },
   {
    "duration": 21,
    "start_time": "2024-04-26T13:08:13.818Z"
   },
   {
    "duration": 42,
    "start_time": "2024-04-26T13:08:13.841Z"
   },
   {
    "duration": 2108,
    "start_time": "2024-04-26T13:08:13.885Z"
   },
   {
    "duration": 8,
    "start_time": "2024-04-26T13:08:15.994Z"
   },
   {
    "duration": 6,
    "start_time": "2024-04-26T13:08:16.003Z"
   },
   {
    "duration": 5,
    "start_time": "2024-04-26T13:08:16.010Z"
   },
   {
    "duration": 7,
    "start_time": "2024-04-26T13:08:16.016Z"
   },
   {
    "duration": 9,
    "start_time": "2024-04-26T13:08:16.024Z"
   },
   {
    "duration": 15,
    "start_time": "2024-04-26T13:08:16.036Z"
   },
   {
    "duration": 10,
    "start_time": "2024-04-26T13:08:16.052Z"
   },
   {
    "duration": 30,
    "start_time": "2024-04-26T13:08:16.064Z"
   },
   {
    "duration": 10,
    "start_time": "2024-04-26T13:08:16.095Z"
   },
   {
    "duration": 12,
    "start_time": "2024-04-26T13:08:16.106Z"
   },
   {
    "duration": 2,
    "start_time": "2024-04-26T13:08:16.120Z"
   },
   {
    "duration": 10,
    "start_time": "2024-04-26T13:08:16.124Z"
   },
   {
    "duration": 22,
    "start_time": "2024-04-26T13:08:16.135Z"
   },
   {
    "duration": 10,
    "start_time": "2024-04-26T13:08:16.159Z"
   },
   {
    "duration": 7,
    "start_time": "2024-04-26T13:08:16.171Z"
   },
   {
    "duration": 7,
    "start_time": "2024-04-26T13:08:16.180Z"
   },
   {
    "duration": 14,
    "start_time": "2024-04-26T13:08:16.189Z"
   },
   {
    "duration": 26,
    "start_time": "2024-04-26T13:08:16.204Z"
   },
   {
    "duration": 11,
    "start_time": "2024-04-26T13:08:16.231Z"
   },
   {
    "duration": 6,
    "start_time": "2024-04-26T13:08:16.243Z"
   },
   {
    "duration": 10,
    "start_time": "2024-04-26T13:08:16.250Z"
   },
   {
    "duration": 8,
    "start_time": "2024-04-26T13:08:16.261Z"
   },
   {
    "duration": 217,
    "start_time": "2024-04-26T13:08:16.270Z"
   },
   {
    "duration": 7,
    "start_time": "2024-04-26T13:08:16.489Z"
   },
   {
    "duration": 12,
    "start_time": "2024-04-26T13:08:16.497Z"
   },
   {
    "duration": 18,
    "start_time": "2024-04-26T13:08:16.510Z"
   },
   {
    "duration": 35,
    "start_time": "2024-04-26T13:08:16.529Z"
   },
   {
    "duration": 14,
    "start_time": "2024-04-26T13:08:16.565Z"
   },
   {
    "duration": 251,
    "start_time": "2024-04-26T13:08:16.580Z"
   },
   {
    "duration": 3,
    "start_time": "2024-04-26T13:08:16.833Z"
   },
   {
    "duration": 20,
    "start_time": "2024-04-26T13:08:16.837Z"
   },
   {
    "duration": 10,
    "start_time": "2024-04-26T13:08:16.858Z"
   },
   {
    "duration": 7,
    "start_time": "2024-04-26T13:08:16.883Z"
   },
   {
    "duration": 31,
    "start_time": "2024-04-26T13:08:16.891Z"
   },
   {
    "duration": 22,
    "start_time": "2024-04-26T13:08:16.923Z"
   },
   {
    "duration": 201,
    "start_time": "2024-04-26T13:08:16.947Z"
   },
   {
    "duration": 7,
    "start_time": "2024-04-26T13:08:17.149Z"
   },
   {
    "duration": 251,
    "start_time": "2024-04-26T13:08:17.158Z"
   },
   {
    "duration": 189,
    "start_time": "2024-04-26T13:08:17.411Z"
   },
   {
    "duration": 7,
    "start_time": "2024-04-26T13:08:17.602Z"
   },
   {
    "duration": 193,
    "start_time": "2024-04-26T13:08:17.611Z"
   },
   {
    "duration": 8,
    "start_time": "2024-04-26T13:08:17.806Z"
   },
   {
    "duration": 196,
    "start_time": "2024-04-26T13:08:17.815Z"
   },
   {
    "duration": 8,
    "start_time": "2024-04-26T13:08:18.013Z"
   },
   {
    "duration": 2,
    "start_time": "2024-04-26T13:08:18.022Z"
   },
   {
    "duration": 7,
    "start_time": "2024-04-26T13:08:18.026Z"
   },
   {
    "duration": 197,
    "start_time": "2024-04-26T13:08:18.035Z"
   },
   {
    "duration": 8,
    "start_time": "2024-04-26T13:08:18.234Z"
   },
   {
    "duration": 118,
    "start_time": "2024-04-26T13:08:18.243Z"
   },
   {
    "duration": 7,
    "start_time": "2024-04-26T13:08:18.363Z"
   },
   {
    "duration": 194,
    "start_time": "2024-04-26T13:08:18.372Z"
   },
   {
    "duration": 3,
    "start_time": "2024-04-26T13:08:18.568Z"
   },
   {
    "duration": 103,
    "start_time": "2024-04-26T13:08:18.584Z"
   },
   {
    "duration": 103,
    "start_time": "2024-04-26T13:08:18.689Z"
   },
   {
    "duration": 7,
    "start_time": "2024-04-26T13:08:18.793Z"
   },
   {
    "duration": 145,
    "start_time": "2024-04-26T13:08:18.801Z"
   },
   {
    "duration": 8,
    "start_time": "2024-04-26T13:08:18.947Z"
   },
   {
    "duration": 132,
    "start_time": "2024-04-26T13:08:18.956Z"
   },
   {
    "duration": 7,
    "start_time": "2024-04-26T13:08:19.090Z"
   },
   {
    "duration": 137,
    "start_time": "2024-04-26T13:08:19.098Z"
   },
   {
    "duration": 7,
    "start_time": "2024-04-26T13:08:19.236Z"
   },
   {
    "duration": 186,
    "start_time": "2024-04-26T13:08:19.244Z"
   },
   {
    "duration": 119,
    "start_time": "2024-04-26T13:08:19.432Z"
   },
   {
    "duration": 13,
    "start_time": "2024-04-26T13:08:19.552Z"
   },
   {
    "duration": 1040,
    "start_time": "2024-04-26T13:08:19.566Z"
   },
   {
    "duration": 125,
    "start_time": "2024-04-26T13:08:20.607Z"
   },
   {
    "duration": 129,
    "start_time": "2024-04-26T13:08:20.734Z"
   },
   {
    "duration": 135,
    "start_time": "2024-04-26T13:08:20.864Z"
   },
   {
    "duration": 126,
    "start_time": "2024-04-26T13:08:21.001Z"
   },
   {
    "duration": 113,
    "start_time": "2024-04-26T13:08:21.128Z"
   },
   {
    "duration": 205,
    "start_time": "2024-04-26T13:08:21.243Z"
   },
   {
    "duration": 119,
    "start_time": "2024-04-26T13:08:21.450Z"
   },
   {
    "duration": 120,
    "start_time": "2024-04-26T13:08:21.571Z"
   },
   {
    "duration": 21,
    "start_time": "2024-04-26T13:08:21.692Z"
   },
   {
    "duration": 187,
    "start_time": "2024-04-26T13:08:21.714Z"
   },
   {
    "duration": 31,
    "start_time": "2024-04-26T13:08:33.308Z"
   },
   {
    "duration": 30,
    "start_time": "2024-04-26T13:09:11.580Z"
   },
   {
    "duration": 329,
    "start_time": "2024-04-26T13:09:34.639Z"
   },
   {
    "duration": 128,
    "start_time": "2024-04-26T13:09:34.970Z"
   },
   {
    "duration": 3,
    "start_time": "2024-04-26T13:09:35.100Z"
   },
   {
    "duration": 19,
    "start_time": "2024-04-26T13:09:35.104Z"
   },
   {
    "duration": 60,
    "start_time": "2024-04-26T13:09:35.124Z"
   },
   {
    "duration": 16,
    "start_time": "2024-04-26T13:09:35.185Z"
   },
   {
    "duration": 24,
    "start_time": "2024-04-26T13:09:35.203Z"
   },
   {
    "duration": 2112,
    "start_time": "2024-04-26T13:09:35.228Z"
   },
   {
    "duration": 11,
    "start_time": "2024-04-26T13:09:37.342Z"
   },
   {
    "duration": 18,
    "start_time": "2024-04-26T13:09:37.356Z"
   },
   {
    "duration": 3,
    "start_time": "2024-04-26T13:09:37.376Z"
   },
   {
    "duration": 12,
    "start_time": "2024-04-26T13:09:37.380Z"
   },
   {
    "duration": 8,
    "start_time": "2024-04-26T13:09:37.393Z"
   },
   {
    "duration": 10,
    "start_time": "2024-04-26T13:09:37.402Z"
   },
   {
    "duration": 5,
    "start_time": "2024-04-26T13:09:37.413Z"
   },
   {
    "duration": 5,
    "start_time": "2024-04-26T13:09:37.419Z"
   },
   {
    "duration": 4,
    "start_time": "2024-04-26T13:09:37.425Z"
   },
   {
    "duration": 11,
    "start_time": "2024-04-26T13:09:37.430Z"
   },
   {
    "duration": 14,
    "start_time": "2024-04-26T13:09:37.442Z"
   },
   {
    "duration": 15,
    "start_time": "2024-04-26T13:09:37.457Z"
   },
   {
    "duration": 42,
    "start_time": "2024-04-26T13:09:37.473Z"
   },
   {
    "duration": 26,
    "start_time": "2024-04-26T13:09:37.516Z"
   },
   {
    "duration": 41,
    "start_time": "2024-04-26T13:09:37.543Z"
   },
   {
    "duration": 16,
    "start_time": "2024-04-26T13:09:37.585Z"
   },
   {
    "duration": 22,
    "start_time": "2024-04-26T13:09:37.602Z"
   },
   {
    "duration": 20,
    "start_time": "2024-04-26T13:09:37.625Z"
   },
   {
    "duration": 16,
    "start_time": "2024-04-26T13:09:37.647Z"
   },
   {
    "duration": 18,
    "start_time": "2024-04-26T13:09:37.667Z"
   },
   {
    "duration": 40,
    "start_time": "2024-04-26T13:09:37.686Z"
   },
   {
    "duration": 16,
    "start_time": "2024-04-26T13:09:37.727Z"
   },
   {
    "duration": 241,
    "start_time": "2024-04-26T13:09:37.744Z"
   },
   {
    "duration": 7,
    "start_time": "2024-04-26T13:09:37.986Z"
   },
   {
    "duration": 23,
    "start_time": "2024-04-26T13:09:37.994Z"
   },
   {
    "duration": 6,
    "start_time": "2024-04-26T13:09:38.018Z"
   },
   {
    "duration": 13,
    "start_time": "2024-04-26T13:09:38.025Z"
   },
   {
    "duration": 4,
    "start_time": "2024-04-26T13:09:38.039Z"
   },
   {
    "duration": 263,
    "start_time": "2024-04-26T13:09:38.044Z"
   },
   {
    "duration": 4,
    "start_time": "2024-04-26T13:09:38.308Z"
   },
   {
    "duration": 33,
    "start_time": "2024-04-26T13:09:38.313Z"
   },
   {
    "duration": 35,
    "start_time": "2024-04-26T13:09:38.347Z"
   },
   {
    "duration": 6,
    "start_time": "2024-04-26T13:09:38.383Z"
   },
   {
    "duration": 16,
    "start_time": "2024-04-26T13:09:38.391Z"
   },
   {
    "duration": 21,
    "start_time": "2024-04-26T13:09:38.409Z"
   },
   {
    "duration": 198,
    "start_time": "2024-04-26T13:09:38.431Z"
   },
   {
    "duration": 8,
    "start_time": "2024-04-26T13:09:38.630Z"
   },
   {
    "duration": 259,
    "start_time": "2024-04-26T13:09:38.639Z"
   },
   {
    "duration": 197,
    "start_time": "2024-04-26T13:09:38.900Z"
   },
   {
    "duration": 6,
    "start_time": "2024-04-26T13:09:39.098Z"
   },
   {
    "duration": 191,
    "start_time": "2024-04-26T13:09:39.106Z"
   },
   {
    "duration": 7,
    "start_time": "2024-04-26T13:09:39.298Z"
   },
   {
    "duration": 211,
    "start_time": "2024-04-26T13:09:39.306Z"
   },
   {
    "duration": 7,
    "start_time": "2024-04-26T13:09:39.519Z"
   },
   {
    "duration": 8,
    "start_time": "2024-04-26T13:09:39.527Z"
   },
   {
    "duration": 15,
    "start_time": "2024-04-26T13:09:39.536Z"
   },
   {
    "duration": 185,
    "start_time": "2024-04-26T13:09:39.553Z"
   },
   {
    "duration": 8,
    "start_time": "2024-04-26T13:09:39.739Z"
   },
   {
    "duration": 115,
    "start_time": "2024-04-26T13:09:39.748Z"
   },
   {
    "duration": 7,
    "start_time": "2024-04-26T13:09:39.864Z"
   },
   {
    "duration": 186,
    "start_time": "2024-04-26T13:09:39.872Z"
   },
   {
    "duration": 3,
    "start_time": "2024-04-26T13:09:40.060Z"
   },
   {
    "duration": 142,
    "start_time": "2024-04-26T13:09:40.064Z"
   },
   {
    "duration": 98,
    "start_time": "2024-04-26T13:09:40.208Z"
   },
   {
    "duration": 7,
    "start_time": "2024-04-26T13:09:40.308Z"
   },
   {
    "duration": 145,
    "start_time": "2024-04-26T13:09:40.316Z"
   },
   {
    "duration": 8,
    "start_time": "2024-04-26T13:09:40.462Z"
   },
   {
    "duration": 132,
    "start_time": "2024-04-26T13:09:40.471Z"
   },
   {
    "duration": 8,
    "start_time": "2024-04-26T13:09:40.604Z"
   },
   {
    "duration": 154,
    "start_time": "2024-04-26T13:09:40.613Z"
   },
   {
    "duration": 10,
    "start_time": "2024-04-26T13:09:40.768Z"
   },
   {
    "duration": 183,
    "start_time": "2024-04-26T13:09:40.785Z"
   },
   {
    "duration": 119,
    "start_time": "2024-04-26T13:09:40.969Z"
   },
   {
    "duration": 14,
    "start_time": "2024-04-26T13:09:41.089Z"
   },
   {
    "duration": 1043,
    "start_time": "2024-04-26T13:09:41.105Z"
   },
   {
    "duration": 136,
    "start_time": "2024-04-26T13:09:42.149Z"
   },
   {
    "duration": 124,
    "start_time": "2024-04-26T13:09:42.286Z"
   },
   {
    "duration": 145,
    "start_time": "2024-04-26T13:09:42.412Z"
   },
   {
    "duration": 139,
    "start_time": "2024-04-26T13:09:42.559Z"
   },
   {
    "duration": 140,
    "start_time": "2024-04-26T13:09:42.700Z"
   },
   {
    "duration": 214,
    "start_time": "2024-04-26T13:09:42.841Z"
   },
   {
    "duration": 118,
    "start_time": "2024-04-26T13:09:43.056Z"
   },
   {
    "duration": 122,
    "start_time": "2024-04-26T13:09:43.175Z"
   },
   {
    "duration": 21,
    "start_time": "2024-04-26T13:09:43.302Z"
   },
   {
    "duration": 186,
    "start_time": "2024-04-26T13:09:43.324Z"
   },
   {
    "duration": 398,
    "start_time": "2024-04-26T13:18:02.868Z"
   },
   {
    "duration": 134,
    "start_time": "2024-04-26T13:18:09.771Z"
   },
   {
    "duration": 123,
    "start_time": "2024-04-26T13:18:20.063Z"
   },
   {
    "duration": 121,
    "start_time": "2024-04-26T13:18:23.508Z"
   },
   {
    "duration": 142,
    "start_time": "2024-04-26T13:18:30.163Z"
   },
   {
    "duration": 80,
    "start_time": "2024-04-26T13:18:53.282Z"
   },
   {
    "duration": 19998,
    "start_time": "2024-04-26T13:19:04.549Z"
   },
   {
    "duration": 172,
    "start_time": "2024-04-26T13:19:33.744Z"
   },
   {
    "duration": 385,
    "start_time": "2024-04-26T13:21:25.509Z"
   },
   {
    "duration": 115,
    "start_time": "2024-04-26T13:21:25.896Z"
   },
   {
    "duration": 3,
    "start_time": "2024-04-26T13:21:26.012Z"
   },
   {
    "duration": 13,
    "start_time": "2024-04-26T13:21:26.017Z"
   },
   {
    "duration": 83,
    "start_time": "2024-04-26T13:21:26.032Z"
   },
   {
    "duration": 18,
    "start_time": "2024-04-26T13:21:26.117Z"
   },
   {
    "duration": 16,
    "start_time": "2024-04-26T13:21:26.136Z"
   },
   {
    "duration": 2347,
    "start_time": "2024-04-26T13:21:26.154Z"
   },
   {
    "duration": 8,
    "start_time": "2024-04-26T13:21:28.503Z"
   },
   {
    "duration": 5,
    "start_time": "2024-04-26T13:21:28.513Z"
   },
   {
    "duration": 6,
    "start_time": "2024-04-26T13:21:28.519Z"
   },
   {
    "duration": 10,
    "start_time": "2024-04-26T13:21:28.526Z"
   },
   {
    "duration": 5,
    "start_time": "2024-04-26T13:21:28.537Z"
   },
   {
    "duration": 8,
    "start_time": "2024-04-26T13:21:28.543Z"
   },
   {
    "duration": 7,
    "start_time": "2024-04-26T13:21:28.552Z"
   },
   {
    "duration": 12,
    "start_time": "2024-04-26T13:21:28.560Z"
   },
   {
    "duration": 7,
    "start_time": "2024-04-26T13:21:28.573Z"
   },
   {
    "duration": 11,
    "start_time": "2024-04-26T13:21:28.581Z"
   },
   {
    "duration": 3,
    "start_time": "2024-04-26T13:21:28.594Z"
   },
   {
    "duration": 8,
    "start_time": "2024-04-26T13:21:28.598Z"
   },
   {
    "duration": 7,
    "start_time": "2024-04-26T13:21:28.608Z"
   },
   {
    "duration": 6,
    "start_time": "2024-04-26T13:21:28.616Z"
   },
   {
    "duration": 5,
    "start_time": "2024-04-26T13:21:28.623Z"
   },
   {
    "duration": 6,
    "start_time": "2024-04-26T13:21:28.630Z"
   },
   {
    "duration": 6,
    "start_time": "2024-04-26T13:21:28.638Z"
   },
   {
    "duration": 7,
    "start_time": "2024-04-26T13:21:28.645Z"
   },
   {
    "duration": 3,
    "start_time": "2024-04-26T13:21:28.654Z"
   },
   {
    "duration": 26,
    "start_time": "2024-04-26T13:21:28.661Z"
   },
   {
    "duration": 4,
    "start_time": "2024-04-26T13:21:28.689Z"
   },
   {
    "duration": 8,
    "start_time": "2024-04-26T13:21:28.695Z"
   },
   {
    "duration": 283,
    "start_time": "2024-04-26T13:21:28.705Z"
   },
   {
    "duration": 9,
    "start_time": "2024-04-26T13:21:28.990Z"
   },
   {
    "duration": 13,
    "start_time": "2024-04-26T13:21:29.001Z"
   },
   {
    "duration": 13,
    "start_time": "2024-04-26T13:21:29.015Z"
   },
   {
    "duration": 17,
    "start_time": "2024-04-26T13:21:29.029Z"
   },
   {
    "duration": 6,
    "start_time": "2024-04-26T13:21:29.047Z"
   },
   {
    "duration": 292,
    "start_time": "2024-04-26T13:21:29.054Z"
   },
   {
    "duration": 3,
    "start_time": "2024-04-26T13:21:29.348Z"
   },
   {
    "duration": 38,
    "start_time": "2024-04-26T13:21:29.352Z"
   },
   {
    "duration": 34,
    "start_time": "2024-04-26T13:21:29.392Z"
   },
   {
    "duration": 7,
    "start_time": "2024-04-26T13:21:29.427Z"
   },
   {
    "duration": 7,
    "start_time": "2024-04-26T13:21:29.435Z"
   },
   {
    "duration": 48,
    "start_time": "2024-04-26T13:21:29.444Z"
   },
   {
    "duration": 221,
    "start_time": "2024-04-26T13:21:29.493Z"
   },
   {
    "duration": 7,
    "start_time": "2024-04-26T13:21:29.716Z"
   },
   {
    "duration": 276,
    "start_time": "2024-04-26T13:21:29.724Z"
   },
   {
    "duration": 215,
    "start_time": "2024-04-26T13:21:30.001Z"
   },
   {
    "duration": 8,
    "start_time": "2024-04-26T13:21:30.218Z"
   },
   {
    "duration": 310,
    "start_time": "2024-04-26T13:21:30.228Z"
   },
   {
    "duration": 9,
    "start_time": "2024-04-26T13:21:30.539Z"
   },
   {
    "duration": 316,
    "start_time": "2024-04-26T13:21:30.549Z"
   },
   {
    "duration": 7,
    "start_time": "2024-04-26T13:21:30.867Z"
   },
   {
    "duration": 90,
    "start_time": "2024-04-26T13:21:30.884Z"
   },
   {
    "duration": 52,
    "start_time": "2024-04-26T13:21:30.975Z"
   },
   {
    "duration": 368,
    "start_time": "2024-04-26T13:21:31.028Z"
   },
   {
    "duration": 8,
    "start_time": "2024-04-26T13:21:31.397Z"
   },
   {
    "duration": 208,
    "start_time": "2024-04-26T13:21:31.407Z"
   },
   {
    "duration": 9,
    "start_time": "2024-04-26T13:21:31.616Z"
   },
   {
    "duration": 223,
    "start_time": "2024-04-26T13:21:31.626Z"
   },
   {
    "duration": 4,
    "start_time": "2024-04-26T13:21:31.850Z"
   },
   {
    "duration": 136,
    "start_time": "2024-04-26T13:21:31.855Z"
   },
   {
    "duration": 114,
    "start_time": "2024-04-26T13:21:31.993Z"
   },
   {
    "duration": 7,
    "start_time": "2024-04-26T13:21:32.108Z"
   },
   {
    "duration": 172,
    "start_time": "2024-04-26T13:21:32.117Z"
   },
   {
    "duration": 8,
    "start_time": "2024-04-26T13:21:32.291Z"
   },
   {
    "duration": 171,
    "start_time": "2024-04-26T13:21:32.300Z"
   },
   {
    "duration": 15,
    "start_time": "2024-04-26T13:21:32.472Z"
   },
   {
    "duration": 163,
    "start_time": "2024-04-26T13:21:32.489Z"
   },
   {
    "duration": 9,
    "start_time": "2024-04-26T13:21:32.653Z"
   },
   {
    "duration": 229,
    "start_time": "2024-04-26T13:21:32.664Z"
   },
   {
    "duration": 136,
    "start_time": "2024-04-26T13:21:32.895Z"
   },
   {
    "duration": 15,
    "start_time": "2024-04-26T13:21:33.033Z"
   },
   {
    "duration": 1199,
    "start_time": "2024-04-26T13:21:33.049Z"
   },
   {
    "duration": 138,
    "start_time": "2024-04-26T13:21:34.250Z"
   },
   {
    "duration": 148,
    "start_time": "2024-04-26T13:21:34.390Z"
   },
   {
    "duration": 161,
    "start_time": "2024-04-26T13:21:34.540Z"
   },
   {
    "duration": 156,
    "start_time": "2024-04-26T13:21:34.706Z"
   },
   {
    "duration": 126,
    "start_time": "2024-04-26T13:21:34.863Z"
   },
   {
    "duration": 233,
    "start_time": "2024-04-26T13:21:34.991Z"
   },
   {
    "duration": 132,
    "start_time": "2024-04-26T13:21:35.226Z"
   },
   {
    "duration": 139,
    "start_time": "2024-04-26T13:21:35.359Z"
   },
   {
    "duration": 24,
    "start_time": "2024-04-26T13:21:35.503Z"
   },
   {
    "duration": 169,
    "start_time": "2024-04-26T13:21:35.528Z"
   },
   {
    "duration": 2,
    "start_time": "2024-04-26T13:22:20.893Z"
   },
   {
    "duration": 116,
    "start_time": "2024-04-26T13:22:22.006Z"
   },
   {
    "duration": 2,
    "start_time": "2024-04-26T13:22:29.069Z"
   },
   {
    "duration": 7,
    "start_time": "2024-04-26T13:22:35.415Z"
   },
   {
    "duration": 86,
    "start_time": "2024-04-26T13:22:50.791Z"
   },
   {
    "duration": 19,
    "start_time": "2024-04-26T13:22:54.041Z"
   },
   {
    "duration": 13,
    "start_time": "2024-04-26T13:23:04.838Z"
   },
   {
    "duration": 2180,
    "start_time": "2024-04-26T13:23:10.678Z"
   },
   {
    "duration": 10,
    "start_time": "2024-04-26T13:24:07.382Z"
   },
   {
    "duration": 5,
    "start_time": "2024-04-26T13:24:16.710Z"
   },
   {
    "duration": 2,
    "start_time": "2024-04-26T13:24:22.717Z"
   },
   {
    "duration": 3,
    "start_time": "2024-04-26T13:24:24.900Z"
   },
   {
    "duration": 2,
    "start_time": "2024-04-26T13:24:37.392Z"
   },
   {
    "duration": 3,
    "start_time": "2024-04-26T13:24:41.386Z"
   },
   {
    "duration": 4,
    "start_time": "2024-04-26T13:24:43.877Z"
   },
   {
    "duration": 3,
    "start_time": "2024-04-26T13:24:45.579Z"
   },
   {
    "duration": 3,
    "start_time": "2024-04-26T13:24:45.785Z"
   },
   {
    "duration": 8,
    "start_time": "2024-04-26T13:24:54.856Z"
   },
   {
    "duration": 3,
    "start_time": "2024-04-26T13:24:59.559Z"
   },
   {
    "duration": 4,
    "start_time": "2024-04-26T13:24:59.955Z"
   },
   {
    "duration": 7,
    "start_time": "2024-04-26T13:25:14.583Z"
   },
   {
    "duration": 4,
    "start_time": "2024-04-26T13:25:14.982Z"
   },
   {
    "duration": 5,
    "start_time": "2024-04-26T13:25:17.540Z"
   },
   {
    "duration": 5,
    "start_time": "2024-04-26T13:25:20.065Z"
   },
   {
    "duration": 4,
    "start_time": "2024-04-26T13:25:21.729Z"
   },
   {
    "duration": 3,
    "start_time": "2024-04-26T13:25:23.762Z"
   },
   {
    "duration": 3,
    "start_time": "2024-04-26T13:25:26.271Z"
   },
   {
    "duration": 3,
    "start_time": "2024-04-26T13:25:26.495Z"
   },
   {
    "duration": 3,
    "start_time": "2024-04-26T13:25:26.951Z"
   },
   {
    "duration": 6,
    "start_time": "2024-04-26T13:25:30.973Z"
   },
   {
    "duration": 222,
    "start_time": "2024-04-26T13:25:35.858Z"
   },
   {
    "duration": 8,
    "start_time": "2024-04-26T13:25:38.185Z"
   },
   {
    "duration": 3,
    "start_time": "2024-04-26T13:25:43.790Z"
   },
   {
    "duration": 5,
    "start_time": "2024-04-26T13:25:44.065Z"
   },
   {
    "duration": 5,
    "start_time": "2024-04-26T13:25:44.358Z"
   },
   {
    "duration": 4,
    "start_time": "2024-04-26T13:25:44.657Z"
   },
   {
    "duration": 253,
    "start_time": "2024-04-26T13:25:47.071Z"
   },
   {
    "duration": 3,
    "start_time": "2024-04-26T13:25:51.048Z"
   },
   {
    "duration": 18,
    "start_time": "2024-04-26T13:25:53.232Z"
   },
   {
    "duration": 29,
    "start_time": "2024-04-26T13:26:02.820Z"
   },
   {
    "duration": 8,
    "start_time": "2024-04-26T13:26:08.588Z"
   },
   {
    "duration": 8,
    "start_time": "2024-04-26T13:26:12.723Z"
   },
   {
    "duration": 24,
    "start_time": "2024-04-26T13:26:18.417Z"
   },
   {
    "duration": 197,
    "start_time": "2024-04-26T13:26:20.351Z"
   },
   {
    "duration": 9,
    "start_time": "2024-04-26T13:26:25.483Z"
   },
   {
    "duration": 174,
    "start_time": "2024-04-26T13:26:28.894Z"
   },
   {
    "duration": 191,
    "start_time": "2024-04-26T13:26:45.431Z"
   },
   {
    "duration": 6,
    "start_time": "2024-04-26T13:26:46.465Z"
   },
   {
    "duration": 285,
    "start_time": "2024-04-26T13:26:55.784Z"
   },
   {
    "duration": 7,
    "start_time": "2024-04-26T13:27:03.021Z"
   },
   {
    "duration": 186,
    "start_time": "2024-04-26T13:27:06.291Z"
   },
   {
    "duration": 7,
    "start_time": "2024-04-26T13:27:13.121Z"
   },
   {
    "duration": 2,
    "start_time": "2024-04-26T13:27:14.636Z"
   },
   {
    "duration": 2,
    "start_time": "2024-04-26T13:27:18.101Z"
   },
   {
    "duration": 196,
    "start_time": "2024-04-26T13:27:18.598Z"
   },
   {
    "duration": 7,
    "start_time": "2024-04-26T13:27:23.995Z"
   },
   {
    "duration": 106,
    "start_time": "2024-04-26T13:27:27.230Z"
   },
   {
    "duration": 9,
    "start_time": "2024-04-26T13:27:32.116Z"
   },
   {
    "duration": 139,
    "start_time": "2024-04-26T13:27:41.184Z"
   },
   {
    "duration": 2,
    "start_time": "2024-04-26T13:28:31.169Z"
   },
   {
    "duration": 2,
    "start_time": "2024-04-26T13:28:31.741Z"
   },
   {
    "duration": 98,
    "start_time": "2024-04-26T13:28:41.740Z"
   },
   {
    "duration": 8,
    "start_time": "2024-04-26T13:28:50.283Z"
   },
   {
    "duration": 130,
    "start_time": "2024-04-26T13:28:54.016Z"
   },
   {
    "duration": 7,
    "start_time": "2024-04-26T13:29:03.074Z"
   },
   {
    "duration": 128,
    "start_time": "2024-04-26T13:29:03.615Z"
   },
   {
    "duration": 9,
    "start_time": "2024-04-26T13:29:07.647Z"
   },
   {
    "duration": 136,
    "start_time": "2024-04-26T13:29:08.180Z"
   },
   {
    "duration": 7,
    "start_time": "2024-04-26T13:30:14.772Z"
   },
   {
    "duration": 277,
    "start_time": "2024-04-26T13:30:21.327Z"
   },
   {
    "duration": 116,
    "start_time": "2024-04-26T13:30:27.731Z"
   },
   {
    "duration": 14,
    "start_time": "2024-04-26T13:30:33.983Z"
   },
   {
    "duration": 994,
    "start_time": "2024-04-26T13:30:39.264Z"
   },
   {
    "duration": 111,
    "start_time": "2024-04-26T13:30:42.899Z"
   },
   {
    "duration": 121,
    "start_time": "2024-04-26T13:30:46.747Z"
   },
   {
    "duration": 130,
    "start_time": "2024-04-26T13:30:48.040Z"
   },
   {
    "duration": 259,
    "start_time": "2024-04-26T13:30:51.581Z"
   },
   {
    "duration": 121,
    "start_time": "2024-04-26T13:30:56.174Z"
   },
   {
    "duration": 120,
    "start_time": "2024-04-26T13:30:58.833Z"
   },
   {
    "duration": 114,
    "start_time": "2024-04-26T13:31:01.413Z"
   },
   {
    "duration": 111,
    "start_time": "2024-04-26T13:31:03.454Z"
   },
   {
    "duration": 393,
    "start_time": "2024-04-26T13:36:06.186Z"
   },
   {
    "duration": 133,
    "start_time": "2024-04-26T13:36:06.581Z"
   },
   {
    "duration": 3,
    "start_time": "2024-04-26T13:36:06.715Z"
   },
   {
    "duration": 12,
    "start_time": "2024-04-26T13:36:06.720Z"
   },
   {
    "duration": 79,
    "start_time": "2024-04-26T13:36:06.733Z"
   },
   {
    "duration": 17,
    "start_time": "2024-04-26T13:36:06.814Z"
   },
   {
    "duration": 12,
    "start_time": "2024-04-26T13:36:06.832Z"
   },
   {
    "duration": 2244,
    "start_time": "2024-04-26T13:36:06.846Z"
   },
   {
    "duration": 8,
    "start_time": "2024-04-26T13:36:09.091Z"
   },
   {
    "duration": 36,
    "start_time": "2024-04-26T13:36:09.101Z"
   },
   {
    "duration": 29,
    "start_time": "2024-04-26T13:36:09.139Z"
   },
   {
    "duration": 36,
    "start_time": "2024-04-26T13:36:09.169Z"
   },
   {
    "duration": 16,
    "start_time": "2024-04-26T13:36:09.206Z"
   },
   {
    "duration": 43,
    "start_time": "2024-04-26T13:36:09.223Z"
   },
   {
    "duration": 55,
    "start_time": "2024-04-26T13:36:09.268Z"
   },
   {
    "duration": 6,
    "start_time": "2024-04-26T13:36:09.325Z"
   },
   {
    "duration": 29,
    "start_time": "2024-04-26T13:36:09.332Z"
   },
   {
    "duration": 26,
    "start_time": "2024-04-26T13:36:09.362Z"
   },
   {
    "duration": 9,
    "start_time": "2024-04-26T13:36:09.389Z"
   },
   {
    "duration": 30,
    "start_time": "2024-04-26T13:36:09.399Z"
   },
   {
    "duration": 40,
    "start_time": "2024-04-26T13:36:09.430Z"
   },
   {
    "duration": 27,
    "start_time": "2024-04-26T13:36:09.471Z"
   },
   {
    "duration": 27,
    "start_time": "2024-04-26T13:36:09.500Z"
   },
   {
    "duration": 39,
    "start_time": "2024-04-26T13:36:09.528Z"
   },
   {
    "duration": 31,
    "start_time": "2024-04-26T13:36:09.568Z"
   },
   {
    "duration": 49,
    "start_time": "2024-04-26T13:36:09.600Z"
   },
   {
    "duration": 20,
    "start_time": "2024-04-26T13:36:09.650Z"
   },
   {
    "duration": 27,
    "start_time": "2024-04-26T13:36:09.674Z"
   },
   {
    "duration": 28,
    "start_time": "2024-04-26T13:36:09.703Z"
   },
   {
    "duration": 51,
    "start_time": "2024-04-26T13:36:09.732Z"
   },
   {
    "duration": 277,
    "start_time": "2024-04-26T13:36:09.785Z"
   },
   {
    "duration": 8,
    "start_time": "2024-04-26T13:36:10.063Z"
   },
   {
    "duration": 44,
    "start_time": "2024-04-26T13:36:10.072Z"
   },
   {
    "duration": 24,
    "start_time": "2024-04-26T13:36:10.118Z"
   },
   {
    "duration": 30,
    "start_time": "2024-04-26T13:36:10.144Z"
   },
   {
    "duration": 19,
    "start_time": "2024-04-26T13:36:10.176Z"
   },
   {
    "duration": 310,
    "start_time": "2024-04-26T13:36:10.197Z"
   },
   {
    "duration": 4,
    "start_time": "2024-04-26T13:36:10.509Z"
   },
   {
    "duration": 43,
    "start_time": "2024-04-26T13:36:10.514Z"
   },
   {
    "duration": 50,
    "start_time": "2024-04-26T13:36:10.558Z"
   },
   {
    "duration": 7,
    "start_time": "2024-04-26T13:36:10.609Z"
   },
   {
    "duration": 41,
    "start_time": "2024-04-26T13:36:10.617Z"
   },
   {
    "duration": 49,
    "start_time": "2024-04-26T13:36:10.659Z"
   },
   {
    "duration": 215,
    "start_time": "2024-04-26T13:36:10.709Z"
   },
   {
    "duration": 8,
    "start_time": "2024-04-26T13:36:10.925Z"
   },
   {
    "duration": 267,
    "start_time": "2024-04-26T13:36:10.934Z"
   },
   {
    "duration": 199,
    "start_time": "2024-04-26T13:36:11.202Z"
   },
   {
    "duration": 7,
    "start_time": "2024-04-26T13:36:11.402Z"
   },
   {
    "duration": 211,
    "start_time": "2024-04-26T13:36:11.410Z"
   },
   {
    "duration": 7,
    "start_time": "2024-04-26T13:36:11.622Z"
   },
   {
    "duration": 198,
    "start_time": "2024-04-26T13:36:11.631Z"
   },
   {
    "duration": 8,
    "start_time": "2024-04-26T13:36:11.831Z"
   },
   {
    "duration": 43,
    "start_time": "2024-04-26T13:36:11.840Z"
   },
   {
    "duration": 45,
    "start_time": "2024-04-26T13:36:11.884Z"
   },
   {
    "duration": 217,
    "start_time": "2024-04-26T13:36:11.931Z"
   },
   {
    "duration": 8,
    "start_time": "2024-04-26T13:36:12.149Z"
   },
   {
    "duration": 139,
    "start_time": "2024-04-26T13:36:12.158Z"
   },
   {
    "duration": 8,
    "start_time": "2024-04-26T13:36:12.298Z"
   },
   {
    "duration": 200,
    "start_time": "2024-04-26T13:36:12.307Z"
   },
   {
    "duration": 2,
    "start_time": "2024-04-26T13:36:12.509Z"
   },
   {
    "duration": 38,
    "start_time": "2024-04-26T13:36:12.512Z"
   },
   {
    "duration": 119,
    "start_time": "2024-04-26T13:36:12.551Z"
   },
   {
    "duration": 18,
    "start_time": "2024-04-26T13:36:12.672Z"
   },
   {
    "duration": 155,
    "start_time": "2024-04-26T13:36:12.692Z"
   },
   {
    "duration": 8,
    "start_time": "2024-04-26T13:36:12.848Z"
   },
   {
    "duration": 147,
    "start_time": "2024-04-26T13:36:12.857Z"
   },
   {
    "duration": 8,
    "start_time": "2024-04-26T13:36:13.005Z"
   },
   {
    "duration": 152,
    "start_time": "2024-04-26T13:36:13.014Z"
   },
   {
    "duration": 17,
    "start_time": "2024-04-26T13:36:13.168Z"
   },
   {
    "duration": 191,
    "start_time": "2024-04-26T13:36:13.186Z"
   },
   {
    "duration": 128,
    "start_time": "2024-04-26T13:36:13.378Z"
   },
   {
    "duration": 15,
    "start_time": "2024-04-26T13:36:13.508Z"
   },
   {
    "duration": 1117,
    "start_time": "2024-04-26T13:36:13.524Z"
   },
   {
    "duration": 125,
    "start_time": "2024-04-26T13:36:14.643Z"
   },
   {
    "duration": 132,
    "start_time": "2024-04-26T13:36:14.770Z"
   },
   {
    "duration": 145,
    "start_time": "2024-04-26T13:36:14.903Z"
   },
   {
    "duration": 141,
    "start_time": "2024-04-26T13:36:15.049Z"
   },
   {
    "duration": 129,
    "start_time": "2024-04-26T13:36:15.191Z"
   },
   {
    "duration": 139,
    "start_time": "2024-04-26T13:36:15.321Z"
   },
   {
    "duration": 128,
    "start_time": "2024-04-26T13:36:15.462Z"
   },
   {
    "duration": 152,
    "start_time": "2024-04-26T13:36:15.591Z"
   },
   {
    "duration": 24,
    "start_time": "2024-04-26T13:36:15.749Z"
   },
   {
    "duration": 246,
    "start_time": "2024-04-26T13:36:15.783Z"
   },
   {
    "duration": 375,
    "start_time": "2024-04-26T13:39:40.203Z"
   },
   {
    "duration": 117,
    "start_time": "2024-04-26T13:39:40.579Z"
   },
   {
    "duration": 2,
    "start_time": "2024-04-26T13:39:40.698Z"
   },
   {
    "duration": 16,
    "start_time": "2024-04-26T13:39:40.702Z"
   },
   {
    "duration": 77,
    "start_time": "2024-04-26T13:39:40.720Z"
   },
   {
    "duration": 17,
    "start_time": "2024-04-26T13:39:40.799Z"
   },
   {
    "duration": 30,
    "start_time": "2024-04-26T13:39:40.817Z"
   },
   {
    "duration": 2265,
    "start_time": "2024-04-26T13:39:40.848Z"
   },
   {
    "duration": 9,
    "start_time": "2024-04-26T13:39:43.115Z"
   },
   {
    "duration": 6,
    "start_time": "2024-04-26T13:39:43.126Z"
   },
   {
    "duration": 7,
    "start_time": "2024-04-26T13:39:43.133Z"
   },
   {
    "duration": 7,
    "start_time": "2024-04-26T13:39:43.141Z"
   },
   {
    "duration": 5,
    "start_time": "2024-04-26T13:39:43.149Z"
   },
   {
    "duration": 9,
    "start_time": "2024-04-26T13:39:43.155Z"
   },
   {
    "duration": 6,
    "start_time": "2024-04-26T13:39:43.165Z"
   },
   {
    "duration": 10,
    "start_time": "2024-04-26T13:39:43.172Z"
   },
   {
    "duration": 6,
    "start_time": "2024-04-26T13:39:43.183Z"
   },
   {
    "duration": 11,
    "start_time": "2024-04-26T13:39:43.190Z"
   },
   {
    "duration": 3,
    "start_time": "2024-04-26T13:39:43.202Z"
   },
   {
    "duration": 6,
    "start_time": "2024-04-26T13:39:43.207Z"
   },
   {
    "duration": 18,
    "start_time": "2024-04-26T13:39:43.214Z"
   },
   {
    "duration": 7,
    "start_time": "2024-04-26T13:39:43.234Z"
   },
   {
    "duration": 5,
    "start_time": "2024-04-26T13:39:43.243Z"
   },
   {
    "duration": 10,
    "start_time": "2024-04-26T13:39:43.249Z"
   },
   {
    "duration": 7,
    "start_time": "2024-04-26T13:39:43.260Z"
   },
   {
    "duration": 9,
    "start_time": "2024-04-26T13:39:43.268Z"
   },
   {
    "duration": 2,
    "start_time": "2024-04-26T13:39:43.284Z"
   },
   {
    "duration": 7,
    "start_time": "2024-04-26T13:39:43.290Z"
   },
   {
    "duration": 8,
    "start_time": "2024-04-26T13:39:43.299Z"
   },
   {
    "duration": 8,
    "start_time": "2024-04-26T13:39:43.309Z"
   },
   {
    "duration": 255,
    "start_time": "2024-04-26T13:39:43.318Z"
   },
   {
    "duration": 10,
    "start_time": "2024-04-26T13:39:43.574Z"
   },
   {
    "duration": 5,
    "start_time": "2024-04-26T13:39:43.585Z"
   },
   {
    "duration": 10,
    "start_time": "2024-04-26T13:39:43.591Z"
   },
   {
    "duration": 11,
    "start_time": "2024-04-26T13:39:43.602Z"
   },
   {
    "duration": 9,
    "start_time": "2024-04-26T13:39:43.614Z"
   },
   {
    "duration": 273,
    "start_time": "2024-04-26T13:39:43.624Z"
   },
   {
    "duration": 3,
    "start_time": "2024-04-26T13:39:43.899Z"
   },
   {
    "duration": 33,
    "start_time": "2024-04-26T13:39:43.903Z"
   },
   {
    "duration": 46,
    "start_time": "2024-04-26T13:39:43.938Z"
   },
   {
    "duration": 7,
    "start_time": "2024-04-26T13:39:43.985Z"
   },
   {
    "duration": 14,
    "start_time": "2024-04-26T13:39:43.993Z"
   },
   {
    "duration": 29,
    "start_time": "2024-04-26T13:39:44.009Z"
   },
   {
    "duration": 207,
    "start_time": "2024-04-26T13:39:44.040Z"
   },
   {
    "duration": 7,
    "start_time": "2024-04-26T13:39:44.249Z"
   },
   {
    "duration": 257,
    "start_time": "2024-04-26T13:39:44.258Z"
   },
   {
    "duration": 217,
    "start_time": "2024-04-26T13:39:44.516Z"
   },
   {
    "duration": 8,
    "start_time": "2024-04-26T13:39:44.734Z"
   },
   {
    "duration": 207,
    "start_time": "2024-04-26T13:39:44.744Z"
   },
   {
    "duration": 8,
    "start_time": "2024-04-26T13:39:44.952Z"
   },
   {
    "duration": 203,
    "start_time": "2024-04-26T13:39:44.961Z"
   },
   {
    "duration": 8,
    "start_time": "2024-04-26T13:39:45.166Z"
   },
   {
    "duration": 55,
    "start_time": "2024-04-26T13:39:45.175Z"
   },
   {
    "duration": 46,
    "start_time": "2024-04-26T13:39:45.231Z"
   },
   {
    "duration": 210,
    "start_time": "2024-04-26T13:39:45.278Z"
   },
   {
    "duration": 7,
    "start_time": "2024-04-26T13:39:45.490Z"
   },
   {
    "duration": 125,
    "start_time": "2024-04-26T13:39:45.499Z"
   },
   {
    "duration": 7,
    "start_time": "2024-04-26T13:39:45.625Z"
   },
   {
    "duration": 206,
    "start_time": "2024-04-26T13:39:45.633Z"
   },
   {
    "duration": 2,
    "start_time": "2024-04-26T13:39:45.841Z"
   },
   {
    "duration": 9,
    "start_time": "2024-04-26T13:39:45.844Z"
   },
   {
    "duration": 115,
    "start_time": "2024-04-26T13:39:45.854Z"
   },
   {
    "duration": 6,
    "start_time": "2024-04-26T13:39:45.970Z"
   },
   {
    "duration": 148,
    "start_time": "2024-04-26T13:39:45.984Z"
   },
   {
    "duration": 8,
    "start_time": "2024-04-26T13:39:46.133Z"
   },
   {
    "duration": 147,
    "start_time": "2024-04-26T13:39:46.142Z"
   },
   {
    "duration": 9,
    "start_time": "2024-04-26T13:39:46.291Z"
   },
   {
    "duration": 165,
    "start_time": "2024-04-26T13:39:46.301Z"
   },
   {
    "duration": 9,
    "start_time": "2024-04-26T13:39:46.468Z"
   },
   {
    "duration": 193,
    "start_time": "2024-04-26T13:39:46.485Z"
   },
   {
    "duration": 130,
    "start_time": "2024-04-26T13:39:46.680Z"
   },
   {
    "duration": 14,
    "start_time": "2024-04-26T13:39:46.811Z"
   },
   {
    "duration": 1123,
    "start_time": "2024-04-26T13:39:46.826Z"
   },
   {
    "duration": 121,
    "start_time": "2024-04-26T13:39:47.950Z"
   },
   {
    "duration": 133,
    "start_time": "2024-04-26T13:39:48.072Z"
   },
   {
    "duration": 160,
    "start_time": "2024-04-26T13:39:48.206Z"
   },
   {
    "duration": 139,
    "start_time": "2024-04-26T13:39:48.367Z"
   },
   {
    "duration": 120,
    "start_time": "2024-04-26T13:39:48.507Z"
   },
   {
    "duration": 133,
    "start_time": "2024-04-26T13:39:48.628Z"
   },
   {
    "duration": 129,
    "start_time": "2024-04-26T13:39:48.763Z"
   },
   {
    "duration": 126,
    "start_time": "2024-04-26T13:39:48.894Z"
   },
   {
    "duration": 22,
    "start_time": "2024-04-26T13:39:49.025Z"
   },
   {
    "duration": 243,
    "start_time": "2024-04-26T13:39:49.048Z"
   },
   {
    "duration": 438,
    "start_time": "2024-04-26T17:36:46.354Z"
   },
   {
    "duration": 152,
    "start_time": "2024-04-26T17:36:46.794Z"
   },
   {
    "duration": 3,
    "start_time": "2024-04-26T17:36:46.947Z"
   },
   {
    "duration": 36,
    "start_time": "2024-04-26T17:36:46.952Z"
   },
   {
    "duration": 95,
    "start_time": "2024-04-26T17:36:46.990Z"
   },
   {
    "duration": 22,
    "start_time": "2024-04-26T17:36:47.087Z"
   },
   {
    "duration": 17,
    "start_time": "2024-04-26T17:36:47.110Z"
   },
   {
    "duration": 2748,
    "start_time": "2024-04-26T17:36:47.128Z"
   },
   {
    "duration": 12,
    "start_time": "2024-04-26T17:36:49.878Z"
   },
   {
    "duration": 9,
    "start_time": "2024-04-26T17:36:49.891Z"
   },
   {
    "duration": 4,
    "start_time": "2024-04-26T17:36:49.901Z"
   },
   {
    "duration": 5,
    "start_time": "2024-04-26T17:36:49.906Z"
   },
   {
    "duration": 5,
    "start_time": "2024-04-26T17:36:49.913Z"
   },
   {
    "duration": 5,
    "start_time": "2024-04-26T17:36:49.921Z"
   },
   {
    "duration": 8,
    "start_time": "2024-04-26T17:36:49.928Z"
   },
   {
    "duration": 8,
    "start_time": "2024-04-26T17:36:49.937Z"
   },
   {
    "duration": 5,
    "start_time": "2024-04-26T17:36:49.946Z"
   },
   {
    "duration": 36,
    "start_time": "2024-04-26T17:36:49.953Z"
   },
   {
    "duration": 4,
    "start_time": "2024-04-26T17:36:49.990Z"
   },
   {
    "duration": 8,
    "start_time": "2024-04-26T17:36:49.995Z"
   },
   {
    "duration": 9,
    "start_time": "2024-04-26T17:36:50.005Z"
   },
   {
    "duration": 15,
    "start_time": "2024-04-26T17:36:50.015Z"
   },
   {
    "duration": 7,
    "start_time": "2024-04-26T17:36:50.032Z"
   },
   {
    "duration": 6,
    "start_time": "2024-04-26T17:36:50.041Z"
   },
   {
    "duration": 19,
    "start_time": "2024-04-26T17:36:50.048Z"
   },
   {
    "duration": 17,
    "start_time": "2024-04-26T17:36:50.068Z"
   },
   {
    "duration": 5,
    "start_time": "2024-04-26T17:36:50.086Z"
   },
   {
    "duration": 6,
    "start_time": "2024-04-26T17:36:50.092Z"
   },
   {
    "duration": 12,
    "start_time": "2024-04-26T17:36:50.099Z"
   },
   {
    "duration": 8,
    "start_time": "2024-04-26T17:36:50.112Z"
   },
   {
    "duration": 284,
    "start_time": "2024-04-26T17:36:50.122Z"
   },
   {
    "duration": 10,
    "start_time": "2024-04-26T17:36:50.408Z"
   },
   {
    "duration": 6,
    "start_time": "2024-04-26T17:36:50.420Z"
   },
   {
    "duration": 7,
    "start_time": "2024-04-26T17:36:50.428Z"
   },
   {
    "duration": 9,
    "start_time": "2024-04-26T17:36:50.437Z"
   },
   {
    "duration": 6,
    "start_time": "2024-04-26T17:36:50.447Z"
   },
   {
    "duration": 322,
    "start_time": "2024-04-26T17:36:50.454Z"
   },
   {
    "duration": 7,
    "start_time": "2024-04-26T17:36:50.777Z"
   },
   {
    "duration": 24,
    "start_time": "2024-04-26T17:36:50.785Z"
   },
   {
    "duration": 55,
    "start_time": "2024-04-26T17:36:50.810Z"
   },
   {
    "duration": 16,
    "start_time": "2024-04-26T17:36:50.870Z"
   },
   {
    "duration": 16,
    "start_time": "2024-04-26T17:36:50.887Z"
   },
   {
    "duration": 36,
    "start_time": "2024-04-26T17:36:50.905Z"
   },
   {
    "duration": 292,
    "start_time": "2024-04-26T17:36:50.943Z"
   },
   {
    "duration": 10,
    "start_time": "2024-04-26T17:36:51.236Z"
   },
   {
    "duration": 329,
    "start_time": "2024-04-26T17:36:51.247Z"
   },
   {
    "duration": 263,
    "start_time": "2024-04-26T17:36:51.577Z"
   },
   {
    "duration": 12,
    "start_time": "2024-04-26T17:36:51.842Z"
   },
   {
    "duration": 273,
    "start_time": "2024-04-26T17:36:51.856Z"
   },
   {
    "duration": 9,
    "start_time": "2024-04-26T17:36:52.131Z"
   },
   {
    "duration": 274,
    "start_time": "2024-04-26T17:36:52.142Z"
   },
   {
    "duration": 9,
    "start_time": "2024-04-26T17:36:52.418Z"
   },
   {
    "duration": 3,
    "start_time": "2024-04-26T17:36:52.429Z"
   },
   {
    "duration": 14,
    "start_time": "2024-04-26T17:36:52.434Z"
   },
   {
    "duration": 306,
    "start_time": "2024-04-26T17:36:52.450Z"
   },
   {
    "duration": 8,
    "start_time": "2024-04-26T17:36:52.758Z"
   },
   {
    "duration": 152,
    "start_time": "2024-04-26T17:36:52.767Z"
   },
   {
    "duration": 9,
    "start_time": "2024-04-26T17:36:52.920Z"
   },
   {
    "duration": 277,
    "start_time": "2024-04-26T17:36:52.931Z"
   },
   {
    "duration": 2,
    "start_time": "2024-04-26T17:36:53.210Z"
   },
   {
    "duration": 9,
    "start_time": "2024-04-26T17:36:53.213Z"
   },
   {
    "duration": 131,
    "start_time": "2024-04-26T17:36:53.224Z"
   },
   {
    "duration": 28,
    "start_time": "2024-04-26T17:36:53.357Z"
   },
   {
    "duration": 181,
    "start_time": "2024-04-26T17:36:53.387Z"
   },
   {
    "duration": 16,
    "start_time": "2024-04-26T17:36:53.570Z"
   },
   {
    "duration": 183,
    "start_time": "2024-04-26T17:36:53.588Z"
   },
   {
    "duration": 12,
    "start_time": "2024-04-26T17:36:53.773Z"
   },
   {
    "duration": 197,
    "start_time": "2024-04-26T17:36:53.787Z"
   },
   {
    "duration": 9,
    "start_time": "2024-04-26T17:36:53.986Z"
   },
   {
    "duration": 271,
    "start_time": "2024-04-26T17:36:53.996Z"
   },
   {
    "duration": 165,
    "start_time": "2024-04-26T17:36:54.269Z"
   },
   {
    "duration": 17,
    "start_time": "2024-04-26T17:36:54.436Z"
   },
   {
    "duration": 1384,
    "start_time": "2024-04-26T17:36:54.454Z"
   },
   {
    "duration": 165,
    "start_time": "2024-04-26T17:36:55.840Z"
   },
   {
    "duration": 154,
    "start_time": "2024-04-26T17:36:56.006Z"
   },
   {
    "duration": 175,
    "start_time": "2024-04-26T17:36:56.162Z"
   },
   {
    "duration": 162,
    "start_time": "2024-04-26T17:36:56.339Z"
   },
   {
    "duration": 144,
    "start_time": "2024-04-26T17:36:56.503Z"
   },
   {
    "duration": 161,
    "start_time": "2024-04-26T17:36:56.648Z"
   },
   {
    "duration": 165,
    "start_time": "2024-04-26T17:36:56.811Z"
   },
   {
    "duration": 146,
    "start_time": "2024-04-26T17:36:56.982Z"
   },
   {
    "duration": 26,
    "start_time": "2024-04-26T17:36:57.130Z"
   },
   {
    "duration": 310,
    "start_time": "2024-04-26T17:36:57.158Z"
   },
   {
    "duration": 7,
    "start_time": "2024-04-26T17:38:07.001Z"
   },
   {
    "duration": 7,
    "start_time": "2024-04-26T17:38:11.789Z"
   },
   {
    "duration": 46,
    "start_time": "2024-04-26T17:38:27.056Z"
   },
   {
    "duration": 99,
    "start_time": "2024-04-26T17:38:37.560Z"
   },
   {
    "duration": 49,
    "start_time": "2024-04-26T17:38:42.526Z"
   },
   {
    "duration": 5,
    "start_time": "2024-04-26T17:38:51.102Z"
   },
   {
    "duration": 15,
    "start_time": "2024-04-26T17:40:11.223Z"
   },
   {
    "duration": 90,
    "start_time": "2024-04-26T17:40:45.831Z"
   }
  ],
  "kernelspec": {
   "display_name": "Python 3 (ipykernel)",
   "language": "python",
   "name": "python3"
  },
  "language_info": {
   "codemirror_mode": {
    "name": "ipython",
    "version": 3
   },
   "file_extension": ".py",
   "mimetype": "text/x-python",
   "name": "python",
   "nbconvert_exporter": "python",
   "pygments_lexer": "ipython3",
   "version": "3.11.8"
  },
  "toc": {
   "base_numbering": 1,
   "nav_menu": {
    "height": "131px",
    "width": "399px"
   },
   "number_sections": true,
   "sideBar": true,
   "skip_h1_title": true,
   "title_cell": "Содержание",
   "title_sidebar": "Contents",
   "toc_cell": true,
   "toc_position": {
    "height": "calc(100% - 180px)",
    "left": "10px",
    "top": "150px",
    "width": "192px"
   },
   "toc_section_display": true,
   "toc_window_display": true
  }
 },
 "nbformat": 4,
 "nbformat_minor": 5
}
