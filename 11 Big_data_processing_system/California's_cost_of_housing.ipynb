{
 "cells": [
  {
   "cell_type": "markdown",
   "id": "GEqQaHzsZ_bA",
   "metadata": {
    "id": "GEqQaHzsZ_bA"
   },
   "source": [
    "# Предсказание стоимости жилья в Калифорнии в 1990 году\n",
    "\n",
    "На основе предоставленных данных нужно предсказать медианную стоимость дома в жилом массиве — `median_house_value`. Для этого обучим модель линейной регрессии и сделаем предсказания на тестовой выборке. Для оценки качества модели используем метрики RMSE, MAE и R2."
   ]
  },
  {
   "cell_type": "markdown",
   "id": "53871372",
   "metadata": {
    "id": "53871372"
   },
   "source": [
    "## Подготовка данных"
   ]
  },
  {
   "cell_type": "markdown",
   "id": "3b34a28f",
   "metadata": {},
   "source": [
    "Загрузим необходимые библиотеки:"
   ]
  },
  {
   "cell_type": "code",
   "execution_count": 1,
   "id": "54bff685",
   "metadata": {},
   "outputs": [
    {
     "data": {
      "text/html": [
       "<style>.container { width:90% !important; }</style>"
      ],
      "text/plain": [
       "<IPython.core.display.HTML object>"
      ]
     },
     "metadata": {},
     "output_type": "display_data"
    }
   ],
   "source": [
    "import pyspark\n",
    "from pyspark.sql import SparkSession\n",
    "from pyspark.sql.types import *\n",
    "import pyspark.sql.functions as F\n",
    "\n",
    "from pyspark.ml import Pipeline\n",
    "from pyspark.ml.feature import StringIndexer, VectorAssembler, StandardScaler\n",
    "from pyspark.ml.classification import LogisticRegression\n",
    "from pyspark.ml.evaluation import BinaryClassificationEvaluator, \\\n",
    "    MulticlassClassificationEvaluator, RegressionEvaluator\n",
    "from pyspark.ml.regression import LinearRegression\n",
    "from pyspark.ml.tuning import CrossValidator, ParamGridBuilder\n",
    "\n",
    "pyspark_version = pyspark.__version__\n",
    "if int(pyspark_version[:1]) == 3:\n",
    "    from pyspark.ml.feature import OneHotEncoder    \n",
    "elif int(pyspark_version[:1]) == 2:\n",
    "    from pyspark.ml.feature import OneHotEncodeEstimator\n",
    "    \n",
    "from IPython.core.display import display, HTML\n",
    "\n",
    "display(HTML(\"<style>.container { width:90% !important; }</style>\"))"
   ]
  },
  {
   "cell_type": "code",
   "execution_count": 2,
   "id": "b4e67210",
   "metadata": {},
   "outputs": [],
   "source": [
    "RANDOM_STATE = 42"
   ]
  },
  {
   "cell_type": "markdown",
   "id": "fa78c6e1",
   "metadata": {},
   "source": [
    "Инициализируем локальную Spark-сессию:"
   ]
  },
  {
   "cell_type": "code",
   "execution_count": 3,
   "id": "5050f800",
   "metadata": {},
   "outputs": [],
   "source": [
    "spark = SparkSession.builder \\\n",
    "                    .master(\"local\") \\\n",
    "                    .appName(\"forecasting_the_cost_of_housing\") \\\n",
    "                    .getOrCreate()"
   ]
  },
  {
   "cell_type": "markdown",
   "id": "87f1e200",
   "metadata": {},
   "source": [
    "Прочитаем содержимое файла `/datasets/housing.csv`:"
   ]
  },
  {
   "cell_type": "code",
   "execution_count": 4,
   "id": "fabe6592",
   "metadata": {},
   "outputs": [
    {
     "name": "stderr",
     "output_type": "stream",
     "text": [
      "                                                                                \r"
     ]
    }
   ],
   "source": [
    "df = spark.read.option('header', 'true'). \\\n",
    "            csv('/datasets/housing.csv', inferSchema = True)"
   ]
  },
  {
   "cell_type": "markdown",
   "id": "b145fd38",
   "metadata": {},
   "source": [
    "Выведем тип данных колонок датасета:"
   ]
  },
  {
   "cell_type": "code",
   "execution_count": 5,
   "id": "ad921a9c",
   "metadata": {},
   "outputs": [
    {
     "name": "stdout",
     "output_type": "stream",
     "text": [
      "root\n",
      " |-- longitude: double (nullable = true)\n",
      " |-- latitude: double (nullable = true)\n",
      " |-- housing_median_age: double (nullable = true)\n",
      " |-- total_rooms: double (nullable = true)\n",
      " |-- total_bedrooms: double (nullable = true)\n",
      " |-- population: double (nullable = true)\n",
      " |-- households: double (nullable = true)\n",
      " |-- median_income: double (nullable = true)\n",
      " |-- median_house_value: double (nullable = true)\n",
      " |-- ocean_proximity: string (nullable = true)\n",
      "\n"
     ]
    }
   ],
   "source": [
    "df.printSchema()"
   ]
  },
  {
   "cell_type": "markdown",
   "id": "5668445a",
   "metadata": {},
   "source": [
    "В колонках датасета содержатся следующие данные:\n",
    "\n",
    "- `longitude` — широта;\n",
    "- `latitude` — долгота;\n",
    "- `housing_median_age` — медианный возраст жителей жилого массива;\n",
    "- `total_rooms` — общее количество комнат в домах жилого массива;\n",
    "- `total_bedrooms` — общее количество спален в домах жилого массива;\n",
    "- `population` — количество человек, которые проживают в жилом массиве;\n",
    "- `households` — количество домовладений в жилом массиве;\n",
    "- `median_income` — медианный доход жителей жилого массива;\n",
    "- `median_house_value` — медианная стоимость дома в жилом массиве, <b>целевой признак</b>;\n",
    "- `ocean_proximity` — близость к океану."
   ]
  },
  {
   "cell_type": "markdown",
   "id": "53aa1f94",
   "metadata": {},
   "source": [
    "Вывод по разделу:\n",
    "- загружены необходимые библиотеки, прочитано содержимое датасета. Все признаки, за исключением целевого `ocean_proximity`(категориальный) - числовые."
   ]
  },
  {
   "cell_type": "markdown",
   "id": "b434e04f",
   "metadata": {},
   "source": [
    "## Предобработка данных"
   ]
  },
  {
   "cell_type": "markdown",
   "id": "f479ba44",
   "metadata": {},
   "source": [
    "Исследуем данные на наличие пропусков:"
   ]
  },
  {
   "cell_type": "code",
   "execution_count": 6,
   "id": "503e4a71",
   "metadata": {},
   "outputs": [
    {
     "name": "stderr",
     "output_type": "stream",
     "text": [
      "[Stage 2:>                                                          (0 + 1) / 1]\r"
     ]
    },
    {
     "name": "stdout",
     "output_type": "stream",
     "text": [
      "+---------+--------+------------------+-----------+--------------+----------+----------+-------------+------------------+---------------+\n",
      "|longitude|latitude|housing_median_age|total_rooms|total_bedrooms|population|households|median_income|median_house_value|ocean_proximity|\n",
      "+---------+--------+------------------+-----------+--------------+----------+----------+-------------+------------------+---------------+\n",
      "|        0|       0|                 0|          0|           207|         0|         0|            0|                 0|              0|\n",
      "+---------+--------+------------------+-----------+--------------+----------+----------+-------------+------------------+---------------+\n",
      "\n"
     ]
    },
    {
     "name": "stderr",
     "output_type": "stream",
     "text": [
      "                                                                                \r"
     ]
    }
   ],
   "source": [
    "missing_counts = df.select([F.count(F.when(F.isnull(c), 1)) \\\n",
    "                            .alias(c) for c in df.columns])\n",
    "missing_counts.show()"
   ]
  },
  {
   "cell_type": "markdown",
   "id": "c47b53dc",
   "metadata": {},
   "source": [
    "Посчитаем общее количество пропущенных значений в датасете:"
   ]
  },
  {
   "cell_type": "code",
   "execution_count": 7,
   "id": "8ce49d1b",
   "metadata": {},
   "outputs": [
    {
     "name": "stdout",
     "output_type": "stream",
     "text": [
      "Общее количество пропусков: 207\n"
     ]
    }
   ],
   "source": [
    "total_missing = missing_counts.agg(*[F.sum(c) \\\n",
    "                    .alias(c) for c in missing_counts.columns]) \\\n",
    "                    .collect()\n",
    "total_sum = sum(total_missing[0])\n",
    "print(f\"Общее количество пропусков: {total_sum}\")"
   ]
  },
  {
   "cell_type": "markdown",
   "id": "52c46420",
   "metadata": {},
   "source": [
    "Общее количество пропусков совпадает с количеством в колонке `total_bedrooms` (207). Посмотрим по описанию, сколько вообще данных содержится в датасете: "
   ]
  },
  {
   "cell_type": "code",
   "execution_count": 8,
   "id": "ddd26766",
   "metadata": {},
   "outputs": [
    {
     "name": "stderr",
     "output_type": "stream",
     "text": [
      "[Stage 6:>                                                          (0 + 1) / 1]\r"
     ]
    },
    {
     "name": "stdout",
     "output_type": "stream",
     "text": [
      "+-------+-------------------+-----------------+------------------+------------------+------------------+------------------+-----------------+------------------+------------------+---------------+\n",
      "|summary|          longitude|         latitude|housing_median_age|       total_rooms|    total_bedrooms|        population|       households|     median_income|median_house_value|ocean_proximity|\n",
      "+-------+-------------------+-----------------+------------------+------------------+------------------+------------------+-----------------+------------------+------------------+---------------+\n",
      "|  count|              20640|            20640|             20640|             20640|             20433|             20640|            20640|             20640|             20640|          20640|\n",
      "|   mean|-119.56970445736148| 35.6318614341087|28.639486434108527|2635.7630813953488| 537.8705525375618|1425.4767441860465|499.5396802325581|3.8706710029070246|206855.81690891474|           null|\n",
      "| stddev|  2.003531723502584|2.135952397457101| 12.58555761211163|2181.6152515827944|421.38507007403115|  1132.46212176534|382.3297528316098| 1.899821717945263|115395.61587441359|           null|\n",
      "|    min|            -124.35|            32.54|               1.0|               2.0|               1.0|               3.0|              1.0|            0.4999|           14999.0|      <1H OCEAN|\n",
      "|    max|            -114.31|            41.95|              52.0|           39320.0|            6445.0|           35682.0|           6082.0|           15.0001|          500001.0|     NEAR OCEAN|\n",
      "+-------+-------------------+-----------------+------------------+------------------+------------------+------------------+-----------------+------------------+------------------+---------------+\n",
      "\n"
     ]
    },
    {
     "name": "stderr",
     "output_type": "stream",
     "text": [
      "                                                                                \r"
     ]
    }
   ],
   "source": [
    "description = df.describe()\n",
    "description.show()"
   ]
  },
  {
   "cell_type": "markdown",
   "id": "1489f3e1",
   "metadata": {},
   "source": [
    "Количество строк - 20640, количество пропущенных значений - 207, это всего 1%. Заполним пропуски медианным значением по колонке. Для этого сначала вычислим медиану:"
   ]
  },
  {
   "cell_type": "code",
   "execution_count": 10,
   "id": "31e9bb37",
   "metadata": {},
   "outputs": [
    {
     "name": "stderr",
     "output_type": "stream",
     "text": [
      "                                                                                \r"
     ]
    },
    {
     "data": {
      "text/plain": [
       "435.0"
      ]
     },
     "execution_count": 10,
     "metadata": {},
     "output_type": "execute_result"
    }
   ],
   "source": [
    "total_bedrooms_median = df.approxQuantile('total_bedrooms', [0.5], 0)[0]\n",
    "total_bedrooms_median"
   ]
  },
  {
   "cell_type": "markdown",
   "id": "db813810",
   "metadata": {},
   "source": [
    "Теперь заполним пропуски:"
   ]
  },
  {
   "cell_type": "code",
   "execution_count": 11,
   "id": "3f46a096",
   "metadata": {},
   "outputs": [],
   "source": [
    "df = df.fillna(total_bedrooms_median, subset=['total_bedrooms'])"
   ]
  },
  {
   "cell_type": "markdown",
   "id": "f0095d98",
   "metadata": {},
   "source": [
    "И проверим, что пропуски заполнены:"
   ]
  },
  {
   "cell_type": "code",
   "execution_count": 12,
   "id": "293f27a0",
   "metadata": {},
   "outputs": [
    {
     "name": "stdout",
     "output_type": "stream",
     "text": [
      "+---------+--------+------------------+-----------+--------------+----------+----------+-------------+------------------+---------------+\n",
      "|longitude|latitude|housing_median_age|total_rooms|total_bedrooms|population|households|median_income|median_house_value|ocean_proximity|\n",
      "+---------+--------+------------------+-----------+--------------+----------+----------+-------------+------------------+---------------+\n",
      "|        0|       0|                 0|          0|             0|         0|         0|            0|                 0|              0|\n",
      "+---------+--------+------------------+-----------+--------------+----------+----------+-------------+------------------+---------------+\n",
      "\n"
     ]
    }
   ],
   "source": [
    "missing_counts = df.select([F.count(F.when(F.isnull(c), 1)) \\\n",
    "                            .alias(c) for c in df.columns])\n",
    "missing_counts.show()"
   ]
  },
  {
   "cell_type": "markdown",
   "id": "4b739754",
   "metadata": {},
   "source": [
    "Кодируем все признаки и соберём их в массив, чтобы использовать далее в пайплайне:"
   ]
  },
  {
   "cell_type": "code",
   "execution_count": 14,
   "id": "d0c1474a",
   "metadata": {},
   "outputs": [],
   "source": [
    "str_indexer = StringIndexer(inputCols = ['ocean_proximity'], outputCols = ['ocean_proximity_indx']) \n",
    "encoder = OneHotEncoder(inputCols = ['ocean_proximity_indx'], outputCols = ['ocean_proximity_ohe'])\n",
    "cat_assembler = VectorAssembler(inputCols = ['ocean_proximity_ohe'], outputCol = 'cat_features')\n",
    "num_assembler = VectorAssembler(inputCols = ['longitude', 'latitude', 'housing_median_age', 'total_rooms',\n",
    "                                            'total_bedrooms', 'population', 'households', 'median_income'],\n",
    "                                              outputCol = 'num_features')\n",
    "scaler = StandardScaler(inputCol = 'num_features', outputCol = 'num_features_scaled', withMean=True)\n",
    "features_assembler = VectorAssembler(inputCols = ['cat_features','num_features_scaled'], \n",
    "                                     outputCol = 'features')\n",
    "\n",
    "transformations = [str_indexer, encoder, cat_assembler, num_assembler, scaler, features_assembler]"
   ]
  },
  {
   "cell_type": "markdown",
   "id": "fd257bcd",
   "metadata": {},
   "source": [
    "Выводы по разделу:\n",
    "\n",
    "- датасет проверен на пропущенные значения, все они оказались в колонке `total_bedrooms`;\n",
    "- пропущенные значения были удалены, т.к. составляют всего 1% от общего количества данных;\n",
    "- аномальные значения в первом приближении обнаружены не были;\n",
    "- признаки кодированы и собраны в массив."
   ]
  },
  {
   "cell_type": "markdown",
   "id": "9f0a82f3",
   "metadata": {
    "id": "9f0a82f3"
   },
   "source": [
    "## Построение моделей линейной регрессии"
   ]
  },
  {
   "cell_type": "markdown",
   "id": "9db5fe77",
   "metadata": {},
   "source": [
    "Разделим данные в датасете на обучающую и тестовую выборки:"
   ]
  },
  {
   "cell_type": "code",
   "execution_count": 15,
   "id": "bddb08c4",
   "metadata": {
    "id": "bddb08c4"
   },
   "outputs": [],
   "source": [
    "df_train, df_test = df.randomSplit([.75,.25], seed = RANDOM_STATE)"
   ]
  },
  {
   "cell_type": "markdown",
   "id": "fbba6eef",
   "metadata": {},
   "source": [
    "Построим модель линейной регрессии, используя все данные из датасета. Подберём также гиперпараметры для модели:"
   ]
  },
  {
   "cell_type": "code",
   "execution_count": 16,
   "id": "27185f14",
   "metadata": {},
   "outputs": [],
   "source": [
    "lin_reg = LinearRegression(featuresCol = 'features', labelCol = 'median_house_value')\n",
    "paramGrid = ParamGridBuilder() \\\n",
    "    .addGrid(lin_reg.regParam, [0.1, 0.01]) \\\n",
    "    .addGrid(lin_reg.elasticNetParam, [1, 0.1, 0.01]) \\\n",
    "    .addGrid(lin_reg.maxIter, [10, 100, 1000]) \\\n",
    "    .addGrid(lin_reg.solver, ['normal', 'l-bfgs']) \\\n",
    "    .build()\n",
    "crossval = CrossValidator(estimator = lin_reg,\n",
    "                          estimatorParamMaps = paramGrid,\n",
    "                          evaluator = RegressionEvaluator(labelCol = 'median_house_value'),\n",
    "                          numFolds = 5,\n",
    "                          parallelism = 2)"
   ]
  },
  {
   "cell_type": "markdown",
   "id": "fa44a56d",
   "metadata": {},
   "source": [
    "Соберём пайплайн для модели:"
   ]
  },
  {
   "cell_type": "code",
   "execution_count": 17,
   "id": "a1651079",
   "metadata": {},
   "outputs": [
    {
     "name": "stderr",
     "output_type": "stream",
     "text": [
      "24/11/17 10:46:44 WARN BLAS: Failed to load implementation from: com.github.fommil.netlib.NativeSystemBLAS\n",
      "24/11/17 10:46:44 WARN BLAS: Failed to load implementation from: com.github.fommil.netlib.NativeRefBLAS\n",
      "24/11/17 10:46:56 WARN BlockManager: Asked to remove block broadcast_188, which does not exist\n",
      "24/11/17 10:47:02 WARN BlockManager: Asked to remove block broadcast_424, which does not exist\n",
      "24/11/17 10:47:09 WARN BlockManager: Asked to remove block broadcast_776_piece0, which does not exist\n",
      "24/11/17 10:47:09 WARN BlockManager: Asked to remove block broadcast_776, which does not exist\n",
      "24/11/17 10:47:20 WARN BlockManager: Asked to remove block broadcast_1204, which does not exist\n",
      "24/11/17 10:47:20 WARN BlockManager: Asked to remove block broadcast_1222, which does not exist\n",
      "24/11/17 10:47:27 WARN BlockManager: Asked to remove block broadcast_1552, which does not exist\n",
      "24/11/17 10:47:29 WARN BlockManager: Asked to remove block broadcast_1683_piece0, which does not exist\n",
      "24/11/17 10:47:29 WARN BlockManager: Asked to remove block broadcast_1683, which does not exist\n",
      "24/11/17 10:47:35 WARN BlockManager: Asked to remove block broadcast_2011, which does not exist\n",
      "24/11/17 10:48:06 WARN BlockManager: Asked to remove block broadcast_3540, which does not exist\n",
      "24/11/17 10:48:28 WARN BlockManager: Asked to remove block broadcast_5155, which does not exist\n",
      "24/11/17 10:49:02 WARN BlockManager: Asked to remove block broadcast_7449, which does not exist\n",
      "24/11/17 10:49:03 WARN BlockManager: Asked to remove block broadcast_7542, which does not exist\n",
      "24/11/17 10:49:13 WARN BlockManager: Asked to remove block broadcast_8158, which does not exist\n",
      "24/11/17 10:49:19 WARN BlockManager: Asked to remove block broadcast_8641_piece0, which does not exist\n",
      "24/11/17 10:49:19 WARN BlockManager: Asked to remove block broadcast_8641, which does not exist\n",
      "24/11/17 10:49:22 WARN BlockManager: Asked to remove block broadcast_8878, which does not exist\n",
      "24/11/17 10:49:28 WARN BlockManager: Asked to remove block broadcast_9284, which does not exist\n",
      "24/11/17 10:49:30 WARN BlockManager: Asked to remove block broadcast_9478, which does not exist\n",
      "24/11/17 10:49:53 WARN BlockManager: Asked to remove block broadcast_11042, which does not exist\n",
      "24/11/17 10:50:20 WARN BlockManager: Asked to remove block broadcast_13060, which does not exist\n",
      "24/11/17 10:50:25 WARN BlockManager: Asked to remove block broadcast_13460, which does not exist\n",
      "24/11/17 10:50:29 WARN BlockManager: Asked to remove block broadcast_13770, which does not exist\n",
      "24/11/17 10:50:41 WARN BlockManager: Asked to remove block broadcast_14573, which does not exist\n",
      "24/11/17 10:50:56 WARN BlockManager: Asked to remove block broadcast_15566, which does not exist\n",
      "24/11/17 10:51:03 WARN BlockManager: Asked to remove block broadcast_16109_piece0, which does not exist\n",
      "24/11/17 10:51:03 WARN BlockManager: Asked to remove block broadcast_16109, which does not exist\n",
      "24/11/17 10:51:08 WARN BlockManager: Asked to remove block broadcast_16486, which does not exist\n",
      "24/11/17 10:51:17 WARN BlockManager: Asked to remove block broadcast_17098, which does not exist\n",
      "24/11/17 10:51:27 WARN BlockManager: Asked to remove block broadcast_17825, which does not exist\n",
      "24/11/17 10:51:37 WARN BlockManager: Asked to remove block broadcast_18532, which does not exist\n",
      "24/11/17 10:52:12 WARN BlockManager: Asked to remove block broadcast_21142, which does not exist\n",
      "24/11/17 10:52:41 WARN BlockManager: Asked to remove block broadcast_23164, which does not exist\n",
      "24/11/17 10:52:41 WARN BlockManager: Asked to remove block broadcast_23164_piece0, which does not exist\n",
      "24/11/17 10:52:45 WARN BlockManager: Asked to remove block broadcast_23534, which does not exist\n",
      "24/11/17 10:52:45 WARN BlockManager: Asked to remove block broadcast_23534_piece0, which does not exist\n",
      "24/11/17 10:52:46 WARN BlockManager: Asked to remove block broadcast_23582, which does not exist\n",
      "24/11/17 10:52:46 WARN BlockManager: Asked to remove block broadcast_23582_piece0, which does not exist\n",
      "24/11/17 10:52:54 WARN BlockManager: Asked to remove block broadcast_24134_piece0, which does not exist\n",
      "24/11/17 10:53:20 WARN BlockManager: Asked to remove block broadcast_26101, which does not exist\n",
      "24/11/17 10:53:57 WARN BlockManager: Asked to remove block broadcast_28958, which does not exist\n",
      "24/11/17 10:54:29 WARN BlockManager: Asked to remove block broadcast_31418, which does not exist\n",
      "24/11/17 10:54:42 WARN BlockManager: Asked to remove block broadcast_32376, which does not exist\n",
      "24/11/17 10:54:42 WARN BlockManager: Asked to remove block broadcast_32422_piece0, which does not exist\n",
      "24/11/17 10:54:42 WARN BlockManager: Asked to remove block broadcast_32422, which does not exist\n",
      "24/11/17 10:54:53 WARN BlockManager: Asked to remove block broadcast_33230, which does not exist\n",
      "24/11/17 10:54:53 WARN BlockManager: Asked to remove block broadcast_33230_piece0, which does not exist\n",
      "24/11/17 10:55:55 WARN BlockManager: Asked to remove block broadcast_37331_piece0, which does not exist\n",
      "24/11/17 10:55:55 WARN BlockManager: Asked to remove block broadcast_37331, which does not exist\n",
      "24/11/17 10:56:00 WARN BlockManager: Asked to remove block broadcast_37708, which does not exist\n",
      "24/11/17 10:56:05 WARN BlockManager: Asked to remove block broadcast_38026, which does not exist\n",
      "24/11/17 10:56:05 WARN BlockManager: Asked to remove block broadcast_38026_piece0, which does not exist\n",
      "24/11/17 10:56:07 WARN BlockManager: Asked to remove block broadcast_38186, which does not exist\n",
      "24/11/17 10:56:07 WARN BlockManager: Asked to remove block broadcast_38186_piece0, which does not exist\n",
      "24/11/17 10:56:28 WARN BlockManager: Asked to remove block broadcast_39716, which does not exist\n",
      "24/11/17 10:56:44 WARN BlockManager: Asked to remove block broadcast_40748, which does not exist\n",
      "24/11/17 10:56:49 WARN BlockManager: Asked to remove block broadcast_41050_piece0, which does not exist\n",
      "24/11/17 10:57:07 WARN BlockManager: Asked to remove block broadcast_42422_piece0, which does not exist\n",
      "24/11/17 10:57:07 WARN BlockManager: Asked to remove block broadcast_42422, which does not exist\n",
      "24/11/17 10:57:13 WARN BlockManager: Asked to remove block broadcast_42924, which does not exist\n",
      "24/11/17 10:57:44 WARN BlockManager: Asked to remove block broadcast_45456, which does not exist\n",
      "24/11/17 10:57:44 WARN BlockManager: Asked to remove block broadcast_45456_piece0, which does not exist\n",
      "24/11/17 10:57:49 WARN BlockManager: Asked to remove block broadcast_45914_piece0, which does not exist\n",
      "24/11/17 10:57:49 WARN BlockManager: Asked to remove block broadcast_45914, which does not exist\n",
      "24/11/17 10:57:53 WARN BlockManager: Asked to remove block broadcast_46228, which does not exist\n",
      "24/11/17 10:57:59 WARN BlockManager: Asked to remove block broadcast_46714, which does not exist\n",
      "24/11/17 10:58:09 WARN BlockManager: Asked to remove block broadcast_47508_piece0, which does not exist\n",
      "24/11/17 10:58:09 WARN BlockManager: Asked to remove block broadcast_47508, which does not exist\n",
      "24/11/17 10:58:36 WARN BlockManager: Asked to remove block broadcast_49500, which does not exist\n",
      "24/11/17 10:59:33 WARN BlockManager: Asked to remove block broadcast_54104, which does not exist\n",
      "24/11/17 10:59:33 WARN BlockManager: Asked to remove block broadcast_54104_piece0, which does not exist\n",
      "24/11/17 11:00:07 WARN BlockManager: Asked to remove block broadcast_56914, which does not exist\n",
      "24/11/17 11:00:12 WARN BlockManager: Asked to remove block broadcast_57318, which does not exist\n",
      "24/11/17 11:00:18 WARN BlockManager: Asked to remove block broadcast_57846_piece0, which does not exist\n",
      "24/11/17 11:00:18 WARN BlockManager: Asked to remove block broadcast_57846, which does not exist\n",
      "24/11/17 11:00:19 WARN BlockManager: Asked to remove block broadcast_57910, which does not exist\n",
      "24/11/17 11:00:19 WARN BlockManager: Asked to remove block broadcast_57910_piece0, which does not exist\n",
      "24/11/17 11:00:39 WARN BlockManager: Asked to remove block broadcast_59144, which does not exist\n",
      "24/11/17 11:01:04 WARN BlockManager: Asked to remove block broadcast_60870_piece0, which does not exist\n",
      "24/11/17 11:01:28 WARN BlockManager: Asked to remove block broadcast_62772, which does not exist\n",
      "24/11/17 11:01:41 WARN BlockManager: Asked to remove block broadcast_63872, which does not exist\n",
      "24/11/17 11:02:00 WARN BlockManager: Asked to remove block broadcast_65449, which does not exist\n",
      "24/11/17 11:02:12 WARN BlockManager: Asked to remove block broadcast_66477, which does not exist\n",
      "24/11/17 11:02:31 WARN BlockManager: Asked to remove block broadcast_67964, which does not exist\n",
      "24/11/17 11:02:39 WARN BlockManager: Asked to remove block broadcast_68546, which does not exist\n",
      "24/11/17 11:02:45 WARN BlockManager: Asked to remove block broadcast_69032, which does not exist\n",
      "24/11/17 11:02:49 WARN BlockManager: Asked to remove block broadcast_69298, which does not exist\n",
      "24/11/17 11:02:50 WARN BlockManager: Asked to remove block broadcast_69426, which does not exist\n",
      "24/11/17 11:02:50 WARN BlockManager: Asked to remove block broadcast_69426_piece0, which does not exist\n",
      "24/11/17 11:02:55 WARN BlockManager: Asked to remove block broadcast_69850, which does not exist\n",
      "24/11/17 11:03:02 WARN BlockManager: Asked to remove block broadcast_70440, which does not exist\n",
      "24/11/17 11:03:02 WARN BlockManager: Asked to remove block broadcast_70440_piece0, which does not exist\n",
      "24/11/17 11:03:05 WARN BlockManager: Asked to remove block broadcast_70660, which does not exist\n",
      "24/11/17 11:03:05 WARN BlockManager: Asked to remove block broadcast_70660_piece0, which does not exist\n",
      "24/11/17 11:03:27 WARN BlockManager: Asked to remove block broadcast_72488, which does not exist\n",
      "24/11/17 11:03:28 WARN BlockManager: Asked to remove block broadcast_72554, which does not exist\n",
      "24/11/17 11:03:40 WARN BlockManager: Asked to remove block broadcast_73558, which does not exist\n",
      "24/11/17 11:04:35 WARN BlockManager: Asked to remove block broadcast_77864, which does not exist\n",
      "24/11/17 11:04:46 WARN BlockManager: Asked to remove block broadcast_78768, which does not exist\n",
      "24/11/17 11:04:47 WARN BlockManager: Asked to remove block broadcast_78848, which does not exist\n",
      "24/11/17 11:04:56 WARN BlockManager: Asked to remove block broadcast_79591, which does not exist\n",
      "24/11/17 11:05:16 WARN BlockManager: Asked to remove block broadcast_81122, which does not exist\n",
      "24/11/17 11:06:37 WARN BlockManager: Asked to remove block broadcast_87014, which does not exist\n",
      "24/11/17 11:06:38 WARN BlockManager: Asked to remove block broadcast_87116, which does not exist\n",
      "24/11/17 11:06:43 WARN BlockManager: Asked to remove block broadcast_87516, which does not exist\n",
      "24/11/17 11:06:52 WARN BlockManager: Asked to remove block broadcast_88228, which does not exist\n",
      "24/11/17 11:07:14 WARN BlockManager: Asked to remove block broadcast_89920, which does not exist\n",
      "24/11/17 11:08:00 WARN BlockManager: Asked to remove block broadcast_93575, which does not exist\n",
      "24/11/17 11:08:04 WARN BlockManager: Asked to remove block broadcast_93840, which does not exist\n",
      "24/11/17 11:08:16 WARN BlockManager: Asked to remove block broadcast_94808, which does not exist\n",
      "24/11/17 11:08:18 WARN BlockManager: Asked to remove block broadcast_94954_piece0, which does not exist\n",
      "24/11/17 11:08:18 WARN BlockManager: Asked to remove block broadcast_94954, which does not exist\n",
      "24/11/17 11:08:21 WARN BlockManager: Asked to remove block broadcast_95258, which does not exist\n",
      "24/11/17 11:08:34 WARN BlockManager: Asked to remove block broadcast_96288, which does not exist\n",
      "24/11/17 11:08:46 WARN BlockManager: Asked to remove block broadcast_97262, which does not exist\n",
      "24/11/17 11:08:46 WARN BlockManager: Asked to remove block broadcast_97304, which does not exist\n",
      "24/11/17 11:08:51 WARN BlockManager: Asked to remove block broadcast_97662, which does not exist\n",
      "24/11/17 11:09:02 WARN BlockManager: Asked to remove block broadcast_98592, which does not exist\n",
      "24/11/17 11:09:09 WARN BlockManager: Asked to remove block broadcast_99135_piece0, which does not exist\n",
      "24/11/17 11:09:38 WARN BlockManager: Asked to remove block broadcast_101392, which does not exist\n",
      "24/11/17 11:09:57 WARN BlockManager: Asked to remove block broadcast_103036, which does not exist\n",
      "24/11/17 11:09:57 WARN BlockManager: Asked to remove block broadcast_103036_piece0, which does not exist\n",
      "24/11/17 11:10:12 WARN BlockManager: Asked to remove block broadcast_104193, which does not exist\n",
      "24/11/17 11:11:45 WARN BlockManager: Asked to remove block broadcast_110286, which does not exist\n",
      "24/11/17 11:11:52 WARN BlockManager: Asked to remove block broadcast_110788_piece0, which does not exist\n",
      "24/11/17 11:11:52 WARN BlockManager: Asked to remove block broadcast_110788, which does not exist\n",
      "24/11/17 11:12:15 WARN BlockManager: Asked to remove block broadcast_112389, which does not exist\n",
      "24/11/17 11:12:25 WARN BlockManager: Asked to remove block broadcast_113170, which does not exist\n",
      "24/11/17 11:12:25 WARN BlockManager: Asked to remove block broadcast_113170_piece0, which does not exist\n",
      "24/11/17 11:12:40 WARN BlockManager: Asked to remove block broadcast_114372, which does not exist\n",
      "24/11/17 11:13:12 WARN BlockManager: Asked to remove block broadcast_116708, which does not exist\n",
      "24/11/17 11:13:24 WARN BlockManager: Asked to remove block broadcast_117520, which does not exist\n",
      "24/11/17 11:13:27 WARN BlockManager: Asked to remove block broadcast_117758, which does not exist\n",
      "24/11/17 11:13:31 WARN BlockManager: Asked to remove block broadcast_117984, which does not exist\n",
      "24/11/17 11:13:43 WARN BlockManager: Asked to remove block broadcast_118925, which does not exist\n",
      "24/11/17 11:13:45 WARN BlockManager: Asked to remove block broadcast_119038, which does not exist\n",
      "24/11/17 11:13:45 WARN BlockManager: Asked to remove block broadcast_119082, which does not exist\n",
      "24/11/17 11:13:58 WARN BlockManager: Asked to remove block broadcast_120060, which does not exist\n",
      "24/11/17 11:14:35 WARN BlockManager: Asked to remove block broadcast_122728, which does not exist\n",
      "24/11/17 11:15:18 WARN BlockManager: Asked to remove block broadcast_126098, which does not exist\n",
      "24/11/17 11:15:18 WARN BlockManager: Asked to remove block broadcast_126098_piece0, which does not exist\n",
      "24/11/17 11:15:42 WARN BlockManager: Asked to remove block broadcast_128026_piece0, which does not exist\n",
      "24/11/17 11:15:45 WARN BlockManager: Asked to remove block broadcast_128328, which does not exist\n",
      "24/11/17 11:16:12 WARN BlockManager: Asked to remove block broadcast_130200, which does not exist\n",
      "                                                                                \r"
     ]
    }
   ],
   "source": [
    "model = Pipeline(stages = transformations + [crossval]).fit(df_train)"
   ]
  },
  {
   "cell_type": "markdown",
   "id": "0743df8a",
   "metadata": {},
   "source": [
    "Теперь построим модель линейной регрессии, используя только числовые данные:"
   ]
  },
  {
   "cell_type": "code",
   "execution_count": 18,
   "id": "9eee8164",
   "metadata": {},
   "outputs": [],
   "source": [
    "lin_reg = LinearRegression(featuresCol = 'num_features_scaled', labelCol = 'median_house_value')\n",
    "paramGrid = ParamGridBuilder() \\\n",
    "    .addGrid(lin_reg.regParam, [0.1, 0.01]) \\\n",
    "    .addGrid(lin_reg.elasticNetParam, [1, 0.1, 0.01]) \\\n",
    "    .addGrid(lin_reg.maxIter, [10, 100, 1000]) \\\n",
    "    .addGrid(lin_reg.solver, ['normal', 'l-bfgs']) \\\n",
    "    .build()\n",
    "crossval = CrossValidator(estimator = lin_reg,\n",
    "                          estimatorParamMaps = paramGrid,\n",
    "                          evaluator=RegressionEvaluator(labelCol = 'median_house_value'),\n",
    "                          numFolds = 5,\n",
    "                          parallelism = 2)"
   ]
  },
  {
   "cell_type": "markdown",
   "id": "a6bd57fa",
   "metadata": {},
   "source": [
    "Для этой модели также соберём пайплайн:"
   ]
  },
  {
   "cell_type": "code",
   "execution_count": 19,
   "id": "5b9cb135",
   "metadata": {},
   "outputs": [
    {
     "name": "stderr",
     "output_type": "stream",
     "text": [
      "24/11/17 11:16:34 WARN BlockManager: Asked to remove block broadcast_131246, which does not exist\n",
      "24/11/17 11:16:57 WARN BlockManager: Asked to remove block broadcast_132708, which does not exist\n",
      "24/11/17 11:16:57 WARN BlockManager: Asked to remove block broadcast_132708_piece0, which does not exist\n",
      "24/11/17 11:17:14 WARN BlockManager: Asked to remove block broadcast_133704, which does not exist\n",
      "24/11/17 11:17:43 WARN BlockManager: Asked to remove block broadcast_135564, which does not exist\n",
      "24/11/17 11:18:03 WARN BlockManager: Asked to remove block broadcast_136723, which does not exist\n",
      "24/11/17 11:18:03 WARN BlockManager: Asked to remove block broadcast_136723_piece0, which does not exist\n",
      "24/11/17 11:18:11 WARN BlockManager: Asked to remove block broadcast_137350, which does not exist\n",
      "24/11/17 11:18:35 WARN BlockManager: Asked to remove block broadcast_138975, which does not exist\n",
      "24/11/17 11:18:35 WARN BlockManager: Asked to remove block broadcast_138975_piece0, which does not exist\n",
      "24/11/17 11:18:37 WARN BlockManager: Asked to remove block broadcast_139066, which does not exist\n",
      "24/11/17 11:18:50 WARN BlockManager: Asked to remove block broadcast_140064, which does not exist\n",
      "24/11/17 11:18:52 WARN BlockManager: Asked to remove block broadcast_140192, which does not exist\n",
      "24/11/17 11:19:46 WARN BlockManager: Asked to remove block broadcast_143448_piece0, which does not exist\n",
      "24/11/17 11:19:46 WARN BlockManager: Asked to remove block broadcast_143448, which does not exist\n",
      "24/11/17 11:19:47 WARN BlockManager: Asked to remove block broadcast_143499, which does not exist\n",
      "24/11/17 11:19:58 WARN BlockManager: Asked to remove block broadcast_144285, which does not exist\n",
      "24/11/17 11:20:20 WARN BlockManager: Asked to remove block broadcast_145744, which does not exist\n",
      "24/11/17 11:20:37 WARN BlockManager: Asked to remove block broadcast_147008, which does not exist\n",
      "24/11/17 11:20:37 WARN BlockManager: Asked to remove block broadcast_147008_piece0, which does not exist\n"
     ]
    }
   ],
   "source": [
    "num_model = Pipeline(stages = transformations + [crossval]).fit(df_train)"
   ]
  },
  {
   "cell_type": "markdown",
   "id": "135414d5",
   "metadata": {},
   "source": [
    "Выводы по разделу:\n",
    "\n",
    "- данные в датасете разбили на обучающую и тестовую выборки в пропорции 75% и 25% соответственно;\n",
    "- построили две модели линейной регрессии: первая использует все данные из датасета, вторая - только числовые данные;\n",
    "- для обеих моделей собрали пайплайны, которые в дальнейшем задействуем для сравнения метрик."
   ]
  },
  {
   "cell_type": "markdown",
   "id": "757fd103",
   "metadata": {
    "id": "757fd103"
   },
   "source": [
    "## Сравнение результатов работы линейной регрессии"
   ]
  },
  {
   "cell_type": "markdown",
   "id": "7be9eb13",
   "metadata": {},
   "source": [
    "Создадим переменную `evaluator` (оценщик регрессии):"
   ]
  },
  {
   "cell_type": "code",
   "execution_count": 20,
   "id": "31a83934",
   "metadata": {},
   "outputs": [],
   "source": [
    "evaluator = RegressionEvaluator(labelCol = 'median_house_value')"
   ]
  },
  {
   "cell_type": "markdown",
   "id": "3de8aadf",
   "metadata": {},
   "source": [
    "Выведем метрики RMSE, MAE и R2 обеих моделей для сравнения:"
   ]
  },
  {
   "cell_type": "code",
   "execution_count": 21,
   "id": "9113fa29",
   "metadata": {},
   "outputs": [
    {
     "name": "stdout",
     "output_type": "stream",
     "text": [
      "model RMSE: 69696.28\n",
      "model MAE: 50350.81\n",
      "model R2: 0.64\n"
     ]
    }
   ],
   "source": [
    "print('model RMSE:', round(evaluator.setParams(metricName = \"rmse\").evaluate(model.transform(df_test)), 2))\n",
    "print('model MAE:', round(evaluator.setParams(metricName = \"mae\").evaluate(model.transform(df_test)), 2))\n",
    "print('model R2:', round(evaluator.setParams(metricName = \"r2\").evaluate(model.transform(df_test)), 2))"
   ]
  },
  {
   "cell_type": "code",
   "execution_count": 22,
   "id": "004f9351",
   "metadata": {},
   "outputs": [
    {
     "name": "stdout",
     "output_type": "stream",
     "text": [
      "num_model RMSE: 70626.52\n",
      "num_model MAE: 51232.92\n",
      "num_model R2: 0.63\n"
     ]
    }
   ],
   "source": [
    "print('num_model RMSE:', round(evaluator.setParams(metricName = \"rmse\").evaluate(num_model.transform(df_test)), 2))\n",
    "print('num_model MAE:', round(evaluator.setParams(metricName = 'mae').evaluate(num_model.transform(df_test)), 2))\n",
    "print('num_model R2:', round(evaluator.setParams(metricName = 'r2').evaluate(num_model.transform(df_test)), 2))"
   ]
  },
  {
   "cell_type": "markdown",
   "id": "de2d79a2",
   "metadata": {},
   "source": [
    "Выводы по разделу:\n",
    "\n",
    "- метрики RMSE, MAE и R2 для модели линейной регрессии, использующей все данные из датасета, равны, соответственно: 69696.3, 50350.8, 0.64;\n",
    "- метрики RMSE, MAE и R2 для модели линейной регрессии, использующей только числовые данные, равны, соответственно: 70626.5, 51232.9, 0,63;"
   ]
  },
  {
   "cell_type": "markdown",
   "id": "809fc3f7",
   "metadata": {},
   "source": [
    "Общий вывод:\n",
    "\n",
    "Для решения задачи были проделаны следующие этапы:\n",
    "\n",
    "- подготовка данных:\n",
    "    - загружены необходимые библиотеки, прочитано содержимое датасета. Все признаки, за исключением целевого `ocean_proximity`(категориальный) - числовые;\n",
    "\n",
    "- предобработка данных:\n",
    "    - датасет проверен на пропущенные значения, все они оказались в колонке `total_bedrooms`;\n",
    "    - пропущенные значения были удалены, т.к. составляют всего 1% от общего количества данных;\n",
    "    - аномальные значения в первом приближении обнаружены не были;\n",
    "    - признаки кодированы и собраны в массив;\n",
    "\n",
    "- построение моделей линейной регрессии:\n",
    "    - данные в датасете разбиты на обучающую и тестовую выборки в пропорции 75% и 25% соответственно;\n",
    "    - построены две модели линейной регрессии: первая использует все данные из датасета, вторая - только числовые данные;\n",
    "    - для обеих моделей собраны пайплайны;\n",
    "\n",
    "- сравнение результатов работы линейной регрессии:\n",
    "    - метрики RMSE, MAE и R2 для модели линейной регрессии, использующей все данные из датасета, равны, соответственно: 69696.3, 50350.8, 0.64;\n",
    "    - метрики RMSE, MAE и R2 для модели линейной регрессии, использующей только числовые данные, равны, соответственно: 70626.5, 51232.9, 0,63;\n",
    "\n",
    "- итого, с предсказанием стоимости жилья в Калифорнии в 1990-м году примерно одинаково справляются обе модели - как та, что использует все данные из датасета, так и та, что использует только числовые данные. Метрики обеих моделей сопоставимы, при этом качество модели, обученной на всех признаках, несколько выше, чем той, что обучалась лишь на числовых данных."
   ]
  }
 ],
 "metadata": {
  "ExecuteTimeLog": [
   {
    "duration": 698,
    "start_time": "2024-11-15T05:51:43.955Z"
   },
   {
    "duration": 3,
    "start_time": "2024-11-15T05:52:31.844Z"
   },
   {
    "duration": 3,
    "start_time": "2024-11-15T05:52:34.976Z"
   },
   {
    "duration": 15641,
    "start_time": "2024-11-15T05:57:38.114Z"
   },
   {
    "duration": 9300,
    "start_time": "2024-11-15T06:01:11.235Z"
   },
   {
    "duration": 24,
    "start_time": "2024-11-15T06:01:58.504Z"
   },
   {
    "duration": 9,
    "start_time": "2024-11-15T06:04:26.015Z"
   },
   {
    "duration": 545,
    "start_time": "2024-11-15T06:04:39.927Z"
   },
   {
    "duration": 2,
    "start_time": "2024-11-15T06:04:40.474Z"
   },
   {
    "duration": 17075,
    "start_time": "2024-11-15T06:04:40.478Z"
   },
   {
    "duration": 10593,
    "start_time": "2024-11-15T06:04:57.556Z"
   },
   {
    "duration": 84,
    "start_time": "2024-11-15T06:05:08.152Z"
   },
   {
    "duration": 2950,
    "start_time": "2024-11-15T06:42:48.711Z"
   },
   {
    "duration": 1399,
    "start_time": "2024-11-15T06:59:50.753Z"
   },
   {
    "duration": 505,
    "start_time": "2024-11-15T07:00:18.371Z"
   },
   {
    "duration": 3,
    "start_time": "2024-11-15T07:00:18.877Z"
   },
   {
    "duration": 17288,
    "start_time": "2024-11-15T07:00:18.882Z"
   },
   {
    "duration": 10834,
    "start_time": "2024-11-15T07:00:36.222Z"
   },
   {
    "duration": 84,
    "start_time": "2024-11-15T07:00:47.058Z"
   },
   {
    "duration": 2715,
    "start_time": "2024-11-15T07:00:47.144Z"
   },
   {
    "duration": 635,
    "start_time": "2024-11-15T07:02:26.074Z"
   },
   {
    "duration": 205,
    "start_time": "2024-11-15T07:02:52.841Z"
   },
   {
    "duration": 360,
    "start_time": "2024-11-15T07:03:03.519Z"
   },
   {
    "duration": 1173,
    "start_time": "2024-11-15T07:04:59.576Z"
   },
   {
    "duration": 14,
    "start_time": "2024-11-15T07:05:43.034Z"
   },
   {
    "duration": 1183,
    "start_time": "2024-11-15T07:06:23.672Z"
   },
   {
    "duration": 861,
    "start_time": "2024-11-15T07:06:54.998Z"
   },
   {
    "duration": 1417,
    "start_time": "2024-11-15T07:14:14.716Z"
   },
   {
    "duration": 1018,
    "start_time": "2024-11-15T07:14:47.552Z"
   },
   {
    "duration": 837,
    "start_time": "2024-11-15T07:15:57.602Z"
   },
   {
    "duration": 717,
    "start_time": "2024-11-15T07:16:15.438Z"
   },
   {
    "duration": 334,
    "start_time": "2024-11-15T07:18:53.010Z"
   },
   {
    "duration": 54,
    "start_time": "2024-11-15T07:19:03.879Z"
   },
   {
    "duration": 53,
    "start_time": "2024-11-15T07:19:23.279Z"
   },
   {
    "duration": 8,
    "start_time": "2024-11-15T07:22:54.469Z"
   },
   {
    "duration": 8,
    "start_time": "2024-11-15T07:23:38.101Z"
   },
   {
    "duration": 1088,
    "start_time": "2024-11-15T07:23:44.165Z"
   },
   {
    "duration": 7,
    "start_time": "2024-11-15T07:26:12.206Z"
   },
   {
    "duration": 10,
    "start_time": "2024-11-15T07:26:54.432Z"
   },
   {
    "duration": 40018,
    "start_time": "2024-11-15T07:28:25.610Z"
   },
   {
    "duration": 12,
    "start_time": "2024-11-15T07:29:18.177Z"
   },
   {
    "duration": 1928,
    "start_time": "2024-11-15T07:30:34.988Z"
   },
   {
    "duration": 1759,
    "start_time": "2024-11-15T07:30:45.157Z"
   },
   {
    "duration": 13,
    "start_time": "2024-11-15T08:37:16.248Z"
   },
   {
    "duration": 3747,
    "start_time": "2024-11-15T08:52:25.493Z"
   },
   {
    "duration": 1875,
    "start_time": "2024-11-15T08:52:37.560Z"
   },
   {
    "duration": 1545,
    "start_time": "2024-11-15T08:52:48.908Z"
   },
   {
    "duration": 19,
    "start_time": "2024-11-15T08:54:55.723Z"
   },
   {
    "duration": 788,
    "start_time": "2024-11-15T08:55:44.551Z"
   },
   {
    "duration": 29,
    "start_time": "2024-11-15T10:39:47.901Z"
   },
   {
    "duration": 3,
    "start_time": "2024-11-15T10:44:50.615Z"
   },
   {
    "duration": 2063,
    "start_time": "2024-11-15T10:44:53.905Z"
   },
   {
    "duration": 716,
    "start_time": "2024-11-15T10:45:34.832Z"
   },
   {
    "duration": 100,
    "start_time": "2024-11-15T10:45:48.220Z"
   },
   {
    "duration": 5,
    "start_time": "2024-11-15T10:46:06.347Z"
   },
   {
    "duration": 9,
    "start_time": "2024-11-15T10:46:06.354Z"
   },
   {
    "duration": 20,
    "start_time": "2024-11-15T10:46:06.364Z"
   },
   {
    "duration": 641,
    "start_time": "2024-11-15T10:46:06.386Z"
   },
   {
    "duration": 4,
    "start_time": "2024-11-15T10:46:07.030Z"
   },
   {
    "duration": 586,
    "start_time": "2024-11-15T10:46:07.036Z"
   },
   {
    "duration": 450,
    "start_time": "2024-11-15T10:46:07.624Z"
   },
   {
    "duration": 1579,
    "start_time": "2024-11-15T10:46:08.076Z"
   },
   {
    "duration": 72,
    "start_time": "2024-11-15T10:46:09.657Z"
   },
   {
    "duration": 604,
    "start_time": "2024-11-15T10:46:09.731Z"
   },
   {
    "duration": 3,
    "start_time": "2024-11-15T10:46:10.337Z"
   },
   {
    "duration": 481,
    "start_time": "2024-11-15T10:48:00.855Z"
   },
   {
    "duration": 5,
    "start_time": "2024-11-15T11:09:43.646Z"
   },
   {
    "duration": 2513,
    "start_time": "2024-11-15T11:09:47.142Z"
   },
   {
    "duration": 113,
    "start_time": "2024-11-15T11:10:37.080Z"
   },
   {
    "duration": 5,
    "start_time": "2024-11-15T11:11:03.535Z"
   },
   {
    "duration": 35,
    "start_time": "2024-11-15T11:11:03.542Z"
   },
   {
    "duration": 44,
    "start_time": "2024-11-15T11:11:03.579Z"
   },
   {
    "duration": 602,
    "start_time": "2024-11-15T11:11:03.625Z"
   },
   {
    "duration": 5,
    "start_time": "2024-11-15T11:11:04.231Z"
   },
   {
    "duration": 504,
    "start_time": "2024-11-15T11:11:04.238Z"
   },
   {
    "duration": 578,
    "start_time": "2024-11-15T11:11:04.744Z"
   },
   {
    "duration": 1422,
    "start_time": "2024-11-15T11:11:05.325Z"
   },
   {
    "duration": 72,
    "start_time": "2024-11-15T11:11:06.749Z"
   },
   {
    "duration": 621,
    "start_time": "2024-11-15T11:11:06.823Z"
   },
   {
    "duration": 4,
    "start_time": "2024-11-15T11:11:07.447Z"
   },
   {
    "duration": 597,
    "start_time": "2024-11-15T11:11:07.454Z"
   },
   {
    "duration": 103,
    "start_time": "2024-11-15T11:12:06.421Z"
   },
   {
    "duration": 2116,
    "start_time": "2024-11-15T11:12:33.137Z"
   },
   {
    "duration": 132,
    "start_time": "2024-11-15T11:19:24.289Z"
   },
   {
    "duration": 5,
    "start_time": "2024-11-15T11:19:43.675Z"
   },
   {
    "duration": 87,
    "start_time": "2024-11-15T11:19:43.683Z"
   },
   {
    "duration": 15,
    "start_time": "2024-11-15T11:19:43.772Z"
   },
   {
    "duration": 452,
    "start_time": "2024-11-15T11:19:43.789Z"
   },
   {
    "duration": 4,
    "start_time": "2024-11-15T11:19:44.245Z"
   },
   {
    "duration": 635,
    "start_time": "2024-11-15T11:19:44.252Z"
   },
   {
    "duration": 452,
    "start_time": "2024-11-15T11:19:44.889Z"
   },
   {
    "duration": 1587,
    "start_time": "2024-11-15T11:19:45.344Z"
   },
   {
    "duration": 11,
    "start_time": "2024-11-15T11:19:46.932Z"
   },
   {
    "duration": 578,
    "start_time": "2024-11-15T11:19:46.945Z"
   },
   {
    "duration": 4,
    "start_time": "2024-11-15T11:19:47.524Z"
   },
   {
    "duration": 519,
    "start_time": "2024-11-15T11:19:47.529Z"
   },
   {
    "duration": 90,
    "start_time": "2024-11-15T11:19:48.050Z"
   },
   {
    "duration": 3,
    "start_time": "2024-11-15T11:20:14.680Z"
   },
   {
    "duration": 112,
    "start_time": "2024-11-15T11:20:15.530Z"
   },
   {
    "duration": 128,
    "start_time": "2024-11-15T11:20:15.881Z"
   },
   {
    "duration": 617,
    "start_time": "2024-11-15T11:20:25.976Z"
   },
   {
    "duration": 3,
    "start_time": "2024-11-15T11:20:26.596Z"
   },
   {
    "duration": 15030,
    "start_time": "2024-11-15T11:20:26.601Z"
   },
   {
    "duration": 13088,
    "start_time": "2024-11-15T11:20:41.633Z"
   },
   {
    "duration": 8,
    "start_time": "2024-11-15T11:20:54.725Z"
   },
   {
    "duration": 3089,
    "start_time": "2024-11-15T11:20:54.736Z"
   },
   {
    "duration": 1798,
    "start_time": "2024-11-15T11:20:57.827Z"
   },
   {
    "duration": 4602,
    "start_time": "2024-11-15T11:20:59.627Z"
   },
   {
    "duration": 21,
    "start_time": "2024-11-15T11:21:04.231Z"
   },
   {
    "duration": 1171,
    "start_time": "2024-11-15T11:21:04.254Z"
   },
   {
    "duration": 4,
    "start_time": "2024-11-15T11:21:05.427Z"
   },
   {
    "duration": 2412,
    "start_time": "2024-11-15T11:21:05.433Z"
   },
   {
    "duration": 373,
    "start_time": "2024-11-15T11:21:07.848Z"
   },
   {
    "duration": 620,
    "start_time": "2024-11-15T12:38:30.775Z"
   },
   {
    "duration": 3,
    "start_time": "2024-11-15T12:38:31.397Z"
   },
   {
    "duration": 14331,
    "start_time": "2024-11-15T12:38:31.402Z"
   },
   {
    "duration": 12009,
    "start_time": "2024-11-15T12:38:45.736Z"
   },
   {
    "duration": 6,
    "start_time": "2024-11-15T12:38:57.748Z"
   },
   {
    "duration": 2904,
    "start_time": "2024-11-15T12:38:57.821Z"
   },
   {
    "duration": 1614,
    "start_time": "2024-11-15T12:39:00.727Z"
   },
   {
    "duration": 4086,
    "start_time": "2024-11-15T12:39:02.343Z"
   },
   {
    "duration": 21,
    "start_time": "2024-11-15T12:39:06.432Z"
   },
   {
    "duration": 1084,
    "start_time": "2024-11-15T12:39:06.455Z"
   },
   {
    "duration": 3,
    "start_time": "2024-11-15T12:39:07.541Z"
   },
   {
    "duration": 2300,
    "start_time": "2024-11-15T12:39:07.546Z"
   },
   {
    "duration": 277,
    "start_time": "2024-11-15T12:39:09.847Z"
   },
   {
    "duration": 93,
    "start_time": "2024-11-15T13:12:16.262Z"
   },
   {
    "duration": 9,
    "start_time": "2024-11-15T13:12:30.494Z"
   },
   {
    "duration": 27,
    "start_time": "2024-11-15T13:12:43.618Z"
   },
   {
    "duration": 12,
    "start_time": "2024-11-15T13:17:38.569Z"
   },
   {
    "duration": 3,
    "start_time": "2024-11-15T13:17:46.368Z"
   },
   {
    "duration": 16,
    "start_time": "2024-11-15T13:21:09.756Z"
   },
   {
    "duration": 6,
    "start_time": "2024-11-15T13:21:48.139Z"
   },
   {
    "duration": 56,
    "start_time": "2024-11-15T13:21:52.277Z"
   },
   {
    "duration": 5,
    "start_time": "2024-11-15T13:22:15.259Z"
   },
   {
    "duration": 16,
    "start_time": "2024-11-15T13:22:54.920Z"
   },
   {
    "duration": 16,
    "start_time": "2024-11-15T13:23:18.746Z"
   },
   {
    "duration": 4,
    "start_time": "2024-11-15T13:23:36.180Z"
   },
   {
    "duration": 22,
    "start_time": "2024-11-15T13:23:40.275Z"
   },
   {
    "duration": 5,
    "start_time": "2024-11-15T13:24:06.133Z"
   },
   {
    "duration": 24,
    "start_time": "2024-11-15T13:24:09.603Z"
   },
   {
    "duration": 37,
    "start_time": "2024-11-15T13:30:23.102Z"
   },
   {
    "duration": 607,
    "start_time": "2024-11-15T13:31:32.192Z"
   },
   {
    "duration": 3,
    "start_time": "2024-11-15T13:31:32.801Z"
   },
   {
    "duration": 14716,
    "start_time": "2024-11-15T13:31:32.805Z"
   },
   {
    "duration": 11998,
    "start_time": "2024-11-15T13:31:47.523Z"
   },
   {
    "duration": 7,
    "start_time": "2024-11-15T13:31:59.524Z"
   },
   {
    "duration": 2911,
    "start_time": "2024-11-15T13:31:59.533Z"
   },
   {
    "duration": 1696,
    "start_time": "2024-11-15T13:32:02.446Z"
   },
   {
    "duration": 4201,
    "start_time": "2024-11-15T13:32:04.143Z"
   },
   {
    "duration": 21,
    "start_time": "2024-11-15T13:32:08.346Z"
   },
   {
    "duration": 1019,
    "start_time": "2024-11-15T13:32:08.421Z"
   },
   {
    "duration": 2,
    "start_time": "2024-11-15T13:32:09.443Z"
   },
   {
    "duration": 5,
    "start_time": "2024-11-15T13:32:09.447Z"
   },
   {
    "duration": 67,
    "start_time": "2024-11-15T13:32:09.454Z"
   },
   {
    "duration": 130,
    "start_time": "2024-11-15T13:32:09.523Z"
   },
   {
    "duration": 21,
    "start_time": "2024-11-15T13:32:09.655Z"
   },
   {
    "duration": 2556278,
    "start_time": "2024-11-15T13:32:09.677Z"
   },
   {
    "duration": 95,
    "start_time": "2024-11-15T14:32:41.413Z"
   },
   {
    "duration": 534923,
    "start_time": "2024-11-15T14:33:04.429Z"
   },
   {
    "duration": 11,
    "start_time": "2024-11-15T15:15:23.055Z"
   },
   {
    "duration": 8,
    "start_time": "2024-11-15T15:15:29.978Z"
   },
   {
    "duration": 1845,
    "start_time": "2024-11-15T15:16:24.221Z"
   },
   {
    "duration": 14,
    "start_time": "2024-11-15T15:17:33.333Z"
   },
   {
    "duration": 1373,
    "start_time": "2024-11-15T15:17:53.861Z"
   },
   {
    "duration": 577,
    "start_time": "2024-11-15T16:48:10.622Z"
   },
   {
    "duration": 3,
    "start_time": "2024-11-15T16:48:11.201Z"
   },
   {
    "duration": 14426,
    "start_time": "2024-11-15T16:48:11.205Z"
   },
   {
    "duration": 12088,
    "start_time": "2024-11-15T16:48:25.634Z"
   },
   {
    "duration": 6,
    "start_time": "2024-11-15T16:48:37.725Z"
   },
   {
    "duration": 2912,
    "start_time": "2024-11-15T16:48:37.732Z"
   },
   {
    "duration": 1695,
    "start_time": "2024-11-15T16:48:40.646Z"
   },
   {
    "duration": 4289,
    "start_time": "2024-11-15T16:48:42.342Z"
   },
   {
    "duration": 18,
    "start_time": "2024-11-15T16:48:46.632Z"
   },
   {
    "duration": 1090,
    "start_time": "2024-11-15T16:48:46.652Z"
   },
   {
    "duration": 195,
    "start_time": "2024-11-15T16:48:47.743Z"
   },
   {
    "duration": 19,
    "start_time": "2024-11-15T16:48:47.939Z"
   },
   {
    "duration": 178,
    "start_time": "2024-11-15T16:48:47.959Z"
   },
   {
    "duration": 2787216,
    "start_time": "2024-11-15T16:48:48.139Z"
   },
   {
    "duration": 72,
    "start_time": "2024-11-15T17:35:15.357Z"
   },
   {
    "duration": 55,
    "start_time": "2024-11-15T17:35:15.431Z"
   },
   {
    "duration": 0,
    "start_time": "2024-11-15T17:35:15.521Z"
   },
   {
    "duration": 0,
    "start_time": "2024-11-15T17:35:15.523Z"
   },
   {
    "duration": 0,
    "start_time": "2024-11-15T17:35:15.525Z"
   },
   {
    "duration": 0,
    "start_time": "2024-11-15T17:35:15.526Z"
   },
   {
    "duration": 94,
    "start_time": "2024-11-15T17:40:36.858Z"
   },
   {
    "duration": 0,
    "start_time": "2024-11-15T17:40:36.955Z"
   },
   {
    "duration": 0,
    "start_time": "2024-11-15T17:40:36.957Z"
   },
   {
    "duration": 0,
    "start_time": "2024-11-15T17:40:36.958Z"
   },
   {
    "duration": 0,
    "start_time": "2024-11-15T17:40:36.960Z"
   },
   {
    "duration": 0,
    "start_time": "2024-11-15T17:40:36.961Z"
   },
   {
    "duration": 0,
    "start_time": "2024-11-15T17:40:36.962Z"
   },
   {
    "duration": 0,
    "start_time": "2024-11-15T17:40:36.964Z"
   },
   {
    "duration": 0,
    "start_time": "2024-11-15T17:40:36.966Z"
   },
   {
    "duration": 0,
    "start_time": "2024-11-15T17:40:36.967Z"
   },
   {
    "duration": 0,
    "start_time": "2024-11-15T17:40:36.969Z"
   },
   {
    "duration": 0,
    "start_time": "2024-11-15T17:40:36.970Z"
   },
   {
    "duration": 0,
    "start_time": "2024-11-15T17:40:37.021Z"
   },
   {
    "duration": 0,
    "start_time": "2024-11-15T17:40:37.023Z"
   },
   {
    "duration": 0,
    "start_time": "2024-11-15T17:40:37.025Z"
   },
   {
    "duration": 0,
    "start_time": "2024-11-15T17:40:37.027Z"
   },
   {
    "duration": 0,
    "start_time": "2024-11-15T17:40:37.028Z"
   },
   {
    "duration": 0,
    "start_time": "2024-11-15T17:40:37.029Z"
   },
   {
    "duration": 0,
    "start_time": "2024-11-15T17:40:37.030Z"
   },
   {
    "duration": 620,
    "start_time": "2024-11-15T17:41:06.283Z"
   },
   {
    "duration": 2,
    "start_time": "2024-11-15T17:41:06.906Z"
   },
   {
    "duration": 14412,
    "start_time": "2024-11-15T17:41:06.920Z"
   },
   {
    "duration": 12295,
    "start_time": "2024-11-15T17:41:21.334Z"
   },
   {
    "duration": 7,
    "start_time": "2024-11-15T17:41:33.631Z"
   },
   {
    "duration": 2804,
    "start_time": "2024-11-15T17:41:33.639Z"
   },
   {
    "duration": 1784,
    "start_time": "2024-11-15T17:41:36.446Z"
   },
   {
    "duration": 4495,
    "start_time": "2024-11-15T17:41:38.232Z"
   },
   {
    "duration": 19,
    "start_time": "2024-11-15T17:41:42.728Z"
   },
   {
    "duration": 1001,
    "start_time": "2024-11-15T17:41:42.748Z"
   },
   {
    "duration": 187,
    "start_time": "2024-11-15T17:41:43.751Z"
   },
   {
    "duration": 18,
    "start_time": "2024-11-15T17:41:43.940Z"
   },
   {
    "duration": 188,
    "start_time": "2024-11-15T17:41:43.960Z"
   },
   {
    "duration": 610,
    "start_time": "2024-11-15T18:08:23.093Z"
   },
   {
    "duration": 3,
    "start_time": "2024-11-15T18:08:23.705Z"
   },
   {
    "duration": 14511,
    "start_time": "2024-11-15T18:08:23.721Z"
   },
   {
    "duration": 12114,
    "start_time": "2024-11-15T18:08:38.234Z"
   },
   {
    "duration": 75,
    "start_time": "2024-11-15T18:08:50.351Z"
   },
   {
    "duration": 2892,
    "start_time": "2024-11-15T18:08:50.429Z"
   },
   {
    "duration": 2005,
    "start_time": "2024-11-15T18:08:53.324Z"
   },
   {
    "duration": 4118,
    "start_time": "2024-11-15T18:08:55.331Z"
   },
   {
    "duration": 87,
    "start_time": "2024-11-15T18:08:59.451Z"
   },
   {
    "duration": 1099,
    "start_time": "2024-11-15T18:08:59.539Z"
   },
   {
    "duration": 184,
    "start_time": "2024-11-15T18:09:00.640Z"
   },
   {
    "duration": 19,
    "start_time": "2024-11-15T18:09:00.826Z"
   },
   {
    "duration": 179,
    "start_time": "2024-11-15T18:09:00.848Z"
   },
   {
    "duration": 2661219,
    "start_time": "2024-11-15T18:09:01.030Z"
   },
   {
    "duration": 70,
    "start_time": "2024-11-15T18:53:22.252Z"
   },
   {
    "duration": 547507,
    "start_time": "2024-11-15T18:53:22.324Z"
   },
   {
    "duration": 9,
    "start_time": "2024-11-15T19:02:29.833Z"
   },
   {
    "duration": 1886,
    "start_time": "2024-11-15T19:02:29.844Z"
   },
   {
    "duration": 1437,
    "start_time": "2024-11-15T19:02:31.731Z"
   },
   {
    "duration": 569,
    "start_time": "2024-11-16T03:40:44.333Z"
   },
   {
    "duration": 3,
    "start_time": "2024-11-16T03:40:44.903Z"
   },
   {
    "duration": 15370,
    "start_time": "2024-11-16T03:40:44.910Z"
   },
   {
    "duration": 9069,
    "start_time": "2024-11-16T03:41:00.283Z"
   },
   {
    "duration": 16,
    "start_time": "2024-11-16T03:41:09.353Z"
   },
   {
    "duration": 2194,
    "start_time": "2024-11-16T03:41:09.370Z"
   },
   {
    "duration": 1215,
    "start_time": "2024-11-16T03:41:11.567Z"
   },
   {
    "duration": 3632,
    "start_time": "2024-11-16T03:41:12.843Z"
   },
   {
    "duration": 78,
    "start_time": "2024-11-16T03:41:16.477Z"
   },
   {
    "duration": 1191,
    "start_time": "2024-11-16T03:41:16.557Z"
   },
   {
    "duration": 112,
    "start_time": "2024-11-16T03:41:17.750Z"
   },
   {
    "duration": 97,
    "start_time": "2024-11-16T03:41:17.863Z"
   },
   {
    "duration": 108,
    "start_time": "2024-11-16T03:41:17.962Z"
   },
   {
    "duration": 2436990,
    "start_time": "2024-11-16T03:41:18.071Z"
   },
   {
    "duration": 13,
    "start_time": "2024-11-16T04:21:55.063Z"
   },
   {
    "duration": 512114,
    "start_time": "2024-11-16T04:21:55.077Z"
   },
   {
    "duration": 8,
    "start_time": "2024-11-16T04:30:27.193Z"
   },
   {
    "duration": 1761,
    "start_time": "2024-11-16T04:30:27.203Z"
   },
   {
    "duration": 1304,
    "start_time": "2024-11-16T04:30:28.966Z"
   },
   {
    "duration": 60,
    "start_time": "2024-11-17T10:20:43.026Z"
   },
   {
    "duration": 49,
    "start_time": "2024-11-17T10:22:12.238Z"
   },
   {
    "duration": 494,
    "start_time": "2024-11-17T10:22:32.102Z"
   },
   {
    "duration": 94,
    "start_time": "2024-11-17T10:26:36.158Z"
   },
   {
    "duration": 53,
    "start_time": "2024-11-17T10:26:44.568Z"
   },
   {
    "duration": 3,
    "start_time": "2024-11-17T10:26:44.623Z"
   },
   {
    "duration": 16940,
    "start_time": "2024-11-17T10:26:44.629Z"
   },
   {
    "duration": 9570,
    "start_time": "2024-11-17T10:27:01.571Z"
   },
   {
    "duration": 45,
    "start_time": "2024-11-17T10:27:11.143Z"
   },
   {
    "duration": 2658,
    "start_time": "2024-11-17T10:27:11.190Z"
   },
   {
    "duration": 1472,
    "start_time": "2024-11-17T10:27:13.849Z"
   },
   {
    "duration": 53,
    "start_time": "2024-11-17T10:27:15.326Z"
   },
   {
    "duration": 2,
    "start_time": "2024-11-17T10:27:21.091Z"
   },
   {
    "duration": 4,
    "start_time": "2024-11-17T10:27:22.398Z"
   },
   {
    "duration": 848,
    "start_time": "2024-11-17T10:27:25.371Z"
   },
   {
    "duration": 4,
    "start_time": "2024-11-17T10:27:30.157Z"
   },
   {
    "duration": 951,
    "start_time": "2024-11-17T10:27:35.417Z"
   },
   {
    "duration": 625,
    "start_time": "2024-11-17T10:27:42.159Z"
   },
   {
    "duration": 3482,
    "start_time": "2024-11-17T10:27:44.771Z"
   },
   {
    "duration": 4,
    "start_time": "2024-11-17T10:28:04.057Z"
   },
   {
    "duration": 942,
    "start_time": "2024-11-17T10:35:03.450Z"
   },
   {
    "duration": 38,
    "start_time": "2024-11-17T10:35:39.143Z"
   },
   {
    "duration": 1127,
    "start_time": "2024-11-17T10:36:19.754Z"
   },
   {
    "duration": 46,
    "start_time": "2024-11-17T10:38:35.250Z"
   },
   {
    "duration": 532,
    "start_time": "2024-11-17T10:46:04.197Z"
   },
   {
    "duration": 6,
    "start_time": "2024-11-17T10:46:04.730Z"
   },
   {
    "duration": 15320,
    "start_time": "2024-11-17T10:46:04.738Z"
   },
   {
    "duration": 8087,
    "start_time": "2024-11-17T10:46:20.060Z"
   },
   {
    "duration": 19,
    "start_time": "2024-11-17T10:46:28.149Z"
   },
   {
    "duration": 2292,
    "start_time": "2024-11-17T10:46:28.169Z"
   },
   {
    "duration": 1186,
    "start_time": "2024-11-17T10:46:30.463Z"
   },
   {
    "duration": 3403,
    "start_time": "2024-11-17T10:46:31.650Z"
   },
   {
    "duration": 4,
    "start_time": "2024-11-17T10:46:35.054Z"
   },
   {
    "duration": 1115,
    "start_time": "2024-11-17T10:46:35.147Z"
   },
   {
    "duration": 101,
    "start_time": "2024-11-17T10:46:36.264Z"
   },
   {
    "duration": 978,
    "start_time": "2024-11-17T10:46:36.366Z"
   },
   {
    "duration": 2,
    "start_time": "2024-11-17T10:46:37.349Z"
   },
   {
    "duration": 112,
    "start_time": "2024-11-17T10:46:37.352Z"
   },
   {
    "duration": 83,
    "start_time": "2024-11-17T10:46:37.465Z"
   },
   {
    "duration": 45,
    "start_time": "2024-11-17T10:46:37.550Z"
   },
   {
    "duration": 1781822,
    "start_time": "2024-11-17T10:46:37.596Z"
   },
   {
    "duration": 51,
    "start_time": "2024-11-17T11:16:19.421Z"
   },
   {
    "duration": 276127,
    "start_time": "2024-11-17T11:16:19.473Z"
   },
   {
    "duration": 6,
    "start_time": "2024-11-17T11:20:55.601Z"
   },
   {
    "duration": 1357,
    "start_time": "2024-11-17T11:20:55.608Z"
   },
   {
    "duration": 1199,
    "start_time": "2024-11-17T11:20:56.966Z"
   }
  ],
  "colab": {
   "name": "PySparkSprint.ipynb",
   "provenance": []
  },
  "kernelspec": {
   "display_name": "Python 3 (ipykernel)",
   "language": "python",
   "name": "python3"
  },
  "language_info": {
   "codemirror_mode": {
    "name": "ipython",
    "version": 3
   },
   "file_extension": ".py",
   "mimetype": "text/x-python",
   "name": "python",
   "nbconvert_exporter": "python",
   "pygments_lexer": "ipython3",
   "version": "3.11.8"
  },
  "toc": {
   "base_numbering": 1,
   "nav_menu": {},
   "number_sections": true,
   "sideBar": true,
   "skip_h1_title": true,
   "title_cell": "Table of Contents",
   "title_sidebar": "Contents",
   "toc_cell": false,
   "toc_position": {},
   "toc_section_display": true,
   "toc_window_display": true
  }
 },
 "nbformat": 4,
 "nbformat_minor": 5
}
