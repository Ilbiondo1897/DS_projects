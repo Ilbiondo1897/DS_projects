{
 "cells": [
  {
   "cell_type": "markdown",
   "metadata": {
    "toc": true
   },
   "source": [
    "<h1>Содержание<span class=\"tocSkip\"></span></h1>\n",
    "<div class=\"toc\"><ul class=\"toc-item\"><li><span><a href=\"#Загрузка-данных-и-их-ресемплирование\" data-toc-modified-id=\"Загрузка-данных-и-их-ресемплирование-1\"><span class=\"toc-item-num\">1&nbsp;&nbsp;</span>Загрузка данных и их ресемплирование</a></span></li><li><span><a href=\"#Анализ-данных\" data-toc-modified-id=\"Анализ-данных-2\"><span class=\"toc-item-num\">2&nbsp;&nbsp;</span>Анализ данных</a></span></li><li><span><a href=\"#Обучение-моделей\" data-toc-modified-id=\"Обучение-моделей-3\"><span class=\"toc-item-num\">3&nbsp;&nbsp;</span>Обучение моделей</a></span></li><li><span><a href=\"#Отчёт-по-исследованию\" data-toc-modified-id=\"Отчёт-по-исследованию-4\"><span class=\"toc-item-num\">4&nbsp;&nbsp;</span>Отчёт по исследованию</a></span></li></ul></div>"
   ]
  },
  {
   "cell_type": "markdown",
   "metadata": {
    "id": "Mb1PscrLQMx1"
   },
   "source": [
    "# Проект: модель для прогнозирования количества заказов такси"
   ]
  },
  {
   "cell_type": "markdown",
   "metadata": {
    "id": "BhUzjkT_QY0c"
   },
   "source": [
    "Описание задачи: Компания «Чётенькое такси» собрала исторические данные о заказах такси в аэропортах. Чтобы привлекать больше водителей в период пиковой нагрузки, нужно спрогнозировать количество заказов такси на следующий час. Требуется построить модель для такого предсказания, значение метрики RMSE на тестовой выборке должно быть не больше 48"
   ]
  },
  {
   "cell_type": "markdown",
   "metadata": {
    "id": "u2HSqjcLQugc"
   },
   "source": [
    "## Загрузка данных и их ресемплирование"
   ]
  },
  {
   "cell_type": "markdown",
   "metadata": {
    "id": "_fw4vwhOQxZk"
   },
   "source": [
    "Загрузим необходимые библиотеки"
   ]
  },
  {
   "cell_type": "code",
   "execution_count": 1,
   "metadata": {
    "colab": {
     "base_uri": "https://localhost:8080/"
    },
    "id": "Bt84rY-wH-cz",
    "outputId": "45ce2e50-459d-47c9-9db1-eff38dc7bada"
   },
   "outputs": [
    {
     "name": "stdout",
     "output_type": "stream",
     "text": [
      "Requirement already satisfied: lightgbm in /opt/conda/lib/python3.9/site-packages (3.3.1)\n",
      "Requirement already satisfied: numpy in /opt/conda/lib/python3.9/site-packages (from lightgbm) (1.24.4)\n",
      "Requirement already satisfied: scikit-learn!=0.22.0 in /opt/conda/lib/python3.9/site-packages (from lightgbm) (1.6.1)\n",
      "Requirement already satisfied: wheel in /opt/conda/lib/python3.9/site-packages (from lightgbm) (0.36.2)\n",
      "Requirement already satisfied: scipy in /opt/conda/lib/python3.9/site-packages (from lightgbm) (1.9.1)\n",
      "Requirement already satisfied: threadpoolctl>=3.1.0 in /opt/conda/lib/python3.9/site-packages (from scikit-learn!=0.22.0->lightgbm) (3.1.0)\n",
      "Requirement already satisfied: joblib>=1.2.0 in /opt/conda/lib/python3.9/site-packages (from scikit-learn!=0.22.0->lightgbm) (1.4.2)\n",
      "Note: you may need to restart the kernel to use updated packages.\n"
     ]
    }
   ],
   "source": [
    "pip install lightgbm"
   ]
  },
  {
   "cell_type": "code",
   "execution_count": 2,
   "metadata": {
    "colab": {
     "base_uri": "https://localhost:8080/"
    },
    "id": "bYnaNkZIQ8QN",
    "outputId": "b813b909-4205-4e33-9691-42954524a9c3"
   },
   "outputs": [
    {
     "name": "stdout",
     "output_type": "stream",
     "text": [
      "Requirement already satisfied: CatBoost in /opt/conda/lib/python3.9/site-packages (1.0.3)\n",
      "Requirement already satisfied: scipy in /opt/conda/lib/python3.9/site-packages (from CatBoost) (1.9.1)\n",
      "Requirement already satisfied: matplotlib in /opt/conda/lib/python3.9/site-packages (from CatBoost) (3.7.1)\n",
      "Requirement already satisfied: six in /opt/conda/lib/python3.9/site-packages (from CatBoost) (1.16.0)\n",
      "Requirement already satisfied: graphviz in /opt/conda/lib/python3.9/site-packages (from CatBoost) (0.20.1)\n",
      "Requirement already satisfied: plotly in /opt/conda/lib/python3.9/site-packages (from CatBoost) (5.4.0)\n",
      "Requirement already satisfied: numpy>=1.16.0 in /opt/conda/lib/python3.9/site-packages (from CatBoost) (1.24.4)\n",
      "Requirement already satisfied: pandas>=0.24.0 in /opt/conda/lib/python3.9/site-packages (from CatBoost) (1.2.4)\n",
      "Requirement already satisfied: python-dateutil>=2.7.3 in /opt/conda/lib/python3.9/site-packages (from pandas>=0.24.0->CatBoost) (2.8.1)\n",
      "Requirement already satisfied: pytz>=2017.3 in /opt/conda/lib/python3.9/site-packages (from pandas>=0.24.0->CatBoost) (2021.1)\n",
      "Requirement already satisfied: cycler>=0.10 in /opt/conda/lib/python3.9/site-packages (from matplotlib->CatBoost) (0.11.0)\n",
      "Requirement already satisfied: kiwisolver>=1.0.1 in /opt/conda/lib/python3.9/site-packages (from matplotlib->CatBoost) (1.4.4)\n",
      "Requirement already satisfied: packaging>=20.0 in /opt/conda/lib/python3.9/site-packages (from matplotlib->CatBoost) (21.3)\n",
      "Requirement already satisfied: pyparsing>=2.3.1 in /opt/conda/lib/python3.9/site-packages (from matplotlib->CatBoost) (2.4.7)\n",
      "Requirement already satisfied: pillow>=6.2.0 in /opt/conda/lib/python3.9/site-packages (from matplotlib->CatBoost) (8.4.0)\n",
      "Requirement already satisfied: contourpy>=1.0.1 in /opt/conda/lib/python3.9/site-packages (from matplotlib->CatBoost) (1.3.0)\n",
      "Requirement already satisfied: fonttools>=4.22.0 in /opt/conda/lib/python3.9/site-packages (from matplotlib->CatBoost) (4.56.0)\n",
      "Requirement already satisfied: importlib-resources>=3.2.0 in /opt/conda/lib/python3.9/site-packages (from matplotlib->CatBoost) (6.5.2)\n",
      "Requirement already satisfied: zipp>=3.1.0 in /opt/conda/lib/python3.9/site-packages (from importlib-resources>=3.2.0->matplotlib->CatBoost) (3.5.0)\n",
      "Requirement already satisfied: tenacity>=6.2.0 in /opt/conda/lib/python3.9/site-packages (from plotly->CatBoost) (8.0.1)\n",
      "Note: you may need to restart the kernel to use updated packages.\n"
     ]
    }
   ],
   "source": [
    "pip install CatBoost"
   ]
  },
  {
   "cell_type": "code",
   "execution_count": 3,
   "metadata": {
    "id": "e1lUr0ZkRCv5"
   },
   "outputs": [],
   "source": [
    "# для Jupyter Notebook:\n",
    "! pip install matplotlib==3.7.1 -q\n",
    "! pip install -U scikit-learn -q"
   ]
  },
  {
   "cell_type": "code",
   "execution_count": 4,
   "metadata": {
    "id": "95kRXa1ERJAA"
   },
   "outputs": [],
   "source": [
    "import pandas as pd\n",
    "import numpy as np\n",
    "import os\n",
    "import matplotlib.pyplot as plt\n",
    "import warnings\n",
    "warnings.filterwarnings('ignore')\n",
    "\n",
    "import sklearn\n",
    "import sklearn.metrics\n",
    "from sklearn.preprocessing import OneHotEncoder\n",
    "from sklearn.model_selection import train_test_split, TimeSeriesSplit, \\\n",
    "                                                              GridSearchCV\n",
    "from sklearn.linear_model import LinearRegression\n",
    "from sklearn.compose import ColumnTransformer, make_column_transformer\n",
    "from sklearn.metrics import mean_squared_error\n",
    "from sklearn.tree import DecisionTreeClassifier, DecisionTreeRegressor\n",
    "\n",
    "from catboost import CatBoostClassifier, CatBoostRegressor\n",
    "from lightgbm import LGBMClassifier, LGBMRegressor\n",
    "\n",
    "from statsmodels.tsa.seasonal import seasonal_decompose\n",
    "from math import sqrt"
   ]
  },
  {
   "cell_type": "code",
   "execution_count": 5,
   "metadata": {
    "id": "mMAbJP-FR0zc"
   },
   "outputs": [],
   "source": [
    "TEST_SIZE = 0.1\n",
    "RANDOM_STATE = 1897"
   ]
  },
  {
   "cell_type": "code",
   "execution_count": 6,
   "metadata": {
    "id": "HjekhWAUR6O8"
   },
   "outputs": [],
   "source": [
    "# загрузка файла данных из GD:\n",
    "#! gdown 1GNuYB4WMAxKBzlzqI-ockCAsVWVB_wv- -q"
   ]
  },
  {
   "cell_type": "code",
   "execution_count": 7,
   "metadata": {
    "id": "yuvqxnTpS0H9"
   },
   "outputs": [],
   "source": [
    "#data = pd.read_csv('/content/taxi.csv', index_col=[0], parse_dates=[0])"
   ]
  },
  {
   "cell_type": "code",
   "execution_count": 8,
   "metadata": {
    "id": "ELPx4iaATpEl"
   },
   "outputs": [],
   "source": [
    "# для Jupyter Notebook:\n",
    "\n",
    "path_1 = 'taxi.csv'\n",
    "path_2 = '/datasets/taxi.csv'\n",
    "\n",
    "if os.path.exists(path_1):\n",
    "    data = pd.read_csv(path_1, index_col=[0], parse_dates=[0])\n",
    "elif os.path.exists(path_2):\n",
    "    data = pd.read_csv(path_2, index_col=[0], parse_dates=[0])\n",
    "else:\n",
    "    print('Something is wrong!')"
   ]
  },
  {
   "cell_type": "code",
   "execution_count": 9,
   "metadata": {
    "id": "fHzxUG5kT1QL"
   },
   "outputs": [],
   "source": [
    "# настройка для вывода всех столбцов в датасете:\n",
    "pd.set_option('display.max_columns', None)"
   ]
  },
  {
   "cell_type": "code",
   "execution_count": 10,
   "metadata": {
    "colab": {
     "base_uri": "https://localhost:8080/",
     "height": 0
    },
    "id": "277pxCyXJ5Ak",
    "outputId": "2f08fbc2-e4ae-4d90-c8af-d56b108e8661"
   },
   "outputs": [
    {
     "data": {
      "text/html": [
       "<div>\n",
       "<style scoped>\n",
       "    .dataframe tbody tr th:only-of-type {\n",
       "        vertical-align: middle;\n",
       "    }\n",
       "\n",
       "    .dataframe tbody tr th {\n",
       "        vertical-align: top;\n",
       "    }\n",
       "\n",
       "    .dataframe thead th {\n",
       "        text-align: right;\n",
       "    }\n",
       "</style>\n",
       "<table border=\"1\" class=\"dataframe\">\n",
       "  <thead>\n",
       "    <tr style=\"text-align: right;\">\n",
       "      <th></th>\n",
       "      <th>num_orders</th>\n",
       "    </tr>\n",
       "    <tr>\n",
       "      <th>datetime</th>\n",
       "      <th></th>\n",
       "    </tr>\n",
       "  </thead>\n",
       "  <tbody>\n",
       "    <tr>\n",
       "      <th>2018-03-01 00:00:00</th>\n",
       "      <td>9</td>\n",
       "    </tr>\n",
       "    <tr>\n",
       "      <th>2018-03-01 00:10:00</th>\n",
       "      <td>14</td>\n",
       "    </tr>\n",
       "    <tr>\n",
       "      <th>2018-03-01 00:20:00</th>\n",
       "      <td>28</td>\n",
       "    </tr>\n",
       "    <tr>\n",
       "      <th>2018-03-01 00:30:00</th>\n",
       "      <td>20</td>\n",
       "    </tr>\n",
       "    <tr>\n",
       "      <th>2018-03-01 00:40:00</th>\n",
       "      <td>32</td>\n",
       "    </tr>\n",
       "  </tbody>\n",
       "</table>\n",
       "</div>"
      ],
      "text/plain": [
       "                     num_orders\n",
       "datetime                       \n",
       "2018-03-01 00:00:00           9\n",
       "2018-03-01 00:10:00          14\n",
       "2018-03-01 00:20:00          28\n",
       "2018-03-01 00:30:00          20\n",
       "2018-03-01 00:40:00          32"
      ]
     },
     "execution_count": 10,
     "metadata": {},
     "output_type": "execute_result"
    }
   ],
   "source": [
    "data.head()"
   ]
  },
  {
   "cell_type": "code",
   "execution_count": 11,
   "metadata": {
    "colab": {
     "base_uri": "https://localhost:8080/"
    },
    "id": "ekAmLilpVLWO",
    "outputId": "db3077e4-81b5-4acc-99f7-74cf3d91df92"
   },
   "outputs": [
    {
     "name": "stdout",
     "output_type": "stream",
     "text": [
      "<class 'pandas.core.frame.DataFrame'>\n",
      "DatetimeIndex: 26496 entries, 2018-03-01 00:00:00 to 2018-08-31 23:50:00\n",
      "Data columns (total 1 columns):\n",
      " #   Column      Non-Null Count  Dtype\n",
      "---  ------      --------------  -----\n",
      " 0   num_orders  26496 non-null  int64\n",
      "dtypes: int64(1)\n",
      "memory usage: 414.0 KB\n"
     ]
    }
   ],
   "source": [
    "data.info()"
   ]
  },
  {
   "cell_type": "markdown",
   "metadata": {
    "id": "8kDLz6fgXLjs"
   },
   "source": [
    "Датасет содержит всего два признака:\n",
    "\n",
    "- `datetime` - информация о дате и времени совершения заказов такси\n",
    "- `num_orders` - количество заказов такси"
   ]
  },
  {
   "cell_type": "code",
   "execution_count": 12,
   "metadata": {
    "colab": {
     "base_uri": "https://localhost:8080/",
     "height": 0
    },
    "id": "PwYvFiFbZWZ8",
    "outputId": "d4d4324d-4bc1-4dcc-a962-a611dc5dcea6"
   },
   "outputs": [
    {
     "data": {
      "text/plain": [
       "True"
      ]
     },
     "metadata": {},
     "output_type": "display_data"
    }
   ],
   "source": [
    "# проверим, расположены ли дата и время в хронологическом порядке:\n",
    "display(data.index.is_monotonic_increasing)"
   ]
  },
  {
   "cell_type": "code",
   "execution_count": 13,
   "metadata": {
    "colab": {
     "base_uri": "https://localhost:8080/",
     "height": 0
    },
    "id": "a4ccpLDRJY4B",
    "outputId": "b3b07e86-329c-4d56-b857-fdb4e50e2b90"
   },
   "outputs": [
    {
     "data": {
      "text/plain": [
       "num_orders    0\n",
       "dtype: int64"
      ]
     },
     "execution_count": 13,
     "metadata": {},
     "output_type": "execute_result"
    }
   ],
   "source": [
    "# проверим датасет на пропущенные значения:\n",
    "data.isna().sum()"
   ]
  },
  {
   "cell_type": "code",
   "execution_count": 14,
   "metadata": {
    "colab": {
     "base_uri": "https://localhost:8080/"
    },
    "id": "TY7RbP53Jd0t",
    "outputId": "affff9e9-4256-4a81-a88b-5e3e896b8da2"
   },
   "outputs": [
    {
     "data": {
      "text/plain": [
       "0"
      ]
     },
     "execution_count": 14,
     "metadata": {},
     "output_type": "execute_result"
    }
   ],
   "source": [
    "# проверим датасет на явные дубликаты:\n",
    "data.index.duplicated().sum()"
   ]
  },
  {
   "cell_type": "code",
   "execution_count": 15,
   "metadata": {
    "id": "6iC4kx4RWmhI"
   },
   "outputs": [],
   "source": [
    "# ресемплируем данные по одному часу:\n",
    "data.sort_index(inplace=True)\n",
    "data = data.resample('1H').sum()"
   ]
  },
  {
   "cell_type": "code",
   "execution_count": 16,
   "metadata": {
    "colab": {
     "base_uri": "https://localhost:8080/",
     "height": 0
    },
    "id": "liA8cn2wYLjJ",
    "outputId": "4456e693-aade-4a63-cf37-358cea693b70",
    "scrolled": true
   },
   "outputs": [
    {
     "data": {
      "text/html": [
       "<div>\n",
       "<style scoped>\n",
       "    .dataframe tbody tr th:only-of-type {\n",
       "        vertical-align: middle;\n",
       "    }\n",
       "\n",
       "    .dataframe tbody tr th {\n",
       "        vertical-align: top;\n",
       "    }\n",
       "\n",
       "    .dataframe thead th {\n",
       "        text-align: right;\n",
       "    }\n",
       "</style>\n",
       "<table border=\"1\" class=\"dataframe\">\n",
       "  <thead>\n",
       "    <tr style=\"text-align: right;\">\n",
       "      <th></th>\n",
       "      <th>num_orders</th>\n",
       "    </tr>\n",
       "    <tr>\n",
       "      <th>datetime</th>\n",
       "      <th></th>\n",
       "    </tr>\n",
       "  </thead>\n",
       "  <tbody>\n",
       "    <tr>\n",
       "      <th>2018-03-01 00:00:00</th>\n",
       "      <td>124</td>\n",
       "    </tr>\n",
       "    <tr>\n",
       "      <th>2018-03-01 01:00:00</th>\n",
       "      <td>85</td>\n",
       "    </tr>\n",
       "    <tr>\n",
       "      <th>2018-03-01 02:00:00</th>\n",
       "      <td>71</td>\n",
       "    </tr>\n",
       "    <tr>\n",
       "      <th>2018-03-01 03:00:00</th>\n",
       "      <td>66</td>\n",
       "    </tr>\n",
       "    <tr>\n",
       "      <th>2018-03-01 04:00:00</th>\n",
       "      <td>43</td>\n",
       "    </tr>\n",
       "  </tbody>\n",
       "</table>\n",
       "</div>"
      ],
      "text/plain": [
       "                     num_orders\n",
       "datetime                       \n",
       "2018-03-01 00:00:00         124\n",
       "2018-03-01 01:00:00          85\n",
       "2018-03-01 02:00:00          71\n",
       "2018-03-01 03:00:00          66\n",
       "2018-03-01 04:00:00          43"
      ]
     },
     "execution_count": 16,
     "metadata": {},
     "output_type": "execute_result"
    }
   ],
   "source": [
    "# проверим датасет после ресемплирования:\n",
    "data.head()"
   ]
  },
  {
   "cell_type": "code",
   "execution_count": 17,
   "metadata": {
    "colab": {
     "base_uri": "https://localhost:8080/",
     "height": 0
    },
    "id": "nC-KiVCs4FWG",
    "outputId": "03643404-58f6-4182-f741-4adfb3efbd9c"
   },
   "outputs": [
    {
     "data": {
      "image/png": "[encoded data removed]",
      "text/plain": [
       "<Figure size 432x288 with 1 Axes>"
      ]
     },
     "metadata": {
      "needs_background": "light"
     },
     "output_type": "display_data"
    }
   ],
   "source": [
    "# построим график временного ряда:\n",
    "data.plot(legend=True)\n",
    "plt.xlabel(\"Время по месяцам\")\n",
    "plt.ylabel(\"Количество заказов такси\")\n",
    "plt.title(\"График количества заказов по времени\") \n",
    "plt.legend([\"Количество заказов такси\"])\n",
    "plt.show()"
   ]
  },
  {
   "cell_type": "markdown",
   "metadata": {
    "id": "sXwqGUgj4ORn"
   },
   "source": [
    "Видим, что количество заказов начинает расти с мая. К сожалению, отсутствуют данные с сентября по март, поэтому о каких-то тенденциях в этом интервале сказать затруднительно."
   ]
  },
  {
   "cell_type": "markdown",
   "metadata": {
    "id": "mDZ7-B5lcG1U"
   },
   "source": [
    "Выводы по разделу:\n",
    "\n",
    "- загрузили данные, поменяли тип в столбце `datetime` на корректный;\n",
    "- проверили данные на пропущенные значения и явные дубликаты - и те, и те отсутствуют;\n",
    "- ресемплировали данные по одному часу. Виден рост количества заказов такси, начиная с мая."
   ]
  },
  {
   "cell_type": "markdown",
   "metadata": {
    "id": "YtG8hApngUFG"
   },
   "source": [
    "## Анализ данных"
   ]
  },
  {
   "cell_type": "code",
   "execution_count": 18,
   "metadata": {
    "colab": {
     "base_uri": "https://localhost:8080/",
     "height": 0
    },
    "id": "-XXd4rPzMHix",
    "outputId": "a48111fa-87c1-4ed9-c27f-44a933704c32"
   },
   "outputs": [
    {
     "data": {
      "image/png": "[encoded data removed]",
      "text/plain": [
       "<Figure size 1080x360 with 1 Axes>"
      ]
     },
     "metadata": {
      "needs_background": "light"
     },
     "output_type": "display_data"
    }
   ],
   "source": [
    "# сделаем декомпозицию (разложим временной ряд на три составляющие):\n",
    "decomposed = seasonal_decompose(data)\n",
    "\n",
    "# сохраним результаты декомпозиции в переменные:\n",
    "trend = decomposed.trend\n",
    "seasonal = decomposed.seasonal\n",
    "residual = decomposed.resid\n",
    "\n",
    "# построим график, на который выведем результаты ресемплирования и декомпозиции:\n",
    "plt.figure(figsize=(15, 5))\n",
    "plt.plot(trend, label='Тренд')\n",
    "plt.plot(seasonal, label='Сезонность')\n",
    "plt.plot(residual, label='Остатки')\n",
    "plt.legend()\n",
    "plt.xlabel(\"Год и месяц\")\n",
    "plt.title(\"График тренда, сезонности и остатков\")\n",
    "plt.show()"
   ]
  },
  {
   "cell_type": "code",
   "execution_count": 19,
   "metadata": {
    "colab": {
     "base_uri": "https://localhost:8080/",
     "height": 0
    },
    "id": "vHvBl71vSqCg",
    "outputId": "6f60b2ab-84e2-4ca4-e56a-121ae902f327"
   },
   "outputs": [
    {
     "data": {
      "image/png": "[encoded data removed]",
      "text/plain": [
       "<Figure size 720x936 with 2 Axes>"
      ]
     },
     "metadata": {
      "needs_background": "light"
     },
     "output_type": "display_data"
    }
   ],
   "source": [
    "# построим графики, на которых отдельно выведем тренд и сезонность по дням:\n",
    "plt.figure(figsize=(10, 13))\n",
    "plt.subplot(311)\n",
    "decomposed.trend.plot(ax=plt.gca())\n",
    "plt.title('Тренд')\n",
    "plt.xlabel(\"Тренд по месяцам\")\n",
    "plt.subplot(312)\n",
    "decomposed.seasonal['2018-03-01':'2018-03-01'].plot(ax=plt.gca())\n",
    "plt.title('Сезонность')\n",
    "plt.xlabel(\"Сезонность по времени суток\")\n",
    "plt.tight_layout()"
   ]
  },
  {
   "cell_type": "markdown",
   "metadata": {
    "id": "ldAX3MU5Ban-"
   },
   "source": [
    "Тренд выглядит более плавным и соответствует общей закономерности в повышении количества заказов такси, начиная с мая (что может объясняться стартом периода отпусков, а также развитием бизнеса). Что касается количества заказов в зависимости от времени суток, то наиболее популярные часы - от 00:00 до 03:00, в 16:00 и после 21:00, что можно объяснить популярным временем прилёта самолётов или отсутствием общественного транспорта ночью. И, наоборот, в 6 утра количество заказов минимально."
   ]
  },
  {
   "cell_type": "code",
   "execution_count": 20,
   "metadata": {
    "colab": {
     "base_uri": "https://localhost:8080/",
     "height": 0
    },
    "id": "iphFI_N-jdSB",
    "outputId": "696828f9-a906-4e84-a4db-564012819de7"
   },
   "outputs": [
    {
     "data": {
      "text/html": [
       "<div>\n",
       "<style scoped>\n",
       "    .dataframe tbody tr th:only-of-type {\n",
       "        vertical-align: middle;\n",
       "    }\n",
       "\n",
       "    .dataframe tbody tr th {\n",
       "        vertical-align: top;\n",
       "    }\n",
       "\n",
       "    .dataframe thead th {\n",
       "        text-align: right;\n",
       "    }\n",
       "</style>\n",
       "<table border=\"1\" class=\"dataframe\">\n",
       "  <thead>\n",
       "    <tr style=\"text-align: right;\">\n",
       "      <th></th>\n",
       "      <th>num_orders</th>\n",
       "    </tr>\n",
       "  </thead>\n",
       "  <tbody>\n",
       "    <tr>\n",
       "      <th>count</th>\n",
       "      <td>4416.00</td>\n",
       "    </tr>\n",
       "    <tr>\n",
       "      <th>mean</th>\n",
       "      <td>84.42</td>\n",
       "    </tr>\n",
       "    <tr>\n",
       "      <th>std</th>\n",
       "      <td>45.02</td>\n",
       "    </tr>\n",
       "    <tr>\n",
       "      <th>min</th>\n",
       "      <td>0.00</td>\n",
       "    </tr>\n",
       "    <tr>\n",
       "      <th>25%</th>\n",
       "      <td>54.00</td>\n",
       "    </tr>\n",
       "    <tr>\n",
       "      <th>50%</th>\n",
       "      <td>78.00</td>\n",
       "    </tr>\n",
       "    <tr>\n",
       "      <th>75%</th>\n",
       "      <td>107.00</td>\n",
       "    </tr>\n",
       "    <tr>\n",
       "      <th>max</th>\n",
       "      <td>462.00</td>\n",
       "    </tr>\n",
       "  </tbody>\n",
       "</table>\n",
       "</div>"
      ],
      "text/plain": [
       "       num_orders\n",
       "count     4416.00\n",
       "mean        84.42\n",
       "std         45.02\n",
       "min          0.00\n",
       "25%         54.00\n",
       "50%         78.00\n",
       "75%        107.00\n",
       "max        462.00"
      ]
     },
     "execution_count": 20,
     "metadata": {},
     "output_type": "execute_result"
    }
   ],
   "source": [
    "# посмотрим на статистические данные признака:\n",
    "data.describe().round(2)"
   ]
  },
  {
   "cell_type": "code",
   "execution_count": 21,
   "metadata": {
    "id": "RrrU94KG5Pjs"
   },
   "outputs": [],
   "source": [
    "# функция для вычисления процента выбросов:\n",
    "def outliers(dataset, column):\n",
    "    q1 = dataset[column].quantile(0.25)\n",
    "    q3 = dataset[column].quantile(0.75)\n",
    "    iqr = q3 - q1\n",
    "    quant1 = q1 - 1.5*iqr\n",
    "    quant3 = q3 + 1.5*iqr\n",
    "    total = dataset.shape[0]\n",
    "    emission = dataset[(dataset[column] < quant1) | \\\n",
    "     (dataset[column] > quant3)].shape[0]\n",
    "\n",
    "    emission_quant = (emission / total) * 100\n",
    "    return np.round((emission_quant), decimals=2)"
   ]
  },
  {
   "cell_type": "code",
   "execution_count": 22,
   "metadata": {
    "colab": {
     "base_uri": "https://localhost:8080/"
    },
    "id": "RcBfGq6_5V17",
    "outputId": "eeeb909b-da9a-4acc-ce20-ae50cbde4f0e"
   },
   "outputs": [
    {
     "data": {
      "text/plain": [
       "2.74"
      ]
     },
     "execution_count": 22,
     "metadata": {},
     "output_type": "execute_result"
    }
   ],
   "source": [
    "outliers(data, 'num_orders')"
   ]
  },
  {
   "cell_type": "markdown",
   "metadata": {
    "id": "YAK5C9XI5qPZ"
   },
   "source": [
    "Количество выбросов незначительно, посмотрим на них далее чуть подробнее:"
   ]
  },
  {
   "cell_type": "code",
   "execution_count": 23,
   "metadata": {
    "id": "HHCSwByt5ZaH"
   },
   "outputs": [],
   "source": [
    "# гистограмма распределения количественного признака\n",
    "def histogram(dataset, column):\n",
    "    dataset[column].plot(kind='hist', bins=20, grid=True, \\\n",
    "                figsize=(5, 5), title=(f'Распределение признака \"{column}\"'))\n",
    "    plt.xlabel(column)\n",
    "    plt.ylabel('Количество')\n",
    "    plt.show()\n",
    "    return None\n",
    "\n",
    "# диаграмма размаха\n",
    "def whiskers(dataset, column):\n",
    "    dataset.boxplot(column, figsize=(5, 5))\n",
    "    plt.title(f'Диаграмма размаха признака \"{column}\"')\n",
    "    plt.ylabel('Количество')\n",
    "    plt.show()\n",
    "    print(dataset[column].describe().round(2))\n",
    "    return None"
   ]
  },
  {
   "cell_type": "code",
   "execution_count": 24,
   "metadata": {
    "colab": {
     "base_uri": "https://localhost:8080/",
     "height": 0
    },
    "id": "wSAt9VUZ56IR",
    "outputId": "838ae3b7-8133-4ae6-d3c1-2800247bdd61"
   },
   "outputs": [
    {
     "data": {
      "image/png": "[encoded data removed]",
      "text/plain": [
       "<Figure size 360x360 with 1 Axes>"
      ]
     },
     "metadata": {
      "needs_background": "light"
     },
     "output_type": "display_data"
    },
    {
     "data": {
      "image/png": "[encoded data removed]",
      "text/plain": [
       "<Figure size 360x360 with 1 Axes>"
      ]
     },
     "metadata": {
      "needs_background": "light"
     },
     "output_type": "display_data"
    },
    {
     "name": "stdout",
     "output_type": "stream",
     "text": [
      "count    4416.00\n",
      "mean       84.42\n",
      "std        45.02\n",
      "min         0.00\n",
      "25%        54.00\n",
      "50%        78.00\n",
      "75%       107.00\n",
      "max       462.00\n",
      "Name: num_orders, dtype: float64\n"
     ]
    }
   ],
   "source": [
    "histogram(data, 'num_orders')\n",
    "whiskers(data, 'num_orders')"
   ]
  },
  {
   "cell_type": "markdown",
   "metadata": {
    "id": "2TtGmFtf6Ksr"
   },
   "source": [
    "Распределение признака нормальное, удалять выбросы не будем."
   ]
  },
  {
   "cell_type": "markdown",
   "metadata": {
    "id": "TwH5NOmcC0cn"
   },
   "source": [
    "Выводы по разделу:\n",
    "\n",
    "- разложили временной ряд на тренд, сезонную компоненту и остатки. Тренд выглядит более плавным и соответствует общей закономерности в повышении количества заказов такси, начиная с мая (что может объясняться стартом периода отпусков, а также развитием бизнеса). Что касается количества заказов в зависимости от времени суток, то наиболее популярные часы - от 00:00 до 03:00, в 16:00 и после 21:00, что можно объяснить популярным временем прилёта самолётов или отсутствием общественного транспорта ночью. В 6 утра количество заказов минимально;\n",
    "- вычислили значение выбросов (незначительное, удалять не стали), построили гистограмму распределения (распределение нормальное) и диаграмму размаха."
   ]
  },
  {
   "cell_type": "markdown",
   "metadata": {
    "id": "XqEZMnOpEKZ6"
   },
   "source": [
    "## Обучение моделей"
   ]
  },
  {
   "cell_type": "markdown",
   "metadata": {
    "id": "DDLTrFt8GHTE"
   },
   "source": [
    "Создадим новые признаки в датасете, для этого напишем функцию:"
   ]
  },
  {
   "cell_type": "code",
   "execution_count": 25,
   "metadata": {
    "id": "3D55EKs9VB4b"
   },
   "outputs": [],
   "source": [
    "# функция для создания признаков:\n",
    "def make_features(data, max_lag, rolling_mean_size):\n",
    "    data['day'] = data.index.day\n",
    "    data['dayofweek'] = data.index.dayofweek\n",
    "    data['hour'] = data.index.hour\n",
    "\n",
    "    for lag in range(1, max_lag + 1):\n",
    "        data['lag_{}'.format(lag)] = data['num_orders'].shift(lag)\n",
    "\n",
    "    data['rolling_mean'] = data['num_orders'].shift() \\\n",
    "                                .rolling(rolling_mean_size).mean()"
   ]
  },
  {
   "cell_type": "code",
   "execution_count": 26,
   "metadata": {
    "id": "xtTAJ6zjVGZ4"
   },
   "outputs": [],
   "source": [
    "# создадим признаки:\n",
    "make_features(data, 20, 10)"
   ]
  },
  {
   "cell_type": "code",
   "execution_count": 27,
   "metadata": {
    "colab": {
     "base_uri": "https://localhost:8080/",
     "height": 431
    },
    "id": "TaF7hCTTVGcb",
    "outputId": "b83137c2-1b28-4287-9a81-342ded03ff2a"
   },
   "outputs": [
    {
     "data": {
      "text/html": [
       "<div>\n",
       "<style scoped>\n",
       "    .dataframe tbody tr th:only-of-type {\n",
       "        vertical-align: middle;\n",
       "    }\n",
       "\n",
       "    .dataframe tbody tr th {\n",
       "        vertical-align: top;\n",
       "    }\n",
       "\n",
       "    .dataframe thead th {\n",
       "        text-align: right;\n",
       "    }\n",
       "</style>\n",
       "<table border=\"1\" class=\"dataframe\">\n",
       "  <thead>\n",
       "    <tr style=\"text-align: right;\">\n",
       "      <th></th>\n",
       "      <th>num_orders</th>\n",
       "      <th>day</th>\n",
       "      <th>dayofweek</th>\n",
       "      <th>hour</th>\n",
       "      <th>lag_1</th>\n",
       "      <th>lag_2</th>\n",
       "      <th>lag_3</th>\n",
       "      <th>lag_4</th>\n",
       "      <th>lag_5</th>\n",
       "      <th>lag_6</th>\n",
       "      <th>lag_7</th>\n",
       "      <th>lag_8</th>\n",
       "      <th>lag_9</th>\n",
       "      <th>lag_10</th>\n",
       "      <th>lag_11</th>\n",
       "      <th>lag_12</th>\n",
       "      <th>lag_13</th>\n",
       "      <th>lag_14</th>\n",
       "      <th>lag_15</th>\n",
       "      <th>lag_16</th>\n",
       "      <th>lag_17</th>\n",
       "      <th>lag_18</th>\n",
       "      <th>lag_19</th>\n",
       "      <th>lag_20</th>\n",
       "      <th>rolling_mean</th>\n",
       "    </tr>\n",
       "    <tr>\n",
       "      <th>datetime</th>\n",
       "      <th></th>\n",
       "      <th></th>\n",
       "      <th></th>\n",
       "      <th></th>\n",
       "      <th></th>\n",
       "      <th></th>\n",
       "      <th></th>\n",
       "      <th></th>\n",
       "      <th></th>\n",
       "      <th></th>\n",
       "      <th></th>\n",
       "      <th></th>\n",
       "      <th></th>\n",
       "      <th></th>\n",
       "      <th></th>\n",
       "      <th></th>\n",
       "      <th></th>\n",
       "      <th></th>\n",
       "      <th></th>\n",
       "      <th></th>\n",
       "      <th></th>\n",
       "      <th></th>\n",
       "      <th></th>\n",
       "      <th></th>\n",
       "      <th></th>\n",
       "    </tr>\n",
       "  </thead>\n",
       "  <tbody>\n",
       "    <tr>\n",
       "      <th>2018-03-01 00:00:00</th>\n",
       "      <td>124</td>\n",
       "      <td>1</td>\n",
       "      <td>3</td>\n",
       "      <td>0</td>\n",
       "      <td>NaN</td>\n",
       "      <td>NaN</td>\n",
       "      <td>NaN</td>\n",
       "      <td>NaN</td>\n",
       "      <td>NaN</td>\n",
       "      <td>NaN</td>\n",
       "      <td>NaN</td>\n",
       "      <td>NaN</td>\n",
       "      <td>NaN</td>\n",
       "      <td>NaN</td>\n",
       "      <td>NaN</td>\n",
       "      <td>NaN</td>\n",
       "      <td>NaN</td>\n",
       "      <td>NaN</td>\n",
       "      <td>NaN</td>\n",
       "      <td>NaN</td>\n",
       "      <td>NaN</td>\n",
       "      <td>NaN</td>\n",
       "      <td>NaN</td>\n",
       "      <td>NaN</td>\n",
       "      <td>NaN</td>\n",
       "    </tr>\n",
       "    <tr>\n",
       "      <th>2018-03-01 01:00:00</th>\n",
       "      <td>85</td>\n",
       "      <td>1</td>\n",
       "      <td>3</td>\n",
       "      <td>1</td>\n",
       "      <td>124.0</td>\n",
       "      <td>NaN</td>\n",
       "      <td>NaN</td>\n",
       "      <td>NaN</td>\n",
       "      <td>NaN</td>\n",
       "      <td>NaN</td>\n",
       "      <td>NaN</td>\n",
       "      <td>NaN</td>\n",
       "      <td>NaN</td>\n",
       "      <td>NaN</td>\n",
       "      <td>NaN</td>\n",
       "      <td>NaN</td>\n",
       "      <td>NaN</td>\n",
       "      <td>NaN</td>\n",
       "      <td>NaN</td>\n",
       "      <td>NaN</td>\n",
       "      <td>NaN</td>\n",
       "      <td>NaN</td>\n",
       "      <td>NaN</td>\n",
       "      <td>NaN</td>\n",
       "      <td>NaN</td>\n",
       "    </tr>\n",
       "    <tr>\n",
       "      <th>2018-03-01 02:00:00</th>\n",
       "      <td>71</td>\n",
       "      <td>1</td>\n",
       "      <td>3</td>\n",
       "      <td>2</td>\n",
       "      <td>85.0</td>\n",
       "      <td>124.0</td>\n",
       "      <td>NaN</td>\n",
       "      <td>NaN</td>\n",
       "      <td>NaN</td>\n",
       "      <td>NaN</td>\n",
       "      <td>NaN</td>\n",
       "      <td>NaN</td>\n",
       "      <td>NaN</td>\n",
       "      <td>NaN</td>\n",
       "      <td>NaN</td>\n",
       "      <td>NaN</td>\n",
       "      <td>NaN</td>\n",
       "      <td>NaN</td>\n",
       "      <td>NaN</td>\n",
       "      <td>NaN</td>\n",
       "      <td>NaN</td>\n",
       "      <td>NaN</td>\n",
       "      <td>NaN</td>\n",
       "      <td>NaN</td>\n",
       "      <td>NaN</td>\n",
       "    </tr>\n",
       "    <tr>\n",
       "      <th>2018-03-01 03:00:00</th>\n",
       "      <td>66</td>\n",
       "      <td>1</td>\n",
       "      <td>3</td>\n",
       "      <td>3</td>\n",
       "      <td>71.0</td>\n",
       "      <td>85.0</td>\n",
       "      <td>124.0</td>\n",
       "      <td>NaN</td>\n",
       "      <td>NaN</td>\n",
       "      <td>NaN</td>\n",
       "      <td>NaN</td>\n",
       "      <td>NaN</td>\n",
       "      <td>NaN</td>\n",
       "      <td>NaN</td>\n",
       "      <td>NaN</td>\n",
       "      <td>NaN</td>\n",
       "      <td>NaN</td>\n",
       "      <td>NaN</td>\n",
       "      <td>NaN</td>\n",
       "      <td>NaN</td>\n",
       "      <td>NaN</td>\n",
       "      <td>NaN</td>\n",
       "      <td>NaN</td>\n",
       "      <td>NaN</td>\n",
       "      <td>NaN</td>\n",
       "    </tr>\n",
       "    <tr>\n",
       "      <th>2018-03-01 04:00:00</th>\n",
       "      <td>43</td>\n",
       "      <td>1</td>\n",
       "      <td>3</td>\n",
       "      <td>4</td>\n",
       "      <td>66.0</td>\n",
       "      <td>71.0</td>\n",
       "      <td>85.0</td>\n",
       "      <td>124.0</td>\n",
       "      <td>NaN</td>\n",
       "      <td>NaN</td>\n",
       "      <td>NaN</td>\n",
       "      <td>NaN</td>\n",
       "      <td>NaN</td>\n",
       "      <td>NaN</td>\n",
       "      <td>NaN</td>\n",
       "      <td>NaN</td>\n",
       "      <td>NaN</td>\n",
       "      <td>NaN</td>\n",
       "      <td>NaN</td>\n",
       "      <td>NaN</td>\n",
       "      <td>NaN</td>\n",
       "      <td>NaN</td>\n",
       "      <td>NaN</td>\n",
       "      <td>NaN</td>\n",
       "      <td>NaN</td>\n",
       "    </tr>\n",
       "  </tbody>\n",
       "</table>\n",
       "</div>"
      ],
      "text/plain": [
       "                     num_orders  day  dayofweek  hour  lag_1  lag_2  lag_3  \\\n",
       "datetime                                                                     \n",
       "2018-03-01 00:00:00         124    1          3     0    NaN    NaN    NaN   \n",
       "2018-03-01 01:00:00          85    1          3     1  124.0    NaN    NaN   \n",
       "2018-03-01 02:00:00          71    1          3     2   85.0  124.0    NaN   \n",
       "2018-03-01 03:00:00          66    1          3     3   71.0   85.0  124.0   \n",
       "2018-03-01 04:00:00          43    1          3     4   66.0   71.0   85.0   \n",
       "\n",
       "                     lag_4  lag_5  lag_6  lag_7  lag_8  lag_9  lag_10  lag_11  \\\n",
       "datetime                                                                        \n",
       "2018-03-01 00:00:00    NaN    NaN    NaN    NaN    NaN    NaN     NaN     NaN   \n",
       "2018-03-01 01:00:00    NaN    NaN    NaN    NaN    NaN    NaN     NaN     NaN   \n",
       "2018-03-01 02:00:00    NaN    NaN    NaN    NaN    NaN    NaN     NaN     NaN   \n",
       "2018-03-01 03:00:00    NaN    NaN    NaN    NaN    NaN    NaN     NaN     NaN   \n",
       "2018-03-01 04:00:00  124.0    NaN    NaN    NaN    NaN    NaN     NaN     NaN   \n",
       "\n",
       "                     lag_12  lag_13  lag_14  lag_15  lag_16  lag_17  lag_18  \\\n",
       "datetime                                                                      \n",
       "2018-03-01 00:00:00     NaN     NaN     NaN     NaN     NaN     NaN     NaN   \n",
       "2018-03-01 01:00:00     NaN     NaN     NaN     NaN     NaN     NaN     NaN   \n",
       "2018-03-01 02:00:00     NaN     NaN     NaN     NaN     NaN     NaN     NaN   \n",
       "2018-03-01 03:00:00     NaN     NaN     NaN     NaN     NaN     NaN     NaN   \n",
       "2018-03-01 04:00:00     NaN     NaN     NaN     NaN     NaN     NaN     NaN   \n",
       "\n",
       "                     lag_19  lag_20  rolling_mean  \n",
       "datetime                                           \n",
       "2018-03-01 00:00:00     NaN     NaN           NaN  \n",
       "2018-03-01 01:00:00     NaN     NaN           NaN  \n",
       "2018-03-01 02:00:00     NaN     NaN           NaN  \n",
       "2018-03-01 03:00:00     NaN     NaN           NaN  \n",
       "2018-03-01 04:00:00     NaN     NaN           NaN  "
      ]
     },
     "execution_count": 27,
     "metadata": {},
     "output_type": "execute_result"
    }
   ],
   "source": [
    "data.head()"
   ]
  },
  {
   "cell_type": "code",
   "execution_count": 28,
   "metadata": {
    "id": "n6jm21C1VMUD"
   },
   "outputs": [],
   "source": [
    "# разделим выборки на тренировочную и тестовую:\n",
    "train, test = train_test_split(data, shuffle=False, test_size=TEST_SIZE, \\\n",
    "                               random_state=RANDOM_STATE)\n",
    "# удалим пропуски:\n",
    "train = train.dropna()\n",
    "\n",
    "features_train = train.drop('num_orders', axis=1)\n",
    "target_train = train['num_orders']\n",
    "features_test = test.drop('num_orders', axis=1)\n",
    "target_test = test['num_orders']\n",
    "\n",
    "# кодируем признаки для линейной модели:\n",
    "ohe = OneHotEncoder(sparse_output=False, drop='first')\n",
    "encoded_train = ohe.fit_transform(features_train[['dayofweek', 'hour']])\n",
    "encoded_test = ohe.transform(features_test[['dayofweek', 'hour']])\n",
    "\n",
    "# создаём датасет для закодированных признаков\n",
    "ohe_columns = ohe.get_feature_names_out(['dayofweek', 'hour'])\n",
    "encoded_train_df = pd.DataFrame(encoded_train, columns=ohe_columns, \\\n",
    "                                index=features_train.index)\n",
    "encoded_test_df = pd.DataFrame(encoded_test, columns=ohe_columns, \\\n",
    "                               index=features_test.index)\n",
    "\n",
    "# добавляем закодированные признаки обратно в features_train_scaled\n",
    "features_train_scaled = pd.concat([features_train.drop(['dayofweek', 'hour'], \\\n",
    "                                          axis=1), encoded_train_df], axis=1)\n",
    "features_test_scaled = pd.concat([features_test.drop(['dayofweek', 'hour'], \\\n",
    "                                          axis=1), encoded_test_df], axis=1)"
   ]
  },
  {
   "cell_type": "code",
   "execution_count": 29,
   "metadata": {
    "colab": {
     "base_uri": "https://localhost:8080/",
     "height": 88
    },
    "id": "lLziMn_UVMXY",
    "outputId": "15483bc5-84f8-4e46-85ea-561db86e94fc"
   },
   "outputs": [
    {
     "data": {
      "text/plain": [
       "(3954, 24)"
      ]
     },
     "metadata": {},
     "output_type": "display_data"
    },
    {
     "data": {
      "text/plain": [
       "(3954,)"
      ]
     },
     "metadata": {},
     "output_type": "display_data"
    },
    {
     "data": {
      "text/plain": [
       "(442, 24)"
      ]
     },
     "metadata": {},
     "output_type": "display_data"
    },
    {
     "data": {
      "text/plain": [
       "(442,)"
      ]
     },
     "metadata": {},
     "output_type": "display_data"
    }
   ],
   "source": [
    "# проверим размеры выборок:\n",
    "display(features_train.shape, target_train.shape)\n",
    "display(features_test.shape, target_test.shape)"
   ]
  },
  {
   "cell_type": "code",
   "execution_count": 30,
   "metadata": {
    "id": "TyH8uJRBVMaO"
   },
   "outputs": [],
   "source": [
    "# используем метод кросс-валидации TimeSeriesSplit, т.к. он адаптированн\n",
    "# специально для временных рядов. Он гарантирует, что порядок временного ряда\n",
    "# сохраняется, и данные в будущем не \"заглядывают\" в прошлые данные:\n",
    "tsscv = TimeSeriesSplit(n_splits=5)"
   ]
  },
  {
   "cell_type": "code",
   "execution_count": 31,
   "metadata": {
    "id": "eewGZi63Vq7m"
   },
   "outputs": [],
   "source": [
    "# создадим функцию для перебора моделей:\n",
    "def model_grid_search(model, params, features_train, \\\n",
    "                      target_train, tsscv, scoring, verbose=1):\n",
    "    grid = GridSearchCV(\n",
    "        model,\n",
    "        param_grid=params,\n",
    "        cv=tsscv,\n",
    "        scoring=scoring,\n",
    "        n_jobs=-1,\n",
    "        verbose=verbose\n",
    "    )\n",
    "    grid.fit(features_train, target_train)\n",
    "\n",
    "    # извлекаем лучшие результаты:\n",
    "    best_model = grid.best_estimator_\n",
    "    best_params = grid.best_params_\n",
    "    best_score = grid.best_score_ * -1\n",
    "\n",
    "    print(f'Лучший результат RMSE модели: {best_score:.4f}')\n",
    "    print(f'Лучшие параметры модели: {best_params}')\n",
    "\n",
    "    return best_model, best_params, best_score"
   ]
  },
  {
   "cell_type": "code",
   "execution_count": 32,
   "metadata": {
    "colab": {
     "base_uri": "https://localhost:8080/"
    },
    "id": "pvPzvJ9cVq_C",
    "outputId": "7c5edbcf-3937-4c9f-97ea-6f2a2d81d5d4"
   },
   "outputs": [
    {
     "name": "stdout",
     "output_type": "stream",
     "text": [
      "Fitting 5 folds for each of 4 candidates, totalling 20 fits\n",
      "Лучший результат RMSE модели: 25.7069\n",
      "Лучшие параметры модели: {'copy_X': True, 'fit_intercept': True}\n"
     ]
    }
   ],
   "source": [
    "# обучим модель линейной регнессии:\n",
    "model_lr = LinearRegression()\n",
    "params_lr = {'fit_intercept': [True, False], 'copy_X': [True, False]}\n",
    "\n",
    "best_model_linear, best_params_linear, best_result_linear = model_grid_search(\n",
    "    model=model_lr,\n",
    "    params=params_lr,\n",
    "    features_train=features_train_scaled,\n",
    "    target_train=target_train,\n",
    "    tsscv=tsscv,\n",
    "    scoring='neg_root_mean_squared_error'\n",
    ")"
   ]
  },
  {
   "cell_type": "code",
   "execution_count": 33,
   "metadata": {
    "colab": {
     "base_uri": "https://localhost:8080/"
    },
    "id": "1Vr_N6zHVrCK",
    "outputId": "aa8cdf06-6873-4312-cc79-52742142cbd8"
   },
   "outputs": [
    {
     "name": "stdout",
     "output_type": "stream",
     "text": [
      "Fitting 5 folds for each of 27 candidates, totalling 135 fits\n",
      "Лучший результат RMSE модели: 31.7961\n",
      "Лучшие параметры модели: {'max_depth': 4, 'min_samples_leaf': 4, 'min_samples_split': 2}\n"
     ]
    }
   ],
   "source": [
    "# обучим модель дерева решений:\n",
    "model_tree = DecisionTreeRegressor(random_state=RANDOM_STATE)\n",
    "params_tree = {\n",
    "    'max_depth': range(2, 5),\n",
    "    'min_samples_split': range(2, 5),\n",
    "    'min_samples_leaf': range(2, 5)\n",
    "}\n",
    "\n",
    "best_model_tree, best_params_tree, best_result_tree = model_grid_search(\n",
    "    model=model_tree,\n",
    "    params=params_tree,\n",
    "    features_train=features_train,\n",
    "    target_train=target_train,\n",
    "    tsscv=tsscv,\n",
    "    scoring='neg_root_mean_squared_error'\n",
    ")"
   ]
  },
  {
   "cell_type": "code",
   "execution_count": 34,
   "metadata": {
    "colab": {
     "base_uri": "https://localhost:8080/"
    },
    "id": "cOesFfWtVGfE",
    "outputId": "23dab320-77b2-4432-fd34-cd567f44fbd0"
   },
   "outputs": [
    {
     "name": "stdout",
     "output_type": "stream",
     "text": [
      "Fitting 5 folds for each of 27 candidates, totalling 135 fits\n",
      "Лучший результат RMSE модели: 25.6627\n",
      "Лучшие параметры модели: {'learning_rate': 0.2, 'max_depth': 3, 'num_leaves': 4}\n"
     ]
    }
   ],
   "source": [
    "# обучим модель LightGBM:\n",
    "model_lgbm = LGBMRegressor(random_state=RANDOM_STATE)\n",
    "params_lgbm = {\n",
    "    'num_leaves': range(2, 5),\n",
    "    'max_depth': range(2, 5),\n",
    "    'learning_rate': [0.01, 0.1, 0.2]\n",
    "}\n",
    "\n",
    "best_model_lgbm, best_params_lgbm, best_result_lgbm = model_grid_search(\n",
    "    model=model_lgbm,\n",
    "    params=params_lgbm,\n",
    "    features_train=features_train,\n",
    "    target_train=target_train,\n",
    "    tsscv=tsscv,\n",
    "    scoring='neg_root_mean_squared_error'\n",
    ")"
   ]
  },
  {
   "cell_type": "code",
   "execution_count": 35,
   "metadata": {
    "colab": {
     "base_uri": "https://localhost:8080/"
    },
    "id": "LiVFM9FPYPiK",
    "outputId": "2bfd16af-64b5-4d5c-ca80-c0a3c64eb795"
   },
   "outputs": [
    {
     "name": "stdout",
     "output_type": "stream",
     "text": [
      "Fitting 5 folds for each of 27 candidates, totalling 135 fits\n",
      "Лучший результат RMSE модели: 34.5812\n",
      "Лучшие параметры модели: {'depth': 4, 'iterations': 4, 'learning_rate': 0.2}\n"
     ]
    }
   ],
   "source": [
    "# обучим модель CatBoost:\n",
    "model_catboost = CatBoostRegressor(random_state=RANDOM_STATE, verbose=0)\n",
    "params_catboost = {\n",
    "    'iterations': range(2, 5),\n",
    "    'depth': range(2, 5),\n",
    "    'learning_rate': [0.01, 0.1, 0.2]\n",
    "}\n",
    "\n",
    "best_model_catboost, best_params_catboost, best_result_catboost = \\\n",
    "  model_grid_search(\n",
    "    model=model_catboost,\n",
    "    params=params_catboost,\n",
    "    features_train=features_train,\n",
    "    target_train=target_train,\n",
    "    tsscv=tsscv,\n",
    "    scoring='neg_root_mean_squared_error'\n",
    ")"
   ]
  },
  {
   "cell_type": "code",
   "execution_count": 36,
   "metadata": {
    "id": "Ib094PO3YPk_"
   },
   "outputs": [],
   "source": [
    "# сводная таблица по всем моделям:\n",
    "rmse_pivot = pd.DataFrame()"
   ]
  },
  {
   "cell_type": "code",
   "execution_count": 37,
   "metadata": {
    "colab": {
     "base_uri": "https://localhost:8080/",
     "height": 175
    },
    "id": "XbfvaMnzYPnn",
    "outputId": "5091ea6f-4990-4d14-9665-0e867d66ce31"
   },
   "outputs": [
    {
     "data": {
      "text/html": [
       "<div>\n",
       "<style scoped>\n",
       "    .dataframe tbody tr th:only-of-type {\n",
       "        vertical-align: middle;\n",
       "    }\n",
       "\n",
       "    .dataframe tbody tr th {\n",
       "        vertical-align: top;\n",
       "    }\n",
       "\n",
       "    .dataframe thead th {\n",
       "        text-align: right;\n",
       "    }\n",
       "</style>\n",
       "<table border=\"1\" class=\"dataframe\">\n",
       "  <thead>\n",
       "    <tr style=\"text-align: right;\">\n",
       "      <th></th>\n",
       "      <th>RMSE</th>\n",
       "    </tr>\n",
       "  </thead>\n",
       "  <tbody>\n",
       "    <tr>\n",
       "      <th>LinearRegression</th>\n",
       "      <td>25.706899</td>\n",
       "    </tr>\n",
       "    <tr>\n",
       "      <th>DecisionTree</th>\n",
       "      <td>31.796098</td>\n",
       "    </tr>\n",
       "    <tr>\n",
       "      <th>LightGBM</th>\n",
       "      <td>25.662713</td>\n",
       "    </tr>\n",
       "    <tr>\n",
       "      <th>CatBoost</th>\n",
       "      <td>34.581217</td>\n",
       "    </tr>\n",
       "  </tbody>\n",
       "</table>\n",
       "</div>"
      ],
      "text/plain": [
       "                       RMSE\n",
       "LinearRegression  25.706899\n",
       "DecisionTree      31.796098\n",
       "LightGBM          25.662713\n",
       "CatBoost          34.581217"
      ]
     },
     "execution_count": 37,
     "metadata": {},
     "output_type": "execute_result"
    }
   ],
   "source": [
    "rmse_pivot.loc['LinearRegression', 'RMSE'] = best_result_linear\n",
    "rmse_pivot.loc['DecisionTree', 'RMSE'] = best_result_tree\n",
    "rmse_pivot.loc['LightGBM', 'RMSE'] = best_result_lgbm\n",
    "rmse_pivot.loc['CatBoost', 'RMSE'] = best_result_catboost\n",
    "rmse_pivot"
   ]
  },
  {
   "cell_type": "markdown",
   "metadata": {
    "id": "9PhvZyjwY2Mo"
   },
   "source": [
    "Победила модель LightGBM, её и будем использовать для проверки на тестовых данных:"
   ]
  },
  {
   "cell_type": "code",
   "execution_count": 38,
   "metadata": {
    "colab": {
     "base_uri": "https://localhost:8080/"
    },
    "id": "uQZh7wbxYPql",
    "outputId": "89d849d8-b042-472f-ee6d-42b7ad521270"
   },
   "outputs": [
    {
     "name": "stdout",
     "output_type": "stream",
     "text": [
      "RMSE на тестовой выборке:45.14\n"
     ]
    }
   ],
   "source": [
    "pred_test = best_model_lgbm.predict(features_test)\n",
    "\n",
    "print(f'RMSE на тестовой выборке:' \\\n",
    "      f'{round(sqrt(mean_squared_error(target_test, pred_test)), 2)}')"
   ]
  },
  {
   "cell_type": "markdown",
   "metadata": {
    "id": "vY19E0CYeMQi"
   },
   "source": [
    "Выводы по разделу:\n",
    "\n",
    "- написали функцию для создания новых признаков в датасете: `month`, `day`, `dayofweek`, `hour`;\n",
    "- разделили выборки на тренировочную и тестовую, создали функцию для перебора моделей и обучили 4 модели: `LinearRegression`, `DecisionTree`, `LightGBM`, `Catboost`;\n",
    "- в результате обучения на тренировочных данных лучшей по метрике `RMSE` себя показала модель `LightGBM`, взяли её для проверки на тестовых данных;\n",
    "- получили значение `RMSE` на тестовых данных, равное 45.14, что удовлетворяет условиям задачи (<=48)."
   ]
  },
  {
   "cell_type": "markdown",
   "metadata": {
    "id": "qhwrTvanfmL0"
   },
   "source": [
    "## Отчёт по исследованию"
   ]
  },
  {
   "cell_type": "markdown",
   "metadata": {
    "id": "sDaoeHXafqhr"
   },
   "source": [
    "Для решения задачи предсказания количества такси на следующий час, были проделаны следующие этапы исследования:\n",
    "\n",
    "- загрузка данных и их ресемплирование:\n",
    "  - загрузили данные, поменяли тип в столбце `datetime` на корректный;\n",
    "  - проверили данные на пропущенные значения и явные дубликаты - и те, и те отсутствуют;\n",
    "  - ресемплировали данные по одному часу. Виден рост количества заказов такси, начиная с мая;\n",
    "\n",
    "- анализ данных:\n",
    "  - разложили временной ряд на тренд, сезонную компоненту и остатки. разложили временной ряд на тренд, сезонную компоненту и остатки. Тренд выглядит более плавным и соответствует общей закономерности в повышении количества заказов такси, начиная с мая (что может объясняться стартом периода отпусков, а также развитием бизнеса). Что касается количества заказов в зависимости от времени суток, то наиболее популярные часы - от 00:00 до 03:00, в 16:00 и после 21:00, что можно объяснить популярным временем прилёта самолётов или отсутствием общественного транспорта ночью. В 6 утра количество заказов минимально;\n",
    "  - вычислили значение выбросов (незначительное, удалять не стали), построили гистограмму распределения (распределение нормальное) и диаграмму размаха;\n",
    "\n",
    "- обучение моделей и проверка на тестовых данных:\n",
    "  - написали функцию для создания новых признаков в датасете: `month`, `day`, `dayofweek`, `hour`;\n",
    "  - разделили выборки на тренировочную и тестовую, создали функцию для перебора моделей и обучили 4 модели: `LinearRegression`, `DecisionTree`, `LightGBM`, `Catboost`;\n",
    "  - в результате обучения на тренировочных данных лучшей по метрике `RMSE` себя показала модель `LightGBM` (RMSE = 25.66), взяли её для проверки на тестовых данных;\n",
    "  - получили значение `RMSE` на тестовых данных, равное 45.14, что удовлетворяет условиям задачи (<=48)."
   ]
  }
 ],
 "metadata": {
  "ExecuteTimeLog": [
   {
    "duration": 52,
    "start_time": "2025-03-10T04:24:09.359Z"
   },
   {
    "duration": 2778,
    "start_time": "2025-03-10T04:24:32.818Z"
   },
   {
    "duration": 2471,
    "start_time": "2025-03-10T04:24:35.598Z"
   },
   {
    "duration": 26012,
    "start_time": "2025-03-10T04:24:38.072Z"
   },
   {
    "duration": 1713,
    "start_time": "2025-03-10T04:25:04.085Z"
   },
   {
    "duration": 3,
    "start_time": "2025-03-10T04:25:05.801Z"
   },
   {
    "duration": 54,
    "start_time": "2025-03-10T04:25:05.806Z"
   },
   {
    "duration": 30,
    "start_time": "2025-03-10T04:25:05.862Z"
   },
   {
    "duration": 105,
    "start_time": "2025-03-10T04:25:05.894Z"
   },
   {
    "duration": 3,
    "start_time": "2025-03-10T04:25:06.000Z"
   },
   {
    "duration": 31,
    "start_time": "2025-03-10T04:25:06.005Z"
   },
   {
    "duration": 18,
    "start_time": "2025-03-10T04:25:06.038Z"
   },
   {
    "duration": 49,
    "start_time": "2025-03-10T04:25:06.058Z"
   },
   {
    "duration": 64,
    "start_time": "2025-03-10T04:25:06.109Z"
   },
   {
    "duration": 29,
    "start_time": "2025-03-10T04:25:06.175Z"
   },
   {
    "duration": 42,
    "start_time": "2025-03-10T04:25:06.205Z"
   },
   {
    "duration": 55,
    "start_time": "2025-03-10T04:25:06.249Z"
   },
   {
    "duration": 511,
    "start_time": "2025-03-10T04:25:17.099Z"
   },
   {
    "duration": 427,
    "start_time": "2025-03-10T04:26:28.335Z"
   },
   {
    "duration": 506,
    "start_time": "2025-03-10T04:28:39.554Z"
   },
   {
    "duration": 776,
    "start_time": "2025-03-10T04:31:07.118Z"
   },
   {
    "duration": 17,
    "start_time": "2025-03-10T04:43:22.506Z"
   },
   {
    "duration": 4,
    "start_time": "2025-03-10T04:43:24.906Z"
   },
   {
    "duration": 9,
    "start_time": "2025-03-10T04:43:26.667Z"
   },
   {
    "duration": 5,
    "start_time": "2025-03-10T04:43:29.107Z"
   },
   {
    "duration": 550,
    "start_time": "2025-03-10T04:43:31.959Z"
   },
   {
    "duration": 4,
    "start_time": "2025-03-10T04:43:43.715Z"
   },
   {
    "duration": 20,
    "start_time": "2025-03-10T04:43:56.703Z"
   },
   {
    "duration": 22,
    "start_time": "2025-03-10T04:43:58.056Z"
   },
   {
    "duration": 13,
    "start_time": "2025-03-10T04:44:12.803Z"
   },
   {
    "duration": 8,
    "start_time": "2025-03-10T04:44:22.067Z"
   },
   {
    "duration": 3,
    "start_time": "2025-03-10T04:45:33.768Z"
   },
   {
    "duration": 2541,
    "start_time": "2025-03-10T05:13:34.019Z"
   },
   {
    "duration": 2657,
    "start_time": "2025-03-10T05:13:36.562Z"
   },
   {
    "duration": 5593,
    "start_time": "2025-03-10T05:13:39.221Z"
   },
   {
    "duration": 1472,
    "start_time": "2025-03-10T05:13:44.816Z"
   },
   {
    "duration": 2,
    "start_time": "2025-03-10T05:13:46.291Z"
   },
   {
    "duration": 10,
    "start_time": "2025-03-10T05:13:46.295Z"
   },
   {
    "duration": 4,
    "start_time": "2025-03-10T05:13:46.306Z"
   },
   {
    "duration": 87,
    "start_time": "2025-03-10T05:13:46.311Z"
   },
   {
    "duration": 2,
    "start_time": "2025-03-10T05:13:46.400Z"
   },
   {
    "duration": 45,
    "start_time": "2025-03-10T05:13:46.403Z"
   },
   {
    "duration": 13,
    "start_time": "2025-03-10T05:13:46.449Z"
   },
   {
    "duration": 4,
    "start_time": "2025-03-10T05:13:46.464Z"
   },
   {
    "duration": 16,
    "start_time": "2025-03-10T05:13:46.469Z"
   },
   {
    "duration": 6,
    "start_time": "2025-03-10T05:13:46.488Z"
   },
   {
    "duration": 10,
    "start_time": "2025-03-10T05:13:46.495Z"
   },
   {
    "duration": 6,
    "start_time": "2025-03-10T05:13:46.506Z"
   },
   {
    "duration": 433,
    "start_time": "2025-03-10T05:13:46.513Z"
   },
   {
    "duration": 516,
    "start_time": "2025-03-10T05:13:46.948Z"
   },
   {
    "duration": 917,
    "start_time": "2025-03-10T05:13:47.466Z"
   },
   {
    "duration": 23,
    "start_time": "2025-03-10T05:13:48.384Z"
   },
   {
    "duration": 17,
    "start_time": "2025-03-10T05:13:48.409Z"
   },
   {
    "duration": 8,
    "start_time": "2025-03-10T05:13:48.427Z"
   },
   {
    "duration": 4,
    "start_time": "2025-03-10T05:13:48.437Z"
   },
   {
    "duration": 523,
    "start_time": "2025-03-10T05:13:48.442Z"
   },
   {
    "duration": 4,
    "start_time": "2025-03-10T05:13:48.967Z"
   },
   {
    "duration": 49,
    "start_time": "2025-03-10T05:13:48.972Z"
   },
   {
    "duration": 21,
    "start_time": "2025-03-10T05:13:49.023Z"
   },
   {
    "duration": 127,
    "start_time": "2025-03-10T05:13:55.241Z"
   },
   {
    "duration": 5,
    "start_time": "2025-03-10T05:14:29.239Z"
   },
   {
    "duration": 25,
    "start_time": "2025-03-10T05:14:44.956Z"
   },
   {
    "duration": 6,
    "start_time": "2025-03-10T05:14:49.061Z"
   },
   {
    "duration": 2,
    "start_time": "2025-03-10T05:14:52.153Z"
   },
   {
    "duration": 5,
    "start_time": "2025-03-10T05:14:58.758Z"
   },
   {
    "duration": 3511,
    "start_time": "2025-03-10T05:15:13.394Z"
   },
   {
    "duration": 1906,
    "start_time": "2025-03-10T05:15:29.983Z"
   },
   {
    "duration": 28404,
    "start_time": "2025-03-10T05:15:37.309Z"
   },
   {
    "duration": 77293,
    "start_time": "2025-03-10T05:16:11.037Z"
   },
   {
    "duration": 3,
    "start_time": "2025-03-10T05:17:31.176Z"
   },
   {
    "duration": 10,
    "start_time": "2025-03-10T05:17:32.518Z"
   },
   {
    "duration": 12,
    "start_time": "2025-03-10T05:17:44.540Z"
   },
   {
    "duration": 2546,
    "start_time": "2025-03-10T05:20:40.951Z"
   },
   {
    "duration": 2582,
    "start_time": "2025-03-10T05:20:43.499Z"
   },
   {
    "duration": 5769,
    "start_time": "2025-03-10T05:20:46.082Z"
   },
   {
    "duration": 1422,
    "start_time": "2025-03-10T05:20:51.854Z"
   },
   {
    "duration": 3,
    "start_time": "2025-03-10T05:20:53.277Z"
   },
   {
    "duration": 35,
    "start_time": "2025-03-10T05:20:53.281Z"
   },
   {
    "duration": 30,
    "start_time": "2025-03-10T05:20:53.317Z"
   },
   {
    "duration": 97,
    "start_time": "2025-03-10T05:20:53.348Z"
   },
   {
    "duration": 3,
    "start_time": "2025-03-10T05:20:53.446Z"
   },
   {
    "duration": 16,
    "start_time": "2025-03-10T05:20:53.452Z"
   },
   {
    "duration": 10,
    "start_time": "2025-03-10T05:20:53.470Z"
   },
   {
    "duration": 4,
    "start_time": "2025-03-10T05:20:53.482Z"
   },
   {
    "duration": 17,
    "start_time": "2025-03-10T05:20:53.488Z"
   },
   {
    "duration": 4,
    "start_time": "2025-03-10T05:20:53.506Z"
   },
   {
    "duration": 34,
    "start_time": "2025-03-10T05:20:53.511Z"
   },
   {
    "duration": 6,
    "start_time": "2025-03-10T05:20:53.547Z"
   },
   {
    "duration": 395,
    "start_time": "2025-03-10T05:20:53.555Z"
   },
   {
    "duration": 517,
    "start_time": "2025-03-10T05:20:53.951Z"
   },
   {
    "duration": 815,
    "start_time": "2025-03-10T05:20:54.471Z"
   },
   {
    "duration": 24,
    "start_time": "2025-03-10T05:20:55.288Z"
   },
   {
    "duration": 14,
    "start_time": "2025-03-10T05:20:55.314Z"
   },
   {
    "duration": 19,
    "start_time": "2025-03-10T05:20:55.329Z"
   },
   {
    "duration": 13,
    "start_time": "2025-03-10T05:20:55.349Z"
   },
   {
    "duration": 582,
    "start_time": "2025-03-10T05:20:55.364Z"
   },
   {
    "duration": 5,
    "start_time": "2025-03-10T05:20:55.947Z"
   },
   {
    "duration": 27,
    "start_time": "2025-03-10T05:20:55.953Z"
   },
   {
    "duration": 35,
    "start_time": "2025-03-10T05:20:55.982Z"
   },
   {
    "duration": 31,
    "start_time": "2025-03-10T05:20:56.020Z"
   },
   {
    "duration": 6,
    "start_time": "2025-03-10T05:20:56.053Z"
   },
   {
    "duration": 6,
    "start_time": "2025-03-10T05:20:56.061Z"
   },
   {
    "duration": 15,
    "start_time": "2025-03-10T05:20:56.069Z"
   },
   {
    "duration": 4327,
    "start_time": "2025-03-10T05:20:56.085Z"
   },
   {
    "duration": 2020,
    "start_time": "2025-03-10T05:21:00.414Z"
   },
   {
    "duration": 28476,
    "start_time": "2025-03-10T05:21:02.435Z"
   },
   {
    "duration": 74031,
    "start_time": "2025-03-10T05:21:30.913Z"
   },
   {
    "duration": 3,
    "start_time": "2025-03-10T05:22:44.946Z"
   },
   {
    "duration": 20,
    "start_time": "2025-03-10T05:22:44.950Z"
   },
   {
    "duration": 9,
    "start_time": "2025-03-10T05:22:44.972Z"
   },
   {
    "duration": 1034,
    "start_time": "2025-03-10T05:24:50.758Z"
   },
   {
    "duration": 2584,
    "start_time": "2025-03-10T05:26:00.240Z"
   },
   {
    "duration": 2596,
    "start_time": "2025-03-10T05:26:02.826Z"
   },
   {
    "duration": 5801,
    "start_time": "2025-03-10T05:26:05.424Z"
   },
   {
    "duration": 1465,
    "start_time": "2025-03-10T05:26:11.228Z"
   },
   {
    "duration": 3,
    "start_time": "2025-03-10T05:26:12.695Z"
   },
   {
    "duration": 6,
    "start_time": "2025-03-10T05:26:12.699Z"
   },
   {
    "duration": 4,
    "start_time": "2025-03-10T05:26:12.706Z"
   },
   {
    "duration": 89,
    "start_time": "2025-03-10T05:26:12.711Z"
   },
   {
    "duration": 2,
    "start_time": "2025-03-10T05:26:12.802Z"
   },
   {
    "duration": 40,
    "start_time": "2025-03-10T05:26:12.807Z"
   },
   {
    "duration": 12,
    "start_time": "2025-03-10T05:26:12.849Z"
   },
   {
    "duration": 4,
    "start_time": "2025-03-10T05:26:12.862Z"
   },
   {
    "duration": 16,
    "start_time": "2025-03-10T05:26:12.868Z"
   },
   {
    "duration": 6,
    "start_time": "2025-03-10T05:26:12.885Z"
   },
   {
    "duration": 13,
    "start_time": "2025-03-10T05:26:12.892Z"
   },
   {
    "duration": 9,
    "start_time": "2025-03-10T05:26:12.907Z"
   },
   {
    "duration": 424,
    "start_time": "2025-03-10T05:26:12.917Z"
   },
   {
    "duration": 506,
    "start_time": "2025-03-10T05:26:13.342Z"
   },
   {
    "duration": 841,
    "start_time": "2025-03-10T05:26:13.850Z"
   },
   {
    "duration": 20,
    "start_time": "2025-03-10T05:26:14.693Z"
   },
   {
    "duration": 8,
    "start_time": "2025-03-10T05:26:14.714Z"
   },
   {
    "duration": 13,
    "start_time": "2025-03-10T05:26:14.724Z"
   },
   {
    "duration": 11,
    "start_time": "2025-03-10T05:26:14.739Z"
   },
   {
    "duration": 603,
    "start_time": "2025-03-10T05:26:14.752Z"
   },
   {
    "duration": 5,
    "start_time": "2025-03-10T05:26:15.356Z"
   },
   {
    "duration": 54,
    "start_time": "2025-03-10T05:26:15.363Z"
   },
   {
    "duration": 20,
    "start_time": "2025-03-10T05:26:15.419Z"
   },
   {
    "duration": 43,
    "start_time": "2025-03-10T05:26:15.442Z"
   },
   {
    "duration": 61,
    "start_time": "2025-03-10T05:26:15.486Z"
   },
   {
    "duration": 19,
    "start_time": "2025-03-10T05:26:15.548Z"
   },
   {
    "duration": 26,
    "start_time": "2025-03-10T05:26:15.568Z"
   },
   {
    "duration": 2915,
    "start_time": "2025-03-10T05:26:15.595Z"
   },
   {
    "duration": 2069,
    "start_time": "2025-03-10T05:26:18.515Z"
   },
   {
    "duration": 46921,
    "start_time": "2025-03-10T05:26:20.586Z"
   },
   {
    "duration": 75015,
    "start_time": "2025-03-10T05:27:07.509Z"
   },
   {
    "duration": 4,
    "start_time": "2025-03-10T05:28:22.526Z"
   },
   {
    "duration": 17,
    "start_time": "2025-03-10T05:28:22.532Z"
   },
   {
    "duration": 54,
    "start_time": "2025-03-10T05:28:22.551Z"
   }
  ],
  "colab": {
   "collapsed_sections": [
    "u2HSqjcLQugc",
    "YtG8hApngUFG",
    "XqEZMnOpEKZ6",
    "qhwrTvanfmL0"
   ],
   "provenance": [],
   "toc_visible": true
  },
  "kernelspec": {
   "display_name": "Python 3 (ipykernel)",
   "language": "python",
   "name": "python3"
  },
  "language_info": {
   "codemirror_mode": {
    "name": "ipython",
    "version": 3
   },
   "file_extension": ".py",
   "mimetype": "text/x-python",
   "name": "python",
   "nbconvert_exporter": "python",
   "pygments_lexer": "ipython3",
   "version": "3.11.8"
  },
  "toc": {
   "base_numbering": 1,
   "nav_menu": {},
   "number_sections": true,
   "sideBar": true,
   "skip_h1_title": true,
   "title_cell": "Содержание",
   "title_sidebar": "Contents",
   "toc_cell": true,
   "toc_position": {
    "height": "calc(100% - 180px)",
    "left": "10px",
    "top": "150px",
    "width": "259.594px"
   },
   "toc_section_display": true,
   "toc_window_display": true
  }
 },
 "nbformat": 4,
 "nbformat_minor": 1
}
