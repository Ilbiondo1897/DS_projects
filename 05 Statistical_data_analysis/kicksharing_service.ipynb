{
 "cells": [
  {
   "cell_type": "markdown",
   "id": "c970cf61",
   "metadata": {
    "toc": true
   },
   "source": [
    "<h1>Содержание<span class=\"tocSkip\"></span></h1>\n",
    "<div class=\"toc\"><ul class=\"toc-item\"><li><span><a href=\"#Изучение-общей-информации-о-данных\" data-toc-modified-id=\"Изучение-общей-информации-о-данных-1\"><span class=\"toc-item-num\">1&nbsp;&nbsp;</span>Изучение общей информации о данных</a></span><ul class=\"toc-item\"><li><span><a href=\"#Считаем-данные-из-трёх-предоставленных-csv-файлов-(данные-о-пользователях,-поездках-и-подписках),-сохраним-их-в-три-переменные:-users,-rides-и-subscriptions\" data-toc-modified-id=\"Считаем-данные-из-трёх-предоставленных-csv-файлов-(данные-о-пользователях,-поездках-и-подписках),-сохраним-их-в-три-переменные:-users,-rides-и-subscriptions-1.1\"><span class=\"toc-item-num\">1.1&nbsp;&nbsp;</span>Считаем данные из трёх предоставленных csv-файлов (данные о пользователях, поездках и подписках), сохраним их в три переменные: <code>users</code>, <code>rides</code> и <code>subscriptions</code></a></span></li><li><span><a href=\"#Выведем-первые-5-строк-датасетов-и-изучим-общую-информацию-о-них\" data-toc-modified-id=\"Выведем-первые-5-строк-датасетов-и-изучим-общую-информацию-о-них-1.2\"><span class=\"toc-item-num\">1.2&nbsp;&nbsp;</span>Выведем первые 5 строк датасетов и изучим общую информацию о них</a></span></li></ul></li><li><span><a href=\"#Предобработка-данных\" data-toc-modified-id=\"Предобработка-данных-2\"><span class=\"toc-item-num\">2&nbsp;&nbsp;</span>Предобработка данных</a></span><ul class=\"toc-item\"><li><span><a href=\"#Приведение-столбца-date-к-типу-даты-Pandas\" data-toc-modified-id=\"Приведение-столбца-date-к-типу-даты-Pandas-2.1\"><span class=\"toc-item-num\">2.1&nbsp;&nbsp;</span>Приведение столбца <code>date</code> к типу даты Pandas</a></span></li><li><span><a href=\"#Создание-нового-столбца-с-номером-месяца-на-основе-столбца-date\" data-toc-modified-id=\"Создание-нового-столбца-с-номером-месяца-на-основе-столбца-date-2.2\"><span class=\"toc-item-num\">2.2&nbsp;&nbsp;</span>Создание нового столбца с номером месяца на основе столбца <code>date</code></a></span></li><li><span><a href=\"#Проверка-наличия-пропущенных-значений-и-дубликатов-в-датасетах\" data-toc-modified-id=\"Проверка-наличия-пропущенных-значений-и-дубликатов-в-датасетах-2.3\"><span class=\"toc-item-num\">2.3&nbsp;&nbsp;</span>Проверка наличия пропущенных значений и дубликатов в датасетах</a></span></li></ul></li><li><span><a href=\"#Исследовательский-анализ-данных\" data-toc-modified-id=\"Исследовательский-анализ-данных-3\"><span class=\"toc-item-num\">3&nbsp;&nbsp;</span>Исследовательский анализ данных</a></span><ul class=\"toc-item\"><li><span><a href=\"#Частота-встречаемости-городов\" data-toc-modified-id=\"Частота-встречаемости-городов-3.1\"><span class=\"toc-item-num\">3.1&nbsp;&nbsp;</span>Частота встречаемости городов</a></span></li><li><span><a href=\"#Соотношение-пользователей-с-подпиской-и-без-неё\" data-toc-modified-id=\"Соотношение-пользователей-с-подпиской-и-без-неё-3.2\"><span class=\"toc-item-num\">3.2&nbsp;&nbsp;</span>Соотношение пользователей с подпиской и без неё</a></span></li><li><span><a href=\"#Возраст-пользователей\" data-toc-modified-id=\"Возраст-пользователей-3.3\"><span class=\"toc-item-num\">3.3&nbsp;&nbsp;</span>Возраст пользователей</a></span></li><li><span><a href=\"#Расстояние,-которое-пользователь-преодолел-за-одну-поездку-(в-текущей-сессии)\" data-toc-modified-id=\"Расстояние,-которое-пользователь-преодолел-за-одну-поездку-(в-текущей-сессии)-3.4\"><span class=\"toc-item-num\">3.4&nbsp;&nbsp;</span>Расстояние, которое пользователь преодолел за одну поездку (в текущей сессии)</a></span></li><li><span><a href=\"#Продолжительность-поездок\" data-toc-modified-id=\"Продолжительность-поездок-3.5\"><span class=\"toc-item-num\">3.5&nbsp;&nbsp;</span>Продолжительность поездок</a></span></li></ul></li><li><span><a href=\"#Объединение-данных\" data-toc-modified-id=\"Объединение-данных-4\"><span class=\"toc-item-num\">4&nbsp;&nbsp;</span>Объединение данных</a></span><ul class=\"toc-item\"><li><span><a href=\"#Объединение-данных-о-пользователях,-поездках-и-подписках-в-один-датафрейм\" data-toc-modified-id=\"Объединение-данных-о-пользователях,-поездках-и-подписках-в-один-датафрейм-4.1\"><span class=\"toc-item-num\">4.1&nbsp;&nbsp;</span>Объединение данных о пользователях, поездках и подписках в один датафрейм</a></span></li><li><span><a href=\"#Создание-двух-дополнительных-датафреймов-из-объединённого-ранее-total\" data-toc-modified-id=\"Создание-двух-дополнительных-датафреймов-из-объединённого-ранее-total-4.2\"><span class=\"toc-item-num\">4.2&nbsp;&nbsp;</span>Создание двух дополнительных датафреймов из объединённого ранее <code>total</code></a></span></li><li><span><a href=\"#Визуализация-информации-о-расстоянии-и-продолжительности-поездок-пользователей-из-обеих-категорий\" data-toc-modified-id=\"Визуализация-информации-о-расстоянии-и-продолжительности-поездок-пользователей-из-обеих-категорий-4.3\"><span class=\"toc-item-num\">4.3&nbsp;&nbsp;</span>Визуализация информации о расстоянии и продолжительности поездок пользователей из обеих категорий</a></span></li></ul></li><li><span><a href=\"#Подсчёт-выручки\" data-toc-modified-id=\"Подсчёт-выручки-5\"><span class=\"toc-item-num\">5&nbsp;&nbsp;</span>Подсчёт выручки</a></span><ul class=\"toc-item\"><li><span><a href=\"#Создать-датафрейм-с-агрегированными-данными-о-поездках-на-основе-датафрейма-total\" data-toc-modified-id=\"Создать-датафрейм-с-агрегированными-данными-о-поездках-на-основе-датафрейма-total-5.1\"><span class=\"toc-item-num\">5.1&nbsp;&nbsp;</span>Создать датафрейм с агрегированными данными о поездках на основе датафрейма <code>total</code></a></span></li><li><span><a href=\"#В-этот-же-датафрейм-добавить-столбец-с-помесячной-выручкой,-которую-принёс-каждый-пользователь\" data-toc-modified-id=\"В-этот-же-датафрейм-добавить-столбец-с-помесячной-выручкой,-которую-принёс-каждый-пользователь-5.2\"><span class=\"toc-item-num\">5.2&nbsp;&nbsp;</span>В этот же датафрейм добавить столбец с помесячной выручкой, которую принёс каждый пользователь</a></span></li></ul></li><li><span><a href=\"#Проверка-гипотез\" data-toc-modified-id=\"Проверка-гипотез-6\"><span class=\"toc-item-num\">6&nbsp;&nbsp;</span>Проверка гипотез</a></span><ul class=\"toc-item\"><li><span><a href=\"#Тратят-ли-пользователи-с-подпиской-больше-времени-на-поездки?\" data-toc-modified-id=\"Тратят-ли-пользователи-с-подпиской-больше-времени-на-поездки?-6.1\"><span class=\"toc-item-num\">6.1&nbsp;&nbsp;</span>Тратят ли пользователи с подпиской больше времени на поездки?</a></span></li><li><span><a href=\"#Можно-ли-сказать,-что-среднее-расстояние,-которое-проезжают-пользователи-с-подпиской-за-одну-поездку,-не-превышает-3130-метров-(оптимальное-с-точки-зрения-износа-самоката)?\" data-toc-modified-id=\"Можно-ли-сказать,-что-среднее-расстояние,-которое-проезжают-пользователи-с-подпиской-за-одну-поездку,-не-превышает-3130-метров-(оптимальное-с-точки-зрения-износа-самоката)?-6.2\"><span class=\"toc-item-num\">6.2&nbsp;&nbsp;</span>Можно ли сказать, что среднее расстояние, которое проезжают пользователи с подпиской за одну поездку, не превышает 3130 метров (оптимальное с точки зрения износа самоката)?</a></span></li><li><span><a href=\"#Будет-ли-помесячная-средняя-выручка-от-пользователей-с-подпиской-выше,-чем-средняя-выручка-от-пользователей-без-подписки?\" data-toc-modified-id=\"Будет-ли-помесячная-средняя-выручка-от-пользователей-с-подпиской-выше,-чем-средняя-выручка-от-пользователей-без-подписки?-6.3\"><span class=\"toc-item-num\">6.3&nbsp;&nbsp;</span>Будет ли помесячная средняя выручка от пользователей с подпиской выше, чем средняя выручка от пользователей без подписки?</a></span></li><li><span><a href=\"#Какой-тест-понадобился-бы-для-проверки-гипотезы-о-значительном-снижении-количества-обращений-в-техподдержку?\" data-toc-modified-id=\"Какой-тест-понадобился-бы-для-проверки-гипотезы-о-значительном-снижении-количества-обращений-в-техподдержку?-6.4\"><span class=\"toc-item-num\">6.4&nbsp;&nbsp;</span>Какой тест понадобился бы для проверки гипотезы о значительном снижении количества обращений в техподдержку?</a></span></li></ul></li><li><span><a href=\"#Распределения\" data-toc-modified-id=\"Распределения-7\"><span class=\"toc-item-num\">7&nbsp;&nbsp;</span>Распределения</a></span><ul class=\"toc-item\"><li><span><a href=\"#Выяснить,-какое-минимальное-количество-промокодов-нужно-разослать,-чтобы-вероятность-не-выполнить-план-была-примерно-5%\" data-toc-modified-id=\"Выяснить,-какое-минимальное-количество-промокодов-нужно-разослать,-чтобы-вероятность-не-выполнить-план-была-примерно-5%-7.1\"><span class=\"toc-item-num\">7.1&nbsp;&nbsp;</span>Выяснить, какое минимальное количество промокодов нужно разослать, чтобы вероятность не выполнить план была примерно 5%</a></span><ul class=\"toc-item\"><li><span><a href=\"#Задача-7.1-—-декомпозиция\" data-toc-modified-id=\"Задача-7.1-—-декомпозиция-7.1.1\"><span class=\"toc-item-num\">7.1.1&nbsp;&nbsp;</span>Задача 7.1 — декомпозиция</a></span></li></ul></li><li><span><a href=\"#Оценить-вероятность-того,-что-push-уведомление-откроют-не-более-399,5-тыс.-пользователей\" data-toc-modified-id=\"Оценить-вероятность-того,-что-push-уведомление-откроют-не-более-399,5-тыс.-пользователей-7.2\"><span class=\"toc-item-num\">7.2&nbsp;&nbsp;</span>Оценить вероятность того, что push-уведомление откроют не более 399,5 тыс. пользователей</a></span></li></ul></li><li><span><a href=\"#Итоговый-вывод\" data-toc-modified-id=\"Итоговый-вывод-8\"><span class=\"toc-item-num\">8&nbsp;&nbsp;</span>Итоговый вывод</a></span></li></ul></div>"
   ]
  },
  {
   "cell_type": "markdown",
   "id": "7f48990c",
   "metadata": {},
   "source": [
    "# Проект: анализ данных сервиса GoFast, содержащих поездки пользователей на электросамокатах в нескольких городах <a class=\"tocSkip\">"
   ]
  },
  {
   "cell_type": "markdown",
   "id": "282242a8",
   "metadata": {},
   "source": [
    "Для совершения поездок пользователи регистрируются в мобильном приложении, которое можно использовать:\n",
    "- без подписки, при этом:\n",
    "    - абонентская плата отсутствует;\n",
    "    - стоимость одной минуты поездки — 8 рублей;\n",
    "    - стоимость старта (начала поездки) — 50 рублей;\n",
    "- с подпиской Ultra, при этом:\n",
    "    - абонентская плата — 199 рублей в месяц;\n",
    "    - стоимость одной минуты поездки — 6 рублей;\n",
    "    - стоимость старта — бесплатно.\n",
    "\n",
    "Задачи проекта - проанализировать данные, содержащие поездки на электросамокатах некоторых пользователей из нескольких городов:\n",
    "- частота встречаемости городов;\n",
    "- соотношение пользователей с подпиской и без неё;\n",
    "- распределение возраста пользователей;\n",
    "- расстояние, преодолённое за одну поездку;\n",
    "- продолжительность поездок.\n",
    "\n",
    "Посчитать помесячную выручку, которую принёс каждый пользователь, используя алгоритм:\n",
    "- без подписки: (стоимость одной минуты * продолжительность поездки) + (количество поездок * стоимость старта)\n",
    "- с подпиской: (стоимость одной минуты * продолжительность поездки) + абонентская плата\n",
    "\n",
    "Проверить ряд гипотез, которые могут помочь вырасти бизнесу:\n",
    "- влияет ли подписка на время поездки;\n",
    "- не превышает ли среднее пройденное расстояние 3130 м;\n",
    "- приносят ли пользователи с подпиской больше денег, чем пользователи без неё;\n",
    "- снизится ли количество обращений в техподдержку после обновления серверов.\n",
    "\n",
    "Дополнительно:\n",
    "- определить минимальное количество промокодов, которые планируется разослать пользователям;\n",
    "- оценить успех отправки пользователям push-уведомлений."
   ]
  },
  {
   "cell_type": "markdown",
   "id": "87931e83",
   "metadata": {},
   "source": [
    "## Изучение общей информации о данных"
   ]
  },
  {
   "cell_type": "markdown",
   "id": "50b66612",
   "metadata": {},
   "source": [
    "Импортируем библиотеки:"
   ]
  },
  {
   "cell_type": "code",
   "execution_count": 1,
   "id": "15c12b36",
   "metadata": {},
   "outputs": [],
   "source": [
    "import pandas as pd\n",
    "import matplotlib.pyplot as plt\n",
    "import numpy as np\n",
    "from scipy import stats as st\n",
    "from math import factorial\n",
    "from scipy.stats import binom"
   ]
  },
  {
   "cell_type": "markdown",
   "id": "a18cf337",
   "metadata": {},
   "source": [
    "### Считаем данные из трёх предоставленных csv-файлов (данные о пользователях, поездках и подписках), сохраним их в три переменные: `users`, `rides` и `subscriptions`"
   ]
  },
  {
   "cell_type": "code",
   "execution_count": 2,
   "id": "6a4d5a29",
   "metadata": {},
   "outputs": [],
   "source": [
    "try:\n",
    "    users = pd.read_csv('users_go.csv')\n",
    "    rides = pd.read_csv('rides_go.csv')\n",
    "    subscriptions = pd.read_csv('subscriptions_go.csv')\n",
    "except:\n",
    "    users = pd.read_csv('/datasets/users_go.csv')\n",
    "    rides = pd.read_csv('/datasets/rides_go.csv')\n",
    "    subscriptions = pd.read_csv('/datasets/subscriptions_go.csv')"
   ]
  },
  {
   "cell_type": "markdown",
   "id": "d2dbf2d7",
   "metadata": {},
   "source": [
    "### Выведем первые 5 строк датасетов и изучим общую информацию о них"
   ]
  },
  {
   "cell_type": "code",
   "execution_count": 3,
   "id": "768ffc68",
   "metadata": {},
   "outputs": [],
   "source": [
    "pd.set_option('display.max_columns', None)"
   ]
  },
  {
   "cell_type": "markdown",
   "id": "29f48cb7",
   "metadata": {},
   "source": [
    "Создадим функцию для вывода информации:"
   ]
  },
  {
   "cell_type": "code",
   "execution_count": 4,
   "id": "0dc538fa",
   "metadata": {},
   "outputs": [],
   "source": [
    "def get_info(dataset):\n",
    "    print('Первые пять строк датасета:')\n",
    "    print(dataset.head())\n",
    "    print('Общая информация:')\n",
    "    print(dataset.info())"
   ]
  },
  {
   "cell_type": "code",
   "execution_count": 5,
   "id": "b38a7a8c",
   "metadata": {
    "scrolled": true
   },
   "outputs": [
    {
     "name": "stdout",
     "output_type": "stream",
     "text": [
      "Первые пять строк датасета:\n",
      "   user_id        name  age            city subscription_type\n",
      "0        1        Кира   22          Тюмень             ultra\n",
      "1        2   Станислав   31            Омск             ultra\n",
      "2        3     Алексей   20          Москва             ultra\n",
      "3        4  Константин   26  Ростов-на-Дону             ultra\n",
      "4        5       Адель   28            Омск             ultra\n",
      "Общая информация:\n",
      "<class 'pandas.core.frame.DataFrame'>\n",
      "RangeIndex: 1565 entries, 0 to 1564\n",
      "Data columns (total 5 columns):\n",
      " #   Column             Non-Null Count  Dtype \n",
      "---  ------             --------------  ----- \n",
      " 0   user_id            1565 non-null   int64 \n",
      " 1   name               1565 non-null   object\n",
      " 2   age                1565 non-null   int64 \n",
      " 3   city               1565 non-null   object\n",
      " 4   subscription_type  1565 non-null   object\n",
      "dtypes: int64(2), object(3)\n",
      "memory usage: 61.3+ KB\n",
      "None\n"
     ]
    }
   ],
   "source": [
    "get_info(users)"
   ]
  },
  {
   "cell_type": "code",
   "execution_count": 6,
   "id": "4a63bb4a",
   "metadata": {
    "scrolled": true
   },
   "outputs": [
    {
     "name": "stdout",
     "output_type": "stream",
     "text": [
      "Первые пять строк датасета:\n",
      "   user_id     distance   duration        date\n",
      "0        1  4409.919140  25.599769  2021-01-01\n",
      "1        1  2617.592153  15.816871  2021-01-18\n",
      "2        1   754.159807   6.232113  2021-04-20\n",
      "3        1  2694.783254  18.511000  2021-08-11\n",
      "4        1  4028.687306  26.265803  2021-08-28\n",
      "Общая информация:\n",
      "<class 'pandas.core.frame.DataFrame'>\n",
      "RangeIndex: 18068 entries, 0 to 18067\n",
      "Data columns (total 4 columns):\n",
      " #   Column    Non-Null Count  Dtype  \n",
      "---  ------    --------------  -----  \n",
      " 0   user_id   18068 non-null  int64  \n",
      " 1   distance  18068 non-null  float64\n",
      " 2   duration  18068 non-null  float64\n",
      " 3   date      18068 non-null  object \n",
      "dtypes: float64(2), int64(1), object(1)\n",
      "memory usage: 564.8+ KB\n",
      "None\n"
     ]
    }
   ],
   "source": [
    "get_info(rides)"
   ]
  },
  {
   "cell_type": "code",
   "execution_count": 7,
   "id": "9ed4ca26",
   "metadata": {},
   "outputs": [
    {
     "name": "stdout",
     "output_type": "stream",
     "text": [
      "Первые пять строк датасета:\n",
      "  subscription_type  minute_price  start_ride_price  subscription_fee\n",
      "0              free             8                50                 0\n",
      "1             ultra             6                 0               199\n",
      "Общая информация:\n",
      "<class 'pandas.core.frame.DataFrame'>\n",
      "RangeIndex: 2 entries, 0 to 1\n",
      "Data columns (total 4 columns):\n",
      " #   Column             Non-Null Count  Dtype \n",
      "---  ------             --------------  ----- \n",
      " 0   subscription_type  2 non-null      object\n",
      " 1   minute_price       2 non-null      int64 \n",
      " 2   start_ride_price   2 non-null      int64 \n",
      " 3   subscription_fee   2 non-null      int64 \n",
      "dtypes: int64(3), object(1)\n",
      "memory usage: 192.0+ bytes\n",
      "None\n"
     ]
    }
   ],
   "source": [
    "get_info(subscriptions)"
   ]
  },
  {
   "cell_type": "markdown",
   "id": "f0024236",
   "metadata": {},
   "source": [
    "Датасеты содержат следующую информацию:\n",
    "\n",
    "`user_id` — уникальный идентификатор пользователя\n",
    "\n",
    "`name` — имя пользователя\n",
    "\n",
    "`age` — возраст\n",
    "\n",
    "`city` — город\n",
    "\n",
    "`subscription_type` — тип подписки (free, ultra)\n",
    "\n",
    "`distance` — расстояние, которое пользователь проехал в текущей сессии (в метрах)\n",
    "\n",
    "`duration` — продолжительность сессии (в минутах) — время с того момента, как пользователь нажал кнопку «Начать поездку» до момента, как он нажал кнопку «Завершить поездку»\n",
    "\n",
    "`date` — дата совершения поездки\n",
    "\n",
    "`minute_price` — стоимость одной минуты поездки по данной подписке\n",
    "\n",
    "`start_ride_price` — стоимость начала поездки\n",
    "\n",
    "`subscription_fee` — стоимость ежемесячного платежа"
   ]
  },
  {
   "cell_type": "markdown",
   "id": "deee0139",
   "metadata": {},
   "source": [
    "Датасеты `users` и `rides` имеют общий столбец `user_id`, а `users` и `subscriptions` - `subscription_type`. Датасет `subscription` имеет всего две строки."
   ]
  },
  {
   "cell_type": "markdown",
   "id": "8bf2c0cf",
   "metadata": {},
   "source": [
    "Выводы по разделу:\n",
    "\n",
    "- изучены все три предоставленных датасета, пропуски в столбцах не обнаружены;\n",
    "- датасеты имеют общие столбцы, по которым потом можно будет составлять сводные таблицы."
   ]
  },
  {
   "cell_type": "markdown",
   "id": "468d1f04",
   "metadata": {},
   "source": [
    "## Предобработка данных"
   ]
  },
  {
   "cell_type": "markdown",
   "id": "72bb773b",
   "metadata": {},
   "source": [
    "### Приведение столбца `date` к типу даты Pandas"
   ]
  },
  {
   "cell_type": "code",
   "execution_count": 14,
   "id": "b52f9204",
   "metadata": {},
   "outputs": [],
   "source": [
    "rides['date'] = rides['date'].astype('datetime64[ns]')"
   ]
  },
  {
   "cell_type": "markdown",
   "id": "961ba024",
   "metadata": {},
   "source": [
    "Можно привести формат даты к корректному в самом начале, при чтении файла .csv, с помощью доп. параметра parse_dates=['date'])"
   ]
  },
  {
   "cell_type": "markdown",
   "id": "126272bd",
   "metadata": {},
   "source": [
    "### Создание нового столбца с номером месяца на основе столбца `date`"
   ]
  },
  {
   "cell_type": "code",
   "execution_count": 15,
   "id": "132211c8",
   "metadata": {},
   "outputs": [],
   "source": [
    "rides['month'] = pd.DatetimeIndex(rides['date']).month"
   ]
  },
  {
   "cell_type": "markdown",
   "id": "be02f078",
   "metadata": {},
   "source": [
    "Проверим, за какой период собраны данные:"
   ]
  },
  {
   "cell_type": "code",
   "execution_count": 16,
   "id": "8d4eab35",
   "metadata": {},
   "outputs": [
    {
     "data": {
      "text/plain": [
       "Timestamp('2021-01-01 00:00:00')"
      ]
     },
     "execution_count": 16,
     "metadata": {},
     "output_type": "execute_result"
    }
   ],
   "source": [
    "rides['date'].min()"
   ]
  },
  {
   "cell_type": "code",
   "execution_count": 17,
   "id": "b0bb5342",
   "metadata": {
    "scrolled": true
   },
   "outputs": [
    {
     "data": {
      "text/plain": [
       "Timestamp('2021-12-30 00:00:00')"
      ]
     },
     "execution_count": 17,
     "metadata": {},
     "output_type": "execute_result"
    }
   ],
   "source": [
    "rides['date'].max()"
   ]
  },
  {
   "cell_type": "markdown",
   "id": "1020152e",
   "metadata": {},
   "source": [
    "Убедились, что данные собраны за 2021 год"
   ]
  },
  {
   "cell_type": "markdown",
   "id": "5bbf8f9b",
   "metadata": {},
   "source": [
    "### Проверка наличия пропущенных значений и дубликатов в датасетах"
   ]
  },
  {
   "cell_type": "code",
   "execution_count": 18,
   "id": "2ba876b8",
   "metadata": {},
   "outputs": [
    {
     "data": {
      "text/plain": [
       "user_id              0\n",
       "name                 0\n",
       "age                  0\n",
       "city                 0\n",
       "subscription_type    0\n",
       "dtype: int64"
      ]
     },
     "execution_count": 18,
     "metadata": {},
     "output_type": "execute_result"
    }
   ],
   "source": [
    "users.isnull().sum()"
   ]
  },
  {
   "cell_type": "code",
   "execution_count": 19,
   "id": "d7c109d3",
   "metadata": {},
   "outputs": [
    {
     "data": {
      "text/plain": [
       "user_id     0\n",
       "distance    0\n",
       "duration    0\n",
       "date        0\n",
       "month       0\n",
       "dtype: int64"
      ]
     },
     "execution_count": 19,
     "metadata": {},
     "output_type": "execute_result"
    }
   ],
   "source": [
    "rides.isnull().sum()"
   ]
  },
  {
   "cell_type": "code",
   "execution_count": 20,
   "id": "8ead05c1",
   "metadata": {},
   "outputs": [
    {
     "data": {
      "text/plain": [
       "subscription_type    0\n",
       "minute_price         0\n",
       "start_ride_price     0\n",
       "subscription_fee     0\n",
       "dtype: int64"
      ]
     },
     "execution_count": 20,
     "metadata": {},
     "output_type": "execute_result"
    }
   ],
   "source": [
    "subscriptions.isnull().sum()"
   ]
  },
  {
   "cell_type": "markdown",
   "id": "ee961786",
   "metadata": {},
   "source": [
    "Пропущенные значения отсутствуют"
   ]
  },
  {
   "cell_type": "code",
   "execution_count": 21,
   "id": "c5085eb6",
   "metadata": {
    "scrolled": true
   },
   "outputs": [
    {
     "data": {
      "text/plain": [
       "31"
      ]
     },
     "execution_count": 21,
     "metadata": {},
     "output_type": "execute_result"
    }
   ],
   "source": [
    "users.duplicated().sum()"
   ]
  },
  {
   "cell_type": "code",
   "execution_count": 22,
   "id": "e814875b",
   "metadata": {},
   "outputs": [
    {
     "data": {
      "text/plain": [
       "0"
      ]
     },
     "execution_count": 22,
     "metadata": {},
     "output_type": "execute_result"
    }
   ],
   "source": [
    "rides.duplicated().sum()"
   ]
  },
  {
   "cell_type": "code",
   "execution_count": 23,
   "id": "c027f72b",
   "metadata": {},
   "outputs": [
    {
     "data": {
      "text/plain": [
       "0"
      ]
     },
     "execution_count": 23,
     "metadata": {},
     "output_type": "execute_result"
    }
   ],
   "source": [
    "subscriptions.duplicated().sum()"
   ]
  },
  {
   "cell_type": "markdown",
   "id": "668e15fe",
   "metadata": {},
   "source": [
    "Найден 31 явный дубликат в датасете `users`, удалим их:"
   ]
  },
  {
   "cell_type": "code",
   "execution_count": 24,
   "id": "4bd83cd1",
   "metadata": {},
   "outputs": [],
   "source": [
    "users.drop_duplicates(inplace=True)"
   ]
  },
  {
   "cell_type": "markdown",
   "id": "47d020a2",
   "metadata": {},
   "source": [
    "Проверим, что явные дубликаты удалены:"
   ]
  },
  {
   "cell_type": "code",
   "execution_count": 25,
   "id": "290d9f96",
   "metadata": {},
   "outputs": [
    {
     "data": {
      "text/plain": [
       "0"
      ]
     },
     "execution_count": 25,
     "metadata": {},
     "output_type": "execute_result"
    }
   ],
   "source": [
    "users.duplicated().sum()"
   ]
  },
  {
   "cell_type": "markdown",
   "id": "70400e14",
   "metadata": {},
   "source": [
    "Выводы по разделу:\n",
    "\n",
    "- столбец `date` датасета `rides` приведён к типу даты datetime64[ns];\n",
    "\n",
    "- создан новый столбец `month` в датасете `rides`, содержащий номера месяцев, извлечённых из столбца `date` того же датасета;\n",
    "\n",
    "- датасеты изучены на предмет наличия пропущенных значений и дубликатов: пропущенные значения отсутствуют, явные дубликаты в датасете `users` удалены, неявные дубликаты не удаляем, т.к. их наличие обосновано (одинаковые имена, возраст, названия городов и типы подписок).\n",
    "\n",
    "Принимаем, что данные предобработаны, можно переходить к их анализу."
   ]
  },
  {
   "cell_type": "markdown",
   "id": "9ae28d5e",
   "metadata": {},
   "source": [
    "## Исследовательский анализ данных"
   ]
  },
  {
   "cell_type": "markdown",
   "id": "47c3975a",
   "metadata": {},
   "source": [
    "Опишем и визуализируем общую информацию о пользователях и их поездках"
   ]
  },
  {
   "cell_type": "markdown",
   "id": "4af55096",
   "metadata": {},
   "source": [
    "### Частота встречаемости городов"
   ]
  },
  {
   "cell_type": "markdown",
   "id": "facb81b4",
   "metadata": {},
   "source": [
    "Создадим сводную таблицу, содержащую количество пользователей в городах:"
   ]
  },
  {
   "cell_type": "code",
   "execution_count": 26,
   "id": "9772eb7e",
   "metadata": {},
   "outputs": [
    {
     "data": {
      "text/html": [
       "<div>\n",
       "<style scoped>\n",
       "    .dataframe tbody tr th:only-of-type {\n",
       "        vertical-align: middle;\n",
       "    }\n",
       "\n",
       "    .dataframe tbody tr th {\n",
       "        vertical-align: top;\n",
       "    }\n",
       "\n",
       "    .dataframe thead th {\n",
       "        text-align: right;\n",
       "    }\n",
       "</style>\n",
       "<table border=\"1\" class=\"dataframe\">\n",
       "  <thead>\n",
       "    <tr style=\"text-align: right;\">\n",
       "      <th></th>\n",
       "      <th>user_id</th>\n",
       "    </tr>\n",
       "    <tr>\n",
       "      <th>city</th>\n",
       "      <th></th>\n",
       "    </tr>\n",
       "  </thead>\n",
       "  <tbody>\n",
       "    <tr>\n",
       "      <th>Пятигорск</th>\n",
       "      <td>219</td>\n",
       "    </tr>\n",
       "    <tr>\n",
       "      <th>Екатеринбург</th>\n",
       "      <td>204</td>\n",
       "    </tr>\n",
       "    <tr>\n",
       "      <th>Ростов-на-Дону</th>\n",
       "      <td>198</td>\n",
       "    </tr>\n",
       "    <tr>\n",
       "      <th>Краснодар</th>\n",
       "      <td>193</td>\n",
       "    </tr>\n",
       "    <tr>\n",
       "      <th>Сочи</th>\n",
       "      <td>189</td>\n",
       "    </tr>\n",
       "    <tr>\n",
       "      <th>Омск</th>\n",
       "      <td>183</td>\n",
       "    </tr>\n",
       "    <tr>\n",
       "      <th>Тюмень</th>\n",
       "      <td>180</td>\n",
       "    </tr>\n",
       "    <tr>\n",
       "      <th>Москва</th>\n",
       "      <td>168</td>\n",
       "    </tr>\n",
       "  </tbody>\n",
       "</table>\n",
       "</div>"
      ],
      "text/plain": [
       "                user_id\n",
       "city                   \n",
       "Пятигорск           219\n",
       "Екатеринбург        204\n",
       "Ростов-на-Дону      198\n",
       "Краснодар           193\n",
       "Сочи                189\n",
       "Омск                183\n",
       "Тюмень              180\n",
       "Москва              168"
      ]
     },
     "execution_count": 26,
     "metadata": {},
     "output_type": "execute_result"
    }
   ],
   "source": [
    "users.pivot_table(index='city', values='user_id', aggfunc='count') \\\n",
    ".sort_values(by='user_id', ascending=False).head(10)"
   ]
  },
  {
   "cell_type": "markdown",
   "id": "fcf012b7",
   "metadata": {},
   "source": [
    "Построим диаграмму на основании полученных выше данных:"
   ]
  },
  {
   "cell_type": "markdown",
   "id": "8636fd76",
   "metadata": {},
   "source": [
    "<div style>\n",
    "<font size=\"4\"><b></b></font>\n",
    "<font size=\"5\", color = \"black\">\n",
    "🤝"
   ]
  },
  {
   "cell_type": "code",
   "execution_count": 27,
   "id": "6a9f3409",
   "metadata": {
    "scrolled": true
   },
   "outputs": [
    {
     "data": {
      "image/png": "[encoded data removed]",
      "text/plain": [
       "<Figure size 720x360 with 1 Axes>"
      ]
     },
     "metadata": {
      "needs_background": "light"
     },
     "output_type": "display_data"
    }
   ],
   "source": [
    "users.pivot_table(index='city', values='user_id', aggfunc='count') \\\n",
    ".sort_values(by='user_id', ascending=True).plot(kind='barh', figsize=(10,5), grid=True);\n",
    "plt.title('Частота встречаемости городов по количеству пользователей');\n",
    "plt.legend('')\n",
    "plt.xlabel('Количество пользователей');\n",
    "plt.ylabel('Город');\n",
    "plt.show()"
   ]
  },
  {
   "cell_type": "code",
   "execution_count": 28,
   "id": "4550dba2",
   "metadata": {},
   "outputs": [
    {
     "data": {
      "image/png": "[encoded data removed]",
      "text/plain": [
       "<Figure size 360x360 with 1 Axes>"
      ]
     },
     "metadata": {},
     "output_type": "display_data"
    }
   ],
   "source": [
    "users['city'].value_counts().plot(\n",
    "    kind = 'pie',\n",
    "    ylabel = '',\n",
    "    autopct = '%1.0f%%',\n",
    "    figsize=(5,5), \n",
    "    title = 'Процентное распределение пользователей по городам');"
   ]
  },
  {
   "cell_type": "markdown",
   "id": "e900b8f0",
   "metadata": {},
   "source": [
    "Выводы по разделу:\n",
    "\n",
    "- лидируют по количеству зарегистрированных в приложении пользователей южные города России (в топ-5: Пятигорск, Ростов-на-Дону, Краснодар, Сочи);\n",
    "- Москва, на удивление, лишь на 8-м месте;\n",
    "- интересно наличие в рейтинге соседних Омска и Тюмени;\n",
    "- в процентном соотношении при этом разница между распределением пользователей по городам не так велика."
   ]
  },
  {
   "cell_type": "markdown",
   "id": "0f39fee8",
   "metadata": {},
   "source": [
    "### Соотношение пользователей с подпиской и без неё"
   ]
  },
  {
   "cell_type": "markdown",
   "id": "7bfaa1ba",
   "metadata": {},
   "source": [
    "Посчитаем количество значений для каждого из вариантов (с подпиской и без):"
   ]
  },
  {
   "cell_type": "code",
   "execution_count": 29,
   "id": "e6e80bb8",
   "metadata": {
    "scrolled": true
   },
   "outputs": [
    {
     "data": {
      "text/plain": [
       "free     835\n",
       "ultra    699\n",
       "Name: subscription_type, dtype: int64"
      ]
     },
     "execution_count": 29,
     "metadata": {},
     "output_type": "execute_result"
    }
   ],
   "source": [
    "users['subscription_type'].value_counts()"
   ]
  },
  {
   "cell_type": "markdown",
   "id": "4d07cf08",
   "metadata": {},
   "source": [
    "Построим круговую диаграмму для этих вариантов с указанием процентного соотношения распределения:"
   ]
  },
  {
   "cell_type": "code",
   "execution_count": 30,
   "id": "7d97d9be",
   "metadata": {
    "scrolled": true
   },
   "outputs": [
    {
     "data": {
      "image/png": "[encoded data removed]",
      "text/plain": [
       "<Figure size 360x360 with 1 Axes>"
      ]
     },
     "metadata": {},
     "output_type": "display_data"
    }
   ],
   "source": [
    "users.pivot_table(index='subscription_type', values='user_id', aggfunc='count') \\\n",
    ".plot(y='user_id', kind='pie', figsize=(5,5), autopct='%1.1f%%');\n",
    "plt.title('Распределение типов подписок');\n",
    "plt.ylabel('');\n",
    "plt.show()"
   ]
  },
  {
   "cell_type": "markdown",
   "id": "fe2ecdd8",
   "metadata": {},
   "source": [
    "Вывод по разделу:\n",
    "\n",
    "- количество пользователей без подписки больше, чем с ней, на 8,8%."
   ]
  },
  {
   "cell_type": "markdown",
   "id": "2a429429",
   "metadata": {},
   "source": [
    "### Возраст пользователей"
   ]
  },
  {
   "cell_type": "markdown",
   "id": "450b7a5c",
   "metadata": {},
   "source": [
    "Создадим сводную таблицу по возрасту пользователей и построим диаграмму его распределения:"
   ]
  },
  {
   "cell_type": "code",
   "execution_count": 31,
   "id": "65e7bd52",
   "metadata": {
    "scrolled": false
   },
   "outputs": [
    {
     "data": {
      "image/png": "[encoded data removed]",
      "text/plain": [
       "<Figure size 720x720 with 1 Axes>"
      ]
     },
     "metadata": {
      "needs_background": "light"
     },
     "output_type": "display_data"
    }
   ],
   "source": [
    "users.pivot_table(index='age', values='user_id', aggfunc='count') \\\n",
    ".plot(y='user_id', kind='barh', figsize=(10,10), grid=True);\n",
    "plt.title('Распределение возраста пользователей');\n",
    "plt.legend(''),\n",
    "plt.xlabel('Количество пользователей');\n",
    "plt.ylabel('Возраст');\n",
    "plt.show()"
   ]
  },
  {
   "cell_type": "markdown",
   "id": "bd217702",
   "metadata": {},
   "source": [
    "Посмотрим, какой возраст пользователей - самый младший:"
   ]
  },
  {
   "cell_type": "code",
   "execution_count": 32,
   "id": "df8779ea",
   "metadata": {},
   "outputs": [
    {
     "data": {
      "text/plain": [
       "664     12\n",
       "66      12\n",
       "727     12\n",
       "34      12\n",
       "235     13\n",
       "1249    13\n",
       "314     13\n",
       "83      13\n",
       "553     13\n",
       "1241    13\n",
       "Name: age, dtype: int64"
      ]
     },
     "execution_count": 32,
     "metadata": {},
     "output_type": "execute_result"
    }
   ],
   "source": [
    "users['age'].sort_values().head(10)"
   ]
  },
  {
   "cell_type": "markdown",
   "id": "af8a99c0",
   "metadata": {},
   "source": [
    "и старший:"
   ]
  },
  {
   "cell_type": "code",
   "execution_count": 33,
   "id": "2202113a",
   "metadata": {},
   "outputs": [
    {
     "data": {
      "text/plain": [
       "721     36\n",
       "855     36\n",
       "644     36\n",
       "205     37\n",
       "848     37\n",
       "383     38\n",
       "804     38\n",
       "453     38\n",
       "961     39\n",
       "1201    43\n",
       "Name: age, dtype: int64"
      ]
     },
     "execution_count": 33,
     "metadata": {},
     "output_type": "execute_result"
    }
   ],
   "source": [
    "users['age'].sort_values().tail(10)"
   ]
  },
  {
   "cell_type": "markdown",
   "id": "c4939fad",
   "metadata": {},
   "source": [
    "Построим диаграмму размаха, посмотрим на выбросы:"
   ]
  },
  {
   "cell_type": "code",
   "execution_count": 34,
   "id": "0345e4b7",
   "metadata": {
    "scrolled": true
   },
   "outputs": [
    {
     "data": {
      "image/png": "[encoded data removed]",
      "text/plain": [
       "<Figure size 360x360 with 1 Axes>"
      ]
     },
     "metadata": {
      "needs_background": "light"
     },
     "output_type": "display_data"
    }
   ],
   "source": [
    "users.boxplot('age', figsize=(5,5), vert=0);\n",
    "plt.title('Распределение возраста пользователей');\n",
    "plt.xlabel('Возраст, лет');\n",
    "plt.show()"
   ]
  },
  {
   "cell_type": "code",
   "execution_count": 35,
   "id": "6db168b4",
   "metadata": {
    "scrolled": false
   },
   "outputs": [
    {
     "data": {
      "text/plain": [
       "count    1534.000000\n",
       "mean       24.903520\n",
       "std         4.572367\n",
       "min        12.000000\n",
       "25%        22.000000\n",
       "50%        25.000000\n",
       "75%        28.000000\n",
       "max        43.000000\n",
       "Name: age, dtype: float64"
      ]
     },
     "execution_count": 35,
     "metadata": {},
     "output_type": "execute_result"
    }
   ],
   "source": [
    "users['age'].describe()"
   ]
  },
  {
   "cell_type": "markdown",
   "id": "445914e9",
   "metadata": {},
   "source": [
    "Выводы по разделу:\n",
    "\n",
    "- распределение - нормальное. По диаграмме размаха видно, что:\n",
    "    - минимальный возраст пользователей составляет 12 лет;\n",
    "    - максимальный возраст пользователей составляет 43 года;\n",
    "    - межквартильный размах составляет 6 лет (от 22 в Q1 до 28 в Q3);\n",
    "    - медианное значение практически совпадает со средним и составляет 25 лет; \n",
    "- количество выбросов - незначительно."
   ]
  },
  {
   "cell_type": "markdown",
   "id": "ce55c5bc",
   "metadata": {},
   "source": [
    "### Расстояние, которое пользователь преодолел за одну поездку (в текущей сессии)"
   ]
  },
  {
   "cell_type": "markdown",
   "id": "5a7a11cd",
   "metadata": {},
   "source": [
    "Построим распределение значений столбца `distance` (расстояние за одну поездку):"
   ]
  },
  {
   "cell_type": "code",
   "execution_count": 36,
   "id": "754a0ae5",
   "metadata": {},
   "outputs": [
    {
     "data": {
      "text/plain": [
       "count    18068.000000\n",
       "mean      3070.659976\n",
       "std       1116.831209\n",
       "min          0.855683\n",
       "25%       2543.226360\n",
       "50%       3133.609994\n",
       "75%       3776.222735\n",
       "max       7211.007745\n",
       "Name: distance, dtype: float64"
      ]
     },
     "execution_count": 36,
     "metadata": {},
     "output_type": "execute_result"
    }
   ],
   "source": [
    "rides['distance'].describe()"
   ]
  },
  {
   "cell_type": "code",
   "execution_count": 37,
   "id": "722645fe",
   "metadata": {
    "scrolled": true
   },
   "outputs": [
    {
     "data": {
      "image/png": "[encoded data removed]",
      "text/plain": [
       "<Figure size 360x360 with 1 Axes>"
      ]
     },
     "metadata": {
      "needs_background": "light"
     },
     "output_type": "display_data"
    }
   ],
   "source": [
    "rides.boxplot(column='distance', figsize=(5,5), vert=0);\n",
    "plt.title('Распределение расстояния поездки');\n",
    "plt.xlabel('Расстояние, м');\n",
    "plt.show()"
   ]
  },
  {
   "cell_type": "markdown",
   "id": "35925c74",
   "metadata": {},
   "source": [
    "Большое количество выбросов на диаграмме размаха. Посмотрим их распределение на гистограмме:"
   ]
  },
  {
   "cell_type": "code",
   "execution_count": 38,
   "id": "4d2155dc",
   "metadata": {},
   "outputs": [
    {
     "data": {
      "image/png": "[encoded data removed]",
      "text/plain": [
       "<Figure size 720x360 with 1 Axes>"
      ]
     },
     "metadata": {
      "needs_background": "light"
     },
     "output_type": "display_data"
    }
   ],
   "source": [
    "rides['distance'].plot(y='distance', kind='hist', bins=100, figsize=(10,5), grid=True);\n",
    "plt.title('Расстояние, пройденное за одну поездку');\n",
    "plt.xlabel('Расстояние');\n",
    "plt.ylabel('Количество поездок');\n",
    "plt.show()"
   ]
  },
  {
   "cell_type": "markdown",
   "id": "2095ab25",
   "metadata": {},
   "source": [
    "Определим, какая группа пользователей чаще совершает короткие поездки, для этого сначала объединим датафреймы `users` `rides` и сохраним их в переменную `age_distance`."
   ]
  },
  {
   "cell_type": "code",
   "execution_count": 39,
   "id": "ff1c879a",
   "metadata": {},
   "outputs": [],
   "source": [
    "age_distance = users.merge(rides, on='user_id', how='left')"
   ]
  },
  {
   "cell_type": "markdown",
   "id": "dd755a56",
   "metadata": {},
   "source": [
    "Построим гистограмму распределения расстояния, пройденного за поездку, от возраста пользователя:"
   ]
  },
  {
   "cell_type": "code",
   "execution_count": 40,
   "id": "28575cac",
   "metadata": {
    "scrolled": true
   },
   "outputs": [
    {
     "data": {
      "image/png": "[encoded data removed]",
      "text/plain": [
       "<Figure size 504x360 with 1 Axes>"
      ]
     },
     "metadata": {
      "needs_background": "light"
     },
     "output_type": "display_data"
    }
   ],
   "source": [
    "age_distance['age'].plot(y='distance', kind='hist', bins=100, figsize=(7,5), grid=True);\n",
    "plt.title('Расстояние, пройденное за одну поездку');\n",
    "plt.xlabel('Возраст');\n",
    "plt.ylabel('Пройденное расстояние');\n",
    "plt.show()"
   ]
  },
  {
   "cell_type": "markdown",
   "id": "3db92eb6",
   "metadata": {},
   "source": [
    "Выводы по разделу:\n",
    "\n",
    "- по диаграмме размаха видно, что:\n",
    "    - минимальное преодолённое расстояние составляет всего 0,8 метров, что больше похоже на аномалию или сбой в работе приложения;\n",
    "    - максимальное преодолённое расстояние составляет 7211 метров;\n",
    "    - межквартильный размах составляет 1233 метра (от 2543 в Q1 до 3776 в Q3);\n",
    "    - медианное значение - 3133 метра;\n",
    "- основная масса поездок укладывается в преодолённое расстояние в 3776 метров;\n",
    "- распределение нормальное, при этом наблюдаем 2 пика - первый в пределах 650 - 700 м, второй - на 3133 м (медиана);\n",
    "- непродолжительные поездки обычно совершают пользователи до 20 лет и старше 30 лет. Это можно объяснить тем, что молодые пользователи берут самокат, чтобы добраться до школы, обычно расположенной недалеко от дома. Возрастные пользователи - просто ради интереса, попробовать проехаться. По этой же причине наблюдаем 2 пика: условно \"доехать до школы/проехать на интерес\" и \"доехать до работы\". "
   ]
  },
  {
   "cell_type": "markdown",
   "id": "c5fda1a0",
   "metadata": {},
   "source": [
    "### Продолжительность поездок"
   ]
  },
  {
   "cell_type": "code",
   "execution_count": 41,
   "id": "c3d183a7",
   "metadata": {
    "scrolled": true
   },
   "outputs": [
    {
     "data": {
      "text/plain": [
       "count    18068.000000\n",
       "mean        17.805011\n",
       "std          6.091051\n",
       "min          0.500000\n",
       "25%         13.597563\n",
       "50%         17.678395\n",
       "75%         21.724800\n",
       "max         40.823963\n",
       "Name: duration, dtype: float64"
      ]
     },
     "execution_count": 41,
     "metadata": {},
     "output_type": "execute_result"
    }
   ],
   "source": [
    "rides['duration'].describe()"
   ]
  },
  {
   "cell_type": "markdown",
   "id": "4f7f307b",
   "metadata": {},
   "source": [
    "Построим диаграмму размаха:"
   ]
  },
  {
   "cell_type": "code",
   "execution_count": 42,
   "id": "1fa13ee7",
   "metadata": {
    "scrolled": true
   },
   "outputs": [
    {
     "data": {
      "image/png": "[encoded data removed]",
      "text/plain": [
       "<Figure size 360x360 with 1 Axes>"
      ]
     },
     "metadata": {
      "needs_background": "light"
     },
     "output_type": "display_data"
    }
   ],
   "source": [
    "rides.boxplot(column='duration', figsize=(5,5), vert=0);\n",
    "plt.title('Распределение продолжительности поездки');\n",
    "plt.xlabel('Продолжительность, мин');\n",
    "plt.show()"
   ]
  },
  {
   "cell_type": "markdown",
   "id": "155322a4",
   "metadata": {},
   "source": [
    "Построим гистограмму распределения продолжительности поездок:"
   ]
  },
  {
   "cell_type": "code",
   "execution_count": 43,
   "id": "9bd51af8",
   "metadata": {
    "scrolled": true
   },
   "outputs": [
    {
     "data": {
      "image/png": "[encoded data removed]",
      "text/plain": [
       "<Figure size 720x360 with 1 Axes>"
      ]
     },
     "metadata": {
      "needs_background": "light"
     },
     "output_type": "display_data"
    }
   ],
   "source": [
    "rides['duration'].plot(y='duration', kind='hist', bins=100, figsize=(10,5), grid=True);\n",
    "plt.title('Продолжительность поездки');\n",
    "plt.xlabel('Продолжительность');\n",
    "plt.ylabel('Количество поездок');\n",
    "plt.show()"
   ]
  },
  {
   "cell_type": "markdown",
   "id": "e711b6ca",
   "metadata": {},
   "source": [
    "Изучим сезонность поездок:"
   ]
  },
  {
   "cell_type": "code",
   "execution_count": 44,
   "id": "66f43232",
   "metadata": {},
   "outputs": [
    {
     "data": {
      "image/png": "[encoded data removed]",
      "text/plain": [
       "<Figure size 432x288 with 1 Axes>"
      ]
     },
     "metadata": {},
     "output_type": "display_data"
    }
   ],
   "source": [
    "rides['month'].value_counts().plot(\n",
    "    kind = 'pie',\n",
    "    ylabel = '',\n",
    "    autopct = '%1.0f%%',\n",
    "    title = 'Процентное распределение количества поездок по месяцам');"
   ]
  },
  {
   "cell_type": "markdown",
   "id": "9219d56f",
   "metadata": {},
   "source": [
    "Выводы по разделу:\n",
    "\n",
    "- по диаграмме размаха видно, что:\n",
    "    - минимальное время поездки составляет всего 30 секунд, что больше похоже на аномалию или сбой в работе приложения/разряженный самокат и т.д.;\n",
    "    - максимальное преодолённое расстояние составляет 40 минут;\n",
    "    - межквартильный размах составляет 8 минут (от 21,7 в Q1 до 13,6 в Q3);\n",
    "    - медианное значение - 17,6 минут, что практически равно среднему значению;\n",
    "- распределение нормальное. Есть примерно 100 поездок с околонулевым временем их продолжительности, это похоже на аномалию (возможно, связанную со сбоем приложения);\n",
    "- благодаря большому количеству поездок и пользователей в южных городах, сервис носит всесезонный характер: распределение количества поездок по месяцам почти равномерное, с минимумом в феврале (7%) и максимумом - в 9% в январе, марте, мае и июне."
   ]
  },
  {
   "cell_type": "markdown",
   "id": "218ca9de",
   "metadata": {},
   "source": [
    "Общие выводы по разделу \"Исследовательский анализ данных\":\n",
    "\n",
    "- южные города (Пятигорск, Ростов-на-Дону, Краснодар, Сочи) - лидеры по количеству зарегистрированных в приложении пользователей. Это должно объясняться всесезонностью сервиса проката. Екатеринбург - на 2-м месте, а Москва - на 8-м; при этом разница между городами в процентном соотношении пользователей не так велика;\n",
    "- количество пользователей без подписки (54,4%) больше, чем с ней (45,6%);\n",
    "\n",
    "- среднее значение возраста пользователей - 25 лет, минимальный - 12 лет, максимальный - 43 года;\n",
    "\n",
    "- в среднем за одну поездку преодолевается расстояние чуть больше 3 км, не так мало (ок. 150) количество небольших по расстоянию поездок на 650-700 м;\n",
    "\n",
    "- средняя продолжительность поездок составляет порядка 18 минут. Есть примерно 100 поездок с околонулевым временем их продолжительности, что похоже на аномалию (возможно, связанную со сбоем приложения);\n",
    "\n",
    "- непродолжительные поездки обычно совершают пользователи до 20 лет и старше 30 лет. Это можно объяснить тем, что молодые пользователи берут самокат, чтобы добраться до школы, обычно расположенной недалеко от дома. Возрастные пользователи - просто ради интереса, попробовать проехаться. По этой же причине наблюдаем 2 пика: условно \"доехать до школы/проехать на интерес\" и \"доехать до работы\".\n",
    "\n",
    "- сезонность практически не оказывает влияения на сервис и количество поездок."
   ]
  },
  {
   "cell_type": "markdown",
   "id": "74989519",
   "metadata": {},
   "source": [
    "## Объединение данных"
   ]
  },
  {
   "cell_type": "markdown",
   "id": "5f40188b",
   "metadata": {},
   "source": [
    "### Объединение данных о пользователях, поездках и подписках в один датафрейм"
   ]
  },
  {
   "cell_type": "markdown",
   "id": "4a82bec5",
   "metadata": {},
   "source": [
    "Объединим таблицы `users` и `rides` по `user_id`, используем для этого метод merge()"
   ]
  },
  {
   "cell_type": "code",
   "execution_count": 45,
   "id": "b51f8e06",
   "metadata": {},
   "outputs": [],
   "source": [
    "users_rides = users.merge(rides, on='user_id', how='left')"
   ]
  },
  {
   "cell_type": "markdown",
   "id": "1585bde8",
   "metadata": {},
   "source": [
    "Объединим таблицы `users_rides` и `subscriptions` по `subscription_type`"
   ]
  },
  {
   "cell_type": "code",
   "execution_count": 46,
   "id": "c0c48368",
   "metadata": {},
   "outputs": [],
   "source": [
    "total = users_rides.merge(subscriptions, on='subscription_type', how='left')"
   ]
  },
  {
   "cell_type": "code",
   "execution_count": 47,
   "id": "90592666",
   "metadata": {},
   "outputs": [
    {
     "data": {
      "text/plain": [
       "Index(['user_id', 'name', 'age', 'city', 'subscription_type', 'distance',\n",
       "       'duration', 'date', 'month', 'minute_price', 'start_ride_price',\n",
       "       'subscription_fee'],\n",
       "      dtype='object')"
      ]
     },
     "execution_count": 47,
     "metadata": {},
     "output_type": "execute_result"
    }
   ],
   "source": [
    "total.columns  # просмотрим названия столбцов после объединения"
   ]
  },
  {
   "cell_type": "code",
   "execution_count": 48,
   "id": "ea22a43e",
   "metadata": {},
   "outputs": [
    {
     "name": "stdout",
     "output_type": "stream",
     "text": [
      "<class 'pandas.core.frame.DataFrame'>\n",
      "Int64Index: 18068 entries, 0 to 18067\n",
      "Data columns (total 12 columns):\n",
      " #   Column             Non-Null Count  Dtype         \n",
      "---  ------             --------------  -----         \n",
      " 0   user_id            18068 non-null  int64         \n",
      " 1   name               18068 non-null  object        \n",
      " 2   age                18068 non-null  int64         \n",
      " 3   city               18068 non-null  object        \n",
      " 4   subscription_type  18068 non-null  object        \n",
      " 5   distance           18068 non-null  float64       \n",
      " 6   duration           18068 non-null  float64       \n",
      " 7   date               18068 non-null  datetime64[ns]\n",
      " 8   month              18068 non-null  int64         \n",
      " 9   minute_price       18068 non-null  int64         \n",
      " 10  start_ride_price   18068 non-null  int64         \n",
      " 11  subscription_fee   18068 non-null  int64         \n",
      "dtypes: datetime64[ns](1), float64(2), int64(6), object(3)\n",
      "memory usage: 1.8+ MB\n"
     ]
    }
   ],
   "source": [
    "total.info()  # просмотрим информацию о таблице после объединения"
   ]
  },
  {
   "cell_type": "code",
   "execution_count": 49,
   "id": "c2939273",
   "metadata": {
    "scrolled": true
   },
   "outputs": [
    {
     "data": {
      "text/html": [
       "<div>\n",
       "<style scoped>\n",
       "    .dataframe tbody tr th:only-of-type {\n",
       "        vertical-align: middle;\n",
       "    }\n",
       "\n",
       "    .dataframe tbody tr th {\n",
       "        vertical-align: top;\n",
       "    }\n",
       "\n",
       "    .dataframe thead th {\n",
       "        text-align: right;\n",
       "    }\n",
       "</style>\n",
       "<table border=\"1\" class=\"dataframe\">\n",
       "  <thead>\n",
       "    <tr style=\"text-align: right;\">\n",
       "      <th></th>\n",
       "      <th>user_id</th>\n",
       "      <th>name</th>\n",
       "      <th>age</th>\n",
       "      <th>city</th>\n",
       "      <th>subscription_type</th>\n",
       "      <th>distance</th>\n",
       "      <th>duration</th>\n",
       "      <th>date</th>\n",
       "      <th>month</th>\n",
       "      <th>minute_price</th>\n",
       "      <th>start_ride_price</th>\n",
       "      <th>subscription_fee</th>\n",
       "    </tr>\n",
       "  </thead>\n",
       "  <tbody>\n",
       "    <tr>\n",
       "      <th>0</th>\n",
       "      <td>1</td>\n",
       "      <td>Кира</td>\n",
       "      <td>22</td>\n",
       "      <td>Тюмень</td>\n",
       "      <td>ultra</td>\n",
       "      <td>4409.919140</td>\n",
       "      <td>25.599769</td>\n",
       "      <td>2021-01-01</td>\n",
       "      <td>1</td>\n",
       "      <td>6</td>\n",
       "      <td>0</td>\n",
       "      <td>199</td>\n",
       "    </tr>\n",
       "    <tr>\n",
       "      <th>1</th>\n",
       "      <td>1</td>\n",
       "      <td>Кира</td>\n",
       "      <td>22</td>\n",
       "      <td>Тюмень</td>\n",
       "      <td>ultra</td>\n",
       "      <td>2617.592153</td>\n",
       "      <td>15.816871</td>\n",
       "      <td>2021-01-18</td>\n",
       "      <td>1</td>\n",
       "      <td>6</td>\n",
       "      <td>0</td>\n",
       "      <td>199</td>\n",
       "    </tr>\n",
       "    <tr>\n",
       "      <th>2</th>\n",
       "      <td>1</td>\n",
       "      <td>Кира</td>\n",
       "      <td>22</td>\n",
       "      <td>Тюмень</td>\n",
       "      <td>ultra</td>\n",
       "      <td>754.159807</td>\n",
       "      <td>6.232113</td>\n",
       "      <td>2021-04-20</td>\n",
       "      <td>4</td>\n",
       "      <td>6</td>\n",
       "      <td>0</td>\n",
       "      <td>199</td>\n",
       "    </tr>\n",
       "    <tr>\n",
       "      <th>3</th>\n",
       "      <td>1</td>\n",
       "      <td>Кира</td>\n",
       "      <td>22</td>\n",
       "      <td>Тюмень</td>\n",
       "      <td>ultra</td>\n",
       "      <td>2694.783254</td>\n",
       "      <td>18.511000</td>\n",
       "      <td>2021-08-11</td>\n",
       "      <td>8</td>\n",
       "      <td>6</td>\n",
       "      <td>0</td>\n",
       "      <td>199</td>\n",
       "    </tr>\n",
       "    <tr>\n",
       "      <th>4</th>\n",
       "      <td>1</td>\n",
       "      <td>Кира</td>\n",
       "      <td>22</td>\n",
       "      <td>Тюмень</td>\n",
       "      <td>ultra</td>\n",
       "      <td>4028.687306</td>\n",
       "      <td>26.265803</td>\n",
       "      <td>2021-08-28</td>\n",
       "      <td>8</td>\n",
       "      <td>6</td>\n",
       "      <td>0</td>\n",
       "      <td>199</td>\n",
       "    </tr>\n",
       "  </tbody>\n",
       "</table>\n",
       "</div>"
      ],
      "text/plain": [
       "   user_id  name  age    city subscription_type     distance   duration  \\\n",
       "0        1  Кира   22  Тюмень             ultra  4409.919140  25.599769   \n",
       "1        1  Кира   22  Тюмень             ultra  2617.592153  15.816871   \n",
       "2        1  Кира   22  Тюмень             ultra   754.159807   6.232113   \n",
       "3        1  Кира   22  Тюмень             ultra  2694.783254  18.511000   \n",
       "4        1  Кира   22  Тюмень             ultra  4028.687306  26.265803   \n",
       "\n",
       "        date  month  minute_price  start_ride_price  subscription_fee  \n",
       "0 2021-01-01      1             6                 0               199  \n",
       "1 2021-01-18      1             6                 0               199  \n",
       "2 2021-04-20      4             6                 0               199  \n",
       "3 2021-08-11      8             6                 0               199  \n",
       "4 2021-08-28      8             6                 0               199  "
      ]
     },
     "execution_count": 49,
     "metadata": {},
     "output_type": "execute_result"
    }
   ],
   "source": [
    "total.head()  # выведем первые 5 строк таблицы"
   ]
  },
  {
   "cell_type": "markdown",
   "id": "8f33b18c",
   "metadata": {},
   "source": [
    "Объединение прошло успешно, все столбцы перенеслись, нулевые значения отсутствуют, типы данных в столбцах не изменились, количество строк совпадает с изначальным."
   ]
  },
  {
   "cell_type": "markdown",
   "id": "e9e0c089",
   "metadata": {},
   "source": [
    "### Создание двух дополнительных датафреймов из объединённого ранее `total` "
   ]
  },
  {
   "cell_type": "markdown",
   "id": "a50645e2",
   "metadata": {},
   "source": [
    "Первый датафрейм содержит данные о пользователях без подписки:"
   ]
  },
  {
   "cell_type": "code",
   "execution_count": 50,
   "id": "a27206e7",
   "metadata": {},
   "outputs": [],
   "source": [
    "total_free = total[total['subscription_type'] == 'free']  # датафрейм пользователей без подписки"
   ]
  },
  {
   "cell_type": "code",
   "execution_count": 51,
   "id": "6a91f3b2",
   "metadata": {},
   "outputs": [
    {
     "data": {
      "text/html": [
       "<div>\n",
       "<style scoped>\n",
       "    .dataframe tbody tr th:only-of-type {\n",
       "        vertical-align: middle;\n",
       "    }\n",
       "\n",
       "    .dataframe tbody tr th {\n",
       "        vertical-align: top;\n",
       "    }\n",
       "\n",
       "    .dataframe thead th {\n",
       "        text-align: right;\n",
       "    }\n",
       "</style>\n",
       "<table border=\"1\" class=\"dataframe\">\n",
       "  <thead>\n",
       "    <tr style=\"text-align: right;\">\n",
       "      <th></th>\n",
       "      <th>user_id</th>\n",
       "      <th>name</th>\n",
       "      <th>age</th>\n",
       "      <th>city</th>\n",
       "      <th>subscription_type</th>\n",
       "      <th>distance</th>\n",
       "      <th>duration</th>\n",
       "      <th>date</th>\n",
       "      <th>month</th>\n",
       "      <th>minute_price</th>\n",
       "      <th>start_ride_price</th>\n",
       "      <th>subscription_fee</th>\n",
       "    </tr>\n",
       "  </thead>\n",
       "  <tbody>\n",
       "    <tr>\n",
       "      <th>6500</th>\n",
       "      <td>700</td>\n",
       "      <td>Айдар</td>\n",
       "      <td>22</td>\n",
       "      <td>Омск</td>\n",
       "      <td>free</td>\n",
       "      <td>2515.690719</td>\n",
       "      <td>14.944286</td>\n",
       "      <td>2021-01-02</td>\n",
       "      <td>1</td>\n",
       "      <td>8</td>\n",
       "      <td>50</td>\n",
       "      <td>0</td>\n",
       "    </tr>\n",
       "    <tr>\n",
       "      <th>6501</th>\n",
       "      <td>700</td>\n",
       "      <td>Айдар</td>\n",
       "      <td>22</td>\n",
       "      <td>Омск</td>\n",
       "      <td>free</td>\n",
       "      <td>846.932642</td>\n",
       "      <td>16.234663</td>\n",
       "      <td>2021-02-01</td>\n",
       "      <td>2</td>\n",
       "      <td>8</td>\n",
       "      <td>50</td>\n",
       "      <td>0</td>\n",
       "    </tr>\n",
       "    <tr>\n",
       "      <th>6502</th>\n",
       "      <td>700</td>\n",
       "      <td>Айдар</td>\n",
       "      <td>22</td>\n",
       "      <td>Омск</td>\n",
       "      <td>free</td>\n",
       "      <td>4004.434142</td>\n",
       "      <td>20.016628</td>\n",
       "      <td>2021-02-04</td>\n",
       "      <td>2</td>\n",
       "      <td>8</td>\n",
       "      <td>50</td>\n",
       "      <td>0</td>\n",
       "    </tr>\n",
       "    <tr>\n",
       "      <th>6503</th>\n",
       "      <td>700</td>\n",
       "      <td>Айдар</td>\n",
       "      <td>22</td>\n",
       "      <td>Омск</td>\n",
       "      <td>free</td>\n",
       "      <td>1205.911290</td>\n",
       "      <td>9.782872</td>\n",
       "      <td>2021-02-10</td>\n",
       "      <td>2</td>\n",
       "      <td>8</td>\n",
       "      <td>50</td>\n",
       "      <td>0</td>\n",
       "    </tr>\n",
       "    <tr>\n",
       "      <th>6504</th>\n",
       "      <td>700</td>\n",
       "      <td>Айдар</td>\n",
       "      <td>22</td>\n",
       "      <td>Омск</td>\n",
       "      <td>free</td>\n",
       "      <td>3047.379435</td>\n",
       "      <td>17.427673</td>\n",
       "      <td>2021-02-14</td>\n",
       "      <td>2</td>\n",
       "      <td>8</td>\n",
       "      <td>50</td>\n",
       "      <td>0</td>\n",
       "    </tr>\n",
       "  </tbody>\n",
       "</table>\n",
       "</div>"
      ],
      "text/plain": [
       "      user_id   name  age  city subscription_type     distance   duration  \\\n",
       "6500      700  Айдар   22  Омск              free  2515.690719  14.944286   \n",
       "6501      700  Айдар   22  Омск              free   846.932642  16.234663   \n",
       "6502      700  Айдар   22  Омск              free  4004.434142  20.016628   \n",
       "6503      700  Айдар   22  Омск              free  1205.911290   9.782872   \n",
       "6504      700  Айдар   22  Омск              free  3047.379435  17.427673   \n",
       "\n",
       "           date  month  minute_price  start_ride_price  subscription_fee  \n",
       "6500 2021-01-02      1             8                50                 0  \n",
       "6501 2021-02-01      2             8                50                 0  \n",
       "6502 2021-02-04      2             8                50                 0  \n",
       "6503 2021-02-10      2             8                50                 0  \n",
       "6504 2021-02-14      2             8                50                 0  "
      ]
     },
     "execution_count": 51,
     "metadata": {},
     "output_type": "execute_result"
    }
   ],
   "source": [
    "total_free.head()  # выведем первые 5 строк датафрейма"
   ]
  },
  {
   "cell_type": "code",
   "execution_count": 52,
   "id": "b36bece7",
   "metadata": {},
   "outputs": [],
   "source": [
    "total_ultra = total[total['subscription_type'] == 'ultra']  # датафрейм пользователей с подпиской"
   ]
  },
  {
   "cell_type": "code",
   "execution_count": 53,
   "id": "e6217851",
   "metadata": {
    "scrolled": true
   },
   "outputs": [
    {
     "data": {
      "text/html": [
       "<div>\n",
       "<style scoped>\n",
       "    .dataframe tbody tr th:only-of-type {\n",
       "        vertical-align: middle;\n",
       "    }\n",
       "\n",
       "    .dataframe tbody tr th {\n",
       "        vertical-align: top;\n",
       "    }\n",
       "\n",
       "    .dataframe thead th {\n",
       "        text-align: right;\n",
       "    }\n",
       "</style>\n",
       "<table border=\"1\" class=\"dataframe\">\n",
       "  <thead>\n",
       "    <tr style=\"text-align: right;\">\n",
       "      <th></th>\n",
       "      <th>user_id</th>\n",
       "      <th>name</th>\n",
       "      <th>age</th>\n",
       "      <th>city</th>\n",
       "      <th>subscription_type</th>\n",
       "      <th>distance</th>\n",
       "      <th>duration</th>\n",
       "      <th>date</th>\n",
       "      <th>month</th>\n",
       "      <th>minute_price</th>\n",
       "      <th>start_ride_price</th>\n",
       "      <th>subscription_fee</th>\n",
       "    </tr>\n",
       "  </thead>\n",
       "  <tbody>\n",
       "    <tr>\n",
       "      <th>0</th>\n",
       "      <td>1</td>\n",
       "      <td>Кира</td>\n",
       "      <td>22</td>\n",
       "      <td>Тюмень</td>\n",
       "      <td>ultra</td>\n",
       "      <td>4409.919140</td>\n",
       "      <td>25.599769</td>\n",
       "      <td>2021-01-01</td>\n",
       "      <td>1</td>\n",
       "      <td>6</td>\n",
       "      <td>0</td>\n",
       "      <td>199</td>\n",
       "    </tr>\n",
       "    <tr>\n",
       "      <th>1</th>\n",
       "      <td>1</td>\n",
       "      <td>Кира</td>\n",
       "      <td>22</td>\n",
       "      <td>Тюмень</td>\n",
       "      <td>ultra</td>\n",
       "      <td>2617.592153</td>\n",
       "      <td>15.816871</td>\n",
       "      <td>2021-01-18</td>\n",
       "      <td>1</td>\n",
       "      <td>6</td>\n",
       "      <td>0</td>\n",
       "      <td>199</td>\n",
       "    </tr>\n",
       "    <tr>\n",
       "      <th>2</th>\n",
       "      <td>1</td>\n",
       "      <td>Кира</td>\n",
       "      <td>22</td>\n",
       "      <td>Тюмень</td>\n",
       "      <td>ultra</td>\n",
       "      <td>754.159807</td>\n",
       "      <td>6.232113</td>\n",
       "      <td>2021-04-20</td>\n",
       "      <td>4</td>\n",
       "      <td>6</td>\n",
       "      <td>0</td>\n",
       "      <td>199</td>\n",
       "    </tr>\n",
       "    <tr>\n",
       "      <th>3</th>\n",
       "      <td>1</td>\n",
       "      <td>Кира</td>\n",
       "      <td>22</td>\n",
       "      <td>Тюмень</td>\n",
       "      <td>ultra</td>\n",
       "      <td>2694.783254</td>\n",
       "      <td>18.511000</td>\n",
       "      <td>2021-08-11</td>\n",
       "      <td>8</td>\n",
       "      <td>6</td>\n",
       "      <td>0</td>\n",
       "      <td>199</td>\n",
       "    </tr>\n",
       "    <tr>\n",
       "      <th>4</th>\n",
       "      <td>1</td>\n",
       "      <td>Кира</td>\n",
       "      <td>22</td>\n",
       "      <td>Тюмень</td>\n",
       "      <td>ultra</td>\n",
       "      <td>4028.687306</td>\n",
       "      <td>26.265803</td>\n",
       "      <td>2021-08-28</td>\n",
       "      <td>8</td>\n",
       "      <td>6</td>\n",
       "      <td>0</td>\n",
       "      <td>199</td>\n",
       "    </tr>\n",
       "  </tbody>\n",
       "</table>\n",
       "</div>"
      ],
      "text/plain": [
       "   user_id  name  age    city subscription_type     distance   duration  \\\n",
       "0        1  Кира   22  Тюмень             ultra  4409.919140  25.599769   \n",
       "1        1  Кира   22  Тюмень             ultra  2617.592153  15.816871   \n",
       "2        1  Кира   22  Тюмень             ultra   754.159807   6.232113   \n",
       "3        1  Кира   22  Тюмень             ultra  2694.783254  18.511000   \n",
       "4        1  Кира   22  Тюмень             ultra  4028.687306  26.265803   \n",
       "\n",
       "        date  month  minute_price  start_ride_price  subscription_fee  \n",
       "0 2021-01-01      1             6                 0               199  \n",
       "1 2021-01-18      1             6                 0               199  \n",
       "2 2021-04-20      4             6                 0               199  \n",
       "3 2021-08-11      8             6                 0               199  \n",
       "4 2021-08-28      8             6                 0               199  "
      ]
     },
     "execution_count": 53,
     "metadata": {},
     "output_type": "execute_result"
    }
   ],
   "source": [
    "total_ultra.head()  # выведем первые 5 строк датафрейма"
   ]
  },
  {
   "cell_type": "markdown",
   "id": "c0694a74",
   "metadata": {},
   "source": [
    "Проверим, что таблицы разделены корректно:"
   ]
  },
  {
   "cell_type": "code",
   "execution_count": 54,
   "id": "91c41592",
   "metadata": {
    "scrolled": false
   },
   "outputs": [
    {
     "name": "stdout",
     "output_type": "stream",
     "text": [
      "<class 'pandas.core.frame.DataFrame'>\n",
      "Int64Index: 6500 entries, 0 to 6499\n",
      "Data columns (total 12 columns):\n",
      " #   Column             Non-Null Count  Dtype         \n",
      "---  ------             --------------  -----         \n",
      " 0   user_id            6500 non-null   int64         \n",
      " 1   name               6500 non-null   object        \n",
      " 2   age                6500 non-null   int64         \n",
      " 3   city               6500 non-null   object        \n",
      " 4   subscription_type  6500 non-null   object        \n",
      " 5   distance           6500 non-null   float64       \n",
      " 6   duration           6500 non-null   float64       \n",
      " 7   date               6500 non-null   datetime64[ns]\n",
      " 8   month              6500 non-null   int64         \n",
      " 9   minute_price       6500 non-null   int64         \n",
      " 10  start_ride_price   6500 non-null   int64         \n",
      " 11  subscription_fee   6500 non-null   int64         \n",
      "dtypes: datetime64[ns](1), float64(2), int64(6), object(3)\n",
      "memory usage: 660.2+ KB\n"
     ]
    }
   ],
   "source": [
    "total_ultra.info()  # просмотрим информацию о новом датафрейме"
   ]
  },
  {
   "cell_type": "code",
   "execution_count": 55,
   "id": "3651d47d",
   "metadata": {
    "scrolled": false
   },
   "outputs": [
    {
     "name": "stdout",
     "output_type": "stream",
     "text": [
      "<class 'pandas.core.frame.DataFrame'>\n",
      "Int64Index: 11568 entries, 6500 to 18067\n",
      "Data columns (total 12 columns):\n",
      " #   Column             Non-Null Count  Dtype         \n",
      "---  ------             --------------  -----         \n",
      " 0   user_id            11568 non-null  int64         \n",
      " 1   name               11568 non-null  object        \n",
      " 2   age                11568 non-null  int64         \n",
      " 3   city               11568 non-null  object        \n",
      " 4   subscription_type  11568 non-null  object        \n",
      " 5   distance           11568 non-null  float64       \n",
      " 6   duration           11568 non-null  float64       \n",
      " 7   date               11568 non-null  datetime64[ns]\n",
      " 8   month              11568 non-null  int64         \n",
      " 9   minute_price       11568 non-null  int64         \n",
      " 10  start_ride_price   11568 non-null  int64         \n",
      " 11  subscription_fee   11568 non-null  int64         \n",
      "dtypes: datetime64[ns](1), float64(2), int64(6), object(3)\n",
      "memory usage: 1.1+ MB\n"
     ]
    }
   ],
   "source": [
    "total_free.info()  # просмотрим информацию о новом датафрейме"
   ]
  },
  {
   "cell_type": "markdown",
   "id": "877ba903",
   "metadata": {},
   "source": [
    "Разделение прошло успешно, все столбцы перенеслись, нулевые значения отсутствуют, типы данных в столбцах не изменились, суммарное количество строк (6500 и 11568) совпадает с изначальным (18068)."
   ]
  },
  {
   "cell_type": "markdown",
   "id": "094bb39e",
   "metadata": {},
   "source": [
    "### Визуализация информации о расстоянии и продолжительности поездок пользователей из обеих категорий"
   ]
  },
  {
   "cell_type": "markdown",
   "id": "802c8757",
   "metadata": {},
   "source": [
    "Изучим каждый из предлагаемых столбцов новых датафреймов:"
   ]
  },
  {
   "cell_type": "code",
   "execution_count": 56,
   "id": "0a1d0d32",
   "metadata": {},
   "outputs": [
    {
     "data": {
      "text/plain": [
       "count    11568.00\n",
       "mean      3045.50\n",
       "std       1246.17\n",
       "min          0.86\n",
       "25%       2366.56\n",
       "50%       3114.65\n",
       "75%       3905.70\n",
       "max       7211.01\n",
       "Name: distance, dtype: float64"
      ]
     },
     "execution_count": 56,
     "metadata": {},
     "output_type": "execute_result"
    }
   ],
   "source": [
    "total_free['distance'].describe().round(2)\n",
    "# выведем статистические характеристики расстояния поездки пользователей без подписки"
   ]
  },
  {
   "cell_type": "code",
   "execution_count": 57,
   "id": "46048c74",
   "metadata": {},
   "outputs": [
    {
     "data": {
      "text/plain": [
       "count    6500.00\n",
       "mean     3115.45\n",
       "std       836.90\n",
       "min       244.21\n",
       "25%      2785.44\n",
       "50%      3148.64\n",
       "75%      3560.57\n",
       "max      5699.77\n",
       "Name: distance, dtype: float64"
      ]
     },
     "execution_count": 57,
     "metadata": {},
     "output_type": "execute_result"
    }
   ],
   "source": [
    "total_ultra['distance'].describe().round(2)\n",
    "# выведем статистические характеристики расстояния поездки пользователей с подпиской"
   ]
  },
  {
   "cell_type": "code",
   "execution_count": 58,
   "id": "dbbe4b0f",
   "metadata": {},
   "outputs": [
    {
     "data": {
      "text/plain": [
       "count    11568.00\n",
       "mean        17.39\n",
       "std          6.33\n",
       "min          0.50\n",
       "25%         12.96\n",
       "50%         17.33\n",
       "75%         21.59\n",
       "max         34.95\n",
       "Name: duration, dtype: float64"
      ]
     },
     "execution_count": 58,
     "metadata": {},
     "output_type": "execute_result"
    }
   ],
   "source": [
    "total_free['duration'].describe().round(2)\n",
    "# выведем статистические характеристики продолжительности поездки пользователей без подписки"
   ]
  },
  {
   "cell_type": "code",
   "execution_count": 59,
   "id": "54fc6a71",
   "metadata": {
    "scrolled": true
   },
   "outputs": [
    {
     "data": {
      "text/plain": [
       "count    6500.00\n",
       "mean       18.54\n",
       "std         5.57\n",
       "min         3.76\n",
       "25%        14.52\n",
       "50%        18.18\n",
       "75%        21.88\n",
       "max        40.82\n",
       "Name: duration, dtype: float64"
      ]
     },
     "execution_count": 59,
     "metadata": {},
     "output_type": "execute_result"
    }
   ],
   "source": [
    "total_ultra['duration'].describe().round(2)\n",
    "# выведем статистические характеристики продолжительности поездки пользователей с подпиской"
   ]
  },
  {
   "cell_type": "markdown",
   "id": "4e0cc206",
   "metadata": {},
   "source": [
    "Посмотрим на гистограммах:"
   ]
  },
  {
   "cell_type": "code",
   "execution_count": 60,
   "id": "6c5e59c4",
   "metadata": {},
   "outputs": [
    {
     "data": {
      "image/png": "[encoded data removed]",
      "text/plain": [
       "<Figure size 432x288 with 1 Axes>"
      ]
     },
     "metadata": {
      "needs_background": "light"
     },
     "output_type": "display_data"
    }
   ],
   "source": [
    "plt.hist([total_free['distance'], total_ultra['distance']], bins=100, label=['free', 'ultra']);\n",
    "plt.title('Распределение расстояния поездок от их количества');\n",
    "plt.xlabel('Расстояние');\n",
    "plt.ylabel('Количество поездок');\n",
    "plt.legend();\n",
    "plt.show()"
   ]
  },
  {
   "cell_type": "code",
   "execution_count": 61,
   "id": "e967d740",
   "metadata": {},
   "outputs": [
    {
     "data": {
      "image/png": "[encoded data removed]",
      "text/plain": [
       "<Figure size 432x288 with 1 Axes>"
      ]
     },
     "metadata": {
      "needs_background": "light"
     },
     "output_type": "display_data"
    }
   ],
   "source": [
    "plt.hist([total_free['duration'], total_ultra['duration']], bins=100, label=['free', 'ultra']);\n",
    "plt.title('Распределение продолжительности поездок от их количества');\n",
    "plt.xlabel('Продолжительность');\n",
    "plt.ylabel('Количество поездок');\n",
    "plt.legend();\n",
    "plt.show()"
   ]
  },
  {
   "cell_type": "markdown",
   "id": "23c6927d",
   "metadata": {},
   "source": [
    "Выводы по разделу:\n",
    "- в среднем пользователи без подписки проезжают меньшее расстояние, чем те, у кого есть подписка;\n",
    "- в среднем продолжительность поездок у пользователей с подпиской больше, чем без неё;\n",
    "- второй пик пройденного расстояния у пользователей с подпиской смещён в сторону 1 км, в отличие от пользователей без подписки (650-700 м);\n",
    "- у пользователей с подпиской отсутствуют аномальные околонулевые значения продолжительности поездок. Возможно, личный кабинет в таких случаях работает стабильнее."
   ]
  },
  {
   "cell_type": "markdown",
   "id": "4be1ce8a",
   "metadata": {},
   "source": [
    "## Подсчёт выручки"
   ]
  },
  {
   "cell_type": "markdown",
   "id": "a39a1bdc",
   "metadata": {},
   "source": [
    "### Создать датафрейм с агрегированными данными о поездках на основе датафрейма `total`"
   ]
  },
  {
   "cell_type": "markdown",
   "id": "0a4ff75a",
   "metadata": {},
   "source": [
    "Создадим датафрейм с агрегированными данными о поездках и найдём суммарные расстояние, количество поездок и время для каждого пользователя за каждый месяц, перед этим округлим продолжительность поездок до целых чисел:"
   ]
  },
  {
   "cell_type": "code",
   "execution_count": 62,
   "id": "071850a3",
   "metadata": {},
   "outputs": [],
   "source": [
    "total['duration'] = np.ceil(total['duration'])"
   ]
  },
  {
   "cell_type": "code",
   "execution_count": 63,
   "id": "3163dc02",
   "metadata": {},
   "outputs": [],
   "source": [
    "user_month = total.pivot_table(index=('user_id', 'month'), \\\n",
    "        values=('distance', 'duration', 'minute_price', 'start_ride_price', 'subscription_fee'), \\\n",
    "        aggfunc=({'distance':{'count','sum'},'duration':'sum', \\\n",
    "            'minute_price':'mean','start_ride_price':'mean','subscription_fee':'mean'}))"
   ]
  },
  {
   "cell_type": "code",
   "execution_count": 64,
   "id": "cb6504e2",
   "metadata": {},
   "outputs": [
    {
     "data": {
      "text/html": [
       "<div>\n",
       "<style scoped>\n",
       "    .dataframe tbody tr th:only-of-type {\n",
       "        vertical-align: middle;\n",
       "    }\n",
       "\n",
       "    .dataframe tbody tr th {\n",
       "        vertical-align: top;\n",
       "    }\n",
       "\n",
       "    .dataframe thead tr th {\n",
       "        text-align: left;\n",
       "    }\n",
       "\n",
       "    .dataframe thead tr:last-of-type th {\n",
       "        text-align: right;\n",
       "    }\n",
       "</style>\n",
       "<table border=\"1\" class=\"dataframe\">\n",
       "  <thead>\n",
       "    <tr>\n",
       "      <th></th>\n",
       "      <th></th>\n",
       "      <th colspan=\"2\" halign=\"left\">distance</th>\n",
       "      <th>duration</th>\n",
       "      <th>minute_price</th>\n",
       "      <th>start_ride_price</th>\n",
       "      <th>subscription_fee</th>\n",
       "    </tr>\n",
       "    <tr>\n",
       "      <th></th>\n",
       "      <th></th>\n",
       "      <th>count</th>\n",
       "      <th>sum</th>\n",
       "      <th>sum</th>\n",
       "      <th>mean</th>\n",
       "      <th>mean</th>\n",
       "      <th>mean</th>\n",
       "    </tr>\n",
       "    <tr>\n",
       "      <th>user_id</th>\n",
       "      <th>month</th>\n",
       "      <th></th>\n",
       "      <th></th>\n",
       "      <th></th>\n",
       "      <th></th>\n",
       "      <th></th>\n",
       "      <th></th>\n",
       "    </tr>\n",
       "  </thead>\n",
       "  <tbody>\n",
       "    <tr>\n",
       "      <th rowspan=\"5\" valign=\"top\">1</th>\n",
       "      <th>1</th>\n",
       "      <td>2</td>\n",
       "      <td>7027.511294</td>\n",
       "      <td>42.0</td>\n",
       "      <td>6</td>\n",
       "      <td>0</td>\n",
       "      <td>199</td>\n",
       "    </tr>\n",
       "    <tr>\n",
       "      <th>4</th>\n",
       "      <td>1</td>\n",
       "      <td>754.159807</td>\n",
       "      <td>7.0</td>\n",
       "      <td>6</td>\n",
       "      <td>0</td>\n",
       "      <td>199</td>\n",
       "    </tr>\n",
       "    <tr>\n",
       "      <th>8</th>\n",
       "      <td>2</td>\n",
       "      <td>6723.470560</td>\n",
       "      <td>46.0</td>\n",
       "      <td>6</td>\n",
       "      <td>0</td>\n",
       "      <td>199</td>\n",
       "    </tr>\n",
       "    <tr>\n",
       "      <th>10</th>\n",
       "      <td>2</td>\n",
       "      <td>5809.911100</td>\n",
       "      <td>32.0</td>\n",
       "      <td>6</td>\n",
       "      <td>0</td>\n",
       "      <td>199</td>\n",
       "    </tr>\n",
       "    <tr>\n",
       "      <th>11</th>\n",
       "      <td>3</td>\n",
       "      <td>7003.499363</td>\n",
       "      <td>56.0</td>\n",
       "      <td>6</td>\n",
       "      <td>0</td>\n",
       "      <td>199</td>\n",
       "    </tr>\n",
       "  </tbody>\n",
       "</table>\n",
       "</div>"
      ],
      "text/plain": [
       "              distance              duration minute_price start_ride_price  \\\n",
       "                 count          sum      sum         mean             mean   \n",
       "user_id month                                                                \n",
       "1       1            2  7027.511294     42.0            6                0   \n",
       "        4            1   754.159807      7.0            6                0   \n",
       "        8            2  6723.470560     46.0            6                0   \n",
       "        10           2  5809.911100     32.0            6                0   \n",
       "        11           3  7003.499363     56.0            6                0   \n",
       "\n",
       "              subscription_fee  \n",
       "                          mean  \n",
       "user_id month                   \n",
       "1       1                  199  \n",
       "        4                  199  \n",
       "        8                  199  \n",
       "        10                 199  \n",
       "        11                 199  "
      ]
     },
     "execution_count": 64,
     "metadata": {},
     "output_type": "execute_result"
    }
   ],
   "source": [
    "user_month.head() # выведем первые 5 строк сводной таблицы"
   ]
  },
  {
   "cell_type": "markdown",
   "id": "962334ee",
   "metadata": {},
   "source": [
    "Проверим агрегированный датафрейм на наличие пропусков:"
   ]
  },
  {
   "cell_type": "code",
   "execution_count": 65,
   "id": "9fee8ee0",
   "metadata": {},
   "outputs": [
    {
     "name": "stdout",
     "output_type": "stream",
     "text": [
      "<class 'pandas.core.frame.DataFrame'>\n",
      "MultiIndex: 11331 entries, (1, 1) to (1534, 12)\n",
      "Data columns (total 6 columns):\n",
      " #   Column                    Non-Null Count  Dtype  \n",
      "---  ------                    --------------  -----  \n",
      " 0   (distance, count)         11331 non-null  int64  \n",
      " 1   (distance, sum)           11331 non-null  float64\n",
      " 2   (duration, sum)           11331 non-null  float64\n",
      " 3   (minute_price, mean)      11331 non-null  int64  \n",
      " 4   (start_ride_price, mean)  11331 non-null  int64  \n",
      " 5   (subscription_fee, mean)  11331 non-null  int64  \n",
      "dtypes: float64(2), int64(4)\n",
      "memory usage: 576.5 KB\n"
     ]
    }
   ],
   "source": [
    "user_month.info()"
   ]
  },
  {
   "cell_type": "markdown",
   "id": "595c12c5",
   "metadata": {},
   "source": [
    "Пропуски отсутствуют"
   ]
  },
  {
   "cell_type": "markdown",
   "id": "d69dc94f",
   "metadata": {},
   "source": [
    "Переименуем столбцы датафрейма:"
   ]
  },
  {
   "cell_type": "code",
   "execution_count": 66,
   "id": "61727a87",
   "metadata": {},
   "outputs": [],
   "source": [
    "user_month.columns = ['count', 'distance', 'duration', 'minute_price', 'start_ride_price', 'subscription_fee']"
   ]
  },
  {
   "cell_type": "markdown",
   "id": "8369a410",
   "metadata": {},
   "source": [
    "### В этот же датафрейм добавить столбец с помесячной выручкой, которую принёс каждый пользователь"
   ]
  },
  {
   "cell_type": "markdown",
   "id": "bc25ea15",
   "metadata": {},
   "source": [
    "Для этого обратимся к информации об условиях оплаты для подписчиков и тех, у кого нет подписки."
   ]
  },
  {
   "cell_type": "code",
   "execution_count": 69,
   "id": "3552d21e",
   "metadata": {
    "scrolled": true
   },
   "outputs": [
    {
     "data": {
      "text/html": [
       "<div>\n",
       "<style scoped>\n",
       "    .dataframe tbody tr th:only-of-type {\n",
       "        vertical-align: middle;\n",
       "    }\n",
       "\n",
       "    .dataframe tbody tr th {\n",
       "        vertical-align: top;\n",
       "    }\n",
       "\n",
       "    .dataframe thead th {\n",
       "        text-align: right;\n",
       "    }\n",
       "</style>\n",
       "<table border=\"1\" class=\"dataframe\">\n",
       "  <thead>\n",
       "    <tr style=\"text-align: right;\">\n",
       "      <th></th>\n",
       "      <th></th>\n",
       "      <th>count</th>\n",
       "      <th>distance</th>\n",
       "      <th>duration</th>\n",
       "      <th>minute_price</th>\n",
       "      <th>start_ride_price</th>\n",
       "      <th>subscription_fee</th>\n",
       "    </tr>\n",
       "    <tr>\n",
       "      <th>user_id</th>\n",
       "      <th>month</th>\n",
       "      <th></th>\n",
       "      <th></th>\n",
       "      <th></th>\n",
       "      <th></th>\n",
       "      <th></th>\n",
       "      <th></th>\n",
       "    </tr>\n",
       "  </thead>\n",
       "  <tbody>\n",
       "    <tr>\n",
       "      <th rowspan=\"5\" valign=\"top\">1</th>\n",
       "      <th>1</th>\n",
       "      <td>2</td>\n",
       "      <td>7027.511294</td>\n",
       "      <td>42.0</td>\n",
       "      <td>6</td>\n",
       "      <td>0</td>\n",
       "      <td>199</td>\n",
       "    </tr>\n",
       "    <tr>\n",
       "      <th>4</th>\n",
       "      <td>1</td>\n",
       "      <td>754.159807</td>\n",
       "      <td>7.0</td>\n",
       "      <td>6</td>\n",
       "      <td>0</td>\n",
       "      <td>199</td>\n",
       "    </tr>\n",
       "    <tr>\n",
       "      <th>8</th>\n",
       "      <td>2</td>\n",
       "      <td>6723.470560</td>\n",
       "      <td>46.0</td>\n",
       "      <td>6</td>\n",
       "      <td>0</td>\n",
       "      <td>199</td>\n",
       "    </tr>\n",
       "    <tr>\n",
       "      <th>10</th>\n",
       "      <td>2</td>\n",
       "      <td>5809.911100</td>\n",
       "      <td>32.0</td>\n",
       "      <td>6</td>\n",
       "      <td>0</td>\n",
       "      <td>199</td>\n",
       "    </tr>\n",
       "    <tr>\n",
       "      <th>11</th>\n",
       "      <td>3</td>\n",
       "      <td>7003.499363</td>\n",
       "      <td>56.0</td>\n",
       "      <td>6</td>\n",
       "      <td>0</td>\n",
       "      <td>199</td>\n",
       "    </tr>\n",
       "  </tbody>\n",
       "</table>\n",
       "</div>"
      ],
      "text/plain": [
       "               count     distance  duration  minute_price  start_ride_price  \\\n",
       "user_id month                                                                 \n",
       "1       1          2  7027.511294      42.0             6                 0   \n",
       "        4          1   754.159807       7.0             6                 0   \n",
       "        8          2  6723.470560      46.0             6                 0   \n",
       "        10         2  5809.911100      32.0             6                 0   \n",
       "        11         3  7003.499363      56.0             6                 0   \n",
       "\n",
       "               subscription_fee  \n",
       "user_id month                    \n",
       "1       1                   199  \n",
       "        4                   199  \n",
       "        8                   199  \n",
       "        10                  199  \n",
       "        11                  199  "
      ]
     },
     "execution_count": 69,
     "metadata": {},
     "output_type": "execute_result"
    }
   ],
   "source": [
    "user_month.head()  # выведем первые 5 строк сводной таблицы"
   ]
  },
  {
   "cell_type": "markdown",
   "id": "f7792567",
   "metadata": {},
   "source": [
    "Создадим функцию для подсчёта выручки, учитывая начальные условия:\n",
    "- выручка без подписки: (стоимость одной минуты * продолжительность поездки) + (количество поездок * стоимость старта)\n",
    "- выручка с подпиской: (стоимость одной минуты * продолжительность поездки) + абонентская плата"
   ]
  },
  {
   "cell_type": "code",
   "execution_count": 70,
   "id": "535437a5",
   "metadata": {},
   "outputs": [],
   "source": [
    "def profit(row):\n",
    "    if row['subscription_fee'] > 0:\n",
    "        return row['minute_price'] * row['duration'] + row['subscription_fee']\n",
    "    elif row['subscription_fee'] == 0:\n",
    "        return row['minute_price'] * row['duration'] + row['count'] * row['start_ride_price']"
   ]
  },
  {
   "cell_type": "markdown",
   "id": "e203792a",
   "metadata": {},
   "source": [
    "Добавим в таблицу новый столбец с выручкой по каждому пользователю:"
   ]
  },
  {
   "cell_type": "code",
   "execution_count": 71,
   "id": "01c6cc4b",
   "metadata": {},
   "outputs": [],
   "source": [
    "user_month['profit'] = user_month.apply(profit, axis=1).round(2)"
   ]
  },
  {
   "cell_type": "code",
   "execution_count": 72,
   "id": "cf377b87",
   "metadata": {
    "scrolled": true
   },
   "outputs": [
    {
     "name": "stdout",
     "output_type": "stream",
     "text": [
      "<class 'pandas.core.frame.DataFrame'>\n",
      "MultiIndex: 11331 entries, (1, 1) to (1534, 12)\n",
      "Data columns (total 7 columns):\n",
      " #   Column            Non-Null Count  Dtype  \n",
      "---  ------            --------------  -----  \n",
      " 0   count             11331 non-null  int64  \n",
      " 1   distance          11331 non-null  float64\n",
      " 2   duration          11331 non-null  float64\n",
      " 3   minute_price      11331 non-null  int64  \n",
      " 4   start_ride_price  11331 non-null  int64  \n",
      " 5   subscription_fee  11331 non-null  int64  \n",
      " 6   profit            11331 non-null  float64\n",
      "dtypes: float64(3), int64(4)\n",
      "memory usage: 665.0 KB\n"
     ]
    }
   ],
   "source": [
    "user_month.info()"
   ]
  },
  {
   "cell_type": "markdown",
   "id": "a40579b1",
   "metadata": {},
   "source": [
    "Проверим, что столбец добавился верно:"
   ]
  },
  {
   "cell_type": "code",
   "execution_count": 73,
   "id": "8085abd3",
   "metadata": {},
   "outputs": [
    {
     "data": {
      "text/html": [
       "<div>\n",
       "<style scoped>\n",
       "    .dataframe tbody tr th:only-of-type {\n",
       "        vertical-align: middle;\n",
       "    }\n",
       "\n",
       "    .dataframe tbody tr th {\n",
       "        vertical-align: top;\n",
       "    }\n",
       "\n",
       "    .dataframe thead th {\n",
       "        text-align: right;\n",
       "    }\n",
       "</style>\n",
       "<table border=\"1\" class=\"dataframe\">\n",
       "  <thead>\n",
       "    <tr style=\"text-align: right;\">\n",
       "      <th></th>\n",
       "      <th></th>\n",
       "      <th>count</th>\n",
       "      <th>distance</th>\n",
       "      <th>duration</th>\n",
       "      <th>minute_price</th>\n",
       "      <th>start_ride_price</th>\n",
       "      <th>subscription_fee</th>\n",
       "      <th>profit</th>\n",
       "    </tr>\n",
       "    <tr>\n",
       "      <th>user_id</th>\n",
       "      <th>month</th>\n",
       "      <th></th>\n",
       "      <th></th>\n",
       "      <th></th>\n",
       "      <th></th>\n",
       "      <th></th>\n",
       "      <th></th>\n",
       "      <th></th>\n",
       "    </tr>\n",
       "  </thead>\n",
       "  <tbody>\n",
       "    <tr>\n",
       "      <th rowspan=\"5\" valign=\"top\">1</th>\n",
       "      <th>1</th>\n",
       "      <td>2</td>\n",
       "      <td>7027.511294</td>\n",
       "      <td>42.0</td>\n",
       "      <td>6</td>\n",
       "      <td>0</td>\n",
       "      <td>199</td>\n",
       "      <td>451.0</td>\n",
       "    </tr>\n",
       "    <tr>\n",
       "      <th>4</th>\n",
       "      <td>1</td>\n",
       "      <td>754.159807</td>\n",
       "      <td>7.0</td>\n",
       "      <td>6</td>\n",
       "      <td>0</td>\n",
       "      <td>199</td>\n",
       "      <td>241.0</td>\n",
       "    </tr>\n",
       "    <tr>\n",
       "      <th>8</th>\n",
       "      <td>2</td>\n",
       "      <td>6723.470560</td>\n",
       "      <td>46.0</td>\n",
       "      <td>6</td>\n",
       "      <td>0</td>\n",
       "      <td>199</td>\n",
       "      <td>475.0</td>\n",
       "    </tr>\n",
       "    <tr>\n",
       "      <th>10</th>\n",
       "      <td>2</td>\n",
       "      <td>5809.911100</td>\n",
       "      <td>32.0</td>\n",
       "      <td>6</td>\n",
       "      <td>0</td>\n",
       "      <td>199</td>\n",
       "      <td>391.0</td>\n",
       "    </tr>\n",
       "    <tr>\n",
       "      <th>11</th>\n",
       "      <td>3</td>\n",
       "      <td>7003.499363</td>\n",
       "      <td>56.0</td>\n",
       "      <td>6</td>\n",
       "      <td>0</td>\n",
       "      <td>199</td>\n",
       "      <td>535.0</td>\n",
       "    </tr>\n",
       "  </tbody>\n",
       "</table>\n",
       "</div>"
      ],
      "text/plain": [
       "               count     distance  duration  minute_price  start_ride_price  \\\n",
       "user_id month                                                                 \n",
       "1       1          2  7027.511294      42.0             6                 0   \n",
       "        4          1   754.159807       7.0             6                 0   \n",
       "        8          2  6723.470560      46.0             6                 0   \n",
       "        10         2  5809.911100      32.0             6                 0   \n",
       "        11         3  7003.499363      56.0             6                 0   \n",
       "\n",
       "               subscription_fee  profit  \n",
       "user_id month                            \n",
       "1       1                   199   451.0  \n",
       "        4                   199   241.0  \n",
       "        8                   199   475.0  \n",
       "        10                  199   391.0  \n",
       "        11                  199   535.0  "
      ]
     },
     "execution_count": 73,
     "metadata": {},
     "output_type": "execute_result"
    }
   ],
   "source": [
    "user_month.head()  # выведем первые 5 строк сводной таблицы"
   ]
  },
  {
   "cell_type": "code",
   "execution_count": 75,
   "id": "009dde9a",
   "metadata": {
    "scrolled": false
   },
   "outputs": [
    {
     "data": {
      "text/plain": [
       "count    11331.000000\n",
       "mean       342.303504\n",
       "std        153.875346\n",
       "min         58.000000\n",
       "25%        234.000000\n",
       "50%        319.000000\n",
       "75%        415.000000\n",
       "max       1444.000000\n",
       "Name: profit, dtype: float64"
      ]
     },
     "execution_count": 75,
     "metadata": {},
     "output_type": "execute_result"
    }
   ],
   "source": [
    "user_month['profit'].describe()  # выведем статистические характеристики выручки"
   ]
  },
  {
   "cell_type": "markdown",
   "id": "004e5e03",
   "metadata": {},
   "source": [
    "Посчитаем, сколько выручки в год приносят пользователи с подпиской и без неё:"
   ]
  },
  {
   "cell_type": "code",
   "execution_count": 76,
   "id": "47eeb29c",
   "metadata": {},
   "outputs": [
    {
     "data": {
      "text/plain": [
       "subscription_fee\n",
       "0      2234104.0\n",
       "199    1644537.0\n",
       "Name: profit, dtype: float64"
      ]
     },
     "execution_count": 76,
     "metadata": {},
     "output_type": "execute_result"
    }
   ],
   "source": [
    "user_month.groupby('subscription_fee')['profit'].sum()"
   ]
  },
  {
   "cell_type": "markdown",
   "id": "50e4a835",
   "metadata": {},
   "source": [
    "Пользователи без подписки принесли Компании 2,23 млн. руб. в год, с подпиской - 1,64 млн. руб. в год"
   ]
  },
  {
   "cell_type": "markdown",
   "id": "64fae78e",
   "metadata": {},
   "source": [
    "Теперь посчитаем, сколько выручки в среднем в месяц приносит один пользователь с подпиской и без неё:"
   ]
  },
  {
   "cell_type": "code",
   "execution_count": 77,
   "id": "80f51b41",
   "metadata": {
    "scrolled": true
   },
   "outputs": [
    {
     "data": {
      "text/plain": [
       "subscription_fee\n",
       "0      328.641365\n",
       "199    362.792191\n",
       "Name: profit, dtype: float64"
      ]
     },
     "execution_count": 77,
     "metadata": {},
     "output_type": "execute_result"
    }
   ],
   "source": [
    "user_month.groupby('subscription_fee')['profit'].mean()"
   ]
  },
  {
   "cell_type": "markdown",
   "id": "2d6f29a2",
   "metadata": {},
   "source": [
    "В среднем один пользователь без подписки в месяц приносит 329 руб. выручки, с подпиской - 363 руб. Иметь пользователей с подпиской - более выгодно для Компании."
   ]
  },
  {
   "cell_type": "code",
   "execution_count": 78,
   "id": "067044b5",
   "metadata": {},
   "outputs": [
    {
     "data": {
      "text/plain": [
       "3878641.0"
      ]
     },
     "execution_count": 78,
     "metadata": {},
     "output_type": "execute_result"
    }
   ],
   "source": [
    "user_month['profit'].sum()"
   ]
  },
  {
   "cell_type": "markdown",
   "id": "30b46cd0",
   "metadata": {},
   "source": [
    "Выводы по разделу:\n",
    "- создан датафрейм `user_month`, содержащий столбец `profit` с информацией о выручке, которую принёс каждый пользователь помесячно;\n",
    "- в среднем один пользователь приносит 342 рубля в месяц, в пересчёте на общее количество поездок (11331) это примерно 3,88 млн. руб. в год для Компании. При этом, суммарно больше прибыли принесли пользователи без подписки (2,23 млн. руб. против 1,64 млн. руб.), но в среднем один пользователь с подпиской - более выгоден для Компании (принёс 363 руб. против 329 руб. в месяц)."
   ]
  },
  {
   "cell_type": "markdown",
   "id": "5eb753fa",
   "metadata": {},
   "source": [
    "## Проверка гипотез"
   ]
  },
  {
   "cell_type": "markdown",
   "id": "2dacc760",
   "metadata": {},
   "source": [
    "### Тратят ли пользователи с подпиской больше времени на поездки?"
   ]
  },
  {
   "cell_type": "markdown",
   "id": "62826c21",
   "metadata": {},
   "source": [
    "Выдвинем нулевую (Н0) и альтернативную гипотезы (Н1), где Н0 - средняя продолжительность поездки в месяц для пользователей с подпиской и без неё равны; Н1 - средняя продолжительность поездки пользователей с подпиской больше, чем без неё. Для проверки гипотез будем использовать двухвыборочный t-тест для независимых выборок:"
   ]
  },
  {
   "cell_type": "code",
   "execution_count": 79,
   "id": "1e3b57b1",
   "metadata": {},
   "outputs": [
    {
     "data": {
      "text/plain": [
       "17.39090929866399"
      ]
     },
     "metadata": {},
     "output_type": "display_data"
    }
   ],
   "source": [
    "display(np.mean(total_free['duration']))  # выведем среднее время поездки пользователей без подписки"
   ]
  },
  {
   "cell_type": "code",
   "execution_count": 80,
   "id": "55a107ab",
   "metadata": {
    "scrolled": true
   },
   "outputs": [
    {
     "data": {
      "text/plain": [
       "18.54198516280583"
      ]
     },
     "metadata": {},
     "output_type": "display_data"
    }
   ],
   "source": [
    "display(np.mean(total_ultra['duration']))  # выведем среднее время поездки пользователей с подпиской"
   ]
  },
  {
   "cell_type": "code",
   "execution_count": 81,
   "id": "7db243bd",
   "metadata": {},
   "outputs": [],
   "source": [
    "alpha = .01  # критический уровень статистической значимости"
   ]
  },
  {
   "cell_type": "code",
   "execution_count": 82,
   "id": "55c5f248",
   "metadata": {},
   "outputs": [],
   "source": [
    "results = st.ttest_ind(total_ultra['duration'], total_free['duration'], alternative='greater')\n",
    "# проверим гипотезу о равенстве средних двух выборок"
   ]
  },
  {
   "cell_type": "code",
   "execution_count": 83,
   "id": "3ad2c1b3",
   "metadata": {},
   "outputs": [
    {
     "data": {
      "text/plain": [
       "1.2804098316645618e-34"
      ]
     },
     "metadata": {},
     "output_type": "display_data"
    }
   ],
   "source": [
    "display(results.pvalue)  # выведем p-value"
   ]
  },
  {
   "cell_type": "code",
   "execution_count": 85,
   "id": "8cb4438b",
   "metadata": {},
   "outputs": [
    {
     "data": {
      "text/plain": [
       "'Не получилось отвергнуть нулевую гипотезу'"
      ]
     },
     "metadata": {},
     "output_type": "display_data"
    }
   ],
   "source": [
    "if results.pvalue < alpha:\n",
    "    display('Отвергаем нулевую гипотезу')\n",
    "else:\n",
    "    display('Не получилось отвергнуть нулевую гипотезу')"
   ]
  },
  {
   "cell_type": "markdown",
   "id": "98569731",
   "metadata": {},
   "source": [
    "Вывод по разделу:\n",
    "\n",
    "- нулевая гипотеза отвергнута при уровне статистической значимости, равном 1%. Есть основания предполагать, что  средняя продолжительность поездки пользователей с подпиской больше, чем без неё. Учитывая, что стоимость подписки - фиксированная, чем дольше ездит такой пользователь - тем выгоднее для Компании."
   ]
  },
  {
   "cell_type": "markdown",
   "id": "94954a2a",
   "metadata": {},
   "source": [
    "### Можно ли сказать, что среднее расстояние, которое проезжают пользователи с подпиской за одну поездку, не превышает 3130 метров (оптимальное с точки зрения износа самоката)?"
   ]
  },
  {
   "cell_type": "markdown",
   "id": "829b10b2",
   "metadata": {},
   "source": [
    "Выдвинем нулевую (Н0) и альтернативную гипотезы (Н1), где Н0 - среднее расстояние, которое проезжают пользователи с подпиской за одну поездку, равно 3130 метров; Н1 - среднее расстояние, которое проезжают пользователи с подпиской за одну поездку, больше 3130 метров. Для проверки гипотез будем использовать одновыборочный t-тест:"
   ]
  },
  {
   "cell_type": "code",
   "execution_count": 86,
   "id": "a38da05d",
   "metadata": {},
   "outputs": [
    {
     "data": {
      "text/plain": [
       "3115.4453880370247"
      ]
     },
     "metadata": {},
     "output_type": "display_data"
    }
   ],
   "source": [
    "display(np.mean(total_ultra['distance']))\n",
    "# выведем среднее расстояние поездки пользователей без подписки"
   ]
  },
  {
   "cell_type": "code",
   "execution_count": 87,
   "id": "b4176a72",
   "metadata": {},
   "outputs": [
    {
     "data": {
      "text/plain": [
       "0.9195368847849785"
      ]
     },
     "metadata": {},
     "output_type": "display_data"
    },
    {
     "data": {
      "text/plain": [
       "'Не отвергаем нулевую гипотезу'"
      ]
     },
     "metadata": {},
     "output_type": "display_data"
    }
   ],
   "source": [
    "value = 3130  # значение, с которым будем сравнивать среднее расстояние поездки пользователей с подпиской\n",
    "alpha = 0.01  # критический уровень статистической значимости\n",
    "results = st.ttest_1samp(total_ultra['distance'], value, alternative='greater')\n",
    "display(results.pvalue)  # выведем p-value\n",
    "if results.pvalue < alpha:\n",
    "    display('Отвергаем нулевую гипотезу')\n",
    "else:\n",
    "    display('Не отвергаем нулевую гипотезу')"
   ]
  },
  {
   "cell_type": "markdown",
   "id": "b2b67037",
   "metadata": {},
   "source": [
    "Вывод по разделу:\n",
    "\n",
    "- нулевая гипотеза не была отвергнута при уровне статистической значимости, равном 1%. Есть основания предполагать, что среднее расстояние, которое проезжают пользователи с подпиской за одну поездку, не превышает 3130 метров. Это выгодно для бизнеса, самокаты не подвержены чрезмерному износу, нет необходимости в дополнительных тратах на их замену."
   ]
  },
  {
   "cell_type": "markdown",
   "id": "80182bec",
   "metadata": {},
   "source": [
    "### Будет ли помесячная средняя выручка от пользователей с подпиской выше, чем средняя выручка от пользователей без подписки?"
   ]
  },
  {
   "cell_type": "markdown",
   "id": "84d4c1c1",
   "metadata": {},
   "source": [
    "Выдвинем нулевую (Н0) и альтернативную гипотезы (Н1), где Н0 - помесячная средняя выручка от пользователей с подпиской равна средней выручке от пользователей без подписки; Н1 - помесячная средняя выручка от пользователей с подпиской выше, чем средняя выручка от пользователей без подписки. Для проверки гипотез будем использовать двухвыборочный t-тест для независимых выборок:"
   ]
  },
  {
   "cell_type": "code",
   "execution_count": 88,
   "id": "2932109b",
   "metadata": {},
   "outputs": [
    {
     "data": {
      "text/plain": [
       "328.6413651073845"
      ]
     },
     "metadata": {},
     "output_type": "display_data"
    }
   ],
   "source": [
    "display(np.mean(user_month.loc[user_month['subscription_fee'] == 0, 'profit']))\n",
    "# выведем среднюю выручку от пользователей без подписки"
   ]
  },
  {
   "cell_type": "code",
   "execution_count": 89,
   "id": "5585c921",
   "metadata": {},
   "outputs": [
    {
     "data": {
      "text/plain": [
       "362.7921906022502"
      ]
     },
     "metadata": {},
     "output_type": "display_data"
    }
   ],
   "source": [
    "display(np.mean(user_month.loc[user_month['subscription_fee'] != 0, 'profit']))\n",
    "# выведем среднюю выручку от пользователей с подпиской"
   ]
  },
  {
   "cell_type": "code",
   "execution_count": 90,
   "id": "5b42a902",
   "metadata": {},
   "outputs": [
    {
     "data": {
      "text/plain": [
       "1.8850394384715216e-31"
      ]
     },
     "metadata": {},
     "output_type": "display_data"
    },
    {
     "data": {
      "text/plain": [
       "'Отвергаем нулевую гипотезу'"
      ]
     },
     "metadata": {},
     "output_type": "display_data"
    }
   ],
   "source": [
    "alpha = 0.01  # критический уровень статистической значимости\n",
    "results = st.ttest_ind(user_month.loc[user_month['subscription_fee'] != 0, 'profit'], \\\n",
    "    user_month.loc[user_month['subscription_fee'] == 0, 'profit'], alternative='greater')\n",
    "display(results.pvalue)  # выведем p-value\n",
    "if results.pvalue < alpha:\n",
    "    display('Отвергаем нулевую гипотезу')\n",
    "else:\n",
    "    display('Не отвергаем нулевую гипотезу')"
   ]
  },
  {
   "cell_type": "markdown",
   "id": "989caaef",
   "metadata": {},
   "source": [
    "Вывод по разделу:\n",
    "\n",
    "- нулевая гипотеза отвергнута при уровне статистической значимости, равном 1%. Есть основания предполагать, что средняя помесячная выручка от пользователей с подпиской выше, чем средняя выручка от пользователей без подписки (в чём, кстати, мы убедились ранее в п. 5.2 отчёта). Для бизнеса это выгодно, принимая во внимание также сделанный в п. 6.1 вывод о высокой вероятности того, что средняя продолжительность поездки пользователей с подпиской больше, чем без неё."
   ]
  },
  {
   "cell_type": "markdown",
   "id": "ef5aa90e",
   "metadata": {},
   "source": [
    "### Какой тест понадобился бы для проверки гипотезы о значительном снижении количества обращений в техподдержку?"
   ]
  },
  {
   "cell_type": "markdown",
   "id": "bf02eb28",
   "metadata": {},
   "source": [
    "Ситуация: техническая команда сервиса обновила сервера, с которыми взаимодействует мобильное приложение. Она надеется, что из-за этого количество обращений в техподдержку значимо снизилось. Некоторый файл содержит для каждого пользователя данные о количестве обращений до обновления и после него."
   ]
  },
  {
   "cell_type": "markdown",
   "id": "41e372e4",
   "metadata": {},
   "source": [
    "Для проверки такой гипотезы используем двухвыборочный t-тест для зависимых выборок, метод st.ttest_rel(). В качестве параметров передаются средние значения выборок до и после изменений, а также параметр alternative = 'less' - если проверяем условие, что количество обращений после проведённых изменений снизилось."
   ]
  },
  {
   "cell_type": "markdown",
   "id": "edd4a930",
   "metadata": {},
   "source": [
    "В результате проверки гипотез, были заключены следующие гипотезы:\n",
    "\n",
    "- средняя продолжительность поездки пользователей с подпиской больше, чем без неё. Учитывая, что стоимость подписки - фиксированная, чем дольше ездит такой пользователь - тем выгоднее для Компании;\n",
    "- среднее расстояние, которое проезжают пользователи с подпиской за одну поездку, не превышает 3130 метров. Это выгодно для бизнеса, самокаты не подвержены чрезмерному износу, нет необходимости в дополнительных тратах на их замену;\n",
    "- средняя помесячная выручка от пользователей с подпиской выше, чем средняя выручка от пользователей без подписки. Для бизнеса это выгодно, принимая во внимание также сделанный вывод о высокой вероятности того, что средняя продолжительность поездки пользователей с подпиской больше, чем без неё;\n",
    "- расписан полный статистический тест для проверки гипотезы о том, снизится ли количество обращений в техподдержку после замены серверов."
   ]
  },
  {
   "cell_type": "markdown",
   "id": "7ed431d8",
   "metadata": {},
   "source": [
    "## Распределения"
   ]
  },
  {
   "cell_type": "markdown",
   "id": "d0bf894a",
   "metadata": {},
   "source": [
    "### Выяснить, какое минимальное количество промокодов нужно разослать, чтобы вероятность не выполнить план была примерно 5%"
   ]
  },
  {
   "cell_type": "markdown",
   "id": "a77aba54",
   "metadata": {},
   "source": [
    "Суть задачи: нужно провести акцию с раздачей промокодов на один бесплатный месяц подписки, в рамках которой как минимум 100 существующих клиентов должны продлить эту подписку. То есть по завершении периода действия подписки пользователь может либо отказаться от неё, либо продлить, совершив соответствующий платёж. Эта акция уже проводилась ранее и по итогу выяснилось, что после бесплатного пробного периода подписку продлевают 10% пользователей."
   ]
  },
  {
   "cell_type": "markdown",
   "id": "ca2e3e8d",
   "metadata": {},
   "source": [
    "Для решения задачи используем биномиальное распределение, описывающее указанную ситуацию, далее подбираем подходящее число повторений n:"
   ]
  },
  {
   "cell_type": "code",
   "execution_count": 91,
   "id": "21c89b7f",
   "metadata": {},
   "outputs": [],
   "source": [
    "n = 1029 # количество независимых повторений эксперимента Бернулли\n",
    "p = 0.1 # вероятность успеха в каждом из них"
   ]
  },
  {
   "cell_type": "code",
   "execution_count": 92,
   "id": "222943c1",
   "metadata": {
    "scrolled": true
   },
   "outputs": [
    {
     "data": {
      "image/png": "[encoded data removed]",
      "text/plain": [
       "<Figure size 432x288 with 1 Axes>"
      ]
     },
     "metadata": {
      "needs_background": "light"
     },
     "output_type": "display_data"
    }
   ],
   "source": [
    "distr = []  # создадим пустой список\n",
    "for k in range(0, n+1): \n",
    "    choose = factorial(n) / (factorial(k) * factorial(n-k))\n",
    "    prob = choose * p**k * (1-p)**(n-k)\n",
    "    distr.append(prob)\n",
    "\n",
    "plt.bar(range(0, n+1), distr); # построим гистограмму распределения\n",
    "plt.title('Акция по рассылке промокодов')\n",
    "plt.xlabel('Количество промокодов')\n",
    "plt.ylabel('Вероятность выполнения плана')\n",
    "plt.show()"
   ]
  },
  {
   "cell_type": "code",
   "execution_count": 93,
   "id": "4f10d553",
   "metadata": {},
   "outputs": [
    {
     "name": "stdout",
     "output_type": "stream",
     "text": [
      "1172\n"
     ]
    }
   ],
   "source": [
    "n = 1000 # количество промокодов\n",
    "p = 0.1  # вероятность успеха\n",
    "k = 100  # количество клиентов, которые продлят подписку\n",
    "binom_cdf = 0.05 # вероятность не выполнить план\n",
    "\n",
    "while binom_cdf < binom.cdf(k, n, p): \n",
    "    n += 1\n",
    "print(n)"
   ]
  },
  {
   "cell_type": "markdown",
   "id": "f7c6d43c",
   "metadata": {},
   "source": [
    "Вывод по разделу:\n",
    "\n",
    "- требуется разослать 1172 промокодов, чтобы во всяком случае 100 клиентов продлили подписку (10% продлевают) с вероятностью не менее 5% (план) "
   ]
  },
  {
   "cell_type": "markdown",
   "id": "5b83a1e1",
   "metadata": {},
   "source": [
    "#### Задача 7.1 — декомпозиция\n",
    "\n",
    "+ Отделу маркетинга GoFast поставили задачу: нужно провести акцию с раздачей промокодов на один бесплатный месяц подписки, в рамках которой как минимум 100 существующих клиентов должны продлить эту подписку. \n",
    "\n",
    "+ То есть по завершении периода действия подписки пользователь может либо отказаться от неё, либо продлить, совершив соответствующий платёж. \n",
    "\n",
    "+ Эта акция уже проводилась ранее и по итогу выяснилось, что после бесплатного пробного периода подписку продлевают 10 % пользователей. \n",
    "\n",
    "+ Выясните, какое минимальное количество промокодов нужно разослать, чтобы вероятность не выполнить план была примерно 5 %. \n",
    "\n",
    "+ Подберите параметры распределения, описывающего эту ситуацию, постройте график распределения и сформулируйте ответ на вопрос о количестве промокодов."
   ]
  },
  {
   "cell_type": "code",
   "execution_count": 94,
   "id": "3b49a0bb",
   "metadata": {},
   "outputs": [
    {
     "name": "stdout",
     "output_type": "stream",
     "text": [
      "i: (1, 100)\tprobability: 1.0\n",
      "i: (2, 200)\tprobability: 1.0\n",
      "i: (3, 300)\tprobability: 1.0\n",
      "i: (4, 400)\tprobability: 1.0\n",
      "i: (5, 500)\tprobability: 1.0\n",
      "i: (6, 600)\tprobability: 1.0\n",
      "i: (7, 700)\tprobability: 1.0\n",
      "i: (8, 800)\tprobability: 0.987\n",
      "i: (9, 900)\tprobability: 0.854\n",
      "i: (10, 1000)\tprobability: 0.485\n",
      "i: (11, 1100)\tprobability: 0.145\n",
      "i: (12, 1200)\tprobability: 0.022\n"
     ]
    }
   ],
   "source": [
    "for i in range (1, 13):\n",
    "    trials = 100 * i\n",
    "    print(f\"i: {i, trials}\\tprobability: {(st.binom.cdf(99, trials, 0.1)).round(3)}\")"
   ]
  },
  {
   "cell_type": "code",
   "execution_count": 95,
   "id": "e14197c5",
   "metadata": {
    "scrolled": false
   },
   "outputs": [
    {
     "name": "stdout",
     "output_type": "stream",
     "text": [
      "i: (1, 100)\ttarget_probability: 0.0\n",
      "i: (2, 200)\ttarget_probability: 0.0\n",
      "i: (3, 300)\ttarget_probability: 0.0\n",
      "i: (4, 400)\ttarget_probability: 0.0\n",
      "i: (5, 500)\ttarget_probability: 0.0\n",
      "i: (6, 600)\ttarget_probability: 0.0\n",
      "i: (7, 700)\ttarget_probability: 0.0\n",
      "i: (8, 800)\ttarget_probability: 0.013\n",
      "i: (9, 900)\ttarget_probability: 0.146\n",
      "i: (10, 1000)\ttarget_probability: 0.515\n",
      "i: (11, 1100)\ttarget_probability: 0.855\n",
      "i: (12, 1200)\ttarget_probability: 0.978\n",
      "i: (13, 1161)\ttarget_probability: 0.95\n"
     ]
    }
   ],
   "source": [
    "for i in range (1, 13):\n",
    "    trials = 100 * i\n",
    "    print(f\"i: {i, trials}\\ttarget_probability: {(1 - st.binom.cdf(99, trials, 0.1)).round(3)}\");    \n",
    "   \n",
    "print(f\"i: {13, 1161}\\ttarget_probability: {(1 - st.binom.cdf(99, 1161, 0.1)).round(3)}\")"
   ]
  },
  {
   "attachments": {
    "image.png": {
     "image/png": "[encoded data removed]"
    }
   },
   "cell_type": "markdown",
   "id": "f856d109",
   "metadata": {},
   "source": [
    "![image.png](attachment:image.png)        "
   ]
  },
  {
   "cell_type": "markdown",
   "id": "8e0e6b88",
   "metadata": {},
   "source": [
    "### Оценить вероятность того, что push-уведомление откроют не более 399,5 тыс. пользователей"
   ]
  },
  {
   "cell_type": "markdown",
   "id": "275318df",
   "metadata": {},
   "source": [
    "Суть задачи: клиенты могут открыть уведомление или не открывать. Известно, что уведомления открывают около 40% получивших клиентов. Отдел планирует разослать 1 млн. уведомлений. С помощью аппроксимации построить примерный график распределения."
   ]
  },
  {
   "cell_type": "code",
   "execution_count": 96,
   "id": "f9342bb6",
   "metadata": {},
   "outputs": [],
   "source": [
    "n = 1000000  # количество независимых повторений эксперимента Бернулли\n",
    "p = 0.4  # вероятность успеха в каждом из них\n",
    "k = 399500  # количество успехов"
   ]
  },
  {
   "cell_type": "code",
   "execution_count": 97,
   "id": "9ee399ef",
   "metadata": {},
   "outputs": [
    {
     "data": {
      "text/plain": [
       "0.15371708296369768"
      ]
     },
     "metadata": {},
     "output_type": "display_data"
    }
   ],
   "source": [
    "mu = n * p\n",
    "sigma = (n * p * (1 - p))**0.5\n",
    "# мат. ожидание и стандартное отклонение нормального распределения, которым аппроксимируем биномиальное, \n",
    "# берём равными мат.ожиданию и стандартному отклонению этого биномиального распределения\n",
    "distr = st.norm(mu, sigma)   # создадим нормальное распределение\n",
    "result = distr.cdf(k)   # посчитаем вероятность того, что случайное число меньше или равно 399500\n",
    "display(result)   # выведем вероятность"
   ]
  },
  {
   "cell_type": "markdown",
   "id": "5afd9c48",
   "metadata": {},
   "source": [
    "Вывод по разделу:\n",
    "\n",
    "- вероятность того, что push-уведомление откроют не более 399,5 тыс. пользователей при количестве рассылаемых уведомлений в 1 млн. - 15,4%"
   ]
  },
  {
   "cell_type": "markdown",
   "id": "d61204d5",
   "metadata": {},
   "source": [
    "## Итоговый вывод"
   ]
  },
  {
   "cell_type": "markdown",
   "id": "6efd96ab",
   "metadata": {},
   "source": [
    "В результате проведённого статистического анализа данных было выполнено:\n",
    "\n",
    "Предобработка данных\n",
    "- изучены датасеты, проверены на наличие пропусков и общих столбцов;\n",
    "- столбец `date` приведён к корректному формату;\n",
    "- создан новый столбец `month`, содержащий номера месяцев;\n",
    "- датасеты изучены на предмет наличия пропущенных значений и дубликатов: пропущенные значения отсутствуют, явные дубликаты в датасете `users` удалены.\n",
    "\n",
    "Исследовательский анализ данных\n",
    "- южные города (Пятигорск, Ростов-на-Дону, Краснодар, Сочи) - лидеры по количеству зарегистрированных в приложении пользователей. Это должно объясняться всесезонностью сервиса проката. Екатеринбург - на 2-м месте, а Москва - на 8-м; при этом разница между городами в процентном соотношении пользователей не так велика;\n",
    "- количество пользователей без подписки (54,4%) больше, чем с ней (45,6%);\n",
    "- среднее значение возраста пользователей - 25 лет, минимальный - 12 лет, максимальный - 43 года;\n",
    "- в среднем за одну поездку преодолевается расстояние чуть больше 3 км, не так мало (ок. 150) количество небольших по расстоянию поездок на 650-700 м;\n",
    "- средняя продолжительность поездок составляет порядка 18 минут. Есть примерно 100 поездок с околонулевым временем их продолжительности, что похоже на аномалию (возможно, связанную со сбоем приложения);\n",
    "- непродолжительные поездки обычно совершают пользователи до 20 лет и старше 30 лет. Это можно объяснить тем, что молодые пользователи берут самокат, чтобы добраться до школы, обычно расположенной недалеко от дома. Возрастные пользователи - просто ради интереса, попробовать проехаться. По этой же причине наблюдаем 2 пика: условно \"доехать до школы/проехать на интерес\" и \"доехать до работы\".\n",
    "- сезонность практически не оказывает влияения на сервис и количество поездок.\n",
    "\n",
    "Объединение данных\n",
    "- в среднем пользователи без подписки проезжают меньшее расстояние, чем те, у кого есть подписка;\n",
    "- в среднем продолжительность поездок у пользователей с подпиской больше, чем без неё;\n",
    "- второй пик пройденного расстояния у пользователей с подпиской смещён в сторону 1 км, в отличие от пользователей без подписки (650-700 м);\n",
    "- у пользователей с подпиской отсутствуют аномальные околонулевые значения продолжительности поездок. Возможно, личный кабинет в таких случаях работает стабильнее.\n",
    "\n",
    "Подсчёт выручки\n",
    "- в среднем один пользователь приносит 342 рубля в месяц, в пересчёте на общее количество поездок (11331) это примерно 3,88 млн. руб. в год для Компании. При этом, суммарно больше прибыли принесли пользователи без подписки (2,23 млн. руб. против 1,64 млн. руб.), но в среднем один пользователь с подпиской - более выгоден для Компании (принёс 363 руб. против 329 руб. в месяц).\n",
    "\n",
    "Проверка гипотез\n",
    "- средняя продолжительность поездки пользователей с подпиской больше, чем без неё. Учитывая, что стоимость подписки - фиксированная, чем дольше ездит такой пользователь - тем выгоднее для Компании;\n",
    "- среднее расстояние, которое проезжают пользователи с подпиской за одну поездку, не превышает 3130 метров. Это выгодно для бизнеса, самокаты не подвержены чрезмерному износу, нет необходимости в дополнительных тратах на их замену;\n",
    "- средняя помесячная выручка от пользователей с подпиской выше, чем средняя выручка от пользователей без подписки. Для бизнеса это выгодно, принимая во внимание также сделанный вывод о высокой вероятности того, что средняя продолжительность поездки пользователей с подпиской больше, чем без неё;\n",
    "- расписан полный статистический тест для проверки гипотезы о том, снизится ли количество обращений в техподдержку после замены серверов.\n",
    "\n",
    "Распределения\n",
    "- требуется разослать 1161 промокод, чтобы во всяком случае 100 клиентов продлили подписку (10% продлевают) с вероятностью не менее 5% (план) \n",
    "- вероятность того, что push-уведомление откроют не более 399,5 тыс. пользователей при количестве рассылаемых уведомлений в 1 млн. - 15,4%\n",
    "\n",
    "Итоговая рекомендация:\n",
    "\n",
    "Пользователи с подпиской являются более выгодными клиентами для сервиса аренды самокатов GoFast, необходимо усилить мероприятия по приведению пользователей к данному типу абонентов."
   ]
  }
 ],
 "metadata": {
  "ExecuteTimeLog": [
   {
    "duration": 65,
    "start_time": "2024-06-03T14:04:05.909Z"
   },
   {
    "duration": 1190,
    "start_time": "2024-06-03T14:04:11.360Z"
   },
   {
    "duration": 425,
    "start_time": "2024-06-03T14:04:12.552Z"
   },
   {
    "duration": 3,
    "start_time": "2024-06-03T14:04:12.978Z"
   },
   {
    "duration": 11,
    "start_time": "2024-06-03T14:04:12.982Z"
   },
   {
    "duration": 8,
    "start_time": "2024-06-03T14:04:12.995Z"
   },
   {
    "duration": 6,
    "start_time": "2024-06-03T14:04:13.004Z"
   },
   {
    "duration": 12,
    "start_time": "2024-06-03T14:04:13.011Z"
   },
   {
    "duration": 11,
    "start_time": "2024-06-03T14:04:13.024Z"
   },
   {
    "duration": 9,
    "start_time": "2024-06-03T14:04:13.037Z"
   },
   {
    "duration": 7,
    "start_time": "2024-06-03T14:04:13.048Z"
   },
   {
    "duration": 5,
    "start_time": "2024-06-03T14:04:13.056Z"
   },
   {
    "duration": 41,
    "start_time": "2024-06-03T14:04:13.062Z"
   },
   {
    "duration": 6,
    "start_time": "2024-06-03T14:04:13.104Z"
   },
   {
    "duration": 5,
    "start_time": "2024-06-03T14:04:13.112Z"
   },
   {
    "duration": 5,
    "start_time": "2024-06-03T14:04:13.118Z"
   },
   {
    "duration": 8,
    "start_time": "2024-06-03T14:04:13.124Z"
   },
   {
    "duration": 4,
    "start_time": "2024-06-03T14:04:13.133Z"
   },
   {
    "duration": 6,
    "start_time": "2024-06-03T14:04:13.138Z"
   },
   {
    "duration": 5,
    "start_time": "2024-06-03T14:04:13.146Z"
   },
   {
    "duration": 51,
    "start_time": "2024-06-03T14:04:13.152Z"
   },
   {
    "duration": 196,
    "start_time": "2024-06-03T14:04:13.205Z"
   },
   {
    "duration": 5,
    "start_time": "2024-06-03T14:04:13.403Z"
   },
   {
    "duration": 134,
    "start_time": "2024-06-03T14:04:13.409Z"
   },
   {
    "duration": 280,
    "start_time": "2024-06-03T14:04:13.544Z"
   },
   {
    "duration": 103,
    "start_time": "2024-06-03T14:04:13.826Z"
   },
   {
    "duration": 7,
    "start_time": "2024-06-03T14:04:13.931Z"
   },
   {
    "duration": 18,
    "start_time": "2024-06-03T14:04:13.940Z"
   },
   {
    "duration": 126,
    "start_time": "2024-06-03T14:04:13.960Z"
   },
   {
    "duration": 277,
    "start_time": "2024-06-03T14:04:14.088Z"
   },
   {
    "duration": 9,
    "start_time": "2024-06-03T14:04:14.367Z"
   },
   {
    "duration": 148,
    "start_time": "2024-06-03T14:04:14.378Z"
   },
   {
    "duration": 335,
    "start_time": "2024-06-03T14:04:14.528Z"
   },
   {
    "duration": 9,
    "start_time": "2024-06-03T14:04:14.865Z"
   },
   {
    "duration": 7,
    "start_time": "2024-06-03T14:04:14.876Z"
   },
   {
    "duration": 4,
    "start_time": "2024-06-03T14:04:14.899Z"
   },
   {
    "duration": 12,
    "start_time": "2024-06-03T14:04:14.904Z"
   },
   {
    "duration": 11,
    "start_time": "2024-06-03T14:04:14.917Z"
   },
   {
    "duration": 7,
    "start_time": "2024-06-03T14:04:14.930Z"
   },
   {
    "duration": 21,
    "start_time": "2024-06-03T14:04:14.938Z"
   },
   {
    "duration": 57,
    "start_time": "2024-06-03T14:04:14.961Z"
   },
   {
    "duration": 15,
    "start_time": "2024-06-03T14:04:15.022Z"
   },
   {
    "duration": 23,
    "start_time": "2024-06-03T14:04:15.038Z"
   },
   {
    "duration": 11,
    "start_time": "2024-06-03T14:04:15.062Z"
   },
   {
    "duration": 18,
    "start_time": "2024-06-03T14:04:15.075Z"
   },
   {
    "duration": 7,
    "start_time": "2024-06-03T14:04:15.094Z"
   },
   {
    "duration": 405,
    "start_time": "2024-06-03T14:04:15.102Z"
   },
   {
    "duration": 458,
    "start_time": "2024-06-03T14:04:15.509Z"
   },
   {
    "duration": 32,
    "start_time": "2024-06-03T14:04:15.969Z"
   },
   {
    "duration": 10,
    "start_time": "2024-06-03T14:04:16.002Z"
   },
   {
    "duration": 4,
    "start_time": "2024-06-03T14:04:16.013Z"
   },
   {
    "duration": 37,
    "start_time": "2024-06-03T14:04:16.019Z"
   },
   {
    "duration": 3,
    "start_time": "2024-06-03T14:04:16.058Z"
   },
   {
    "duration": 39,
    "start_time": "2024-06-03T14:04:16.063Z"
   },
   {
    "duration": 6,
    "start_time": "2024-06-03T14:04:16.104Z"
   },
   {
    "duration": 12,
    "start_time": "2024-06-03T14:04:16.111Z"
   },
   {
    "duration": 9,
    "start_time": "2024-06-03T14:04:16.125Z"
   },
   {
    "duration": 8,
    "start_time": "2024-06-03T14:04:16.135Z"
   },
   {
    "duration": 5,
    "start_time": "2024-06-03T14:04:16.144Z"
   },
   {
    "duration": 5,
    "start_time": "2024-06-03T14:04:16.151Z"
   },
   {
    "duration": 3,
    "start_time": "2024-06-03T14:04:16.200Z"
   },
   {
    "duration": 6,
    "start_time": "2024-06-03T14:04:16.205Z"
   },
   {
    "duration": 5,
    "start_time": "2024-06-03T14:04:16.212Z"
   },
   {
    "duration": 5,
    "start_time": "2024-06-03T14:04:16.218Z"
   },
   {
    "duration": 6,
    "start_time": "2024-06-03T14:04:16.224Z"
   },
   {
    "duration": 8,
    "start_time": "2024-06-03T14:04:16.231Z"
   },
   {
    "duration": 6,
    "start_time": "2024-06-03T14:04:16.241Z"
   },
   {
    "duration": 52,
    "start_time": "2024-06-03T14:04:16.249Z"
   },
   {
    "duration": 8,
    "start_time": "2024-06-03T14:04:16.303Z"
   },
   {
    "duration": 2,
    "start_time": "2024-06-03T14:04:16.313Z"
   },
   {
    "duration": 1565,
    "start_time": "2024-06-03T14:04:16.317Z"
   },
   {
    "duration": 2,
    "start_time": "2024-06-03T14:04:17.884Z"
   },
   {
    "duration": 13,
    "start_time": "2024-06-03T14:04:17.887Z"
   },
   {
    "duration": 1090,
    "start_time": "2024-06-03T14:12:02.354Z"
   },
   {
    "duration": 103,
    "start_time": "2024-06-03T14:12:03.446Z"
   },
   {
    "duration": 3,
    "start_time": "2024-06-03T14:12:03.551Z"
   },
   {
    "duration": 14,
    "start_time": "2024-06-03T14:12:03.555Z"
   },
   {
    "duration": 18,
    "start_time": "2024-06-03T14:12:03.570Z"
   },
   {
    "duration": 15,
    "start_time": "2024-06-03T14:12:03.589Z"
   },
   {
    "duration": 12,
    "start_time": "2024-06-03T14:12:03.605Z"
   },
   {
    "duration": 10,
    "start_time": "2024-06-03T14:12:03.618Z"
   },
   {
    "duration": 9,
    "start_time": "2024-06-03T14:12:03.629Z"
   },
   {
    "duration": 7,
    "start_time": "2024-06-03T14:12:03.640Z"
   },
   {
    "duration": 4,
    "start_time": "2024-06-03T14:12:03.648Z"
   },
   {
    "duration": 5,
    "start_time": "2024-06-03T14:12:03.654Z"
   },
   {
    "duration": 6,
    "start_time": "2024-06-03T14:12:03.660Z"
   },
   {
    "duration": 5,
    "start_time": "2024-06-03T14:12:03.700Z"
   },
   {
    "duration": 4,
    "start_time": "2024-06-03T14:12:03.707Z"
   },
   {
    "duration": 7,
    "start_time": "2024-06-03T14:12:03.713Z"
   },
   {
    "duration": 4,
    "start_time": "2024-06-03T14:12:03.721Z"
   },
   {
    "duration": 10,
    "start_time": "2024-06-03T14:12:03.726Z"
   },
   {
    "duration": 6,
    "start_time": "2024-06-03T14:12:03.738Z"
   },
   {
    "duration": 13,
    "start_time": "2024-06-03T14:12:03.745Z"
   },
   {
    "duration": 223,
    "start_time": "2024-06-03T14:12:03.760Z"
   },
   {
    "duration": 5,
    "start_time": "2024-06-03T14:12:03.984Z"
   },
   {
    "duration": 126,
    "start_time": "2024-06-03T14:12:03.999Z"
   },
   {
    "duration": 282,
    "start_time": "2024-06-03T14:12:04.126Z"
   },
   {
    "duration": 105,
    "start_time": "2024-06-03T14:12:04.410Z"
   },
   {
    "duration": 7,
    "start_time": "2024-06-03T14:12:04.516Z"
   },
   {
    "duration": 7,
    "start_time": "2024-06-03T14:12:04.524Z"
   },
   {
    "duration": 133,
    "start_time": "2024-06-03T14:12:04.534Z"
   },
   {
    "duration": 263,
    "start_time": "2024-06-03T14:12:04.668Z"
   },
   {
    "duration": 8,
    "start_time": "2024-06-03T14:12:04.932Z"
   },
   {
    "duration": 125,
    "start_time": "2024-06-03T14:12:04.942Z"
   },
   {
    "duration": 323,
    "start_time": "2024-06-03T14:12:05.069Z"
   },
   {
    "duration": 9,
    "start_time": "2024-06-03T14:12:05.393Z"
   },
   {
    "duration": 10,
    "start_time": "2024-06-03T14:12:05.404Z"
   },
   {
    "duration": 14,
    "start_time": "2024-06-03T14:12:05.415Z"
   },
   {
    "duration": 14,
    "start_time": "2024-06-03T14:12:05.430Z"
   },
   {
    "duration": 11,
    "start_time": "2024-06-03T14:12:05.446Z"
   },
   {
    "duration": 7,
    "start_time": "2024-06-03T14:12:05.459Z"
   },
   {
    "duration": 32,
    "start_time": "2024-06-03T14:12:05.468Z"
   },
   {
    "duration": 6,
    "start_time": "2024-06-03T14:12:05.501Z"
   },
   {
    "duration": 11,
    "start_time": "2024-06-03T14:12:05.508Z"
   },
   {
    "duration": 29,
    "start_time": "2024-06-03T14:12:05.520Z"
   },
   {
    "duration": 32,
    "start_time": "2024-06-03T14:12:05.550Z"
   },
   {
    "duration": 8,
    "start_time": "2024-06-03T14:12:05.583Z"
   },
   {
    "duration": 9,
    "start_time": "2024-06-03T14:12:05.592Z"
   },
   {
    "duration": 474,
    "start_time": "2024-06-03T14:12:05.603Z"
   },
   {
    "duration": 442,
    "start_time": "2024-06-03T14:12:06.078Z"
   },
   {
    "duration": 19,
    "start_time": "2024-06-03T14:12:06.522Z"
   },
   {
    "duration": 9,
    "start_time": "2024-06-03T14:12:06.543Z"
   },
   {
    "duration": 11,
    "start_time": "2024-06-03T14:12:06.553Z"
   },
   {
    "duration": 48,
    "start_time": "2024-06-03T14:12:06.565Z"
   },
   {
    "duration": 3,
    "start_time": "2024-06-03T14:12:06.614Z"
   },
   {
    "duration": 14,
    "start_time": "2024-06-03T14:12:06.618Z"
   },
   {
    "duration": 7,
    "start_time": "2024-06-03T14:12:06.633Z"
   },
   {
    "duration": 12,
    "start_time": "2024-06-03T14:12:06.642Z"
   },
   {
    "duration": 21,
    "start_time": "2024-06-03T14:12:06.655Z"
   },
   {
    "duration": 4,
    "start_time": "2024-06-03T14:12:06.677Z"
   },
   {
    "duration": 19,
    "start_time": "2024-06-03T14:12:06.682Z"
   },
   {
    "duration": 4,
    "start_time": "2024-06-03T14:12:06.702Z"
   },
   {
    "duration": 4,
    "start_time": "2024-06-03T14:12:06.707Z"
   },
   {
    "duration": 4,
    "start_time": "2024-06-03T14:12:06.712Z"
   },
   {
    "duration": 4,
    "start_time": "2024-06-03T14:12:06.718Z"
   },
   {
    "duration": 7,
    "start_time": "2024-06-03T14:12:06.723Z"
   },
   {
    "duration": 5,
    "start_time": "2024-06-03T14:12:06.732Z"
   },
   {
    "duration": 29,
    "start_time": "2024-06-03T14:12:06.739Z"
   },
   {
    "duration": 16,
    "start_time": "2024-06-03T14:12:06.770Z"
   },
   {
    "duration": 16,
    "start_time": "2024-06-03T14:12:06.788Z"
   },
   {
    "duration": 13,
    "start_time": "2024-06-03T14:12:06.805Z"
   },
   {
    "duration": 3,
    "start_time": "2024-06-03T14:12:06.819Z"
   },
   {
    "duration": 1385,
    "start_time": "2024-06-03T14:12:06.823Z"
   },
   {
    "duration": 3,
    "start_time": "2024-06-03T14:12:08.210Z"
   },
   {
    "duration": 7,
    "start_time": "2024-06-03T14:12:08.214Z"
   },
   {
    "duration": 5,
    "start_time": "2024-06-03T14:12:41.448Z"
   },
   {
    "duration": 48,
    "start_time": "2024-06-03T14:35:32.276Z"
   },
   {
    "duration": 47,
    "start_time": "2024-06-04T08:36:15.969Z"
   },
   {
    "duration": 1259,
    "start_time": "2024-06-04T08:36:26.478Z"
   },
   {
    "duration": 232,
    "start_time": "2024-06-04T08:36:28.005Z"
   },
   {
    "duration": 3,
    "start_time": "2024-06-04T08:36:30.267Z"
   },
   {
    "duration": 3,
    "start_time": "2024-06-04T08:36:35.269Z"
   },
   {
    "duration": 3,
    "start_time": "2024-06-04T08:36:53.561Z"
   },
   {
    "duration": 2,
    "start_time": "2024-06-04T08:37:47.466Z"
   },
   {
    "duration": 2,
    "start_time": "2024-06-04T08:37:51.247Z"
   },
   {
    "duration": 2,
    "start_time": "2024-06-04T08:37:54.098Z"
   },
   {
    "duration": 2,
    "start_time": "2024-06-04T08:39:27.218Z"
   },
   {
    "duration": 1,
    "start_time": "2024-06-04T08:39:33.171Z"
   },
   {
    "duration": 2,
    "start_time": "2024-06-04T08:39:38.887Z"
   },
   {
    "duration": 72,
    "start_time": "2024-06-04T09:05:55.943Z"
   },
   {
    "duration": 197,
    "start_time": "2024-06-04T09:07:19.593Z"
   },
   {
    "duration": 60,
    "start_time": "2024-06-04T09:07:44.243Z"
   },
   {
    "duration": 172,
    "start_time": "2024-06-04T09:07:58.882Z"
   },
   {
    "duration": 13,
    "start_time": "2024-06-04T09:08:53.032Z"
   },
   {
    "duration": 182,
    "start_time": "2024-06-04T09:18:56.735Z"
   },
   {
    "duration": 145,
    "start_time": "2024-06-04T09:27:44.313Z"
   },
   {
    "duration": 123,
    "start_time": "2024-06-04T10:30:02.613Z"
   },
   {
    "duration": 63,
    "start_time": "2024-06-04T10:31:04.546Z"
   },
   {
    "duration": 298,
    "start_time": "2024-06-04T10:31:13.464Z"
   },
   {
    "duration": 274,
    "start_time": "2024-06-04T10:31:22.094Z"
   },
   {
    "duration": 165,
    "start_time": "2024-06-04T11:50:50.633Z"
   },
   {
    "duration": 100,
    "start_time": "2024-06-04T11:51:00.747Z"
   },
   {
    "duration": 109,
    "start_time": "2024-06-04T11:52:39.218Z"
   },
   {
    "duration": 121,
    "start_time": "2024-06-04T11:53:14.307Z"
   },
   {
    "duration": 113,
    "start_time": "2024-06-04T11:53:35.520Z"
   },
   {
    "duration": 112,
    "start_time": "2024-06-04T14:01:55.681Z"
   },
   {
    "duration": 125,
    "start_time": "2024-06-04T14:02:37.727Z"
   },
   {
    "duration": 10,
    "start_time": "2024-06-04T14:16:05.340Z"
   },
   {
    "duration": 8,
    "start_time": "2024-06-04T14:16:10.998Z"
   },
   {
    "duration": 9,
    "start_time": "2024-06-04T14:16:13.808Z"
   },
   {
    "duration": 248,
    "start_time": "2024-06-04T14:16:14.880Z"
   },
   {
    "duration": 242,
    "start_time": "2024-06-04T14:16:55.181Z"
   },
   {
    "duration": 6,
    "start_time": "2024-06-04T14:25:16.287Z"
   },
   {
    "duration": 5,
    "start_time": "2024-06-04T14:25:21.777Z"
   },
   {
    "duration": 5,
    "start_time": "2024-06-04T14:25:42.784Z"
   },
   {
    "duration": 5,
    "start_time": "2024-06-04T14:26:12.378Z"
   },
   {
    "duration": 1150,
    "start_time": "2024-06-04T14:33:14.517Z"
   },
   {
    "duration": 1134,
    "start_time": "2024-06-04T14:33:29.066Z"
   },
   {
    "duration": 184,
    "start_time": "2024-06-04T14:33:30.202Z"
   },
   {
    "duration": 3,
    "start_time": "2024-06-04T14:33:30.388Z"
   },
   {
    "duration": 15,
    "start_time": "2024-06-04T14:33:30.392Z"
   },
   {
    "duration": 64,
    "start_time": "2024-06-04T14:33:30.409Z"
   },
   {
    "duration": 44,
    "start_time": "2024-06-04T14:33:30.474Z"
   },
   {
    "duration": 34,
    "start_time": "2024-06-04T14:33:30.520Z"
   },
   {
    "duration": 37,
    "start_time": "2024-06-04T14:33:30.556Z"
   },
   {
    "duration": 29,
    "start_time": "2024-06-04T14:33:30.595Z"
   },
   {
    "duration": 44,
    "start_time": "2024-06-04T14:33:30.627Z"
   },
   {
    "duration": 41,
    "start_time": "2024-06-04T14:33:30.673Z"
   },
   {
    "duration": 36,
    "start_time": "2024-06-04T14:33:30.715Z"
   },
   {
    "duration": 112,
    "start_time": "2024-06-04T14:33:30.753Z"
   },
   {
    "duration": 40,
    "start_time": "2024-06-04T14:33:30.866Z"
   },
   {
    "duration": 31,
    "start_time": "2024-06-04T14:33:30.908Z"
   },
   {
    "duration": 30,
    "start_time": "2024-06-04T14:33:30.940Z"
   },
   {
    "duration": 30,
    "start_time": "2024-06-04T14:33:30.971Z"
   },
   {
    "duration": 37,
    "start_time": "2024-06-04T14:33:31.003Z"
   },
   {
    "duration": 37,
    "start_time": "2024-06-04T14:33:31.042Z"
   },
   {
    "duration": 33,
    "start_time": "2024-06-04T14:33:31.080Z"
   },
   {
    "duration": 27,
    "start_time": "2024-06-04T14:33:31.115Z"
   },
   {
    "duration": 42,
    "start_time": "2024-06-04T14:33:31.143Z"
   },
   {
    "duration": 39,
    "start_time": "2024-06-04T14:33:31.186Z"
   },
   {
    "duration": 48,
    "start_time": "2024-06-04T14:33:31.227Z"
   },
   {
    "duration": 126,
    "start_time": "2024-06-04T14:33:31.276Z"
   },
   {
    "duration": 34,
    "start_time": "2024-06-04T14:33:31.404Z"
   },
   {
    "duration": 92,
    "start_time": "2024-06-04T14:33:31.440Z"
   },
   {
    "duration": 0,
    "start_time": "2024-06-04T14:33:31.535Z"
   },
   {
    "duration": 0,
    "start_time": "2024-06-04T14:33:31.536Z"
   },
   {
    "duration": 1,
    "start_time": "2024-06-04T14:33:31.536Z"
   },
   {
    "duration": 0,
    "start_time": "2024-06-04T14:33:31.538Z"
   },
   {
    "duration": 0,
    "start_time": "2024-06-04T14:33:31.538Z"
   },
   {
    "duration": 0,
    "start_time": "2024-06-04T14:33:31.539Z"
   },
   {
    "duration": 0,
    "start_time": "2024-06-04T14:33:31.540Z"
   },
   {
    "duration": 0,
    "start_time": "2024-06-04T14:33:31.541Z"
   },
   {
    "duration": 0,
    "start_time": "2024-06-04T14:33:31.542Z"
   },
   {
    "duration": 0,
    "start_time": "2024-06-04T14:33:31.542Z"
   },
   {
    "duration": 0,
    "start_time": "2024-06-04T14:33:31.543Z"
   },
   {
    "duration": 0,
    "start_time": "2024-06-04T14:33:31.544Z"
   },
   {
    "duration": 0,
    "start_time": "2024-06-04T14:33:31.545Z"
   },
   {
    "duration": 0,
    "start_time": "2024-06-04T14:33:31.546Z"
   },
   {
    "duration": 0,
    "start_time": "2024-06-04T14:33:31.547Z"
   },
   {
    "duration": 0,
    "start_time": "2024-06-04T14:33:31.548Z"
   },
   {
    "duration": 0,
    "start_time": "2024-06-04T14:33:31.548Z"
   },
   {
    "duration": 0,
    "start_time": "2024-06-04T14:33:31.549Z"
   },
   {
    "duration": 0,
    "start_time": "2024-06-04T14:33:31.550Z"
   },
   {
    "duration": 0,
    "start_time": "2024-06-04T14:33:31.551Z"
   },
   {
    "duration": 0,
    "start_time": "2024-06-04T14:33:31.552Z"
   },
   {
    "duration": 0,
    "start_time": "2024-06-04T14:33:31.553Z"
   },
   {
    "duration": 0,
    "start_time": "2024-06-04T14:33:31.553Z"
   },
   {
    "duration": 0,
    "start_time": "2024-06-04T14:33:31.554Z"
   },
   {
    "duration": 0,
    "start_time": "2024-06-04T14:33:31.555Z"
   },
   {
    "duration": 0,
    "start_time": "2024-06-04T14:33:31.556Z"
   },
   {
    "duration": 0,
    "start_time": "2024-06-04T14:33:31.557Z"
   },
   {
    "duration": 0,
    "start_time": "2024-06-04T14:33:31.558Z"
   },
   {
    "duration": 0,
    "start_time": "2024-06-04T14:33:31.559Z"
   },
   {
    "duration": 0,
    "start_time": "2024-06-04T14:33:31.560Z"
   },
   {
    "duration": 0,
    "start_time": "2024-06-04T14:33:31.561Z"
   },
   {
    "duration": 0,
    "start_time": "2024-06-04T14:33:31.562Z"
   },
   {
    "duration": 0,
    "start_time": "2024-06-04T14:33:31.563Z"
   },
   {
    "duration": 0,
    "start_time": "2024-06-04T14:33:31.564Z"
   },
   {
    "duration": 0,
    "start_time": "2024-06-04T14:33:31.564Z"
   },
   {
    "duration": 0,
    "start_time": "2024-06-04T14:33:31.565Z"
   },
   {
    "duration": 0,
    "start_time": "2024-06-04T14:33:31.566Z"
   },
   {
    "duration": 0,
    "start_time": "2024-06-04T14:33:31.567Z"
   },
   {
    "duration": 0,
    "start_time": "2024-06-04T14:33:31.568Z"
   },
   {
    "duration": 0,
    "start_time": "2024-06-04T14:33:31.569Z"
   },
   {
    "duration": 0,
    "start_time": "2024-06-04T14:33:31.570Z"
   },
   {
    "duration": 0,
    "start_time": "2024-06-04T14:33:31.571Z"
   },
   {
    "duration": 0,
    "start_time": "2024-06-04T14:33:31.572Z"
   },
   {
    "duration": 0,
    "start_time": "2024-06-04T14:33:31.573Z"
   },
   {
    "duration": 0,
    "start_time": "2024-06-04T14:33:31.574Z"
   },
   {
    "duration": 0,
    "start_time": "2024-06-04T14:33:31.575Z"
   },
   {
    "duration": 0,
    "start_time": "2024-06-04T14:33:31.576Z"
   },
   {
    "duration": 0,
    "start_time": "2024-06-04T14:33:31.577Z"
   },
   {
    "duration": 0,
    "start_time": "2024-06-04T14:33:31.578Z"
   },
   {
    "duration": 0,
    "start_time": "2024-06-04T14:33:31.579Z"
   },
   {
    "duration": 0,
    "start_time": "2024-06-04T14:33:31.580Z"
   },
   {
    "duration": 0,
    "start_time": "2024-06-04T14:33:31.581Z"
   },
   {
    "duration": 0,
    "start_time": "2024-06-04T14:33:31.582Z"
   },
   {
    "duration": 0,
    "start_time": "2024-06-04T14:33:31.583Z"
   },
   {
    "duration": 0,
    "start_time": "2024-06-04T14:33:31.583Z"
   },
   {
    "duration": 0,
    "start_time": "2024-06-04T14:33:31.584Z"
   },
   {
    "duration": 1,
    "start_time": "2024-06-04T14:33:31.644Z"
   },
   {
    "duration": 202,
    "start_time": "2024-06-04T14:33:44.850Z"
   },
   {
    "duration": 3,
    "start_time": "2024-06-04T14:33:50.209Z"
   },
   {
    "duration": 97,
    "start_time": "2024-06-04T14:33:50.508Z"
   },
   {
    "duration": 2,
    "start_time": "2024-06-04T14:33:50.881Z"
   },
   {
    "duration": 3,
    "start_time": "2024-06-04T14:33:51.263Z"
   },
   {
    "duration": 12,
    "start_time": "2024-06-04T14:33:51.426Z"
   },
   {
    "duration": 13,
    "start_time": "2024-06-04T14:33:51.608Z"
   },
   {
    "duration": 12,
    "start_time": "2024-06-04T14:33:51.772Z"
   },
   {
    "duration": 2,
    "start_time": "2024-06-04T14:33:52.328Z"
   },
   {
    "duration": 3,
    "start_time": "2024-06-04T14:33:52.509Z"
   },
   {
    "duration": 2,
    "start_time": "2024-06-04T14:33:52.713Z"
   },
   {
    "duration": 2,
    "start_time": "2024-06-04T14:33:52.872Z"
   },
   {
    "duration": 3,
    "start_time": "2024-06-04T14:33:53.068Z"
   },
   {
    "duration": 2,
    "start_time": "2024-06-04T14:33:53.213Z"
   },
   {
    "duration": 7,
    "start_time": "2024-06-04T14:33:54.403Z"
   },
   {
    "duration": 5,
    "start_time": "2024-06-04T14:33:55.121Z"
   },
   {
    "duration": 4,
    "start_time": "2024-06-04T14:33:55.528Z"
   },
   {
    "duration": 5,
    "start_time": "2024-06-04T14:33:55.668Z"
   },
   {
    "duration": 6,
    "start_time": "2024-06-04T14:33:56.616Z"
   },
   {
    "duration": 7,
    "start_time": "2024-06-04T14:33:56.836Z"
   },
   {
    "duration": 6,
    "start_time": "2024-06-04T14:33:57.077Z"
   },
   {
    "duration": 6,
    "start_time": "2024-06-04T14:33:57.443Z"
   },
   {
    "duration": 8,
    "start_time": "2024-06-04T14:33:57.609Z"
   },
   {
    "duration": 4,
    "start_time": "2024-06-04T14:33:57.824Z"
   },
   {
    "duration": 5,
    "start_time": "2024-06-04T14:33:58.194Z"
   },
   {
    "duration": 6,
    "start_time": "2024-06-04T14:33:58.581Z"
   },
   {
    "duration": 11,
    "start_time": "2024-06-04T14:33:59.884Z"
   },
   {
    "duration": 65,
    "start_time": "2024-06-04T14:34:00.594Z"
   },
   {
    "duration": 122,
    "start_time": "2024-06-04T14:34:00.786Z"
   },
   {
    "duration": 7,
    "start_time": "2024-06-04T14:34:02.733Z"
   },
   {
    "duration": 114,
    "start_time": "2024-06-04T14:34:03.260Z"
   },
   {
    "duration": 264,
    "start_time": "2024-06-04T14:34:04.826Z"
   },
   {
    "duration": 6,
    "start_time": "2024-06-04T14:34:05.562Z"
   },
   {
    "duration": 5,
    "start_time": "2024-06-04T14:34:05.932Z"
   },
   {
    "duration": 97,
    "start_time": "2024-06-04T14:34:06.326Z"
   },
   {
    "duration": 7,
    "start_time": "2024-06-04T14:34:06.815Z"
   },
   {
    "duration": 8,
    "start_time": "2024-06-04T14:34:07.829Z"
   },
   {
    "duration": 116,
    "start_time": "2024-06-04T14:34:08.066Z"
   },
   {
    "duration": 262,
    "start_time": "2024-06-04T14:34:09.440Z"
   },
   {
    "duration": 10,
    "start_time": "2024-06-04T14:34:11.836Z"
   },
   {
    "duration": 309,
    "start_time": "2024-06-04T14:34:13.380Z"
   },
   {
    "duration": 8,
    "start_time": "2024-06-04T14:34:16.009Z"
   },
   {
    "duration": 125,
    "start_time": "2024-06-04T14:34:17.085Z"
   },
   {
    "duration": 103,
    "start_time": "2024-06-04T14:34:17.962Z"
   },
   {
    "duration": 105,
    "start_time": "2024-06-04T14:34:20.489Z"
   },
   {
    "duration": 136,
    "start_time": "2024-06-04T14:36:07.490Z"
   },
   {
    "duration": 248,
    "start_time": "2024-06-04T14:36:50.308Z"
   },
   {
    "duration": 10,
    "start_time": "2024-06-04T15:18:25.696Z"
   },
   {
    "duration": 9,
    "start_time": "2024-06-04T15:20:10.994Z"
   },
   {
    "duration": 10,
    "start_time": "2024-06-04T15:50:21.261Z"
   },
   {
    "duration": 11,
    "start_time": "2024-06-04T15:50:29.654Z"
   },
   {
    "duration": 9,
    "start_time": "2024-06-04T15:50:31.193Z"
   },
   {
    "duration": 4,
    "start_time": "2024-06-04T15:50:32.003Z"
   },
   {
    "duration": 14,
    "start_time": "2024-06-04T15:50:32.450Z"
   },
   {
    "duration": 11,
    "start_time": "2024-06-04T15:50:33.974Z"
   },
   {
    "duration": 7,
    "start_time": "2024-06-04T15:50:36.960Z"
   },
   {
    "duration": 11,
    "start_time": "2024-06-04T15:50:37.560Z"
   },
   {
    "duration": 6,
    "start_time": "2024-06-04T15:50:38.156Z"
   },
   {
    "duration": 11,
    "start_time": "2024-06-04T15:50:38.571Z"
   },
   {
    "duration": 11,
    "start_time": "2024-06-04T15:50:39.797Z"
   },
   {
    "duration": 12,
    "start_time": "2024-06-04T15:50:40.452Z"
   },
   {
    "duration": 11,
    "start_time": "2024-06-04T15:50:45.199Z"
   },
   {
    "duration": 8,
    "start_time": "2024-06-04T15:50:46.442Z"
   },
   {
    "duration": 8,
    "start_time": "2024-06-04T15:50:47.107Z"
   },
   {
    "duration": 10,
    "start_time": "2024-06-04T15:50:47.684Z"
   },
   {
    "duration": 8,
    "start_time": "2024-06-04T15:51:06.164Z"
   },
   {
    "duration": 8,
    "start_time": "2024-06-04T15:51:16.019Z"
   },
   {
    "duration": 8,
    "start_time": "2024-06-04T15:51:21.581Z"
   },
   {
    "duration": 8,
    "start_time": "2024-06-04T15:51:26.259Z"
   },
   {
    "duration": 10,
    "start_time": "2024-06-04T15:53:42.833Z"
   },
   {
    "duration": 8,
    "start_time": "2024-06-04T15:53:46.275Z"
   },
   {
    "duration": 7,
    "start_time": "2024-06-04T15:53:49.832Z"
   },
   {
    "duration": 9,
    "start_time": "2024-06-04T15:53:52.435Z"
   },
   {
    "duration": 8,
    "start_time": "2024-06-04T15:53:55.072Z"
   },
   {
    "duration": 3,
    "start_time": "2024-06-04T16:17:18.803Z"
   },
   {
    "duration": 8,
    "start_time": "2024-06-04T16:28:05.638Z"
   },
   {
    "duration": 36,
    "start_time": "2024-06-04T16:28:08.689Z"
   },
   {
    "duration": 13,
    "start_time": "2024-06-04T16:28:09.146Z"
   },
   {
    "duration": 3,
    "start_time": "2024-06-04T16:40:19.634Z"
   },
   {
    "duration": 11,
    "start_time": "2024-06-04T16:40:20.015Z"
   },
   {
    "duration": 5,
    "start_time": "2024-06-04T16:40:23.309Z"
   },
   {
    "duration": 15,
    "start_time": "2024-06-04T16:40:26.249Z"
   },
   {
    "duration": 7,
    "start_time": "2024-06-04T16:40:28.705Z"
   },
   {
    "duration": 5,
    "start_time": "2024-06-04T16:40:35.577Z"
   },
   {
    "duration": 2,
    "start_time": "2024-06-04T16:41:26.101Z"
   },
   {
    "duration": 33,
    "start_time": "2024-06-04T16:51:13.805Z"
   },
   {
    "duration": 11,
    "start_time": "2024-06-04T16:51:58.742Z"
   },
   {
    "duration": 10,
    "start_time": "2024-06-04T16:52:12.180Z"
   },
   {
    "duration": 9,
    "start_time": "2024-06-04T16:52:50.098Z"
   },
   {
    "duration": 10,
    "start_time": "2024-06-04T17:15:00.573Z"
   },
   {
    "duration": 3,
    "start_time": "2024-06-04T17:15:19.269Z"
   },
   {
    "duration": 37,
    "start_time": "2024-06-04T17:15:26.546Z"
   },
   {
    "duration": 11,
    "start_time": "2024-06-04T17:15:26.953Z"
   },
   {
    "duration": 17,
    "start_time": "2024-06-04T17:15:31.985Z"
   },
   {
    "duration": 4,
    "start_time": "2024-06-04T17:15:35.384Z"
   },
   {
    "duration": 3,
    "start_time": "2024-06-04T17:15:36.039Z"
   },
   {
    "duration": 2,
    "start_time": "2024-06-04T17:15:38.505Z"
   },
   {
    "duration": 4,
    "start_time": "2024-06-04T17:15:41.658Z"
   },
   {
    "duration": 9,
    "start_time": "2024-06-04T17:15:43.703Z"
   },
   {
    "duration": 3,
    "start_time": "2024-06-04T17:15:46.394Z"
   },
   {
    "duration": 151,
    "start_time": "2024-06-04T17:15:48.627Z"
   },
   {
    "duration": 11,
    "start_time": "2024-06-04T17:15:49.166Z"
   },
   {
    "duration": 10,
    "start_time": "2024-06-04T17:15:59.552Z"
   },
   {
    "duration": 149,
    "start_time": "2024-06-04T17:16:18.238Z"
   },
   {
    "duration": 13,
    "start_time": "2024-06-04T17:16:18.729Z"
   },
   {
    "duration": 10,
    "start_time": "2024-06-04T17:16:20.959Z"
   },
   {
    "duration": 1097,
    "start_time": "2024-06-04T17:18:24.089Z"
   },
   {
    "duration": 102,
    "start_time": "2024-06-04T17:18:25.188Z"
   },
   {
    "duration": 3,
    "start_time": "2024-06-04T17:18:25.292Z"
   },
   {
    "duration": 23,
    "start_time": "2024-06-04T17:18:25.296Z"
   },
   {
    "duration": 81,
    "start_time": "2024-06-04T17:18:25.320Z"
   },
   {
    "duration": 37,
    "start_time": "2024-06-04T17:18:25.403Z"
   },
   {
    "duration": 27,
    "start_time": "2024-06-04T17:18:25.441Z"
   },
   {
    "duration": 12,
    "start_time": "2024-06-04T17:18:25.470Z"
   },
   {
    "duration": 71,
    "start_time": "2024-06-04T17:18:25.483Z"
   },
   {
    "duration": 7,
    "start_time": "2024-06-04T17:18:25.556Z"
   },
   {
    "duration": 5,
    "start_time": "2024-06-04T17:18:25.564Z"
   },
   {
    "duration": 4,
    "start_time": "2024-06-04T17:18:25.570Z"
   },
   {
    "duration": 8,
    "start_time": "2024-06-04T17:18:25.575Z"
   },
   {
    "duration": 20,
    "start_time": "2024-06-04T17:18:25.585Z"
   },
   {
    "duration": 11,
    "start_time": "2024-06-04T17:18:25.607Z"
   },
   {
    "duration": 6,
    "start_time": "2024-06-04T17:18:25.619Z"
   },
   {
    "duration": 5,
    "start_time": "2024-06-04T17:18:25.626Z"
   },
   {
    "duration": 12,
    "start_time": "2024-06-04T17:18:25.633Z"
   },
   {
    "duration": 7,
    "start_time": "2024-06-04T17:18:25.646Z"
   },
   {
    "duration": 5,
    "start_time": "2024-06-04T17:18:25.654Z"
   },
   {
    "duration": 14,
    "start_time": "2024-06-04T17:18:25.660Z"
   },
   {
    "duration": 39,
    "start_time": "2024-06-04T17:18:25.676Z"
   },
   {
    "duration": 9,
    "start_time": "2024-06-04T17:18:25.717Z"
   },
   {
    "duration": 7,
    "start_time": "2024-06-04T17:18:25.728Z"
   },
   {
    "duration": 26,
    "start_time": "2024-06-04T17:18:25.736Z"
   },
   {
    "duration": 43,
    "start_time": "2024-06-04T17:18:25.764Z"
   },
   {
    "duration": 230,
    "start_time": "2024-06-04T17:18:25.809Z"
   },
   {
    "duration": 0,
    "start_time": "2024-06-04T17:18:26.043Z"
   },
   {
    "duration": 0,
    "start_time": "2024-06-04T17:18:26.044Z"
   },
   {
    "duration": 0,
    "start_time": "2024-06-04T17:18:26.046Z"
   },
   {
    "duration": 0,
    "start_time": "2024-06-04T17:18:26.047Z"
   },
   {
    "duration": 0,
    "start_time": "2024-06-04T17:18:26.048Z"
   },
   {
    "duration": 0,
    "start_time": "2024-06-04T17:18:26.049Z"
   },
   {
    "duration": 0,
    "start_time": "2024-06-04T17:18:26.051Z"
   },
   {
    "duration": 0,
    "start_time": "2024-06-04T17:18:26.052Z"
   },
   {
    "duration": 0,
    "start_time": "2024-06-04T17:18:26.054Z"
   },
   {
    "duration": 0,
    "start_time": "2024-06-04T17:18:26.055Z"
   },
   {
    "duration": 0,
    "start_time": "2024-06-04T17:18:26.056Z"
   },
   {
    "duration": 0,
    "start_time": "2024-06-04T17:18:26.058Z"
   },
   {
    "duration": 0,
    "start_time": "2024-06-04T17:18:26.059Z"
   },
   {
    "duration": 0,
    "start_time": "2024-06-04T17:18:26.060Z"
   },
   {
    "duration": 0,
    "start_time": "2024-06-04T17:18:26.062Z"
   },
   {
    "duration": 0,
    "start_time": "2024-06-04T17:18:26.063Z"
   },
   {
    "duration": 0,
    "start_time": "2024-06-04T17:18:26.064Z"
   },
   {
    "duration": 0,
    "start_time": "2024-06-04T17:18:26.066Z"
   },
   {
    "duration": 0,
    "start_time": "2024-06-04T17:18:26.067Z"
   },
   {
    "duration": 0,
    "start_time": "2024-06-04T17:18:26.067Z"
   },
   {
    "duration": 0,
    "start_time": "2024-06-04T17:18:26.069Z"
   },
   {
    "duration": 0,
    "start_time": "2024-06-04T17:18:26.070Z"
   },
   {
    "duration": 0,
    "start_time": "2024-06-04T17:18:26.071Z"
   },
   {
    "duration": 0,
    "start_time": "2024-06-04T17:18:26.072Z"
   },
   {
    "duration": 0,
    "start_time": "2024-06-04T17:18:26.073Z"
   },
   {
    "duration": 0,
    "start_time": "2024-06-04T17:18:26.074Z"
   },
   {
    "duration": 0,
    "start_time": "2024-06-04T17:18:26.075Z"
   },
   {
    "duration": 0,
    "start_time": "2024-06-04T17:18:26.076Z"
   },
   {
    "duration": 0,
    "start_time": "2024-06-04T17:18:26.077Z"
   },
   {
    "duration": 0,
    "start_time": "2024-06-04T17:18:26.078Z"
   },
   {
    "duration": 0,
    "start_time": "2024-06-04T17:18:26.079Z"
   },
   {
    "duration": 0,
    "start_time": "2024-06-04T17:18:26.080Z"
   },
   {
    "duration": 0,
    "start_time": "2024-06-04T17:18:26.081Z"
   },
   {
    "duration": 0,
    "start_time": "2024-06-04T17:18:26.082Z"
   },
   {
    "duration": 0,
    "start_time": "2024-06-04T17:18:26.083Z"
   },
   {
    "duration": 0,
    "start_time": "2024-06-04T17:18:26.083Z"
   },
   {
    "duration": 0,
    "start_time": "2024-06-04T17:18:26.084Z"
   },
   {
    "duration": 0,
    "start_time": "2024-06-04T17:18:26.085Z"
   },
   {
    "duration": 0,
    "start_time": "2024-06-04T17:18:26.146Z"
   },
   {
    "duration": 0,
    "start_time": "2024-06-04T17:18:26.146Z"
   },
   {
    "duration": 0,
    "start_time": "2024-06-04T17:18:26.148Z"
   },
   {
    "duration": 0,
    "start_time": "2024-06-04T17:18:26.149Z"
   },
   {
    "duration": 0,
    "start_time": "2024-06-04T17:18:26.150Z"
   },
   {
    "duration": 0,
    "start_time": "2024-06-04T17:18:26.151Z"
   },
   {
    "duration": 0,
    "start_time": "2024-06-04T17:18:26.152Z"
   },
   {
    "duration": 0,
    "start_time": "2024-06-04T17:18:26.153Z"
   },
   {
    "duration": 0,
    "start_time": "2024-06-04T17:18:26.154Z"
   },
   {
    "duration": 0,
    "start_time": "2024-06-04T17:18:26.155Z"
   },
   {
    "duration": 0,
    "start_time": "2024-06-04T17:18:26.156Z"
   },
   {
    "duration": 0,
    "start_time": "2024-06-04T17:18:26.157Z"
   },
   {
    "duration": 0,
    "start_time": "2024-06-04T17:18:26.158Z"
   },
   {
    "duration": 0,
    "start_time": "2024-06-04T17:18:26.159Z"
   },
   {
    "duration": 0,
    "start_time": "2024-06-04T17:18:26.161Z"
   },
   {
    "duration": 0,
    "start_time": "2024-06-04T17:18:26.162Z"
   },
   {
    "duration": 0,
    "start_time": "2024-06-04T17:18:26.163Z"
   },
   {
    "duration": 0,
    "start_time": "2024-06-04T17:18:26.164Z"
   },
   {
    "duration": 0,
    "start_time": "2024-06-04T17:18:26.165Z"
   },
   {
    "duration": 0,
    "start_time": "2024-06-04T17:18:26.166Z"
   },
   {
    "duration": 0,
    "start_time": "2024-06-04T17:18:26.167Z"
   },
   {
    "duration": 0,
    "start_time": "2024-06-04T17:18:26.168Z"
   },
   {
    "duration": 0,
    "start_time": "2024-06-04T17:18:26.169Z"
   },
   {
    "duration": 0,
    "start_time": "2024-06-04T17:18:26.170Z"
   },
   {
    "duration": 0,
    "start_time": "2024-06-04T17:18:26.171Z"
   },
   {
    "duration": 0,
    "start_time": "2024-06-04T17:18:26.172Z"
   },
   {
    "duration": 3,
    "start_time": "2024-06-04T17:19:23.539Z"
   },
   {
    "duration": 92,
    "start_time": "2024-06-04T17:19:24.102Z"
   },
   {
    "duration": 2,
    "start_time": "2024-06-04T17:19:24.357Z"
   },
   {
    "duration": 3,
    "start_time": "2024-06-04T17:19:24.438Z"
   },
   {
    "duration": 12,
    "start_time": "2024-06-04T17:19:24.529Z"
   },
   {
    "duration": 13,
    "start_time": "2024-06-04T17:19:24.613Z"
   },
   {
    "duration": 11,
    "start_time": "2024-06-04T17:19:24.690Z"
   },
   {
    "duration": 3,
    "start_time": "2024-06-04T17:19:24.950Z"
   },
   {
    "duration": 2,
    "start_time": "2024-06-04T17:19:25.029Z"
   },
   {
    "duration": 3,
    "start_time": "2024-06-04T17:19:25.106Z"
   },
   {
    "duration": 3,
    "start_time": "2024-06-04T17:19:25.199Z"
   },
   {
    "duration": 3,
    "start_time": "2024-06-04T17:19:25.274Z"
   },
   {
    "duration": 3,
    "start_time": "2024-06-04T17:19:25.357Z"
   },
   {
    "duration": 8,
    "start_time": "2024-06-04T17:19:25.944Z"
   },
   {
    "duration": 5,
    "start_time": "2024-06-04T17:19:26.277Z"
   },
   {
    "duration": 5,
    "start_time": "2024-06-04T17:19:26.442Z"
   },
   {
    "duration": 4,
    "start_time": "2024-06-04T17:19:26.534Z"
   },
   {
    "duration": 6,
    "start_time": "2024-06-04T17:19:26.951Z"
   },
   {
    "duration": 5,
    "start_time": "2024-06-04T17:19:27.025Z"
   },
   {
    "duration": 5,
    "start_time": "2024-06-04T17:19:27.120Z"
   },
   {
    "duration": 6,
    "start_time": "2024-06-04T17:19:27.295Z"
   },
   {
    "duration": 8,
    "start_time": "2024-06-04T17:19:27.360Z"
   },
   {
    "duration": 5,
    "start_time": "2024-06-04T17:19:27.449Z"
   },
   {
    "duration": 5,
    "start_time": "2024-06-04T17:19:27.612Z"
   },
   {
    "duration": 7,
    "start_time": "2024-06-04T17:19:27.779Z"
   },
   {
    "duration": 12,
    "start_time": "2024-06-04T17:19:28.379Z"
   },
   {
    "duration": 64,
    "start_time": "2024-06-04T17:19:28.700Z"
   },
   {
    "duration": 141,
    "start_time": "2024-06-04T17:19:28.795Z"
   },
   {
    "duration": 6,
    "start_time": "2024-06-04T17:19:29.456Z"
   },
   {
    "duration": 127,
    "start_time": "2024-06-04T17:19:29.623Z"
   },
   {
    "duration": 297,
    "start_time": "2024-06-04T17:19:30.127Z"
   },
   {
    "duration": 5,
    "start_time": "2024-06-04T17:19:30.458Z"
   },
   {
    "duration": 5,
    "start_time": "2024-06-04T17:19:30.698Z"
   },
   {
    "duration": 103,
    "start_time": "2024-06-04T17:19:30.805Z"
   },
   {
    "duration": 8,
    "start_time": "2024-06-04T17:19:31.042Z"
   },
   {
    "duration": 8,
    "start_time": "2024-06-04T17:19:31.387Z"
   },
   {
    "duration": 162,
    "start_time": "2024-06-04T17:19:31.463Z"
   },
   {
    "duration": 270,
    "start_time": "2024-06-04T17:19:31.630Z"
   },
   {
    "duration": 9,
    "start_time": "2024-06-04T17:19:31.969Z"
   },
   {
    "duration": 332,
    "start_time": "2024-06-04T17:19:32.144Z"
   },
   {
    "duration": 8,
    "start_time": "2024-06-04T17:19:32.478Z"
   },
   {
    "duration": 130,
    "start_time": "2024-06-04T17:19:32.633Z"
   },
   {
    "duration": 261,
    "start_time": "2024-06-04T17:19:32.799Z"
   },
   {
    "duration": 155,
    "start_time": "2024-06-04T17:19:33.061Z"
   },
   {
    "duration": 10,
    "start_time": "2024-06-04T17:19:33.825Z"
   },
   {
    "duration": 10,
    "start_time": "2024-06-04T17:19:34.133Z"
   },
   {
    "duration": 4,
    "start_time": "2024-06-04T17:19:34.302Z"
   },
   {
    "duration": 14,
    "start_time": "2024-06-04T17:19:34.382Z"
   },
   {
    "duration": 11,
    "start_time": "2024-06-04T17:19:34.495Z"
   },
   {
    "duration": 7,
    "start_time": "2024-06-04T17:19:35.029Z"
   },
   {
    "duration": 12,
    "start_time": "2024-06-04T17:19:35.049Z"
   },
   {
    "duration": 6,
    "start_time": "2024-06-04T17:19:35.135Z"
   },
   {
    "duration": 12,
    "start_time": "2024-06-04T17:19:35.216Z"
   },
   {
    "duration": 16,
    "start_time": "2024-06-04T17:19:35.394Z"
   },
   {
    "duration": 12,
    "start_time": "2024-06-04T17:19:35.467Z"
   },
   {
    "duration": 9,
    "start_time": "2024-06-04T17:19:36.002Z"
   },
   {
    "duration": 9,
    "start_time": "2024-06-04T17:19:36.083Z"
   },
   {
    "duration": 9,
    "start_time": "2024-06-04T17:19:36.134Z"
   },
   {
    "duration": 8,
    "start_time": "2024-06-04T17:19:36.215Z"
   },
   {
    "duration": 480,
    "start_time": "2024-06-04T17:19:36.595Z"
   },
   {
    "duration": 519,
    "start_time": "2024-06-04T17:19:37.077Z"
   },
   {
    "duration": 36,
    "start_time": "2024-06-04T17:19:37.598Z"
   },
   {
    "duration": 14,
    "start_time": "2024-06-04T17:19:37.715Z"
   },
   {
    "duration": 11,
    "start_time": "2024-06-04T17:19:39.921Z"
   },
   {
    "duration": 4,
    "start_time": "2024-06-04T17:19:44.516Z"
   },
   {
    "duration": 3,
    "start_time": "2024-06-04T17:19:45.040Z"
   },
   {
    "duration": 2,
    "start_time": "2024-06-04T17:19:46.036Z"
   },
   {
    "duration": 5,
    "start_time": "2024-06-04T17:19:49.499Z"
   },
   {
    "duration": 9,
    "start_time": "2024-06-04T17:19:50.546Z"
   },
   {
    "duration": 3,
    "start_time": "2024-06-04T17:19:51.643Z"
   },
   {
    "duration": 246,
    "start_time": "2024-06-04T17:19:52.495Z"
   },
   {
    "duration": 10,
    "start_time": "2024-06-04T17:19:52.801Z"
   },
   {
    "duration": 10,
    "start_time": "2024-06-04T17:19:54.303Z"
   },
   {
    "duration": 2,
    "start_time": "2024-06-04T17:19:55.041Z"
   },
   {
    "duration": 8,
    "start_time": "2024-06-04T17:19:56.823Z"
   },
   {
    "duration": 4,
    "start_time": "2024-06-04T17:19:57.895Z"
   },
   {
    "duration": 6,
    "start_time": "2024-06-04T17:20:26.892Z"
   },
   {
    "duration": 4,
    "start_time": "2024-06-04T17:20:28.205Z"
   },
   {
    "duration": 3,
    "start_time": "2024-06-04T17:20:29.160Z"
   },
   {
    "duration": 4,
    "start_time": "2024-06-04T17:20:29.917Z"
   },
   {
    "duration": 5,
    "start_time": "2024-06-04T17:20:32.766Z"
   },
   {
    "duration": 4,
    "start_time": "2024-06-04T17:21:45.664Z"
   },
   {
    "duration": 4,
    "start_time": "2024-06-04T17:41:54.386Z"
   },
   {
    "duration": 6,
    "start_time": "2024-06-04T17:42:24.585Z"
   },
   {
    "duration": 4,
    "start_time": "2024-06-04T17:43:10.184Z"
   },
   {
    "duration": 7,
    "start_time": "2024-06-04T17:43:48.122Z"
   },
   {
    "duration": 7,
    "start_time": "2024-06-04T17:48:57.852Z"
   },
   {
    "duration": 5,
    "start_time": "2024-06-04T17:48:59.137Z"
   },
   {
    "duration": 9,
    "start_time": "2024-06-04T17:49:01.354Z"
   },
   {
    "duration": 2,
    "start_time": "2024-06-04T18:08:37.433Z"
   },
   {
    "duration": 1351,
    "start_time": "2024-06-04T18:08:39.618Z"
   },
   {
    "duration": 1438,
    "start_time": "2024-06-04T18:10:48.279Z"
   },
   {
    "duration": 1477,
    "start_time": "2024-06-04T18:11:48.642Z"
   },
   {
    "duration": 1513,
    "start_time": "2024-06-04T18:14:01.339Z"
   },
   {
    "duration": 3,
    "start_time": "2024-06-04T18:30:17.069Z"
   },
   {
    "duration": 1523,
    "start_time": "2024-06-04T18:30:17.551Z"
   },
   {
    "duration": 1219,
    "start_time": "2024-06-05T10:33:57.342Z"
   },
   {
    "duration": 331,
    "start_time": "2024-06-05T10:33:58.563Z"
   },
   {
    "duration": 3,
    "start_time": "2024-06-05T10:33:58.895Z"
   },
   {
    "duration": 3,
    "start_time": "2024-06-05T10:33:58.900Z"
   },
   {
    "duration": 15,
    "start_time": "2024-06-05T10:33:58.904Z"
   },
   {
    "duration": 11,
    "start_time": "2024-06-05T10:33:58.920Z"
   },
   {
    "duration": 9,
    "start_time": "2024-06-05T10:33:58.932Z"
   },
   {
    "duration": 8,
    "start_time": "2024-06-05T10:33:58.942Z"
   },
   {
    "duration": 4,
    "start_time": "2024-06-05T10:33:58.952Z"
   },
   {
    "duration": 3,
    "start_time": "2024-06-05T10:33:58.958Z"
   },
   {
    "duration": 9,
    "start_time": "2024-06-05T10:33:58.962Z"
   },
   {
    "duration": 5,
    "start_time": "2024-06-05T10:33:58.972Z"
   },
   {
    "duration": 4,
    "start_time": "2024-06-05T10:33:58.978Z"
   },
   {
    "duration": 8,
    "start_time": "2024-06-05T10:33:58.983Z"
   },
   {
    "duration": 3,
    "start_time": "2024-06-05T10:33:58.992Z"
   },
   {
    "duration": 11,
    "start_time": "2024-06-05T10:33:58.996Z"
   },
   {
    "duration": 13,
    "start_time": "2024-06-05T10:33:59.008Z"
   },
   {
    "duration": 9,
    "start_time": "2024-06-05T10:33:59.022Z"
   },
   {
    "duration": 5,
    "start_time": "2024-06-05T10:33:59.032Z"
   },
   {
    "duration": 5,
    "start_time": "2024-06-05T10:33:59.038Z"
   },
   {
    "duration": 11,
    "start_time": "2024-06-05T10:33:59.044Z"
   },
   {
    "duration": 8,
    "start_time": "2024-06-05T10:33:59.056Z"
   },
   {
    "duration": 6,
    "start_time": "2024-06-05T10:33:59.065Z"
   },
   {
    "duration": 9,
    "start_time": "2024-06-05T10:33:59.072Z"
   },
   {
    "duration": 4,
    "start_time": "2024-06-05T10:33:59.083Z"
   },
   {
    "duration": 39,
    "start_time": "2024-06-05T10:33:59.088Z"
   },
   {
    "duration": 44,
    "start_time": "2024-06-05T10:33:59.128Z"
   },
   {
    "duration": 1,
    "start_time": "2024-06-05T10:33:59.174Z"
   },
   {
    "duration": 0,
    "start_time": "2024-06-05T10:33:59.176Z"
   },
   {
    "duration": 0,
    "start_time": "2024-06-05T10:33:59.177Z"
   },
   {
    "duration": 0,
    "start_time": "2024-06-05T10:33:59.178Z"
   },
   {
    "duration": 0,
    "start_time": "2024-06-05T10:33:59.179Z"
   },
   {
    "duration": 0,
    "start_time": "2024-06-05T10:33:59.180Z"
   },
   {
    "duration": 0,
    "start_time": "2024-06-05T10:33:59.181Z"
   },
   {
    "duration": 0,
    "start_time": "2024-06-05T10:33:59.182Z"
   },
   {
    "duration": 0,
    "start_time": "2024-06-05T10:33:59.182Z"
   },
   {
    "duration": 0,
    "start_time": "2024-06-05T10:33:59.184Z"
   },
   {
    "duration": 0,
    "start_time": "2024-06-05T10:33:59.185Z"
   },
   {
    "duration": 0,
    "start_time": "2024-06-05T10:33:59.185Z"
   },
   {
    "duration": 0,
    "start_time": "2024-06-05T10:33:59.187Z"
   },
   {
    "duration": 0,
    "start_time": "2024-06-05T10:33:59.188Z"
   },
   {
    "duration": 0,
    "start_time": "2024-06-05T10:33:59.188Z"
   },
   {
    "duration": 0,
    "start_time": "2024-06-05T10:33:59.189Z"
   },
   {
    "duration": 0,
    "start_time": "2024-06-05T10:33:59.190Z"
   },
   {
    "duration": 0,
    "start_time": "2024-06-05T10:33:59.191Z"
   },
   {
    "duration": 0,
    "start_time": "2024-06-05T10:33:59.192Z"
   },
   {
    "duration": 0,
    "start_time": "2024-06-05T10:33:59.193Z"
   },
   {
    "duration": 0,
    "start_time": "2024-06-05T10:33:59.194Z"
   },
   {
    "duration": 0,
    "start_time": "2024-06-05T10:33:59.195Z"
   },
   {
    "duration": 0,
    "start_time": "2024-06-05T10:33:59.196Z"
   },
   {
    "duration": 0,
    "start_time": "2024-06-05T10:33:59.197Z"
   },
   {
    "duration": 0,
    "start_time": "2024-06-05T10:33:59.198Z"
   },
   {
    "duration": 0,
    "start_time": "2024-06-05T10:33:59.198Z"
   },
   {
    "duration": 0,
    "start_time": "2024-06-05T10:33:59.199Z"
   },
   {
    "duration": 0,
    "start_time": "2024-06-05T10:33:59.200Z"
   },
   {
    "duration": 0,
    "start_time": "2024-06-05T10:33:59.201Z"
   },
   {
    "duration": 0,
    "start_time": "2024-06-05T10:33:59.202Z"
   },
   {
    "duration": 0,
    "start_time": "2024-06-05T10:33:59.220Z"
   },
   {
    "duration": 0,
    "start_time": "2024-06-05T10:33:59.221Z"
   },
   {
    "duration": 0,
    "start_time": "2024-06-05T10:33:59.222Z"
   },
   {
    "duration": 0,
    "start_time": "2024-06-05T10:33:59.223Z"
   },
   {
    "duration": 0,
    "start_time": "2024-06-05T10:33:59.223Z"
   },
   {
    "duration": 0,
    "start_time": "2024-06-05T10:33:59.224Z"
   },
   {
    "duration": 0,
    "start_time": "2024-06-05T10:33:59.225Z"
   },
   {
    "duration": 0,
    "start_time": "2024-06-05T10:33:59.226Z"
   },
   {
    "duration": 0,
    "start_time": "2024-06-05T10:33:59.227Z"
   },
   {
    "duration": 0,
    "start_time": "2024-06-05T10:33:59.228Z"
   },
   {
    "duration": 0,
    "start_time": "2024-06-05T10:33:59.229Z"
   },
   {
    "duration": 0,
    "start_time": "2024-06-05T10:33:59.229Z"
   },
   {
    "duration": 0,
    "start_time": "2024-06-05T10:33:59.230Z"
   },
   {
    "duration": 0,
    "start_time": "2024-06-05T10:33:59.231Z"
   },
   {
    "duration": 0,
    "start_time": "2024-06-05T10:33:59.232Z"
   },
   {
    "duration": 0,
    "start_time": "2024-06-05T10:33:59.233Z"
   },
   {
    "duration": 0,
    "start_time": "2024-06-05T10:33:59.233Z"
   },
   {
    "duration": 0,
    "start_time": "2024-06-05T10:33:59.234Z"
   },
   {
    "duration": 0,
    "start_time": "2024-06-05T10:33:59.235Z"
   },
   {
    "duration": 0,
    "start_time": "2024-06-05T10:33:59.236Z"
   },
   {
    "duration": 0,
    "start_time": "2024-06-05T10:33:59.237Z"
   },
   {
    "duration": 0,
    "start_time": "2024-06-05T10:33:59.238Z"
   },
   {
    "duration": 0,
    "start_time": "2024-06-05T10:33:59.239Z"
   },
   {
    "duration": 0,
    "start_time": "2024-06-05T10:33:59.240Z"
   },
   {
    "duration": 0,
    "start_time": "2024-06-05T10:33:59.241Z"
   },
   {
    "duration": 0,
    "start_time": "2024-06-05T10:33:59.242Z"
   },
   {
    "duration": 0,
    "start_time": "2024-06-05T10:33:59.243Z"
   },
   {
    "duration": 0,
    "start_time": "2024-06-05T10:33:59.244Z"
   },
   {
    "duration": 0,
    "start_time": "2024-06-05T10:33:59.245Z"
   },
   {
    "duration": 0,
    "start_time": "2024-06-05T10:33:59.246Z"
   },
   {
    "duration": 0,
    "start_time": "2024-06-05T10:33:59.247Z"
   },
   {
    "duration": 0,
    "start_time": "2024-06-05T10:33:59.248Z"
   },
   {
    "duration": 0,
    "start_time": "2024-06-05T10:33:59.248Z"
   },
   {
    "duration": 0,
    "start_time": "2024-06-05T10:33:59.249Z"
   },
   {
    "duration": 0,
    "start_time": "2024-06-05T10:33:59.250Z"
   },
   {
    "duration": 0,
    "start_time": "2024-06-05T10:33:59.251Z"
   },
   {
    "duration": 0,
    "start_time": "2024-06-05T10:33:59.252Z"
   },
   {
    "duration": 47,
    "start_time": "2024-06-05T10:36:53.906Z"
   },
   {
    "duration": 244,
    "start_time": "2024-06-05T10:37:07.228Z"
   },
   {
    "duration": 173,
    "start_time": "2024-06-05T10:38:10.057Z"
   },
   {
    "duration": 110,
    "start_time": "2024-06-05T10:38:18.736Z"
   },
   {
    "duration": 110,
    "start_time": "2024-06-05T10:38:50.811Z"
   },
   {
    "duration": 1044,
    "start_time": "2024-06-05T10:39:11.987Z"
   },
   {
    "duration": 85,
    "start_time": "2024-06-05T10:39:13.032Z"
   },
   {
    "duration": 2,
    "start_time": "2024-06-05T10:39:13.119Z"
   },
   {
    "duration": 24,
    "start_time": "2024-06-05T10:39:13.123Z"
   },
   {
    "duration": 15,
    "start_time": "2024-06-05T10:39:13.149Z"
   },
   {
    "duration": 11,
    "start_time": "2024-06-05T10:39:13.166Z"
   },
   {
    "duration": 10,
    "start_time": "2024-06-05T10:39:13.178Z"
   },
   {
    "duration": 6,
    "start_time": "2024-06-05T10:39:13.189Z"
   },
   {
    "duration": 6,
    "start_time": "2024-06-05T10:39:13.196Z"
   },
   {
    "duration": 3,
    "start_time": "2024-06-05T10:39:13.204Z"
   },
   {
    "duration": 4,
    "start_time": "2024-06-05T10:39:13.209Z"
   },
   {
    "duration": 4,
    "start_time": "2024-06-05T10:39:13.214Z"
   },
   {
    "duration": 9,
    "start_time": "2024-06-05T10:39:13.219Z"
   },
   {
    "duration": 50,
    "start_time": "2024-06-05T10:39:13.229Z"
   },
   {
    "duration": 19,
    "start_time": "2024-06-05T10:39:13.281Z"
   },
   {
    "duration": 5,
    "start_time": "2024-06-05T10:39:13.301Z"
   },
   {
    "duration": 6,
    "start_time": "2024-06-05T10:39:13.307Z"
   },
   {
    "duration": 6,
    "start_time": "2024-06-05T10:39:13.315Z"
   },
   {
    "duration": 23,
    "start_time": "2024-06-05T10:39:13.322Z"
   },
   {
    "duration": 8,
    "start_time": "2024-06-05T10:39:13.346Z"
   },
   {
    "duration": 7,
    "start_time": "2024-06-05T10:39:13.355Z"
   },
   {
    "duration": 21,
    "start_time": "2024-06-05T10:39:13.363Z"
   },
   {
    "duration": 4,
    "start_time": "2024-06-05T10:39:13.385Z"
   },
   {
    "duration": 26,
    "start_time": "2024-06-05T10:39:13.390Z"
   },
   {
    "duration": 5,
    "start_time": "2024-06-05T10:39:13.417Z"
   },
   {
    "duration": 11,
    "start_time": "2024-06-05T10:39:13.423Z"
   },
   {
    "duration": 168,
    "start_time": "2024-06-05T10:39:13.435Z"
   },
   {
    "duration": 123,
    "start_time": "2024-06-05T10:39:13.608Z"
   },
   {
    "duration": 5,
    "start_time": "2024-06-05T10:39:13.733Z"
   },
   {
    "duration": 125,
    "start_time": "2024-06-05T10:39:13.739Z"
   },
   {
    "duration": 261,
    "start_time": "2024-06-05T10:39:13.866Z"
   },
   {
    "duration": 6,
    "start_time": "2024-06-05T10:39:14.129Z"
   },
   {
    "duration": 12,
    "start_time": "2024-06-05T10:39:14.136Z"
   },
   {
    "duration": 104,
    "start_time": "2024-06-05T10:39:14.150Z"
   },
   {
    "duration": 8,
    "start_time": "2024-06-05T10:39:14.255Z"
   },
   {
    "duration": 27,
    "start_time": "2024-06-05T10:39:14.264Z"
   },
   {
    "duration": 139,
    "start_time": "2024-06-05T10:39:14.292Z"
   },
   {
    "duration": 238,
    "start_time": "2024-06-05T10:39:14.432Z"
   },
   {
    "duration": 9,
    "start_time": "2024-06-05T10:39:14.672Z"
   },
   {
    "duration": 332,
    "start_time": "2024-06-05T10:39:14.682Z"
   },
   {
    "duration": 9,
    "start_time": "2024-06-05T10:39:15.016Z"
   },
   {
    "duration": 164,
    "start_time": "2024-06-05T10:39:15.026Z"
   },
   {
    "duration": 234,
    "start_time": "2024-06-05T10:39:15.191Z"
   },
   {
    "duration": 165,
    "start_time": "2024-06-05T10:39:15.426Z"
   },
   {
    "duration": 7,
    "start_time": "2024-06-05T10:39:15.593Z"
   },
   {
    "duration": 20,
    "start_time": "2024-06-05T10:39:15.602Z"
   },
   {
    "duration": 5,
    "start_time": "2024-06-05T10:39:15.624Z"
   },
   {
    "duration": 29,
    "start_time": "2024-06-05T10:39:15.631Z"
   },
   {
    "duration": 13,
    "start_time": "2024-06-05T10:39:15.661Z"
   },
   {
    "duration": 25,
    "start_time": "2024-06-05T10:39:15.675Z"
   },
   {
    "duration": 37,
    "start_time": "2024-06-05T10:39:15.701Z"
   },
   {
    "duration": 17,
    "start_time": "2024-06-05T10:39:15.740Z"
   },
   {
    "duration": 31,
    "start_time": "2024-06-05T10:39:15.758Z"
   },
   {
    "duration": 18,
    "start_time": "2024-06-05T10:39:15.791Z"
   },
   {
    "duration": 9,
    "start_time": "2024-06-05T10:39:15.811Z"
   },
   {
    "duration": 7,
    "start_time": "2024-06-05T10:39:15.821Z"
   },
   {
    "duration": 6,
    "start_time": "2024-06-05T10:39:15.829Z"
   },
   {
    "duration": 9,
    "start_time": "2024-06-05T10:39:15.836Z"
   },
   {
    "duration": 30,
    "start_time": "2024-06-05T10:39:15.846Z"
   },
   {
    "duration": 381,
    "start_time": "2024-06-05T10:39:15.877Z"
   },
   {
    "duration": 446,
    "start_time": "2024-06-05T10:39:16.260Z"
   },
   {
    "duration": 36,
    "start_time": "2024-06-05T10:39:16.708Z"
   },
   {
    "duration": 9,
    "start_time": "2024-06-05T10:39:16.746Z"
   },
   {
    "duration": 29,
    "start_time": "2024-06-05T10:39:16.757Z"
   },
   {
    "duration": 4,
    "start_time": "2024-06-05T10:39:16.788Z"
   },
   {
    "duration": 9,
    "start_time": "2024-06-05T10:39:16.793Z"
   },
   {
    "duration": 22,
    "start_time": "2024-06-05T10:39:16.803Z"
   },
   {
    "duration": 6,
    "start_time": "2024-06-05T10:39:16.826Z"
   },
   {
    "duration": 11,
    "start_time": "2024-06-05T10:39:16.834Z"
   },
   {
    "duration": 3,
    "start_time": "2024-06-05T10:39:16.846Z"
   },
   {
    "duration": 159,
    "start_time": "2024-06-05T10:39:16.851Z"
   },
   {
    "duration": 11,
    "start_time": "2024-06-05T10:39:17.012Z"
   },
   {
    "duration": 8,
    "start_time": "2024-06-05T10:39:17.024Z"
   },
   {
    "duration": 8,
    "start_time": "2024-06-05T10:39:17.034Z"
   },
   {
    "duration": 12,
    "start_time": "2024-06-05T10:39:17.043Z"
   },
   {
    "duration": 14,
    "start_time": "2024-06-05T10:39:17.056Z"
   },
   {
    "duration": 17,
    "start_time": "2024-06-05T10:39:17.071Z"
   },
   {
    "duration": 4,
    "start_time": "2024-06-05T10:39:17.090Z"
   },
   {
    "duration": 12,
    "start_time": "2024-06-05T10:39:17.095Z"
   },
   {
    "duration": 5,
    "start_time": "2024-06-05T10:39:17.108Z"
   },
   {
    "duration": 7,
    "start_time": "2024-06-05T10:39:17.114Z"
   },
   {
    "duration": 6,
    "start_time": "2024-06-05T10:39:17.126Z"
   },
   {
    "duration": 15,
    "start_time": "2024-06-05T10:39:17.133Z"
   },
   {
    "duration": 23,
    "start_time": "2024-06-05T10:39:17.149Z"
   },
   {
    "duration": 6,
    "start_time": "2024-06-05T10:39:17.173Z"
   },
   {
    "duration": 6,
    "start_time": "2024-06-05T10:39:17.180Z"
   },
   {
    "duration": 15,
    "start_time": "2024-06-05T10:39:17.187Z"
   },
   {
    "duration": 9,
    "start_time": "2024-06-05T10:39:17.203Z"
   },
   {
    "duration": 7,
    "start_time": "2024-06-05T10:39:17.214Z"
   },
   {
    "duration": 2,
    "start_time": "2024-06-05T10:39:17.222Z"
   },
   {
    "duration": 1188,
    "start_time": "2024-06-05T10:39:17.225Z"
   },
   {
    "duration": 93,
    "start_time": "2024-06-05T10:39:18.414Z"
   },
   {
    "duration": 0,
    "start_time": "2024-06-05T10:39:18.509Z"
   },
   {
    "duration": 0,
    "start_time": "2024-06-05T10:39:18.509Z"
   },
   {
    "duration": 5,
    "start_time": "2024-06-05T10:42:58.475Z"
   },
   {
    "duration": 6,
    "start_time": "2024-06-05T10:43:02.611Z"
   },
   {
    "duration": 8,
    "start_time": "2024-06-05T10:43:42.243Z"
   },
   {
    "duration": 9,
    "start_time": "2024-06-05T10:44:01.832Z"
   },
   {
    "duration": 3,
    "start_time": "2024-06-05T10:44:42.490Z"
   },
   {
    "duration": 28,
    "start_time": "2024-06-05T10:44:51.570Z"
   },
   {
    "duration": 1205,
    "start_time": "2024-06-05T13:19:43.017Z"
   },
   {
    "duration": 95,
    "start_time": "2024-06-05T13:19:44.224Z"
   },
   {
    "duration": 3,
    "start_time": "2024-06-05T13:19:44.321Z"
   },
   {
    "duration": 3,
    "start_time": "2024-06-05T13:19:44.328Z"
   },
   {
    "duration": 18,
    "start_time": "2024-06-05T13:19:44.332Z"
   },
   {
    "duration": 15,
    "start_time": "2024-06-05T13:19:44.352Z"
   },
   {
    "duration": 13,
    "start_time": "2024-06-05T13:19:44.369Z"
   },
   {
    "duration": 2,
    "start_time": "2024-06-05T13:19:44.399Z"
   },
   {
    "duration": 5,
    "start_time": "2024-06-05T13:19:44.403Z"
   },
   {
    "duration": 2,
    "start_time": "2024-06-05T13:19:44.411Z"
   },
   {
    "duration": 4,
    "start_time": "2024-06-05T13:19:44.415Z"
   },
   {
    "duration": 8,
    "start_time": "2024-06-05T13:19:44.420Z"
   },
   {
    "duration": 4,
    "start_time": "2024-06-05T13:19:44.430Z"
   },
   {
    "duration": 13,
    "start_time": "2024-06-05T13:19:44.435Z"
   },
   {
    "duration": 7,
    "start_time": "2024-06-05T13:19:44.450Z"
   },
   {
    "duration": 7,
    "start_time": "2024-06-05T13:19:44.458Z"
   },
   {
    "duration": 33,
    "start_time": "2024-06-05T13:19:44.467Z"
   },
   {
    "duration": 11,
    "start_time": "2024-06-05T13:19:44.502Z"
   },
   {
    "duration": 7,
    "start_time": "2024-06-05T13:19:44.514Z"
   },
   {
    "duration": 5,
    "start_time": "2024-06-05T13:19:44.523Z"
   },
   {
    "duration": 7,
    "start_time": "2024-06-05T13:19:44.530Z"
   },
   {
    "duration": 10,
    "start_time": "2024-06-05T13:19:44.538Z"
   },
   {
    "duration": 5,
    "start_time": "2024-06-05T13:19:44.550Z"
   },
   {
    "duration": 45,
    "start_time": "2024-06-05T13:19:44.557Z"
   },
   {
    "duration": 7,
    "start_time": "2024-06-05T13:19:44.603Z"
   },
   {
    "duration": 14,
    "start_time": "2024-06-05T13:19:44.611Z"
   },
   {
    "duration": 210,
    "start_time": "2024-06-05T13:19:44.626Z"
   },
   {
    "duration": 159,
    "start_time": "2024-06-05T13:19:44.841Z"
   },
   {
    "duration": 6,
    "start_time": "2024-06-05T13:19:45.002Z"
   },
   {
    "duration": 182,
    "start_time": "2024-06-05T13:19:45.010Z"
   },
   {
    "duration": 335,
    "start_time": "2024-06-05T13:19:45.193Z"
   },
   {
    "duration": 6,
    "start_time": "2024-06-05T13:19:45.530Z"
   },
   {
    "duration": 9,
    "start_time": "2024-06-05T13:19:45.538Z"
   },
   {
    "duration": 128,
    "start_time": "2024-06-05T13:19:45.549Z"
   },
   {
    "duration": 7,
    "start_time": "2024-06-05T13:19:45.679Z"
   },
   {
    "duration": 19,
    "start_time": "2024-06-05T13:19:45.687Z"
   },
   {
    "duration": 140,
    "start_time": "2024-06-05T13:19:45.707Z"
   },
   {
    "duration": 324,
    "start_time": "2024-06-05T13:19:45.848Z"
   },
   {
    "duration": 11,
    "start_time": "2024-06-05T13:19:46.173Z"
   },
   {
    "duration": 365,
    "start_time": "2024-06-05T13:19:46.185Z"
   },
   {
    "duration": 9,
    "start_time": "2024-06-05T13:19:46.552Z"
   },
   {
    "duration": 148,
    "start_time": "2024-06-05T13:19:46.562Z"
   },
   {
    "duration": 278,
    "start_time": "2024-06-05T13:19:46.712Z"
   },
   {
    "duration": 171,
    "start_time": "2024-06-05T13:19:46.992Z"
   },
   {
    "duration": 9,
    "start_time": "2024-06-05T13:19:47.165Z"
   },
   {
    "duration": 23,
    "start_time": "2024-06-05T13:19:47.176Z"
   },
   {
    "duration": 3,
    "start_time": "2024-06-05T13:19:47.202Z"
   },
   {
    "duration": 15,
    "start_time": "2024-06-05T13:19:47.207Z"
   },
   {
    "duration": 13,
    "start_time": "2024-06-05T13:19:47.224Z"
   },
   {
    "duration": 8,
    "start_time": "2024-06-05T13:19:47.238Z"
   },
   {
    "duration": 12,
    "start_time": "2024-06-05T13:19:47.248Z"
   },
   {
    "duration": 42,
    "start_time": "2024-06-05T13:19:47.262Z"
   },
   {
    "duration": 13,
    "start_time": "2024-06-05T13:19:47.305Z"
   },
   {
    "duration": 12,
    "start_time": "2024-06-05T13:19:47.319Z"
   },
   {
    "duration": 13,
    "start_time": "2024-06-05T13:19:47.333Z"
   },
   {
    "duration": 9,
    "start_time": "2024-06-05T13:19:47.347Z"
   },
   {
    "duration": 43,
    "start_time": "2024-06-05T13:19:47.358Z"
   },
   {
    "duration": 10,
    "start_time": "2024-06-05T13:19:47.402Z"
   },
   {
    "duration": 8,
    "start_time": "2024-06-05T13:19:47.413Z"
   },
   {
    "duration": 499,
    "start_time": "2024-06-05T13:19:47.423Z"
   },
   {
    "duration": 584,
    "start_time": "2024-06-05T13:19:47.923Z"
   },
   {
    "duration": 38,
    "start_time": "2024-06-05T13:19:48.509Z"
   },
   {
    "duration": 11,
    "start_time": "2024-06-05T13:19:48.549Z"
   },
   {
    "duration": 18,
    "start_time": "2024-06-05T13:19:48.562Z"
   },
   {
    "duration": 19,
    "start_time": "2024-06-05T13:19:48.582Z"
   },
   {
    "duration": 12,
    "start_time": "2024-06-05T13:19:48.603Z"
   },
   {
    "duration": 4,
    "start_time": "2024-06-05T13:19:48.616Z"
   },
   {
    "duration": 3,
    "start_time": "2024-06-05T13:19:48.621Z"
   },
   {
    "duration": 14,
    "start_time": "2024-06-05T13:19:48.626Z"
   },
   {
    "duration": 3,
    "start_time": "2024-06-05T13:19:48.642Z"
   },
   {
    "duration": 178,
    "start_time": "2024-06-05T13:19:48.647Z"
   },
   {
    "duration": 10,
    "start_time": "2024-06-05T13:19:48.827Z"
   },
   {
    "duration": 11,
    "start_time": "2024-06-05T13:19:48.838Z"
   },
   {
    "duration": 2,
    "start_time": "2024-06-05T13:19:48.851Z"
   },
   {
    "duration": 10,
    "start_time": "2024-06-05T13:19:48.855Z"
   },
   {
    "duration": 35,
    "start_time": "2024-06-05T13:19:48.866Z"
   },
   {
    "duration": 7,
    "start_time": "2024-06-05T13:19:48.902Z"
   },
   {
    "duration": 6,
    "start_time": "2024-06-05T13:19:48.910Z"
   },
   {
    "duration": 11,
    "start_time": "2024-06-05T13:19:48.917Z"
   },
   {
    "duration": 5,
    "start_time": "2024-06-05T13:19:48.930Z"
   },
   {
    "duration": 8,
    "start_time": "2024-06-05T13:19:48.937Z"
   },
   {
    "duration": 9,
    "start_time": "2024-06-05T13:19:48.951Z"
   },
   {
    "duration": 6,
    "start_time": "2024-06-05T13:19:48.962Z"
   },
   {
    "duration": 32,
    "start_time": "2024-06-05T13:19:48.970Z"
   },
   {
    "duration": 10,
    "start_time": "2024-06-05T13:19:49.003Z"
   },
   {
    "duration": 7,
    "start_time": "2024-06-05T13:19:49.014Z"
   },
   {
    "duration": 6,
    "start_time": "2024-06-05T13:19:49.022Z"
   },
   {
    "duration": 6,
    "start_time": "2024-06-05T13:19:49.030Z"
   },
   {
    "duration": 10,
    "start_time": "2024-06-05T13:19:49.037Z"
   },
   {
    "duration": 4,
    "start_time": "2024-06-05T13:19:49.049Z"
   },
   {
    "duration": 1661,
    "start_time": "2024-06-05T13:19:49.055Z"
   },
   {
    "duration": 28,
    "start_time": "2024-06-05T13:19:50.717Z"
   },
   {
    "duration": 2,
    "start_time": "2024-06-05T13:19:50.747Z"
   },
   {
    "duration": 29,
    "start_time": "2024-06-05T13:19:50.751Z"
   },
   {
    "duration": 19,
    "start_time": "2024-06-05T13:29:33.892Z"
   },
   {
    "duration": 7,
    "start_time": "2024-06-05T13:30:45.720Z"
   },
   {
    "duration": 1135,
    "start_time": "2024-06-05T13:39:24.151Z"
   },
   {
    "duration": 97,
    "start_time": "2024-06-05T13:39:25.288Z"
   },
   {
    "duration": 3,
    "start_time": "2024-06-05T13:39:25.386Z"
   },
   {
    "duration": 10,
    "start_time": "2024-06-05T13:39:25.391Z"
   },
   {
    "duration": 16,
    "start_time": "2024-06-05T13:39:25.402Z"
   },
   {
    "duration": 15,
    "start_time": "2024-06-05T13:39:25.419Z"
   },
   {
    "duration": 18,
    "start_time": "2024-06-05T13:39:25.436Z"
   },
   {
    "duration": 2,
    "start_time": "2024-06-05T13:39:25.456Z"
   },
   {
    "duration": 4,
    "start_time": "2024-06-05T13:39:25.460Z"
   },
   {
    "duration": 33,
    "start_time": "2024-06-05T13:39:25.466Z"
   },
   {
    "duration": 5,
    "start_time": "2024-06-05T13:39:25.500Z"
   },
   {
    "duration": 5,
    "start_time": "2024-06-05T13:39:25.506Z"
   },
   {
    "duration": 9,
    "start_time": "2024-06-05T13:39:25.512Z"
   },
   {
    "duration": 14,
    "start_time": "2024-06-05T13:39:25.522Z"
   },
   {
    "duration": 5,
    "start_time": "2024-06-05T13:39:25.538Z"
   },
   {
    "duration": 12,
    "start_time": "2024-06-05T13:39:25.545Z"
   },
   {
    "duration": 10,
    "start_time": "2024-06-05T13:39:25.559Z"
   },
   {
    "duration": 7,
    "start_time": "2024-06-05T13:39:25.571Z"
   },
   {
    "duration": 25,
    "start_time": "2024-06-05T13:39:25.579Z"
   },
   {
    "duration": 10,
    "start_time": "2024-06-05T13:39:25.606Z"
   },
   {
    "duration": 11,
    "start_time": "2024-06-05T13:39:25.618Z"
   },
   {
    "duration": 9,
    "start_time": "2024-06-05T13:39:25.630Z"
   },
   {
    "duration": 5,
    "start_time": "2024-06-05T13:39:25.641Z"
   },
   {
    "duration": 5,
    "start_time": "2024-06-05T13:39:25.648Z"
   },
   {
    "duration": 10,
    "start_time": "2024-06-05T13:39:25.654Z"
   },
   {
    "duration": 14,
    "start_time": "2024-06-05T13:39:25.699Z"
   },
   {
    "duration": 225,
    "start_time": "2024-06-05T13:39:25.715Z"
   },
   {
    "duration": 169,
    "start_time": "2024-06-05T13:39:25.947Z"
   },
   {
    "duration": 6,
    "start_time": "2024-06-05T13:39:26.117Z"
   },
   {
    "duration": 158,
    "start_time": "2024-06-05T13:39:26.124Z"
   },
   {
    "duration": 331,
    "start_time": "2024-06-05T13:39:26.284Z"
   },
   {
    "duration": 5,
    "start_time": "2024-06-05T13:39:26.617Z"
   },
   {
    "duration": 6,
    "start_time": "2024-06-05T13:39:26.623Z"
   },
   {
    "duration": 133,
    "start_time": "2024-06-05T13:39:26.630Z"
   },
   {
    "duration": 9,
    "start_time": "2024-06-05T13:39:26.764Z"
   },
   {
    "duration": 26,
    "start_time": "2024-06-05T13:39:26.774Z"
   },
   {
    "duration": 133,
    "start_time": "2024-06-05T13:39:26.802Z"
   },
   {
    "duration": 302,
    "start_time": "2024-06-05T13:39:26.936Z"
   },
   {
    "duration": 10,
    "start_time": "2024-06-05T13:39:27.240Z"
   },
   {
    "duration": 359,
    "start_time": "2024-06-05T13:39:27.251Z"
   },
   {
    "duration": 8,
    "start_time": "2024-06-05T13:39:27.612Z"
   },
   {
    "duration": 145,
    "start_time": "2024-06-05T13:39:27.622Z"
   },
   {
    "duration": 284,
    "start_time": "2024-06-05T13:39:27.769Z"
   },
   {
    "duration": 174,
    "start_time": "2024-06-05T13:39:28.055Z"
   },
   {
    "duration": 10,
    "start_time": "2024-06-05T13:39:28.231Z"
   },
   {
    "duration": 19,
    "start_time": "2024-06-05T13:39:28.243Z"
   },
   {
    "duration": 20,
    "start_time": "2024-06-05T13:39:28.264Z"
   },
   {
    "duration": 14,
    "start_time": "2024-06-05T13:39:28.286Z"
   },
   {
    "duration": 19,
    "start_time": "2024-06-05T13:39:28.301Z"
   },
   {
    "duration": 8,
    "start_time": "2024-06-05T13:39:28.322Z"
   },
   {
    "duration": 13,
    "start_time": "2024-06-05T13:39:28.331Z"
   },
   {
    "duration": 7,
    "start_time": "2024-06-05T13:39:28.345Z"
   },
   {
    "duration": 13,
    "start_time": "2024-06-05T13:39:28.354Z"
   },
   {
    "duration": 35,
    "start_time": "2024-06-05T13:39:28.368Z"
   },
   {
    "duration": 15,
    "start_time": "2024-06-05T13:39:28.404Z"
   },
   {
    "duration": 8,
    "start_time": "2024-06-05T13:39:28.421Z"
   },
   {
    "duration": 8,
    "start_time": "2024-06-05T13:39:28.431Z"
   },
   {
    "duration": 14,
    "start_time": "2024-06-05T13:39:28.441Z"
   },
   {
    "duration": 42,
    "start_time": "2024-06-05T13:39:28.457Z"
   },
   {
    "duration": 510,
    "start_time": "2024-06-05T13:39:28.501Z"
   },
   {
    "duration": 591,
    "start_time": "2024-06-05T13:39:29.013Z"
   },
   {
    "duration": 38,
    "start_time": "2024-06-05T13:39:29.606Z"
   },
   {
    "duration": 11,
    "start_time": "2024-06-05T13:39:29.645Z"
   },
   {
    "duration": 12,
    "start_time": "2024-06-05T13:39:29.658Z"
   },
   {
    "duration": 3,
    "start_time": "2024-06-05T13:39:29.672Z"
   },
   {
    "duration": 3,
    "start_time": "2024-06-05T13:39:29.699Z"
   },
   {
    "duration": 5,
    "start_time": "2024-06-05T13:39:29.704Z"
   },
   {
    "duration": 6,
    "start_time": "2024-06-05T13:39:29.710Z"
   },
   {
    "duration": 11,
    "start_time": "2024-06-05T13:39:29.717Z"
   },
   {
    "duration": 4,
    "start_time": "2024-06-05T13:39:29.729Z"
   },
   {
    "duration": 187,
    "start_time": "2024-06-05T13:39:29.734Z"
   },
   {
    "duration": 11,
    "start_time": "2024-06-05T13:39:29.923Z"
   },
   {
    "duration": 11,
    "start_time": "2024-06-05T13:39:29.935Z"
   },
   {
    "duration": 6,
    "start_time": "2024-06-05T13:39:29.947Z"
   },
   {
    "duration": 10,
    "start_time": "2024-06-05T13:39:29.955Z"
   },
   {
    "duration": 36,
    "start_time": "2024-06-05T13:39:29.966Z"
   },
   {
    "duration": 42,
    "start_time": "2024-06-05T13:39:30.004Z"
   },
   {
    "duration": 13,
    "start_time": "2024-06-05T13:39:30.048Z"
   },
   {
    "duration": 26,
    "start_time": "2024-06-05T13:39:30.062Z"
   },
   {
    "duration": 20,
    "start_time": "2024-06-05T13:39:30.090Z"
   },
   {
    "duration": 45,
    "start_time": "2024-06-05T13:39:30.111Z"
   },
   {
    "duration": 61,
    "start_time": "2024-06-05T13:39:30.162Z"
   },
   {
    "duration": 45,
    "start_time": "2024-06-05T13:39:30.225Z"
   },
   {
    "duration": 32,
    "start_time": "2024-06-05T13:39:30.272Z"
   },
   {
    "duration": 84,
    "start_time": "2024-06-05T13:39:30.306Z"
   },
   {
    "duration": 45,
    "start_time": "2024-06-05T13:39:30.392Z"
   },
   {
    "duration": 48,
    "start_time": "2024-06-05T13:39:30.439Z"
   },
   {
    "duration": 54,
    "start_time": "2024-06-05T13:39:30.489Z"
   },
   {
    "duration": 76,
    "start_time": "2024-06-05T13:39:30.545Z"
   },
   {
    "duration": 42,
    "start_time": "2024-06-05T13:39:30.623Z"
   },
   {
    "duration": 35,
    "start_time": "2024-06-05T13:39:30.667Z"
   },
   {
    "duration": 1624,
    "start_time": "2024-06-05T13:39:30.704Z"
   },
   {
    "duration": 33,
    "start_time": "2024-06-05T13:39:32.330Z"
   },
   {
    "duration": 8,
    "start_time": "2024-06-05T13:39:32.364Z"
   },
   {
    "duration": 34,
    "start_time": "2024-06-05T13:39:32.373Z"
   },
   {
    "duration": 3,
    "start_time": "2024-06-05T13:39:32.409Z"
   },
   {
    "duration": 6,
    "start_time": "2024-06-05T13:39:32.413Z"
   },
   {
    "duration": 48,
    "start_time": "2024-06-05T15:37:01.183Z"
   },
   {
    "duration": 1210,
    "start_time": "2024-06-05T15:37:19.544Z"
   },
   {
    "duration": 229,
    "start_time": "2024-06-05T15:37:20.756Z"
   },
   {
    "duration": 3,
    "start_time": "2024-06-05T15:37:20.986Z"
   },
   {
    "duration": 8,
    "start_time": "2024-06-05T15:37:20.990Z"
   },
   {
    "duration": 18,
    "start_time": "2024-06-05T15:37:20.999Z"
   },
   {
    "duration": 11,
    "start_time": "2024-06-05T15:37:21.019Z"
   },
   {
    "duration": 10,
    "start_time": "2024-06-05T15:37:21.032Z"
   },
   {
    "duration": 23,
    "start_time": "2024-06-05T15:37:21.043Z"
   },
   {
    "duration": 9,
    "start_time": "2024-06-05T15:37:21.067Z"
   },
   {
    "duration": 2,
    "start_time": "2024-06-05T15:37:21.079Z"
   },
   {
    "duration": 12,
    "start_time": "2024-06-05T15:37:21.083Z"
   },
   {
    "duration": 17,
    "start_time": "2024-06-05T15:37:21.097Z"
   },
   {
    "duration": 10,
    "start_time": "2024-06-05T15:37:21.115Z"
   },
   {
    "duration": 10,
    "start_time": "2024-06-05T15:37:21.127Z"
   },
   {
    "duration": 37,
    "start_time": "2024-06-05T15:37:21.139Z"
   },
   {
    "duration": 16,
    "start_time": "2024-06-05T15:37:21.177Z"
   },
   {
    "duration": 19,
    "start_time": "2024-06-05T15:37:21.195Z"
   },
   {
    "duration": 5,
    "start_time": "2024-06-05T15:37:21.216Z"
   },
   {
    "duration": 11,
    "start_time": "2024-06-05T15:37:21.223Z"
   },
   {
    "duration": 12,
    "start_time": "2024-06-05T15:37:21.236Z"
   },
   {
    "duration": 10,
    "start_time": "2024-06-05T15:37:21.250Z"
   },
   {
    "duration": 17,
    "start_time": "2024-06-05T15:37:21.262Z"
   },
   {
    "duration": 15,
    "start_time": "2024-06-05T15:37:21.281Z"
   },
   {
    "duration": 10,
    "start_time": "2024-06-05T15:37:21.298Z"
   },
   {
    "duration": 7,
    "start_time": "2024-06-05T15:37:21.309Z"
   },
   {
    "duration": 13,
    "start_time": "2024-06-05T15:37:21.317Z"
   },
   {
    "duration": 177,
    "start_time": "2024-06-05T15:37:21.331Z"
   },
   {
    "duration": 220,
    "start_time": "2024-06-05T15:37:21.512Z"
   },
   {
    "duration": 0,
    "start_time": "2024-06-05T15:37:21.734Z"
   },
   {
    "duration": 0,
    "start_time": "2024-06-05T15:37:21.735Z"
   },
   {
    "duration": 0,
    "start_time": "2024-06-05T15:37:21.736Z"
   },
   {
    "duration": 0,
    "start_time": "2024-06-05T15:37:21.737Z"
   },
   {
    "duration": 0,
    "start_time": "2024-06-05T15:37:21.738Z"
   },
   {
    "duration": 0,
    "start_time": "2024-06-05T15:37:21.739Z"
   },
   {
    "duration": 0,
    "start_time": "2024-06-05T15:37:21.740Z"
   },
   {
    "duration": 0,
    "start_time": "2024-06-05T15:37:21.741Z"
   },
   {
    "duration": 0,
    "start_time": "2024-06-05T15:37:21.742Z"
   },
   {
    "duration": 0,
    "start_time": "2024-06-05T15:37:21.742Z"
   },
   {
    "duration": 0,
    "start_time": "2024-06-05T15:37:21.744Z"
   },
   {
    "duration": 0,
    "start_time": "2024-06-05T15:37:21.744Z"
   },
   {
    "duration": 0,
    "start_time": "2024-06-05T15:37:21.745Z"
   },
   {
    "duration": 0,
    "start_time": "2024-06-05T15:37:21.746Z"
   },
   {
    "duration": 0,
    "start_time": "2024-06-05T15:37:21.747Z"
   },
   {
    "duration": 0,
    "start_time": "2024-06-05T15:37:21.748Z"
   },
   {
    "duration": 0,
    "start_time": "2024-06-05T15:37:21.749Z"
   },
   {
    "duration": 0,
    "start_time": "2024-06-05T15:37:21.750Z"
   },
   {
    "duration": 0,
    "start_time": "2024-06-05T15:37:21.751Z"
   },
   {
    "duration": 0,
    "start_time": "2024-06-05T15:37:21.752Z"
   },
   {
    "duration": 0,
    "start_time": "2024-06-05T15:37:21.753Z"
   },
   {
    "duration": 0,
    "start_time": "2024-06-05T15:37:21.754Z"
   },
   {
    "duration": 0,
    "start_time": "2024-06-05T15:37:21.755Z"
   },
   {
    "duration": 0,
    "start_time": "2024-06-05T15:37:21.755Z"
   },
   {
    "duration": 0,
    "start_time": "2024-06-05T15:37:21.756Z"
   },
   {
    "duration": 0,
    "start_time": "2024-06-05T15:37:21.757Z"
   },
   {
    "duration": 0,
    "start_time": "2024-06-05T15:37:21.758Z"
   },
   {
    "duration": 0,
    "start_time": "2024-06-05T15:37:21.759Z"
   },
   {
    "duration": 0,
    "start_time": "2024-06-05T15:37:21.760Z"
   },
   {
    "duration": 0,
    "start_time": "2024-06-05T15:37:21.761Z"
   },
   {
    "duration": 0,
    "start_time": "2024-06-05T15:37:21.762Z"
   },
   {
    "duration": 0,
    "start_time": "2024-06-05T15:37:21.763Z"
   },
   {
    "duration": 0,
    "start_time": "2024-06-05T15:37:21.812Z"
   },
   {
    "duration": 0,
    "start_time": "2024-06-05T15:37:21.813Z"
   },
   {
    "duration": 0,
    "start_time": "2024-06-05T15:37:21.814Z"
   },
   {
    "duration": 0,
    "start_time": "2024-06-05T15:37:21.815Z"
   },
   {
    "duration": 0,
    "start_time": "2024-06-05T15:37:21.816Z"
   },
   {
    "duration": 0,
    "start_time": "2024-06-05T15:37:21.817Z"
   },
   {
    "duration": 0,
    "start_time": "2024-06-05T15:37:21.818Z"
   },
   {
    "duration": 0,
    "start_time": "2024-06-05T15:37:21.819Z"
   },
   {
    "duration": 0,
    "start_time": "2024-06-05T15:37:21.819Z"
   },
   {
    "duration": 0,
    "start_time": "2024-06-05T15:37:21.820Z"
   },
   {
    "duration": 0,
    "start_time": "2024-06-05T15:37:21.821Z"
   },
   {
    "duration": 1,
    "start_time": "2024-06-05T15:37:21.822Z"
   },
   {
    "duration": 0,
    "start_time": "2024-06-05T15:37:21.823Z"
   },
   {
    "duration": 0,
    "start_time": "2024-06-05T15:37:21.824Z"
   },
   {
    "duration": 0,
    "start_time": "2024-06-05T15:37:21.825Z"
   },
   {
    "duration": 0,
    "start_time": "2024-06-05T15:37:21.826Z"
   },
   {
    "duration": 0,
    "start_time": "2024-06-05T15:37:21.827Z"
   },
   {
    "duration": 0,
    "start_time": "2024-06-05T15:37:21.828Z"
   },
   {
    "duration": 0,
    "start_time": "2024-06-05T15:37:21.829Z"
   },
   {
    "duration": 0,
    "start_time": "2024-06-05T15:37:21.830Z"
   },
   {
    "duration": 0,
    "start_time": "2024-06-05T15:37:21.831Z"
   },
   {
    "duration": 0,
    "start_time": "2024-06-05T15:37:21.832Z"
   },
   {
    "duration": 0,
    "start_time": "2024-06-05T15:37:21.833Z"
   },
   {
    "duration": 0,
    "start_time": "2024-06-05T15:37:21.836Z"
   },
   {
    "duration": 0,
    "start_time": "2024-06-05T15:37:21.838Z"
   },
   {
    "duration": 0,
    "start_time": "2024-06-05T15:37:21.839Z"
   },
   {
    "duration": 0,
    "start_time": "2024-06-05T15:37:21.841Z"
   },
   {
    "duration": 0,
    "start_time": "2024-06-05T15:37:21.842Z"
   },
   {
    "duration": 0,
    "start_time": "2024-06-05T15:37:21.843Z"
   },
   {
    "duration": 0,
    "start_time": "2024-06-05T15:37:21.844Z"
   },
   {
    "duration": 0,
    "start_time": "2024-06-05T15:37:21.846Z"
   },
   {
    "duration": 1,
    "start_time": "2024-06-05T15:37:21.911Z"
   },
   {
    "duration": 0,
    "start_time": "2024-06-05T15:37:21.913Z"
   },
   {
    "duration": 0,
    "start_time": "2024-06-05T15:37:21.915Z"
   },
   {
    "duration": 0,
    "start_time": "2024-06-05T15:37:21.916Z"
   },
   {
    "duration": 0,
    "start_time": "2024-06-05T15:37:21.917Z"
   },
   {
    "duration": 0,
    "start_time": "2024-06-05T15:37:21.919Z"
   },
   {
    "duration": 124,
    "start_time": "2024-06-05T15:38:34.457Z"
   },
   {
    "duration": 61,
    "start_time": "2024-06-05T15:39:07.800Z"
   },
   {
    "duration": 103,
    "start_time": "2024-06-05T15:39:21.936Z"
   },
   {
    "duration": 120,
    "start_time": "2024-06-05T15:39:37.253Z"
   },
   {
    "duration": 58,
    "start_time": "2024-06-05T15:47:13.144Z"
   },
   {
    "duration": 267,
    "start_time": "2024-06-05T15:48:41.906Z"
   },
   {
    "duration": 293,
    "start_time": "2024-06-05T15:49:23.426Z"
   },
   {
    "duration": 327,
    "start_time": "2024-06-05T15:51:11.011Z"
   },
   {
    "duration": 7,
    "start_time": "2024-06-05T16:20:29.931Z"
   },
   {
    "duration": 986,
    "start_time": "2024-06-05T16:20:41.266Z"
   },
   {
    "duration": 91,
    "start_time": "2024-06-05T16:20:42.255Z"
   },
   {
    "duration": 2,
    "start_time": "2024-06-05T16:20:42.348Z"
   },
   {
    "duration": 6,
    "start_time": "2024-06-05T16:20:42.352Z"
   },
   {
    "duration": 18,
    "start_time": "2024-06-05T16:20:42.359Z"
   },
   {
    "duration": 16,
    "start_time": "2024-06-05T16:20:42.379Z"
   },
   {
    "duration": 11,
    "start_time": "2024-06-05T16:20:42.396Z"
   },
   {
    "duration": 2,
    "start_time": "2024-06-05T16:20:42.408Z"
   },
   {
    "duration": 6,
    "start_time": "2024-06-05T16:20:42.412Z"
   },
   {
    "duration": 9,
    "start_time": "2024-06-05T16:20:42.419Z"
   },
   {
    "duration": 8,
    "start_time": "2024-06-05T16:20:42.429Z"
   },
   {
    "duration": 11,
    "start_time": "2024-06-05T16:20:42.439Z"
   },
   {
    "duration": 7,
    "start_time": "2024-06-05T16:20:42.451Z"
   },
   {
    "duration": 32,
    "start_time": "2024-06-05T16:20:42.461Z"
   },
   {
    "duration": 18,
    "start_time": "2024-06-05T16:20:42.494Z"
   },
   {
    "duration": 17,
    "start_time": "2024-06-05T16:20:42.513Z"
   },
   {
    "duration": 5,
    "start_time": "2024-06-05T16:20:42.531Z"
   },
   {
    "duration": 8,
    "start_time": "2024-06-05T16:20:42.537Z"
   },
   {
    "duration": 7,
    "start_time": "2024-06-05T16:20:42.547Z"
   },
   {
    "duration": 5,
    "start_time": "2024-06-05T16:20:42.555Z"
   },
   {
    "duration": 14,
    "start_time": "2024-06-05T16:20:42.561Z"
   },
   {
    "duration": 8,
    "start_time": "2024-06-05T16:20:42.576Z"
   },
   {
    "duration": 4,
    "start_time": "2024-06-05T16:20:42.586Z"
   },
   {
    "duration": 20,
    "start_time": "2024-06-05T16:20:42.592Z"
   },
   {
    "duration": 5,
    "start_time": "2024-06-05T16:20:42.614Z"
   },
   {
    "duration": 12,
    "start_time": "2024-06-05T16:20:42.621Z"
   },
   {
    "duration": 188,
    "start_time": "2024-06-05T16:20:42.634Z"
   },
   {
    "duration": 123,
    "start_time": "2024-06-05T16:20:42.824Z"
   },
   {
    "duration": 5,
    "start_time": "2024-06-05T16:20:42.948Z"
   },
   {
    "duration": 125,
    "start_time": "2024-06-05T16:20:42.954Z"
   },
   {
    "duration": 279,
    "start_time": "2024-06-05T16:20:43.080Z"
   },
   {
    "duration": 5,
    "start_time": "2024-06-05T16:20:43.360Z"
   },
   {
    "duration": 5,
    "start_time": "2024-06-05T16:20:43.366Z"
   },
   {
    "duration": 118,
    "start_time": "2024-06-05T16:20:43.373Z"
   },
   {
    "duration": 8,
    "start_time": "2024-06-05T16:20:43.492Z"
   },
   {
    "duration": 10,
    "start_time": "2024-06-05T16:20:43.513Z"
   },
   {
    "duration": 152,
    "start_time": "2024-06-05T16:20:43.525Z"
   },
   {
    "duration": 253,
    "start_time": "2024-06-05T16:20:43.678Z"
   },
   {
    "duration": 9,
    "start_time": "2024-06-05T16:20:43.932Z"
   },
   {
    "duration": 290,
    "start_time": "2024-06-05T16:20:43.943Z"
   },
   {
    "duration": 7,
    "start_time": "2024-06-05T16:20:44.237Z"
   },
   {
    "duration": 125,
    "start_time": "2024-06-05T16:20:44.246Z"
   },
   {
    "duration": 245,
    "start_time": "2024-06-05T16:20:44.372Z"
   },
   {
    "duration": 140,
    "start_time": "2024-06-05T16:20:44.618Z"
   },
   {
    "duration": 9,
    "start_time": "2024-06-05T16:20:44.759Z"
   },
   {
    "duration": 15,
    "start_time": "2024-06-05T16:20:44.769Z"
   },
   {
    "duration": 27,
    "start_time": "2024-06-05T16:20:44.785Z"
   },
   {
    "duration": 14,
    "start_time": "2024-06-05T16:20:44.813Z"
   },
   {
    "duration": 23,
    "start_time": "2024-06-05T16:20:44.828Z"
   },
   {
    "duration": 15,
    "start_time": "2024-06-05T16:20:44.853Z"
   },
   {
    "duration": 64,
    "start_time": "2024-06-05T16:20:44.869Z"
   },
   {
    "duration": 26,
    "start_time": "2024-06-05T16:20:44.934Z"
   },
   {
    "duration": 23,
    "start_time": "2024-06-05T16:20:44.962Z"
   },
   {
    "duration": 10,
    "start_time": "2024-06-05T16:20:44.986Z"
   },
   {
    "duration": 13,
    "start_time": "2024-06-05T16:20:44.998Z"
   },
   {
    "duration": 22,
    "start_time": "2024-06-05T16:20:45.013Z"
   },
   {
    "duration": 22,
    "start_time": "2024-06-05T16:20:45.037Z"
   },
   {
    "duration": 23,
    "start_time": "2024-06-05T16:20:45.061Z"
   },
   {
    "duration": 16,
    "start_time": "2024-06-05T16:20:45.085Z"
   },
   {
    "duration": 416,
    "start_time": "2024-06-05T16:20:45.102Z"
   },
   {
    "duration": 477,
    "start_time": "2024-06-05T16:20:45.520Z"
   },
   {
    "duration": 4,
    "start_time": "2024-06-05T16:20:45.998Z"
   },
   {
    "duration": 39,
    "start_time": "2024-06-05T16:20:46.003Z"
   },
   {
    "duration": 10,
    "start_time": "2024-06-05T16:20:46.044Z"
   },
   {
    "duration": 14,
    "start_time": "2024-06-05T16:20:46.055Z"
   },
   {
    "duration": 2,
    "start_time": "2024-06-05T16:20:46.071Z"
   },
   {
    "duration": 7,
    "start_time": "2024-06-05T16:20:46.075Z"
   },
   {
    "duration": 4,
    "start_time": "2024-06-05T16:20:46.083Z"
   },
   {
    "duration": 28,
    "start_time": "2024-06-05T16:20:46.088Z"
   },
   {
    "duration": 9,
    "start_time": "2024-06-05T16:20:46.117Z"
   },
   {
    "duration": 166,
    "start_time": "2024-06-05T16:20:46.127Z"
   },
   {
    "duration": 9,
    "start_time": "2024-06-05T16:20:46.295Z"
   },
   {
    "duration": 11,
    "start_time": "2024-06-05T16:20:46.305Z"
   },
   {
    "duration": 9,
    "start_time": "2024-06-05T16:20:46.318Z"
   },
   {
    "duration": 9,
    "start_time": "2024-06-05T16:20:46.329Z"
   },
   {
    "duration": 5,
    "start_time": "2024-06-05T16:20:46.339Z"
   },
   {
    "duration": 12,
    "start_time": "2024-06-05T16:20:46.345Z"
   },
   {
    "duration": 18,
    "start_time": "2024-06-05T16:20:46.358Z"
   },
   {
    "duration": 11,
    "start_time": "2024-06-05T16:20:46.377Z"
   },
   {
    "duration": 5,
    "start_time": "2024-06-05T16:20:46.389Z"
   },
   {
    "duration": 8,
    "start_time": "2024-06-05T16:20:46.395Z"
   },
   {
    "duration": 8,
    "start_time": "2024-06-05T16:20:46.405Z"
   },
   {
    "duration": 12,
    "start_time": "2024-06-05T16:20:46.414Z"
   },
   {
    "duration": 11,
    "start_time": "2024-06-05T16:20:46.427Z"
   },
   {
    "duration": 14,
    "start_time": "2024-06-05T16:20:46.439Z"
   },
   {
    "duration": 4,
    "start_time": "2024-06-05T16:20:46.455Z"
   },
   {
    "duration": 33,
    "start_time": "2024-06-05T16:20:46.460Z"
   },
   {
    "duration": 6,
    "start_time": "2024-06-05T16:20:46.494Z"
   },
   {
    "duration": 10,
    "start_time": "2024-06-05T16:20:46.502Z"
   },
   {
    "duration": 8,
    "start_time": "2024-06-05T16:20:46.513Z"
   },
   {
    "duration": 2,
    "start_time": "2024-06-05T16:20:46.522Z"
   },
   {
    "duration": 1304,
    "start_time": "2024-06-05T16:20:46.525Z"
   },
   {
    "duration": 28,
    "start_time": "2024-06-05T16:20:47.830Z"
   },
   {
    "duration": 7,
    "start_time": "2024-06-05T16:20:47.860Z"
   },
   {
    "duration": 10,
    "start_time": "2024-06-05T16:20:47.869Z"
   },
   {
    "duration": 8,
    "start_time": "2024-06-05T16:20:47.880Z"
   },
   {
    "duration": 5,
    "start_time": "2024-06-05T16:20:47.912Z"
   },
   {
    "duration": 3,
    "start_time": "2024-06-05T16:26:36.158Z"
   },
   {
    "duration": 1056,
    "start_time": "2024-06-05T16:55:25.084Z"
   },
   {
    "duration": 93,
    "start_time": "2024-06-05T16:55:26.141Z"
   },
   {
    "duration": 3,
    "start_time": "2024-06-05T16:55:26.235Z"
   },
   {
    "duration": 9,
    "start_time": "2024-06-05T16:55:26.239Z"
   },
   {
    "duration": 18,
    "start_time": "2024-06-05T16:55:26.249Z"
   },
   {
    "duration": 12,
    "start_time": "2024-06-05T16:55:26.269Z"
   },
   {
    "duration": 11,
    "start_time": "2024-06-05T16:55:26.283Z"
   },
   {
    "duration": 2,
    "start_time": "2024-06-05T16:55:26.296Z"
   },
   {
    "duration": 4,
    "start_time": "2024-06-05T16:55:26.300Z"
   },
   {
    "duration": 2,
    "start_time": "2024-06-05T16:55:26.313Z"
   },
   {
    "duration": 3,
    "start_time": "2024-06-05T16:55:26.317Z"
   },
   {
    "duration": 8,
    "start_time": "2024-06-05T16:55:26.321Z"
   },
   {
    "duration": 17,
    "start_time": "2024-06-05T16:55:26.330Z"
   },
   {
    "duration": 11,
    "start_time": "2024-06-05T16:55:26.349Z"
   },
   {
    "duration": 5,
    "start_time": "2024-06-05T16:55:26.361Z"
   },
   {
    "duration": 5,
    "start_time": "2024-06-05T16:55:26.368Z"
   },
   {
    "duration": 5,
    "start_time": "2024-06-05T16:55:26.375Z"
   },
   {
    "duration": 8,
    "start_time": "2024-06-05T16:55:26.381Z"
   },
   {
    "duration": 25,
    "start_time": "2024-06-05T16:55:26.390Z"
   },
   {
    "duration": 5,
    "start_time": "2024-06-05T16:55:26.417Z"
   },
   {
    "duration": 7,
    "start_time": "2024-06-05T16:55:26.423Z"
   },
   {
    "duration": 9,
    "start_time": "2024-06-05T16:55:26.432Z"
   },
   {
    "duration": 5,
    "start_time": "2024-06-05T16:55:26.442Z"
   },
   {
    "duration": 5,
    "start_time": "2024-06-05T16:55:26.448Z"
   },
   {
    "duration": 13,
    "start_time": "2024-06-05T16:55:26.454Z"
   },
   {
    "duration": 44,
    "start_time": "2024-06-05T16:55:26.469Z"
   },
   {
    "duration": 178,
    "start_time": "2024-06-05T16:55:26.514Z"
   },
   {
    "duration": 126,
    "start_time": "2024-06-05T16:55:26.698Z"
   },
   {
    "duration": 6,
    "start_time": "2024-06-05T16:55:26.826Z"
   },
   {
    "duration": 129,
    "start_time": "2024-06-05T16:55:26.833Z"
   },
   {
    "duration": 280,
    "start_time": "2024-06-05T16:55:26.964Z"
   },
   {
    "duration": 6,
    "start_time": "2024-06-05T16:55:27.245Z"
   },
   {
    "duration": 5,
    "start_time": "2024-06-05T16:55:27.253Z"
   },
   {
    "duration": 114,
    "start_time": "2024-06-05T16:55:27.260Z"
   },
   {
    "duration": 8,
    "start_time": "2024-06-05T16:55:27.376Z"
   },
   {
    "duration": 9,
    "start_time": "2024-06-05T16:55:27.385Z"
   },
   {
    "duration": 134,
    "start_time": "2024-06-05T16:55:27.396Z"
   },
   {
    "duration": 250,
    "start_time": "2024-06-05T16:55:27.532Z"
   },
   {
    "duration": 10,
    "start_time": "2024-06-05T16:55:27.784Z"
   },
   {
    "duration": 301,
    "start_time": "2024-06-05T16:55:27.795Z"
   },
   {
    "duration": 15,
    "start_time": "2024-06-05T16:55:28.098Z"
   },
   {
    "duration": 123,
    "start_time": "2024-06-05T16:55:28.115Z"
   },
   {
    "duration": 242,
    "start_time": "2024-06-05T16:55:28.239Z"
   },
   {
    "duration": 147,
    "start_time": "2024-06-05T16:55:28.483Z"
   },
   {
    "duration": 10,
    "start_time": "2024-06-05T16:55:28.632Z"
   },
   {
    "duration": 8,
    "start_time": "2024-06-05T16:55:28.644Z"
   },
   {
    "duration": 4,
    "start_time": "2024-06-05T16:55:28.654Z"
   },
   {
    "duration": 13,
    "start_time": "2024-06-05T16:55:28.659Z"
   },
   {
    "duration": 46,
    "start_time": "2024-06-05T16:55:28.674Z"
   },
   {
    "duration": 8,
    "start_time": "2024-06-05T16:55:28.722Z"
   },
   {
    "duration": 18,
    "start_time": "2024-06-05T16:55:28.732Z"
   },
   {
    "duration": 5,
    "start_time": "2024-06-05T16:55:28.752Z"
   },
   {
    "duration": 12,
    "start_time": "2024-06-05T16:55:28.759Z"
   },
   {
    "duration": 12,
    "start_time": "2024-06-05T16:55:28.772Z"
   },
   {
    "duration": 10,
    "start_time": "2024-06-05T16:55:28.785Z"
   },
   {
    "duration": 8,
    "start_time": "2024-06-05T16:55:28.811Z"
   },
   {
    "duration": 7,
    "start_time": "2024-06-05T16:55:28.820Z"
   },
   {
    "duration": 7,
    "start_time": "2024-06-05T16:55:28.828Z"
   },
   {
    "duration": 14,
    "start_time": "2024-06-05T16:55:28.836Z"
   },
   {
    "duration": 400,
    "start_time": "2024-06-05T16:55:28.851Z"
   },
   {
    "duration": 466,
    "start_time": "2024-06-05T16:55:29.253Z"
   },
   {
    "duration": 3,
    "start_time": "2024-06-05T16:55:29.721Z"
   },
   {
    "duration": 49,
    "start_time": "2024-06-05T16:55:29.725Z"
   },
   {
    "duration": 9,
    "start_time": "2024-06-05T16:55:29.776Z"
   },
   {
    "duration": 12,
    "start_time": "2024-06-05T16:55:29.787Z"
   },
   {
    "duration": 10,
    "start_time": "2024-06-05T16:55:29.800Z"
   },
   {
    "duration": 7,
    "start_time": "2024-06-05T16:55:29.811Z"
   },
   {
    "duration": 4,
    "start_time": "2024-06-05T16:55:29.819Z"
   },
   {
    "duration": 9,
    "start_time": "2024-06-05T16:55:29.824Z"
   },
   {
    "duration": 2,
    "start_time": "2024-06-05T16:55:29.835Z"
   },
   {
    "duration": 212,
    "start_time": "2024-06-05T16:55:29.839Z"
   },
   {
    "duration": 9,
    "start_time": "2024-06-05T16:55:30.052Z"
   },
   {
    "duration": 10,
    "start_time": "2024-06-05T16:55:30.063Z"
   },
   {
    "duration": 22,
    "start_time": "2024-06-05T16:55:30.074Z"
   },
   {
    "duration": 32,
    "start_time": "2024-06-05T16:55:30.097Z"
   },
   {
    "duration": 33,
    "start_time": "2024-06-05T16:55:30.130Z"
   },
   {
    "duration": 22,
    "start_time": "2024-06-05T16:55:30.165Z"
   },
   {
    "duration": 42,
    "start_time": "2024-06-05T16:55:30.188Z"
   },
   {
    "duration": 92,
    "start_time": "2024-06-05T16:55:30.231Z"
   },
   {
    "duration": 25,
    "start_time": "2024-06-05T16:55:30.325Z"
   },
   {
    "duration": 26,
    "start_time": "2024-06-05T16:55:30.352Z"
   },
   {
    "duration": 25,
    "start_time": "2024-06-05T16:55:30.384Z"
   },
   {
    "duration": 32,
    "start_time": "2024-06-05T16:55:30.411Z"
   },
   {
    "duration": 26,
    "start_time": "2024-06-05T16:55:30.445Z"
   },
   {
    "duration": 12,
    "start_time": "2024-06-05T16:55:30.473Z"
   },
   {
    "duration": 47,
    "start_time": "2024-06-05T16:55:30.487Z"
   },
   {
    "duration": 38,
    "start_time": "2024-06-05T16:55:30.535Z"
   },
   {
    "duration": 35,
    "start_time": "2024-06-05T16:55:30.575Z"
   },
   {
    "duration": 30,
    "start_time": "2024-06-05T16:55:30.612Z"
   },
   {
    "duration": 33,
    "start_time": "2024-06-05T16:55:30.644Z"
   },
   {
    "duration": 45,
    "start_time": "2024-06-05T16:55:30.678Z"
   },
   {
    "duration": 1315,
    "start_time": "2024-06-05T16:55:30.725Z"
   },
   {
    "duration": 26,
    "start_time": "2024-06-05T16:55:32.042Z"
   },
   {
    "duration": 8,
    "start_time": "2024-06-05T16:55:32.070Z"
   },
   {
    "duration": 33,
    "start_time": "2024-06-05T16:55:32.079Z"
   },
   {
    "duration": 3,
    "start_time": "2024-06-05T16:55:32.114Z"
   },
   {
    "duration": 8,
    "start_time": "2024-06-05T16:55:32.118Z"
   },
   {
    "duration": 1129,
    "start_time": "2024-06-05T17:09:40.202Z"
   },
   {
    "duration": 100,
    "start_time": "2024-06-05T17:09:41.333Z"
   },
   {
    "duration": 3,
    "start_time": "2024-06-05T17:09:41.434Z"
   },
   {
    "duration": 4,
    "start_time": "2024-06-05T17:09:41.439Z"
   },
   {
    "duration": 14,
    "start_time": "2024-06-05T17:09:41.444Z"
   },
   {
    "duration": 11,
    "start_time": "2024-06-05T17:09:41.459Z"
   },
   {
    "duration": 11,
    "start_time": "2024-06-05T17:09:41.471Z"
   },
   {
    "duration": 2,
    "start_time": "2024-06-05T17:09:41.483Z"
   },
   {
    "duration": 7,
    "start_time": "2024-06-05T17:09:41.486Z"
   },
   {
    "duration": 5,
    "start_time": "2024-06-05T17:09:41.495Z"
   },
   {
    "duration": 2,
    "start_time": "2024-06-05T17:09:41.512Z"
   },
   {
    "duration": 3,
    "start_time": "2024-06-05T17:09:41.516Z"
   },
   {
    "duration": 5,
    "start_time": "2024-06-05T17:09:41.520Z"
   },
   {
    "duration": 11,
    "start_time": "2024-06-05T17:09:41.527Z"
   },
   {
    "duration": 8,
    "start_time": "2024-06-05T17:09:41.539Z"
   },
   {
    "duration": 7,
    "start_time": "2024-06-05T17:09:41.549Z"
   },
   {
    "duration": 4,
    "start_time": "2024-06-05T17:09:41.557Z"
   },
   {
    "duration": 5,
    "start_time": "2024-06-05T17:09:41.563Z"
   },
   {
    "duration": 7,
    "start_time": "2024-06-05T17:09:41.569Z"
   },
   {
    "duration": 5,
    "start_time": "2024-06-05T17:09:41.578Z"
   },
   {
    "duration": 33,
    "start_time": "2024-06-05T17:09:41.584Z"
   },
   {
    "duration": 9,
    "start_time": "2024-06-05T17:09:41.618Z"
   },
   {
    "duration": 6,
    "start_time": "2024-06-05T17:09:41.629Z"
   },
   {
    "duration": 9,
    "start_time": "2024-06-05T17:09:41.637Z"
   },
   {
    "duration": 6,
    "start_time": "2024-06-05T17:09:41.647Z"
   },
   {
    "duration": 13,
    "start_time": "2024-06-05T17:09:41.654Z"
   },
   {
    "duration": 209,
    "start_time": "2024-06-05T17:09:41.668Z"
   },
   {
    "duration": 132,
    "start_time": "2024-06-05T17:09:41.881Z"
   },
   {
    "duration": 4,
    "start_time": "2024-06-05T17:09:42.015Z"
   },
   {
    "duration": 128,
    "start_time": "2024-06-05T17:09:42.021Z"
   },
   {
    "duration": 280,
    "start_time": "2024-06-05T17:09:42.150Z"
   },
   {
    "duration": 5,
    "start_time": "2024-06-05T17:09:42.431Z"
   },
   {
    "duration": 6,
    "start_time": "2024-06-05T17:09:42.437Z"
   },
   {
    "duration": 114,
    "start_time": "2024-06-05T17:09:42.444Z"
   },
   {
    "duration": 6,
    "start_time": "2024-06-05T17:09:42.559Z"
   },
   {
    "duration": 7,
    "start_time": "2024-06-05T17:09:42.567Z"
   },
   {
    "duration": 137,
    "start_time": "2024-06-05T17:09:42.575Z"
   },
   {
    "duration": 257,
    "start_time": "2024-06-05T17:09:42.713Z"
   },
   {
    "duration": 10,
    "start_time": "2024-06-05T17:09:42.972Z"
   },
   {
    "duration": 305,
    "start_time": "2024-06-05T17:09:42.984Z"
   },
   {
    "duration": 8,
    "start_time": "2024-06-05T17:09:43.291Z"
   },
   {
    "duration": 132,
    "start_time": "2024-06-05T17:09:43.300Z"
   },
   {
    "duration": 269,
    "start_time": "2024-06-05T17:09:43.434Z"
   },
   {
    "duration": 149,
    "start_time": "2024-06-05T17:09:43.705Z"
   },
   {
    "duration": 10,
    "start_time": "2024-06-05T17:09:43.856Z"
   },
   {
    "duration": 9,
    "start_time": "2024-06-05T17:09:43.868Z"
   },
   {
    "duration": 4,
    "start_time": "2024-06-05T17:09:43.879Z"
   },
   {
    "duration": 37,
    "start_time": "2024-06-05T17:09:43.885Z"
   },
   {
    "duration": 10,
    "start_time": "2024-06-05T17:09:43.924Z"
   },
   {
    "duration": 7,
    "start_time": "2024-06-05T17:09:43.936Z"
   },
   {
    "duration": 10,
    "start_time": "2024-06-05T17:09:43.944Z"
   },
   {
    "duration": 6,
    "start_time": "2024-06-05T17:09:43.955Z"
   },
   {
    "duration": 10,
    "start_time": "2024-06-05T17:09:43.963Z"
   },
   {
    "duration": 45,
    "start_time": "2024-06-05T17:09:43.974Z"
   },
   {
    "duration": 10,
    "start_time": "2024-06-05T17:09:44.020Z"
   },
   {
    "duration": 6,
    "start_time": "2024-06-05T17:09:44.032Z"
   },
   {
    "duration": 6,
    "start_time": "2024-06-05T17:09:44.040Z"
   },
   {
    "duration": 13,
    "start_time": "2024-06-05T17:09:44.048Z"
   },
   {
    "duration": 6,
    "start_time": "2024-06-05T17:09:44.062Z"
   },
   {
    "duration": 418,
    "start_time": "2024-06-05T17:09:44.069Z"
   },
   {
    "duration": 466,
    "start_time": "2024-06-05T17:09:44.488Z"
   },
   {
    "duration": 3,
    "start_time": "2024-06-05T17:09:44.955Z"
   },
   {
    "duration": 46,
    "start_time": "2024-06-05T17:09:44.960Z"
   },
   {
    "duration": 11,
    "start_time": "2024-06-05T17:09:45.007Z"
   },
   {
    "duration": 24,
    "start_time": "2024-06-05T17:09:45.019Z"
   },
   {
    "duration": 22,
    "start_time": "2024-06-05T17:09:45.045Z"
   },
   {
    "duration": 23,
    "start_time": "2024-06-05T17:09:45.069Z"
   },
   {
    "duration": 20,
    "start_time": "2024-06-05T17:09:45.094Z"
   },
   {
    "duration": 19,
    "start_time": "2024-06-05T17:09:45.116Z"
   },
   {
    "duration": 18,
    "start_time": "2024-06-05T17:09:45.137Z"
   },
   {
    "duration": 206,
    "start_time": "2024-06-05T17:09:45.156Z"
   },
   {
    "duration": 10,
    "start_time": "2024-06-05T17:09:45.364Z"
   },
   {
    "duration": 14,
    "start_time": "2024-06-05T17:09:45.375Z"
   },
   {
    "duration": 3,
    "start_time": "2024-06-05T17:09:45.390Z"
   },
   {
    "duration": 26,
    "start_time": "2024-06-05T17:09:45.394Z"
   },
   {
    "duration": 16,
    "start_time": "2024-06-05T17:09:45.421Z"
   },
   {
    "duration": 6,
    "start_time": "2024-06-05T17:09:45.439Z"
   },
   {
    "duration": 7,
    "start_time": "2024-06-05T17:09:45.446Z"
   },
   {
    "duration": 6,
    "start_time": "2024-06-05T17:09:45.455Z"
   },
   {
    "duration": 11,
    "start_time": "2024-06-05T17:09:45.462Z"
   },
   {
    "duration": 15,
    "start_time": "2024-06-05T17:09:45.474Z"
   },
   {
    "duration": 4,
    "start_time": "2024-06-05T17:09:45.495Z"
   },
   {
    "duration": 20,
    "start_time": "2024-06-05T17:09:45.500Z"
   },
   {
    "duration": 12,
    "start_time": "2024-06-05T17:09:45.521Z"
   },
   {
    "duration": 20,
    "start_time": "2024-06-05T17:09:45.534Z"
   },
   {
    "duration": 8,
    "start_time": "2024-06-05T17:09:45.555Z"
   },
   {
    "duration": 8,
    "start_time": "2024-06-05T17:09:45.564Z"
   },
   {
    "duration": 25,
    "start_time": "2024-06-05T17:09:45.573Z"
   },
   {
    "duration": 8,
    "start_time": "2024-06-05T17:09:45.599Z"
   },
   {
    "duration": 8,
    "start_time": "2024-06-05T17:09:45.608Z"
   },
   {
    "duration": 6,
    "start_time": "2024-06-05T17:09:45.618Z"
   },
   {
    "duration": 1296,
    "start_time": "2024-06-05T17:09:45.625Z"
   },
   {
    "duration": 24,
    "start_time": "2024-06-05T17:09:46.922Z"
   },
   {
    "duration": 6,
    "start_time": "2024-06-05T17:09:46.947Z"
   },
   {
    "duration": 14,
    "start_time": "2024-06-05T17:09:46.955Z"
   },
   {
    "duration": 2,
    "start_time": "2024-06-05T17:09:46.971Z"
   },
   {
    "duration": 6,
    "start_time": "2024-06-05T17:09:46.975Z"
   },
   {
    "duration": 1080,
    "start_time": "2024-06-05T17:11:14.048Z"
   },
   {
    "duration": 98,
    "start_time": "2024-06-05T17:11:15.130Z"
   },
   {
    "duration": 3,
    "start_time": "2024-06-05T17:11:15.229Z"
   },
   {
    "duration": 6,
    "start_time": "2024-06-05T17:11:15.233Z"
   },
   {
    "duration": 23,
    "start_time": "2024-06-05T17:11:15.240Z"
   },
   {
    "duration": 14,
    "start_time": "2024-06-05T17:11:15.265Z"
   },
   {
    "duration": 10,
    "start_time": "2024-06-05T17:11:15.281Z"
   },
   {
    "duration": 2,
    "start_time": "2024-06-05T17:11:15.293Z"
   },
   {
    "duration": 12,
    "start_time": "2024-06-05T17:11:15.296Z"
   },
   {
    "duration": 8,
    "start_time": "2024-06-05T17:11:15.310Z"
   },
   {
    "duration": 9,
    "start_time": "2024-06-05T17:11:15.319Z"
   },
   {
    "duration": 4,
    "start_time": "2024-06-05T17:11:15.329Z"
   },
   {
    "duration": 10,
    "start_time": "2024-06-05T17:11:15.334Z"
   },
   {
    "duration": 10,
    "start_time": "2024-06-05T17:11:15.346Z"
   },
   {
    "duration": 4,
    "start_time": "2024-06-05T17:11:15.357Z"
   },
   {
    "duration": 24,
    "start_time": "2024-06-05T17:11:15.362Z"
   },
   {
    "duration": 4,
    "start_time": "2024-06-05T17:11:15.387Z"
   },
   {
    "duration": 9,
    "start_time": "2024-06-05T17:11:15.393Z"
   },
   {
    "duration": 11,
    "start_time": "2024-06-05T17:11:15.403Z"
   },
   {
    "duration": 5,
    "start_time": "2024-06-05T17:11:15.415Z"
   },
   {
    "duration": 43,
    "start_time": "2024-06-05T17:11:15.422Z"
   },
   {
    "duration": 31,
    "start_time": "2024-06-05T17:11:15.466Z"
   },
   {
    "duration": 23,
    "start_time": "2024-06-05T17:11:15.499Z"
   },
   {
    "duration": 18,
    "start_time": "2024-06-05T17:11:15.523Z"
   },
   {
    "duration": 6,
    "start_time": "2024-06-05T17:11:15.542Z"
   },
   {
    "duration": 12,
    "start_time": "2024-06-05T17:11:15.549Z"
   },
   {
    "duration": 171,
    "start_time": "2024-06-05T17:11:15.563Z"
   },
   {
    "duration": 140,
    "start_time": "2024-06-05T17:11:15.738Z"
   },
   {
    "duration": 5,
    "start_time": "2024-06-05T17:11:15.879Z"
   },
   {
    "duration": 130,
    "start_time": "2024-06-05T17:11:15.886Z"
   },
   {
    "duration": 283,
    "start_time": "2024-06-05T17:11:16.018Z"
   },
   {
    "duration": 11,
    "start_time": "2024-06-05T17:11:16.302Z"
   },
   {
    "duration": 5,
    "start_time": "2024-06-05T17:11:16.314Z"
   },
   {
    "duration": 113,
    "start_time": "2024-06-05T17:11:16.321Z"
   },
   {
    "duration": 8,
    "start_time": "2024-06-05T17:11:16.435Z"
   },
   {
    "duration": 9,
    "start_time": "2024-06-05T17:11:16.444Z"
   },
   {
    "duration": 136,
    "start_time": "2024-06-05T17:11:16.455Z"
   },
   {
    "duration": 253,
    "start_time": "2024-06-05T17:11:16.592Z"
   },
   {
    "duration": 10,
    "start_time": "2024-06-05T17:11:16.846Z"
   },
   {
    "duration": 298,
    "start_time": "2024-06-05T17:11:16.857Z"
   },
   {
    "duration": 7,
    "start_time": "2024-06-05T17:11:17.157Z"
   },
   {
    "duration": 128,
    "start_time": "2024-06-05T17:11:17.165Z"
   },
   {
    "duration": 247,
    "start_time": "2024-06-05T17:11:17.294Z"
   },
   {
    "duration": 151,
    "start_time": "2024-06-05T17:11:17.543Z"
   },
   {
    "duration": 17,
    "start_time": "2024-06-05T17:11:17.695Z"
   },
   {
    "duration": 9,
    "start_time": "2024-06-05T17:11:17.713Z"
   },
   {
    "duration": 4,
    "start_time": "2024-06-05T17:11:17.724Z"
   },
   {
    "duration": 17,
    "start_time": "2024-06-05T17:11:17.729Z"
   },
   {
    "duration": 12,
    "start_time": "2024-06-05T17:11:17.748Z"
   },
   {
    "duration": 12,
    "start_time": "2024-06-05T17:11:17.762Z"
   },
   {
    "duration": 37,
    "start_time": "2024-06-05T17:11:17.776Z"
   },
   {
    "duration": 7,
    "start_time": "2024-06-05T17:11:17.815Z"
   },
   {
    "duration": 12,
    "start_time": "2024-06-05T17:11:17.824Z"
   },
   {
    "duration": 11,
    "start_time": "2024-06-05T17:11:17.838Z"
   },
   {
    "duration": 13,
    "start_time": "2024-06-05T17:11:17.850Z"
   },
   {
    "duration": 8,
    "start_time": "2024-06-05T17:11:17.864Z"
   },
   {
    "duration": 13,
    "start_time": "2024-06-05T17:11:17.874Z"
   },
   {
    "duration": 9,
    "start_time": "2024-06-05T17:11:17.912Z"
   },
   {
    "duration": 7,
    "start_time": "2024-06-05T17:11:17.922Z"
   },
   {
    "duration": 421,
    "start_time": "2024-06-05T17:11:17.931Z"
   },
   {
    "duration": 484,
    "start_time": "2024-06-05T17:11:18.353Z"
   },
   {
    "duration": 3,
    "start_time": "2024-06-05T17:11:18.839Z"
   },
   {
    "duration": 34,
    "start_time": "2024-06-05T17:11:18.843Z"
   },
   {
    "duration": 10,
    "start_time": "2024-06-05T17:11:18.879Z"
   },
   {
    "duration": 30,
    "start_time": "2024-06-05T17:11:18.890Z"
   },
   {
    "duration": 4,
    "start_time": "2024-06-05T17:11:18.921Z"
   },
   {
    "duration": 12,
    "start_time": "2024-06-05T17:11:18.926Z"
   },
   {
    "duration": 6,
    "start_time": "2024-06-05T17:11:18.939Z"
   },
   {
    "duration": 10,
    "start_time": "2024-06-05T17:11:18.947Z"
   },
   {
    "duration": 6,
    "start_time": "2024-06-05T17:11:18.958Z"
   },
   {
    "duration": 218,
    "start_time": "2024-06-05T17:11:18.966Z"
   },
   {
    "duration": 9,
    "start_time": "2024-06-05T17:11:19.186Z"
   },
   {
    "duration": 18,
    "start_time": "2024-06-05T17:11:19.197Z"
   },
   {
    "duration": 10,
    "start_time": "2024-06-05T17:11:19.216Z"
   },
   {
    "duration": 9,
    "start_time": "2024-06-05T17:11:19.227Z"
   },
   {
    "duration": 6,
    "start_time": "2024-06-05T17:11:19.238Z"
   },
   {
    "duration": 5,
    "start_time": "2024-06-05T17:11:19.245Z"
   },
   {
    "duration": 4,
    "start_time": "2024-06-05T17:11:19.252Z"
   },
   {
    "duration": 5,
    "start_time": "2024-06-05T17:11:19.257Z"
   },
   {
    "duration": 4,
    "start_time": "2024-06-05T17:11:19.264Z"
   },
   {
    "duration": 3,
    "start_time": "2024-06-05T17:11:19.269Z"
   },
   {
    "duration": 4,
    "start_time": "2024-06-05T17:11:19.312Z"
   },
   {
    "duration": 5,
    "start_time": "2024-06-05T17:11:19.317Z"
   },
   {
    "duration": 6,
    "start_time": "2024-06-05T17:11:19.323Z"
   },
   {
    "duration": 8,
    "start_time": "2024-06-05T17:11:19.330Z"
   },
   {
    "duration": 23,
    "start_time": "2024-06-05T17:11:19.340Z"
   },
   {
    "duration": 6,
    "start_time": "2024-06-05T17:11:19.365Z"
   },
   {
    "duration": 5,
    "start_time": "2024-06-05T17:11:19.372Z"
   },
   {
    "duration": 7,
    "start_time": "2024-06-05T17:11:19.379Z"
   },
   {
    "duration": 29,
    "start_time": "2024-06-05T17:11:19.388Z"
   },
   {
    "duration": 2,
    "start_time": "2024-06-05T17:11:19.419Z"
   },
   {
    "duration": 1728,
    "start_time": "2024-06-05T17:11:19.422Z"
   },
   {
    "duration": 70,
    "start_time": "2024-06-05T17:11:21.152Z"
   },
   {
    "duration": 7,
    "start_time": "2024-06-05T17:11:21.223Z"
   },
   {
    "duration": 21,
    "start_time": "2024-06-05T17:11:21.232Z"
   },
   {
    "duration": 3,
    "start_time": "2024-06-05T17:11:21.254Z"
   },
   {
    "duration": 54,
    "start_time": "2024-06-05T17:11:21.259Z"
   },
   {
    "duration": 1131,
    "start_time": "2024-06-05T17:13:17.511Z"
   },
   {
    "duration": 97,
    "start_time": "2024-06-05T17:13:18.645Z"
   },
   {
    "duration": 3,
    "start_time": "2024-06-05T17:13:18.744Z"
   },
   {
    "duration": 6,
    "start_time": "2024-06-05T17:13:18.749Z"
   },
   {
    "duration": 18,
    "start_time": "2024-06-05T17:13:18.756Z"
   },
   {
    "duration": 13,
    "start_time": "2024-06-05T17:13:18.775Z"
   },
   {
    "duration": 16,
    "start_time": "2024-06-05T17:13:18.790Z"
   },
   {
    "duration": 3,
    "start_time": "2024-06-05T17:13:18.807Z"
   },
   {
    "duration": 28,
    "start_time": "2024-06-05T17:13:18.812Z"
   },
   {
    "duration": 2,
    "start_time": "2024-06-05T17:13:18.842Z"
   },
   {
    "duration": 11,
    "start_time": "2024-06-05T17:13:18.846Z"
   },
   {
    "duration": 3,
    "start_time": "2024-06-05T17:13:18.858Z"
   },
   {
    "duration": 5,
    "start_time": "2024-06-05T17:13:18.862Z"
   },
   {
    "duration": 16,
    "start_time": "2024-06-05T17:13:18.868Z"
   },
   {
    "duration": 14,
    "start_time": "2024-06-05T17:13:18.886Z"
   },
   {
    "duration": 26,
    "start_time": "2024-06-05T17:13:18.902Z"
   },
   {
    "duration": 13,
    "start_time": "2024-06-05T17:13:18.930Z"
   },
   {
    "duration": 6,
    "start_time": "2024-06-05T17:13:18.944Z"
   },
   {
    "duration": 11,
    "start_time": "2024-06-05T17:13:18.951Z"
   },
   {
    "duration": 6,
    "start_time": "2024-06-05T17:13:18.963Z"
   },
   {
    "duration": 10,
    "start_time": "2024-06-05T17:13:18.970Z"
   },
   {
    "duration": 8,
    "start_time": "2024-06-05T17:13:18.981Z"
   },
   {
    "duration": 10,
    "start_time": "2024-06-05T17:13:18.991Z"
   },
   {
    "duration": 10,
    "start_time": "2024-06-05T17:13:19.002Z"
   },
   {
    "duration": 6,
    "start_time": "2024-06-05T17:13:19.013Z"
   },
   {
    "duration": 22,
    "start_time": "2024-06-05T17:13:19.020Z"
   },
   {
    "duration": 178,
    "start_time": "2024-06-05T17:13:19.044Z"
   },
   {
    "duration": 133,
    "start_time": "2024-06-05T17:13:19.226Z"
   },
   {
    "duration": 5,
    "start_time": "2024-06-05T17:13:19.360Z"
   },
   {
    "duration": 127,
    "start_time": "2024-06-05T17:13:19.367Z"
   },
   {
    "duration": 287,
    "start_time": "2024-06-05T17:13:19.495Z"
   },
   {
    "duration": 5,
    "start_time": "2024-06-05T17:13:19.784Z"
   },
   {
    "duration": 25,
    "start_time": "2024-06-05T17:13:19.790Z"
   },
   {
    "duration": 109,
    "start_time": "2024-06-05T17:13:19.816Z"
   },
   {
    "duration": 6,
    "start_time": "2024-06-05T17:13:19.927Z"
   },
   {
    "duration": 13,
    "start_time": "2024-06-05T17:13:19.934Z"
   },
   {
    "duration": 129,
    "start_time": "2024-06-05T17:13:19.949Z"
   },
   {
    "duration": 257,
    "start_time": "2024-06-05T17:13:20.080Z"
   },
   {
    "duration": 9,
    "start_time": "2024-06-05T17:13:20.338Z"
   },
   {
    "duration": 300,
    "start_time": "2024-06-05T17:13:20.349Z"
   },
   {
    "duration": 7,
    "start_time": "2024-06-05T17:13:20.651Z"
   },
   {
    "duration": 132,
    "start_time": "2024-06-05T17:13:20.660Z"
   },
   {
    "duration": 253,
    "start_time": "2024-06-05T17:13:20.793Z"
   },
   {
    "duration": 153,
    "start_time": "2024-06-05T17:13:21.047Z"
   },
   {
    "duration": 12,
    "start_time": "2024-06-05T17:13:21.201Z"
   },
   {
    "duration": 8,
    "start_time": "2024-06-05T17:13:21.215Z"
   },
   {
    "duration": 4,
    "start_time": "2024-06-05T17:13:21.224Z"
   },
   {
    "duration": 13,
    "start_time": "2024-06-05T17:13:21.230Z"
   },
   {
    "duration": 11,
    "start_time": "2024-06-05T17:13:21.244Z"
   },
   {
    "duration": 9,
    "start_time": "2024-06-05T17:13:21.256Z"
   },
   {
    "duration": 45,
    "start_time": "2024-06-05T17:13:21.267Z"
   },
   {
    "duration": 5,
    "start_time": "2024-06-05T17:13:21.314Z"
   },
   {
    "duration": 18,
    "start_time": "2024-06-05T17:13:21.320Z"
   },
   {
    "duration": 15,
    "start_time": "2024-06-05T17:13:21.339Z"
   },
   {
    "duration": 11,
    "start_time": "2024-06-05T17:13:21.355Z"
   },
   {
    "duration": 7,
    "start_time": "2024-06-05T17:13:21.368Z"
   },
   {
    "duration": 8,
    "start_time": "2024-06-05T17:13:21.376Z"
   },
   {
    "duration": 34,
    "start_time": "2024-06-05T17:13:21.385Z"
   },
   {
    "duration": 8,
    "start_time": "2024-06-05T17:13:21.421Z"
   },
   {
    "duration": 417,
    "start_time": "2024-06-05T17:13:21.431Z"
   },
   {
    "duration": 480,
    "start_time": "2024-06-05T17:13:21.850Z"
   },
   {
    "duration": 3,
    "start_time": "2024-06-05T17:13:22.332Z"
   },
   {
    "duration": 37,
    "start_time": "2024-06-05T17:13:22.337Z"
   },
   {
    "duration": 10,
    "start_time": "2024-06-05T17:13:22.376Z"
   },
   {
    "duration": 31,
    "start_time": "2024-06-05T17:13:22.388Z"
   },
   {
    "duration": 7,
    "start_time": "2024-06-05T17:13:22.421Z"
   },
   {
    "duration": 15,
    "start_time": "2024-06-05T17:13:22.429Z"
   },
   {
    "duration": 5,
    "start_time": "2024-06-05T17:13:22.446Z"
   },
   {
    "duration": 13,
    "start_time": "2024-06-05T17:13:22.453Z"
   },
   {
    "duration": 19,
    "start_time": "2024-06-05T17:13:22.467Z"
   },
   {
    "duration": 229,
    "start_time": "2024-06-05T17:13:22.487Z"
   },
   {
    "duration": 10,
    "start_time": "2024-06-05T17:13:22.717Z"
   },
   {
    "duration": 14,
    "start_time": "2024-06-05T17:13:22.728Z"
   },
   {
    "duration": 5,
    "start_time": "2024-06-05T17:13:22.744Z"
   },
   {
    "duration": 20,
    "start_time": "2024-06-05T17:13:22.750Z"
   },
   {
    "duration": 6,
    "start_time": "2024-06-05T17:13:22.771Z"
   },
   {
    "duration": 9,
    "start_time": "2024-06-05T17:13:22.778Z"
   },
   {
    "duration": 4,
    "start_time": "2024-06-05T17:13:22.789Z"
   },
   {
    "duration": 19,
    "start_time": "2024-06-05T17:13:22.795Z"
   },
   {
    "duration": 9,
    "start_time": "2024-06-05T17:13:22.816Z"
   },
   {
    "duration": 3,
    "start_time": "2024-06-05T17:13:22.827Z"
   },
   {
    "duration": 6,
    "start_time": "2024-06-05T17:13:22.836Z"
   },
   {
    "duration": 7,
    "start_time": "2024-06-05T17:13:22.843Z"
   },
   {
    "duration": 7,
    "start_time": "2024-06-05T17:13:22.851Z"
   },
   {
    "duration": 14,
    "start_time": "2024-06-05T17:13:22.860Z"
   },
   {
    "duration": 5,
    "start_time": "2024-06-05T17:13:22.876Z"
   },
   {
    "duration": 32,
    "start_time": "2024-06-05T17:13:22.882Z"
   },
   {
    "duration": 7,
    "start_time": "2024-06-05T17:13:22.916Z"
   },
   {
    "duration": 10,
    "start_time": "2024-06-05T17:13:22.924Z"
   },
   {
    "duration": 10,
    "start_time": "2024-06-05T17:13:22.936Z"
   },
   {
    "duration": 3,
    "start_time": "2024-06-05T17:13:22.948Z"
   },
   {
    "duration": 1365,
    "start_time": "2024-06-05T17:13:22.952Z"
   },
   {
    "duration": 25,
    "start_time": "2024-06-05T17:13:24.318Z"
   },
   {
    "duration": 7,
    "start_time": "2024-06-05T17:13:24.345Z"
   },
   {
    "duration": 7,
    "start_time": "2024-06-05T17:13:24.353Z"
   },
   {
    "duration": 2,
    "start_time": "2024-06-05T17:13:24.362Z"
   },
   {
    "duration": 14,
    "start_time": "2024-06-05T17:13:24.365Z"
   },
   {
    "duration": 1364,
    "start_time": "2024-06-05T18:59:59.782Z"
   },
   {
    "duration": 261,
    "start_time": "2024-06-05T19:00:01.148Z"
   },
   {
    "duration": 3,
    "start_time": "2024-06-05T19:00:01.410Z"
   },
   {
    "duration": 61,
    "start_time": "2024-06-05T19:00:01.416Z"
   },
   {
    "duration": 50,
    "start_time": "2024-06-05T19:00:01.479Z"
   },
   {
    "duration": 44,
    "start_time": "2024-06-05T19:00:01.530Z"
   },
   {
    "duration": 95,
    "start_time": "2024-06-05T19:00:01.576Z"
   },
   {
    "duration": 81,
    "start_time": "2024-06-05T19:00:01.673Z"
   },
   {
    "duration": 85,
    "start_time": "2024-06-05T19:00:01.755Z"
   },
   {
    "duration": 42,
    "start_time": "2024-06-05T19:00:01.844Z"
   },
   {
    "duration": 35,
    "start_time": "2024-06-05T19:00:01.888Z"
   },
   {
    "duration": 87,
    "start_time": "2024-06-05T19:00:01.925Z"
   },
   {
    "duration": 29,
    "start_time": "2024-06-05T19:00:02.014Z"
   },
   {
    "duration": 23,
    "start_time": "2024-06-05T19:00:02.045Z"
   },
   {
    "duration": 6,
    "start_time": "2024-06-05T19:00:02.070Z"
   },
   {
    "duration": 17,
    "start_time": "2024-06-05T19:00:02.077Z"
   },
   {
    "duration": 26,
    "start_time": "2024-06-05T19:00:02.096Z"
   },
   {
    "duration": 15,
    "start_time": "2024-06-05T19:00:02.123Z"
   },
   {
    "duration": 40,
    "start_time": "2024-06-05T19:00:02.140Z"
   },
   {
    "duration": 20,
    "start_time": "2024-06-05T19:00:02.181Z"
   },
   {
    "duration": 27,
    "start_time": "2024-06-05T19:00:02.203Z"
   },
   {
    "duration": 24,
    "start_time": "2024-06-05T19:00:02.232Z"
   },
   {
    "duration": 8,
    "start_time": "2024-06-05T19:00:02.258Z"
   },
   {
    "duration": 7,
    "start_time": "2024-06-05T19:00:02.267Z"
   },
   {
    "duration": 8,
    "start_time": "2024-06-05T19:00:02.276Z"
   },
   {
    "duration": 40,
    "start_time": "2024-06-05T19:00:02.286Z"
   },
   {
    "duration": 221,
    "start_time": "2024-06-05T19:00:02.328Z"
   },
   {
    "duration": 146,
    "start_time": "2024-06-05T19:00:02.560Z"
   },
   {
    "duration": 6,
    "start_time": "2024-06-05T19:00:02.708Z"
   },
   {
    "duration": 206,
    "start_time": "2024-06-05T19:00:02.717Z"
   },
   {
    "duration": 335,
    "start_time": "2024-06-05T19:00:02.925Z"
   },
   {
    "duration": 6,
    "start_time": "2024-06-05T19:00:03.262Z"
   },
   {
    "duration": 10,
    "start_time": "2024-06-05T19:00:03.270Z"
   },
   {
    "duration": 137,
    "start_time": "2024-06-05T19:00:03.282Z"
   },
   {
    "duration": 9,
    "start_time": "2024-06-05T19:00:03.422Z"
   },
   {
    "duration": 37,
    "start_time": "2024-06-05T19:00:03.433Z"
   },
   {
    "duration": 141,
    "start_time": "2024-06-05T19:00:03.471Z"
   },
   {
    "duration": 322,
    "start_time": "2024-06-05T19:00:03.614Z"
   },
   {
    "duration": 13,
    "start_time": "2024-06-05T19:00:03.938Z"
   },
   {
    "duration": 400,
    "start_time": "2024-06-05T19:00:03.961Z"
   },
   {
    "duration": 9,
    "start_time": "2024-06-05T19:00:04.363Z"
   },
   {
    "duration": 166,
    "start_time": "2024-06-05T19:00:04.374Z"
   },
   {
    "duration": 293,
    "start_time": "2024-06-05T19:00:04.542Z"
   },
   {
    "duration": 174,
    "start_time": "2024-06-05T19:00:04.837Z"
   },
   {
    "duration": 10,
    "start_time": "2024-06-05T19:00:05.013Z"
   },
   {
    "duration": 15,
    "start_time": "2024-06-05T19:00:05.024Z"
   },
   {
    "duration": 19,
    "start_time": "2024-06-05T19:00:05.041Z"
   },
   {
    "duration": 18,
    "start_time": "2024-06-05T19:00:05.063Z"
   },
   {
    "duration": 13,
    "start_time": "2024-06-05T19:00:05.083Z"
   },
   {
    "duration": 19,
    "start_time": "2024-06-05T19:00:05.098Z"
   },
   {
    "duration": 26,
    "start_time": "2024-06-05T19:00:05.119Z"
   },
   {
    "duration": 16,
    "start_time": "2024-06-05T19:00:05.146Z"
   },
   {
    "duration": 50,
    "start_time": "2024-06-05T19:00:05.164Z"
   },
   {
    "duration": 23,
    "start_time": "2024-06-05T19:00:05.216Z"
   },
   {
    "duration": 20,
    "start_time": "2024-06-05T19:00:05.241Z"
   },
   {
    "duration": 18,
    "start_time": "2024-06-05T19:00:05.263Z"
   },
   {
    "duration": 39,
    "start_time": "2024-06-05T19:00:05.284Z"
   },
   {
    "duration": 31,
    "start_time": "2024-06-05T19:00:05.325Z"
   },
   {
    "duration": 16,
    "start_time": "2024-06-05T19:00:05.358Z"
   },
   {
    "duration": 531,
    "start_time": "2024-06-05T19:00:05.376Z"
   },
   {
    "duration": 627,
    "start_time": "2024-06-05T19:00:05.908Z"
   },
   {
    "duration": 5,
    "start_time": "2024-06-05T19:00:06.537Z"
   },
   {
    "duration": 53,
    "start_time": "2024-06-05T19:00:06.544Z"
   },
   {
    "duration": 13,
    "start_time": "2024-06-05T19:00:06.599Z"
   },
   {
    "duration": 15,
    "start_time": "2024-06-05T19:00:06.614Z"
   },
   {
    "duration": 4,
    "start_time": "2024-06-05T19:00:06.631Z"
   },
   {
    "duration": 3,
    "start_time": "2024-06-05T19:00:06.660Z"
   },
   {
    "duration": 24,
    "start_time": "2024-06-05T19:00:06.665Z"
   },
   {
    "duration": 108,
    "start_time": "2024-06-05T19:00:06.691Z"
   },
   {
    "duration": 17,
    "start_time": "2024-06-05T19:00:06.801Z"
   },
   {
    "duration": 244,
    "start_time": "2024-06-05T19:00:06.820Z"
   },
   {
    "duration": 16,
    "start_time": "2024-06-05T19:00:07.067Z"
   },
   {
    "duration": 22,
    "start_time": "2024-06-05T19:00:07.085Z"
   },
   {
    "duration": 17,
    "start_time": "2024-06-05T19:00:07.109Z"
   },
   {
    "duration": 15,
    "start_time": "2024-06-05T19:00:07.129Z"
   },
   {
    "duration": 19,
    "start_time": "2024-06-05T19:00:07.147Z"
   },
   {
    "duration": 25,
    "start_time": "2024-06-05T19:00:07.168Z"
   },
   {
    "duration": 22,
    "start_time": "2024-06-05T19:00:07.194Z"
   },
   {
    "duration": 6,
    "start_time": "2024-06-05T19:00:07.218Z"
   },
   {
    "duration": 6,
    "start_time": "2024-06-05T19:00:07.225Z"
   },
   {
    "duration": 5,
    "start_time": "2024-06-05T19:00:07.233Z"
   },
   {
    "duration": 16,
    "start_time": "2024-06-05T19:00:07.245Z"
   },
   {
    "duration": 5,
    "start_time": "2024-06-05T19:00:07.263Z"
   },
   {
    "duration": 11,
    "start_time": "2024-06-05T19:00:07.269Z"
   },
   {
    "duration": 5,
    "start_time": "2024-06-05T19:00:07.281Z"
   },
   {
    "duration": 11,
    "start_time": "2024-06-05T19:00:07.288Z"
   },
   {
    "duration": 12,
    "start_time": "2024-06-05T19:00:07.300Z"
   },
   {
    "duration": 18,
    "start_time": "2024-06-05T19:00:07.314Z"
   },
   {
    "duration": 32,
    "start_time": "2024-06-05T19:00:07.334Z"
   },
   {
    "duration": 11,
    "start_time": "2024-06-05T19:00:07.367Z"
   },
   {
    "duration": 3,
    "start_time": "2024-06-05T19:00:07.379Z"
   },
   {
    "duration": 1720,
    "start_time": "2024-06-05T19:00:07.384Z"
   },
   {
    "duration": 37,
    "start_time": "2024-06-05T19:00:09.106Z"
   },
   {
    "duration": 9,
    "start_time": "2024-06-05T19:00:09.160Z"
   },
   {
    "duration": 13,
    "start_time": "2024-06-05T19:00:09.171Z"
   },
   {
    "duration": 7,
    "start_time": "2024-06-05T19:00:09.186Z"
   },
   {
    "duration": 8,
    "start_time": "2024-06-05T19:00:09.194Z"
   },
   {
    "duration": 5,
    "start_time": "2024-06-05T19:05:03.541Z"
   },
   {
    "duration": 5,
    "start_time": "2024-06-05T19:05:03.916Z"
   },
   {
    "duration": 107,
    "start_time": "2024-06-05T19:05:04.365Z"
   },
   {
    "duration": 4,
    "start_time": "2024-06-05T19:05:16.038Z"
   },
   {
    "duration": 10,
    "start_time": "2024-06-05T19:05:16.253Z"
   },
   {
    "duration": 1288,
    "start_time": "2024-06-05T19:05:37.220Z"
   },
   {
    "duration": 96,
    "start_time": "2024-06-05T19:05:38.511Z"
   },
   {
    "duration": 3,
    "start_time": "2024-06-05T19:05:38.609Z"
   },
   {
    "duration": 16,
    "start_time": "2024-06-05T19:05:38.614Z"
   },
   {
    "duration": 28,
    "start_time": "2024-06-05T19:05:38.632Z"
   },
   {
    "duration": 14,
    "start_time": "2024-06-05T19:05:38.662Z"
   },
   {
    "duration": 32,
    "start_time": "2024-06-05T19:05:38.678Z"
   },
   {
    "duration": 5,
    "start_time": "2024-06-05T19:05:38.711Z"
   },
   {
    "duration": 9,
    "start_time": "2024-06-05T19:05:38.717Z"
   },
   {
    "duration": 5,
    "start_time": "2024-06-05T19:05:38.729Z"
   },
   {
    "duration": 19,
    "start_time": "2024-06-05T19:05:38.736Z"
   },
   {
    "duration": 17,
    "start_time": "2024-06-05T19:05:38.756Z"
   },
   {
    "duration": 7,
    "start_time": "2024-06-05T19:05:38.775Z"
   },
   {
    "duration": 25,
    "start_time": "2024-06-05T19:05:38.784Z"
   },
   {
    "duration": 7,
    "start_time": "2024-06-05T19:05:38.811Z"
   },
   {
    "duration": 18,
    "start_time": "2024-06-05T19:05:38.819Z"
   },
   {
    "duration": 12,
    "start_time": "2024-06-05T19:05:38.839Z"
   },
   {
    "duration": 13,
    "start_time": "2024-06-05T19:05:38.853Z"
   },
   {
    "duration": 21,
    "start_time": "2024-06-05T19:05:38.867Z"
   },
   {
    "duration": 19,
    "start_time": "2024-06-05T19:05:38.889Z"
   },
   {
    "duration": 7,
    "start_time": "2024-06-05T19:05:38.910Z"
   },
   {
    "duration": 26,
    "start_time": "2024-06-05T19:05:38.918Z"
   },
   {
    "duration": 23,
    "start_time": "2024-06-05T19:05:38.947Z"
   },
   {
    "duration": 21,
    "start_time": "2024-06-05T19:05:38.972Z"
   },
   {
    "duration": 30,
    "start_time": "2024-06-05T19:05:38.995Z"
   },
   {
    "duration": 34,
    "start_time": "2024-06-05T19:05:39.027Z"
   },
   {
    "duration": 214,
    "start_time": "2024-06-05T19:05:39.062Z"
   },
   {
    "duration": 174,
    "start_time": "2024-06-05T19:05:39.282Z"
   },
   {
    "duration": 8,
    "start_time": "2024-06-05T19:05:39.461Z"
   },
   {
    "duration": 168,
    "start_time": "2024-06-05T19:05:39.470Z"
   },
   {
    "duration": 348,
    "start_time": "2024-06-05T19:05:39.640Z"
   },
   {
    "duration": 6,
    "start_time": "2024-06-05T19:05:39.990Z"
   },
   {
    "duration": 51,
    "start_time": "2024-06-05T19:05:39.998Z"
   },
   {
    "duration": 135,
    "start_time": "2024-06-05T19:05:40.051Z"
   },
   {
    "duration": 8,
    "start_time": "2024-06-05T19:05:40.187Z"
   },
   {
    "duration": 37,
    "start_time": "2024-06-05T19:05:40.196Z"
   },
   {
    "duration": 129,
    "start_time": "2024-06-05T19:05:40.234Z"
   },
   {
    "duration": 299,
    "start_time": "2024-06-05T19:05:40.365Z"
   },
   {
    "duration": 10,
    "start_time": "2024-06-05T19:05:40.666Z"
   },
   {
    "duration": 379,
    "start_time": "2024-06-05T19:05:40.677Z"
   },
   {
    "duration": 9,
    "start_time": "2024-06-05T19:05:41.062Z"
   },
   {
    "duration": 165,
    "start_time": "2024-06-05T19:05:41.073Z"
   },
   {
    "duration": 298,
    "start_time": "2024-06-05T19:05:41.240Z"
   },
   {
    "duration": 177,
    "start_time": "2024-06-05T19:05:41.540Z"
   },
   {
    "duration": 10,
    "start_time": "2024-06-05T19:05:41.719Z"
   },
   {
    "duration": 28,
    "start_time": "2024-06-05T19:05:41.731Z"
   },
   {
    "duration": 19,
    "start_time": "2024-06-05T19:05:41.761Z"
   },
   {
    "duration": 39,
    "start_time": "2024-06-05T19:05:41.782Z"
   },
   {
    "duration": 37,
    "start_time": "2024-06-05T19:05:41.823Z"
   },
   {
    "duration": 46,
    "start_time": "2024-06-05T19:05:41.862Z"
   },
   {
    "duration": 27,
    "start_time": "2024-06-05T19:05:41.910Z"
   },
   {
    "duration": 59,
    "start_time": "2024-06-05T19:05:41.939Z"
   },
   {
    "duration": 54,
    "start_time": "2024-06-05T19:05:42.001Z"
   },
   {
    "duration": 21,
    "start_time": "2024-06-05T19:05:42.056Z"
   },
   {
    "duration": 17,
    "start_time": "2024-06-05T19:05:42.079Z"
   },
   {
    "duration": 22,
    "start_time": "2024-06-05T19:05:42.097Z"
   },
   {
    "duration": 12,
    "start_time": "2024-06-05T19:05:42.121Z"
   },
   {
    "duration": 40,
    "start_time": "2024-06-05T19:05:42.135Z"
   },
   {
    "duration": 18,
    "start_time": "2024-06-05T19:05:42.177Z"
   },
   {
    "duration": 510,
    "start_time": "2024-06-05T19:05:42.197Z"
   },
   {
    "duration": 601,
    "start_time": "2024-06-05T19:05:42.709Z"
   },
   {
    "duration": 4,
    "start_time": "2024-06-05T19:05:43.311Z"
   },
   {
    "duration": 58,
    "start_time": "2024-06-05T19:05:43.317Z"
   },
   {
    "duration": 13,
    "start_time": "2024-06-05T19:05:43.377Z"
   },
   {
    "duration": 42,
    "start_time": "2024-06-05T19:05:43.392Z"
   },
   {
    "duration": 7,
    "start_time": "2024-06-05T19:05:43.436Z"
   },
   {
    "duration": 25,
    "start_time": "2024-06-05T19:05:43.445Z"
   },
   {
    "duration": 15,
    "start_time": "2024-06-05T19:05:43.472Z"
   },
   {
    "duration": 39,
    "start_time": "2024-06-05T19:05:43.490Z"
   },
   {
    "duration": 6,
    "start_time": "2024-06-05T19:05:43.531Z"
   },
   {
    "duration": 232,
    "start_time": "2024-06-05T19:05:43.539Z"
   },
   {
    "duration": 12,
    "start_time": "2024-06-05T19:05:43.773Z"
   },
   {
    "duration": 18,
    "start_time": "2024-06-05T19:05:43.787Z"
   },
   {
    "duration": 39,
    "start_time": "2024-06-05T19:05:43.807Z"
   },
   {
    "duration": 33,
    "start_time": "2024-06-05T19:05:43.847Z"
   },
   {
    "duration": 20,
    "start_time": "2024-06-05T19:05:43.881Z"
   },
   {
    "duration": 25,
    "start_time": "2024-06-05T19:05:43.902Z"
   },
   {
    "duration": 29,
    "start_time": "2024-06-05T19:05:43.928Z"
   },
   {
    "duration": 87,
    "start_time": "2024-06-05T19:05:43.958Z"
   },
   {
    "duration": 37,
    "start_time": "2024-06-05T19:05:44.047Z"
   },
   {
    "duration": 30,
    "start_time": "2024-06-05T19:05:44.086Z"
   },
   {
    "duration": 21,
    "start_time": "2024-06-05T19:05:44.123Z"
   },
   {
    "duration": 55,
    "start_time": "2024-06-05T19:05:44.146Z"
   },
   {
    "duration": 23,
    "start_time": "2024-06-05T19:05:44.202Z"
   },
   {
    "duration": 27,
    "start_time": "2024-06-05T19:05:44.227Z"
   },
   {
    "duration": 29,
    "start_time": "2024-06-05T19:05:44.256Z"
   },
   {
    "duration": 34,
    "start_time": "2024-06-05T19:05:44.287Z"
   },
   {
    "duration": 21,
    "start_time": "2024-06-05T19:05:44.323Z"
   },
   {
    "duration": 31,
    "start_time": "2024-06-05T19:05:44.345Z"
   },
   {
    "duration": 36,
    "start_time": "2024-06-05T19:05:44.378Z"
   },
   {
    "duration": 23,
    "start_time": "2024-06-05T19:05:44.416Z"
   },
   {
    "duration": 1663,
    "start_time": "2024-06-05T19:05:44.441Z"
   },
   {
    "duration": 58,
    "start_time": "2024-06-05T19:05:46.107Z"
   },
   {
    "duration": 10,
    "start_time": "2024-06-05T19:05:46.167Z"
   },
   {
    "duration": 34,
    "start_time": "2024-06-05T19:05:46.180Z"
   },
   {
    "duration": 32,
    "start_time": "2024-06-05T19:05:46.216Z"
   },
   {
    "duration": 33,
    "start_time": "2024-06-05T19:05:46.250Z"
   },
   {
    "duration": 14,
    "start_time": "2024-06-05T19:05:46.286Z"
   },
   {
    "duration": 43,
    "start_time": "2024-06-05T19:05:46.302Z"
   },
   {
    "duration": 29,
    "start_time": "2024-06-05T19:05:46.347Z"
   },
   {
    "duration": 54,
    "start_time": "2024-06-05T19:05:46.378Z"
   },
   {
    "duration": 34,
    "start_time": "2024-06-05T19:05:46.435Z"
   },
   {
    "duration": 36,
    "start_time": "2024-06-05T19:05:46.471Z"
   },
   {
    "duration": 48,
    "start_time": "2024-06-05T19:05:46.509Z"
   },
   {
    "duration": 53,
    "start_time": "2024-06-05T19:05:46.558Z"
   },
   {
    "duration": 18,
    "start_time": "2024-06-05T19:05:46.612Z"
   },
   {
    "duration": 22,
    "start_time": "2024-06-05T19:05:46.631Z"
   },
   {
    "duration": 34,
    "start_time": "2024-06-05T19:05:46.655Z"
   },
   {
    "duration": 852,
    "start_time": "2024-06-05T19:05:46.691Z"
   },
   {
    "duration": 4,
    "start_time": "2024-06-05T19:05:47.545Z"
   },
   {
    "duration": 24,
    "start_time": "2024-06-05T19:05:47.562Z"
   },
   {
    "duration": 249,
    "start_time": "2024-06-05T19:05:47.588Z"
   },
   {
    "duration": 11,
    "start_time": "2024-06-05T19:05:47.839Z"
   },
   {
    "duration": 27,
    "start_time": "2024-06-05T19:05:47.862Z"
   },
   {
    "duration": 1116,
    "start_time": "2024-06-05T19:05:47.891Z"
   },
   {
    "duration": 1310,
    "start_time": "2024-06-05T19:07:04.555Z"
   },
   {
    "duration": 113,
    "start_time": "2024-06-05T19:07:05.867Z"
   },
   {
    "duration": 4,
    "start_time": "2024-06-05T19:07:05.982Z"
   },
   {
    "duration": 38,
    "start_time": "2024-06-05T19:07:05.989Z"
   },
   {
    "duration": 42,
    "start_time": "2024-06-05T19:07:06.028Z"
   },
   {
    "duration": 21,
    "start_time": "2024-06-05T19:07:06.072Z"
   },
   {
    "duration": 19,
    "start_time": "2024-06-05T19:07:06.094Z"
   },
   {
    "duration": 4,
    "start_time": "2024-06-05T19:07:06.115Z"
   },
   {
    "duration": 22,
    "start_time": "2024-06-05T19:07:06.120Z"
   },
   {
    "duration": 6,
    "start_time": "2024-06-05T19:07:06.144Z"
   },
   {
    "duration": 11,
    "start_time": "2024-06-05T19:07:06.151Z"
   },
   {
    "duration": 4,
    "start_time": "2024-06-05T19:07:06.164Z"
   },
   {
    "duration": 12,
    "start_time": "2024-06-05T19:07:06.170Z"
   },
   {
    "duration": 10,
    "start_time": "2024-06-05T19:07:06.184Z"
   },
   {
    "duration": 5,
    "start_time": "2024-06-05T19:07:06.196Z"
   },
   {
    "duration": 8,
    "start_time": "2024-06-05T19:07:06.202Z"
   },
   {
    "duration": 26,
    "start_time": "2024-06-05T19:07:06.212Z"
   },
   {
    "duration": 46,
    "start_time": "2024-06-05T19:07:06.240Z"
   },
   {
    "duration": 10,
    "start_time": "2024-06-05T19:07:06.288Z"
   },
   {
    "duration": 28,
    "start_time": "2024-06-05T19:07:06.299Z"
   },
   {
    "duration": 14,
    "start_time": "2024-06-05T19:07:06.328Z"
   },
   {
    "duration": 10,
    "start_time": "2024-06-05T19:07:06.344Z"
   },
   {
    "duration": 11,
    "start_time": "2024-06-05T19:07:06.356Z"
   },
   {
    "duration": 10,
    "start_time": "2024-06-05T19:07:06.369Z"
   },
   {
    "duration": 11,
    "start_time": "2024-06-05T19:07:06.381Z"
   },
   {
    "duration": 18,
    "start_time": "2024-06-05T19:07:06.394Z"
   },
   {
    "duration": 204,
    "start_time": "2024-06-05T19:07:06.414Z"
   },
   {
    "duration": 152,
    "start_time": "2024-06-05T19:07:06.622Z"
   },
   {
    "duration": 6,
    "start_time": "2024-06-05T19:07:06.776Z"
   },
   {
    "duration": 174,
    "start_time": "2024-06-05T19:07:06.784Z"
   },
   {
    "duration": 412,
    "start_time": "2024-06-05T19:07:06.960Z"
   },
   {
    "duration": 6,
    "start_time": "2024-06-05T19:07:07.374Z"
   },
   {
    "duration": 13,
    "start_time": "2024-06-05T19:07:07.382Z"
   },
   {
    "duration": 164,
    "start_time": "2024-06-05T19:07:07.397Z"
   },
   {
    "duration": 10,
    "start_time": "2024-06-05T19:07:07.564Z"
   },
   {
    "duration": 16,
    "start_time": "2024-06-05T19:07:07.576Z"
   },
   {
    "duration": 156,
    "start_time": "2024-06-05T19:07:07.594Z"
   },
   {
    "duration": 306,
    "start_time": "2024-06-05T19:07:07.752Z"
   },
   {
    "duration": 10,
    "start_time": "2024-06-05T19:07:08.060Z"
   },
   {
    "duration": 373,
    "start_time": "2024-06-05T19:07:08.072Z"
   },
   {
    "duration": 15,
    "start_time": "2024-06-05T19:07:08.447Z"
   },
   {
    "duration": 160,
    "start_time": "2024-06-05T19:07:08.464Z"
   },
   {
    "duration": 332,
    "start_time": "2024-06-05T19:07:08.626Z"
   },
   {
    "duration": 189,
    "start_time": "2024-06-05T19:07:08.960Z"
   },
   {
    "duration": 17,
    "start_time": "2024-06-05T19:07:09.151Z"
   },
   {
    "duration": 9,
    "start_time": "2024-06-05T19:07:09.170Z"
   },
   {
    "duration": 6,
    "start_time": "2024-06-05T19:07:09.181Z"
   },
   {
    "duration": 18,
    "start_time": "2024-06-05T19:07:09.189Z"
   },
   {
    "duration": 20,
    "start_time": "2024-06-05T19:07:09.210Z"
   },
   {
    "duration": 33,
    "start_time": "2024-06-05T19:07:09.232Z"
   },
   {
    "duration": 12,
    "start_time": "2024-06-05T19:07:09.267Z"
   },
   {
    "duration": 21,
    "start_time": "2024-06-05T19:07:09.281Z"
   },
   {
    "duration": 12,
    "start_time": "2024-06-05T19:07:09.305Z"
   },
   {
    "duration": 13,
    "start_time": "2024-06-05T19:07:09.319Z"
   },
   {
    "duration": 30,
    "start_time": "2024-06-05T19:07:09.334Z"
   },
   {
    "duration": 9,
    "start_time": "2024-06-05T19:07:09.366Z"
   },
   {
    "duration": 9,
    "start_time": "2024-06-05T19:07:09.377Z"
   },
   {
    "duration": 38,
    "start_time": "2024-06-05T19:07:09.388Z"
   },
   {
    "duration": 10,
    "start_time": "2024-06-05T19:07:09.428Z"
   },
   {
    "duration": 515,
    "start_time": "2024-06-05T19:07:09.440Z"
   },
   {
    "duration": 604,
    "start_time": "2024-06-05T19:07:09.960Z"
   },
   {
    "duration": 5,
    "start_time": "2024-06-05T19:07:10.566Z"
   },
   {
    "duration": 48,
    "start_time": "2024-06-05T19:07:10.572Z"
   },
   {
    "duration": 13,
    "start_time": "2024-06-05T19:07:10.622Z"
   },
   {
    "duration": 35,
    "start_time": "2024-06-05T19:07:10.637Z"
   },
   {
    "duration": 4,
    "start_time": "2024-06-05T19:07:10.673Z"
   },
   {
    "duration": 6,
    "start_time": "2024-06-05T19:07:10.679Z"
   },
   {
    "duration": 8,
    "start_time": "2024-06-05T19:07:10.687Z"
   },
   {
    "duration": 12,
    "start_time": "2024-06-05T19:07:10.698Z"
   },
   {
    "duration": 7,
    "start_time": "2024-06-05T19:07:10.712Z"
   },
   {
    "duration": 270,
    "start_time": "2024-06-05T19:07:10.721Z"
   },
   {
    "duration": 11,
    "start_time": "2024-06-05T19:07:10.993Z"
   },
   {
    "duration": 11,
    "start_time": "2024-06-05T19:07:11.006Z"
   },
   {
    "duration": 17,
    "start_time": "2024-06-05T19:07:11.019Z"
   },
   {
    "duration": 23,
    "start_time": "2024-06-05T19:07:11.038Z"
   },
   {
    "duration": 6,
    "start_time": "2024-06-05T19:07:11.063Z"
   },
   {
    "duration": 30,
    "start_time": "2024-06-05T19:07:11.071Z"
   },
   {
    "duration": 5,
    "start_time": "2024-06-05T19:07:11.102Z"
   },
   {
    "duration": 7,
    "start_time": "2024-06-05T19:07:11.109Z"
   },
   {
    "duration": 5,
    "start_time": "2024-06-05T19:07:11.118Z"
   },
   {
    "duration": 8,
    "start_time": "2024-06-05T19:07:11.125Z"
   },
   {
    "duration": 24,
    "start_time": "2024-06-05T19:07:11.139Z"
   },
   {
    "duration": 15,
    "start_time": "2024-06-05T19:07:11.164Z"
   },
   {
    "duration": 10,
    "start_time": "2024-06-05T19:07:11.180Z"
   },
   {
    "duration": 9,
    "start_time": "2024-06-05T19:07:11.191Z"
   },
   {
    "duration": 6,
    "start_time": "2024-06-05T19:07:11.202Z"
   },
   {
    "duration": 8,
    "start_time": "2024-06-05T19:07:11.210Z"
   },
   {
    "duration": 6,
    "start_time": "2024-06-05T19:07:11.220Z"
   },
   {
    "duration": 6,
    "start_time": "2024-06-05T19:07:11.262Z"
   },
   {
    "duration": 12,
    "start_time": "2024-06-05T19:07:11.269Z"
   },
   {
    "duration": 2,
    "start_time": "2024-06-05T19:07:11.283Z"
   },
   {
    "duration": 1706,
    "start_time": "2024-06-05T19:07:11.287Z"
   },
   {
    "duration": 31,
    "start_time": "2024-06-05T19:07:12.994Z"
   },
   {
    "duration": 8,
    "start_time": "2024-06-05T19:07:13.026Z"
   },
   {
    "duration": 14,
    "start_time": "2024-06-05T19:07:13.061Z"
   },
   {
    "duration": 3,
    "start_time": "2024-06-05T19:07:13.077Z"
   },
   {
    "duration": 8,
    "start_time": "2024-06-05T19:07:13.081Z"
   },
   {
    "duration": 7,
    "start_time": "2024-06-05T19:07:13.090Z"
   },
   {
    "duration": 19,
    "start_time": "2024-06-05T19:07:13.098Z"
   },
   {
    "duration": 47,
    "start_time": "2024-06-05T19:07:13.119Z"
   },
   {
    "duration": 37,
    "start_time": "2024-06-05T19:07:13.167Z"
   },
   {
    "duration": 16,
    "start_time": "2024-06-05T19:07:13.206Z"
   },
   {
    "duration": 16,
    "start_time": "2024-06-05T19:07:13.224Z"
   },
   {
    "duration": 19,
    "start_time": "2024-06-05T19:07:13.242Z"
   },
   {
    "duration": 23,
    "start_time": "2024-06-05T19:07:13.263Z"
   },
   {
    "duration": 10,
    "start_time": "2024-06-05T19:07:13.288Z"
   },
   {
    "duration": 5,
    "start_time": "2024-06-05T19:07:13.301Z"
   },
   {
    "duration": 16,
    "start_time": "2024-06-05T19:07:13.307Z"
   },
   {
    "duration": 842,
    "start_time": "2024-06-05T19:07:13.325Z"
   },
   {
    "duration": 3,
    "start_time": "2024-06-05T19:07:14.169Z"
   },
   {
    "duration": 22,
    "start_time": "2024-06-05T19:07:14.173Z"
   },
   {
    "duration": 233,
    "start_time": "2024-06-05T19:07:14.197Z"
   },
   {
    "duration": 10,
    "start_time": "2024-06-05T19:07:14.432Z"
   },
   {
    "duration": 18,
    "start_time": "2024-06-05T19:07:14.444Z"
   },
   {
    "duration": 803,
    "start_time": "2024-06-05T19:07:14.464Z"
   }
  ],
  "kernelspec": {
   "display_name": "Python 3 (ipykernel)",
   "language": "python",
   "name": "python3"
  },
  "language_info": {
   "codemirror_mode": {
    "name": "ipython",
    "version": 3
   },
   "file_extension": ".py",
   "mimetype": "text/x-python",
   "name": "python",
   "nbconvert_exporter": "python",
   "pygments_lexer": "ipython3",
   "version": "3.11.8"
  },
  "toc": {
   "base_numbering": 1,
   "nav_menu": {
    "height": "131px",
    "width": "399px"
   },
   "number_sections": true,
   "sideBar": true,
   "skip_h1_title": true,
   "title_cell": "Содержание",
   "title_sidebar": "Contents",
   "toc_cell": true,
   "toc_position": {
    "height": "calc(100% - 180px)",
    "left": "10px",
    "top": "150px",
    "width": "226px"
   },
   "toc_section_display": true,
   "toc_window_display": true
  }
 },
 "nbformat": 4,
 "nbformat_minor": 5
}
