{
 "cells": [
  {
   "cell_type": "markdown",
   "id": "c970cf61",
   "metadata": {
    "toc": true
   },
   "source": [
    "<h1>Содержание<span class=\"tocSkip\"></span></h1>\n",
    "<div class=\"toc\"><ul class=\"toc-item\"><li><span><a href=\"#Изучение-общей-информации-о-данных\" data-toc-modified-id=\"Изучение-общей-информации-о-данных-1\"><span class=\"toc-item-num\">1&nbsp;&nbsp;</span>Изучение общей информации о данных</a></span></li><li><span><a href=\"#Предобработка-данных\" data-toc-modified-id=\"Предобработка-данных-2\"><span class=\"toc-item-num\">2&nbsp;&nbsp;</span>Предобработка данных</a></span><ul class=\"toc-item\"><li><span><a href=\"#Проверка-типов-данных-в-датафрейме-и-их-преобразование-там,-где-это-необходимо.\" data-toc-modified-id=\"Проверка-типов-данных-в-датафрейме-и-их-преобразование-там,-где-это-необходимо.-2.1\"><span class=\"toc-item-num\">2.1&nbsp;&nbsp;</span>Проверка типов данных в датафрейме и их преобразование там, где это необходимо.</a></span></li><li><span><a href=\"#Изучение-пропусков-в-датафрейме-и-проверка-тех-из-них,-которые-можно-заменить.\" data-toc-modified-id=\"Изучение-пропусков-в-датафрейме-и-проверка-тех-из-них,-которые-можно-заменить.-2.2\"><span class=\"toc-item-num\">2.2&nbsp;&nbsp;</span>Изучение пропусков в датафрейме и проверка тех из них, которые можно заменить.</a></span></li><li><span><a href=\"#Проверка-на-наличие-дубликатов-в-данных\" data-toc-modified-id=\"Проверка-на-наличие-дубликатов-в-данных-2.3\"><span class=\"toc-item-num\">2.3&nbsp;&nbsp;</span>Проверка на наличие дубликатов в данных</a></span></li><li><span><a href=\"#Проверка-категориальных-значений\" data-toc-modified-id=\"Проверка-категориальных-значений-2.4\"><span class=\"toc-item-num\">2.4&nbsp;&nbsp;</span>Проверка категориальных значений</a></span></li><li><span><a href=\"#Проверка-количественных-значений\" data-toc-modified-id=\"Проверка-количественных-значений-2.5\"><span class=\"toc-item-num\">2.5&nbsp;&nbsp;</span>Проверка количественных значений</a></span></li><li><span><a href=\"#Добавление-новых-столбцов\" data-toc-modified-id=\"Добавление-новых-столбцов-2.6\"><span class=\"toc-item-num\">2.6&nbsp;&nbsp;</span>Добавление новых столбцов</a></span></li></ul></li><li><span><a href=\"#Исследовательский-анализ-данных\" data-toc-modified-id=\"Исследовательский-анализ-данных-3\"><span class=\"toc-item-num\">3&nbsp;&nbsp;</span>Исследовательский анализ данных</a></span><ul class=\"toc-item\"><li><span><a href=\"#Изучение-фильмов,-выходивший-в-прокат-каждый-год\" data-toc-modified-id=\"Изучение-фильмов,-выходивший-в-прокат-каждый-год-3.1\"><span class=\"toc-item-num\">3.1&nbsp;&nbsp;</span>Изучение фильмов, выходивший в прокат каждый год</a></span></li><li><span><a href=\"#Изучение-изменения-динамики-проката-по-годам\" data-toc-modified-id=\"Изучение-изменения-динамики-проката-по-годам-3.2\"><span class=\"toc-item-num\">3.2&nbsp;&nbsp;</span>Изучение изменения динамики проката по годам</a></span></li><li><span><a href=\"#Подсчёт-средней-и-медианной-сумм-сборов-для-каждого-года\" data-toc-modified-id=\"Подсчёт-средней-и-медианной-сумм-сборов-для-каждого-года-3.3\"><span class=\"toc-item-num\">3.3&nbsp;&nbsp;</span>Подсчёт средней и медианной сумм сборов для каждого года</a></span></li><li><span><a href=\"#Определение-влияния-возрастного-ограничения-на-сборы-фильмов-в-прокате\" data-toc-modified-id=\"Определение-влияния-возрастного-ограничения-на-сборы-фильмов-в-прокате-3.4\"><span class=\"toc-item-num\">3.4&nbsp;&nbsp;</span>Определение влияния возрастного ограничения на сборы фильмов в прокате</a></span></li></ul></li><li><span><a href=\"#Исследование-фильмов,-получивших-государственную-поддержку\" data-toc-modified-id=\"Исследование-фильмов,-получивших-государственную-поддержку-4\"><span class=\"toc-item-num\">4&nbsp;&nbsp;</span>Исследование фильмов, получивших государственную поддержку</a></span></li><li><span><a href=\"#Итоговый-вывод\" data-toc-modified-id=\"Итоговый-вывод-5\"><span class=\"toc-item-num\">5&nbsp;&nbsp;</span>Итоговый вывод</a></span></li></ul></div>"
   ]
  },
  {
   "cell_type": "markdown",
   "id": "7f48990c",
   "metadata": {},
   "source": [
    "# Проект: исследование рынка российского кинопроката <a class=\"tocSkip\">"
   ]
  },
  {
   "cell_type": "markdown",
   "id": "282242a8",
   "metadata": {},
   "source": [
    "Цель проекта - изучить рынок российского кинопроката и выявить текущие тренды. Дано: архив данных, содержащих информацию о прокатных удостоверениях, сборах и государственной поддержке фильмов, а также информацию с сайта КиноПоиск. \n",
    "\n",
    "Задание - провести исследовательский анализ данных, уделив внимание фильмам, которые получили государственную поддержку. Ответить на вопрос, насколько такие фильмы интересны зрителю."
   ]
  },
  {
   "cell_type": "markdown",
   "id": "87931e83",
   "metadata": {},
   "source": [
    "## Изучение общей информации о данных"
   ]
  },
  {
   "cell_type": "markdown",
   "id": "50b66612",
   "metadata": {},
   "source": [
    "Импортируем библиотеки:"
   ]
  },
  {
   "cell_type": "code",
   "execution_count": 1,
   "id": "15c12b36",
   "metadata": {},
   "outputs": [],
   "source": [
    "import pandas as pd\n",
    "import matplotlib.pyplot as plt"
   ]
  },
  {
   "cell_type": "markdown",
   "id": "a6ff170c",
   "metadata": {},
   "source": [
    "Добавим надстройку для преобразования экспоненциального формата:"
   ]
  },
  {
   "cell_type": "code",
   "execution_count": 2,
   "id": "370ccfb9",
   "metadata": {},
   "outputs": [],
   "source": [
    "pd.set_option('display.float_format', '{:,.2f}'.format)"
   ]
  },
  {
   "cell_type": "markdown",
   "id": "a18cf337",
   "metadata": {},
   "source": [
    "Считаем данные из двух csv-файлов (данные о прокатных удостоверениях и о прокате в российских кинотеатрах), сохраним их в две переменные: `data1` и `data2`:"
   ]
  },
  {
   "cell_type": "code",
   "execution_count": 3,
   "id": "6a4d5a29",
   "metadata": {},
   "outputs": [],
   "source": [
    "try:\n",
    "    data1 = pd.read_csv('mkrf_movies.csv')\n",
    "    data2 = pd.read_csv('mkrf_shows.csv')\n",
    "except:\n",
    "    data1 = pd.read_csv('/datasets/mkrf_movies.csv')\n",
    "    data2 = pd.read_csv('/datasets/mkrf_shows.csv')"
   ]
  },
  {
   "cell_type": "markdown",
   "id": "d2dbf2d7",
   "metadata": {},
   "source": [
    "Выведем первые 5 строк обоих датафреймов:"
   ]
  },
  {
   "cell_type": "code",
   "execution_count": 4,
   "id": "768ffc68",
   "metadata": {},
   "outputs": [],
   "source": [
    "pd.set_option('display.max_columns', None)"
   ]
  },
  {
   "cell_type": "code",
   "execution_count": 5,
   "id": "277553c2",
   "metadata": {
    "scrolled": true
   },
   "outputs": [
    {
     "data": {
      "text/html": [
       "<div>\n",
       "<style scoped>\n",
       "    .dataframe tbody tr th:only-of-type {\n",
       "        vertical-align: middle;\n",
       "    }\n",
       "\n",
       "    .dataframe tbody tr th {\n",
       "        vertical-align: top;\n",
       "    }\n",
       "\n",
       "    .dataframe thead th {\n",
       "        text-align: right;\n",
       "    }\n",
       "</style>\n",
       "<table border=\"1\" class=\"dataframe\">\n",
       "  <thead>\n",
       "    <tr style=\"text-align: right;\">\n",
       "      <th></th>\n",
       "      <th>title</th>\n",
       "      <th>puNumber</th>\n",
       "      <th>show_start_date</th>\n",
       "      <th>type</th>\n",
       "      <th>film_studio</th>\n",
       "      <th>production_country</th>\n",
       "      <th>director</th>\n",
       "      <th>producer</th>\n",
       "      <th>age_restriction</th>\n",
       "      <th>refundable_support</th>\n",
       "      <th>nonrefundable_support</th>\n",
       "      <th>budget</th>\n",
       "      <th>financing_source</th>\n",
       "      <th>ratings</th>\n",
       "      <th>genres</th>\n",
       "    </tr>\n",
       "  </thead>\n",
       "  <tbody>\n",
       "    <tr>\n",
       "      <th>0</th>\n",
       "      <td>Открытый простор</td>\n",
       "      <td>221048915</td>\n",
       "      <td>2015-11-27T12:00:00.000Z</td>\n",
       "      <td>Художественный</td>\n",
       "      <td>Тачстоун Пикчерз, Кобальт Пикчерз, Бикон Пикче...</td>\n",
       "      <td>США</td>\n",
       "      <td>Кевин Костнер</td>\n",
       "      <td>Дэвид Валдес, Кевин Костнер, Джейк Эбертс</td>\n",
       "      <td>«18+» - запрещено для детей</td>\n",
       "      <td>NaN</td>\n",
       "      <td>NaN</td>\n",
       "      <td>NaN</td>\n",
       "      <td>NaN</td>\n",
       "      <td>7.2</td>\n",
       "      <td>боевик,драма,мелодрама</td>\n",
       "    </tr>\n",
       "    <tr>\n",
       "      <th>1</th>\n",
       "      <td>Особо важное задание</td>\n",
       "      <td>111013716</td>\n",
       "      <td>2016-09-13T12:00:00.000Z</td>\n",
       "      <td>Художественный</td>\n",
       "      <td>Киностудия \"Мосфильм\"</td>\n",
       "      <td>СССР</td>\n",
       "      <td>Е.Матвеев</td>\n",
       "      <td>NaN</td>\n",
       "      <td>«6+» - для детей старше 6 лет</td>\n",
       "      <td>NaN</td>\n",
       "      <td>NaN</td>\n",
       "      <td>NaN</td>\n",
       "      <td>NaN</td>\n",
       "      <td>6.6</td>\n",
       "      <td>драма,военный</td>\n",
       "    </tr>\n",
       "    <tr>\n",
       "      <th>2</th>\n",
       "      <td>Особо опасен</td>\n",
       "      <td>221038416</td>\n",
       "      <td>2016-10-10T12:00:00.000Z</td>\n",
       "      <td>Художественный</td>\n",
       "      <td>Юниверсал Пикчерз, Кикстарт Продакшнз, Марк Пл...</td>\n",
       "      <td>США</td>\n",
       "      <td>Тимур Бекмамбетов</td>\n",
       "      <td>Джим Лемли, Джейсон Нетер, Марк Е.Платт, Яйн Смит</td>\n",
       "      <td>«18+» - запрещено для детей</td>\n",
       "      <td>NaN</td>\n",
       "      <td>NaN</td>\n",
       "      <td>NaN</td>\n",
       "      <td>NaN</td>\n",
       "      <td>6.8</td>\n",
       "      <td>фантастика,боевик,триллер</td>\n",
       "    </tr>\n",
       "    <tr>\n",
       "      <th>3</th>\n",
       "      <td>Особо опасен</td>\n",
       "      <td>221026916</td>\n",
       "      <td>2016-06-10T12:00:00.000Z</td>\n",
       "      <td>Художественный</td>\n",
       "      <td>Юниверсал Пикчерз, Кикстарт Продакшнз, Марк Пл...</td>\n",
       "      <td>США</td>\n",
       "      <td>Тимур Бекмамбетов</td>\n",
       "      <td>Джим Лемли, Джейсон Нетер, Марк Е.Платт, Яйн Смит</td>\n",
       "      <td>«18+» - запрещено для детей</td>\n",
       "      <td>NaN</td>\n",
       "      <td>NaN</td>\n",
       "      <td>NaN</td>\n",
       "      <td>NaN</td>\n",
       "      <td>6.8</td>\n",
       "      <td>фантастика,боевик,триллер</td>\n",
       "    </tr>\n",
       "    <tr>\n",
       "      <th>4</th>\n",
       "      <td>Особо опасен</td>\n",
       "      <td>221030815</td>\n",
       "      <td>2015-07-29T12:00:00.000Z</td>\n",
       "      <td>Художественный</td>\n",
       "      <td>Юниверсал Пикчерз, Кикстарт Продакшнз, Марк Пл...</td>\n",
       "      <td>США</td>\n",
       "      <td>Тимур Бекмамбетов</td>\n",
       "      <td>Джим Лемли, Джейсон Нетер, Марк Е.Платт, Яйн Смит</td>\n",
       "      <td>«18+» - запрещено для детей</td>\n",
       "      <td>NaN</td>\n",
       "      <td>NaN</td>\n",
       "      <td>NaN</td>\n",
       "      <td>NaN</td>\n",
       "      <td>6.8</td>\n",
       "      <td>фантастика,боевик,триллер</td>\n",
       "    </tr>\n",
       "  </tbody>\n",
       "</table>\n",
       "</div>"
      ],
      "text/plain": [
       "                  title   puNumber           show_start_date            type  \\\n",
       "0      Открытый простор  221048915  2015-11-27T12:00:00.000Z  Художественный   \n",
       "1  Особо важное задание  111013716  2016-09-13T12:00:00.000Z  Художественный   \n",
       "2          Особо опасен  221038416  2016-10-10T12:00:00.000Z  Художественный   \n",
       "3          Особо опасен  221026916  2016-06-10T12:00:00.000Z  Художественный   \n",
       "4          Особо опасен  221030815  2015-07-29T12:00:00.000Z  Художественный   \n",
       "\n",
       "                                         film_studio production_country  \\\n",
       "0  Тачстоун Пикчерз, Кобальт Пикчерз, Бикон Пикче...                США   \n",
       "1                              Киностудия \"Мосфильм\"               СССР   \n",
       "2  Юниверсал Пикчерз, Кикстарт Продакшнз, Марк Пл...                США   \n",
       "3  Юниверсал Пикчерз, Кикстарт Продакшнз, Марк Пл...                США   \n",
       "4  Юниверсал Пикчерз, Кикстарт Продакшнз, Марк Пл...                США   \n",
       "\n",
       "            director                                           producer  \\\n",
       "0      Кевин Костнер          Дэвид Валдес, Кевин Костнер, Джейк Эбертс   \n",
       "1          Е.Матвеев                                                NaN   \n",
       "2  Тимур Бекмамбетов  Джим Лемли, Джейсон Нетер, Марк Е.Платт, Яйн Смит   \n",
       "3  Тимур Бекмамбетов  Джим Лемли, Джейсон Нетер, Марк Е.Платт, Яйн Смит   \n",
       "4  Тимур Бекмамбетов  Джим Лемли, Джейсон Нетер, Марк Е.Платт, Яйн Смит   \n",
       "\n",
       "                 age_restriction  refundable_support  nonrefundable_support  \\\n",
       "0    «18+» - запрещено для детей                 NaN                    NaN   \n",
       "1  «6+» - для детей старше 6 лет                 NaN                    NaN   \n",
       "2    «18+» - запрещено для детей                 NaN                    NaN   \n",
       "3    «18+» - запрещено для детей                 NaN                    NaN   \n",
       "4    «18+» - запрещено для детей                 NaN                    NaN   \n",
       "\n",
       "   budget financing_source ratings                     genres  \n",
       "0     NaN              NaN     7.2     боевик,драма,мелодрама  \n",
       "1     NaN              NaN     6.6              драма,военный  \n",
       "2     NaN              NaN     6.8  фантастика,боевик,триллер  \n",
       "3     NaN              NaN     6.8  фантастика,боевик,триллер  \n",
       "4     NaN              NaN     6.8  фантастика,боевик,триллер  "
      ]
     },
     "execution_count": 5,
     "metadata": {},
     "output_type": "execute_result"
    }
   ],
   "source": [
    "data1.head()"
   ]
  },
  {
   "cell_type": "code",
   "execution_count": 6,
   "id": "3aecceca",
   "metadata": {
    "scrolled": false
   },
   "outputs": [
    {
     "data": {
      "text/html": [
       "<div>\n",
       "<style scoped>\n",
       "    .dataframe tbody tr th:only-of-type {\n",
       "        vertical-align: middle;\n",
       "    }\n",
       "\n",
       "    .dataframe tbody tr th {\n",
       "        vertical-align: top;\n",
       "    }\n",
       "\n",
       "    .dataframe thead th {\n",
       "        text-align: right;\n",
       "    }\n",
       "</style>\n",
       "<table border=\"1\" class=\"dataframe\">\n",
       "  <thead>\n",
       "    <tr style=\"text-align: right;\">\n",
       "      <th></th>\n",
       "      <th>puNumber</th>\n",
       "      <th>box_office</th>\n",
       "    </tr>\n",
       "  </thead>\n",
       "  <tbody>\n",
       "    <tr>\n",
       "      <th>0</th>\n",
       "      <td>111000113</td>\n",
       "      <td>2,450.00</td>\n",
       "    </tr>\n",
       "    <tr>\n",
       "      <th>1</th>\n",
       "      <td>111000115</td>\n",
       "      <td>61,040.00</td>\n",
       "    </tr>\n",
       "    <tr>\n",
       "      <th>2</th>\n",
       "      <td>111000116</td>\n",
       "      <td>153,030,013.40</td>\n",
       "    </tr>\n",
       "    <tr>\n",
       "      <th>3</th>\n",
       "      <td>111000117</td>\n",
       "      <td>12,260,956.00</td>\n",
       "    </tr>\n",
       "    <tr>\n",
       "      <th>4</th>\n",
       "      <td>111000118</td>\n",
       "      <td>163,684,057.79</td>\n",
       "    </tr>\n",
       "  </tbody>\n",
       "</table>\n",
       "</div>"
      ],
      "text/plain": [
       "    puNumber     box_office\n",
       "0  111000113       2,450.00\n",
       "1  111000115      61,040.00\n",
       "2  111000116 153,030,013.40\n",
       "3  111000117  12,260,956.00\n",
       "4  111000118 163,684,057.79"
      ]
     },
     "execution_count": 6,
     "metadata": {},
     "output_type": "execute_result"
    }
   ],
   "source": [
    "data2.head()"
   ]
  },
  {
   "cell_type": "markdown",
   "id": "f0024236",
   "metadata": {},
   "source": [
    "Получили 16 столбцов, которые содержат следующую информацию:\n",
    "\n",
    "`title` — название фильма\n",
    "\n",
    "`puNumber` — номер прокатного удостоверения\n",
    "\n",
    "`show_start_date` — дата премьеры фильма\n",
    "\n",
    "`type` — тип фильма\n",
    "\n",
    "`film_studio` — студия-производитель\n",
    "\n",
    "`production_country` — страна-производитель\n",
    "\n",
    "`director` — режиссёр\n",
    "\n",
    "`producer` — продюсер\n",
    "\n",
    "`age_restriction` — возрастная категория\n",
    "\n",
    "`refundable_support` — объём возвратных средств государственной поддержки\n",
    "\n",
    "`nonrefundable_support` — объём невозвратных средств государственной поддержки\n",
    "\n",
    "`budget` — общий бюджет фильма: включает в себя полный объём государственной поддержки, данные в этом столбце указаны только для тех фильмов, которые получили государственную поддержку.\n",
    "\n",
    "`financing_source` — источник государственного финансирования\n",
    "\n",
    "`ratings` — рейтинг фильма на КиноПоиске\n",
    "\n",
    "`genres` — жанр фильма\n",
    "\n",
    "`box_office` — сборы в рублях"
   ]
  },
  {
   "cell_type": "markdown",
   "id": "576696a7",
   "metadata": {},
   "source": [
    "Выведем общую информацию о датафреймах:"
   ]
  },
  {
   "cell_type": "code",
   "execution_count": 8,
   "id": "e526b8e6",
   "metadata": {},
   "outputs": [
    {
     "name": "stdout",
     "output_type": "stream",
     "text": [
      "<class 'pandas.core.frame.DataFrame'>\n",
      "RangeIndex: 7486 entries, 0 to 7485\n",
      "Data columns (total 15 columns):\n",
      " #   Column                 Non-Null Count  Dtype  \n",
      "---  ------                 --------------  -----  \n",
      " 0   title                  7486 non-null   object \n",
      " 1   puNumber               7486 non-null   object \n",
      " 2   show_start_date        7486 non-null   object \n",
      " 3   type                   7486 non-null   object \n",
      " 4   film_studio            7468 non-null   object \n",
      " 5   production_country     7484 non-null   object \n",
      " 6   director               7477 non-null   object \n",
      " 7   producer               6918 non-null   object \n",
      " 8   age_restriction        7486 non-null   object \n",
      " 9   refundable_support     332 non-null    float64\n",
      " 10  nonrefundable_support  332 non-null    float64\n",
      " 11  budget                 332 non-null    float64\n",
      " 12  financing_source       332 non-null    object \n",
      " 13  ratings                6519 non-null   object \n",
      " 14  genres                 6510 non-null   object \n",
      "dtypes: float64(3), object(12)\n",
      "memory usage: 877.4+ KB\n"
     ]
    }
   ],
   "source": [
    "data1.shape\n",
    "data1.info()"
   ]
  },
  {
   "cell_type": "code",
   "execution_count": 9,
   "id": "7a1438a9",
   "metadata": {},
   "outputs": [
    {
     "name": "stdout",
     "output_type": "stream",
     "text": [
      "<class 'pandas.core.frame.DataFrame'>\n",
      "RangeIndex: 3158 entries, 0 to 3157\n",
      "Data columns (total 2 columns):\n",
      " #   Column      Non-Null Count  Dtype  \n",
      "---  ------      --------------  -----  \n",
      " 0   puNumber    3158 non-null   int64  \n",
      " 1   box_office  3158 non-null   float64\n",
      "dtypes: float64(1), int64(1)\n",
      "memory usage: 49.5 KB\n"
     ]
    }
   ],
   "source": [
    "data2.shape\n",
    "data2.info()"
   ]
  },
  {
   "cell_type": "markdown",
   "id": "f60ff379",
   "metadata": {},
   "source": [
    "Датасеты имеют общий столбец номеров прокатных удостоверений `puNumber`, по которому их можно объединить."
   ]
  },
  {
   "cell_type": "markdown",
   "id": "42bf5fe2",
   "metadata": {},
   "source": [
    "`puNumber` имеют разный тип: `int64` и `object`. Переведем значения в столбце `puNumber` датафрейма `data1` в тип `int64`."
   ]
  },
  {
   "cell_type": "code",
   "execution_count": 10,
   "id": "66450b58",
   "metadata": {
    "scrolled": true
   },
   "outputs": [
    {
     "data": {
      "text/plain": [
       "'221048915'"
      ]
     },
     "execution_count": 10,
     "metadata": {},
     "output_type": "execute_result"
    }
   ],
   "source": [
    "data1['puNumber'].any() # проверка наличия не числовых значений в столбце 'puNumber'"
   ]
  },
  {
   "cell_type": "markdown",
   "id": "b2c13793",
   "metadata": {},
   "source": [
    "Напишем функцию, которая будет искать не числовое значение в столбце `puNumber`, используя логические условия:"
   ]
  },
  {
   "cell_type": "code",
   "execution_count": 11,
   "id": "fead886c",
   "metadata": {},
   "outputs": [
    {
     "data": {
      "text/html": [
       "<div>\n",
       "<style scoped>\n",
       "    .dataframe tbody tr th:only-of-type {\n",
       "        vertical-align: middle;\n",
       "    }\n",
       "\n",
       "    .dataframe tbody tr th {\n",
       "        vertical-align: top;\n",
       "    }\n",
       "\n",
       "    .dataframe thead th {\n",
       "        text-align: right;\n",
       "    }\n",
       "</style>\n",
       "<table border=\"1\" class=\"dataframe\">\n",
       "  <thead>\n",
       "    <tr style=\"text-align: right;\">\n",
       "      <th></th>\n",
       "      <th>title</th>\n",
       "      <th>puNumber</th>\n",
       "      <th>show_start_date</th>\n",
       "      <th>type</th>\n",
       "      <th>film_studio</th>\n",
       "      <th>production_country</th>\n",
       "      <th>director</th>\n",
       "      <th>producer</th>\n",
       "      <th>age_restriction</th>\n",
       "      <th>refundable_support</th>\n",
       "      <th>nonrefundable_support</th>\n",
       "      <th>budget</th>\n",
       "      <th>financing_source</th>\n",
       "      <th>ratings</th>\n",
       "      <th>genres</th>\n",
       "      <th>pu_number_except</th>\n",
       "    </tr>\n",
       "  </thead>\n",
       "  <tbody>\n",
       "    <tr>\n",
       "      <th>1797</th>\n",
       "      <td>Курбан-роман. (История с жертвой)</td>\n",
       "      <td>нет</td>\n",
       "      <td>2014-05-15T12:00:00.000Z</td>\n",
       "      <td>Художественный</td>\n",
       "      <td>ФОНД \"ИННОВАЦИЯ\"</td>\n",
       "      <td>Россия</td>\n",
       "      <td>С.Юзеев</td>\n",
       "      <td>М.Галицкая</td>\n",
       "      <td>«12+» - для детей старше 12 лет</td>\n",
       "      <td>NaN</td>\n",
       "      <td>NaN</td>\n",
       "      <td>NaN</td>\n",
       "      <td>NaN</td>\n",
       "      <td>NaN</td>\n",
       "      <td>NaN</td>\n",
       "      <td>False</td>\n",
       "    </tr>\n",
       "  </tbody>\n",
       "</table>\n",
       "</div>"
      ],
      "text/plain": [
       "                                  title puNumber           show_start_date  \\\n",
       "1797  Курбан-роман. (История с жертвой)      нет  2014-05-15T12:00:00.000Z   \n",
       "\n",
       "                type       film_studio production_country director  \\\n",
       "1797  Художественный  ФОНД \"ИННОВАЦИЯ\"             Россия  С.Юзеев   \n",
       "\n",
       "        producer                  age_restriction  refundable_support  \\\n",
       "1797  М.Галицкая  «12+» - для детей старше 12 лет                 NaN   \n",
       "\n",
       "      nonrefundable_support  budget financing_source ratings genres  \\\n",
       "1797                    NaN     NaN              NaN     NaN    NaN   \n",
       "\n",
       "      pu_number_except  \n",
       "1797             False  "
      ]
     },
     "execution_count": 11,
     "metadata": {},
     "output_type": "execute_result"
    }
   ],
   "source": [
    "def find_nan(value):\n",
    "    try:\n",
    "        int(value)  # проверка наличия не числовых значений в столбце 'puNumber'\n",
    "        return True  # возвращаем True, если значение является числовым\n",
    "    except:\n",
    "        return False  # возвращаем False, если значение не является числовым\n",
    "data1['pu_number_except'] = data1['puNumber'].apply(find_nan)  # применяем функцию find_nan к столбцу 'puNumber'\n",
    "data1.query('pu_number_except==False')  # выводим строки, в которых значения в столбце 'puNumber' не являются числовыми"
   ]
  },
  {
   "cell_type": "markdown",
   "id": "c70cc726",
   "metadata": {},
   "source": [
    "Обнаружена единственная строка в датафрейме со значением \"нет\". Заменим его нулём:"
   ]
  },
  {
   "cell_type": "code",
   "execution_count": 12,
   "id": "9a0f18a6",
   "metadata": {},
   "outputs": [],
   "source": [
    "data1.loc[data1['puNumber'] == 'нет', 'puNumber'] = 0"
   ]
  },
  {
   "cell_type": "markdown",
   "id": "1c1b46ce",
   "metadata": {},
   "source": [
    "Поменяем тип данных столбца `puNumber` в датафрейме `data1` на `int64`:"
   ]
  },
  {
   "cell_type": "code",
   "execution_count": 13,
   "id": "2f8c0272",
   "metadata": {},
   "outputs": [],
   "source": [
    "data1['puNumber'] = data1['puNumber'].astype('int64')"
   ]
  },
  {
   "cell_type": "markdown",
   "id": "e0e145b9",
   "metadata": {},
   "source": [
    "Объединим датафреймы:"
   ]
  },
  {
   "cell_type": "code",
   "execution_count": 14,
   "id": "526c39bb",
   "metadata": {},
   "outputs": [],
   "source": [
    "data = data1.merge(data2, on='puNumber', how='left')"
   ]
  },
  {
   "cell_type": "markdown",
   "id": "9a9637e2",
   "metadata": {},
   "source": [
    "Убедимся, что все объекты из датасета с данными о прокатных удостоверениях вошли в получившийся датафрейм:"
   ]
  },
  {
   "cell_type": "code",
   "execution_count": 15,
   "id": "7d685f9d",
   "metadata": {},
   "outputs": [
    {
     "name": "stdout",
     "output_type": "stream",
     "text": [
      "<class 'pandas.core.frame.DataFrame'>\n",
      "Int64Index: 7486 entries, 0 to 7485\n",
      "Data columns (total 17 columns):\n",
      " #   Column                 Non-Null Count  Dtype  \n",
      "---  ------                 --------------  -----  \n",
      " 0   title                  7486 non-null   object \n",
      " 1   puNumber               7486 non-null   int64  \n",
      " 2   show_start_date        7486 non-null   object \n",
      " 3   type                   7486 non-null   object \n",
      " 4   film_studio            7468 non-null   object \n",
      " 5   production_country     7484 non-null   object \n",
      " 6   director               7477 non-null   object \n",
      " 7   producer               6918 non-null   object \n",
      " 8   age_restriction        7486 non-null   object \n",
      " 9   refundable_support     332 non-null    float64\n",
      " 10  nonrefundable_support  332 non-null    float64\n",
      " 11  budget                 332 non-null    float64\n",
      " 12  financing_source       332 non-null    object \n",
      " 13  ratings                6519 non-null   object \n",
      " 14  genres                 6510 non-null   object \n",
      " 15  pu_number_except       7486 non-null   bool   \n",
      " 16  box_office             3158 non-null   float64\n",
      "dtypes: bool(1), float64(4), int64(1), object(11)\n",
      "memory usage: 1001.5+ KB\n"
     ]
    }
   ],
   "source": [
    "data.shape\n",
    "data.info()"
   ]
  },
  {
   "cell_type": "markdown",
   "id": "7d66918c",
   "metadata": {},
   "source": [
    "В новый датафрейм data попал столбец `box_office`, содержащий 3158 значений. Перед объединением датасет data2 содержал такое же количество значений столбца `box_office`. Все столбцы из датасета data1 при слиянии также сохранили свои имена и количество значений. Это говорит нам о том, слияние произошло корректно."
   ]
  },
  {
   "cell_type": "code",
   "execution_count": 16,
   "id": "c5bbb7a9",
   "metadata": {},
   "outputs": [
    {
     "data": {
      "text/plain": [
       "Index(['title', 'puNumber', 'show_start_date', 'type', 'film_studio',\n",
       "       'production_country', 'director', 'producer', 'age_restriction',\n",
       "       'refundable_support', 'nonrefundable_support', 'budget',\n",
       "       'financing_source', 'ratings', 'genres', 'pu_number_except',\n",
       "       'box_office'],\n",
       "      dtype='object')"
      ]
     },
     "execution_count": 16,
     "metadata": {},
     "output_type": "execute_result"
    }
   ],
   "source": [
    "data.columns # выведем названия столбцов"
   ]
  },
  {
   "cell_type": "markdown",
   "id": "f6d2036e",
   "metadata": {},
   "source": [
    "Выведем первые 5 строк датафрейма:"
   ]
  },
  {
   "cell_type": "code",
   "execution_count": 17,
   "id": "ec9b8e8f",
   "metadata": {
    "scrolled": true
   },
   "outputs": [
    {
     "data": {
      "text/html": [
       "<div>\n",
       "<style scoped>\n",
       "    .dataframe tbody tr th:only-of-type {\n",
       "        vertical-align: middle;\n",
       "    }\n",
       "\n",
       "    .dataframe tbody tr th {\n",
       "        vertical-align: top;\n",
       "    }\n",
       "\n",
       "    .dataframe thead th {\n",
       "        text-align: right;\n",
       "    }\n",
       "</style>\n",
       "<table border=\"1\" class=\"dataframe\">\n",
       "  <thead>\n",
       "    <tr style=\"text-align: right;\">\n",
       "      <th></th>\n",
       "      <th>title</th>\n",
       "      <th>puNumber</th>\n",
       "      <th>show_start_date</th>\n",
       "      <th>type</th>\n",
       "      <th>film_studio</th>\n",
       "      <th>production_country</th>\n",
       "      <th>director</th>\n",
       "      <th>producer</th>\n",
       "      <th>age_restriction</th>\n",
       "      <th>refundable_support</th>\n",
       "      <th>nonrefundable_support</th>\n",
       "      <th>budget</th>\n",
       "      <th>financing_source</th>\n",
       "      <th>ratings</th>\n",
       "      <th>genres</th>\n",
       "      <th>pu_number_except</th>\n",
       "      <th>box_office</th>\n",
       "    </tr>\n",
       "  </thead>\n",
       "  <tbody>\n",
       "    <tr>\n",
       "      <th>0</th>\n",
       "      <td>Открытый простор</td>\n",
       "      <td>221048915</td>\n",
       "      <td>2015-11-27T12:00:00.000Z</td>\n",
       "      <td>Художественный</td>\n",
       "      <td>Тачстоун Пикчерз, Кобальт Пикчерз, Бикон Пикче...</td>\n",
       "      <td>США</td>\n",
       "      <td>Кевин Костнер</td>\n",
       "      <td>Дэвид Валдес, Кевин Костнер, Джейк Эбертс</td>\n",
       "      <td>«18+» - запрещено для детей</td>\n",
       "      <td>NaN</td>\n",
       "      <td>NaN</td>\n",
       "      <td>NaN</td>\n",
       "      <td>NaN</td>\n",
       "      <td>7.2</td>\n",
       "      <td>боевик,драма,мелодрама</td>\n",
       "      <td>True</td>\n",
       "      <td>NaN</td>\n",
       "    </tr>\n",
       "    <tr>\n",
       "      <th>1</th>\n",
       "      <td>Особо важное задание</td>\n",
       "      <td>111013716</td>\n",
       "      <td>2016-09-13T12:00:00.000Z</td>\n",
       "      <td>Художественный</td>\n",
       "      <td>Киностудия \"Мосфильм\"</td>\n",
       "      <td>СССР</td>\n",
       "      <td>Е.Матвеев</td>\n",
       "      <td>NaN</td>\n",
       "      <td>«6+» - для детей старше 6 лет</td>\n",
       "      <td>NaN</td>\n",
       "      <td>NaN</td>\n",
       "      <td>NaN</td>\n",
       "      <td>NaN</td>\n",
       "      <td>6.6</td>\n",
       "      <td>драма,военный</td>\n",
       "      <td>True</td>\n",
       "      <td>NaN</td>\n",
       "    </tr>\n",
       "    <tr>\n",
       "      <th>2</th>\n",
       "      <td>Особо опасен</td>\n",
       "      <td>221038416</td>\n",
       "      <td>2016-10-10T12:00:00.000Z</td>\n",
       "      <td>Художественный</td>\n",
       "      <td>Юниверсал Пикчерз, Кикстарт Продакшнз, Марк Пл...</td>\n",
       "      <td>США</td>\n",
       "      <td>Тимур Бекмамбетов</td>\n",
       "      <td>Джим Лемли, Джейсон Нетер, Марк Е.Платт, Яйн Смит</td>\n",
       "      <td>«18+» - запрещено для детей</td>\n",
       "      <td>NaN</td>\n",
       "      <td>NaN</td>\n",
       "      <td>NaN</td>\n",
       "      <td>NaN</td>\n",
       "      <td>6.8</td>\n",
       "      <td>фантастика,боевик,триллер</td>\n",
       "      <td>True</td>\n",
       "      <td>NaN</td>\n",
       "    </tr>\n",
       "    <tr>\n",
       "      <th>3</th>\n",
       "      <td>Особо опасен</td>\n",
       "      <td>221026916</td>\n",
       "      <td>2016-06-10T12:00:00.000Z</td>\n",
       "      <td>Художественный</td>\n",
       "      <td>Юниверсал Пикчерз, Кикстарт Продакшнз, Марк Пл...</td>\n",
       "      <td>США</td>\n",
       "      <td>Тимур Бекмамбетов</td>\n",
       "      <td>Джим Лемли, Джейсон Нетер, Марк Е.Платт, Яйн Смит</td>\n",
       "      <td>«18+» - запрещено для детей</td>\n",
       "      <td>NaN</td>\n",
       "      <td>NaN</td>\n",
       "      <td>NaN</td>\n",
       "      <td>NaN</td>\n",
       "      <td>6.8</td>\n",
       "      <td>фантастика,боевик,триллер</td>\n",
       "      <td>True</td>\n",
       "      <td>NaN</td>\n",
       "    </tr>\n",
       "    <tr>\n",
       "      <th>4</th>\n",
       "      <td>Особо опасен</td>\n",
       "      <td>221030815</td>\n",
       "      <td>2015-07-29T12:00:00.000Z</td>\n",
       "      <td>Художественный</td>\n",
       "      <td>Юниверсал Пикчерз, Кикстарт Продакшнз, Марк Пл...</td>\n",
       "      <td>США</td>\n",
       "      <td>Тимур Бекмамбетов</td>\n",
       "      <td>Джим Лемли, Джейсон Нетер, Марк Е.Платт, Яйн Смит</td>\n",
       "      <td>«18+» - запрещено для детей</td>\n",
       "      <td>NaN</td>\n",
       "      <td>NaN</td>\n",
       "      <td>NaN</td>\n",
       "      <td>NaN</td>\n",
       "      <td>6.8</td>\n",
       "      <td>фантастика,боевик,триллер</td>\n",
       "      <td>True</td>\n",
       "      <td>NaN</td>\n",
       "    </tr>\n",
       "  </tbody>\n",
       "</table>\n",
       "</div>"
      ],
      "text/plain": [
       "                  title   puNumber           show_start_date            type  \\\n",
       "0      Открытый простор  221048915  2015-11-27T12:00:00.000Z  Художественный   \n",
       "1  Особо важное задание  111013716  2016-09-13T12:00:00.000Z  Художественный   \n",
       "2          Особо опасен  221038416  2016-10-10T12:00:00.000Z  Художественный   \n",
       "3          Особо опасен  221026916  2016-06-10T12:00:00.000Z  Художественный   \n",
       "4          Особо опасен  221030815  2015-07-29T12:00:00.000Z  Художественный   \n",
       "\n",
       "                                         film_studio production_country  \\\n",
       "0  Тачстоун Пикчерз, Кобальт Пикчерз, Бикон Пикче...                США   \n",
       "1                              Киностудия \"Мосфильм\"               СССР   \n",
       "2  Юниверсал Пикчерз, Кикстарт Продакшнз, Марк Пл...                США   \n",
       "3  Юниверсал Пикчерз, Кикстарт Продакшнз, Марк Пл...                США   \n",
       "4  Юниверсал Пикчерз, Кикстарт Продакшнз, Марк Пл...                США   \n",
       "\n",
       "            director                                           producer  \\\n",
       "0      Кевин Костнер          Дэвид Валдес, Кевин Костнер, Джейк Эбертс   \n",
       "1          Е.Матвеев                                                NaN   \n",
       "2  Тимур Бекмамбетов  Джим Лемли, Джейсон Нетер, Марк Е.Платт, Яйн Смит   \n",
       "3  Тимур Бекмамбетов  Джим Лемли, Джейсон Нетер, Марк Е.Платт, Яйн Смит   \n",
       "4  Тимур Бекмамбетов  Джим Лемли, Джейсон Нетер, Марк Е.Платт, Яйн Смит   \n",
       "\n",
       "                 age_restriction  refundable_support  nonrefundable_support  \\\n",
       "0    «18+» - запрещено для детей                 NaN                    NaN   \n",
       "1  «6+» - для детей старше 6 лет                 NaN                    NaN   \n",
       "2    «18+» - запрещено для детей                 NaN                    NaN   \n",
       "3    «18+» - запрещено для детей                 NaN                    NaN   \n",
       "4    «18+» - запрещено для детей                 NaN                    NaN   \n",
       "\n",
       "   budget financing_source ratings                     genres  \\\n",
       "0     NaN              NaN     7.2     боевик,драма,мелодрама   \n",
       "1     NaN              NaN     6.6              драма,военный   \n",
       "2     NaN              NaN     6.8  фантастика,боевик,триллер   \n",
       "3     NaN              NaN     6.8  фантастика,боевик,триллер   \n",
       "4     NaN              NaN     6.8  фантастика,боевик,триллер   \n",
       "\n",
       "   pu_number_except  box_office  \n",
       "0              True         NaN  \n",
       "1              True         NaN  \n",
       "2              True         NaN  \n",
       "3              True         NaN  \n",
       "4              True         NaN  "
      ]
     },
     "execution_count": 17,
     "metadata": {},
     "output_type": "execute_result"
    }
   ],
   "source": [
    "data.head()"
   ]
  },
  {
   "cell_type": "markdown",
   "id": "75d4a3e7",
   "metadata": {},
   "source": [
    "Приведём название столбца `puNumber` в датафрейме `data` к более привычному snake_сase:"
   ]
  },
  {
   "cell_type": "code",
   "execution_count": 18,
   "id": "47d939f6",
   "metadata": {},
   "outputs": [],
   "source": [
    "data.rename(columns = {'puNumber':'pu_number'}, inplace=True)"
   ]
  },
  {
   "cell_type": "markdown",
   "id": "8bf2c0cf",
   "metadata": {},
   "source": [
    "Выводы по разделу:\n",
    "\n",
    "- изучены оба предоставленных датафрейма, после корректировки столбца `puNumber` одного из них, данные сведены в общий датафрейм;\n",
    "- изучена информация о количестве данных в сводном датафрейме, убедились, что все данные из обоих датасетов перенеслись в него корректно. Данные готовы к предобработке."
   ]
  },
  {
   "cell_type": "markdown",
   "id": "468d1f04",
   "metadata": {},
   "source": [
    "## Предобработка данных"
   ]
  },
  {
   "cell_type": "markdown",
   "id": "72bb773b",
   "metadata": {},
   "source": [
    "### Проверка типов данных в датафрейме и их преобразование там, где это необходимо."
   ]
  },
  {
   "cell_type": "markdown",
   "id": "c980b776",
   "metadata": {},
   "source": [
    "Выведем общую информацию о датафрейме `data`:"
   ]
  },
  {
   "cell_type": "code",
   "execution_count": 19,
   "id": "f5da181f",
   "metadata": {},
   "outputs": [
    {
     "name": "stdout",
     "output_type": "stream",
     "text": [
      "<class 'pandas.core.frame.DataFrame'>\n",
      "Int64Index: 7486 entries, 0 to 7485\n",
      "Data columns (total 17 columns):\n",
      " #   Column                 Non-Null Count  Dtype  \n",
      "---  ------                 --------------  -----  \n",
      " 0   title                  7486 non-null   object \n",
      " 1   pu_number              7486 non-null   int64  \n",
      " 2   show_start_date        7486 non-null   object \n",
      " 3   type                   7486 non-null   object \n",
      " 4   film_studio            7468 non-null   object \n",
      " 5   production_country     7484 non-null   object \n",
      " 6   director               7477 non-null   object \n",
      " 7   producer               6918 non-null   object \n",
      " 8   age_restriction        7486 non-null   object \n",
      " 9   refundable_support     332 non-null    float64\n",
      " 10  nonrefundable_support  332 non-null    float64\n",
      " 11  budget                 332 non-null    float64\n",
      " 12  financing_source       332 non-null    object \n",
      " 13  ratings                6519 non-null   object \n",
      " 14  genres                 6510 non-null   object \n",
      " 15  pu_number_except       7486 non-null   bool   \n",
      " 16  box_office             3158 non-null   float64\n",
      "dtypes: bool(1), float64(4), int64(1), object(11)\n",
      "memory usage: 1001.5+ KB\n"
     ]
    }
   ],
   "source": [
    "data.info()"
   ]
  },
  {
   "cell_type": "code",
   "execution_count": 20,
   "id": "f5ac6636",
   "metadata": {},
   "outputs": [],
   "source": [
    "data['show_start_date'] = pd.to_datetime(data['show_start_date'], format='%Y-%m-%dT%H:%M:%S.%fZ') # преобразуем тип данных в столбце 'show_start_date' в datetime64"
   ]
  },
  {
   "cell_type": "markdown",
   "id": "6aba02b3",
   "metadata": {},
   "source": [
    "Изучим уникальные значения в столбце `ratings`:"
   ]
  },
  {
   "cell_type": "code",
   "execution_count": 21,
   "id": "ea0eede7",
   "metadata": {
    "scrolled": true
   },
   "outputs": [
    {
     "data": {
      "text/plain": [
       "array(['7.2', '6.6', '6.8', '7.7', '8.3', '8.0', '7.8', '8.1', '7.1',\n",
       "       '6.0', '7.4', '5.8', '8.7', '6.3', '6.9', '5.0', '4.3', '7.3',\n",
       "       '7.0', '6.4', nan, '8.2', '7.5', '6.7', '7.9', '5.9', '6.2', '5.6',\n",
       "       '6.5', '2.4', '7.6', '6.1', '8.6', '8.5', '8.8', '5.5', '5.1',\n",
       "       '5.7', '5.4', '99%', '4.4', '4.5', '5.3', '4.1', '8.4', '2.6',\n",
       "       '3.8', '4.6', '4.8', '4.0', '3.0', '1.6', '4.2', '5.2', '4.7',\n",
       "       '4.9', '3.9', '2.7', '3.3', '2.9', '28%', '3.7', '1.4', '3.1',\n",
       "       '97%', '3.5', '3.2', '2.8', '1.5', '2.1', '2.5', '9.2', '3.4',\n",
       "       '1.1', '3.6', '83%', '64%', '91%', '94%', '62%', '79%', '90%',\n",
       "       '19%', '88%', '1.0', '89%', '1.3', '1.9', '1.8', '1.2', '1.7',\n",
       "       '9.0', '98%', '8.9', '9.1'], dtype=object)"
      ]
     },
     "execution_count": 21,
     "metadata": {},
     "output_type": "execute_result"
    }
   ],
   "source": [
    "data['ratings'].unique()"
   ]
  },
  {
   "cell_type": "markdown",
   "id": "23a5b37b",
   "metadata": {},
   "source": [
    "Данные содержат ошибочные значения в %. Переведём их в вещественный тип, заменив их более подходящими по смыслу:"
   ]
  },
  {
   "cell_type": "code",
   "execution_count": 22,
   "id": "b79384d9",
   "metadata": {},
   "outputs": [],
   "source": [
    "percents = ['99%', '28%', '97%', '83%', '64%', '91%', '94%', '62%', '79%', '90%', '19%', '88%', '89%', '98%']\n",
    "numbers = ['9.9', '2.8', '9.7', '8.3', '6.4', '9.1', '9.4', '6.2', '7.9', '9.0', '1.9', '8.8', '8.9', '9.8']\n",
    "data['ratings'] = data['ratings'].replace(percents, numbers) "
   ]
  },
  {
   "cell_type": "code",
   "execution_count": 23,
   "id": "da6013af",
   "metadata": {},
   "outputs": [
    {
     "data": {
      "text/plain": [
       "array(['7.2', '6.6', '6.8', '7.7', '8.3', '8.0', '7.8', '8.1', '7.1',\n",
       "       '6.0', '7.4', '5.8', '8.7', '6.3', '6.9', '5.0', '4.3', '7.3',\n",
       "       '7.0', '6.4', nan, '8.2', '7.5', '6.7', '7.9', '5.9', '6.2', '5.6',\n",
       "       '6.5', '2.4', '7.6', '6.1', '8.6', '8.5', '8.8', '5.5', '5.1',\n",
       "       '5.7', '5.4', '9.9', '4.4', '4.5', '5.3', '4.1', '8.4', '2.6',\n",
       "       '3.8', '4.6', '4.8', '4.0', '3.0', '1.6', '4.2', '5.2', '4.7',\n",
       "       '4.9', '3.9', '2.7', '3.3', '2.9', '2.8', '3.7', '1.4', '3.1',\n",
       "       '9.7', '3.5', '3.2', '1.5', '2.1', '2.5', '9.2', '3.4', '1.1',\n",
       "       '3.6', '9.1', '9.4', '9.0', '1.9', '1.0', '8.9', '1.3', '1.8',\n",
       "       '1.2', '1.7', '9.8'], dtype=object)"
      ]
     },
     "execution_count": 23,
     "metadata": {},
     "output_type": "execute_result"
    }
   ],
   "source": [
    "data['ratings'].unique() # проверяем уникальные значения в столбце 'ratings' после замены"
   ]
  },
  {
   "cell_type": "code",
   "execution_count": 24,
   "id": "9ab5ac77",
   "metadata": {},
   "outputs": [],
   "source": [
    "data['ratings'] = data['ratings'].astype('float') # преобразуем тип данных в столбце 'ratings' в вещественный"
   ]
  },
  {
   "cell_type": "code",
   "execution_count": 25,
   "id": "21d337c7",
   "metadata": {
    "scrolled": true
   },
   "outputs": [
    {
     "name": "stdout",
     "output_type": "stream",
     "text": [
      "<class 'pandas.core.frame.DataFrame'>\n",
      "Int64Index: 7486 entries, 0 to 7485\n",
      "Data columns (total 17 columns):\n",
      " #   Column                 Non-Null Count  Dtype         \n",
      "---  ------                 --------------  -----         \n",
      " 0   title                  7486 non-null   object        \n",
      " 1   pu_number              7486 non-null   int64         \n",
      " 2   show_start_date        7486 non-null   datetime64[ns]\n",
      " 3   type                   7486 non-null   object        \n",
      " 4   film_studio            7468 non-null   object        \n",
      " 5   production_country     7484 non-null   object        \n",
      " 6   director               7477 non-null   object        \n",
      " 7   producer               6918 non-null   object        \n",
      " 8   age_restriction        7486 non-null   object        \n",
      " 9   refundable_support     332 non-null    float64       \n",
      " 10  nonrefundable_support  332 non-null    float64       \n",
      " 11  budget                 332 non-null    float64       \n",
      " 12  financing_source       332 non-null    object        \n",
      " 13  ratings                6519 non-null   float64       \n",
      " 14  genres                 6510 non-null   object        \n",
      " 15  pu_number_except       7486 non-null   bool          \n",
      " 16  box_office             3158 non-null   float64       \n",
      "dtypes: bool(1), datetime64[ns](1), float64(5), int64(1), object(9)\n",
      "memory usage: 1001.5+ KB\n"
     ]
    }
   ],
   "source": [
    "data.info()"
   ]
  },
  {
   "cell_type": "markdown",
   "id": "957326b2",
   "metadata": {},
   "source": [
    "### Изучение пропусков в датафрейме и проверка тех из них, которые можно заменить."
   ]
  },
  {
   "cell_type": "markdown",
   "id": "c7c0f31b",
   "metadata": {},
   "source": [
    "Выведем количество пропущенных значений для каждого столбца:"
   ]
  },
  {
   "cell_type": "code",
   "execution_count": 26,
   "id": "cceac2be",
   "metadata": {},
   "outputs": [
    {
     "data": {
      "text/plain": [
       "7486"
      ]
     },
     "execution_count": 26,
     "metadata": {},
     "output_type": "execute_result"
    }
   ],
   "source": [
    "# Комментарий ревьюера\n",
    "temp = data.copy() # создаем копию датасета до преобразования\n",
    "len(temp)"
   ]
  },
  {
   "cell_type": "code",
   "execution_count": 27,
   "id": "3f1c3fd4",
   "metadata": {},
   "outputs": [
    {
     "data": {
      "text/plain": [
       "title                       0\n",
       "pu_number                   0\n",
       "show_start_date             0\n",
       "type                        0\n",
       "film_studio                18\n",
       "production_country          2\n",
       "director                    9\n",
       "producer                  568\n",
       "age_restriction             0\n",
       "refundable_support       7154\n",
       "nonrefundable_support    7154\n",
       "budget                   7154\n",
       "financing_source         7154\n",
       "ratings                   967\n",
       "genres                    976\n",
       "pu_number_except            0\n",
       "box_office               4328\n",
       "dtype: int64"
      ]
     },
     "execution_count": 27,
     "metadata": {},
     "output_type": "execute_result"
    }
   ],
   "source": [
    "data.isnull().sum()"
   ]
  },
  {
   "cell_type": "markdown",
   "id": "de715ed0",
   "metadata": {},
   "source": [
    "общее количество строк в датафрейме - 7486, пропуски обнаружены во многих столбцах. В нечисловых столбцах `film_studio`, `production_country`, `director`, `producer`, `genres` заменим пропуски значением unknown, т.к. без обращения к поставщику данных получить их не представляется возможным. В остальных столбцах оставим пропуски как есть. Чтобы сократить код, воспользуемся циклом:"
   ]
  },
  {
   "cell_type": "code",
   "execution_count": 28,
   "id": "c18b5be6",
   "metadata": {},
   "outputs": [],
   "source": [
    "data_to_fill = ['film_studio', 'production_country', 'director', 'producer', 'genres']\n",
    "for value in data_to_fill:\n",
    "    data[value] = data[value].fillna('unknown')"
   ]
  },
  {
   "cell_type": "markdown",
   "id": "3ecfeb39",
   "metadata": {},
   "source": [
    "Проверим заполнение пропущенных значений (ещё раз выведем их количество для каждого столбца):"
   ]
  },
  {
   "cell_type": "code",
   "execution_count": 29,
   "id": "012038a3",
   "metadata": {},
   "outputs": [
    {
     "data": {
      "text/plain": [
       "title                       0\n",
       "pu_number                   0\n",
       "show_start_date             0\n",
       "type                        0\n",
       "film_studio                 0\n",
       "production_country          0\n",
       "director                    0\n",
       "producer                    0\n",
       "age_restriction             0\n",
       "refundable_support       7154\n",
       "nonrefundable_support    7154\n",
       "budget                   7154\n",
       "financing_source         7154\n",
       "ratings                   967\n",
       "genres                      0\n",
       "pu_number_except            0\n",
       "box_office               4328\n",
       "dtype: int64"
      ]
     },
     "execution_count": 29,
     "metadata": {},
     "output_type": "execute_result"
    }
   ],
   "source": [
    "data.isnull().sum()"
   ]
  },
  {
   "cell_type": "markdown",
   "id": "85d07948",
   "metadata": {},
   "source": [
    "Количество столбцов с оставшимися пропущенными данными сократилось до 6."
   ]
  },
  {
   "cell_type": "markdown",
   "id": "e7be1645",
   "metadata": {},
   "source": [
    "### Проверка на наличие дубликатов в данных"
   ]
  },
  {
   "cell_type": "markdown",
   "id": "f52df123",
   "metadata": {},
   "source": [
    "Выведем количество явных дубликатов в датафрейме:"
   ]
  },
  {
   "cell_type": "code",
   "execution_count": 30,
   "id": "0fb5f318",
   "metadata": {},
   "outputs": [
    {
     "data": {
      "text/plain": [
       "0"
      ]
     },
     "execution_count": 30,
     "metadata": {},
     "output_type": "execute_result"
    }
   ],
   "source": [
    "data.duplicated().sum()"
   ]
  },
  {
   "cell_type": "markdown",
   "id": "f37876b6",
   "metadata": {},
   "source": [
    "Явные дубликаты отсутствуют. Проверим количество неявных дубликатов в отдельных столбцах и удалим их (по возможности):"
   ]
  },
  {
   "cell_type": "code",
   "execution_count": 31,
   "id": "0a994a1f",
   "metadata": {
    "scrolled": true
   },
   "outputs": [
    {
     "data": {
      "text/plain": [
       "221054410    2\n",
       "221154310    2\n",
       "0            1\n",
       "111008518    1\n",
       "114002716    1\n",
       "            ..\n",
       "121021814    1\n",
       "224028210    1\n",
       "121013618    1\n",
       "121017712    1\n",
       "126002916    1\n",
       "Name: pu_number, Length: 7484, dtype: int64"
      ]
     },
     "execution_count": 31,
     "metadata": {},
     "output_type": "execute_result"
    }
   ],
   "source": [
    "data['pu_number'].value_counts() # поиск дубликатов в столбце 'pu_number'"
   ]
  },
  {
   "cell_type": "markdown",
   "id": "3ace15eb",
   "metadata": {},
   "source": [
    "Обнаружены 2 дубликата. Посмотрим, что это за строки:"
   ]
  },
  {
   "cell_type": "code",
   "execution_count": 32,
   "id": "7527fb6a",
   "metadata": {
    "scrolled": true
   },
   "outputs": [
    {
     "data": {
      "text/html": [
       "<div>\n",
       "<style scoped>\n",
       "    .dataframe tbody tr th:only-of-type {\n",
       "        vertical-align: middle;\n",
       "    }\n",
       "\n",
       "    .dataframe tbody tr th {\n",
       "        vertical-align: top;\n",
       "    }\n",
       "\n",
       "    .dataframe thead th {\n",
       "        text-align: right;\n",
       "    }\n",
       "</style>\n",
       "<table border=\"1\" class=\"dataframe\">\n",
       "  <thead>\n",
       "    <tr style=\"text-align: right;\">\n",
       "      <th></th>\n",
       "      <th>title</th>\n",
       "      <th>pu_number</th>\n",
       "      <th>show_start_date</th>\n",
       "      <th>type</th>\n",
       "      <th>film_studio</th>\n",
       "      <th>production_country</th>\n",
       "      <th>director</th>\n",
       "      <th>producer</th>\n",
       "      <th>age_restriction</th>\n",
       "      <th>refundable_support</th>\n",
       "      <th>nonrefundable_support</th>\n",
       "      <th>budget</th>\n",
       "      <th>financing_source</th>\n",
       "      <th>ratings</th>\n",
       "      <th>genres</th>\n",
       "      <th>pu_number_except</th>\n",
       "      <th>box_office</th>\n",
       "    </tr>\n",
       "  </thead>\n",
       "  <tbody>\n",
       "    <tr>\n",
       "      <th>4638</th>\n",
       "      <td>Как жениться и остаться холостым</td>\n",
       "      <td>221154310</td>\n",
       "      <td>2010-12-17 12:00:00</td>\n",
       "      <td>Художественный</td>\n",
       "      <td>Ше Вам, Скрипт Ассосье, Тэ Фэ 1 Фильм Продюксь...</td>\n",
       "      <td>Франция</td>\n",
       "      <td>Эрик Лартиго</td>\n",
       "      <td>Амандин Било, Алан Шаба</td>\n",
       "      <td>«16+» - для детей старше 16 лет</td>\n",
       "      <td>NaN</td>\n",
       "      <td>NaN</td>\n",
       "      <td>NaN</td>\n",
       "      <td>NaN</td>\n",
       "      <td>7.00</td>\n",
       "      <td>мелодрама,комедия</td>\n",
       "      <td>True</td>\n",
       "      <td>NaN</td>\n",
       "    </tr>\n",
       "    <tr>\n",
       "      <th>4639</th>\n",
       "      <td>Иоанна - женщина на папском престоле /По роман...</td>\n",
       "      <td>221154310</td>\n",
       "      <td>2010-12-17 12:00:00</td>\n",
       "      <td>Художественный</td>\n",
       "      <td>Константин Фильм, А Эр Ди Дегето Фильм, Дюне ...</td>\n",
       "      <td>Германия - Великобритания - Италия - Испания</td>\n",
       "      <td>Зенке Вортманн</td>\n",
       "      <td>Оливер Бербен, Дорис Д.Хайнце, Фарук Элтан</td>\n",
       "      <td>«16+» - для детей старше 16 лет</td>\n",
       "      <td>NaN</td>\n",
       "      <td>NaN</td>\n",
       "      <td>NaN</td>\n",
       "      <td>NaN</td>\n",
       "      <td>7.60</td>\n",
       "      <td>драма,мелодрама,история</td>\n",
       "      <td>True</td>\n",
       "      <td>NaN</td>\n",
       "    </tr>\n",
       "    <tr>\n",
       "      <th>5067</th>\n",
       "      <td>Анализируй это!</td>\n",
       "      <td>221054410</td>\n",
       "      <td>2010-05-25 12:00:00</td>\n",
       "      <td>Художественный</td>\n",
       "      <td>Уорнер Бразерс, Вилладж Роудшоу Филмз ЛТД</td>\n",
       "      <td>США-Австралия</td>\n",
       "      <td>ХЭрольд Рэмис</td>\n",
       "      <td>Джейн Розенталь, Пола Уейнстейн</td>\n",
       "      <td>«16+» - для детей старше 16 лет</td>\n",
       "      <td>NaN</td>\n",
       "      <td>NaN</td>\n",
       "      <td>NaN</td>\n",
       "      <td>NaN</td>\n",
       "      <td>7.40</td>\n",
       "      <td>комедия,криминал</td>\n",
       "      <td>True</td>\n",
       "      <td>NaN</td>\n",
       "    </tr>\n",
       "    <tr>\n",
       "      <th>5068</th>\n",
       "      <td>Анализируй то!</td>\n",
       "      <td>221054410</td>\n",
       "      <td>2010-05-25 12:00:00</td>\n",
       "      <td>Художественный</td>\n",
       "      <td>Уорнер Бразерс, Виллидж Роадшоу Пикчерз, Эн-Пи...</td>\n",
       "      <td>США</td>\n",
       "      <td>Гарольд Реймис</td>\n",
       "      <td>Джейн Розенталь, Паул Уэйнстейн</td>\n",
       "      <td>«12+» - для детей старше 12 лет</td>\n",
       "      <td>NaN</td>\n",
       "      <td>NaN</td>\n",
       "      <td>NaN</td>\n",
       "      <td>NaN</td>\n",
       "      <td>6.80</td>\n",
       "      <td>комедия,криминал</td>\n",
       "      <td>True</td>\n",
       "      <td>NaN</td>\n",
       "    </tr>\n",
       "  </tbody>\n",
       "</table>\n",
       "</div>"
      ],
      "text/plain": [
       "                                                  title  pu_number  \\\n",
       "4638                   Как жениться и остаться холостым  221154310   \n",
       "4639  Иоанна - женщина на папском престоле /По роман...  221154310   \n",
       "5067                                    Анализируй это!  221054410   \n",
       "5068                                     Анализируй то!  221054410   \n",
       "\n",
       "         show_start_date            type  \\\n",
       "4638 2010-12-17 12:00:00  Художественный   \n",
       "4639 2010-12-17 12:00:00  Художественный   \n",
       "5067 2010-05-25 12:00:00  Художественный   \n",
       "5068 2010-05-25 12:00:00  Художественный   \n",
       "\n",
       "                                            film_studio  \\\n",
       "4638  Ше Вам, Скрипт Ассосье, Тэ Фэ 1 Фильм Продюксь...   \n",
       "4639   Константин Фильм, А Эр Ди Дегето Фильм, Дюне ...   \n",
       "5067          Уорнер Бразерс, Вилладж Роудшоу Филмз ЛТД   \n",
       "5068  Уорнер Бразерс, Виллидж Роадшоу Пикчерз, Эн-Пи...   \n",
       "\n",
       "                                production_country        director  \\\n",
       "4638                                       Франция    Эрик Лартиго   \n",
       "4639  Германия - Великобритания - Италия - Испания  Зенке Вортманн   \n",
       "5067                                 США-Австралия   ХЭрольд Рэмис   \n",
       "5068                                           США  Гарольд Реймис   \n",
       "\n",
       "                                        producer  \\\n",
       "4638                     Амандин Било, Алан Шаба   \n",
       "4639  Оливер Бербен, Дорис Д.Хайнце, Фарук Элтан   \n",
       "5067             Джейн Розенталь, Пола Уейнстейн   \n",
       "5068             Джейн Розенталь, Паул Уэйнстейн   \n",
       "\n",
       "                      age_restriction  refundable_support  \\\n",
       "4638  «16+» - для детей старше 16 лет                 NaN   \n",
       "4639  «16+» - для детей старше 16 лет                 NaN   \n",
       "5067  «16+» - для детей старше 16 лет                 NaN   \n",
       "5068  «12+» - для детей старше 12 лет                 NaN   \n",
       "\n",
       "      nonrefundable_support  budget financing_source  ratings  \\\n",
       "4638                    NaN     NaN              NaN     7.00   \n",
       "4639                    NaN     NaN              NaN     7.60   \n",
       "5067                    NaN     NaN              NaN     7.40   \n",
       "5068                    NaN     NaN              NaN     6.80   \n",
       "\n",
       "                       genres  pu_number_except  box_office  \n",
       "4638        мелодрама,комедия              True         NaN  \n",
       "4639  драма,мелодрама,история              True         NaN  \n",
       "5067         комедия,криминал              True         NaN  \n",
       "5068         комедия,криминал              True         NaN  "
      ]
     },
     "execution_count": 32,
     "metadata": {},
     "output_type": "execute_result"
    }
   ],
   "source": [
    "data[data.duplicated(subset=['pu_number'], keep=False)]"
   ]
  },
  {
   "cell_type": "markdown",
   "id": "91e164bf",
   "metadata": {},
   "source": [
    "Видно, что в данных есть ошибка: все 4 фильма - разные, но обеим парам были присвоены одинаковые номера прокатных удостоверений. Удалять дубликаты в этом случае нельзя, внесём отличия в `pu_number`:"
   ]
  },
  {
   "cell_type": "code",
   "execution_count": 33,
   "id": "b0d500c2",
   "metadata": {},
   "outputs": [],
   "source": [
    "data.loc[((data['pu_number'] == 221154310) & (data['production_country'] == 'Франция')), 'pu_number'] = 2211543101_1\n",
    "data.loc[((data['pu_number'] == 221054410) & (data['production_country'] == 'США-Австралия')), 'pu_number'] = 221054410_1"
   ]
  },
  {
   "cell_type": "code",
   "execution_count": 34,
   "id": "6bb6c2c6",
   "metadata": {},
   "outputs": [
    {
     "data": {
      "text/plain": [
       "0"
      ]
     },
     "execution_count": 34,
     "metadata": {},
     "output_type": "execute_result"
    }
   ],
   "source": [
    "data['pu_number'].duplicated().sum() # проверка наличия дубликатов в столбце 'pu_number'"
   ]
  },
  {
   "cell_type": "markdown",
   "id": "e6e1c2c6",
   "metadata": {},
   "source": [
    "Других неявных дубликатов, которые можно удалить, не обнаружено."
   ]
  },
  {
   "cell_type": "markdown",
   "id": "f5375466",
   "metadata": {},
   "source": [
    "Проверим, есть ли дубликаты в столбце `title`:"
   ]
  },
  {
   "cell_type": "code",
   "execution_count": 35,
   "id": "3f1bce98",
   "metadata": {
    "scrolled": true
   },
   "outputs": [
    {
     "data": {
      "text/html": [
       "<div>\n",
       "<style scoped>\n",
       "    .dataframe tbody tr th:only-of-type {\n",
       "        vertical-align: middle;\n",
       "    }\n",
       "\n",
       "    .dataframe tbody tr th {\n",
       "        vertical-align: top;\n",
       "    }\n",
       "\n",
       "    .dataframe thead th {\n",
       "        text-align: right;\n",
       "    }\n",
       "</style>\n",
       "<table border=\"1\" class=\"dataframe\">\n",
       "  <thead>\n",
       "    <tr style=\"text-align: right;\">\n",
       "      <th></th>\n",
       "      <th>title</th>\n",
       "      <th>pu_number</th>\n",
       "      <th>show_start_date</th>\n",
       "      <th>type</th>\n",
       "      <th>film_studio</th>\n",
       "      <th>production_country</th>\n",
       "      <th>director</th>\n",
       "      <th>producer</th>\n",
       "      <th>age_restriction</th>\n",
       "      <th>refundable_support</th>\n",
       "      <th>nonrefundable_support</th>\n",
       "      <th>budget</th>\n",
       "      <th>financing_source</th>\n",
       "      <th>ratings</th>\n",
       "      <th>genres</th>\n",
       "      <th>pu_number_except</th>\n",
       "      <th>box_office</th>\n",
       "    </tr>\n",
       "  </thead>\n",
       "  <tbody>\n",
       "    <tr>\n",
       "      <th>2</th>\n",
       "      <td>Особо опасен</td>\n",
       "      <td>221038416</td>\n",
       "      <td>2016-10-10 12:00:00</td>\n",
       "      <td>Художественный</td>\n",
       "      <td>Юниверсал Пикчерз, Кикстарт Продакшнз, Марк Пл...</td>\n",
       "      <td>США</td>\n",
       "      <td>Тимур Бекмамбетов</td>\n",
       "      <td>Джим Лемли, Джейсон Нетер, Марк Е.Платт, Яйн Смит</td>\n",
       "      <td>«18+» - запрещено для детей</td>\n",
       "      <td>NaN</td>\n",
       "      <td>NaN</td>\n",
       "      <td>NaN</td>\n",
       "      <td>NaN</td>\n",
       "      <td>6.80</td>\n",
       "      <td>фантастика,боевик,триллер</td>\n",
       "      <td>True</td>\n",
       "      <td>NaN</td>\n",
       "    </tr>\n",
       "    <tr>\n",
       "      <th>3</th>\n",
       "      <td>Особо опасен</td>\n",
       "      <td>221026916</td>\n",
       "      <td>2016-06-10 12:00:00</td>\n",
       "      <td>Художественный</td>\n",
       "      <td>Юниверсал Пикчерз, Кикстарт Продакшнз, Марк Пл...</td>\n",
       "      <td>США</td>\n",
       "      <td>Тимур Бекмамбетов</td>\n",
       "      <td>Джим Лемли, Джейсон Нетер, Марк Е.Платт, Яйн Смит</td>\n",
       "      <td>«18+» - запрещено для детей</td>\n",
       "      <td>NaN</td>\n",
       "      <td>NaN</td>\n",
       "      <td>NaN</td>\n",
       "      <td>NaN</td>\n",
       "      <td>6.80</td>\n",
       "      <td>фантастика,боевик,триллер</td>\n",
       "      <td>True</td>\n",
       "      <td>NaN</td>\n",
       "    </tr>\n",
       "    <tr>\n",
       "      <th>4</th>\n",
       "      <td>Особо опасен</td>\n",
       "      <td>221030815</td>\n",
       "      <td>2015-07-29 12:00:00</td>\n",
       "      <td>Художественный</td>\n",
       "      <td>Юниверсал Пикчерз, Кикстарт Продакшнз, Марк Пл...</td>\n",
       "      <td>США</td>\n",
       "      <td>Тимур Бекмамбетов</td>\n",
       "      <td>Джим Лемли, Джейсон Нетер, Марк Е.Платт, Яйн Смит</td>\n",
       "      <td>«18+» - запрещено для детей</td>\n",
       "      <td>NaN</td>\n",
       "      <td>NaN</td>\n",
       "      <td>NaN</td>\n",
       "      <td>NaN</td>\n",
       "      <td>6.80</td>\n",
       "      <td>фантастика,боевик,триллер</td>\n",
       "      <td>True</td>\n",
       "      <td>NaN</td>\n",
       "    </tr>\n",
       "    <tr>\n",
       "      <th>12</th>\n",
       "      <td>Малышка на миллион /По мотивам рассказов Ф.Х.Т...</td>\n",
       "      <td>221011415</td>\n",
       "      <td>2015-04-03 12:00:00</td>\n",
       "      <td>Художественный</td>\n",
       "      <td>Уорнер Бразерс, Лейкшор Интертейнмент, Малпасо...</td>\n",
       "      <td>США</td>\n",
       "      <td>Клинт Иствуд</td>\n",
       "      <td>Клинт Иствуд, Том Розенберг, Альберт С.Рудди, ...</td>\n",
       "      <td>«16+» - для детей старше 16 лет</td>\n",
       "      <td>NaN</td>\n",
       "      <td>NaN</td>\n",
       "      <td>NaN</td>\n",
       "      <td>NaN</td>\n",
       "      <td>8.10</td>\n",
       "      <td>драма,спорт</td>\n",
       "      <td>True</td>\n",
       "      <td>NaN</td>\n",
       "    </tr>\n",
       "    <tr>\n",
       "      <th>26</th>\n",
       "      <td>Оружейный барон</td>\n",
       "      <td>221012515</td>\n",
       "      <td>2015-04-03 12:00:00</td>\n",
       "      <td>Художественный</td>\n",
       "      <td>Вэ И Пэ Медиенфондс 3, Асендант Пикчерз, Сатур...</td>\n",
       "      <td>США - Франция - Турция</td>\n",
       "      <td>Эндрю Никкол</td>\n",
       "      <td>Норман Голуайтли, Энди Грош, Николас Кейдж, Эн...</td>\n",
       "      <td>«18+» - запрещено для детей</td>\n",
       "      <td>NaN</td>\n",
       "      <td>NaN</td>\n",
       "      <td>NaN</td>\n",
       "      <td>NaN</td>\n",
       "      <td>7.70</td>\n",
       "      <td>боевик,драма,криминал</td>\n",
       "      <td>True</td>\n",
       "      <td>NaN</td>\n",
       "    </tr>\n",
       "    <tr>\n",
       "      <th>...</th>\n",
       "      <td>...</td>\n",
       "      <td>...</td>\n",
       "      <td>...</td>\n",
       "      <td>...</td>\n",
       "      <td>...</td>\n",
       "      <td>...</td>\n",
       "      <td>...</td>\n",
       "      <td>...</td>\n",
       "      <td>...</td>\n",
       "      <td>...</td>\n",
       "      <td>...</td>\n",
       "      <td>...</td>\n",
       "      <td>...</td>\n",
       "      <td>...</td>\n",
       "      <td>...</td>\n",
       "      <td>...</td>\n",
       "      <td>...</td>\n",
       "    </tr>\n",
       "    <tr>\n",
       "      <th>7369</th>\n",
       "      <td>Невиновен</td>\n",
       "      <td>111019319</td>\n",
       "      <td>2019-11-07 12:00:00</td>\n",
       "      <td>Художественный</td>\n",
       "      <td>ООО \"Кавказфильм\"</td>\n",
       "      <td>Россия</td>\n",
       "      <td>А.Емкужев</td>\n",
       "      <td>А.Емкужев, А.Хуажева, ООО \"Корпорация Русская ...</td>\n",
       "      <td>«16+» - для детей старше 16 лет</td>\n",
       "      <td>NaN</td>\n",
       "      <td>NaN</td>\n",
       "      <td>NaN</td>\n",
       "      <td>NaN</td>\n",
       "      <td>7.50</td>\n",
       "      <td>триллер,детектив,криминал</td>\n",
       "      <td>True</td>\n",
       "      <td>NaN</td>\n",
       "    </tr>\n",
       "    <tr>\n",
       "      <th>7416</th>\n",
       "      <td>Отель \"Гранд Будапешт\"</td>\n",
       "      <td>121035119</td>\n",
       "      <td>2019-12-13 12:00:00</td>\n",
       "      <td>Художественный</td>\n",
       "      <td>Американ Эмпирикал, Индиан Пэинтбраш, Скотт Ру...</td>\n",
       "      <td>Германия, США</td>\n",
       "      <td>Уэс Андерсен</td>\n",
       "      <td>Уэс Андерсон, Джереми Доусон, Стивен Рейлс</td>\n",
       "      <td>«16+» - для детей старше 16 лет</td>\n",
       "      <td>NaN</td>\n",
       "      <td>NaN</td>\n",
       "      <td>NaN</td>\n",
       "      <td>NaN</td>\n",
       "      <td>7.90</td>\n",
       "      <td>комедия,приключения,детектив</td>\n",
       "      <td>True</td>\n",
       "      <td>NaN</td>\n",
       "    </tr>\n",
       "    <tr>\n",
       "      <th>7438</th>\n",
       "      <td>Зверь</td>\n",
       "      <td>121035919</td>\n",
       "      <td>2019-12-05 12:00:00</td>\n",
       "      <td>Художественный</td>\n",
       "      <td>Студио энд Нью</td>\n",
       "      <td>Южная Корея</td>\n",
       "      <td>Ли Джон-хо</td>\n",
       "      <td>Чан Гён-ик, Чон Джи-хун, Пэк Кён сук</td>\n",
       "      <td>«18+» - запрещено для детей</td>\n",
       "      <td>NaN</td>\n",
       "      <td>NaN</td>\n",
       "      <td>NaN</td>\n",
       "      <td>NaN</td>\n",
       "      <td>6.50</td>\n",
       "      <td>триллер,драма</td>\n",
       "      <td>True</td>\n",
       "      <td>175,003.51</td>\n",
       "    </tr>\n",
       "    <tr>\n",
       "      <th>7450</th>\n",
       "      <td>В тихом омуте</td>\n",
       "      <td>121036919</td>\n",
       "      <td>2019-12-09 12:00:00</td>\n",
       "      <td>Художественный</td>\n",
       "      <td>Хэд Гир Филмз, Крео Филмз, Локал Хироу, Метрол...</td>\n",
       "      <td>США</td>\n",
       "      <td>Адам Рэндолл</td>\n",
       "      <td>Мэтт Уолдек</td>\n",
       "      <td>«18+» - запрещено для детей</td>\n",
       "      <td>NaN</td>\n",
       "      <td>NaN</td>\n",
       "      <td>NaN</td>\n",
       "      <td>NaN</td>\n",
       "      <td>6.80</td>\n",
       "      <td>триллер,криминал,детектив</td>\n",
       "      <td>True</td>\n",
       "      <td>NaN</td>\n",
       "    </tr>\n",
       "    <tr>\n",
       "      <th>7474</th>\n",
       "      <td>Вторжение</td>\n",
       "      <td>111022519</td>\n",
       "      <td>2019-12-23 12:00:00</td>\n",
       "      <td>Художественный</td>\n",
       "      <td>ООО \"Арт Пикчерс Студия\", ООО \"Водород 2011\"</td>\n",
       "      <td>Россия</td>\n",
       "      <td>Ф.Бондарчук</td>\n",
       "      <td>Ф.Бондарчук, М.Врубель, А.Андрющенко, Д.Рудовский</td>\n",
       "      <td>«12+» - для детей старше 12 лет</td>\n",
       "      <td>100,000,000.00</td>\n",
       "      <td>400,000,000.00</td>\n",
       "      <td>944,000,000.00</td>\n",
       "      <td>Фонд кино</td>\n",
       "      <td>5.70</td>\n",
       "      <td>фантастика,боевик</td>\n",
       "      <td>True</td>\n",
       "      <td>NaN</td>\n",
       "    </tr>\n",
       "  </tbody>\n",
       "</table>\n",
       "<p>1272 rows × 17 columns</p>\n",
       "</div>"
      ],
      "text/plain": [
       "                                                  title  pu_number  \\\n",
       "2                                          Особо опасен  221038416   \n",
       "3                                          Особо опасен  221026916   \n",
       "4                                          Особо опасен  221030815   \n",
       "12    Малышка на миллион /По мотивам рассказов Ф.Х.Т...  221011415   \n",
       "26                                      Оружейный барон  221012515   \n",
       "...                                                 ...        ...   \n",
       "7369                                          Невиновен  111019319   \n",
       "7416                             Отель \"Гранд Будапешт\"  121035119   \n",
       "7438                                              Зверь  121035919   \n",
       "7450                                      В тихом омуте  121036919   \n",
       "7474                                          Вторжение  111022519   \n",
       "\n",
       "         show_start_date             type  \\\n",
       "2    2016-10-10 12:00:00   Художественный   \n",
       "3    2016-06-10 12:00:00   Художественный   \n",
       "4    2015-07-29 12:00:00   Художественный   \n",
       "12   2015-04-03 12:00:00   Художественный   \n",
       "26   2015-04-03 12:00:00   Художественный   \n",
       "...                  ...              ...   \n",
       "7369 2019-11-07 12:00:00   Художественный   \n",
       "7416 2019-12-13 12:00:00   Художественный   \n",
       "7438 2019-12-05 12:00:00   Художественный   \n",
       "7450 2019-12-09 12:00:00   Художественный   \n",
       "7474 2019-12-23 12:00:00   Художественный   \n",
       "\n",
       "                                            film_studio  \\\n",
       "2     Юниверсал Пикчерз, Кикстарт Продакшнз, Марк Пл...   \n",
       "3     Юниверсал Пикчерз, Кикстарт Продакшнз, Марк Пл...   \n",
       "4     Юниверсал Пикчерз, Кикстарт Продакшнз, Марк Пл...   \n",
       "12    Уорнер Бразерс, Лейкшор Интертейнмент, Малпасо...   \n",
       "26    Вэ И Пэ Медиенфондс 3, Асендант Пикчерз, Сатур...   \n",
       "...                                                 ...   \n",
       "7369                                  ООО \"Кавказфильм\"   \n",
       "7416  Американ Эмпирикал, Индиан Пэинтбраш, Скотт Ру...   \n",
       "7438                                     Студио энд Нью   \n",
       "7450  Хэд Гир Филмз, Крео Филмз, Локал Хироу, Метрол...   \n",
       "7474       ООО \"Арт Пикчерс Студия\", ООО \"Водород 2011\"   \n",
       "\n",
       "          production_country           director  \\\n",
       "2                        США  Тимур Бекмамбетов   \n",
       "3                        США  Тимур Бекмамбетов   \n",
       "4                        США  Тимур Бекмамбетов   \n",
       "12                       США       Клинт Иствуд   \n",
       "26    США - Франция - Турция       Эндрю Никкол   \n",
       "...                      ...                ...   \n",
       "7369                  Россия          А.Емкужев   \n",
       "7416           Германия, США       Уэс Андерсен   \n",
       "7438             Южная Корея         Ли Джон-хо   \n",
       "7450                     США       Адам Рэндолл   \n",
       "7474                  Россия        Ф.Бондарчук   \n",
       "\n",
       "                                               producer  \\\n",
       "2     Джим Лемли, Джейсон Нетер, Марк Е.Платт, Яйн Смит   \n",
       "3     Джим Лемли, Джейсон Нетер, Марк Е.Платт, Яйн Смит   \n",
       "4     Джим Лемли, Джейсон Нетер, Марк Е.Платт, Яйн Смит   \n",
       "12    Клинт Иствуд, Том Розенберг, Альберт С.Рудди, ...   \n",
       "26    Норман Голуайтли, Энди Грош, Николас Кейдж, Эн...   \n",
       "...                                                 ...   \n",
       "7369  А.Емкужев, А.Хуажева, ООО \"Корпорация Русская ...   \n",
       "7416         Уэс Андерсон, Джереми Доусон, Стивен Рейлс   \n",
       "7438               Чан Гён-ик, Чон Джи-хун, Пэк Кён сук   \n",
       "7450                                        Мэтт Уолдек   \n",
       "7474  Ф.Бондарчук, М.Врубель, А.Андрющенко, Д.Рудовский   \n",
       "\n",
       "                      age_restriction  refundable_support  \\\n",
       "2         «18+» - запрещено для детей                 NaN   \n",
       "3         «18+» - запрещено для детей                 NaN   \n",
       "4         «18+» - запрещено для детей                 NaN   \n",
       "12    «16+» - для детей старше 16 лет                 NaN   \n",
       "26        «18+» - запрещено для детей                 NaN   \n",
       "...                               ...                 ...   \n",
       "7369  «16+» - для детей старше 16 лет                 NaN   \n",
       "7416  «16+» - для детей старше 16 лет                 NaN   \n",
       "7438      «18+» - запрещено для детей                 NaN   \n",
       "7450      «18+» - запрещено для детей                 NaN   \n",
       "7474  «12+» - для детей старше 12 лет      100,000,000.00   \n",
       "\n",
       "      nonrefundable_support         budget financing_source  ratings  \\\n",
       "2                       NaN            NaN              NaN     6.80   \n",
       "3                       NaN            NaN              NaN     6.80   \n",
       "4                       NaN            NaN              NaN     6.80   \n",
       "12                      NaN            NaN              NaN     8.10   \n",
       "26                      NaN            NaN              NaN     7.70   \n",
       "...                     ...            ...              ...      ...   \n",
       "7369                    NaN            NaN              NaN     7.50   \n",
       "7416                    NaN            NaN              NaN     7.90   \n",
       "7438                    NaN            NaN              NaN     6.50   \n",
       "7450                    NaN            NaN              NaN     6.80   \n",
       "7474         400,000,000.00 944,000,000.00        Фонд кино     5.70   \n",
       "\n",
       "                            genres  pu_number_except  box_office  \n",
       "2        фантастика,боевик,триллер              True         NaN  \n",
       "3        фантастика,боевик,триллер              True         NaN  \n",
       "4        фантастика,боевик,триллер              True         NaN  \n",
       "12                     драма,спорт              True         NaN  \n",
       "26           боевик,драма,криминал              True         NaN  \n",
       "...                            ...               ...         ...  \n",
       "7369     триллер,детектив,криминал              True         NaN  \n",
       "7416  комедия,приключения,детектив              True         NaN  \n",
       "7438                 триллер,драма              True  175,003.51  \n",
       "7450     триллер,криминал,детектив              True         NaN  \n",
       "7474             фантастика,боевик              True         NaN  \n",
       "\n",
       "[1272 rows x 17 columns]"
      ]
     },
     "execution_count": 35,
     "metadata": {},
     "output_type": "execute_result"
    }
   ],
   "source": [
    "data[data['title'].duplicated(keep=False)]"
   ]
  },
  {
   "cell_type": "markdown",
   "id": "61bb3278",
   "metadata": {},
   "source": [
    "Дубликатов много, посмотрим на примере, какие у них номера прокатных удостоверений:"
   ]
  },
  {
   "cell_type": "code",
   "execution_count": 36,
   "id": "366c61cd",
   "metadata": {},
   "outputs": [
    {
     "data": {
      "text/html": [
       "<div>\n",
       "<style scoped>\n",
       "    .dataframe tbody tr th:only-of-type {\n",
       "        vertical-align: middle;\n",
       "    }\n",
       "\n",
       "    .dataframe tbody tr th {\n",
       "        vertical-align: top;\n",
       "    }\n",
       "\n",
       "    .dataframe thead th {\n",
       "        text-align: right;\n",
       "    }\n",
       "</style>\n",
       "<table border=\"1\" class=\"dataframe\">\n",
       "  <thead>\n",
       "    <tr style=\"text-align: right;\">\n",
       "      <th></th>\n",
       "      <th>title</th>\n",
       "      <th>pu_number</th>\n",
       "      <th>show_start_date</th>\n",
       "      <th>type</th>\n",
       "      <th>film_studio</th>\n",
       "      <th>production_country</th>\n",
       "      <th>director</th>\n",
       "      <th>producer</th>\n",
       "      <th>age_restriction</th>\n",
       "      <th>refundable_support</th>\n",
       "      <th>nonrefundable_support</th>\n",
       "      <th>budget</th>\n",
       "      <th>financing_source</th>\n",
       "      <th>ratings</th>\n",
       "      <th>genres</th>\n",
       "      <th>pu_number_except</th>\n",
       "      <th>box_office</th>\n",
       "    </tr>\n",
       "  </thead>\n",
       "  <tbody>\n",
       "    <tr>\n",
       "      <th>2</th>\n",
       "      <td>Особо опасен</td>\n",
       "      <td>221038416</td>\n",
       "      <td>2016-10-10 12:00:00</td>\n",
       "      <td>Художественный</td>\n",
       "      <td>Юниверсал Пикчерз, Кикстарт Продакшнз, Марк Пл...</td>\n",
       "      <td>США</td>\n",
       "      <td>Тимур Бекмамбетов</td>\n",
       "      <td>Джим Лемли, Джейсон Нетер, Марк Е.Платт, Яйн Смит</td>\n",
       "      <td>«18+» - запрещено для детей</td>\n",
       "      <td>NaN</td>\n",
       "      <td>NaN</td>\n",
       "      <td>NaN</td>\n",
       "      <td>NaN</td>\n",
       "      <td>6.80</td>\n",
       "      <td>фантастика,боевик,триллер</td>\n",
       "      <td>True</td>\n",
       "      <td>NaN</td>\n",
       "    </tr>\n",
       "    <tr>\n",
       "      <th>3</th>\n",
       "      <td>Особо опасен</td>\n",
       "      <td>221026916</td>\n",
       "      <td>2016-06-10 12:00:00</td>\n",
       "      <td>Художественный</td>\n",
       "      <td>Юниверсал Пикчерз, Кикстарт Продакшнз, Марк Пл...</td>\n",
       "      <td>США</td>\n",
       "      <td>Тимур Бекмамбетов</td>\n",
       "      <td>Джим Лемли, Джейсон Нетер, Марк Е.Платт, Яйн Смит</td>\n",
       "      <td>«18+» - запрещено для детей</td>\n",
       "      <td>NaN</td>\n",
       "      <td>NaN</td>\n",
       "      <td>NaN</td>\n",
       "      <td>NaN</td>\n",
       "      <td>6.80</td>\n",
       "      <td>фантастика,боевик,триллер</td>\n",
       "      <td>True</td>\n",
       "      <td>NaN</td>\n",
       "    </tr>\n",
       "    <tr>\n",
       "      <th>4</th>\n",
       "      <td>Особо опасен</td>\n",
       "      <td>221030815</td>\n",
       "      <td>2015-07-29 12:00:00</td>\n",
       "      <td>Художественный</td>\n",
       "      <td>Юниверсал Пикчерз, Кикстарт Продакшнз, Марк Пл...</td>\n",
       "      <td>США</td>\n",
       "      <td>Тимур Бекмамбетов</td>\n",
       "      <td>Джим Лемли, Джейсон Нетер, Марк Е.Платт, Яйн Смит</td>\n",
       "      <td>«18+» - запрещено для детей</td>\n",
       "      <td>NaN</td>\n",
       "      <td>NaN</td>\n",
       "      <td>NaN</td>\n",
       "      <td>NaN</td>\n",
       "      <td>6.80</td>\n",
       "      <td>фантастика,боевик,триллер</td>\n",
       "      <td>True</td>\n",
       "      <td>NaN</td>\n",
       "    </tr>\n",
       "  </tbody>\n",
       "</table>\n",
       "</div>"
      ],
      "text/plain": [
       "          title  pu_number     show_start_date            type  \\\n",
       "2  Особо опасен  221038416 2016-10-10 12:00:00  Художественный   \n",
       "3  Особо опасен  221026916 2016-06-10 12:00:00  Художественный   \n",
       "4  Особо опасен  221030815 2015-07-29 12:00:00  Художественный   \n",
       "\n",
       "                                         film_studio production_country  \\\n",
       "2  Юниверсал Пикчерз, Кикстарт Продакшнз, Марк Пл...                США   \n",
       "3  Юниверсал Пикчерз, Кикстарт Продакшнз, Марк Пл...                США   \n",
       "4  Юниверсал Пикчерз, Кикстарт Продакшнз, Марк Пл...                США   \n",
       "\n",
       "            director                                           producer  \\\n",
       "2  Тимур Бекмамбетов  Джим Лемли, Джейсон Нетер, Марк Е.Платт, Яйн Смит   \n",
       "3  Тимур Бекмамбетов  Джим Лемли, Джейсон Нетер, Марк Е.Платт, Яйн Смит   \n",
       "4  Тимур Бекмамбетов  Джим Лемли, Джейсон Нетер, Марк Е.Платт, Яйн Смит   \n",
       "\n",
       "               age_restriction  refundable_support  nonrefundable_support  \\\n",
       "2  «18+» - запрещено для детей                 NaN                    NaN   \n",
       "3  «18+» - запрещено для детей                 NaN                    NaN   \n",
       "4  «18+» - запрещено для детей                 NaN                    NaN   \n",
       "\n",
       "   budget financing_source  ratings                     genres  \\\n",
       "2     NaN              NaN     6.80  фантастика,боевик,триллер   \n",
       "3     NaN              NaN     6.80  фантастика,боевик,триллер   \n",
       "4     NaN              NaN     6.80  фантастика,боевик,триллер   \n",
       "\n",
       "   pu_number_except  box_office  \n",
       "2              True         NaN  \n",
       "3              True         NaN  \n",
       "4              True         NaN  "
      ]
     },
     "execution_count": 36,
     "metadata": {},
     "output_type": "execute_result"
    }
   ],
   "source": [
    "data[data['title'] == data.loc[2, 'title']]"
   ]
  },
  {
   "cell_type": "markdown",
   "id": "2c7fdc39",
   "metadata": {},
   "source": [
    "Для каждого нового проката одного и того же фильма выдавалось новое прокатное удостоверение. Такая ситуация может происходить, не будем удалять дубликаты в этом случае."
   ]
  },
  {
   "cell_type": "markdown",
   "id": "515405a2",
   "metadata": {},
   "source": [
    "### Проверка категориальных значений"
   ]
  },
  {
   "cell_type": "code",
   "execution_count": 37,
   "id": "fc7020e9",
   "metadata": {
    "scrolled": true
   },
   "outputs": [
    {
     "data": {
      "text/plain": [
       "Художественный                4520\n",
       " Художественный               1389\n",
       "Анимационный                   828\n",
       "Прочие                         406\n",
       "Документальный                 288\n",
       "Научно-популярный               53\n",
       " Анимационный                    1\n",
       "Музыкально-развлекательный       1\n",
       "Name: type, dtype: int64"
      ]
     },
     "execution_count": 37,
     "metadata": {},
     "output_type": "execute_result"
    }
   ],
   "source": [
    "data['type'].value_counts() # поиск дубликатов в столбце 'type'"
   ]
  },
  {
   "cell_type": "markdown",
   "id": "5ffce0a3",
   "metadata": {},
   "source": [
    "Категории \"Художественный\" и \"Анимационный\" содержат лишние пробелы. Уберём их:"
   ]
  },
  {
   "cell_type": "code",
   "execution_count": 39,
   "id": "1473d43b",
   "metadata": {},
   "outputs": [],
   "source": [
    "data['type'] = data['type'].str.strip()"
   ]
  },
  {
   "cell_type": "code",
   "execution_count": 40,
   "id": "c0c2e66b",
   "metadata": {},
   "outputs": [
    {
     "data": {
      "text/plain": [
       "array(['США', 'СССР', 'Франция', 'СССР, Венгрия',\n",
       "       'Германия-Великобритания', 'Великобритания - Италия',\n",
       "       'Чехословакия', 'США - Франция - Турция', 'Новая Зеландия',\n",
       "       'Канада - Франция - Испания', 'США-Германия',\n",
       "       'США - Великобритания', 'Великобритания', 'США - Германия',\n",
       "       'Франция - Мексика - США', 'Россия, Казахстан, США',\n",
       "       'СССР, Швеция', 'СССР, Франция, Англия, Куба, ГДР', 'Германия',\n",
       "       'Великобритания-США-Германия-КНР',\n",
       "       'СССР, ЧССР, Западный Берлин, ПНР', 'СССР, Италия', 'Гонконг, КНР',\n",
       "       'США - Франция', 'США - Япония - Франция - Великобритания',\n",
       "       'Гонконг - Сингапур - Таиланд - Великобритания', 'США-Канада',\n",
       "       'Франция - Италия - Великобритания - США', 'Франция - США',\n",
       "       'Ирландия-Великобритания-Германия', 'Чехия', 'США-Австралия',\n",
       "       'СССР, Финляндия', 'США-Франция-Великобритания-Австрия',\n",
       "       'США - Бельгия', 'США - Ирландия - Великобритания',\n",
       "       'Великобритания - США',\n",
       "       'Люксембург - Нидерланды - Испания - Великобритания - США - Италия',\n",
       "       'Великобритания - Франция - США', 'Новая Зеландия - США',\n",
       "       'США - Великобритания - Чехия',\n",
       "       'Канада - Франция - Великобритания', 'Ирландия',\n",
       "       'Великобритания - Германия - США',\n",
       "       'США - Франция - Великобритания', 'Япония', 'СССР, Польша',\n",
       "       'Франция - Испания', 'Канада-Франция', 'Германия - Италия - США',\n",
       "       'Аргентина - Бразилия', 'Дания - Швейцария - Бельгия - Франция',\n",
       "       'США - Испания', 'Германия - США',\n",
       "       'Франция - Австрия - Германия - Италия - США', 'Австрия',\n",
       "       'США - Канада - Германия', 'США - Канада',\n",
       "       'СССР - Швейцария - Франция', 'Россия - Казахстан', 'Гонконг',\n",
       "       'Италия', 'США - ОАЭ', 'Россия',\n",
       "       'США - Франция - Испания - Великобритания',\n",
       "       'Великобритания - Франция', 'США-Италия-Испания-Аргентина',\n",
       "       'Франция-Великобритания', 'КНР - Гонконг',\n",
       "       'Франция - Италия - Швейцария', 'США - Новая Зеландия',\n",
       "       'Франция - Бельгия', 'КНР', 'Германия - Великобритания - Австрия',\n",
       "       'Великобритания - Израиль - Франция - Япония - США', 'Швеция',\n",
       "       'Испания', 'Дания', 'Франция - Бельгия - Люксембург',\n",
       "       'США - Индия - ОАЭ',\n",
       "       'Германия-Канада-Великобритания-Швейцария-Франция',\n",
       "       'Мексика - Чили', 'Аргентина', 'Бразилия', 'Чили', 'Австралия',\n",
       "       'Португалия - Франция', 'США - ЮАР', 'Исландия-Ирландия-Германия',\n",
       "       'США-Индонезия', 'Южная Корея', 'Мексика - Испания - Дания - США',\n",
       "       'Великобритания-США', 'Франция - Италия', 'США-Франция',\n",
       "       'США - Венгрия - Великобритания', 'Бельгия-Франция-Италия',\n",
       "       'Чехия - Германия', 'Германия - Франция', 'США-Нидерланды',\n",
       "       'Украина', 'Великобритания - Германия', 'Франция-Бельгия',\n",
       "       'США-Франция-Испания', 'Италия - Франция', 'Канада',\n",
       "       'Швеция-Франция-Дания', 'Германия-Франция-Польша',\n",
       "       'Франция-Великобритания - Германия',\n",
       "       'США - Бразилия - Франция - Австралия - Великобритания - Германия',\n",
       "       'Германия-Австрия', 'Германия-Италия- Шри-Ланка',\n",
       "       'Великобритания - Испания',\n",
       "       'США - Великобритания - Канада - Швеция',\n",
       "       'Босния и Герцеговина - Франция - Великобритания - Германия - Словения - Бельгия - Сербия',\n",
       "       'Великобритания - Франция - Италия - США', 'США-ОАЭ',\n",
       "       'Испания - Франция', 'США-Великобритания', 'США-ЮАР',\n",
       "       'Великобритания-Австралия - США',\n",
       "       'Норвегия - Швеция - Дания - Германия', 'Норвегия', 'Швейцария',\n",
       "       'Греция - Германия - Франция', 'Норвения', 'Южная Корея - США',\n",
       "       'Чили - Франция - США', 'Австрия - Германия - Франция',\n",
       "       'Швеция - Дания', 'Великобритания - Франция - Бельгия - Италия',\n",
       "       'Франция - Германия', 'Грузия - Франция - Люксембург',\n",
       "       'США - Франция - Великобритания - Бразилия ', 'США - КНР',\n",
       "       'Мексика - Франция', 'США - Германия - Гонконг - Сингапур',\n",
       "       'Финляндия - Австрия - Россия', 'Испания - Куба',\n",
       "       'Великобритания - ЮАР', 'Великобритания - Ирландия', 'Израиль',\n",
       "       'Бразилия - Германия - Порртугалия - Франция ',\n",
       "       'Франция - Канада - Бельгия', 'Франция-Испания',\n",
       "       'Испания - Канада - Япония', 'Иран', 'Швеция-Куба',\n",
       "       'США-Великобритания-Ирландия', 'Гонконг - КНР', 'Нидерланды',\n",
       "       'Испания - Канада', 'Япония-Великобритания',\n",
       "       'Великобритания - Норвегия - Дания - Германия',\n",
       "       'Финляндия - Франция - Германия',\n",
       "       'Мексика - Франция - Нидерланды - Германия', 'США - Индия',\n",
       "       'США-Великобритания-Индия', 'США-Канада-Бельгия',\n",
       "       'Республика Узбекистан', 'Италия ', 'Турция',\n",
       "       'Сербия - Словения - Хорватия - Черногория - Македония',\n",
       "       'Киргизия', 'Германия - Нидерланды - Беларусь - Россия - Латвия',\n",
       "       'Индия', 'Нидерланды - Россия - Германия',\n",
       "       'Великобритания - Нидерланды - Франция - Хорватия',\n",
       "       'Канада - Южная Корея',\n",
       "       'Великобритания - Польша - КНР - Индия - Норвегия',\n",
       "       'Япония - Франция - США - Южная Корея - Турция',\n",
       "       'Мексика - Аргентина - Великобритания', 'Израиль - Франция',\n",
       "       'Польша - Португалия - Франция - Великобритания',\n",
       "       'Австралия - США', 'США - Великобритания ',\n",
       "       'Франция - Люксембург - Бельгия', 'Армения',\n",
       "       'Бельгия - Люксембург - Франция - Швейцария',\n",
       "       'США - Великобритания - Канада', 'Норвегия - Швеция',\n",
       "       'Канада - Франция', 'КНР - Гонконг - США',\n",
       "       'США - Сингапур - Малайзия - Индонезия', 'Германия - Россия',\n",
       "       'Япония - Канада', 'Финляндия - Дания - Германия - Ирландия',\n",
       "       'Франция - Люксембург - Германия - Бельгия - Швейцария - Великобритания ',\n",
       "       'Канада - США', 'США-Италия-Испания', 'США-Испания',\n",
       "       'США - Швейцария - Франция', 'Испания - США - Колумбия',\n",
       "       'Канада-ЮАР', 'Франция - Россия',\n",
       "       'Германия - Финляндия - Австралия', 'Дания - Швеция', 'Бельгия',\n",
       "       'Германия - Франция - Австрия', 'Франция-Индия', 'ЮАР',\n",
       "       'Франция-Перу', 'Франция - Канада', 'Республика Беларусь',\n",
       "       'Великобритания - Австрия - Франция - США',\n",
       "       'Австрия-Германия-Франция', 'США-Россия', 'Германия-США',\n",
       "       'США - Южная Корея', 'Канада - КНР',\n",
       "       'Дания - Швеция - Италия - Франция - Германия',\n",
       "       'Франция-Италия-Испания-Венгрия', 'Франция - Германия - Бельгия',\n",
       "       'Франция-Великобритания-Чехия', 'Румыния - Франция - Бельгия',\n",
       "       'Болгария - Франция - Изриль',\n",
       "       'Израиль - Германия - Польша - Бельгия - Франция - Люксембург',\n",
       "       'Россия, Германия, Франция, Бельгия', 'Индонезия',\n",
       "       'Франция - Португалия', 'Великобритания - Пуэрто-Рико',\n",
       "       'СССР, ФРГ, Западный Берлин', 'Россия, Республика Беларусь',\n",
       "       'США, Великобритания', 'Франция - Австрия', 'Бельгия-Нидерланды',\n",
       "       'Великобритания - США - Индия', 'США - Великобритания - Австралия',\n",
       "       'Канада - Франция - США - ОАЭ - Великобритания',\n",
       "       'США - Австралия - Франция',\n",
       "       'Дания-Франция-Бельгия-Германия-Великобритания',\n",
       "       'Испания - Аргентина', 'Исландия - Финляндия',\n",
       "       'Россия-Польша-Голландия-Словакия', 'Дания - Германия - Швеция',\n",
       "       'Южная Корея - США - Канада', 'Таиланд', 'США-Мальта',\n",
       "       'США -Германия',\n",
       "       'Великобритания - Германия - Франция - Кипр - США', 'Мексика',\n",
       "       'США - Великобритания - Ирландия', 'США - Украина',\n",
       "       'США - Финляндия - Испания - Великобритания - Франция',\n",
       "       'Австралия-Великобритания',\n",
       "       'США - Канада - Афганистан - Бельгия - Франция',\n",
       "       'США - Великобритания - Германия - Новая Зеландия - Бельгия - Франция',\n",
       "       'Франция-Канада',\n",
       "       'Ирландия - Финляндия - Бельгия - Великобритания - США - Швейцария',\n",
       "       'Малайзия - США', 'Германия - Италия',\n",
       "       'США - Франция - Бельгия - Италия', 'Франция - Ирландия - Швеция',\n",
       "       'Азербайджан-Россия', 'Великобритания - Италия - Швейцария',\n",
       "       'США - Германия - Великобритания',\n",
       "       'Германия - Бельгия - США -Франция', 'США-Китай', 'Чили - Испания',\n",
       "       'Франция - Швейцария', 'Канада - Испания',\n",
       "       'США - Румыния - Великобритания', 'США - Япония',\n",
       "       'США - Россия - Франция', 'Франция-США', 'Парагвай',\n",
       "       'Германия - Канада', 'США - Канада - Великобритания',\n",
       "       'Финляндия - Канада', 'Уругвай-Мексика-Германия ', 'США - Чили',\n",
       "       'Германия - Аргентина - Нидерланды - Чили',\n",
       "       'США - Канада - Индонезия', 'Армения - Казахстан', 'Финляндия',\n",
       "       'Испания - Италия - Франция',\n",
       "       'Бельгия - Испания - Канада - Нидерланды',\n",
       "       'Великобритания - Франция - Швеция - Бельгия',\n",
       "       'Мексика - Эквадор - Канада - США - Франция - Малайзия - Италия - Аргентина - Германия - Индия  ',\n",
       "       'Франция - Бенльгия', 'Индия - Великобритания',\n",
       "       'Япония - Великобритания - Франция',\n",
       "       'Испания - Уругвай - Аргентина',\n",
       "       'Франция - Италия - Бельгия - Люксембург',\n",
       "       'Франция - Украина - Грузия - Армения',\n",
       "       'Сербия - Германия - Венгрия', 'Франция-Польша', 'Франция ',\n",
       "       'Румыния-США', 'Россия-Азербайджан',\n",
       "       'США - Нидерланды - Бельгия - Венгрия - Греция - Канада',\n",
       "       'Германия - Франция - Люксембург', 'США - Россия',\n",
       "       'Великобритания - США - Франция', 'США - Австралия - Дания',\n",
       "       'Бельгия-Франция', 'США-Мексика',\n",
       "       'Норвегия - Азербайджан - Россия - Колумбия - Великобритания - Венгрия - Румыния - Франция - Грузия',\n",
       "       'СЩА', 'Бразилия - Испания', 'Россия, Франция, Латвия',\n",
       "       'Нидерланды - США - Германия - Канада - Франция - Ирландия - Великобритания',\n",
       "       'Уругвай - Колумбия', 'США - Испания - Болгария',\n",
       "       'Армения - Германия', 'США - Великобритания- Франция - Швеция',\n",
       "       'США - Мексика', 'Австралия-Турция-США', 'Швеция - Германия',\n",
       "       'Польша - Италия - Россия', 'Франция - Бразилия',\n",
       "       'США - Канада - КНР', 'СССР, Венгрия, ЧССР, ГДР',\n",
       "       'Бельгия - Германия - Люксембург', 'СССР  ', 'СССР ', ' СССР ',\n",
       "       'США - Австралия', 'Бразилия - США',\n",
       "       'США - Великобритания - Канада - КНР', 'Франция - Чили',\n",
       "       'Франция - США - Великобритания - Колумбия - Бельгия - Россия',\n",
       "       'Дания - Великобритания - ЮАР', 'СССР   ',\n",
       "       'Россия-США-Канада-Люксембург', 'Россия - Республика Кипр',\n",
       "       'Германия - США - Швеция - Франция',\n",
       "       'Великобритания-Германия-Канада-ЮАР', ' СССР   ', 'СССР     ',\n",
       "       'Ирландия, Канада',\n",
       "       'Япония - Великобритания - Швейцария - Ирландия - Дания - Франция - Польша - Австралия - Канада  ',\n",
       "       'Великобритания, Канада', 'Бельгия - США',\n",
       "       'Великобритания - США - Россия', 'Россия-Украина',\n",
       "       'Германия - США - Великобритания - Израиль', 'Канада - Германия',\n",
       "       'США- Ю.Корея', 'Индия - Мексика',\n",
       "       'Великобритания - Франция - Республика Кипр - Швейцария - США - Сербия',\n",
       "       'Испания - Аргентина - Индия - США',\n",
       "       'Норвегия - Исландия - США - Великобритания ',\n",
       "       'Турция - Германя - Франция', 'Германия - Великобритания',\n",
       "       'Австралия - Германия', 'Мексика - Испания',\n",
       "       'Великобритания - США - Германия - Бельгия',\n",
       "       'США - Чехия - Франция', 'Россия - Италия', 'Франция-Россия',\n",
       "       'Норвегия - Дания - Швеция', 'Франция - Швейцария - Германия',\n",
       "       'Грузия - Украина', 'Россия - Эстония - Финляндия - Беларусь',\n",
       "       'США - Франция - ЮАР', 'Великобритания - США - Швейцария',\n",
       "       'Канада-США', 'Мексика - Нидерланды - Германия - Франция',\n",
       "       'США - Испания - Франция', 'США - Великобритания - КНР',\n",
       "       'США-Франция-Канада',\n",
       "       'Япония, Великобритания, Австрия, Германия, Ю.Корея',\n",
       "       'Великобритания - Ирландия - США', 'Бельгия - Италия - Франция ',\n",
       "       'Швейцария-Германия-ЮАР', 'Великобритания - США - Германия',\n",
       "       'Германия - Исландия', 'Испания - США', 'СССР    ', 'Хорватия',\n",
       "       'Финляндия - Исландия - Швеция',\n",
       "       'Канада - США - Германия - Франция',\n",
       "       'США - Великобритания - Испания', 'Ирландия-Великобритания',\n",
       "       'Аргентина - Испания', 'Австрия - Германия', ' СССР',\n",
       "       'Германия - Швейцария - Франция - Южная Корея - США',\n",
       "       'Украина - Нидерланды', 'Венгрия - Германия - Швеция',\n",
       "       'Германия - Франция -  Польша - Турция - Канада - Италия - Россия ',\n",
       "       'СССР, Афганистан', 'СССР, Монголия', 'Россия-Кипр',\n",
       "       'Россия, Грузия, Испания',\n",
       "       'Великобритания - Нидерланды - Германия - Франция - Бельгия - Австрия ',\n",
       "       'Испания - Великобритания - Франция',\n",
       "       'Дания - Норвегия - Великобритания',\n",
       "       'Бельгия - Франция - Люксембург',\n",
       "       'Италия - Франция - Швейцария - Великобритания',\n",
       "       'Франция - Бельгия - Великобритания - Испания - Германия - США',\n",
       "       'Швейцария - Израиль - Франция - Великобритания',\n",
       "       'Великобритания - США - Канада - Нидерланды - Франция',\n",
       "       'Россия, Италия', 'СССР, Албания',\n",
       "       'Россия, Украина, Республика Беларусь, Литва',\n",
       "       'Финляндия - Великобритания - Германия', 'Россия, Украина, Польша',\n",
       "       'Франция - Италия - Бельгия - КНР',\n",
       "       'Германия - Бельгия - Люксембург - Ирландия', 'КНР - Сингапур',\n",
       "       'Франция - Бельгия - Великобритания - США - Нидерланды - Канада',\n",
       "       'США - Россия - Польша - Германия - Пуэрто Рико',\n",
       "       'Франция - Бельгия - Канада', 'США ', 'Мексика - США',\n",
       "       'США - Гонконг - КНР ', 'Греция - Россия',\n",
       "       'Ирландия - Дания - Бельгия - Люксембург - Франция',\n",
       "       'Эстония - Россия',\n",
       "       'Великобритания - Исландия - Испания - Швейцария - США',\n",
       "       'Австралия - Великобритания - Бельгия - Индия',\n",
       "       'Швеция - Германия - Франция - Норвегия',\n",
       "       'Нидерланды - Бельгия - Германия - Ирландия',\n",
       "       'Нидерланды - Великобритания - Бельгия',\n",
       "       'США - Колумбия - Испания', 'Франция-Испания-Бельгия-Панама',\n",
       "       'США-Великобритания-Чехия-Румыния',\n",
       "       'Аргентина - Уругвай - Россия - Германия - Франция - Нидерланды',\n",
       "       'Швеция - Франция - Норвегия - Дания',\n",
       "       'Италия-Франция-Великобритания', 'Великобритания, Франция',\n",
       "       'Австралия, США', 'Венесуэла',\n",
       "       'Великобритания - США - Австралия - Ирландия - Германия - Куба - Канада',\n",
       "       'Южная Корея - КНР',\n",
       "       'Аргентина - Мексика - Бразилия - Франция - США', 'Швеция - США',\n",
       "       'Франция - Германия - Турция - Катар', 'Франция-Китай',\n",
       "       'Россия, Германия, Великобритания',\n",
       "       'Великобритания - Италия - Испания', 'Италия - Россия',\n",
       "       'Япония - КНР - Южная Корея', 'Россия, Германия',\n",
       "       'Россия-Ирландия', 'Македония - Франция - Великобритания',\n",
       "       'Франция - Бразилия - Италия', 'Россия-США', 'Армения-Россия',\n",
       "       'Россия, Румыния', 'Франция -  Бельгия', 'Грузия-Франция',\n",
       "       'ЮАР - США', 'Великобритания-США-Франция',\n",
       "       'Великобритания - США - Германия - Канада - Австралия',\n",
       "       'США-Ирландия', 'Россия, Республика Кипр',\n",
       "       'Германия - Люксембург - Франция', 'Россия-Франция',\n",
       "       'США - Нидерланды - Финляндия - Великобритания - Италия',\n",
       "       'Республика Кипр', 'Венгрия', 'Франция - США - Норвегия - Дания',\n",
       "       'Германия - Австрия - Ирландия', 'США - Финляндия',\n",
       "       'Италия-Великобритания', 'Россия, Испания',\n",
       "       'США - Великобритания - Болгария', 'Великобритания - Люксембург',\n",
       "       'Индия - США', 'США - Канада - Россия - Франция - Чили - Ирландия',\n",
       "       'Грузия-Россия',\n",
       "       'Дания - Австрия - Ирландия - Финляндия - Норвегия - Швеция - Нидерланды',\n",
       "       'США-КНР', 'Грузия', 'Австралия - Ирландия',\n",
       "       'Великобритания - Канада', 'Италия - Аргентина - Словения ',\n",
       "       'Испания - Франция - Нидерланды - Германия - Бельгия - Великобритания - Канада',\n",
       "       'Франция - Чехия - Бельгия',\n",
       "       'Великобритания - Франция - Германия - США',\n",
       "       'Ирландия - Великобритания - Франция - США - Германия - Нидерланды',\n",
       "       'США - Канада - Япония - КНР', 'Италия-Франция',\n",
       "       'США - Великобритания - Исландия', 'Великобритания-Франция',\n",
       "       'Франция - Германия - Нидерланды', 'Иран ',\n",
       "       'Франция - Германия - Швеция - США - Чехия - Словакия - Великобритания - Нидерланды',\n",
       "       'Франция - Канада - Н.Зеландия - США - Нидерланды - Германия - Швеция - Россия',\n",
       "       'Турция - США',\n",
       "       'Великобритания - США - Канада - Бельгия - Нидерланды - Австрия - Германия',\n",
       "       'Израиль - Франция - Германия - Палестина - США - Австрия - Великобритания',\n",
       "       'Аргентина - Франция - Испания', 'СССР, Россия',\n",
       "       'Великобритания - Франция - Италия - Индия - Дания - КНР - Бангладеш - Камбоджа - Гаити - Уганда',\n",
       "       'Италия - Франция - Швейцария',\n",
       "       'Ирландия - Великобритания - Канада', 'Перу', 'США - Норвегия',\n",
       "       'Испания-Канада', 'Китай-Гонконг', 'США - Германия - КНР',\n",
       "       'Великобритания - Новая Зеландия',\n",
       "       'Франция - Дания - Швеция - КНР',\n",
       "       'США - Великобритания - Германия - Бельгия - Дания',\n",
       "       'США - Франция - Канада - Германия - Австралия - Индия', 'unknown',\n",
       "       'СССР, Румыния, Франция', 'СССР, ГДР', 'Австралия-Ирландия',\n",
       "       'США - Китай', 'Великобритания - Франция - Австрия - Швеция',\n",
       "       'Россия, Таджикистан', 'Нидерланды - Бельгия - Болгария',\n",
       "       'Великобритания - Канада - США', 'Франция - Бельгия - Испания',\n",
       "       'Китай-Гонконг-США', 'Франция - Великобритания', 'США - Вьетнам',\n",
       "       'США - Германия - Франция', 'Германия - Франция - Бельгия',\n",
       "       'США - Италия',\n",
       "       'Германия - Дания - Испания - Швеция - Канада - Эстония - Франция',\n",
       "       'Княжество Андорра - Украина', 'Германия - Люксембург - Бельгия',\n",
       "       'Великобритания - Россия - Украина - США',\n",
       "       'Германия - Бельгия - Люксембург - Норвегия',\n",
       "       'США - Австралия - Новая Зеландия - Великобритания',\n",
       "       'США - Франция - Канада - Великобритания', 'Испания-Колумбия',\n",
       "       'Великобритания - Чехия - Франция', 'Россия, Украина', 'Исландия',\n",
       "       'Великобритания - Франция - Венгрия',\n",
       "       'Россия, Франция, Германия, Бельгия', 'Франция - Македония',\n",
       "       'Нидерланды - Франция - Германия - Бельгия - Швеция - Великобритания',\n",
       "       'Испания - США - Великобритания - Канада', 'Германия - Австрия',\n",
       "       'Республика Казахстан',\n",
       "       'Франция - Испания - Дания - Венгрия - Швейцария', 'Франция-КНР',\n",
       "       'США - Пуэрто-Рико - Франция ', 'Мексика - Тайвань - США',\n",
       "       'Великобритания - Испания - Непал - Индия - Венгрия - Гонконг - Германия - Дания - Бахрейн',\n",
       "       'Великобритания - Аргентина - США - Франция - Россия - Испания',\n",
       "       'КНР - США', 'Италия - США', 'Финляндия - Швеция - Германия',\n",
       "       'Канада- Испания', 'Франция - Бельгия - Чехия',\n",
       "       'Франция-Бельгия-Канада', 'Франция - Германия - США',\n",
       "       'США - Дания', 'Индия - КНР', 'Чехия-Великобритания-США',\n",
       "       'США-ФРГ-Россия', 'Ирландия-Нидерланды-Франция-США-Великобритания',\n",
       "       'Россия, Грузия, Хорватия, Испания',\n",
       "       'Финляндия - Швеция - Норвегия', 'Сербия - Великобритания - США',\n",
       "       'США - Великобритания - Франция - Гонконг', 'Швейцария - Франция',\n",
       "       'Швейцария - Великобритания', 'ОАЭ - США',\n",
       "       'США - Франция - Германия - Канада - Австралия ',\n",
       "       'Германия - Австралия', 'Иран, Франция',\n",
       "       'США - Великобритания - Новая Зеландия', 'США-Колумбия',\n",
       "       'США-Франция-Ирландия', 'Великобритания - Франция - Бельгия',\n",
       "       'США - Великобритания - Япония', 'США - Франция - Германия',\n",
       "       'Польша - Ирландия', 'Ирландия - Великобритания - Франция - США',\n",
       "       'США - Бельгия - Великобритания', 'СССР, ВНР',\n",
       "       'Испания - Франция - США - Великобритания - Бельгия',\n",
       "       'Франция - Дания - США', 'США - Гонконг', 'Бразилия - К;анада',\n",
       "       'Франция-Германия', 'США - Колумбия',\n",
       "       'США - Ирландия - Великобритания - Франция',\n",
       "       'Великобритания - США - Канада', 'Польша - Франция',\n",
       "       'Канада - США - Нидерланды - Великобритания - Аргентина',\n",
       "       'Великобритания - Дания', 'Франция - Бельгия - Япония',\n",
       "       'Россия,  Испания', 'Франция -Бельгия',\n",
       "       'США - Канада - Германия - Франция', 'США-Канада-Франция',\n",
       "       'Россия - Германия', 'Россия-Италия', 'Китай - Гонконг',\n",
       "       'Германия-Австрия-Франция-Италия', 'США-Япония',\n",
       "       'США - Германия - Канада', 'Испания-Мексика',\n",
       "       'США - Япония - Канада - Великобритания - Германия - Франция',\n",
       "       'США -Великобритания - Австралия', 'Россия-Украина-Германия',\n",
       "       'Израиль - Франция - Великобритания - Германия', 'Корея',\n",
       "       'Россия - Болгария', 'США-Индия',\n",
       "       'Германия-Канада-Франция-Бельгия', 'Германия-Кения',\n",
       "       'Франция - Монако', 'Франция-Испания-Швейцария',\n",
       "       'Австрия-Франция-Германия', 'Румыния',\n",
       "       'США-Великобритания-Франция', 'Канада-Великобритания',\n",
       "       'Канада-Бразилия-Япония', 'Германия - Дания - Норвегия',\n",
       "       'Дания - Германия', 'СССР - Италия',\n",
       "       'СССР - ГДР - Польша - Италия',\n",
       "       'США - Испания - Франция - Великобритания', 'Китай',\n",
       "       'Мексика-Аргентина',\n",
       "       'Германия - Великобритания - Италия - Испания',\n",
       "       'Франция-Германия-Великобритания', 'Россия - Германия - Швейцария',\n",
       "       'Франция-Австралия', 'Голландия', 'Швейцария-Франция',\n",
       "       'Россия-Белоруссия', 'Франция - Испания - Тайвань',\n",
       "       'США-Южная Корея-Новая Зеландия', 'Великобритания-Венгрия',\n",
       "       'Россия-Германия', 'Великобритания-Франция-Германия',\n",
       "       'Франция-Германия-Италия', 'Швеция-Финляндия-Франция-Норвегия',\n",
       "       'Франция-Италия', 'Германия-Израиль',\n",
       "       'Швеция - Германия - Дания - Норвегия', 'США-Бельгия',\n",
       "       'Франция-Гонконг-Ирландия', 'Эстония', 'Литва-Россия-Украина',\n",
       "       'Германия - Италия - Франция',\n",
       "       'Великобритания - Австрия - Германия', 'Бельгия - Франция',\n",
       "       'Россия-Казахстан', 'Испания - Мальта',\n",
       "       'Франция-Россия-Румыния-Италия-Бельгия', 'Россия - Польша',\n",
       "       'Испания - Мексика', 'США-Аргентина', 'Великобритания ',\n",
       "       'Израиль-США-Франция', 'США - Новая Зеландия - Япония',\n",
       "       'Франция - Чехия - Великобритания', 'Россия-Польша',\n",
       "       'Германия-Франция-Великобритания', 'США-Германия-Канада',\n",
       "       'США-Гонконг-Китай', 'США - Великобритания - Германия',\n",
       "       'США-Канада-Австралия', 'Япония-США-Франция',\n",
       "       'Франция-Испания-Германия', 'США - Хорватия - Босния-Герцеговина',\n",
       "       'Великобритания - Чехия - Франция - Италия',\n",
       "       'США - Германия - Нидерланды', 'Германия - Франция - Канада',\n",
       "       'Франция-Грузия-Германия-Россия-Украина-Бельгия',\n",
       "       'Великобритания - Франция - Италия', 'Россия - США',\n",
       "       'Франция - Италия - Иран', 'Россия - Азербайджан', 'Греция',\n",
       "       'Дания - США', 'США-Великобритания-Новая Зеландия',\n",
       "       'США-Германия-Австралия', 'США-Канада-Италия',\n",
       "       'США - Япония - Германия', 'Австралия-США',\n",
       "       'Франция - Великобритания - Багамские острова - США',\n",
       "       'Швейцария - Люксембург', 'Швейцария - Австрия',\n",
       "       'Германия - Швейцария', 'Дания-Швеция-Франция-Германия', 'Польша',\n",
       "       'Швейцария-Австрия', 'Бразилия - Канада - США',\n",
       "       'Нидерланды - Россия', 'Португалия', 'Франция-Аргентина',\n",
       "       'Швеция-Франция', 'Франция-Украина', 'Германия-Украина-Нидерланды',\n",
       "       'Италия-Швейцария', 'США-Германия-Великобритания',\n",
       "       'Латвия - Россия', 'Германия-Франция-Великобритания-США',\n",
       "       'Канада - Италия', 'США - Объединенные Арабские Эмираты',\n",
       "       'США-Венгрия', 'Малайзия', 'Россия - Германия - Украина',\n",
       "       'США - Австралия - Мексика', 'Литва - Венгрия', 'Германия - Китай',\n",
       "       'Казахстан', 'Республика Корея',\n",
       "       'США - Германия - Франция - Великобритания - Канада ',\n",
       "       'Бельгия - Германия - Люксембург - Франция', 'Франция - Греция',\n",
       "       'Италия - Канада', 'США - Великобритания - Франция',\n",
       "       'США-Италия-Греция', 'Германия - США - Великобритания - Ирландия',\n",
       "       'Великобритания - Франция - Германия',\n",
       "       'Германия - Нидерланды - ЮАР',\n",
       "       'США-Япония-Германия-Великобритания-Нидерланды',\n",
       "       'США-Япония-Германия-Великобритания',\n",
       "       'Германия - Франция - Польша',\n",
       "       'Таиланд-Великобритания-Франция-Германия-Испания-Нидерланды',\n",
       "       'Германия-Италия-Швейцария',\n",
       "       'Дания - Швеция - Великобритания - Франция - Германия - Нидерланды - Норвегия - Финляндия',\n",
       "       'Франция - Великобритания - Нидерланды - Люксембург',\n",
       "       'Нидерланды-Великобритания-Франция-Италия-Япония',\n",
       "       'Финляндия-Дания-Германия-Ирландия', 'Испания-Аргентина',\n",
       "       'Великобритания - Нидерланды - Франция - США', 'Канада - Мексика',\n",
       "       'США, Франция', 'Канада-Южная Корея-США',\n",
       "       'Великобритания - Франция - Бельгия - США', 'КНР - Канада - США',\n",
       "       'Италия - Франция - Германия',\n",
       "       'Швеция - Германия - Франция - Дания', 'Франция - США - Бельгия',\n",
       "       'Украина - Германия - Латвия - Эстония', 'Австрия - Люксембург',\n",
       "       'Великобритания - КНР', 'Монголия', 'Франция - Дания',\n",
       "       'Швеция - Дания - Финляндия',\n",
       "       'Сингапур - Великобритания - Индонезия - Канада - США',\n",
       "       'США - Германия - Япония', 'Таиланд - США', 'Франция - Нидерланды',\n",
       "       'Великобритания - Румыния', 'США - Мальта',\n",
       "       'Великобритания - Германия - Нидерланды - Дания',\n",
       "       'Франция - Германия - Литва - Нидерланды - Россия',\n",
       "       'США - ЮАР - Гонконг', 'Австралия - Колумбия',\n",
       "       'Великобритания - Польша', 'США - Великобритания - Швеция',\n",
       "       'Франция - Швеция - Дания - Норвегия', 'Болгария - США',\n",
       "       'СССР, ФРГ', 'Бельгия - Нидерланды - Франция',\n",
       "       'Финляндия - Германия', 'Болгария',\n",
       "       'Грузия - Россия - Украина - Хорватия - Германия',\n",
       "       'Франция - Люксембург', 'Франция - Германия - Австрия',\n",
       "       'Норвегия - США', 'Германия-Швеция', 'Франция - Германия - Италия',\n",
       "       'Франция-Германия-Австрия', 'КНР-США',\n",
       "       'Великобритания - Ирландия - США ',\n",
       "       'Дания - Латвия - Россия - США', 'Финляндия - Польша',\n",
       "       'Германия - Бельгия', 'Германия - США - Франция - Испания',\n",
       "       'Бельгия-Германия-Канада-Франция-США-Великобритания',\n",
       "       'Нидерланды - Бельгия - Люксембург', 'Канада-Германия',\n",
       "       'Люксембург - Бельгия - Франция', 'США-Великобритания-Австралия',\n",
       "       'Великобритания, Новая Зеландия', 'Бельгия, Великобритания, США',\n",
       "       'Великобритания, Австралия', 'Исландия, Бельгия',\n",
       "       'Испания - Швейцария - Великобритания - Германия - Новая Зеландия - Нидерланды - Канада',\n",
       "       'Франция, Бельгия', 'Великобритания, США', 'Киргизия-Россия',\n",
       "       'Германия, США', 'Великобритания, США, Испания',\n",
       "       'Италия - Швейцария - Германия', 'Россия, Армения',\n",
       "       'Франция, Германия', 'Китай, Канада, США', 'Германия, Австралия',\n",
       "       'КНР, США', 'США, Великобритания, Люксембург',\n",
       "       'Испания, Ирландия, Бельгия, Франция',\n",
       "       'Великобритания - Гонконг - Венгрия - США - Ирландия',\n",
       "       'США - Пуэрто Рико', 'Аргентина - Испания - Уругвай',\n",
       "       'Израиль - Германия - Франция - Швейцария',\n",
       "       'Великобритания - Мексика - США', 'Испания - Болгария - США',\n",
       "       'Россия-Словакия-Чехия',\n",
       "       'Швейцария - КНР - США - Россия - Республика Корея - Великобритания',\n",
       "       'Россия, Нидерланды, Финляндия',\n",
       "       'Испания - Бельгия - Франция - Португалия - Великобритания',\n",
       "       'Бразилия - Португалия - Франция', 'Швеция - Норвегия',\n",
       "       'Франция - Польша - Бельгия', 'CША', 'Китай, США',\n",
       "       'Италия, Франция, Германия', 'Германия - Австрия - Франция',\n",
       "       'Чехия - Словакия - Хорватия', 'Россия, Польша, Финляндия',\n",
       "       'Россия, Латвия, Чешская Республика',\n",
       "       'Франция - Великобритания - Камбоджа - США - КНР',\n",
       "       'Чехия - Испания - США', 'Германия - Люксембург - Дания',\n",
       "       'Великобритания - Испания - Германия', 'Дания - Исландия',\n",
       "       'Германия, Франция, Великобритания',\n",
       "       'Великобритания - Испания - Италия - Латвия - Франция - Эстония',\n",
       "       'Дания, Швеция, Великобритания, Франция, Германия, Норвегия, Финляндия, Нидерланды, Италия',\n",
       "       'Польша - Франция - Великобритания',\n",
       "       'Дания, Норвегия, Венгрия, Чехия',\n",
       "       'Дания - Франция - Германия - Швеция',\n",
       "       'Великобритания, Швеция, США',\n",
       "       'Канада, Франция, Италия, Швейцария, США', 'США, Индия',\n",
       "       'США - Великобритания - Германия - - Швеция - Канада',\n",
       "       'Италия, Франция', 'Республика Беларусь, Германия, США, Россия',\n",
       "       'Италия-Швейцария-Франция-Германия ',\n",
       "       'Россия - Франция - Великобритания - Латвия', 'Россия-Беларусь',\n",
       "       'Франция - Испания - Румыния - США - Бельгия', 'Италия-США',\n",
       "       'Россия, Австрия', 'Ирландия - Великобритания - США',\n",
       "       'Швейцария, Великобритания, Франция, США, Ирландия',\n",
       "       'Мексика, Франция, Германия, Дания, Швеция', 'Нидерланды, Бельгия',\n",
       "       'Швеция, Норвегия, Финляндия, Франция', 'Испания, Франция, Италия',\n",
       "       'Испания-Франция-Греция-Индия-США-Россия-Великобритания',\n",
       "       'Великобритания - Япония - США',\n",
       "       'Дания, Канада, Норвегия, Австралия, США', 'Аргентина, Испания',\n",
       "       'Россия, Германия, Казахстан, Польша, Китай',\n",
       "       'Португалия, Франция, Польша, США', 'США - Канада - Аргентина',\n",
       "       'Ливан-США', 'Япония - США', 'США, Гонконг ',\n",
       "       'Франция - Россия - Швейцария - Румыния - Венгрия',\n",
       "       'Аргентина-Испания', 'Россия, Сербия', 'США - Болгария - Мексика',\n",
       "       'США - Великобритания - Швейцария - Франция',\n",
       "       'Таиланд - КНР - США',\n",
       "       'Великобритания, Нидерланды, Польша, Швейцария, Франция',\n",
       "       'Ирландия - США',\n",
       "       'Германия - Франция - Великобритания - Польша - США',\n",
       "       'Великобритания-Франция-Италия', 'США - Австралия - Индия',\n",
       "       'Франция - КНР', 'Великобритания - Израиль',\n",
       "       'Великобритания - Норвегия - Кения - Хорватия',\n",
       "       'США - Бразилия - Великобритания - Канада', 'Германия, Бельгия',\n",
       "       'Австралия, Канада', 'США, Великобритания, Франция',\n",
       "       'Кения, Германия', 'Нидерланды, Бельгия, Люксембург', 'Колумбия',\n",
       "       'Латвия - Франция', 'Ирландия, Великобритания',\n",
       "       'Франция - Израиль - Германия', 'Швеция, Франция, Великобритания',\n",
       "       'Бельгия - Люксембург', 'Германия - Бельгия - Великобритания',\n",
       "       'Испания, Франция, Великобритания, Дания, Бельгия, Германия',\n",
       "       'Румыния, ЮАР, Иран, Франция, Канада, Великобритания',\n",
       "       'Германия, Франция', 'США, Япония',\n",
       "       'США, Великобритания, Ирландия, Люксембург', 'Республика Армения',\n",
       "       'США, Франция, Япония', 'Япония, США', 'Канада, США',\n",
       "       'Республика Кипр - Россия',\n",
       "       'Дания - Франция - Италия - Бельгия - Нидерланды',\n",
       "       'Россия - Грузия', 'Италия, Германия', 'Норвегия, Швеция, Дания',\n",
       "       'Республика Кипр, Россия', 'КНР, Индия, Гонконг, США',\n",
       "       'Израиль, Украина', 'США, Россия', 'США - КНР - Индия - Ю.Корея',\n",
       "       'США - Швеция', 'Франция, Канада', 'Россия-Китай',\n",
       "       'Канада, Великобритания', 'США, Германия',\n",
       "       'Канада, США, Каймановы острова',\n",
       "       'Бразилия, Уругвай, Дания, Норвегия, Чили, Швеция',\n",
       "       'Пуэрто-Рико, Великобритания, США',\n",
       "       'Уругвай - Аргентина - Испания',\n",
       "       'США - Великобритания - Италия - Израиль - Сербия - Индия',\n",
       "       'США - Канада - Франция - Индия', 'Великобритания - Россия - КНР',\n",
       "       'Франция, Новая Зеландия', 'Франция, Люксембург, Бельгия',\n",
       "       'Канада, США, Норвегия', 'Италия, Испания',\n",
       "       'Испания - Германия - Нидерланды', 'Бразилия - США - КНР ',\n",
       "       'Великобритания, Германия, Дания, США', '2019',\n",
       "       'Италия - Фрация - Бразилия - Германия',\n",
       "       'Норвегия - Швеция - Россия', 'Великобритания, Япония, США',\n",
       "       'Сша, Канада', 'Бельгия, Канада',\n",
       "       'Великобритания - Австралия - США', 'США, Канада', 'КНР - США ',\n",
       "       'Франция - Финляндия', 'Колумбия - США',\n",
       "       'Великобритания, Франция, Бельгия', 'Норвегия - Нидерланды',\n",
       "       'Великобритания, Канада, США', 'Япония, Великобритания',\n",
       "       'Италия - Бельгия - Франция', 'Россия, Бельгия, Финляндия',\n",
       "       'США, Украина', 'Франция, Норвегия',\n",
       "       'Великобритания, Южная Корея, Канада, США, Индия, Китай, Япония',\n",
       "       'Канада - Норвегия', 'Республика Кипр-Россия', 'Германия, Россия',\n",
       "       'Польша - Франция - Испания - Бразилия - Швеция',\n",
       "       'Австрия, Великобритания, Германия', 'Франция - Сенегал - Бельгия',\n",
       "       'Франция, Бельгия, Люксембург', 'Финляндия, Латвия', 'Пакистан',\n",
       "       'Германия, Франция, США', 'Германия - Великобритания - США',\n",
       "       'КНР - Франция', 'Дания, Норвегия, Швеция, Исландия',\n",
       "       'Республика Кипр, США, Россия', 'Новая Зеландия - КНР',\n",
       "       'Дания - Канада - Швеция - Франция - Германия - Великобритания - США'],\n",
       "      dtype=object)"
      ]
     },
     "execution_count": 40,
     "metadata": {},
     "output_type": "execute_result"
    }
   ],
   "source": [
    "data['production_country'].unique() # посмотрим на уникальные значения в столбце"
   ]
  },
  {
   "cell_type": "markdown",
   "id": "a2f22eda",
   "metadata": {},
   "source": [
    "Есть большое количество строк с лишними пробелами, но удалять такие пробелы опасно, иначе можно лишиться стран с двойным названием, как например \"Новая Зеландия\", \"Республика Кипр\", \"Южная Корея\" и т.п. При этом дефисы можно заменить на запятые, чтобы привести данные к единому формату:"
   ]
  },
  {
   "cell_type": "code",
   "execution_count": 41,
   "id": "726d0cb8",
   "metadata": {},
   "outputs": [],
   "source": [
    "data['production_country'] = data['production_country'].replace('-',',', regex=True)"
   ]
  },
  {
   "cell_type": "code",
   "execution_count": 42,
   "id": "331903bf",
   "metadata": {},
   "outputs": [
    {
     "data": {
      "text/plain": [
       "['Кевин Костнер',\n",
       " 'Е.Матвеев',\n",
       " 'Тимур Бекмамбетов',\n",
       " 'В.Абдрашитов',\n",
       " 'В.Меньшов',\n",
       " 'Джон Туртурро',\n",
       " 'Эрик Беснард',\n",
       " 'В.Титов',\n",
       " 'Пол Грингросс',\n",
       " 'М.Туманишвили',\n",
       " 'Клинт Иствуд',\n",
       " 'Фернанду Мейрелльеш',\n",
       " 'Майк Фиггис',\n",
       " 'А.Салтыков',\n",
       " 'Г.Данелия',\n",
       " 'А.Смирнов',\n",
       " 'Ю.Чулюкин',\n",
       " 'В.Краснопольский, В.Усков',\n",
       " 'М.Чиаурели',\n",
       " 'Лассе Халлстрем',\n",
       " 'Л.Гайдай',\n",
       " 'В.Чеботарев',\n",
       " 'В.Азаров',\n",
       " 'Боривой Земан',\n",
       " 'Эндрю Никкол',\n",
       " 'Г.Мыльников',\n",
       " 'Джонатан Кинг',\n",
       " 'И.Бабич',\n",
       " 'Даниэль Робишо',\n",
       " 'Грегори Хоблит',\n",
       " 'Крис Нунан',\n",
       " 'Стивен Фрирз',\n",
       " 'Йэн Софтли',\n",
       " 'Найл Джонсон',\n",
       " 'Р.Быков',\n",
       " 'Роб Райнер',\n",
       " 'Бен Янгер',\n",
       " 'Роб Маршалл',\n",
       " 'Е.Ташков',\n",
       " 'Н.Михалков',\n",
       " 'Ю.Карасик',\n",
       " 'А.Тарковский',\n",
       " 'Джон Франкенхаймер',\n",
       " 'Оливье Маршал',\n",
       " 'С.Соловьев',\n",
       " 'Иоахим Реннинг, Эспен Сандберг',\n",
       " 'Ролан Быков',\n",
       " 'Семен Туманов',\n",
       " 'Питер Сигал',\n",
       " 'М.Ромм',\n",
       " 'Г.Полока',\n",
       " 'Ю.Райзман',\n",
       " 'Дрю Дэйуолт, Дэвид Шнейдер',\n",
       " 'С.Самсонов',\n",
       " 'Айрон Блейз, Роберт Уокер',\n",
       " 'К.Шахназаров',\n",
       " 'И.Гостев',\n",
       " 'Т.Лукашевич',\n",
       " 'В.Павлович',\n",
       " 'Эмиль Лотяну',\n",
       " 'Тиль Швайгер',\n",
       " 'А.Птушко',\n",
       " 'Г.Натансон',\n",
       " 'И.Пырьев, М.Ульянов, К.Лавров',\n",
       " 'Джеймс Айвори',\n",
       " 'И.Пырьев',\n",
       " 'К.Юдин, Б.Барнет',\n",
       " 'С.Бондарчук',\n",
       " 'В.Георгиев',\n",
       " 'В.Басов',\n",
       " 'А.Сурикова',\n",
       " 'Майк Слии',\n",
       " \"Томми О'Хавер\",\n",
       " 'А.Эфрос',\n",
       " 'М.Микаэлян',\n",
       " 'А.Серый',\n",
       " 'Дин Хэмилтон',\n",
       " 'Г.Панфилов',\n",
       " 'Сергей Бондарчук',\n",
       " 'Н.Трахтенберг',\n",
       " 'А.Столпер',\n",
       " 'М.Швейцер, С.Милькина',\n",
       " 'Л.Марягин',\n",
       " 'Крис Уильямс, Байрон Ховард',\n",
       " 'Энг Ли',\n",
       " 'И.Киасашвили',\n",
       " 'В.Пудовкин',\n",
       " 'Франк Манкузо',\n",
       " 'Фэн Сяоган',\n",
       " 'С.Алексеев, В.Войтецкий',\n",
       " 'Жан Франсуа Рише',\n",
       " 'А.Митта',\n",
       " 'Г.Александров',\n",
       " 'Марк Форстер',\n",
       " 'А.Роом',\n",
       " 'Дэвид Йетс',\n",
       " 'Крис Коламбус',\n",
       " 'Альфонсо Куарон',\n",
       " 'Ридли Скотт',\n",
       " 'Матьё Кассовиц',\n",
       " 'Г.Егиазаров',\n",
       " 'Джордж Клуни',\n",
       " 'Дэнни Панг, Оксид Панг',\n",
       " 'Майк Ньюэлл',\n",
       " 'Ди.Джи.Карузо',\n",
       " 'Эл Гиддингс, Дэвид Кларк',\n",
       " 'Дэвид Моро, Хавьер Палю',\n",
       " 'Марк Пеллингтон',\n",
       " 'Б.Бабочкин',\n",
       " 'Виктор Сальва',\n",
       " 'Владимир Чеботарев',\n",
       " 'А.Рыбаков',\n",
       " 'Франко Дзеффирелли',\n",
       " 'Стивен Содерберг',\n",
       " 'Дэвид Аубурн',\n",
       " 'Шерон Магуайр',\n",
       " 'Е.Карелов',\n",
       " 'Жан-Пьер Жене',\n",
       " 'Кевин Смит',\n",
       " 'Роберт Лукетич',\n",
       " 'А.Зархи',\n",
       " 'Ник Кассаветис',\n",
       " 'А.Мкртчян',\n",
       " 'Питер Хоуитт',\n",
       " 'К.Воинов',\n",
       " 'Мартин Брест',\n",
       " 'А.Столпер, Б.Иванов',\n",
       " 'Э.Рязанов',\n",
       " 'В.Скуйбин',\n",
       " 'Вадим Перельман',\n",
       " 'А.Салтыков, А.Митта',\n",
       " 'Пол Уиланд',\n",
       " 'Владимир Дрга',\n",
       " 'Алехандро Агрести',\n",
       " 'С.Колосов',\n",
       " 'Н.Москаленко',\n",
       " 'Л.Гайдай, Р.Орко',\n",
       " 'А.Мкртчян, Л.Попов',\n",
       " 'Михаэль Ханеке',\n",
       " 'П.Чухрай',\n",
       " 'Г.Чухрай',\n",
       " 'Джейсон Рейтман',\n",
       " 'В.Дербенев',\n",
       " 'Бен Стэйссен',\n",
       " 'Джозеф Рубен',\n",
       " \"Томми О'Хэйвер\",\n",
       " 'В.Пудовкин, Д.Васильев',\n",
       " 'Уильям Фридкин',\n",
       " 'Дэвид Финчер',\n",
       " 'В.Герасимов',\n",
       " 'Сидни Люмет',\n",
       " 'Тим Дисней',\n",
       " 'Крис Уэйтс',\n",
       " 'Питер Хаймс',\n",
       " 'Н.Губенко',\n",
       " 'Даг Лайман',\n",
       " 'П.Тодоровский',\n",
       " 'Джо Райт',\n",
       " 'С.Туманов',\n",
       " 'С.Бодров, А.Буравский',\n",
       " 'Гай Ричи',\n",
       " 'В.Шукшин',\n",
       " 'Р.Нахапетов',\n",
       " 'А.Сахаров',\n",
       " 'Питер Джексон',\n",
       " 'Мартин Кемпбелл',\n",
       " 'В.Каплуновский',\n",
       " 'Фрэнк Оз',\n",
       " 'Э.Кеосаян',\n",
       " 'Ф.Гари Грэй',\n",
       " 'Пол МакГиган',\n",
       " 'Джонатан Хейнслей',\n",
       " 'Жан Боден',\n",
       " 'Ананд Таккер',\n",
       " 'Пол Джей Болджер',\n",
       " 'Эдвард Цвик',\n",
       " 'Т.Вульфович',\n",
       " 'Ричард Эйр',\n",
       " 'Майкл Манн',\n",
       " 'Питер Берг',\n",
       " 'Б.Барнет',\n",
       " 'Бретт Рэтнер',\n",
       " 'Ю.Кушнерев',\n",
       " 'М.Хуциев',\n",
       " 'Питер Гринуэй',\n",
       " 'П.Фоменко',\n",
       " 'Хаяо Миядзаки',\n",
       " 'Кристофер Нолан',\n",
       " 'Мартин Кэмпбелл',\n",
       " 'Р.Фрунтов',\n",
       " 'А.Алов, В.Наумов',\n",
       " 'Дэвид Слейд',\n",
       " 'Брэд Силберлинг',\n",
       " 'Р.Балаян',\n",
       " 'Анн Фонтейн',\n",
       " 'Джон Шлезингер',\n",
       " 'Анно Зауль',\n",
       " 'Н.Ардашников',\n",
       " 'Паскаль Ложье',\n",
       " 'Том Тыквер',\n",
       " 'Тони Бэнкфорт, Бэрри Кук',\n",
       " 'Эктор Бабенко',\n",
       " 'В.Пронин',\n",
       " 'А.Габриелян',\n",
       " 'Карел Смычек',\n",
       " 'Э.Климов',\n",
       " 'Пол Хантер',\n",
       " 'Е.Гинзбург',\n",
       " ' Н.Орлов, Р.Быков',\n",
       " 'А.Михалков-Кончаловский',\n",
       " 'А.Панкратов',\n",
       " 'Йорген Лет, Ларс Фон Триер',\n",
       " 'Брек Эйзнер',\n",
       " 'Гарри Маршалл',\n",
       " 'Адам Шенкман',\n",
       " 'Дэвид Миркин',\n",
       " 'Т.Лукашевич, Б.Равенских, Д.Васильев',\n",
       " 'Г.Данелия, И.Таланкин',\n",
       " 'В.Ордынский',\n",
       " 'Джон Патрик Шэнли',\n",
       " 'Харольд Бэккер',\n",
       " 'Стивен Гэган',\n",
       " 'Ульрих Зейдл',\n",
       " 'Э.Лотяну',\n",
       " 'С.Эйзенштейн',\n",
       " 'Райан Эслингер',\n",
       " 'Э.Савельева, Т.Березанцева',\n",
       " 'Тим Бёртон',\n",
       " 'Дэвид Линч',\n",
       " 'Стив Бек',\n",
       " 'Роб Коэн',\n",
       " 'Джонатан Либесман',\n",
       " 'Пол Гринграсс',\n",
       " 'Т.Лукашевич, В.Канцель',\n",
       " 'К.Худяков',\n",
       " 'Эндрю Адамсон',\n",
       " 'А.Карпыков',\n",
       " 'Патрик Люнг, Корей Йен',\n",
       " 'Мария Солее Тоньяцци',\n",
       " 'Гильермо дель Торо',\n",
       " 'Гэвин Грейзер',\n",
       " 'Жерар Кравчик',\n",
       " 'Джулия Тэймор',\n",
       " 'В.Назаров',\n",
       " 'Кали Коури',\n",
       " 'Курт Уиммер',\n",
       " 'Роджер Споттисвуд',\n",
       " 'Г.Натансон, А.Эфрос',\n",
       " 'Марк С. Уотерс',\n",
       " 'Брек Айзнер',\n",
       " 'Джим Гиллеспи',\n",
       " 'Тони Билл',\n",
       " 'РичардЭйр',\n",
       " 'И.Зайцев',\n",
       " 'Дэвид Йейтс',\n",
       " 'Е.Андриканис',\n",
       " 'Сильвестр Сталлоне',\n",
       " 'Брюно Подалидес',\n",
       " 'Кэтрин Бигелоу',\n",
       " 'Шон МакНамара',\n",
       " 'С.Говорухин',\n",
       " 'Дэйв Бортвик',\n",
       " 'И.Таланкин',\n",
       " 'Г.Рошаль',\n",
       " 'Сет Гроссман',\n",
       " 'Мишель Хазанавичус',\n",
       " 'Джон Хиллкоут',\n",
       " 'Френсис Форд Коппола',\n",
       " 'Джесси Джонсон',\n",
       " 'В.Шамшурин',\n",
       " 'Гай Риччи',\n",
       " 'Крис Вайц',\n",
       " 'Тоби Уилкинс',\n",
       " 'Жаклин Шеффер',\n",
       " 'Саймон Уэст',\n",
       " 'Франсуа Озон',\n",
       " 'Уильям Монахэн',\n",
       " 'Дон Рус',\n",
       " 'Стефан Лоу',\n",
       " 'Тедди Чан',\n",
       " 'Натан Грино, Байрон Ховард',\n",
       " 'Филипп Гаррель',\n",
       " 'Джули Тэймор',\n",
       " 'Скотт Калвер',\n",
       " 'Кристофер Сунь Лэп Ки',\n",
       " 'Джим Шеридан',\n",
       " 'Стивен Спилберг',\n",
       " 'Николас Виндинг Рефн                                                                                                                                                                                                                             ',\n",
       " 'Маттис ван Хейникен младший',\n",
       " 'Николя Кюш',\n",
       " 'Джон Карпентер',\n",
       " 'Генри Джуст, Ариэль Шульман',\n",
       " 'Дэниел Барнц',\n",
       " 'Хиромаса Йонебаяши',\n",
       " 'Чжан Имоу',\n",
       " 'Джон Мэдден',\n",
       " 'Фил Трэйл',\n",
       " 'Оливер Паркер',\n",
       " 'Дэвид Ликли',\n",
       " 'Бобкэт Голдтуэйт',\n",
       " 'Лиза Аскан',\n",
       " 'Хендрик Хандлёгтен',\n",
       " 'Энтони ДиБласи',\n",
       " 'Бигас Луна',\n",
       " 'Майкл Уинтерботтом',\n",
       " 'Оле Кристиан Мадсен',\n",
       " 'Марио Мартоне',\n",
       " 'Кристиан Биодани',\n",
       " 'Кристиан Клавье',\n",
       " 'Уильям Брент Бэлл',\n",
       " 'Ренни Харлин',\n",
       " 'Ева Ионеско',\n",
       " 'Кен Коупис',\n",
       " 'Асгер Лет',\n",
       " 'Фредерик Жарден',\n",
       " 'Тобиас Линдхольм, Майкл Ноер',\n",
       " 'Тейт Тейлор',\n",
       " 'Дэвид Маквикар',\n",
       " 'С. Дж. Кларксон',\n",
       " 'Бренда Чапмен, Марк Эндрюс',\n",
       " 'Николас Столлер',\n",
       " 'Люк Бессон',\n",
       " 'Дэвид Кроненберг',\n",
       " 'Вишес Бразерс',\n",
       " 'Родриго Ортузар Линч',\n",
       " 'Хуан Таратуто',\n",
       " 'Флавио Р.Тамбеллини ',\n",
       " 'Николас Лопес',\n",
       " 'Уэс Андерсон',\n",
       " 'Адам Смит',\n",
       " 'Стюарт Маундер',\n",
       " 'Брайан Лардж',\n",
       " 'Руперт Сандерс',\n",
       " 'Джо Карнахан',\n",
       " 'Дэвид МакКензи',\n",
       " 'Рауль Руис',\n",
       " 'Уильям Юбэнк',\n",
       " 'Оливер Барру',\n",
       " 'Лиза Азуэлос',\n",
       " 'Брэд Пейтон',\n",
       " 'Дэниэл Эспиноза',\n",
       " 'Д.Файзиев',\n",
       " 'С.Андреасян',\n",
       " 'А.Смирнова',\n",
       " 'Оускар Йоунассон, Тоби Генкель',\n",
       " 'Тарсем Синх',\n",
       " 'Роб Минкофф, Роджер Аллерс',\n",
       " 'В.Иванов, С.Комаров',\n",
       " 'А.Силкин',\n",
       " 'Ю.Васильев',\n",
       " 'Б.Куломзин',\n",
       " 'Д.Додсон, А.Юрчиков',\n",
       " 'А.Мизгирев',\n",
       " 'П.Лунгин',\n",
       " 'Эндрю Стэнтон',\n",
       " 'Пэдди Консидайн',\n",
       " 'Гэри Росс',\n",
       " 'Е.Анашкин',\n",
       " 'Маркус Грейвз',\n",
       " 'Йоханнес Робертс',\n",
       " 'Пэт Холден',\n",
       " 'Нима Нуризаде',\n",
       " 'Гарет Эванс',\n",
       " 'Сон-Юн О',\n",
       " 'Мартин Валенте',\n",
       " 'Макс Джива, Дания Пасквини',\n",
       " 'Майк МакКой',\n",
       " 'Ю.Бахшиев',\n",
       " 'А.Малюков',\n",
       " 'Ларри Чарльз',\n",
       " 'Стефан Рибожад',\n",
       " 'Тони Майерс',\n",
       " 'Говард Холл',\n",
       " 'Гейл Эвардс',\n",
       " 'Майкл Фиггис',\n",
       " 'Катарина Оуэн, Марк Пеллингтон',\n",
       " 'Джеймс МакТиг',\n",
       " 'Хеннинг Карлсен',\n",
       " 'Тони Кэй',\n",
       " 'Фредерик Бегбедер',\n",
       " 'Франсиз Нильсен, Филипп Шатель',\n",
       " 'Эрик Геновеси',\n",
       " 'Филлида Ллойд',\n",
       " 'Эрик Дарнелл, Том МакГрат, Конрад Вернон',\n",
       " 'Жан-Марк Валли',\n",
       " 'Мэттью Диас',\n",
       " 'М.Бальчунас',\n",
       " 'Лоуренс Казанофф',\n",
       " 'Антонио Негрет',\n",
       " 'А.Борматов, Р.Сорокин',\n",
       " 'Джошуа Транк',\n",
       " 'В.Яковлев',\n",
       " 'Мэтт Пидмонт',\n",
       " 'Дэниэль Нетхейм',\n",
       " 'Санг-Хан Хо',\n",
       " 'Ральф Файнс',\n",
       " 'Мадонна',\n",
       " 'А.Прошкин',\n",
       " 'Р.Газизов',\n",
       " 'Джереми Левин',\n",
       " 'Жан-Жак Анно',\n",
       " 'Жан-Жак Мантелло',\n",
       " 'Джордж Клуни ',\n",
       " 'Адриан Грюнберг',\n",
       " 'Томаш Сас',\n",
       " 'Джеймс Камерон',\n",
       " 'Уильям Кентридж',\n",
       " 'А.Пурер (Галин)',\n",
       " 'Жан-Пьер Дарденн, Люк Дарденн',\n",
       " 'Анджелина Джоли',\n",
       " 'Роб Минкофф, Роджер Оллерс',\n",
       " 'Зигфрид',\n",
       " 'Ти Вест',\n",
       " 'Джеймс Бобин',\n",
       " 'Фил Лорд, Крис Миллер',\n",
       " 'Томаш Лунак',\n",
       " 'Кристиан Швохов',\n",
       " 'Оливье Накаша, Эрик Толедано',\n",
       " 'Тим Бертон',\n",
       " 'Скотт Хикс',\n",
       " 'Джефф Николс',\n",
       " 'Майкл Ди Джакомо',\n",
       " 'Джеймс Мэтер, Стивен Ст. Леджер',\n",
       " 'Тосиюки Кубоока',\n",
       " 'А.Кулямин',\n",
       " 'Дэвид Брукс',\n",
       " 'О.Сенцов',\n",
       " 'Пол Андерсон',\n",
       " 'Барри Зонненфельд',\n",
       " 'Кирк Джонс',\n",
       " 'Брэйден Кинг',\n",
       " 'Реми Безансон',\n",
       " 'Габи Амионе, Пау Балаге, Джозеко де Линарес, Эдуард Риу, Ирен С.Родригез',\n",
       " 'Эмануэле Криалезе',\n",
       " 'Джейсон Айзнер',\n",
       " 'Роберт Хит',\n",
       " 'Йен Фитцгиббон',\n",
       " 'Петер Флинт',\n",
       " 'Фрэнсис Форд Коппола',\n",
       " 'Хермини Хунтгебурх',\n",
       " 'Боаз Якин',\n",
       " 'Ник Мерфи',\n",
       " 'Режис Варнье',\n",
       " 'Дермот Малруни',\n",
       " 'Рубен Остлунд',\n",
       " 'А.Магомедов',\n",
       " 'Малгожата Шумовска',\n",
       " 'Томас Альфредсон',\n",
       " 'Билл Кондон',\n",
       " 'Эйтор Далия',\n",
       " 'Крис Рено',\n",
       " 'Майкл Сакси',\n",
       " 'С.Андреасян, К.Оганисян, А.Кещян, Т.Корнев, Э.Салаватов, Д.Дюжев, Е.Абызов, А.Бадоев',\n",
       " 'Е.Борисова',\n",
       " 'Беньямин Хайзенберг',\n",
       " 'А.Мармонтов',\n",
       " 'Александр Пэйн',\n",
       " 'Уберто Пазолини',\n",
       " 'Майкл Дауз',\n",
       " 'А.Стреляная',\n",
       " 'Бернард Роуз',\n",
       " 'Р.Прыгунов',\n",
       " 'Андре Тешине',\n",
       " 'Джеймс Уоткинс',\n",
       " 'Саймон Верховен',\n",
       " 'Уильям Бейкер, Маркус Винер',\n",
       " 'Джон Майкл МакДонах',\n",
       " 'М.Железников',\n",
       " 'МакДжи',\n",
       " 'Шон Дуркин',\n",
       " 'Данис Танович',\n",
       " 'Джон Харвитц, Хейден Шлоссберг',\n",
       " 'Дженнифер Уэстфелд',\n",
       " 'Деклан Доннеллан, Ник Ормерод',\n",
       " 'Стив МакКуин',\n",
       " 'Джордж Лукас',\n",
       " 'Джейсон Рэйтман',\n",
       " 'Шери Фольксон',\n",
       " 'Эммануэль Муре',\n",
       " 'А.Козлов',\n",
       " 'Оливье Моршаль',\n",
       " 'Джейсон Ритмэн',\n",
       " 'Марк Невелдайн, Брайан Тейлор',\n",
       " 'Саймон Кертис',\n",
       " 'Бальтазар Кормакур',\n",
       " 'Клод Нуридзани, Мари Перену',\n",
       " 'Кике Майло',\n",
       " 'Дрю Годдар',\n",
       " 'Деннис Дуган',\n",
       " 'Грег Уайтели',\n",
       " 'Стивен Кижак',\n",
       " 'Дункан МакНили',\n",
       " 'Стефан Эллиотт',\n",
       " 'Мортен Тильдум',\n",
       " 'Джосс Уидон',\n",
       " 'Питер Лорд, Джефф Ньюитт',\n",
       " 'Эммануэль Берко, Фред Кавайе, Александр Кортес',\n",
       " 'Джон Стоквелл',\n",
       " 'Яннике Систад Якобсен',\n",
       " 'Лассе Халльстрём',\n",
       " 'А.Кещян',\n",
       " 'Джули Энн Робинсон',\n",
       " 'Эрни Барабараш',\n",
       " 'Пол Томас Андерсон',\n",
       " 'Джудд Апатоу',\n",
       " 'Спирос Статулопулос',\n",
       " 'Магнус Мартенс',\n",
       " 'Джей Роач',\n",
       " 'Питер Темплмен',\n",
       " 'Гермина Хунтгебурт',\n",
       " 'Марк А.З. Диппе, Тадонг Пак',\n",
       " 'Джон Каздан',\n",
       " 'Пабло Ларрайн',\n",
       " 'Ульрих Зайдль',\n",
       " 'Детлеф Бук',\n",
       " 'Лукас Мудиссон',\n",
       " 'Такеши Китано',\n",
       " 'Вонг Чинг По',\n",
       " 'А.Касаткин, Н.Назарова',\n",
       " 'Алекс де ла Иглесиа',\n",
       " 'Анна Негри',\n",
       " 'Франческо Фаласки',\n",
       " 'Элисон Клэймен',\n",
       " 'Джон Эйч Ли',\n",
       " 'Майкл Гринспен',\n",
       " 'Питер Тимм',\n",
       " 'Сэм Рэйми',\n",
       " 'Дастин Хоффман',\n",
       " 'Д.Киселев, А.Баранов',\n",
       " 'Фрэнк Корачи',\n",
       " 'Гэри Трусдейл, Кирк Уайз',\n",
       " 'Стивен Найт',\n",
       " 'Крис Уэдж',\n",
       " 'Педро Альмодовар',\n",
       " 'Кен Лоуч',\n",
       " 'Лео Каракс',\n",
       " 'Эд Гасс-Донелли',\n",
       " 'Феликс Фуксштайнер',\n",
       " 'Ф.Попов',\n",
       " 'Р.Давлетьяров',\n",
       " 'Валери Донзелли',\n",
       " 'Роар Утхауг',\n",
       " 'Хармони Корин',\n",
       " 'Русудан Чкония',\n",
       " 'Робин Кларк',\n",
       " 'Кит Уорнер',\n",
       " 'хореография Фредерика Эштона',\n",
       " 'О.Фесенко',\n",
       " 'Уолтер Саллес',\n",
       " 'Райан Джонсон',\n",
       " 'В.Панжев, Г.Курлаев, И.Белостоцкий, М.Сулейманова, Н.Репина, С.Морозов и др.',\n",
       " 'Стив Баркер',\n",
       " 'Мишель Франко',\n",
       " 'Лана Вачовски, Энди Вачовски, Том Тыквер',\n",
       " 'Джон Лукас, Скотт Мур',\n",
       " 'Джастин Лин',\n",
       " 'Джозеф Косински',\n",
       " 'Сет Гордон',\n",
       " 'Майкл Хоффман',\n",
       " 'Дэн Брэдли',\n",
       " 'Том Хупер',\n",
       " 'Кирстен Шеридан',\n",
       " 'Йоганнес Вайланд, Макс Ланг, Уве Хайдшёттер, Якоб Шух',\n",
       " 'И.Квирикадзе',\n",
       " 'Мартин МакДона',\n",
       " 'Аку Лоухимис',\n",
       " 'П.Руминов',\n",
       " 'Януш Жомболай',\n",
       " 'Тизнано Манчини',\n",
       " 'Эйприл Маллен',\n",
       " 'С.Баскова',\n",
       " 'Томас Винтерберг',\n",
       " 'Антуан Фукуа',\n",
       " 'Феде Алварес',\n",
       " 'Марсал Форес',\n",
       " 'Лаура Моранте',\n",
       " 'Айке Грамс',\n",
       " 'unknown',\n",
       " 'хореография Питера Райта, Льва Иванова по разработке Мариуса Петипа',\n",
       " 'хореография Василия Вайнонена. Андреас Морелл',\n",
       " 'Нурбек Эген',\n",
       " 'Паскаль Арнольд, Жан-Марк Барр',\n",
       " 'Пол Сен',\n",
       " 'Ол Паркер',\n",
       " 'Майкл Дж.Бассетт',\n",
       " 'Сан-Су Хон',\n",
       " 'Б.Хлебников',\n",
       " 'Найджел Коул',\n",
       " 'Алехандро Бругес',\n",
       " 'Сид Беннетт',\n",
       " 'Джеми Линден',\n",
       " 'М.Коростышевский',\n",
       " 'Джон Райт',\n",
       " 'Джозеф Седар',\n",
       " 'Мигель Гомеш',\n",
       " 'Кристиан Петцольд',\n",
       " 'Ребекка Томас',\n",
       " 'Давид Феррарио',\n",
       " 'Каллэн Брункер',\n",
       " 'Ким Нгуйен',\n",
       " 'Ксавье Джианолли',\n",
       " 'Шон Гэррити',\n",
       " 'Рюхэй Китамура',\n",
       " 'Патрис Леконт',\n",
       " 'Режи Ройнсар',\n",
       " 'Давид Манули',\n",
       " 'Е.Михайлова',\n",
       " 'К.Тимофеев',\n",
       " 'Скотт Дерриксон',\n",
       " 'А.Аманшаев, Г.Шенгелия',\n",
       " 'Джули Бенасра',\n",
       " 'Джулия Локтев',\n",
       " 'Марк Тондерай',\n",
       " 'С.Ткачев',\n",
       " 'О.Лопато',\n",
       " 'Бенисио Дель Торо, Пабло Траперо, Элиа Сулейман, Гаспар Ноэ, Лоран Канте, Хулио Медем, Хуан Карлос Табио',\n",
       " 'Квентин Дюпье',\n",
       " 'Сара Полли',\n",
       " 'Эцио Греджо',\n",
       " 'Мохсен Махмальбаф',\n",
       " 'Дэниэл Фриделль',\n",
       " 'Такаши Миике',\n",
       " 'Оливер Цигенбальг',\n",
       " 'Крейг Зобель',\n",
       " 'Дэвид Фрэнкел',\n",
       " 'Бертран Бонелло',\n",
       " 'Лиз Гарбус',\n",
       " 'Гэри Траусдейл, Кирк Уайз',\n",
       " 'Рон Клементс, Джон Маскер',\n",
       " 'Джон М.Чу',\n",
       " 'Дик Маас',\n",
       " 'Леандер Хаусманн',\n",
       " 'Е.Барханов',\n",
       " 'Рубен Фляйшер',\n",
       " 'Андрес Мускетти',\n",
       " 'Такаси Миике',\n",
       " 'Стив Мартино, Майкл Турмейр',\n",
       " 'Ален Шаба',\n",
       " 'Нильс Орден Оплев',\n",
       " 'Эрик Рошан',\n",
       " 'Хоаким Роннинг, Эспен Сандберг',\n",
       " 'Дункан МакФарланд',\n",
       " 'Адам Кук',\n",
       " 'Аки Каурисмяки',\n",
       " 'Марк Уэбб',\n",
       " 'А.Карпиловский',\n",
       " 'Карлос Рейгадас',\n",
       " 'Эрен Криви',\n",
       " 'Н.Лебедев',\n",
       " 'Дэнни Бойл',\n",
       " 'Лен Уайзман',\n",
       " 'Г.Долматовская',\n",
       " 'Наоёси Сиотани',\n",
       " 'Арни Линдер Нэсс',\n",
       " 'Пит Трэвис',\n",
       " 'Филипп Штёльцл',\n",
       " 'А.Арутюнов',\n",
       " 'Кристофер Б.Стоукс',\n",
       " 'Т.Ильина, Г.Данелия',\n",
       " 'Рон Фрике',\n",
       " 'Рэй Манзарек',\n",
       " 'Тизиано Манчини',\n",
       " 'Дени Криеф',\n",
       " 'Уле Борнедаль',\n",
       " 'В.Волгин при участии А.Ягубец',\n",
       " 'Р.Давлетьяров, Р.Прыгунов',\n",
       " 'Мэттью Беттинелли, Дэвид Брукнер, Адам Вингард',\n",
       " 'Оливер Стоун',\n",
       " 'Энди Фикмен',\n",
       " 'Ахмед Сонмез',\n",
       " 'Дэрил Вейн',\n",
       " 'Срджан Драгоевич',\n",
       " 'Эндрю Доминик',\n",
       " 'С.Карпунина',\n",
       " 'Ырыс Окенова',\n",
       " 'Уолтер Хилл',\n",
       " 'С.Дружинина',\n",
       " 'Грэг МакГиливрэй',\n",
       " 'С.Бурнашев',\n",
       " 'Роберт Земекис',\n",
       " 'Майкл Гантон, Марта Холмс',\n",
       " 'Брэд Андерсон',\n",
       " 'Рамаа Мосли',\n",
       " 'Даррен Линн Боусман',\n",
       " 'Пьер Коффин, Крис Рено',\n",
       " 'Мэт Аскем',\n",
       " 'Оливье Мегатон',\n",
       " 'Энн Эмон',\n",
       " 'Кен Скотт',\n",
       " 'Джонатан Дейтон, Валери Фэрис',\n",
       " 'Лесли Хэдланд',\n",
       " 'Бенуа Жако',\n",
       " 'Иджинио Страффи',\n",
       " 'Тодд Луисо',\n",
       " 'Роджер Мишелл',\n",
       " 'Андрей Кончаловский',\n",
       " 'Дик Каррутерс',\n",
       " 'хореограф Кеннет Макмиллан',\n",
       " 'Сергей Лозница',\n",
       " 'Руфус Норрис',\n",
       " 'Анубав Синха',\n",
       " 'И.Вырыпаев',\n",
       " 'Шейн Блэк',\n",
       " 'Йос Стеллинг',\n",
       " 'Вонг Юнфей',\n",
       " 'Софи Файнс',\n",
       " 'Джей Джей Абрамс',\n",
       " 'Петер Зер, Мари Ноэль',\n",
       " 'Фрэнк Мерле',\n",
       " 'Рик Роман Во',\n",
       " 'Лассе Халльстрем',\n",
       " 'Бертран Блие',\n",
       " 'Альберто Родригес',\n",
       " 'Тим Диасон, Питер Лепениотис',\n",
       " 'А.Войтинский',\n",
       " 'Окиура Хироюки',\n",
       " 'Мамору Хосода',\n",
       " 'Шунсуке Тада',\n",
       " 'Мартин Клэпп, Дорота Кобеля, Джофф Линдси',\n",
       " 'Мукунда Майкл Дьюил',\n",
       " 'Ким Ки-Дук ',\n",
       " 'Ким Ки-Дук',\n",
       " 'Амир Надери',\n",
       " 'Роберт Гэннавэй, Пегги Холмс',\n",
       " 'Альберто Мар',\n",
       " 'Майя Кениг',\n",
       " 'Анджей Якимовский',\n",
       " 'Баз Лурман',\n",
       " 'Джастин Закэм',\n",
       " 'Джозеф Рубин',\n",
       " 'Том Элкинс',\n",
       " 'Джоэл Коэн',\n",
       " 'Билл Джонс, Джефф Симпсон, Бен Тимлетт',\n",
       " 'Оливье Ассайас',\n",
       " 'Тео Ангелопулос, Джан Витторио Балди, Марко Бечис, Лаис Боданзки, Бету Брант, Сиско Васкес, Вим Вендерс, Гай Меддин, Мария де Медейрос, Мануэль ди Оливейра, Ежи Штур, Атом Эгоян ',\n",
       " 'Джоэл Потрикус',\n",
       " 'Дерек Сьянфранс',\n",
       " 'Леоне Маруччи',\n",
       " 'Г.Островский',\n",
       " 'П.Худяков',\n",
       " 'Джон Сталберг',\n",
       " 'Артюс де Пенгерн',\n",
       " 'Скотт Чарльз Стюарт',\n",
       " 'Диего Каплан',\n",
       " 'Роман Коппола',\n",
       " 'В.Барбэ',\n",
       " 'П.Пархоменко',\n",
       " 'Малкольм Д.Ли',\n",
       " 'Бруно Халлин',\n",
       " 'Джейсон Мур',\n",
       " 'хореография Мариуса Петипа',\n",
       " 'Такао Окамура',\n",
       " 'Ден Мазер',\n",
       " 'Эсбен Тофт Якобсен',\n",
       " 'Грач Кешишян',\n",
       " 'Филипп Леллуш',\n",
       " 'Пако Пласа',\n",
       " 'Тодд Филлипс',\n",
       " 'Йоахим Лафосс',\n",
       " 'Изуру Нарушима',\n",
       " 'Майкл Винник',\n",
       " 'Фолькер Шлендорф',\n",
       " 'Франк Халфун',\n",
       " 'Франк Гастамбиде',\n",
       " 'Джеймс ДеМонако',\n",
       " 'Джей Ананья',\n",
       " 'Роб Зомби',\n",
       " 'Никхил Адвани',\n",
       " 'Дэвид Баррет',\n",
       " 'Грег Гарт',\n",
       " 'Петер Несс',\n",
       " 'Роберт Швентке',\n",
       " 'Иван Атталь',\n",
       " 'М.Найт Шьямалан',\n",
       " 'Ксавье Долан',\n",
       " 'Терренс Малик',\n",
       " 'Вонг Кар Вай',\n",
       " 'Тьерри Гиллиам',\n",
       " 'Стефан Обье, Венсан Патар, Бенжамен Реннер',\n",
       " 'Стюарт Урбан',\n",
       " 'К.Лопушанский',\n",
       " 'Г.Курлаев, С.Морозов, В.Панжев, Н.Репина, К.Седухин, А.Щеглов, М.Сулейманова, М.Богдасаров, В.Зайкин, Н.Хлопецкая',\n",
       " 'М.Ильенко',\n",
       " 'Акива Шаффер',\n",
       " 'Лорен Скафария',\n",
       " 'Роберт Карсен',\n",
       " 'Люк Крессуел, Стив МакНиколас',\n",
       " 'Кодзи Вакамацу',\n",
       " 'Роб Хейдон',\n",
       " 'Эрик Ле Рош',\n",
       " 'Брайан Клагман, Ли Стернтал',\n",
       " 'Маркус Данстен',\n",
       " 'Энрике Гато',\n",
       " 'В.Москаленко',\n",
       " 'Агнес Мерле',\n",
       " 'Тони Гилрой',\n",
       " 'Тодд Линкольн',\n",
       " 'М.Саакян',\n",
       " 'Ланс Дэйли',\n",
       " 'Екатерина Еременко',\n",
       " 'Такаши Ямадзаки',\n",
       " 'Керн Секстон',\n",
       " 'И.Блохина',\n",
       " 'К.Серебренников',\n",
       " 'Джон Гулажер',\n",
       " 'Д.Алексеев',\n",
       " 'Джулиан Фарино',\n",
       " 'Саймон Вест',\n",
       " 'Кевин МакДональд',\n",
       " 'Дэвид Эйр',\n",
       " 'Эдуард Кортес',\n",
       " 'Ферзан Оспетек',\n",
       " 'Грэм Мерфи',\n",
       " 'Винсент Патерсон',\n",
       " 'Шон Андерс',\n",
       " 'Юрген Лердам, Кари Юуусонен',\n",
       " 'Стивен Брилл, Элизабет Бэнкс, Джеймс Ганн, Гриффин Данн, Джеймс Даффи, Стив Карр, Бретт Рэтнер, Питер Фаррелли, Патрик Форсберг ',\n",
       " 'Питер Луизи',\n",
       " 'Гленио Бондер',\n",
       " 'Мишель Таверна',\n",
       " 'К.Феоктистов',\n",
       " 'Начо Вигалондо',\n",
       " 'Вуди Аллен',\n",
       " 'Бернардо Бертолуччи',\n",
       " 'Квентин Тарантино',\n",
       " 'Бэз Лурман',\n",
       " 'Родриго Кортес',\n",
       " 'Сет МакФарлейн',\n",
       " 'Крис Миллер',\n",
       " 'Абель Феррара',\n",
       " 'Стивен Чбоски',\n",
       " 'В.Барбэ, М.Свешников',\n",
       " 'Стефан Рузовицки',\n",
       " 'Дэвид О.Расселл',\n",
       " 'Арам Раппапорт',\n",
       " 'Андрес Баиз',\n",
       " 'Стивен Сильвер',\n",
       " 'Фернандо Молина',\n",
       " 'Жалиль Леспере',\n",
       " 'Бен Зайтлин',\n",
       " 'Дэвид Кин',\n",
       " 'Доминик Тьелль',\n",
       " 'Тимо Вуоренсола',\n",
       " 'А.Федорченко',\n",
       " 'Эдуардо Санчес',\n",
       " 'Жак Одиар',\n",
       " 'Дэвид Палмер, Дэкс Шепард',\n",
       " 'Жан Рабек',\n",
       " 'Билле Аугуст',\n",
       " 'Брэдли Паркер',\n",
       " 'Жофрей Энтховен',\n",
       " 'Скотт Спир',\n",
       " 'Седрик Кан',\n",
       " 'Цутому Ханабуса',\n",
       " 'Николас Джареки',\n",
       " 'Саша Джерваси',\n",
       " 'Софи Леллуш',\n",
       " 'Витторио Тавиани, Паоло Тавиани',\n",
       " 'Пит Доктер, Дэвид Сильверман',\n",
       " 'Пит Доктер, Дэвид Силверман',\n",
       " 'Сильви Тестю',\n",
       " 'Хорхе Торрегросса',\n",
       " 'Анджелп Беттис, Элен Катте, Кааре Эндрюс',\n",
       " 'Ким Чжи Ун',\n",
       " 'Чжеки Чан',\n",
       " 'Том Вон',\n",
       " 'Майкл Тиддес',\n",
       " 'Ричард Ла Гравенес',\n",
       " 'Маниш Джа',\n",
       " 'Мэттью Эйкерс, Джефф Дюпре',\n",
       " 'Вейн Тонли',\n",
       " 'Г.Киракосян',\n",
       " 'К.Оганесян',\n",
       " 'Кэтрин Бингелоу',\n",
       " 'В.Суслин',\n",
       " 'Паскаль Эрольд',\n",
       " 'Эдуардо Шульдт',\n",
       " 'Крис Батлер, Сэм Фелл',\n",
       " 'Дэнни Муни',\n",
       " 'Шарль Оливье-Мишо',\n",
       " 'М.Козлов',\n",
       " 'Джонатан Левин',\n",
       " 'Тэйлор Хэкфорд',\n",
       " 'Н.Эген',\n",
       " 'Хуан Антонио Байона',\n",
       " 'Джон Льюсенхоп',\n",
       " 'Эндрю Стэнтон, Ли Ункрич',\n",
       " 'Пол У.С.Андерсон',\n",
       " 'Хуан Диего Соланас',\n",
       " 'Мабрук Эль Мекри',\n",
       " 'Бен Стассен',\n",
       " 'Джеймс Хант',\n",
       " 'Брайан Сингер',\n",
       " 'А.Мычко',\n",
       " 'Фишер Стивенс',\n",
       " 'Фернандо Мейреллиш',\n",
       " 'Тодд Солондз',\n",
       " 'Мартин Скорсезе',\n",
       " 'Джейми Брэдшоу, Александр Дулерайн',\n",
       " 'В.Панков',\n",
       " 'Паскаль Шомель',\n",
       " 'А.Мегердичев',\n",
       " 'С.Мокрицкий',\n",
       " 'Кимбл Рендалл',\n",
       " 'Дуглас Арниокоски',\n",
       " 'Кристофер МакКуори',\n",
       " 'Томми Виркола',\n",
       " 'Джон Кафка, Юн-сок Чхве',\n",
       " 'Том Лу',\n",
       " 'Цуй Харк',\n",
       " 'Сюзанна Биер',\n",
       " 'Е.Баранов',\n",
       " 'Бен Аффлек',\n",
       " 'Колин Треворроу',\n",
       " 'Бен Уитли',\n",
       " 'Джон Поликуин',\n",
       " 'Джон Хайамс',\n",
       " 'Лоран Тирар',\n",
       " 'В.Криштофович',\n",
       " 'Джон Эспинач, Рикардо Рамон',\n",
       " 'Дэвид Хорн',\n",
       " 'Дэвид МакВикар',\n",
       " 'Геннадий Тартаковский',\n",
       " 'Стефано Салвати',\n",
       " 'Йошихиро Нишимура, Наюки Томомацу',\n",
       " 'Джон МакИлдаф',\n",
       " 'Хоакин Ористрелл',\n",
       " 'Винсент Паронно, Маржан Сатрапи',\n",
       " 'Джеймс Напье Робертсон',\n",
       " 'Бенуа Делепин, Гюстав де Керверн',\n",
       " 'Джон Хилкоут',\n",
       " 'Сэм Мендес',\n",
       " 'Ли Дэниелс',\n",
       " 'Кертис Хэнсон, Майкл Эптид',\n",
       " 'Рич Мур',\n",
       " 'Кьюнг Хо Ли',\n",
       " 'Кристоф Оноре',\n",
       " 'Мэтт Росс',\n",
       " 'А.Артамонова',\n",
       " 'Тони Тэнг',\n",
       " 'Джим Филд Смит',\n",
       " \"Эндрю О'Коннор\",\n",
       " 'Габриэле Муччино',\n",
       " 'Кристиан Мунджиу',\n",
       " 'Керк Де Микко, Крис Сандерс',\n",
       " 'Пабло Бергер',\n",
       " 'Жиль Бурдо',\n",
       " 'Франческа Замбелло',\n",
       " 'Беппе де Томази',\n",
       " 'Жоан Фонт',\n",
       " 'Джойл Бродли',\n",
       " 'Маттео Гарроне',\n",
       " 'Питер Рэмси',\n",
       " 'Давид Шарон',\n",
       " 'К.Кемниц',\n",
       " 'Морис Бартелеми',\n",
       " 'Майкл Бэй',\n",
       " 'В.Мухаметзянов',\n",
       " 'Стивен Эллиот',\n",
       " 'Ли Анкрич, Эндрю Стентон',\n",
       " 'К.Оганисян',\n",
       " 'Эндрю Флеминг',\n",
       " 'Люк Жаке',\n",
       " 'Дин ДеБлуа',\n",
       " 'Жак Уаниш',\n",
       " 'Роберт Родригес',\n",
       " 'Даррен Аронофски',\n",
       " 'Дестин Креттон',\n",
       " 'Мариам Клеман',\n",
       " 'Ари Фольман',\n",
       " 'Карлос Салдана',\n",
       " 'Джеймс Грэй',\n",
       " 'К.Буслов',\n",
       " 'Патрик Ротман',\n",
       " 'Кристоф Ган',\n",
       " 'Г.Орлов',\n",
       " 'А.Кириллов',\n",
       " 'Микаэль Хофстрём',\n",
       " 'О.Каптур',\n",
       " 'С.Жигунов',\n",
       " 'Б.Худойназаров',\n",
       " 'А.Хван',\n",
       " 'Паоло Соррентино',\n",
       " 'Франк Хоф',\n",
       " 'Сатоси Мики',\n",
       " 'Джалиль Леспер',\n",
       " 'Каспер Хольтен',\n",
       " 'Франсуа Ханнс',\n",
       " 'А.Кананович',\n",
       " 'О.Массарыгин',\n",
       " 'Валерия Бруни-Тедески',\n",
       " 'Р.Ершов',\n",
       " 'Фанни Ардан',\n",
       " 'Патрик Хьюз',\n",
       " 'Кевин О.Хара. Хореография Кристофера Уилдона ',\n",
       " 'Герберт фон Караян. Постановка  Жоржа Вакевича',\n",
       " 'Сэм Данн, Скотт Макфадьен, Реджинальд Харкема',\n",
       " 'Джон Стокуэлл ',\n",
       " 'Рафаэль Фридман',\n",
       " 'Алекс Ван Вармердам',\n",
       " ...]"
      ]
     },
     "execution_count": 42,
     "metadata": {},
     "output_type": "execute_result"
    }
   ],
   "source": [
    "data['director'].unique().tolist()"
   ]
  },
  {
   "cell_type": "code",
   "execution_count": 43,
   "id": "478f5fb8",
   "metadata": {},
   "outputs": [
    {
     "data": {
      "text/plain": [
       "['Дэвид Валдес, Кевин Костнер, Джейк Эбертс',\n",
       " 'unknown',\n",
       " 'Джим Лемли, Джейсон Нетер, Марк Е.Платт, Яйн Смит',\n",
       " 'Джон Пенотти, Джон Туртурро',\n",
       " 'Патрис Леду',\n",
       " 'Патрик Кроули, Фрэнк Маршалл, Пол Сэндберг',\n",
       " 'Клинт Иствуд, Том Розенберг, Альберт С.Рудди, Пол Хаггис',\n",
       " 'Саймон Чэннинг Уильямс',\n",
       " 'Этчи Стро, Анни Стюарт, Майк Фиггис',\n",
       " 'Лесли Холлеран, Алан Лэдд мл., Келлиан Лэдд, Харви Вайнстайн',\n",
       " 'Норман Голуайтли, Энди Грош, Николас Кейдж, Эндрю Никкол, Крис Робертс, Филипп Русле',\n",
       " 'Филиппа Кемпбелл',\n",
       " 'Луис Дюкью',\n",
       " 'Чарльз Уэйнсток',\n",
       " 'Дэвид Киршнер, Майк Медэвой, Арнольд Мессер, Корей Сэйнья, Дэвид Твайтс',\n",
       " 'Норма Хейман, Боб Хоскинс',\n",
       " 'Лоуренс Гордон, Роберт Коулсберри, Ллойд Левин',\n",
       " 'Мэтью Пэйн, Джулия Пэло',\n",
       " 'Тодд Блэк, Элан Грейсман, Джереми Левен, Роб Райнер, Эли Самаха',\n",
       " 'Дженнифер Тодд, Сюзанн Тодд, Брэдли Дженкел, Энтони Катагас',\n",
       " 'Стивен Спилберг, Люси Фишер, Дуглас Уик, Джон Де Люка, Гэри Барбер, Роджер Бирнбаум',\n",
       " 'Франк Шоро, Сирил Кольбьё-Жюстен, Жан-Баптист Дюпон',\n",
       " 'Люк Бессон, Ариель Зейтун',\n",
       " 'Бини Барнс, Джозеф Дрэйк, Джон Линсон',\n",
       " 'Джон Балдеччи, Лоуренс Бендер, Кристофер Болл',\n",
       " 'Чак Уильямс',\n",
       " 'Тиль Швайгер',\n",
       " 'Исмаил Мерчант',\n",
       " 'Фил Срэйзер, Александра Фергюсон',\n",
       " 'Майкл Бёрнс, Марк Бутан',\n",
       " 'Джефри Бармаш, Кирк Шоу',\n",
       " 'Кларк Спенсер',\n",
       " 'Диана Оссана, Джеймс Шеймас, Ларри МакМертри, Скотт Фергюсон',\n",
       " 'Патрик Жимене, Эрик Хьюберт',\n",
       " 'Фэн Сяоган, Джон Чонг',\n",
       " 'Дэниел Дэлюм, Тома Лангманн',\n",
       " 'Ричард Н.Глэдстин',\n",
       " 'Дэйвид Баррон, Дэйвид Хейман',\n",
       " 'Дейвид Хейман',\n",
       " 'Майкл Барната',\n",
       " 'Брайан Грейзер, Ридли Скотт',\n",
       " 'Бранко Ластиг, Дэвид Францони',\n",
       " 'Грант Хеслов',\n",
       " 'Питер Хо-Сун Чан, Лоуренс Ченг',\n",
       " 'Дэйвид Хейман',\n",
       " 'Джей Коэн, Уэйн Моррис, Дэвид Си.Робинсон, Джеймс Джи.Робинсон',\n",
       " 'Эл Гиддингс, Дэвид Кларк',\n",
       " 'Пола Вагнер, Дон Гренджер',\n",
       " 'Том Гораи, Марк Сэмюэлсон, Питер Сэмюэлсон',\n",
       " 'Уилли Бэр, Эберхардт Кейзер,  Фрэнсис Форд Коппола, Том Льюз, Барри Оппер, Марио Охоувн, Линда Ризман',\n",
       " \"Кирк Д'Амико, Фрэнсис Форд Коппола, Том Льюз, Бобби Рок, Лукас Фостер\",\n",
       " 'Джерри Вайнтрауб',\n",
       " 'Брайн Ферст, Шон Ферст',\n",
       " 'Тим Беван, Джонатан Кэвендиш, Эрик Феллнер',\n",
       " 'Жан-Марк Дешам',\n",
       " 'Скотт Мойзер',\n",
       " 'Дана Брунетти, Майкл Де Люка, Кевин Спейси',\n",
       " 'Марк Джонсон, Линн Харрис',\n",
       " 'Джули Дёрк, Дэвид Ти.Фриндли, Блю Сен-Клер, Марк Тартлтауб',\n",
       " 'Мартин Брест',\n",
       " 'Майкл Лондон',\n",
       " 'Нил Хью Мориц',\n",
       " 'Майкл Флинн, Тоби Эммерих',\n",
       " 'Дуг Дейвисон, Рой Ли',\n",
       " 'Кристиан Баут, Крис Коэн, Хэмиш МакЭлпин, Андро Стейнборн',\n",
       " \"Дэвид О'Сакс\",\n",
       " 'Скотт Мойсер',\n",
       " 'Шарлотта Клей Хаггинс, Керолайн Ван Айсгем',\n",
       " 'Дан Джинк, Брюс Кохен, Джо Рот',\n",
       " 'Джейн Старц',\n",
       " 'Джеймс Джэкс, Рикардо Местрес',\n",
       " 'Брайан Линс, Пол Пармер, Майкл Серензи',\n",
       " 'Кис Касандер, Билл Хэйни',\n",
       " 'Дебора Форте, Билл Карраро',\n",
       " 'Хауард Болдуин, Моше Диамант',\n",
       " 'Ричард Глэдштайн, Патрик Краули',\n",
       " 'Тим Биван, Пол Вебстер, Эрик Феллнер',\n",
       " 'Мэтью Воэн',\n",
       " 'Йен Бленкин, Питер Джексон, Кэролайн Каннингэм, Фрэн Уолш',\n",
       " 'Барбара Брокколи, Михаэль Дж.Уилсон',\n",
       " 'Брайан Грэйзер',\n",
       " 'Андрэ Ламаль, Маркус Висиди',\n",
       " 'Ави Арад, Гейл Энн Хёрд',\n",
       " 'Ричард Гордо, Роберт Сайдуэй, Самуэль Хадида',\n",
       " 'Элизабет Карлсен. Стефен Вулли',\n",
       " 'Джон Эйч Уильямс',\n",
       " 'Паула Ванштейн, Джиллиан Горфилд, Грэм Кинг, Маршалл Хертсковиц, Эдвард Цвик',\n",
       " 'Роберт Де Ниро, Харди Джастис, Джейн Розенталь, Ричард Эйр',\n",
       " 'Питер Йен Браге, Майкл Манн',\n",
       " 'Питер Берг, Майкл Манн, Скотт Стьюбер',\n",
       " 'Дино Де Лаурентис, Марта Де Лаурентис',\n",
       " 'Кейс Кассандр',\n",
       " 'Дженнифер Тодд, Сюзан Тодд',\n",
       " 'Лауриа МакДоналд, Уолтер Ф.Паркес, Лойд филлипс',\n",
       " 'Крейг Задан, Нил Мерон, Алан Грейсман, Роб Райнер',\n",
       " 'Михаэль Калдуэлл, Джоди Паттон, Дэвид Хаггинс, Ричард Хьюттон',\n",
       " 'Джим Ван Вайк, Барри Зонненфельд, Скотт Рудин',\n",
       " 'Ален Сард',\n",
       " 'Лесли Диксон, Том Розенберг',\n",
       " ' Дитмар Ганше, Филипп Фогес,  Бенджамин Херрман, Миша Хоффманн, Эберхард Юнексдорф, Энн Мередит',\n",
       " 'Энди Коэн, Гари Лучези',\n",
       " 'Ришар Гранпьер, Симон Тротье',\n",
       " 'Алекс Гартнер, Эндрю Лазар, Чарльз Роувен',\n",
       " 'Стефан Арндт',\n",
       " 'Роберт С.Гарбер',\n",
       " 'Эктор Бабенко, Оскар Крамер, Хуго Сидмэн',\n",
       " 'Джон Ву, Чарльз Ровен, Дуглас Сегал, Теренс Чанг',\n",
       " 'Карстен Холст',\n",
       " 'Марк Абрахам, Карен Глессер, Кевин Мишер',\n",
       " 'Карен Элиза Болдуин, Ховард Болдуин, Мэйс Нойфелд, Стефани Остин',\n",
       " 'Дженнифер Джибго, Роберт Леви, Дебора дель Прете, Джиджи Прицкер, Питер Эбрамс',\n",
       " 'Джон Дэвис, Ирвинг Онг',\n",
       " 'Марк Ройбал, Скотт Рудин',\n",
       " 'Дональд Ди Лайн, Джонатан Крейн',\n",
       " 'Михаэль Андре, Реми Бура, Файт Хайдушка',\n",
       " 'Дженнифер Фокс, Майкл Нозик, Джордж Клуни',\n",
       " 'Филипп Бобер, Гельмут Грассер',\n",
       " 'Мэри Н.Алоэ, Кристиан Арнольд-Бютель, Алан де ла Мата, Кирк Шо',\n",
       " 'Ричард Д.Занук, Джон Логан, Лори МакДональд, Уолтер Паркс',\n",
       " 'Грегг Финберг, Марк Фрост, Тим Харберт',\n",
       " 'Гилберт Адлер, Роберт Земекис, Джоэл Сильвер',\n",
       " 'Нил Х.Морритц',\n",
       " 'Джон Фазано, Джон Хегеман, Уильям Шерак, Джейсон Шуман',\n",
       " 'Патрик Краули, Фрэнк Маршалл, Пол Сэндберг',\n",
       " 'Марк Джонсон',\n",
       " 'Б.Айрапетян',\n",
       " 'Альберт Ли, Джиан Джуо Жао',\n",
       " 'Донателла Ботти, Элизабетта Олми',\n",
       " 'Лоуренс Гордон, Ллойд Левин, Майк Ричардсон, Джо Рот',\n",
       " 'Лоуренс Гордон, Ллойд Левин, Майк Ричардсон',\n",
       " 'Эл Корлей, Юджин Муссо, Барт Розенблатт',\n",
       " 'Ларри Франко, Гейл Энн Хард',\n",
       " 'Люк Бессон',\n",
       " 'Дипак Найар, Мэри Суини, Том Штернберг',\n",
       " 'Мэттью Гросс, Дженнифер Тодд, Сьюзан Тодд',\n",
       " 'Боаз Дэвидсон, Джей Коен',\n",
       " 'Ян Де Бонт, Лукас Фостер',\n",
       " 'Джон Дэвисон, Майк Медавой, Арнольд Шварценеггер',\n",
       " 'Джон Шестак, Брэд Эпштейн',\n",
       " 'Майкл Агиляр',\n",
       " 'Нил Моритц,Эрик Фейг,Стокли Шафен',\n",
       " 'Дин Девлин, Марк Фрайдман',\n",
       " 'Ричард Эйр, Майкл Дрейер, Фрэнк Дулгер',\n",
       " 'А.Максимов, Н.Попов, Д.Файзиев',\n",
       " 'Брайан Грейзер, Рассел Кроу, Ридли Скотт',\n",
       " 'Тим Беван, Ллойд Левин, Эрик Феллнер',\n",
       " 'Кевин Кинг, Эви Лернер, Джон Томпсон, Кевин Кинг Темплетон',\n",
       " 'Паскаль Кочето',\n",
       " 'Кэтрин Бигелоу, Марк Боал',\n",
       " 'Эви Арад, Исаак Лариан, Стивен Пол',\n",
       " 'Клауди Горский, Энди Лэйтон, Лаурен Родон, Паскаль Родон',\n",
       " 'Эй Джей, Дикс Крис Бендер, Джей Си Спинк, Энтони Рулен',\n",
       " 'Эрик Альтмейер, Николя Альтмейер',\n",
       " 'Паула Мэй Шварц',\n",
       " 'Френсис Форд Коппола',\n",
       " 'Патрик Коул, Рик Юн',\n",
       " 'Виржини Силла, Люк Бессон, Пьер Спенглер',\n",
       " 'Билл Баннерман, Мартин Бауэн, Вик Годфри',\n",
       " 'Кей Барри, Тэд Кройбер',\n",
       " 'Дженнифер Глинн',\n",
       " 'Дейвид Баррон, Дейвид Хейман',\n",
       " 'Рене Бессон, Авэ Лернер, Дэнни Лернер',\n",
       " 'Квентин Кертис, Уильям Монахэн, Тим Хедингтон',\n",
       " 'Дэн Букатинский, Кэрол Кадди, Ноэль Лор',\n",
       " 'Петро Л.Серапиглия',\n",
       " 'Питер Чан, Хань Саньпин, Хуан Цзяньсинь',\n",
       " 'Рой Конли',\n",
       " 'Джорджо Мальюло, Патриция Масса',\n",
       " 'Джейсон Лау, Джулия Тейлор-Стенли, Джули Тэймор, Роберт Чартофф',\n",
       " 'Томас Циклер, Тиль Швайгер',\n",
       " 'Шери Брайант',\n",
       " 'Стивен Сиу',\n",
       " 'Дэниэл Бобкер, Эхерн Крюгер, Джеймс Г.Робинсон, Дэвид К.Робинсон',\n",
       " 'Питер Джексон, Кэтлин Кеннеди, Стивен Спилберг',\n",
       " 'Марк Абрахам, Эндрю Никкол, Эрик Ньюман',\n",
       " 'Мишель Литвак, Джон Палермо, Адам Сигел',\n",
       " 'Марк Абрахам, Эрик Ньюман',\n",
       " 'Джон Гордон, Виктор  Чой, Джейсон Кларк',\n",
       " 'Оливье Дебоск, Эрик Йехельманн, Марк Миссонье',\n",
       " 'Питер Блок, Дуг Манкофф, Майк Маркус, Эндрю Спаулдинг',\n",
       " 'Джейсон Блум, Орен Пели, Стивен Шнайдер',\n",
       " 'Дэвид Баррон, Дэвид Хейман',\n",
       " 'Дональд Де Лайн',\n",
       " 'Сьюзан Картсонис, Майкл Флинн',\n",
       " 'Тошио Сузуки, Соледад Гатти-Пасуаль, Фрэнк Маршалл',\n",
       " 'Уильям Конг, Хьюго Шонг',\n",
       " 'Мэттью Вон, Эдуардо Россофф, Крис Тикье',\n",
       " 'Вольфганг Бер, Дитмар Гюнче, Пиппа Кросс',\n",
       " 'Тим Биван, Крис Кларк, Эрик Феллнер',\n",
       " 'Дрю Феллман',\n",
       " 'Джефф Калотта, Сара де Са Рего, Ричард Келли',\n",
       " 'Хелен Линдхольм, Дэниэл Андерссон, Кристина Аберг',\n",
       " 'Мария Копф',\n",
       " 'Брюс Вуд, Скотт Пойли',\n",
       " 'Бигас Луна, Педро Пастор',\n",
       " 'Мелисса Парментер, Майкл Уинтерботтом',\n",
       " 'Синье Дженсен, Ларс Бредо Рабек, Бо Эрхардт',\n",
       " 'Ла Скала',\n",
       " 'Джиглиола Барбьери, Паоло де Биаси',\n",
       " 'Кристиан Клавье, Франко Крауз, Денис Пино-Валенсьенн',\n",
       " 'Моррис Полстон, Мэтью Питерман',\n",
       " 'Стефани Остин',\n",
       " 'Тимур Бекмамбетов, Тим Бертон, Джим Лемли',\n",
       " 'Тим Бивен, Лайза Чейзин, Эрик Феллнер, Стив Голин, Майкл Шугар',\n",
       " 'Лоренцо Ди Бонавентура, Марк Варадьян',\n",
       " 'Дэвид Грумбах, Жан-Жак Нейра, Марко Черквуй',\n",
       " 'Рене Эзра, Томас Радур, Ким Магнуссон',\n",
       " 'Майкл Барнатан, Брансон Грин, Крис Коламбус',\n",
       " 'Дэвид Гроувс',\n",
       " 'Фэй Уорд, Карл Клифтон, Питер Рэйвен и др.',\n",
       " 'Скотт Прайсенд, Адам Шенкман',\n",
       " 'Кэтрин Сарафьян',\n",
       " 'Джудд Апатоу, Родни Ротман, Николас Столлер',\n",
       " 'Люк Бессон, Энди Харрис, Вирджиния Сила,Жан Тодт',\n",
       " 'Джереми Томас, Тиана Александра, Питьер Уотсон',\n",
       " 'Сван Анджелски, Майкл Карлин',\n",
       " 'Лаура Империале, Патрисио Линч, Родриго Ортузар Линч, Жайме Солис',\n",
       " 'Аугусто Греко, Хуан Ловече',\n",
       " 'Сильвио Коста, Александр Кутиньо, Флавио Р.Тамбеллини',\n",
       " 'Карлос Анайя, Мигель Асенсио, Пабло Курар',\n",
       " 'Уэс Андерсон, Джереми Даусон, Стивен Рейлс, Скотт Рудин',\n",
       " 'Ли Грумбридж, Маркус Льялл',\n",
       " 'Синема Лайв',\n",
       " 'Герберт Чаппелл',\n",
       " 'Сэм Мерсер, Палак Патель, Джо Рот',\n",
       " 'Джо Карнахан, Ридли Скотт, Тони Скотт ',\n",
       " 'Джиллиан Берри, Брайан Коффи, Венди Гриффин',\n",
       " 'Паулу Бранку',\n",
       " 'Анджелс анд Эйрвейс, Дэн Фигур',\n",
       " 'Ричард Грандпьерр',\n",
       " 'Майкл Шамберг, Стейси Шер, Тиш Сайрус',\n",
       " 'Трипп Винсон, Бо Флинн, Шарлотта Хаггинс',\n",
       " 'Скотт Аверсано, Скотт Стубер, Марк Д.Эванс',\n",
       " 'Д.Файзиев, Ф.Бондарчук, И.Бачурин',\n",
       " 'Г.Малков',\n",
       " 'С.Сельянов',\n",
       " 'Хильмар Сигурдссон, Арнар Троиссон',\n",
       " 'Берни Голдман, Райан Кэвэно, Бретт Ратнер',\n",
       " 'Дон Хан',\n",
       " 'В.Карев',\n",
       " 'В.Зверев, М.Линьков',\n",
       " 'В.Добросоцкий',\n",
       " 'А.Крутов, Л.Кашин',\n",
       " 'ООО \"Квартал Леополис\", ООО \"ПЦ \"Горад\"',\n",
       " 'П.Лунгин, Е.Панфилов',\n",
       " 'Линдси Коллинз, Джим Моррис, Колин Уилсон',\n",
       " 'Грэхэм Броадбент, Питер Чернин',\n",
       " 'Нина Джейкобсон, Джон Килик',\n",
       " 'И.Неретин, Д.Куликов, Т.Сергейцев',\n",
       " 'Джесси Сколаро',\n",
       " 'Эрнест Риера, Патрик Фишер',\n",
       " 'Дэвид А.Хьюз',\n",
       " 'Тодд Филлипс',\n",
       " 'Арио Саганторо, Ранга Майя Барак-Эванс, Натаниель Болотин',\n",
       " 'Сун-ку Ким, Эун Ли',\n",
       " 'Фабрис Гольдштейн',\n",
       " 'Аллан Нибло, Джеймс Ричардсон',\n",
       " 'Такер Тули',\n",
       " 'С.Грибков, Ю.Бахшиев',\n",
       " 'Саша Барон Коэн, Алек Берг, Дэвид Мэндел',\n",
       " 'Тьерри Марро',\n",
       " 'Тони Майерс',\n",
       " 'Марк Д. Эванс, Тревор Мэйси, Аарон Райдер',\n",
       " 'Нина Кроун, Энрике Ферн',\n",
       " 'Бинго Губельман',\n",
       " 'Ален Крюгер',\n",
       " 'Филипп Алессандри',\n",
       " 'Мирей Сория, Марк Свифт',\n",
       " 'Пьер Ивен, Мари-Клод Пулин, Николя Копперманн',\n",
       " 'Сайс Уилсон',\n",
       " 'ООО \"Квартал Леополис\"',\n",
       " 'Джордж Джонсен, Лоуренс Казанофф, Элисон Сэвич, Джошуа Уэкслер, Роберт Энгелмен',\n",
       " 'Кортни Соломон, Моше Дайамант, Йорам Барзилай',\n",
       " 'А.Цекало, Р.Сорокин',\n",
       " 'Джон Дэвис, Адам Шредер',\n",
       " 'М.Коропцов, А.Бирюкова, Е.Горбунова, В.Яковлев',\n",
       " 'Эмилио Диез Баррозо, Джессика Элбаум, Уилл Феррелл, ЭдамМакКей',\n",
       " 'Анита Шиэн, Винсент Шиэн',\n",
       " 'Ким Вон-Бум, Сонг Лак-Хиун, Ким Хиун-Чеол, Чой Ох-Шин',\n",
       " 'Габриэлла Тана, Джулия Тейлор-Стэнли, Колин Вэйнс',\n",
       " 'Крис Тикье, колин Вэйнс, Скотт Франклин',\n",
       " 'Н.Гостюшина',\n",
       " 'А.Новиков при участии Ар.Новикова',\n",
       " 'Френсис Форд Копола',\n",
       " 'Грегори Джэйкобс',\n",
       " 'Тарак Бен Аммар, Наофил Бен Йозеф, Ксавьер Кастано ',\n",
       " 'Френсис Мантелло',\n",
       " 'Джордж Клуни, Грант Хеслов',\n",
       " 'Мэл Гибсон, Брюс Дэвей, Стэйси Перски',\n",
       " 'Томас Кониглиаро, Томаш Сас, Агнес Фернандез, Питер Энгерт, Кристина Эндрейни',\n",
       " 'Домиан Джонс',\n",
       " 'Джеймс Камерон, Джон Ландау',\n",
       " 'Д.Смелянский',\n",
       " 'Жан-Пьер Дарденн, Люк Дарденн, Дэнис Фрейд',\n",
       " 'Тим Хидингтон, Анджелина Джоли, Грэм Кинг, Тим Мур',\n",
       " 'Зигфрид',\n",
       " 'Питер Фок',\n",
       " 'Питер Берг, Брайан Голднер, Сара Обри',\n",
       " 'Тодд Либерман, Дэвид Хоберман',\n",
       " 'Стивен Джей Кеннел, Нил Эйч Мориц',\n",
       " 'Карл Баумгартнер, Радим Джейнс, Танассис Каратанос, Ярослав Кучера',\n",
       " 'Йохен Лаубе, Фабиан Маубах, Михаэль Юнгфляйш',\n",
       " 'Николас Дювал-Адассовский, Лоран Зейтун, Янн Зену',\n",
       " 'Кристи Дембровски, Джонни Депп, Ричард Д.Занук, Дэвид Кеннеди, Грэм Кинг',\n",
       " 'Кевин МакКормик, Дэниз ДиНови',\n",
       " 'Тайлер Дэвидсон',\n",
       " 'Томас Дж. Мэнгэн IV, Гийс ван де Вестелакен',\n",
       " 'Марк Либерт, Лейла Смит, Люк Бессон',\n",
       " 'Эйити Камагата, Мицуру Осима, Акира Симада, Эйко Танака',\n",
       " 'Е.Борисовна',\n",
       " 'Пол Брукс, Дэн Клифтон, Питер Сафран',\n",
       " 'Пол Андерсон, Джереми Болт',\n",
       " 'Лори МакДональд, Уолтер Ф.Паркс',\n",
       " 'Дэвид Гайлар, Ридли Скотт, Уолтер Хилл',\n",
       " 'Майк Медавой, Арнольд Мессер, Дэвид Туэйтес',\n",
       " 'Г.Шадур',\n",
       " 'Джей Ван Хой, Брэйден Кинг, Дэни Валент',\n",
       " 'Лаура Бикфорд, Бенисио Дель Торо',\n",
       " 'Сержи Касамитьяна',\n",
       " 'Фабио Конверси, Джованни Стабилини, Марко Хименц',\n",
       " 'Пол Гросс, Роб Коттерилл, Фрэнк Сиракуза, Нив Фичман',\n",
       " 'Питер Балм, Руперт Джермин, Ричард Джонс',\n",
       " 'Майкл Гарлэнд, Астрид Камке, Филипп Кройцер',\n",
       " 'Дженни Гилбертссон, Сюзанна Тайгер',\n",
       " 'Джош Гриффит, Фрэнсис Форд Коппола, Джим Хэйс',\n",
       " 'Корнелиус Конрад, Бенжамин Херрманн, Борис Шёнфельдер',\n",
       " 'Лоуренс Бендер, Дэна Брунетти, Стив Чэсмэн',\n",
       " 'Сара Кертис, Дэвид М.Томпсон, Джулия Стэннард',\n",
       " 'Жан Коттин',\n",
       " ' Мишель Чиджик, Джефф Абберли, Натали Марисано',\n",
       " 'Эрик Хеммендорф, Джессика Аск, Филипп Бобер',\n",
       " 'М.Балашова, Е.Миронов',\n",
       " 'Марианна Слот, Дэниэл Блум, Малгожата Шумовска',\n",
       " 'Т.Яковенко',\n",
       " 'Тим Беван, Эрик Феллнер, Робин Слово',\n",
       " 'Вик Годфри, Стефани Майер, Карен Розенфельт',\n",
       " 'Дэн Абрамс, Сидни Киммел, Гари Лучези',\n",
       " 'Кен Даурио, Кристофер Меледандри, Джанет Хили',\n",
       " 'Гэри Барбер, Роджер Бирнбаум, Джонатан Гликман, Пол Таублиб',\n",
       " 'Е.Борисова',\n",
       " 'Буркхард Альтофф, Николаус Гейрхальтер',\n",
       " 'М.Чурбанов, П.Бабин',\n",
       " 'Джим Бёрк, Александр Пэйн, Джим Тэйлор',\n",
       " 'Кончита Айрольди, Уберто Пазолини',\n",
       " 'Дон Кармоди, Дэвид Гросс',\n",
       " 'А.Тельнов',\n",
       " 'Люк Роуг',\n",
       " 'Брайан Грейзер, Билл Карраро, Эдди Мерфи',\n",
       " 'П.Ануров, Ф.Бондарчук, Д.Рудовский',\n",
       " 'Саид Бен Саид',\n",
       " 'Ричард Джексон, Брайан Оливер, Саймон Оукс',\n",
       " 'Квирин Берг, Макс Видерманн',\n",
       " 'Стив Андерсон, Терри Блэйм, Стефан Диметриу, Том Колбоурн, Билл Лорд,  Кайли Миноуг ',\n",
       " 'Крис Кларк, Эндрю Лоу',\n",
       " 'Саймон Кинберг, Брент О.Коннор, Роберт Саймондз ',\n",
       " 'Антонио Кампос, Патрик Каннингэм, Крис Майбах',\n",
       " 'Марк Башет, Амра Баксис Камо, Седомир Колар, Мирзад Пуриватра',\n",
       " 'Крис Мур, Крэйг Перри',\n",
       " 'Риза Азиз, Джошуа Астрачан, Дженнифер Уэстфелд ',\n",
       " 'Лори Борг, Умберто Пазолини, Саймон Фуллер',\n",
       " 'Эйн Каннинг, Эмиль Шерман, Питер Хэмпден',\n",
       " 'Джордж Лукас, Рик Макколлум',\n",
       " 'Джеффри Клиффорд, Дэниел Дубиски, Иван Рейтман, Джейсон Рейтман',\n",
       " 'К.Шахназаров, Г.Шадур',\n",
       " 'Тома Лангманн, Эммануэль Монтамат, Джернми Бурдек',\n",
       " 'Бэзил Айваник, Полли Джонсон',\n",
       " 'Роберт Бернштейн, Дуглас Рэй, Пол Ричи',\n",
       " 'Жорж Берманн, Фредерик Нидермайер',\n",
       " 'А.Козлов, Д.Спиваковский, А.Федунов, Д.Коскин, М.Винчель',\n",
       " 'Сирил Колбо-Жустин, Жан-Баптист Дюпон',\n",
       " 'Диабло Коуди, Мэйсон Новик, Джейсон Ритмэн, Рассел Смит',\n",
       " 'Ашок Антритрадж, Ари Арад, Ави Арад, Стивен Паул, Майк Де Люк',\n",
       " 'Дэвид Парфитт',\n",
       " 'Тим Беван, Бальтазар Кормакур, Эрик Феллнер',\n",
       " 'Кристин Гозлан, Клод Нуридзани, Мари Перену',\n",
       " 'Джейсон Кларк, Джосс Уидон',\n",
       " 'Тодд Гарнер, Джек Джарапутто, Адам Сэндлер',\n",
       " 'Эд Каннингэм, Сет Гордон',\n",
       " 'Стивен Кижак, Миа Бэйз, Элизабет Роуз',\n",
       " 'Дункан МакНили',\n",
       " 'Антония Барнард, Гари Хэмильтон',\n",
       " 'Брайан Грейзер, Роберт Лоренц',\n",
       " 'Марианн Грэй, Асле Ватн',\n",
       " 'Кевин Фейдж',\n",
       " 'Джули Локхарт, Питер Лорд, Дэвид Спрокстон',\n",
       " 'Жан Дюжарден, Марк Дюжарден, Эрик Ханнецо',\n",
       " 'Джанетт Бьюрлинг, Мэттью И.Чёсси',\n",
       " 'Бреде Ховланд',\n",
       " 'Роб Кауэн, Норман Рейсс',\n",
       " 'Пол Уэбстер, Закария Алауи, Ники МакКаллум',\n",
       " 'Венди Файнерман',\n",
       " 'Джастин Берш, Брэд Кревой, Патрик Ньюэлл',\n",
       " 'Пол томас Андерсон',\n",
       " 'Джудд Апатоу, Бэрри Мендел, Клэйтон Таунсэнд',\n",
       " 'Филипп Бобер, Александр Бор, Сюзанна Мэриэн',\n",
       " 'Мартин Сандлэнд, Хьюго Хагеманн Фескер, Арье Хейденстром',\n",
       " 'Зак Галифианакис, Адам МакКей, Джей Роач, Уилл Фаррелл',\n",
       " 'Джоди Маттерсон',\n",
       " 'Эрик Бенц, Корнелиус Конрад, Борис Шёнфельдер',\n",
       " 'Марк А.З. Диппе, Янгки Ли, Эш Р.Шах, Даниэль Шуба',\n",
       " 'Лиз Глоцер, Кэрол Фучс, Мартин Шэфер',\n",
       " 'Дэниэл Марк Дрейфус, Пабло Ларрейн, Хуан де Диос Ларрейн',\n",
       " 'Михаэль Андре, Филипп Бобер, Ульрих Зайдль',\n",
       " 'Клаус Бойе, Детлеф Бук, Петер Виртензон',\n",
       " 'Петер Аальбег Енсен, Ларс Йонссон, Анна Энтони',\n",
       " 'Такио Ёсида, Такеши Китано, Масаюки Мори',\n",
       " 'Конвой Чан Чи-Чун, Эндрю Оои',\n",
       " 'С.Зернов, С.Кучмаева',\n",
       " 'Юсаф Бохари, Ксимо Перез, Адам Ричман',\n",
       " 'Клаудио Амендола, Роберто Манни, Франческа Нери',\n",
       " 'Мохамед Асли, Джулио Виолати, Сильвия Натили, Розанна Тау, Джованна Эмиди',\n",
       " 'Элисон Клэймен, Адам Шлеззингер',\n",
       " 'Мьонг-гай Чой',\n",
       " 'Эдриан Броуди, Кайл Мэнн, Ной Сигал',\n",
       " 'Никола Бок, Жан Филипп Ланж',\n",
       " 'Джо Рот',\n",
       " 'Кристиан Бауте, Финола Двайер, Стюарт Маккиннон',\n",
       " 'Т.Бекмамбетов, И.Стромилова',\n",
       " 'Тодд Гарнер, Кевин Джеймс',\n",
       " 'Джон Лассетер, Дон Хан',\n",
       " 'Пол Уэбстер, Стюарт Форд, Гай Хили',\n",
       " 'Джерри Дэвис, Лори Форте, Джеймс В.Харт',\n",
       " 'Агустин Альмодовар, Эстер Гарсия, Диего Пахуэло',\n",
       " 'Ребекка О.Брайэн',\n",
       " 'Мартин Мариньяк, Альберт Превост, Морис Тиншант',\n",
       " 'Марк Абрахам, Томас А.Блисс, Эрик Ньман',\n",
       " 'Том Блиенингер, Маркус Зиммер, Роберт Марсиньяк, Феликс Фуксштайнер, Катарина Шеде',\n",
       " 'Тим Бертон, Денис Ди Нови',\n",
       " 'Эндрю Адамсон',\n",
       " 'Зейн Вайнер, Питер Джексон, Каролинн Каннингем, Фрэн Уолш',\n",
       " 'Ф.Попов',\n",
       " 'Р.Давлетьяров, А.Котелевский',\n",
       " 'Женевьев Лемаль, Джимми Прайс, Эдуардл Уэйл',\n",
       " 'Мартин Сандланд, Арье Хейденстром',\n",
       " 'Чартес-Мари Антониоз, Джордан Гертнер, Дэвид Зандер, Крис Хенлей',\n",
       " 'Русудан Чкония, Тинатин Чкония',\n",
       " 'Такио Ёсида, Масаюки Мори',\n",
       " 'Боб Мерсер',\n",
       " 'Г.Шпригов',\n",
       " 'Джейсон Блум, Орен Пели',\n",
       " 'Шарль Жийибер, Ребекка Йелдхэм, Натанаэль Кармиц',\n",
       " 'Рэм Бергман, Лукас Смит, Джеймс Д.Штерн',\n",
       " 'ООО \"Ералаш\"',\n",
       " 'Джэми Кармайкл, Арабелла Пейдж Крофт, Киран Паркер',\n",
       " 'Стефан Арндт, Лана Вачовски, Энди Вачовски, Александр Роднянский, Том Тыквер',\n",
       " 'Райан Кэвэна, Тодд Либерман, Джейсон Фелтс, Дэвид Хоберман',\n",
       " 'Тайлер Бейтс',\n",
       " 'Вин Дизель, Нил Х.Мориц, Клэйтон Таунсенд',\n",
       " 'Дилан Кларк, Джозеф Косински, Дункан Хендерсон',\n",
       " 'Джейсон Бейтман, Скотт Стубер, Памела Эбди',\n",
       " 'Майкл Лобелл, Роб Пэрис, Адам Рипп',\n",
       " 'Трип Винсон, Бо Флинн, Кевин Халлоран',\n",
       " 'Тим Биван, Камерон Макинтош, Эрик Феллнер',\n",
       " 'Джон Уоллес',\n",
       " 'Иян Ван, Альберьт Енг,Питер Лам, Гуанцюань Лю, Даи Сонг, Саньпин Хань, Ван Чжунцзюнь',\n",
       " 'Ю.Матяш',\n",
       " 'Грэхэм Броадбент, Мартин МакДона, Питер Чернин',\n",
       " 'Паули Пентти, Лииза Пенттила',\n",
       " 'А.Учитель, К.Саксаганская, Г.Малков, В.Зеленский, С.Шефир, Б.Шефир, А.Яковлев',\n",
       " 'Э Мультимедиа Еуроп Филм, Э Мэфилм Дайлог Студио, Мокер Продакшн, Куин Филмз Презент',\n",
       " 'Пьеро Маранчи',\n",
       " 'Тим Дойрон, Эйприл Маллен',\n",
       " 'А.Осмоловский, А.Сильвестров, Г.Алейников',\n",
       " 'Томас Винтерберг, Сиссе Граум Олсен',\n",
       " 'Стефани Майер, Пола Мэй Шварц',\n",
       " 'Джерерд Батлер, Марк Гилл, Эд Кэйтелл третий',\n",
       " 'Брюс Кэмпбелл, Сэм Рейми, Роберт Джи Таперт',\n",
       " 'Сержи Касамитхана, Лита Ройг, Анца Серра',\n",
       " 'Франческо Джиамматтео, Бруно Песери',\n",
       " 'Вальдбюне Театр',\n",
       " 'Ковент Гарден',\n",
       " 'Йан Бремм, Бернд Хелтхалер, Элмар Швинн',\n",
       " 'Евгения Тирдатова, Дмитрий Куликов, Илья Неретин, Тимофей Сергейцев',\n",
       " 'Паскаль Арнольд, Жан-Марк Барр',\n",
       " 'Джон Гау, Стефан Сегаллер, Пол Сен',\n",
       " 'Грэхэм Броадбент',\n",
       " 'Хартли Горенштейн, Дон Кармоди, Сэмюэл Хадида',\n",
       " 'Ким Кйон Хи',\n",
       " 'Е.Степанищева, Е.Семин, А.Плотников, З.Болотаев, П.Гудков, В.Огай',\n",
       " 'Армийан Бернстейн',\n",
       " 'Хервасио Иглесиас, Инти Херрера',\n",
       " 'Ник Хилл',\n",
       " 'Марти Бауэн, Вик Годфри, Рейд Каролин, Ченнинг Татум',\n",
       " 'Н.Смирнова',\n",
       " 'Кевин Кинг Темплтон, Джон Томпсон, Лес Уэлдон',\n",
       " 'Кейт Майерс, Джеймс Мартин',\n",
       " 'Джозеф Седар, Леон Эдери, Моше Эдери',\n",
       " 'Сандро Агиляр, Луис Урбано, Марен Эд',\n",
       " 'Микаэль Вебер, Флориан Корнер фон Густорф',\n",
       " 'Джессика Коллдуэл',\n",
       " 'Франческа Бокка, Ладис Занини, Давид Феррарио',\n",
       " 'Г.Малков, С.Андреасян, Г.Андреасян, В.Поляков',\n",
       " 'Филлип Глассер, Люк Кэрролл, Катрин Уиндер',\n",
       " 'Энн-Мари Желина, Пьер Ивен, Мари-Клод Пулен',\n",
       " 'Эдуард Вейл',\n",
       " 'Йонас Черник',\n",
       " 'Элтон Брэнд, Гарри Кнапп, Ками Нахди',\n",
       " 'Тома Лангманн, Эммануэль Монтамат',\n",
       " 'Ален Аттал',\n",
       " 'Алессандро Бонифаци, Давид Манули, Бруно Триббиоли',\n",
       " 'Т.Семенов, Р.Атамалибеков',\n",
       " 'Джейсон Блум, Жанетт Брилл, Брайан Кэвэна-Джонс',\n",
       " 'Р.Давлетьяров, Г.Сарсенова, А.Котелевский',\n",
       " 'Тьери Дахер, Меган Клеари',\n",
       " 'Хэльге Альберс, Мари-Тереза Гуирис, Ларс Надсен, Джей Ван Хой',\n",
       " 'Петер Блок, Хел Либерман, Арон Рудер',\n",
       " 'И.Лебедев, М.Рыжих, С.Ткачев',\n",
       " 'Г.Нерсисян, А.Манасарян, А.Нерсесян',\n",
       " 'Альваро Лонгория, Лорен Боден, Дидар Домери, Гаэль Ноуэлль, Фабьен Писани',\n",
       " 'Шарль-Мари Антониоз, Грегори Бернар',\n",
       " 'Сьюзан Каван, Ди Джей Карсон, Сара Полли, Дэвид Сандомьерски',\n",
       " 'Андреа Борелла, Эцио Греджо',\n",
       " 'Дэниэл Фриделль, Ингемар Йоханссон',\n",
       " 'Фуджио Мацусима, Ёшихиро Масуда',\n",
       " 'Стефан Гертнер, Артур Кон, Кристоф Мейер-Виль',\n",
       " 'Тайлер Дэвидсон, Крейг Зобель, Софи Лин, Лиза Мускат, Тео Сена ',\n",
       " 'Брайан Белл, Тодд Блэк, Гаймон Кеседи',\n",
       " 'Бертран Бонелло, Кристина Ларсен',\n",
       " 'Рори Кеннеди, Стэнли Ф. Бушталь, Лиз Гарбус',\n",
       " 'Чжан Вэйпин, Чауинг Денг, Уильям Конг',\n",
       " 'Лоренцо Ди Бонавентура, Брайан Голднер',\n",
       " 'Дик Маас, Том де Моль',\n",
       " 'Гюнтер Рорбах, Корина Эйх',\n",
       " 'А.Морозов, В.Орел',\n",
       " 'Дэн Лин, Кевин МакКормик, Майкл Тадросс',\n",
       " 'Дж.Майлз Дэйл, Кристина Лера, Барбара Мускетти',\n",
       " 'Тошиаки Наказава',\n",
       " 'Джон С.Донкин, Лори Форте',\n",
       " 'Амандин Било, Ален Шаба, Кристин Руксель',\n",
       " 'Нил Х.Мориц, Дж. Х.Уаймер',\n",
       " 'А.Учитель',\n",
       " 'Эрик Жюран, Матиас Рубин, Кристоф Сервони',\n",
       " 'Ааге Ааберге, Кристоф Дэниэл, ДЖереми Томас',\n",
       " 'Ковент-Гарден',\n",
       " 'Австралийская опера',\n",
       " 'Карл Баумгартнер, Рейнхард Брюндиг, Аки Каурисмяки',\n",
       " 'Ави Арад, Лора Зискин, Мэттью Толмак',\n",
       " 'В.Есинов',\n",
       " 'Жан Лабади, Карлос Рейгадас, Хайме Романдиа',\n",
       " 'Рори Аиткен, Брайан Кэвэна-Джонс, Бен Паг',\n",
       " 'Л.Верещагин, А.Златопольский, Н.Михалков',\n",
       " 'Бернард Беллью, Дэнни Бойл, Кристиан Колсон',\n",
       " 'Нил Эйя Мориц, Тоби Яффе',\n",
       " 'М.Тодоровская',\n",
       " 'Ген Фуканага',\n",
       " 'Ран Трондсен',\n",
       " 'Кэтлин Кеннеди, Джонатан Кинг, Стивен Спилберг',\n",
       " 'Алекс Гарленд, Эндрю МакДоналд',\n",
       " 'Карл Ричардс, Эдриан Политовски, Джонатан Вэнгер',\n",
       " 'Джером Джоунс, Дж.Кристофер Оуэн, Маркус Хьюстон',\n",
       " 'Стив Бауэн, Билл Блок, Рэндолл Эмметт',\n",
       " 'Марк Магидсон',\n",
       " 'Джеффри Джампол, Мэт Фридмен',\n",
       " 'Стефано Джентили, Андреа Пичиони, Мирко Самаранда, Франческа Спарако',\n",
       " 'Эрика Вителлоззи, Франко Консолани',\n",
       " 'Сэм Рэйми, Роберт Тейперт, Джей Р.Янг, ',\n",
       " 'В.Коханович',\n",
       " 'Роксанна Бенжамин, Гари Бинкоу',\n",
       " 'Тодд Арноу, Мориц Борман, Эрик Копелофф',\n",
       " 'Билли Кристал, Саманта Спрешер, ПИтер Чернин',\n",
       " 'Осман Сёнмез',\n",
       " 'Стивен Вулли, Элизабет Карлсен, Мануэль Майкл, Дэвид Фэйгенблюм',\n",
       " 'Майкл Лондон, Дженис Уильямс, Жослин Хэйес',\n",
       " 'Владимир Анастасов, Срджан Драгоевич',\n",
       " 'Деде Гарднер, Пола Мэй Шварц, Стив Шварц',\n",
       " 'В.Малышев, А.Малышев',\n",
       " 'Омурзак Толобеков',\n",
       " 'Альфред Гофф, Александра Милчен, Майлз Миллар',\n",
       " 'С.Дружинина',\n",
       " 'Р.Борисевич',\n",
       " 'Грег МакГиливрэй, Шон МакГиливрэй',\n",
       " 'С.Бурнашев',\n",
       " 'Лори МакДоналд, Уолтер Ф.Паркес, Джек Рэпк, Роберт Земекис',\n",
       " 'Маркус Артур, Мартин Поуп, Майкл Роуз',\n",
       " 'Скотт Бёрнс, Лоренцо Ди Бонавентура, Грегори Джейкобс',\n",
       " 'Джеффри Грауп, Майкл Луизи, Майкл А.Хелфант',\n",
       " 'Энтони Брегман, Д.В. Де Винсентис,, Рэндолл Эмметт',\n",
       " 'Даррен Голдберг, Джеймс Грейвз, Рамаа Мосли',\n",
       " 'Даррен Линн Боусман, Ричард Саперштейн, Джон М.Экерт',\n",
       " 'Кристофер Меледандри, Джаннет Хили',\n",
       " 'Гэрри Блэкберн, Норман Кук, Селия Мор, Джастин Риз, Джейсон Хокинг',\n",
       " 'Нэнси Грант, Сильвен Корбелл',\n",
       " \"Валери д'Отей, Андре Руле\",\n",
       " 'Зеус Замани, Кристофер Б.Стоукс',\n",
       " 'Альберт Бергер, Роберт граф, Рон Йеркса',\n",
       " 'Лорен Мунш, Брайс Даль Фарра, Клод Даль Фарра',\n",
       " 'Жан-Пьер Герен, Кристина Ларсен',\n",
       " 'Иджинио Страффи',\n",
       " 'Ганс С.Риттер',\n",
       " 'Кевин Лоудер, Дэвид Окин, Роза Ромеро',\n",
       " 'Дик Каррутерс, Джим Персонс',\n",
       " 'Алсон Грист',\n",
       " 'Хайно Декерт',\n",
       " 'Талли Гарнер',\n",
       " 'Гори Хан',\n",
       " 'ООО \"Фаст Муви Продакшн\"',\n",
       " 'Кевин Фейджи',\n",
       " 'Евгений Гиндилис, Хайно Декерт, Йос Стеллинг',\n",
       " 'Майк Дауни, Катрин Дюссар, Кеес Касандер',\n",
       " 'Мей Юн',\n",
       " 'Мартин Розенбаум, Софи Файнс, Кэти Холли',\n",
       " 'Дж.Дж.Абрамс, Брайан Берк, Роберто Орси, Алекс Куртцман, Дэймон Линделоф',\n",
       " 'Рональд Мюльфельнер',\n",
       " 'Росс Оттерман',\n",
       " 'Дуэйн Джонсон, Найджел Синклер',\n",
       " 'Марти Бауэн, Вик Годфри, Райан Кэвэна',\n",
       " 'Дэвид Пуаро',\n",
       " 'Хервасио Иглесиас, Хосе Антонио Фелес',\n",
       " 'Хонг Ким',\n",
       " 'Хироюки Икеда, Митсухиса Ишикава, Кацзуя Хамана',\n",
       " 'Такафуми Ватанабэ, Такуя Ито, Сэйдзи Окуда, Юитиро Сайто, Нодзому Такахаси ',\n",
       " 'Такаши Ватанабэ, Такуя Ито, , Юихиро Саито',\n",
       " 'Масахито Аринага',\n",
       " 'Магдалена Баргел, Хью Велчман',\n",
       " 'Уэйн Марк Годфри, Питер Сафран, Райан Хайдариан',\n",
       " 'Ким Ки-Дук',\n",
       " 'Ким Ву Тэк, Ким Ки-Дук, Кин Сун Мо',\n",
       " 'Режи Арно, Шоре Голпарян',\n",
       " 'Макул Вигерт, Джон Лассетер',\n",
       " 'Фернандо Де Фуэнтес',\n",
       " 'Филлип Б.Голдфайн, Надин ДеБаррос, Дон Э.Фонт ЛеРой',\n",
       " 'Аурит Замир, Йоав Роех',\n",
       " \"Франсуа д'Артемар, Владимир Кох, Анджей Якимовский\",\n",
       " 'Баз Лурман, Кэтрин Мартин, Дуглас Уик',\n",
       " 'Энтони Катагас, Клей Пекорин, Ричард Сальваторе, Гарри Дж.Уфлэнд',\n",
       " 'Майкл Бэйкер, Дэвид Локери, Роберт Мензес',\n",
       " 'Пол Брукс, Леон Клэранс, Брэд Кэссел',\n",
       " 'Джоэл Коэн, Итан Коэн ',\n",
       " 'Чарльз Гилберт, Натаниэль Кармитц',\n",
       " 'Джоэл Потрикус',\n",
       " 'Сидни Киммел, Алекс Орловски, Джеми Патрикоф, Линетт Хауэлл',\n",
       " \"Фред Д'Амико, Корианка Килшер, Рой Скотт МакФарланд, Леоне Маруччи, Джей Теймс, Джимми Холкомб \",\n",
       " 'А.Ким',\n",
       " 'ООО \"Арт Пикчерс Студия\"',\n",
       " 'Аркадий Голубович, Уоррен Зайд, Рэймонд Дж.Маркович',\n",
       " 'Тибо Гаст, Хесус Гонсалез-Эльвира, Николас Стейл',\n",
       " 'Джейсон Блум, Жанетт Брилл, Бэйли Конуэй',\n",
       " 'Хуан Вера, Хуан Пабло Галли, Алехандро Качетта',\n",
       " 'Роман Коппола, Юри Хенли, Сью Ен Ан',\n",
       " 'А.Атанесян, Р.Атоян',\n",
       " 'О.Капанец',\n",
       " 'Брайан Белл, Фил Дорнфелд, Дэвид Цукер',\n",
       " 'Кристиан Бомар, Ален Каппоф',\n",
       " 'Пол Брукс, Элизабет Бэнкс, Макс Хандельман',\n",
       " 'Али Агалар, Вито Ди Роза, Карола Эш',\n",
       " 'Тим Биван, Крис Тукер, Эрик Филлнер',\n",
       " 'Петтер Линдблад, Сарита Кристенсен',\n",
       " 'Грач Кешишян',\n",
       " 'Хулио Фернандес',\n",
       " 'Скотт Будник, Томас Талл',\n",
       " 'Жан-Анри Бронкар, Оливье Бронкар',\n",
       " 'Сёхеи Котаки',\n",
       " 'Майкл Винник',\n",
       " 'Бруно Пети',\n",
       " 'Александр Ажа, Тома Лангманн, Грегори Левассер, Уильям Лустиг',\n",
       " 'Николас Альтмайер, Эрик Альтмайер, Кристоф Томас, Жан-Шарль Фелли',\n",
       " 'Джейсон Блум, Майкл Бэй, Эндрю Форм',\n",
       " 'Винс Джоливентт, Марни Зельник, Джефф Каллигери',\n",
       " 'Джейсон Блум, Энди Гулд, Орен Пели',\n",
       " 'Адитья Нат Джха, Анупама Патил, Кишор Патил',\n",
       " 'Эндрю Дин, Фифти Сент, Рэндолл Эммиетт',\n",
       " 'Скотт Доннелли, Грег Гард',\n",
       " 'Петер Ольбек Йенсен, Валери Саундерс',\n",
       " 'Нил Х.Мориц, Майк Ричардсон, Майкл Фоттрел',\n",
       " 'Микаэль Абек Ассис, Фредерик Брюнеель',\n",
       " 'Джеймс Лесситер, Калеб Пинкет, Джада Пинкет Смит, Уилл Смит',\n",
       " 'Шарль Жийибер',\n",
       " 'Глен Баснер, Николас Гонда, Сара Грин',\n",
       " 'Вонг Кар Вай, Джеки Пэнг, Йе-Ченг Чан',\n",
       " 'Патрик Кассаветти,Лейла Набулси,Стивен Немет',\n",
       " 'Дидье Бруннер, Генри Магалон, Венсан Тавье',\n",
       " 'Алан Джей, Стюарт Урбан',\n",
       " 'А.Сигле',\n",
       " 'ООО \"Продюсерский центр ЕРАЛАШ\"',\n",
       " 'В.Филиппов',\n",
       " 'Шон Леви, Том МакНалти, Билли Розенберг',\n",
       " 'Стив Голин, Джой Горман, Стивен Рейлс',\n",
       " 'Дон Кемпф, Девид Маркс',\n",
       " 'Кодзи Вакамацу, Ацуши Обината, Мунеко Озаки',\n",
       " 'Роб Хейдон',\n",
       " 'Паскаль Верруст',\n",
       " 'Майкл Бенаройа, Татьяна Келли, Джеймс М.Янг',\n",
       " 'Мики Лиделл, Патрик Риззотти, Джули Ричардсон, Бретт Форбс',\n",
       " 'Ярди Гасулл, Николас Матхи, Эдмон Рош',\n",
       " 'Р.Арзуманов, В.Малый',\n",
       " 'Марк Миссонье, Жан-Люк Ормер',\n",
       " 'Патрик Краули, Фрэнк Маршалл, Бен Смит',\n",
       " 'Сью Баден-Пауэлл, Стив Ричардс',\n",
       " 'Ю.Мишкинене',\n",
       " 'Джонатан Кинг, Дэн Этеридж',\n",
       " 'Екатерина Еременко',\n",
       " 'Генки Хавамура',\n",
       " 'И.Блохина',\n",
       " 'С.Еремеева',\n",
       " 'Марк Кантон, Джоэль Сойзон, Марк ТОберофф',\n",
       " 'А.Иншаков',\n",
       " 'Энтони Брегман, Лесли Урдэнг, Дин Ванеч',\n",
       " 'Рене Бессон, Мэттью Джойнс, Джесси Кеннеди',\n",
       " 'Стив Бинг, Чарльз Стил',\n",
       " 'Майк Гюнтер, Дэвид Эйр, Рэндолл Эмметт',\n",
       " 'Лорис Омедес, Даниэль Эрнандез',\n",
       " 'Доменико Прокаччи',\n",
       " 'Сэм Рассел',\n",
       " 'Крис Алдер',\n",
       " 'Джек Джаррапуто, Аллен Коверт, Хезер Перри, Адам Сэндлер',\n",
       " 'Петтери Пасанен, Ханну Туомайнен, Антти Хаикала ',\n",
       " 'Чарльз Б.Весслер, Райан Кэвэна, Питер Фаррелли',\n",
       " 'Дэвид Луизи, Питер Луизи',\n",
       " 'Боб Беллион, Джимми Де Брэбэнт',\n",
       " 'Синди Нельсон-Муллен, Мишель Таверна, Амир Фаваи',\n",
       " 'С.Сельянов. А.Боярский',\n",
       " 'Нахикари Ипинья',\n",
       " 'Летти Аронсон, Стивен Теннинбаум',\n",
       " 'Марио Джианани, Лоренцо Мьели',\n",
       " 'Лоуренс Бендер',\n",
       " 'Бэз Лурман, Габриэлла Мартинелли',\n",
       " 'Адриан Герра, Питер Сафран',\n",
       " 'Джон Джейкобс, Джейсон Кларк, Сет МакФарлейн',\n",
       " 'Джо М.Агиляр, Латифа Оау',\n",
       " 'Питер Дэннер, Брахим Чиоуа',\n",
       " 'Джон Малкович, Расселл Смит, Лайан Халфон',\n",
       " 'ООО \"ВИЗАРТ ФИЛЬМ\", ООО \"ТаББак\"',\n",
       " 'Шелли Клиппард, Бен Косгров, Марк Кубан',\n",
       " 'Донна Джильотти, Брюс Коэн, Брэдли Купер',\n",
       " 'Кэмерон Дж.Ламб, Бэрри М.Осборн, Сьюзэн А.Стоувер',\n",
       " 'Андрес Калдерон, Кристиан Конти',\n",
       " 'Адам Фридландер, Дэниэл Айрон, Лэнс Сэмюэлс',\n",
       " 'Мерседес Гамеро',\n",
       " 'Вассим Бежи',\n",
       " 'Майкл Готтвальд, Дэн Джанви',\n",
       " 'Хантер Эллис',\n",
       " 'Оливер Дамиан, Теро Каукомаа, Самули Тарссонен',\n",
       " 'Д.Воробьев, А.Федорченко, Л.Лебедев, М.Щукин',\n",
       " 'Робин Кови, Джейн Флеминг',\n",
       " 'Энг Ли, Джил Неттер, Дэвид Уомарк',\n",
       " 'Мартин Кассинелли, Паскаль Кошете, Жак Одиар',\n",
       " 'Эндрю Пэнэй, Нейт Так, Ким Уолтрип, Дэкс Шепард',\n",
       " 'Томас Борч Нилсен, Нюнне Силин, Майкл Флейчер',\n",
       " 'Сигне Лейк Йенсен, Карин Тролле',\n",
       " 'Брайан Уиттен, Орен Пели, Роб Кауэн',\n",
       " 'Паулу Бранку, Мартин Кац, Джозеф Боччиа',\n",
       " 'Аста Филпот, Мариано Ванхооф',\n",
       " 'Рейд Каролин, Грегори Джейкобс, Ченнинг Татум',\n",
       " 'Дженнифер Джибгот, Эрик Фейг, Адам Шенкман',\n",
       " 'Кристина Ларсен, Жилль Сандос',\n",
       " 'Ацуюки Шимода',\n",
       " 'Николас Альтмайер, Эрик Альтмайер, Клоди Оссар',\n",
       " 'Лаура Бикфорд, Роберт Салерно, Кевин Тарен',\n",
       " 'Стивен Дж.Идс, Том Карновски, Алекс Янг',\n",
       " 'Алан Барнетт, Джо Медьяк, Том Поллок',\n",
       " 'Этьен Комар, Филипп Руссле',\n",
       " 'Грация Вольпи',\n",
       " 'Штефан Арндт, Маргарет Менегоз',\n",
       " 'Пилар Савон, Реджинальд Хадлин, Стейси Шер',\n",
       " 'Дарла Кей Андерсон',\n",
       " 'Дарла К.Андерсон',\n",
       " 'Дэвид Грумбах, Эммануэль Жаклин, Эммануэль Лаказе, Жан-Жак Нейра, Лорен Петин, Мишель Петин, Хьюберт Тойн',\n",
       " 'Белен Атьенца',\n",
       " 'Лоренцо Ди Бонавентура',\n",
       " 'Стэнли Тонг, Джеки Чан',\n",
       " 'Тобин Армруст, Гай Ист, Тиш Сайрус',\n",
       " 'Рик Альварез, Лиза Блум, Марлон Уайанс',\n",
       " 'Бродерик Джонсон, Эндрю А.Косов, Молли Смит',\n",
       " 'Энн Бауманн',\n",
       " 'Николас Бланк, Патрик Собельман',\n",
       " 'Маро Чермайефф, Джефф Дюпре, Нэнси Абрахам',\n",
       " 'Кристофер Нолан, Чарльз Роувен, Эмма Томас',\n",
       " 'Грег Бекер, Клер Бекер, Ванесса Синден',\n",
       " 'А.Григорян, М.Галустян, А.Ананикян',\n",
       " 'К.Оганесян',\n",
       " 'Кэтрин Бингелоу, Марк Боал, Меган Эллисон',\n",
       " 'А.Роднянский, С.Мелькумов, С.Беспалов, Киа Джэм',\n",
       " 'Паскаль Эрольд',\n",
       " 'Хьюго Роуз, Абрахам Вурнбранд',\n",
       " 'Трэвис Найт, Арианн Сутнер, Мэттью Фрид   ',\n",
       " 'Чип Диггенс',\n",
       " 'Кристиан Лярош, Марио Надо, Кэролайн Херокс',\n",
       " 'Тодд Либерман, Бруна Папандреа, Дэвид Хоберман',\n",
       " 'Лес Александр, Стив Чесмэн, Тейлор Хэкфорд',\n",
       " 'А.Литвинов',\n",
       " 'Белен Атьенца, Альваро Аугустин, Гислен Баруа',\n",
       " 'Карл Маццоконе, Синди Бреннер, Марк Бёрг',\n",
       " 'Грэм Уолтерс',\n",
       " 'Пол У.С.Андерсон, Джереми Болт, Дон Кармоди',\n",
       " 'Клод Леже, Дмитрий Рассам, Атон Сумаш',\n",
       " 'Тревор Мэйси, Марк Д.Эванс',\n",
       " 'Джина Галло, Мими Мэйнард, Домоник Парис',\n",
       " 'Дэйвид Добкин, Нил Мориц',\n",
       " 'А.Мычко',\n",
       " 'Сидни Киммел, Гари Лучези, Том Розенберг',\n",
       " 'Эндрю Итон, Данни Крауз, Крис Хэнли',\n",
       " 'Тед Хоуп, Деррик Тсенг, Рафаэль Муноз',\n",
       " 'Филипп Бобер, Кристин Рупперт, Ульрих Зайдль',\n",
       " 'Оливия Харрисон, Мартин Скорсезе, Найджел Синклер',\n",
       " 'Джейми Брэдшоу, Александр Дулерайн, Александр Любимов, Роман Петренко, Борис Юхананов',\n",
       " 'В.Меньшов, А.Литвинов',\n",
       " 'Николас Дювал-Адассовский, Лорен Зейтун, Ян Зеноу',\n",
       " 'И.Толстунов',\n",
       " 'Н.Мокрицкая',\n",
       " 'Питер Барбер',\n",
       " 'Гай А.Данелла',\n",
       " 'Том Круз, Дэвид Эллисон, Дэна Голдберг',\n",
       " 'Уилл Феррелл, Бо Флинн, Крис Ханчи',\n",
       " 'Дэвид Ловегрен, Джа Ву Парк',\n",
       " 'Кэлвин Йао',\n",
       " 'Цуй Харк, Джеффри Чан, Нансун Ши',\n",
       " 'Вибеке Винделов, Сиссе Граум Олсен',\n",
       " 'Л.Калинская, И.Охлобыстин, В.Алисов, Г.Меркулов',\n",
       " 'Крис Брайэм, Нина Воларски, Дэйвид Клоуанс',\n",
       " 'Дерек Конноли, Марк Тёртлтауб',\n",
       " 'Эдгар Райт',\n",
       " 'Шон Ангельски, Арни Йоханнсон, Мартин Фишер',\n",
       " 'Крэйг Баумгартен, Моше Дайамант, Аллен Шапиро',\n",
       " 'Оливье Делбоск, Марк Миссонье',\n",
       " 'С.Жигунов',\n",
       " 'Альберто Геррикабеития',\n",
       " 'Дэвид Фостер',\n",
       " 'Мишель Мердокка',\n",
       " 'Тим Бертон, Элисон Эббэйт',\n",
       " \"Пьер-Луиджи Корви-Мора, Франческо Мелци-Д'Эдриль, Минни Феррара\",\n",
       " 'Масацугу Асахи, Юн Накасима, Рука Танака',\n",
       " 'Кевин Джексон',\n",
       " 'Пол Гутиэррес, Сандра Хермида, Марта Эстебан',\n",
       " 'Реми Бурах, Джереми Бурдек, Франсуа-Ксавье Декраэн, Кристоф Фиссер',\n",
       " 'Тим Вуд, Стефани Напье, Джон Робертсон',\n",
       " 'Жан-пьер Герен, Бенуа Делепин, Гюстав де Керверн',\n",
       " 'Майкл Бенаройя, Дуглас Уик, Меган Эллисон                                                                                                 ',\n",
       " 'Вилли Гейке, Поль Мауриц, Томас Циквер, Тиль Швайгер',\n",
       " 'Барбара Брокколи, Майкл Джи Уилсон',\n",
       " 'Эд Кэйтелл, Ли Дэниелс, Кассиан Элвис, Хилари Шор',\n",
       " 'Марк а.З.Диппе, Алекс Дж.Йу, Джошуа Сон, Эш Р.Шах, Дэниэл Шуба',\n",
       " 'Саманта Хаусман',\n",
       " 'В.Сидоренко',\n",
       " 'Джефф Боулер, Пегги Ли, Чарли Вонг Уинг Фанг',\n",
       " 'Дженнифер Гарнер, Джулиана Джейнс, Майкл Де Лука',\n",
       " 'Александра Фергюссон, Олли Мэдэн',\n",
       " 'Тим Беван, Александр Досталь, Пол Уэбстер',\n",
       " 'Джерард Батлер, Джонатан Мостоу, Алан Сигел',\n",
       " 'Жан-Пьер Дарденн, Паскаль Кочето, Кристиан Мунджиу',\n",
       " 'Кэтлин Кеннеди, Джеральд Р.Молен, Лата Райан',\n",
       " 'Кристин Белсон, Джейн Хартвелл',\n",
       " 'Пабло Бергер, Жером Видал, Ибон Корменсана',\n",
       " 'Оливье Дебоск, Марк Миссонье',\n",
       " 'Джизус Регуеро',\n",
       " 'Маттео Гарроне, Доменико Прокаччи',\n",
       " 'Нэнси Бернштейн, Кристина Стейнберг',\n",
       " 'Эрик Альтмайер, Николас Альтмайер',\n",
       " 'С.Торчилин',\n",
       " 'Дени Пино-Валенсьенн, Франсуа Краус',\n",
       " 'Йен Брюс, Майкл Бэй, Дональд Ди Лайн',\n",
       " 'ООО \"Комеди Клаб продакшн\", ЗАО ВайТ Медиа\"',\n",
       " 'Гордон Бижелонич, Рик Дагдэйл, Элизабет Дестро, Джордан Кесслер, Элана Краутц, Датари Тамер ',\n",
       " 'Грехем Волтерс',\n",
       " 'ООО \"ЭН-ДЖИ ПРОДАКШН\"',\n",
       " 'Лиза Деметри, Дэвид Шарф',\n",
       " 'Ив Дарондо, Кристоф Лиюд, Эммануэль Приу ',\n",
       " 'Бонни Арнольд, Даг Дэвисон, Майкл А.Конноли',\n",
       " 'Джеймс Дэйли, Жак Уаниш, Жан-Доминик Чоачан           ',\n",
       " 'Дуг Дэвисон, Рой Ли, Билл Покорни',\n",
       " 'Сергей Беспалов, Аарон Кауфман, Александр Роднянский, Роберт Родригес, Рик Шварц',\n",
       " 'Даррен Аронофски, Скотт Франклин',\n",
       " 'Джошуа Астрачан, Эшер ГОлдштейн, Марен Олсон',\n",
       " 'Луиза Вест, Мария Сесилия Гаде, Петер Ольбек Йенсен',\n",
       " 'Брюс Андерсон, Джон С.Данкин',\n",
       " 'Лен Блаватник, Мария Сестон, Брахим Чиоуа',\n",
       " 'Синитиро Иноэ',\n",
       " 'А.Роднянский, С.Мелькумов',\n",
       " 'Фредерик Дум-Зайдел, Мари Хелен Ранк, Жан Мишель Рей, Майкл Ротман',\n",
       " 'Ришар Грандпьер',\n",
       " 'Л.Верещагин, В.Горяинов, Л.Лебедев, Н.Михалков, В.Тодоровский',\n",
       " 'И.Аносов',\n",
       " 'Робби Бреннер, Марк Кантон, Рэндол Эмметт',\n",
       " 'Н.Морицкая',\n",
       " 'И.Куйда, С.Жигунов, В.Швец',\n",
       " 'Б.Худойназаров, Р.Руштов, Т.Каратанос, К.Баумгартнер, С.Делой, Б. Хашемиян',\n",
       " 'А.Кушаев, И.Смирнова',\n",
       " 'Николя Джулиано, Франческа Чима',\n",
       " 'Анна-Моника Панделиа, Надежда Соловьева, Ингрит Сутей',\n",
       " 'Юсукэ Вакабаяши, Таро Нагамацуя, Юко Сиомаки',\n",
       " 'Вассим Беджи, Янник Боллоре, Жюльен Дери',\n",
       " 'Ксавье Долан, Шарль Жийибер, Натанаэль Кармиц, Кэрол Монделло',\n",
       " 'Тьерри Сюк',\n",
       " 'И.Пронин, О.Серова, О.Земчугова, К.Серебряков, Ю.Зайцева',\n",
       " 'Саид Бен Саид, Сара Борч-Якобсен, Ладис Занини',\n",
       " 'Оливье Дебоск, Кристин де Жекель, Марк Миссонье',\n",
       " 'Барри Бернарди, Джози Розен, Тим Херлихай',\n",
       " 'Ави Лернер, Дэнни Лернер, Кевин Кинг Темплтон',\n",
       " 'Рафаэль Матердэ, Анна Старкей',\n",
       " 'Шэп Гордон, Сэм Данн, Джефф Кемпин, Скотт Макфадьен, Тэрри Шэнд',\n",
       " 'Рэймонд Мэнсфилд, Шон Реддик, Кэш Уоррен',\n",
       " 'Марк Ван Вармердам',\n",
       " 'Фрэнк Сиракуза',\n",
       " 'А.Атанесян, М.Бабаханов, Р.Бутко',\n",
       " 'Ридли Скотт, Пола Мэй Шварц, Стив Шварц',\n",
       " 'Себастьян Деллуа, Иланн Джирард, Диана Элбаум',\n",
       " 'В.Тельнов, В.Шайдаков, Э.Пичугин, А.Котелевский',\n",
       " 'А.Орлов, И.Волошин, С.Светлаков',\n",
       " 'А.Сигле, Д.Светозаров',\n",
       " 'А.Крутова',\n",
       " 'Робин Сип, Майк Бруно, Томас Лукас',\n",
       " 'Питер Морс, Пол Берк',\n",
       " 'Татьяна Келли, Роберта Мунро, Руперт Френд, Дон Бриджетвотер, Тим Хармс, Бенжамин Грейсон, Крис Кроучер',\n",
       " 'Сергей Беспалов, Джон Фавро, Карен Гилкрист',\n",
       " 'Джеймс Дэйли, Жак Уаниш, Жан-Доминик Чоачан',\n",
       " 'Николас Мейер, Мэттью Питерман, Моррис Полсон',\n",
       " 'Джон С.Денни, Лоуренс Маттис, Дэвид Москоу, Марк Л.Педерсон, Элди Санчез',\n",
       " 'Мерседес Гамеро, Альберто Марини, Педро Уриоль',\n",
       " 'Нина Джейкобсон, Джон Килик, Сьюзен Коллинз',\n",
       " 'Николас Альтмайер, Эрик Альтмайер, Беллок Бенедикт',\n",
       " 'Ави Арад, Мэттью Толмач',\n",
       " 'Уильям Тейтлер',\n",
       " 'Тофикье Али, Кэтрин Винер, Том Колборн, Билл Лорд',\n",
       " 'Морган Питер Браун, Тревор Мэйси, Марк Д.Эванс',\n",
       " 'Рик Альварез, Марлон Уайанс, Стюарт Форд',\n",
       " 'Дэвид Валдес, Бродерик Джонсон, Эндрю А.Косов, Кейт Коэн, Энни Мартер, Мариса Полвино, Аарон Ридер',\n",
       " 'Крис Кларк, Флора Фернандес-Маренго, Джеймс Флинн',\n",
       " 'Амина Дасмал, Майкл Кейн, Робин Фокс',\n",
       " 'Джеймс Биддл, Дженни Боргарс, Найра Парк',\n",
       " 'Флавиа Ритнер',\n",
       " 'Андре Рьё Студиос, Мартижн Воллеберг, Питер Скилман, Джанел Мейсон',\n",
       " 'Фабрис Лаффонт, Сабрина Мазни',\n",
       " 'Ален Терзян',\n",
       " 'Фридерик Жув, Габриэла Кранценбиндер',\n",
       " 'Джон Батсек',\n",
       " 'Джоэл Коэн, Итан Коэн, Скотт Рудин',\n",
       " 'Чарльз Вэйнсток, Дэниэл Кроун, Даниэлла Таплин Ландберг, Вильям Тэйтлер',\n",
       " 'Мартин Бауэн, Вик Годфри, Мишель Императо',\n",
       " 'Луиза Мурин, Кристин Гозлан, Тахир Марадов',\n",
       " 'Роберт Б.Уайде',\n",
       " 'Бернхард Каммель',\n",
       " 'Дирк Импенс',\n",
       " 'Ю.Ботоев',\n",
       " 'Л.Шнайдерман, А.Митта',\n",
       " \"Скотт Аверсано, Джастин Наппи, Эндрю О'Коннор\",\n",
       " 'Г.Малков, В.Поляков, Г.Андреасян, С.Андреасян',\n",
       " 'Боаз Дэвидсон, Ренни Харлин',\n",
       " 'Марк Ду Понавиче',\n",
       " 'Маркус Жилезо, Элленор Кокс',\n",
       " 'Энтони Аддис, Дирик Мэт Аским, Алекс Валл, Мьюз, Дион Орром',\n",
       " 'К.Терещенко',\n",
       " 'Кэролин Беннетт, Тони Ноттаг, Ник Симунэк, Терри Стоун',\n",
       " 'Исаак Шарри',\n",
       " 'Падам Бхушан, Аших Сингх, Адитья Чопра',\n",
       " 'Оливье Делбоск, Кристин де Жекель, Марк Миссонье',\n",
       " 'А.Максимов, Н.Попов',\n",
       " 'Дана Брунетти, Майкл Де Лука, Скотт Рудин',\n",
       " 'Майк Дэвлин, Аманда Хилл, Дипак Найар',\n",
       " 'Доминик Шпритцендорфер',\n",
       " 'Джэми Кастнер',\n",
       " 'Боб Гэйл, Кетлин Кеннеди, Нил Кэнтон',\n",
       " 'Мэтью Воэн, Стефен Маркс, Джорджия Мастерс',\n",
       " 'Кэтерин Батлер, Дженни Боргарс, Мелисса Парментер',\n",
       " 'Хью Джекман, Джон Палермо, Хатч Паркер',\n",
       " 'Джордан Кернер',\n",
       " 'Уильям Пикот',\n",
       " 'Барбара Гиббс, Филипп Каркассон, Мишель Феллер',\n",
       " 'Луиза Вест',\n",
       " 'Мария Сесилия Гаде, Луиза Вест',\n",
       " 'Элисон Палмер Бурк, Кэролайн Каплан, Лемор Сиван',\n",
       " 'Милтон Герреро, Альваро Уртизбера',\n",
       " 'Боаз Дэвидсон, Хайди Джо Маркел',\n",
       " 'Джейсон Бекман, Люк Бессон, Вирджиния Силла',\n",
       " 'Рэм Бергман, Николя Картье',\n",
       " 'Энтони Фанхаузер, Лиза М.Хансен, Пол Херцберг',\n",
       " 'Ромен Ройтман',\n",
       " 'Филлип Глассер, Аарон Ливайн, Брайан Хартман',\n",
       " 'Дон Кармоди, Роберт Кульцер',\n",
       " 'Питер Дел Вечо',\n",
       " 'Сэм Рассел, Саймон Твисе',\n",
       " 'Майк Гарден, Джефф Кемпин, Терр Шэнд',\n",
       " 'Пол Брюлс, Эд Кэйтелл III, Энтони Рулен',\n",
       " 'Андерс Т.Андерсен',\n",
       " 'Дэвид Кровс, Джил Мэриал',\n",
       " 'Кевин Фейги',\n",
       " 'Дилан Кларк, Дженно Топпинг, Питер Чернин',\n",
       " 'Сьюзен Слэгли Роджерс, Лиза Стюарт',\n",
       " 'Джон Пенотти, Бонни Тимермэнн, Джеффри Флетчер',\n",
       " 'Тим Биван, Найра Парк, Эрик Феллнер',\n",
       " 'Пол Вайц, Керри Кохански, Эндрю Миано',\n",
       " 'Джерри Брукхаймер, Гор Вербински',\n",
       " 'Макс Дэвидс, Харви Лоури, Энтони Топман',\n",
       " 'Марк Гордон, Том Лассалли, Брайан  Роббинс',\n",
       " 'Лейла Ли, Джош Столберг, Стеффани Шеррин',\n",
       " 'Джек Диаррапуто, Адам Сэндлер',\n",
       " 'Саймон Кинберг',\n",
       " 'Трейси Балтазор',\n",
       " 'Ричард Кедди, Андрена Финлэй',\n",
       " 'Юлиус Кемп, Ингвар Тордасон',\n",
       " 'Дариуш Яблонский, Виолетта Каминска, Изабелла Вуйцик',\n",
       " 'Трипп Винсон, Эми Ло, Бо Флинн',\n",
       " 'Б.Бакурадзе, Ю.Мишкинене, З.Болотаев, А.Плотников',\n",
       " 'Кирк Бодифелт',\n",
       " 'Риэль Рош Дектер, Нилл Копп, Райан Крисман, Дэвид Гай Леви',\n",
       " 'МИкаэль Абекассис',\n",
       " 'Грэм Молой, Вук-юнг Чжун',\n",
       " 'Люк Босси, Ромейн Ле Гранд, Филипп Сааль, Стефан Сперри',\n",
       " 'Вичиен Нак-Интанон, Сирават Нак-Интанон, Киаткамон Ямфунгпорн, Киаттикул Ямфунгпорн ',\n",
       " 'Уэс Андерсон, Джереми Доусон, Молли Купер',\n",
       " 'Альберт Бергер, Рон Йеркса',\n",
       " 'Меган Эллисон, Спайк Джонс, Винсент Ландэйл',\n",
       " ...]"
      ]
     },
     "execution_count": 43,
     "metadata": {},
     "output_type": "execute_result"
    }
   ],
   "source": [
    "data['producer'].unique().tolist()"
   ]
  },
  {
   "cell_type": "code",
   "execution_count": 44,
   "id": "1da241e6",
   "metadata": {},
   "outputs": [
    {
     "data": {
      "text/plain": [
       "array(['боевик,драма,мелодрама', 'драма,военный',\n",
       "       'фантастика,боевик,триллер', 'драма', 'мелодрама,комедия',\n",
       "       'мюзикл,мелодрама,комедия', 'комедия,криминал',\n",
       "       'боевик,триллер,детектив', 'боевик,драма,приключения',\n",
       "       'драма,спорт', 'триллер,драма,мелодрама', 'комедия,мелодрама',\n",
       "       'драма,мелодрама,комедия', 'драма,мелодрама', 'драма,история',\n",
       "       'драма,мелодрама,семейный', 'комедия,мелодрама,криминал',\n",
       "       'комедия', 'боевик,драма,криминал', 'драма,комедия',\n",
       "       'ужасы,фантастика,комедия', 'мультфильм,короткометражка,мелодрама',\n",
       "       'драма,криминал', 'мультфильм,фантастика,фэнтези',\n",
       "       'триллер,драма,криминал', 'драма,мелодрама,биография',\n",
       "       'драма,комедия,военный', 'фантастика,драма,детектив',\n",
       "       'мюзикл,семейный', 'unknown', 'военный,приключения,драма',\n",
       "       'документальный,драма', 'драма,биография,история',\n",
       "       'боевик,триллер,драма', 'фэнтези,боевик',\n",
       "       'боевик,комедия,криминал', 'мюзикл,комедия,детский',\n",
       "       'комедия,мелодрама,драма', 'мультфильм,фэнтези,комедия',\n",
       "       'комедия,история', 'мелодрама', 'драма,биография,музыка',\n",
       "       'фэнтези,драма,мелодрама', 'триллер,военный',\n",
       "       'драма,мелодрама,военный', 'мюзикл,драма,мелодрама',\n",
       "       'мюзикл,комедия', 'мультфильм,приключения,семейный',\n",
       "       'ужасы,триллер', 'боевик,драма,военный', 'драма,боевик',\n",
       "       'мультфильм,драма,комедия', 'триллер,криминал',\n",
       "       'военный,биография,драма', 'комедия,семейный', 'военный',\n",
       "       'драма,семейный,биография', 'фэнтези,приключения,семейный',\n",
       "       'драма,криминал,биография', 'ужасы,триллер,детектив',\n",
       "       'боевик,история,драма', 'ужасы,триллер,драма',\n",
       "       'драма,криминал,спорт', 'документальный,короткометражка',\n",
       "       'триллер,драма', 'криминал,детектив,приключения',\n",
       "       'драма,комедия,криминал', 'драма,комедия,вестерн',\n",
       "       'драма,мелодрама,детектив', 'мелодрама,биография',\n",
       "       'фэнтези,мелодрама,драма', 'драма,мелодрама,история',\n",
       "       'комедия,приключения,история', 'приключения', 'драма,семейный',\n",
       "       'криминал,детектив', 'мультфильм,короткометражка,ужасы',\n",
       "       'фантастика,триллер,драма', 'фэнтези,мелодрама,комедия',\n",
       "       'драма,биография', 'комедия,криминал,история',\n",
       "       'триллер,драма,детектив', 'фантастика,комедия,приключения',\n",
       "       'фэнтези,семейный', 'ужасы,фантастика,боевик',\n",
       "       'мелодрама,криминал', 'комедия,приключения,мелодрама',\n",
       "       'боевик,триллер,приключения', 'боевик,приключения',\n",
       "       'боевик,триллер,криминал', 'документальный,военный,история',\n",
       "       'драма,музыка', 'боевик,драма', 'приключения,боевик',\n",
       "       'драма,военный,биография', 'триллер,драма,приключения',\n",
       "       'аниме,мультфильм,фэнтези', 'триллер,детектив,драма',\n",
       "       'боевик,триллер,мелодрама', 'боевик,история',\n",
       "       'приключения,история', 'драма,комедия,приключения',\n",
       "       'фэнтези,комедия,приключения', 'драма,вестерн',\n",
       "       'документальный,музыка', 'мелодрама,драма',\n",
       "       'триллер,криминал,детектив', 'ужасы', 'боевик,комедия,приключения',\n",
       "       'мультфильм,фэнтези,боевик', 'боевик,фэнтези,драма',\n",
       "       'фэнтези,драма', 'фэнтези,боевик,комедия',\n",
       "       'приключения,детский,комедия', 'документальный',\n",
       "       'боевик,триллер,комедия', 'мелодрама,комедия,криминал',\n",
       "       'драма,детектив', 'мюзикл,ужасы,триллер', 'детектив,триллер,ужасы',\n",
       "       'ужасы,фэнтези', 'ужасы,фэнтези,триллер', 'мультфильм,драма',\n",
       "       'ужасы,боевик,фантастика', 'боевик', 'фантастика,боевик',\n",
       "       'мелодрама,комедия,приключения', 'триллер,детектив',\n",
       "       'мюзикл,мелодрама,фэнтези', 'криминал', 'триллер,комедия,криминал',\n",
       "       'боевик,приключения,триллер', 'триллер,драма,военный',\n",
       "       'комедия,семейный,музыка', 'комедия,фантастика,мелодрама',\n",
       "       'фантастика,триллер,криминал', 'комедия,драма', 'боевик,военный',\n",
       "       'ужасы,фантастика,триллер', 'фантастика,драма,мелодрама',\n",
       "       'фэнтези,драма,детектив', 'боевик,триллер', 'боевик,драма,история',\n",
       "       'мультфильм,мюзикл,фэнтези', 'для взрослых,драма,мелодрама',\n",
       "       'мультфильм,боевик,детектив', 'фантастика,мелодрама,боевик',\n",
       "       'ужасы,фантастика,детектив', 'фантастика,боевик,приключения',\n",
       "       'мелодрама,комедия,спорт', 'комедия,боевик,приключения',\n",
       "       'документальный,приключения', 'мультфильм,короткометражка,детский',\n",
       "       'комедия,приключения', 'ужасы,драма', 'ужасы,фэнтези,боевик',\n",
       "       'мультфильм,фэнтези,детский', 'мюзикл,боевик,драма',\n",
       "       'семейный,комедия,драма', 'концерт,музыка', 'фэнтези,боевик,драма',\n",
       "       'драма,комедия,музыка', 'фантастика,фэнтези,боевик',\n",
       "       'фэнтези,комедия,семейный', 'фэнтези,драма,комедия',\n",
       "       'мультфильм,мюзикл,драма', 'триллер', 'боевик,криминал,триллер',\n",
       "       'мультфильм,приключения,драма', 'мелодрама,музыка',\n",
       "       'документальный,музыка,концерт', 'мультфильм,семейный',\n",
       "       'мультфильм,комедия,приключения', 'мультфильм,комедия,семейный',\n",
       "       'фантастика,драма', 'фэнтези,боевик,приключения',\n",
       "       'мультфильм,приключения', 'драма,военный,история', 'история',\n",
       "       'драма,приключения,военный',\n",
       "       'документальный,короткометражка,семейный',\n",
       "       'мелодрама,история,триллер', 'ужасы,детектив',\n",
       "       'мюзикл,комедия,приключения', 'драма,спорт,биография',\n",
       "       'фантастика,боевик,комедия', 'фантастика,приключения,детектив',\n",
       "       'короткометражка,драма,военный', 'драма,мультфильм',\n",
       "       'приключения,семейный', 'детектив', 'триллер,приключения',\n",
       "       'аниме,мультфильм,боевик', 'драма,комедия,биография',\n",
       "       'драма,комедия,спорт', 'боевик,мелодрама,комедия',\n",
       "       'семейный,комедия', 'фэнтези,боевик,триллер',\n",
       "       'документальный,фэнтези,семейный', 'фантастика,фэнтези,драма',\n",
       "       'ужасы,комедия,фэнтези', 'документальный,биография,музыка',\n",
       "       'фантастика,боевик,фэнтези', 'ужасы,боевик,триллер',\n",
       "       'комедия,криминал,семейный', 'приключения,драма',\n",
       "       'криминал,драма,триллер', 'драма,детектив,криминал',\n",
       "       'фэнтези,приключения,комедия', 'комедия,спорт',\n",
       "       'мюзикл,фэнтези,мелодрама', 'мультфильм,фэнтези,приключения',\n",
       "       'фантастика,фэнтези,приключения', 'фэнтези',\n",
       "       'фэнтези,приключения,боевик', 'фантастика,боевик,драма',\n",
       "       'криминал,драма', 'криминал,триллер,драма',\n",
       "       'драма,мелодрама,приключения', 'детский,комедия',\n",
       "       'фантастика,драма,боевик', 'мультфильм,семейный,фэнтези',\n",
       "       'концерт,музыка,документальный', 'ужасы,комедия,приключения',\n",
       "       'драма,мелодрама,криминал', 'ужасы,фантастика,фэнтези',\n",
       "       'боевик,комедия', 'мультфильм,фантастика,комедия', 'триллер,ужасы',\n",
       "       'мультфильм,мюзикл,комедия', 'мелодрама,фэнтези,триллер',\n",
       "       'детский,приключения,комедия', 'комедия,детектив',\n",
       "       'аниме,мультфильм,мелодрама', 'документальный,драма,семейный',\n",
       "       'документальный,биография,история', 'военный,боевик,драма',\n",
       "       'ужасы,комедия', 'комедия,приключения,семейный',\n",
       "       'приключения,биография,история', 'детский,приключения,семейный',\n",
       "       'спорт,драма,биография', 'аниме,мультфильм,ужасы',\n",
       "       'фантастика,боевик,криминал', 'мюзикл,драма',\n",
       "       'драма,криминал,детектив', 'аниме,мультфильм,драма',\n",
       "       'драма,триллер,приключения', 'триллер,криминал,драма',\n",
       "       'фэнтези,комедия,драма', 'мультфильм,комедия',\n",
       "       'драма,комедия,история', 'комедия,биография,история',\n",
       "       'мультфильм,фантастика,приключения', 'аниме,мультфильм,фантастика',\n",
       "       'мультфильм,фэнтези,семейный', 'мультфильм,боевик,комедия',\n",
       "       'комедия,криминал,спорт', 'документальный,мюзикл',\n",
       "       'мелодрама,комедия,музыка', 'биография',\n",
       "       'триллер,криминал,комедия', 'фантастика,драма,комедия',\n",
       "       'комедия,драма,мелодрама', 'фантастика,приключения,боевик',\n",
       "       'мультфильм,фэнтези,драма', 'триллер,комедия',\n",
       "       'драма,приключения,биография', 'фантастика,комедия',\n",
       "       'мелодрама,драма,комедия', 'боевик,криминал',\n",
       "       'драма,криминал,боевик', 'мультфильм,мюзикл,детский',\n",
       "       'драма,фэнтези', 'документальный,семейный',\n",
       "       'фэнтези,драма,приключения', 'ужасы,комедия,фантастика',\n",
       "       'драма,мелодрама,музыка', 'фэнтези,драма,семейный',\n",
       "       'триллер,мелодрама,драма', 'вестерн,боевик,драма',\n",
       "       'мультфильм,короткометражка,комедия', 'триллер,драма,история',\n",
       "       'ужасы,фантастика', 'ужасы,мелодрама,комедия',\n",
       "       'фэнтези,приключения', 'фантастика,триллер',\n",
       "       'ужасы,боевик,фэнтези', 'мультфильм,комедия,детский',\n",
       "       'триллер,драма,биография', 'мультфильм,ужасы,фэнтези',\n",
       "       'мультфильм,ужасы,фантастика', 'ужасы,боевик,комедия',\n",
       "       'драма,биография,спорт', 'мультфильм', 'мелодрама,комедия,драма',\n",
       "       'приключения,фантастика,семейный', 'комедия,криминал,детектив',\n",
       "       'ужасы,триллер,комедия', 'криминал,комедия,триллер',\n",
       "       'семейный,приключения,комедия', 'мультфильм,драма,приключения',\n",
       "       'ужасы,драма,детектив', 'драма,приключения,фэнтези',\n",
       "       'фантастика,мультфильм,драма', 'драма,триллер,детектив',\n",
       "       'драма,история,музыка', 'детский', 'триллер,боевик,криминал',\n",
       "       'драма,фантастика', 'комедия,драма,семейный',\n",
       "       'боевик,драма,комедия', 'комедия,ужасы',\n",
       "       'драма,фантастика,триллер', 'фантастика,драма,триллер',\n",
       "       'история,спорт,драма', 'документальный,биография',\n",
       "       'биография,история', 'спорт,драма', 'боевик,фэнтези',\n",
       "       'мультфильм,фэнтези', 'документальный,комедия,история',\n",
       "       'криминал,комедия,боевик', 'фэнтези,приключения,драма',\n",
       "       'музыка,концерт', 'триллер,драма,боевик',\n",
       "       'комедия,криминал,боевик', 'комедия,фантастика,боевик',\n",
       "       'вестерн,приключения,боевик', 'аниме,мультфильм,комедия',\n",
       "       'детектив,криминал,триллер', 'мультфильм,комедия,криминал',\n",
       "       'комедия,приключения,детектив', 'мелодрама,фантастика,драма',\n",
       "       'драма,комедия,семейный', 'приключения,фантастика',\n",
       "       'триллер,детектив,ужасы', 'комедия,приключения,фэнтези',\n",
       "       'фэнтези,триллер,драма', 'мелодрама,приключения,боевик',\n",
       "       'детектив,триллер,криминал', 'фэнтези,семейный,мелодрама',\n",
       "       'военный,драма', 'документальный,приключения,семейный',\n",
       "       'криминал,комедия,драма', 'комедия,фантастика',\n",
       "       'история,биография,драма', 'мелодрама,драма,музыка',\n",
       "       'боевик,мелодрама', 'комедия,криминал,триллер',\n",
       "       'детектив,триллер,боевик', 'комедия,боевик,криминал',\n",
       "       'комедия,вестерн', 'детский,мелодрама,семейный',\n",
       "       'короткометражка,мультфильм', 'комедия,фэнтези',\n",
       "       'фантастика,драма,ужасы', 'триллер,драма,ужасы',\n",
       "       'драма,фэнтези,история', 'комедия,драма,короткометражка',\n",
       "       'фэнтези,триллер,приключения', 'семейный',\n",
       "       'комедия,криминал,драма', 'комедия,фэнтези,ужасы',\n",
       "       'короткометражка,комедия,криминал', 'фантастика',\n",
       "       'триллер,ужасы,драма', 'мелодрама,драма,фэнтези',\n",
       "       'фантастика,приключения,драма', 'боевик,детектив',\n",
       "       'военный,драма,боевик', 'комедия,мелодрама,фэнтези',\n",
       "       'вестерн,криминал,триллер', 'драма,история,триллер',\n",
       "       'мультфильм,фантастика,боевик', 'детектив,драма,криминал',\n",
       "       'приключения,история,драма', 'мультфильм,семейный,детский',\n",
       "       'биография,драма,история', 'триллер,криминал,боевик',\n",
       "       'история,мелодрама', 'приключения,детский',\n",
       "       'музыка,приключения,концерт', 'военный,драма,комедия',\n",
       "       'фэнтези,боевик,военный', 'фантастика,детектив,боевик',\n",
       "       'мультфильм,фэнтези,история', 'биография,мелодрама,драма',\n",
       "       'документальный,биография,спорт', 'фантастика,комедия,детектив',\n",
       "       'музыка,концерт,документальный', 'триллер,боевик,приключения',\n",
       "       'триллер,драма,комедия', 'детектив,криминал',\n",
       "       'мультфильм,приключения,фэнтези', 'мелодрама,приключения',\n",
       "       'комедия,музыка', 'мелодрама,комедия,ужасы',\n",
       "       'драма,криминал,приключения', 'приключения,детектив,мелодрама',\n",
       "       'драма,криминал,фантастика', 'фэнтези,драма,биография',\n",
       "       'детектив,фантастика,криминал', 'триллер,драма,фантастика',\n",
       "       'ужасы,комедия,боевик', 'мелодрама,история', 'триллер,боевик',\n",
       "       'фильм-нуар,триллер,детектив', 'комедия,криминал,приключения',\n",
       "       'ужасы,триллер,мелодрама', 'военный,драма,история',\n",
       "       'драма,спорт,история', 'документальный,драма,история',\n",
       "       'триллер,мелодрама,детектив', 'детский,семейный',\n",
       "       'мюзикл,семейный,драма', 'биография,военный,драма',\n",
       "       'мультфильм,детский', 'боевик,криминал,драма',\n",
       "       'детектив,фэнтези,триллер', 'драма,боевик,приключения',\n",
       "       'драма,мелодрама,фэнтези', 'детектив,история,драма',\n",
       "       'фэнтези,боевик,ужасы', 'ужасы,фэнтези,мелодрама',\n",
       "       'ужасы,приключения', 'боевик,фантастика',\n",
       "       'ужасы,мелодрама,детектив', 'фантастика,триллер,приключения',\n",
       "       'боевик,приключения,история', 'приключения,боевик,триллер',\n",
       "       'детектив,ужасы,криминал', 'семейный,фэнтези', 'мюзикл,мелодрама',\n",
       "       'драма,военный,приключения', 'фантастика,драма,приключения',\n",
       "       'приключения,семейный,драма', 'история,драма,боевик',\n",
       "       'мультфильм,приключения,комедия', 'криминал,драма,комедия',\n",
       "       'ужасы,комедия,драма', 'комедия,семейный,приключения',\n",
       "       'мюзикл,фэнтези,драма', 'драма,вестерн,боевик',\n",
       "       'фантастика,триллер,детектив', 'драма,история,детектив',\n",
       "       'короткометражка,биография', 'мультфильм,приключения,фантастика',\n",
       "       'комедия,триллер', 'мультфильм,приключения,детектив',\n",
       "       'драма,триллер', 'ужасы,триллер,криминал',\n",
       "       'документальный,криминал,военный', 'ужасы,фэнтези,драма',\n",
       "       'фэнтези,комедия', 'ужасы,фэнтези,комедия', 'комедия,музыка,драма',\n",
       "       'мультфильм,приключения,военный', 'мюзикл,фэнтези,комедия',\n",
       "       'боевик,фантастика,приключения', 'триллер,ужасы,криминал',\n",
       "       'ужасы,фантастика,драма', 'фантастика,приключения,семейный',\n",
       "       'короткометражка,музыка', 'мелодрама,детектив,комедия',\n",
       "       'документальный,триллер,биография', 'боевик,фантастика,триллер',\n",
       "       'спорт,драма,комедия', 'фэнтези,мелодрама,приключения',\n",
       "       'триллер,детектив,криминал', 'короткометражка,мелодрама',\n",
       "       'мультфильм,семейный,спорт', 'комедия,фэнтези,мелодрама',\n",
       "       'драма,спорт,комедия', 'история,драма,мелодрама',\n",
       "       'драма,боевик,криминал', 'драма,комедия,триллер',\n",
       "       'аниме,мультфильм', 'документальный,ужасы',\n",
       "       'мультфильм,короткометражка', 'драма,история,военный',\n",
       "       'мультфильм,короткометражка,фэнтези', 'комедия,военный,музыка',\n",
       "       'биография,история,драма', 'ужасы,драма,мелодрама',\n",
       "       'драма,комедия,детектив', 'комедия,семейный,фантастика',\n",
       "       'мультфильм,семейный,комедия', 'история,детектив',\n",
       "       'приключения,мелодрама,детектив', 'мюзикл,комедия,мелодрама',\n",
       "       'драма,фантастика,ужасы', 'мультфильм,ужасы,комедия',\n",
       "       'для взрослых,драма,комедия', 'ужасы,комедия,музыка',\n",
       "       'комедия,история,драма', 'семейный,детектив,детский',\n",
       "       'короткометражка,драма', 'документальный,новости,драма',\n",
       "       'триллер,мелодрама', 'ужасы,драма,вестерн',\n",
       "       'мюзикл,фэнтези,семейный', 'вестерн,драма,триллер',\n",
       "       'приключения,вестерн,боевик', 'семейный,комедия,музыка',\n",
       "       'боевик,драма,вестерн', 'ужасы,драма,триллер',\n",
       "       'фантастика,мелодрама', 'комедия,криминал,биография',\n",
       "       'семейный,мультфильм,комедия', 'комедия,драма,криминал',\n",
       "       'фантастика,боевик,военный', 'приключения,биография,драма',\n",
       "       'приключения,триллер,биография', 'криминал,боевик,триллер',\n",
       "       'боевик,вестерн,приключения', 'история,драма',\n",
       "       'фантастика,фэнтези,комедия', 'мультфильм,детский,комедия',\n",
       "       'мелодрама,комедия,триллер', 'документальный,боевик,приключения',\n",
       "       'драма,приключения', 'мелодрама,военный,драма', 'триллер,фэнтези',\n",
       "       'драма,триллер,биография', 'фэнтези,боевик,семейный',\n",
       "       'фантастика,триллер,комедия', 'документальный,фэнтези',\n",
       "       'комедия,мультфильм,фантастика', 'криминал,биография,комедия',\n",
       "       'биография,спорт,драма', 'приключения,военный',\n",
       "       'мультфильм,семейный,драма', 'документальный,фэнтези,драма',\n",
       "       'комедия,боевик,фантастика', 'семейный,приключения,военный',\n",
       "       'триллер,ужасы,детектив', 'короткометражка',\n",
       "       'мелодрама,триллер,история', 'документальный,история',\n",
       "       'мультфильм,приключения,детский', 'драма,комедия,мультфильм',\n",
       "       'военный,детектив', 'семейный,приключения,документальный',\n",
       "       'детский,фэнтези', 'документальный,комедия', 'комедия,биография',\n",
       "       'криминал,комедия', 'спорт,мелодрама,криминал',\n",
       "       'фантастика,комедия,боевик', 'боевик,приключения,детектив',\n",
       "       'детектив,триллер,драма', 'документальный,фантастика',\n",
       "       'мелодрама,комедия,семейный', 'мультфильм,мелодрама,комедия',\n",
       "       'драма,спорт,семейный', 'фантастика,мелодрама,фэнтези',\n",
       "       'мюзикл,комедия,музыка', 'фантастика,триллер,мелодрама',\n",
       "       'приключения,комедия,фэнтези', 'фэнтези,боевик,детектив',\n",
       "       'фэнтези,боевик,мелодрама', 'комедия,военный',\n",
       "       'драма,спорт,боевик', 'мультфильм,боевик,триллер',\n",
       "       'мелодрама,семейный', 'фантастика,боевик,детектив',\n",
       "       'драма,приключения,история', 'документальный,драма,музыка',\n",
       "       'фантастика,триллер,боевик', 'фэнтези,боевик,вестерн',\n",
       "       'драма,комедия,мелодрама', 'ужасы,фэнтези,приключения',\n",
       "       'триллер,фэнтези,драма', 'мультфильм,мюзикл,мелодрама',\n",
       "       'ужасы,триллер,фантастика', 'триллер,мелодрама,комедия',\n",
       "       'ужасы,комедия,семейный', 'комедия,приключения,музыка',\n",
       "       'документальный,комедия,криминал', 'мелодрама,детектив',\n",
       "       'детский,приключения,фантастика', 'короткометражка,боевик,драма',\n",
       "       'боевик,комедия,семейный', 'фантастика,боевик,мелодрама',\n",
       "       'фэнтези,триллер,мелодрама', 'драма,детектив,история',\n",
       "       'боевик,криминал,детектив', 'мультфильм,фэнтези,мелодрама',\n",
       "       'мелодрама,драма,боевик', 'драма,вестерн,приключения',\n",
       "       'драма,приключения,мелодрама', 'фэнтези,боевик,криминал',\n",
       "       'фантастика,комедия,семейный', 'детский,фэнтези,приключения',\n",
       "       'ужасы,боевик', 'фантастика,мелодрама,комедия',\n",
       "       'семейный,спорт,боевик', 'триллер,биография,драма',\n",
       "       'ужасы,драма,комедия', 'мультфильм,фэнтези,триллер', 'мюзикл',\n",
       "       'боевик,спорт,драма', 'комедия,приключения,вестерн',\n",
       "       'документальный,ужасы,боевик', 'фантастика,боевик,семейный',\n",
       "       'военный,история', 'ужасы,боевик,криминал', 'детектив,триллер',\n",
       "       'драма,семейный,комедия', 'драма,детектив,приключения',\n",
       "       'драма,криминал,история', 'приключения,триллер',\n",
       "       'боевик,драма,биография', 'драма,приключения,триллер',\n",
       "       'комедия,фэнтези,приключения', 'фантастика,боевик,ужасы',\n",
       "       'драма,комедия,фантастика', 'детектив,криминал,драма',\n",
       "       'боевик,триллер,фэнтези', 'приключения,детектив,семейный',\n",
       "       'ужасы,комедия,криминал', 'мультфильм,биография,драма',\n",
       "       'история,боевик,фэнтези', 'детектив,криминал,боевик',\n",
       "       'приключения,фэнтези', 'комедия,приключения,спорт',\n",
       "       'драма,биография,мюзикл', 'комедия,семейный,фэнтези',\n",
       "       'детектив,драма,триллер', 'боевик,приключения,семейный',\n",
       "       'биография,спорт,комедия', 'фантастика,приключения,военный',\n",
       "       'документальный,драма,биография', 'детектив,приключения,драма',\n",
       "       'аниме,мультфильм,приключения', 'семейный,приключения',\n",
       "       'ужасы,фэнтези,детектив', 'семейный,документальный',\n",
       "       'драма,приключения,семейный', 'приключения,история,военный',\n",
       "       'фэнтези,мелодрама', 'фэнтези,триллер,детектив',\n",
       "       'документальный,спорт,биография', 'комедия,триллер,драма',\n",
       "       'драма,ужасы', 'биография,музыка,драма', 'фэнтези,ужасы',\n",
       "       'детектив,мелодрама,фэнтези', 'боевик,военный,история',\n",
       "       'биография,драма,криминал', 'триллер,мелодрама,криминал',\n",
       "       'семейный,мелодрама', 'биография,драма', 'военный,история,драма',\n",
       "       'фантастика,детектив,фэнтези', 'детектив,приключения,триллер',\n",
       "       'фантастика,приключения', 'мультфильм,короткометражка,мюзикл',\n",
       "       'мультфильм,детский,семейный', 'документальный,драма,комедия',\n",
       "       'комедия,приключения,криминал', 'документальный,семейный,музыка',\n",
       "       'мелодрама,музыка,драма', 'детектив,фантастика,триллер',\n",
       "       'драма,мелодрама,триллер', 'биография,драма,военный',\n",
       "       'приключения,фантастика,драма', 'детектив,фильм-нуар,комедия',\n",
       "       'документальный,спорт', 'триллер,фантастика,драма',\n",
       "       'биография,документальный', 'ужасы,фантастика,мелодрама',\n",
       "       'детектив,комедия', 'история,биография,военный',\n",
       "       'криминал,мелодрама', 'драма,криминал,вестерн',\n",
       "       'мелодрама,семейный,приключения', 'триллер,ужасы,мелодрама',\n",
       "       'фэнтези,драма,фильм-нуар', 'детектив,мелодрама',\n",
       "       'комедия,драма,биография', 'драма,военный,боевик',\n",
       "       'драма,комедия,ужасы', 'фантастика,драма,криминал',\n",
       "       'документальный,музыка,биография', 'мультфильм,боевик,приключения',\n",
       "       'короткометражка,фантастика', 'мультфильм,мелодрама,драма',\n",
       "       'боевик,военный,драма', 'фэнтези,семейный,приключения',\n",
       "       'детский,мультфильм,приключения', 'семейный,фэнтези,комедия',\n",
       "       'фэнтези,ужасы,триллер', 'ужасы,триллер,приключения',\n",
       "       'драма,боевик,история', 'фэнтези,комедия,детектив',\n",
       "       'история,приключения', 'аниме,мультфильм,короткометражка',\n",
       "       'драма,военный,триллер', 'биография,криминал,триллер',\n",
       "       'фантастика,фэнтези,детектив', 'вестерн,биография,драма',\n",
       "       'биография,музыка,мюзикл', 'драма,история,биография',\n",
       "       'приключения,драма,фантастика', 'комедия,фэнтези,криминал',\n",
       "       'биография,спорт,история', 'драма,криминал,семейный',\n",
       "       'детектив,боевик,история', 'ужасы,комедия,детектив',\n",
       "       'триллер,приключения,драма', 'фэнтези,комедия,криминал',\n",
       "       'триллер,криминал,приключения', 'комедия,детектив,приключения',\n",
       "       'фэнтези,драма,ужасы', 'ужасы,драма,военный', 'реальное ТВ',\n",
       "       'аниме,мультфильм,детектив', 'приключения,фэнтези,семейный',\n",
       "       'драма,биография,комедия', 'триллер,комедия,ужасы',\n",
       "       'музыка,мелодрама,фэнтези', 'мультфильм,история',\n",
       "       'мультфильм,комедия,фантастика', 'биография,криминал,драма',\n",
       "       'комедия,мелодрама,фантастика', 'криминал,боевик,комедия',\n",
       "       'история,криминал', 'детектив,комедия,драма',\n",
       "       'триллер,фантастика,боевик', 'криминал,боевик',\n",
       "       'комедия,драма,военный', 'драма,триллер,криминал',\n",
       "       'мультфильм,мелодрама,приключения', 'фантастика,фэнтези,триллер',\n",
       "       'короткометражка,драма,триллер', 'военный,боевик,история',\n",
       "       'боевик,драма,триллер', 'документальный,военный,драма',\n",
       "       'драма,криминал,фильм-нуар', 'мультфильм,детский,приключения',\n",
       "       'мелодрама,история,драма'], dtype=object)"
      ]
     },
     "execution_count": 44,
     "metadata": {},
     "output_type": "execute_result"
    }
   ],
   "source": [
    "data['genres'].unique()"
   ]
  },
  {
   "cell_type": "markdown",
   "id": "9d88c6c2",
   "metadata": {},
   "source": [
    "Основная проблема таких категориальных столбцов, как `production_country`, `director`, `producer`, `genres` в том, что они содержат множественные значения в строках. По ним сложно фильтровать данные, приходится брать первые значения в строках (\"главный показатель\"), что не всегда корректно. Пример: \"мультфильм,фэнтези,комедия\" - неизвестный итоговый жанр. Или \"Том Гораи, Марк Сэмюэлсон, Питер Сэмюэлсон\" - кто основной продюсер и т.д."
   ]
  },
  {
   "cell_type": "markdown",
   "id": "3a08f9d6",
   "metadata": {},
   "source": [
    "### Проверка количественных значений"
   ]
  },
  {
   "cell_type": "markdown",
   "id": "3662549b",
   "metadata": {},
   "source": [
    "Проверим столбцы `budget`, `box_office` на подозрительные значения:"
   ]
  },
  {
   "cell_type": "code",
   "execution_count": 45,
   "id": "cd1e358c",
   "metadata": {},
   "outputs": [
    {
     "data": {
      "text/html": [
       "<div>\n",
       "<style scoped>\n",
       "    .dataframe tbody tr th:only-of-type {\n",
       "        vertical-align: middle;\n",
       "    }\n",
       "\n",
       "    .dataframe tbody tr th {\n",
       "        vertical-align: top;\n",
       "    }\n",
       "\n",
       "    .dataframe thead th {\n",
       "        text-align: right;\n",
       "    }\n",
       "</style>\n",
       "<table border=\"1\" class=\"dataframe\">\n",
       "  <thead>\n",
       "    <tr style=\"text-align: right;\">\n",
       "      <th></th>\n",
       "      <th>pu_number</th>\n",
       "      <th>refundable_support</th>\n",
       "      <th>nonrefundable_support</th>\n",
       "      <th>budget</th>\n",
       "      <th>ratings</th>\n",
       "      <th>box_office</th>\n",
       "    </tr>\n",
       "  </thead>\n",
       "  <tbody>\n",
       "    <tr>\n",
       "      <th>count</th>\n",
       "      <td>7,486.00</td>\n",
       "      <td>332.00</td>\n",
       "      <td>332.00</td>\n",
       "      <td>332.00</td>\n",
       "      <td>6,519.00</td>\n",
       "      <td>3,158.00</td>\n",
       "    </tr>\n",
       "    <tr>\n",
       "      <th>mean</th>\n",
       "      <td>138,368,985.34</td>\n",
       "      <td>11,864,457.83</td>\n",
       "      <td>48,980,988.89</td>\n",
       "      <td>127,229,716.68</td>\n",
       "      <td>6.49</td>\n",
       "      <td>76,478,696.16</td>\n",
       "    </tr>\n",
       "    <tr>\n",
       "      <th>std</th>\n",
       "      <td>258,037,015.45</td>\n",
       "      <td>24,916,555.26</td>\n",
       "      <td>59,980,117.92</td>\n",
       "      <td>188,588,333.12</td>\n",
       "      <td>1.11</td>\n",
       "      <td>240,353,122.82</td>\n",
       "    </tr>\n",
       "    <tr>\n",
       "      <th>min</th>\n",
       "      <td>0.00</td>\n",
       "      <td>0.00</td>\n",
       "      <td>0.00</td>\n",
       "      <td>0.00</td>\n",
       "      <td>1.00</td>\n",
       "      <td>0.00</td>\n",
       "    </tr>\n",
       "    <tr>\n",
       "      <th>25%</th>\n",
       "      <td>112,025,043.00</td>\n",
       "      <td>0.00</td>\n",
       "      <td>25,000,000.00</td>\n",
       "      <td>42,000,000.00</td>\n",
       "      <td>5.90</td>\n",
       "      <td>86,239.00</td>\n",
       "    </tr>\n",
       "    <tr>\n",
       "      <th>50%</th>\n",
       "      <td>121,015,464.50</td>\n",
       "      <td>0.00</td>\n",
       "      <td>30,000,000.00</td>\n",
       "      <td>68,649,916.00</td>\n",
       "      <td>6.60</td>\n",
       "      <td>2,327,987.55</td>\n",
       "    </tr>\n",
       "    <tr>\n",
       "      <th>75%</th>\n",
       "      <td>124,003,313.75</td>\n",
       "      <td>15,000,000.00</td>\n",
       "      <td>40,375,000.00</td>\n",
       "      <td>141,985,319.50</td>\n",
       "      <td>7.20</td>\n",
       "      <td>23,979,671.02</td>\n",
       "    </tr>\n",
       "    <tr>\n",
       "      <th>max</th>\n",
       "      <td>22,115,431,011.00</td>\n",
       "      <td>180,000,000.00</td>\n",
       "      <td>400,000,000.00</td>\n",
       "      <td>2,305,074,303.00</td>\n",
       "      <td>9.90</td>\n",
       "      <td>3,073,568,690.79</td>\n",
       "    </tr>\n",
       "  </tbody>\n",
       "</table>\n",
       "</div>"
      ],
      "text/plain": [
       "              pu_number  refundable_support  nonrefundable_support  \\\n",
       "count          7,486.00              332.00                 332.00   \n",
       "mean     138,368,985.34       11,864,457.83          48,980,988.89   \n",
       "std      258,037,015.45       24,916,555.26          59,980,117.92   \n",
       "min                0.00                0.00                   0.00   \n",
       "25%      112,025,043.00                0.00          25,000,000.00   \n",
       "50%      121,015,464.50                0.00          30,000,000.00   \n",
       "75%      124,003,313.75       15,000,000.00          40,375,000.00   \n",
       "max   22,115,431,011.00      180,000,000.00         400,000,000.00   \n",
       "\n",
       "                budget  ratings       box_office  \n",
       "count           332.00 6,519.00         3,158.00  \n",
       "mean    127,229,716.68     6.49    76,478,696.16  \n",
       "std     188,588,333.12     1.11   240,353,122.82  \n",
       "min               0.00     1.00             0.00  \n",
       "25%      42,000,000.00     5.90        86,239.00  \n",
       "50%      68,649,916.00     6.60     2,327,987.55  \n",
       "75%     141,985,319.50     7.20    23,979,671.02  \n",
       "max   2,305,074,303.00     9.90 3,073,568,690.79  "
      ]
     },
     "execution_count": 45,
     "metadata": {},
     "output_type": "execute_result"
    }
   ],
   "source": [
    "data.describe()"
   ]
  },
  {
   "cell_type": "code",
   "execution_count": 46,
   "id": "6c615057",
   "metadata": {},
   "outputs": [
    {
     "data": {
      "text/plain": [
       "0.00              17\n",
       "38,000,000.00      6\n",
       "80,000,000.00      4\n",
       "50,000,000.00      4\n",
       "40,000,000.00      3\n",
       "                  ..\n",
       "49,280,496.00      1\n",
       "56,693,559.00      1\n",
       "57,166,797.00      1\n",
       "109,814,241.00     1\n",
       "42,252,509.00      1\n",
       "Name: budget, Length: 290, dtype: int64"
      ]
     },
     "execution_count": 46,
     "metadata": {},
     "output_type": "execute_result"
    }
   ],
   "source": [
    "data['budget'].value_counts()"
   ]
  },
  {
   "cell_type": "markdown",
   "id": "fa70818f",
   "metadata": {},
   "source": [
    "#Обнаружено 17 значений с бюджетом, равным 0. Возможно, они являются ошибками. Посмотрим на строки с такими значениями:"
   ]
  },
  {
   "cell_type": "markdown",
   "id": "bb0be272",
   "metadata": {},
   "source": [
    "#Подозрительно выглядят фильмы с нулевым бюджетом и наличием средств господдержки одновременно. Логично предположить, что такие средства и составляют бюджет фильма (или бюджет по каким-то другим причинам не указали). Примем первую аксиому и заполним нули в бюджете для таких случаев значениями возвратных и невозвратных средств:"
   ]
  },
  {
   "cell_type": "markdown",
   "id": "b886e50e",
   "metadata": {},
   "source": [
    "Посмотрим, сколько в датафрейме строк с одновременным условием: нулевой бюджет и ненулевое значение невозвратных средств господдержки:"
   ]
  },
  {
   "cell_type": "code",
   "execution_count": 48,
   "id": "6c745db5",
   "metadata": {},
   "outputs": [
    {
     "data": {
      "text/plain": [
       "16"
      ]
     },
     "execution_count": 48,
     "metadata": {},
     "output_type": "execute_result"
    }
   ],
   "source": [
    "data[(data['nonrefundable_support'] != 0) & (data['budget'] == 0)]['financing_source'].count()"
   ]
  },
  {
   "cell_type": "markdown",
   "id": "13727a5f",
   "metadata": {},
   "source": [
    "Обнаружено 16 таких строк, удалим их:"
   ]
  },
  {
   "cell_type": "code",
   "execution_count": 50,
   "id": "2ea102ff",
   "metadata": {},
   "outputs": [],
   "source": [
    "data = data[(data['nonrefundable_support'] != 0) & (data['budget'] != 0)]"
   ]
  },
  {
   "cell_type": "markdown",
   "id": "0a621b52",
   "metadata": {},
   "source": [
    "и проверим результат:"
   ]
  },
  {
   "cell_type": "code",
   "execution_count": 51,
   "id": "f42c0516",
   "metadata": {},
   "outputs": [
    {
     "data": {
      "text/plain": [
       "0"
      ]
     },
     "execution_count": 51,
     "metadata": {},
     "output_type": "execute_result"
    }
   ],
   "source": [
    "data[(data['nonrefundable_support'] != 0) & (data['budget'] == 0)]['financing_source'].count()"
   ]
  },
  {
   "cell_type": "markdown",
   "id": "cba0a8e3",
   "metadata": {},
   "source": [
    "Проверим, остались ли строки с `nonrefundable_support`, равным нулю:"
   ]
  },
  {
   "cell_type": "code",
   "execution_count": 52,
   "id": "f2e262b2",
   "metadata": {},
   "outputs": [
    {
     "data": {
      "text/plain": [
       "0"
      ]
     },
     "execution_count": 52,
     "metadata": {},
     "output_type": "execute_result"
    }
   ],
   "source": [
    "data.loc[data['nonrefundable_support'] == 0]['financing_source'].count()"
   ]
  },
  {
   "cell_type": "markdown",
   "id": "ecc22da0",
   "metadata": {},
   "source": [
    "Проверим, есть ли подозрительные значения в столбце `box_office`:"
   ]
  },
  {
   "cell_type": "code",
   "execution_count": 53,
   "id": "c07ee4e4",
   "metadata": {
    "scrolled": true
   },
   "outputs": [
    {
     "data": {
      "text/plain": [
       "0.00              24\n",
       "200.00            13\n",
       "300.00            12\n",
       "360.00             9\n",
       "400.00             8\n",
       "                  ..\n",
       "809,638,458.60     1\n",
       "220,728.00         1\n",
       "11,332,412.00      1\n",
       "268,550,254.00     1\n",
       "52,984,377.00      1\n",
       "Name: box_office, Length: 2913, dtype: int64"
      ]
     },
     "execution_count": 53,
     "metadata": {},
     "output_type": "execute_result"
    }
   ],
   "source": [
    "data['box_office'].value_counts()"
   ]
  },
  {
   "cell_type": "markdown",
   "id": "8bc5c0ea",
   "metadata": {},
   "source": [
    "В столбце есть аномально низкие значения кассовых сборов. Выведем строки с `box_office` от 0 до 100 тыс.руб.:"
   ]
  },
  {
   "cell_type": "code",
   "execution_count": 54,
   "id": "995485c2",
   "metadata": {},
   "outputs": [
    {
     "data": {
      "text/html": [
       "<div>\n",
       "<style scoped>\n",
       "    .dataframe tbody tr th:only-of-type {\n",
       "        vertical-align: middle;\n",
       "    }\n",
       "\n",
       "    .dataframe tbody tr th {\n",
       "        vertical-align: top;\n",
       "    }\n",
       "\n",
       "    .dataframe thead th {\n",
       "        text-align: right;\n",
       "    }\n",
       "</style>\n",
       "<table border=\"1\" class=\"dataframe\">\n",
       "  <thead>\n",
       "    <tr style=\"text-align: right;\">\n",
       "      <th></th>\n",
       "      <th>title</th>\n",
       "      <th>pu_number</th>\n",
       "      <th>show_start_date</th>\n",
       "      <th>type</th>\n",
       "      <th>film_studio</th>\n",
       "      <th>production_country</th>\n",
       "      <th>director</th>\n",
       "      <th>producer</th>\n",
       "      <th>age_restriction</th>\n",
       "      <th>refundable_support</th>\n",
       "      <th>nonrefundable_support</th>\n",
       "      <th>budget</th>\n",
       "      <th>financing_source</th>\n",
       "      <th>ratings</th>\n",
       "      <th>genres</th>\n",
       "      <th>pu_number_except</th>\n",
       "      <th>box_office</th>\n",
       "    </tr>\n",
       "  </thead>\n",
       "  <tbody>\n",
       "    <tr>\n",
       "      <th>6</th>\n",
       "      <td>Любовь и голуби</td>\n",
       "      <td>111007013</td>\n",
       "      <td>2013-10-18 12:00:00</td>\n",
       "      <td>Художественный</td>\n",
       "      <td>Киностудия \"Мосфильм\"</td>\n",
       "      <td>СССР</td>\n",
       "      <td>В.Меньшов</td>\n",
       "      <td>unknown</td>\n",
       "      <td>«12+» - для детей старше 12 лет</td>\n",
       "      <td>NaN</td>\n",
       "      <td>NaN</td>\n",
       "      <td>NaN</td>\n",
       "      <td>NaN</td>\n",
       "      <td>8.30</td>\n",
       "      <td>мелодрама,комедия</td>\n",
       "      <td>True</td>\n",
       "      <td>2,700.00</td>\n",
       "    </tr>\n",
       "    <tr>\n",
       "      <th>18</th>\n",
       "      <td>Неподдающиеся</td>\n",
       "      <td>111003616</td>\n",
       "      <td>2016-02-12 12:00:00</td>\n",
       "      <td>Художественный</td>\n",
       "      <td>Киностудия \"Мосфильм\"</td>\n",
       "      <td>СССР</td>\n",
       "      <td>Ю.Чулюкин</td>\n",
       "      <td>unknown</td>\n",
       "      <td>«6+» - для детей старше 6 лет</td>\n",
       "      <td>NaN</td>\n",
       "      <td>NaN</td>\n",
       "      <td>NaN</td>\n",
       "      <td>NaN</td>\n",
       "      <td>8.00</td>\n",
       "      <td>мелодрама,комедия</td>\n",
       "      <td>True</td>\n",
       "      <td>360.00</td>\n",
       "    </tr>\n",
       "    <tr>\n",
       "      <th>19</th>\n",
       "      <td>Неподсуден</td>\n",
       "      <td>111003716</td>\n",
       "      <td>2016-02-12 12:00:00</td>\n",
       "      <td>Художественный</td>\n",
       "      <td>Киностудия \"Мосфильм\"</td>\n",
       "      <td>СССР</td>\n",
       "      <td>В.Краснопольский, В.Усков</td>\n",
       "      <td>unknown</td>\n",
       "      <td>«6+» - для детей старше 6 лет</td>\n",
       "      <td>NaN</td>\n",
       "      <td>NaN</td>\n",
       "      <td>NaN</td>\n",
       "      <td>NaN</td>\n",
       "      <td>7.70</td>\n",
       "      <td>драма</td>\n",
       "      <td>True</td>\n",
       "      <td>420.00</td>\n",
       "    </tr>\n",
       "    <tr>\n",
       "      <th>22</th>\n",
       "      <td>Операция \"Ы\" и другие приключения Шурика</td>\n",
       "      <td>111007413</td>\n",
       "      <td>2013-10-18 12:00:00</td>\n",
       "      <td>Художественный</td>\n",
       "      <td>Киностудия \"Мосфильм\"</td>\n",
       "      <td>СССР</td>\n",
       "      <td>Л.Гайдай</td>\n",
       "      <td>unknown</td>\n",
       "      <td>«6+» - для детей старше 6 лет</td>\n",
       "      <td>NaN</td>\n",
       "      <td>NaN</td>\n",
       "      <td>NaN</td>\n",
       "      <td>NaN</td>\n",
       "      <td>8.70</td>\n",
       "      <td>комедия,мелодрама,криминал</td>\n",
       "      <td>True</td>\n",
       "      <td>380.00</td>\n",
       "    </tr>\n",
       "    <tr>\n",
       "      <th>38</th>\n",
       "      <td>Мужики!..</td>\n",
       "      <td>111007213</td>\n",
       "      <td>2013-10-18 12:00:00</td>\n",
       "      <td>Художественный</td>\n",
       "      <td>Киностудия \"Мосфильм\"</td>\n",
       "      <td>СССР</td>\n",
       "      <td>И.Бабич</td>\n",
       "      <td>unknown</td>\n",
       "      <td>«6+» - для детей старше 6 лет</td>\n",
       "      <td>NaN</td>\n",
       "      <td>NaN</td>\n",
       "      <td>NaN</td>\n",
       "      <td>NaN</td>\n",
       "      <td>8.10</td>\n",
       "      <td>драма</td>\n",
       "      <td>True</td>\n",
       "      <td>1,165.00</td>\n",
       "    </tr>\n",
       "    <tr>\n",
       "      <th>...</th>\n",
       "      <td>...</td>\n",
       "      <td>...</td>\n",
       "      <td>...</td>\n",
       "      <td>...</td>\n",
       "      <td>...</td>\n",
       "      <td>...</td>\n",
       "      <td>...</td>\n",
       "      <td>...</td>\n",
       "      <td>...</td>\n",
       "      <td>...</td>\n",
       "      <td>...</td>\n",
       "      <td>...</td>\n",
       "      <td>...</td>\n",
       "      <td>...</td>\n",
       "      <td>...</td>\n",
       "      <td>...</td>\n",
       "      <td>...</td>\n",
       "    </tr>\n",
       "    <tr>\n",
       "      <th>7154</th>\n",
       "      <td>Созданный в Бездне - Блуждающие сумерки</td>\n",
       "      <td>124006219</td>\n",
       "      <td>2019-08-15 12:00:00</td>\n",
       "      <td>Анимационный</td>\n",
       "      <td>Кинема Цитрус Ко.</td>\n",
       "      <td>Япония</td>\n",
       "      <td>Масаюки Кодзима</td>\n",
       "      <td>Мунэки Огасавара</td>\n",
       "      <td>«18+» - запрещено для детей</td>\n",
       "      <td>NaN</td>\n",
       "      <td>NaN</td>\n",
       "      <td>NaN</td>\n",
       "      <td>NaN</td>\n",
       "      <td>8.00</td>\n",
       "      <td>аниме,мультфильм,детектив</td>\n",
       "      <td>True</td>\n",
       "      <td>73,700.00</td>\n",
       "    </tr>\n",
       "    <tr>\n",
       "      <th>7155</th>\n",
       "      <td>Созданный в Бездне - Рассвет путешествия</td>\n",
       "      <td>124006319</td>\n",
       "      <td>2019-08-15 12:00:00</td>\n",
       "      <td>Анимационный</td>\n",
       "      <td>Кинема Цитрус Ко.</td>\n",
       "      <td>Япония</td>\n",
       "      <td>Масаюки Кодзима</td>\n",
       "      <td>Мунэки Огасавара</td>\n",
       "      <td>«16+» - для детей старше 16 лет</td>\n",
       "      <td>NaN</td>\n",
       "      <td>NaN</td>\n",
       "      <td>NaN</td>\n",
       "      <td>NaN</td>\n",
       "      <td>7.90</td>\n",
       "      <td>аниме,мультфильм,детектив</td>\n",
       "      <td>True</td>\n",
       "      <td>75,300.00</td>\n",
       "    </tr>\n",
       "    <tr>\n",
       "      <th>7205</th>\n",
       "      <td>Диего Марадона</td>\n",
       "      <td>126003519</td>\n",
       "      <td>2019-09-14 12:00:00</td>\n",
       "      <td>Прочие</td>\n",
       "      <td>Филм Фо, Лортон Интертейнмент, Корнер Филмз</td>\n",
       "      <td>Великобритания</td>\n",
       "      <td>Азиф Кападиа</td>\n",
       "      <td>Джеймс Гэй-Рис, Пол Мартин</td>\n",
       "      <td>«16+» - для детей старше 16 лет</td>\n",
       "      <td>NaN</td>\n",
       "      <td>NaN</td>\n",
       "      <td>NaN</td>\n",
       "      <td>NaN</td>\n",
       "      <td>7.70</td>\n",
       "      <td>документальный,спорт,биография</td>\n",
       "      <td>True</td>\n",
       "      <td>38,330.00</td>\n",
       "    </tr>\n",
       "    <tr>\n",
       "      <th>7421</th>\n",
       "      <td>Балет сегодня</td>\n",
       "      <td>126007219</td>\n",
       "      <td>2019-12-01 12:00:00</td>\n",
       "      <td>Прочие</td>\n",
       "      <td>Догвуф Фильм Дистрибьюшн, Лексикат Артистс, Ст...</td>\n",
       "      <td>США</td>\n",
       "      <td>Стивен Кантор</td>\n",
       "      <td>П.Дж.Аллен, А.Блаватник, О.Блаватник, Д.Гарги,...</td>\n",
       "      <td>«16+» - для детей старше 16 лет</td>\n",
       "      <td>NaN</td>\n",
       "      <td>NaN</td>\n",
       "      <td>NaN</td>\n",
       "      <td>NaN</td>\n",
       "      <td>NaN</td>\n",
       "      <td>unknown</td>\n",
       "      <td>True</td>\n",
       "      <td>59,829.00</td>\n",
       "    </tr>\n",
       "    <tr>\n",
       "      <th>7422</th>\n",
       "      <td>Лил Бак: Настоящий Лебедь</td>\n",
       "      <td>126007319</td>\n",
       "      <td>2019-12-01 12:00:00</td>\n",
       "      <td>Прочие</td>\n",
       "      <td>Версатий Фильм</td>\n",
       "      <td>Франция</td>\n",
       "      <td>Луи Валлекан</td>\n",
       "      <td>К.Арммер мл., Л.Бак, Ч.Райли, М.Хейдельбергер,...</td>\n",
       "      <td>«16+» - для детей старше 16 лет</td>\n",
       "      <td>NaN</td>\n",
       "      <td>NaN</td>\n",
       "      <td>NaN</td>\n",
       "      <td>NaN</td>\n",
       "      <td>NaN</td>\n",
       "      <td>unknown</td>\n",
       "      <td>True</td>\n",
       "      <td>83,285.00</td>\n",
       "    </tr>\n",
       "  </tbody>\n",
       "</table>\n",
       "<p>806 rows × 17 columns</p>\n",
       "</div>"
      ],
      "text/plain": [
       "                                         title  pu_number     show_start_date  \\\n",
       "6                              Любовь и голуби  111007013 2013-10-18 12:00:00   \n",
       "18                               Неподдающиеся  111003616 2016-02-12 12:00:00   \n",
       "19                                  Неподсуден  111003716 2016-02-12 12:00:00   \n",
       "22    Операция \"Ы\" и другие приключения Шурика  111007413 2013-10-18 12:00:00   \n",
       "38                                   Мужики!..  111007213 2013-10-18 12:00:00   \n",
       "...                                        ...        ...                 ...   \n",
       "7154   Созданный в Бездне - Блуждающие сумерки  124006219 2019-08-15 12:00:00   \n",
       "7155  Созданный в Бездне - Рассвет путешествия  124006319 2019-08-15 12:00:00   \n",
       "7205                            Диего Марадона  126003519 2019-09-14 12:00:00   \n",
       "7421                             Балет сегодня  126007219 2019-12-01 12:00:00   \n",
       "7422                 Лил Бак: Настоящий Лебедь  126007319 2019-12-01 12:00:00   \n",
       "\n",
       "                type                                        film_studio  \\\n",
       "6     Художественный                              Киностудия \"Мосфильм\"   \n",
       "18    Художественный                              Киностудия \"Мосфильм\"   \n",
       "19    Художественный                              Киностудия \"Мосфильм\"   \n",
       "22    Художественный                              Киностудия \"Мосфильм\"   \n",
       "38    Художественный                              Киностудия \"Мосфильм\"   \n",
       "...              ...                                                ...   \n",
       "7154    Анимационный                                  Кинема Цитрус Ко.   \n",
       "7155    Анимационный                                  Кинема Цитрус Ко.   \n",
       "7205          Прочие        Филм Фо, Лортон Интертейнмент, Корнер Филмз   \n",
       "7421          Прочие  Догвуф Фильм Дистрибьюшн, Лексикат Артистс, Ст...   \n",
       "7422          Прочие                                     Версатий Фильм   \n",
       "\n",
       "     production_country                   director  \\\n",
       "6                  СССР                  В.Меньшов   \n",
       "18                 СССР                  Ю.Чулюкин   \n",
       "19                 СССР  В.Краснопольский, В.Усков   \n",
       "22                 СССР                   Л.Гайдай   \n",
       "38                 СССР                    И.Бабич   \n",
       "...                 ...                        ...   \n",
       "7154             Япония            Масаюки Кодзима   \n",
       "7155             Япония            Масаюки Кодзима   \n",
       "7205     Великобритания               Азиф Кападиа   \n",
       "7421                США              Стивен Кантор   \n",
       "7422            Франция               Луи Валлекан   \n",
       "\n",
       "                                               producer  \\\n",
       "6                                               unknown   \n",
       "18                                              unknown   \n",
       "19                                              unknown   \n",
       "22                                              unknown   \n",
       "38                                              unknown   \n",
       "...                                                 ...   \n",
       "7154                                   Мунэки Огасавара   \n",
       "7155                                   Мунэки Огасавара   \n",
       "7205                         Джеймс Гэй-Рис, Пол Мартин   \n",
       "7421  П.Дж.Аллен, А.Блаватник, О.Блаватник, Д.Гарги,...   \n",
       "7422  К.Арммер мл., Л.Бак, Ч.Райли, М.Хейдельбергер,...   \n",
       "\n",
       "                      age_restriction  refundable_support  \\\n",
       "6     «12+» - для детей старше 12 лет                 NaN   \n",
       "18      «6+» - для детей старше 6 лет                 NaN   \n",
       "19      «6+» - для детей старше 6 лет                 NaN   \n",
       "22      «6+» - для детей старше 6 лет                 NaN   \n",
       "38      «6+» - для детей старше 6 лет                 NaN   \n",
       "...                               ...                 ...   \n",
       "7154      «18+» - запрещено для детей                 NaN   \n",
       "7155  «16+» - для детей старше 16 лет                 NaN   \n",
       "7205  «16+» - для детей старше 16 лет                 NaN   \n",
       "7421  «16+» - для детей старше 16 лет                 NaN   \n",
       "7422  «16+» - для детей старше 16 лет                 NaN   \n",
       "\n",
       "      nonrefundable_support  budget financing_source  ratings  \\\n",
       "6                       NaN     NaN              NaN     8.30   \n",
       "18                      NaN     NaN              NaN     8.00   \n",
       "19                      NaN     NaN              NaN     7.70   \n",
       "22                      NaN     NaN              NaN     8.70   \n",
       "38                      NaN     NaN              NaN     8.10   \n",
       "...                     ...     ...              ...      ...   \n",
       "7154                    NaN     NaN              NaN     8.00   \n",
       "7155                    NaN     NaN              NaN     7.90   \n",
       "7205                    NaN     NaN              NaN     7.70   \n",
       "7421                    NaN     NaN              NaN      NaN   \n",
       "7422                    NaN     NaN              NaN      NaN   \n",
       "\n",
       "                              genres  pu_number_except  box_office  \n",
       "6                  мелодрама,комедия              True    2,700.00  \n",
       "18                 мелодрама,комедия              True      360.00  \n",
       "19                             драма              True      420.00  \n",
       "22        комедия,мелодрама,криминал              True      380.00  \n",
       "38                             драма              True    1,165.00  \n",
       "...                              ...               ...         ...  \n",
       "7154       аниме,мультфильм,детектив              True   73,700.00  \n",
       "7155       аниме,мультфильм,детектив              True   75,300.00  \n",
       "7205  документальный,спорт,биография              True   38,330.00  \n",
       "7421                         unknown              True   59,829.00  \n",
       "7422                         unknown              True   83,285.00  \n",
       "\n",
       "[806 rows x 17 columns]"
      ]
     },
     "execution_count": 54,
     "metadata": {},
     "output_type": "execute_result"
    }
   ],
   "source": [
    "data.loc[(data['box_office'] >= 0)&(data['box_office'] <= 100000)]"
   ]
  },
  {
   "cell_type": "markdown",
   "id": "e7ff040a",
   "metadata": {},
   "source": [
    "806 строк - большое значение, в списке есть культовые фильмы, которые не могут быть с таким значением `box_office`. Скорее всего, тут ошибка заполнения данных или сумма указана не в руб., а в млн. руб. С этими строками ничего нельзя сделать, оставляем как есть."
   ]
  },
  {
   "cell_type": "markdown",
   "id": "e9ded632",
   "metadata": {},
   "source": [
    "В остальных количественных столбцах `refundable_support`, `nonrefundable_support` и `ratings` подозрительные данные выявлены не были, наличие нулей или отсутствие данных вполне обосновано."
   ]
  },
  {
   "cell_type": "markdown",
   "id": "c3855d80",
   "metadata": {},
   "source": [
    "### Добавление новых столбцов"
   ]
  },
  {
   "cell_type": "markdown",
   "id": "6083f851",
   "metadata": {},
   "source": [
    "Создадим столбец `start_year` с информацией о годе проката:"
   ]
  },
  {
   "cell_type": "code",
   "execution_count": 55,
   "id": "6c1b74a0",
   "metadata": {},
   "outputs": [],
   "source": [
    "data['start_year'] = pd.DatetimeIndex(data['show_start_date']).year"
   ]
  },
  {
   "cell_type": "markdown",
   "id": "d4fcb8b7",
   "metadata": {},
   "source": [
    "Создадим два столбца: с именем и фамилией режиссёра `director_name` и основным жанром фильма `main_genre`. В столбцы войдут первые значения из списка режиссёров и жанров соответственно:"
   ]
  },
  {
   "cell_type": "code",
   "execution_count": 56,
   "id": "dcddd39a",
   "metadata": {},
   "outputs": [],
   "source": [
    "data['director_name'] = data['director'].str.split(',').str[0]"
   ]
  },
  {
   "cell_type": "code",
   "execution_count": 57,
   "id": "8985c3fa",
   "metadata": {},
   "outputs": [],
   "source": [
    "data['main_genre'] = data['genres'].str.split(',').str[0]"
   ]
  },
  {
   "cell_type": "markdown",
   "id": "81b2e45e",
   "metadata": {},
   "source": [
    "Проверим, что новые столбцы добавлены корректно:"
   ]
  },
  {
   "cell_type": "code",
   "execution_count": 58,
   "id": "18cb7dcb",
   "metadata": {
    "scrolled": true
   },
   "outputs": [
    {
     "data": {
      "text/html": [
       "<div>\n",
       "<style scoped>\n",
       "    .dataframe tbody tr th:only-of-type {\n",
       "        vertical-align: middle;\n",
       "    }\n",
       "\n",
       "    .dataframe tbody tr th {\n",
       "        vertical-align: top;\n",
       "    }\n",
       "\n",
       "    .dataframe thead th {\n",
       "        text-align: right;\n",
       "    }\n",
       "</style>\n",
       "<table border=\"1\" class=\"dataframe\">\n",
       "  <thead>\n",
       "    <tr style=\"text-align: right;\">\n",
       "      <th></th>\n",
       "      <th>start_year</th>\n",
       "      <th>director_name</th>\n",
       "      <th>main_genre</th>\n",
       "    </tr>\n",
       "  </thead>\n",
       "  <tbody>\n",
       "    <tr>\n",
       "      <th>0</th>\n",
       "      <td>2015</td>\n",
       "      <td>Кевин Костнер</td>\n",
       "      <td>боевик</td>\n",
       "    </tr>\n",
       "    <tr>\n",
       "      <th>1</th>\n",
       "      <td>2016</td>\n",
       "      <td>Е.Матвеев</td>\n",
       "      <td>драма</td>\n",
       "    </tr>\n",
       "    <tr>\n",
       "      <th>2</th>\n",
       "      <td>2016</td>\n",
       "      <td>Тимур Бекмамбетов</td>\n",
       "      <td>фантастика</td>\n",
       "    </tr>\n",
       "    <tr>\n",
       "      <th>3</th>\n",
       "      <td>2016</td>\n",
       "      <td>Тимур Бекмамбетов</td>\n",
       "      <td>фантастика</td>\n",
       "    </tr>\n",
       "    <tr>\n",
       "      <th>4</th>\n",
       "      <td>2015</td>\n",
       "      <td>Тимур Бекмамбетов</td>\n",
       "      <td>фантастика</td>\n",
       "    </tr>\n",
       "  </tbody>\n",
       "</table>\n",
       "</div>"
      ],
      "text/plain": [
       "   start_year      director_name  main_genre\n",
       "0        2015      Кевин Костнер      боевик\n",
       "1        2016          Е.Матвеев       драма\n",
       "2        2016  Тимур Бекмамбетов  фантастика\n",
       "3        2016  Тимур Бекмамбетов  фантастика\n",
       "4        2015  Тимур Бекмамбетов  фантастика"
      ]
     },
     "execution_count": 58,
     "metadata": {},
     "output_type": "execute_result"
    }
   ],
   "source": [
    "data[['start_year', 'director_name', 'main_genre']].head()"
   ]
  },
  {
   "cell_type": "markdown",
   "id": "e4ec592e",
   "metadata": {},
   "source": [
    "Создадим столбец, содержащий информацию, какую долю от общего бюджета фильма составляет государственная поддержка. Разделим общую сумму господдержки на бюджет фильма, выведем значения в процентах, округлённые до 2-х знаков:"
   ]
  },
  {
   "cell_type": "code",
   "execution_count": 59,
   "id": "f4925e3e",
   "metadata": {},
   "outputs": [],
   "source": [
    "data['support_ratio'] = ((data['refundable_support'] + data['nonrefundable_support']) * 100 / data['budget']).round(2)"
   ]
  },
  {
   "cell_type": "code",
   "execution_count": 60,
   "id": "b17a8f18",
   "metadata": {
    "scrolled": true
   },
   "outputs": [
    {
     "data": {
      "text/html": [
       "<div>\n",
       "<style scoped>\n",
       "    .dataframe tbody tr th:only-of-type {\n",
       "        vertical-align: middle;\n",
       "    }\n",
       "\n",
       "    .dataframe tbody tr th {\n",
       "        vertical-align: top;\n",
       "    }\n",
       "\n",
       "    .dataframe thead th {\n",
       "        text-align: right;\n",
       "    }\n",
       "</style>\n",
       "<table border=\"1\" class=\"dataframe\">\n",
       "  <thead>\n",
       "    <tr style=\"text-align: right;\">\n",
       "      <th></th>\n",
       "      <th>title</th>\n",
       "      <th>pu_number</th>\n",
       "      <th>show_start_date</th>\n",
       "      <th>type</th>\n",
       "      <th>film_studio</th>\n",
       "      <th>production_country</th>\n",
       "      <th>director</th>\n",
       "      <th>producer</th>\n",
       "      <th>age_restriction</th>\n",
       "      <th>refundable_support</th>\n",
       "      <th>nonrefundable_support</th>\n",
       "      <th>budget</th>\n",
       "      <th>financing_source</th>\n",
       "      <th>ratings</th>\n",
       "      <th>genres</th>\n",
       "      <th>pu_number_except</th>\n",
       "      <th>box_office</th>\n",
       "      <th>start_year</th>\n",
       "      <th>director_name</th>\n",
       "      <th>main_genre</th>\n",
       "      <th>support_ratio</th>\n",
       "    </tr>\n",
       "  </thead>\n",
       "  <tbody>\n",
       "    <tr>\n",
       "      <th>1281</th>\n",
       "      <td>Пока еще жива</td>\n",
       "      <td>111005313</td>\n",
       "      <td>2013-10-11 12:00:00</td>\n",
       "      <td>Художественный</td>\n",
       "      <td>АНО содействия развитию кинематографии \"Ангел-...</td>\n",
       "      <td>Россия</td>\n",
       "      <td>А.Атанесян</td>\n",
       "      <td>А.Атанесян, М.Бабаханов, Р.Бутко</td>\n",
       "      <td>«16+» - для детей старше 16 лет</td>\n",
       "      <td>0.00</td>\n",
       "      <td>26,500,000.00</td>\n",
       "      <td>79,411,900.00</td>\n",
       "      <td>Министерство культуры</td>\n",
       "      <td>8.10</td>\n",
       "      <td>драма,мелодрама</td>\n",
       "      <td>True</td>\n",
       "      <td>365,353.60</td>\n",
       "      <td>2013</td>\n",
       "      <td>А.Атанесян</td>\n",
       "      <td>драма</td>\n",
       "      <td>33.37</td>\n",
       "    </tr>\n",
       "    <tr>\n",
       "      <th>1448</th>\n",
       "      <td>Бесславные придурки</td>\n",
       "      <td>111003314</td>\n",
       "      <td>2014-03-28 12:00:00</td>\n",
       "      <td>Художественный</td>\n",
       "      <td>ООО \"Компания \"АТК-Студио\"</td>\n",
       "      <td>Россия</td>\n",
       "      <td>А.Якимчук</td>\n",
       "      <td>А.Тютрюмов</td>\n",
       "      <td>«12+» - для детей старше 12 лет</td>\n",
       "      <td>0.00</td>\n",
       "      <td>26,000,000.00</td>\n",
       "      <td>37,142,857.00</td>\n",
       "      <td>Министерство культуры</td>\n",
       "      <td>NaN</td>\n",
       "      <td>unknown</td>\n",
       "      <td>True</td>\n",
       "      <td>28,140.00</td>\n",
       "      <td>2014</td>\n",
       "      <td>А.Якимчук</td>\n",
       "      <td>unknown</td>\n",
       "      <td>70.00</td>\n",
       "    </tr>\n",
       "    <tr>\n",
       "      <th>1498</th>\n",
       "      <td>Невидимки</td>\n",
       "      <td>111004213</td>\n",
       "      <td>2013-09-10 12:00:00</td>\n",
       "      <td>Художественный</td>\n",
       "      <td>ООО \"Компания \"РЕАЛ-ДАКОТА\"</td>\n",
       "      <td>Россия</td>\n",
       "      <td>Р.Давлетьяров, С.Комаров</td>\n",
       "      <td>Р.Давлетьяров, А.Котелевский, А.Олейников</td>\n",
       "      <td>«12+» - для детей старше 12 лет</td>\n",
       "      <td>0.00</td>\n",
       "      <td>107,847,945.00</td>\n",
       "      <td>176,023,490.00</td>\n",
       "      <td>Фонд кино</td>\n",
       "      <td>5.30</td>\n",
       "      <td>комедия,фантастика</td>\n",
       "      <td>True</td>\n",
       "      <td>19,957,031.50</td>\n",
       "      <td>2013</td>\n",
       "      <td>Р.Давлетьяров</td>\n",
       "      <td>комедия</td>\n",
       "      <td>61.27</td>\n",
       "    </tr>\n",
       "    <tr>\n",
       "      <th>1524</th>\n",
       "      <td>БЕРЦЫ</td>\n",
       "      <td>111004314</td>\n",
       "      <td>2014-05-05 12:00:00</td>\n",
       "      <td>Художественный</td>\n",
       "      <td>ООО \"Студия \"Пассажир\"</td>\n",
       "      <td>Россия</td>\n",
       "      <td>Е.Миндадзе (псевдоним Катя Шагалова)</td>\n",
       "      <td>Л.Антонова</td>\n",
       "      <td>«16+» - для детей старше 16 лет</td>\n",
       "      <td>0.00</td>\n",
       "      <td>28,000,000.00</td>\n",
       "      <td>40,574,140.00</td>\n",
       "      <td>Министерство культуры</td>\n",
       "      <td>4.20</td>\n",
       "      <td>драма</td>\n",
       "      <td>True</td>\n",
       "      <td>55,917.50</td>\n",
       "      <td>2014</td>\n",
       "      <td>Е.Миндадзе (псевдоним Катя Шагалова)</td>\n",
       "      <td>драма</td>\n",
       "      <td>69.01</td>\n",
       "    </tr>\n",
       "    <tr>\n",
       "      <th>1792</th>\n",
       "      <td>Братья Ч</td>\n",
       "      <td>111004414</td>\n",
       "      <td>2014-04-23 12:00:00</td>\n",
       "      <td>Художественный</td>\n",
       "      <td>ООО \"Студия \"Пассажир\"</td>\n",
       "      <td>Россия</td>\n",
       "      <td>М.Угаров</td>\n",
       "      <td>А.Миндадзе, Л.Антонова</td>\n",
       "      <td>«16+» - для детей старше 16 лет</td>\n",
       "      <td>0.00</td>\n",
       "      <td>25,000,000.00</td>\n",
       "      <td>40,015,122.00</td>\n",
       "      <td>Министерство культуры</td>\n",
       "      <td>6.40</td>\n",
       "      <td>драма</td>\n",
       "      <td>True</td>\n",
       "      <td>232,100.00</td>\n",
       "      <td>2014</td>\n",
       "      <td>М.Угаров</td>\n",
       "      <td>драма</td>\n",
       "      <td>62.48</td>\n",
       "    </tr>\n",
       "  </tbody>\n",
       "</table>\n",
       "</div>"
      ],
      "text/plain": [
       "                    title  pu_number     show_start_date            type  \\\n",
       "1281        Пока еще жива  111005313 2013-10-11 12:00:00  Художественный   \n",
       "1448  Бесславные придурки  111003314 2014-03-28 12:00:00  Художественный   \n",
       "1498            Невидимки  111004213 2013-09-10 12:00:00  Художественный   \n",
       "1524                БЕРЦЫ  111004314 2014-05-05 12:00:00  Художественный   \n",
       "1792             Братья Ч  111004414 2014-04-23 12:00:00  Художественный   \n",
       "\n",
       "                                            film_studio production_country  \\\n",
       "1281  АНО содействия развитию кинематографии \"Ангел-...             Россия   \n",
       "1448                         ООО \"Компания \"АТК-Студио\"             Россия   \n",
       "1498                        ООО \"Компания \"РЕАЛ-ДАКОТА\"             Россия   \n",
       "1524                             ООО \"Студия \"Пассажир\"             Россия   \n",
       "1792                             ООО \"Студия \"Пассажир\"             Россия   \n",
       "\n",
       "                                  director  \\\n",
       "1281                            А.Атанесян   \n",
       "1448                             А.Якимчук   \n",
       "1498              Р.Давлетьяров, С.Комаров   \n",
       "1524  Е.Миндадзе (псевдоним Катя Шагалова)   \n",
       "1792                              М.Угаров   \n",
       "\n",
       "                                       producer  \\\n",
       "1281           А.Атанесян, М.Бабаханов, Р.Бутко   \n",
       "1448                                 А.Тютрюмов   \n",
       "1498  Р.Давлетьяров, А.Котелевский, А.Олейников   \n",
       "1524                                 Л.Антонова   \n",
       "1792                     А.Миндадзе, Л.Антонова   \n",
       "\n",
       "                      age_restriction  refundable_support  \\\n",
       "1281  «16+» - для детей старше 16 лет                0.00   \n",
       "1448  «12+» - для детей старше 12 лет                0.00   \n",
       "1498  «12+» - для детей старше 12 лет                0.00   \n",
       "1524  «16+» - для детей старше 16 лет                0.00   \n",
       "1792  «16+» - для детей старше 16 лет                0.00   \n",
       "\n",
       "      nonrefundable_support         budget       financing_source  ratings  \\\n",
       "1281          26,500,000.00  79,411,900.00  Министерство культуры     8.10   \n",
       "1448          26,000,000.00  37,142,857.00  Министерство культуры      NaN   \n",
       "1498         107,847,945.00 176,023,490.00              Фонд кино     5.30   \n",
       "1524          28,000,000.00  40,574,140.00  Министерство культуры     4.20   \n",
       "1792          25,000,000.00  40,015,122.00  Министерство культуры     6.40   \n",
       "\n",
       "                  genres  pu_number_except    box_office  start_year  \\\n",
       "1281     драма,мелодрама              True    365,353.60        2013   \n",
       "1448             unknown              True     28,140.00        2014   \n",
       "1498  комедия,фантастика              True 19,957,031.50        2013   \n",
       "1524               драма              True     55,917.50        2014   \n",
       "1792               драма              True    232,100.00        2014   \n",
       "\n",
       "                             director_name main_genre  support_ratio  \n",
       "1281                            А.Атанесян      драма          33.37  \n",
       "1448                             А.Якимчук    unknown          70.00  \n",
       "1498                         Р.Давлетьяров    комедия          61.27  \n",
       "1524  Е.Миндадзе (псевдоним Катя Шагалова)      драма          69.01  \n",
       "1792                              М.Угаров      драма          62.48  "
      ]
     },
     "execution_count": 60,
     "metadata": {},
     "output_type": "execute_result"
    }
   ],
   "source": [
    "data[(data['support_ratio']>0)].head() # выведем строки для проверки, в которых значение в столбце 'support_ratio' больше 0"
   ]
  },
  {
   "cell_type": "markdown",
   "id": "70400e14",
   "metadata": {},
   "source": [
    "Выводы по разделу:\n",
    "\n",
    "- изучены уникальные значения в столбце `ratings`, ошибочные заменены. Данные в столбце приведены к вещественному типу;\n",
    "\n",
    "- общее количество строк сводного датафрейма - 7486. Обнаруженные пропуски в нечисловых столбцах `film_studio`, `production_country`, `director`, `producer`, `genres` заменены значением unknown;\n",
    "\n",
    "- проведена проверка на наличие дубликатов в данных. Количество явных дубликатов - 0. В столбце `pu_number` обе пары с одинаковыми номерами прокатных удостоверений откорректированы таким образом, что неявные дубликаты были удалены;\n",
    "\n",
    "- откорректированы значения в столбцах `type`, `production_country` и `genres`;\n",
    "\n",
    "- строки с одновременным наличием нулевого бюджета и ненулевого значения невозвратных средств господдержки удалены;\n",
    "\n",
    "- обнаруженные аномально низкие значения кассовых сборов в руб. пока оставлены без изменений;\n",
    "\n",
    "- добавлены новые столбцы `start_year`, `director_name`, `main_genre` и `support_ratio`.\n",
    "\n",
    "Считаем, что данные предобработаны, можно переходить к их анализу."
   ]
  },
  {
   "cell_type": "code",
   "execution_count": 61,
   "id": "4ed2db97",
   "metadata": {},
   "outputs": [
    {
     "name": "stdout",
     "output_type": "stream",
     "text": [
      "7486 7461 0.33\n"
     ]
    }
   ],
   "source": [
    "# Комментарий ревьюера\n",
    "# Проверим сколько удалено строк датасета\n",
    "a, b = len(temp), len(data)\n",
    "print(a, b, round((a-b)/a*100, 2))"
   ]
  },
  {
   "cell_type": "markdown",
   "id": "9ae28d5e",
   "metadata": {},
   "source": [
    "## Исследовательский анализ данных"
   ]
  },
  {
   "cell_type": "markdown",
   "id": "4af55096",
   "metadata": {},
   "source": [
    "### Изучение фильмов, выходивший в прокат каждый год"
   ]
  },
  {
   "cell_type": "markdown",
   "id": "49aebf6e",
   "metadata": {},
   "source": [
    "Ответим на вопросы:\n",
    "- сколько фильмов выходило в прокат каждый год (данные о прокате в кинотеатрах известны не для всех фильмов);\n",
    "- какую долю составляют фильмы с указанной информацией о прокате в кинотеатрах. Как эта доля менялась по годам; \n",
    "- сделать вывод о том, какой период полнее всего представлен в данных."
   ]
  },
  {
   "cell_type": "markdown",
   "id": "62211d73",
   "metadata": {},
   "source": [
    "Чтобы посчитать количество фильмов, выходивших в прокат (а не общее кол-во вышедших фильмов) в каждом году, составим сводную таблицу. Будем использовать столбец `box_office` как индикатор того, что фильм был в прокате:"
   ]
  },
  {
   "cell_type": "code",
   "execution_count": 62,
   "id": "67e50574",
   "metadata": {
    "scrolled": true
   },
   "outputs": [
    {
     "data": {
      "text/html": [
       "<div>\n",
       "<style scoped>\n",
       "    .dataframe tbody tr th:only-of-type {\n",
       "        vertical-align: middle;\n",
       "    }\n",
       "\n",
       "    .dataframe tbody tr th {\n",
       "        vertical-align: top;\n",
       "    }\n",
       "\n",
       "    .dataframe thead th {\n",
       "        text-align: right;\n",
       "    }\n",
       "</style>\n",
       "<table border=\"1\" class=\"dataframe\">\n",
       "  <thead>\n",
       "    <tr style=\"text-align: right;\">\n",
       "      <th></th>\n",
       "      <th>box_office</th>\n",
       "    </tr>\n",
       "    <tr>\n",
       "      <th>start_year</th>\n",
       "      <th></th>\n",
       "    </tr>\n",
       "  </thead>\n",
       "  <tbody>\n",
       "    <tr>\n",
       "      <th>2010</th>\n",
       "      <td>105</td>\n",
       "    </tr>\n",
       "    <tr>\n",
       "      <th>2011</th>\n",
       "      <td>109</td>\n",
       "    </tr>\n",
       "    <tr>\n",
       "      <th>2012</th>\n",
       "      <td>128</td>\n",
       "    </tr>\n",
       "    <tr>\n",
       "      <th>2013</th>\n",
       "      <td>184</td>\n",
       "    </tr>\n",
       "    <tr>\n",
       "      <th>2014</th>\n",
       "      <td>278</td>\n",
       "    </tr>\n",
       "    <tr>\n",
       "      <th>2015</th>\n",
       "      <td>456</td>\n",
       "    </tr>\n",
       "    <tr>\n",
       "      <th>2016</th>\n",
       "      <td>523</td>\n",
       "    </tr>\n",
       "    <tr>\n",
       "      <th>2017</th>\n",
       "      <td>353</td>\n",
       "    </tr>\n",
       "    <tr>\n",
       "      <th>2018</th>\n",
       "      <td>470</td>\n",
       "    </tr>\n",
       "    <tr>\n",
       "      <th>2019</th>\n",
       "      <td>527</td>\n",
       "    </tr>\n",
       "  </tbody>\n",
       "</table>\n",
       "</div>"
      ],
      "text/plain": [
       "            box_office\n",
       "start_year            \n",
       "2010               105\n",
       "2011               109\n",
       "2012               128\n",
       "2013               184\n",
       "2014               278\n",
       "2015               456\n",
       "2016               523\n",
       "2017               353\n",
       "2018               470\n",
       "2019               527"
      ]
     },
     "execution_count": 62,
     "metadata": {},
     "output_type": "execute_result"
    }
   ],
   "source": [
    "data.pivot_table(index='start_year', values='box_office', aggfunc='count')"
   ]
  },
  {
   "cell_type": "markdown",
   "id": "e5af22e4",
   "metadata": {},
   "source": [
    "Посмотрим, сколько всего фильмов выходило по годам:"
   ]
  },
  {
   "cell_type": "code",
   "execution_count": 63,
   "id": "ff26890d",
   "metadata": {},
   "outputs": [
    {
     "data": {
      "text/plain": [
       "2010    985\n",
       "2019    927\n",
       "2018    886\n",
       "2016    815\n",
       "2014    806\n",
       "2015    696\n",
       "2013    630\n",
       "2011    622\n",
       "2012    593\n",
       "2017    501\n",
       "Name: start_year, dtype: int64"
      ]
     },
     "execution_count": 63,
     "metadata": {},
     "output_type": "execute_result"
    }
   ],
   "source": [
    "data['start_year'].value_counts()"
   ]
  },
  {
   "cell_type": "markdown",
   "id": "bc004ad0",
   "metadata": {},
   "source": [
    "Сгруппируем общее количество фильмов по годам, выберем столбец с прокатными удостоверениями и сохраним полученные значения в переменную `count_of_movies`:"
   ]
  },
  {
   "cell_type": "code",
   "execution_count": 64,
   "id": "5a7fa8e5",
   "metadata": {},
   "outputs": [],
   "source": [
    "count_of_movies = data.groupby('start_year')['pu_number'].count()"
   ]
  },
  {
   "cell_type": "markdown",
   "id": "ba993c13",
   "metadata": {},
   "source": [
    "Создадим переменную `movies_in_cinema`, которая будет содержать общее количество фильмов, вышедших в прокат в кинотеатрах в каждом году:"
   ]
  },
  {
   "cell_type": "code",
   "execution_count": 65,
   "id": "383bc047",
   "metadata": {},
   "outputs": [],
   "source": [
    "movies_in_cinema = data.groupby('start_year')['box_office'].count()"
   ]
  },
  {
   "cell_type": "markdown",
   "id": "27cb8fc2",
   "metadata": {},
   "source": [
    "Создадим переменную `movies_ratio`, учитывающую отношение количества фильмов в прокате в кинотеатрах к общему количеству фильмов:"
   ]
  },
  {
   "cell_type": "code",
   "execution_count": 66,
   "id": "544ff326",
   "metadata": {},
   "outputs": [],
   "source": [
    "movies_ratio = (movies_in_cinema * 100 / count_of_movies).round(2)"
   ]
  },
  {
   "cell_type": "markdown",
   "id": "a626ee4e",
   "metadata": {},
   "source": [
    "Создадим новую таблицу `movies` со всеми описанными выше столбцами:"
   ]
  },
  {
   "cell_type": "code",
   "execution_count": 67,
   "id": "71503fb9",
   "metadata": {
    "scrolled": true
   },
   "outputs": [
    {
     "data": {
      "text/html": [
       "<div>\n",
       "<style scoped>\n",
       "    .dataframe tbody tr th:only-of-type {\n",
       "        vertical-align: middle;\n",
       "    }\n",
       "\n",
       "    .dataframe tbody tr th {\n",
       "        vertical-align: top;\n",
       "    }\n",
       "\n",
       "    .dataframe thead th {\n",
       "        text-align: right;\n",
       "    }\n",
       "</style>\n",
       "<table border=\"1\" class=\"dataframe\">\n",
       "  <thead>\n",
       "    <tr style=\"text-align: right;\">\n",
       "      <th></th>\n",
       "      <th>count_of_movies</th>\n",
       "      <th>movies_in_cinema</th>\n",
       "      <th>movies_ratio</th>\n",
       "    </tr>\n",
       "    <tr>\n",
       "      <th>start_year</th>\n",
       "      <th></th>\n",
       "      <th></th>\n",
       "      <th></th>\n",
       "    </tr>\n",
       "  </thead>\n",
       "  <tbody>\n",
       "    <tr>\n",
       "      <th>2010</th>\n",
       "      <td>985</td>\n",
       "      <td>105</td>\n",
       "      <td>10.66</td>\n",
       "    </tr>\n",
       "    <tr>\n",
       "      <th>2011</th>\n",
       "      <td>622</td>\n",
       "      <td>109</td>\n",
       "      <td>17.52</td>\n",
       "    </tr>\n",
       "    <tr>\n",
       "      <th>2012</th>\n",
       "      <td>593</td>\n",
       "      <td>128</td>\n",
       "      <td>21.59</td>\n",
       "    </tr>\n",
       "    <tr>\n",
       "      <th>2013</th>\n",
       "      <td>630</td>\n",
       "      <td>184</td>\n",
       "      <td>29.21</td>\n",
       "    </tr>\n",
       "    <tr>\n",
       "      <th>2014</th>\n",
       "      <td>806</td>\n",
       "      <td>278</td>\n",
       "      <td>34.49</td>\n",
       "    </tr>\n",
       "    <tr>\n",
       "      <th>2015</th>\n",
       "      <td>696</td>\n",
       "      <td>456</td>\n",
       "      <td>65.52</td>\n",
       "    </tr>\n",
       "    <tr>\n",
       "      <th>2016</th>\n",
       "      <td>815</td>\n",
       "      <td>523</td>\n",
       "      <td>64.17</td>\n",
       "    </tr>\n",
       "    <tr>\n",
       "      <th>2017</th>\n",
       "      <td>501</td>\n",
       "      <td>353</td>\n",
       "      <td>70.46</td>\n",
       "    </tr>\n",
       "    <tr>\n",
       "      <th>2018</th>\n",
       "      <td>886</td>\n",
       "      <td>470</td>\n",
       "      <td>53.05</td>\n",
       "    </tr>\n",
       "    <tr>\n",
       "      <th>2019</th>\n",
       "      <td>927</td>\n",
       "      <td>527</td>\n",
       "      <td>56.85</td>\n",
       "    </tr>\n",
       "  </tbody>\n",
       "</table>\n",
       "</div>"
      ],
      "text/plain": [
       "            count_of_movies  movies_in_cinema  movies_ratio\n",
       "start_year                                                 \n",
       "2010                    985               105         10.66\n",
       "2011                    622               109         17.52\n",
       "2012                    593               128         21.59\n",
       "2013                    630               184         29.21\n",
       "2014                    806               278         34.49\n",
       "2015                    696               456         65.52\n",
       "2016                    815               523         64.17\n",
       "2017                    501               353         70.46\n",
       "2018                    886               470         53.05\n",
       "2019                    927               527         56.85"
      ]
     },
     "metadata": {},
     "output_type": "display_data"
    }
   ],
   "source": [
    "movies = pd.DataFrame({'count_of_movies': count_of_movies, 'movies_in_cinema': movies_in_cinema, 'movies_ratio': movies_ratio})\n",
    "display(movies)"
   ]
  },
  {
   "cell_type": "markdown",
   "id": "4cdb8471",
   "metadata": {},
   "source": [
    "Построим график, на котором отобразим общее количество вышедших фильмов в году, количество фильмов, показанных в кинотеатрах, а также их процентное соотношение:"
   ]
  },
  {
   "cell_type": "code",
   "execution_count": 69,
   "id": "07019ef5",
   "metadata": {},
   "outputs": [
    {
     "data": {
      "image/png": "[encoded data removed]",
      "text/plain": [
       "<Figure size 864x432 with 1 Axes>"
      ]
     },
     "metadata": {
      "needs_background": "light"
     },
     "output_type": "display_data"
    }
   ],
   "source": [
    "movies.plot(kind='bar', figsize=(12, 6), grid=True, title='Количество фильмов по годам: общее количество, показанные в кинотеатрах и их процентное соотношение');\n",
    "plt.xlabel('Год');\n",
    "plt.ylabel('Количество фильмов');\n",
    "plt.show()"
   ]
  },
  {
   "cell_type": "markdown",
   "id": "e900b8f0",
   "metadata": {},
   "source": [
    "Выводы по разделу:\n",
    "\n",
    "- общее количество фильмов, выходивших  в прокат, не сильно меняется по годам: в среднем от 600 до 800 шт. с пиком в 985 шт. в 2010 году;\n",
    "\n",
    "- количество фильмов, выходивших в прокат в кинотеатрах, стабильно росло начиная с 2010 года (105 шт.) до 2016 года (526 шт.). Затем последовал небольшой спад, и снова рост;\n",
    "\n",
    "- в 2017 году наблюдается наибольшее процентное соотношение (70.7%) между фильмами, показанными в кинотеатрах и общим количеством фильмов;\n",
    "\n",
    "- в целом в исследуемый период наблюдается рост общего количества фильмов в прокате, фильмов в кинотеатрах и, соответсвенно, их процентного соотношения."
   ]
  },
  {
   "cell_type": "markdown",
   "id": "3dfe7acd",
   "metadata": {},
   "source": [
    "### Изучение изменения динамики проката по годам"
   ]
  },
  {
   "cell_type": "markdown",
   "id": "9ee3f704",
   "metadata": {},
   "source": [
    "Исследуем, как менялась динамика проката по годам, в каком году сумма сборов была минимальной и максимальной."
   ]
  },
  {
   "cell_type": "markdown",
   "id": "d3b1d223",
   "metadata": {},
   "source": [
    "Динамику проката будем оценивать в разрезе зависимости кассовых сборов от года. Сгруппируем данные и запишем их в переменную `box_office_per_year`:"
   ]
  },
  {
   "cell_type": "code",
   "execution_count": 70,
   "id": "c7aa47e0",
   "metadata": {},
   "outputs": [
    {
     "data": {
      "text/plain": [
       "start_year\n",
       "2010        2,428,654.00\n",
       "2011       14,102,765.00\n",
       "2012        6,955,423.00\n",
       "2013       29,799,706.20\n",
       "2014    7,434,717,843.10\n",
       "2015   38,427,444,491.66\n",
       "2016   46,742,316,269.48\n",
       "2017   47,364,913,114.75\n",
       "2018   48,674,622,551.95\n",
       "2019   47,723,583,006.14\n",
       "Name: box_office, dtype: float64"
      ]
     },
     "metadata": {},
     "output_type": "display_data"
    }
   ],
   "source": [
    "box_office_per_year = data.groupby('start_year')['box_office'].sum()\n",
    "display(box_office_per_year)"
   ]
  },
  {
   "cell_type": "markdown",
   "id": "4a495c8c",
   "metadata": {},
   "source": [
    "Разделим величину кассовых сборов на 1 млн., получив таким образом более читаемые данные:"
   ]
  },
  {
   "cell_type": "code",
   "execution_count": 71,
   "id": "f4171e69",
   "metadata": {},
   "outputs": [],
   "source": [
    "box_office_per_year = (box_office_per_year / 1000000).round(2)"
   ]
  },
  {
   "cell_type": "code",
   "execution_count": 72,
   "id": "1d6d3453",
   "metadata": {},
   "outputs": [
    {
     "data": {
      "text/plain": [
       "start_year\n",
       "2010        2.43\n",
       "2011       14.10\n",
       "2012        6.96\n",
       "2013       29.80\n",
       "2014    7,434.72\n",
       "2015   38,427.44\n",
       "2016   46,742.32\n",
       "2017   47,364.91\n",
       "2018   48,674.62\n",
       "2019   47,723.58\n",
       "Name: box_office, dtype: float64"
      ]
     },
     "metadata": {},
     "output_type": "display_data"
    }
   ],
   "source": [
    "display(box_office_per_year)"
   ]
  },
  {
   "cell_type": "markdown",
   "id": "5d49ef37",
   "metadata": {},
   "source": [
    "Построим график изменения величины кассовых сборов по годам:"
   ]
  },
  {
   "cell_type": "code",
   "execution_count": 73,
   "id": "e972fa68",
   "metadata": {},
   "outputs": [
    {
     "data": {
      "image/png": "[encoded data removed]",
      "text/plain": [
       "<Figure size 720x360 with 1 Axes>"
      ]
     },
     "metadata": {
      "needs_background": "light"
     },
     "output_type": "display_data"
    }
   ],
   "source": [
    "box_office_per_year.plot(kind='bar', figsize=(10, 5), grid=True, title='Сумма кассовых сборов в год');\n",
    "plt.xlabel('Год');\n",
    "plt.ylabel('Кассовые сборы, млн.руб.');\n",
    "plt.show()"
   ]
  },
  {
   "cell_type": "markdown",
   "id": "258d813b",
   "metadata": {},
   "source": [
    "Вывод по разделу: \n",
    "\n",
    "скорее всего, данные о минимальных кассовых сборах (2.43 млн. в 2010 году) не соответствуют действительности:  резкий скачок в 2014 году логично объяснить тем, что тогда такие данные вообще начали собирать. Поэтому можно предположить, что минимальное значение сборов составляет 7.4 млрд. руб. в 2014 году. Максимальное - 49.7 млрд. руб. в 2018 году."
   ]
  },
  {
   "cell_type": "markdown",
   "id": "da32a0f7",
   "metadata": {},
   "source": [
    "### Подсчёт средней и медианной сумм сборов для каждого года"
   ]
  },
  {
   "cell_type": "markdown",
   "id": "8a38d6d3",
   "metadata": {},
   "source": [
    "Предварительно разделим значения в столбце `box_office` на 1 млн. для лучшей читаемости данных:"
   ]
  },
  {
   "cell_type": "code",
   "execution_count": 75,
   "id": "041c660c",
   "metadata": {},
   "outputs": [],
   "source": [
    "data['box_office'] = (data['box_office'] / 1000000)"
   ]
  },
  {
   "cell_type": "markdown",
   "id": "b8e84f6a",
   "metadata": {},
   "source": [
    "Создадим сводную таблицу со средней и медианной суммами сборов для каждого года и сохраним ее в переменную `box_stat_per_year`:"
   ]
  },
  {
   "cell_type": "code",
   "execution_count": 76,
   "id": "51521b65",
   "metadata": {},
   "outputs": [
    {
     "data": {
      "text/html": [
       "<div>\n",
       "<style scoped>\n",
       "    .dataframe tbody tr th:only-of-type {\n",
       "        vertical-align: middle;\n",
       "    }\n",
       "\n",
       "    .dataframe tbody tr th {\n",
       "        vertical-align: top;\n",
       "    }\n",
       "\n",
       "    .dataframe thead tr th {\n",
       "        text-align: left;\n",
       "    }\n",
       "\n",
       "    .dataframe thead tr:last-of-type th {\n",
       "        text-align: right;\n",
       "    }\n",
       "</style>\n",
       "<table border=\"1\" class=\"dataframe\">\n",
       "  <thead>\n",
       "    <tr>\n",
       "      <th></th>\n",
       "      <th>mean</th>\n",
       "      <th>median</th>\n",
       "    </tr>\n",
       "    <tr>\n",
       "      <th></th>\n",
       "      <th>box_office</th>\n",
       "      <th>box_office</th>\n",
       "    </tr>\n",
       "    <tr>\n",
       "      <th>start_year</th>\n",
       "      <th></th>\n",
       "      <th></th>\n",
       "    </tr>\n",
       "  </thead>\n",
       "  <tbody>\n",
       "    <tr>\n",
       "      <th>2010</th>\n",
       "      <td>0.02</td>\n",
       "      <td>0.00</td>\n",
       "    </tr>\n",
       "    <tr>\n",
       "      <th>2011</th>\n",
       "      <td>0.13</td>\n",
       "      <td>0.00</td>\n",
       "    </tr>\n",
       "    <tr>\n",
       "      <th>2012</th>\n",
       "      <td>0.05</td>\n",
       "      <td>0.01</td>\n",
       "    </tr>\n",
       "    <tr>\n",
       "      <th>2013</th>\n",
       "      <td>0.16</td>\n",
       "      <td>0.00</td>\n",
       "    </tr>\n",
       "    <tr>\n",
       "      <th>2014</th>\n",
       "      <td>26.74</td>\n",
       "      <td>0.02</td>\n",
       "    </tr>\n",
       "    <tr>\n",
       "      <th>2015</th>\n",
       "      <td>84.27</td>\n",
       "      <td>4.74</td>\n",
       "    </tr>\n",
       "    <tr>\n",
       "      <th>2016</th>\n",
       "      <td>89.37</td>\n",
       "      <td>3.78</td>\n",
       "    </tr>\n",
       "    <tr>\n",
       "      <th>2017</th>\n",
       "      <td>134.18</td>\n",
       "      <td>9.88</td>\n",
       "    </tr>\n",
       "    <tr>\n",
       "      <th>2018</th>\n",
       "      <td>103.56</td>\n",
       "      <td>8.73</td>\n",
       "    </tr>\n",
       "    <tr>\n",
       "      <th>2019</th>\n",
       "      <td>90.56</td>\n",
       "      <td>4.55</td>\n",
       "    </tr>\n",
       "  </tbody>\n",
       "</table>\n",
       "</div>"
      ],
      "text/plain": [
       "                 mean     median\n",
       "           box_office box_office\n",
       "start_year                      \n",
       "2010             0.02       0.00\n",
       "2011             0.13       0.00\n",
       "2012             0.05       0.01\n",
       "2013             0.16       0.00\n",
       "2014            26.74       0.02\n",
       "2015            84.27       4.74\n",
       "2016            89.37       3.78\n",
       "2017           134.18       9.88\n",
       "2018           103.56       8.73\n",
       "2019            90.56       4.55"
      ]
     },
     "metadata": {},
     "output_type": "display_data"
    }
   ],
   "source": [
    "box_stat_per_year = data.pivot_table(index='start_year', values='box_office', aggfunc=['mean', 'median']).round(2)\n",
    "display(box_stat_per_year)"
   ]
  },
  {
   "cell_type": "markdown",
   "id": "5b1cbf60",
   "metadata": {},
   "source": [
    "Построим график зависимости изменения средней и медианной сумм сборов от года:"
   ]
  },
  {
   "cell_type": "code",
   "execution_count": 78,
   "id": "9da51d59",
   "metadata": {},
   "outputs": [
    {
     "data": {
      "image/png": "[encoded data removed]",
      "text/plain": [
       "<Figure size 432x288 with 1 Axes>"
      ]
     },
     "metadata": {
      "needs_background": "light"
     },
     "output_type": "display_data"
    }
   ],
   "source": [
    "box_stat_per_year = data.pivot_table(index='start_year', values='box_office', aggfunc=['mean', 'median'])\n",
    "box_stat_per_year.plot(grid=True)\n",
    "plt.title('Средняя и медианная суммы кассовых сборов в год');\n",
    "plt.xlabel('Годы')\n",
    "plt.ylabel('Кассовые сборы, млн.руб.')\n",
    "plt.show()"
   ]
  },
  {
   "cell_type": "markdown",
   "id": "bcce3b6f",
   "metadata": {},
   "source": [
    "Вывод по разделу:\n",
    "\n",
    "Медианное и среднее значения кассовых сборов по годам отличаются кардинально. Как мы видели ранее, есть большое количество фильмов с аномально низкими сборами (менее 100 тыс. руб.) и, наоборот, фильмы, собравшие миллиарды руб. Это хороший пример по использованию медианного значения, убирающего такие выбросы."
   ]
  },
  {
   "cell_type": "markdown",
   "id": "0e18480d",
   "metadata": {},
   "source": [
    "### Определение влияния возрастного ограничения на сборы фильмов в прокате"
   ]
  },
  {
   "cell_type": "markdown",
   "id": "9b9e5397",
   "metadata": {},
   "source": [
    "Ответим на вопросы:\n",
    "\n",
    "- влияет ли возрастное ограничение аудитории («0+», «6+», «12+», «16+», «18+») на сборы фильма в прокате в период с 2015 по 2019 год;\n",
    "\n",
    "- фильмы с каким возрастным ограничением собрали больше всего денег в прокате;\n",
    "\n",
    "- меняется ли картина в зависимости от года и если да, с чем это может быть связано."
   ]
  },
  {
   "cell_type": "code",
   "execution_count": 79,
   "id": "8cfe7d85",
   "metadata": {},
   "outputs": [],
   "source": [
    "age_limit_full = ['«0+» - для любой зрительской аудитории', '«6+» - для детей старше 6 лет', '«12+» - для детей старше 12 лет', '«16+» - для детей старше 16 лет', '«18+» - запрещено для детей']\n",
    "age_limit = ['0+', '6+', '12+', '16+', '18+']\n",
    "data['age_restriction'] = data['age_restriction'].replace(age_limit_full, age_limit)"
   ]
  },
  {
   "cell_type": "markdown",
   "id": "97fb5f26",
   "metadata": {},
   "source": [
    "Создадим переменную `age_restriction_influence` и запишем в неё значения суммы сборов 2015-2019 гг. для каждого возрастного ограничения:"
   ]
  },
  {
   "cell_type": "code",
   "execution_count": 80,
   "id": "86d56e83",
   "metadata": {},
   "outputs": [],
   "source": [
    "age_restriction_influence = data[data['start_year'] >= 2015]['start_year']"
   ]
  },
  {
   "cell_type": "markdown",
   "id": "3176af38",
   "metadata": {},
   "source": [
    "Создадим сводную таблицу зависимости суммы кассовых сборов от возрастного ограничения:"
   ]
  },
  {
   "cell_type": "code",
   "execution_count": 81,
   "id": "706a7136",
   "metadata": {
    "scrolled": true
   },
   "outputs": [
    {
     "data": {
      "text/html": [
       "<div>\n",
       "<style scoped>\n",
       "    .dataframe tbody tr th:only-of-type {\n",
       "        vertical-align: middle;\n",
       "    }\n",
       "\n",
       "    .dataframe tbody tr th {\n",
       "        vertical-align: top;\n",
       "    }\n",
       "\n",
       "    .dataframe thead th {\n",
       "        text-align: right;\n",
       "    }\n",
       "</style>\n",
       "<table border=\"1\" class=\"dataframe\">\n",
       "  <thead>\n",
       "    <tr style=\"text-align: right;\">\n",
       "      <th>age_restriction</th>\n",
       "      <th>0+</th>\n",
       "      <th>12+</th>\n",
       "      <th>16+</th>\n",
       "      <th>18+</th>\n",
       "      <th>6+</th>\n",
       "    </tr>\n",
       "    <tr>\n",
       "      <th>start_year</th>\n",
       "      <th></th>\n",
       "      <th></th>\n",
       "      <th></th>\n",
       "      <th></th>\n",
       "      <th></th>\n",
       "    </tr>\n",
       "  </thead>\n",
       "  <tbody>\n",
       "    <tr>\n",
       "      <th>2,015.00</th>\n",
       "      <td>379.05</td>\n",
       "      <td>13,399.86</td>\n",
       "      <td>10,770.57</td>\n",
       "      <td>5,430.35</td>\n",
       "      <td>8,447.62</td>\n",
       "    </tr>\n",
       "    <tr>\n",
       "      <th>2,016.00</th>\n",
       "      <td>150.23</td>\n",
       "      <td>11,150.76</td>\n",
       "      <td>16,594.25</td>\n",
       "      <td>6,793.93</td>\n",
       "      <td>12,053.15</td>\n",
       "    </tr>\n",
       "    <tr>\n",
       "      <th>2,017.00</th>\n",
       "      <td>229.60</td>\n",
       "      <td>7,517.42</td>\n",
       "      <td>18,694.59</td>\n",
       "      <td>9,651.50</td>\n",
       "      <td>11,271.81</td>\n",
       "    </tr>\n",
       "    <tr>\n",
       "      <th>2,018.00</th>\n",
       "      <td>32.45</td>\n",
       "      <td>14,267.29</td>\n",
       "      <td>16,278.41</td>\n",
       "      <td>8,760.09</td>\n",
       "      <td>9,336.39</td>\n",
       "    </tr>\n",
       "    <tr>\n",
       "      <th>2,019.00</th>\n",
       "      <td>17.75</td>\n",
       "      <td>12,680.20</td>\n",
       "      <td>12,699.97</td>\n",
       "      <td>10,121.80</td>\n",
       "      <td>12,203.87</td>\n",
       "    </tr>\n",
       "  </tbody>\n",
       "</table>\n",
       "</div>"
      ],
      "text/plain": [
       "age_restriction     0+       12+       16+       18+        6+\n",
       "start_year                                                    \n",
       "2,015.00        379.05 13,399.86 10,770.57  5,430.35  8,447.62\n",
       "2,016.00        150.23 11,150.76 16,594.25  6,793.93 12,053.15\n",
       "2,017.00        229.60  7,517.42 18,694.59  9,651.50 11,271.81\n",
       "2,018.00         32.45 14,267.29 16,278.41  8,760.09  9,336.39\n",
       "2,019.00         17.75 12,680.20 12,699.97 10,121.80 12,203.87"
      ]
     },
     "execution_count": 81,
     "metadata": {},
     "output_type": "execute_result"
    }
   ],
   "source": [
    "data.pivot_table(index=age_restriction_influence, columns='age_restriction', values='box_office', aggfunc='sum').round(2)"
   ]
  },
  {
   "cell_type": "markdown",
   "id": "130fabf7",
   "metadata": {},
   "source": [
    "Изучим то же распределение на графиках - общем и отдельно по годам:"
   ]
  },
  {
   "cell_type": "code",
   "execution_count": 82,
   "id": "54dff7ab",
   "metadata": {},
   "outputs": [],
   "source": [
    "age_restriction_influence = data.query('start_year >= 2015').groupby('age_restriction')['box_office'].sum().round(2)"
   ]
  },
  {
   "cell_type": "code",
   "execution_count": 83,
   "id": "2077217a",
   "metadata": {},
   "outputs": [
    {
     "data": {
      "text/plain": [
       "age_restriction\n",
       "0+       809.08\n",
       "12+   59,015.53\n",
       "16+   75,037.78\n",
       "18+   40,757.66\n",
       "6+    53,312.83\n",
       "Name: box_office, dtype: float64"
      ]
     },
     "metadata": {},
     "output_type": "display_data"
    }
   ],
   "source": [
    "display(age_restriction_influence)"
   ]
  },
  {
   "cell_type": "code",
   "execution_count": 85,
   "id": "0a9e8fce",
   "metadata": {},
   "outputs": [
    {
     "data": {
      "image/png": "[encoded data removed]",
      "text/plain": [
       "<Figure size 720x360 with 1 Axes>"
      ]
     },
     "metadata": {
      "needs_background": "light"
     },
     "output_type": "display_data"
    }
   ],
   "source": [
    "age_restriction_influence.plot(kind='bar', figsize=(10, 5), grid=True, title='Кассовые сборы в диапазоне 2015-2019 гг. в зависимости от возрастных ограничений');\n",
    "plt.xlabel('Возрастные ограничения');\n",
    "plt.ylabel('Кассовые сборы, млн.руб.');\n",
    "plt.show()"
   ]
  },
  {
   "cell_type": "markdown",
   "id": "2c67a14a",
   "metadata": {},
   "source": [
    "Для распределения по годам создадим функцию, которая будет выводить данные по кассовым сборам по возрастному ограничению по годам:"
   ]
  },
  {
   "cell_type": "code",
   "execution_count": 86,
   "id": "35ee99fe",
   "metadata": {},
   "outputs": [],
   "source": [
    "def age_restriction_by_year(start_year):\n",
    "    age_restriction_year = data.query(f'start_year=={start_year}').groupby('age_restriction')['box_office'].sum().round(2)\n",
    "    display(age_restriction_year)\n",
    "    age_restriction_year.plot(kind='bar', grid=True)\n",
    "    plt.title(f'Кассовые сборы в {start_year} году');\n",
    "    plt.xlabel('Возрастные ограничения')\n",
    "    plt.ylabel('Кассовые сборы, млн. руб.')"
   ]
  },
  {
   "cell_type": "code",
   "execution_count": 87,
   "id": "9177034f",
   "metadata": {
    "scrolled": false
   },
   "outputs": [
    {
     "data": {
      "text/plain": [
       "age_restriction\n",
       "0+       379.05\n",
       "12+   13,399.86\n",
       "16+   10,770.57\n",
       "18+    5,430.35\n",
       "6+     8,447.62\n",
       "Name: box_office, dtype: float64"
      ]
     },
     "metadata": {},
     "output_type": "display_data"
    },
    {
     "data": {
      "image/png": "[encoded data removed]",
      "text/plain": [
       "<Figure size 432x288 with 1 Axes>"
      ]
     },
     "metadata": {
      "needs_background": "light"
     },
     "output_type": "display_data"
    }
   ],
   "source": [
    "age_restriction_by_year(2015)"
   ]
  },
  {
   "cell_type": "code",
   "execution_count": 88,
   "id": "eca1afaf",
   "metadata": {
    "scrolled": false
   },
   "outputs": [
    {
     "data": {
      "text/plain": [
       "age_restriction\n",
       "0+       150.23\n",
       "12+   11,150.76\n",
       "16+   16,594.25\n",
       "18+    6,793.93\n",
       "6+    12,053.15\n",
       "Name: box_office, dtype: float64"
      ]
     },
     "metadata": {},
     "output_type": "display_data"
    },
    {
     "data": {
      "image/png": "[encoded data removed]",
      "text/plain": [
       "<Figure size 432x288 with 1 Axes>"
      ]
     },
     "metadata": {
      "needs_background": "light"
     },
     "output_type": "display_data"
    }
   ],
   "source": [
    "age_restriction_by_year(2016)"
   ]
  },
  {
   "cell_type": "code",
   "execution_count": 89,
   "id": "28f80a33",
   "metadata": {
    "scrolled": false
   },
   "outputs": [
    {
     "data": {
      "text/plain": [
       "age_restriction\n",
       "0+       229.60\n",
       "12+    7,517.42\n",
       "16+   18,694.59\n",
       "18+    9,651.50\n",
       "6+    11,271.81\n",
       "Name: box_office, dtype: float64"
      ]
     },
     "metadata": {},
     "output_type": "display_data"
    },
    {
     "data": {
      "image/png": "[encoded data removed]",
      "text/plain": [
       "<Figure size 432x288 with 1 Axes>"
      ]
     },
     "metadata": {
      "needs_background": "light"
     },
     "output_type": "display_data"
    }
   ],
   "source": [
    "age_restriction_by_year(2017)"
   ]
  },
  {
   "cell_type": "code",
   "execution_count": 90,
   "id": "7d8d125e",
   "metadata": {
    "scrolled": false
   },
   "outputs": [
    {
     "data": {
      "text/plain": [
       "age_restriction\n",
       "0+        32.45\n",
       "12+   14,267.29\n",
       "16+   16,278.41\n",
       "18+    8,760.09\n",
       "6+     9,336.39\n",
       "Name: box_office, dtype: float64"
      ]
     },
     "metadata": {},
     "output_type": "display_data"
    },
    {
     "data": {
      "image/png": "[encoded data removed]",
      "text/plain": [
       "<Figure size 432x288 with 1 Axes>"
      ]
     },
     "metadata": {
      "needs_background": "light"
     },
     "output_type": "display_data"
    }
   ],
   "source": [
    "age_restriction_by_year(2018)"
   ]
  },
  {
   "cell_type": "code",
   "execution_count": 91,
   "id": "e35da1de",
   "metadata": {
    "scrolled": false
   },
   "outputs": [
    {
     "data": {
      "text/plain": [
       "age_restriction\n",
       "0+        17.75\n",
       "12+   12,680.20\n",
       "16+   12,699.97\n",
       "18+   10,121.80\n",
       "6+    12,203.87\n",
       "Name: box_office, dtype: float64"
      ]
     },
     "metadata": {},
     "output_type": "display_data"
    },
    {
     "data": {
      "image/png": "[encoded data removed]",
      "text/plain": [
       "<Figure size 432x288 with 1 Axes>"
      ]
     },
     "metadata": {
      "needs_background": "light"
     },
     "output_type": "display_data"
    }
   ],
   "source": [
    "age_restriction_by_year(2019)"
   ]
  },
  {
   "cell_type": "markdown",
   "id": "f4ae2ed2",
   "metadata": {},
   "source": [
    "Создадим диаграмму размаха кассовых сборов по возрастным ограничениям:"
   ]
  },
  {
   "cell_type": "code",
   "execution_count": 92,
   "id": "8a0c72d5",
   "metadata": {},
   "outputs": [
    {
     "data": {
      "image/png": "[encoded data removed]",
      "text/plain": [
       "<Figure size 720x360 with 1 Axes>"
      ]
     },
     "metadata": {
      "needs_background": "light"
     },
     "output_type": "display_data"
    }
   ],
   "source": [
    "data.boxplot(column='box_office', by='age_restriction', figsize=(10, 5), grid=True)\n",
    "plt.title('Кассовые сборы в зависимости от возрастных ограничений');\n",
    "plt.xlabel('Возрастные ограничения');\n",
    "plt.ylabel('Кассовые сборы, млн.руб.');\n",
    "plt.show()"
   ]
  },
  {
   "cell_type": "code",
   "execution_count": 93,
   "id": "559d2cc0",
   "metadata": {},
   "outputs": [
    {
     "data": {
      "image/png": "[encoded data removed]",
      "text/plain": [
       "<Figure size 576x576 with 1 Axes>"
      ]
     },
     "metadata": {
      "needs_background": "light"
     },
     "output_type": "display_data"
    }
   ],
   "source": [
    "import seaborn as sns\n",
    "temp = data.copy()\n",
    "# для удобства укоротим названия категорий\n",
    "def get_first_value(s, sep = ','):  # Функция для выбора первого элемента из перечисления\n",
    "    value_lst = s.split(sep=sep)\n",
    "    return value_lst[0]\n",
    "\n",
    "temp['age_restriction'] = temp['age_restriction'].apply(lambda x: get_first_value(x, sep='-'))\n",
    "# сохраним маску для среза по годам\n",
    "year_mask = temp['start_year'] >= 2015\n",
    "\n",
    "plt.figure(figsize=(8, 8))\n",
    "(sns.boxplot(data = temp.loc[year_mask], y = 'box_office', x='age_restriction', showfliers=False, showmeans=True)\n",
    "    .set(title = 'Кассовые сборы в зависимости от возрастной категории', \n",
    "         xlabel = 'Возрастные категории', ylabel = 'Кассовый сбор'))\n",
    "plt.text(0, 300,'Треугольник показывает среднее значение')\n",
    "plt.show()"
   ]
  },
  {
   "cell_type": "markdown",
   "id": "9e599d9f",
   "metadata": {},
   "source": [
    "Диаграмма размаха связана с медианой, т.е. не чувствительна к выбросам. Вероятно, поэтому результаты в категориях 12+ и 6+ выше, чем у 16+ (что противоречит общему выводу ниже)"
   ]
  },
  {
   "cell_type": "markdown",
   "id": "fc4aa982",
   "metadata": {},
   "source": [
    "Выводы по разделу:\n",
    "\n",
    "- возрастное ограничение непосредственно влияет на сборы фильмов в прокате. В исследуемый период больше всего кассовых сборов принесла категория фильмов 16+ (~75 млрд. руб.), далее идут 12+, 6+, и 18+. Замыкает рейтинг категория 0+ (809 млн. руб);\n",
    "\n",
    "\n",
    "- в зависимости от года, рейтинг сборов следующий (по убыванию):\n",
    "- 2015: 12+, 16+, 6+, 18+, 0+;\n",
    "- 2016: 16+, 12+, 6+, 18+, 0+;\n",
    "- 2017: 16+, 6+, 18+, 12+, 0+;\n",
    "- 2018: 16+, 12+, 6+, 18+, 0+;\n",
    "- 2019: 6+, 16+, 12+, 18+, 0+. \n",
    "\n",
    "\n",
    "- на основании полученных данных можно сделать следующие выводы: на фильмы категории 0+ почти не ходят, предпочитая смотреть их дома. Под фильмы категории 16+ почти наверняка подпадает большинство экранизаций комиксов - отсюда и максимум по кассовым сборам, а также нацеленность кинопрокатчиков именно на эту категорию."
   ]
  },
  {
   "cell_type": "markdown",
   "id": "1583d3e6",
   "metadata": {},
   "source": [
    "В данном разделе предлагалось изучить, как меняется динамика рынка проката фильмов по годам, а также какие факторы оказывают на это влияние и почему.\n",
    "В результате проведённого анализа были сформулированы следующие выводы:\n",
    "    \n",
    "- в исследуемый период наблюдается рост общего количества фильмов в прокате, фильмов в кинотеатрах и, соответственно, их процентного соотношения. Общее количество фильмов, выходивших в прокат, не сильно меняется по годам (в среднем от 600 до 800 шт. с пиком в 985 шт. в 2010 году). Количество фильмов, выходивших в прокат в кинотеатрах, стабильно росло, начиная с 2010 года (105 шт.) до 2016 года (526 шт.). Затем последовал небольшой спад, и снова рост с 2017 года. В этом же году мы видим самое большое процентное соотношение (70.7%) между фильмами, показанными в кинотеатрах и общим количеством фильмов;\n",
    "\n",
    "- существует высокая вероятность того, что до 2014 года информация о сумме кассовых сборов в кинотеатрах отсутствует или формировалась неправильно, об этом свидетельствует и минимум в 2010 году (2.43 млн.руб.), что явно не соответствуют действительности. Можно предположить, что минимальное значение сборов составляет 7.4 млрд. руб. в 2014 году. Максимальное - 49.7 млрд. руб. в 2018 году. С 2016 года кассовые сборы стабильно превышают 40 млрд. руб. в год;\n",
    "\n",
    "- медианное и среднее значения кассовых сборов по годам отличаются кардинально. При этом есть достаточно большое количество фильмов с аномально низкими сборами (менее 100 тыс. руб., что скорее всего ошибочно), а также ряд фильмов, собравших миллиарды руб.;\n",
    "\n",
    "- возрастное ограничение непосредственно влияет на сборы фильмов в прокате. В исследуемый период больше всего кассовых сборов принесла категория фильмов 16+ (~75 млрд. руб.), далее по убыванию, как правило, идут категории 12+, 6+, и 18+. Замыкает рейтинг категория 0+ (809 млн. руб). Это может объясняться тем, что на фильмы категории 0+ почти не ходят, предпочитая смотреть их дома. Стабильно высокие кассовые сборы показывают фильмы категорий 12+ и 16+, скорее всего благодаря экранизациям комиксов: в последнее время было выпущено большое количество фильмов именно этого жанра.\n",
    "\n",
    "Стабильный рост кассовых сборов и кинопроката может быть обусловлен также успешной борьбой с пиратством: в настоящее время стоимость подписки, на абонементы онлайн-кинотеатров не слишком высока, что облегчает пользователям процесс поиска и просмотра фильмов в лучшем качестве."
   ]
  },
  {
   "cell_type": "markdown",
   "id": "74989519",
   "metadata": {},
   "source": [
    "## Исследование фильмов, получивших государственную поддержку"
   ]
  },
  {
   "cell_type": "markdown",
   "id": "4060c94f",
   "metadata": {},
   "source": [
    "Постараемся найти интересные закономерности в данных. Посмотрим, сколько выделяют средств на поддержку кино. Проверим, хорошо ли окупаются такие фильмы и какой у них рейтинг. "
   ]
  },
  {
   "cell_type": "markdown",
   "id": "d2e94a2b",
   "metadata": {},
   "source": [
    "Для начала посмотрим, сколько всего таких фильмов в датасете:"
   ]
  },
  {
   "cell_type": "code",
   "execution_count": 94,
   "id": "d26bacca",
   "metadata": {},
   "outputs": [
    {
     "data": {
      "text/plain": [
       "307"
      ]
     },
     "execution_count": 94,
     "metadata": {},
     "output_type": "execute_result"
    }
   ],
   "source": [
    "data['financing_source'].value_counts().sum()"
   ]
  },
  {
   "cell_type": "code",
   "execution_count": 95,
   "id": "91745780",
   "metadata": {},
   "outputs": [
    {
     "data": {
      "text/plain": [
       "array([nan, 'Министерство культуры', 'Фонд кино',\n",
       "       'Министерство культуры, Фонд кино'], dtype=object)"
      ]
     },
     "execution_count": 95,
     "metadata": {},
     "output_type": "execute_result"
    }
   ],
   "source": [
    "data['financing_source'].unique() # посмотрим на уникальные значения в столбце 'financing_source'"
   ]
  },
  {
   "cell_type": "markdown",
   "id": "b32f5f9f",
   "metadata": {},
   "source": [
    "Итак, у нас есть 332 фильма с господдержкой. Скопируем эти данные в отдельную таблицу, в которую не будем включать фильмы с неизвестным источником финансирования:"
   ]
  },
  {
   "cell_type": "code",
   "execution_count": 96,
   "id": "097978b8",
   "metadata": {
    "scrolled": false
   },
   "outputs": [
    {
     "data": {
      "text/html": [
       "<div>\n",
       "<style scoped>\n",
       "    .dataframe tbody tr th:only-of-type {\n",
       "        vertical-align: middle;\n",
       "    }\n",
       "\n",
       "    .dataframe tbody tr th {\n",
       "        vertical-align: top;\n",
       "    }\n",
       "\n",
       "    .dataframe thead th {\n",
       "        text-align: right;\n",
       "    }\n",
       "</style>\n",
       "<table border=\"1\" class=\"dataframe\">\n",
       "  <thead>\n",
       "    <tr style=\"text-align: right;\">\n",
       "      <th></th>\n",
       "      <th>title</th>\n",
       "      <th>pu_number</th>\n",
       "      <th>show_start_date</th>\n",
       "      <th>type</th>\n",
       "      <th>film_studio</th>\n",
       "      <th>production_country</th>\n",
       "      <th>director</th>\n",
       "      <th>producer</th>\n",
       "      <th>age_restriction</th>\n",
       "      <th>refundable_support</th>\n",
       "      <th>nonrefundable_support</th>\n",
       "      <th>budget</th>\n",
       "      <th>financing_source</th>\n",
       "      <th>ratings</th>\n",
       "      <th>genres</th>\n",
       "      <th>pu_number_except</th>\n",
       "      <th>box_office</th>\n",
       "      <th>start_year</th>\n",
       "      <th>director_name</th>\n",
       "      <th>main_genre</th>\n",
       "      <th>support_ratio</th>\n",
       "    </tr>\n",
       "  </thead>\n",
       "  <tbody>\n",
       "    <tr>\n",
       "      <th>1281</th>\n",
       "      <td>Пока еще жива</td>\n",
       "      <td>111005313</td>\n",
       "      <td>2013-10-11 12:00:00</td>\n",
       "      <td>Художественный</td>\n",
       "      <td>АНО содействия развитию кинематографии \"Ангел-...</td>\n",
       "      <td>Россия</td>\n",
       "      <td>А.Атанесян</td>\n",
       "      <td>А.Атанесян, М.Бабаханов, Р.Бутко</td>\n",
       "      <td>16+</td>\n",
       "      <td>0.00</td>\n",
       "      <td>26,500,000.00</td>\n",
       "      <td>79,411,900.00</td>\n",
       "      <td>Министерство культуры</td>\n",
       "      <td>8.10</td>\n",
       "      <td>драма,мелодрама</td>\n",
       "      <td>True</td>\n",
       "      <td>0.37</td>\n",
       "      <td>2013</td>\n",
       "      <td>А.Атанесян</td>\n",
       "      <td>драма</td>\n",
       "      <td>33.37</td>\n",
       "    </tr>\n",
       "    <tr>\n",
       "      <th>1448</th>\n",
       "      <td>Бесславные придурки</td>\n",
       "      <td>111003314</td>\n",
       "      <td>2014-03-28 12:00:00</td>\n",
       "      <td>Художественный</td>\n",
       "      <td>ООО \"Компания \"АТК-Студио\"</td>\n",
       "      <td>Россия</td>\n",
       "      <td>А.Якимчук</td>\n",
       "      <td>А.Тютрюмов</td>\n",
       "      <td>12+</td>\n",
       "      <td>0.00</td>\n",
       "      <td>26,000,000.00</td>\n",
       "      <td>37,142,857.00</td>\n",
       "      <td>Министерство культуры</td>\n",
       "      <td>NaN</td>\n",
       "      <td>unknown</td>\n",
       "      <td>True</td>\n",
       "      <td>0.03</td>\n",
       "      <td>2014</td>\n",
       "      <td>А.Якимчук</td>\n",
       "      <td>unknown</td>\n",
       "      <td>70.00</td>\n",
       "    </tr>\n",
       "    <tr>\n",
       "      <th>1498</th>\n",
       "      <td>Невидимки</td>\n",
       "      <td>111004213</td>\n",
       "      <td>2013-09-10 12:00:00</td>\n",
       "      <td>Художественный</td>\n",
       "      <td>ООО \"Компания \"РЕАЛ-ДАКОТА\"</td>\n",
       "      <td>Россия</td>\n",
       "      <td>Р.Давлетьяров, С.Комаров</td>\n",
       "      <td>Р.Давлетьяров, А.Котелевский, А.Олейников</td>\n",
       "      <td>12+</td>\n",
       "      <td>0.00</td>\n",
       "      <td>107,847,945.00</td>\n",
       "      <td>176,023,490.00</td>\n",
       "      <td>Фонд кино</td>\n",
       "      <td>5.30</td>\n",
       "      <td>комедия,фантастика</td>\n",
       "      <td>True</td>\n",
       "      <td>19.96</td>\n",
       "      <td>2013</td>\n",
       "      <td>Р.Давлетьяров</td>\n",
       "      <td>комедия</td>\n",
       "      <td>61.27</td>\n",
       "    </tr>\n",
       "    <tr>\n",
       "      <th>1524</th>\n",
       "      <td>БЕРЦЫ</td>\n",
       "      <td>111004314</td>\n",
       "      <td>2014-05-05 12:00:00</td>\n",
       "      <td>Художественный</td>\n",
       "      <td>ООО \"Студия \"Пассажир\"</td>\n",
       "      <td>Россия</td>\n",
       "      <td>Е.Миндадзе (псевдоним Катя Шагалова)</td>\n",
       "      <td>Л.Антонова</td>\n",
       "      <td>16+</td>\n",
       "      <td>0.00</td>\n",
       "      <td>28,000,000.00</td>\n",
       "      <td>40,574,140.00</td>\n",
       "      <td>Министерство культуры</td>\n",
       "      <td>4.20</td>\n",
       "      <td>драма</td>\n",
       "      <td>True</td>\n",
       "      <td>0.06</td>\n",
       "      <td>2014</td>\n",
       "      <td>Е.Миндадзе (псевдоним Катя Шагалова)</td>\n",
       "      <td>драма</td>\n",
       "      <td>69.01</td>\n",
       "    </tr>\n",
       "    <tr>\n",
       "      <th>1792</th>\n",
       "      <td>Братья Ч</td>\n",
       "      <td>111004414</td>\n",
       "      <td>2014-04-23 12:00:00</td>\n",
       "      <td>Художественный</td>\n",
       "      <td>ООО \"Студия \"Пассажир\"</td>\n",
       "      <td>Россия</td>\n",
       "      <td>М.Угаров</td>\n",
       "      <td>А.Миндадзе, Л.Антонова</td>\n",
       "      <td>16+</td>\n",
       "      <td>0.00</td>\n",
       "      <td>25,000,000.00</td>\n",
       "      <td>40,015,122.00</td>\n",
       "      <td>Министерство культуры</td>\n",
       "      <td>6.40</td>\n",
       "      <td>драма</td>\n",
       "      <td>True</td>\n",
       "      <td>0.23</td>\n",
       "      <td>2014</td>\n",
       "      <td>М.Угаров</td>\n",
       "      <td>драма</td>\n",
       "      <td>62.48</td>\n",
       "    </tr>\n",
       "    <tr>\n",
       "      <th>...</th>\n",
       "      <td>...</td>\n",
       "      <td>...</td>\n",
       "      <td>...</td>\n",
       "      <td>...</td>\n",
       "      <td>...</td>\n",
       "      <td>...</td>\n",
       "      <td>...</td>\n",
       "      <td>...</td>\n",
       "      <td>...</td>\n",
       "      <td>...</td>\n",
       "      <td>...</td>\n",
       "      <td>...</td>\n",
       "      <td>...</td>\n",
       "      <td>...</td>\n",
       "      <td>...</td>\n",
       "      <td>...</td>\n",
       "      <td>...</td>\n",
       "      <td>...</td>\n",
       "      <td>...</td>\n",
       "      <td>...</td>\n",
       "      <td>...</td>\n",
       "    </tr>\n",
       "    <tr>\n",
       "      <th>7456</th>\n",
       "      <td>Холоп</td>\n",
       "      <td>111021719</td>\n",
       "      <td>2019-12-19 12:00:00</td>\n",
       "      <td>Художественный</td>\n",
       "      <td>ООО \"МЕМ-МЕДИА\" по заказу АО \"ВБД Груп\"</td>\n",
       "      <td>Россия</td>\n",
       "      <td>К.Шипенко</td>\n",
       "      <td>Э.Илоян, Д.Жалинский, В.Дусмухаметов, Т.Бадзие...</td>\n",
       "      <td>12+</td>\n",
       "      <td>25,000,000.00</td>\n",
       "      <td>35,000,000.00</td>\n",
       "      <td>160,000,000.00</td>\n",
       "      <td>Фонд кино</td>\n",
       "      <td>6.80</td>\n",
       "      <td>комедия</td>\n",
       "      <td>True</td>\n",
       "      <td>3,073.57</td>\n",
       "      <td>2019</td>\n",
       "      <td>К.Шипенко</td>\n",
       "      <td>комедия</td>\n",
       "      <td>37.50</td>\n",
       "    </tr>\n",
       "    <tr>\n",
       "      <th>7464</th>\n",
       "      <td>Союз спасения</td>\n",
       "      <td>111022019</td>\n",
       "      <td>2019-12-26 12:00:00</td>\n",
       "      <td>Художественный</td>\n",
       "      <td>ЗАО \"Дирекция кино\"</td>\n",
       "      <td>Россия</td>\n",
       "      <td>А.Кравчук</td>\n",
       "      <td>А.Максимов, К.Эрнст</td>\n",
       "      <td>12+</td>\n",
       "      <td>100,000,000.00</td>\n",
       "      <td>400,000,000.00</td>\n",
       "      <td>980,000,000.00</td>\n",
       "      <td>Фонд кино</td>\n",
       "      <td>6.00</td>\n",
       "      <td>история,биография,драма</td>\n",
       "      <td>True</td>\n",
       "      <td>717.70</td>\n",
       "      <td>2019</td>\n",
       "      <td>А.Кравчук</td>\n",
       "      <td>история</td>\n",
       "      <td>51.02</td>\n",
       "    </tr>\n",
       "    <tr>\n",
       "      <th>7474</th>\n",
       "      <td>Вторжение</td>\n",
       "      <td>111022519</td>\n",
       "      <td>2019-12-23 12:00:00</td>\n",
       "      <td>Художественный</td>\n",
       "      <td>ООО \"Арт Пикчерс Студия\", ООО \"Водород 2011\"</td>\n",
       "      <td>Россия</td>\n",
       "      <td>Ф.Бондарчук</td>\n",
       "      <td>Ф.Бондарчук, М.Врубель, А.Андрющенко, Д.Рудовский</td>\n",
       "      <td>12+</td>\n",
       "      <td>100,000,000.00</td>\n",
       "      <td>400,000,000.00</td>\n",
       "      <td>944,000,000.00</td>\n",
       "      <td>Фонд кино</td>\n",
       "      <td>5.70</td>\n",
       "      <td>фантастика,боевик</td>\n",
       "      <td>True</td>\n",
       "      <td>NaN</td>\n",
       "      <td>2019</td>\n",
       "      <td>Ф.Бондарчук</td>\n",
       "      <td>фантастика</td>\n",
       "      <td>52.97</td>\n",
       "    </tr>\n",
       "    <tr>\n",
       "      <th>7476</th>\n",
       "      <td>Я свободен</td>\n",
       "      <td>111023019</td>\n",
       "      <td>2019-12-26 12:00:00</td>\n",
       "      <td>Художественный</td>\n",
       "      <td>АО \"ТПО \"Киностудия им. М.Горького\"</td>\n",
       "      <td>Россия</td>\n",
       "      <td>И.Северов</td>\n",
       "      <td>С.Зернов</td>\n",
       "      <td>12+</td>\n",
       "      <td>0.00</td>\n",
       "      <td>30,000,000.00</td>\n",
       "      <td>46,154,000.00</td>\n",
       "      <td>Министерство культуры</td>\n",
       "      <td>5.90</td>\n",
       "      <td>драма</td>\n",
       "      <td>True</td>\n",
       "      <td>NaN</td>\n",
       "      <td>2019</td>\n",
       "      <td>И.Северов</td>\n",
       "      <td>драма</td>\n",
       "      <td>65.00</td>\n",
       "    </tr>\n",
       "    <tr>\n",
       "      <th>7478</th>\n",
       "      <td>(Не)идеальный мужчина</td>\n",
       "      <td>111023119</td>\n",
       "      <td>2019-12-24 12:00:00</td>\n",
       "      <td>Художественный</td>\n",
       "      <td>ООО \"Нон-Стоп Продакшн\"</td>\n",
       "      <td>Россия</td>\n",
       "      <td>М.Бальчюнас (псевдоним М.Вайсберг)</td>\n",
       "      <td>С.Мелькумов, А.Роднянский, М.Вайсберг, Р.Минас...</td>\n",
       "      <td>12+</td>\n",
       "      <td>40,000,000.00</td>\n",
       "      <td>60,000,000.00</td>\n",
       "      <td>150,147,502.00</td>\n",
       "      <td>Фонд кино</td>\n",
       "      <td>4.50</td>\n",
       "      <td>комедия,фантастика,мелодрама</td>\n",
       "      <td>True</td>\n",
       "      <td>NaN</td>\n",
       "      <td>2019</td>\n",
       "      <td>М.Бальчюнас (псевдоним М.Вайсберг)</td>\n",
       "      <td>комедия</td>\n",
       "      <td>66.60</td>\n",
       "    </tr>\n",
       "  </tbody>\n",
       "</table>\n",
       "<p>307 rows × 21 columns</p>\n",
       "</div>"
      ],
      "text/plain": [
       "                      title  pu_number     show_start_date            type  \\\n",
       "1281          Пока еще жива  111005313 2013-10-11 12:00:00  Художественный   \n",
       "1448    Бесславные придурки  111003314 2014-03-28 12:00:00  Художественный   \n",
       "1498              Невидимки  111004213 2013-09-10 12:00:00  Художественный   \n",
       "1524                  БЕРЦЫ  111004314 2014-05-05 12:00:00  Художественный   \n",
       "1792               Братья Ч  111004414 2014-04-23 12:00:00  Художественный   \n",
       "...                     ...        ...                 ...             ...   \n",
       "7456                  Холоп  111021719 2019-12-19 12:00:00  Художественный   \n",
       "7464          Союз спасения  111022019 2019-12-26 12:00:00  Художественный   \n",
       "7474              Вторжение  111022519 2019-12-23 12:00:00  Художественный   \n",
       "7476             Я свободен  111023019 2019-12-26 12:00:00  Художественный   \n",
       "7478  (Не)идеальный мужчина  111023119 2019-12-24 12:00:00  Художественный   \n",
       "\n",
       "                                            film_studio production_country  \\\n",
       "1281  АНО содействия развитию кинематографии \"Ангел-...             Россия   \n",
       "1448                         ООО \"Компания \"АТК-Студио\"             Россия   \n",
       "1498                        ООО \"Компания \"РЕАЛ-ДАКОТА\"             Россия   \n",
       "1524                             ООО \"Студия \"Пассажир\"             Россия   \n",
       "1792                             ООО \"Студия \"Пассажир\"             Россия   \n",
       "...                                                 ...                ...   \n",
       "7456            ООО \"МЕМ-МЕДИА\" по заказу АО \"ВБД Груп\"             Россия   \n",
       "7464                                ЗАО \"Дирекция кино\"             Россия   \n",
       "7474       ООО \"Арт Пикчерс Студия\", ООО \"Водород 2011\"             Россия   \n",
       "7476                АО \"ТПО \"Киностудия им. М.Горького\"             Россия   \n",
       "7478                           ООО \"Нон-Стоп Продакшн\"              Россия   \n",
       "\n",
       "                                  director  \\\n",
       "1281                            А.Атанесян   \n",
       "1448                             А.Якимчук   \n",
       "1498              Р.Давлетьяров, С.Комаров   \n",
       "1524  Е.Миндадзе (псевдоним Катя Шагалова)   \n",
       "1792                              М.Угаров   \n",
       "...                                    ...   \n",
       "7456                             К.Шипенко   \n",
       "7464                             А.Кравчук   \n",
       "7474                           Ф.Бондарчук   \n",
       "7476                             И.Северов   \n",
       "7478    М.Бальчюнас (псевдоним М.Вайсберг)   \n",
       "\n",
       "                                               producer age_restriction  \\\n",
       "1281                   А.Атанесян, М.Бабаханов, Р.Бутко             16+   \n",
       "1448                                         А.Тютрюмов             12+   \n",
       "1498          Р.Давлетьяров, А.Котелевский, А.Олейников             12+   \n",
       "1524                                         Л.Антонова             16+   \n",
       "1792                             А.Миндадзе, Л.Антонова             16+   \n",
       "...                                                 ...             ...   \n",
       "7456  Э.Илоян, Д.Жалинский, В.Дусмухаметов, Т.Бадзие...             12+   \n",
       "7464                                А.Максимов, К.Эрнст             12+   \n",
       "7474  Ф.Бондарчук, М.Врубель, А.Андрющенко, Д.Рудовский             12+   \n",
       "7476                                           С.Зернов             12+   \n",
       "7478  С.Мелькумов, А.Роднянский, М.Вайсберг, Р.Минас...             12+   \n",
       "\n",
       "      refundable_support  nonrefundable_support         budget  \\\n",
       "1281                0.00          26,500,000.00  79,411,900.00   \n",
       "1448                0.00          26,000,000.00  37,142,857.00   \n",
       "1498                0.00         107,847,945.00 176,023,490.00   \n",
       "1524                0.00          28,000,000.00  40,574,140.00   \n",
       "1792                0.00          25,000,000.00  40,015,122.00   \n",
       "...                  ...                    ...            ...   \n",
       "7456       25,000,000.00          35,000,000.00 160,000,000.00   \n",
       "7464      100,000,000.00         400,000,000.00 980,000,000.00   \n",
       "7474      100,000,000.00         400,000,000.00 944,000,000.00   \n",
       "7476                0.00          30,000,000.00  46,154,000.00   \n",
       "7478       40,000,000.00          60,000,000.00 150,147,502.00   \n",
       "\n",
       "           financing_source  ratings                        genres  \\\n",
       "1281  Министерство культуры     8.10               драма,мелодрама   \n",
       "1448  Министерство культуры      NaN                       unknown   \n",
       "1498              Фонд кино     5.30            комедия,фантастика   \n",
       "1524  Министерство культуры     4.20                         драма   \n",
       "1792  Министерство культуры     6.40                         драма   \n",
       "...                     ...      ...                           ...   \n",
       "7456              Фонд кино     6.80                       комедия   \n",
       "7464              Фонд кино     6.00       история,биография,драма   \n",
       "7474              Фонд кино     5.70             фантастика,боевик   \n",
       "7476  Министерство культуры     5.90                         драма   \n",
       "7478              Фонд кино     4.50  комедия,фантастика,мелодрама   \n",
       "\n",
       "      pu_number_except  box_office  start_year  \\\n",
       "1281              True        0.37        2013   \n",
       "1448              True        0.03        2014   \n",
       "1498              True       19.96        2013   \n",
       "1524              True        0.06        2014   \n",
       "1792              True        0.23        2014   \n",
       "...                ...         ...         ...   \n",
       "7456              True    3,073.57        2019   \n",
       "7464              True      717.70        2019   \n",
       "7474              True         NaN        2019   \n",
       "7476              True         NaN        2019   \n",
       "7478              True         NaN        2019   \n",
       "\n",
       "                             director_name  main_genre  support_ratio  \n",
       "1281                            А.Атанесян       драма          33.37  \n",
       "1448                             А.Якимчук     unknown          70.00  \n",
       "1498                         Р.Давлетьяров     комедия          61.27  \n",
       "1524  Е.Миндадзе (псевдоним Катя Шагалова)       драма          69.01  \n",
       "1792                              М.Угаров       драма          62.48  \n",
       "...                                    ...         ...            ...  \n",
       "7456                             К.Шипенко     комедия          37.50  \n",
       "7464                             А.Кравчук     история          51.02  \n",
       "7474                           Ф.Бондарчук  фантастика          52.97  \n",
       "7476                             И.Северов       драма          65.00  \n",
       "7478    М.Бальчюнас (псевдоним М.Вайсберг)     комедия          66.60  \n",
       "\n",
       "[307 rows x 21 columns]"
      ]
     },
     "metadata": {},
     "output_type": "display_data"
    }
   ],
   "source": [
    "gov_support = data[data['financing_source'].isna() == False].copy()\n",
    "display(gov_support)"
   ]
  },
  {
   "cell_type": "markdown",
   "id": "54416612",
   "metadata": {},
   "source": [
    "Посмотрим, как финансировались эти фильмы. Построим распределение созданного ранее показателя `support_ratio` по годам:"
   ]
  },
  {
   "cell_type": "code",
   "execution_count": 98,
   "id": "7628ecf4",
   "metadata": {},
   "outputs": [
    {
     "data": {
      "image/png": "[encoded data removed]",
      "text/plain": [
       "<Figure size 720x360 with 1 Axes>"
      ]
     },
     "metadata": {
      "needs_background": "light"
     },
     "output_type": "display_data"
    }
   ],
   "source": [
    "gov_support.pivot_table(index='start_year', values='support_ratio').plot(kind='bar', figsize=(10, 5), grid=True, title='Распределение гос. финансирования фильмов по годам');\n",
    "plt.xlabel('Год');\n",
    "plt.ylabel('Процент гос. финансирования');\n",
    "plt.show()"
   ]
  },
  {
   "cell_type": "code",
   "execution_count": 99,
   "id": "362d3bea",
   "metadata": {},
   "outputs": [
    {
     "data": {
      "text/plain": [
       "count   307.00\n",
       "mean     51.95\n",
       "std      16.89\n",
       "min       4.40\n",
       "25%      37.50\n",
       "50%      59.32\n",
       "75%      65.73\n",
       "max      78.47\n",
       "Name: support_ratio, dtype: float64"
      ]
     },
     "execution_count": 99,
     "metadata": {},
     "output_type": "execute_result"
    }
   ],
   "source": [
    "gov_support['support_ratio'].describe()"
   ]
  },
  {
   "cell_type": "markdown",
   "id": "5c63f91f",
   "metadata": {},
   "source": [
    "Уровень гос. поддержки финансирования фильмов в среднем составляет 52%"
   ]
  },
  {
   "cell_type": "markdown",
   "id": "6d21e77e",
   "metadata": {},
   "source": [
    "Посмотрим, сколько всего гос. средств выделяется на поддержку фильмов, для этого создадим новый столбец `total_support` в таблице `gov_support`, из суммы значений `refundable_support` и `nonrefundable_support`:"
   ]
  },
  {
   "cell_type": "code",
   "execution_count": 100,
   "id": "ee7e18d7",
   "metadata": {},
   "outputs": [],
   "source": [
    "gov_support['total_support'] = (gov_support['refundable_support'] + gov_support['nonrefundable_support']) / 1000000"
   ]
  },
  {
   "cell_type": "markdown",
   "id": "f21a55b6",
   "metadata": {},
   "source": [
    "Теперь рассмотрим распределение `total_support` по годам:"
   ]
  },
  {
   "cell_type": "code",
   "execution_count": 101,
   "id": "b6fe045b",
   "metadata": {
    "scrolled": true
   },
   "outputs": [
    {
     "data": {
      "text/html": [
       "<div>\n",
       "<style scoped>\n",
       "    .dataframe tbody tr th:only-of-type {\n",
       "        vertical-align: middle;\n",
       "    }\n",
       "\n",
       "    .dataframe tbody tr th {\n",
       "        vertical-align: top;\n",
       "    }\n",
       "\n",
       "    .dataframe thead th {\n",
       "        text-align: right;\n",
       "    }\n",
       "</style>\n",
       "<table border=\"1\" class=\"dataframe\">\n",
       "  <thead>\n",
       "    <tr style=\"text-align: right;\">\n",
       "      <th></th>\n",
       "      <th>count</th>\n",
       "      <th>sum</th>\n",
       "    </tr>\n",
       "    <tr>\n",
       "      <th>start_year</th>\n",
       "      <th></th>\n",
       "      <th></th>\n",
       "    </tr>\n",
       "  </thead>\n",
       "  <tbody>\n",
       "    <tr>\n",
       "      <th>2013</th>\n",
       "      <td>2</td>\n",
       "      <td>134.35</td>\n",
       "    </tr>\n",
       "    <tr>\n",
       "      <th>2014</th>\n",
       "      <td>15</td>\n",
       "      <td>549.00</td>\n",
       "    </tr>\n",
       "    <tr>\n",
       "      <th>2015</th>\n",
       "      <td>77</td>\n",
       "      <td>3,118.24</td>\n",
       "    </tr>\n",
       "    <tr>\n",
       "      <th>2016</th>\n",
       "      <td>58</td>\n",
       "      <td>3,977.16</td>\n",
       "    </tr>\n",
       "    <tr>\n",
       "      <th>2017</th>\n",
       "      <td>37</td>\n",
       "      <td>2,998.97</td>\n",
       "    </tr>\n",
       "    <tr>\n",
       "      <th>2018</th>\n",
       "      <td>51</td>\n",
       "      <td>2,983.00</td>\n",
       "    </tr>\n",
       "    <tr>\n",
       "      <th>2019</th>\n",
       "      <td>67</td>\n",
       "      <td>4,589.00</td>\n",
       "    </tr>\n",
       "  </tbody>\n",
       "</table>\n",
       "</div>"
      ],
      "text/plain": [
       "            count      sum\n",
       "start_year                \n",
       "2013            2   134.35\n",
       "2014           15   549.00\n",
       "2015           77 3,118.24\n",
       "2016           58 3,977.16\n",
       "2017           37 2,998.97\n",
       "2018           51 2,983.00\n",
       "2019           67 4,589.00"
      ]
     },
     "metadata": {},
     "output_type": "display_data"
    }
   ],
   "source": [
    "support = gov_support.groupby('start_year')['total_support'].agg(['count', 'sum']).round(2)\n",
    "display(support)"
   ]
  },
  {
   "cell_type": "markdown",
   "id": "4c0cb06b",
   "metadata": {},
   "source": [
    "Построим графики распределения количества фильмов по годам:"
   ]
  },
  {
   "cell_type": "code",
   "execution_count": 103,
   "id": "73c5f77a",
   "metadata": {},
   "outputs": [
    {
     "data": {
      "image/png": "[encoded data removed]",
      "text/plain": [
       "<Figure size 720x360 with 1 Axes>"
      ]
     },
     "metadata": {
      "needs_background": "light"
     },
     "output_type": "display_data"
    }
   ],
   "source": [
    "support['count'].plot(kind='bar', figsize=(10, 5), grid=True, title='Количество фильмов с гос. поддержкой по годам');\n",
    "plt.xlabel('Год');\n",
    "plt.ylabel('Количество фильмов');\n",
    "plt.show()"
   ]
  },
  {
   "cell_type": "markdown",
   "id": "ab5823ce",
   "metadata": {},
   "source": [
    " и гос. финансирования по годам:"
   ]
  },
  {
   "cell_type": "code",
   "execution_count": 105,
   "id": "8dc339d8",
   "metadata": {},
   "outputs": [
    {
     "data": {
      "image/png": "[encoded data removed]",
      "text/plain": [
       "<Figure size 720x360 with 1 Axes>"
      ]
     },
     "metadata": {
      "needs_background": "light"
     },
     "output_type": "display_data"
    }
   ],
   "source": [
    "support['sum'].plot(kind='bar', figsize=(10, 5), grid=True, title='Объём гос. поддержки по годам');\n",
    "plt.xlabel('Год');\n",
    "plt.ylabel('Объем гос. поддержки, млн.руб.');\n",
    "plt.show()"
   ]
  },
  {
   "cell_type": "markdown",
   "id": "90666098",
   "metadata": {},
   "source": [
    "Посмотрим, насколько прибыльными оказываются фильмы с гос. поддержкой:"
   ]
  },
  {
   "cell_type": "markdown",
   "id": "d65f3226",
   "metadata": {},
   "source": [
    "Создадим ещё один столбец `earnings`, который показывает чистую прибыль фильма за вычетом гос. финансирования:"
   ]
  },
  {
   "cell_type": "code",
   "execution_count": 106,
   "id": "fa68a22d",
   "metadata": {},
   "outputs": [],
   "source": [
    "gov_support['budget'] = (gov_support['budget'] / 1000000).round(2) # переведем в млн. руб.\n",
    "gov_support['earnings'] = gov_support['box_office'] - gov_support['budget'] # здесь не вычитаем величину господдержки, т.к. по описанию проекта столбец budget уже полностью её включает"
   ]
  },
  {
   "cell_type": "code",
   "execution_count": 108,
   "id": "b1ee02ef",
   "metadata": {},
   "outputs": [
    {
     "data": {
      "image/png": "[encoded data removed]",
      "text/plain": [
       "<Figure size 720x360 with 1 Axes>"
      ]
     },
     "metadata": {
      "needs_background": "light"
     },
     "output_type": "display_data"
    }
   ],
   "source": [
    "gov_support.groupby('start_year')['earnings'].sum().plot(kind='bar', figsize=(10, 5), grid=True, title='Распределение прибыли фильмов с гос. поддержкой по годам');\n",
    "plt.xlabel('Год');\n",
    "plt.ylabel('Прибыль, млн.руб.');\n",
    "plt.show()"
   ]
  },
  {
   "cell_type": "markdown",
   "id": "17c4e57e",
   "metadata": {},
   "source": [
    "Посмотрим, какие фильмы принесли максимальную прибыль в 2017 и 2018 годах:"
   ]
  },
  {
   "cell_type": "code",
   "execution_count": 109,
   "id": "1483eb42",
   "metadata": {},
   "outputs": [
    {
     "data": {
      "text/html": [
       "<div>\n",
       "<style scoped>\n",
       "    .dataframe tbody tr th:only-of-type {\n",
       "        vertical-align: middle;\n",
       "    }\n",
       "\n",
       "    .dataframe tbody tr th {\n",
       "        vertical-align: top;\n",
       "    }\n",
       "\n",
       "    .dataframe thead th {\n",
       "        text-align: right;\n",
       "    }\n",
       "</style>\n",
       "<table border=\"1\" class=\"dataframe\">\n",
       "  <thead>\n",
       "    <tr style=\"text-align: right;\">\n",
       "      <th></th>\n",
       "      <th>title</th>\n",
       "      <th>pu_number</th>\n",
       "      <th>show_start_date</th>\n",
       "      <th>type</th>\n",
       "      <th>film_studio</th>\n",
       "      <th>production_country</th>\n",
       "      <th>director</th>\n",
       "      <th>producer</th>\n",
       "      <th>age_restriction</th>\n",
       "      <th>refundable_support</th>\n",
       "      <th>nonrefundable_support</th>\n",
       "      <th>budget</th>\n",
       "      <th>financing_source</th>\n",
       "      <th>ratings</th>\n",
       "      <th>genres</th>\n",
       "      <th>pu_number_except</th>\n",
       "      <th>box_office</th>\n",
       "      <th>start_year</th>\n",
       "      <th>director_name</th>\n",
       "      <th>main_genre</th>\n",
       "      <th>support_ratio</th>\n",
       "      <th>total_support</th>\n",
       "      <th>earnings</th>\n",
       "    </tr>\n",
       "  </thead>\n",
       "  <tbody>\n",
       "    <tr>\n",
       "      <th>5653</th>\n",
       "      <td>Движение вверх</td>\n",
       "      <td>111011817</td>\n",
       "      <td>2017-12-21 12:00:00</td>\n",
       "      <td>Художественный</td>\n",
       "      <td>ООО \"Студия \"ТРИТЭ\" Никиты Михалкова\"</td>\n",
       "      <td>Россия</td>\n",
       "      <td>А.Мегердичев</td>\n",
       "      <td>Л.Верещагин, А.Златопольский, Н.Михалков, ООО ...</td>\n",
       "      <td>6+</td>\n",
       "      <td>0.00</td>\n",
       "      <td>400,000,000.00</td>\n",
       "      <td>590.19</td>\n",
       "      <td>Фонд кино</td>\n",
       "      <td>7.50</td>\n",
       "      <td>спорт,драма</td>\n",
       "      <td>True</td>\n",
       "      <td>2,779.69</td>\n",
       "      <td>2017</td>\n",
       "      <td>А.Мегердичев</td>\n",
       "      <td>спорт</td>\n",
       "      <td>67.77</td>\n",
       "      <td>400.00</td>\n",
       "      <td>2,189.50</td>\n",
       "    </tr>\n",
       "    <tr>\n",
       "      <th>5505</th>\n",
       "      <td>Последний богатырь</td>\n",
       "      <td>111007017</td>\n",
       "      <td>2017-10-19 12:00:00</td>\n",
       "      <td>Художественный</td>\n",
       "      <td>ООО \"Киностудия \"Слово\" по заказу ООО \"Уолт Ди...</td>\n",
       "      <td>Россия</td>\n",
       "      <td>Д.Дьяченко</td>\n",
       "      <td>Э.Илоян, Д.Жалинский, М.Озкан, А.Троцюк, В.Шляппо</td>\n",
       "      <td>12+</td>\n",
       "      <td>50,000,000.00</td>\n",
       "      <td>50,000,000.00</td>\n",
       "      <td>352.48</td>\n",
       "      <td>Фонд кино</td>\n",
       "      <td>6.80</td>\n",
       "      <td>комедия,фэнтези,приключения</td>\n",
       "      <td>True</td>\n",
       "      <td>1,655.04</td>\n",
       "      <td>2017</td>\n",
       "      <td>Д.Дьяченко</td>\n",
       "      <td>комедия</td>\n",
       "      <td>28.37</td>\n",
       "      <td>100.00</td>\n",
       "      <td>1,302.56</td>\n",
       "    </tr>\n",
       "    <tr>\n",
       "      <th>5641</th>\n",
       "      <td>Ёлки Новые</td>\n",
       "      <td>111011617</td>\n",
       "      <td>2017-12-21 12:00:00</td>\n",
       "      <td>Художественный</td>\n",
       "      <td>ООО \"ТаББаК\"</td>\n",
       "      <td>Россия</td>\n",
       "      <td>Д.Киселев, А.Першин (Ж.Крыжовников), А.Карпило...</td>\n",
       "      <td>Т.Бекмамбетов, Г.Стрижевская</td>\n",
       "      <td>6+</td>\n",
       "      <td>50,000,000.00</td>\n",
       "      <td>50,000,000.00</td>\n",
       "      <td>174.38</td>\n",
       "      <td>Фонд кино</td>\n",
       "      <td>5.80</td>\n",
       "      <td>комедия,мелодрама</td>\n",
       "      <td>True</td>\n",
       "      <td>855.45</td>\n",
       "      <td>2017</td>\n",
       "      <td>Д.Киселев</td>\n",
       "      <td>комедия</td>\n",
       "      <td>57.35</td>\n",
       "      <td>100.00</td>\n",
       "      <td>681.07</td>\n",
       "    </tr>\n",
       "    <tr>\n",
       "      <th>5502</th>\n",
       "      <td>Салют-7</td>\n",
       "      <td>111006917</td>\n",
       "      <td>2017-10-01 12:00:00</td>\n",
       "      <td>Художественный</td>\n",
       "      <td>ООО \"Лемон Филмз Студио\"</td>\n",
       "      <td>Россия</td>\n",
       "      <td>К.Шипенко</td>\n",
       "      <td>С.Сельянов, Б.Бакурадзе, А.Златопольский</td>\n",
       "      <td>12+</td>\n",
       "      <td>0.00</td>\n",
       "      <td>225,000,000.00</td>\n",
       "      <td>493.73</td>\n",
       "      <td>Фонд кино</td>\n",
       "      <td>7.40</td>\n",
       "      <td>драма,приключения,триллер</td>\n",
       "      <td>True</td>\n",
       "      <td>752.68</td>\n",
       "      <td>2017</td>\n",
       "      <td>К.Шипенко</td>\n",
       "      <td>драма</td>\n",
       "      <td>45.57</td>\n",
       "      <td>225.00</td>\n",
       "      <td>258.95</td>\n",
       "    </tr>\n",
       "    <tr>\n",
       "      <th>5516</th>\n",
       "      <td>Фиксики. Большой секрет</td>\n",
       "      <td>114002517</td>\n",
       "      <td>2017-10-28 12:00:00</td>\n",
       "      <td>Анимационный</td>\n",
       "      <td>ЗАО \"Аэроплан\"</td>\n",
       "      <td>Россия</td>\n",
       "      <td>А.Колпин, И.Пшонкин, В.Бедошвили</td>\n",
       "      <td>Г.Васильев</td>\n",
       "      <td>6+</td>\n",
       "      <td>20,000,000.00</td>\n",
       "      <td>50,000,000.00</td>\n",
       "      <td>219.40</td>\n",
       "      <td>Фонд кино</td>\n",
       "      <td>6.90</td>\n",
       "      <td>мультфильм,приключения,комедия</td>\n",
       "      <td>True</td>\n",
       "      <td>416.35</td>\n",
       "      <td>2017</td>\n",
       "      <td>А.Колпин</td>\n",
       "      <td>мультфильм</td>\n",
       "      <td>31.91</td>\n",
       "      <td>70.00</td>\n",
       "      <td>196.95</td>\n",
       "    </tr>\n",
       "  </tbody>\n",
       "</table>\n",
       "</div>"
      ],
      "text/plain": [
       "                        title  pu_number     show_start_date            type  \\\n",
       "5653           Движение вверх  111011817 2017-12-21 12:00:00  Художественный   \n",
       "5505       Последний богатырь  111007017 2017-10-19 12:00:00  Художественный   \n",
       "5641               Ёлки Новые  111011617 2017-12-21 12:00:00  Художественный   \n",
       "5502                  Салют-7  111006917 2017-10-01 12:00:00  Художественный   \n",
       "5516  Фиксики. Большой секрет  114002517 2017-10-28 12:00:00    Анимационный   \n",
       "\n",
       "                                            film_studio production_country  \\\n",
       "5653              ООО \"Студия \"ТРИТЭ\" Никиты Михалкова\"             Россия   \n",
       "5505  ООО \"Киностудия \"Слово\" по заказу ООО \"Уолт Ди...             Россия   \n",
       "5641                                       ООО \"ТаББаК\"             Россия   \n",
       "5502                           ООО \"Лемон Филмз Студио\"             Россия   \n",
       "5516                                     ЗАО \"Аэроплан\"             Россия   \n",
       "\n",
       "                                               director  \\\n",
       "5653                                       А.Мегердичев   \n",
       "5505                                         Д.Дьяченко   \n",
       "5641  Д.Киселев, А.Першин (Ж.Крыжовников), А.Карпило...   \n",
       "5502                                          К.Шипенко   \n",
       "5516                   А.Колпин, И.Пшонкин, В.Бедошвили   \n",
       "\n",
       "                                               producer age_restriction  \\\n",
       "5653  Л.Верещагин, А.Златопольский, Н.Михалков, ООО ...              6+   \n",
       "5505  Э.Илоян, Д.Жалинский, М.Озкан, А.Троцюк, В.Шляппо             12+   \n",
       "5641                       Т.Бекмамбетов, Г.Стрижевская              6+   \n",
       "5502           С.Сельянов, Б.Бакурадзе, А.Златопольский             12+   \n",
       "5516                                         Г.Васильев              6+   \n",
       "\n",
       "      refundable_support  nonrefundable_support  budget financing_source  \\\n",
       "5653                0.00         400,000,000.00  590.19        Фонд кино   \n",
       "5505       50,000,000.00          50,000,000.00  352.48        Фонд кино   \n",
       "5641       50,000,000.00          50,000,000.00  174.38        Фонд кино   \n",
       "5502                0.00         225,000,000.00  493.73        Фонд кино   \n",
       "5516       20,000,000.00          50,000,000.00  219.40        Фонд кино   \n",
       "\n",
       "      ratings                          genres  pu_number_except  box_office  \\\n",
       "5653     7.50                     спорт,драма              True    2,779.69   \n",
       "5505     6.80     комедия,фэнтези,приключения              True    1,655.04   \n",
       "5641     5.80               комедия,мелодрама              True      855.45   \n",
       "5502     7.40       драма,приключения,триллер              True      752.68   \n",
       "5516     6.90  мультфильм,приключения,комедия              True      416.35   \n",
       "\n",
       "      start_year director_name  main_genre  support_ratio  total_support  \\\n",
       "5653        2017  А.Мегердичев       спорт          67.77         400.00   \n",
       "5505        2017    Д.Дьяченко     комедия          28.37         100.00   \n",
       "5641        2017     Д.Киселев     комедия          57.35         100.00   \n",
       "5502        2017     К.Шипенко       драма          45.57         225.00   \n",
       "5516        2017      А.Колпин  мультфильм          31.91          70.00   \n",
       "\n",
       "      earnings  \n",
       "5653  2,189.50  \n",
       "5505  1,302.56  \n",
       "5641    681.07  \n",
       "5502    258.95  \n",
       "5516    196.95  "
      ]
     },
     "execution_count": 109,
     "metadata": {},
     "output_type": "execute_result"
    }
   ],
   "source": [
    "gov_support.sort_values(by='earnings', ascending=False).query('start_year == 2017').head()"
   ]
  },
  {
   "cell_type": "code",
   "execution_count": 110,
   "id": "6377e18d",
   "metadata": {
    "scrolled": true
   },
   "outputs": [
    {
     "data": {
      "text/html": [
       "<div>\n",
       "<style scoped>\n",
       "    .dataframe tbody tr th:only-of-type {\n",
       "        vertical-align: middle;\n",
       "    }\n",
       "\n",
       "    .dataframe tbody tr th {\n",
       "        vertical-align: top;\n",
       "    }\n",
       "\n",
       "    .dataframe thead th {\n",
       "        text-align: right;\n",
       "    }\n",
       "</style>\n",
       "<table border=\"1\" class=\"dataframe\">\n",
       "  <thead>\n",
       "    <tr style=\"text-align: right;\">\n",
       "      <th></th>\n",
       "      <th>title</th>\n",
       "      <th>pu_number</th>\n",
       "      <th>show_start_date</th>\n",
       "      <th>type</th>\n",
       "      <th>film_studio</th>\n",
       "      <th>production_country</th>\n",
       "      <th>director</th>\n",
       "      <th>producer</th>\n",
       "      <th>age_restriction</th>\n",
       "      <th>refundable_support</th>\n",
       "      <th>nonrefundable_support</th>\n",
       "      <th>budget</th>\n",
       "      <th>financing_source</th>\n",
       "      <th>ratings</th>\n",
       "      <th>genres</th>\n",
       "      <th>pu_number_except</th>\n",
       "      <th>box_office</th>\n",
       "      <th>start_year</th>\n",
       "      <th>director_name</th>\n",
       "      <th>main_genre</th>\n",
       "      <th>support_ratio</th>\n",
       "      <th>total_support</th>\n",
       "      <th>earnings</th>\n",
       "    </tr>\n",
       "  </thead>\n",
       "  <tbody>\n",
       "    <tr>\n",
       "      <th>6549</th>\n",
       "      <td>Т-34</td>\n",
       "      <td>111024918</td>\n",
       "      <td>2018-12-21 12:00:00</td>\n",
       "      <td>Художественный</td>\n",
       "      <td>ООО \"Кинокомпания МАРС-фильм\" по заказу ООО \"М...</td>\n",
       "      <td>Россия</td>\n",
       "      <td>А.Сидоров</td>\n",
       "      <td>А.Златопольский, Р.Дишдишян, Л.Блаватник, Н.Яр...</td>\n",
       "      <td>12+</td>\n",
       "      <td>60,000,000.00</td>\n",
       "      <td>120,000,000.00</td>\n",
       "      <td>563.78</td>\n",
       "      <td>Фонд кино</td>\n",
       "      <td>6.50</td>\n",
       "      <td>драма,военный,боевик</td>\n",
       "      <td>True</td>\n",
       "      <td>2,271.75</td>\n",
       "      <td>2018</td>\n",
       "      <td>А.Сидоров</td>\n",
       "      <td>драма</td>\n",
       "      <td>31.93</td>\n",
       "      <td>180.00</td>\n",
       "      <td>1,707.97</td>\n",
       "    </tr>\n",
       "    <tr>\n",
       "      <th>5708</th>\n",
       "      <td>Лёд</td>\n",
       "      <td>111000518</td>\n",
       "      <td>2018-02-01 12:00:00</td>\n",
       "      <td>Художественный</td>\n",
       "      <td>ООО \"Водород 2011\", ООО \"Арт Пикчерс Студия\", ...</td>\n",
       "      <td>Россия</td>\n",
       "      <td>О.Трофим</td>\n",
       "      <td>М.Врубель, А.Андрющенко, Ф.Бондарчук, Д.Рудовс...</td>\n",
       "      <td>12+</td>\n",
       "      <td>25,000,000.00</td>\n",
       "      <td>60,000,000.00</td>\n",
       "      <td>148.59</td>\n",
       "      <td>Фонд кино</td>\n",
       "      <td>NaN</td>\n",
       "      <td>unknown</td>\n",
       "      <td>True</td>\n",
       "      <td>1,445.73</td>\n",
       "      <td>2018</td>\n",
       "      <td>О.Трофим</td>\n",
       "      <td>unknown</td>\n",
       "      <td>57.21</td>\n",
       "      <td>85.00</td>\n",
       "      <td>1,297.14</td>\n",
       "    </tr>\n",
       "    <tr>\n",
       "      <th>5749</th>\n",
       "      <td>Я худею</td>\n",
       "      <td>111001618</td>\n",
       "      <td>2018-03-07 12:00:00</td>\n",
       "      <td>Художественный</td>\n",
       "      <td>ООО \"Друг Друга\", ООО \"Ди Пи Джи\"</td>\n",
       "      <td>Россия</td>\n",
       "      <td>А.Черномазов (псевдоним Алексей Нужный)</td>\n",
       "      <td>С.Корнихин, Н.Куликов, А.Черномазов, А.Кремер,...</td>\n",
       "      <td>16+</td>\n",
       "      <td>0.00</td>\n",
       "      <td>30,000,000.00</td>\n",
       "      <td>87.65</td>\n",
       "      <td>Министерство культуры</td>\n",
       "      <td>6.90</td>\n",
       "      <td>комедия</td>\n",
       "      <td>True</td>\n",
       "      <td>633.46</td>\n",
       "      <td>2018</td>\n",
       "      <td>А.Черномазов (псевдоним Алексей Нужный)</td>\n",
       "      <td>комедия</td>\n",
       "      <td>34.23</td>\n",
       "      <td>30.00</td>\n",
       "      <td>545.81</td>\n",
       "    </tr>\n",
       "    <tr>\n",
       "      <th>6509</th>\n",
       "      <td>Ёлки Последние</td>\n",
       "      <td>111023918</td>\n",
       "      <td>2018-12-10 12:00:00</td>\n",
       "      <td>Художественный</td>\n",
       "      <td>ООО \"ТаББаК\"</td>\n",
       "      <td>Россия</td>\n",
       "      <td>Т.Бекмамбетов, А.Першин (псевдоним Ж.Крыжовник...</td>\n",
       "      <td>Т.Бекмамбетов, Г.Стрижевская</td>\n",
       "      <td>6+</td>\n",
       "      <td>75,000,000.00</td>\n",
       "      <td>25,000,000.00</td>\n",
       "      <td>179.71</td>\n",
       "      <td>Фонд кино</td>\n",
       "      <td>6.90</td>\n",
       "      <td>комедия</td>\n",
       "      <td>True</td>\n",
       "      <td>701.51</td>\n",
       "      <td>2018</td>\n",
       "      <td>Т.Бекмамбетов</td>\n",
       "      <td>комедия</td>\n",
       "      <td>55.65</td>\n",
       "      <td>100.00</td>\n",
       "      <td>521.80</td>\n",
       "    </tr>\n",
       "    <tr>\n",
       "      <th>5826</th>\n",
       "      <td>Тренер</td>\n",
       "      <td>111003218</td>\n",
       "      <td>2018-04-19 12:00:00</td>\n",
       "      <td>Художественный</td>\n",
       "      <td>ООО \"ДК интертеймент\", ООО \"Киностудия \"Слово\"...</td>\n",
       "      <td>Россия</td>\n",
       "      <td>Д.Козловский</td>\n",
       "      <td>Д.Козловский, П.Ануров, Л.Верещагин, А.Златопо...</td>\n",
       "      <td>12+</td>\n",
       "      <td>0.00</td>\n",
       "      <td>260,000,000.00</td>\n",
       "      <td>390.19</td>\n",
       "      <td>Фонд кино</td>\n",
       "      <td>6.80</td>\n",
       "      <td>драма,спорт</td>\n",
       "      <td>True</td>\n",
       "      <td>820.53</td>\n",
       "      <td>2018</td>\n",
       "      <td>Д.Козловский</td>\n",
       "      <td>драма</td>\n",
       "      <td>66.63</td>\n",
       "      <td>260.00</td>\n",
       "      <td>430.34</td>\n",
       "    </tr>\n",
       "  </tbody>\n",
       "</table>\n",
       "</div>"
      ],
      "text/plain": [
       "               title  pu_number     show_start_date            type  \\\n",
       "6549            Т-34  111024918 2018-12-21 12:00:00  Художественный   \n",
       "5708             Лёд  111000518 2018-02-01 12:00:00  Художественный   \n",
       "5749         Я худею  111001618 2018-03-07 12:00:00  Художественный   \n",
       "6509  Ёлки Последние  111023918 2018-12-10 12:00:00  Художественный   \n",
       "5826          Тренер  111003218 2018-04-19 12:00:00  Художественный   \n",
       "\n",
       "                                            film_studio production_country  \\\n",
       "6549  ООО \"Кинокомпания МАРС-фильм\" по заказу ООО \"М...             Россия   \n",
       "5708  ООО \"Водород 2011\", ООО \"Арт Пикчерс Студия\", ...             Россия   \n",
       "5749                  ООО \"Друг Друга\", ООО \"Ди Пи Джи\"             Россия   \n",
       "6509                                       ООО \"ТаББаК\"             Россия   \n",
       "5826  ООО \"ДК интертеймент\", ООО \"Киностудия \"Слово\"...             Россия   \n",
       "\n",
       "                                               director  \\\n",
       "6549                                          А.Сидоров   \n",
       "5708                                           О.Трофим   \n",
       "5749            А.Черномазов (псевдоним Алексей Нужный)   \n",
       "6509  Т.Бекмамбетов, А.Першин (псевдоним Ж.Крыжовник...   \n",
       "5826                                       Д.Козловский   \n",
       "\n",
       "                                               producer age_restriction  \\\n",
       "6549  А.Златопольский, Р.Дишдишян, Л.Блаватник, Н.Яр...             12+   \n",
       "5708  М.Врубель, А.Андрющенко, Ф.Бондарчук, Д.Рудовс...             12+   \n",
       "5749  С.Корнихин, Н.Куликов, А.Черномазов, А.Кремер,...             16+   \n",
       "6509                       Т.Бекмамбетов, Г.Стрижевская              6+   \n",
       "5826  Д.Козловский, П.Ануров, Л.Верещагин, А.Златопо...             12+   \n",
       "\n",
       "      refundable_support  nonrefundable_support  budget  \\\n",
       "6549       60,000,000.00         120,000,000.00  563.78   \n",
       "5708       25,000,000.00          60,000,000.00  148.59   \n",
       "5749                0.00          30,000,000.00   87.65   \n",
       "6509       75,000,000.00          25,000,000.00  179.71   \n",
       "5826                0.00         260,000,000.00  390.19   \n",
       "\n",
       "           financing_source  ratings                genres  pu_number_except  \\\n",
       "6549              Фонд кино     6.50  драма,военный,боевик              True   \n",
       "5708              Фонд кино      NaN               unknown              True   \n",
       "5749  Министерство культуры     6.90               комедия              True   \n",
       "6509              Фонд кино     6.90               комедия              True   \n",
       "5826              Фонд кино     6.80           драма,спорт              True   \n",
       "\n",
       "      box_office  start_year                            director_name  \\\n",
       "6549    2,271.75        2018                                А.Сидоров   \n",
       "5708    1,445.73        2018                                 О.Трофим   \n",
       "5749      633.46        2018  А.Черномазов (псевдоним Алексей Нужный)   \n",
       "6509      701.51        2018                            Т.Бекмамбетов   \n",
       "5826      820.53        2018                             Д.Козловский   \n",
       "\n",
       "     main_genre  support_ratio  total_support  earnings  \n",
       "6549      драма          31.93         180.00  1,707.97  \n",
       "5708    unknown          57.21          85.00  1,297.14  \n",
       "5749    комедия          34.23          30.00    545.81  \n",
       "6509    комедия          55.65         100.00    521.80  \n",
       "5826      драма          66.63         260.00    430.34  "
      ]
     },
     "execution_count": 110,
     "metadata": {},
     "output_type": "execute_result"
    }
   ],
   "source": [
    "gov_support.sort_values(by='earnings', ascending=False).query('start_year == 2018').head()"
   ]
  },
  {
   "cell_type": "markdown",
   "id": "dffe3497",
   "metadata": {},
   "source": [
    "А теперь посмотрим, какие фильмы провалились в прокате в 2015 и 2019 годах:"
   ]
  },
  {
   "cell_type": "code",
   "execution_count": 111,
   "id": "5f6d2b94",
   "metadata": {},
   "outputs": [
    {
     "data": {
      "text/html": [
       "<div>\n",
       "<style scoped>\n",
       "    .dataframe tbody tr th:only-of-type {\n",
       "        vertical-align: middle;\n",
       "    }\n",
       "\n",
       "    .dataframe tbody tr th {\n",
       "        vertical-align: top;\n",
       "    }\n",
       "\n",
       "    .dataframe thead th {\n",
       "        text-align: right;\n",
       "    }\n",
       "</style>\n",
       "<table border=\"1\" class=\"dataframe\">\n",
       "  <thead>\n",
       "    <tr style=\"text-align: right;\">\n",
       "      <th></th>\n",
       "      <th>title</th>\n",
       "      <th>pu_number</th>\n",
       "      <th>show_start_date</th>\n",
       "      <th>type</th>\n",
       "      <th>film_studio</th>\n",
       "      <th>production_country</th>\n",
       "      <th>director</th>\n",
       "      <th>producer</th>\n",
       "      <th>age_restriction</th>\n",
       "      <th>refundable_support</th>\n",
       "      <th>nonrefundable_support</th>\n",
       "      <th>budget</th>\n",
       "      <th>financing_source</th>\n",
       "      <th>ratings</th>\n",
       "      <th>genres</th>\n",
       "      <th>pu_number_except</th>\n",
       "      <th>box_office</th>\n",
       "      <th>start_year</th>\n",
       "      <th>director_name</th>\n",
       "      <th>main_genre</th>\n",
       "      <th>support_ratio</th>\n",
       "      <th>total_support</th>\n",
       "      <th>earnings</th>\n",
       "    </tr>\n",
       "  </thead>\n",
       "  <tbody>\n",
       "    <tr>\n",
       "      <th>2142</th>\n",
       "      <td>Территория</td>\n",
       "      <td>111000515</td>\n",
       "      <td>2015-01-27 12:00:00</td>\n",
       "      <td>Художественный</td>\n",
       "      <td>ООО \"Творческое объединение \"Кинокомпания \"Анд...</td>\n",
       "      <td>Россия</td>\n",
       "      <td>А.Мельник</td>\n",
       "      <td>А.Мельник</td>\n",
       "      <td>12+</td>\n",
       "      <td>30,000,000.00</td>\n",
       "      <td>30,000,000.00</td>\n",
       "      <td>500.00</td>\n",
       "      <td>Фонд кино</td>\n",
       "      <td>6.80</td>\n",
       "      <td>детектив,фэнтези,триллер</td>\n",
       "      <td>True</td>\n",
       "      <td>72.58</td>\n",
       "      <td>2015</td>\n",
       "      <td>А.Мельник</td>\n",
       "      <td>детектив</td>\n",
       "      <td>12.00</td>\n",
       "      <td>60.00</td>\n",
       "      <td>-427.42</td>\n",
       "    </tr>\n",
       "    <tr>\n",
       "      <th>2699</th>\n",
       "      <td>Он - Дракон</td>\n",
       "      <td>111017915</td>\n",
       "      <td>2015-10-14 12:00:00</td>\n",
       "      <td>Художественный</td>\n",
       "      <td>ООО \"ТаББаК\"</td>\n",
       "      <td>Россия</td>\n",
       "      <td>И.Джендубаев</td>\n",
       "      <td>Т.Бекмамбетов</td>\n",
       "      <td>6+</td>\n",
       "      <td>0.00</td>\n",
       "      <td>250,000,000.00</td>\n",
       "      <td>360.00</td>\n",
       "      <td>Фонд кино</td>\n",
       "      <td>6.80</td>\n",
       "      <td>фэнтези</td>\n",
       "      <td>True</td>\n",
       "      <td>110.17</td>\n",
       "      <td>2015</td>\n",
       "      <td>И.Джендубаев</td>\n",
       "      <td>фэнтези</td>\n",
       "      <td>69.44</td>\n",
       "      <td>250.00</td>\n",
       "      <td>-249.83</td>\n",
       "    </tr>\n",
       "    <tr>\n",
       "      <th>3142</th>\n",
       "      <td>Тайна Снежной королевы</td>\n",
       "      <td>111021615</td>\n",
       "      <td>2015-12-25 12:00:00</td>\n",
       "      <td>Художественный</td>\n",
       "      <td>ООО \"Продюсерский центр \"ЗОЛОТОЙ ВЕК\"</td>\n",
       "      <td>Россия</td>\n",
       "      <td>Н.Бондарчук</td>\n",
       "      <td>С.Кабанова</td>\n",
       "      <td>6+</td>\n",
       "      <td>20,000,000.00</td>\n",
       "      <td>5,300,000.00</td>\n",
       "      <td>215.86</td>\n",
       "      <td>Министерство культуры, Фонд кино</td>\n",
       "      <td>7.20</td>\n",
       "      <td>мюзикл,фэнтези,семейный</td>\n",
       "      <td>True</td>\n",
       "      <td>1.43</td>\n",
       "      <td>2015</td>\n",
       "      <td>Н.Бондарчук</td>\n",
       "      <td>мюзикл</td>\n",
       "      <td>11.72</td>\n",
       "      <td>25.30</td>\n",
       "      <td>-214.43</td>\n",
       "    </tr>\n",
       "    <tr>\n",
       "      <th>2784</th>\n",
       "      <td>Пингвин нашего времени</td>\n",
       "      <td>111010515</td>\n",
       "      <td>2015-06-11 12:00:00</td>\n",
       "      <td>Художественный</td>\n",
       "      <td>ЗАО \"Студия \"Ф.А.Ф.\", ИКС-Фильме Креатив Пул Г...</td>\n",
       "      <td>Россия, Германия</td>\n",
       "      <td>Штефан Кромер</td>\n",
       "      <td>Алексей Гуськов, Штефан Арндт, Андреа Шютте</td>\n",
       "      <td>16+</td>\n",
       "      <td>0.00</td>\n",
       "      <td>28,000,000.00</td>\n",
       "      <td>164.78</td>\n",
       "      <td>Фонд кино</td>\n",
       "      <td>4.30</td>\n",
       "      <td>комедия,триллер</td>\n",
       "      <td>True</td>\n",
       "      <td>0.74</td>\n",
       "      <td>2015</td>\n",
       "      <td>Штефан Кромер</td>\n",
       "      <td>комедия</td>\n",
       "      <td>16.99</td>\n",
       "      <td>28.00</td>\n",
       "      <td>-164.04</td>\n",
       "    </tr>\n",
       "    <tr>\n",
       "      <th>2482</th>\n",
       "      <td>Однажды._</td>\n",
       "      <td>111004215</td>\n",
       "      <td>2015-04-15 12:00:00</td>\n",
       "      <td>Художественный</td>\n",
       "      <td>ООО \"Компания \"РЕАЛ-ДАКОТА\", НП \"Интерфест\"</td>\n",
       "      <td>Россия</td>\n",
       "      <td>Р.Давлетьяров</td>\n",
       "      <td>Р.Давлетьяров, А.Котелевский</td>\n",
       "      <td>16+</td>\n",
       "      <td>0.00</td>\n",
       "      <td>97,000,000.00</td>\n",
       "      <td>156.36</td>\n",
       "      <td>Фонд кино</td>\n",
       "      <td>7.90</td>\n",
       "      <td>драма,криминал,детектив</td>\n",
       "      <td>True</td>\n",
       "      <td>12.75</td>\n",
       "      <td>2015</td>\n",
       "      <td>Р.Давлетьяров</td>\n",
       "      <td>драма</td>\n",
       "      <td>62.04</td>\n",
       "      <td>97.00</td>\n",
       "      <td>-143.61</td>\n",
       "    </tr>\n",
       "  </tbody>\n",
       "</table>\n",
       "</div>"
      ],
      "text/plain": [
       "                       title  pu_number     show_start_date            type  \\\n",
       "2142              Территория  111000515 2015-01-27 12:00:00  Художественный   \n",
       "2699             Он - Дракон  111017915 2015-10-14 12:00:00  Художественный   \n",
       "3142  Тайна Снежной королевы  111021615 2015-12-25 12:00:00  Художественный   \n",
       "2784  Пингвин нашего времени  111010515 2015-06-11 12:00:00  Художественный   \n",
       "2482               Однажды._  111004215 2015-04-15 12:00:00  Художественный   \n",
       "\n",
       "                                            film_studio production_country  \\\n",
       "2142  ООО \"Творческое объединение \"Кинокомпания \"Анд...             Россия   \n",
       "2699                                       ООО \"ТаББаК\"             Россия   \n",
       "3142              ООО \"Продюсерский центр \"ЗОЛОТОЙ ВЕК\"             Россия   \n",
       "2784  ЗАО \"Студия \"Ф.А.Ф.\", ИКС-Фильме Креатив Пул Г...   Россия, Германия   \n",
       "2482        ООО \"Компания \"РЕАЛ-ДАКОТА\", НП \"Интерфест\"             Россия   \n",
       "\n",
       "           director                                     producer  \\\n",
       "2142      А.Мельник                                    А.Мельник   \n",
       "2699   И.Джендубаев                                Т.Бекмамбетов   \n",
       "3142    Н.Бондарчук                                   С.Кабанова   \n",
       "2784  Штефан Кромер  Алексей Гуськов, Штефан Арндт, Андреа Шютте   \n",
       "2482  Р.Давлетьяров                 Р.Давлетьяров, А.Котелевский   \n",
       "\n",
       "     age_restriction  refundable_support  nonrefundable_support  budget  \\\n",
       "2142             12+       30,000,000.00          30,000,000.00  500.00   \n",
       "2699              6+                0.00         250,000,000.00  360.00   \n",
       "3142              6+       20,000,000.00           5,300,000.00  215.86   \n",
       "2784             16+                0.00          28,000,000.00  164.78   \n",
       "2482             16+                0.00          97,000,000.00  156.36   \n",
       "\n",
       "                      financing_source  ratings                    genres  \\\n",
       "2142                         Фонд кино     6.80  детектив,фэнтези,триллер   \n",
       "2699                         Фонд кино     6.80                   фэнтези   \n",
       "3142  Министерство культуры, Фонд кино     7.20   мюзикл,фэнтези,семейный   \n",
       "2784                         Фонд кино     4.30           комедия,триллер   \n",
       "2482                         Фонд кино     7.90   драма,криминал,детектив   \n",
       "\n",
       "      pu_number_except  box_office  start_year  director_name main_genre  \\\n",
       "2142              True       72.58        2015      А.Мельник   детектив   \n",
       "2699              True      110.17        2015   И.Джендубаев    фэнтези   \n",
       "3142              True        1.43        2015    Н.Бондарчук     мюзикл   \n",
       "2784              True        0.74        2015  Штефан Кромер    комедия   \n",
       "2482              True       12.75        2015  Р.Давлетьяров      драма   \n",
       "\n",
       "      support_ratio  total_support  earnings  \n",
       "2142          12.00          60.00   -427.42  \n",
       "2699          69.44         250.00   -249.83  \n",
       "3142          11.72          25.30   -214.43  \n",
       "2784          16.99          28.00   -164.04  \n",
       "2482          62.04          97.00   -143.61  "
      ]
     },
     "execution_count": 111,
     "metadata": {},
     "output_type": "execute_result"
    }
   ],
   "source": [
    "gov_support.sort_values(by='earnings', ascending=True).query('start_year == 2015').head()"
   ]
  },
  {
   "cell_type": "code",
   "execution_count": 112,
   "id": "adf06e43",
   "metadata": {
    "scrolled": true
   },
   "outputs": [
    {
     "data": {
      "text/html": [
       "<div>\n",
       "<style scoped>\n",
       "    .dataframe tbody tr th:only-of-type {\n",
       "        vertical-align: middle;\n",
       "    }\n",
       "\n",
       "    .dataframe tbody tr th {\n",
       "        vertical-align: top;\n",
       "    }\n",
       "\n",
       "    .dataframe thead th {\n",
       "        text-align: right;\n",
       "    }\n",
       "</style>\n",
       "<table border=\"1\" class=\"dataframe\">\n",
       "  <thead>\n",
       "    <tr style=\"text-align: right;\">\n",
       "      <th></th>\n",
       "      <th>title</th>\n",
       "      <th>pu_number</th>\n",
       "      <th>show_start_date</th>\n",
       "      <th>type</th>\n",
       "      <th>film_studio</th>\n",
       "      <th>production_country</th>\n",
       "      <th>director</th>\n",
       "      <th>producer</th>\n",
       "      <th>age_restriction</th>\n",
       "      <th>refundable_support</th>\n",
       "      <th>nonrefundable_support</th>\n",
       "      <th>budget</th>\n",
       "      <th>financing_source</th>\n",
       "      <th>ratings</th>\n",
       "      <th>genres</th>\n",
       "      <th>pu_number_except</th>\n",
       "      <th>box_office</th>\n",
       "      <th>start_year</th>\n",
       "      <th>director_name</th>\n",
       "      <th>main_genre</th>\n",
       "      <th>support_ratio</th>\n",
       "      <th>total_support</th>\n",
       "      <th>earnings</th>\n",
       "    </tr>\n",
       "  </thead>\n",
       "  <tbody>\n",
       "    <tr>\n",
       "      <th>7114</th>\n",
       "      <td>Тайна Печати Дракона</td>\n",
       "      <td>111012819</td>\n",
       "      <td>2019-09-12 12:00:00</td>\n",
       "      <td>Художественный</td>\n",
       "      <td>ООО \"Кинокомпания \"СТВ\"; ООО \"РФГ Корп\"; ООО \"...</td>\n",
       "      <td>Россия,Китай</td>\n",
       "      <td>О.Степченко</td>\n",
       "      <td>С.Сельянов, А.Петрухин</td>\n",
       "      <td>6+</td>\n",
       "      <td>180,000,000.00</td>\n",
       "      <td>90,000,000.00</td>\n",
       "      <td>2,305.07</td>\n",
       "      <td>Фонд кино</td>\n",
       "      <td>5.80</td>\n",
       "      <td>приключения,фэнтези</td>\n",
       "      <td>True</td>\n",
       "      <td>333.60</td>\n",
       "      <td>2019</td>\n",
       "      <td>О.Степченко</td>\n",
       "      <td>приключения</td>\n",
       "      <td>11.71</td>\n",
       "      <td>270.00</td>\n",
       "      <td>-1,971.47</td>\n",
       "    </tr>\n",
       "    <tr>\n",
       "      <th>7171</th>\n",
       "      <td>Грех</td>\n",
       "      <td>111014419</td>\n",
       "      <td>2019-08-31 12:00:00</td>\n",
       "      <td>Художественный</td>\n",
       "      <td>НО Фонд Андрея Кончаловского по поддержке кино...</td>\n",
       "      <td>Россия, Италия</td>\n",
       "      <td>А.Михалков (псевдоним А.Кончаловский)</td>\n",
       "      <td>НО Фонд Андрея Кончаловского по поддержке кино...</td>\n",
       "      <td>16+</td>\n",
       "      <td>0.00</td>\n",
       "      <td>60,000,000.00</td>\n",
       "      <td>779.94</td>\n",
       "      <td>Министерство культуры</td>\n",
       "      <td>6.90</td>\n",
       "      <td>драма,биография,история</td>\n",
       "      <td>True</td>\n",
       "      <td>54.24</td>\n",
       "      <td>2019</td>\n",
       "      <td>А.Михалков (псевдоним А.Кончаловский)</td>\n",
       "      <td>драма</td>\n",
       "      <td>7.69</td>\n",
       "      <td>60.00</td>\n",
       "      <td>-725.70</td>\n",
       "    </tr>\n",
       "    <tr>\n",
       "      <th>6887</th>\n",
       "      <td>Девятая</td>\n",
       "      <td>111007019</td>\n",
       "      <td>2019-09-19 12:00:00</td>\n",
       "      <td>Художественный</td>\n",
       "      <td>ООО \"Нон-Стоп Продакшн\"</td>\n",
       "      <td>Россия</td>\n",
       "      <td>Н.Хомерики</td>\n",
       "      <td>С.Мелькумов, А.Роднянский</td>\n",
       "      <td>16+</td>\n",
       "      <td>0.00</td>\n",
       "      <td>300,000,000.00</td>\n",
       "      <td>453.70</td>\n",
       "      <td>Фонд кино</td>\n",
       "      <td>5.80</td>\n",
       "      <td>детектив,триллер,криминал</td>\n",
       "      <td>True</td>\n",
       "      <td>55.88</td>\n",
       "      <td>2019</td>\n",
       "      <td>Н.Хомерики</td>\n",
       "      <td>детектив</td>\n",
       "      <td>66.12</td>\n",
       "      <td>300.00</td>\n",
       "      <td>-397.82</td>\n",
       "    </tr>\n",
       "    <tr>\n",
       "      <th>6699</th>\n",
       "      <td>Тобол</td>\n",
       "      <td>111002419</td>\n",
       "      <td>2019-02-16 12:00:00</td>\n",
       "      <td>Художественный</td>\n",
       "      <td>ООО Кинокомпания \"Соливс\" по заказу АО \"ВБД Груп\"</td>\n",
       "      <td>Россия</td>\n",
       "      <td>И.Зайцев, О.Урушев</td>\n",
       "      <td>Э.Илоян, В.Шляппо, Д.Жалинский, А.Троцюк, О.Ур...</td>\n",
       "      <td>16+</td>\n",
       "      <td>0.00</td>\n",
       "      <td>130,000,000.00</td>\n",
       "      <td>499.83</td>\n",
       "      <td>Фонд кино</td>\n",
       "      <td>5.80</td>\n",
       "      <td>история,драма</td>\n",
       "      <td>True</td>\n",
       "      <td>138.16</td>\n",
       "      <td>2019</td>\n",
       "      <td>И.Зайцев</td>\n",
       "      <td>история</td>\n",
       "      <td>26.01</td>\n",
       "      <td>130.00</td>\n",
       "      <td>-361.67</td>\n",
       "    </tr>\n",
       "    <tr>\n",
       "      <th>7464</th>\n",
       "      <td>Союз спасения</td>\n",
       "      <td>111022019</td>\n",
       "      <td>2019-12-26 12:00:00</td>\n",
       "      <td>Художественный</td>\n",
       "      <td>ЗАО \"Дирекция кино\"</td>\n",
       "      <td>Россия</td>\n",
       "      <td>А.Кравчук</td>\n",
       "      <td>А.Максимов, К.Эрнст</td>\n",
       "      <td>12+</td>\n",
       "      <td>100,000,000.00</td>\n",
       "      <td>400,000,000.00</td>\n",
       "      <td>980.00</td>\n",
       "      <td>Фонд кино</td>\n",
       "      <td>6.00</td>\n",
       "      <td>история,биография,драма</td>\n",
       "      <td>True</td>\n",
       "      <td>717.70</td>\n",
       "      <td>2019</td>\n",
       "      <td>А.Кравчук</td>\n",
       "      <td>история</td>\n",
       "      <td>51.02</td>\n",
       "      <td>500.00</td>\n",
       "      <td>-262.30</td>\n",
       "    </tr>\n",
       "  </tbody>\n",
       "</table>\n",
       "</div>"
      ],
      "text/plain": [
       "                     title  pu_number     show_start_date            type  \\\n",
       "7114  Тайна Печати Дракона  111012819 2019-09-12 12:00:00  Художественный   \n",
       "7171                  Грех  111014419 2019-08-31 12:00:00  Художественный   \n",
       "6887               Девятая  111007019 2019-09-19 12:00:00  Художественный   \n",
       "6699                 Тобол  111002419 2019-02-16 12:00:00  Художественный   \n",
       "7464         Союз спасения  111022019 2019-12-26 12:00:00  Художественный   \n",
       "\n",
       "                                            film_studio production_country  \\\n",
       "7114  ООО \"Кинокомпания \"СТВ\"; ООО \"РФГ Корп\"; ООО \"...       Россия,Китай   \n",
       "7171  НО Фонд Андрея Кончаловского по поддержке кино...     Россия, Италия   \n",
       "6887                            ООО \"Нон-Стоп Продакшн\"             Россия   \n",
       "6699  ООО Кинокомпания \"Соливс\" по заказу АО \"ВБД Груп\"             Россия   \n",
       "7464                                ЗАО \"Дирекция кино\"             Россия   \n",
       "\n",
       "                                   director  \\\n",
       "7114                            О.Степченко   \n",
       "7171  А.Михалков (псевдоним А.Кончаловский)   \n",
       "6887                             Н.Хомерики   \n",
       "6699                     И.Зайцев, О.Урушев   \n",
       "7464                              А.Кравчук   \n",
       "\n",
       "                                               producer age_restriction  \\\n",
       "7114                             С.Сельянов, А.Петрухин              6+   \n",
       "7171  НО Фонд Андрея Кончаловского по поддержке кино...             16+   \n",
       "6887                          С.Мелькумов, А.Роднянский             16+   \n",
       "6699  Э.Илоян, В.Шляппо, Д.Жалинский, А.Троцюк, О.Ур...             16+   \n",
       "7464                                А.Максимов, К.Эрнст             12+   \n",
       "\n",
       "      refundable_support  nonrefundable_support   budget  \\\n",
       "7114      180,000,000.00          90,000,000.00 2,305.07   \n",
       "7171                0.00          60,000,000.00   779.94   \n",
       "6887                0.00         300,000,000.00   453.70   \n",
       "6699                0.00         130,000,000.00   499.83   \n",
       "7464      100,000,000.00         400,000,000.00   980.00   \n",
       "\n",
       "           financing_source  ratings                     genres  \\\n",
       "7114              Фонд кино     5.80        приключения,фэнтези   \n",
       "7171  Министерство культуры     6.90    драма,биография,история   \n",
       "6887              Фонд кино     5.80  детектив,триллер,криминал   \n",
       "6699              Фонд кино     5.80              история,драма   \n",
       "7464              Фонд кино     6.00    история,биография,драма   \n",
       "\n",
       "      pu_number_except  box_office  start_year  \\\n",
       "7114              True      333.60        2019   \n",
       "7171              True       54.24        2019   \n",
       "6887              True       55.88        2019   \n",
       "6699              True      138.16        2019   \n",
       "7464              True      717.70        2019   \n",
       "\n",
       "                              director_name   main_genre  support_ratio  \\\n",
       "7114                            О.Степченко  приключения          11.71   \n",
       "7171  А.Михалков (псевдоним А.Кончаловский)        драма           7.69   \n",
       "6887                             Н.Хомерики     детектив          66.12   \n",
       "6699                               И.Зайцев      история          26.01   \n",
       "7464                              А.Кравчук      история          51.02   \n",
       "\n",
       "      total_support  earnings  \n",
       "7114         270.00 -1,971.47  \n",
       "7171          60.00   -725.70  \n",
       "6887         300.00   -397.82  \n",
       "6699         130.00   -361.67  \n",
       "7464         500.00   -262.30  "
      ]
     },
     "execution_count": 112,
     "metadata": {},
     "output_type": "execute_result"
    }
   ],
   "source": [
    "gov_support.sort_values(by='earnings', ascending=True).query('start_year == 2019').head()"
   ]
  },
  {
   "cell_type": "markdown",
   "id": "4e95a1c8",
   "metadata": {},
   "source": [
    "Если свериться с \"Википедией\", то топ-5 за 2017 и 2018 годы соответствуют действительности, за исключением фильма \"Т-34\", он собрал 2,27 млрд., но его премьера состоялась 1 января 2019 года. Скорее всего, произошла ошибка при вводе данных по этому фильму."
   ]
  },
  {
   "cell_type": "markdown",
   "id": "b554ceef",
   "metadata": {},
   "source": [
    "Выведем описание рейтинга у фильмов с господдержкой:"
   ]
  },
  {
   "cell_type": "code",
   "execution_count": 113,
   "id": "9ef37132",
   "metadata": {},
   "outputs": [
    {
     "data": {
      "text/plain": [
       "count   292.00\n",
       "mean      6.05\n",
       "std       1.16\n",
       "min       1.00\n",
       "25%       5.40\n",
       "50%       6.20\n",
       "75%       6.72\n",
       "max       9.40\n",
       "Name: ratings, dtype: float64"
      ]
     },
     "execution_count": 113,
     "metadata": {},
     "output_type": "execute_result"
    }
   ],
   "source": [
    "gov_support['ratings'].describe()"
   ]
  },
  {
   "cell_type": "code",
   "execution_count": 115,
   "id": "989efb15",
   "metadata": {},
   "outputs": [
    {
     "data": {
      "image/png": "[encoded data removed]",
      "text/plain": [
       "<Figure size 720x360 with 1 Axes>"
      ]
     },
     "metadata": {
      "needs_background": "light"
     },
     "output_type": "display_data"
    }
   ],
   "source": [
    "gov_support['ratings'].plot(kind='hist', figsize=(10, 5), grid=True, title='Распределение рейтинга фильмов с гос. поддержкой');\n",
    "plt.xlabel('Рейтинг');\n",
    "plt.ylabel('Количество фильмов');\n",
    "plt.show()"
   ]
  },
  {
   "cell_type": "markdown",
   "id": "5e4be885",
   "metadata": {},
   "source": [
    "Выведем описание рейтинга для фильмов без господдержки:"
   ]
  },
  {
   "cell_type": "code",
   "execution_count": 116,
   "id": "972c90bd",
   "metadata": {
    "scrolled": true
   },
   "outputs": [
    {
     "data": {
      "text/plain": [
       "count   995.00\n",
       "mean      6.18\n",
       "std       1.44\n",
       "min       1.10\n",
       "25%       5.40\n",
       "50%       6.40\n",
       "75%       7.20\n",
       "max       9.90\n",
       "Name: ratings, dtype: float64"
      ]
     },
     "execution_count": 116,
     "metadata": {},
     "output_type": "execute_result"
    }
   ],
   "source": [
    "without_gov_support = data.query('financing_source.isnull() == True and production_country == \"Россия\"')\n",
    "without_gov_support['ratings'].describe()"
   ]
  },
  {
   "cell_type": "code",
   "execution_count": 119,
   "id": "ac6efdd3",
   "metadata": {},
   "outputs": [
    {
     "data": {
      "image/png": "[encoded data removed]",
      "text/plain": [
       "<Figure size 720x360 with 1 Axes>"
      ]
     },
     "metadata": {
      "needs_background": "light"
     },
     "output_type": "display_data"
    }
   ],
   "source": [
    "without_gov_support['ratings'].plot(kind='hist', figsize=(10, 5), grid=True, title='Распределение рейтинга фильмов без гос. поддержки');\n",
    "plt.xlabel('Рейтинг');\n",
    "plt.ylabel('Количество фильмов');\n",
    "plt.show()"
   ]
  },
  {
   "cell_type": "markdown",
   "id": "0a790e32",
   "metadata": {},
   "source": [
    "В среднем рейтинг у фильмов без господдержки выше, чем с ней."
   ]
  },
  {
   "cell_type": "markdown",
   "id": "195c5e66",
   "metadata": {},
   "source": [
    "Посмотрим, какие категории фильмов финансируются государством:"
   ]
  },
  {
   "cell_type": "code",
   "execution_count": 120,
   "id": "9fbf3246",
   "metadata": {},
   "outputs": [
    {
     "data": {
      "text/plain": [
       "Художественный    285\n",
       "Анимационный       21\n",
       "Документальный      1\n",
       "Name: type, dtype: int64"
      ]
     },
     "execution_count": 120,
     "metadata": {},
     "output_type": "execute_result"
    }
   ],
   "source": [
    "gov_support['type'].value_counts()"
   ]
  },
  {
   "cell_type": "markdown",
   "id": "cf22ca9c",
   "metadata": {},
   "source": [
    "И без господдержки:"
   ]
  },
  {
   "cell_type": "code",
   "execution_count": 121,
   "id": "870b210e",
   "metadata": {},
   "outputs": [
    {
     "data": {
      "text/plain": [
       "Художественный       1008\n",
       "Анимационный          238\n",
       "Документальный        213\n",
       "Научно-популярный      45\n",
       "Прочие                  1\n",
       "Name: type, dtype: int64"
      ]
     },
     "execution_count": 121,
     "metadata": {},
     "output_type": "execute_result"
    }
   ],
   "source": [
    "without_gov_support['type'].value_counts()"
   ]
  },
  {
   "cell_type": "markdown",
   "id": "2bca3c2e",
   "metadata": {},
   "source": [
    "Правительство не спонсирует научно-популярные фильмы. Если только в эту категорию не попали те, что отнесены в \"прочие\"."
   ]
  },
  {
   "cell_type": "markdown",
   "id": "d8a2f893",
   "metadata": {},
   "source": [
    "Выводы по разделу:\n",
    "\n",
    "- всего фильмов с господдержкой в датасете 332 шт., основные бенефициары - 'Министерство культуры' и 'Фонд кино';\n",
    "\n",
    "- в среднем фильмы финансируются государством на 52%;\n",
    "\n",
    "- больше всего фильмов получили господдержку в 2015 и 2019 годах, в 2013 и 2014 - минимум (но возможно, это связано с отсутствием статистики);\n",
    "\n",
    "- объём гос. финансирования имеет максимальные значения в 2019 и 2016 годах году, минимум - также, в 2013 и 2014;\n",
    "\n",
    "- прибыль с кассовых сборов получена в 2017 и 2018 годах, в остальных - зафиксирован убыток. Самым выгодным оказался фильм \"Движение вверх\" (2.2 млрд. руб.), а убыточным - \"Тайна печати дракона\" (-1.9 млрд. руб.);\n",
    "\n",
    "- рейтинг фильмов без господдержки в среднем выше, чем с ней;\n",
    "\n",
    "- научно-популярные фильмы не получают господдержку."
   ]
  },
  {
   "cell_type": "markdown",
   "id": "d61204d5",
   "metadata": {},
   "source": [
    "## Итоговый вывод"
   ]
  },
  {
   "cell_type": "markdown",
   "id": "f0a69339",
   "metadata": {},
   "source": [
    "В результате проведённого исследовательского анализа базы данных по изучению рынка российского кинопроката в период с 2010 по 2019 год было выполнено:\n",
    "\n",
    "- изучена информация из двух датафреймов, данные сведены в общий датафрейм;\n",
    "\n",
    "- сделана предобработка данных, заменены ошибочные данные в столбце `ratings`, сами данные приведены к вещественному типу. Обнаруженные пропуски в нечисловых столбцах заменены значением unknown. Проведена проверка данных на наличие дубликатов, удалены неявные. Добавлены новые столбцы `start_year`, `director_name`, `main_genre` и `support_ratio`;\n",
    "\n",
    "\n",
    "- проведён исследовательский анализ данных, в результате которого выведены следующие гипотезы:\n",
    "- общее количество фильмов, выходивших в прокат, не сильно меняется по годам: в среднем от 600 до 800 шт. Количество фильмов, выходивших в прокат в кинотеатрах, стабильно росло начиная с 2010 года (105 шт.) до 2016 года (523 шт.), затем последовал небольшой спад, и снова рост. В 2017 году наблюдается наибольшее процентное соотношение (70.5%) между фильмами, показанными в кинотеатрах и общим количеством фильмов. В целом, в исследуемый период наблюдается рост общего количества фильмов в прокате, фильмов в кинотеатрах и, соответсвенно, их процентного соотношения;\n",
    "- минимальное значение кассовых сборов составляет 7.4 млрд. руб. в 2014 году, максимальное - 47.7 млрд. руб. в 2019 году;\n",
    "- возрастное ограничение непосредственно влияет на сборы фильмов в прокате. Самая прибыльная категория фильмов в исследуемом диапазоне - 16+ (~75 млрд. руб.), далее идут 12+, 6+, и 18+. Замыкает рейтинг категория 0+ (809 млн. руб). Это может говорить о том, что на фильмы категории 0+ почти не ходят, предпочитая смотреть их дома. Под фильмы категории 16+ почти наверняка подпадает большинство экранизаций комиксов - отсюда максимум по кассовым сборам;\n",
    "\n",
    "\n",
    "- детальный разбор фильмов с гос. поддержкой показывает следующие предположения:\n",
    "- основными бенефициарами являются Министерство Культуры и 'Фонд кино';\n",
    "- в среднем фильмы финансируются государством на 52%;\n",
    "- больше всего фильмов получили господдержку в 2015 и 2019 годах, в 2013 и 2014 - минимум (вероятно, это связано с отсутствием статистики);\n",
    "- объём гос. финансирования имеет максимальные значения в 2019 и 2016 годах году, минимум - в 2013 и 2014;\n",
    "- прибыль с кассовых сборов получена в 2017 и 2018 годах, в остальных - зафиксированы убытки. Самым выгодным из спонсируемых стал фильм \"Движение вверх\" (2.2 млрд. руб.), а убыточным - \"Тайна печати дракона\" (-1.97 млрд. руб.);\n",
    "- рейтинг фильмов без господдержки в среднем выше, чем с ней (средняя оценка 6.18 против 6.05);\n",
    "- научно-популярные фильмы не получают господдержку."
   ]
  }
 ],
 "metadata": {
  "ExecuteTimeLog": [
   {
    "duration": 531,
    "start_time": "2024-05-06T19:23:15.322Z"
   },
   {
    "duration": 321,
    "start_time": "2024-05-06T19:23:15.854Z"
   },
   {
    "duration": 3,
    "start_time": "2024-05-06T19:23:16.176Z"
   },
   {
    "duration": 43,
    "start_time": "2024-05-06T19:23:16.180Z"
   },
   {
    "duration": 13,
    "start_time": "2024-05-06T19:23:16.225Z"
   },
   {
    "duration": 68,
    "start_time": "2024-05-06T19:23:16.239Z"
   },
   {
    "duration": 0,
    "start_time": "2024-05-06T19:23:16.311Z"
   },
   {
    "duration": 0,
    "start_time": "2024-05-06T19:23:16.311Z"
   },
   {
    "duration": 0,
    "start_time": "2024-05-06T19:23:16.312Z"
   },
   {
    "duration": 0,
    "start_time": "2024-05-06T19:23:16.313Z"
   },
   {
    "duration": 0,
    "start_time": "2024-05-06T19:23:16.313Z"
   },
   {
    "duration": 0,
    "start_time": "2024-05-06T19:23:16.314Z"
   },
   {
    "duration": 0,
    "start_time": "2024-05-06T19:23:16.314Z"
   },
   {
    "duration": 0,
    "start_time": "2024-05-06T19:23:16.315Z"
   },
   {
    "duration": 0,
    "start_time": "2024-05-06T19:23:16.316Z"
   },
   {
    "duration": 0,
    "start_time": "2024-05-06T19:23:16.316Z"
   },
   {
    "duration": 0,
    "start_time": "2024-05-06T19:23:16.317Z"
   },
   {
    "duration": 0,
    "start_time": "2024-05-06T19:23:16.318Z"
   },
   {
    "duration": 0,
    "start_time": "2024-05-06T19:23:16.318Z"
   },
   {
    "duration": 0,
    "start_time": "2024-05-06T19:23:16.319Z"
   },
   {
    "duration": 0,
    "start_time": "2024-05-06T19:23:16.320Z"
   },
   {
    "duration": 0,
    "start_time": "2024-05-06T19:23:16.320Z"
   },
   {
    "duration": 0,
    "start_time": "2024-05-06T19:23:16.321Z"
   },
   {
    "duration": 0,
    "start_time": "2024-05-06T19:23:16.322Z"
   },
   {
    "duration": 0,
    "start_time": "2024-05-06T19:23:16.322Z"
   },
   {
    "duration": 0,
    "start_time": "2024-05-06T19:23:16.323Z"
   },
   {
    "duration": 0,
    "start_time": "2024-05-06T19:23:16.324Z"
   },
   {
    "duration": 0,
    "start_time": "2024-05-06T19:23:16.325Z"
   },
   {
    "duration": 0,
    "start_time": "2024-05-06T19:23:16.325Z"
   },
   {
    "duration": 0,
    "start_time": "2024-05-06T19:23:16.326Z"
   },
   {
    "duration": 0,
    "start_time": "2024-05-06T19:23:16.327Z"
   },
   {
    "duration": 0,
    "start_time": "2024-05-06T19:23:16.327Z"
   },
   {
    "duration": 0,
    "start_time": "2024-05-06T19:23:16.328Z"
   },
   {
    "duration": 0,
    "start_time": "2024-05-06T19:23:16.329Z"
   },
   {
    "duration": 0,
    "start_time": "2024-05-06T19:23:16.329Z"
   },
   {
    "duration": 0,
    "start_time": "2024-05-06T19:23:16.330Z"
   },
   {
    "duration": 0,
    "start_time": "2024-05-06T19:23:16.331Z"
   },
   {
    "duration": 0,
    "start_time": "2024-05-06T19:23:16.332Z"
   },
   {
    "duration": 0,
    "start_time": "2024-05-06T19:23:16.333Z"
   },
   {
    "duration": 0,
    "start_time": "2024-05-06T19:23:16.333Z"
   },
   {
    "duration": 0,
    "start_time": "2024-05-06T19:23:16.334Z"
   },
   {
    "duration": 0,
    "start_time": "2024-05-06T19:23:16.335Z"
   },
   {
    "duration": 0,
    "start_time": "2024-05-06T19:23:16.336Z"
   },
   {
    "duration": 0,
    "start_time": "2024-05-06T19:23:16.337Z"
   },
   {
    "duration": 0,
    "start_time": "2024-05-06T19:23:16.338Z"
   },
   {
    "duration": 0,
    "start_time": "2024-05-06T19:23:16.338Z"
   },
   {
    "duration": 0,
    "start_time": "2024-05-06T19:23:16.339Z"
   },
   {
    "duration": 0,
    "start_time": "2024-05-06T19:23:16.340Z"
   },
   {
    "duration": 0,
    "start_time": "2024-05-06T19:23:16.340Z"
   },
   {
    "duration": 0,
    "start_time": "2024-05-06T19:23:16.384Z"
   },
   {
    "duration": 0,
    "start_time": "2024-05-06T19:23:16.386Z"
   },
   {
    "duration": 0,
    "start_time": "2024-05-06T19:23:16.386Z"
   },
   {
    "duration": 0,
    "start_time": "2024-05-06T19:23:16.387Z"
   },
   {
    "duration": 0,
    "start_time": "2024-05-06T19:23:16.388Z"
   },
   {
    "duration": 0,
    "start_time": "2024-05-06T19:23:16.389Z"
   },
   {
    "duration": 0,
    "start_time": "2024-05-06T19:23:16.390Z"
   },
   {
    "duration": 0,
    "start_time": "2024-05-06T19:23:16.390Z"
   },
   {
    "duration": 0,
    "start_time": "2024-05-06T19:23:16.391Z"
   },
   {
    "duration": 0,
    "start_time": "2024-05-06T19:23:16.392Z"
   },
   {
    "duration": 0,
    "start_time": "2024-05-06T19:23:16.393Z"
   },
   {
    "duration": 0,
    "start_time": "2024-05-06T19:23:16.394Z"
   },
   {
    "duration": 0,
    "start_time": "2024-05-06T19:23:16.394Z"
   },
   {
    "duration": 0,
    "start_time": "2024-05-06T19:23:16.395Z"
   },
   {
    "duration": 0,
    "start_time": "2024-05-06T19:23:16.396Z"
   },
   {
    "duration": 0,
    "start_time": "2024-05-06T19:23:16.397Z"
   },
   {
    "duration": 0,
    "start_time": "2024-05-06T19:23:16.398Z"
   },
   {
    "duration": 0,
    "start_time": "2024-05-06T19:23:16.398Z"
   },
   {
    "duration": 0,
    "start_time": "2024-05-06T19:23:16.399Z"
   },
   {
    "duration": 0,
    "start_time": "2024-05-06T19:23:16.400Z"
   },
   {
    "duration": 0,
    "start_time": "2024-05-06T19:23:16.401Z"
   },
   {
    "duration": 0,
    "start_time": "2024-05-06T19:23:16.402Z"
   },
   {
    "duration": 0,
    "start_time": "2024-05-06T19:23:16.402Z"
   },
   {
    "duration": 0,
    "start_time": "2024-05-06T19:23:16.403Z"
   },
   {
    "duration": 0,
    "start_time": "2024-05-06T19:23:16.404Z"
   },
   {
    "duration": 0,
    "start_time": "2024-05-06T19:23:16.405Z"
   },
   {
    "duration": 0,
    "start_time": "2024-05-06T19:23:16.406Z"
   },
   {
    "duration": 0,
    "start_time": "2024-05-06T19:23:16.406Z"
   },
   {
    "duration": 0,
    "start_time": "2024-05-06T19:23:16.407Z"
   },
   {
    "duration": 0,
    "start_time": "2024-05-06T19:23:16.408Z"
   },
   {
    "duration": 0,
    "start_time": "2024-05-06T19:23:16.409Z"
   },
   {
    "duration": 0,
    "start_time": "2024-05-06T19:23:16.410Z"
   },
   {
    "duration": 0,
    "start_time": "2024-05-06T19:23:16.410Z"
   },
   {
    "duration": 0,
    "start_time": "2024-05-06T19:23:16.411Z"
   },
   {
    "duration": 0,
    "start_time": "2024-05-06T19:23:16.412Z"
   },
   {
    "duration": 0,
    "start_time": "2024-05-06T19:23:16.413Z"
   },
   {
    "duration": 0,
    "start_time": "2024-05-06T19:23:16.414Z"
   },
   {
    "duration": 0,
    "start_time": "2024-05-06T19:23:16.415Z"
   },
   {
    "duration": 0,
    "start_time": "2024-05-06T19:23:16.416Z"
   },
   {
    "duration": 0,
    "start_time": "2024-05-06T19:23:16.416Z"
   },
   {
    "duration": 0,
    "start_time": "2024-05-06T19:23:16.417Z"
   },
   {
    "duration": 0,
    "start_time": "2024-05-06T19:23:16.418Z"
   },
   {
    "duration": 0,
    "start_time": "2024-05-06T19:23:16.419Z"
   },
   {
    "duration": 52,
    "start_time": "2024-05-06T20:01:53.199Z"
   },
   {
    "duration": 844,
    "start_time": "2024-05-06T20:01:59.771Z"
   },
   {
    "duration": 255,
    "start_time": "2024-05-06T20:02:01.041Z"
   },
   {
    "duration": 3,
    "start_time": "2024-05-06T20:02:04.537Z"
   },
   {
    "duration": 24,
    "start_time": "2024-05-06T20:02:05.876Z"
   },
   {
    "duration": 8,
    "start_time": "2024-05-06T20:02:14.772Z"
   },
   {
    "duration": 632,
    "start_time": "2024-05-06T20:04:31.031Z"
   },
   {
    "duration": 151,
    "start_time": "2024-05-06T20:04:31.665Z"
   },
   {
    "duration": 3,
    "start_time": "2024-05-06T20:04:31.817Z"
   },
   {
    "duration": 45,
    "start_time": "2024-05-06T20:04:31.822Z"
   },
   {
    "duration": 10,
    "start_time": "2024-05-06T20:04:31.868Z"
   },
   {
    "duration": 123,
    "start_time": "2024-05-06T20:04:31.879Z"
   },
   {
    "duration": 0,
    "start_time": "2024-05-06T20:04:32.008Z"
   },
   {
    "duration": 0,
    "start_time": "2024-05-06T20:04:32.009Z"
   },
   {
    "duration": 0,
    "start_time": "2024-05-06T20:04:32.011Z"
   },
   {
    "duration": 0,
    "start_time": "2024-05-06T20:04:32.012Z"
   },
   {
    "duration": 0,
    "start_time": "2024-05-06T20:04:32.014Z"
   },
   {
    "duration": 0,
    "start_time": "2024-05-06T20:04:32.015Z"
   },
   {
    "duration": 0,
    "start_time": "2024-05-06T20:04:32.017Z"
   },
   {
    "duration": 0,
    "start_time": "2024-05-06T20:04:32.018Z"
   },
   {
    "duration": 0,
    "start_time": "2024-05-06T20:04:32.020Z"
   },
   {
    "duration": 0,
    "start_time": "2024-05-06T20:04:32.022Z"
   },
   {
    "duration": 0,
    "start_time": "2024-05-06T20:04:32.023Z"
   },
   {
    "duration": 0,
    "start_time": "2024-05-06T20:04:32.025Z"
   },
   {
    "duration": 0,
    "start_time": "2024-05-06T20:04:32.026Z"
   },
   {
    "duration": 0,
    "start_time": "2024-05-06T20:04:32.028Z"
   },
   {
    "duration": 0,
    "start_time": "2024-05-06T20:04:32.029Z"
   },
   {
    "duration": 0,
    "start_time": "2024-05-06T20:04:32.031Z"
   },
   {
    "duration": 0,
    "start_time": "2024-05-06T20:04:32.032Z"
   },
   {
    "duration": 0,
    "start_time": "2024-05-06T20:04:32.034Z"
   },
   {
    "duration": 0,
    "start_time": "2024-05-06T20:04:32.035Z"
   },
   {
    "duration": 0,
    "start_time": "2024-05-06T20:04:32.037Z"
   },
   {
    "duration": 0,
    "start_time": "2024-05-06T20:04:32.038Z"
   },
   {
    "duration": 0,
    "start_time": "2024-05-06T20:04:32.039Z"
   },
   {
    "duration": 0,
    "start_time": "2024-05-06T20:04:32.040Z"
   },
   {
    "duration": 0,
    "start_time": "2024-05-06T20:04:32.083Z"
   },
   {
    "duration": 0,
    "start_time": "2024-05-06T20:04:32.085Z"
   },
   {
    "duration": 0,
    "start_time": "2024-05-06T20:04:32.086Z"
   },
   {
    "duration": 0,
    "start_time": "2024-05-06T20:04:32.088Z"
   },
   {
    "duration": 0,
    "start_time": "2024-05-06T20:04:32.089Z"
   },
   {
    "duration": 0,
    "start_time": "2024-05-06T20:04:32.090Z"
   },
   {
    "duration": 0,
    "start_time": "2024-05-06T20:04:32.092Z"
   },
   {
    "duration": 0,
    "start_time": "2024-05-06T20:04:32.093Z"
   },
   {
    "duration": 0,
    "start_time": "2024-05-06T20:04:32.095Z"
   },
   {
    "duration": 0,
    "start_time": "2024-05-06T20:04:32.096Z"
   },
   {
    "duration": 0,
    "start_time": "2024-05-06T20:04:32.098Z"
   },
   {
    "duration": 0,
    "start_time": "2024-05-06T20:04:32.099Z"
   },
   {
    "duration": 0,
    "start_time": "2024-05-06T20:04:32.101Z"
   },
   {
    "duration": 0,
    "start_time": "2024-05-06T20:04:32.102Z"
   },
   {
    "duration": 0,
    "start_time": "2024-05-06T20:04:32.104Z"
   },
   {
    "duration": 0,
    "start_time": "2024-05-06T20:04:32.105Z"
   },
   {
    "duration": 0,
    "start_time": "2024-05-06T20:04:32.106Z"
   },
   {
    "duration": 0,
    "start_time": "2024-05-06T20:04:32.107Z"
   },
   {
    "duration": 0,
    "start_time": "2024-05-06T20:04:32.108Z"
   },
   {
    "duration": 0,
    "start_time": "2024-05-06T20:04:32.109Z"
   },
   {
    "duration": 0,
    "start_time": "2024-05-06T20:04:32.110Z"
   },
   {
    "duration": 0,
    "start_time": "2024-05-06T20:04:32.111Z"
   },
   {
    "duration": 0,
    "start_time": "2024-05-06T20:04:32.112Z"
   },
   {
    "duration": 0,
    "start_time": "2024-05-06T20:04:32.113Z"
   },
   {
    "duration": 0,
    "start_time": "2024-05-06T20:04:32.114Z"
   },
   {
    "duration": 0,
    "start_time": "2024-05-06T20:04:32.115Z"
   },
   {
    "duration": 0,
    "start_time": "2024-05-06T20:04:32.116Z"
   },
   {
    "duration": 0,
    "start_time": "2024-05-06T20:04:32.117Z"
   },
   {
    "duration": 0,
    "start_time": "2024-05-06T20:04:32.118Z"
   },
   {
    "duration": 0,
    "start_time": "2024-05-06T20:04:32.119Z"
   },
   {
    "duration": 0,
    "start_time": "2024-05-06T20:04:32.182Z"
   },
   {
    "duration": 0,
    "start_time": "2024-05-06T20:04:32.183Z"
   },
   {
    "duration": 0,
    "start_time": "2024-05-06T20:04:32.184Z"
   },
   {
    "duration": 0,
    "start_time": "2024-05-06T20:04:32.185Z"
   },
   {
    "duration": 0,
    "start_time": "2024-05-06T20:04:32.186Z"
   },
   {
    "duration": 0,
    "start_time": "2024-05-06T20:04:32.187Z"
   },
   {
    "duration": 0,
    "start_time": "2024-05-06T20:04:32.188Z"
   },
   {
    "duration": 0,
    "start_time": "2024-05-06T20:04:32.189Z"
   },
   {
    "duration": 0,
    "start_time": "2024-05-06T20:04:32.190Z"
   },
   {
    "duration": 1,
    "start_time": "2024-05-06T20:04:32.190Z"
   },
   {
    "duration": 0,
    "start_time": "2024-05-06T20:04:32.192Z"
   },
   {
    "duration": 0,
    "start_time": "2024-05-06T20:04:32.192Z"
   },
   {
    "duration": 0,
    "start_time": "2024-05-06T20:04:32.194Z"
   },
   {
    "duration": 0,
    "start_time": "2024-05-06T20:04:32.194Z"
   },
   {
    "duration": 0,
    "start_time": "2024-05-06T20:04:32.195Z"
   },
   {
    "duration": 0,
    "start_time": "2024-05-06T20:04:32.196Z"
   },
   {
    "duration": 0,
    "start_time": "2024-05-06T20:04:32.197Z"
   },
   {
    "duration": 0,
    "start_time": "2024-05-06T20:04:32.198Z"
   },
   {
    "duration": 0,
    "start_time": "2024-05-06T20:04:32.199Z"
   },
   {
    "duration": 0,
    "start_time": "2024-05-06T20:04:32.200Z"
   },
   {
    "duration": 0,
    "start_time": "2024-05-06T20:04:32.201Z"
   },
   {
    "duration": 0,
    "start_time": "2024-05-06T20:04:32.202Z"
   },
   {
    "duration": 0,
    "start_time": "2024-05-06T20:04:32.203Z"
   },
   {
    "duration": 0,
    "start_time": "2024-05-06T20:04:32.204Z"
   },
   {
    "duration": 0,
    "start_time": "2024-05-06T20:04:32.205Z"
   },
   {
    "duration": 0,
    "start_time": "2024-05-06T20:04:32.206Z"
   },
   {
    "duration": 0,
    "start_time": "2024-05-06T20:04:32.206Z"
   },
   {
    "duration": 0,
    "start_time": "2024-05-06T20:04:32.207Z"
   },
   {
    "duration": 0,
    "start_time": "2024-05-06T20:04:32.208Z"
   },
   {
    "duration": 0,
    "start_time": "2024-05-06T20:04:32.209Z"
   },
   {
    "duration": 0,
    "start_time": "2024-05-06T20:04:32.210Z"
   },
   {
    "duration": 0,
    "start_time": "2024-05-06T20:04:32.211Z"
   },
   {
    "duration": 0,
    "start_time": "2024-05-06T20:04:32.212Z"
   },
   {
    "duration": 2,
    "start_time": "2024-05-06T20:04:50.789Z"
   },
   {
    "duration": 15,
    "start_time": "2024-05-06T20:04:51.259Z"
   },
   {
    "duration": 598,
    "start_time": "2024-05-06T23:24:53.458Z"
   },
   {
    "duration": 143,
    "start_time": "2024-05-06T23:24:54.057Z"
   },
   {
    "duration": 2,
    "start_time": "2024-05-06T23:24:54.202Z"
   },
   {
    "duration": 22,
    "start_time": "2024-05-06T23:24:54.206Z"
   },
   {
    "duration": 6,
    "start_time": "2024-05-06T23:24:54.229Z"
   },
   {
    "duration": 100,
    "start_time": "2024-05-06T23:24:54.236Z"
   },
   {
    "duration": 0,
    "start_time": "2024-05-06T23:24:54.339Z"
   },
   {
    "duration": 0,
    "start_time": "2024-05-06T23:24:54.340Z"
   },
   {
    "duration": 0,
    "start_time": "2024-05-06T23:24:54.341Z"
   },
   {
    "duration": 0,
    "start_time": "2024-05-06T23:24:54.341Z"
   },
   {
    "duration": 0,
    "start_time": "2024-05-06T23:24:54.342Z"
   },
   {
    "duration": 0,
    "start_time": "2024-05-06T23:24:54.343Z"
   },
   {
    "duration": 0,
    "start_time": "2024-05-06T23:24:54.344Z"
   },
   {
    "duration": 0,
    "start_time": "2024-05-06T23:24:54.345Z"
   },
   {
    "duration": 0,
    "start_time": "2024-05-06T23:24:54.346Z"
   },
   {
    "duration": 0,
    "start_time": "2024-05-06T23:24:54.347Z"
   },
   {
    "duration": 0,
    "start_time": "2024-05-06T23:24:54.347Z"
   },
   {
    "duration": 0,
    "start_time": "2024-05-06T23:24:54.348Z"
   },
   {
    "duration": 0,
    "start_time": "2024-05-06T23:24:54.349Z"
   },
   {
    "duration": 0,
    "start_time": "2024-05-06T23:24:54.350Z"
   },
   {
    "duration": 0,
    "start_time": "2024-05-06T23:24:54.351Z"
   },
   {
    "duration": 0,
    "start_time": "2024-05-06T23:24:54.352Z"
   },
   {
    "duration": 0,
    "start_time": "2024-05-06T23:24:54.353Z"
   },
   {
    "duration": 0,
    "start_time": "2024-05-06T23:24:54.354Z"
   },
   {
    "duration": 0,
    "start_time": "2024-05-06T23:24:54.355Z"
   },
   {
    "duration": 0,
    "start_time": "2024-05-06T23:24:54.356Z"
   },
   {
    "duration": 0,
    "start_time": "2024-05-06T23:24:54.357Z"
   },
   {
    "duration": 0,
    "start_time": "2024-05-06T23:24:54.384Z"
   },
   {
    "duration": 0,
    "start_time": "2024-05-06T23:24:54.385Z"
   },
   {
    "duration": 0,
    "start_time": "2024-05-06T23:24:54.386Z"
   },
   {
    "duration": 0,
    "start_time": "2024-05-06T23:24:54.386Z"
   },
   {
    "duration": 0,
    "start_time": "2024-05-06T23:24:54.387Z"
   },
   {
    "duration": 0,
    "start_time": "2024-05-06T23:24:54.388Z"
   },
   {
    "duration": 0,
    "start_time": "2024-05-06T23:24:54.389Z"
   },
   {
    "duration": 0,
    "start_time": "2024-05-06T23:24:54.390Z"
   },
   {
    "duration": 0,
    "start_time": "2024-05-06T23:24:54.391Z"
   },
   {
    "duration": 0,
    "start_time": "2024-05-06T23:24:54.391Z"
   },
   {
    "duration": 0,
    "start_time": "2024-05-06T23:24:54.392Z"
   },
   {
    "duration": 0,
    "start_time": "2024-05-06T23:24:54.393Z"
   },
   {
    "duration": 0,
    "start_time": "2024-05-06T23:24:54.394Z"
   },
   {
    "duration": 0,
    "start_time": "2024-05-06T23:24:54.394Z"
   },
   {
    "duration": 0,
    "start_time": "2024-05-06T23:24:54.395Z"
   },
   {
    "duration": 0,
    "start_time": "2024-05-06T23:24:54.396Z"
   },
   {
    "duration": 0,
    "start_time": "2024-05-06T23:24:54.396Z"
   },
   {
    "duration": 0,
    "start_time": "2024-05-06T23:24:54.397Z"
   },
   {
    "duration": 0,
    "start_time": "2024-05-06T23:24:54.398Z"
   },
   {
    "duration": 0,
    "start_time": "2024-05-06T23:24:54.398Z"
   },
   {
    "duration": 0,
    "start_time": "2024-05-06T23:24:54.399Z"
   },
   {
    "duration": 0,
    "start_time": "2024-05-06T23:24:54.400Z"
   },
   {
    "duration": 0,
    "start_time": "2024-05-06T23:24:54.401Z"
   },
   {
    "duration": 0,
    "start_time": "2024-05-06T23:24:54.401Z"
   },
   {
    "duration": 0,
    "start_time": "2024-05-06T23:24:54.402Z"
   },
   {
    "duration": 0,
    "start_time": "2024-05-06T23:24:54.403Z"
   },
   {
    "duration": 0,
    "start_time": "2024-05-06T23:24:54.403Z"
   },
   {
    "duration": 0,
    "start_time": "2024-05-06T23:24:54.404Z"
   },
   {
    "duration": 0,
    "start_time": "2024-05-06T23:24:54.405Z"
   },
   {
    "duration": 0,
    "start_time": "2024-05-06T23:24:54.406Z"
   },
   {
    "duration": 0,
    "start_time": "2024-05-06T23:24:54.406Z"
   },
   {
    "duration": 0,
    "start_time": "2024-05-06T23:24:54.407Z"
   },
   {
    "duration": 0,
    "start_time": "2024-05-06T23:24:54.408Z"
   },
   {
    "duration": 0,
    "start_time": "2024-05-06T23:24:54.408Z"
   },
   {
    "duration": 0,
    "start_time": "2024-05-06T23:24:54.409Z"
   },
   {
    "duration": 0,
    "start_time": "2024-05-06T23:24:54.410Z"
   },
   {
    "duration": 0,
    "start_time": "2024-05-06T23:24:54.410Z"
   },
   {
    "duration": 0,
    "start_time": "2024-05-06T23:24:54.411Z"
   },
   {
    "duration": 0,
    "start_time": "2024-05-06T23:24:54.412Z"
   },
   {
    "duration": 1,
    "start_time": "2024-05-06T23:24:54.412Z"
   },
   {
    "duration": 0,
    "start_time": "2024-05-06T23:24:54.413Z"
   },
   {
    "duration": 0,
    "start_time": "2024-05-06T23:24:54.414Z"
   },
   {
    "duration": 0,
    "start_time": "2024-05-06T23:24:54.415Z"
   },
   {
    "duration": 0,
    "start_time": "2024-05-06T23:24:54.415Z"
   },
   {
    "duration": 0,
    "start_time": "2024-05-06T23:24:54.416Z"
   },
   {
    "duration": 0,
    "start_time": "2024-05-06T23:24:54.417Z"
   },
   {
    "duration": 0,
    "start_time": "2024-05-06T23:24:54.417Z"
   },
   {
    "duration": 0,
    "start_time": "2024-05-06T23:24:54.418Z"
   },
   {
    "duration": 0,
    "start_time": "2024-05-06T23:24:54.419Z"
   },
   {
    "duration": 0,
    "start_time": "2024-05-06T23:24:54.419Z"
   },
   {
    "duration": 0,
    "start_time": "2024-05-06T23:24:54.420Z"
   },
   {
    "duration": 0,
    "start_time": "2024-05-06T23:24:54.485Z"
   },
   {
    "duration": 0,
    "start_time": "2024-05-06T23:24:54.485Z"
   },
   {
    "duration": 0,
    "start_time": "2024-05-06T23:24:54.486Z"
   },
   {
    "duration": 0,
    "start_time": "2024-05-06T23:24:54.487Z"
   },
   {
    "duration": 0,
    "start_time": "2024-05-06T23:24:54.488Z"
   },
   {
    "duration": 0,
    "start_time": "2024-05-06T23:24:54.488Z"
   },
   {
    "duration": 0,
    "start_time": "2024-05-06T23:24:54.489Z"
   },
   {
    "duration": 0,
    "start_time": "2024-05-06T23:24:54.490Z"
   },
   {
    "duration": 0,
    "start_time": "2024-05-06T23:24:54.491Z"
   },
   {
    "duration": 0,
    "start_time": "2024-05-06T23:24:54.491Z"
   },
   {
    "duration": 0,
    "start_time": "2024-05-06T23:24:54.492Z"
   },
   {
    "duration": 0,
    "start_time": "2024-05-06T23:24:54.493Z"
   },
   {
    "duration": 0,
    "start_time": "2024-05-06T23:24:54.494Z"
   },
   {
    "duration": 0,
    "start_time": "2024-05-06T23:24:54.494Z"
   },
   {
    "duration": 47,
    "start_time": "2024-05-07T03:40:37.912Z"
   },
   {
    "duration": 769,
    "start_time": "2024-05-07T03:40:41.228Z"
   },
   {
    "duration": 3,
    "start_time": "2024-05-07T03:40:42.645Z"
   },
   {
    "duration": 414,
    "start_time": "2024-05-07T03:40:47.123Z"
   },
   {
    "duration": 3,
    "start_time": "2024-05-07T03:40:48.054Z"
   },
   {
    "duration": 18,
    "start_time": "2024-05-07T03:40:49.704Z"
   },
   {
    "duration": 6,
    "start_time": "2024-05-07T03:41:04.853Z"
   },
   {
    "duration": 2,
    "start_time": "2024-05-07T03:46:54.119Z"
   },
   {
    "duration": 18,
    "start_time": "2024-05-07T03:48:27.197Z"
   },
   {
    "duration": 11,
    "start_time": "2024-05-07T03:48:31.236Z"
   },
   {
    "duration": 6,
    "start_time": "2024-05-07T03:48:42.342Z"
   },
   {
    "duration": 25,
    "start_time": "2024-05-07T03:49:07.507Z"
   },
   {
    "duration": 5,
    "start_time": "2024-05-07T03:49:25.949Z"
   },
   {
    "duration": 5,
    "start_time": "2024-05-07T03:49:27.913Z"
   },
   {
    "duration": 14,
    "start_time": "2024-05-07T03:49:51.008Z"
   },
   {
    "duration": 14,
    "start_time": "2024-05-07T03:49:53.008Z"
   },
   {
    "duration": 3,
    "start_time": "2024-05-07T03:49:58.368Z"
   },
   {
    "duration": 7,
    "start_time": "2024-05-07T03:51:02.218Z"
   },
   {
    "duration": 3,
    "start_time": "2024-05-07T03:51:47.758Z"
   },
   {
    "duration": 16,
    "start_time": "2024-05-07T03:52:00.621Z"
   },
   {
    "duration": 10,
    "start_time": "2024-05-07T03:52:01.163Z"
   },
   {
    "duration": 4,
    "start_time": "2024-05-07T03:52:03.943Z"
   },
   {
    "duration": 16,
    "start_time": "2024-05-07T03:52:08.010Z"
   },
   {
    "duration": 4,
    "start_time": "2024-05-07T03:52:10.259Z"
   },
   {
    "duration": 4,
    "start_time": "2024-05-07T03:52:12.645Z"
   },
   {
    "duration": 11,
    "start_time": "2024-05-07T03:52:13.427Z"
   },
   {
    "duration": 14,
    "start_time": "2024-05-07T03:52:15.986Z"
   },
   {
    "duration": 6,
    "start_time": "2024-05-07T03:52:21.338Z"
   },
   {
    "duration": 15,
    "start_time": "2024-05-07T03:54:32.733Z"
   },
   {
    "duration": 14,
    "start_time": "2024-05-07T03:55:12.261Z"
   },
   {
    "duration": 5,
    "start_time": "2024-05-07T03:55:14.293Z"
   },
   {
    "duration": 8,
    "start_time": "2024-05-07T03:55:27.374Z"
   },
   {
    "duration": 10,
    "start_time": "2024-05-07T03:56:18.529Z"
   },
   {
    "duration": 5,
    "start_time": "2024-05-07T03:56:18.927Z"
   },
   {
    "duration": 4,
    "start_time": "2024-05-07T03:56:21.435Z"
   },
   {
    "duration": 17,
    "start_time": "2024-05-07T03:56:21.733Z"
   },
   {
    "duration": 10,
    "start_time": "2024-05-07T03:56:27.048Z"
   },
   {
    "duration": 8,
    "start_time": "2024-05-07T03:56:30.384Z"
   },
   {
    "duration": 10,
    "start_time": "2024-05-07T03:56:31.316Z"
   },
   {
    "duration": 24,
    "start_time": "2024-05-07T03:56:38.234Z"
   },
   {
    "duration": 6,
    "start_time": "2024-05-07T03:56:40.230Z"
   },
   {
    "duration": 18,
    "start_time": "2024-05-07T03:56:45.066Z"
   },
   {
    "duration": 7,
    "start_time": "2024-05-07T03:56:48.068Z"
   },
   {
    "duration": 7,
    "start_time": "2024-05-07T03:56:48.816Z"
   },
   {
    "duration": 6,
    "start_time": "2024-05-07T03:57:00.102Z"
   },
   {
    "duration": 6,
    "start_time": "2024-05-07T03:57:02.440Z"
   },
   {
    "duration": 11,
    "start_time": "2024-05-07T03:57:02.846Z"
   },
   {
    "duration": 11,
    "start_time": "2024-05-07T03:57:05.387Z"
   },
   {
    "duration": 8,
    "start_time": "2024-05-07T03:57:05.786Z"
   },
   {
    "duration": 7,
    "start_time": "2024-05-07T03:57:08.896Z"
   },
   {
    "duration": 21,
    "start_time": "2024-05-07T03:57:17.886Z"
   },
   {
    "duration": 5,
    "start_time": "2024-05-07T03:57:27.629Z"
   },
   {
    "duration": 8,
    "start_time": "2024-05-07T03:57:30.381Z"
   },
   {
    "duration": 29,
    "start_time": "2024-05-07T03:57:48.740Z"
   },
   {
    "duration": 4,
    "start_time": "2024-05-07T03:57:58.883Z"
   },
   {
    "duration": 13,
    "start_time": "2024-05-07T03:58:01.132Z"
   },
   {
    "duration": 13,
    "start_time": "2024-05-07T03:58:01.654Z"
   },
   {
    "duration": 14,
    "start_time": "2024-05-07T03:58:03.530Z"
   },
   {
    "duration": 8,
    "start_time": "2024-05-07T03:58:08.596Z"
   },
   {
    "duration": 21,
    "start_time": "2024-05-07T03:58:09.636Z"
   },
   {
    "duration": 13,
    "start_time": "2024-05-07T03:58:22.581Z"
   },
   {
    "duration": 6,
    "start_time": "2024-05-07T03:58:40.741Z"
   },
   {
    "duration": 4,
    "start_time": "2024-05-07T03:58:49.312Z"
   },
   {
    "duration": 4,
    "start_time": "2024-05-07T03:58:53.382Z"
   },
   {
    "duration": 3,
    "start_time": "2024-05-07T03:58:57.139Z"
   },
   {
    "duration": 8,
    "start_time": "2024-05-07T03:59:01.106Z"
   },
   {
    "duration": 271,
    "start_time": "2024-05-07T03:59:05.548Z"
   },
   {
    "duration": 9,
    "start_time": "2024-05-07T04:35:07.431Z"
   },
   {
    "duration": 4,
    "start_time": "2024-05-07T04:35:14.858Z"
   },
   {
    "duration": 5,
    "start_time": "2024-05-07T04:35:15.773Z"
   },
   {
    "duration": 167,
    "start_time": "2024-05-07T04:35:29.352Z"
   },
   {
    "duration": 4,
    "start_time": "2024-05-07T04:36:58.871Z"
   },
   {
    "duration": 23,
    "start_time": "2024-05-07T04:37:01.511Z"
   },
   {
    "duration": 264,
    "start_time": "2024-05-07T04:37:13.697Z"
   },
   {
    "duration": 8,
    "start_time": "2024-05-07T04:39:14.569Z"
   },
   {
    "duration": 21,
    "start_time": "2024-05-07T04:39:16.706Z"
   },
   {
    "duration": 9,
    "start_time": "2024-05-07T04:39:37.138Z"
   },
   {
    "duration": 5,
    "start_time": "2024-05-07T04:39:37.817Z"
   },
   {
    "duration": 181,
    "start_time": "2024-05-07T04:39:41.548Z"
   },
   {
    "duration": 4,
    "start_time": "2024-05-07T04:39:50.060Z"
   },
   {
    "duration": 182,
    "start_time": "2024-05-07T04:39:50.495Z"
   },
   {
    "duration": 168,
    "start_time": "2024-05-07T04:39:52.922Z"
   },
   {
    "duration": 156,
    "start_time": "2024-05-07T04:39:54.014Z"
   },
   {
    "duration": 175,
    "start_time": "2024-05-07T04:39:55.038Z"
   },
   {
    "duration": 153,
    "start_time": "2024-05-07T04:39:57.475Z"
   },
   {
    "duration": 5,
    "start_time": "2024-05-07T04:41:56.726Z"
   },
   {
    "duration": 4,
    "start_time": "2024-05-07T04:41:58.743Z"
   },
   {
    "duration": 30,
    "start_time": "2024-05-07T04:42:01.206Z"
   },
   {
    "duration": 206,
    "start_time": "2024-05-07T04:42:05.490Z"
   },
   {
    "duration": 8,
    "start_time": "2024-05-07T04:42:12.939Z"
   },
   {
    "duration": 4,
    "start_time": "2024-05-07T04:42:15.868Z"
   },
   {
    "duration": 11,
    "start_time": "2024-05-07T04:42:17.250Z"
   },
   {
    "duration": 4,
    "start_time": "2024-05-07T04:43:03.186Z"
   },
   {
    "duration": 11,
    "start_time": "2024-05-07T04:43:04.540Z"
   },
   {
    "duration": 133,
    "start_time": "2024-05-07T04:43:15.424Z"
   },
   {
    "duration": 155,
    "start_time": "2024-05-07T04:43:27.647Z"
   },
   {
    "duration": 7,
    "start_time": "2024-05-07T04:43:38.581Z"
   },
   {
    "duration": 154,
    "start_time": "2024-05-07T04:43:39.466Z"
   },
   {
    "duration": 24,
    "start_time": "2024-05-07T04:43:48.360Z"
   },
   {
    "duration": 22,
    "start_time": "2024-05-07T04:43:56.453Z"
   },
   {
    "duration": 24,
    "start_time": "2024-05-07T04:44:03.176Z"
   },
   {
    "duration": 22,
    "start_time": "2024-05-07T04:44:11.072Z"
   },
   {
    "duration": 8,
    "start_time": "2024-05-07T04:44:23.209Z"
   },
   {
    "duration": 236,
    "start_time": "2024-05-07T04:44:30.538Z"
   },
   {
    "duration": 14,
    "start_time": "2024-05-07T04:44:35.568Z"
   },
   {
    "duration": 136,
    "start_time": "2024-05-07T04:44:38.663Z"
   },
   {
    "duration": 5,
    "start_time": "2024-05-07T04:44:44.213Z"
   },
   {
    "duration": 6,
    "start_time": "2024-05-07T04:44:47.337Z"
   },
   {
    "duration": 701,
    "start_time": "2024-05-07T04:48:01.602Z"
   },
   {
    "duration": 3,
    "start_time": "2024-05-07T04:48:02.305Z"
   },
   {
    "duration": 190,
    "start_time": "2024-05-07T04:48:02.309Z"
   },
   {
    "duration": 3,
    "start_time": "2024-05-07T04:48:02.501Z"
   },
   {
    "duration": 64,
    "start_time": "2024-05-07T04:48:02.505Z"
   },
   {
    "duration": 23,
    "start_time": "2024-05-07T04:48:02.571Z"
   },
   {
    "duration": 78,
    "start_time": "2024-05-07T04:48:02.596Z"
   },
   {
    "duration": 78,
    "start_time": "2024-05-07T04:48:02.676Z"
   },
   {
    "duration": 22,
    "start_time": "2024-05-07T04:48:02.756Z"
   },
   {
    "duration": 35,
    "start_time": "2024-05-07T04:48:02.780Z"
   },
   {
    "duration": 33,
    "start_time": "2024-05-07T04:48:02.816Z"
   },
   {
    "duration": 23,
    "start_time": "2024-05-07T04:48:02.851Z"
   },
   {
    "duration": 16,
    "start_time": "2024-05-07T04:48:02.875Z"
   },
   {
    "duration": 21,
    "start_time": "2024-05-07T04:48:02.892Z"
   },
   {
    "duration": 70,
    "start_time": "2024-05-07T04:48:02.915Z"
   },
   {
    "duration": 46,
    "start_time": "2024-05-07T04:48:02.987Z"
   },
   {
    "duration": 91,
    "start_time": "2024-05-07T04:48:03.034Z"
   },
   {
    "duration": 23,
    "start_time": "2024-05-07T04:48:03.127Z"
   },
   {
    "duration": 10,
    "start_time": "2024-05-07T04:48:03.152Z"
   },
   {
    "duration": 13,
    "start_time": "2024-05-07T04:48:03.164Z"
   },
   {
    "duration": 6,
    "start_time": "2024-05-07T04:48:03.179Z"
   },
   {
    "duration": 13,
    "start_time": "2024-05-07T04:48:03.187Z"
   },
   {
    "duration": 102,
    "start_time": "2024-05-07T04:48:03.202Z"
   },
   {
    "duration": 70,
    "start_time": "2024-05-07T04:48:03.306Z"
   },
   {
    "duration": 13,
    "start_time": "2024-05-07T04:48:03.378Z"
   },
   {
    "duration": 29,
    "start_time": "2024-05-07T04:48:03.393Z"
   },
   {
    "duration": 40,
    "start_time": "2024-05-07T04:48:03.423Z"
   },
   {
    "duration": 6,
    "start_time": "2024-05-07T04:48:03.467Z"
   },
   {
    "duration": 51,
    "start_time": "2024-05-07T04:48:03.475Z"
   },
   {
    "duration": 8,
    "start_time": "2024-05-07T04:48:03.527Z"
   },
   {
    "duration": 18,
    "start_time": "2024-05-07T04:48:03.536Z"
   },
   {
    "duration": 20,
    "start_time": "2024-05-07T04:48:03.555Z"
   },
   {
    "duration": 8,
    "start_time": "2024-05-07T04:48:03.576Z"
   },
   {
    "duration": 11,
    "start_time": "2024-05-07T04:48:03.586Z"
   },
   {
    "duration": 15,
    "start_time": "2024-05-07T04:48:03.598Z"
   },
   {
    "duration": 10,
    "start_time": "2024-05-07T04:48:03.615Z"
   },
   {
    "duration": 7,
    "start_time": "2024-05-07T04:48:03.627Z"
   },
   {
    "duration": 59,
    "start_time": "2024-05-07T04:48:03.636Z"
   },
   {
    "duration": 25,
    "start_time": "2024-05-07T04:48:03.697Z"
   },
   {
    "duration": 45,
    "start_time": "2024-05-07T04:48:03.724Z"
   },
   {
    "duration": 26,
    "start_time": "2024-05-07T04:48:03.770Z"
   },
   {
    "duration": 4,
    "start_time": "2024-05-07T04:48:03.797Z"
   },
   {
    "duration": 17,
    "start_time": "2024-05-07T04:48:03.803Z"
   },
   {
    "duration": 17,
    "start_time": "2024-05-07T04:48:03.821Z"
   },
   {
    "duration": 17,
    "start_time": "2024-05-07T04:48:03.840Z"
   },
   {
    "duration": 23,
    "start_time": "2024-05-07T04:48:03.859Z"
   },
   {
    "duration": 20,
    "start_time": "2024-05-07T04:48:03.883Z"
   },
   {
    "duration": 12,
    "start_time": "2024-05-07T04:48:03.905Z"
   },
   {
    "duration": 5,
    "start_time": "2024-05-07T04:48:03.919Z"
   },
   {
    "duration": 16,
    "start_time": "2024-05-07T04:48:03.926Z"
   },
   {
    "duration": 12,
    "start_time": "2024-05-07T04:48:03.943Z"
   },
   {
    "duration": 6,
    "start_time": "2024-05-07T04:48:03.957Z"
   },
   {
    "duration": 26,
    "start_time": "2024-05-07T04:48:03.964Z"
   },
   {
    "duration": 266,
    "start_time": "2024-05-07T04:48:03.992Z"
   },
   {
    "duration": 7,
    "start_time": "2024-05-07T04:48:04.259Z"
   },
   {
    "duration": 15,
    "start_time": "2024-05-07T04:48:04.267Z"
   },
   {
    "duration": 7,
    "start_time": "2024-05-07T04:48:04.283Z"
   },
   {
    "duration": 254,
    "start_time": "2024-05-07T04:48:04.292Z"
   },
   {
    "duration": 4,
    "start_time": "2024-05-07T04:48:04.549Z"
   },
   {
    "duration": 44,
    "start_time": "2024-05-07T04:48:04.555Z"
   },
   {
    "duration": 200,
    "start_time": "2024-05-07T04:48:04.601Z"
   },
   {
    "duration": 5,
    "start_time": "2024-05-07T04:48:04.803Z"
   },
   {
    "duration": 36,
    "start_time": "2024-05-07T04:48:04.810Z"
   },
   {
    "duration": 11,
    "start_time": "2024-05-07T04:48:04.847Z"
   },
   {
    "duration": 5,
    "start_time": "2024-05-07T04:48:04.861Z"
   },
   {
    "duration": 189,
    "start_time": "2024-05-07T04:48:04.879Z"
   },
   {
    "duration": 11,
    "start_time": "2024-05-07T04:48:05.069Z"
   },
   {
    "duration": 192,
    "start_time": "2024-05-07T04:48:05.081Z"
   },
   {
    "duration": 183,
    "start_time": "2024-05-07T04:48:05.275Z"
   },
   {
    "duration": 177,
    "start_time": "2024-05-07T04:48:05.460Z"
   },
   {
    "duration": 186,
    "start_time": "2024-05-07T04:48:05.639Z"
   },
   {
    "duration": 184,
    "start_time": "2024-05-07T04:48:05.826Z"
   },
   {
    "duration": 7,
    "start_time": "2024-05-07T04:48:06.011Z"
   },
   {
    "duration": 6,
    "start_time": "2024-05-07T04:48:06.020Z"
   },
   {
    "duration": 60,
    "start_time": "2024-05-07T04:48:06.028Z"
   },
   {
    "duration": 193,
    "start_time": "2024-05-07T04:48:06.090Z"
   },
   {
    "duration": 10,
    "start_time": "2024-05-07T04:48:06.285Z"
   },
   {
    "duration": 8,
    "start_time": "2024-05-07T04:48:06.299Z"
   },
   {
    "duration": 21,
    "start_time": "2024-05-07T04:48:06.313Z"
   },
   {
    "duration": 220,
    "start_time": "2024-05-07T04:48:06.336Z"
   },
   {
    "duration": 176,
    "start_time": "2024-05-07T04:48:06.558Z"
   },
   {
    "duration": 5,
    "start_time": "2024-05-07T04:48:06.741Z"
   },
   {
    "duration": 226,
    "start_time": "2024-05-07T04:48:06.747Z"
   },
   {
    "duration": 26,
    "start_time": "2024-05-07T04:48:06.974Z"
   },
   {
    "duration": 29,
    "start_time": "2024-05-07T04:48:07.001Z"
   },
   {
    "duration": 34,
    "start_time": "2024-05-07T04:48:07.032Z"
   },
   {
    "duration": 22,
    "start_time": "2024-05-07T04:48:07.068Z"
   },
   {
    "duration": 16,
    "start_time": "2024-05-07T04:48:07.091Z"
   },
   {
    "duration": 147,
    "start_time": "2024-05-07T04:48:07.109Z"
   },
   {
    "duration": 24,
    "start_time": "2024-05-07T04:48:07.257Z"
   },
   {
    "duration": 150,
    "start_time": "2024-05-07T04:48:07.284Z"
   },
   {
    "duration": 5,
    "start_time": "2024-05-07T04:48:07.437Z"
   },
   {
    "duration": 13,
    "start_time": "2024-05-07T04:48:07.443Z"
   },
   {
    "duration": 3,
    "start_time": "2024-05-07T04:48:16.314Z"
   },
   {
    "duration": 2,
    "start_time": "2024-05-07T04:48:16.980Z"
   },
   {
    "duration": 165,
    "start_time": "2024-05-07T04:48:17.725Z"
   },
   {
    "duration": 3,
    "start_time": "2024-05-07T04:48:18.963Z"
   },
   {
    "duration": 17,
    "start_time": "2024-05-07T04:48:19.321Z"
   },
   {
    "duration": 8,
    "start_time": "2024-05-07T04:48:20.586Z"
   },
   {
    "duration": 2,
    "start_time": "2024-05-07T04:48:26.407Z"
   },
   {
    "duration": 17,
    "start_time": "2024-05-07T04:48:56.567Z"
   },
   {
    "duration": 10,
    "start_time": "2024-05-07T04:48:57.367Z"
   },
   {
    "duration": 4,
    "start_time": "2024-05-07T04:49:00.921Z"
   },
   {
    "duration": 5,
    "start_time": "2024-05-07T04:49:05.715Z"
   },
   {
    "duration": 18,
    "start_time": "2024-05-07T04:49:09.746Z"
   },
   {
    "duration": 5,
    "start_time": "2024-05-07T04:49:12.690Z"
   },
   {
    "duration": 19,
    "start_time": "2024-05-07T04:49:14.399Z"
   },
   {
    "duration": 4,
    "start_time": "2024-05-07T04:49:15.537Z"
   },
   {
    "duration": 4,
    "start_time": "2024-05-07T04:49:21.252Z"
   },
   {
    "duration": 18,
    "start_time": "2024-05-07T04:49:23.649Z"
   },
   {
    "duration": 4,
    "start_time": "2024-05-07T04:49:24.253Z"
   },
   {
    "duration": 5,
    "start_time": "2024-05-07T04:49:25.151Z"
   },
   {
    "duration": 12,
    "start_time": "2024-05-07T04:49:25.768Z"
   },
   {
    "duration": 23,
    "start_time": "2024-05-07T04:49:26.401Z"
   },
   {
    "duration": 3,
    "start_time": "2024-05-07T04:49:27.023Z"
   },
   {
    "duration": 16,
    "start_time": "2024-05-07T04:49:28.028Z"
   },
   {
    "duration": 12,
    "start_time": "2024-05-07T04:49:28.246Z"
   },
   {
    "duration": 5,
    "start_time": "2024-05-07T04:49:29.397Z"
   },
   {
    "duration": 9,
    "start_time": "2024-05-07T04:49:30.673Z"
   },
   {
    "duration": 4,
    "start_time": "2024-05-07T04:49:31.136Z"
   },
   {
    "duration": 4,
    "start_time": "2024-05-07T04:49:31.693Z"
   },
   {
    "duration": 17,
    "start_time": "2024-05-07T04:49:32.445Z"
   },
   {
    "duration": 12,
    "start_time": "2024-05-07T04:49:34.010Z"
   },
   {
    "duration": 8,
    "start_time": "2024-05-07T04:49:36.345Z"
   },
   {
    "duration": 11,
    "start_time": "2024-05-07T04:49:38.217Z"
   },
   {
    "duration": 25,
    "start_time": "2024-05-07T04:49:43.027Z"
   },
   {
    "duration": 5,
    "start_time": "2024-05-07T04:49:44.361Z"
   },
   {
    "duration": 21,
    "start_time": "2024-05-07T04:49:45.642Z"
   },
   {
    "duration": 7,
    "start_time": "2024-05-07T04:49:46.754Z"
   },
   {
    "duration": 5,
    "start_time": "2024-05-07T04:49:47.649Z"
   },
   {
    "duration": 6,
    "start_time": "2024-05-07T04:49:49.585Z"
   },
   {
    "duration": 6,
    "start_time": "2024-05-07T04:49:50.692Z"
   },
   {
    "duration": 10,
    "start_time": "2024-05-07T04:49:51.143Z"
   },
   {
    "duration": 11,
    "start_time": "2024-05-07T04:49:51.997Z"
   },
   {
    "duration": 9,
    "start_time": "2024-05-07T04:49:52.503Z"
   },
   {
    "duration": 7,
    "start_time": "2024-05-07T04:49:56.989Z"
   },
   {
    "duration": 20,
    "start_time": "2024-05-07T04:49:58.354Z"
   },
   {
    "duration": 5,
    "start_time": "2024-05-07T04:49:59.952Z"
   },
   {
    "duration": 6,
    "start_time": "2024-05-07T04:50:04.636Z"
   },
   {
    "duration": 26,
    "start_time": "2024-05-07T04:51:38.476Z"
   },
   {
    "duration": 4,
    "start_time": "2024-05-07T04:51:39.559Z"
   },
   {
    "duration": 12,
    "start_time": "2024-05-07T04:51:39.887Z"
   },
   {
    "duration": 14,
    "start_time": "2024-05-07T04:51:40.055Z"
   },
   {
    "duration": 12,
    "start_time": "2024-05-07T04:51:40.451Z"
   },
   {
    "duration": 5,
    "start_time": "2024-05-07T04:51:40.820Z"
   },
   {
    "duration": 20,
    "start_time": "2024-05-07T04:51:41.147Z"
   },
   {
    "duration": 15,
    "start_time": "2024-05-07T04:51:42.177Z"
   },
   {
    "duration": 6,
    "start_time": "2024-05-07T04:51:42.675Z"
   },
   {
    "duration": 4,
    "start_time": "2024-05-07T04:51:43.279Z"
   },
   {
    "duration": 4,
    "start_time": "2024-05-07T04:51:43.877Z"
   },
   {
    "duration": 4,
    "start_time": "2024-05-07T04:51:44.424Z"
   },
   {
    "duration": 8,
    "start_time": "2024-05-07T04:51:45.048Z"
   },
   {
    "duration": 240,
    "start_time": "2024-05-07T04:51:45.765Z"
   },
   {
    "duration": 7,
    "start_time": "2024-05-07T04:51:57.058Z"
   },
   {
    "duration": 3,
    "start_time": "2024-05-07T04:51:59.651Z"
   },
   {
    "duration": 5,
    "start_time": "2024-05-07T04:52:00.098Z"
   },
   {
    "duration": 178,
    "start_time": "2024-05-07T04:52:01.925Z"
   },
   {
    "duration": 4,
    "start_time": "2024-05-07T04:52:18.283Z"
   },
   {
    "duration": 23,
    "start_time": "2024-05-07T04:52:21.142Z"
   },
   {
    "duration": 183,
    "start_time": "2024-05-07T04:52:27.581Z"
   },
   {
    "duration": 6,
    "start_time": "2024-05-07T04:52:55.667Z"
   },
   {
    "duration": 21,
    "start_time": "2024-05-07T04:52:56.797Z"
   },
   {
    "duration": 8,
    "start_time": "2024-05-07T04:53:07.590Z"
   },
   {
    "duration": 5,
    "start_time": "2024-05-07T04:53:08.395Z"
   },
   {
    "duration": 169,
    "start_time": "2024-05-07T04:53:11.222Z"
   },
   {
    "duration": 3,
    "start_time": "2024-05-07T04:53:14.658Z"
   },
   {
    "duration": 157,
    "start_time": "2024-05-07T04:53:19.232Z"
   },
   {
    "duration": 170,
    "start_time": "2024-05-07T04:53:31.252Z"
   },
   {
    "duration": 245,
    "start_time": "2024-05-07T04:53:32.189Z"
   },
   {
    "duration": 165,
    "start_time": "2024-05-07T04:53:33.196Z"
   },
   {
    "duration": 156,
    "start_time": "2024-05-07T04:53:34.045Z"
   },
   {
    "duration": 7,
    "start_time": "2024-05-07T04:53:39.937Z"
   },
   {
    "duration": 5,
    "start_time": "2024-05-07T04:53:40.646Z"
   },
   {
    "duration": 30,
    "start_time": "2024-05-07T04:53:41.860Z"
   },
   {
    "duration": 193,
    "start_time": "2024-05-07T04:53:48.558Z"
   },
   {
    "duration": 7,
    "start_time": "2024-05-07T04:53:51.109Z"
   },
   {
    "duration": 4,
    "start_time": "2024-05-07T04:54:00.620Z"
   },
   {
    "duration": 11,
    "start_time": "2024-05-07T04:54:02.967Z"
   },
   {
    "duration": 162,
    "start_time": "2024-05-07T04:54:08.482Z"
   },
   {
    "duration": 145,
    "start_time": "2024-05-07T04:54:13.506Z"
   },
   {
    "duration": 6,
    "start_time": "2024-05-07T04:54:17.532Z"
   },
   {
    "duration": 187,
    "start_time": "2024-05-07T04:54:18.555Z"
   },
   {
    "duration": 23,
    "start_time": "2024-05-07T04:54:21.313Z"
   },
   {
    "duration": 24,
    "start_time": "2024-05-07T04:54:21.809Z"
   },
   {
    "duration": 23,
    "start_time": "2024-05-07T04:54:23.126Z"
   },
   {
    "duration": 25,
    "start_time": "2024-05-07T04:54:23.569Z"
   },
   {
    "duration": 8,
    "start_time": "2024-05-07T04:54:26.057Z"
   },
   {
    "duration": 169,
    "start_time": "2024-05-07T04:54:32.525Z"
   },
   {
    "duration": 14,
    "start_time": "2024-05-07T04:54:34.169Z"
   },
   {
    "duration": 134,
    "start_time": "2024-05-07T04:54:35.961Z"
   },
   {
    "duration": 6,
    "start_time": "2024-05-07T04:54:42.329Z"
   },
   {
    "duration": 6,
    "start_time": "2024-05-07T04:54:44.958Z"
   },
   {
    "duration": 709,
    "start_time": "2024-05-07T04:55:28.099Z"
   },
   {
    "duration": 4,
    "start_time": "2024-05-07T04:55:28.810Z"
   },
   {
    "duration": 166,
    "start_time": "2024-05-07T04:55:28.815Z"
   },
   {
    "duration": 3,
    "start_time": "2024-05-07T04:55:28.982Z"
   },
   {
    "duration": 29,
    "start_time": "2024-05-07T04:55:28.988Z"
   },
   {
    "duration": 7,
    "start_time": "2024-05-07T04:55:29.019Z"
   },
   {
    "duration": 5,
    "start_time": "2024-05-07T04:55:29.028Z"
   },
   {
    "duration": 19,
    "start_time": "2024-05-07T04:55:29.035Z"
   },
   {
    "duration": 28,
    "start_time": "2024-05-07T04:55:29.056Z"
   },
   {
    "duration": 5,
    "start_time": "2024-05-07T04:55:29.085Z"
   },
   {
    "duration": 20,
    "start_time": "2024-05-07T04:55:29.092Z"
   },
   {
    "duration": 5,
    "start_time": "2024-05-07T04:55:29.114Z"
   },
   {
    "duration": 7,
    "start_time": "2024-05-07T04:55:29.121Z"
   },
   {
    "duration": 13,
    "start_time": "2024-05-07T04:55:29.131Z"
   },
   {
    "duration": 49,
    "start_time": "2024-05-07T04:55:29.145Z"
   },
   {
    "duration": 6,
    "start_time": "2024-05-07T04:55:29.195Z"
   },
   {
    "duration": 17,
    "start_time": "2024-05-07T04:55:29.203Z"
   },
   {
    "duration": 14,
    "start_time": "2024-05-07T04:55:29.222Z"
   },
   {
    "duration": 11,
    "start_time": "2024-05-07T04:55:29.238Z"
   },
   {
    "duration": 30,
    "start_time": "2024-05-07T04:55:29.251Z"
   },
   {
    "duration": 5,
    "start_time": "2024-05-07T04:55:29.282Z"
   },
   {
    "duration": 10,
    "start_time": "2024-05-07T04:55:29.288Z"
   },
   {
    "duration": 22,
    "start_time": "2024-05-07T04:55:29.300Z"
   },
   {
    "duration": 10,
    "start_time": "2024-05-07T04:55:29.324Z"
   },
   {
    "duration": 8,
    "start_time": "2024-05-07T04:55:29.335Z"
   },
   {
    "duration": 12,
    "start_time": "2024-05-07T04:55:29.344Z"
   },
   {
    "duration": 44,
    "start_time": "2024-05-07T04:55:29.358Z"
   },
   {
    "duration": 6,
    "start_time": "2024-05-07T04:55:29.403Z"
   },
   {
    "duration": 18,
    "start_time": "2024-05-07T04:55:29.410Z"
   },
   {
    "duration": 7,
    "start_time": "2024-05-07T04:55:29.429Z"
   },
   {
    "duration": 13,
    "start_time": "2024-05-07T04:55:29.437Z"
   },
   {
    "duration": 29,
    "start_time": "2024-05-07T04:55:29.452Z"
   },
   {
    "duration": 7,
    "start_time": "2024-05-07T04:55:29.483Z"
   },
   {
    "duration": 16,
    "start_time": "2024-05-07T04:55:29.492Z"
   },
   {
    "duration": 27,
    "start_time": "2024-05-07T04:55:29.510Z"
   },
   {
    "duration": 21,
    "start_time": "2024-05-07T04:55:29.539Z"
   },
   {
    "duration": 7,
    "start_time": "2024-05-07T04:55:29.562Z"
   },
   {
    "duration": 26,
    "start_time": "2024-05-07T04:55:29.571Z"
   },
   {
    "duration": 6,
    "start_time": "2024-05-07T04:55:29.599Z"
   },
   {
    "duration": 10,
    "start_time": "2024-05-07T04:55:29.607Z"
   },
   {
    "duration": 21,
    "start_time": "2024-05-07T04:55:29.622Z"
   },
   {
    "duration": 3,
    "start_time": "2024-05-07T04:55:29.645Z"
   },
   {
    "duration": 36,
    "start_time": "2024-05-07T04:55:29.650Z"
   },
   {
    "duration": 14,
    "start_time": "2024-05-07T04:55:29.687Z"
   },
   {
    "duration": 15,
    "start_time": "2024-05-07T04:55:29.702Z"
   },
   {
    "duration": 4,
    "start_time": "2024-05-07T04:55:29.719Z"
   },
   {
    "duration": 23,
    "start_time": "2024-05-07T04:55:29.725Z"
   },
   {
    "duration": 33,
    "start_time": "2024-05-07T04:55:29.750Z"
   },
   {
    "duration": 5,
    "start_time": "2024-05-07T04:55:29.785Z"
   },
   {
    "duration": 4,
    "start_time": "2024-05-07T04:55:29.792Z"
   },
   {
    "duration": 4,
    "start_time": "2024-05-07T04:55:29.798Z"
   },
   {
    "duration": 4,
    "start_time": "2024-05-07T04:55:29.803Z"
   },
   {
    "duration": 9,
    "start_time": "2024-05-07T04:55:29.809Z"
   },
   {
    "duration": 280,
    "start_time": "2024-05-07T04:55:29.819Z"
   },
   {
    "duration": 6,
    "start_time": "2024-05-07T04:55:30.101Z"
   },
   {
    "duration": 102,
    "start_time": "2024-05-07T04:55:30.109Z"
   },
   {
    "duration": 45,
    "start_time": "2024-05-07T04:55:30.212Z"
   },
   {
    "duration": 199,
    "start_time": "2024-05-07T04:55:30.258Z"
   },
   {
    "duration": 15,
    "start_time": "2024-05-07T04:55:30.459Z"
   },
   {
    "duration": 93,
    "start_time": "2024-05-07T04:55:30.475Z"
   },
   {
    "duration": 281,
    "start_time": "2024-05-07T04:55:30.569Z"
   },
   {
    "duration": 5,
    "start_time": "2024-05-07T04:55:30.852Z"
   },
   {
    "duration": 58,
    "start_time": "2024-05-07T04:55:30.858Z"
   },
   {
    "duration": 35,
    "start_time": "2024-05-07T04:55:30.917Z"
   },
   {
    "duration": 50,
    "start_time": "2024-05-07T04:55:30.954Z"
   },
   {
    "duration": 197,
    "start_time": "2024-05-07T04:55:31.006Z"
   },
   {
    "duration": 4,
    "start_time": "2024-05-07T04:55:31.204Z"
   },
   {
    "duration": 188,
    "start_time": "2024-05-07T04:55:31.209Z"
   },
   {
    "duration": 184,
    "start_time": "2024-05-07T04:55:31.398Z"
   },
   {
    "duration": 179,
    "start_time": "2024-05-07T04:55:31.584Z"
   },
   {
    "duration": 185,
    "start_time": "2024-05-07T04:55:31.765Z"
   },
   {
    "duration": 181,
    "start_time": "2024-05-07T04:55:31.952Z"
   },
   {
    "duration": 6,
    "start_time": "2024-05-07T04:55:32.135Z"
   },
   {
    "duration": 23,
    "start_time": "2024-05-07T04:55:32.143Z"
   },
   {
    "duration": 31,
    "start_time": "2024-05-07T04:55:32.168Z"
   },
   {
    "duration": 169,
    "start_time": "2024-05-07T04:55:32.201Z"
   },
   {
    "duration": 14,
    "start_time": "2024-05-07T04:55:32.372Z"
   },
   {
    "duration": 10,
    "start_time": "2024-05-07T04:55:32.387Z"
   },
   {
    "duration": 24,
    "start_time": "2024-05-07T04:55:32.398Z"
   },
   {
    "duration": 143,
    "start_time": "2024-05-07T04:55:32.423Z"
   },
   {
    "duration": 154,
    "start_time": "2024-05-07T04:55:32.568Z"
   },
   {
    "duration": 6,
    "start_time": "2024-05-07T04:55:32.723Z"
   },
   {
    "duration": 166,
    "start_time": "2024-05-07T04:55:32.730Z"
   },
   {
    "duration": 22,
    "start_time": "2024-05-07T04:55:32.898Z"
   },
   {
    "duration": 25,
    "start_time": "2024-05-07T04:55:32.921Z"
   },
   {
    "duration": 39,
    "start_time": "2024-05-07T04:55:32.947Z"
   },
   {
    "duration": 99,
    "start_time": "2024-05-07T04:55:32.988Z"
   },
   {
    "duration": 19,
    "start_time": "2024-05-07T04:55:33.089Z"
   },
   {
    "duration": 142,
    "start_time": "2024-05-07T04:55:33.109Z"
   },
   {
    "duration": 13,
    "start_time": "2024-05-07T04:55:33.253Z"
   },
   {
    "duration": 149,
    "start_time": "2024-05-07T04:55:33.267Z"
   },
   {
    "duration": 6,
    "start_time": "2024-05-07T04:55:33.418Z"
   },
   {
    "duration": 13,
    "start_time": "2024-05-07T04:55:33.425Z"
   },
   {
    "duration": 766,
    "start_time": "2024-05-07T10:16:53.892Z"
   },
   {
    "duration": 3,
    "start_time": "2024-05-07T10:16:54.660Z"
   },
   {
    "duration": 404,
    "start_time": "2024-05-07T10:16:54.664Z"
   },
   {
    "duration": 3,
    "start_time": "2024-05-07T10:16:55.070Z"
   },
   {
    "duration": 29,
    "start_time": "2024-05-07T10:16:55.074Z"
   },
   {
    "duration": 9,
    "start_time": "2024-05-07T10:16:55.105Z"
   },
   {
    "duration": 8,
    "start_time": "2024-05-07T10:16:55.116Z"
   },
   {
    "duration": 14,
    "start_time": "2024-05-07T10:16:55.125Z"
   },
   {
    "duration": 8,
    "start_time": "2024-05-07T10:16:55.140Z"
   },
   {
    "duration": 5,
    "start_time": "2024-05-07T10:16:55.150Z"
   },
   {
    "duration": 31,
    "start_time": "2024-05-07T10:16:55.156Z"
   },
   {
    "duration": 4,
    "start_time": "2024-05-07T10:16:55.188Z"
   },
   {
    "duration": 6,
    "start_time": "2024-05-07T10:16:55.193Z"
   },
   {
    "duration": 11,
    "start_time": "2024-05-07T10:16:55.200Z"
   },
   {
    "duration": 12,
    "start_time": "2024-05-07T10:16:55.213Z"
   },
   {
    "duration": 5,
    "start_time": "2024-05-07T10:16:55.226Z"
   },
   {
    "duration": 21,
    "start_time": "2024-05-07T10:16:55.232Z"
   },
   {
    "duration": 11,
    "start_time": "2024-05-07T10:16:55.255Z"
   },
   {
    "duration": 20,
    "start_time": "2024-05-07T10:16:55.267Z"
   },
   {
    "duration": 11,
    "start_time": "2024-05-07T10:16:55.288Z"
   },
   {
    "duration": 4,
    "start_time": "2024-05-07T10:16:55.300Z"
   },
   {
    "duration": 12,
    "start_time": "2024-05-07T10:16:55.305Z"
   },
   {
    "duration": 20,
    "start_time": "2024-05-07T10:16:55.318Z"
   },
   {
    "duration": 9,
    "start_time": "2024-05-07T10:16:55.339Z"
   },
   {
    "duration": 8,
    "start_time": "2024-05-07T10:16:55.349Z"
   },
   {
    "duration": 35,
    "start_time": "2024-05-07T10:16:55.358Z"
   },
   {
    "duration": 39,
    "start_time": "2024-05-07T10:16:55.394Z"
   },
   {
    "duration": 5,
    "start_time": "2024-05-07T10:16:55.436Z"
   },
   {
    "duration": 13,
    "start_time": "2024-05-07T10:16:55.443Z"
   },
   {
    "duration": 5,
    "start_time": "2024-05-07T10:16:55.458Z"
   },
   {
    "duration": 10,
    "start_time": "2024-05-07T10:16:55.464Z"
   },
   {
    "duration": 10,
    "start_time": "2024-05-07T10:16:55.475Z"
   },
   {
    "duration": 4,
    "start_time": "2024-05-07T10:16:55.486Z"
   },
   {
    "duration": 8,
    "start_time": "2024-05-07T10:16:55.491Z"
   },
   {
    "duration": 9,
    "start_time": "2024-05-07T10:16:55.500Z"
   },
   {
    "duration": 9,
    "start_time": "2024-05-07T10:16:55.510Z"
   },
   {
    "duration": 6,
    "start_time": "2024-05-07T10:16:55.520Z"
   },
   {
    "duration": 18,
    "start_time": "2024-05-07T10:16:55.528Z"
   },
   {
    "duration": 4,
    "start_time": "2024-05-07T10:16:55.548Z"
   },
   {
    "duration": 32,
    "start_time": "2024-05-07T10:16:55.553Z"
   },
   {
    "duration": 20,
    "start_time": "2024-05-07T10:16:55.586Z"
   },
   {
    "duration": 3,
    "start_time": "2024-05-07T10:16:55.607Z"
   },
   {
    "duration": 11,
    "start_time": "2024-05-07T10:16:55.611Z"
   },
   {
    "duration": 17,
    "start_time": "2024-05-07T10:16:55.624Z"
   },
   {
    "duration": 12,
    "start_time": "2024-05-07T10:16:55.643Z"
   },
   {
    "duration": 12,
    "start_time": "2024-05-07T10:16:55.656Z"
   },
   {
    "duration": 28,
    "start_time": "2024-05-07T10:16:55.669Z"
   },
   {
    "duration": 8,
    "start_time": "2024-05-07T10:16:55.699Z"
   },
   {
    "duration": 8,
    "start_time": "2024-05-07T10:16:55.709Z"
   },
   {
    "duration": 4,
    "start_time": "2024-05-07T10:16:55.718Z"
   },
   {
    "duration": 4,
    "start_time": "2024-05-07T10:16:55.723Z"
   },
   {
    "duration": 7,
    "start_time": "2024-05-07T10:16:55.728Z"
   },
   {
    "duration": 17,
    "start_time": "2024-05-07T10:16:55.736Z"
   },
   {
    "duration": 209,
    "start_time": "2024-05-07T10:16:55.754Z"
   },
   {
    "duration": 4,
    "start_time": "2024-05-07T10:16:55.965Z"
   },
   {
    "duration": 4,
    "start_time": "2024-05-07T10:16:55.971Z"
   },
   {
    "duration": 4,
    "start_time": "2024-05-07T10:16:55.984Z"
   },
   {
    "duration": 146,
    "start_time": "2024-05-07T10:16:55.989Z"
   },
   {
    "duration": 3,
    "start_time": "2024-05-07T10:16:56.136Z"
   },
   {
    "duration": 17,
    "start_time": "2024-05-07T10:16:56.140Z"
   },
   {
    "duration": 198,
    "start_time": "2024-05-07T10:16:56.159Z"
   },
   {
    "duration": 4,
    "start_time": "2024-05-07T10:16:56.359Z"
   },
   {
    "duration": 28,
    "start_time": "2024-05-07T10:16:56.364Z"
   },
   {
    "duration": 6,
    "start_time": "2024-05-07T10:16:56.393Z"
   },
   {
    "duration": 3,
    "start_time": "2024-05-07T10:16:56.401Z"
   },
   {
    "duration": 160,
    "start_time": "2024-05-07T10:16:56.405Z"
   },
   {
    "duration": 2,
    "start_time": "2024-05-07T10:16:56.567Z"
   },
   {
    "duration": 156,
    "start_time": "2024-05-07T10:16:56.570Z"
   },
   {
    "duration": 143,
    "start_time": "2024-05-07T10:16:56.728Z"
   },
   {
    "duration": 142,
    "start_time": "2024-05-07T10:16:56.872Z"
   },
   {
    "duration": 149,
    "start_time": "2024-05-07T10:16:57.016Z"
   },
   {
    "duration": 140,
    "start_time": "2024-05-07T10:16:57.166Z"
   },
   {
    "duration": 5,
    "start_time": "2024-05-07T10:16:57.307Z"
   },
   {
    "duration": 17,
    "start_time": "2024-05-07T10:16:57.313Z"
   },
   {
    "duration": 23,
    "start_time": "2024-05-07T10:16:57.331Z"
   },
   {
    "duration": 152,
    "start_time": "2024-05-07T10:16:57.356Z"
   },
   {
    "duration": 7,
    "start_time": "2024-05-07T10:16:57.510Z"
   },
   {
    "duration": 15,
    "start_time": "2024-05-07T10:16:57.518Z"
   },
   {
    "duration": 15,
    "start_time": "2024-05-07T10:16:57.534Z"
   },
   {
    "duration": 123,
    "start_time": "2024-05-07T10:16:57.550Z"
   },
   {
    "duration": 129,
    "start_time": "2024-05-07T10:16:57.674Z"
   },
   {
    "duration": 4,
    "start_time": "2024-05-07T10:16:57.808Z"
   },
   {
    "duration": 142,
    "start_time": "2024-05-07T10:16:57.813Z"
   },
   {
    "duration": 17,
    "start_time": "2024-05-07T10:16:57.956Z"
   },
   {
    "duration": 26,
    "start_time": "2024-05-07T10:16:57.974Z"
   },
   {
    "duration": 19,
    "start_time": "2024-05-07T10:16:58.001Z"
   },
   {
    "duration": 82,
    "start_time": "2024-05-07T10:16:58.021Z"
   },
   {
    "duration": 8,
    "start_time": "2024-05-07T10:16:58.104Z"
   },
   {
    "duration": 126,
    "start_time": "2024-05-07T10:16:58.113Z"
   },
   {
    "duration": 10,
    "start_time": "2024-05-07T10:16:58.241Z"
   },
   {
    "duration": 123,
    "start_time": "2024-05-07T10:16:58.253Z"
   },
   {
    "duration": 4,
    "start_time": "2024-05-07T10:16:58.384Z"
   },
   {
    "duration": 11,
    "start_time": "2024-05-07T10:16:58.389Z"
   },
   {
    "duration": 5,
    "start_time": "2024-05-07T10:20:47.164Z"
   },
   {
    "duration": 555,
    "start_time": "2024-05-07T10:21:00.746Z"
   },
   {
    "duration": 3,
    "start_time": "2024-05-07T10:21:01.303Z"
   },
   {
    "duration": 173,
    "start_time": "2024-05-07T10:21:01.307Z"
   },
   {
    "duration": 2,
    "start_time": "2024-05-07T10:21:01.481Z"
   },
   {
    "duration": 43,
    "start_time": "2024-05-07T10:21:01.485Z"
   },
   {
    "duration": 26,
    "start_time": "2024-05-07T10:21:01.529Z"
   },
   {
    "duration": 21,
    "start_time": "2024-05-07T10:21:01.556Z"
   },
   {
    "duration": 38,
    "start_time": "2024-05-07T10:21:01.578Z"
   },
   {
    "duration": 17,
    "start_time": "2024-05-07T10:21:01.617Z"
   },
   {
    "duration": 36,
    "start_time": "2024-05-07T10:21:01.635Z"
   },
   {
    "duration": 47,
    "start_time": "2024-05-07T10:21:01.672Z"
   },
   {
    "duration": 20,
    "start_time": "2024-05-07T10:21:01.720Z"
   },
   {
    "duration": 19,
    "start_time": "2024-05-07T10:21:01.742Z"
   },
   {
    "duration": 37,
    "start_time": "2024-05-07T10:21:01.764Z"
   },
   {
    "duration": 18,
    "start_time": "2024-05-07T10:21:01.803Z"
   },
   {
    "duration": 22,
    "start_time": "2024-05-07T10:21:01.822Z"
   },
   {
    "duration": 16,
    "start_time": "2024-05-07T10:21:01.846Z"
   },
   {
    "duration": 33,
    "start_time": "2024-05-07T10:21:01.864Z"
   },
   {
    "duration": 4,
    "start_time": "2024-05-07T10:21:01.899Z"
   },
   {
    "duration": 20,
    "start_time": "2024-05-07T10:21:01.904Z"
   },
   {
    "duration": 29,
    "start_time": "2024-05-07T10:21:01.925Z"
   },
   {
    "duration": 13,
    "start_time": "2024-05-07T10:21:01.955Z"
   },
   {
    "duration": 25,
    "start_time": "2024-05-07T10:21:01.970Z"
   },
   {
    "duration": 19,
    "start_time": "2024-05-07T10:21:01.996Z"
   },
   {
    "duration": 10,
    "start_time": "2024-05-07T10:21:02.016Z"
   },
   {
    "duration": 18,
    "start_time": "2024-05-07T10:21:02.028Z"
   },
   {
    "duration": 34,
    "start_time": "2024-05-07T10:21:02.047Z"
   },
   {
    "duration": 64,
    "start_time": "2024-05-07T10:21:02.082Z"
   },
   {
    "duration": 7,
    "start_time": "2024-05-07T10:21:02.147Z"
   },
   {
    "duration": 57,
    "start_time": "2024-05-07T10:21:02.155Z"
   },
   {
    "duration": 44,
    "start_time": "2024-05-07T10:21:02.213Z"
   },
   {
    "duration": 40,
    "start_time": "2024-05-07T10:21:02.258Z"
   },
   {
    "duration": 32,
    "start_time": "2024-05-07T10:21:02.299Z"
   },
   {
    "duration": 32,
    "start_time": "2024-05-07T10:21:02.332Z"
   },
   {
    "duration": 29,
    "start_time": "2024-05-07T10:21:02.365Z"
   },
   {
    "duration": 25,
    "start_time": "2024-05-07T10:21:02.395Z"
   },
   {
    "duration": 30,
    "start_time": "2024-05-07T10:21:02.421Z"
   },
   {
    "duration": 33,
    "start_time": "2024-05-07T10:21:02.453Z"
   },
   {
    "duration": 62,
    "start_time": "2024-05-07T10:21:02.487Z"
   },
   {
    "duration": 44,
    "start_time": "2024-05-07T10:21:02.550Z"
   },
   {
    "duration": 74,
    "start_time": "2024-05-07T10:21:02.598Z"
   },
   {
    "duration": 108,
    "start_time": "2024-05-07T10:21:02.674Z"
   },
   {
    "duration": 7,
    "start_time": "2024-05-07T10:21:02.783Z"
   },
   {
    "duration": 49,
    "start_time": "2024-05-07T10:21:02.791Z"
   },
   {
    "duration": 19,
    "start_time": "2024-05-07T10:21:02.841Z"
   },
   {
    "duration": 46,
    "start_time": "2024-05-07T10:21:02.861Z"
   },
   {
    "duration": 31,
    "start_time": "2024-05-07T10:21:02.908Z"
   },
   {
    "duration": 28,
    "start_time": "2024-05-07T10:21:02.940Z"
   },
   {
    "duration": 19,
    "start_time": "2024-05-07T10:21:02.970Z"
   },
   {
    "duration": 34,
    "start_time": "2024-05-07T10:21:02.991Z"
   },
   {
    "duration": 21,
    "start_time": "2024-05-07T10:21:03.027Z"
   },
   {
    "duration": 33,
    "start_time": "2024-05-07T10:21:03.049Z"
   },
   {
    "duration": 17,
    "start_time": "2024-05-07T10:21:03.083Z"
   },
   {
    "duration": 31,
    "start_time": "2024-05-07T10:21:03.102Z"
   },
   {
    "duration": 206,
    "start_time": "2024-05-07T10:21:03.135Z"
   },
   {
    "duration": 4,
    "start_time": "2024-05-07T10:21:03.343Z"
   },
   {
    "duration": 15,
    "start_time": "2024-05-07T10:21:03.349Z"
   },
   {
    "duration": 26,
    "start_time": "2024-05-07T10:21:03.366Z"
   },
   {
    "duration": 138,
    "start_time": "2024-05-07T10:21:03.394Z"
   },
   {
    "duration": 3,
    "start_time": "2024-05-07T10:21:03.534Z"
   },
   {
    "duration": 21,
    "start_time": "2024-05-07T10:21:03.539Z"
   },
   {
    "duration": 217,
    "start_time": "2024-05-07T10:21:03.561Z"
   },
   {
    "duration": 6,
    "start_time": "2024-05-07T10:21:03.783Z"
   },
   {
    "duration": 19,
    "start_time": "2024-05-07T10:21:03.790Z"
   },
   {
    "duration": 7,
    "start_time": "2024-05-07T10:21:03.810Z"
   },
   {
    "duration": 4,
    "start_time": "2024-05-07T10:21:03.818Z"
   },
   {
    "duration": 178,
    "start_time": "2024-05-07T10:21:03.823Z"
   },
   {
    "duration": 3,
    "start_time": "2024-05-07T10:21:04.002Z"
   },
   {
    "duration": 144,
    "start_time": "2024-05-07T10:21:04.006Z"
   },
   {
    "duration": 158,
    "start_time": "2024-05-07T10:21:04.152Z"
   },
   {
    "duration": 142,
    "start_time": "2024-05-07T10:21:04.312Z"
   },
   {
    "duration": 153,
    "start_time": "2024-05-07T10:21:04.455Z"
   },
   {
    "duration": 142,
    "start_time": "2024-05-07T10:21:04.609Z"
   },
   {
    "duration": 4,
    "start_time": "2024-05-07T10:21:04.753Z"
   },
   {
    "duration": 11,
    "start_time": "2024-05-07T10:21:04.758Z"
   },
   {
    "duration": 33,
    "start_time": "2024-05-07T10:21:04.770Z"
   },
   {
    "duration": 148,
    "start_time": "2024-05-07T10:21:04.804Z"
   },
   {
    "duration": 6,
    "start_time": "2024-05-07T10:21:04.953Z"
   },
   {
    "duration": 4,
    "start_time": "2024-05-07T10:21:04.961Z"
   },
   {
    "duration": 24,
    "start_time": "2024-05-07T10:21:04.966Z"
   },
   {
    "duration": 127,
    "start_time": "2024-05-07T10:21:04.991Z"
   },
   {
    "duration": 132,
    "start_time": "2024-05-07T10:21:05.120Z"
   },
   {
    "duration": 4,
    "start_time": "2024-05-07T10:21:05.254Z"
   },
   {
    "duration": 143,
    "start_time": "2024-05-07T10:21:05.259Z"
   },
   {
    "duration": 20,
    "start_time": "2024-05-07T10:21:05.403Z"
   },
   {
    "duration": 19,
    "start_time": "2024-05-07T10:21:05.425Z"
   },
   {
    "duration": 40,
    "start_time": "2024-05-07T10:21:05.445Z"
   },
   {
    "duration": 66,
    "start_time": "2024-05-07T10:21:05.487Z"
   },
   {
    "duration": 17,
    "start_time": "2024-05-07T10:21:05.555Z"
   },
   {
    "duration": 117,
    "start_time": "2024-05-07T10:21:05.574Z"
   },
   {
    "duration": 12,
    "start_time": "2024-05-07T10:21:05.693Z"
   },
   {
    "duration": 125,
    "start_time": "2024-05-07T10:21:05.707Z"
   },
   {
    "duration": 5,
    "start_time": "2024-05-07T10:21:05.833Z"
   },
   {
    "duration": 6,
    "start_time": "2024-05-07T10:21:05.840Z"
   },
   {
    "duration": 3,
    "start_time": "2024-05-07T10:33:05.941Z"
   },
   {
    "duration": 47,
    "start_time": "2024-05-07T12:31:12.054Z"
   },
   {
    "duration": 753,
    "start_time": "2024-05-07T12:31:24.291Z"
   },
   {
    "duration": 2,
    "start_time": "2024-05-07T12:31:25.121Z"
   },
   {
    "duration": 270,
    "start_time": "2024-05-07T12:31:27.659Z"
   },
   {
    "duration": 3,
    "start_time": "2024-05-07T12:31:29.114Z"
   },
   {
    "duration": 16,
    "start_time": "2024-05-07T12:31:30.788Z"
   },
   {
    "duration": 7,
    "start_time": "2024-05-07T12:31:34.045Z"
   },
   {
    "duration": 2,
    "start_time": "2024-05-07T12:31:42.054Z"
   },
   {
    "duration": 17,
    "start_time": "2024-05-07T12:31:53.856Z"
   },
   {
    "duration": 10,
    "start_time": "2024-05-07T12:31:57.435Z"
   },
   {
    "duration": 5,
    "start_time": "2024-05-07T12:32:12.369Z"
   },
   {
    "duration": 20,
    "start_time": "2024-05-07T12:32:15.661Z"
   },
   {
    "duration": 5,
    "start_time": "2024-05-07T12:32:18.209Z"
   },
   {
    "duration": 4,
    "start_time": "2024-05-07T12:32:19.059Z"
   },
   {
    "duration": 12,
    "start_time": "2024-05-07T12:32:23.114Z"
   },
   {
    "duration": 16,
    "start_time": "2024-05-07T12:32:24.789Z"
   },
   {
    "duration": 46,
    "start_time": "2024-05-07T12:45:53.508Z"
   },
   {
    "duration": 4,
    "start_time": "2024-05-07T12:45:56.904Z"
   },
   {
    "duration": 4,
    "start_time": "2024-05-07T12:46:26.310Z"
   },
   {
    "duration": 4,
    "start_time": "2024-05-07T12:46:50.386Z"
   },
   {
    "duration": 3,
    "start_time": "2024-05-07T12:46:50.962Z"
   },
   {
    "duration": 3,
    "start_time": "2024-05-07T12:46:51.701Z"
   },
   {
    "duration": 16,
    "start_time": "2024-05-07T12:48:40.563Z"
   },
   {
    "duration": 9,
    "start_time": "2024-05-07T12:49:07.909Z"
   },
   {
    "duration": 14,
    "start_time": "2024-05-07T12:49:17.474Z"
   },
   {
    "duration": 3,
    "start_time": "2024-05-07T12:52:37.519Z"
   },
   {
    "duration": 4,
    "start_time": "2024-05-07T12:53:30.539Z"
   },
   {
    "duration": 4,
    "start_time": "2024-05-07T13:06:01.347Z"
   },
   {
    "duration": 17,
    "start_time": "2024-05-07T13:06:17.755Z"
   },
   {
    "duration": 6,
    "start_time": "2024-05-07T13:10:08.715Z"
   },
   {
    "duration": 1450,
    "start_time": "2024-05-07T13:13:09.752Z"
   },
   {
    "duration": 11,
    "start_time": "2024-05-07T13:13:19.269Z"
   },
   {
    "duration": 7,
    "start_time": "2024-05-07T13:13:44.560Z"
   },
   {
    "duration": 8,
    "start_time": "2024-05-07T13:13:50.935Z"
   },
   {
    "duration": 8,
    "start_time": "2024-05-07T13:13:56.613Z"
   },
   {
    "duration": 12,
    "start_time": "2024-05-07T13:14:09.578Z"
   },
   {
    "duration": 10,
    "start_time": "2024-05-07T13:14:22.571Z"
   },
   {
    "duration": 28,
    "start_time": "2024-05-07T13:31:00.250Z"
   },
   {
    "duration": 8,
    "start_time": "2024-05-07T14:21:14.335Z"
   },
   {
    "duration": 7,
    "start_time": "2024-05-07T14:22:16.503Z"
   },
   {
    "duration": 9,
    "start_time": "2024-05-07T14:29:03.978Z"
   },
   {
    "duration": 8,
    "start_time": "2024-05-07T14:29:32.597Z"
   },
   {
    "duration": 15,
    "start_time": "2024-05-07T14:31:51.597Z"
   },
   {
    "duration": 49,
    "start_time": "2024-05-07T14:32:00.595Z"
   },
   {
    "duration": 9,
    "start_time": "2024-05-07T14:43:51.355Z"
   },
   {
    "duration": 21,
    "start_time": "2024-05-07T14:48:05.051Z"
   },
   {
    "duration": 2,
    "start_time": "2024-05-07T14:52:55.673Z"
   },
   {
    "duration": 3,
    "start_time": "2024-05-07T15:38:39.654Z"
   },
   {
    "duration": 6,
    "start_time": "2024-05-07T15:42:10.104Z"
   },
   {
    "duration": 7,
    "start_time": "2024-05-07T15:49:20.661Z"
   },
   {
    "duration": 7,
    "start_time": "2024-05-07T15:49:22.905Z"
   },
   {
    "duration": 5,
    "start_time": "2024-05-07T15:51:16.116Z"
   },
   {
    "duration": 3,
    "start_time": "2024-05-07T15:57:55.588Z"
   },
   {
    "duration": 9,
    "start_time": "2024-05-07T16:23:40.246Z"
   },
   {
    "duration": 7,
    "start_time": "2024-05-07T16:23:49.360Z"
   },
   {
    "duration": 7,
    "start_time": "2024-05-07T16:23:51.379Z"
   },
   {
    "duration": 685,
    "start_time": "2024-05-07T16:23:57.526Z"
   },
   {
    "duration": 13,
    "start_time": "2024-05-07T16:24:01.886Z"
   },
   {
    "duration": 618,
    "start_time": "2024-05-07T16:24:06.908Z"
   },
   {
    "duration": 2,
    "start_time": "2024-05-07T16:24:07.528Z"
   },
   {
    "duration": 162,
    "start_time": "2024-05-07T16:24:07.532Z"
   },
   {
    "duration": 2,
    "start_time": "2024-05-07T16:24:07.696Z"
   },
   {
    "duration": 46,
    "start_time": "2024-05-07T16:24:07.699Z"
   },
   {
    "duration": 42,
    "start_time": "2024-05-07T16:24:07.747Z"
   },
   {
    "duration": 31,
    "start_time": "2024-05-07T16:24:07.791Z"
   },
   {
    "duration": 33,
    "start_time": "2024-05-07T16:24:07.824Z"
   },
   {
    "duration": 29,
    "start_time": "2024-05-07T16:24:07.859Z"
   },
   {
    "duration": 24,
    "start_time": "2024-05-07T16:24:07.891Z"
   },
   {
    "duration": 41,
    "start_time": "2024-05-07T16:24:07.917Z"
   },
   {
    "duration": 10,
    "start_time": "2024-05-07T16:24:07.960Z"
   },
   {
    "duration": 38,
    "start_time": "2024-05-07T16:24:07.971Z"
   },
   {
    "duration": 43,
    "start_time": "2024-05-07T16:24:08.011Z"
   },
   {
    "duration": 39,
    "start_time": "2024-05-07T16:24:08.056Z"
   },
   {
    "duration": 35,
    "start_time": "2024-05-07T16:24:08.097Z"
   },
   {
    "duration": 35,
    "start_time": "2024-05-07T16:24:08.134Z"
   },
   {
    "duration": 26,
    "start_time": "2024-05-07T16:24:08.171Z"
   },
   {
    "duration": 48,
    "start_time": "2024-05-07T16:24:08.199Z"
   },
   {
    "duration": 21,
    "start_time": "2024-05-07T16:24:08.248Z"
   },
   {
    "duration": 63,
    "start_time": "2024-05-07T16:24:08.271Z"
   },
   {
    "duration": 64,
    "start_time": "2024-05-07T16:24:08.335Z"
   },
   {
    "duration": 20,
    "start_time": "2024-05-07T16:24:08.401Z"
   },
   {
    "duration": 36,
    "start_time": "2024-05-07T16:24:08.423Z"
   },
   {
    "duration": 39,
    "start_time": "2024-05-07T16:24:08.460Z"
   },
   {
    "duration": 30,
    "start_time": "2024-05-07T16:24:08.500Z"
   },
   {
    "duration": 40,
    "start_time": "2024-05-07T16:24:08.532Z"
   },
   {
    "duration": 44,
    "start_time": "2024-05-07T16:24:08.576Z"
   },
   {
    "duration": 45,
    "start_time": "2024-05-07T16:24:08.622Z"
   },
   {
    "duration": 48,
    "start_time": "2024-05-07T16:24:08.668Z"
   },
   {
    "duration": 19,
    "start_time": "2024-05-07T16:24:08.718Z"
   },
   {
    "duration": 58,
    "start_time": "2024-05-07T16:24:08.738Z"
   },
   {
    "duration": 40,
    "start_time": "2024-05-07T16:24:08.798Z"
   },
   {
    "duration": 29,
    "start_time": "2024-05-07T16:24:08.839Z"
   },
   {
    "duration": 70,
    "start_time": "2024-05-07T16:24:08.870Z"
   },
   {
    "duration": 18,
    "start_time": "2024-05-07T16:24:08.941Z"
   },
   {
    "duration": 47,
    "start_time": "2024-05-07T16:24:08.961Z"
   },
   {
    "duration": 49,
    "start_time": "2024-05-07T16:24:09.010Z"
   },
   {
    "duration": 48,
    "start_time": "2024-05-07T16:24:09.061Z"
   },
   {
    "duration": 38,
    "start_time": "2024-05-07T16:24:09.110Z"
   },
   {
    "duration": 53,
    "start_time": "2024-05-07T16:24:09.149Z"
   },
   {
    "duration": 52,
    "start_time": "2024-05-07T16:24:09.204Z"
   },
   {
    "duration": 18,
    "start_time": "2024-05-07T16:24:09.258Z"
   },
   {
    "duration": 46,
    "start_time": "2024-05-07T16:24:09.278Z"
   },
   {
    "duration": 24,
    "start_time": "2024-05-07T16:24:09.325Z"
   },
   {
    "duration": 31,
    "start_time": "2024-05-07T16:24:09.350Z"
   },
   {
    "duration": 33,
    "start_time": "2024-05-07T16:24:09.382Z"
   },
   {
    "duration": 32,
    "start_time": "2024-05-07T16:24:09.417Z"
   },
   {
    "duration": 53,
    "start_time": "2024-05-07T16:24:09.451Z"
   },
   {
    "duration": 26,
    "start_time": "2024-05-07T16:24:09.506Z"
   },
   {
    "duration": 35,
    "start_time": "2024-05-07T16:24:09.534Z"
   },
   {
    "duration": 32,
    "start_time": "2024-05-07T16:24:09.570Z"
   },
   {
    "duration": 56,
    "start_time": "2024-05-07T16:24:09.604Z"
   },
   {
    "duration": 21,
    "start_time": "2024-05-07T16:24:09.662Z"
   },
   {
    "duration": 50,
    "start_time": "2024-05-07T16:24:09.684Z"
   },
   {
    "duration": 55,
    "start_time": "2024-05-07T16:24:09.735Z"
   },
   {
    "duration": 31,
    "start_time": "2024-05-07T16:24:09.791Z"
   },
   {
    "duration": 24,
    "start_time": "2024-05-07T16:24:09.824Z"
   },
   {
    "duration": 46,
    "start_time": "2024-05-07T16:24:09.850Z"
   },
   {
    "duration": 13,
    "start_time": "2024-05-07T16:24:09.897Z"
   },
   {
    "duration": 39,
    "start_time": "2024-05-07T16:24:09.911Z"
   },
   {
    "duration": 45,
    "start_time": "2024-05-07T16:24:09.951Z"
   },
   {
    "duration": 56,
    "start_time": "2024-05-07T16:24:09.997Z"
   },
   {
    "duration": 42,
    "start_time": "2024-05-07T16:24:10.055Z"
   },
   {
    "duration": 37,
    "start_time": "2024-05-07T16:24:10.099Z"
   },
   {
    "duration": 42,
    "start_time": "2024-05-07T16:24:10.138Z"
   },
   {
    "duration": 736,
    "start_time": "2024-05-07T16:24:10.181Z"
   },
   {
    "duration": 0,
    "start_time": "2024-05-07T16:24:10.920Z"
   },
   {
    "duration": 0,
    "start_time": "2024-05-07T16:24:10.921Z"
   },
   {
    "duration": 0,
    "start_time": "2024-05-07T16:24:10.922Z"
   },
   {
    "duration": 0,
    "start_time": "2024-05-07T16:24:10.923Z"
   },
   {
    "duration": 0,
    "start_time": "2024-05-07T16:24:10.924Z"
   },
   {
    "duration": 0,
    "start_time": "2024-05-07T16:24:10.925Z"
   },
   {
    "duration": 0,
    "start_time": "2024-05-07T16:24:10.926Z"
   },
   {
    "duration": 0,
    "start_time": "2024-05-07T16:24:10.927Z"
   },
   {
    "duration": 0,
    "start_time": "2024-05-07T16:24:10.928Z"
   },
   {
    "duration": 0,
    "start_time": "2024-05-07T16:24:10.929Z"
   },
   {
    "duration": 0,
    "start_time": "2024-05-07T16:24:10.929Z"
   },
   {
    "duration": 0,
    "start_time": "2024-05-07T16:24:10.930Z"
   },
   {
    "duration": 0,
    "start_time": "2024-05-07T16:24:10.931Z"
   },
   {
    "duration": 0,
    "start_time": "2024-05-07T16:24:10.932Z"
   },
   {
    "duration": 0,
    "start_time": "2024-05-07T16:24:10.933Z"
   },
   {
    "duration": 0,
    "start_time": "2024-05-07T16:24:10.934Z"
   },
   {
    "duration": 0,
    "start_time": "2024-05-07T16:24:10.935Z"
   },
   {
    "duration": 0,
    "start_time": "2024-05-07T16:24:10.936Z"
   },
   {
    "duration": 0,
    "start_time": "2024-05-07T16:24:10.937Z"
   },
   {
    "duration": 0,
    "start_time": "2024-05-07T16:24:10.938Z"
   },
   {
    "duration": 0,
    "start_time": "2024-05-07T16:24:10.939Z"
   },
   {
    "duration": 0,
    "start_time": "2024-05-07T16:24:10.940Z"
   },
   {
    "duration": 0,
    "start_time": "2024-05-07T16:24:10.941Z"
   },
   {
    "duration": 0,
    "start_time": "2024-05-07T16:24:10.942Z"
   },
   {
    "duration": 0,
    "start_time": "2024-05-07T16:24:10.943Z"
   },
   {
    "duration": 0,
    "start_time": "2024-05-07T16:24:10.944Z"
   },
   {
    "duration": 0,
    "start_time": "2024-05-07T16:24:10.945Z"
   },
   {
    "duration": 0,
    "start_time": "2024-05-07T16:24:10.945Z"
   },
   {
    "duration": 0,
    "start_time": "2024-05-07T16:24:10.946Z"
   },
   {
    "duration": 0,
    "start_time": "2024-05-07T16:24:10.947Z"
   },
   {
    "duration": 0,
    "start_time": "2024-05-07T16:24:10.948Z"
   },
   {
    "duration": 0,
    "start_time": "2024-05-07T16:24:10.949Z"
   },
   {
    "duration": 0,
    "start_time": "2024-05-07T16:24:10.950Z"
   },
   {
    "duration": 0,
    "start_time": "2024-05-07T16:24:10.951Z"
   },
   {
    "duration": 0,
    "start_time": "2024-05-07T16:24:10.952Z"
   },
   {
    "duration": 0,
    "start_time": "2024-05-07T16:24:10.953Z"
   },
   {
    "duration": 0,
    "start_time": "2024-05-07T16:24:10.954Z"
   },
   {
    "duration": 0,
    "start_time": "2024-05-07T16:24:10.955Z"
   },
   {
    "duration": 0,
    "start_time": "2024-05-07T16:24:10.956Z"
   },
   {
    "duration": 669,
    "start_time": "2024-05-07T16:25:49.477Z"
   },
   {
    "duration": 229,
    "start_time": "2024-05-07T16:26:12.703Z"
   },
   {
    "duration": 2,
    "start_time": "2024-05-07T16:36:20.185Z"
   },
   {
    "duration": 276,
    "start_time": "2024-05-07T16:36:26.060Z"
   },
   {
    "duration": 6,
    "start_time": "2024-05-07T16:39:14.539Z"
   },
   {
    "duration": 3,
    "start_time": "2024-05-07T16:39:17.401Z"
   },
   {
    "duration": 4,
    "start_time": "2024-05-07T16:39:18.181Z"
   },
   {
    "duration": 2,
    "start_time": "2024-05-07T16:39:31.675Z"
   },
   {
    "duration": 157,
    "start_time": "2024-05-07T16:44:02.370Z"
   },
   {
    "duration": 4,
    "start_time": "2024-05-07T16:44:47.253Z"
   },
   {
    "duration": 26,
    "start_time": "2024-05-07T16:44:49.601Z"
   },
   {
    "duration": 171,
    "start_time": "2024-05-07T16:44:55.022Z"
   },
   {
    "duration": 3,
    "start_time": "2024-05-07T16:45:04.246Z"
   },
   {
    "duration": 186,
    "start_time": "2024-05-07T16:55:22.982Z"
   },
   {
    "duration": 189,
    "start_time": "2024-05-07T16:55:49.904Z"
   },
   {
    "duration": 5,
    "start_time": "2024-05-07T16:56:55.781Z"
   },
   {
    "duration": 20,
    "start_time": "2024-05-07T16:56:56.804Z"
   },
   {
    "duration": 9,
    "start_time": "2024-05-07T16:57:01.865Z"
   },
   {
    "duration": 6,
    "start_time": "2024-05-07T16:57:02.503Z"
   },
   {
    "duration": 179,
    "start_time": "2024-05-07T16:57:05.113Z"
   },
   {
    "duration": 6,
    "start_time": "2024-05-07T17:27:20.363Z"
   },
   {
    "duration": 5,
    "start_time": "2024-05-07T17:29:43.502Z"
   },
   {
    "duration": 7,
    "start_time": "2024-05-07T17:29:47.226Z"
   },
   {
    "duration": 23,
    "start_time": "2024-05-07T17:29:52.934Z"
   },
   {
    "duration": 8,
    "start_time": "2024-05-07T17:31:39.007Z"
   },
   {
    "duration": 2,
    "start_time": "2024-05-07T17:31:49.672Z"
   },
   {
    "duration": 142,
    "start_time": "2024-05-07T17:31:56.176Z"
   },
   {
    "duration": 140,
    "start_time": "2024-05-07T17:34:21.293Z"
   },
   {
    "duration": 9,
    "start_time": "2024-05-07T17:35:16.856Z"
   },
   {
    "duration": 3,
    "start_time": "2024-05-07T17:35:22.920Z"
   },
   {
    "duration": 124,
    "start_time": "2024-05-07T17:35:25.171Z"
   },
   {
    "duration": 4,
    "start_time": "2024-05-07T17:37:53.220Z"
   },
   {
    "duration": 135,
    "start_time": "2024-05-07T17:37:54.244Z"
   },
   {
    "duration": 135,
    "start_time": "2024-05-07T17:38:18.722Z"
   },
   {
    "duration": 201,
    "start_time": "2024-05-07T17:38:23.912Z"
   },
   {
    "duration": 143,
    "start_time": "2024-05-07T17:38:26.551Z"
   },
   {
    "duration": 132,
    "start_time": "2024-05-07T17:38:29.788Z"
   },
   {
    "duration": 142,
    "start_time": "2024-05-07T17:40:18.833Z"
   },
   {
    "duration": 198,
    "start_time": "2024-05-07T18:00:04.192Z"
   },
   {
    "duration": 41,
    "start_time": "2024-05-07T18:00:52.847Z"
   },
   {
    "duration": 6,
    "start_time": "2024-05-07T18:52:50.797Z"
   },
   {
    "duration": 7,
    "start_time": "2024-05-07T18:52:51.136Z"
   },
   {
    "duration": 35,
    "start_time": "2024-05-07T18:52:55.307Z"
   },
   {
    "duration": 3,
    "start_time": "2024-05-07T18:55:06.337Z"
   },
   {
    "duration": 165,
    "start_time": "2024-05-07T18:55:11.511Z"
   },
   {
    "duration": 8,
    "start_time": "2024-05-07T18:55:20.797Z"
   },
   {
    "duration": 4,
    "start_time": "2024-05-07T18:56:06.286Z"
   },
   {
    "duration": 11,
    "start_time": "2024-05-07T18:56:10.364Z"
   },
   {
    "duration": 3,
    "start_time": "2024-05-07T18:57:08.462Z"
   },
   {
    "duration": 159,
    "start_time": "2024-05-07T18:57:12.708Z"
   },
   {
    "duration": 167,
    "start_time": "2024-05-07T18:58:31.065Z"
   },
   {
    "duration": 3,
    "start_time": "2024-05-07T18:59:02.298Z"
   },
   {
    "duration": 134,
    "start_time": "2024-05-07T18:59:45.374Z"
   },
   {
    "duration": 5,
    "start_time": "2024-05-07T18:59:53.051Z"
   },
   {
    "duration": 2,
    "start_time": "2024-05-07T19:00:06.400Z"
   },
   {
    "duration": 155,
    "start_time": "2024-05-07T19:01:13.480Z"
   },
   {
    "duration": 22,
    "start_time": "2024-05-07T19:01:20.172Z"
   },
   {
    "duration": 22,
    "start_time": "2024-05-07T19:01:20.638Z"
   },
   {
    "duration": 22,
    "start_time": "2024-05-07T19:01:25.484Z"
   },
   {
    "duration": 20,
    "start_time": "2024-05-07T19:01:26.004Z"
   },
   {
    "duration": 9,
    "start_time": "2024-05-07T19:01:33.501Z"
   },
   {
    "duration": 2,
    "start_time": "2024-05-07T19:01:40.784Z"
   },
   {
    "duration": 136,
    "start_time": "2024-05-07T19:03:11.908Z"
   },
   {
    "duration": 13,
    "start_time": "2024-05-07T19:03:21.456Z"
   },
   {
    "duration": 2,
    "start_time": "2024-05-07T19:03:28.016Z"
   },
   {
    "duration": 207,
    "start_time": "2024-05-07T19:03:42.450Z"
   },
   {
    "duration": 5,
    "start_time": "2024-05-07T19:04:06.509Z"
   },
   {
    "duration": 6,
    "start_time": "2024-05-07T19:04:07.949Z"
   },
   {
    "duration": 14,
    "start_time": "2024-05-07T19:33:01.502Z"
   },
   {
    "duration": 2,
    "start_time": "2024-05-07T19:33:18.694Z"
   },
   {
    "duration": 3,
    "start_time": "2024-05-07T19:33:22.836Z"
   },
   {
    "duration": 147,
    "start_time": "2024-05-07T19:33:23.839Z"
   },
   {
    "duration": 655,
    "start_time": "2024-05-07T19:58:12.631Z"
   },
   {
    "duration": 3,
    "start_time": "2024-05-07T19:58:13.288Z"
   },
   {
    "duration": 147,
    "start_time": "2024-05-07T19:58:13.292Z"
   },
   {
    "duration": 2,
    "start_time": "2024-05-07T19:58:13.441Z"
   },
   {
    "duration": 19,
    "start_time": "2024-05-07T19:58:13.444Z"
   },
   {
    "duration": 6,
    "start_time": "2024-05-07T19:58:13.464Z"
   },
   {
    "duration": 3,
    "start_time": "2024-05-07T19:58:13.472Z"
   },
   {
    "duration": 18,
    "start_time": "2024-05-07T19:58:13.477Z"
   },
   {
    "duration": 9,
    "start_time": "2024-05-07T19:58:13.497Z"
   },
   {
    "duration": 5,
    "start_time": "2024-05-07T19:58:13.509Z"
   },
   {
    "duration": 41,
    "start_time": "2024-05-07T19:58:13.515Z"
   },
   {
    "duration": 4,
    "start_time": "2024-05-07T19:58:13.558Z"
   },
   {
    "duration": 27,
    "start_time": "2024-05-07T19:58:13.563Z"
   },
   {
    "duration": 13,
    "start_time": "2024-05-07T19:58:13.592Z"
   },
   {
    "duration": 14,
    "start_time": "2024-05-07T19:58:13.607Z"
   },
   {
    "duration": 4,
    "start_time": "2024-05-07T19:58:13.622Z"
   },
   {
    "duration": 20,
    "start_time": "2024-05-07T19:58:13.627Z"
   },
   {
    "duration": 13,
    "start_time": "2024-05-07T19:58:13.649Z"
   },
   {
    "duration": 15,
    "start_time": "2024-05-07T19:58:13.663Z"
   },
   {
    "duration": 16,
    "start_time": "2024-05-07T19:58:13.680Z"
   },
   {
    "duration": 4,
    "start_time": "2024-05-07T19:58:13.697Z"
   },
   {
    "duration": 12,
    "start_time": "2024-05-07T19:58:13.703Z"
   },
   {
    "duration": 26,
    "start_time": "2024-05-07T19:58:13.716Z"
   },
   {
    "duration": 5,
    "start_time": "2024-05-07T19:58:13.743Z"
   },
   {
    "duration": 19,
    "start_time": "2024-05-07T19:58:13.750Z"
   },
   {
    "duration": 5,
    "start_time": "2024-05-07T19:58:13.770Z"
   },
   {
    "duration": 13,
    "start_time": "2024-05-07T19:58:13.776Z"
   },
   {
    "duration": 17,
    "start_time": "2024-05-07T19:58:13.794Z"
   },
   {
    "duration": 13,
    "start_time": "2024-05-07T19:58:13.813Z"
   },
   {
    "duration": 57,
    "start_time": "2024-05-07T19:58:13.827Z"
   },
   {
    "duration": 7,
    "start_time": "2024-05-07T19:58:13.886Z"
   },
   {
    "duration": 17,
    "start_time": "2024-05-07T19:58:13.894Z"
   },
   {
    "duration": 6,
    "start_time": "2024-05-07T19:58:13.912Z"
   },
   {
    "duration": 6,
    "start_time": "2024-05-07T19:58:13.919Z"
   },
   {
    "duration": 60,
    "start_time": "2024-05-07T19:58:13.926Z"
   },
   {
    "duration": 25,
    "start_time": "2024-05-07T19:58:13.988Z"
   },
   {
    "duration": 6,
    "start_time": "2024-05-07T19:58:14.014Z"
   },
   {
    "duration": 6,
    "start_time": "2024-05-07T19:58:14.022Z"
   },
   {
    "duration": 28,
    "start_time": "2024-05-07T19:58:14.030Z"
   },
   {
    "duration": 16,
    "start_time": "2024-05-07T19:58:14.060Z"
   },
   {
    "duration": 15,
    "start_time": "2024-05-07T19:58:14.078Z"
   },
   {
    "duration": 37,
    "start_time": "2024-05-07T19:58:14.095Z"
   },
   {
    "duration": 7,
    "start_time": "2024-05-07T19:58:14.134Z"
   },
   {
    "duration": 32,
    "start_time": "2024-05-07T19:58:14.143Z"
   },
   {
    "duration": 7,
    "start_time": "2024-05-07T19:58:14.176Z"
   },
   {
    "duration": 4,
    "start_time": "2024-05-07T19:58:14.185Z"
   },
   {
    "duration": 19,
    "start_time": "2024-05-07T19:58:14.190Z"
   },
   {
    "duration": 13,
    "start_time": "2024-05-07T19:58:14.211Z"
   },
   {
    "duration": 16,
    "start_time": "2024-05-07T19:58:14.225Z"
   },
   {
    "duration": 8,
    "start_time": "2024-05-07T19:58:14.243Z"
   },
   {
    "duration": 13,
    "start_time": "2024-05-07T19:58:14.252Z"
   },
   {
    "duration": 7,
    "start_time": "2024-05-07T19:58:14.266Z"
   },
   {
    "duration": 30,
    "start_time": "2024-05-07T19:58:14.274Z"
   },
   {
    "duration": 4,
    "start_time": "2024-05-07T19:58:14.306Z"
   },
   {
    "duration": 20,
    "start_time": "2024-05-07T19:58:14.311Z"
   },
   {
    "duration": 15,
    "start_time": "2024-05-07T19:58:14.333Z"
   },
   {
    "duration": 37,
    "start_time": "2024-05-07T19:58:14.349Z"
   },
   {
    "duration": 7,
    "start_time": "2024-05-07T19:58:14.387Z"
   },
   {
    "duration": 18,
    "start_time": "2024-05-07T19:58:14.395Z"
   },
   {
    "duration": 4,
    "start_time": "2024-05-07T19:58:14.415Z"
   },
   {
    "duration": 13,
    "start_time": "2024-05-07T19:58:14.421Z"
   },
   {
    "duration": 21,
    "start_time": "2024-05-07T19:58:14.436Z"
   },
   {
    "duration": 5,
    "start_time": "2024-05-07T19:58:14.458Z"
   },
   {
    "duration": 5,
    "start_time": "2024-05-07T19:58:14.464Z"
   },
   {
    "duration": 7,
    "start_time": "2024-05-07T19:58:14.470Z"
   },
   {
    "duration": 17,
    "start_time": "2024-05-07T19:58:14.479Z"
   },
   {
    "duration": 3,
    "start_time": "2024-05-07T19:58:14.498Z"
   },
   {
    "duration": 262,
    "start_time": "2024-05-07T19:58:14.502Z"
   },
   {
    "duration": 6,
    "start_time": "2024-05-07T19:58:14.766Z"
   },
   {
    "duration": 8,
    "start_time": "2024-05-07T19:58:14.773Z"
   },
   {
    "duration": 7,
    "start_time": "2024-05-07T19:58:14.782Z"
   },
   {
    "duration": 210,
    "start_time": "2024-05-07T19:58:14.790Z"
   },
   {
    "duration": 2,
    "start_time": "2024-05-07T19:58:15.002Z"
   },
   {
    "duration": 56,
    "start_time": "2024-05-07T19:58:15.006Z"
   },
   {
    "duration": 48,
    "start_time": "2024-05-07T19:58:15.063Z"
   },
   {
    "duration": 11,
    "start_time": "2024-05-07T19:58:15.113Z"
   },
   {
    "duration": 161,
    "start_time": "2024-05-07T19:58:15.126Z"
   },
   {
    "duration": 6,
    "start_time": "2024-05-07T19:58:15.289Z"
   },
   {
    "duration": 15,
    "start_time": "2024-05-07T19:58:15.296Z"
   },
   {
    "duration": 19,
    "start_time": "2024-05-07T19:58:15.313Z"
   },
   {
    "duration": 8,
    "start_time": "2024-05-07T19:58:15.334Z"
   },
   {
    "duration": 5,
    "start_time": "2024-05-07T19:58:15.356Z"
   },
   {
    "duration": 3,
    "start_time": "2024-05-07T19:58:15.362Z"
   },
   {
    "duration": 172,
    "start_time": "2024-05-07T19:58:15.366Z"
   },
   {
    "duration": 4,
    "start_time": "2024-05-07T19:58:15.539Z"
   },
   {
    "duration": 156,
    "start_time": "2024-05-07T19:58:15.545Z"
   },
   {
    "duration": 152,
    "start_time": "2024-05-07T19:58:15.703Z"
   },
   {
    "duration": 144,
    "start_time": "2024-05-07T19:58:15.857Z"
   },
   {
    "duration": 145,
    "start_time": "2024-05-07T19:58:16.003Z"
   },
   {
    "duration": 127,
    "start_time": "2024-05-07T19:58:16.150Z"
   },
   {
    "duration": 180,
    "start_time": "2024-05-07T19:58:16.279Z"
   },
   {
    "duration": 5,
    "start_time": "2024-05-07T19:58:16.460Z"
   },
   {
    "duration": 5,
    "start_time": "2024-05-07T19:58:16.466Z"
   },
   {
    "duration": 38,
    "start_time": "2024-05-07T19:58:16.472Z"
   },
   {
    "duration": 3,
    "start_time": "2024-05-07T19:58:16.511Z"
   },
   {
    "duration": 166,
    "start_time": "2024-05-07T19:58:16.515Z"
   },
   {
    "duration": 8,
    "start_time": "2024-05-07T19:58:16.683Z"
   },
   {
    "duration": 4,
    "start_time": "2024-05-07T19:58:16.692Z"
   },
   {
    "duration": 13,
    "start_time": "2024-05-07T19:58:16.697Z"
   },
   {
    "duration": 3,
    "start_time": "2024-05-07T19:58:16.712Z"
   },
   {
    "duration": 174,
    "start_time": "2024-05-07T19:58:16.719Z"
   },
   {
    "duration": 2,
    "start_time": "2024-05-07T19:58:16.895Z"
   },
   {
    "duration": 205,
    "start_time": "2024-05-07T19:58:16.899Z"
   },
   {
    "duration": 5,
    "start_time": "2024-05-07T19:58:17.106Z"
   },
   {
    "duration": 3,
    "start_time": "2024-05-07T19:58:17.113Z"
   },
   {
    "duration": 166,
    "start_time": "2024-05-07T19:58:17.118Z"
   },
   {
    "duration": 21,
    "start_time": "2024-05-07T19:58:17.286Z"
   },
   {
    "duration": 25,
    "start_time": "2024-05-07T19:58:17.308Z"
   },
   {
    "duration": 34,
    "start_time": "2024-05-07T19:58:17.334Z"
   },
   {
    "duration": 21,
    "start_time": "2024-05-07T19:58:17.370Z"
   },
   {
    "duration": 7,
    "start_time": "2024-05-07T19:58:17.393Z"
   },
   {
    "duration": 4,
    "start_time": "2024-05-07T19:58:17.402Z"
   },
   {
    "duration": 160,
    "start_time": "2024-05-07T19:58:17.407Z"
   },
   {
    "duration": 13,
    "start_time": "2024-05-07T19:58:17.569Z"
   },
   {
    "duration": 2,
    "start_time": "2024-05-07T19:58:17.584Z"
   },
   {
    "duration": 4,
    "start_time": "2024-05-07T19:58:17.588Z"
   },
   {
    "duration": 158,
    "start_time": "2024-05-07T19:58:17.593Z"
   },
   {
    "duration": 7,
    "start_time": "2024-05-07T19:58:17.755Z"
   },
   {
    "duration": 7,
    "start_time": "2024-05-07T19:58:17.763Z"
   },
   {
    "duration": 2,
    "start_time": "2024-05-07T20:02:15.098Z"
   },
   {
    "duration": 5,
    "start_time": "2024-05-07T20:02:15.592Z"
   },
   {
    "duration": 6,
    "start_time": "2024-05-07T20:02:39.420Z"
   },
   {
    "duration": 631,
    "start_time": "2024-05-07T20:05:49.170Z"
   },
   {
    "duration": 3,
    "start_time": "2024-05-07T20:05:49.803Z"
   },
   {
    "duration": 172,
    "start_time": "2024-05-07T20:05:49.807Z"
   },
   {
    "duration": 3,
    "start_time": "2024-05-07T20:05:49.981Z"
   },
   {
    "duration": 21,
    "start_time": "2024-05-07T20:05:49.985Z"
   },
   {
    "duration": 9,
    "start_time": "2024-05-07T20:05:50.008Z"
   },
   {
    "duration": 14,
    "start_time": "2024-05-07T20:05:50.018Z"
   },
   {
    "duration": 22,
    "start_time": "2024-05-07T20:05:50.033Z"
   },
   {
    "duration": 15,
    "start_time": "2024-05-07T20:05:50.056Z"
   },
   {
    "duration": 4,
    "start_time": "2024-05-07T20:05:50.073Z"
   },
   {
    "duration": 22,
    "start_time": "2024-05-07T20:05:50.078Z"
   },
   {
    "duration": 3,
    "start_time": "2024-05-07T20:05:50.102Z"
   },
   {
    "duration": 7,
    "start_time": "2024-05-07T20:05:50.106Z"
   },
   {
    "duration": 12,
    "start_time": "2024-05-07T20:05:50.114Z"
   },
   {
    "duration": 41,
    "start_time": "2024-05-07T20:05:50.128Z"
   },
   {
    "duration": 3,
    "start_time": "2024-05-07T20:05:50.171Z"
   },
   {
    "duration": 25,
    "start_time": "2024-05-07T20:05:50.176Z"
   },
   {
    "duration": 7,
    "start_time": "2024-05-07T20:05:50.202Z"
   },
   {
    "duration": 25,
    "start_time": "2024-05-07T20:05:50.211Z"
   },
   {
    "duration": 14,
    "start_time": "2024-05-07T20:05:50.256Z"
   },
   {
    "duration": 14,
    "start_time": "2024-05-07T20:05:50.271Z"
   },
   {
    "duration": 7,
    "start_time": "2024-05-07T20:05:50.287Z"
   },
   {
    "duration": 4,
    "start_time": "2024-05-07T20:05:50.296Z"
   },
   {
    "duration": 5,
    "start_time": "2024-05-07T20:05:50.301Z"
   },
   {
    "duration": 50,
    "start_time": "2024-05-07T20:05:50.307Z"
   },
   {
    "duration": 5,
    "start_time": "2024-05-07T20:05:50.359Z"
   },
   {
    "duration": 13,
    "start_time": "2024-05-07T20:05:50.366Z"
   },
   {
    "duration": 8,
    "start_time": "2024-05-07T20:05:50.383Z"
   },
   {
    "duration": 11,
    "start_time": "2024-05-07T20:05:50.392Z"
   },
   {
    "duration": 58,
    "start_time": "2024-05-07T20:05:50.404Z"
   },
   {
    "duration": 6,
    "start_time": "2024-05-07T20:05:50.463Z"
   },
   {
    "duration": 20,
    "start_time": "2024-05-07T20:05:50.471Z"
   },
   {
    "duration": 7,
    "start_time": "2024-05-07T20:05:50.492Z"
   },
   {
    "duration": 12,
    "start_time": "2024-05-07T20:05:50.501Z"
   },
   {
    "duration": 53,
    "start_time": "2024-05-07T20:05:50.515Z"
   },
   {
    "duration": 16,
    "start_time": "2024-05-07T20:05:50.570Z"
   },
   {
    "duration": 19,
    "start_time": "2024-05-07T20:05:50.588Z"
   },
   {
    "duration": 3,
    "start_time": "2024-05-07T20:05:50.608Z"
   },
   {
    "duration": 6,
    "start_time": "2024-05-07T20:05:50.613Z"
   },
   {
    "duration": 12,
    "start_time": "2024-05-07T20:05:50.621Z"
   },
   {
    "duration": 29,
    "start_time": "2024-05-07T20:05:50.635Z"
   },
   {
    "duration": 17,
    "start_time": "2024-05-07T20:05:50.665Z"
   },
   {
    "duration": 36,
    "start_time": "2024-05-07T20:05:50.684Z"
   },
   {
    "duration": 8,
    "start_time": "2024-05-07T20:05:50.721Z"
   },
   {
    "duration": 32,
    "start_time": "2024-05-07T20:05:50.730Z"
   },
   {
    "duration": 5,
    "start_time": "2024-05-07T20:05:50.763Z"
   },
   {
    "duration": 3,
    "start_time": "2024-05-07T20:05:50.769Z"
   },
   {
    "duration": 5,
    "start_time": "2024-05-07T20:05:50.774Z"
   },
   {
    "duration": 2,
    "start_time": "2024-05-07T20:05:50.780Z"
   },
   {
    "duration": 6,
    "start_time": "2024-05-07T20:05:50.784Z"
   },
   {
    "duration": 5,
    "start_time": "2024-05-07T20:05:50.792Z"
   },
   {
    "duration": 8,
    "start_time": "2024-05-07T20:05:50.798Z"
   },
   {
    "duration": 51,
    "start_time": "2024-05-07T20:05:50.807Z"
   },
   {
    "duration": 24,
    "start_time": "2024-05-07T20:05:50.860Z"
   },
   {
    "duration": 3,
    "start_time": "2024-05-07T20:05:50.886Z"
   },
   {
    "duration": 29,
    "start_time": "2024-05-07T20:05:50.891Z"
   },
   {
    "duration": 15,
    "start_time": "2024-05-07T20:05:50.921Z"
   },
   {
    "duration": 27,
    "start_time": "2024-05-07T20:05:50.937Z"
   },
   {
    "duration": 4,
    "start_time": "2024-05-07T20:05:50.966Z"
   },
   {
    "duration": 40,
    "start_time": "2024-05-07T20:05:50.971Z"
   },
   {
    "duration": 7,
    "start_time": "2024-05-07T20:05:51.013Z"
   },
   {
    "duration": 23,
    "start_time": "2024-05-07T20:05:51.021Z"
   },
   {
    "duration": 4,
    "start_time": "2024-05-07T20:05:51.046Z"
   },
   {
    "duration": 7,
    "start_time": "2024-05-07T20:05:51.052Z"
   },
   {
    "duration": 3,
    "start_time": "2024-05-07T20:05:51.060Z"
   },
   {
    "duration": 4,
    "start_time": "2024-05-07T20:05:51.065Z"
   },
   {
    "duration": 9,
    "start_time": "2024-05-07T20:05:51.070Z"
   },
   {
    "duration": 5,
    "start_time": "2024-05-07T20:05:51.080Z"
   },
   {
    "duration": 304,
    "start_time": "2024-05-07T20:05:51.086Z"
   },
   {
    "duration": 7,
    "start_time": "2024-05-07T20:05:51.392Z"
   },
   {
    "duration": 5,
    "start_time": "2024-05-07T20:05:51.400Z"
   },
   {
    "duration": 6,
    "start_time": "2024-05-07T20:05:51.406Z"
   },
   {
    "duration": 219,
    "start_time": "2024-05-07T20:05:51.413Z"
   },
   {
    "duration": 2,
    "start_time": "2024-05-07T20:05:51.634Z"
   },
   {
    "duration": 7,
    "start_time": "2024-05-07T20:05:51.638Z"
   },
   {
    "duration": 22,
    "start_time": "2024-05-07T20:05:51.655Z"
   },
   {
    "duration": 2,
    "start_time": "2024-05-07T20:05:51.679Z"
   },
   {
    "duration": 202,
    "start_time": "2024-05-07T20:05:51.683Z"
   },
   {
    "duration": 7,
    "start_time": "2024-05-07T20:05:51.887Z"
   },
   {
    "duration": 6,
    "start_time": "2024-05-07T20:05:51.896Z"
   },
   {
    "duration": 21,
    "start_time": "2024-05-07T20:05:51.904Z"
   },
   {
    "duration": 31,
    "start_time": "2024-05-07T20:05:51.931Z"
   },
   {
    "duration": 5,
    "start_time": "2024-05-07T20:05:51.964Z"
   },
   {
    "duration": 14,
    "start_time": "2024-05-07T20:05:51.971Z"
   },
   {
    "duration": 162,
    "start_time": "2024-05-07T20:05:51.987Z"
   },
   {
    "duration": 9,
    "start_time": "2024-05-07T20:05:52.150Z"
   },
   {
    "duration": 149,
    "start_time": "2024-05-07T20:05:52.160Z"
   },
   {
    "duration": 153,
    "start_time": "2024-05-07T20:05:52.311Z"
   },
   {
    "duration": 147,
    "start_time": "2024-05-07T20:05:52.466Z"
   },
   {
    "duration": 151,
    "start_time": "2024-05-07T20:05:52.615Z"
   },
   {
    "duration": 150,
    "start_time": "2024-05-07T20:05:52.768Z"
   },
   {
    "duration": 202,
    "start_time": "2024-05-07T20:05:52.920Z"
   },
   {
    "duration": 7,
    "start_time": "2024-05-07T20:05:53.123Z"
   },
   {
    "duration": 9,
    "start_time": "2024-05-07T20:05:53.132Z"
   },
   {
    "duration": 38,
    "start_time": "2024-05-07T20:05:53.155Z"
   },
   {
    "duration": 3,
    "start_time": "2024-05-07T20:05:53.194Z"
   },
   {
    "duration": 205,
    "start_time": "2024-05-07T20:05:53.199Z"
   },
   {
    "duration": 8,
    "start_time": "2024-05-07T20:05:53.406Z"
   },
   {
    "duration": 5,
    "start_time": "2024-05-07T20:05:53.416Z"
   },
   {
    "duration": 12,
    "start_time": "2024-05-07T20:05:53.422Z"
   },
   {
    "duration": 21,
    "start_time": "2024-05-07T20:05:53.436Z"
   },
   {
    "duration": 169,
    "start_time": "2024-05-07T20:05:53.459Z"
   },
   {
    "duration": 3,
    "start_time": "2024-05-07T20:05:53.630Z"
   },
   {
    "duration": 225,
    "start_time": "2024-05-07T20:05:53.634Z"
   },
   {
    "duration": 5,
    "start_time": "2024-05-07T20:05:53.860Z"
   },
   {
    "duration": 4,
    "start_time": "2024-05-07T20:05:53.867Z"
   },
   {
    "duration": 174,
    "start_time": "2024-05-07T20:05:53.873Z"
   },
   {
    "duration": 28,
    "start_time": "2024-05-07T20:05:54.049Z"
   },
   {
    "duration": 21,
    "start_time": "2024-05-07T20:05:54.078Z"
   },
   {
    "duration": 31,
    "start_time": "2024-05-07T20:05:54.101Z"
   },
   {
    "duration": 43,
    "start_time": "2024-05-07T20:05:54.134Z"
   },
   {
    "duration": 19,
    "start_time": "2024-05-07T20:05:54.178Z"
   },
   {
    "duration": 2,
    "start_time": "2024-05-07T20:05:54.199Z"
   },
   {
    "duration": 150,
    "start_time": "2024-05-07T20:05:54.203Z"
   },
   {
    "duration": 12,
    "start_time": "2024-05-07T20:05:54.357Z"
   },
   {
    "duration": 2,
    "start_time": "2024-05-07T20:05:54.371Z"
   },
   {
    "duration": 18,
    "start_time": "2024-05-07T20:05:54.374Z"
   },
   {
    "duration": 148,
    "start_time": "2024-05-07T20:05:54.393Z"
   },
   {
    "duration": 5,
    "start_time": "2024-05-07T20:05:54.542Z"
   },
   {
    "duration": 8,
    "start_time": "2024-05-07T20:05:54.549Z"
   },
   {
    "duration": 644,
    "start_time": "2024-05-07T22:48:18.133Z"
   },
   {
    "duration": 15,
    "start_time": "2024-05-07T22:48:18.779Z"
   },
   {
    "duration": 168,
    "start_time": "2024-05-07T22:48:18.796Z"
   },
   {
    "duration": 2,
    "start_time": "2024-05-07T22:48:18.966Z"
   },
   {
    "duration": 29,
    "start_time": "2024-05-07T22:48:18.970Z"
   },
   {
    "duration": 7,
    "start_time": "2024-05-07T22:48:19.001Z"
   },
   {
    "duration": 13,
    "start_time": "2024-05-07T22:48:19.010Z"
   },
   {
    "duration": 36,
    "start_time": "2024-05-07T22:48:19.024Z"
   },
   {
    "duration": 25,
    "start_time": "2024-05-07T22:48:19.061Z"
   },
   {
    "duration": 38,
    "start_time": "2024-05-07T22:48:19.088Z"
   },
   {
    "duration": 54,
    "start_time": "2024-05-07T22:48:19.128Z"
   },
   {
    "duration": 9,
    "start_time": "2024-05-07T22:48:19.183Z"
   },
   {
    "duration": 30,
    "start_time": "2024-05-07T22:48:19.194Z"
   },
   {
    "duration": 25,
    "start_time": "2024-05-07T22:48:19.226Z"
   },
   {
    "duration": 17,
    "start_time": "2024-05-07T22:48:19.253Z"
   },
   {
    "duration": 5,
    "start_time": "2024-05-07T22:48:19.271Z"
   },
   {
    "duration": 22,
    "start_time": "2024-05-07T22:48:19.278Z"
   },
   {
    "duration": 24,
    "start_time": "2024-05-07T22:48:19.301Z"
   },
   {
    "duration": 24,
    "start_time": "2024-05-07T22:48:19.327Z"
   },
   {
    "duration": 73,
    "start_time": "2024-05-07T22:48:19.353Z"
   },
   {
    "duration": 17,
    "start_time": "2024-05-07T22:48:19.428Z"
   },
   {
    "duration": 54,
    "start_time": "2024-05-07T22:48:19.447Z"
   },
   {
    "duration": 57,
    "start_time": "2024-05-07T22:48:19.503Z"
   },
   {
    "duration": 34,
    "start_time": "2024-05-07T22:48:19.562Z"
   },
   {
    "duration": 41,
    "start_time": "2024-05-07T22:48:19.597Z"
   },
   {
    "duration": 34,
    "start_time": "2024-05-07T22:48:19.640Z"
   },
   {
    "duration": 22,
    "start_time": "2024-05-07T22:48:19.676Z"
   },
   {
    "duration": 20,
    "start_time": "2024-05-07T22:48:19.702Z"
   },
   {
    "duration": 30,
    "start_time": "2024-05-07T22:48:19.723Z"
   },
   {
    "duration": 34,
    "start_time": "2024-05-07T22:48:19.755Z"
   },
   {
    "duration": 6,
    "start_time": "2024-05-07T22:48:19.791Z"
   },
   {
    "duration": 33,
    "start_time": "2024-05-07T22:48:19.798Z"
   },
   {
    "duration": 8,
    "start_time": "2024-05-07T22:48:19.833Z"
   },
   {
    "duration": 44,
    "start_time": "2024-05-07T22:48:19.842Z"
   },
   {
    "duration": 73,
    "start_time": "2024-05-07T22:48:19.888Z"
   },
   {
    "duration": 24,
    "start_time": "2024-05-07T22:48:19.963Z"
   },
   {
    "duration": 39,
    "start_time": "2024-05-07T22:48:19.989Z"
   },
   {
    "duration": 53,
    "start_time": "2024-05-07T22:48:20.030Z"
   },
   {
    "duration": 54,
    "start_time": "2024-05-07T22:48:20.085Z"
   },
   {
    "duration": 38,
    "start_time": "2024-05-07T22:48:20.141Z"
   },
   {
    "duration": 89,
    "start_time": "2024-05-07T22:48:20.180Z"
   },
   {
    "duration": 56,
    "start_time": "2024-05-07T22:48:20.270Z"
   },
   {
    "duration": 38,
    "start_time": "2024-05-07T22:48:20.328Z"
   },
   {
    "duration": 7,
    "start_time": "2024-05-07T22:48:20.368Z"
   },
   {
    "duration": 36,
    "start_time": "2024-05-07T22:48:20.376Z"
   },
   {
    "duration": 5,
    "start_time": "2024-05-07T22:48:20.414Z"
   },
   {
    "duration": 11,
    "start_time": "2024-05-07T22:48:20.420Z"
   },
   {
    "duration": 14,
    "start_time": "2024-05-07T22:48:20.432Z"
   },
   {
    "duration": 23,
    "start_time": "2024-05-07T22:48:20.447Z"
   },
   {
    "duration": 27,
    "start_time": "2024-05-07T22:48:20.472Z"
   },
   {
    "duration": 93,
    "start_time": "2024-05-07T22:48:20.501Z"
   },
   {
    "duration": 62,
    "start_time": "2024-05-07T22:48:20.596Z"
   },
   {
    "duration": 17,
    "start_time": "2024-05-07T22:48:20.659Z"
   },
   {
    "duration": 24,
    "start_time": "2024-05-07T22:48:20.678Z"
   },
   {
    "duration": 4,
    "start_time": "2024-05-07T22:48:20.703Z"
   },
   {
    "duration": 30,
    "start_time": "2024-05-07T22:48:20.708Z"
   },
   {
    "duration": 15,
    "start_time": "2024-05-07T22:48:20.740Z"
   },
   {
    "duration": 16,
    "start_time": "2024-05-07T22:48:20.756Z"
   },
   {
    "duration": 12,
    "start_time": "2024-05-07T22:48:20.774Z"
   },
   {
    "duration": 32,
    "start_time": "2024-05-07T22:48:20.788Z"
   },
   {
    "duration": 51,
    "start_time": "2024-05-07T22:48:20.822Z"
   },
   {
    "duration": 40,
    "start_time": "2024-05-07T22:48:20.875Z"
   },
   {
    "duration": 6,
    "start_time": "2024-05-07T22:48:20.917Z"
   },
   {
    "duration": 11,
    "start_time": "2024-05-07T22:48:20.925Z"
   },
   {
    "duration": 10,
    "start_time": "2024-05-07T22:48:20.937Z"
   },
   {
    "duration": 7,
    "start_time": "2024-05-07T22:48:20.949Z"
   },
   {
    "duration": 11,
    "start_time": "2024-05-07T22:48:20.958Z"
   },
   {
    "duration": 16,
    "start_time": "2024-05-07T22:48:20.970Z"
   },
   {
    "duration": 275,
    "start_time": "2024-05-07T22:48:20.987Z"
   },
   {
    "duration": 6,
    "start_time": "2024-05-07T22:48:21.264Z"
   },
   {
    "duration": 11,
    "start_time": "2024-05-07T22:48:21.271Z"
   },
   {
    "duration": 15,
    "start_time": "2024-05-07T22:48:21.283Z"
   },
   {
    "duration": 230,
    "start_time": "2024-05-07T22:48:21.300Z"
   },
   {
    "duration": 2,
    "start_time": "2024-05-07T22:48:21.532Z"
   },
   {
    "duration": 9,
    "start_time": "2024-05-07T22:48:21.535Z"
   },
   {
    "duration": 26,
    "start_time": "2024-05-07T22:48:21.545Z"
   },
   {
    "duration": 3,
    "start_time": "2024-05-07T22:48:21.572Z"
   },
   {
    "duration": 190,
    "start_time": "2024-05-07T22:48:21.577Z"
   },
   {
    "duration": 6,
    "start_time": "2024-05-07T22:48:21.769Z"
   },
   {
    "duration": 18,
    "start_time": "2024-05-07T22:48:21.776Z"
   },
   {
    "duration": 21,
    "start_time": "2024-05-07T22:48:21.796Z"
   },
   {
    "duration": 8,
    "start_time": "2024-05-07T22:48:21.823Z"
   },
   {
    "duration": 12,
    "start_time": "2024-05-07T22:48:21.833Z"
   },
   {
    "duration": 5,
    "start_time": "2024-05-07T22:48:21.846Z"
   },
   {
    "duration": 183,
    "start_time": "2024-05-07T22:48:21.853Z"
   },
   {
    "duration": 4,
    "start_time": "2024-05-07T22:48:22.037Z"
   },
   {
    "duration": 159,
    "start_time": "2024-05-07T22:48:22.042Z"
   },
   {
    "duration": 164,
    "start_time": "2024-05-07T22:48:22.203Z"
   },
   {
    "duration": 175,
    "start_time": "2024-05-07T22:48:22.369Z"
   },
   {
    "duration": 157,
    "start_time": "2024-05-07T22:48:22.546Z"
   },
   {
    "duration": 159,
    "start_time": "2024-05-07T22:48:22.704Z"
   },
   {
    "duration": 212,
    "start_time": "2024-05-07T22:48:22.864Z"
   },
   {
    "duration": 17,
    "start_time": "2024-05-07T22:48:23.078Z"
   },
   {
    "duration": 9,
    "start_time": "2024-05-07T22:48:23.097Z"
   },
   {
    "duration": 38,
    "start_time": "2024-05-07T22:48:23.108Z"
   },
   {
    "duration": 2,
    "start_time": "2024-05-07T22:48:23.148Z"
   },
   {
    "duration": 183,
    "start_time": "2024-05-07T22:48:23.152Z"
   },
   {
    "duration": 9,
    "start_time": "2024-05-07T22:48:23.337Z"
   },
   {
    "duration": 11,
    "start_time": "2024-05-07T22:48:23.348Z"
   },
   {
    "duration": 23,
    "start_time": "2024-05-07T22:48:23.361Z"
   },
   {
    "duration": 8,
    "start_time": "2024-05-07T22:48:23.386Z"
   },
   {
    "duration": 178,
    "start_time": "2024-05-07T22:48:23.395Z"
   },
   {
    "duration": 2,
    "start_time": "2024-05-07T22:48:23.575Z"
   },
   {
    "duration": 220,
    "start_time": "2024-05-07T22:48:23.578Z"
   },
   {
    "duration": 5,
    "start_time": "2024-05-07T22:48:23.800Z"
   },
   {
    "duration": 21,
    "start_time": "2024-05-07T22:48:23.807Z"
   },
   {
    "duration": 182,
    "start_time": "2024-05-07T22:48:23.829Z"
   },
   {
    "duration": 22,
    "start_time": "2024-05-07T22:48:24.013Z"
   },
   {
    "duration": 43,
    "start_time": "2024-05-07T22:48:24.036Z"
   },
   {
    "duration": 34,
    "start_time": "2024-05-07T22:48:24.080Z"
   },
   {
    "duration": 35,
    "start_time": "2024-05-07T22:48:24.115Z"
   },
   {
    "duration": 21,
    "start_time": "2024-05-07T22:48:24.151Z"
   },
   {
    "duration": 34,
    "start_time": "2024-05-07T22:48:24.173Z"
   },
   {
    "duration": 166,
    "start_time": "2024-05-07T22:48:24.208Z"
   },
   {
    "duration": 18,
    "start_time": "2024-05-07T22:48:24.376Z"
   },
   {
    "duration": 14,
    "start_time": "2024-05-07T22:48:24.396Z"
   },
   {
    "duration": 20,
    "start_time": "2024-05-07T22:48:24.412Z"
   },
   {
    "duration": 175,
    "start_time": "2024-05-07T22:48:24.434Z"
   },
   {
    "duration": 7,
    "start_time": "2024-05-07T22:48:24.611Z"
   },
   {
    "duration": 84,
    "start_time": "2024-05-07T22:48:24.619Z"
   },
   {
    "duration": 1587,
    "start_time": "2024-05-07T23:00:24.228Z"
   },
   {
    "duration": 142,
    "start_time": "2024-05-07T23:00:58.593Z"
   },
   {
    "duration": 186,
    "start_time": "2024-05-07T23:01:11.834Z"
   },
   {
    "duration": 201,
    "start_time": "2024-05-07T23:01:22.558Z"
   },
   {
    "duration": 884,
    "start_time": "2024-05-08T08:02:09.143Z"
   },
   {
    "duration": 3,
    "start_time": "2024-05-08T08:02:10.029Z"
   },
   {
    "duration": 625,
    "start_time": "2024-05-08T08:02:10.033Z"
   },
   {
    "duration": 3,
    "start_time": "2024-05-08T08:02:10.660Z"
   },
   {
    "duration": 133,
    "start_time": "2024-05-08T08:02:10.664Z"
   },
   {
    "duration": 38,
    "start_time": "2024-05-08T08:02:10.799Z"
   },
   {
    "duration": 40,
    "start_time": "2024-05-08T08:02:10.838Z"
   },
   {
    "duration": 34,
    "start_time": "2024-05-08T08:02:10.880Z"
   },
   {
    "duration": 39,
    "start_time": "2024-05-08T08:02:10.916Z"
   },
   {
    "duration": 60,
    "start_time": "2024-05-08T08:02:10.958Z"
   },
   {
    "duration": 161,
    "start_time": "2024-05-08T08:02:11.020Z"
   },
   {
    "duration": 9,
    "start_time": "2024-05-08T08:02:11.183Z"
   },
   {
    "duration": 34,
    "start_time": "2024-05-08T08:02:11.194Z"
   },
   {
    "duration": 13,
    "start_time": "2024-05-08T08:02:11.229Z"
   },
   {
    "duration": 24,
    "start_time": "2024-05-08T08:02:11.244Z"
   },
   {
    "duration": 4,
    "start_time": "2024-05-08T08:02:11.270Z"
   },
   {
    "duration": 27,
    "start_time": "2024-05-08T08:02:11.276Z"
   },
   {
    "duration": 15,
    "start_time": "2024-05-08T08:02:11.305Z"
   },
   {
    "duration": 20,
    "start_time": "2024-05-08T08:02:11.322Z"
   },
   {
    "duration": 23,
    "start_time": "2024-05-08T08:02:11.344Z"
   },
   {
    "duration": 6,
    "start_time": "2024-05-08T08:02:11.369Z"
   },
   {
    "duration": 41,
    "start_time": "2024-05-08T08:02:11.378Z"
   },
   {
    "duration": 26,
    "start_time": "2024-05-08T08:02:11.421Z"
   },
   {
    "duration": 25,
    "start_time": "2024-05-08T08:02:11.448Z"
   },
   {
    "duration": 34,
    "start_time": "2024-05-08T08:02:11.475Z"
   },
   {
    "duration": 16,
    "start_time": "2024-05-08T08:02:11.511Z"
   },
   {
    "duration": 14,
    "start_time": "2024-05-08T08:02:11.528Z"
   },
   {
    "duration": 26,
    "start_time": "2024-05-08T08:02:11.545Z"
   },
   {
    "duration": 28,
    "start_time": "2024-05-08T08:02:11.573Z"
   },
   {
    "duration": 37,
    "start_time": "2024-05-08T08:02:11.603Z"
   },
   {
    "duration": 7,
    "start_time": "2024-05-08T08:02:11.641Z"
   },
   {
    "duration": 48,
    "start_time": "2024-05-08T08:02:11.649Z"
   },
   {
    "duration": 6,
    "start_time": "2024-05-08T08:02:11.699Z"
   },
   {
    "duration": 63,
    "start_time": "2024-05-08T08:02:11.707Z"
   },
   {
    "duration": 45,
    "start_time": "2024-05-08T08:02:11.772Z"
   },
   {
    "duration": 20,
    "start_time": "2024-05-08T08:02:11.819Z"
   },
   {
    "duration": 67,
    "start_time": "2024-05-08T08:02:11.840Z"
   },
   {
    "duration": 56,
    "start_time": "2024-05-08T08:02:11.908Z"
   },
   {
    "duration": 32,
    "start_time": "2024-05-08T08:02:11.966Z"
   },
   {
    "duration": 45,
    "start_time": "2024-05-08T08:02:12.000Z"
   },
   {
    "duration": 67,
    "start_time": "2024-05-08T08:02:12.046Z"
   },
   {
    "duration": 35,
    "start_time": "2024-05-08T08:02:12.114Z"
   },
   {
    "duration": 68,
    "start_time": "2024-05-08T08:02:12.150Z"
   },
   {
    "duration": 8,
    "start_time": "2024-05-08T08:02:12.220Z"
   },
   {
    "duration": 35,
    "start_time": "2024-05-08T08:02:12.229Z"
   },
   {
    "duration": 5,
    "start_time": "2024-05-08T08:02:12.266Z"
   },
   {
    "duration": 36,
    "start_time": "2024-05-08T08:02:12.273Z"
   },
   {
    "duration": 31,
    "start_time": "2024-05-08T08:02:12.311Z"
   },
   {
    "duration": 52,
    "start_time": "2024-05-08T08:02:12.344Z"
   },
   {
    "duration": 37,
    "start_time": "2024-05-08T08:02:12.398Z"
   },
   {
    "duration": 20,
    "start_time": "2024-05-08T08:02:12.437Z"
   },
   {
    "duration": 16,
    "start_time": "2024-05-08T08:02:12.458Z"
   },
   {
    "duration": 54,
    "start_time": "2024-05-08T08:02:12.476Z"
   },
   {
    "duration": 33,
    "start_time": "2024-05-08T08:02:12.532Z"
   },
   {
    "duration": 4,
    "start_time": "2024-05-08T08:02:12.566Z"
   },
   {
    "duration": 42,
    "start_time": "2024-05-08T08:02:12.572Z"
   },
   {
    "duration": 13,
    "start_time": "2024-05-08T08:02:12.615Z"
   },
   {
    "duration": 36,
    "start_time": "2024-05-08T08:02:12.629Z"
   },
   {
    "duration": 9,
    "start_time": "2024-05-08T08:02:12.669Z"
   },
   {
    "duration": 75,
    "start_time": "2024-05-08T08:02:12.680Z"
   },
   {
    "duration": 27,
    "start_time": "2024-05-08T08:02:12.756Z"
   },
   {
    "duration": 40,
    "start_time": "2024-05-08T08:02:12.785Z"
   },
   {
    "duration": 5,
    "start_time": "2024-05-08T08:02:12.827Z"
   },
   {
    "duration": 14,
    "start_time": "2024-05-08T08:02:12.834Z"
   },
   {
    "duration": 47,
    "start_time": "2024-05-08T08:02:12.850Z"
   },
   {
    "duration": 38,
    "start_time": "2024-05-08T08:02:12.899Z"
   },
   {
    "duration": 29,
    "start_time": "2024-05-08T08:02:12.938Z"
   },
   {
    "duration": 7,
    "start_time": "2024-05-08T08:02:12.969Z"
   },
   {
    "duration": 300,
    "start_time": "2024-05-08T08:02:12.978Z"
   },
   {
    "duration": 14,
    "start_time": "2024-05-08T08:02:13.280Z"
   },
   {
    "duration": 70,
    "start_time": "2024-05-08T08:02:13.296Z"
   },
   {
    "duration": 9,
    "start_time": "2024-05-08T08:02:13.367Z"
   },
   {
    "duration": 233,
    "start_time": "2024-05-08T08:02:13.377Z"
   },
   {
    "duration": 3,
    "start_time": "2024-05-08T08:02:13.611Z"
   },
   {
    "duration": 19,
    "start_time": "2024-05-08T08:02:13.615Z"
   },
   {
    "duration": 32,
    "start_time": "2024-05-08T08:02:13.635Z"
   },
   {
    "duration": 9,
    "start_time": "2024-05-08T08:02:13.668Z"
   },
   {
    "duration": 198,
    "start_time": "2024-05-08T08:02:13.678Z"
   },
   {
    "duration": 6,
    "start_time": "2024-05-08T08:02:13.878Z"
   },
   {
    "duration": 48,
    "start_time": "2024-05-08T08:02:13.885Z"
   },
   {
    "duration": 77,
    "start_time": "2024-05-08T08:02:13.935Z"
   },
   {
    "duration": 8,
    "start_time": "2024-05-08T08:02:14.018Z"
   },
   {
    "duration": 28,
    "start_time": "2024-05-08T08:02:14.028Z"
   },
   {
    "duration": 62,
    "start_time": "2024-05-08T08:02:14.058Z"
   },
   {
    "duration": 183,
    "start_time": "2024-05-08T08:02:14.121Z"
   },
   {
    "duration": 5,
    "start_time": "2024-05-08T08:02:14.306Z"
   },
   {
    "duration": 164,
    "start_time": "2024-05-08T08:02:14.312Z"
   },
   {
    "duration": 147,
    "start_time": "2024-05-08T08:02:14.478Z"
   },
   {
    "duration": 147,
    "start_time": "2024-05-08T08:02:14.627Z"
   },
   {
    "duration": 162,
    "start_time": "2024-05-08T08:02:14.775Z"
   },
   {
    "duration": 158,
    "start_time": "2024-05-08T08:02:14.938Z"
   },
   {
    "duration": 205,
    "start_time": "2024-05-08T08:02:15.098Z"
   },
   {
    "duration": 750,
    "start_time": "2024-05-08T08:02:15.305Z"
   },
   {
    "duration": 6,
    "start_time": "2024-05-08T08:02:16.057Z"
   },
   {
    "duration": 6,
    "start_time": "2024-05-08T08:02:16.065Z"
   },
   {
    "duration": 44,
    "start_time": "2024-05-08T08:02:16.073Z"
   },
   {
    "duration": 25,
    "start_time": "2024-05-08T08:02:16.119Z"
   },
   {
    "duration": 176,
    "start_time": "2024-05-08T08:02:16.145Z"
   },
   {
    "duration": 8,
    "start_time": "2024-05-08T08:02:16.323Z"
   },
   {
    "duration": 26,
    "start_time": "2024-05-08T08:02:16.333Z"
   },
   {
    "duration": 36,
    "start_time": "2024-05-08T08:02:16.361Z"
   },
   {
    "duration": 11,
    "start_time": "2024-05-08T08:02:16.398Z"
   },
   {
    "duration": 167,
    "start_time": "2024-05-08T08:02:16.411Z"
   },
   {
    "duration": 2,
    "start_time": "2024-05-08T08:02:16.580Z"
   },
   {
    "duration": 176,
    "start_time": "2024-05-08T08:02:16.584Z"
   },
   {
    "duration": 5,
    "start_time": "2024-05-08T08:02:16.762Z"
   },
   {
    "duration": 24,
    "start_time": "2024-05-08T08:02:16.768Z"
   },
   {
    "duration": 163,
    "start_time": "2024-05-08T08:02:16.793Z"
   },
   {
    "duration": 23,
    "start_time": "2024-05-08T08:02:16.958Z"
   },
   {
    "duration": 27,
    "start_time": "2024-05-08T08:02:16.994Z"
   },
   {
    "duration": 51,
    "start_time": "2024-05-08T08:02:17.022Z"
   },
   {
    "duration": 38,
    "start_time": "2024-05-08T08:02:17.075Z"
   },
   {
    "duration": 14,
    "start_time": "2024-05-08T08:02:17.115Z"
   },
   {
    "duration": 8,
    "start_time": "2024-05-08T08:02:17.130Z"
   },
   {
    "duration": 157,
    "start_time": "2024-05-08T08:02:17.139Z"
   },
   {
    "duration": 13,
    "start_time": "2024-05-08T08:02:17.297Z"
   },
   {
    "duration": 22,
    "start_time": "2024-05-08T08:02:17.312Z"
   },
   {
    "duration": 37,
    "start_time": "2024-05-08T08:02:17.336Z"
   },
   {
    "duration": 258,
    "start_time": "2024-05-08T08:02:17.374Z"
   },
   {
    "duration": 5,
    "start_time": "2024-05-08T08:02:17.634Z"
   },
   {
    "duration": 27,
    "start_time": "2024-05-08T08:02:17.640Z"
   },
   {
    "duration": 647,
    "start_time": "2024-05-09T00:30:55.325Z"
   },
   {
    "duration": 2,
    "start_time": "2024-05-09T00:30:55.974Z"
   },
   {
    "duration": 153,
    "start_time": "2024-05-09T00:30:55.978Z"
   },
   {
    "duration": 2,
    "start_time": "2024-05-09T00:30:56.133Z"
   },
   {
    "duration": 18,
    "start_time": "2024-05-09T00:30:56.137Z"
   },
   {
    "duration": 5,
    "start_time": "2024-05-09T00:30:56.156Z"
   },
   {
    "duration": 6,
    "start_time": "2024-05-09T00:30:56.162Z"
   },
   {
    "duration": 21,
    "start_time": "2024-05-09T00:30:56.170Z"
   },
   {
    "duration": 8,
    "start_time": "2024-05-09T00:30:56.193Z"
   },
   {
    "duration": 4,
    "start_time": "2024-05-09T00:30:56.204Z"
   },
   {
    "duration": 11,
    "start_time": "2024-05-09T00:30:56.483Z"
   },
   {
    "duration": 11,
    "start_time": "2024-05-09T00:30:56.495Z"
   },
   {
    "duration": 30,
    "start_time": "2024-05-09T00:30:56.507Z"
   },
   {
    "duration": 5,
    "start_time": "2024-05-09T00:30:56.545Z"
   },
   {
    "duration": 21,
    "start_time": "2024-05-09T00:30:56.551Z"
   },
   {
    "duration": 6,
    "start_time": "2024-05-09T00:30:56.573Z"
   },
   {
    "duration": 11,
    "start_time": "2024-05-09T00:30:56.580Z"
   },
   {
    "duration": 21,
    "start_time": "2024-05-09T00:30:56.592Z"
   },
   {
    "duration": 40,
    "start_time": "2024-05-09T00:30:56.615Z"
   },
   {
    "duration": 8,
    "start_time": "2024-05-09T00:30:56.656Z"
   },
   {
    "duration": 10,
    "start_time": "2024-05-09T00:30:56.667Z"
   },
   {
    "duration": 8,
    "start_time": "2024-05-09T00:30:56.678Z"
   },
   {
    "duration": 12,
    "start_time": "2024-05-09T00:30:56.688Z"
   },
   {
    "duration": 10,
    "start_time": "2024-05-09T00:30:56.701Z"
   },
   {
    "duration": 17,
    "start_time": "2024-05-09T00:30:56.712Z"
   },
   {
    "duration": 26,
    "start_time": "2024-05-09T00:30:56.730Z"
   },
   {
    "duration": 8,
    "start_time": "2024-05-09T00:30:56.757Z"
   },
   {
    "duration": 24,
    "start_time": "2024-05-09T00:30:56.766Z"
   },
   {
    "duration": 5,
    "start_time": "2024-05-09T00:30:56.791Z"
   },
   {
    "duration": 13,
    "start_time": "2024-05-09T00:30:56.797Z"
   },
   {
    "duration": 7,
    "start_time": "2024-05-09T00:30:56.812Z"
   },
   {
    "duration": 24,
    "start_time": "2024-05-09T00:30:56.821Z"
   },
   {
    "duration": 21,
    "start_time": "2024-05-09T00:30:56.846Z"
   },
   {
    "duration": 6,
    "start_time": "2024-05-09T00:30:56.868Z"
   },
   {
    "duration": 14,
    "start_time": "2024-05-09T00:30:56.875Z"
   },
   {
    "duration": 21,
    "start_time": "2024-05-09T00:30:56.890Z"
   },
   {
    "duration": 20,
    "start_time": "2024-05-09T00:30:56.912Z"
   },
   {
    "duration": 3,
    "start_time": "2024-05-09T00:30:56.934Z"
   },
   {
    "duration": 19,
    "start_time": "2024-05-09T00:30:56.938Z"
   },
   {
    "duration": 12,
    "start_time": "2024-05-09T00:30:56.958Z"
   },
   {
    "duration": 11,
    "start_time": "2024-05-09T00:30:56.972Z"
   },
   {
    "duration": 5,
    "start_time": "2024-05-09T00:30:56.985Z"
   },
   {
    "duration": 19,
    "start_time": "2024-05-09T00:30:56.991Z"
   },
   {
    "duration": 3,
    "start_time": "2024-05-09T00:30:57.012Z"
   },
   {
    "duration": 35,
    "start_time": "2024-05-09T00:30:57.017Z"
   },
   {
    "duration": 4,
    "start_time": "2024-05-09T00:30:57.053Z"
   },
   {
    "duration": 7,
    "start_time": "2024-05-09T00:30:57.058Z"
   },
   {
    "duration": 4,
    "start_time": "2024-05-09T00:30:57.066Z"
   },
   {
    "duration": 4,
    "start_time": "2024-05-09T00:30:57.071Z"
   },
   {
    "duration": 10,
    "start_time": "2024-05-09T00:30:57.076Z"
   },
   {
    "duration": 6,
    "start_time": "2024-05-09T00:30:57.087Z"
   },
   {
    "duration": 271,
    "start_time": "2024-05-09T00:30:57.094Z"
   },
   {
    "duration": 6,
    "start_time": "2024-05-09T00:30:57.366Z"
   },
   {
    "duration": 5,
    "start_time": "2024-05-09T00:30:57.373Z"
   },
   {
    "duration": 7,
    "start_time": "2024-05-09T00:30:57.379Z"
   },
   {
    "duration": 212,
    "start_time": "2024-05-09T00:30:57.388Z"
   },
   {
    "duration": 2,
    "start_time": "2024-05-09T00:30:57.602Z"
   },
   {
    "duration": 6,
    "start_time": "2024-05-09T00:30:57.605Z"
   },
   {
    "duration": 19,
    "start_time": "2024-05-09T00:30:57.612Z"
   },
   {
    "duration": 2,
    "start_time": "2024-05-09T00:30:57.645Z"
   },
   {
    "duration": 192,
    "start_time": "2024-05-09T00:30:57.648Z"
   },
   {
    "duration": 7,
    "start_time": "2024-05-09T00:30:57.841Z"
   },
   {
    "duration": 16,
    "start_time": "2024-05-09T00:30:57.849Z"
   },
   {
    "duration": 25,
    "start_time": "2024-05-09T00:30:57.866Z"
   },
   {
    "duration": 8,
    "start_time": "2024-05-09T00:30:57.896Z"
   },
   {
    "duration": 4,
    "start_time": "2024-05-09T00:30:57.905Z"
   },
   {
    "duration": 3,
    "start_time": "2024-05-09T00:30:57.910Z"
   },
   {
    "duration": 169,
    "start_time": "2024-05-09T00:30:57.914Z"
   },
   {
    "duration": 3,
    "start_time": "2024-05-09T00:30:58.084Z"
   },
   {
    "duration": 151,
    "start_time": "2024-05-09T00:30:58.088Z"
   },
   {
    "duration": 137,
    "start_time": "2024-05-09T00:30:58.241Z"
   },
   {
    "duration": 133,
    "start_time": "2024-05-09T00:30:58.379Z"
   },
   {
    "duration": 136,
    "start_time": "2024-05-09T00:30:58.514Z"
   },
   {
    "duration": 120,
    "start_time": "2024-05-09T00:30:58.651Z"
   },
   {
    "duration": 177,
    "start_time": "2024-05-09T00:30:58.773Z"
   },
   {
    "duration": 680,
    "start_time": "2024-05-09T00:30:58.951Z"
   },
   {
    "duration": 5,
    "start_time": "2024-05-09T00:30:59.632Z"
   },
   {
    "duration": 4,
    "start_time": "2024-05-09T00:30:59.645Z"
   },
   {
    "duration": 25,
    "start_time": "2024-05-09T00:30:59.651Z"
   },
   {
    "duration": 2,
    "start_time": "2024-05-09T00:30:59.678Z"
   },
   {
    "duration": 168,
    "start_time": "2024-05-09T00:30:59.682Z"
   },
   {
    "duration": 8,
    "start_time": "2024-05-09T00:30:59.851Z"
   },
   {
    "duration": 6,
    "start_time": "2024-05-09T00:30:59.860Z"
   },
   {
    "duration": 15,
    "start_time": "2024-05-09T00:30:59.867Z"
   },
   {
    "duration": 3,
    "start_time": "2024-05-09T00:30:59.883Z"
   },
   {
    "duration": 156,
    "start_time": "2024-05-09T00:30:59.887Z"
   },
   {
    "duration": 2,
    "start_time": "2024-05-09T00:31:00.045Z"
   },
   {
    "duration": 163,
    "start_time": "2024-05-09T00:31:00.049Z"
   },
   {
    "duration": 5,
    "start_time": "2024-05-09T00:31:00.213Z"
   },
   {
    "duration": 56,
    "start_time": "2024-05-09T00:31:00.219Z"
   },
   {
    "duration": 158,
    "start_time": "2024-05-09T00:31:00.277Z"
   },
   {
    "duration": 25,
    "start_time": "2024-05-09T00:31:00.436Z"
   },
   {
    "duration": 60,
    "start_time": "2024-05-09T00:31:00.463Z"
   },
   {
    "duration": 55,
    "start_time": "2024-05-09T00:31:00.525Z"
   },
   {
    "duration": 32,
    "start_time": "2024-05-09T00:31:00.581Z"
   },
   {
    "duration": 62,
    "start_time": "2024-05-09T00:31:00.614Z"
   },
   {
    "duration": 37,
    "start_time": "2024-05-09T00:31:00.678Z"
   },
   {
    "duration": 174,
    "start_time": "2024-05-09T00:31:00.716Z"
   },
   {
    "duration": 15,
    "start_time": "2024-05-09T00:31:00.891Z"
   },
   {
    "duration": 57,
    "start_time": "2024-05-09T00:31:00.907Z"
   },
   {
    "duration": 156,
    "start_time": "2024-05-09T00:31:00.965Z"
   },
   {
    "duration": 285,
    "start_time": "2024-05-09T00:31:01.123Z"
   },
   {
    "duration": 6,
    "start_time": "2024-05-09T00:31:01.410Z"
   },
   {
    "duration": 110,
    "start_time": "2024-05-09T00:31:01.417Z"
   },
   {
    "duration": 588,
    "start_time": "2024-05-09T00:31:17.607Z"
   },
   {
    "duration": 3,
    "start_time": "2024-05-09T00:31:18.197Z"
   },
   {
    "duration": 164,
    "start_time": "2024-05-09T00:31:18.201Z"
   },
   {
    "duration": 3,
    "start_time": "2024-05-09T00:31:18.367Z"
   },
   {
    "duration": 16,
    "start_time": "2024-05-09T00:31:18.371Z"
   },
   {
    "duration": 6,
    "start_time": "2024-05-09T00:31:18.389Z"
   },
   {
    "duration": 3,
    "start_time": "2024-05-09T00:31:18.396Z"
   },
   {
    "duration": 18,
    "start_time": "2024-05-09T00:31:18.400Z"
   },
   {
    "duration": 8,
    "start_time": "2024-05-09T00:31:18.420Z"
   },
   {
    "duration": 5,
    "start_time": "2024-05-09T00:31:18.444Z"
   },
   {
    "duration": 26,
    "start_time": "2024-05-09T00:31:18.451Z"
   },
   {
    "duration": 4,
    "start_time": "2024-05-09T00:31:18.479Z"
   },
   {
    "duration": 13,
    "start_time": "2024-05-09T00:31:18.485Z"
   },
   {
    "duration": 11,
    "start_time": "2024-05-09T00:31:18.500Z"
   },
   {
    "duration": 37,
    "start_time": "2024-05-09T00:31:18.513Z"
   },
   {
    "duration": 4,
    "start_time": "2024-05-09T00:31:18.551Z"
   },
   {
    "duration": 17,
    "start_time": "2024-05-09T00:31:18.557Z"
   },
   {
    "duration": 5,
    "start_time": "2024-05-09T00:31:18.575Z"
   },
   {
    "duration": 23,
    "start_time": "2024-05-09T00:31:18.581Z"
   },
   {
    "duration": 11,
    "start_time": "2024-05-09T00:31:18.606Z"
   },
   {
    "duration": 4,
    "start_time": "2024-05-09T00:31:18.619Z"
   },
   {
    "duration": 24,
    "start_time": "2024-05-09T00:31:18.624Z"
   },
   {
    "duration": 4,
    "start_time": "2024-05-09T00:31:18.650Z"
   },
   {
    "duration": 4,
    "start_time": "2024-05-09T00:31:18.655Z"
   },
   {
    "duration": 21,
    "start_time": "2024-05-09T00:31:18.661Z"
   },
   {
    "duration": 5,
    "start_time": "2024-05-09T00:31:18.683Z"
   },
   {
    "duration": 9,
    "start_time": "2024-05-09T00:31:18.689Z"
   },
   {
    "duration": 6,
    "start_time": "2024-05-09T00:31:18.703Z"
   },
   {
    "duration": 35,
    "start_time": "2024-05-09T00:31:18.711Z"
   },
   {
    "duration": 23,
    "start_time": "2024-05-09T00:31:18.747Z"
   },
   {
    "duration": 5,
    "start_time": "2024-05-09T00:31:18.772Z"
   },
   {
    "duration": 16,
    "start_time": "2024-05-09T00:31:18.778Z"
   },
   {
    "duration": 6,
    "start_time": "2024-05-09T00:31:18.795Z"
   },
   {
    "duration": 6,
    "start_time": "2024-05-09T00:31:18.802Z"
   },
   {
    "duration": 55,
    "start_time": "2024-05-09T00:31:18.809Z"
   },
   {
    "duration": 14,
    "start_time": "2024-05-09T00:31:18.865Z"
   },
   {
    "duration": 7,
    "start_time": "2024-05-09T00:31:18.880Z"
   },
   {
    "duration": 5,
    "start_time": "2024-05-09T00:31:18.888Z"
   },
   {
    "duration": 6,
    "start_time": "2024-05-09T00:31:18.894Z"
   },
   {
    "duration": 13,
    "start_time": "2024-05-09T00:31:18.902Z"
   },
   {
    "duration": 31,
    "start_time": "2024-05-09T00:31:18.916Z"
   },
   {
    "duration": 12,
    "start_time": "2024-05-09T00:31:18.948Z"
   },
   {
    "duration": 14,
    "start_time": "2024-05-09T00:31:18.961Z"
   },
   {
    "duration": 6,
    "start_time": "2024-05-09T00:31:18.976Z"
   },
   {
    "duration": 22,
    "start_time": "2024-05-09T00:31:18.984Z"
   },
   {
    "duration": 4,
    "start_time": "2024-05-09T00:31:19.008Z"
   },
   {
    "duration": 2,
    "start_time": "2024-05-09T00:31:19.045Z"
   },
   {
    "duration": 7,
    "start_time": "2024-05-09T00:31:19.048Z"
   },
   {
    "duration": 7,
    "start_time": "2024-05-09T00:31:19.057Z"
   },
   {
    "duration": 17,
    "start_time": "2024-05-09T00:31:19.065Z"
   },
   {
    "duration": 32,
    "start_time": "2024-05-09T00:31:19.083Z"
   },
   {
    "duration": 7,
    "start_time": "2024-05-09T00:31:19.117Z"
   },
   {
    "duration": 6,
    "start_time": "2024-05-09T00:31:19.125Z"
   },
   {
    "duration": 21,
    "start_time": "2024-05-09T00:31:19.132Z"
   },
   {
    "duration": 3,
    "start_time": "2024-05-09T00:31:19.154Z"
   },
   {
    "duration": 14,
    "start_time": "2024-05-09T00:31:19.159Z"
   },
   {
    "duration": 14,
    "start_time": "2024-05-09T00:31:19.174Z"
   },
   {
    "duration": 11,
    "start_time": "2024-05-09T00:31:19.189Z"
   },
   {
    "duration": 4,
    "start_time": "2024-05-09T00:31:19.201Z"
   },
   {
    "duration": 19,
    "start_time": "2024-05-09T00:31:19.207Z"
   },
   {
    "duration": 20,
    "start_time": "2024-05-09T00:31:19.227Z"
   },
   {
    "duration": 18,
    "start_time": "2024-05-09T00:31:19.249Z"
   },
   {
    "duration": 5,
    "start_time": "2024-05-09T00:31:19.268Z"
   },
   {
    "duration": 3,
    "start_time": "2024-05-09T00:31:19.274Z"
   },
   {
    "duration": 3,
    "start_time": "2024-05-09T00:31:19.279Z"
   },
   {
    "duration": 12,
    "start_time": "2024-05-09T00:31:19.283Z"
   },
   {
    "duration": 15,
    "start_time": "2024-05-09T00:31:19.297Z"
   },
   {
    "duration": 15,
    "start_time": "2024-05-09T00:31:19.314Z"
   },
   {
    "duration": 244,
    "start_time": "2024-05-09T00:31:19.330Z"
   },
   {
    "duration": 6,
    "start_time": "2024-05-09T00:31:19.575Z"
   },
   {
    "duration": 5,
    "start_time": "2024-05-09T00:31:19.582Z"
   },
   {
    "duration": 12,
    "start_time": "2024-05-09T00:31:19.588Z"
   },
   {
    "duration": 200,
    "start_time": "2024-05-09T00:31:19.601Z"
   },
   {
    "duration": 2,
    "start_time": "2024-05-09T00:31:19.803Z"
   },
   {
    "duration": 5,
    "start_time": "2024-05-09T00:31:19.806Z"
   },
   {
    "duration": 21,
    "start_time": "2024-05-09T00:31:19.812Z"
   },
   {
    "duration": 2,
    "start_time": "2024-05-09T00:31:19.845Z"
   },
   {
    "duration": 168,
    "start_time": "2024-05-09T00:31:19.849Z"
   },
   {
    "duration": 6,
    "start_time": "2024-05-09T00:31:20.018Z"
   },
   {
    "duration": 21,
    "start_time": "2024-05-09T00:31:20.025Z"
   },
   {
    "duration": 28,
    "start_time": "2024-05-09T00:31:20.047Z"
   },
   {
    "duration": 7,
    "start_time": "2024-05-09T00:31:20.081Z"
   },
   {
    "duration": 6,
    "start_time": "2024-05-09T00:31:20.089Z"
   },
   {
    "duration": 6,
    "start_time": "2024-05-09T00:31:20.096Z"
   },
   {
    "duration": 149,
    "start_time": "2024-05-09T00:31:20.103Z"
   },
   {
    "duration": 3,
    "start_time": "2024-05-09T00:31:20.254Z"
   },
   {
    "duration": 130,
    "start_time": "2024-05-09T00:31:20.258Z"
   },
   {
    "duration": 140,
    "start_time": "2024-05-09T00:31:20.389Z"
   },
   {
    "duration": 131,
    "start_time": "2024-05-09T00:31:20.530Z"
   },
   {
    "duration": 144,
    "start_time": "2024-05-09T00:31:20.663Z"
   },
   {
    "duration": 140,
    "start_time": "2024-05-09T00:31:20.808Z"
   },
   {
    "duration": 185,
    "start_time": "2024-05-09T00:31:20.950Z"
   },
   {
    "duration": 688,
    "start_time": "2024-05-09T00:31:21.136Z"
   },
   {
    "duration": 5,
    "start_time": "2024-05-09T00:31:21.826Z"
   },
   {
    "duration": 15,
    "start_time": "2024-05-09T00:31:21.832Z"
   },
   {
    "duration": 45,
    "start_time": "2024-05-09T00:31:21.848Z"
   },
   {
    "duration": 2,
    "start_time": "2024-05-09T00:31:21.894Z"
   },
   {
    "duration": 149,
    "start_time": "2024-05-09T00:31:21.898Z"
   },
   {
    "duration": 7,
    "start_time": "2024-05-09T00:31:22.049Z"
   },
   {
    "duration": 8,
    "start_time": "2024-05-09T00:31:22.057Z"
   },
   {
    "duration": 22,
    "start_time": "2024-05-09T00:31:22.066Z"
   },
   {
    "duration": 6,
    "start_time": "2024-05-09T00:31:22.090Z"
   },
   {
    "duration": 147,
    "start_time": "2024-05-09T00:31:22.097Z"
   },
   {
    "duration": 3,
    "start_time": "2024-05-09T00:31:22.245Z"
   },
   {
    "duration": 138,
    "start_time": "2024-05-09T00:31:22.249Z"
   },
   {
    "duration": 5,
    "start_time": "2024-05-09T00:31:22.388Z"
   },
   {
    "duration": 8,
    "start_time": "2024-05-09T00:31:22.394Z"
   },
   {
    "duration": 160,
    "start_time": "2024-05-09T00:31:22.404Z"
   },
   {
    "duration": 27,
    "start_time": "2024-05-09T00:31:22.566Z"
   },
   {
    "duration": 25,
    "start_time": "2024-05-09T00:31:22.594Z"
   },
   {
    "duration": 39,
    "start_time": "2024-05-09T00:31:22.621Z"
   },
   {
    "duration": 33,
    "start_time": "2024-05-09T00:31:22.662Z"
   },
   {
    "duration": 9,
    "start_time": "2024-05-09T00:31:22.697Z"
   },
   {
    "duration": 2,
    "start_time": "2024-05-09T00:31:22.708Z"
   },
   {
    "duration": 138,
    "start_time": "2024-05-09T00:31:22.712Z"
   },
   {
    "duration": 11,
    "start_time": "2024-05-09T00:31:22.851Z"
   },
   {
    "duration": 2,
    "start_time": "2024-05-09T00:31:22.864Z"
   },
   {
    "duration": 3,
    "start_time": "2024-05-09T00:31:22.867Z"
   },
   {
    "duration": 214,
    "start_time": "2024-05-09T00:31:22.871Z"
   },
   {
    "duration": 4,
    "start_time": "2024-05-09T00:31:23.087Z"
   },
   {
    "duration": 9,
    "start_time": "2024-05-09T00:31:23.093Z"
   }
  ],
  "kernelspec": {
   "display_name": "Python 3 (ipykernel)",
   "language": "python",
   "name": "python3"
  },
  "language_info": {
   "codemirror_mode": {
    "name": "ipython",
    "version": 3
   },
   "file_extension": ".py",
   "mimetype": "text/x-python",
   "name": "python",
   "nbconvert_exporter": "python",
   "pygments_lexer": "ipython3",
   "version": "3.11.8"
  },
  "toc": {
   "base_numbering": 1,
   "nav_menu": {
    "height": "131px",
    "width": "399px"
   },
   "number_sections": true,
   "sideBar": true,
   "skip_h1_title": true,
   "title_cell": "Содержание",
   "title_sidebar": "Contents",
   "toc_cell": true,
   "toc_position": {
    "height": "calc(100% - 180px)",
    "left": "10px",
    "top": "150px",
    "width": "192px"
   },
   "toc_section_display": true,
   "toc_window_display": true
  }
 },
 "nbformat": 4,
 "nbformat_minor": 5
}
