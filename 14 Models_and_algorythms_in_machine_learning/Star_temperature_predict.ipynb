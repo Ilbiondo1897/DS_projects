{
 "cells": [
  {
   "cell_type": "markdown",
   "metadata": {
    "toc": true
   },
   "source": [
    "<h1>Содержание<span class=\"tocSkip\"></span></h1>\n",
    "<div class=\"toc\"><ul class=\"toc-item\"><li><span><a href=\"#Загрузка-данных\" data-toc-modified-id=\"Загрузка-данных-1\"><span class=\"toc-item-num\">1&nbsp;&nbsp;</span>Загрузка данных</a></span></li><li><span><a href=\"#Предобработка-данных\" data-toc-modified-id=\"Предобработка-данных-2\"><span class=\"toc-item-num\">2&nbsp;&nbsp;</span>Предобработка данных</a></span></li><li><span><a href=\"#Исследовательский-анализ-данных\" data-toc-modified-id=\"Исследовательский-анализ-данных-3\"><span class=\"toc-item-num\">3&nbsp;&nbsp;</span>Исследовательский анализ данных</a></span></li><li><span><a href=\"#Корреляционный-анализ-данных\" data-toc-modified-id=\"Корреляционный-анализ-данных-4\"><span class=\"toc-item-num\">4&nbsp;&nbsp;</span>Корреляционный анализ данных</a></span></li><li><span><a href=\"#Создание-новых-признаков\" data-toc-modified-id=\"Создание-новых-признаков-5\"><span class=\"toc-item-num\">5&nbsp;&nbsp;</span>Создание новых признаков</a></span></li><li><span><a href=\"#Подготовка-данных-к-построению-модели\" data-toc-modified-id=\"Подготовка-данных-к-построению-модели-6\"><span class=\"toc-item-num\">6&nbsp;&nbsp;</span>Подготовка данных к построению модели</a></span></li><li><span><a href=\"#Построение-простой-модели-нейронной-сети---baseline\" data-toc-modified-id=\"Построение-простой-модели-нейронной-сети---baseline-7\"><span class=\"toc-item-num\">7&nbsp;&nbsp;</span>Построение простой модели нейронной сети - baseline</a></span></li><li><span><a href=\"#Улучшение-нейросети\" data-toc-modified-id=\"Улучшение-нейросети-8\"><span class=\"toc-item-num\">8&nbsp;&nbsp;</span>Улучшение нейросети</a></span></li><li><span><a href=\"#Отчёт-по-исследованию\" data-toc-modified-id=\"Отчёт-по-исследованию-9\"><span class=\"toc-item-num\">9&nbsp;&nbsp;</span>Отчёт по исследованию</a></span></li></ul></div>"
   ]
  },
  {
   "cell_type": "markdown",
   "metadata": {
    "id": "uarUjXhdzLBI"
   },
   "source": [
    "# Проект: Прогнозирование температуры звезды"
   ]
  },
  {
   "cell_type": "markdown",
   "metadata": {
    "id": "TDdqm3N7zU-1"
   },
   "source": [
    "Описание проекта: обсерватория \"Небо на ладони\" поставила задачу разработать нейронную сеть, которая поможет предсказывать абсолютную температуру на поверхности звезды.\n",
    "\n",
    "Обычно для расчёта температуры учёные пользуются следующими методами:\n",
    "- закон смещения Вина;\n",
    "- закон Стефана-Больцмана;\n",
    "- спектральный анализ.\n",
    "Каждый из них имеет плюсы и минусы. Обсерватория хочет внедрить технологии машинного обучения для предсказания температуры звёзд, надеясь, что этот метод будет наиболее точным и удобным.\n",
    "\n",
    "Характеристики звёзд.\n",
    "- `относительная светимость L/Lo` — светимость звезды относительно Солнца;\n",
    "- `относительный радиус R/Ro` — радиус звезды относительно радиуса Солнца;\n",
    "- `абсолютная звёздная величина Mv` — физическая величина, характеризующая блеск звезды;\n",
    "- `звёздный цвет (white, red, blue, yellow, yellow-orange и др.)` — цвет звезды, который определяют на основе спектрального анализа;\n",
    "- `тип звезды и соответствующий ему номер`:\n",
    "  - Коричневый карлик,\t0\n",
    "  - Красный карлик,\t1\n",
    "  - Белый карлик,\t2\n",
    "  - Звёзды главной последовательности,\t3\n",
    "  - Сверхгигант,\t4\n",
    "  - Гипергигант,\t5;\n",
    "- `абсолютная температура T(K)` — температура на поверхности звезды в Кельвинах <b>(целевой признак)</b>.\n",
    "\n",
    "Справочная информация:\n",
    "Светимость Солнца: Lo = 3.828⋅10е26 Вт\n",
    "Радиус Солнца: Ro = 6.9551⋅10е8 м"
   ]
  },
  {
   "cell_type": "markdown",
   "metadata": {
    "id": "dnvcEomN2mhd"
   },
   "source": [
    "## Загрузка данных"
   ]
  },
  {
   "cell_type": "markdown",
   "metadata": {
    "id": "_MKqDlRV2vPw"
   },
   "source": [
    "Загрузим необходимые библиотеки:"
   ]
  },
  {
   "cell_type": "code",
   "execution_count": 1,
   "metadata": {
    "colab": {
     "base_uri": "https://localhost:8080/"
    },
    "id": "0NnJparVxy3h",
    "outputId": "0718ac88-42e1-4693-cf63-b2810de9bb82"
   },
   "outputs": [
    {
     "name": "stdout",
     "output_type": "stream",
     "text": [
      "Requirement already satisfied: phik in /opt/conda/lib/python3.9/site-packages (0.12.4)\n",
      "Requirement already satisfied: joblib>=0.14.1 in /opt/conda/lib/python3.9/site-packages (from phik) (1.4.2)\n",
      "Requirement already satisfied: matplotlib>=2.2.3 in /opt/conda/lib/python3.9/site-packages (from phik) (3.3.4)\n",
      "Requirement already satisfied: scipy>=1.5.2 in /opt/conda/lib/python3.9/site-packages (from phik) (1.9.1)\n",
      "Requirement already satisfied: pandas>=0.25.1 in /opt/conda/lib/python3.9/site-packages (from phik) (1.2.4)\n",
      "Requirement already satisfied: numpy>=1.18.0 in /opt/conda/lib/python3.9/site-packages (from phik) (1.21.1)\n",
      "Requirement already satisfied: cycler>=0.10 in /opt/conda/lib/python3.9/site-packages (from matplotlib>=2.2.3->phik) (0.11.0)\n",
      "Requirement already satisfied: pyparsing!=2.0.4,!=2.1.2,!=2.1.6,>=2.0.3 in /opt/conda/lib/python3.9/site-packages (from matplotlib>=2.2.3->phik) (2.4.7)\n",
      "Requirement already satisfied: python-dateutil>=2.1 in /opt/conda/lib/python3.9/site-packages (from matplotlib>=2.2.3->phik) (2.8.1)\n",
      "Requirement already satisfied: kiwisolver>=1.0.1 in /opt/conda/lib/python3.9/site-packages (from matplotlib>=2.2.3->phik) (1.4.4)\n",
      "Requirement already satisfied: pillow>=6.2.0 in /opt/conda/lib/python3.9/site-packages (from matplotlib>=2.2.3->phik) (8.4.0)\n",
      "Requirement already satisfied: pytz>=2017.3 in /opt/conda/lib/python3.9/site-packages (from pandas>=0.25.1->phik) (2021.1)\n",
      "Requirement already satisfied: six>=1.5 in /opt/conda/lib/python3.9/site-packages (from python-dateutil>=2.1->matplotlib>=2.2.3->phik) (1.16.0)\n",
      "Note: you may need to restart the kernel to use updated packages.\n"
     ]
    }
   ],
   "source": [
    "pip install phik"
   ]
  },
  {
   "cell_type": "code",
   "execution_count": 2,
   "metadata": {
    "id": "HlldXuza8BeP"
   },
   "outputs": [
    {
     "name": "stdout",
     "output_type": "stream",
     "text": [
      "Requirement already satisfied: scikit-learn in /opt/conda/lib/python3.9/site-packages (1.6.1)\n",
      "Requirement already satisfied: numpy>=1.19.5 in /opt/conda/lib/python3.9/site-packages (from scikit-learn) (1.21.1)\n",
      "Requirement already satisfied: threadpoolctl>=3.1.0 in /opt/conda/lib/python3.9/site-packages (from scikit-learn) (3.1.0)\n",
      "Requirement already satisfied: scipy>=1.6.0 in /opt/conda/lib/python3.9/site-packages (from scikit-learn) (1.9.1)\n",
      "Requirement already satisfied: joblib>=1.2.0 in /opt/conda/lib/python3.9/site-packages (from scikit-learn) (1.4.2)\n"
     ]
    }
   ],
   "source": [
    "# для Jupyter Notebook:\n",
    "#! pip install matplotlib==3.7.1 -q\n",
    "#! pip install -U scikit-learn -q\n",
    "!pip install --upgrade scikit-learn"
   ]
  },
  {
   "cell_type": "code",
   "execution_count": 3,
   "metadata": {
    "id": "BvsJHMFPzRZS"
   },
   "outputs": [],
   "source": [
    "import pandas as pd\n",
    "import numpy as np\n",
    "import phik\n",
    "import matplotlib.pyplot as plt\n",
    "import seaborn as sns\n",
    "import torch\n",
    "import torch.nn as nn\n",
    "# для Jupyter Notebook:\n",
    "import os\n",
    "import warnings\n",
    "warnings.filterwarnings('ignore')\n",
    "\n",
    "import sklearn\n",
    "from sklearn.model_selection import train_test_split\n",
    "from sklearn.compose import ColumnTransformer\n",
    "from sklearn.preprocessing import OneHotEncoder, StandardScaler"
   ]
  },
  {
   "cell_type": "code",
   "execution_count": 4,
   "metadata": {
    "id": "uJeDmD9s4xZI"
   },
   "outputs": [],
   "source": [
    "RANDOM_STATE = 1897\n",
    "TEST_SIZE = 0.25"
   ]
  },
  {
   "cell_type": "code",
   "execution_count": 5,
   "metadata": {
    "id": "RWP9oCX67YLB"
   },
   "outputs": [],
   "source": [
    "# для Jupyter Notebook:\n",
    "path_1 = '6_class.csv'\n",
    "path_2 = '/datasets/6_class.csv'\n",
    "\n",
    "if os.path.exists(path_1):\n",
    "    stars = pd.read_csv(path_1)\n",
    "elif os.path.exists(path_2):\n",
    "    stars = pd.read_csv(path_2)\n",
    "else:\n",
    "    print('Something is wrong!')"
   ]
  },
  {
   "cell_type": "code",
   "execution_count": 6,
   "metadata": {
    "id": "hCBzNBJX5J8U"
   },
   "outputs": [],
   "source": [
    "# Для Google Colab\n",
    "# загрузка файла данных из GD:\n",
    "#! gdown 1HMTNHWm4_Ol8bM3EY2NvW-64bmCldOwr -q"
   ]
  },
  {
   "cell_type": "code",
   "execution_count": 7,
   "metadata": {
    "id": "s_8MJOT65YRW"
   },
   "outputs": [],
   "source": [
    "# Для Google Colab\n",
    "#stars = pd.read_csv('/content/6_class.csv')"
   ]
  },
  {
   "cell_type": "markdown",
   "metadata": {
    "id": "pBZw1wb-5xJd"
   },
   "source": [
    "Проверим, что данные загрузились корректно:"
   ]
  },
  {
   "cell_type": "code",
   "execution_count": 8,
   "metadata": {
    "id": "6KMvO5Fx5uO8"
   },
   "outputs": [],
   "source": [
    "# настройка для вывода всех столбцов в датасете:\n",
    "pd.set_option('display.max_columns', None)"
   ]
  },
  {
   "cell_type": "code",
   "execution_count": 9,
   "metadata": {
    "id": "MkmNGzEe6Dby"
   },
   "outputs": [],
   "source": [
    "# функция для получения информации о датасете\n",
    "def get_info(dataset):\n",
    "    print('Первые пять строк датасета:')\n",
    "    display(dataset.head())\n",
    "    print('Общая информация:')\n",
    "    dataset.info()"
   ]
  },
  {
   "cell_type": "code",
   "execution_count": 10,
   "metadata": {
    "colab": {
     "base_uri": "https://localhost:8080/",
     "height": 509
    },
    "id": "7Xe6wnYf6Hwe",
    "outputId": "9327df1b-9ed8-4e43-9f92-7a77eac8ddcc"
   },
   "outputs": [
    {
     "name": "stdout",
     "output_type": "stream",
     "text": [
      "Первые пять строк датасета:\n"
     ]
    },
    {
     "data": {
      "text/html": [
       "<div>\n",
       "<style scoped>\n",
       "    .dataframe tbody tr th:only-of-type {\n",
       "        vertical-align: middle;\n",
       "    }\n",
       "\n",
       "    .dataframe tbody tr th {\n",
       "        vertical-align: top;\n",
       "    }\n",
       "\n",
       "    .dataframe thead th {\n",
       "        text-align: right;\n",
       "    }\n",
       "</style>\n",
       "<table border=\"1\" class=\"dataframe\">\n",
       "  <thead>\n",
       "    <tr style=\"text-align: right;\">\n",
       "      <th></th>\n",
       "      <th>Unnamed: 0</th>\n",
       "      <th>Temperature (K)</th>\n",
       "      <th>Luminosity(L/Lo)</th>\n",
       "      <th>Radius(R/Ro)</th>\n",
       "      <th>Absolute magnitude(Mv)</th>\n",
       "      <th>Star type</th>\n",
       "      <th>Star color</th>\n",
       "    </tr>\n",
       "  </thead>\n",
       "  <tbody>\n",
       "    <tr>\n",
       "      <th>0</th>\n",
       "      <td>0</td>\n",
       "      <td>3068</td>\n",
       "      <td>0.002400</td>\n",
       "      <td>0.1700</td>\n",
       "      <td>16.12</td>\n",
       "      <td>0</td>\n",
       "      <td>Red</td>\n",
       "    </tr>\n",
       "    <tr>\n",
       "      <th>1</th>\n",
       "      <td>1</td>\n",
       "      <td>3042</td>\n",
       "      <td>0.000500</td>\n",
       "      <td>0.1542</td>\n",
       "      <td>16.60</td>\n",
       "      <td>0</td>\n",
       "      <td>Red</td>\n",
       "    </tr>\n",
       "    <tr>\n",
       "      <th>2</th>\n",
       "      <td>2</td>\n",
       "      <td>2600</td>\n",
       "      <td>0.000300</td>\n",
       "      <td>0.1020</td>\n",
       "      <td>18.70</td>\n",
       "      <td>0</td>\n",
       "      <td>Red</td>\n",
       "    </tr>\n",
       "    <tr>\n",
       "      <th>3</th>\n",
       "      <td>3</td>\n",
       "      <td>2800</td>\n",
       "      <td>0.000200</td>\n",
       "      <td>0.1600</td>\n",
       "      <td>16.65</td>\n",
       "      <td>0</td>\n",
       "      <td>Red</td>\n",
       "    </tr>\n",
       "    <tr>\n",
       "      <th>4</th>\n",
       "      <td>4</td>\n",
       "      <td>1939</td>\n",
       "      <td>0.000138</td>\n",
       "      <td>0.1030</td>\n",
       "      <td>20.06</td>\n",
       "      <td>0</td>\n",
       "      <td>Red</td>\n",
       "    </tr>\n",
       "  </tbody>\n",
       "</table>\n",
       "</div>"
      ],
      "text/plain": [
       "   Unnamed: 0  Temperature (K)  Luminosity(L/Lo)  Radius(R/Ro)  \\\n",
       "0           0             3068          0.002400        0.1700   \n",
       "1           1             3042          0.000500        0.1542   \n",
       "2           2             2600          0.000300        0.1020   \n",
       "3           3             2800          0.000200        0.1600   \n",
       "4           4             1939          0.000138        0.1030   \n",
       "\n",
       "   Absolute magnitude(Mv)  Star type Star color  \n",
       "0                   16.12          0        Red  \n",
       "1                   16.60          0        Red  \n",
       "2                   18.70          0        Red  \n",
       "3                   16.65          0        Red  \n",
       "4                   20.06          0        Red  "
      ]
     },
     "metadata": {},
     "output_type": "display_data"
    },
    {
     "name": "stdout",
     "output_type": "stream",
     "text": [
      "Общая информация:\n",
      "<class 'pandas.core.frame.DataFrame'>\n",
      "RangeIndex: 240 entries, 0 to 239\n",
      "Data columns (total 7 columns):\n",
      " #   Column                  Non-Null Count  Dtype  \n",
      "---  ------                  --------------  -----  \n",
      " 0   Unnamed: 0              240 non-null    int64  \n",
      " 1   Temperature (K)         240 non-null    int64  \n",
      " 2   Luminosity(L/Lo)        240 non-null    float64\n",
      " 3   Radius(R/Ro)            240 non-null    float64\n",
      " 4   Absolute magnitude(Mv)  240 non-null    float64\n",
      " 5   Star type               240 non-null    int64  \n",
      " 6   Star color              240 non-null    object \n",
      "dtypes: float64(3), int64(3), object(1)\n",
      "memory usage: 13.2+ KB\n"
     ]
    }
   ],
   "source": [
    "get_info(stars)"
   ]
  },
  {
   "cell_type": "markdown",
   "metadata": {
    "id": "m9FM2_fh7HVE"
   },
   "source": [
    "Столбец `Unnamed` не несёт в себе никакой информации, лишь повторяя индексацию. Удалим его сразу, чтобы не путаться в дальнейшем:"
   ]
  },
  {
   "cell_type": "code",
   "execution_count": 11,
   "metadata": {
    "id": "zqiiD_cy7FsW"
   },
   "outputs": [],
   "source": [
    "stars = stars.drop('Unnamed: 0', axis=1)"
   ]
  },
  {
   "cell_type": "markdown",
   "metadata": {
    "id": "BLyCnKOw7y_y"
   },
   "source": [
    "Приведём к единому виду названия столбцов (snake_case, строчные буквы):"
   ]
  },
  {
   "cell_type": "code",
   "execution_count": 12,
   "metadata": {
    "id": "TqJhXK3V6K6K"
   },
   "outputs": [],
   "source": [
    "stars = stars.rename(columns={\n",
    "  'Temperature (K)': 'temperature, K',\n",
    "  'Luminosity(L/Lo)': 'luminosity, L/Lo',\n",
    "  'Radius(R/Ro)': 'radius, R/Ro',\n",
    "  'Absolute magnitude(Mv)': 'absolute_magnitude, Mv',\n",
    "  'Star type': 'star_type',\n",
    "  'Star color': 'star_color'\n",
    "})"
   ]
  },
  {
   "cell_type": "code",
   "execution_count": 13,
   "metadata": {
    "colab": {
     "base_uri": "https://localhost:8080/",
     "height": 474
    },
    "id": "RQ36SQDM8yff",
    "outputId": "9ed14a81-740a-4177-faaf-3c1d517bf1f8"
   },
   "outputs": [
    {
     "name": "stdout",
     "output_type": "stream",
     "text": [
      "Первые пять строк датасета:\n"
     ]
    },
    {
     "data": {
      "text/html": [
       "<div>\n",
       "<style scoped>\n",
       "    .dataframe tbody tr th:only-of-type {\n",
       "        vertical-align: middle;\n",
       "    }\n",
       "\n",
       "    .dataframe tbody tr th {\n",
       "        vertical-align: top;\n",
       "    }\n",
       "\n",
       "    .dataframe thead th {\n",
       "        text-align: right;\n",
       "    }\n",
       "</style>\n",
       "<table border=\"1\" class=\"dataframe\">\n",
       "  <thead>\n",
       "    <tr style=\"text-align: right;\">\n",
       "      <th></th>\n",
       "      <th>temperature, K</th>\n",
       "      <th>luminosity, L/Lo</th>\n",
       "      <th>radius, R/Ro</th>\n",
       "      <th>absolute_magnitude, Mv</th>\n",
       "      <th>star_type</th>\n",
       "      <th>star_color</th>\n",
       "    </tr>\n",
       "  </thead>\n",
       "  <tbody>\n",
       "    <tr>\n",
       "      <th>0</th>\n",
       "      <td>3068</td>\n",
       "      <td>0.002400</td>\n",
       "      <td>0.1700</td>\n",
       "      <td>16.12</td>\n",
       "      <td>0</td>\n",
       "      <td>Red</td>\n",
       "    </tr>\n",
       "    <tr>\n",
       "      <th>1</th>\n",
       "      <td>3042</td>\n",
       "      <td>0.000500</td>\n",
       "      <td>0.1542</td>\n",
       "      <td>16.60</td>\n",
       "      <td>0</td>\n",
       "      <td>Red</td>\n",
       "    </tr>\n",
       "    <tr>\n",
       "      <th>2</th>\n",
       "      <td>2600</td>\n",
       "      <td>0.000300</td>\n",
       "      <td>0.1020</td>\n",
       "      <td>18.70</td>\n",
       "      <td>0</td>\n",
       "      <td>Red</td>\n",
       "    </tr>\n",
       "    <tr>\n",
       "      <th>3</th>\n",
       "      <td>2800</td>\n",
       "      <td>0.000200</td>\n",
       "      <td>0.1600</td>\n",
       "      <td>16.65</td>\n",
       "      <td>0</td>\n",
       "      <td>Red</td>\n",
       "    </tr>\n",
       "    <tr>\n",
       "      <th>4</th>\n",
       "      <td>1939</td>\n",
       "      <td>0.000138</td>\n",
       "      <td>0.1030</td>\n",
       "      <td>20.06</td>\n",
       "      <td>0</td>\n",
       "      <td>Red</td>\n",
       "    </tr>\n",
       "  </tbody>\n",
       "</table>\n",
       "</div>"
      ],
      "text/plain": [
       "   temperature, K  luminosity, L/Lo  radius, R/Ro  absolute_magnitude, Mv  \\\n",
       "0            3068          0.002400        0.1700                   16.12   \n",
       "1            3042          0.000500        0.1542                   16.60   \n",
       "2            2600          0.000300        0.1020                   18.70   \n",
       "3            2800          0.000200        0.1600                   16.65   \n",
       "4            1939          0.000138        0.1030                   20.06   \n",
       "\n",
       "   star_type star_color  \n",
       "0          0        Red  \n",
       "1          0        Red  \n",
       "2          0        Red  \n",
       "3          0        Red  \n",
       "4          0        Red  "
      ]
     },
     "metadata": {},
     "output_type": "display_data"
    },
    {
     "name": "stdout",
     "output_type": "stream",
     "text": [
      "Общая информация:\n",
      "<class 'pandas.core.frame.DataFrame'>\n",
      "RangeIndex: 240 entries, 0 to 239\n",
      "Data columns (total 6 columns):\n",
      " #   Column                  Non-Null Count  Dtype  \n",
      "---  ------                  --------------  -----  \n",
      " 0   temperature, K          240 non-null    int64  \n",
      " 1   luminosity, L/Lo        240 non-null    float64\n",
      " 2   radius, R/Ro            240 non-null    float64\n",
      " 3   absolute_magnitude, Mv  240 non-null    float64\n",
      " 4   star_type               240 non-null    int64  \n",
      " 5   star_color              240 non-null    object \n",
      "dtypes: float64(3), int64(2), object(1)\n",
      "memory usage: 11.4+ KB\n"
     ]
    }
   ],
   "source": [
    "# Проверим, что все изменения выполнены корректно:\n",
    "get_info(stars)"
   ]
  },
  {
   "cell_type": "markdown",
   "metadata": {
    "id": "_rWFh8xS9AkK"
   },
   "source": [
    "Выводы по разделу:\n",
    "\n",
    "- изучили данные из предоставленного датасета, привели названия столбцов к единому виду (snake_case, строчные буквы);\n",
    "- удалили столбец `Unnamed`, дублирующий индексы;\n",
    "- типы данных соответствуют их значениям.\n",
    "\n",
    "Переходим к этапу предобработки данных."
   ]
  },
  {
   "cell_type": "markdown",
   "metadata": {
    "id": "0VbInTv890tn"
   },
   "source": [
    "## Предобработка данных"
   ]
  },
  {
   "cell_type": "markdown",
   "metadata": {
    "id": "P3SKg3LkAYtY"
   },
   "source": [
    "На всякий случай, проверим датасет на наличие пропусков и явных дубликатов:"
   ]
  },
  {
   "cell_type": "code",
   "execution_count": 14,
   "metadata": {
    "id": "wej03Ieh88w8"
   },
   "outputs": [],
   "source": [
    "def data_check(dataset):\n",
    "    print(\"\\nПроверка на наличие пропусков в датасете\\n\")\n",
    "    null = dataset.isnull().sum()\n",
    "    if null.sum() > 0:\n",
    "            print(\"Пропущенные значения в датасете:\\n\")\n",
    "            print(null)\n",
    "    else:\n",
    "        print(\"Отсутствуют пропущенные значения в датасете\\n\")\n",
    "\n",
    "    print(\"\\nПроверка на наличие явных дубликатов в датасете\\n\")\n",
    "    duplicates = dataset.duplicated().sum()\n",
    "    if duplicates > 0:\n",
    "        print(f\"Количество явных дубликатов в датасете: {duplicates}\")\n",
    "    else:\n",
    "        print(\"Отсутствуют явные дубликаты в датасете\")"
   ]
  },
  {
   "cell_type": "code",
   "execution_count": 15,
   "metadata": {
    "colab": {
     "base_uri": "https://localhost:8080/"
    },
    "id": "RLytRM-1Al61",
    "outputId": "b0825c8e-77e8-4fa8-962c-ba3ffc88818a"
   },
   "outputs": [
    {
     "name": "stdout",
     "output_type": "stream",
     "text": [
      "\n",
      "Проверка на наличие пропусков в датасете\n",
      "\n",
      "Отсутствуют пропущенные значения в датасете\n",
      "\n",
      "\n",
      "Проверка на наличие явных дубликатов в датасете\n",
      "\n",
      "Отсутствуют явные дубликаты в датасете\n"
     ]
    }
   ],
   "source": [
    "data_check(stars)"
   ]
  },
  {
   "cell_type": "markdown",
   "metadata": {
    "id": "3GAGBv3pA3Dl"
   },
   "source": [
    "Посмотрим на уникальные значения категориального признака `star_color`:"
   ]
  },
  {
   "cell_type": "code",
   "execution_count": 16,
   "metadata": {
    "colab": {
     "base_uri": "https://localhost:8080/"
    },
    "id": "kEWnL2QkAoa5",
    "outputId": "374b40bb-c042-4f2d-ecc6-a02b123d9f35"
   },
   "outputs": [
    {
     "data": {
      "text/plain": [
       "array(['Red', 'Blue White', 'White', 'Yellowish White', 'Blue white',\n",
       "       'Pale yellow orange', 'Blue', 'Blue-white', 'Whitish',\n",
       "       'yellow-white', 'Orange', 'White-Yellow', 'white', 'Blue ',\n",
       "       'yellowish', 'Yellowish', 'Orange-Red', 'Blue white ',\n",
       "       'Blue-White'], dtype=object)"
      ]
     },
     "execution_count": 16,
     "metadata": {},
     "output_type": "execute_result"
    }
   ],
   "source": [
    "stars['star_color'].unique()"
   ]
  },
  {
   "cell_type": "code",
   "execution_count": 17,
   "metadata": {
    "colab": {
     "base_uri": "https://localhost:8080/"
    },
    "id": "54x01dTQBFOp",
    "outputId": "877f0d2d-e58e-4c92-b54a-01f384cdd438"
   },
   "outputs": [
    {
     "data": {
      "text/plain": [
       "['Blue',\n",
       " 'Blue ',\n",
       " 'Blue White',\n",
       " 'Blue white',\n",
       " 'Blue white ',\n",
       " 'Blue-White',\n",
       " 'Blue-white',\n",
       " 'Orange',\n",
       " 'Orange-Red',\n",
       " 'Pale yellow orange',\n",
       " 'Red',\n",
       " 'White',\n",
       " 'White-Yellow',\n",
       " 'Whitish',\n",
       " 'Yellowish',\n",
       " 'Yellowish White',\n",
       " 'white',\n",
       " 'yellow-white',\n",
       " 'yellowish']"
      ]
     },
     "execution_count": 17,
     "metadata": {},
     "output_type": "execute_result"
    }
   ],
   "source": [
    "unique_colors = stars['star_color'].unique()\n",
    "unique_colors_sorted = pd.Series(unique_colors).sort_values().tolist()\n",
    "unique_colors_sorted"
   ]
  },
  {
   "cell_type": "markdown",
   "metadata": {
    "id": "SZjCv_UoBxjE"
   },
   "source": [
    "Список содержит одинаковые цвета, записанные по-разному. Упорядочим его, воспользовавшись Гарвадской классификацией, согласно которой принято различать следующие цвета звезд:\n",
    "\n",
    "- голубой\n",
    "- бело-голубой\n",
    "- белый\n",
    "- жёлто-белый\n",
    "- жёлтый\n",
    "- оранжевый\n",
    "- красный.\n",
    "\n",
    "Далее проверим, сколько звёзд каждого цвета есть в нашем датасете"
   ]
  },
  {
   "cell_type": "code",
   "execution_count": 18,
   "metadata": {
    "id": "01aaVOLeBuTy"
   },
   "outputs": [],
   "source": [
    "stars['star_color'] = stars['star_color'].replace('Blue', 'blue')\n",
    "stars['star_color'] = stars['star_color'].replace('Blue ', 'blue')\n",
    "\n",
    "stars['star_color'] = stars['star_color'].replace('Blue White', 'blue-white')\n",
    "stars['star_color'] = stars['star_color'].replace('Blue white', 'blue-white')\n",
    "stars['star_color'] = stars['star_color'].replace('Blue white ', 'blue-white')\n",
    "stars['star_color'] = stars['star_color'].replace('Blue-White', 'blue-white')\n",
    "stars['star_color'] = stars['star_color'].replace('Blue-white', 'blue-white')\n",
    "\n",
    "stars['star_color'] = stars['star_color'].replace('Orange', 'orange')\n",
    "# оранжево-красный цвет отнесём к оранжевому\n",
    "stars['star_color'] = stars['star_color'].replace('Orange-Red', 'orange')\n",
    "\n",
    "# бледно-жёлто-оранжевый цвет отнесём к жёлтому\n",
    "stars['star_color'] = stars['star_color'].replace('Pale yellow orange', \\\n",
    "                                                  'yellow')\n",
    "stars['star_color'] = stars['star_color'].replace('Yellowish', 'yellow')\n",
    "stars['star_color'] = stars['star_color'].replace('yellowish', 'yellow')\n",
    "\n",
    "stars['star_color'] = stars['star_color'].replace('Yellowish White', \\\n",
    "                                                  'yellow-white')\n",
    "stars['star_color'] = stars['star_color'].replace('White-Yellow', \\\n",
    "                                                  'yellow-white')\n",
    "\n",
    "stars['star_color'] = stars['star_color'].replace('White', 'white')\n",
    "stars['star_color'] = stars['star_color'].replace('Whitish', 'white')\n",
    "\n",
    "stars['star_color'] = stars['star_color'].replace('Red', 'red')"
   ]
  },
  {
   "cell_type": "code",
   "execution_count": 19,
   "metadata": {
    "colab": {
     "base_uri": "https://localhost:8080/"
    },
    "id": "cxSO4PTwDgnF",
    "outputId": "84519904-21a4-4415-ecf9-967f7073b018"
   },
   "outputs": [
    {
     "data": {
      "text/plain": [
       "array(['red', 'blue-white', 'white', 'yellow-white', 'yellow', 'blue',\n",
       "       'orange'], dtype=object)"
      ]
     },
     "execution_count": 19,
     "metadata": {},
     "output_type": "execute_result"
    }
   ],
   "source": [
    "stars['star_color'].unique()"
   ]
  },
  {
   "cell_type": "code",
   "execution_count": 20,
   "metadata": {},
   "outputs": [
    {
     "data": {
      "text/plain": [
       "red             112\n",
       "blue             56\n",
       "blue-white       41\n",
       "yellow-white     12\n",
       "white            12\n",
       "yellow            4\n",
       "orange            3\n",
       "Name: star_color, dtype: int64"
      ]
     },
     "execution_count": 20,
     "metadata": {},
     "output_type": "execute_result"
    }
   ],
   "source": [
    "stars['star_color'].value_counts()"
   ]
  },
  {
   "cell_type": "markdown",
   "metadata": {
    "id": "2AtxT_QQD8wJ"
   },
   "source": [
    "Благодаря корректировке, получили 7 табличных значений цветов звёзд вместо 19. В выборке больше всего звёзд красного цвета, совсем немного жёлтого и оранжевого. Объединим их в одну категорию `other`:"
   ]
  },
  {
   "cell_type": "code",
   "execution_count": 21,
   "metadata": {},
   "outputs": [
    {
     "data": {
      "text/plain": [
       "red             112\n",
       "blue             56\n",
       "blue-white       41\n",
       "yellow-white     12\n",
       "white            12\n",
       "other             7\n",
       "Name: star_color, dtype: int64"
      ]
     },
     "execution_count": 21,
     "metadata": {},
     "output_type": "execute_result"
    }
   ],
   "source": [
    "stars['star_color'] = stars['star_color'].replace('yellow', 'other')\n",
    "stars['star_color'] = stars['star_color'].replace('orange', 'other')\n",
    "stars['star_color'].value_counts()"
   ]
  },
  {
   "cell_type": "markdown",
   "metadata": {
    "id": "bhbni2rmFMRv"
   },
   "source": [
    "Посмотрим на уникальные значения признака `star_type`:"
   ]
  },
  {
   "cell_type": "code",
   "execution_count": 22,
   "metadata": {
    "colab": {
     "base_uri": "https://localhost:8080/"
    },
    "id": "8vq-T9PhDmq6",
    "outputId": "032b2c27-2d5d-4a15-f333-7a8aa1d56a29"
   },
   "outputs": [
    {
     "data": {
      "text/plain": [
       "array([0, 1, 2, 3, 4, 5])"
      ]
     },
     "execution_count": 22,
     "metadata": {},
     "output_type": "execute_result"
    }
   ],
   "source": [
    "stars['star_type'].unique()"
   ]
  },
  {
   "cell_type": "markdown",
   "metadata": {
    "id": "lrNxIB_YFZMz"
   },
   "source": [
    "Согласно табличным данным в описании задачи, типов звёзд может быть 6 (от 0 до 5), в нашем случае всё верно"
   ]
  },
  {
   "cell_type": "markdown",
   "metadata": {
    "id": "YZHsFpReGA33"
   },
   "source": [
    "Посмотрим, как количественно распределены в датасете звёзды по их типу:"
   ]
  },
  {
   "cell_type": "code",
   "execution_count": 23,
   "metadata": {
    "colab": {
     "base_uri": "https://localhost:8080/",
     "height": 304
    },
    "id": "7K6-fMxbFS5W",
    "outputId": "1f3e2248-9116-48b6-e1aa-9ef30374464f"
   },
   "outputs": [
    {
     "data": {
      "text/plain": [
       "0    40\n",
       "1    40\n",
       "2    40\n",
       "3    40\n",
       "4    40\n",
       "5    40\n",
       "Name: star_type, dtype: int64"
      ]
     },
     "execution_count": 23,
     "metadata": {},
     "output_type": "execute_result"
    }
   ],
   "source": [
    "stars['star_type'].value_counts()"
   ]
  },
  {
   "cell_type": "markdown",
   "metadata": {
    "id": "up_54K1JGPWK"
   },
   "source": [
    "Распределение - ровно пропорциональное, по 40 звёзд каждого из шести типов."
   ]
  },
  {
   "cell_type": "markdown",
   "metadata": {
    "id": "mQn4ZfVBGpFD"
   },
   "source": [
    "Выводы по разделу:\n",
    "\n",
    "- проверили датасет на наличие пропущенных значений, явных дубликатов. И те, и те отсутствут;\n",
    "- обнаружили одинаковые цвета звёзд, записанные по-разному, привели их к единому виду (заодно изменив написание на строчное). Больше всего звёзд в выборке - красного цвета (112 из 240);\n",
    "- типов звёзд 6, как в табличных данных в описании задачи, распределены равномерно - по 40 штук каждого типа.\n",
    "\n",
    "Переходим к исследовательскому анализу данных."
   ]
  },
  {
   "cell_type": "markdown",
   "metadata": {
    "id": "aUPGnjrAHoCs"
   },
   "source": [
    "## Исследовательский анализ данных"
   ]
  },
  {
   "cell_type": "markdown",
   "metadata": {
    "id": "NJsJCq3VHsCa"
   },
   "source": [
    "Изучим статистические данные количественных признаков датасета:"
   ]
  },
  {
   "cell_type": "code",
   "execution_count": 24,
   "metadata": {
    "colab": {
     "base_uri": "https://localhost:8080/",
     "height": 300
    },
    "id": "SMwumVh0GNhF",
    "outputId": "c9cb6975-f529-40ad-cd10-cec8687c980c"
   },
   "outputs": [
    {
     "data": {
      "text/html": [
       "<div>\n",
       "<style scoped>\n",
       "    .dataframe tbody tr th:only-of-type {\n",
       "        vertical-align: middle;\n",
       "    }\n",
       "\n",
       "    .dataframe tbody tr th {\n",
       "        vertical-align: top;\n",
       "    }\n",
       "\n",
       "    .dataframe thead th {\n",
       "        text-align: right;\n",
       "    }\n",
       "</style>\n",
       "<table border=\"1\" class=\"dataframe\">\n",
       "  <thead>\n",
       "    <tr style=\"text-align: right;\">\n",
       "      <th></th>\n",
       "      <th>temperature, K</th>\n",
       "      <th>luminosity, L/Lo</th>\n",
       "      <th>radius, R/Ro</th>\n",
       "      <th>absolute_magnitude, Mv</th>\n",
       "      <th>star_type</th>\n",
       "    </tr>\n",
       "  </thead>\n",
       "  <tbody>\n",
       "    <tr>\n",
       "      <th>count</th>\n",
       "      <td>240.00</td>\n",
       "      <td>240.00</td>\n",
       "      <td>240.00</td>\n",
       "      <td>240.00</td>\n",
       "      <td>240.00</td>\n",
       "    </tr>\n",
       "    <tr>\n",
       "      <th>mean</th>\n",
       "      <td>10497.46</td>\n",
       "      <td>107188.36</td>\n",
       "      <td>237.16</td>\n",
       "      <td>4.38</td>\n",
       "      <td>2.50</td>\n",
       "    </tr>\n",
       "    <tr>\n",
       "      <th>std</th>\n",
       "      <td>9552.43</td>\n",
       "      <td>179432.24</td>\n",
       "      <td>517.16</td>\n",
       "      <td>10.53</td>\n",
       "      <td>1.71</td>\n",
       "    </tr>\n",
       "    <tr>\n",
       "      <th>min</th>\n",
       "      <td>1939.00</td>\n",
       "      <td>0.00</td>\n",
       "      <td>0.01</td>\n",
       "      <td>-11.92</td>\n",
       "      <td>0.00</td>\n",
       "    </tr>\n",
       "    <tr>\n",
       "      <th>25%</th>\n",
       "      <td>3344.25</td>\n",
       "      <td>0.00</td>\n",
       "      <td>0.10</td>\n",
       "      <td>-6.23</td>\n",
       "      <td>1.00</td>\n",
       "    </tr>\n",
       "    <tr>\n",
       "      <th>50%</th>\n",
       "      <td>5776.00</td>\n",
       "      <td>0.07</td>\n",
       "      <td>0.76</td>\n",
       "      <td>8.31</td>\n",
       "      <td>2.50</td>\n",
       "    </tr>\n",
       "    <tr>\n",
       "      <th>75%</th>\n",
       "      <td>15055.50</td>\n",
       "      <td>198050.00</td>\n",
       "      <td>42.75</td>\n",
       "      <td>13.70</td>\n",
       "      <td>4.00</td>\n",
       "    </tr>\n",
       "    <tr>\n",
       "      <th>max</th>\n",
       "      <td>40000.00</td>\n",
       "      <td>849420.00</td>\n",
       "      <td>1948.50</td>\n",
       "      <td>20.06</td>\n",
       "      <td>5.00</td>\n",
       "    </tr>\n",
       "  </tbody>\n",
       "</table>\n",
       "</div>"
      ],
      "text/plain": [
       "       temperature, K  luminosity, L/Lo  radius, R/Ro  absolute_magnitude, Mv  \\\n",
       "count          240.00            240.00        240.00                  240.00   \n",
       "mean         10497.46         107188.36        237.16                    4.38   \n",
       "std           9552.43         179432.24        517.16                   10.53   \n",
       "min           1939.00              0.00          0.01                  -11.92   \n",
       "25%           3344.25              0.00          0.10                   -6.23   \n",
       "50%           5776.00              0.07          0.76                    8.31   \n",
       "75%          15055.50         198050.00         42.75                   13.70   \n",
       "max          40000.00         849420.00       1948.50                   20.06   \n",
       "\n",
       "       star_type  \n",
       "count     240.00  \n",
       "mean        2.50  \n",
       "std         1.71  \n",
       "min         0.00  \n",
       "25%         1.00  \n",
       "50%         2.50  \n",
       "75%         4.00  \n",
       "max         5.00  "
      ]
     },
     "execution_count": 24,
     "metadata": {},
     "output_type": "execute_result"
    }
   ],
   "source": [
    "stars.describe().round(2)"
   ]
  },
  {
   "cell_type": "markdown",
   "metadata": {
    "id": "pE0IGUSTGSEv"
   },
   "source": [
    "Посмотрим на доли выбросов в количественных столбцах:"
   ]
  },
  {
   "cell_type": "code",
   "execution_count": 25,
   "metadata": {
    "id": "-H25knOLGE60"
   },
   "outputs": [],
   "source": [
    "def outliers(dataset, column):\n",
    "    q1 = dataset[column].quantile(0.25) # первый квартиль\n",
    "    q3 = dataset[column].quantile(0.75)  # третий квартиль\n",
    "    iqr = q3 - q1  # межквартильный размах\n",
    "    quant1 = q1 - 1.5*iqr  # нижняя граница выбросов\n",
    "    quant3 = q3 + 1.5*iqr  # верхняя граница выбросов\n",
    "    total = dataset.shape[0]  # общее количество строк в датафрейме\n",
    "    emission = dataset[(dataset[column] < quant1) | \\\n",
    "     (dataset[column] > quant3)].shape[0]\n",
    "    # количество выбросов\n",
    "    emission_quant = (emission / total) * 100  # доля выбросов в столбце\n",
    "    return np.round((emission_quant), decimals=2)\n",
    "    # возвращаем долю выбросов в столбце"
   ]
  },
  {
   "cell_type": "code",
   "execution_count": 26,
   "metadata": {
    "colab": {
     "base_uri": "https://localhost:8080/"
    },
    "id": "OiP90-BeGyd1",
    "outputId": "7724e69c-5c75-4688-91bb-5168332173fb"
   },
   "outputs": [
    {
     "name": "stdout",
     "output_type": "stream",
     "text": [
      "Доля выбросов в temperature, K, в процентах: 4.58\n",
      "Доля выбросов в luminosity, L/Lo, в процентах: 5.0\n",
      "Доля выбросов в radius, R/Ro, в процентах: 16.67\n",
      "Доля выбросов в absolute_magnitude, Mv, в процентах: 0.0\n"
     ]
    }
   ],
   "source": [
    "dataset = stars\n",
    "column_list = ['temperature, K', 'luminosity, L/Lo', 'radius, R/Ro', \\\n",
    "        'absolute_magnitude, Mv']\n",
    "for value in column_list:\n",
    "    print(f'Доля выбросов в {value}, в процентах: {outliers(dataset, value)}')"
   ]
  },
  {
   "cell_type": "markdown",
   "metadata": {
    "id": "JFUJfVODH31k"
   },
   "source": [
    "Доли выбросов незначительные везде, кроме столбца `radius, R/Ro`. Отобразим данные на гистограммах и диаграммах:"
   ]
  },
  {
   "cell_type": "code",
   "execution_count": 27,
   "metadata": {
    "id": "SA3ZMluJHFYI"
   },
   "outputs": [],
   "source": [
    "# Гистограмма распределения количественных признаков\n",
    "def histogram(dataset, column):\n",
    "    dataset[column].plot(kind='hist', bins=20, grid=True, \\\n",
    "                figsize=(5, 5), title=(f'Распределение признака \"{column}\"'))\n",
    "    plt.xlabel(column)\n",
    "    plt.ylabel('Количество')\n",
    "    plt.show()\n",
    "    return None\n",
    "\n",
    "# Диаграмма размаха\n",
    "def whiskers(dataset, column):\n",
    "    dataset.boxplot(column, figsize=(5, 5))\n",
    "    plt.title(f'Диаграмма размаха признака \"{column}\"')\n",
    "    plt.ylabel('Количество')\n",
    "    plt.show()\n",
    "    print(dataset[column].describe().round(2))\n",
    "    return None"
   ]
  },
  {
   "cell_type": "code",
   "execution_count": 28,
   "metadata": {
    "colab": {
     "base_uri": "https://localhost:8080/",
     "height": 1000
    },
    "id": "c6rPSe76IMEc",
    "outputId": "8f79cef3-23e9-4a66-d865-a3bcec51a04e"
   },
   "outputs": [
    {
     "data": {
      "image/png": "[encoded data removed]",
      "text/plain": [
       "<Figure size 360x360 with 1 Axes>"
      ]
     },
     "metadata": {
      "needs_background": "light"
     },
     "output_type": "display_data"
    },
    {
     "data": {
      "image/png": "[encoded data removed]",
      "text/plain": [
       "<Figure size 360x360 with 1 Axes>"
      ]
     },
     "metadata": {
      "needs_background": "light"
     },
     "output_type": "display_data"
    },
    {
     "name": "stdout",
     "output_type": "stream",
     "text": [
      "count      240.00\n",
      "mean     10497.46\n",
      "std       9552.43\n",
      "min       1939.00\n",
      "25%       3344.25\n",
      "50%       5776.00\n",
      "75%      15055.50\n",
      "max      40000.00\n",
      "Name: temperature, K, dtype: float64\n"
     ]
    }
   ],
   "source": [
    "histogram(stars, 'temperature, K')\n",
    "whiskers(stars, 'temperature, K')"
   ]
  },
  {
   "cell_type": "code",
   "execution_count": 29,
   "metadata": {
    "colab": {
     "base_uri": "https://localhost:8080/"
    },
    "id": "v3ni1GkJITtp",
    "outputId": "c304c74b-4995-4c8b-ce6f-f0a028cfb7dd"
   },
   "outputs": [
    {
     "name": "stdout",
     "output_type": "stream",
     "text": [
      "45.42\n"
     ]
    }
   ],
   "source": [
    "print(round(stars[stars['temperature, K'] < 3800].shape[0] /\n",
    "            stars.shape[0] * 100, 2))"
   ]
  },
  {
   "cell_type": "markdown",
   "metadata": {
    "id": "OZQ0BoGLJZh8"
   },
   "source": [
    "Интересно, что почти 45% данных по температуре - для звёзд холоднее, чем 3800К. Согласно табличным данным, это красный цвет. Проверим далее на столбчатой диаграмме процентное соотношение звёзд в выборке именно этого цвета"
   ]
  },
  {
   "cell_type": "code",
   "execution_count": 30,
   "metadata": {
    "colab": {
     "base_uri": "https://localhost:8080/",
     "height": 1000
    },
    "id": "S3nAwxOLI0-K",
    "outputId": "c3faaafc-5da7-41e8-afbf-24dc09eac700"
   },
   "outputs": [
    {
     "data": {
      "image/png": "[encoded data removed]",
      "text/plain": [
       "<Figure size 360x360 with 1 Axes>"
      ]
     },
     "metadata": {
      "needs_background": "light"
     },
     "output_type": "display_data"
    },
    {
     "data": {
      "image/png": "[encoded data removed]",
      "text/plain": [
       "<Figure size 360x360 with 1 Axes>"
      ]
     },
     "metadata": {
      "needs_background": "light"
     },
     "output_type": "display_data"
    },
    {
     "name": "stdout",
     "output_type": "stream",
     "text": [
      "count       240.00\n",
      "mean     107188.36\n",
      "std      179432.24\n",
      "min           0.00\n",
      "25%           0.00\n",
      "50%           0.07\n",
      "75%      198050.00\n",
      "max      849420.00\n",
      "Name: luminosity, L/Lo, dtype: float64\n"
     ]
    }
   ],
   "source": [
    "histogram(stars, 'luminosity, L/Lo')\n",
    "whiskers(stars, 'luminosity, L/Lo')"
   ]
  },
  {
   "cell_type": "markdown",
   "metadata": {
    "id": "SmgbI5szMbiA"
   },
   "source": [
    "Зная значение светимости Солнца, можно посмотреть, сколько звёзд в выборке имеют одинаковый или меньший показатель с этой звездой:"
   ]
  },
  {
   "cell_type": "code",
   "execution_count": 31,
   "metadata": {
    "colab": {
     "base_uri": "https://localhost:8080/"
    },
    "id": "yXMJKV7nMmxR",
    "outputId": "5e6c894b-e41b-4f0f-d8c0-cc5d899a4a3d"
   },
   "outputs": [
    {
     "name": "stdout",
     "output_type": "stream",
     "text": [
      "52.92\n"
     ]
    }
   ],
   "source": [
    "print(round(stars[stars['luminosity, L/Lo'] <= 1].shape[0] /\n",
    "            stars.shape[0] * 100, 2))"
   ]
  },
  {
   "cell_type": "markdown",
   "metadata": {
    "id": "YM8ExE7cNJBB"
   },
   "source": [
    "Чуть больше половины звёзд из нашей выборки имеют показатель светимости равный или меньший аналогичному для Солнца (3.828 * 10e26 Вт)"
   ]
  },
  {
   "cell_type": "code",
   "execution_count": 32,
   "metadata": {
    "colab": {
     "base_uri": "https://localhost:8080/",
     "height": 1000
    },
    "id": "SgrLfgYuKMmn",
    "outputId": "d82262e8-edcf-4dd8-9bc5-861e3d7ac3cc"
   },
   "outputs": [
    {
     "data": {
      "image/png": "[encoded data removed]",
      "text/plain": [
       "<Figure size 360x360 with 1 Axes>"
      ]
     },
     "metadata": {
      "needs_background": "light"
     },
     "output_type": "display_data"
    },
    {
     "data": {
      "image/png": "[encoded data removed]",
      "text/plain": [
       "<Figure size 360x360 with 1 Axes>"
      ]
     },
     "metadata": {
      "needs_background": "light"
     },
     "output_type": "display_data"
    },
    {
     "name": "stdout",
     "output_type": "stream",
     "text": [
      "count     240.00\n",
      "mean      237.16\n",
      "std       517.16\n",
      "min         0.01\n",
      "25%         0.10\n",
      "50%         0.76\n",
      "75%        42.75\n",
      "max      1948.50\n",
      "Name: radius, R/Ro, dtype: float64\n"
     ]
    }
   ],
   "source": [
    "histogram(stars, 'radius, R/Ro')\n",
    "whiskers(stars, 'radius, R/Ro')"
   ]
  },
  {
   "cell_type": "markdown",
   "metadata": {
    "id": "hUqJkAt_NeyP"
   },
   "source": [
    "Зная значение радиуса Солнца, можно посмотреть, сколько звёзд в выборке имеют одинаковый или меньший показатель с этой звездой:"
   ]
  },
  {
   "cell_type": "code",
   "execution_count": 33,
   "metadata": {
    "colab": {
     "base_uri": "https://localhost:8080/"
    },
    "id": "13M-N1VZL4Vq",
    "outputId": "621e7a17-989c-4dca-9c34-c7d37640279a"
   },
   "outputs": [
    {
     "name": "stdout",
     "output_type": "stream",
     "text": [
      "52.92\n"
     ]
    }
   ],
   "source": [
    "print(round(stars[stars['radius, R/Ro'] < 1].shape[0] /\n",
    "            stars.shape[0] * 100, 2))"
   ]
  },
  {
   "cell_type": "markdown",
   "metadata": {
    "id": "NM0TN0SZOScs"
   },
   "source": [
    "Чуть больше половины звёзд из нашей выборки имеют радиус равный или меньший аналогичному для Солнца (3.828 * 10e26 Вт)"
   ]
  },
  {
   "cell_type": "code",
   "execution_count": 34,
   "metadata": {
    "colab": {
     "base_uri": "https://localhost:8080/",
     "height": 606
    },
    "id": "E9B3PCEdOiiy",
    "outputId": "7fb2581d-b88a-466a-e132-5c9de67a65f4"
   },
   "outputs": [
    {
     "data": {
      "image/png": "[encoded data removed]",
      "text/plain": [
       "<Figure size 360x360 with 1 Axes>"
      ]
     },
     "metadata": {
      "needs_background": "light"
     },
     "output_type": "display_data"
    }
   ],
   "source": [
    "stars['star_color'].value_counts().plot(\n",
    "    kind = 'bar',\n",
    "    figsize = (5,5),\n",
    "    title = 'Распределение признака \"star_color\"',\n",
    "    ylabel = 'Количество'\n",
    ");"
   ]
  },
  {
   "cell_type": "code",
   "execution_count": 35,
   "metadata": {
    "colab": {
     "base_uri": "https://localhost:8080/"
    },
    "id": "Ef-Qcv68OtRR",
    "outputId": "08f91a50-be99-4860-df75-738662a6718d"
   },
   "outputs": [
    {
     "name": "stdout",
     "output_type": "stream",
     "text": [
      "46.67\n"
     ]
    }
   ],
   "source": [
    "print(round(stars[stars['star_color'] == 'red'].shape[0] /\n",
    "            stars.shape[0] * 100, 2))"
   ]
  },
  {
   "cell_type": "markdown",
   "metadata": {
    "id": "5ijmA4JRPP92"
   },
   "source": [
    "Действительно, как выяснили ранее, в основном выборка представлена звёздами красного цвета (46.67%)"
   ]
  },
  {
   "cell_type": "markdown",
   "metadata": {
    "id": "bfDgHykJPhRt"
   },
   "source": [
    "Выводы по разделу:\n",
    "\n",
    "- исследовательский анализ данных не выявил каких-то аномалий или расхождений;\n",
    "- основная часть звёзд в выборке - красного цвета (46.67%), с температурой поверхности - до 3800 К (45.42%)."
   ]
  },
  {
   "cell_type": "markdown",
   "metadata": {
    "id": "HbiEgRWdUJe1"
   },
   "source": [
    "## Корреляционный анализ данных"
   ]
  },
  {
   "cell_type": "markdown",
   "metadata": {
    "id": "N5Zl7pEFcVvE"
   },
   "source": [
    "Построим тепловую карту коэффициентов корреляции phik:"
   ]
  },
  {
   "cell_type": "code",
   "execution_count": 36,
   "metadata": {
    "colab": {
     "base_uri": "https://localhost:8080/",
     "height": 817
    },
    "id": "rnouQA4ikrtk",
    "outputId": "f6355f24-26bb-4681-bacf-2890927e2030"
   },
   "outputs": [
    {
     "name": "stdout",
     "output_type": "stream",
     "text": [
      "interval columns not set, guessing: ['temperature, K', 'luminosity, L/Lo', 'radius, R/Ro', 'absolute_magnitude, Mv', 'star_type']\n"
     ]
    },
    {
     "data": {
      "image/png": "[encoded data removed]",
      "text/plain": [
       "<Figure size 504x504 with 2 Axes>"
      ]
     },
     "metadata": {
      "needs_background": "light"
     },
     "output_type": "display_data"
    }
   ],
   "source": [
    "plt.figure(figsize=(7, 7))\n",
    "sns.heatmap(stars[['temperature, K', 'luminosity, L/Lo', 'radius, R/Ro', \\\n",
    "                  'absolute_magnitude, Mv', 'star_type', 'star_color']] \\\n",
    "            .phik_matrix(), \\\n",
    "             annot=True, cmap='coolwarm', vmin=0, vmax=1)\n",
    "plt.title('Матрица корреляции phik')\n",
    "\n",
    "plt.show()"
   ]
  },
  {
   "cell_type": "markdown",
   "metadata": {
    "id": "ItblUGUomxn1"
   },
   "source": [
    "Используя шкалу Чеддока, сопоставим тесноту связей между входными признаками и целевым `temperature, K` (0,1-0,3 - слабая; 0,3-0,5 - умеренная; 0,5-0,7 - заметная; 0,7-0,9 - высокая; 0,9-1 - весьма высокая):\n",
    "\n",
    "- теснота связи с `star_color` высокая (0.75);\n",
    "- теснота связи с `absolute_magnitude, Mv` заметная (0.71);\n",
    "- теснота связи с `star_type` заметная (0.6);\n",
    "- теснота связи с `luminosity, L/Lo` заметная (0.56);\n",
    "- теснота связи с `radius, R/Ro` слабая (0.24).\n",
    "\n",
    "Мультиколлинеарность между признаками не выявлена, однако, присутствует весьма высокая связь между признаками `star_type` и `absolute_magnitude, Mv` (0.92)."
   ]
  },
  {
   "cell_type": "markdown",
   "metadata": {},
   "source": [
    "Построим диаграммы рассеяния для количественных признаков, выделив разным цветом классы звёзд:"
   ]
  },
  {
   "cell_type": "code",
   "execution_count": 37,
   "metadata": {},
   "outputs": [
    {
     "data": {
      "image/png": "[encoded data removed]",
      "text/plain": [
       "<Figure size 774.5x720 with 14 Axes>"
      ]
     },
     "metadata": {
      "needs_background": "light"
     },
     "output_type": "display_data"
    }
   ],
   "source": [
    "# разделим цветами типы звёзд (от 0 до 5): \n",
    "star_type_color_map = {\n",
    "    0: 'blue',\n",
    "    1: 'red',\n",
    "    2: 'green',\n",
    "    3: 'yellow',\n",
    "    4: 'orange',\n",
    "    5: 'black'\n",
    "}\n",
    "\n",
    "# список признаков, по которым строим диаграммы рассеяния\n",
    "columns_to_consider = ['temperature, K', 'luminosity, L/Lo', 'radius, R/Ro', \\\n",
    "                       'absolute_magnitude, Mv']\n",
    "\n",
    "# добавим столбец с новыми цветами\n",
    "stars['type_color'] = stars['star_type'].map(star_type_color_map)\n",
    "\n",
    "\n",
    "# используем seaborn для попарных диаграмм рассеяния с учётом цветов точек\n",
    "sns.pairplot(\n",
    "    stars,\n",
    "    vars=columns_to_consider,\n",
    "    hue='star_type',  # зависимость цвета точек от значения 'star_type'\n",
    "    palette=star_type_color_map,\n",
    "    markers='o',\n",
    "    corner=True,  # убираем симметричные дублирующие графики\n",
    "    plot_kws={'alpha': 0.7, 's': 50, 'edgecolor': 'k'}\n",
    ")\n",
    "\n",
    "plt.suptitle(\"Диаграммы рассеяния по типу звёзд\", y=1.02, fontsize=16)\n",
    "plt.show()"
   ]
  },
  {
   "cell_type": "markdown",
   "metadata": {},
   "source": [
    "Наблюдается устойчивая корреляция между признаками `absolute_magnitude, Mv` и `temperature, K` для звёзд 2-го и 3-го типов (белые карлики и звёзды главной последовательности)."
   ]
  },
  {
   "cell_type": "markdown",
   "metadata": {
    "id": "HBsolrGszqow"
   },
   "source": [
    "Выводы по разделу:\n",
    "\n",
    "- построили тепловую карту коэффициентов корреляции phik, выявили тесноту связей целевого признака с входными: с `star_color` - высокая (0.75),`absolute_magnitude, Mv`, `star_type` и `luminosity, L/Lo` - заметная (0.71, 0.6 и 0.56, соответственно), а с `radius, R/Ro` - слабая (0.24);\n",
    "- мультиколлинеарность между признаками не обнаружена;\n",
    "- признаки `star_type` и `absolute_magnitude, Mv` имеют весьма высокую связь (0.92);\n",
    "- наблюдается устойчивая корреляция между признаками `absolute_magnitude, Mv` и `temperature, K` для звёзд 2-го и 3-го типов (белые карлики и звёзды главной последовательности)."
   ]
  },
  {
   "cell_type": "markdown",
   "metadata": {
    "id": "5gzvGGW3rFzZ"
   },
   "source": [
    "## Создание новых признаков"
   ]
  },
  {
   "cell_type": "markdown",
   "metadata": {
    "id": "8_tUg6ESrULq"
   },
   "source": [
    "На диаграмме рассеяния Герцшпрунга-Рассела светимость откладывается в логарифмическом масштабе. Создадим новые признаки `lg_lum` и `lg_rad` (логарифмы светимости и радиуса), изучим их диаграммы и корреляцию с целевым признаком:"
   ]
  },
  {
   "cell_type": "code",
   "execution_count": 38,
   "metadata": {
    "colab": {
     "base_uri": "https://localhost:8080/",
     "height": 206
    },
    "id": "6lOd80gQfIkE",
    "outputId": "7a1b911f-8b99-4a69-d138-eab34578639e"
   },
   "outputs": [
    {
     "data": {
      "text/html": [
       "<div>\n",
       "<style scoped>\n",
       "    .dataframe tbody tr th:only-of-type {\n",
       "        vertical-align: middle;\n",
       "    }\n",
       "\n",
       "    .dataframe tbody tr th {\n",
       "        vertical-align: top;\n",
       "    }\n",
       "\n",
       "    .dataframe thead th {\n",
       "        text-align: right;\n",
       "    }\n",
       "</style>\n",
       "<table border=\"1\" class=\"dataframe\">\n",
       "  <thead>\n",
       "    <tr style=\"text-align: right;\">\n",
       "      <th></th>\n",
       "      <th>temperature, K</th>\n",
       "      <th>luminosity, L/Lo</th>\n",
       "      <th>radius, R/Ro</th>\n",
       "      <th>absolute_magnitude, Mv</th>\n",
       "      <th>star_type</th>\n",
       "      <th>star_color</th>\n",
       "      <th>type_color</th>\n",
       "      <th>lg_lum</th>\n",
       "    </tr>\n",
       "  </thead>\n",
       "  <tbody>\n",
       "    <tr>\n",
       "      <th>0</th>\n",
       "      <td>3068</td>\n",
       "      <td>0.002400</td>\n",
       "      <td>0.1700</td>\n",
       "      <td>16.12</td>\n",
       "      <td>0</td>\n",
       "      <td>red</td>\n",
       "      <td>blue</td>\n",
       "      <td>23.963183</td>\n",
       "    </tr>\n",
       "    <tr>\n",
       "      <th>1</th>\n",
       "      <td>3042</td>\n",
       "      <td>0.000500</td>\n",
       "      <td>0.1542</td>\n",
       "      <td>16.60</td>\n",
       "      <td>0</td>\n",
       "      <td>red</td>\n",
       "      <td>blue</td>\n",
       "      <td>23.281942</td>\n",
       "    </tr>\n",
       "    <tr>\n",
       "      <th>2</th>\n",
       "      <td>2600</td>\n",
       "      <td>0.000300</td>\n",
       "      <td>0.1020</td>\n",
       "      <td>18.70</td>\n",
       "      <td>0</td>\n",
       "      <td>red</td>\n",
       "      <td>blue</td>\n",
       "      <td>23.060093</td>\n",
       "    </tr>\n",
       "    <tr>\n",
       "      <th>3</th>\n",
       "      <td>2800</td>\n",
       "      <td>0.000200</td>\n",
       "      <td>0.1600</td>\n",
       "      <td>16.65</td>\n",
       "      <td>0</td>\n",
       "      <td>red</td>\n",
       "      <td>blue</td>\n",
       "      <td>22.884002</td>\n",
       "    </tr>\n",
       "    <tr>\n",
       "      <th>4</th>\n",
       "      <td>1939</td>\n",
       "      <td>0.000138</td>\n",
       "      <td>0.1030</td>\n",
       "      <td>20.06</td>\n",
       "      <td>0</td>\n",
       "      <td>red</td>\n",
       "      <td>blue</td>\n",
       "      <td>22.722851</td>\n",
       "    </tr>\n",
       "  </tbody>\n",
       "</table>\n",
       "</div>"
      ],
      "text/plain": [
       "   temperature, K  luminosity, L/Lo  radius, R/Ro  absolute_magnitude, Mv  \\\n",
       "0            3068          0.002400        0.1700                   16.12   \n",
       "1            3042          0.000500        0.1542                   16.60   \n",
       "2            2600          0.000300        0.1020                   18.70   \n",
       "3            2800          0.000200        0.1600                   16.65   \n",
       "4            1939          0.000138        0.1030                   20.06   \n",
       "\n",
       "   star_type star_color type_color     lg_lum  \n",
       "0          0        red       blue  23.963183  \n",
       "1          0        red       blue  23.281942  \n",
       "2          0        red       blue  23.060093  \n",
       "3          0        red       blue  22.884002  \n",
       "4          0        red       blue  22.722851  "
      ]
     },
     "execution_count": 38,
     "metadata": {},
     "output_type": "execute_result"
    }
   ],
   "source": [
    "# светимость Солнца (константа)\n",
    "l_0 = 3.828 * 10**26\n",
    "\n",
    "lum_values = np.array(stars['luminosity, L/Lo'])\n",
    "\n",
    "stars['lg_lum'] = np.log10(l_0  * lum_values)\n",
    "\n",
    "stars.head()"
   ]
  },
  {
   "cell_type": "code",
   "execution_count": 39,
   "metadata": {
    "colab": {
     "base_uri": "https://localhost:8080/",
     "height": 224
    },
    "id": "ForAWGabnYdg",
    "outputId": "4078effa-5caf-4c5c-ac15-24b232dca00c"
   },
   "outputs": [
    {
     "data": {
      "text/html": [
       "<div>\n",
       "<style scoped>\n",
       "    .dataframe tbody tr th:only-of-type {\n",
       "        vertical-align: middle;\n",
       "    }\n",
       "\n",
       "    .dataframe tbody tr th {\n",
       "        vertical-align: top;\n",
       "    }\n",
       "\n",
       "    .dataframe thead th {\n",
       "        text-align: right;\n",
       "    }\n",
       "</style>\n",
       "<table border=\"1\" class=\"dataframe\">\n",
       "  <thead>\n",
       "    <tr style=\"text-align: right;\">\n",
       "      <th></th>\n",
       "      <th>temperature, K</th>\n",
       "      <th>luminosity, L/Lo</th>\n",
       "      <th>radius, R/Ro</th>\n",
       "      <th>absolute_magnitude, Mv</th>\n",
       "      <th>star_type</th>\n",
       "      <th>star_color</th>\n",
       "      <th>type_color</th>\n",
       "      <th>lg_lum</th>\n",
       "      <th>lg_rad</th>\n",
       "    </tr>\n",
       "  </thead>\n",
       "  <tbody>\n",
       "    <tr>\n",
       "      <th>0</th>\n",
       "      <td>3068</td>\n",
       "      <td>0.002400</td>\n",
       "      <td>0.1700</td>\n",
       "      <td>16.12</td>\n",
       "      <td>0</td>\n",
       "      <td>red</td>\n",
       "      <td>blue</td>\n",
       "      <td>23.963183</td>\n",
       "      <td>25.813421</td>\n",
       "    </tr>\n",
       "    <tr>\n",
       "      <th>1</th>\n",
       "      <td>3042</td>\n",
       "      <td>0.000500</td>\n",
       "      <td>0.1542</td>\n",
       "      <td>16.60</td>\n",
       "      <td>0</td>\n",
       "      <td>red</td>\n",
       "      <td>blue</td>\n",
       "      <td>23.281942</td>\n",
       "      <td>25.771056</td>\n",
       "    </tr>\n",
       "    <tr>\n",
       "      <th>2</th>\n",
       "      <td>2600</td>\n",
       "      <td>0.000300</td>\n",
       "      <td>0.1020</td>\n",
       "      <td>18.70</td>\n",
       "      <td>0</td>\n",
       "      <td>red</td>\n",
       "      <td>blue</td>\n",
       "      <td>23.060093</td>\n",
       "      <td>25.591572</td>\n",
       "    </tr>\n",
       "    <tr>\n",
       "      <th>3</th>\n",
       "      <td>2800</td>\n",
       "      <td>0.000200</td>\n",
       "      <td>0.1600</td>\n",
       "      <td>16.65</td>\n",
       "      <td>0</td>\n",
       "      <td>red</td>\n",
       "      <td>blue</td>\n",
       "      <td>22.884002</td>\n",
       "      <td>25.787092</td>\n",
       "    </tr>\n",
       "    <tr>\n",
       "      <th>4</th>\n",
       "      <td>1939</td>\n",
       "      <td>0.000138</td>\n",
       "      <td>0.1030</td>\n",
       "      <td>20.06</td>\n",
       "      <td>0</td>\n",
       "      <td>red</td>\n",
       "      <td>blue</td>\n",
       "      <td>22.722851</td>\n",
       "      <td>25.595809</td>\n",
       "    </tr>\n",
       "  </tbody>\n",
       "</table>\n",
       "</div>"
      ],
      "text/plain": [
       "   temperature, K  luminosity, L/Lo  radius, R/Ro  absolute_magnitude, Mv  \\\n",
       "0            3068          0.002400        0.1700                   16.12   \n",
       "1            3042          0.000500        0.1542                   16.60   \n",
       "2            2600          0.000300        0.1020                   18.70   \n",
       "3            2800          0.000200        0.1600                   16.65   \n",
       "4            1939          0.000138        0.1030                   20.06   \n",
       "\n",
       "   star_type star_color type_color     lg_lum     lg_rad  \n",
       "0          0        red       blue  23.963183  25.813421  \n",
       "1          0        red       blue  23.281942  25.771056  \n",
       "2          0        red       blue  23.060093  25.591572  \n",
       "3          0        red       blue  22.884002  25.787092  \n",
       "4          0        red       blue  22.722851  25.595809  "
      ]
     },
     "execution_count": 39,
     "metadata": {},
     "output_type": "execute_result"
    }
   ],
   "source": [
    "# радиус Солнца (константа)\n",
    "r_0 = 6.9551 * 10**8\n",
    "\n",
    "rad_values = np.array(stars['radius, R/Ro'])\n",
    "\n",
    "stars['lg_rad'] = np.log10(l_0  * rad_values)\n",
    "\n",
    "stars.head()"
   ]
  },
  {
   "cell_type": "code",
   "execution_count": 40,
   "metadata": {
    "colab": {
     "base_uri": "https://localhost:8080/",
     "height": 1000
    },
    "id": "KmfK3MnZuRpC",
    "outputId": "aacce033-f157-4037-c462-b6901d3b1daa"
   },
   "outputs": [
    {
     "data": {
      "image/png": "[encoded data removed]",
      "text/plain": [
       "<Figure size 360x360 with 1 Axes>"
      ]
     },
     "metadata": {
      "needs_background": "light"
     },
     "output_type": "display_data"
    },
    {
     "data": {
      "image/png": "[encoded data removed]",
      "text/plain": [
       "<Figure size 360x360 with 1 Axes>"
      ]
     },
     "metadata": {
      "needs_background": "light"
     },
     "output_type": "display_data"
    },
    {
     "name": "stdout",
     "output_type": "stream",
     "text": [
      "count    240.00\n",
      "mean      27.29\n",
      "std        3.96\n",
      "min       22.49\n",
      "25%       23.52\n",
      "50%       25.42\n",
      "75%       31.88\n",
      "max       32.51\n",
      "Name: lg_lum, dtype: float64\n"
     ]
    }
   ],
   "source": [
    "histogram(stars, 'lg_lum')\n",
    "whiskers(stars, 'lg_lum')"
   ]
  },
  {
   "cell_type": "markdown",
   "metadata": {
    "id": "M3F0W2f8ujzF"
   },
   "source": [
    "Распределение приняло более нормальный вид, выбросы исчезли"
   ]
  },
  {
   "cell_type": "code",
   "execution_count": 41,
   "metadata": {
    "colab": {
     "base_uri": "https://localhost:8080/",
     "height": 1000
    },
    "id": "XdAnHYERue7b",
    "outputId": "6ac9bb9b-562a-431f-dde0-8e396ebee740"
   },
   "outputs": [
    {
     "data": {
      "image/png": "[encoded data removed]",
      "text/plain": [
       "<Figure size 360x360 with 1 Axes>"
      ]
     },
     "metadata": {
      "needs_background": "light"
     },
     "output_type": "display_data"
    },
    {
     "data": {
      "image/png": "[encoded data removed]",
      "text/plain": [
       "<Figure size 360x360 with 1 Axes>"
      ]
     },
     "metadata": {
      "needs_background": "light"
     },
     "output_type": "display_data"
    },
    {
     "name": "stdout",
     "output_type": "stream",
     "text": [
      "count    240.00\n",
      "mean      26.89\n",
      "std        1.71\n",
      "min       24.51\n",
      "25%       25.59\n",
      "50%       26.46\n",
      "75%       28.21\n",
      "max       29.87\n",
      "Name: lg_rad, dtype: float64\n"
     ]
    }
   ],
   "source": [
    "histogram(stars, 'lg_rad')\n",
    "whiskers(stars, 'lg_rad')"
   ]
  },
  {
   "cell_type": "markdown",
   "metadata": {
    "id": "NeLe_x0Tu02f"
   },
   "source": [
    "Аналогичная картина для логарифма радиуса"
   ]
  },
  {
   "cell_type": "code",
   "execution_count": 42,
   "metadata": {
    "colab": {
     "base_uri": "https://localhost:8080/",
     "height": 640
    },
    "id": "yoUILbI4uzMU",
    "outputId": "511236bc-3e57-4c2f-ef5c-6130dd19132f"
   },
   "outputs": [
    {
     "name": "stdout",
     "output_type": "stream",
     "text": [
      "interval columns not set, guessing: ['temperature, K', 'lg_lum', 'lg_rad']\n"
     ]
    },
    {
     "data": {
      "image/png": "[encoded data removed]",
      "text/plain": [
       "<Figure size 504x504 with 2 Axes>"
      ]
     },
     "metadata": {
      "needs_background": "light"
     },
     "output_type": "display_data"
    }
   ],
   "source": [
    "plt.figure(figsize=(7, 7))\n",
    "sns.heatmap(stars[['temperature, K', 'lg_lum', 'lg_rad']] \\\n",
    "            .phik_matrix(), \\\n",
    "             annot=True, cmap='coolwarm', vmin=0, vmax=1)\n",
    "plt.title('Матрица корреляции phik')\n",
    "\n",
    "plt.show()"
   ]
  },
  {
   "cell_type": "markdown",
   "metadata": {
    "id": "spcpNs4RyRU5"
   },
   "source": [
    "Теснота связи с целевым признаком также \"подросла\":\n",
    "\n",
    "- с `lg_lum` заметная, 0.71 против 0.56 у `luminosity, L/Lo`;\n",
    "- с `lg_rad` заметная, 0.61 против 0.24 у `radius, R/Ro`.\n",
    "\n",
    "Эти признаки будем использовать при дальнейшем обучении модели."
   ]
  },
  {
   "cell_type": "code",
   "execution_count": 43,
   "metadata": {
    "scrolled": true
   },
   "outputs": [
    {
     "data": {
      "image/png": "[encoded data removed]",
      "text/plain": [
       "<Figure size 1134.5x1080 with 27 Axes>"
      ]
     },
     "metadata": {
      "needs_background": "light"
     },
     "output_type": "display_data"
    }
   ],
   "source": [
    "# список признаков, по которым строим диаграммы рассеяния\n",
    "columns_to_consider = ['temperature, K', 'luminosity, L/Lo', 'radius, R/Ro', \\\n",
    "                       'absolute_magnitude, Mv', 'lg_lum', 'lg_rad']\n",
    "\n",
    "# используем seaborn для попарных диаграмм рассеяния с учётом цветов точек\n",
    "sns.pairplot(\n",
    "    stars,\n",
    "    vars=columns_to_consider,\n",
    "    hue='star_type',  # зависимость цвета точек от значения 'star_type'\n",
    "    palette=star_type_color_map,\n",
    "    markers='o',\n",
    "    corner=True,  # убираем симметричные дублирующие графики\n",
    "    plot_kws={'alpha': 0.7, 's': 50, 'edgecolor': 'k'}\n",
    ")\n",
    "\n",
    "plt.suptitle(\"Диаграммы рассеяния по типу звёзд\", y=1.02, fontsize=16)\n",
    "plt.show()"
   ]
  },
  {
   "cell_type": "markdown",
   "metadata": {},
   "source": [
    "После добавления новых признаков (логарифмов светимости и радиуса), выявлена корреляция между  `lg_lum` и `temperature, K` для звёзд 0-го...3-го типов (коричневые, красные, белые карлики и звёзды главной последовательности), между `lg_lum` и `absolute_magnitude, Mv`, `lg_rad` и `absolute_magnitude, Mv`, `lg_lum` и `lg_rad` для звёзд 0-го, 1-го и 3-го типов (коричневые, красные карлики и звёзды главной последовательности)"
   ]
  },
  {
   "cell_type": "markdown",
   "metadata": {
    "id": "di4Q3oUk3Byl"
   },
   "source": [
    "Выводы по разделу:\n",
    "\n",
    "- создали два новых признака - логарифмы светимости `lg_lum` и радиуса `lg_rad`, взяв за основу диаграмму рассеяния Герцшпрунга-Рассела и табличные коэффициенты для Солнца;\n",
    "- выбросы исчезли, распределения приняли более нормальный вид, теснота связей с целевым признаком лучше, чем у признаков-\"родителей\": с `lg_lum` заметная, 0.71 против 0.56 у `luminosity, L/Lo`; с `lg_rad` заметная, 0.61 против 0.24 у `radius, R/Ro`;\n",
    "- дополнительно выявлена корреляция между  `lg_lum` и `temperature, K` для звёзд 0-го...3-го типов (коричневые, красные, белые карлики и звёзды главной последовательности), между `lg_lum` и `absolute_magnitude, Mv`, `lg_rad` и `absolute_magnitude, Mv`, `lg_lum` и `lg_rad` для звёзд 0-го, 1-го и 3-го типов (коричневые, красные карлики и звёзды главной последовательности);\n",
    "- стоит отметить, что на графике зависимости `lg_lum` от `temperature, K` чётко видны кластеры звёзд одного типа, что соответствует диаграмме Герцшпрунга-Рассела."
   ]
  },
  {
   "cell_type": "markdown",
   "metadata": {
    "id": "hFGzQwp851l-"
   },
   "source": [
    "## Подготовка данных к построению модели"
   ]
  },
  {
   "cell_type": "code",
   "execution_count": 44,
   "metadata": {
    "id": "xPzyb6Uo8zVh"
   },
   "outputs": [],
   "source": [
    "# разделим на тренировочную и тестовую выборки\n",
    "X_train, X_test, y_train, y_test = \\\n",
    "        train_test_split(stars.drop('temperature, K', axis=1),\n",
    "                         stars['temperature, K'],\n",
    "                         test_size = TEST_SIZE,\n",
    "                         random_state = RANDOM_STATE)"
   ]
  },
  {
   "cell_type": "code",
   "execution_count": 45,
   "metadata": {
    "id": "gqM47eQ39G9P"
   },
   "outputs": [],
   "source": [
    "# кодируем числовые и категориальные признаки\n",
    "cat_features = ['star_type', 'star_color', 'type_color']\n",
    "num_features = ['luminosity, L/Lo', 'radius, R/Ro', 'absolute_magnitude, Mv', \\\n",
    "               'lg_lum', 'lg_rad']\n",
    "\n",
    "col_transformer = ColumnTransformer(\n",
    "    transformers=[\n",
    "        ('scaler', StandardScaler(), num_features),\n",
    "        ('ohe', OneHotEncoder(drop='first', sparse_output=False,\n",
    "                              handle_unknown='ignore'), cat_features)\n",
    "    ],\n",
    "    remainder='passthrough',\n",
    "    n_jobs=-1\n",
    ")"
   ]
  },
  {
   "cell_type": "code",
   "execution_count": 46,
   "metadata": {
    "id": "AMwmXcFr_FaJ"
   },
   "outputs": [],
   "source": [
    "# масштабируем признаки\n",
    "X_train = col_transformer.fit_transform(X_train)\n",
    "X_test = col_transformer.transform(X_test)"
   ]
  },
  {
   "cell_type": "markdown",
   "metadata": {
    "id": "hTRsM8YGogf3"
   },
   "source": [
    "Выводы по разделу:\n",
    "\n",
    "- разделили датасет на тренировочную и тестовую выборки;\n",
    "- провели кодирование числовых и категориальных признаков и последующее их масштабирование."
   ]
  },
  {
   "cell_type": "markdown",
   "metadata": {
    "id": "eCqVbHE4sm-E"
   },
   "source": [
    "## Построение простой модели нейронной сети - baseline"
   ]
  },
  {
   "cell_type": "code",
   "execution_count": 47,
   "metadata": {
    "id": "yLRNTaVKQD9A"
   },
   "outputs": [],
   "source": [
    "# создадим тензоры из наших выборок\n",
    "X_train = torch.FloatTensor(X_train)\n",
    "X_test = torch.FloatTensor(X_test)\n",
    "y_train = torch.FloatTensor(y_train.values)\n",
    "y_test = torch.FloatTensor(y_test.values)"
   ]
  },
  {
   "cell_type": "code",
   "execution_count": 48,
   "metadata": {
    "colab": {
     "base_uri": "https://localhost:8080/"
    },
    "id": "xPYwxSFLQawq",
    "outputId": "47f14581-3024-434d-8750-f5fb0bca3f03"
   },
   "outputs": [
    {
     "data": {
      "text/plain": [
       "<torch._C.Generator at 0x7f7964b24df0>"
      ]
     },
     "execution_count": 48,
     "metadata": {},
     "output_type": "execute_result"
    }
   ],
   "source": [
    "# количество нейронов на каждом слое\n",
    "n_in_neurons = X_train.shape[1]\n",
    "n_hidden_neurons_1 = 12\n",
    "n_hidden_neurons_2 = 8\n",
    "n_out_neurons = 1\n",
    "\n",
    "# зафиксируем случайность PyTorch\n",
    "torch.manual_seed(RANDOM_STATE)"
   ]
  },
  {
   "cell_type": "markdown",
   "metadata": {
    "id": "TfVkKWPP2xE5"
   },
   "source": [
    "Создадим класс для задания архитектуры нейронной сети. Будем использовать два скрытых слоя, в качестве функций активации методом подбора были выбраны LeakyReLu на всех слоях. Аналогичный вариант с ReLU даёт метрику RMSE выше требуемой (4545), а применение Tahn и Sigmoid вообще не меняют метрику (13390 на всех эпохах)."
   ]
  },
  {
   "cell_type": "code",
   "execution_count": 49,
   "metadata": {
    "id": "FktnMDVvzvqJ"
   },
   "outputs": [],
   "source": [
    "class BaseLine(nn.Module):\n",
    "    def __init__(self, n_in_neurons, n_hidden_neurons_1, \\\n",
    "                  n_hidden_neurons_2, n_out_neurons):\n",
    "        super(BaseLine, self).__init__()\n",
    "        self.fc1 = nn.Linear(n_in_neurons, n_hidden_neurons_1)\n",
    "        self.ac1 = nn.LeakyReLU()\n",
    "        self.fc2 = nn.Linear(n_hidden_neurons_1, n_hidden_neurons_2)\n",
    "        self.ac2 = nn.LeakyReLU()\n",
    "        self.fc3 = nn.Linear(n_hidden_neurons_2, n_out_neurons)\n",
    "        self.ac3 = nn.LeakyReLU()\n",
    "\n",
    "    def forward(self, x):\n",
    "        x = self.fc1(x)\n",
    "        x = self.ac1(x)\n",
    "        x = self.fc2(x)\n",
    "        x = self.ac2(x)\n",
    "        x = self.fc3(x)\n",
    "        x = self.ac3(x)\n",
    "        return x\n",
    "\n",
    "# инициализируем нейросеть\n",
    "net = BaseLine(n_in_neurons, n_hidden_neurons_1, n_hidden_neurons_2, \\\n",
    "               n_out_neurons)"
   ]
  },
  {
   "cell_type": "markdown",
   "metadata": {
    "id": "OD3AysNi3bW7"
   },
   "source": [
    "Создадим функцию обучения модели, применим L1- и L2-регуляризации весов:"
   ]
  },
  {
   "cell_type": "code",
   "execution_count": 50,
   "metadata": {
    "id": "j9lvBfUau10P"
   },
   "outputs": [],
   "source": [
    "# оптимизатор\n",
    "optimizer = torch.optim.Adam(net.parameters(), lr=1e-3)\n",
    "# функция потерь\n",
    "loss = nn.MSELoss()\n",
    "\n",
    "def model_train(x_train, y_train):\n",
    "    net.train()\n",
    "    optimizer.zero_grad()\n",
    "    preds = net.forward(x_train).flatten()\n",
    "    mse_loss = loss(preds, y_train)\n",
    "\n",
    "    # добавляем одновременно l1- и l2-регуляризации весов\n",
    "    l1_lambda = 0.005\n",
    "    l1_norm = sum(p.abs().sum() for p in net.parameters())\n",
    "    l2_lambda = 0.01\n",
    "    l2_norm = sum(p.pow(2.0).sum() for p in net.parameters())\n",
    "    result_loss = mse_loss + l1_lambda * l1_norm + l2_lambda * l2_norm\n",
    "    result_loss.backward()\n",
    "\n",
    "    # обновляем веса\n",
    "    optimizer.step()"
   ]
  },
  {
   "cell_type": "markdown",
   "metadata": {
    "id": "QAapUXDN5PXt"
   },
   "source": [
    "Создадим функцию тестирования модели:"
   ]
  },
  {
   "cell_type": "code",
   "execution_count": 51,
   "metadata": {
    "id": "a4IWiIKezvtP"
   },
   "outputs": [],
   "source": [
    "def model_test(epoch):\n",
    "    # переводим модель в режим тестирования\n",
    "    net.eval()\n",
    "    # получаем предсказания\n",
    "    test_preds = net.forward(X_test).flatten()\n",
    "    print('Epoch number: ', epoch)\n",
    "    print('RMSE = ', torch.sqrt(loss(test_preds, y_test)).item(), '\\n')\n",
    "    return test_preds"
   ]
  },
  {
   "cell_type": "markdown",
   "metadata": {
    "id": "6Qm-vn_E57zR"
   },
   "source": [
    "теперь создадим функцию для Кайминг-инициализации весов:"
   ]
  },
  {
   "cell_type": "code",
   "execution_count": 52,
   "metadata": {
    "colab": {
     "base_uri": "https://localhost:8080/"
    },
    "id": "NDCVAAf03NHl",
    "outputId": "78cba572-5f6e-498b-9194-60251df57564"
   },
   "outputs": [
    {
     "data": {
      "text/plain": [
       "BaseLine(\n",
       "  (fc1): Linear(in_features=20, out_features=12, bias=True)\n",
       "  (ac1): LeakyReLU(negative_slope=0.01)\n",
       "  (fc2): Linear(in_features=12, out_features=8, bias=True)\n",
       "  (ac2): LeakyReLU(negative_slope=0.01)\n",
       "  (fc3): Linear(in_features=8, out_features=1, bias=True)\n",
       "  (ac3): LeakyReLU(negative_slope=0.01)\n",
       ")"
      ]
     },
     "execution_count": 52,
     "metadata": {},
     "output_type": "execute_result"
    }
   ],
   "source": [
    "def init_weights(layer):\n",
    "    if type(layer) == nn.Linear:\n",
    "        nn.init.kaiming_uniform_(\n",
    "            layer.weight,\n",
    "            mode='fan_in',\n",
    "            nonlinearity='relu'\n",
    "        )\n",
    "\n",
    "# применим инициализацию ко всем слоям\n",
    "net.apply(init_weights)"
   ]
  },
  {
   "cell_type": "code",
   "execution_count": 53,
   "metadata": {
    "id": "iWmqz5dUNF6g"
   },
   "outputs": [],
   "source": [
    "# создадим функцию для отображения графика \"Факт-прогноз\"\n",
    "def show_graph(y_pred):\n",
    "    \n",
    "    basic_df = y_test\n",
    "    nn_df = y_pred\n",
    "\n",
    "    plt.figure(figsize=(10, 7))\n",
    "    plt.bar(range(len(nn_df)), nn_df.detach().numpy(), \\\n",
    "            color='orange', label='Прогноз')\n",
    "    plt.bar(range(len(basic_df)), basic_df, color='lightblue', width=0.4,\n",
    "            label='Факт')\n",
    "\n",
    "    plt.legend()\n",
    "    plt.title('Факт-прогноз', fontsize=10)\n",
    "    plt.xlabel('Номер звезды в таблице данных', fontsize=10)\n",
    "    plt.ylabel('Температура звезды, К', fontsize=10)\n",
    "    plt.xticks(fontsize=10)\n",
    "    plt.yticks(fontsize=10)\n",
    "    plt.show()"
   ]
  },
  {
   "cell_type": "markdown",
   "metadata": {
    "id": "-zKC6J5U7qKo"
   },
   "source": [
    "Обучим нейросеть:"
   ]
  },
  {
   "cell_type": "code",
   "execution_count": 54,
   "metadata": {
    "colab": {
     "base_uri": "https://localhost:8080/"
    },
    "id": "mVxhoQpZ3NKq",
    "outputId": "2f3d0cb8-002b-4fec-ec48-21c88186fa30"
   },
   "outputs": [
    {
     "name": "stdout",
     "output_type": "stream",
     "text": [
      "Epoch number:  0\n",
      "RMSE =  13390.486328125 \n",
      "\n",
      "Epoch number:  1000\n",
      "RMSE =  11620.25 \n",
      "\n",
      "Epoch number:  2000\n",
      "RMSE =  7512.27392578125 \n",
      "\n",
      "Epoch number:  3000\n",
      "RMSE =  6131.95703125 \n",
      "\n",
      "Epoch number:  4000\n",
      "RMSE =  5682.74609375 \n",
      "\n",
      "Epoch number:  5000\n",
      "RMSE =  5305.74951171875 \n",
      "\n",
      "Epoch number:  6000\n",
      "RMSE =  4960.5810546875 \n",
      "\n",
      "Epoch number:  7000\n",
      "RMSE =  4661.169921875 \n",
      "\n",
      "Epoch number:  8000\n",
      "RMSE =  4510.1669921875 \n",
      "\n",
      "Epoch number:  9000\n",
      "RMSE =  4460.9072265625 \n",
      "\n",
      "Epoch number:  10000\n",
      "RMSE =  4402.45458984375 \n",
      "\n",
      "Epoch number:  11000\n",
      "RMSE =  4476.43212890625 \n",
      "\n",
      "Epoch number:  12000\n",
      "RMSE =  4555.83349609375 \n",
      "\n",
      "Epoch number:  13000\n",
      "RMSE =  4659.3681640625 \n",
      "\n",
      "Epoch number:  14000\n",
      "RMSE =  4774.27001953125 \n",
      "\n"
     ]
    }
   ],
   "source": [
    "best_rmse_baseline = float('inf') # задаём мин. значение RMSE как бесконечность\n",
    "num_epochs = 15000\n",
    "\n",
    "for epoch in range(num_epochs):\n",
    "    model_train(X_train, y_train)\n",
    "    if epoch % 1000 == 0:\n",
    "        baseline_preds = model_test(epoch)\n",
    "        current_rmse = torch.sqrt(loss(baseline_preds, y_test)).item()\n",
    "        if current_rmse < best_rmse_baseline:\n",
    "            best_rmse_baseline = current_rmse"
   ]
  },
  {
   "cell_type": "code",
   "execution_count": 55,
   "metadata": {
    "colab": {
     "base_uri": "https://localhost:8080/",
     "height": 638
    },
    "id": "aD0UCE2VzvwD",
    "outputId": "7534f667-f037-4a6a-e2f5-388b9e9f4a33"
   },
   "outputs": [
    {
     "data": {
      "image/png": "[encoded data removed]",
      "text/plain": [
       "<Figure size 720x504 with 1 Axes>"
      ]
     },
     "metadata": {
      "needs_background": "light"
     },
     "output_type": "display_data"
    }
   ],
   "source": [
    "show_graph(baseline_preds)"
   ]
  },
  {
   "cell_type": "markdown",
   "metadata": {
    "id": "xq-MrXqKRBQE"
   },
   "source": [
    "Выводы по разделу:\n",
    "\n",
    "- создали класс для задания архитектуры простой нейросети. Использовали два скрытых слоя, в качестве функций активации на каждом из них путём подбора были выбраны LeakyReLu;\n",
    "- создали функцию обучения модели, применили в ней одновременно L1- и L2-регуляризации весов;\n",
    "- создали функцию для Кайминг-инициализации весов с параметрами `mode='fan_in'`, `nonlinearity='relu'`;\n",
    "- создали функцию для отображения графика \"факт-прогноз\", где по горизонтальной оси отложены условные номера звёзд, а по вертикальной — температура в Кельвинах;\n",
    "- обучили созданную нейросеть, задав количество эпох = 15000 с шагом 1000, в результате получили значение искомой метрики RMSE = 4402, что удовлетворяет условиям задачи (<= 4500);\n",
    "- прогнозная температура звёзд №№ 14, 20, 22, 25, 37, 41, 45 и 53 заметно выше фактической, в остальном модель показывает себя неплохо."
   ]
  },
  {
   "cell_type": "markdown",
   "metadata": {
    "id": "PhthGGQ9S8SE"
   },
   "source": [
    "## Улучшение нейросети"
   ]
  },
  {
   "cell_type": "markdown",
   "metadata": {
    "id": "qDWcuI9NTGIi"
   },
   "source": [
    "Создадим решение с перебором параметров нейросети. Список параметров для перебора будет включать техники регуляризации `dropout` и `batch normalization`. Архитектуру нейронной сети: количество слоёв, нейронов, вид функции активации оставим как в Baseline, чтобы сравнить результат."
   ]
  },
  {
   "cell_type": "markdown",
   "metadata": {
    "id": "fCag_SdxKsmK"
   },
   "source": [
    "Создадим сначала класс-наследник для регуляризации `Dropout`:"
   ]
  },
  {
   "cell_type": "code",
   "execution_count": 56,
   "metadata": {
    "id": "wXUAtik9MwGG"
   },
   "outputs": [],
   "source": [
    "class Dropout_nn(nn.Module):\n",
    "    def __init__(self, n_in_neurons, n_hidden_neurons_1, \\\n",
    "                  n_hidden_neurons_2, n_out_neurons):\n",
    "        super(Dropout_nn, self).__init__()\n",
    "        self.fc1 = nn.Linear(n_in_neurons, n_hidden_neurons_1)\n",
    "        self.dp1 = nn.Dropout(p=0.1)\n",
    "        self.ac1 = nn.LeakyReLU()\n",
    "        self.fc2 = nn.Linear(n_hidden_neurons_1, n_hidden_neurons_2)\n",
    "        self.dp2 = nn.Dropout(p=0.3)\n",
    "        self.ac2 = nn.LeakyReLU()\n",
    "        self.fc3 = nn.Linear(n_hidden_neurons_2, n_out_neurons)\n",
    "        self.ac3 = nn.LeakyReLU()\n",
    "\n",
    "    def forward(self, x):\n",
    "        x = self.fc1(x)\n",
    "        x = self.dp1(x)\n",
    "        x = self.ac1(x)\n",
    "        x = self.fc2(x)\n",
    "        x = self.dp2(x)\n",
    "        x = self.ac2(x)\n",
    "        x = self.fc3(x)\n",
    "        x = self.ac3(x)\n",
    "        return x\n",
    "\n",
    "# инициализируем нейросеть\n",
    "net = Dropout_nn(n_in_neurons, n_hidden_neurons_1, n_hidden_neurons_2, \\\n",
    "               n_out_neurons)"
   ]
  },
  {
   "cell_type": "code",
   "execution_count": 57,
   "metadata": {
    "colab": {
     "base_uri": "https://localhost:8080/"
    },
    "id": "72zsQePzS6NZ",
    "outputId": "14f853ec-81c7-4705-bdcd-cfca0eb5f5b4"
   },
   "outputs": [
    {
     "data": {
      "text/plain": [
       "Dropout_nn(\n",
       "  (fc1): Linear(in_features=20, out_features=12, bias=True)\n",
       "  (dp1): Dropout(p=0.1, inplace=False)\n",
       "  (ac1): LeakyReLU(negative_slope=0.01)\n",
       "  (fc2): Linear(in_features=12, out_features=8, bias=True)\n",
       "  (dp2): Dropout(p=0.3, inplace=False)\n",
       "  (ac2): LeakyReLU(negative_slope=0.01)\n",
       "  (fc3): Linear(in_features=8, out_features=1, bias=True)\n",
       "  (ac3): LeakyReLU(negative_slope=0.01)\n",
       ")"
      ]
     },
     "execution_count": 57,
     "metadata": {},
     "output_type": "execute_result"
    }
   ],
   "source": [
    "# применим инициализацию ко всем слоям\n",
    "net.apply(init_weights)"
   ]
  },
  {
   "cell_type": "code",
   "execution_count": 58,
   "metadata": {
    "id": "l5Ya18e9UP_C"
   },
   "outputs": [],
   "source": [
    "# оптимизатор\n",
    "optimizer = torch.optim.Adam(net.parameters(), lr=1e-3)"
   ]
  },
  {
   "cell_type": "code",
   "execution_count": 59,
   "metadata": {
    "colab": {
     "base_uri": "https://localhost:8080/"
    },
    "id": "2lMj-u7RUYVh",
    "outputId": "f4f16092-9ee4-47cd-9755-358aa5406d7f"
   },
   "outputs": [
    {
     "name": "stdout",
     "output_type": "stream",
     "text": [
      "Epoch number:  0\n",
      "RMSE =  13390.8466796875 \n",
      "\n",
      "Epoch number:  1000\n",
      "RMSE =  11728.6162109375 \n",
      "\n",
      "Epoch number:  2000\n",
      "RMSE =  7398.93603515625 \n",
      "\n",
      "Epoch number:  3000\n",
      "RMSE =  6059.8876953125 \n",
      "\n",
      "Epoch number:  4000\n",
      "RMSE =  5675.49853515625 \n",
      "\n",
      "Epoch number:  5000\n",
      "RMSE =  5323.607421875 \n",
      "\n",
      "Epoch number:  6000\n",
      "RMSE =  5027.02978515625 \n",
      "\n",
      "Epoch number:  7000\n",
      "RMSE =  4723.1162109375 \n",
      "\n",
      "Epoch number:  8000\n",
      "RMSE =  4472.9169921875 \n",
      "\n",
      "Epoch number:  9000\n",
      "RMSE =  4311.40380859375 \n",
      "\n",
      "Epoch number:  10000\n",
      "RMSE =  4202.2529296875 \n",
      "\n",
      "Epoch number:  11000\n",
      "RMSE =  4130.224609375 \n",
      "\n",
      "Epoch number:  12000\n",
      "RMSE =  4098.00830078125 \n",
      "\n",
      "Epoch number:  13000\n",
      "RMSE =  4054.0390625 \n",
      "\n",
      "Epoch number:  14000\n",
      "RMSE =  4119.2607421875 \n",
      "\n",
      "Epoch number:  15000\n",
      "RMSE =  4131.67529296875 \n",
      "\n",
      "Epoch number:  16000\n",
      "RMSE =  4179.2353515625 \n",
      "\n"
     ]
    }
   ],
   "source": [
    "best_rmse_dropout = float('inf')\n",
    "num_epochs = 17000\n",
    "\n",
    "for epoch in range(num_epochs):\n",
    "    model_train(X_train, y_train)\n",
    "    if epoch % 1000 == 0:\n",
    "        dropout_preds = model_test(epoch)\n",
    "        current_rmse = torch.sqrt(loss(dropout_preds, y_test)).item()\n",
    "        if current_rmse < best_rmse_dropout:\n",
    "            best_rmse_dropout = current_rmse"
   ]
  },
  {
   "cell_type": "code",
   "execution_count": 60,
   "metadata": {
    "colab": {
     "base_uri": "https://localhost:8080/",
     "height": 638
    },
    "id": "eMlTvZFPYjGN",
    "outputId": "7d3fb139-5aa1-4ef9-e649-748a95f9d7cb"
   },
   "outputs": [
    {
     "data": {
      "image/png": "[encoded data removed]",
      "text/plain": [
       "<Figure size 720x504 with 1 Axes>"
      ]
     },
     "metadata": {
      "needs_background": "light"
     },
     "output_type": "display_data"
    }
   ],
   "source": [
    "show_graph(dropout_preds)"
   ]
  },
  {
   "cell_type": "markdown",
   "metadata": {
    "id": "GsOf6isULNtw"
   },
   "source": [
    "При помощи метода регуляризации `Dropout` удалось достичь улучшения метрики RMSE, теперь она составляет 4054 против 4402 для Baseline. Количество звёзд с более высокой прогнозной температурой, чем фактической сократилось, сейчас можно выделить №№ 14, 20, 37, 41 и 53. По остальным звёздам тоже можно увидеть более сбалансированную картину, чем была на модели `Baseline`."
   ]
  },
  {
   "cell_type": "markdown",
   "metadata": {
    "id": "erUyPAZ0L5cr"
   },
   "source": [
    "Посмотрим, как с задачей справится метод регуляризации `Batch Normalization`. Аналогично, создадим класс-наследник:"
   ]
  },
  {
   "cell_type": "code",
   "execution_count": 61,
   "metadata": {
    "id": "EdTtai7cZLLD"
   },
   "outputs": [],
   "source": [
    "class Batch_nn(nn.Module):\n",
    "    def __init__(self, n_in_neurons, n_hidden_neurons_1, \\\n",
    "                  n_hidden_neurons_2, n_out_neurons):\n",
    "        super(Batch_nn, self).__init__()\n",
    "        self.fc1 = nn.Linear(n_in_neurons, n_hidden_neurons_1)\n",
    "        self.bn1 = nn.BatchNorm1d(n_hidden_neurons_1)\n",
    "        #self.dp1 = nn.Dropout(p=0.2)\n",
    "        self.ac1 = nn.LeakyReLU()\n",
    "        self.fc2 = nn.Linear(n_hidden_neurons_1, n_hidden_neurons_2)\n",
    "        self.bn2 = nn.BatchNorm1d(n_hidden_neurons_2)\n",
    "        self.ac2 = nn.LeakyReLU()\n",
    "        self.fc3 = nn.Linear(n_hidden_neurons_2, n_out_neurons)\n",
    "        self.ac3 = nn.LeakyReLU()\n",
    "\n",
    "    def forward(self, x):\n",
    "        x = self.fc1(x)\n",
    "        x = self.bn1(x)\n",
    "        x = self.ac1(x)\n",
    "        #x = self.dp1(x)\n",
    "        x = self.fc2(x)\n",
    "        x = self.bn2(x)\n",
    "        x = self.ac2(x)\n",
    "        x = self.fc3(x)\n",
    "        x = self.ac3(x)\n",
    "        return x\n",
    "\n",
    "# инициализируем нейросеть\n",
    "net = Batch_nn(n_in_neurons, n_hidden_neurons_1, n_hidden_neurons_2, \\\n",
    "               n_out_neurons)"
   ]
  },
  {
   "cell_type": "code",
   "execution_count": 62,
   "metadata": {
    "colab": {
     "base_uri": "https://localhost:8080/"
    },
    "id": "5f6lgFNzaixf",
    "outputId": "655e4ffa-1244-4d1a-aeb8-1a06c57db3ac"
   },
   "outputs": [
    {
     "data": {
      "text/plain": [
       "Batch_nn(\n",
       "  (fc1): Linear(in_features=20, out_features=12, bias=True)\n",
       "  (bn1): BatchNorm1d(12, eps=1e-05, momentum=0.1, affine=True, track_running_stats=True)\n",
       "  (ac1): LeakyReLU(negative_slope=0.01)\n",
       "  (fc2): Linear(in_features=12, out_features=8, bias=True)\n",
       "  (bn2): BatchNorm1d(8, eps=1e-05, momentum=0.1, affine=True, track_running_stats=True)\n",
       "  (ac2): LeakyReLU(negative_slope=0.01)\n",
       "  (fc3): Linear(in_features=8, out_features=1, bias=True)\n",
       "  (ac3): LeakyReLU(negative_slope=0.01)\n",
       ")"
      ]
     },
     "execution_count": 62,
     "metadata": {},
     "output_type": "execute_result"
    }
   ],
   "source": [
    "# применим инициализацию ко всем слоям\n",
    "net.apply(init_weights)"
   ]
  },
  {
   "cell_type": "code",
   "execution_count": 63,
   "metadata": {
    "id": "oXAjM7RNasfL"
   },
   "outputs": [],
   "source": [
    "# оптимизатор\n",
    "optimizer = torch.optim.Adam(net.parameters(), lr=1e-3)"
   ]
  },
  {
   "cell_type": "code",
   "execution_count": 64,
   "metadata": {
    "colab": {
     "base_uri": "https://localhost:8080/"
    },
    "id": "4KIgHPUzavzz",
    "outputId": "0f356167-9d73-488c-f6df-9995d78ef038"
   },
   "outputs": [
    {
     "name": "stdout",
     "output_type": "stream",
     "text": [
      "Epoch number:  0\n",
      "RMSE =  13390.8916015625 \n",
      "\n",
      "Epoch number:  3000\n",
      "RMSE =  13212.5029296875 \n",
      "\n",
      "Epoch number:  6000\n",
      "RMSE =  12752.7099609375 \n",
      "\n",
      "Epoch number:  9000\n",
      "RMSE =  12169.556640625 \n",
      "\n",
      "Epoch number:  12000\n",
      "RMSE =  11310.6796875 \n",
      "\n",
      "Epoch number:  15000\n",
      "RMSE =  10436.158203125 \n",
      "\n",
      "Epoch number:  18000\n",
      "RMSE =  9344.3466796875 \n",
      "\n",
      "Epoch number:  21000\n",
      "RMSE =  8940.25 \n",
      "\n",
      "Epoch number:  24000\n",
      "RMSE =  8769.6552734375 \n",
      "\n",
      "Epoch number:  27000\n",
      "RMSE =  9952.3515625 \n",
      "\n"
     ]
    }
   ],
   "source": [
    "best_rmse_batch = float('inf')\n",
    "num_epochs = 30000\n",
    "\n",
    "for epoch in range(num_epochs):\n",
    "    model_train(X_train, y_train)\n",
    "    if epoch % 3000 == 0:\n",
    "        batch_preds = model_test(epoch)\n",
    "        current_rmse = torch.sqrt(loss(batch_preds, y_test)).item()\n",
    "        if current_rmse < best_rmse_batch:\n",
    "            best_rmse_batch = current_rmse"
   ]
  },
  {
   "cell_type": "code",
   "execution_count": 65,
   "metadata": {
    "colab": {
     "base_uri": "https://localhost:8080/",
     "height": 638
    },
    "id": "IQpnYlqla1XT",
    "outputId": "ca3e0b55-8066-4bb1-e14a-ed54577eac9a"
   },
   "outputs": [
    {
     "data": {
      "image/png": "[encoded data removed]",
      "text/plain": [
       "<Figure size 720x504 with 1 Axes>"
      ]
     },
     "metadata": {
      "needs_background": "light"
     },
     "output_type": "display_data"
    }
   ],
   "source": [
    "show_graph(batch_preds)"
   ]
  },
  {
   "cell_type": "markdown",
   "metadata": {
    "id": "B7TCyrMv4Jxe"
   },
   "source": [
    "Попытки \"подтянуть\" RMSE за счёт изменения количества эпох и их шага, добавления параметра `weight_decay`, исключения слоёв, изменения `learning rate` не возымели должного эффекта - минимальное значение до переобучения модели составило 8769. В основном модель показала сильно заниженные прогнозы температуры относительно их реальных значений, за исключением нескольких звёзд №№ 2, 5, 6, 11, 55), где ситуация ровно противоположная. Возможно, причина в том, что `Batch Normalization` должен хорошо себя показывать на больших нейронных сетях (десятки слоёв), а для маленьких лучше подходит `Dropout`."
   ]
  },
  {
   "cell_type": "markdown",
   "metadata": {
    "id": "tJxaM4UD9g2F"
   },
   "source": [
    "Оформим полученные данные в виде таблицы:"
   ]
  },
  {
   "cell_type": "code",
   "execution_count": 66,
   "metadata": {
    "colab": {
     "base_uri": "https://localhost:8080/",
     "height": 143
    },
    "id": "fxXeK_0j9lWT",
    "outputId": "d9ba40ba-2038-40ba-d4b7-2196a564c9d5"
   },
   "outputs": [
    {
     "data": {
      "text/html": [
       "<div>\n",
       "<style scoped>\n",
       "    .dataframe tbody tr th:only-of-type {\n",
       "        vertical-align: middle;\n",
       "    }\n",
       "\n",
       "    .dataframe tbody tr th {\n",
       "        vertical-align: top;\n",
       "    }\n",
       "\n",
       "    .dataframe thead th {\n",
       "        text-align: right;\n",
       "    }\n",
       "</style>\n",
       "<table border=\"1\" class=\"dataframe\">\n",
       "  <thead>\n",
       "    <tr style=\"text-align: right;\">\n",
       "      <th></th>\n",
       "      <th>Model</th>\n",
       "      <th>RMSE</th>\n",
       "    </tr>\n",
       "  </thead>\n",
       "  <tbody>\n",
       "    <tr>\n",
       "      <th>0</th>\n",
       "      <td>Baseline</td>\n",
       "      <td>4402.454590</td>\n",
       "    </tr>\n",
       "    <tr>\n",
       "      <th>1</th>\n",
       "      <td>Dropout</td>\n",
       "      <td>4054.039062</td>\n",
       "    </tr>\n",
       "    <tr>\n",
       "      <th>2</th>\n",
       "      <td>Batch</td>\n",
       "      <td>8769.655273</td>\n",
       "    </tr>\n",
       "  </tbody>\n",
       "</table>\n",
       "</div>"
      ],
      "text/plain": [
       "      Model         RMSE\n",
       "0  Baseline  4402.454590\n",
       "1   Dropout  4054.039062\n",
       "2     Batch  8769.655273"
      ]
     },
     "metadata": {},
     "output_type": "display_data"
    }
   ],
   "source": [
    "data = {\n",
    "    'Model': ['Baseline', 'Dropout', 'Batch'],\n",
    "    'RMSE': [best_rmse_baseline, best_rmse_dropout, best_rmse_batch]\n",
    "}\n",
    "display(pd.DataFrame(data))"
   ]
  },
  {
   "cell_type": "markdown",
   "metadata": {
    "id": "nTR_RXd6-Ua1"
   },
   "source": [
    "Выводы по разделу:\n",
    "\n",
    "- создали класс-наследник для регуляризации `Dropout` Архитектуру нейронной сети: количество слоёв, нейронов, вид функций активации оставили такими же, как в BaseLine;\n",
    "- обучили нейросеть, в результате получили значение искомой метрики RMSE = 4054, что во-первых, удовлетворяет условиям задачи (<= 4500), во-вторых, является лучшим показателем, чем в модели BaseLine;\n",
    "- создали класс-наследник для регуляризации `Batch Normalization`. Архитектуру нейронной сети: количество слоёв, нейронов, вид функций активации оставили такими же, как в BaseLine;\n",
    "- обучили нейросеть, метрика RMSE так и не смогла приблизиться к требуемому значению 4500, достигнул минимума в 8769. Вероятная причина - нейронная сеть недостаточно большая."
   ]
  },
  {
   "cell_type": "markdown",
   "metadata": {
    "id": "CSwNfB-n7B_b"
   },
   "source": [
    "## Отчёт по исследованию"
   ]
  },
  {
   "cell_type": "markdown",
   "metadata": {
    "id": "BsXhzGquClrZ"
   },
   "source": [
    "Для решения задачи прогнозирования температуры звезды, были проделаны следующие этапы исследования:\n",
    "\n",
    "- загрузка и предобработка данных:\n",
    "  - считали данные из датасета, привели названия столбцов к единому виду (snake_case, строчные буквы);\n",
    "  - удалили столбец `Unnamed`, дублирующий индексы;\n",
    "  - пропущенные значения и явные дубликаты отсутствуют;\n",
    "  - обнаружили одинаковые цвета звёзд, записанные по-разному, привели их к единому виду.\n",
    "\n",
    "- исследовательский анализ данных:\n",
    "  - основная часть звёзд в выборке - красного цвета (46.67%), с температурой поверхности - до 3800 К (45.42%).\n",
    "\n",
    "- корреляционный анализ данных и feature engineering:\n",
    "  - построили тепловую карту коэффициентов корреляции phik, выявили тесноту связей целевого признака с входными: с `star_color` - высокая (0.75),`absolute_magnitude, Mv`, `star_type` и `luminosity, L/Lo` - заметная (0.71, 0.6 и 0.56, соответственно), а с `radius, R/Ro` - слабая (0.24);\n",
    "  - мультиколлинеарность между признаками не обнаружена;\n",
    "  - признаки `star_type` и `absolute_magnitude, Mv` имеют весьма высокую связь (0.92);\n",
    "  - наблюдается устойчивая корреляция между признаками `absolute_magnitude, Mv` и `temperature, K` для звёзд 2-го и 3-го типов (белые карлики и звёзды главной последовательности);\n",
    "  - создали два новых признака - логарифмы светимости `lg_lum` и радиуса `lg_rad`, взяв за основу диаграмму рассеяния Герцшпрунга-Рассела и табличные коэффициенты для Солнца. Выбросы исчезли, распределения приняли более нормальный вид, теснота связей с целевым признаком лучше, чем у признаков-\"родителей\": с `lg_lum` заметная, 0.71 против 0.56 у `luminosity, L/Lo`; с `lg_rad` заметная, 0.61 против 0.24 у `radius, R/Ro`. Дополнительно выявлена корреляция между `lg_lum` и `temperature, K` для звёзд 0-го...3-го типов (коричневые, красные, белые карлики и звёзды главной последовательности), между `lg_lum` и `absolute_magnitude, Mv`, `lg_rad` и `absolute_magnitude, Mv`, `lg_lum` и `lg_rad` для звёзд 0-го, 1-го и 3-го типов (коричневые, красные карлики и звёзды главной последовательности). На графике зависимости `lg_lum` от `temperature, K` чётко видны кластеры звёзд одного типа, что соответствует диаграмме Герцшпрунга-Рассела;\n",
    "\n",
    "- подготовка данных к построению простой модели нейронной сети baseline:\n",
    "  - разделили датасет на тренировочную и тестовую выборки, провели кодирование числовых и категориальных признаков и последующее их масштабирование;\n",
    "  - создали класс для задания архитектуры простой нейросети. Использовали два скрытых слоя, в качестве функций активации на каждом из них путём подбора были выбраны LeakyReLu;\n",
    "  - создали функцию обучения модели, применили в ней одновременно L1- и L2-регуляризации весов;\n",
    "  - создали функцию для Кайминг-инициализации весов с параметрами `mode='fan_in'`, `nonlinearity='relu'`;\n",
    "  - создали функцию для отображения графика \"факт-прогноз\", где по горизонтальной оси отложены условные номера звёзд, а по вертикальной — температура в Кельвинах;\n",
    "  - обучили созданную нейросеть, задав количество эпох = 15000 с шагом 1000, в результате получили значение искомой метрики RMSE = 4402, что удовлетворяет условиям задачи (<= 4500);\n",
    "  - прогнозная температура звёзд №№ 14, 20, 22, 25, 37, 41, 45 и 53 заметно выше фактической, в остальном модель показывает себя неплохо;\n",
    "\n",
    "- улучшение нейросети:\n",
    "  - создали класс-наследник для регуляризации `Dropout` Архитектуру нейронной сети: количество слоёв, нейронов, вид функций активации оставили такими же, как в BaseLine;\n",
    "  - обучили нейросеть, в результате получили значение искомой метрики RMSE = 4054, что во-первых, удовлетворяет условиям задачи (<= 4500), во-вторых, является лучшим показателем, чем в модели BaseLine;\n",
    "  - количество звёзд с более высокой прогнозной температурой, чем фактической сократилось, сейчас можно выделить №№ 14, 20, 37, 41 и 53. По остальным звёздам тоже можно увидеть более сбалансированную картину, чем была на модели `Baseline`;\n",
    "  - создали класс-наследник для регуляризации `Batch Normalization`. Архитектуру нейронной сети: количество слоёв, нейронов, вид функций активации оставили такими же, как в BaseLine;\n",
    "  - обучили нейросеть, метрику RMSE не получилось приблизить к требуемому значению 4500, достигли минимума в 8769. Вероятная причина - нейронная сеть недостаточно большая;\n",
    "  - в основном модель показала сильно заниженные прогнозы температуры относительно их реальных значений, за исключением нескольких звёзд №№ 2, 5, 6, 11, 55), где ситуация ровно противоположная.\n",
    "\n",
    "Рекомендация для Заказчика (обсерватории \"Небо на ладони\") - использовать нейронную сеть с регуляризацией `Dropout`, которая улучшила базовую модель, достигнув значения RMSE = 4054."
   ]
  }
 ],
 "metadata": {
  "ExecuteTimeLog": [
   {
    "duration": 3499,
    "start_time": "2025-01-30T21:03:01.267Z"
   },
   {
    "duration": 28085,
    "start_time": "2025-01-30T21:03:04.768Z"
   },
   {
    "duration": 2387,
    "start_time": "2025-01-30T21:03:32.855Z"
   },
   {
    "duration": 2,
    "start_time": "2025-01-30T21:03:35.244Z"
   },
   {
    "duration": 105,
    "start_time": "2025-01-30T21:03:35.247Z"
   },
   {
    "duration": 3,
    "start_time": "2025-01-30T21:03:35.353Z"
   },
   {
    "duration": 45,
    "start_time": "2025-01-30T21:03:35.357Z"
   },
   {
    "duration": 65,
    "start_time": "2025-01-30T21:03:35.403Z"
   },
   {
    "duration": 28,
    "start_time": "2025-01-30T21:03:35.470Z"
   },
   {
    "duration": 60,
    "start_time": "2025-01-30T21:03:35.500Z"
   },
   {
    "duration": 25,
    "start_time": "2025-01-30T21:03:35.562Z"
   },
   {
    "duration": 25,
    "start_time": "2025-01-30T21:03:35.589Z"
   },
   {
    "duration": 38,
    "start_time": "2025-01-30T21:03:35.615Z"
   },
   {
    "duration": 27,
    "start_time": "2025-01-30T21:03:35.655Z"
   },
   {
    "duration": 74,
    "start_time": "2025-01-30T21:03:35.684Z"
   },
   {
    "duration": 48,
    "start_time": "2025-01-30T21:03:35.759Z"
   },
   {
    "duration": 27,
    "start_time": "2025-01-30T21:03:35.809Z"
   },
   {
    "duration": 31,
    "start_time": "2025-01-30T21:03:35.837Z"
   },
   {
    "duration": 43,
    "start_time": "2025-01-30T21:03:35.870Z"
   },
   {
    "duration": 41,
    "start_time": "2025-01-30T21:03:35.915Z"
   },
   {
    "duration": 24,
    "start_time": "2025-01-30T21:03:35.958Z"
   },
   {
    "duration": 38,
    "start_time": "2025-01-30T21:03:35.983Z"
   },
   {
    "duration": 17,
    "start_time": "2025-01-30T21:03:36.022Z"
   },
   {
    "duration": 19,
    "start_time": "2025-01-30T21:03:36.041Z"
   },
   {
    "duration": 35,
    "start_time": "2025-01-30T21:03:36.062Z"
   },
   {
    "duration": 634,
    "start_time": "2025-01-30T21:03:36.099Z"
   },
   {
    "duration": 5,
    "start_time": "2025-01-30T21:03:36.735Z"
   },
   {
    "duration": 547,
    "start_time": "2025-01-30T21:03:36.743Z"
   },
   {
    "duration": 5,
    "start_time": "2025-01-30T21:03:37.292Z"
   },
   {
    "duration": 644,
    "start_time": "2025-01-30T21:03:37.298Z"
   },
   {
    "duration": 5,
    "start_time": "2025-01-30T21:03:37.944Z"
   },
   {
    "duration": 341,
    "start_time": "2025-01-30T21:03:37.951Z"
   },
   {
    "duration": 5,
    "start_time": "2025-01-30T21:03:38.294Z"
   },
   {
    "duration": 544,
    "start_time": "2025-01-30T21:03:38.300Z"
   },
   {
    "duration": 12,
    "start_time": "2025-01-30T21:03:38.845Z"
   },
   {
    "duration": 19,
    "start_time": "2025-01-30T21:03:38.859Z"
   },
   {
    "duration": 614,
    "start_time": "2025-01-30T21:03:38.880Z"
   },
   {
    "duration": 697,
    "start_time": "2025-01-30T21:03:39.496Z"
   },
   {
    "duration": 358,
    "start_time": "2025-01-30T21:03:40.194Z"
   },
   {
    "duration": 6,
    "start_time": "2025-01-30T21:03:40.554Z"
   },
   {
    "duration": 24,
    "start_time": "2025-01-30T21:03:40.562Z"
   },
   {
    "duration": 20,
    "start_time": "2025-01-30T21:03:40.588Z"
   },
   {
    "duration": 3,
    "start_time": "2025-01-30T21:03:40.609Z"
   },
   {
    "duration": 6,
    "start_time": "2025-01-30T21:03:40.614Z"
   },
   {
    "duration": 14,
    "start_time": "2025-01-30T21:03:40.622Z"
   },
   {
    "duration": 19,
    "start_time": "2025-01-30T21:03:40.638Z"
   },
   {
    "duration": 4,
    "start_time": "2025-01-30T21:03:40.659Z"
   },
   {
    "duration": 12,
    "start_time": "2025-01-30T21:03:40.664Z"
   },
   {
    "duration": 7,
    "start_time": "2025-01-30T21:03:40.678Z"
   },
   {
    "duration": 95046,
    "start_time": "2025-01-30T21:03:40.687Z"
   },
   {
    "duration": 350,
    "start_time": "2025-01-30T21:05:15.735Z"
   },
   {
    "duration": 7,
    "start_time": "2025-01-30T21:05:16.086Z"
   },
   {
    "duration": 9,
    "start_time": "2025-01-30T21:05:16.094Z"
   },
   {
    "duration": 4,
    "start_time": "2025-01-30T21:05:16.104Z"
   },
   {
    "duration": 137840,
    "start_time": "2025-01-30T21:05:16.110Z"
   },
   {
    "duration": 435,
    "start_time": "2025-01-30T21:07:33.952Z"
   },
   {
    "duration": 7,
    "start_time": "2025-01-30T21:07:34.388Z"
   },
   {
    "duration": 41,
    "start_time": "2025-01-30T21:07:34.396Z"
   },
   {
    "duration": 27,
    "start_time": "2025-01-30T21:07:34.439Z"
   },
   {
    "duration": 277970,
    "start_time": "2025-01-30T21:07:34.468Z"
   },
   {
    "duration": 365,
    "start_time": "2025-01-30T21:12:12.439Z"
   },
   {
    "duration": 7,
    "start_time": "2025-01-30T21:12:12.806Z"
   },
   {
    "duration": 348,
    "start_time": "2025-01-30T22:04:27.944Z"
   },
   {
    "duration": 6,
    "start_time": "2025-01-30T22:04:35.203Z"
   },
   {
    "duration": 509,
    "start_time": "2025-01-30T22:04:39.529Z"
   },
   {
    "duration": 5,
    "start_time": "2025-01-30T22:04:55.676Z"
   },
   {
    "duration": 367,
    "start_time": "2025-01-30T22:04:59.420Z"
   },
   {
    "duration": 64,
    "start_time": "2025-01-31T12:04:29.696Z"
   },
   {
    "duration": 26079,
    "start_time": "2025-01-31T12:04:41.249Z"
   },
   {
    "duration": 79305,
    "start_time": "2025-01-31T12:05:07.330Z"
   },
   {
    "duration": 10628,
    "start_time": "2025-01-31T12:06:26.637Z"
   },
   {
    "duration": 3,
    "start_time": "2025-01-31T12:06:37.271Z"
   },
   {
    "duration": 77,
    "start_time": "2025-01-31T12:06:37.276Z"
   },
   {
    "duration": 3,
    "start_time": "2025-01-31T12:06:37.355Z"
   },
   {
    "duration": 19,
    "start_time": "2025-01-31T12:06:37.359Z"
   },
   {
    "duration": 10,
    "start_time": "2025-01-31T12:06:37.380Z"
   },
   {
    "duration": 8,
    "start_time": "2025-01-31T12:06:37.392Z"
   },
   {
    "duration": 36,
    "start_time": "2025-01-31T12:06:37.403Z"
   },
   {
    "duration": 4,
    "start_time": "2025-01-31T12:06:37.441Z"
   },
   {
    "duration": 13,
    "start_time": "2025-01-31T12:06:37.447Z"
   },
   {
    "duration": 34,
    "start_time": "2025-01-31T12:06:37.461Z"
   },
   {
    "duration": 6,
    "start_time": "2025-01-31T12:06:37.497Z"
   },
   {
    "duration": 10,
    "start_time": "2025-01-31T12:06:37.504Z"
   },
   {
    "duration": 5,
    "start_time": "2025-01-31T12:06:37.516Z"
   },
   {
    "duration": 11,
    "start_time": "2025-01-31T12:06:37.523Z"
   },
   {
    "duration": 17,
    "start_time": "2025-01-31T13:27:09.247Z"
   },
   {
    "duration": 5,
    "start_time": "2025-01-31T13:27:12.162Z"
   },
   {
    "duration": 6,
    "start_time": "2025-01-31T13:27:34.211Z"
   },
   {
    "duration": 7,
    "start_time": "2025-01-31T13:28:03.690Z"
   },
   {
    "duration": 33468,
    "start_time": "2025-01-31T15:23:43.778Z"
   },
   {
    "duration": 5063,
    "start_time": "2025-01-31T15:25:51.256Z"
   },
   {
    "duration": 27434,
    "start_time": "2025-01-31T15:27:43.339Z"
   },
   {
    "duration": 11414,
    "start_time": "2025-01-31T15:29:16.493Z"
   },
   {
    "duration": 21773,
    "start_time": "2025-01-31T15:29:27.909Z"
   },
   {
    "duration": 55,
    "start_time": "2025-01-31T15:29:49.685Z"
   },
   {
    "duration": 6011,
    "start_time": "2025-01-31T15:30:36.885Z"
   },
   {
    "duration": 10694,
    "start_time": "2025-01-31T15:30:42.898Z"
   },
   {
    "duration": 52,
    "start_time": "2025-01-31T15:30:53.594Z"
   },
   {
    "duration": 0,
    "start_time": "2025-01-31T15:30:53.651Z"
   },
   {
    "duration": 0,
    "start_time": "2025-01-31T15:30:53.652Z"
   },
   {
    "duration": 0,
    "start_time": "2025-01-31T15:30:53.654Z"
   },
   {
    "duration": 0,
    "start_time": "2025-01-31T15:30:53.655Z"
   },
   {
    "duration": 0,
    "start_time": "2025-01-31T15:30:53.657Z"
   },
   {
    "duration": 0,
    "start_time": "2025-01-31T15:30:53.658Z"
   },
   {
    "duration": 0,
    "start_time": "2025-01-31T15:30:53.660Z"
   },
   {
    "duration": 0,
    "start_time": "2025-01-31T15:30:53.661Z"
   },
   {
    "duration": 0,
    "start_time": "2025-01-31T15:30:53.663Z"
   },
   {
    "duration": 0,
    "start_time": "2025-01-31T15:30:53.664Z"
   },
   {
    "duration": 0,
    "start_time": "2025-01-31T15:30:53.665Z"
   },
   {
    "duration": 0,
    "start_time": "2025-01-31T15:30:53.667Z"
   },
   {
    "duration": 0,
    "start_time": "2025-01-31T15:30:53.668Z"
   },
   {
    "duration": 0,
    "start_time": "2025-01-31T15:30:53.670Z"
   },
   {
    "duration": 0,
    "start_time": "2025-01-31T15:30:53.671Z"
   },
   {
    "duration": 0,
    "start_time": "2025-01-31T15:30:53.673Z"
   },
   {
    "duration": 0,
    "start_time": "2025-01-31T15:30:53.674Z"
   },
   {
    "duration": 0,
    "start_time": "2025-01-31T15:30:53.714Z"
   },
   {
    "duration": 0,
    "start_time": "2025-01-31T15:30:53.716Z"
   },
   {
    "duration": 0,
    "start_time": "2025-01-31T15:30:53.717Z"
   },
   {
    "duration": 0,
    "start_time": "2025-01-31T15:30:53.719Z"
   },
   {
    "duration": 0,
    "start_time": "2025-01-31T15:30:53.720Z"
   },
   {
    "duration": 0,
    "start_time": "2025-01-31T15:30:53.722Z"
   },
   {
    "duration": 0,
    "start_time": "2025-01-31T15:30:53.723Z"
   },
   {
    "duration": 0,
    "start_time": "2025-01-31T15:30:53.725Z"
   },
   {
    "duration": 0,
    "start_time": "2025-01-31T15:30:53.726Z"
   },
   {
    "duration": 0,
    "start_time": "2025-01-31T15:30:53.727Z"
   },
   {
    "duration": 0,
    "start_time": "2025-01-31T15:30:53.729Z"
   },
   {
    "duration": 0,
    "start_time": "2025-01-31T15:30:53.731Z"
   },
   {
    "duration": 0,
    "start_time": "2025-01-31T15:30:53.732Z"
   },
   {
    "duration": 0,
    "start_time": "2025-01-31T15:30:53.733Z"
   },
   {
    "duration": 0,
    "start_time": "2025-01-31T15:30:53.735Z"
   },
   {
    "duration": 0,
    "start_time": "2025-01-31T15:30:53.736Z"
   },
   {
    "duration": 0,
    "start_time": "2025-01-31T15:30:53.737Z"
   },
   {
    "duration": 0,
    "start_time": "2025-01-31T15:30:53.739Z"
   },
   {
    "duration": 0,
    "start_time": "2025-01-31T15:30:53.740Z"
   },
   {
    "duration": 0,
    "start_time": "2025-01-31T15:30:53.742Z"
   },
   {
    "duration": 0,
    "start_time": "2025-01-31T15:30:53.743Z"
   },
   {
    "duration": 0,
    "start_time": "2025-01-31T15:30:53.744Z"
   },
   {
    "duration": 0,
    "start_time": "2025-01-31T15:30:53.745Z"
   },
   {
    "duration": 0,
    "start_time": "2025-01-31T15:30:53.747Z"
   },
   {
    "duration": 0,
    "start_time": "2025-01-31T15:30:53.748Z"
   },
   {
    "duration": 0,
    "start_time": "2025-01-31T15:30:53.749Z"
   },
   {
    "duration": 0,
    "start_time": "2025-01-31T15:30:53.750Z"
   },
   {
    "duration": 0,
    "start_time": "2025-01-31T15:30:53.751Z"
   },
   {
    "duration": 0,
    "start_time": "2025-01-31T15:30:53.814Z"
   },
   {
    "duration": 0,
    "start_time": "2025-01-31T15:30:53.815Z"
   },
   {
    "duration": 0,
    "start_time": "2025-01-31T15:30:53.816Z"
   },
   {
    "duration": 0,
    "start_time": "2025-01-31T15:30:53.817Z"
   },
   {
    "duration": 0,
    "start_time": "2025-01-31T15:30:53.818Z"
   },
   {
    "duration": 0,
    "start_time": "2025-01-31T15:30:53.819Z"
   },
   {
    "duration": 0,
    "start_time": "2025-01-31T15:30:53.820Z"
   },
   {
    "duration": 0,
    "start_time": "2025-01-31T15:30:53.821Z"
   },
   {
    "duration": 0,
    "start_time": "2025-01-31T15:30:53.823Z"
   },
   {
    "duration": 0,
    "start_time": "2025-01-31T15:30:53.824Z"
   },
   {
    "duration": 0,
    "start_time": "2025-01-31T15:30:53.825Z"
   },
   {
    "duration": 0,
    "start_time": "2025-01-31T15:30:53.826Z"
   },
   {
    "duration": 0,
    "start_time": "2025-01-31T15:30:53.827Z"
   },
   {
    "duration": 0,
    "start_time": "2025-01-31T15:30:53.828Z"
   },
   {
    "duration": 0,
    "start_time": "2025-01-31T15:30:53.829Z"
   },
   {
    "duration": 0,
    "start_time": "2025-01-31T15:30:53.830Z"
   },
   {
    "duration": 4688,
    "start_time": "2025-02-01T04:38:44.675Z"
   },
   {
    "duration": 54989,
    "start_time": "2025-02-01T04:38:52.503Z"
   },
   {
    "duration": 9205,
    "start_time": "2025-02-01T04:39:47.494Z"
   },
   {
    "duration": 3,
    "start_time": "2025-02-01T04:40:08.174Z"
   },
   {
    "duration": 2,
    "start_time": "2025-02-01T04:40:09.887Z"
   },
   {
    "duration": 3,
    "start_time": "2025-02-01T04:40:10.776Z"
   },
   {
    "duration": 2,
    "start_time": "2025-02-01T04:40:13.086Z"
   },
   {
    "duration": 181,
    "start_time": "2025-02-01T04:40:14.808Z"
   },
   {
    "duration": 2,
    "start_time": "2025-02-01T04:40:17.147Z"
   },
   {
    "duration": 2,
    "start_time": "2025-02-01T04:40:17.476Z"
   },
   {
    "duration": 2,
    "start_time": "2025-02-01T04:40:18.901Z"
   },
   {
    "duration": 3,
    "start_time": "2025-02-01T04:40:19.548Z"
   },
   {
    "duration": 29,
    "start_time": "2025-02-01T04:40:21.310Z"
   },
   {
    "duration": 4,
    "start_time": "2025-02-01T04:40:23.827Z"
   },
   {
    "duration": 4,
    "start_time": "2025-02-01T04:40:27.301Z"
   },
   {
    "duration": 19,
    "start_time": "2025-02-01T04:40:28.023Z"
   },
   {
    "duration": 4,
    "start_time": "2025-02-01T04:40:43.957Z"
   },
   {
    "duration": 7,
    "start_time": "2025-02-01T04:40:45.883Z"
   },
   {
    "duration": 6,
    "start_time": "2025-02-01T04:40:48.689Z"
   },
   {
    "duration": 5,
    "start_time": "2025-02-01T04:40:49.447Z"
   },
   {
    "duration": 15,
    "start_time": "2025-02-01T04:40:59.433Z"
   },
   {
    "duration": 4,
    "start_time": "2025-02-01T04:41:01.258Z"
   },
   {
    "duration": 7,
    "start_time": "2025-02-01T04:41:02.246Z"
   },
   {
    "duration": 7,
    "start_time": "2025-02-01T04:41:07.206Z"
   },
   {
    "duration": 4,
    "start_time": "2025-02-01T04:41:11.608Z"
   },
   {
    "duration": 5,
    "start_time": "2025-02-01T04:41:13.050Z"
   },
   {
    "duration": 25,
    "start_time": "2025-02-01T04:41:17.767Z"
   },
   {
    "duration": 4,
    "start_time": "2025-02-01T04:41:19.346Z"
   },
   {
    "duration": 16,
    "start_time": "2025-02-01T04:41:20.969Z"
   },
   {
    "duration": 4,
    "start_time": "2025-02-01T04:41:22.212Z"
   },
   {
    "duration": 649,
    "start_time": "2025-02-01T04:41:22.822Z"
   },
   {
    "duration": 4,
    "start_time": "2025-02-01T04:41:23.473Z"
   },
   {
    "duration": 600,
    "start_time": "2025-02-01T04:41:26.374Z"
   },
   {
    "duration": 5,
    "start_time": "2025-02-01T04:41:35.299Z"
   },
   {
    "duration": 543,
    "start_time": "2025-02-01T04:41:38.543Z"
   },
   {
    "duration": 5,
    "start_time": "2025-02-01T04:41:41.150Z"
   },
   {
    "duration": 287,
    "start_time": "2025-02-01T04:41:43.328Z"
   },
   {
    "duration": 4,
    "start_time": "2025-02-01T04:41:43.680Z"
   },
   {
    "duration": 510,
    "start_time": "2025-02-01T04:41:57.954Z"
   },
   {
    "duration": 4,
    "start_time": "2025-02-02T05:45:18.022Z"
   },
   {
    "duration": 4,
    "start_time": "2025-02-02T05:45:18.027Z"
   },
   {
    "duration": 493,
    "start_time": "2025-02-02T05:45:18.033Z"
   },
   {
    "duration": 0,
    "start_time": "2025-02-02T05:45:18.529Z"
   },
   {
    "duration": 0,
    "start_time": "2025-02-02T05:45:18.530Z"
   },
   {
    "duration": 0,
    "start_time": "2025-02-02T05:45:18.531Z"
   },
   {
    "duration": 0,
    "start_time": "2025-02-02T05:45:18.532Z"
   },
   {
    "duration": 0,
    "start_time": "2025-02-02T05:45:18.534Z"
   },
   {
    "duration": 0,
    "start_time": "2025-02-02T05:45:18.535Z"
   },
   {
    "duration": 0,
    "start_time": "2025-02-02T05:45:18.536Z"
   },
   {
    "duration": 0,
    "start_time": "2025-02-02T05:45:18.537Z"
   },
   {
    "duration": 0,
    "start_time": "2025-02-02T05:45:18.538Z"
   },
   {
    "duration": 0,
    "start_time": "2025-02-02T05:45:18.540Z"
   },
   {
    "duration": 0,
    "start_time": "2025-02-02T05:45:18.541Z"
   },
   {
    "duration": 0,
    "start_time": "2025-02-02T05:45:18.542Z"
   },
   {
    "duration": 0,
    "start_time": "2025-02-02T05:45:18.543Z"
   },
   {
    "duration": 0,
    "start_time": "2025-02-02T05:45:18.544Z"
   },
   {
    "duration": 0,
    "start_time": "2025-02-02T05:45:18.545Z"
   },
   {
    "duration": 0,
    "start_time": "2025-02-02T05:45:18.546Z"
   },
   {
    "duration": 0,
    "start_time": "2025-02-02T05:45:18.547Z"
   },
   {
    "duration": 0,
    "start_time": "2025-02-02T05:45:18.548Z"
   },
   {
    "duration": 0,
    "start_time": "2025-02-02T05:45:18.549Z"
   },
   {
    "duration": 0,
    "start_time": "2025-02-02T05:45:18.550Z"
   },
   {
    "duration": 0,
    "start_time": "2025-02-02T05:45:18.551Z"
   },
   {
    "duration": 0,
    "start_time": "2025-02-02T05:45:18.552Z"
   },
   {
    "duration": 0,
    "start_time": "2025-02-02T05:45:18.553Z"
   },
   {
    "duration": 0,
    "start_time": "2025-02-02T05:45:18.554Z"
   },
   {
    "duration": 0,
    "start_time": "2025-02-02T05:45:18.602Z"
   },
   {
    "duration": 0,
    "start_time": "2025-02-02T05:45:18.604Z"
   },
   {
    "duration": 0,
    "start_time": "2025-02-02T05:45:18.605Z"
   },
   {
    "duration": 0,
    "start_time": "2025-02-02T05:45:18.606Z"
   },
   {
    "duration": 0,
    "start_time": "2025-02-02T05:45:18.607Z"
   },
   {
    "duration": 0,
    "start_time": "2025-02-02T05:45:18.608Z"
   },
   {
    "duration": 0,
    "start_time": "2025-02-02T05:45:18.609Z"
   },
   {
    "duration": 0,
    "start_time": "2025-02-02T05:45:18.610Z"
   },
   {
    "duration": 0,
    "start_time": "2025-02-02T05:45:18.612Z"
   },
   {
    "duration": 0,
    "start_time": "2025-02-02T05:45:18.613Z"
   },
   {
    "duration": 3578,
    "start_time": "2025-02-02T05:46:06.080Z"
   },
   {
    "duration": 3,
    "start_time": "2025-02-02T05:46:09.661Z"
   },
   {
    "duration": 1777,
    "start_time": "2025-02-02T05:46:09.666Z"
   },
   {
    "duration": 2,
    "start_time": "2025-02-02T05:46:11.445Z"
   },
   {
    "duration": 96,
    "start_time": "2025-02-02T05:46:11.450Z"
   },
   {
    "duration": 2,
    "start_time": "2025-02-02T05:46:11.548Z"
   },
   {
    "duration": 6,
    "start_time": "2025-02-02T05:46:11.552Z"
   },
   {
    "duration": 4,
    "start_time": "2025-02-02T05:46:11.559Z"
   },
   {
    "duration": 3,
    "start_time": "2025-02-02T05:46:11.565Z"
   },
   {
    "duration": 26,
    "start_time": "2025-02-02T05:46:11.569Z"
   },
   {
    "duration": 4,
    "start_time": "2025-02-02T05:46:11.597Z"
   },
   {
    "duration": 13,
    "start_time": "2025-02-02T05:46:11.602Z"
   },
   {
    "duration": 31,
    "start_time": "2025-02-02T05:46:11.616Z"
   },
   {
    "duration": 4,
    "start_time": "2025-02-02T05:46:11.650Z"
   },
   {
    "duration": 28,
    "start_time": "2025-02-02T05:46:11.656Z"
   },
   {
    "duration": 4,
    "start_time": "2025-02-02T05:46:11.686Z"
   },
   {
    "duration": 5,
    "start_time": "2025-02-02T05:46:11.692Z"
   },
   {
    "duration": 16,
    "start_time": "2025-02-02T05:46:11.699Z"
   },
   {
    "duration": 15,
    "start_time": "2025-02-02T05:46:11.716Z"
   },
   {
    "duration": 6,
    "start_time": "2025-02-02T05:46:11.732Z"
   },
   {
    "duration": 7,
    "start_time": "2025-02-02T05:46:11.740Z"
   },
   {
    "duration": 10,
    "start_time": "2025-02-02T05:46:11.749Z"
   },
   {
    "duration": 6,
    "start_time": "2025-02-02T05:46:11.761Z"
   },
   {
    "duration": 54,
    "start_time": "2025-02-02T05:46:11.769Z"
   },
   {
    "duration": 4,
    "start_time": "2025-02-02T05:46:11.826Z"
   },
   {
    "duration": 28,
    "start_time": "2025-02-02T05:46:11.832Z"
   },
   {
    "duration": 5,
    "start_time": "2025-02-02T05:46:11.862Z"
   },
   {
    "duration": 333,
    "start_time": "2025-02-02T05:46:11.869Z"
   },
   {
    "duration": 4,
    "start_time": "2025-02-02T05:46:12.204Z"
   },
   {
    "duration": 292,
    "start_time": "2025-02-02T05:46:12.210Z"
   },
   {
    "duration": 5,
    "start_time": "2025-02-02T05:46:12.505Z"
   },
   {
    "duration": 327,
    "start_time": "2025-02-02T05:46:12.511Z"
   },
   {
    "duration": 4,
    "start_time": "2025-02-02T05:46:12.840Z"
   },
   {
    "duration": 171,
    "start_time": "2025-02-02T05:46:12.845Z"
   },
   {
    "duration": 4,
    "start_time": "2025-02-02T05:46:13.018Z"
   },
   {
    "duration": 841,
    "start_time": "2025-02-02T05:46:13.024Z"
   },
   {
    "duration": 2900,
    "start_time": "2025-02-02T05:46:13.867Z"
   },
   {
    "duration": 15,
    "start_time": "2025-02-02T06:07:25.997Z"
   },
   {
    "duration": 15,
    "start_time": "2025-02-02T06:07:27.122Z"
   },
   {
    "duration": 274,
    "start_time": "2025-02-02T06:07:29.148Z"
   },
   {
    "duration": 398,
    "start_time": "2025-02-02T06:07:31.587Z"
   },
   {
    "duration": 348,
    "start_time": "2025-02-02T06:07:37.045Z"
   },
   {
    "duration": 5937,
    "start_time": "2025-02-02T06:07:41.255Z"
   },
   {
    "duration": 6,
    "start_time": "2025-02-02T06:38:21.723Z"
   },
   {
    "duration": 84,
    "start_time": "2025-02-02T06:38:22.643Z"
   },
   {
    "duration": 27462,
    "start_time": "2025-02-02T06:39:43.457Z"
   },
   {
    "duration": 3364,
    "start_time": "2025-02-02T06:40:19.880Z"
   },
   {
    "duration": 28,
    "start_time": "2025-02-02T06:40:41.179Z"
   },
   {
    "duration": 68,
    "start_time": "2025-02-02T06:41:17.210Z"
   },
   {
    "duration": 3313,
    "start_time": "2025-02-02T06:41:23.990Z"
   },
   {
    "duration": 21,
    "start_time": "2025-02-02T06:41:45.946Z"
   },
   {
    "duration": 2804,
    "start_time": "2025-02-02T06:42:05.970Z"
   },
   {
    "duration": 3390,
    "start_time": "2025-02-02T06:42:08.777Z"
   },
   {
    "duration": 2450,
    "start_time": "2025-02-02T06:42:12.170Z"
   },
   {
    "duration": 3,
    "start_time": "2025-02-02T06:42:14.622Z"
   },
   {
    "duration": 59,
    "start_time": "2025-02-02T06:42:14.628Z"
   },
   {
    "duration": 7,
    "start_time": "2025-02-02T06:42:14.689Z"
   },
   {
    "duration": 3,
    "start_time": "2025-02-02T06:42:14.697Z"
   },
   {
    "duration": 9,
    "start_time": "2025-02-02T06:42:14.702Z"
   },
   {
    "duration": 8,
    "start_time": "2025-02-02T06:42:14.713Z"
   },
   {
    "duration": 40,
    "start_time": "2025-02-02T06:42:14.723Z"
   },
   {
    "duration": 5,
    "start_time": "2025-02-02T06:42:14.766Z"
   },
   {
    "duration": 5,
    "start_time": "2025-02-02T06:42:14.773Z"
   },
   {
    "duration": 51,
    "start_time": "2025-02-02T06:42:14.780Z"
   },
   {
    "duration": 5,
    "start_time": "2025-02-02T06:42:14.835Z"
   },
   {
    "duration": 15,
    "start_time": "2025-02-02T06:42:14.842Z"
   },
   {
    "duration": 6,
    "start_time": "2025-02-02T06:42:14.859Z"
   },
   {
    "duration": 41,
    "start_time": "2025-02-02T06:42:14.867Z"
   },
   {
    "duration": 25,
    "start_time": "2025-02-02T06:42:14.911Z"
   },
   {
    "duration": 31,
    "start_time": "2025-02-02T06:42:14.938Z"
   },
   {
    "duration": 12,
    "start_time": "2025-02-02T06:42:14.971Z"
   },
   {
    "duration": 19,
    "start_time": "2025-02-02T06:42:14.985Z"
   },
   {
    "duration": 56,
    "start_time": "2025-02-02T06:42:15.006Z"
   },
   {
    "duration": 42,
    "start_time": "2025-02-02T06:42:15.064Z"
   },
   {
    "duration": 32,
    "start_time": "2025-02-02T06:42:15.107Z"
   },
   {
    "duration": 66,
    "start_time": "2025-02-02T06:42:15.141Z"
   },
   {
    "duration": 156,
    "start_time": "2025-02-02T06:42:15.210Z"
   },
   {
    "duration": 8,
    "start_time": "2025-02-02T06:42:15.369Z"
   },
   {
    "duration": 656,
    "start_time": "2025-02-02T06:42:15.379Z"
   },
   {
    "duration": 5,
    "start_time": "2025-02-02T06:42:16.036Z"
   },
   {
    "duration": 710,
    "start_time": "2025-02-02T06:42:16.042Z"
   },
   {
    "duration": 4,
    "start_time": "2025-02-02T06:42:16.754Z"
   },
   {
    "duration": 708,
    "start_time": "2025-02-02T06:42:16.760Z"
   },
   {
    "duration": 6,
    "start_time": "2025-02-02T06:42:17.470Z"
   },
   {
    "duration": 361,
    "start_time": "2025-02-02T06:42:17.479Z"
   },
   {
    "duration": 5,
    "start_time": "2025-02-02T06:42:17.842Z"
   },
   {
    "duration": 608,
    "start_time": "2025-02-02T06:42:17.848Z"
   },
   {
    "duration": 4469,
    "start_time": "2025-02-02T06:42:18.458Z"
   },
   {
    "duration": 15,
    "start_time": "2025-02-02T06:42:22.928Z"
   },
   {
    "duration": 32,
    "start_time": "2025-02-02T06:42:22.945Z"
   },
   {
    "duration": 698,
    "start_time": "2025-02-02T06:42:22.979Z"
   },
   {
    "duration": 589,
    "start_time": "2025-02-02T06:42:23.683Z"
   },
   {
    "duration": 387,
    "start_time": "2025-02-02T06:42:24.274Z"
   },
   {
    "duration": 9078,
    "start_time": "2025-02-02T06:42:24.663Z"
   },
   {
    "duration": 7,
    "start_time": "2025-02-02T06:42:33.742Z"
   },
   {
    "duration": 4,
    "start_time": "2025-02-02T06:42:48.072Z"
   },
   {
    "duration": 20,
    "start_time": "2025-02-02T06:42:51.186Z"
   },
   {
    "duration": 153,
    "start_time": "2025-02-02T06:42:56.213Z"
   },
   {
    "duration": 5,
    "start_time": "2025-02-02T06:43:37.617Z"
   },
   {
    "duration": 17,
    "start_time": "2025-02-02T06:43:40.520Z"
   },
   {
    "duration": 2587,
    "start_time": "2025-02-02T06:44:10.277Z"
   },
   {
    "duration": 3194,
    "start_time": "2025-02-02T06:44:12.867Z"
   },
   {
    "duration": 7,
    "start_time": "2025-02-02T06:44:16.063Z"
   },
   {
    "duration": 25,
    "start_time": "2025-02-02T06:44:16.073Z"
   },
   {
    "duration": 53,
    "start_time": "2025-02-02T06:44:16.100Z"
   },
   {
    "duration": 2,
    "start_time": "2025-02-02T06:44:16.155Z"
   },
   {
    "duration": 12,
    "start_time": "2025-02-02T06:44:16.159Z"
   },
   {
    "duration": 6,
    "start_time": "2025-02-02T06:44:16.172Z"
   },
   {
    "duration": 22,
    "start_time": "2025-02-02T06:44:16.180Z"
   },
   {
    "duration": 31,
    "start_time": "2025-02-02T06:44:16.205Z"
   },
   {
    "duration": 5,
    "start_time": "2025-02-02T06:44:16.238Z"
   },
   {
    "duration": 23,
    "start_time": "2025-02-02T06:44:16.244Z"
   },
   {
    "duration": 20,
    "start_time": "2025-02-02T06:44:16.269Z"
   },
   {
    "duration": 14,
    "start_time": "2025-02-02T06:44:16.290Z"
   },
   {
    "duration": 12,
    "start_time": "2025-02-02T06:44:16.306Z"
   },
   {
    "duration": 6,
    "start_time": "2025-02-02T06:44:16.320Z"
   },
   {
    "duration": 7,
    "start_time": "2025-02-02T06:44:16.328Z"
   },
   {
    "duration": 21,
    "start_time": "2025-02-02T06:44:16.337Z"
   },
   {
    "duration": 7,
    "start_time": "2025-02-02T06:44:16.360Z"
   },
   {
    "duration": 39,
    "start_time": "2025-02-02T06:44:16.369Z"
   },
   {
    "duration": 8,
    "start_time": "2025-02-02T06:44:16.410Z"
   },
   {
    "duration": 6,
    "start_time": "2025-02-02T06:44:16.419Z"
   },
   {
    "duration": 6,
    "start_time": "2025-02-02T06:44:16.426Z"
   },
   {
    "duration": 34,
    "start_time": "2025-02-02T06:44:16.433Z"
   },
   {
    "duration": 33,
    "start_time": "2025-02-02T06:44:16.469Z"
   },
   {
    "duration": 30,
    "start_time": "2025-02-02T06:44:16.503Z"
   },
   {
    "duration": 12,
    "start_time": "2025-02-02T06:44:16.535Z"
   },
   {
    "duration": 754,
    "start_time": "2025-02-02T06:44:16.551Z"
   },
   {
    "duration": 5,
    "start_time": "2025-02-02T06:44:17.307Z"
   },
   {
    "duration": 652,
    "start_time": "2025-02-02T06:44:17.314Z"
   },
   {
    "duration": 5,
    "start_time": "2025-02-02T06:44:17.967Z"
   },
   {
    "duration": 731,
    "start_time": "2025-02-02T06:44:17.973Z"
   },
   {
    "duration": 5,
    "start_time": "2025-02-02T06:44:18.706Z"
   },
   {
    "duration": 339,
    "start_time": "2025-02-02T06:44:18.712Z"
   },
   {
    "duration": 6,
    "start_time": "2025-02-02T06:44:19.053Z"
   },
   {
    "duration": 589,
    "start_time": "2025-02-02T06:44:19.060Z"
   },
   {
    "duration": 4354,
    "start_time": "2025-02-02T06:44:19.651Z"
   },
   {
    "duration": 14,
    "start_time": "2025-02-02T06:44:24.006Z"
   },
   {
    "duration": 15,
    "start_time": "2025-02-02T06:44:24.022Z"
   },
   {
    "duration": 647,
    "start_time": "2025-02-02T06:44:24.038Z"
   },
   {
    "duration": 729,
    "start_time": "2025-02-02T06:44:24.687Z"
   },
   {
    "duration": 396,
    "start_time": "2025-02-02T06:44:25.417Z"
   },
   {
    "duration": 8655,
    "start_time": "2025-02-02T06:44:25.815Z"
   },
   {
    "duration": 7,
    "start_time": "2025-02-02T06:44:34.471Z"
   },
   {
    "duration": 10,
    "start_time": "2025-02-02T06:44:34.480Z"
   },
   {
    "duration": 21,
    "start_time": "2025-02-02T06:44:34.502Z"
   },
   {
    "duration": 4,
    "start_time": "2025-02-02T06:44:43.577Z"
   },
   {
    "duration": 5,
    "start_time": "2025-02-02T06:44:53.639Z"
   },
   {
    "duration": 7,
    "start_time": "2025-02-02T06:45:24.126Z"
   },
   {
    "duration": 5,
    "start_time": "2025-02-02T06:45:45.722Z"
   },
   {
    "duration": 3,
    "start_time": "2025-02-02T06:45:59.090Z"
   },
   {
    "duration": 7,
    "start_time": "2025-02-02T06:46:11.247Z"
   },
   {
    "duration": 8,
    "start_time": "2025-02-02T06:48:50.050Z"
   },
   {
    "duration": 98708,
    "start_time": "2025-02-02T06:49:21.701Z"
   },
   {
    "duration": 547,
    "start_time": "2025-02-02T06:51:04.813Z"
   },
   {
    "duration": 9,
    "start_time": "2025-02-02T06:59:49.037Z"
   },
   {
    "duration": 5,
    "start_time": "2025-02-02T06:59:52.414Z"
   },
   {
    "duration": 3,
    "start_time": "2025-02-02T06:59:54.970Z"
   },
   {
    "duration": 134244,
    "start_time": "2025-02-02T07:00:19.568Z"
   },
   {
    "duration": 524,
    "start_time": "2025-02-02T07:03:34.613Z"
   },
   {
    "duration": 7,
    "start_time": "2025-02-02T07:11:19.648Z"
   },
   {
    "duration": 4,
    "start_time": "2025-02-02T07:11:33.088Z"
   },
   {
    "duration": 3,
    "start_time": "2025-02-02T07:11:35.674Z"
   },
   {
    "duration": 72842,
    "start_time": "2025-02-02T07:11:43.694Z"
   },
   {
    "duration": 2650,
    "start_time": "2025-02-02T07:13:17.469Z"
   },
   {
    "duration": 3163,
    "start_time": "2025-02-02T07:13:20.121Z"
   },
   {
    "duration": 2341,
    "start_time": "2025-02-02T07:13:23.287Z"
   },
   {
    "duration": 3,
    "start_time": "2025-02-02T07:13:25.631Z"
   },
   {
    "duration": 73,
    "start_time": "2025-02-02T07:13:25.635Z"
   },
   {
    "duration": 3,
    "start_time": "2025-02-02T07:13:25.710Z"
   },
   {
    "duration": 3,
    "start_time": "2025-02-02T07:13:25.715Z"
   },
   {
    "duration": 5,
    "start_time": "2025-02-02T07:13:25.719Z"
   },
   {
    "duration": 12,
    "start_time": "2025-02-02T07:13:25.726Z"
   },
   {
    "duration": 29,
    "start_time": "2025-02-02T07:13:25.741Z"
   },
   {
    "duration": 31,
    "start_time": "2025-02-02T07:13:25.772Z"
   },
   {
    "duration": 9,
    "start_time": "2025-02-02T07:13:25.805Z"
   },
   {
    "duration": 23,
    "start_time": "2025-02-02T07:13:25.816Z"
   },
   {
    "duration": 10,
    "start_time": "2025-02-02T07:13:25.841Z"
   },
   {
    "duration": 11,
    "start_time": "2025-02-02T07:13:25.853Z"
   },
   {
    "duration": 7,
    "start_time": "2025-02-02T07:13:25.866Z"
   },
   {
    "duration": 29,
    "start_time": "2025-02-02T07:13:25.875Z"
   },
   {
    "duration": 20,
    "start_time": "2025-02-02T07:13:25.906Z"
   },
   {
    "duration": 37,
    "start_time": "2025-02-02T07:13:25.927Z"
   },
   {
    "duration": 6,
    "start_time": "2025-02-02T07:13:25.966Z"
   },
   {
    "duration": 8,
    "start_time": "2025-02-02T07:13:25.974Z"
   },
   {
    "duration": 19,
    "start_time": "2025-02-02T07:13:25.984Z"
   },
   {
    "duration": 7,
    "start_time": "2025-02-02T07:13:26.005Z"
   },
   {
    "duration": 35,
    "start_time": "2025-02-02T07:13:26.014Z"
   },
   {
    "duration": 5,
    "start_time": "2025-02-02T07:13:26.051Z"
   },
   {
    "duration": 53,
    "start_time": "2025-02-02T07:13:26.058Z"
   },
   {
    "duration": 6,
    "start_time": "2025-02-02T07:13:26.114Z"
   },
   {
    "duration": 644,
    "start_time": "2025-02-02T07:13:26.128Z"
   },
   {
    "duration": 5,
    "start_time": "2025-02-02T07:13:26.774Z"
   },
   {
    "duration": 638,
    "start_time": "2025-02-02T07:13:26.781Z"
   },
   {
    "duration": 5,
    "start_time": "2025-02-02T07:13:27.420Z"
   },
   {
    "duration": 617,
    "start_time": "2025-02-02T07:13:27.427Z"
   },
   {
    "duration": 4,
    "start_time": "2025-02-02T07:13:28.046Z"
   },
   {
    "duration": 341,
    "start_time": "2025-02-02T07:13:28.052Z"
   },
   {
    "duration": 9,
    "start_time": "2025-02-02T07:13:28.395Z"
   },
   {
    "duration": 549,
    "start_time": "2025-02-02T07:13:28.406Z"
   },
   {
    "duration": 4302,
    "start_time": "2025-02-02T07:13:28.957Z"
   },
   {
    "duration": 18,
    "start_time": "2025-02-02T07:13:33.261Z"
   },
   {
    "duration": 18,
    "start_time": "2025-02-02T07:13:33.281Z"
   },
   {
    "duration": 571,
    "start_time": "2025-02-02T07:13:33.301Z"
   },
   {
    "duration": 700,
    "start_time": "2025-02-02T07:13:33.873Z"
   },
   {
    "duration": 388,
    "start_time": "2025-02-02T07:13:34.575Z"
   },
   {
    "duration": 8746,
    "start_time": "2025-02-02T07:13:34.965Z"
   },
   {
    "duration": 9,
    "start_time": "2025-02-02T07:13:43.713Z"
   },
   {
    "duration": 5,
    "start_time": "2025-02-02T07:13:43.724Z"
   },
   {
    "duration": 38,
    "start_time": "2025-02-02T07:13:43.731Z"
   },
   {
    "duration": 4,
    "start_time": "2025-02-02T07:13:43.772Z"
   },
   {
    "duration": 28,
    "start_time": "2025-02-02T07:13:43.778Z"
   },
   {
    "duration": 6,
    "start_time": "2025-02-02T07:13:43.808Z"
   },
   {
    "duration": 15,
    "start_time": "2025-02-02T07:13:43.816Z"
   },
   {
    "duration": 8,
    "start_time": "2025-02-02T07:13:43.832Z"
   },
   {
    "duration": 13,
    "start_time": "2025-02-02T07:13:43.841Z"
   },
   {
    "duration": 5,
    "start_time": "2025-02-02T07:13:43.856Z"
   },
   {
    "duration": 105262,
    "start_time": "2025-02-02T07:13:43.863Z"
   },
   {
    "duration": 631,
    "start_time": "2025-02-02T07:15:29.127Z"
   },
   {
    "duration": 7,
    "start_time": "2025-02-02T07:15:29.759Z"
   },
   {
    "duration": 8,
    "start_time": "2025-02-02T07:15:29.767Z"
   },
   {
    "duration": 5,
    "start_time": "2025-02-02T07:15:29.777Z"
   },
   {
    "duration": 131624,
    "start_time": "2025-02-02T07:15:29.784Z"
   },
   {
    "duration": 540,
    "start_time": "2025-02-02T07:17:41.409Z"
   },
   {
    "duration": 7,
    "start_time": "2025-02-02T07:17:41.951Z"
   },
   {
    "duration": 6,
    "start_time": "2025-02-02T07:17:41.960Z"
   },
   {
    "duration": 3,
    "start_time": "2025-02-02T07:17:41.967Z"
   },
   {
    "duration": 309411,
    "start_time": "2025-02-02T07:17:55.701Z"
   },
   {
    "duration": 709,
    "start_time": "2025-02-02T07:24:31.235Z"
   },
   {
    "duration": 8,
    "start_time": "2025-02-02T07:29:38.965Z"
   },
   {
    "duration": 2604,
    "start_time": "2025-02-02T07:49:32.087Z"
   },
   {
    "duration": 3195,
    "start_time": "2025-02-02T07:49:34.693Z"
   },
   {
    "duration": 2238,
    "start_time": "2025-02-02T07:49:37.891Z"
   },
   {
    "duration": 3,
    "start_time": "2025-02-02T07:49:40.131Z"
   },
   {
    "duration": 79,
    "start_time": "2025-02-02T07:49:40.136Z"
   },
   {
    "duration": 3,
    "start_time": "2025-02-02T07:49:40.216Z"
   },
   {
    "duration": 7,
    "start_time": "2025-02-02T07:49:40.220Z"
   },
   {
    "duration": 4,
    "start_time": "2025-02-02T07:49:40.228Z"
   },
   {
    "duration": 3,
    "start_time": "2025-02-02T07:49:40.234Z"
   },
   {
    "duration": 29,
    "start_time": "2025-02-02T07:49:40.240Z"
   },
   {
    "duration": 4,
    "start_time": "2025-02-02T07:49:40.271Z"
   },
   {
    "duration": 27,
    "start_time": "2025-02-02T07:49:40.276Z"
   },
   {
    "duration": 28,
    "start_time": "2025-02-02T07:49:40.304Z"
   },
   {
    "duration": 5,
    "start_time": "2025-02-02T07:49:40.333Z"
   },
   {
    "duration": 18,
    "start_time": "2025-02-02T07:49:40.339Z"
   },
   {
    "duration": 4,
    "start_time": "2025-02-02T07:49:40.359Z"
   },
   {
    "duration": 6,
    "start_time": "2025-02-02T07:49:40.365Z"
   },
   {
    "duration": 38,
    "start_time": "2025-02-02T07:49:40.372Z"
   },
   {
    "duration": 11,
    "start_time": "2025-02-02T07:49:40.411Z"
   },
   {
    "duration": 8,
    "start_time": "2025-02-02T07:49:40.423Z"
   },
   {
    "duration": 8,
    "start_time": "2025-02-02T07:49:40.433Z"
   },
   {
    "duration": 5,
    "start_time": "2025-02-02T07:49:40.443Z"
   },
   {
    "duration": 7,
    "start_time": "2025-02-02T07:49:40.450Z"
   },
   {
    "duration": 64,
    "start_time": "2025-02-02T07:49:40.459Z"
   },
   {
    "duration": 5,
    "start_time": "2025-02-02T07:49:40.524Z"
   },
   {
    "duration": 43,
    "start_time": "2025-02-02T07:49:40.531Z"
   },
   {
    "duration": 7,
    "start_time": "2025-02-02T07:49:40.576Z"
   },
   {
    "duration": 594,
    "start_time": "2025-02-02T07:49:40.587Z"
   },
   {
    "duration": 6,
    "start_time": "2025-02-02T07:49:41.183Z"
   },
   {
    "duration": 554,
    "start_time": "2025-02-02T07:49:41.202Z"
   },
   {
    "duration": 4,
    "start_time": "2025-02-02T07:49:41.757Z"
   },
   {
    "duration": 621,
    "start_time": "2025-02-02T07:49:41.762Z"
   },
   {
    "duration": 5,
    "start_time": "2025-02-02T07:49:42.384Z"
   },
   {
    "duration": 333,
    "start_time": "2025-02-02T07:49:42.401Z"
   },
   {
    "duration": 4,
    "start_time": "2025-02-02T07:49:42.736Z"
   },
   {
    "duration": 563,
    "start_time": "2025-02-02T07:49:42.742Z"
   },
   {
    "duration": 4132,
    "start_time": "2025-02-02T07:49:43.307Z"
   },
   {
    "duration": 15,
    "start_time": "2025-02-02T07:49:47.441Z"
   },
   {
    "duration": 97,
    "start_time": "2025-02-02T07:49:47.458Z"
   },
   {
    "duration": 601,
    "start_time": "2025-02-02T07:49:47.557Z"
   },
   {
    "duration": 609,
    "start_time": "2025-02-02T07:49:48.159Z"
   },
   {
    "duration": 358,
    "start_time": "2025-02-02T07:49:48.770Z"
   },
   {
    "duration": 8661,
    "start_time": "2025-02-02T07:49:49.130Z"
   },
   {
    "duration": 14,
    "start_time": "2025-02-02T07:49:57.793Z"
   },
   {
    "duration": 7,
    "start_time": "2025-02-02T07:49:57.809Z"
   },
   {
    "duration": 20,
    "start_time": "2025-02-02T07:49:57.817Z"
   },
   {
    "duration": 5,
    "start_time": "2025-02-02T07:49:57.839Z"
   },
   {
    "duration": 11,
    "start_time": "2025-02-02T07:49:57.845Z"
   },
   {
    "duration": 46,
    "start_time": "2025-02-02T07:49:57.857Z"
   },
   {
    "duration": 5,
    "start_time": "2025-02-02T07:49:57.905Z"
   },
   {
    "duration": 3,
    "start_time": "2025-02-02T07:49:57.912Z"
   },
   {
    "duration": 9,
    "start_time": "2025-02-02T07:49:57.917Z"
   },
   {
    "duration": 5,
    "start_time": "2025-02-02T07:49:57.928Z"
   },
   {
    "duration": 100474,
    "start_time": "2025-02-02T07:49:57.935Z"
   },
   {
    "duration": 539,
    "start_time": "2025-02-02T07:51:38.411Z"
   },
   {
    "duration": 7,
    "start_time": "2025-02-02T07:51:38.951Z"
   },
   {
    "duration": 6,
    "start_time": "2025-02-02T07:51:38.960Z"
   },
   {
    "duration": 8,
    "start_time": "2025-02-02T07:51:38.968Z"
   },
   {
    "duration": 124937,
    "start_time": "2025-02-02T07:51:38.977Z"
   },
   {
    "duration": 575,
    "start_time": "2025-02-02T07:53:43.916Z"
   },
   {
    "duration": 10,
    "start_time": "2025-02-02T07:53:44.493Z"
   },
   {
    "duration": 7,
    "start_time": "2025-02-02T07:53:44.505Z"
   },
   {
    "duration": 23,
    "start_time": "2025-02-02T07:53:44.513Z"
   },
   {
    "duration": 303277,
    "start_time": "2025-02-02T07:53:44.537Z"
   },
   {
    "duration": 751,
    "start_time": "2025-02-02T07:58:47.816Z"
   },
   {
    "duration": 9,
    "start_time": "2025-02-02T07:58:48.569Z"
   },
   {
    "duration": 2617,
    "start_time": "2025-02-02T23:04:58.461Z"
   },
   {
    "duration": 3236,
    "start_time": "2025-02-02T23:05:01.080Z"
   },
   {
    "duration": 1960,
    "start_time": "2025-02-02T23:05:04.318Z"
   },
   {
    "duration": 2,
    "start_time": "2025-02-02T23:05:06.280Z"
   },
   {
    "duration": 65,
    "start_time": "2025-02-02T23:05:06.284Z"
   },
   {
    "duration": 2,
    "start_time": "2025-02-02T23:05:06.350Z"
   },
   {
    "duration": 22,
    "start_time": "2025-02-02T23:05:06.354Z"
   },
   {
    "duration": 19,
    "start_time": "2025-02-02T23:05:06.378Z"
   },
   {
    "duration": 6,
    "start_time": "2025-02-02T23:05:06.400Z"
   },
   {
    "duration": 30,
    "start_time": "2025-02-02T23:05:06.409Z"
   },
   {
    "duration": 4,
    "start_time": "2025-02-02T23:05:06.441Z"
   },
   {
    "duration": 13,
    "start_time": "2025-02-02T23:05:06.446Z"
   },
   {
    "duration": 37,
    "start_time": "2025-02-02T23:05:06.461Z"
   },
   {
    "duration": 4,
    "start_time": "2025-02-02T23:05:06.500Z"
   },
   {
    "duration": 15,
    "start_time": "2025-02-02T23:05:06.506Z"
   },
   {
    "duration": 5,
    "start_time": "2025-02-02T23:05:06.523Z"
   },
   {
    "duration": 8,
    "start_time": "2025-02-02T23:05:06.529Z"
   },
   {
    "duration": 14,
    "start_time": "2025-02-02T23:05:06.538Z"
   },
   {
    "duration": 24,
    "start_time": "2025-02-02T23:05:06.554Z"
   },
   {
    "duration": 30,
    "start_time": "2025-02-02T23:05:06.580Z"
   },
   {
    "duration": 14,
    "start_time": "2025-02-02T23:05:06.611Z"
   },
   {
    "duration": 61,
    "start_time": "2025-02-02T23:05:06.627Z"
   },
   {
    "duration": 24,
    "start_time": "2025-02-02T23:05:06.689Z"
   },
   {
    "duration": 27,
    "start_time": "2025-02-02T23:05:06.715Z"
   },
   {
    "duration": 4,
    "start_time": "2025-02-02T23:05:06.743Z"
   },
   {
    "duration": 29,
    "start_time": "2025-02-02T23:05:06.749Z"
   },
   {
    "duration": 12,
    "start_time": "2025-02-02T23:05:06.780Z"
   },
   {
    "duration": 305,
    "start_time": "2025-02-02T23:05:06.796Z"
   },
   {
    "duration": 4,
    "start_time": "2025-02-02T23:05:07.102Z"
   },
   {
    "duration": 289,
    "start_time": "2025-02-02T23:05:07.108Z"
   },
   {
    "duration": 5,
    "start_time": "2025-02-02T23:05:07.398Z"
   },
   {
    "duration": 379,
    "start_time": "2025-02-02T23:05:07.405Z"
   },
   {
    "duration": 4,
    "start_time": "2025-02-02T23:05:07.785Z"
   },
   {
    "duration": 158,
    "start_time": "2025-02-02T23:05:07.791Z"
   },
   {
    "duration": 5,
    "start_time": "2025-02-02T23:05:07.950Z"
   },
   {
    "duration": 746,
    "start_time": "2025-02-02T23:05:07.957Z"
   },
   {
    "duration": 2864,
    "start_time": "2025-02-02T23:05:08.705Z"
   },
   {
    "duration": 12,
    "start_time": "2025-02-02T23:05:11.575Z"
   },
   {
    "duration": 18,
    "start_time": "2025-02-02T23:05:11.589Z"
   },
   {
    "duration": 282,
    "start_time": "2025-02-02T23:05:11.609Z"
   },
   {
    "duration": 393,
    "start_time": "2025-02-02T23:05:11.893Z"
   },
   {
    "duration": 335,
    "start_time": "2025-02-02T23:05:12.287Z"
   },
   {
    "duration": 5862,
    "start_time": "2025-02-02T23:05:12.624Z"
   },
   {
    "duration": 7,
    "start_time": "2025-02-02T23:05:18.488Z"
   },
   {
    "duration": 5,
    "start_time": "2025-02-02T23:05:18.496Z"
   },
   {
    "duration": 20,
    "start_time": "2025-02-02T23:05:18.503Z"
   },
   {
    "duration": 4,
    "start_time": "2025-02-02T23:05:18.525Z"
   },
   {
    "duration": 8,
    "start_time": "2025-02-02T23:05:18.530Z"
   },
   {
    "duration": 7,
    "start_time": "2025-02-02T23:05:18.574Z"
   },
   {
    "duration": 5,
    "start_time": "2025-02-02T23:05:18.583Z"
   },
   {
    "duration": 4,
    "start_time": "2025-02-02T23:05:18.589Z"
   },
   {
    "duration": 9,
    "start_time": "2025-02-02T23:05:18.595Z"
   },
   {
    "duration": 5,
    "start_time": "2025-02-02T23:05:18.606Z"
   },
   {
    "duration": 95575,
    "start_time": "2025-02-02T23:05:18.612Z"
   },
   {
    "duration": 404,
    "start_time": "2025-02-02T23:06:54.189Z"
   },
   {
    "duration": 6,
    "start_time": "2025-02-02T23:06:54.595Z"
   },
   {
    "duration": 13,
    "start_time": "2025-02-02T23:06:54.603Z"
   },
   {
    "duration": 5,
    "start_time": "2025-02-02T23:06:54.618Z"
   },
   {
    "duration": 121363,
    "start_time": "2025-02-02T23:06:54.624Z"
   },
   {
    "duration": 432,
    "start_time": "2025-02-02T23:08:55.989Z"
   },
   {
    "duration": 174,
    "start_time": "2025-02-02T23:08:56.423Z"
   },
   {
    "duration": 9,
    "start_time": "2025-02-02T23:08:56.599Z"
   },
   {
    "duration": 3,
    "start_time": "2025-02-02T23:08:56.610Z"
   },
   {
    "duration": 290377,
    "start_time": "2025-02-02T23:08:56.614Z"
   },
   {
    "duration": 401,
    "start_time": "2025-02-02T23:13:46.993Z"
   },
   {
    "duration": 8,
    "start_time": "2025-02-02T23:13:47.396Z"
   }
  ],
  "colab": {
   "provenance": [],
   "toc_visible": true
  },
  "kernelspec": {
   "display_name": "Python 3 (ipykernel)",
   "language": "python",
   "name": "python3"
  },
  "language_info": {
   "codemirror_mode": {
    "name": "ipython",
    "version": 3
   },
   "file_extension": ".py",
   "mimetype": "text/x-python",
   "name": "python",
   "nbconvert_exporter": "python",
   "pygments_lexer": "ipython3",
   "version": "3.11.8"
  },
  "toc": {
   "base_numbering": 1,
   "nav_menu": {},
   "number_sections": true,
   "sideBar": true,
   "skip_h1_title": true,
   "title_cell": "Содержание",
   "title_sidebar": "Contents",
   "toc_cell": true,
   "toc_position": {
    "height": "calc(100% - 180px)",
    "left": "10px",
    "top": "150px",
    "width": "274.594px"
   },
   "toc_section_display": true,
   "toc_window_display": true
  }
 },
 "nbformat": 4,
 "nbformat_minor": 1
}
